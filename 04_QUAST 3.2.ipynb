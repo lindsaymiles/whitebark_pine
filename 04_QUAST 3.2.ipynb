{
 "cells": [
  {
   "cell_type": "markdown",
   "metadata": {},
   "source": [
    "# Run QUAST"
   ]
  },
  {
   "cell_type": "code",
   "execution_count": 0,
   "metadata": {
    "collapsed": true
   },
   "outputs": [],
   "source": [
    "text = '''#!/bin/bash\n",
    "#$ -N quast\n",
    "#$ -V\n",
    "#$ -j yes\n",
    "#$ -cwd\n",
    "#$ -pe smp 50\n",
    ". activate quast\n",
    "\n",
    "python /home/lindb/g/src/quast-3.2/quast.py \\\n",
    "/home/lindb/wbp/concatenated/velvet/auto_data_45/contigs.fa \\\n",
    "--gene-finding \\\n",
    "--eukaryote \\\n",
    "-o wbp \\\n",
    "--threads 32 \\\n",
    "--min-contig 50 \\\n",
    "--glimmer\n",
    "\n",
    "'''\n",
    "filE = '/home/lindb/wbp/QUAST/run_quast.sh'\n",
    "with open(filE,'w') as o:\n",
    "    o.write(\"%s\" % text)\n",
    "    "
   ]
  },
  {
   "cell_type": "code",
   "execution_count": 0,
   "metadata": {
    "collapsed": true
   },
   "outputs": [],
   "source": [
    "!qsub /home/lindb/wbp/QUAST/run_quast.sh"
   ]
  },
  {
   "cell_type": "code",
   "execution_count": 0,
   "metadata": {
    "collapsed": true
   },
   "outputs": [],
   "source": [
    "text = '''#!/bin/bash\n",
    "#$ -N quast200\n",
    "#$ -V\n",
    "#$ -j yes\n",
    "#$ -cwd\n",
    "#$ -pe smp 50\n",
    ". activate quast\n",
    "\n",
    "python /home/lindb/g/src/quast-3.2/quast.py \\\n",
    "/home/lindb/wbp/concatenated/velvet/auto_data_45/contigs.fa \\\n",
    "--gene-finding \\\n",
    "--eukaryote \\\n",
    "-o wbp200 \\\n",
    "--threads 32 \\\n",
    "--min-contig 200 \\\n",
    "--glimmer\n",
    "\n",
    "'''\n",
    "filE = '/home/lindb/wbp/QUAST/run_quast200.sh'\n",
    "with open(filE,'w') as o:\n",
    "    o.write(\"%s\" % text)"
   ]
  },
  {
   "cell_type": "code",
   "execution_count": 0,
   "metadata": {
    "collapsed": true
   },
   "outputs": [],
   "source": [
    "!qsub /home/lindb/wbp/QUAST/run_quast200.sh"
   ]
  },
  {
   "cell_type": "code",
   "execution_count": 0,
   "metadata": {
    "collapsed": true
   },
   "outputs": [],
   "source": []
  },
  {
   "cell_type": "code",
   "execution_count": 0,
   "metadata": {
    "collapsed": true
   },
   "outputs": [],
   "source": []
  }
 ],
 "metadata": {
  "kernelspec": {
   "display_name": "Python 2",
   "language": "python",
   "name": "python2"
  },
  "language_info": {
   "codemirror_mode": {
    "name": "ipython",
    "version": 2
   },
   "file_extension": ".py",
   "mimetype": "text/x-python",
   "name": "python",
   "nbconvert_exporter": "python",
   "pygments_lexer": "ipython2",
   "version": "2.7.11"
  }
 },
 "nbformat": 4,
 "nbformat_minor": 0
}
