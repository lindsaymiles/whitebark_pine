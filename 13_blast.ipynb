{
 "cells": [
  {
   "cell_type": "code",
   "execution_count": 1,
   "metadata": {
    "collapsed": false
   },
   "outputs": [
    {
     "name": "stderr",
     "output_type": "stream",
     "text": [
      "Vendor:  Continuum Analytics, Inc.\n",
      "Package: mkl\n",
      "Message: license expired\n",
      "\n",
      "    the package numpy 1.10.2 was published on 2015-12-14,\n",
      "    however the mkl license expiration date is 2015-05-28.\n",
      "    You may be able to run earlier versions of numpy using your\n",
      "    current license.  A new license can be purchased at: http://continuum.io\n",
      "    To revert to an earlier set of conda packages, use:\n",
      "    $ conda list --revisions\n",
      "    ...\n",
      "    $ conda install --revision <REVISION NUMBER>\n",
      "\n",
      "    \n"
     ]
    }
   ],
   "source": [
    "import pandas as pd\n",
    "import numpy as np\n",
    "from Bio import SeqIO\n",
    "import os\n",
    "from Bio.Blast import NCBIXML\n",
    "import matplotlib.pyplot as plt\n",
    "from BCBio import GFF\n",
    "from pprint import pprint\n",
    "import dill\n",
    "from IPython.display import FileLink\n",
    "import xml.etree.ElementTree as ET\n",
    "import stopwatch\n",
    "from __future__ import division\n",
    "%matplotlib inline\n",
    "from Bio import SeqFeature\n",
    "from Bio.SeqFeature import FeatureLocation, ExactPosition\n",
    "from os import path as op\n",
    "from os import listdir as ls\n",
    "from Bio.Blast.Applications import NcbiblastxCommandline"
   ]
  },
  {
   "cell_type": "code",
   "execution_count": 32,
   "metadata": {
    "collapsed": false
   },
   "outputs": [],
   "source": [
    "#get my SNPs\n",
    "filE = '/home/lindb/wbp/bayenv2/UnbinnedImputedSNPSFILE.txt'\n",
    "df = pd.read_csv(filE,header=0,index_col=0,sep='\\t')\n",
    "df = pd.DataFrame(df.T)\n",
    "snps = list(np.unique(df.columns))\n",
    "contigs = set([\"_\".join(snp.split(\"_\")[:-1]) for snp in snps])"
   ]
  },
  {
   "cell_type": "code",
   "execution_count": 24,
   "metadata": {
    "collapsed": true
   },
   "outputs": [],
   "source": [
    "assembly = '/home/lindb/wbp/concatenated/velvet/auto_data_45/contigs.fa'"
   ]
  },
  {
   "cell_type": "code",
   "execution_count": 35,
   "metadata": {
    "collapsed": false
   },
   "outputs": [
    {
     "name": "stdout",
     "output_type": "stream",
     "text": [
      "/home/lindb/wbp/concatenated/velvet/auto_data_45/contigs_with_snps.fa\n"
     ]
    }
   ],
   "source": [
    "count = 0\n",
    "out = open(op.join(op.dirname(assembly), \"contigs_with_snps.fa\"), \"w\")\n",
    "reads = []\n",
    "for read in SeqIO.parse(assembly, \"fasta\"):\n",
    "    if read.id in contigs:\n",
    "        reads.append(read)\n",
    "        count += 1\n",
    "SeqIO.write(reads, out, \"fasta\")\n",
    "out.close()\n",
    "print out.name"
   ]
  },
  {
   "cell_type": "code",
   "execution_count": 36,
   "metadata": {
    "collapsed": false
   },
   "outputs": [
    {
     "name": "stdout",
     "output_type": "stream",
     "text": [
      "/bin/sh: module: line 1: syntax error: unexpected end of file\r\n",
      "/bin/sh: error importing function definition for `BASH_FUNC_module'\r\n",
      "116231\r\n"
     ]
    }
   ],
   "source": [
    "!grep -c \">\" {out.name}"
   ]
  },
  {
   "cell_type": "code",
   "execution_count": 37,
   "metadata": {
    "collapsed": true
   },
   "outputs": [],
   "source": [
    "#make BLAST db\n",
    "!~/g/src/ncbi-blast-2.3.0+/bin/makeblastdb -in \\\n",
    "/home/lindb/eckertlab/SugarPine_genome/pila.v1.0.scafSeq -dbtype nucl"
   ]
  },
  {
   "cell_type": "code",
   "execution_count": 10,
   "metadata": {
    "collapsed": true
   },
   "outputs": [],
   "source": [
    "cmd = '/home/lindb/g/src/ncbi-blast-2.3.0+/bin/blastn -out /home/lindb/wbp/blast/wbp_blast_116231snps_out2.txt -outfmt 6 \\\n",
    "-query /home/lindb/wbp/blast/contigs_with_snps.fa -evalue 1e-05 -max_target_seqs 5 \\\n",
    "-num_threads 20 -db /home/lindb/eckertlab/SugarPine_genome/pila.v1.0.scafSeq' "
   ]
  },
  {
   "cell_type": "code",
   "execution_count": 11,
   "metadata": {
    "collapsed": false
   },
   "outputs": [],
   "source": [
    "outdir = '/home/lindb/wbp/blast/'\n",
    "with open(os.path.join(outdir, \"blast.sh\"), \"w\") as o:\n",
    "    o.write(\"%s\\n\" % cmd)"
   ]
  },
  {
   "cell_type": "markdown",
   "metadata": {
    "collapsed": true
   },
   "source": [
    "    ~/bin/parallel --no-notice --bar -a blast.sh"
   ]
  },
  {
   "cell_type": "code",
   "execution_count": 17,
   "metadata": {
    "collapsed": false
   },
   "outputs": [
    {
     "data": {
      "text/html": [
       "<div>\n",
       "<table border=\"1\" class=\"dataframe\">\n",
       "  <thead>\n",
       "    <tr style=\"text-align: right;\">\n",
       "      <th></th>\n",
       "      <th>0</th>\n",
       "      <th>1</th>\n",
       "      <th>2</th>\n",
       "      <th>3</th>\n",
       "      <th>4</th>\n",
       "      <th>5</th>\n",
       "      <th>6</th>\n",
       "      <th>7</th>\n",
       "      <th>8</th>\n",
       "      <th>9</th>\n",
       "      <th>10</th>\n",
       "      <th>11</th>\n",
       "    </tr>\n",
       "  </thead>\n",
       "  <tbody>\n",
       "    <tr>\n",
       "      <th>0</th>\n",
       "      <td>NODE_162_length_98_cov_5.010204</td>\n",
       "      <td>scaffold522278</td>\n",
       "      <td>100.000</td>\n",
       "      <td>139</td>\n",
       "      <td>0</td>\n",
       "      <td>0</td>\n",
       "      <td>4</td>\n",
       "      <td>142</td>\n",
       "      <td>1689</td>\n",
       "      <td>1827</td>\n",
       "      <td>8.950000e-66</td>\n",
       "      <td>257.0</td>\n",
       "    </tr>\n",
       "    <tr>\n",
       "      <th>1</th>\n",
       "      <td>NODE_162_length_98_cov_5.010204</td>\n",
       "      <td>scaffold503446</td>\n",
       "      <td>100.000</td>\n",
       "      <td>139</td>\n",
       "      <td>0</td>\n",
       "      <td>0</td>\n",
       "      <td>4</td>\n",
       "      <td>142</td>\n",
       "      <td>1703</td>\n",
       "      <td>1841</td>\n",
       "      <td>8.950000e-66</td>\n",
       "      <td>257.0</td>\n",
       "    </tr>\n",
       "    <tr>\n",
       "      <th>2</th>\n",
       "      <td>NODE_162_length_98_cov_5.010204</td>\n",
       "      <td>scaffold338276</td>\n",
       "      <td>100.000</td>\n",
       "      <td>139</td>\n",
       "      <td>0</td>\n",
       "      <td>0</td>\n",
       "      <td>4</td>\n",
       "      <td>142</td>\n",
       "      <td>957</td>\n",
       "      <td>1095</td>\n",
       "      <td>8.950000e-66</td>\n",
       "      <td>257.0</td>\n",
       "    </tr>\n",
       "    <tr>\n",
       "      <th>3</th>\n",
       "      <td>NODE_162_length_98_cov_5.010204</td>\n",
       "      <td>scaffold52130</td>\n",
       "      <td>100.000</td>\n",
       "      <td>139</td>\n",
       "      <td>0</td>\n",
       "      <td>0</td>\n",
       "      <td>4</td>\n",
       "      <td>142</td>\n",
       "      <td>3445</td>\n",
       "      <td>3583</td>\n",
       "      <td>8.950000e-66</td>\n",
       "      <td>257.0</td>\n",
       "    </tr>\n",
       "    <tr>\n",
       "      <th>4</th>\n",
       "      <td>NODE_162_length_98_cov_5.010204</td>\n",
       "      <td>scaffold24443</td>\n",
       "      <td>99.291</td>\n",
       "      <td>141</td>\n",
       "      <td>1</td>\n",
       "      <td>0</td>\n",
       "      <td>2</td>\n",
       "      <td>142</td>\n",
       "      <td>2141</td>\n",
       "      <td>2001</td>\n",
       "      <td>3.220000e-65</td>\n",
       "      <td>255.0</td>\n",
       "    </tr>\n",
       "  </tbody>\n",
       "</table>\n",
       "</div>"
      ],
      "text/plain": [
       "                                0               1        2    3   4   5   6   \\\n",
       "0  NODE_162_length_98_cov_5.010204  scaffold522278  100.000  139   0   0   4   \n",
       "1  NODE_162_length_98_cov_5.010204  scaffold503446  100.000  139   0   0   4   \n",
       "2  NODE_162_length_98_cov_5.010204  scaffold338276  100.000  139   0   0   4   \n",
       "3  NODE_162_length_98_cov_5.010204   scaffold52130  100.000  139   0   0   4   \n",
       "4  NODE_162_length_98_cov_5.010204   scaffold24443   99.291  141   1   0   2   \n",
       "\n",
       "    7     8     9             10     11  \n",
       "0  142  1689  1827  8.950000e-66  257.0  \n",
       "1  142  1703  1841  8.950000e-66  257.0  \n",
       "2  142   957  1095  8.950000e-66  257.0  \n",
       "3  142  3445  3583  8.950000e-66  257.0  \n",
       "4  142  2141  2001  3.220000e-65  255.0  "
      ]
     },
     "execution_count": 17,
     "metadata": {},
     "output_type": "execute_result"
    }
   ],
   "source": [
    "df=pd.read_csv('/home/lindb/wbp/blast/wbp_blast_116231snps_out2.txt',header=None,sep='\\t')\n",
    "df.head()"
   ]
  },
  {
   "cell_type": "code",
   "execution_count": 18,
   "metadata": {
    "collapsed": false
   },
   "outputs": [
    {
     "data": {
      "text/plain": [
       "107354"
      ]
     },
     "execution_count": 18,
     "metadata": {},
     "output_type": "execute_result"
    }
   ],
   "source": [
    "len(np.unique(df[0]))"
   ]
  },
  {
   "cell_type": "code",
   "execution_count": 19,
   "metadata": {
    "collapsed": false
   },
   "outputs": [
    {
     "data": {
      "text/plain": [
       "582469"
      ]
     },
     "execution_count": 19,
     "metadata": {},
     "output_type": "execute_result"
    }
   ],
   "source": [
    "len(df.index)"
   ]
  },
  {
   "cell_type": "code",
   "execution_count": 20,
   "metadata": {
    "collapsed": false
   },
   "outputs": [
    {
     "data": {
      "text/plain": [
       "167363"
      ]
     },
     "execution_count": 20,
     "metadata": {},
     "output_type": "execute_result"
    }
   ],
   "source": [
    "len(np.unique(df[1]))"
   ]
  },
  {
   "cell_type": "code",
   "execution_count": 3,
   "metadata": {
    "collapsed": false
   },
   "outputs": [
    {
     "ename": "ValueError",
     "evalue": "Your XML file did not start with <?xml... but instead 'super1\\tNODE_961681_l'",
     "output_type": "error",
     "traceback": [
      "\u001b[1;31m---------------------------------------------------------------------------\u001b[0m",
      "\u001b[1;31mValueError\u001b[0m                                Traceback (most recent call last)",
      "\u001b[1;32m<ipython-input-3-e76ca9264b25>\u001b[0m in \u001b[0;36m<module>\u001b[1;34m()\u001b[0m\n\u001b[0;32m      9\u001b[0m \u001b[0mquery_lens\u001b[0m \u001b[1;33m=\u001b[0m \u001b[1;33m[\u001b[0m\u001b[1;33m]\u001b[0m\u001b[1;33m\u001b[0m\u001b[0m\n\u001b[0;32m     10\u001b[0m \u001b[0mgood_hit_info\u001b[0m \u001b[1;33m=\u001b[0m \u001b[1;33m{\u001b[0m\u001b[1;34m'len'\u001b[0m\u001b[1;33m:\u001b[0m\u001b[1;33m[\u001b[0m\u001b[1;33m]\u001b[0m\u001b[1;33m,\u001b[0m \u001b[1;34m'len_perc'\u001b[0m\u001b[1;33m:\u001b[0m\u001b[1;33m[\u001b[0m\u001b[1;33m]\u001b[0m\u001b[1;33m,\u001b[0m \u001b[1;34m'id_perc'\u001b[0m\u001b[1;33m:\u001b[0m\u001b[1;33m[\u001b[0m\u001b[1;33m]\u001b[0m\u001b[1;33m}\u001b[0m\u001b[1;33m\u001b[0m\u001b[0m\n\u001b[1;32m---> 11\u001b[1;33m \u001b[1;32mfor\u001b[0m \u001b[0mi\u001b[0m\u001b[1;33m,\u001b[0m \u001b[0mrecord\u001b[0m \u001b[1;32min\u001b[0m \u001b[0menumerate\u001b[0m\u001b[1;33m(\u001b[0m\u001b[0mNCBIXML\u001b[0m\u001b[1;33m.\u001b[0m\u001b[0mparse\u001b[0m\u001b[1;33m(\u001b[0m\u001b[0mopen\u001b[0m\u001b[1;33m(\u001b[0m\u001b[0mblast_file\u001b[0m\u001b[1;33m)\u001b[0m\u001b[1;33m)\u001b[0m\u001b[1;33m)\u001b[0m\u001b[1;33m:\u001b[0m\u001b[1;33m\u001b[0m\u001b[0m\n\u001b[0m\u001b[0;32m     12\u001b[0m     \u001b[1;32mif\u001b[0m \u001b[0mlen\u001b[0m\u001b[1;33m(\u001b[0m\u001b[0mrecord\u001b[0m\u001b[1;33m.\u001b[0m\u001b[0malignments\u001b[0m\u001b[1;33m)\u001b[0m \u001b[1;33m>\u001b[0m \u001b[1;36m0\u001b[0m\u001b[1;33m:\u001b[0m\u001b[1;33m\u001b[0m\u001b[0m\n\u001b[0;32m     13\u001b[0m         \u001b[0msnp_data\u001b[0m\u001b[1;33m.\u001b[0m\u001b[0mloc\u001b[0m\u001b[1;33m[\u001b[0m\u001b[0mrecord\u001b[0m\u001b[1;33m.\u001b[0m\u001b[0mquery\u001b[0m\u001b[1;33m,\u001b[0m\u001b[1;34m\"hits\"\u001b[0m\u001b[1;33m]\u001b[0m \u001b[1;33m=\u001b[0m \u001b[1;34m\"\"\u001b[0m\u001b[1;33m\u001b[0m\u001b[0m\n",
      "\u001b[1;32m/gpfs_fs/home/lindb/anaconda/envs/conda/lib/python2.7/site-packages/Bio/Blast/NCBIXML.pyc\u001b[0m in \u001b[0;36mparse\u001b[1;34m(handle, debug)\u001b[0m\n\u001b[0;32m    582\u001b[0m             raise ValueError(\"Your XML file did not start with %s... \"\n\u001b[0;32m    583\u001b[0m                              \u001b[1;34m\"but instead %s\"\u001b[0m\u001b[1;33m\u001b[0m\u001b[0m\n\u001b[1;32m--> 584\u001b[1;33m                              % (XML_START, repr(text[:20])))\n\u001b[0m\u001b[0;32m    585\u001b[0m \u001b[1;33m\u001b[0m\u001b[0m\n\u001b[0;32m    586\u001b[0m         \u001b[0mexpat_parser\u001b[0m \u001b[1;33m=\u001b[0m \u001b[0mexpat\u001b[0m\u001b[1;33m.\u001b[0m\u001b[0mParserCreate\u001b[0m\u001b[1;33m(\u001b[0m\u001b[1;33m)\u001b[0m\u001b[1;33m\u001b[0m\u001b[0m\n",
      "\u001b[1;31mValueError\u001b[0m: Your XML file did not start with <?xml... but instead 'super1\\tNODE_961681_l'"
     ]
    }
   ],
   "source": [
    "timer = stopwatch.Timer()\n",
    "query_percs = []\n",
    "id_percs = []\n",
    "good_hits  = 0\n",
    "good_queries = 0\n",
    "query_min = 50\n",
    "id_min = 75\n",
    "total_recs = 0\n",
    "query_lens = []\n",
    "good_hit_info = {'len':[], 'len_perc':[], 'id_perc':[]}\n",
    "for i, record in enumerate(NCBIXML.parse(open(blast_file))):\n",
    "    if len(record.alignments) > 0:\n",
    "        snp_data.loc[record.query,\"hits\"] = \"\"\n",
    "        hit_defs = set()\n",
    "        for aln in record.alignments:\n",
    "            for hsp in aln.hsps:\n",
    "                query_perc = ((hsp.query_end - hsp.query_start)+1)*100.0/record.query_length\n",
    "                query_percs.append(query_perc)\n",
    "                query_lens.append(record.query_length)\n",
    "                id_perc = hsp.identities*100.0/hsp.align_length\n",
    "                id_percs.append(id_perc)\n",
    "                if (query_perc >= query_min) and (id_perc >= id_min):\n",
    "                    hit_defs.add(\"%s:%d:%d\" % (aln.hit_def, hsp.sbjct_start, hsp.sbjct_end))\n",
    "                    good_hits += 1\n",
    "                    good_hit_info['len'].append(record.query_length)\n",
    "                    good_hit_info['len_perc'].append(query_perc)\n",
    "                    good_hit_info['id_perc'].append(id_perc)\n",
    "        if len(hit_defs) > 0:\n",
    "            good_queries += 1\n",
    "            snp_data.loc[record.query,\"hits\"] = \"|\".join(hit_defs)\n",
    "    total_recs += 1\n",
    "#     if i == 100:\n",
    "#         break\n",
    "\n",
    "#make sure blank columns are nan\n",
    "snp_data.hits = snp_data.hits.replace(\"\", np.nan)\n",
    "\n",
    "timer.stop()\n",
    "print \"found %d good hits (%d queries) out of %d records (%.2f%%) in %s \" % (good_hits, \n",
    "                                                                             good_queries,\n",
    "                                                                             total_recs, \n",
    "                                                                             good_queries*100.0/total_recs, \n",
    "                                                                             timer)"
   ]
  },
  {
   "cell_type": "code",
   "execution_count": null,
   "metadata": {
    "collapsed": true
   },
   "outputs": [],
   "source": []
  },
  {
   "cell_type": "code",
   "execution_count": null,
   "metadata": {
    "collapsed": true
   },
   "outputs": [],
   "source": []
  },
  {
   "cell_type": "code",
   "execution_count": null,
   "metadata": {
    "collapsed": true
   },
   "outputs": [],
   "source": []
  },
  {
   "cell_type": "code",
   "execution_count": null,
   "metadata": {
    "collapsed": true
   },
   "outputs": [],
   "source": []
  },
  {
   "cell_type": "code",
   "execution_count": null,
   "metadata": {
    "collapsed": true
   },
   "outputs": [],
   "source": []
  },
  {
   "cell_type": "code",
   "execution_count": null,
   "metadata": {
    "collapsed": true
   },
   "outputs": [],
   "source": []
  },
  {
   "cell_type": "code",
   "execution_count": null,
   "metadata": {
    "collapsed": true
   },
   "outputs": [],
   "source": []
  },
  {
   "cell_type": "code",
   "execution_count": null,
   "metadata": {
    "collapsed": true
   },
   "outputs": [],
   "source": []
  },
  {
   "cell_type": "code",
   "execution_count": null,
   "metadata": {
    "collapsed": true
   },
   "outputs": [],
   "source": []
  },
  {
   "cell_type": "code",
   "execution_count": null,
   "metadata": {
    "collapsed": true
   },
   "outputs": [],
   "source": []
  },
  {
   "cell_type": "code",
   "execution_count": null,
   "metadata": {
    "collapsed": true
   },
   "outputs": [],
   "source": []
  },
  {
   "cell_type": "code",
   "execution_count": null,
   "metadata": {
    "collapsed": true
   },
   "outputs": [],
   "source": []
  },
  {
   "cell_type": "code",
   "execution_count": null,
   "metadata": {
    "collapsed": true
   },
   "outputs": [],
   "source": []
  },
  {
   "cell_type": "code",
   "execution_count": null,
   "metadata": {
    "collapsed": true
   },
   "outputs": [],
   "source": []
  },
  {
   "cell_type": "code",
   "execution_count": null,
   "metadata": {
    "collapsed": true
   },
   "outputs": [],
   "source": []
  },
  {
   "cell_type": "code",
   "execution_count": null,
   "metadata": {
    "collapsed": true
   },
   "outputs": [],
   "source": []
  },
  {
   "cell_type": "code",
   "execution_count": null,
   "metadata": {
    "collapsed": true
   },
   "outputs": [],
   "source": []
  },
  {
   "cell_type": "code",
   "execution_count": null,
   "metadata": {
    "collapsed": true
   },
   "outputs": [],
   "source": []
  },
  {
   "cell_type": "code",
   "execution_count": null,
   "metadata": {
    "collapsed": true
   },
   "outputs": [],
   "source": []
  },
  {
   "cell_type": "code",
   "execution_count": null,
   "metadata": {
    "collapsed": true
   },
   "outputs": [],
   "source": []
  },
  {
   "cell_type": "code",
   "execution_count": null,
   "metadata": {
    "collapsed": true
   },
   "outputs": [],
   "source": []
  },
  {
   "cell_type": "code",
   "execution_count": null,
   "metadata": {
    "collapsed": true
   },
   "outputs": [],
   "source": []
  },
  {
   "cell_type": "code",
   "execution_count": null,
   "metadata": {
    "collapsed": true
   },
   "outputs": [],
   "source": []
  },
  {
   "cell_type": "code",
   "execution_count": null,
   "metadata": {
    "collapsed": true
   },
   "outputs": [],
   "source": []
  }
 ],
 "metadata": {
  "kernelspec": {
   "display_name": "Python 2",
   "language": "python",
   "name": "python2"
  },
  "language_info": {
   "codemirror_mode": {
    "name": "ipython",
    "version": 2
   },
   "file_extension": ".py",
   "mimetype": "text/x-python",
   "name": "python",
   "nbconvert_exporter": "python",
   "pygments_lexer": "ipython2",
   "version": "2.7.11"
  }
 },
 "nbformat": 4,
 "nbformat_minor": 0
}
