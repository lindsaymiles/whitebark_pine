{
 "cells": [
  {
   "cell_type": "code",
   "execution_count": 0,
   "metadata": {
    "collapsed": false
   },
   "outputs": [],
   "source": [
    "import os\n",
    "from collections import OrderedDict,Counter\n",
    "from __future__ import division\n",
    "import pandas as pd\n",
    "import numpy as np\n",
    "import vcf\n",
    "from operator import itemgetter\n",
    "import random\n",
    "import matplotlib.pyplot as plt\n",
    "import matplotlib.gridspec as gridspec\n",
    "from matplotlib.backends.backend_pdf import PdfPages\n",
    "import matplotlib.ticker as mtick\n",
    "%matplotlib inline\n",
    "import os.path as op\n",
    "import os.listdir as ls"
   ]
  },
  {
   "cell_type": "code",
   "execution_count": 0,
   "metadata": {
    "collapsed": true
   },
   "outputs": [],
   "source": [
    "#I made these files in 6_pca.ipynb, they are symlinked to the hierfstat folder\n",
    "#genotypes are coded based on minor allele\n",
    "hierf = '/home/lindb/wbp/hierfstat/imputed/imputed_z12_maf_swp_trans.txt'"
   ]
  },
  {
   "cell_type": "code",
   "execution_count": 0,
   "metadata": {
    "collapsed": true
   },
   "outputs": [],
   "source": [
    "hierfdf = pd.read_csv(hierf,header=0,index_col=0,sep=\"\\t\")"
   ]
  },
  {
   "cell_type": "code",
   "execution_count": 0,
   "metadata": {
    "collapsed": false
   },
   "outputs": [],
   "source": [
    "hierfdf.head()"
   ]
  },
  {
   "cell_type": "code",
   "execution_count": 0,
   "metadata": {
    "collapsed": false
   },
   "outputs": [],
   "source": [
    "hierfdf.to_csv('/home/lindb/wbp/hierfstat/imputed/imputed_z12_maf_swp_trans_NOIDX.txt',header=True,index=False,sep=\"\\t\")"
   ]
  },
  {
   "cell_type": "markdown",
   "metadata": {},
   "source": [
    "# Put into R \n",
    "\n",
    "```R\n",
    "\n",
    "setwd(\"/home/lindb/wbp/hierfstat/imputed/\")\n",
    "get_varcomp = function(x) \n",
    "{\n",
    "    library(hierfstat)\n",
    "    loci = data.frame(x)\n",
    "    res <- varcomp(cbind(levels, loci),diploid=T)$overall\n",
    "}\n",
    "\n",
    "finish_varcomp = function(m) \n",
    "{\n",
    "    tot <- apply(m, 2, sum, na.rm = TRUE)\n",
    "    nblevels <- length(tot)\n",
    "    f <- matrix(rep(0, (nblevels - 1)^2), ncol = (nblevels - 1))\n",
    "    for (i in 1:(nblevels - 1)) \n",
    "    {\n",
    "        for (j in i:(nblevels - 1)) \n",
    "        {\n",
    "            f[i, j] <- sum(tot[i:j])/sum(tot[i:nblevels])\n",
    "        }\n",
    "    }\n",
    "    row.names(m) <- lnames\n",
    "    print(names(tot))\n",
    "    tf <- t(f)\n",
    "    row.names(tf) <- fnames\n",
    "    f <- t(tf)\n",
    "    row.names(f) <- c(\"Total\", fnames[-length(fnames)])\n",
    "    return(list(loc = m, overall = tot, F = f))\n",
    "}\n",
    "\n",
    "\n",
    "library(hierfstat)\n",
    "library(data.table)\n",
    "library(snow)\n",
    "data = data.frame(fread(\"imputed_z12_maf_swp_trans_NOIDX.txt\", header=T, sep=\"\\t\"))\n",
    "levels = data.frame(data[,1:2])\n",
    "loci = data[,3:ncol(data)]\n",
    "lnames=names(loci)\n",
    "fnames=c(names(levels), \"Ind\")\n",
    "cl = makeSOCKcluster(50)\n",
    "clusterExport(cl, \"levels\", envir=environment())\n",
    "system.time(res <- matrix(parCapply(cl, loci, get_varcomp), nrow=length(names(loci)),byrow=T))\n",
    "res = finish_varcomp(res)\n",
    "saveRDS(res, \"hierfstatRUN_imputed.rds\")\n",
    "system.time(bs <- basic.stats(data))\n",
    "saveRDS(bs, \"bs_hierfstatRUN_imputed.rds\")\n",
    "stopCluster(cl)\n",
    "print(\"Done!\")\n",
    "\n",
    "\n",
    "```"
   ]
  },
  {
   "cell_type": "code",
   "execution_count": 0,
   "metadata": {
    "collapsed": true
   },
   "outputs": [],
   "source": [
    "def setup_r(): \n",
    "    os.environ['R_HOME'] = '/home/lindb/g/R3/lib64/R/' \n",
    "    os.environ['LD_LIBRARY_PATH'] = \"%s/lib:%s\" % (os.environ['R_HOME'], \n",
    "                                                   os.environ['LD_LIBRARY_PATH'])"
   ]
  },
  {
   "cell_type": "code",
   "execution_count": 0,
   "metadata": {
    "collapsed": false
   },
   "outputs": [],
   "source": [
    "setup_r()\n",
    "import readline\n",
    "import rpy2.robjects as robjects\n",
    "from rpy2.robjects import pandas2ri as pd2ri\n",
    "pd2ri.activate()\n",
    "r = robjects.r"
   ]
  },
  {
   "cell_type": "code",
   "execution_count": 0,
   "metadata": {
    "collapsed": true
   },
   "outputs": [],
   "source": [
    "%reload_ext autoreload\n",
    "%autoreload 2\n",
    "%matplotlib inline\n",
    "%load_ext rpy2.ipython\n",
    "%matplotlib inline"
   ]
  },
  {
   "cell_type": "code",
   "execution_count": 0,
   "metadata": {
    "collapsed": true
   },
   "outputs": [],
   "source": [
    "%%R\n",
    "sessionInfo()"
   ]
  },
  {
   "cell_type": "code",
   "execution_count": 0,
   "metadata": {
    "collapsed": true
   },
   "outputs": [],
   "source": [
    "def get_r_series(key):\n",
    "    s = pd.Series(get_r(key))\n",
    "    s.index = get_r(\"names(%s)\" % key)\n",
    "    return s\n",
    "\n",
    "def get_r_df(key):\n",
    "    df = pd.DataFrame(get_r(key))\n",
    "    try:\n",
    "        rname = get_r(\"rownames(%s)\" % key)\n",
    "        df.index = rname\n",
    "    except:\n",
    "        pass\n",
    "    \n",
    "    try:\n",
    "        cname = get_r(\"colnames(%s)\" % key)\n",
    "        df.columns = cname\n",
    "    except:\n",
    "        pass\n",
    "    \n",
    "    return df\n",
    "\n",
    "def get_r(key):\n",
    "    return r(key)"
   ]
  },
  {
   "cell_type": "code",
   "execution_count": 0,
   "metadata": {
    "collapsed": false
   },
   "outputs": [],
   "source": [
    "%%R\n",
    "res = readRDS(\"/home/lindb/wbp/hierfstat/imputed/hierfstatRUN_imputed.rds\")"
   ]
  },
  {
   "cell_type": "code",
   "execution_count": 0,
   "metadata": {
    "collapsed": true
   },
   "outputs": [],
   "source": [
    "%%R\n",
    "bs = readRDS(\"/home/lindb/wbp/hierfstat/imputed/bs_hierfstatRUN_imputed.rds\")"
   ]
  },
  {
   "cell_type": "code",
   "execution_count": 0,
   "metadata": {
    "collapsed": false
   },
   "outputs": [],
   "source": [
    "resF = get_r_df(\"res$F\")\n",
    "resF"
   ]
  },
  {
   "cell_type": "code",
   "execution_count": 0,
   "metadata": {
    "collapsed": false
   },
   "outputs": [],
   "source": [
    "bs = get_r_df(\"bs$perloc\")\n",
    "bs.head()"
   ]
  },
  {
   "cell_type": "code",
   "execution_count": 0,
   "metadata": {
    "collapsed": false
   },
   "outputs": [],
   "source": [
    "overall = get_r_df(\"res$overall\")\n",
    "overall"
   ]
  },
  {
   "cell_type": "code",
   "execution_count": 0,
   "metadata": {
    "collapsed": false
   },
   "outputs": [],
   "source": [
    "loc = get_r_df(\"res$loc\")\n",
    "loc.head()"
   ]
  },
  {
   "cell_type": "code",
   "execution_count": 0,
   "metadata": {
    "collapsed": true
   },
   "outputs": [],
   "source": [
    "#multilocus FST\n",
    "def compute_F_plotTotal(series):\n",
    "    Hs = series[0]+series[1]\n",
    "    Ht = sum(series)\n",
    "    return Hs/Ht"
   ]
  },
  {
   "cell_type": "code",
   "execution_count": 0,
   "metadata": {
    "collapsed": false
   },
   "outputs": [],
   "source": [
    "plot_total_fst = loc.apply(compute_F_plotTotal, axis=1)\n",
    "plot_total_fst.shape,plot_total_fst.head()"
   ]
  },
  {
   "cell_type": "code",
   "execution_count": 0,
   "metadata": {
    "collapsed": false
   },
   "outputs": [],
   "source": [
    "plt.hist(plot_total_fst, bins = [x for x in np.linspace(-0.1,0.15,30)])[2]"
   ]
  },
  {
   "cell_type": "code",
   "execution_count": 0,
   "metadata": {
    "collapsed": true
   },
   "outputs": [],
   "source": [
    "def compute_F_popTotal(series):\n",
    "    return series[0]/sum(series)"
   ]
  },
  {
   "cell_type": "code",
   "execution_count": 0,
   "metadata": {
    "collapsed": false
   },
   "outputs": [],
   "source": [
    "pop_total_fst = loc.apply(compute_F_popTotal, axis = 1)\n",
    "pop_total_fst.shape,pop_total_fst.head()"
   ]
  },
  {
   "cell_type": "code",
   "execution_count": 0,
   "metadata": {
    "collapsed": false
   },
   "outputs": [],
   "source": [
    "plt.hist(pop_total_fst, bins = [x for x in np.linspace(-0.1,0.1,30)])[2]"
   ]
  },
  {
   "cell_type": "code",
   "execution_count": 0,
   "metadata": {
    "collapsed": false
   },
   "outputs": [],
   "source": [
    "plt.hist(bs['Fst'].tolist(),bins =[x for x in np.linspace(-0.1,0.1,30)])[2]"
   ]
  },
  {
   "cell_type": "code",
   "execution_count": 0,
   "metadata": {
    "collapsed": true
   },
   "outputs": [],
   "source": [
    "def compute_F_plotPop(series):\n",
    "    return series[1]/sum(series[1:])"
   ]
  },
  {
   "cell_type": "code",
   "execution_count": 0,
   "metadata": {
    "collapsed": false
   },
   "outputs": [],
   "source": [
    "plot_pop_fst = loc.apply(compute_F_plotPop,axis=1)\n",
    "plot_pop_fst.shape,plot_pop_fst.head()"
   ]
  },
  {
   "cell_type": "code",
   "execution_count": 0,
   "metadata": {
    "collapsed": false,
    "scrolled": true
   },
   "outputs": [],
   "source": [
    "plt.hist(plot_pop_fst, bins = [x for x in np.linspace(-0.11,0.11,30)])[2]"
   ]
  },
  {
   "cell_type": "code",
   "execution_count": 0,
   "metadata": {
    "collapsed": false
   },
   "outputs": [],
   "source": [
    "dfs = [pop_total_fst,plot_total_fst,plot_pop_fst]\n",
    "ds = [\"pop_total\",\"plot_total\",\"plot_pop\"]\n",
    "for i,d in enumerate(dfs):\n",
    "    d = pd.DataFrame(d)\n",
    "    d.columns = [ds[i]]\n",
    "    if i == 0:\n",
    "        df = pd.DataFrame(d)\n",
    "    else:\n",
    "        df = pd.merge(df,d,left_index=True,right_index=True)\n",
    "df.head()"
   ]
  },
  {
   "cell_type": "code",
   "execution_count": 0,
   "metadata": {
    "collapsed": false,
    "scrolled": true
   },
   "outputs": [],
   "source": [
    "locDict = OrderedDict()\n",
    "j = 0\n",
    "for i,SNP in enumerate(hierfdf.columns[2:]):\n",
    "    l = len([x for x in hierfdf.loc[:,SNP] if x > 0])\n",
    "    pthere = l/len(hierfdf.index)\n",
    "    locDict[SNP] = pthere\n",
    "    j+=1\n",
    "    if j % 1000 == 0:\n",
    "        print j"
   ]
  },
  {
   "cell_type": "code",
   "execution_count": 0,
   "metadata": {
    "collapsed": false
   },
   "outputs": [],
   "source": [
    "perc = pd.DataFrame()\n",
    "perc[0] = locDict.values()\n",
    "perc.index = locDict.keys()\n",
    "perc.columns = ['perc data']\n",
    "perc.head()"
   ]
  },
  {
   "cell_type": "code",
   "execution_count": 0,
   "metadata": {
    "collapsed": false
   },
   "outputs": [],
   "source": [
    "perc.shape"
   ]
  },
  {
   "cell_type": "code",
   "execution_count": 0,
   "metadata": {
    "collapsed": false
   },
   "outputs": [],
   "source": [
    "df = pd.merge(df,perc,left_index=True,right_index=True)\n",
    "df.head()"
   ]
  },
  {
   "cell_type": "code",
   "execution_count": 0,
   "metadata": {
    "collapsed": true
   },
   "outputs": [],
   "source": [
    "filE = '/home/lindb/wbp/hierfstat/imputed/imputed_hierarchical_Fstats.txt'\n",
    "df.to_csv(filE, header=True,index=True,sep=\"\\t\")"
   ]
  },
  {
   "cell_type": "code",
   "execution_count": 0,
   "metadata": {
    "collapsed": false
   },
   "outputs": [],
   "source": [
    "filE = '/home/lindb/wbp/hierfstat/imputed/imputed_hierarchical_Fstats.txt'\n",
    "df = pd.read_csv(filE,header=0,index_col=0,sep='\\t')\n",
    "df.head()"
   ]
  },
  {
   "cell_type": "code",
   "execution_count": 0,
   "metadata": {
    "collapsed": false
   },
   "outputs": [],
   "source": [
    "min(df['perc data']),max(df['perc data'])"
   ]
  },
  {
   "cell_type": "markdown",
   "metadata": {
    "collapsed": true
   },
   "source": [
    "# figures"
   ]
  },
  {
   "cell_type": "code",
   "execution_count": 0,
   "metadata": {
    "collapsed": false
   },
   "outputs": [],
   "source": [
    "df.head()"
   ]
  },
  {
   "cell_type": "code",
   "execution_count": 0,
   "metadata": {
    "collapsed": true
   },
   "outputs": [],
   "source": []
  },
  {
   "cell_type": "code",
   "execution_count": 0,
   "metadata": {
    "collapsed": false
   },
   "outputs": [],
   "source": [
    "plt.close('all')\n",
    "fig  = plt.figure(figsize=(5,5),dpi=400)\n",
    "a1 = plt.subplot(111)\n",
    "a1.hist(df['plot_total'],bins = [x for x in np.linspace(-0.1,0.2,30)])\n",
    "a1.spines['right'].set_visible(False)\n",
    "a1.spines['top'].set_visible(False)\n",
    "a1.yaxis.set_ticks_position('left')\n",
    "a1.xaxis.set_ticks_position('bottom')\n",
    "a1.set_xlabel(r'single-locus $F_{ST}$',fontsize=14)\n",
    "a1.set_ylabel('Count',fontsize=14)\n",
    "\n",
    "fig.set_size_inches(4,4)\n",
    "plt.savefig('/home/lindb/wbp/figures/multilocus_fst_distribution.pdf',format='pdf',bbox_inches='tight')"
   ]
  },
  {
   "cell_type": "code",
   "execution_count": 0,
   "metadata": {
    "collapsed": false
   },
   "outputs": [],
   "source": [
    "with PdfPages('/home/lindb/wbp/figures/multilocus_fst_distribution.pdf') as pdf:\n",
    "    plt.close('all')\n",
    "    fig  = plt.figure(figsize=(5,5),dpi=400)\n",
    "    a1 = plt.subplot(111)\n",
    "    a1.hist(df['plot_total'],bins = [x for x in np.linspace(-0.1,0.2,30)])\n",
    "    a1.spines['right'].set_visible(False)\n",
    "    a1.spines['top'].set_visible(False)\n",
    "    a1.yaxis.set_ticks_position('left')\n",
    "    a1.xaxis.set_ticks_position('bottom')\n",
    "    a1.set_xlabel(r'single-locus $F_{ST}$',fontsize=14)\n",
    "    a1.set_ylabel('Count',fontsize=14)\n",
    "    \n",
    "    fig.set_size_inches(4,4)\n",
    "    pdf.savefig(fig,bbox_inches='tight')"
   ]
  },
  {
   "cell_type": "code",
   "execution_count": 0,
   "metadata": {
    "collapsed": true
   },
   "outputs": [],
   "source": [
    "?plt.savefig"
   ]
  },
  {
   "cell_type": "code",
   "execution_count": 0,
   "metadata": {
    "collapsed": false
   },
   "outputs": [],
   "source": [
    "min(df['plot_total']),max(df['plot_total'])"
   ]
  },
  {
   "cell_type": "code",
   "execution_count": 0,
   "metadata": {
    "collapsed": false
   },
   "outputs": [],
   "source": [
    "df['plot_total'].describe()"
   ]
  },
  {
   "cell_type": "code",
   "execution_count": 0,
   "metadata": {
    "collapsed": false
   },
   "outputs": [],
   "source": [
    "print 'low',0.006976-(1.96*0.018286)\n",
    "print 'high',0.006976+(1.96*0.018286)"
   ]
  },
  {
   "cell_type": "markdown",
   "metadata": {
    "collapsed": true
   },
   "source": [
    "# plot abline of sig snps"
   ]
  },
  {
   "cell_type": "markdown",
   "metadata": {
    "collapsed": true
   },
   "source": [
    "### OutFLANK"
   ]
  },
  {
   "cell_type": "code",
   "execution_count": 0,
   "metadata": {
    "collapsed": false
   },
   "outputs": [],
   "source": [
    "outflank = '/home/lindb/wbp/OutFLANK/OutFLANK_snps.txt'\n",
    "outdf = pd.read_csv(outflank,header=0,sep='\\t')\n",
    "outflanksnps = outdf['x'].tolist()\n",
    "len(outflanksnps)"
   ]
  },
  {
   "cell_type": "code",
   "execution_count": 0,
   "metadata": {
    "collapsed": false
   },
   "outputs": [],
   "source": [
    "dd['NODE_1000013_length_91_cov_1.802198_37']"
   ]
  },
  {
   "cell_type": "code",
   "execution_count": 0,
   "metadata": {
    "collapsed": false
   },
   "outputs": [],
   "source": [
    "dd = OrderedDict(df['plot_total'])"
   ]
  },
  {
   "cell_type": "code",
   "execution_count": 0,
   "metadata": {
    "collapsed": false
   },
   "outputs": [],
   "source": [
    "vals = [dd[snp] for snp in outflanksnps]\n",
    "len(vals)"
   ]
  },
  {
   "cell_type": "code",
   "execution_count": 0,
   "metadata": {
    "collapsed": false
   },
   "outputs": [],
   "source": [
    "with PdfPages('/home/lindb/wbp/figures/multilocus_fst_distribution_outflank_overlay.pdf') as pdf:\n",
    "    plt.close('all')\n",
    "    fig  = plt.figure(figsize=(5,5),dpi=400)\n",
    "    a1 = plt.subplot(111)\n",
    "    a1.hist(df['plot_total'],bins = [x for x in np.linspace(-0.1,0.2,30)])\n",
    "    a1.spines['right'].set_visible(False)\n",
    "    a1.spines['top'].set_visible(False)\n",
    "    a1.yaxis.set_ticks_position('left')\n",
    "    a1.xaxis.set_ticks_position('bottom')\n",
    "    a1.set_xlabel(r'multilocus $F_{ST}$',fontsize=14)\n",
    "    a1.set_ylabel('Count',fontsize=14)\n",
    "    \n",
    "    [a1.axvline(x=dd[snp],c='red',linewidth=0.25,zorder=1) for snp in outflanksnps]\n",
    "    #a1.axvline(x=dd[dd.keys()[0]],c='red',linewidth=0.25,zorder=1)\n",
    "    \n",
    "    fig.set_size_inches(4,4)\n",
    "    pdf.savefig(fig,bbox_inches='tight')"
   ]
  },
  {
   "cell_type": "markdown",
   "metadata": {},
   "source": [
    "### bayenv2"
   ]
  },
  {
   "cell_type": "code",
   "execution_count": 0,
   "metadata": {
    "collapsed": true
   },
   "outputs": [],
   "source": [
    "import os.listdir as ls\n",
    "import os.path as op"
   ]
  },
  {
   "cell_type": "code",
   "execution_count": 0,
   "metadata": {
    "collapsed": false
   },
   "outputs": [],
   "source": [
    "#get bayenv2 snps\n",
    "DIR = '/home/lindb/wbp/bayenv2/results/sigsnps'\n",
    "bayfs = [op.join(DIR,f) for f in ls(DIR)]\n",
    "baydict = {}\n",
    "for f in bayfs:\n",
    "    env = op.basename(f).split(\"_\")[0]\n",
    "    df = pd.read_csv(f,header=0,sep='\\t')\n",
    "    baydict[env] = df[env].tolist()\n",
    "    print env,len(baydict[env])"
   ]
  },
  {
   "cell_type": "code",
   "execution_count": 0,
   "metadata": {
    "collapsed": false
   },
   "outputs": [],
   "source": [
    "round(0.95*116231)"
   ]
  },
  {
   "cell_type": "code",
   "execution_count": 0,
   "metadata": {
    "collapsed": false
   },
   "outputs": [],
   "source": [
    "n5th = df['plot_total'].quantile(0.95)\n",
    "n5th"
   ]
  },
  {
   "cell_type": "code",
   "execution_count": 0,
   "metadata": {
    "collapsed": false
   },
   "outputs": [],
   "source": [
    "n99th = df['plot_total'].quantile(0.999)\n",
    "n99th"
   ]
  },
  {
   "cell_type": "code",
   "execution_count": 0,
   "metadata": {
    "collapsed": true
   },
   "outputs": [],
   "source": [
    "/home/lindb/wbp/figures/multilocus_fst_distribution_bayenv_Ann-ppt_overlay.pdf"
   ]
  },
  {
   "cell_type": "code",
   "execution_count": 0,
   "metadata": {
    "collapsed": true
   },
   "outputs": [],
   "source": [
    "for env in baydict.keys():\n",
    "    print env\n",
    "    with PdfPages('/home/lindb/wbp/figures/multilocus_fst_distribution_bayenv_%s_overlay.pdf' % env) as pdf:\n",
    "        plt.close('all')\n",
    "        fig  = plt.figure(figsize=(5,5),dpi=400)\n",
    "        a1 = plt.subplot(111)\n",
    "        a1.hist(df['plot_total'],bins = [x for x in np.linspace(-0.1,0.2,30)])\n",
    "        a1.spines['right'].set_visible(False)\n",
    "        a1.spines['top'].set_visible(False)\n",
    "        a1.yaxis.set_ticks_position('left')\n",
    "        a1.xaxis.set_ticks_position('bottom')\n",
    "        a1.set_xlabel(r'multilocus $F_{ST}$',fontsize=14)\n",
    "        a1.set_ylabel('Count',fontsize=14)\n",
    "\n",
    "        #[a1.axvline(x=dd[snp],c='red',linewidth=0.25,zorder=1) for snp in baydict[env]]\n",
    "        for snp in baydict[env]:\n",
    "            col = 'red'\n",
    "            if dd[snp] >= n5th:\n",
    "                col = 'purple'\n",
    "            if dd[snp] >= n99th:\n",
    "                col = 'blue'\n",
    "            a1.axvline(x=dd[snp],c=col,linewidth=0.25,zorder=1)\n",
    "        #a1.axvline(x=dd[dd.keys()[0]],c='red',linewidth=0.25,zorder=1)\n",
    "\n",
    "        fig.set_size_inches(4,4)\n",
    "        pdf.savefig(fig,bbox_inches='tight')\n",
    "        plt.show()\n"
   ]
  },
  {
   "cell_type": "code",
   "execution_count": 0,
   "metadata": {
    "collapsed": false
   },
   "outputs": [],
   "source": [
    "for env in sorted(baydict):\n",
    "    rcount = 0\n",
    "    pcount = 0\n",
    "    bcount = 0\n",
    "    for snp in baydict[env]:\n",
    "        if dd[snp] < n5th:\n",
    "            rcount += 1\n",
    "        elif dd[snp] < n99th:\n",
    "            pcount += 1\n",
    "        elif dd[snp] >= n99th:\n",
    "            bcount += 1\n",
    "    print env,rcount,pcount,bcount,rcount+pcount+bcount,len(baydict[env])"
   ]
  },
  {
   "cell_type": "code",
   "execution_count": 0,
   "metadata": {
    "collapsed": false
   },
   "outputs": [],
   "source": [
    "with PdfPages('/home/lindb/wbp/figures/multilocus_fst_distribution_bayenv_all_env_overlay.pdf') as pdf:\n",
    "    \n",
    "    plt.close('all')\n",
    "    fig, ((a1,a2,a3),(a4,a5,a6),(a7,a8,a9)) = plt.subplots(3, 3, figsize=(5,5),dpi=400)\n",
    "    \n",
    "    plotdict = {}\n",
    "    count = 1\n",
    "    for env in sorted(baydict.keys())[0:9]:\n",
    "        plotdict[count] = plt.subplot(int(\"33%s\" % count))\n",
    "\n",
    "        plotdict[count].hist(df['plot_total'],bins = [x for x in np.linspace(-0.1,0.2,30)])\n",
    "        plotdict[count].spines['right'].set_visible(False)\n",
    "        plotdict[count].spines['top'].set_visible(False)\n",
    "        plotdict[count].yaxis.set_ticks_position('left')\n",
    "        plotdict[count].xaxis.set_ticks_position('bottom')\n",
    "        plotdict[count].set_title(lst[count-1],y=.9,loc='right',fontsize=17,fontweight='bold')\n",
    "        \n",
    "        if count in [7,8,9]:\n",
    "            plotdict[count].set_xlabel(r'multilocus $F_{ST}$',fontsize=14)\n",
    "        if count in [1,4,7]:\n",
    "            plotdict[count].set_ylabel('Count',fontsize=14)\n",
    "        \n",
    "        for snp in baydict[env]:\n",
    "            col = 'red'\n",
    "            if dd[snp] >= n5th:\n",
    "                col = 'purple'\n",
    "            if dd[snp] >= n99th:\n",
    "                col = 'blue'\n",
    "            plotdict[count].axvline(x=dd[snp],c=col,linewidth=0.25,zorder=1)\n",
    "        \n",
    "        fig.set_size_inches(13,10)\n",
    "        pdf.savefig(fig,bbox_inches='tight')\n",
    "        \n",
    "        count += 1"
   ]
  },
  {
   "cell_type": "code",
   "execution_count": 0,
   "metadata": {
    "collapsed": false
   },
   "outputs": [],
   "source": [
    "sorted(baydict.keys())[9:]"
   ]
  },
  {
   "cell_type": "code",
   "execution_count": 0,
   "metadata": {
    "collapsed": false
   },
   "outputs": [],
   "source": [
    "for env in sorted(baydict):\n",
    "    print env,len(baydict[env])"
   ]
  },
  {
   "cell_type": "code",
   "execution_count": 0,
   "metadata": {
    "collapsed": false
   },
   "outputs": [],
   "source": [
    "with PdfPages('/home/lindb/wbp/figures/multilocus_fst_distribution_bayenv_all_env_overlay_2.pdf') as pdf:\n",
    "    \n",
    "    plt.close('all')\n",
    "    fig, ((a1,a2,a3),(a4,a5,a6),(a7,a8,a9)) = plt.subplots(3, 3, figsize=(5,5),dpi=400)\n",
    "    \n",
    "    plotdict = {}\n",
    "    count = 1\n",
    "    for env in sorted(baydict.keys())[9:]:\n",
    "        plotdict[count] = plt.subplot(int(\"33%s\" % count))\n",
    "\n",
    "        plotdict[count].hist(df['plot_total'],bins = [x for x in np.linspace(-0.1,0.2,30)])\n",
    "        plotdict[count].spines['right'].set_visible(False)\n",
    "        plotdict[count].spines['top'].set_visible(False)\n",
    "        plotdict[count].yaxis.set_ticks_position('left')\n",
    "        plotdict[count].xaxis.set_ticks_position('bottom')\n",
    "        plotdict[count].set_title(lst[count-1],y=.9,loc='right',fontsize=17,fontweight='bold')\n",
    "        \n",
    "        if count in [7,8,9]:\n",
    "            plotdict[count].set_xlabel(r'multilocus $F_{ST}$',fontsize=14)\n",
    "        if count in [1,4,7]:\n",
    "            plotdict[count].set_ylabel('Count',fontsize=14)\n",
    "        \n",
    "        for snp in baydict[env]:\n",
    "            col = 'red'\n",
    "            if dd[snp] >= n5th:\n",
    "                col = 'purple'\n",
    "            if dd[snp] >= n99th:\n",
    "                col = 'blue'\n",
    "            plotdict[count].axvline(x=dd[snp],c=col,linewidth=0.25,zorder=1)\n",
    "        \n",
    "        fig.set_size_inches(13,10)\n",
    "        pdf.savefig(fig,bbox_inches='tight')\n",
    "        \n",
    "        count += 1"
   ]
  },
  {
   "cell_type": "code",
   "execution_count": 0,
   "metadata": {
    "collapsed": true
   },
   "outputs": [],
   "source": []
  },
  {
   "cell_type": "code",
   "execution_count": 0,
   "metadata": {
    "collapsed": true
   },
   "outputs": [],
   "source": []
  },
  {
   "cell_type": "code",
   "execution_count": 0,
   "metadata": {
    "collapsed": true
   },
   "outputs": [],
   "source": []
  },
  {
   "cell_type": "code",
   "execution_count": 0,
   "metadata": {
    "collapsed": true
   },
   "outputs": [],
   "source": []
  },
  {
   "cell_type": "code",
   "execution_count": 0,
   "metadata": {
    "collapsed": true
   },
   "outputs": [],
   "source": []
  }
 ],
 "metadata": {
  "kernelspec": {
   "display_name": "Python 2",
   "language": "python",
   "name": "python2"
  },
  "language_info": {
   "codemirror_mode": {
    "name": "ipython",
    "version": 2
   },
   "file_extension": ".py",
   "mimetype": "text/x-python",
   "name": "python",
   "nbconvert_exporter": "python",
   "pygments_lexer": "ipython2",
   "version": "2.7.11"
  }
 },
 "nbformat": 4,
 "nbformat_minor": 0
}
