{
 "cells": [
  {
   "cell_type": "code",
   "execution_count": 0,
   "metadata": {
    "collapsed": true
   },
   "outputs": [],
   "source": [
    "import sys, os, time\n",
    "import pandas as pd\n",
    "import numpy as np\n",
    "import vcf\n",
    "import random\n",
    "from collections import OrderedDict\n",
    "from operator import itemgetter\n",
    "from collections import defaultdict\n",
    "from __future__ import division\n",
    "import math\n",
    "import shutil"
   ]
  },
  {
   "cell_type": "code",
   "execution_count": 0,
   "metadata": {
    "collapsed": true
   },
   "outputs": [],
   "source": [
    "home = '/home/lindb/eckertlab/wbp/bayenv2/nullruns/old_missing/'\n",
    "new_home = '/home/lindb/eckertlab/wbp/bayenv2/nullruns/missing'"
   ]
  },
  {
   "cell_type": "code",
   "execution_count": 0,
   "metadata": {
    "collapsed": false,
    "scrolled": true
   },
   "outputs": [],
   "source": [
    "#transfer UnbinnedmissingSNPFILEs\n",
    "lst = []\n",
    "for i in range(100):\n",
    "    DIR = '/home/lindb/eckertlab/wbp/bayenv2/nullruns/delete2/delete/dir%s' % str(i)\n",
    "    if os.path.exists(DIR):\n",
    "        files = os.listdir(DIR)\n",
    "        for f in files:\n",
    "            if f.startswith('Unbinned'):\n",
    "                src = os.path.join(DIR,f)\n",
    "                dst_dir = '/home/lindb/eckertlab/wbp/bayenv2/nullruns/missing/dir%s/SNPs' % str(i)\n",
    "                if not os.path.exists(dst_dir):\n",
    "                    os.path.makedirs(dst_dir)\n",
    "                    lst.append(dst_dir)\n",
    "                    print \"FUCK\",dst_dir\n",
    "                dst = os.path.join(dst_dir,f)\n",
    "                shutil.copy(src,dst)\n",
    "    print DIR"
   ]
  },
  {
   "cell_type": "code",
   "execution_count": 0,
   "metadata": {
    "collapsed": false
   },
   "outputs": [],
   "source": [
    "#get rid of old copy.sh files\n",
    "for i in range(100): #change for imputed\n",
    "    dir_dir = os.path.join(new_home,'dir%s' % str(i))\n",
    "    if os.path.exists(dir_dir):\n",
    "        files = os.listdir(dir_dir)\n",
    "        for f in files:\n",
    "            if f.startswith('copy'):\n",
    "                os.remove(os.path.join(dir_dir,f))\n",
    "                break"
   ]
  },
  {
   "cell_type": "code",
   "execution_count": 0,
   "metadata": {
    "collapsed": true
   },
   "outputs": [],
   "source": [
    "#make usable matrices\n",
    "for i in range(100):\n",
    "    DIR = '/home/lindb/eckertlab/wbp/bayenv2/nullruns/missing/dir%s/' % str(i)\n",
    "    if os.path.exists(DIR):\n",
    "        files = os.listdir(DIR)\n",
    "        for f in files:\n",
    "            if (f.startswith('matrix')) and (f.endswith('out')):\n",
    "                #print os.path.join(DIR,f)\n",
    "                F = open(os.path.join(DIR,f),'r')\n",
    "                g = F.readlines()\n",
    "                new = f[:-4] + '.txt'\n",
    "                filE = DIR + '/usable_%s' % new\n",
    "                print filE\n",
    "                with open(filE,'w') as o:\n",
    "                    for line in g[2005:][:-1]:\n",
    "                        o.write(line)\n",
    "                o.close()\n",
    "                break\n",
    "        #break    "
   ]
  },
  {
   "cell_type": "code",
   "execution_count": 0,
   "metadata": {
    "collapsed": false
   },
   "outputs": [],
   "source": [
    "new_home"
   ]
  },
  {
   "cell_type": "code",
   "execution_count": 0,
   "metadata": {
    "collapsed": true
   },
   "outputs": [],
   "source": [
    "#make SNPs dirs\n",
    "for i in range(100):\n",
    "    dir_dir = os.path.join(new_home,'dir%s' % str(i))\n",
    "    if os.path.exists(dir_dir):\n",
    "        snp_dir = os.path.join(dir_dir,'SNPs')\n",
    "        files = os.listdir(dir_dir)\n",
    "        if not os.path.exists(snp_dir):\n",
    "            os.makedirs(snp_dir)\n",
    "        for f in files:\n",
    "            if not f.startswith ('SNPs'):\n",
    "                old_f = os.path.join(dir_dir,f)\n",
    "                new_f = os.path.join(snp_dir,f)\n",
    "                shutil.copy(old_f,new_f)\n",
    "            #break"
   ]
  },
  {
   "cell_type": "code",
   "execution_count": 0,
   "metadata": {
    "collapsed": false
   },
   "outputs": [],
   "source": [
    "dir_dir"
   ]
  },
  {
   "cell_type": "code",
   "execution_count": 0,
   "metadata": {
    "collapsed": false
   },
   "outputs": [],
   "source": [
    "snp_dir"
   ]
  },
  {
   "cell_type": "code",
   "execution_count": 0,
   "metadata": {
    "collapsed": false
   },
   "outputs": [],
   "source": [
    "files"
   ]
  },
  {
   "cell_type": "code",
   "execution_count": 0,
   "metadata": {
    "collapsed": false
   },
   "outputs": [],
   "source": [
    "count = 0\n",
    "for i in range(100):\n",
    "    DIR = '/home/lindb/eckertlab/wbp/bayenv2/nullruns/missing/dir%s' % str(i)\n",
    "    if os.path.exists(DIR):\n",
    "        files = os.listdir(DIR)\n",
    "        for f in files:\n",
    "            if not f.startswith('SNPs'):\n",
    "                print f\n",
    "        count += 1\n",
    "    if count == 1:\n",
    "        break"
   ]
  },
  {
   "cell_type": "code",
   "execution_count": 0,
   "metadata": {
    "collapsed": false,
    "scrolled": true
   },
   "outputs": [],
   "source": [
    "#rewrite copy.sh files\n",
    "for i in range(100):\n",
    "    DIR = '/home/lindb/eckertlab/wbp/bayenv2/nullruns/missing/dir%s/SNPs' % str(i)\n",
    "    if os.path.exists(DIR):\n",
    "        text = '''#!/bin/bash\n",
    "#$ -N %s \n",
    "#$ -V\n",
    "#$ -j y\n",
    "#$ -cwd\n",
    "\n",
    "cd %s\n",
    "pwd\n",
    "split -d -a 10 -l 2 UnbinnedmissingSNPSFILE%s_noHEADERIDX.txt snp_batch\n",
    "''' % ('CopyMIS'+str(i),\n",
    "       DIR,\n",
    "       i)\n",
    "        filE = os.path.join(DIR, 'copySNPs%s.sh' % str(i))\n",
    "        print filE\n",
    "        with open(filE,'w') as o:\n",
    "            o.write(text)\n",
    "        o.close()\n",
    "        #break"
   ]
  },
  {
   "cell_type": "code",
   "execution_count": 0,
   "metadata": {
    "collapsed": false,
    "scrolled": true
   },
   "outputs": [],
   "source": [
    "#make sure each SNPs folder has 159803 snpfiles\n",
    "for i in range(100):\n",
    "    DIR = '/home/lindb/eckertlab/wbp/bayenv2/nullruns/missing/dir%s/SNPs' % str(i)\n",
    "    if os.path.exists(DIR):\n",
    "        files = os.listdir(DIR)\n",
    "        count = len([f for f in files if f.startswith('snp')])\n",
    "        flz = [os.path.join(DIR,f) for f in files if f.startswith('snp')]\n",
    "        if count != 159803:\n",
    "            print DIR, count\n",
    "            [os.remove(x) for x in flz]\n",
    "        else:\n",
    "            print count"
   ]
  },
  {
   "cell_type": "code",
   "execution_count": 0,
   "metadata": {
    "collapsed": false,
    "scrolled": true
   },
   "outputs": [],
   "source": [
    "#check to see if there is anything left\n",
    "old_dir = '/home/lindb/eckertlab/wbp/bayenv2/nullruns/old_missing'\n",
    "for i in range(100):\n",
    "    DIR = '/home/lindb/eckertlab/wbp/bayenv2/nullruns/old_missing/dir%s/SNPs' % str(i)\n",
    "    if os.path.exists(DIR):\n",
    "        files = os.listdir(DIR)\n",
    "        for f in files:\n",
    "            if f.startswith('Unbinned'):\n",
    "                print DIR, f\n",
    "                break\n",
    "        print DIR"
   ]
  },
  {
   "cell_type": "code",
   "execution_count": 0,
   "metadata": {
    "collapsed": true
   },
   "outputs": [],
   "source": [
    "#get the dirs\n",
    "dirDict = OrderedDict()\n",
    "for i in range(100):\n",
    "    DIR = '/home/lindb/eckertlab/wbp/bayenv2/nullruns/missing/dir%s/SNPs' % str(i)\n",
    "    if os.path.exists(DIR):\n",
    "        dirDict[i] = DIR"
   ]
  },
  {
   "cell_type": "code",
   "execution_count": 0,
   "metadata": {
    "collapsed": false,
    "scrolled": true
   },
   "outputs": [],
   "source": [
    "len(dirDict.keys())"
   ]
  },
  {
   "cell_type": "code",
   "execution_count": 0,
   "metadata": {
    "collapsed": true
   },
   "outputs": [],
   "source": [
    "dirDict.keys()"
   ]
  },
  {
   "cell_type": "code",
   "execution_count": 0,
   "metadata": {
    "collapsed": true
   },
   "outputs": [],
   "source": [
    "#delete all the goddamn files\n",
    "for DIR in dirDict.values():\n",
    "    if os.path.exists(DIR):\n",
    "        text = '''#!/bin/bash\n",
    "#$ -N %s \n",
    "#$ -V\n",
    "#$ -j y\n",
    "#$ -cwd\n",
    "\n",
    "''' % ('misDEL' + i)\n",
    "        for j in range(10):        \n",
    "                new_text = '''cd %s\n",
    "find -type f -name 'snp*_' | parallel 'qsub {}'\n",
    "''' % str(DIR)\n",
    "                filE = os.path.join(DIR,'deleteSNPFILEs%s.sh' % str(j))\n",
    "                with open(filE,'w') as o:\n",
    "                    o.write(\"%s\" % text)\n",
    "                o.close()"
   ]
  },
  {
   "cell_type": "code",
   "execution_count": 0,
   "metadata": {
    "collapsed": false
   },
   "outputs": [],
   "source": [
    "#delete all the goddamn files since I ran out of room\n",
    "dirCount = 0\n",
    "for i in range(10):\n",
    "    text ='''#!/bin/bash\n",
    "#$ -N %s \n",
    "#$ -V\n",
    "#$ -j y\n",
    "#$ -cwd\n",
    "\n",
    "''' % ('missDEL%s' % str(i))\n",
    "    for j in range(10):\n",
    "        DIR = '/home/lindb/eckertlab/wbp/bayenv2/nullruns/missing/dir%s/SNPs' % dirCount\n",
    "        if os.path.exists(DIR):\n",
    "            new = '''\n",
    "cd %s\n",
    "find -type f -name 'snp_*' | parallel --progress 'rm {}'\n",
    "''' % DIR\n",
    "            text = text + new\n",
    "        dirCount += 1\n",
    "    filE = os.path.join('/home/lindb/eckertlab/wbp/bayenv2/nullruns/missing/','deleteSNPFILES_%s.sh' % str(i))\n",
    "    with open(filE,'w') as o:\n",
    "        o.write(\"%s\" % text)\n",
    "    o.close"
   ]
  },
  {
   "cell_type": "code",
   "execution_count": 0,
   "metadata": {
    "collapsed": true
   },
   "outputs": [],
   "source": [
    "#delete all of the unnecessary SNPFILES in old_missing folders\n",
    "dirCount = 0\n",
    "for i in range(10):\n",
    "    text ='''#!/bin/bash\n",
    "#$ -N %s \n",
    "#$ -V\n",
    "#$ -j y\n",
    "#$ -cwd\n",
    "\n",
    "''' % ('oldMdel%s' % str(i))\n",
    "    for j in range(10):\n",
    "        DIR = '/home/lindb/eckertlab/wbp/bayenv2/nullruns/old_missing/dir%s/SNPs' % dirCount\n",
    "        if os.path.exists(DIR):\n",
    "            new = '''\n",
    "cd %s\n",
    "find -type f -name 'snp_*' | parallel --progress 'rm {}'\n",
    "''' % DIR\n",
    "            text = text + new\n",
    "        dirCount += 1\n",
    "    filE = os.path.join('/home/lindb/eckertlab/wbp/bayenv2/nullruns/','delete_OldMissing_SNPFILES_%s.sh' % str(i))\n",
    "\n",
    "    with open(filE,'w') as o:\n",
    "        o.write(\"%s\" % text)\n",
    "    o.close"
   ]
  },
  {
   "cell_type": "code",
   "execution_count": 0,
   "metadata": {
    "collapsed": true
   },
   "outputs": [],
   "source": [
    "#delete all of the unnecessary SNPFILES in old folders\n",
    "dirCount = 0\n",
    "for i in range(10):\n",
    "    text ='''#!/bin/bash\n",
    "#$ -N %s \n",
    "#$ -V\n",
    "#$ -j y\n",
    "#$ -cwd\n",
    "\n",
    "''' % ('oldIdel%s' % str(i))\n",
    "    for j in range(10):\n",
    "        DIR = '/home/lindb/eckertlab/wbp/bayenv2/nullruns/old_imputed/dir%s/SNPs2' % dirCount\n",
    "        if os.path.exists(DIR):\n",
    "            new = '''\n",
    "cd %s\n",
    "find -type f -name 'snp_*' | parallel --eta 'rm {}'\n",
    "''' % DIR\n",
    "            text = text + new\n",
    "        dirCount += 1\n",
    "    filE = os.path.join('/home/lindb/eckertlab/wbp/bayenv2/nullruns/old_imputed','delete_OldImputed_SNPFILES_%s.sh' % str(i))\n",
    "    with open(filE,'w') as o:\n",
    "        o.write(\"%s\" % text)\n",
    "    o.close"
   ]
  },
  {
   "cell_type": "code",
   "execution_count": 0,
   "metadata": {
    "collapsed": false
   },
   "outputs": [],
   "source": [
    "DIR[:-4]"
   ]
  },
  {
   "cell_type": "code",
   "execution_count": 0,
   "metadata": {
    "collapsed": false
   },
   "outputs": [],
   "source": [
    "#delete all of the unnecessary SNPFILES in old delete SNPs folders \n",
    "dirCount = 0\n",
    "for i in range(15):\n",
    "    text ='''#!/bin/bash\n",
    "#$ -N %s \n",
    "#$ -V\n",
    "#$ -j y\n",
    "#$ -cwd\n",
    "\n",
    "''' % ('SNPS2%s' % str(i))\n",
    "    \n",
    "    wCount = 0\n",
    "    while wCount < 7:\n",
    "        DIR = '/home/lindb/eckertlab/wbp/bayenv2/nullruns/delete2/dir%s/SNPs' % dirCount\n",
    "        if os.path.exists(DIR):\n",
    "            new = '''\n",
    "cd %s\n",
    "pwd\n",
    "find -type f -name 'snp*' | parallel 'rm {}'\n",
    "cd ../..\n",
    "rm -r %s\n",
    "''' % (DIR,\n",
    "      DIR[:-4])\n",
    "            text = text + new\n",
    "        dirCount += 1\n",
    "        wCount += 1\n",
    "    filE = os.path.join('/home/lindb/eckertlab/wbp/bayenv2/nullruns/','0delete_SNPs_files_%s.sh' % str(i))\n",
    "    with open(filE,'w') as o:\n",
    "        o.write(\"%s\" % text)\n",
    "    o.close"
   ]
  },
  {
   "cell_type": "code",
   "execution_count": 0,
   "metadata": {
    "collapsed": true
   },
   "outputs": [],
   "source": [
    "#delete all of the unnecessary SNPFILES in old delete2/delete SNPs folders \n",
    "dirCount = 0\n",
    "for i in range(10):\n",
    "    text ='''#!/bin/bash\n",
    "#$ -N %s \n",
    "#$ -V\n",
    "#$ -j y\n",
    "#$ -cwd\n",
    "\n",
    "''' % ('del2del%s' % str(i))\n",
    "    \n",
    "    wCount = 0\n",
    "    while wCount < 10:\n",
    "        DIR = '/home/lindb/eckertlab/wbp/bayenv2/nullruns/delete2/delete/dir%s/SNPs' % dirCount\n",
    "        if os.path.exists(DIR):\n",
    "            new = '''\n",
    "cd %s\n",
    "pwd\n",
    "find -type f -name 'snp*' | parallel 'rm {}'\n",
    "cd ../..\n",
    "rm -r %s\n",
    "''' % (DIR,\n",
    "      DIR[:-4])\n",
    "            text = text + new\n",
    "        dirCount += 1\n",
    "        wCount += 1\n",
    "    filE = os.path.join('/home/lindb/eckertlab/wbp/bayenv2/nullruns/','1delete_deleteDIR_%s.sh' % str(i))\n",
    "    with open(filE,'w') as o:\n",
    "        o.write(\"%s\" % text)\n",
    "    o.close"
   ]
  },
  {
   "cell_type": "code",
   "execution_count": 0,
   "metadata": {
    "collapsed": false
   },
   "outputs": [],
   "source": [
    "dirCount"
   ]
  },
  {
   "cell_type": "code",
   "execution_count": 0,
   "metadata": {
    "collapsed": false
   },
   "outputs": [],
   "source": [
    "count =0\n",
    "while count <6:\n",
    "    print count\n",
    "    count += 1"
   ]
  },
  {
   "cell_type": "code",
   "execution_count": 0,
   "metadata": {
    "collapsed": false
   },
   "outputs": [],
   "source": [
    "dirCount = 0\n",
    "count = 0\n",
    "misLST = []\n",
    "for i in range(100):\n",
    "    DIR = DIR = '/home/lindb/eckertlab/wbp/bayenv2/nullruns/old_missing/dir%s/' % dirCount\n",
    "    if os.path.exists(DIR):\n",
    "        count += 1\n",
    "        misLST.append(dirCount)\n",
    "    dirCount += 1\n",
    "count"
   ]
  },
  {
   "cell_type": "code",
   "execution_count": 0,
   "metadata": {
    "collapsed": false
   },
   "outputs": [],
   "source": [
    "dirCount = 0\n",
    "count = 0\n",
    "impLST = []\n",
    "for i in range(100):\n",
    "    DIR = DIR = '/home/lindb/eckertlab/wbp/bayenv2/nullruns/old_imputed/dir%s/' % dirCount\n",
    "    if os.path.exists(DIR):\n",
    "        count += 1\n",
    "        impLST.append(dirCount)\n",
    "    dirCount += 1\n",
    "count"
   ]
  },
  {
   "cell_type": "code",
   "execution_count": 0,
   "metadata": {
    "collapsed": true
   },
   "outputs": [],
   "source": [
    "!qdel 1389671"
   ]
  },
  {
   "cell_type": "code",
   "execution_count": 0,
   "metadata": {
    "collapsed": false
   },
   "outputs": [],
   "source": [
    "DIR"
   ]
  },
  {
   "cell_type": "code",
   "execution_count": 0,
   "metadata": {
    "collapsed": true
   },
   "outputs": [],
   "source": [
    "for i in range(100):\n",
    "    DIR = '/home/lindb/eckertlab/wbp/bayenv2/nullruns/missing/dir%s' % str(i)\n",
    "    if os.path.exists(DIR):\n",
    "        files = os.listdir(DIR)\n",
    "        if not 'UnbinnedmissingSNPSFILE%s_HEADERROW.txt' % str(i) in files:\n",
    "            print DIR\n",
    "        else:\n",
    "            print \"yeay\""
   ]
  },
  {
   "cell_type": "code",
   "execution_count": 0,
   "metadata": {
    "collapsed": false
   },
   "outputs": [],
   "source": [
    "'bayenv2' in files"
   ]
  },
  {
   "cell_type": "code",
   "execution_count": 0,
   "metadata": {
    "collapsed": false
   },
   "outputs": [],
   "source": [
    "del(lst)"
   ]
  },
  {
   "cell_type": "code",
   "execution_count": 0,
   "metadata": {
    "collapsed": false
   },
   "outputs": [],
   "source": [
    "mislst = []\n",
    "for i in range(100):\n",
    "    DIR = '/home/lindb/eckertlab/wbp/bayenv2/nullruns/missing/dir%s' % str(i)\n",
    "    if not os.path.exists(DIR):\n",
    "        mislst.append('dir%s' % str(i))\n",
    "len(mislst),mislst"
   ]
  },
  {
   "cell_type": "code",
   "execution_count": 0,
   "metadata": {
    "collapsed": false
   },
   "outputs": [],
   "source": [
    "for DIR in mislst:\n",
    "    DIR = os.path.join('/home/lindb/eckertlab/wbp/bayenv2/extraNullruns/missing', DIR)\n",
    "    if not os.path.exists(DIR):\n",
    "        os.makedirs(DIR)"
   ]
  },
  {
   "cell_type": "code",
   "execution_count": 0,
   "metadata": {
    "collapsed": false
   },
   "outputs": [],
   "source": [
    "for i,DIR in enumerate(mislst): #make 100 runfiles to make SNPSFILES\n",
    "    text = '''print \"starting\"\n",
    "import sys\n",
    "import os, time\n",
    "import pandas as pd\n",
    "import numpy as np\n",
    "import scipy as sp\n",
    "import random\n",
    "from collections import OrderedDict\n",
    "from operator import itemgetter\n",
    "import random\n",
    "\n",
    "print \"loading missing data\"\n",
    "missingData = pd.read_csv('/home/lindb/eckertlab/wbp/bayenv2/missingDataHEADERIDX.txt',header=0,index_col=0,sep=\"\\\\t\")\n",
    "\n",
    "stpDF = pd.read_csv('/home/lindb/eckertlab/wbp/hierfstat/sampsTOpop.txt',header=0,sep=\"\\\\t\")\n",
    "\n",
    "stpnew = stpDF[stpDF['samp'].isin(missingData.index)]\n",
    "\n",
    "pops = np.unique(stpnew['pop']).tolist()\n",
    "\n",
    "print \"creating popDict\"\n",
    "popDict = OrderedDict()\n",
    "for pop in pops:\n",
    "    popDict[pop] = 0\n",
    "\n",
    "for row in stpnew.index:\n",
    "    POP = stpDF.loc[row,'pop']\n",
    "    popDict[POP] += 1\n",
    "\n",
    "idx = range(len(missingData.index))\n",
    "sampDict = OrderedDict()\n",
    "print \"assigning random samps to pops\"\n",
    "for pop in sorted(popDict.keys()): #randomly assign samples to pops\n",
    "    which = random.sample(idx,popDict[pop])\n",
    "    samps = itemgetter(*which)(missingData.index.tolist())\n",
    "    sampDict[pop] = missingData[missingData.index.isin(samps)]\n",
    "    idx = [x for x in idx if x not in which]\n",
    "\n",
    "locCount = 0\n",
    "nullDict = OrderedDict()\n",
    "print \"iterating loci\"\n",
    "for locus in missingData.columns:\n",
    "    nullDict[locus] = OrderedDict()\n",
    "\n",
    "    for pop in sorted(popDict.keys()):\n",
    "        data = sampDict[pop]\n",
    "        zero = str(data[locus]).count('0') #count the first homozygotes\n",
    "        one = str(data[locus]).count('1') #count the heterozygotes\n",
    "        two = str(data[locus]).count('2') #count the second homozygotes  \n",
    "        A1 = 2*zero + one\n",
    "        A2 = 2*two + one\n",
    "        if len(nullDict[locus].keys()) == 0:\n",
    "            nullDict[locus]['A1'] = OrderedDict()\n",
    "            nullDict[locus]['A2'] = OrderedDict()\n",
    "        nullDict[locus]['A1'][pop] = A1\n",
    "        nullDict[locus]['A2'][pop] = A2    \n",
    "    locCount += 1\n",
    "    if locCount %% 1000 == 0:\n",
    "        print locCount\n",
    "print \"writing file \", %d\n",
    "dIR = os.path.join('/home/lindb/eckertlab/wbp/bayenv2/extraNullruns/missing/', DIR)\n",
    "filE = os.path.join(dIR,'UnbinnedmissingSNPSFILE%%s_HEADERROW.txt' %% str(DIR[3:]))\n",
    "with open(filE, 'w') as o:\n",
    "    line = '\\\\t'.join([str(pop) for pop in sorted(popDict.keys())]) + str('\\\\n')\n",
    "    o.write(\"%%s\" %% line)\n",
    "    for locus in nullDict.keys():\n",
    "        for allele in nullDict[locus].keys():\n",
    "            line = str(locus) + '\\\\t' + '\\\\t'.join([str(x) for x in nullDict[locus][allele].values()]) + str('\\\\n')\n",
    "            #print locus,allele,line\n",
    "            o.write(\"%%s\" %% line)\n",
    "o.close()\n",
    "print 'writing noHEADERIDX', i\n",
    "df = pd.read_csv(filE,header=0,index_col=0,sep=\"\\\\t\")\n",
    "filE2 = os.path.join(dIR,'UnbinnedmissingSNPSFILE%%s_noHEADERIDX.txt' %% str(DIR[3:]))\n",
    "df.to_csv(filE2,header=False,index=False,sep=\"\\\\t\")\n",
    "print \"finishing up\"\n",
    "''' % i\n",
    "    FILE = '/home/lindb/eckertlab/wbp/bayenv2/extraNullruns/missing/mis_run%s.py' % DIR[3:]\n",
    "    with open(FILE,'w') as o:\n",
    "        o.write(text)\n",
    "    o.close"
   ]
  },
  {
   "cell_type": "code",
   "execution_count": 0,
   "metadata": {
    "collapsed": false
   },
   "outputs": [],
   "source": [
    "files = os.listdir('/home/lindb/eckertlab/wbp/bayenv2/extraNullruns/missing/')\n",
    "files = itemgetter(*[i for i,x in enumerate(files) if x.startswith('mis')])(files)\n",
    "for f in files:\n",
    "    text = '''#!/bin/bash\n",
    "#$ -N Mdata%s \n",
    "#$ -V\n",
    "#$ -j y\n",
    "#$ -cwd\n",
    "\n",
    "cd %s\n",
    "python %s\n",
    "''' % (f.split(\".\")[0][7:],\n",
    "       '/home/lindb/eckertlab/wbp/bayenv2/extraNullruns/missing/',\n",
    "       f)\n",
    "    filE = '/home/lindb/eckertlab/wbp/bayenv2/extraNullruns/missing/get_data%s.sh' % f.split(\".\")[0][7:]\n",
    "    with open(filE,'w') as o:\n",
    "        o.write(\"%s\" % text)\n",
    "    o.close()"
   ]
  },
  {
   "cell_type": "code",
   "execution_count": 0,
   "metadata": {
    "collapsed": false
   },
   "outputs": [],
   "source": [
    "files[2].split(\".\")[0][7:]"
   ]
  },
  {
   "cell_type": "code",
   "execution_count": 0,
   "metadata": {
    "collapsed": true
   },
   "outputs": [],
   "source": []
  },
  {
   "cell_type": "code",
   "execution_count": 0,
   "metadata": {
    "collapsed": true
   },
   "outputs": [],
   "source": []
  },
  {
   "cell_type": "code",
   "execution_count": 0,
   "metadata": {
    "collapsed": true
   },
   "outputs": [],
   "source": []
  },
  {
   "cell_type": "code",
   "execution_count": 0,
   "metadata": {
    "collapsed": true
   },
   "outputs": [],
   "source": []
  },
  {
   "cell_type": "code",
   "execution_count": 0,
   "metadata": {
    "collapsed": true
   },
   "outputs": [],
   "source": []
  },
  {
   "cell_type": "code",
   "execution_count": 0,
   "metadata": {
    "collapsed": true
   },
   "outputs": [],
   "source": []
  },
  {
   "cell_type": "code",
   "execution_count": 0,
   "metadata": {
    "collapsed": true
   },
   "outputs": [],
   "source": []
  },
  {
   "cell_type": "code",
   "execution_count": 0,
   "metadata": {
    "collapsed": true
   },
   "outputs": [],
   "source": []
  },
  {
   "cell_type": "code",
   "execution_count": 0,
   "metadata": {
    "collapsed": true
   },
   "outputs": [],
   "source": []
  },
  {
   "cell_type": "code",
   "execution_count": 0,
   "metadata": {
    "collapsed": true
   },
   "outputs": [],
   "source": []
  },
  {
   "cell_type": "code",
   "execution_count": 0,
   "metadata": {
    "collapsed": true
   },
   "outputs": [],
   "source": []
  },
  {
   "cell_type": "code",
   "execution_count": 0,
   "metadata": {
    "collapsed": true
   },
   "outputs": [],
   "source": []
  },
  {
   "cell_type": "code",
   "execution_count": 0,
   "metadata": {
    "collapsed": true
   },
   "outputs": [],
   "source": []
  },
  {
   "cell_type": "code",
   "execution_count": 0,
   "metadata": {
    "collapsed": true
   },
   "outputs": [],
   "source": []
  },
  {
   "cell_type": "code",
   "execution_count": 0,
   "metadata": {
    "collapsed": true
   },
   "outputs": [],
   "source": []
  },
  {
   "cell_type": "code",
   "execution_count": 0,
   "metadata": {
    "collapsed": true
   },
   "outputs": [],
   "source": []
  },
  {
   "cell_type": "code",
   "execution_count": 0,
   "metadata": {
    "collapsed": true
   },
   "outputs": [],
   "source": []
  },
  {
   "cell_type": "code",
   "execution_count": 0,
   "metadata": {
    "collapsed": true
   },
   "outputs": [],
   "source": []
  },
  {
   "cell_type": "code",
   "execution_count": 0,
   "metadata": {
    "collapsed": true
   },
   "outputs": [],
   "source": []
  },
  {
   "cell_type": "code",
   "execution_count": 0,
   "metadata": {
    "collapsed": true
   },
   "outputs": [],
   "source": []
  },
  {
   "cell_type": "code",
   "execution_count": 0,
   "metadata": {
    "collapsed": true
   },
   "outputs": [],
   "source": []
  },
  {
   "cell_type": "code",
   "execution_count": 0,
   "metadata": {
    "collapsed": true
   },
   "outputs": [],
   "source": []
  },
  {
   "cell_type": "code",
   "execution_count": 0,
   "metadata": {
    "collapsed": true
   },
   "outputs": [],
   "source": []
  },
  {
   "cell_type": "code",
   "execution_count": 0,
   "metadata": {
    "collapsed": true
   },
   "outputs": [],
   "source": []
  },
  {
   "cell_type": "code",
   "execution_count": 0,
   "metadata": {
    "collapsed": true
   },
   "outputs": [],
   "source": []
  },
  {
   "cell_type": "code",
   "execution_count": 0,
   "metadata": {
    "collapsed": true
   },
   "outputs": [],
   "source": []
  },
  {
   "cell_type": "code",
   "execution_count": 0,
   "metadata": {
    "collapsed": true
   },
   "outputs": [],
   "source": []
  },
  {
   "cell_type": "code",
   "execution_count": 0,
   "metadata": {
    "collapsed": true
   },
   "outputs": [],
   "source": []
  },
  {
   "cell_type": "code",
   "execution_count": 0,
   "metadata": {
    "collapsed": true
   },
   "outputs": [],
   "source": []
  },
  {
   "cell_type": "code",
   "execution_count": 0,
   "metadata": {
    "collapsed": true
   },
   "outputs": [],
   "source": []
  },
  {
   "cell_type": "code",
   "execution_count": 0,
   "metadata": {
    "collapsed": true
   },
   "outputs": [],
   "source": []
  },
  {
   "cell_type": "code",
   "execution_count": 0,
   "metadata": {
    "collapsed": true
   },
   "outputs": [],
   "source": []
  },
  {
   "cell_type": "code",
   "execution_count": 0,
   "metadata": {
    "collapsed": true
   },
   "outputs": [],
   "source": []
  },
  {
   "cell_type": "code",
   "execution_count": 0,
   "metadata": {
    "collapsed": true
   },
   "outputs": [],
   "source": []
  },
  {
   "cell_type": "code",
   "execution_count": 0,
   "metadata": {
    "collapsed": true
   },
   "outputs": [],
   "source": []
  },
  {
   "cell_type": "code",
   "execution_count": 0,
   "metadata": {
    "collapsed": true
   },
   "outputs": [],
   "source": []
  },
  {
   "cell_type": "code",
   "execution_count": 0,
   "metadata": {
    "collapsed": true
   },
   "outputs": [],
   "source": []
  },
  {
   "cell_type": "code",
   "execution_count": 0,
   "metadata": {
    "collapsed": true
   },
   "outputs": [],
   "source": []
  },
  {
   "cell_type": "code",
   "execution_count": 0,
   "metadata": {
    "collapsed": true
   },
   "outputs": [],
   "source": []
  },
  {
   "cell_type": "code",
   "execution_count": 0,
   "metadata": {
    "collapsed": true
   },
   "outputs": [],
   "source": []
  },
  {
   "cell_type": "code",
   "execution_count": 0,
   "metadata": {
    "collapsed": true
   },
   "outputs": [],
   "source": []
  },
  {
   "cell_type": "code",
   "execution_count": 0,
   "metadata": {
    "collapsed": true
   },
   "outputs": [],
   "source": []
  },
  {
   "cell_type": "code",
   "execution_count": 0,
   "metadata": {
    "collapsed": true
   },
   "outputs": [],
   "source": []
  },
  {
   "cell_type": "code",
   "execution_count": 0,
   "metadata": {
    "collapsed": true
   },
   "outputs": [],
   "source": []
  },
  {
   "cell_type": "code",
   "execution_count": 0,
   "metadata": {
    "collapsed": true
   },
   "outputs": [],
   "source": []
  },
  {
   "cell_type": "code",
   "execution_count": 0,
   "metadata": {
    "collapsed": true
   },
   "outputs": [],
   "source": []
  },
  {
   "cell_type": "code",
   "execution_count": 0,
   "metadata": {
    "collapsed": true
   },
   "outputs": [],
   "source": []
  },
  {
   "cell_type": "code",
   "execution_count": 0,
   "metadata": {
    "collapsed": true
   },
   "outputs": [],
   "source": []
  },
  {
   "cell_type": "code",
   "execution_count": 0,
   "metadata": {
    "collapsed": true
   },
   "outputs": [],
   "source": []
  },
  {
   "cell_type": "code",
   "execution_count": 0,
   "metadata": {
    "collapsed": true
   },
   "outputs": [],
   "source": []
  },
  {
   "cell_type": "code",
   "execution_count": 0,
   "metadata": {
    "collapsed": true
   },
   "outputs": [],
   "source": []
  },
  {
   "cell_type": "code",
   "execution_count": 0,
   "metadata": {
    "collapsed": true
   },
   "outputs": [],
   "source": []
  },
  {
   "cell_type": "code",
   "execution_count": 0,
   "metadata": {
    "collapsed": true
   },
   "outputs": [],
   "source": []
  },
  {
   "cell_type": "code",
   "execution_count": 0,
   "metadata": {
    "collapsed": true
   },
   "outputs": [],
   "source": []
  },
  {
   "cell_type": "code",
   "execution_count": 0,
   "metadata": {
    "collapsed": true
   },
   "outputs": [],
   "source": []
  },
  {
   "cell_type": "code",
   "execution_count": 0,
   "metadata": {
    "collapsed": true
   },
   "outputs": [],
   "source": []
  },
  {
   "cell_type": "code",
   "execution_count": 0,
   "metadata": {
    "collapsed": true
   },
   "outputs": [],
   "source": []
  },
  {
   "cell_type": "code",
   "execution_count": 0,
   "metadata": {
    "collapsed": true
   },
   "outputs": [],
   "source": []
  },
  {
   "cell_type": "code",
   "execution_count": 0,
   "metadata": {
    "collapsed": true
   },
   "outputs": [],
   "source": []
  },
  {
   "cell_type": "code",
   "execution_count": 0,
   "metadata": {
    "collapsed": true
   },
   "outputs": [],
   "source": []
  },
  {
   "cell_type": "code",
   "execution_count": 0,
   "metadata": {
    "collapsed": true
   },
   "outputs": [],
   "source": []
  },
  {
   "cell_type": "code",
   "execution_count": 0,
   "metadata": {
    "collapsed": true
   },
   "outputs": [],
   "source": []
  },
  {
   "cell_type": "code",
   "execution_count": 0,
   "metadata": {
    "collapsed": true
   },
   "outputs": [],
   "source": []
  },
  {
   "cell_type": "code",
   "execution_count": 0,
   "metadata": {
    "collapsed": true
   },
   "outputs": [],
   "source": []
  },
  {
   "cell_type": "code",
   "execution_count": 0,
   "metadata": {
    "collapsed": true
   },
   "outputs": [],
   "source": []
  },
  {
   "cell_type": "code",
   "execution_count": 0,
   "metadata": {
    "collapsed": true
   },
   "outputs": [],
   "source": []
  },
  {
   "cell_type": "code",
   "execution_count": 0,
   "metadata": {
    "collapsed": true
   },
   "outputs": [],
   "source": []
  },
  {
   "cell_type": "code",
   "execution_count": 0,
   "metadata": {
    "collapsed": true
   },
   "outputs": [],
   "source": []
  },
  {
   "cell_type": "code",
   "execution_count": 0,
   "metadata": {
    "collapsed": true
   },
   "outputs": [],
   "source": []
  }
 ],
 "metadata": {
  "kernelspec": {
   "display_name": "Python 2",
   "language": "python",
   "name": "python2"
  },
  "language_info": {
   "codemirror_mode": {
    "name": "ipython",
    "version": 2
   },
   "file_extension": ".py",
   "mimetype": "text/x-python",
   "name": "python",
   "nbconvert_exporter": "python",
   "pygments_lexer": "ipython2",
   "version": "2.7.10"
  }
 },
 "nbformat": 4,
 "nbformat_minor": 0
}
