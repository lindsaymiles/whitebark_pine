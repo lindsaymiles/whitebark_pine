{
 "cells": [
  {
   "cell_type": "code",
   "execution_count": 0,
   "metadata": {
    "collapsed": true
   },
   "outputs": [],
   "source": [
    "import os\n",
    "from collections import OrderedDict,Counter\n",
    "from __future__ import division\n",
    "import pandas as pd\n",
    "import numpy as np\n",
    "import vcf\n",
    "from operator import itemgetter\n",
    "import random\n",
    "import matplotlib.pyplot as plt\n",
    "import matplotlib.gridspec as gridspec\n",
    "from matplotlib.backends.backend_pdf import PdfPages\n",
    "import matplotlib.ticker as mtick\n",
    "%matplotlib inline"
   ]
  },
  {
   "cell_type": "markdown",
   "metadata": {},
   "source": [
    "#make SNPmat"
   ]
  },
  {
   "cell_type": "code",
   "execution_count": 0,
   "metadata": {
    "collapsed": false
   },
   "outputs": [],
   "source": [
    "#get the hierftrans for all SNPS, created above as infile for multilocus FST\n",
    "filE = '/home/lindb/eckertlab/wbp/hierfstat/hiertransIDXHEADER_missing.txt'\n",
    "%time mistrans = pd.read_csv(filE,header=0,index_col=0,sep=\"\\t\")\n",
    "mistrans.head()"
   ]
  },
  {
   "cell_type": "code",
   "execution_count": 0,
   "metadata": {
    "collapsed": false
   },
   "outputs": [],
   "source": [
    "#get pop assignment for each samp\n",
    "filE = '/home/lindb/eckertlab/wbp/hierfstat/sampsTOpop.txt'\n",
    "stp = pd.read_csv(filE,header=0,index_col='samp',sep=\"\\t\")\n",
    "stp.head()"
   ]
  },
  {
   "cell_type": "code",
   "execution_count": 0,
   "metadata": {
    "collapsed": false
   },
   "outputs": [],
   "source": [
    "merged = pd.merge(mistrans,stp,left_index=True,right_index=True)\n",
    "cols = ['pop'] + [col for col in merged.columns if 'NODE' in col]\n",
    "merged = merged[cols]\n",
    "merged.head()"
   ]
  },
  {
   "cell_type": "code",
   "execution_count": 0,
   "metadata": {
    "collapsed": false
   },
   "outputs": [],
   "source": [
    "len(merged.columns)"
   ]
  },
  {
   "cell_type": "code",
   "execution_count": 0,
   "metadata": {
    "collapsed": false
   },
   "outputs": [],
   "source": [
    "#replace hierftrans to 0,1,or 2\n",
    "%time merged = merged.replace([11,12,22,np.nan],[0,1,2,9])\n",
    "merged.head()"
   ]
  },
  {
   "cell_type": "code",
   "execution_count": 0,
   "metadata": {
    "collapsed": false
   },
   "outputs": [],
   "source": [
    "#make sure there aren't any weird data in the dataframe - like 'NAs' or 'np.nan'\n",
    "colcount = 0\n",
    "for col in merged.columns:\n",
    "    uni = np.unique(merged[col].tolist()).tolist()\n",
    "    if (uni==[0,1]) or (uni==[0,1,2]) or (uni==[1,2]) or (uni==[0,2]) or (uni==[0,1,9]) or (uni==[0,1,2,9]) or (uni==[1,2,9]):\n",
    "        1+1\n",
    "    else:\n",
    "        print col, np.unique(merged[col].tolist()).tolist()\n",
    "    colcount += 1"
   ]
  },
  {
   "cell_type": "code",
   "execution_count": 0,
   "metadata": {
    "collapsed": false
   },
   "outputs": [],
   "source": [
    "cols = [col for col in merged.columns if 'NODE' in col]\n",
    "snpmat = merged[cols]\n",
    "snpmat.head()"
   ]
  },
  {
   "cell_type": "code",
   "execution_count": 0,
   "metadata": {
    "collapsed": false
   },
   "outputs": [],
   "source": [
    "snpmat.shape"
   ]
  },
  {
   "cell_type": "code",
   "execution_count": 0,
   "metadata": {
    "collapsed": false
   },
   "outputs": [],
   "source": [
    "pops = pd.DataFrame(merged['pop'].tolist())\n",
    "pops.head()"
   ]
  },
  {
   "cell_type": "code",
   "execution_count": 0,
   "metadata": {
    "collapsed": true
   },
   "outputs": [],
   "source": [
    "filE = '/home/lindb/wbp/OutFLANK/missing/SNPmat_HEADERIDX.txt'\n",
    "filE2 = '/home/lindb/wbp/OutFLANK/missing/SNPmat_noHEADERIDX.txt'\n",
    "snpmat.to_csv(filE,header=True,index=True,sep=\"\\t\")\n",
    "snpmat.to_csv(filE2,header=None,index=False,sep=\"\\t\")\n",
    "\n",
    "popfile = '/home/lindb/wbp/OutFLANK/missing/SNPmat_popNames.txt'\n",
    "pops.to_csv(popfile,header=True,index=False,sep=\"\\t\")"
   ]
  },
  {
   "cell_type": "code",
   "execution_count": 0,
   "metadata": {
    "collapsed": false
   },
   "outputs": [],
   "source": [
    "print \"finally\""
   ]
  },
  {
   "cell_type": "code",
   "execution_count": 0,
   "metadata": {
    "collapsed": true
   },
   "outputs": [],
   "source": [
    "locfile = '/home/lindb/wbp/OutFLANK/missing/SNPmat_locusNames.txt'\n",
    "cols = pd.DataFrame(snpmat.columns)\n",
    "cols.to_csv(locfile,header=None,index=False,sep=\"\\t\")"
   ]
  },
  {
   "cell_type": "code",
   "execution_count": 0,
   "metadata": {
    "collapsed": false
   },
   "outputs": [],
   "source": [
    "len(cols.index)"
   ]
  },
  {
   "cell_type": "code",
   "execution_count": 0,
   "metadata": {
    "collapsed": false
   },
   "outputs": [],
   "source": [
    "pops.shape"
   ]
  },
  {
   "cell_type": "code",
   "execution_count": 0,
   "metadata": {
    "collapsed": false
   },
   "outputs": [],
   "source": [
    "test = pd.read_csv(filE2,header=None,sep=\"\\t\")\n",
    "test.shape"
   ]
  },
  {
   "cell_type": "markdown",
   "metadata": {},
   "source": [
    "# Put into R\n",
    "```R\n",
    "library(OutFLANK)\n",
    "library(data.frame)\n",
    "\n",
    "SNPmat = data.frame(fread('/home/lindb/wbp/OutFLANK/missing/SNPmat_noHEADERIDX.txt',header=F,sep=\"\\t\"))\n",
    "\n",
    "locusNames = read.csv('/home/lindb/wbp/OutFLANK/missing/SNPmat_locusNames.txt',header=F,sep=\"\\t\")\n",
    "\n",
    "popNames = read.csv('/home/lindb/wbp/OutFLANK/missing/SNPmat_popNames.txt',header=F,sep=\"\\t\")\n",
    "\n",
    "FstDataFrame = MakeDiploidFSTMat(SNPmat,locusNames,popNames)\n",
    "\n",
    "out = OutFLANK(FstDataFrame = FstDataFrame,NumberOfSamples = 8)\n",
    "\n",
    "df = out$results\n",
    "\n",
    "outliers = df[which(df$OutlierFlag == 'TRUE'),]\n",
    "\n",
    "loci = outliers$LocusName\n",
    "\n",
    "write.table(df,'/home/lindb/wbp/OutFLANK/missing/OutFLANK_results.txt',row.names=F,col.names=T,sep='\\t')\n",
    "\n",
    "write.table(loci,'/home/lindb/wbp/OutFLANK/missing/OutFLANK_snps.txt',row.names=F,sep='\\t')\n",
    "\n",
    "```"
   ]
  },
  {
   "cell_type": "code",
   "execution_count": 0,
   "metadata": {
    "collapsed": true
   },
   "outputs": [],
   "source": [
    "outliers = pd.read_csv('/home/lindb/wbp/OutFLANK/missing/OutFLANK_snps.txt')\n",
    "outliers"
   ]
  },
  {
   "cell_type": "code",
   "execution_count": 0,
   "metadata": {
    "collapsed": false
   },
   "outputs": [],
   "source": [
    "outlierloci = outliers['x'].tolist()\n",
    "outlierloci[0:9]"
   ]
  },
  {
   "cell_type": "markdown",
   "metadata": {},
   "source": [
    "#get bayenv2 loci"
   ]
  },
  {
   "cell_type": "code",
   "execution_count": 0,
   "metadata": {
    "collapsed": false
   },
   "outputs": [],
   "source": [
    "#get a list of files with snps IDed by bayenv2\n",
    "DIR = '/home/lindb/wbp/bayenv2/Final/missing/'\n",
    "files = os.listdir(DIR)\n",
    "files = [os.path.join(DIR,f) for f in files if not f.startswith('missing')]\n",
    "len(files)"
   ]
  },
  {
   "cell_type": "code",
   "execution_count": 0,
   "metadata": {
    "collapsed": false
   },
   "outputs": [],
   "source": [
    "#make a list of snps across envs\n",
    "snpLST = []\n",
    "snpDict = OrderedDict()\n",
    "for f in files:\n",
    "    env = os.path.basename(f).split(\"_\")[0]\n",
    "    df = pd.read_csv(f,header=0,sep=\"\\t\")\n",
    "    loci = df[env].tolist()\n",
    "    snpDict[env] = loci\n",
    "    for locus in loci:\n",
    "        if not locus in snpLST:\n",
    "            snpLST.append(locus)"
   ]
  },
  {
   "cell_type": "code",
   "execution_count": 0,
   "metadata": {
    "collapsed": false
   },
   "outputs": [],
   "source": [
    "len(snpLST)"
   ]
  },
  {
   "cell_type": "code",
   "execution_count": 0,
   "metadata": {
    "collapsed": false
   },
   "outputs": [],
   "source": [
    "#see if the outlier loci are in the bayenv2 list (snpLST)\n",
    "for locus in outlierloci:\n",
    "    for env in snpDict.keys():\n",
    "        if locus in snpDict[env]:\n",
    "            print locus,env"
   ]
  },
  {
   "cell_type": "markdown",
   "metadata": {},
   "source": [
    "#get piMASS loci"
   ]
  },
  {
   "cell_type": "code",
   "execution_count": 0,
   "metadata": {
    "collapsed": false
   },
   "outputs": [],
   "source": [
    "#get a list of files with snps IDed by piMASS\n",
    "DIR = '/home/lindb/wbp/piMASS/analyses2/7xstringent'\n",
    "files = os.listdir(DIR)\n",
    "files = [os.path.join(DIR,f) for f in files if 'mis' in f]\n",
    "len(files)"
   ]
  },
  {
   "cell_type": "code",
   "execution_count": 0,
   "metadata": {
    "collapsed": false
   },
   "outputs": [],
   "source": [
    "psnpLST = []\n",
    "for f in files:\n",
    "    pheno = os.path.basename(f).split(\"_\")[:-1]\n",
    "    df = pd.read_csv(f,header=0,sep=\"\\t\")\n",
    "    loci = df['rs'].tolist()\n",
    "    for locus in loci:\n",
    "        if not locus in psnpLST:\n",
    "            psnpLST.append(locus)\n",
    "len(psnpLST)"
   ]
  },
  {
   "cell_type": "code",
   "execution_count": 0,
   "metadata": {
    "collapsed": true
   },
   "outputs": [],
   "source": [
    "#see if the outlier loci are in the bayenv2 list (snpLST)\n",
    "for locus in outlierloci:\n",
    "    if locus in psnpLST:\n",
    "        print locus,'in psnpLST'"
   ]
  },
  {
   "cell_type": "code",
   "execution_count": 0,
   "metadata": {
    "collapsed": true
   },
   "outputs": [],
   "source": []
  },
  {
   "cell_type": "code",
   "execution_count": 0,
   "metadata": {
    "collapsed": true
   },
   "outputs": [],
   "source": []
  },
  {
   "cell_type": "code",
   "execution_count": 0,
   "metadata": {
    "collapsed": true
   },
   "outputs": [],
   "source": []
  },
  {
   "cell_type": "code",
   "execution_count": 0,
   "metadata": {
    "collapsed": true
   },
   "outputs": [],
   "source": []
  },
  {
   "cell_type": "code",
   "execution_count": 0,
   "metadata": {
    "collapsed": true
   },
   "outputs": [],
   "source": []
  },
  {
   "cell_type": "code",
   "execution_count": 0,
   "metadata": {
    "collapsed": true
   },
   "outputs": [],
   "source": []
  },
  {
   "cell_type": "code",
   "execution_count": 0,
   "metadata": {
    "collapsed": true
   },
   "outputs": [],
   "source": []
  },
  {
   "cell_type": "code",
   "execution_count": 0,
   "metadata": {
    "collapsed": true
   },
   "outputs": [],
   "source": []
  },
  {
   "cell_type": "code",
   "execution_count": 0,
   "metadata": {
    "collapsed": true
   },
   "outputs": [],
   "source": []
  }
 ],
 "metadata": {
  "kernelspec": {
   "display_name": "Python 2",
   "language": "python",
   "name": "python2"
  },
  "language_info": {
   "codemirror_mode": {
    "name": "ipython",
    "version": 2
   },
   "file_extension": ".py",
   "mimetype": "text/x-python",
   "name": "python",
   "nbconvert_exporter": "python",
   "pygments_lexer": "ipython2",
   "version": "2.7.10"
  }
 },
 "nbformat": 4,
 "nbformat_minor": 0
}
