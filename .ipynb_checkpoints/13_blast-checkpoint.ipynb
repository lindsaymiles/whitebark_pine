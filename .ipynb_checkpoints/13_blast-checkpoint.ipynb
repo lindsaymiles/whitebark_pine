{
 "cells": [
  {
   "cell_type": "code",
   "execution_count": 0,
   "metadata": {
    "collapsed": false
   },
   "outputs": [],
   "source": [
    "import pandas as pd\n",
    "import numpy as np\n",
    "from Bio import SeqIO\n",
    "import os\n",
    "from Bio.Blast import NCBIXML\n",
    "import matplotlib.pyplot as plt\n",
    "from BCBio import GFF\n",
    "from pprint import pprint\n",
    "import dill\n",
    "from IPython.display import FileLink\n",
    "import xml.etree.ElementTree as ET\n",
    "import stopwatch\n",
    "from __future__ import division\n",
    "%matplotlib inline\n",
    "from Bio import SeqFeature\n",
    "from Bio.SeqFeature import FeatureLocation, ExactPosition\n",
    "from os import path as op\n",
    "from os import listdir as ls\n",
    "from Bio.Blast.Applications import NcbiblastxCommandline\n"
   ]
  },
  {
   "cell_type": "code",
   "execution_count": 0,
   "metadata": {
    "collapsed": false
   },
   "outputs": [],
   "source": [
    "#get my SNPs\n",
    "filE = '/home/lindb/wbp/bayenv2/UnbinnedImputedSNPSFILE.txt'\n",
    "df = pd.read_csv(filE,header=0,index_col=0,sep='\\t')\n",
    "df = pd.DataFrame(df.T)\n",
    "snps = list(np.unique(df.columns))\n",
    "contigs = set([\"_\".join(snp.split(\"_\")[:-1]) for snp in snps])"
   ]
  },
  {
   "cell_type": "code",
   "execution_count": 0,
   "metadata": {
    "collapsed": true
   },
   "outputs": [],
   "source": [
    "assembly = '/home/lindb/wbp/concatenated/velvet/auto_data_45/contigs.fa'"
   ]
  },
  {
   "cell_type": "code",
   "execution_count": 0,
   "metadata": {
    "collapsed": false
   },
   "outputs": [],
   "source": [
    "count = 0\n",
    "out = open(op.join(op.dirname(assembly), \"contigs_with_snps.fa\"), \"w\")\n",
    "reads = []\n",
    "for read in SeqIO.parse(assembly, \"fasta\"):\n",
    "    if read.id in contigs:\n",
    "        reads.append(read)\n",
    "        count += 1\n",
    "SeqIO.write(reads, out, \"fasta\")\n",
    "out.close()\n",
    "print out.name"
   ]
  },
  {
   "cell_type": "code",
   "execution_count": 0,
   "metadata": {
    "collapsed": false
   },
   "outputs": [],
   "source": [
    "!grep -c \">\" {out.name}"
   ]
  },
  {
   "cell_type": "code",
   "execution_count": 0,
   "metadata": {
    "collapsed": true
   },
   "outputs": [],
   "source": [
    "#make BLAST db\n",
    "!~/g/src/ncbi-blast-2.3.0+/bin/makeblastdb -in \\\n",
    "/home/lindb/eckertlab/SugarPine_genome/pila.v1.0.scafSeq -dbtype nucl"
   ]
  },
  {
   "cell_type": "code",
   "execution_count": 0,
   "metadata": {
    "collapsed": true
   },
   "outputs": [],
   "source": [
    "cmd = '/home/lindb/g/src/ncbi-blast-2.3.0+/bin/blastn -out /home/lindb/wbp/blast/wbp_blast_116231snps_out2.txt -outfmt 6 \\\n",
    "-query /home/lindb/wbp/blast/contigs_with_snps.fa -evalue 1e-05 -max_target_seqs 5 \\\n",
    "-num_threads 20 -db /home/lindb/eckertlab/SugarPine_genome/pila.v1.0.scafSeq' "
   ]
  },
  {
   "cell_type": "code",
   "execution_count": 0,
   "metadata": {
    "collapsed": false
   },
   "outputs": [],
   "source": [
    "outdir = '/home/lindb/wbp/blast/'\n",
    "with open(os.path.join(outdir, \"blast.sh\"), \"w\") as o:\n",
    "    o.write(\"%s\\n\" % cmd)"
   ]
  },
  {
   "cell_type": "markdown",
   "metadata": {
    "collapsed": true
   },
   "source": [
    "    ~/bin/parallel --no-notice --bar -a blast.sh"
   ]
  },
  {
   "cell_type": "code",
   "execution_count": 0,
   "metadata": {
    "collapsed": false
   },
   "outputs": [],
   "source": [
    "df=pd.read_csv('/home/lindb/wbp/blast/wbp_blast_116231snps_out2.txt',header=None,sep='\\t')\n",
    "df.head()"
   ]
  },
  {
   "cell_type": "code",
   "execution_count": 0,
   "metadata": {
    "collapsed": false
   },
   "outputs": [],
   "source": [
    "len(np.unique(df[0]))"
   ]
  },
  {
   "cell_type": "code",
   "execution_count": 0,
   "metadata": {
    "collapsed": false
   },
   "outputs": [],
   "source": [
    "len(df.index)"
   ]
  },
  {
   "cell_type": "code",
   "execution_count": 0,
   "metadata": {
    "collapsed": false
   },
   "outputs": [],
   "source": [
    "len(np.unique(df[1]))"
   ]
  },
  {
   "cell_type": "code",
   "execution_count": 0,
   "metadata": {
    "collapsed": false
   },
   "outputs": [],
   "source": [
    "timer = stopwatch.Timer()\n",
    "query_percs = []\n",
    "id_percs = []\n",
    "good_hits  = 0\n",
    "good_queries = 0\n",
    "query_min = 50\n",
    "id_min = 75\n",
    "total_recs = 0\n",
    "query_lens = []\n",
    "good_hit_info = {'len':[], 'len_perc':[], 'id_perc':[]}\n",
    "for i, record in enumerate(NCBIXML.parse(open(blast_file))):\n",
    "    if len(record.alignments) > 0:\n",
    "        snp_data.loc[record.query,\"hits\"] = \"\"\n",
    "        hit_defs = set()\n",
    "        for aln in record.alignments:\n",
    "            for hsp in aln.hsps:\n",
    "                query_perc = ((hsp.query_end - hsp.query_start)+1)*100.0/record.query_length\n",
    "                query_percs.append(query_perc)\n",
    "                query_lens.append(record.query_length)\n",
    "                id_perc = hsp.identities*100.0/hsp.align_length\n",
    "                id_percs.append(id_perc)\n",
    "                if (query_perc >= query_min) and (id_perc >= id_min):\n",
    "                    hit_defs.add(\"%s:%d:%d\" % (aln.hit_def, hsp.sbjct_start, hsp.sbjct_end))\n",
    "                    good_hits += 1\n",
    "                    good_hit_info['len'].append(record.query_length)\n",
    "                    good_hit_info['len_perc'].append(query_perc)\n",
    "                    good_hit_info['id_perc'].append(id_perc)\n",
    "        if len(hit_defs) > 0:\n",
    "            good_queries += 1\n",
    "            snp_data.loc[record.query,\"hits\"] = \"|\".join(hit_defs)\n",
    "    total_recs += 1\n",
    "#     if i == 100:\n",
    "#         break\n",
    "\n",
    "#make sure blank columns are nan\n",
    "snp_data.hits = snp_data.hits.replace(\"\", np.nan)\n",
    "\n",
    "timer.stop()\n",
    "print \"found %d good hits (%d queries) out of %d records (%.2f%%) in %s \" % (good_hits, \n",
    "                                                                             good_queries,\n",
    "                                                                             total_recs, \n",
    "                                                                             good_queries*100.0/total_recs, \n",
    "                                                                             timer)"
   ]
  },
  {
   "cell_type": "code",
   "execution_count": 0,
   "metadata": {
    "collapsed": true
   },
   "outputs": [],
   "source": []
  },
  {
   "cell_type": "code",
   "execution_count": 0,
   "metadata": {
    "collapsed": true
   },
   "outputs": [],
   "source": []
  },
  {
   "cell_type": "code",
   "execution_count": 0,
   "metadata": {
    "collapsed": true
   },
   "outputs": [],
   "source": []
  },
  {
   "cell_type": "code",
   "execution_count": 0,
   "metadata": {
    "collapsed": true
   },
   "outputs": [],
   "source": []
  },
  {
   "cell_type": "code",
   "execution_count": 0,
   "metadata": {
    "collapsed": true
   },
   "outputs": [],
   "source": []
  },
  {
   "cell_type": "code",
   "execution_count": 0,
   "metadata": {
    "collapsed": true
   },
   "outputs": [],
   "source": []
  },
  {
   "cell_type": "code",
   "execution_count": 0,
   "metadata": {
    "collapsed": true
   },
   "outputs": [],
   "source": []
  },
  {
   "cell_type": "code",
   "execution_count": 0,
   "metadata": {
    "collapsed": true
   },
   "outputs": [],
   "source": []
  },
  {
   "cell_type": "code",
   "execution_count": 0,
   "metadata": {
    "collapsed": true
   },
   "outputs": [],
   "source": []
  },
  {
   "cell_type": "code",
   "execution_count": 0,
   "metadata": {
    "collapsed": true
   },
   "outputs": [],
   "source": []
  },
  {
   "cell_type": "code",
   "execution_count": 0,
   "metadata": {
    "collapsed": true
   },
   "outputs": [],
   "source": []
  },
  {
   "cell_type": "code",
   "execution_count": 0,
   "metadata": {
    "collapsed": true
   },
   "outputs": [],
   "source": []
  },
  {
   "cell_type": "code",
   "execution_count": 0,
   "metadata": {
    "collapsed": true
   },
   "outputs": [],
   "source": []
  },
  {
   "cell_type": "code",
   "execution_count": 0,
   "metadata": {
    "collapsed": true
   },
   "outputs": [],
   "source": []
  },
  {
   "cell_type": "code",
   "execution_count": 0,
   "metadata": {
    "collapsed": true
   },
   "outputs": [],
   "source": []
  },
  {
   "cell_type": "code",
   "execution_count": 0,
   "metadata": {
    "collapsed": true
   },
   "outputs": [],
   "source": []
  },
  {
   "cell_type": "code",
   "execution_count": 0,
   "metadata": {
    "collapsed": true
   },
   "outputs": [],
   "source": []
  },
  {
   "cell_type": "code",
   "execution_count": 0,
   "metadata": {
    "collapsed": true
   },
   "outputs": [],
   "source": []
  },
  {
   "cell_type": "code",
   "execution_count": 0,
   "metadata": {
    "collapsed": true
   },
   "outputs": [],
   "source": []
  },
  {
   "cell_type": "code",
   "execution_count": 0,
   "metadata": {
    "collapsed": true
   },
   "outputs": [],
   "source": []
  },
  {
   "cell_type": "code",
   "execution_count": 0,
   "metadata": {
    "collapsed": true
   },
   "outputs": [],
   "source": []
  },
  {
   "cell_type": "code",
   "execution_count": 0,
   "metadata": {
    "collapsed": true
   },
   "outputs": [],
   "source": []
  },
  {
   "cell_type": "code",
   "execution_count": 0,
   "metadata": {
    "collapsed": true
   },
   "outputs": [],
   "source": []
  },
  {
   "cell_type": "code",
   "execution_count": 0,
   "metadata": {
    "collapsed": true
   },
   "outputs": [],
   "source": []
  }
 ],
 "metadata": {
  "kernelspec": {
   "display_name": "Python 2",
   "language": "python",
   "name": "python2"
  },
  "language_info": {
   "codemirror_mode": {
    "name": "ipython",
    "version": 2
   },
   "file_extension": ".py",
   "mimetype": "text/x-python",
   "name": "python",
   "nbconvert_exporter": "python",
   "pygments_lexer": "ipython2",
   "version": "2.7.11"
  }
 },
 "nbformat": 4,
 "nbformat_minor": 0
}
