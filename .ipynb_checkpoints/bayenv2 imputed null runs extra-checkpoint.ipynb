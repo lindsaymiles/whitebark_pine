{
 "cells": [
  {
   "cell_type": "code",
   "execution_count": 0,
   "metadata": {
    "collapsed": true
   },
   "outputs": [],
   "source": [
    "import sys, os, time\n",
    "import pandas as pd\n",
    "import numpy as np\n",
    "import vcf\n",
    "import random\n",
    "from collections import OrderedDict\n",
    "from operator import itemgetter\n",
    "from collections import defaultdict\n",
    "from __future__ import division\n",
    "import math\n",
    "import shutil"
   ]
  },
  {
   "cell_type": "code",
   "execution_count": 0,
   "metadata": {
    "collapsed": false
   },
   "outputs": [],
   "source": [
    "#find the dirs that were deleted\n",
    "dlst = []\n",
    "for i in range(100):\n",
    "    d = 'dir%s' % str(i)\n",
    "    DIR = '/home/lindb/wbp/bayenv2/nullruns/imputed/%s' % d\n",
    "    if not os.path.exists(DIR):\n",
    "        dlst.append(d)\n",
    "len(dlst)"
   ]
  },
  {
   "cell_type": "code",
   "execution_count": 0,
   "metadata": {
    "collapsed": false
   },
   "outputs": [],
   "source": [
    "dlst"
   ]
  },
  {
   "cell_type": "code",
   "execution_count": 0,
   "metadata": {
    "collapsed": true
   },
   "outputs": [],
   "source": [
    "#make the dirs\n",
    "for d in dlst:\n",
    "    DIR = '/home/lindb/wbp/bayenv2/nullruns/imputed/extra/%s' % d\n",
    "    if not os.path.exists(DIR):\n",
    "        os.makedirs(DIR)"
   ]
  },
  {
   "cell_type": "code",
   "execution_count": 0,
   "metadata": {
    "collapsed": false
   },
   "outputs": [],
   "source": [
    "os.path.exists(\"/home/lindb/eckertlab/wbp/hierfstat/sampsTOpop.txt\")"
   ]
  },
  {
   "cell_type": "code",
   "execution_count": 0,
   "metadata": {
    "collapsed": false
   },
   "outputs": [],
   "source": [
    "for d in dlst: #make 100 runfiles to make SNPSFILES\n",
    "    text = '''print \"starting\"\n",
    "import sys\n",
    "import os, time\n",
    "import pandas as pd\n",
    "import numpy as np\n",
    "import scipy as sp\n",
    "import random\n",
    "from collections import OrderedDict\n",
    "from operator import itemgetter\n",
    "import random\n",
    "\n",
    "print \"importing data\"\n",
    "imputedData = pd.read_csv('/home/lindb/eckertlab/wbp/bayenv2/imputedDataHEADERIDX.txt',header=0,index_col=0,sep=\"\\\\t\")\n",
    "print \"done importing\"\n",
    "\n",
    "stpDF = pd.read_csv('/home/lindb/eckertlab/wbp/hierfstat/sampsTOpop.txt',header=0,sep=\"\\\\t\")\n",
    "\n",
    "stpnew = stpDF[stpDF['samp'].isin(imputedData.index)]\n",
    "\n",
    "pops = np.unique(stpnew['pop']).tolist()\n",
    "\n",
    "popDict = OrderedDict()\n",
    "for pop in pops:\n",
    "    popDict[pop] = 0\n",
    "\n",
    "for row in stpnew.index:\n",
    "    POP = stpDF.loc[row,'pop']\n",
    "    popDict[POP] += 1\n",
    "\n",
    "\n",
    "print \"creating idx\"\n",
    "idx = range(len(imputedData.index))\n",
    "sampDict = OrderedDict()\n",
    "print \"assigning random samps to pops\"\n",
    "for pop in sorted(popDict.keys()): #randomly assign samples to pops\n",
    "    which = random.sample(idx,popDict[pop])\n",
    "    samps = itemgetter(*which)(imputedData.index.tolist())\n",
    "    sampDict[pop] = imputedData[imputedData.index.isin(samps)]\n",
    "    idx = [x for x in idx if x not in which]\n",
    "\n",
    "locCount = 0\n",
    "nullDict = OrderedDict()\n",
    "print \"iterating loci\"\n",
    "for locus in imputedData.columns:\n",
    "    nullDict[locus] = OrderedDict()\n",
    "\n",
    "    for pop in sorted(popDict.keys()):\n",
    "        data = sampDict[pop]\n",
    "        zero = str(data[locus]).count('0') #count the first homozygotes\n",
    "        one = str(data[locus]).count('1') #count the heterozygotes\n",
    "        two = str(data[locus]).count('2') #count the second homozygotes  \n",
    "        A1 = 2*zero + one\n",
    "        A2 = 2*two + one\n",
    "        if len(nullDict[locus].keys()) == 0:\n",
    "            nullDict[locus]['A1'] = OrderedDict()\n",
    "            nullDict[locus]['A2'] = OrderedDict()\n",
    "        nullDict[locus]['A1'][pop] = A1\n",
    "        nullDict[locus]['A2'][pop] = A2    \n",
    "    locCount += 1\n",
    "    if locCount %% 1000 == 0:\n",
    "        print locCount\n",
    "print \"writing file, iteration %s\"\n",
    "filE = '/home/lindb/eckertlab/wbp/bayenv2/nullruns/imputed/extra/UnbinnedImputedSNPSFILE%s_HEADERROW.txt' \n",
    "with open(filE, 'w') as o:\n",
    "    line = '\\\\t'.join([str(pop) for pop in sorted(popDict.keys())]) + str('\\\\n')\n",
    "    o.write(\"%%s\" %% line)\n",
    "    for locus in nullDict.keys():\n",
    "        for allele in nullDict[locus].keys():\n",
    "            line = str(locus) + '\\\\t' + '\\\\t'.join([str(x) for x in nullDict[locus][allele].values()]) + str('\\\\n')\n",
    "            #print locus,allele,line\n",
    "            o.write(\"%%s\" %% line)\n",
    "o.close()\n",
    "''' % (str(d[3:]),str(d[3:]))\n",
    "    FILE = '/home/lindb/eckertlab/wbp/bayenv2/nullruns/imputed/extra/imp_run%s.py' % str(d[3:])\n",
    "    with open(FILE,'w') as o:\n",
    "        o.write(text)\n",
    "    o.close"
   ]
  },
  {
   "cell_type": "code",
   "execution_count": 0,
   "metadata": {
    "collapsed": false
   },
   "outputs": [],
   "source": [
    "files = os.listdir('/home/lindb/eckertlab/wbp/bayenv2/nullruns/imputed/extra/')\n",
    "files = [os.path.join('/home/lindb/eckertlab/wbp/bayenv2/nullruns/imputed/extra/',f) for f in files if f.startswith('imp')]\n",
    "len(files)"
   ]
  },
  {
   "cell_type": "code",
   "execution_count": 0,
   "metadata": {
    "collapsed": false
   },
   "outputs": [],
   "source": [
    "for f in files:\n",
    "    print f"
   ]
  },
  {
   "cell_type": "code",
   "execution_count": 0,
   "metadata": {
    "collapsed": false
   },
   "outputs": [],
   "source": [
    "for f in files:\n",
    "    num = f.split(\"/\")[-1].split(\".\")[0][7:]\n",
    "    text = '''#!/bin/bash\n",
    "#$ -N extra%s\n",
    "#$ -V\n",
    "#$ -j y\n",
    "#$ -cwd\n",
    "python %s\n",
    "''' % (str(num),f)\n",
    "    filE = '/home/lindb/wbp/bayenv2/nullruns/imputed/extra/imp_run%s.sh' % str(num)\n",
    "    with open(filE,'w') as o:\n",
    "        o.write(\"%s\" % text)\n",
    "    o.close()"
   ]
  },
  {
   "cell_type": "code",
   "execution_count": 0,
   "metadata": {
    "collapsed": false
   },
   "outputs": [],
   "source": [
    "files = os.listdir('/home/lindb/wbp/bayenv2/nullruns/imputed/extra/')\n",
    "files = [os.path.join('/home/lindb/wbp/bayenv2/nullruns/imputed/extra/',f) for f in files if f.startswith('Un')]\n",
    "len(files)"
   ]
  },
  {
   "cell_type": "code",
   "execution_count": 0,
   "metadata": {
    "collapsed": false
   },
   "outputs": [],
   "source": [
    "for f in files:\n",
    "    fname = os.path.basename(f)\n",
    "    fpart = fname.split(\"_\")[0]\n",
    "    df = pd.read_csv(f,header=0,index_col=0,sep=\"\\t\")\n",
    "    filE = os.path.join(os.path.dirname(f),fpart+'_noHEADERIDX.txt')\n",
    "    df.to_csv(filE,header=False,index=False,sep=\"\\t\")"
   ]
  },
  {
   "cell_type": "code",
   "execution_count": 0,
   "metadata": {
    "collapsed": false
   },
   "outputs": [],
   "source": [
    "files = os.listdir('/home/lindb/wbp/bayenv2/nullruns/imputed/extra/')\n",
    "files = [os.path.join('/home/lindb/wbp/bayenv2/nullruns/imputed/extra/',f) for f in files if f.startswith('Un')]\n",
    "len(files)"
   ]
  },
  {
   "cell_type": "code",
   "execution_count": 0,
   "metadata": {
    "collapsed": true
   },
   "outputs": [],
   "source": [
    "for f in files:\n",
    "    print f\n",
    "    fname = os.path.basename(f)\n",
    "    num = fname.split(\"_\")[0][23:]\n",
    "    dst = '/home/lindb/wbp/bayenv2/nullruns/imputed/extra/dir%s/%s' % (str(num),fname)\n",
    "    shutil.copy(f,dst)"
   ]
  },
  {
   "cell_type": "code",
   "execution_count": 0,
   "metadata": {
    "collapsed": false
   },
   "outputs": [],
   "source": [
    "EF = '/home/lindb/eckertlab/wbp/bayenv2/ENVIRONFILE.txt'\n",
    "bayenv = '/home/lindb/eckertlab/wbp/bayenv2/bayenv2'"
   ]
  },
  {
   "cell_type": "code",
   "execution_count": 0,
   "metadata": {
    "collapsed": false
   },
   "outputs": [],
   "source": [
    "for d in dlst:\n",
    "    DIR = os.path.join('/home/lindb/wbp/bayenv2/nullruns/imputed/extra/%s' % d)\n",
    "    shutil.copy(bayenv,DIR)\n",
    "    shutil.copy(EF,DIR)"
   ]
  },
  {
   "cell_type": "code",
   "execution_count": 0,
   "metadata": {
    "collapsed": false
   },
   "outputs": [],
   "source": [
    "for d in dlst:\n",
    "    DIR = os.path.join('/home/lindb/wbp/bayenv2/nullruns/imputed/extra/%s' % d)\n",
    "    num = d[3:]\n",
    "    text = '''#!/bin/bash\n",
    "#$ -N imp%s \n",
    "#$ -V\n",
    "#$ -j y\n",
    "#$ -cwd\n",
    "\n",
    "cd %s\n",
    "./bayenv2 -i UnbinnedImputedSNPSFILE%s_noHEADERIDX.txt -p 8 -k 100000 -r %s > matrix_%s.out\n",
    "''' % (str(num),\n",
    "    DIR,\n",
    "    str(num),\n",
    "    str(random.sample(range(1000000),1)[0]),\n",
    "    str(num))\n",
    "    filE = os.path.join(DIR,'%s_matrix_est.sh' % str(num))\n",
    "    with open(filE,'w') as o:\n",
    "        o.write(\"%s\" % text)\n",
    "    o.close()"
   ]
  },
  {
   "cell_type": "code",
   "execution_count": 0,
   "metadata": {
    "collapsed": false
   },
   "outputs": [],
   "source": [
    "str(num)"
   ]
  },
  {
   "cell_type": "code",
   "execution_count": 0,
   "metadata": {
    "collapsed": false
   },
   "outputs": [],
   "source": [
    "#make usable matrices\n",
    "for i in range(100):\n",
    "    DIR = '/home/lindb/eckertlab/wbp/bayenv2/nullruns/imputed/extra/dir%s/' % str(i)\n",
    "    if os.path.exists(DIR):\n",
    "        files = os.listdir(DIR)\n",
    "        for f in files:\n",
    "            if (f.startswith('matrix')) and (f.endswith('out')):\n",
    "                #print os.path.join(DIR,f)\n",
    "                F = open(os.path.join(DIR,f),'r')\n",
    "                g = F.readlines()\n",
    "                new = f[:-4] + '.txt'\n",
    "                filE = DIR + 'usable_%s' % new\n",
    "                print filE\n",
    "                with open(filE,'w') as o:\n",
    "                    for line in g[2005:][:-1]:\n",
    "                        o.write(line)\n",
    "                o.close()\n",
    "                break\n",
    "        #break    "
   ]
  },
  {
   "cell_type": "markdown",
   "metadata": {},
   "source": [
    "#reinventing the wheel"
   ]
  },
  {
   "cell_type": "code",
   "execution_count": 0,
   "metadata": {
    "collapsed": false
   },
   "outputs": [],
   "source": [
    "#get a list of files with significant SNPs from bayenv2\n",
    "DIR = '/home/lindb/wbp/bayenv2/Final/imputed/'\n",
    "files = os.listdir(DIR)\n",
    "files = [f for f in files if not f.startswith('imputed')]\n",
    "len(files)"
   ]
  },
  {
   "cell_type": "code",
   "execution_count": 0,
   "metadata": {
    "collapsed": false
   },
   "outputs": [],
   "source": [
    "#get list of snps to do null runs\n",
    "snpLST = []\n",
    "for f in files:\n",
    "    df = pd.read_csv(os.path.join(DIR,f),header=0,sep=\"\\t\")\n",
    "    env = f.split(\"_\")[0]\n",
    "    loci = df[env].tolist()\n",
    "    for locus in loci:\n",
    "        if locus not in snpLST:\n",
    "            snpLST.append(locus)\n",
    "len(snpLST)"
   ]
  },
  {
   "cell_type": "code",
   "execution_count": 0,
   "metadata": {
    "collapsed": true
   },
   "outputs": [],
   "source": [
    "DIR = '/home/lindb/wbp/bayenv2/nullruns/imputed/extra/'"
   ]
  },
  {
   "cell_type": "code",
   "execution_count": 0,
   "metadata": {
    "collapsed": false
   },
   "outputs": [],
   "source": [
    "#make SNPFILEs from the SNPSFILEs\n",
    "for i in range(100):\n",
    "    DIR = '/home/lindb/wbp/bayenv2/nullruns/imputed/extra/dir%s' % str(i)\n",
    "    if os.path.exists(DIR):\n",
    "        print DIR\n",
    "        f = os.path.join(DIR,'UnbinnedImputedSNPSFILE%s_HEADERROW.txt' % str(i))\n",
    "        df = pd.read_csv(f,header=0,index_col=0,sep=\"\\t\")\n",
    "        snpDIR = os.path.join(DIR,'SNPdir')\n",
    "        if not os.path.exists(snpDIR):\n",
    "            os.makedirs(snpDIR)\n",
    "        for j in range(0,len(df.index),2):\n",
    "            if df.index[j] in snpLST:\n",
    "                DF = df.loc[df.index[j],:]\n",
    "                dfile = os.path.join(snpDIR,df.index[j])\n",
    "                DF.to_csv(dfile,header=None,index=False,sep=\"\\t\")"
   ]
  },
  {
   "cell_type": "code",
   "execution_count": 0,
   "metadata": {
    "collapsed": false
   },
   "outputs": [],
   "source": [
    "#copy all of the needed files\n",
    "for i in range(100):\n",
    "    DIR = '/home/lindb/wbp/bayenv2/nullruns/imputed/extra/dir%s' % str(i)\n",
    "    if os.path.exists(DIR):\n",
    "        print DIR\n",
    "        files = os.listdir(DIR)\n",
    "        files = [os.path.join(DIR,f) for f in files if not f.startswith('SNP')]\n",
    "        for f in files:\n",
    "            fn = os.path.basename(f)\n",
    "            if fn.startswith('bayenv') or fn.startswith('ENVIRON') or fn.startswith('usable') or fn.endswith('noHEADERIDX.txt'):\n",
    "                shutil.copy(f,os.path.join(DIR,'SNPdir/%s' % os.path.basename(f)))\n",
    "                #print f"
   ]
  },
  {
   "cell_type": "code",
   "execution_count": 0,
   "metadata": {
    "collapsed": false
   },
   "outputs": [],
   "source": [
    "dirs = os.listdir('/home/lindb/wbp/bayenv2/nullruns/imputed/extra/')\n",
    "dirs = [os.path.join('/home/lindb/wbp/bayenv2/nullruns/imputed/extra/',d) for d in dirs if d.startswith('dir')]\n",
    "len(dirs)"
   ]
  },
  {
   "cell_type": "code",
   "execution_count": 0,
   "metadata": {
    "collapsed": false
   },
   "outputs": [],
   "source": [
    "dirs"
   ]
  },
  {
   "cell_type": "code",
   "execution_count": 0,
   "metadata": {
    "collapsed": false
   },
   "outputs": [],
   "source": [
    "for d in dirs:\n",
    "    DIR = os.path.join(d,'SNPdir')\n",
    "    num = d.split(\"/\")[-1][3:]\n",
    "    text = '''#!/bin/bash\n",
    "#$ -N impbay%s\n",
    "#$ -V\n",
    "#$ -j y\n",
    "#$ -cwd\n",
    "\n",
    "cd %s\n",
    "find -type f -name 'NODE*' | parallel -j +0 --progress './bayenv2 -i {} \\\n",
    "-e ENVIRONFILE.txt -m usable_matrix_dir%s.txt -k 100000 -r %s -p 8 -n 16 -t -f -c -X'\n",
    "''' % (str(num),\n",
    "       DIR,\n",
    "       str(num),\n",
    "       random.sample(range(1000000),1)[0])\n",
    "    filE = '/home/lindb/wbp/bayenv2/nullruns/imputed/extra/%s_nullrunfile.sh' % num\n",
    "    with open(filE,'w') as o:\n",
    "        o.write(\"%s\" % text)\n",
    "    o.close()"
   ]
  },
  {
   "cell_type": "code",
   "execution_count": 0,
   "metadata": {
    "collapsed": false
   },
   "outputs": [],
   "source": [
    "for d in dirs:\n",
    "    break"
   ]
  },
  {
   "cell_type": "code",
   "execution_count": 0,
   "metadata": {
    "collapsed": false
   },
   "outputs": [],
   "source": [
    "d.split(\"/\")[-1][3:]"
   ]
  },
  {
   "cell_type": "code",
   "execution_count": 0,
   "metadata": {
    "collapsed": true
   },
   "outputs": [],
   "source": []
  },
  {
   "cell_type": "code",
   "execution_count": 0,
   "metadata": {
    "collapsed": true
   },
   "outputs": [],
   "source": []
  },
  {
   "cell_type": "code",
   "execution_count": 0,
   "metadata": {
    "collapsed": true
   },
   "outputs": [],
   "source": []
  },
  {
   "cell_type": "code",
   "execution_count": 0,
   "metadata": {
    "collapsed": true
   },
   "outputs": [],
   "source": []
  },
  {
   "cell_type": "code",
   "execution_count": 0,
   "metadata": {
    "collapsed": true
   },
   "outputs": [],
   "source": []
  },
  {
   "cell_type": "code",
   "execution_count": 0,
   "metadata": {
    "collapsed": true
   },
   "outputs": [],
   "source": []
  },
  {
   "cell_type": "code",
   "execution_count": 0,
   "metadata": {
    "collapsed": true
   },
   "outputs": [],
   "source": []
  },
  {
   "cell_type": "code",
   "execution_count": 0,
   "metadata": {
    "collapsed": true
   },
   "outputs": [],
   "source": []
  },
  {
   "cell_type": "code",
   "execution_count": 0,
   "metadata": {
    "collapsed": true
   },
   "outputs": [],
   "source": []
  },
  {
   "cell_type": "code",
   "execution_count": 0,
   "metadata": {
    "collapsed": true
   },
   "outputs": [],
   "source": []
  },
  {
   "cell_type": "code",
   "execution_count": 0,
   "metadata": {
    "collapsed": true
   },
   "outputs": [],
   "source": []
  },
  {
   "cell_type": "code",
   "execution_count": 0,
   "metadata": {
    "collapsed": true
   },
   "outputs": [],
   "source": []
  },
  {
   "cell_type": "code",
   "execution_count": 0,
   "metadata": {
    "collapsed": true
   },
   "outputs": [],
   "source": []
  },
  {
   "cell_type": "code",
   "execution_count": 0,
   "metadata": {
    "collapsed": true
   },
   "outputs": [],
   "source": []
  },
  {
   "cell_type": "code",
   "execution_count": 0,
   "metadata": {
    "collapsed": true
   },
   "outputs": [],
   "source": []
  },
  {
   "cell_type": "code",
   "execution_count": 0,
   "metadata": {
    "collapsed": true
   },
   "outputs": [],
   "source": []
  },
  {
   "cell_type": "code",
   "execution_count": 0,
   "metadata": {
    "collapsed": true
   },
   "outputs": [],
   "source": []
  },
  {
   "cell_type": "code",
   "execution_count": 0,
   "metadata": {
    "collapsed": true
   },
   "outputs": [],
   "source": []
  },
  {
   "cell_type": "code",
   "execution_count": 0,
   "metadata": {
    "collapsed": true
   },
   "outputs": [],
   "source": []
  },
  {
   "cell_type": "code",
   "execution_count": 0,
   "metadata": {
    "collapsed": true
   },
   "outputs": [],
   "source": []
  },
  {
   "cell_type": "code",
   "execution_count": 0,
   "metadata": {
    "collapsed": true
   },
   "outputs": [],
   "source": []
  },
  {
   "cell_type": "code",
   "execution_count": 0,
   "metadata": {
    "collapsed": true
   },
   "outputs": [],
   "source": []
  },
  {
   "cell_type": "code",
   "execution_count": 0,
   "metadata": {
    "collapsed": true
   },
   "outputs": [],
   "source": []
  },
  {
   "cell_type": "code",
   "execution_count": 0,
   "metadata": {
    "collapsed": true
   },
   "outputs": [],
   "source": []
  },
  {
   "cell_type": "code",
   "execution_count": 0,
   "metadata": {
    "collapsed": true
   },
   "outputs": [],
   "source": []
  },
  {
   "cell_type": "code",
   "execution_count": 0,
   "metadata": {
    "collapsed": true
   },
   "outputs": [],
   "source": []
  }
 ],
 "metadata": {
  "kernelspec": {
   "display_name": "Python 2",
   "language": "python",
   "name": "python2"
  },
  "language_info": {
   "codemirror_mode": {
    "name": "ipython",
    "version": 2
   },
   "file_extension": ".py",
   "mimetype": "text/x-python",
   "name": "python",
   "nbconvert_exporter": "python",
   "pygments_lexer": "ipython2",
   "version": "2.7.10"
  }
 },
 "nbformat": 4,
 "nbformat_minor": 0
}
