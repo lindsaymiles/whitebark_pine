{
 "cells": [
  {
   "cell_type": "code",
   "execution_count": 0,
   "metadata": {
    "collapsed": true
   },
   "outputs": [],
   "source": [
    "import sys\n",
    "from IPython.parallel import Client\n",
    "import os, time\n",
    "import pandas as pd\n",
    "import numpy as np\n",
    "import scipy as sp\n",
    "from IPython.parallel import Client\n",
    "from fractions import Fraction\n",
    "from collections import defaultdict\n",
    "import vcf\n",
    "from __future__ import division\n",
    "import random"
   ]
  },
  {
   "cell_type": "code",
   "execution_count": 0,
   "metadata": {
    "collapsed": true
   },
   "outputs": [],
   "source": [
    "from collections import OrderedDict"
   ]
  },
  {
   "cell_type": "code",
   "execution_count": 0,
   "metadata": {
    "collapsed": true
   },
   "outputs": [],
   "source": [
    "import matplotlib.pyplot as plt\n",
    "%matplotlib inline"
   ]
  },
  {
   "cell_type": "code",
   "execution_count": 0,
   "metadata": {
    "collapsed": false
   },
   "outputs": [],
   "source": [
    "filE = '/home/lindb/eckertlab/wbp/bayenv2/imputedDataHEADERIDX.txt'\n",
    "imputedData = pd.read_csv(filE,sep=\"\\t\",header=0,index_col=0)\n",
    "imputedData.head()"
   ]
  },
  {
   "cell_type": "code",
   "execution_count": 0,
   "metadata": {
    "collapsed": false
   },
   "outputs": [],
   "source": [
    "filE = '/home/lindb/eckertlab/wbp/bayenv2/missingDataHEADERIDX.txt'\n",
    "missingData = pd.read_csv(filE,sep=\"\\t\",header=0,index_col=0)\n",
    "missingData.head()"
   ]
  },
  {
   "cell_type": "markdown",
   "metadata": {},
   "source": [
    "##get pop assignments"
   ]
  },
  {
   "cell_type": "code",
   "execution_count": 0,
   "metadata": {
    "collapsed": false
   },
   "outputs": [],
   "source": [
    "stpDF = pd.read_csv('/home/lindb/eckertlab/wbp/hierfstat/sampsTOpop.txt',header=0,sep=\"\\t\")\n",
    "stpDF.head()"
   ]
  },
  {
   "cell_type": "code",
   "execution_count": 0,
   "metadata": {
    "collapsed": false
   },
   "outputs": [],
   "source": [
    "stpDF.shape"
   ]
  },
  {
   "cell_type": "code",
   "execution_count": 0,
   "metadata": {
    "collapsed": true
   },
   "outputs": [],
   "source": [
    "pops = OrderedDict()\n",
    "for row in stpDF.index:\n",
    "    popID = stpDF.loc[row,'pop']\n",
    "    sampID = stpDF.loc[row,'samp']\n",
    "    if popID not in pops.keys():\n",
    "        pops[popID] = []\n",
    "    if sampID not in pops[popID]:\n",
    "        pops[popID].append(sampID)"
   ]
  },
  {
   "cell_type": "code",
   "execution_count": 0,
   "metadata": {
    "collapsed": false
   },
   "outputs": [],
   "source": [
    "sums = 0\n",
    "for pop in sorted(pops.keys()):\n",
    "    print pop, len(pops[pop])\n",
    "    sums = sums+len(pops[pop])\n",
    "sums"
   ]
  },
  {
   "cell_type": "code",
   "execution_count": 0,
   "metadata": {
    "collapsed": true
   },
   "outputs": [],
   "source": [
    "missBayEnv = pd.DataFrame()"
   ]
  },
  {
   "cell_type": "code",
   "execution_count": 0,
   "metadata": {
    "collapsed": false
   },
   "outputs": [],
   "source": [
    "popDictMiss = OrderedDict()\n",
    "popDictImp = OrderedDict()\n",
    "for pop in sorted(pops.keys()):\n",
    "    popDictMiss[pop] = missingData[missingData.index.isin(pops[pop])]\n",
    "    #popDictImp[pop]  = imputedData[imputedData.index.isin(pops[pop])]"
   ]
  },
  {
   "cell_type": "code",
   "execution_count": 0,
   "metadata": {
    "collapsed": true
   },
   "outputs": [],
   "source": [
    "1+1"
   ]
  },
  {
   "cell_type": "code",
   "execution_count": 0,
   "metadata": {
    "collapsed": false
   },
   "outputs": [],
   "source": [
    "locCount = 0\n",
    "bayDict = OrderedDict()\n",
    "for locus in missingData.columns:\n",
    "    bayDict[locus] = OrderedDict()\n",
    "    popCount = 0\n",
    "    for pop in sorted(pops.keys()):\n",
    "        data = popDictMiss[pop] # grab all data for samples in that pop\n",
    "        \n",
    "        zero = str(data[locus]).count('0') #count the first homozygotes\n",
    "        one = str(data[locus]).count('1') #count the heterozygotes\n",
    "        two = str(data[locus]).count('2') #count the second homozygotes        \n",
    "        \n",
    "        A1 = 2*zero + one\n",
    "        A2 = 2*two + one\n",
    "        \n",
    "        if len(bayDict[locus].keys()) == 0:\n",
    "            bayDict[locus]['A1'] = OrderedDict()\n",
    "            bayDict[locus]['A2'] = OrderedDict()\n",
    "        bayDict[locus]['A1'][pop] = A1\n",
    "        bayDict[locus]['A2'][pop] = A2\n",
    "        #break\n",
    "    locCount += 1\n",
    "    if locCount % 1000 == 0:\n",
    "        print locCount\n",
    "    #break"
   ]
  },
  {
   "cell_type": "code",
   "execution_count": 0,
   "metadata": {
    "collapsed": false
   },
   "outputs": [],
   "source": [
    "len(bayDict.keys())"
   ]
  },
  {
   "cell_type": "code",
   "execution_count": 0,
   "metadata": {
    "collapsed": true
   },
   "outputs": [],
   "source": [
    "filE = '/home/lindb/eckertlab/wbp/bayenv2/UnbinnedMissingSNPSFILE.txt'\n",
    "with open(filE, 'w') as o:\n",
    "    line = '\\t'.join([str(pop) for pop in sorted(pops.keys())]) + str('\\n')\n",
    "    o.write(\"%s\" % line)\n",
    "    for locus in bayDict.keys():\n",
    "        for allele in bayDict[locus].keys():\n",
    "            line = str(locus) + '\\t' + '\\t'.join([str(x) for x in bayDict[locus][allele].values()]) + str('\\n')\n",
    "            #print locus,allele,line\n",
    "            o.write(\"%s\" % line)"
   ]
  },
  {
   "cell_type": "code",
   "execution_count": 0,
   "metadata": {
    "collapsed": false
   },
   "outputs": [],
   "source": [
    "missBayEnv = pd.read_csv(filE,sep=\"\\t\",header=0,index_col=0)"
   ]
  },
  {
   "cell_type": "code",
   "execution_count": 0,
   "metadata": {
    "collapsed": false
   },
   "outputs": [],
   "source": [
    "missBayEnv.head()"
   ]
  },
  {
   "cell_type": "code",
   "execution_count": 0,
   "metadata": {
    "collapsed": false
   },
   "outputs": [],
   "source": [
    "missBayEnv.shape"
   ]
  },
  {
   "cell_type": "code",
   "execution_count": 0,
   "metadata": {
    "collapsed": true
   },
   "outputs": [],
   "source": [
    "filE = '/home/lindb/eckertlab/wbp/bayenv2/UnbinnedMissingSNPSFILE_NOHEADERIDX.txt'"
   ]
  },
  {
   "cell_type": "code",
   "execution_count": 0,
   "metadata": {
    "collapsed": true
   },
   "outputs": [],
   "source": [
    "missBayEnv.to_csv(filE,sep=\"\\t\",header=None,index=False)"
   ]
  },
  {
   "cell_type": "code",
   "execution_count": 0,
   "metadata": {
    "collapsed": true
   },
   "outputs": [],
   "source": []
  },
  {
   "cell_type": "markdown",
   "metadata": {
    "collapsed": true
   },
   "source": [
    "#determine signficant SNPs"
   ]
  },
  {
   "cell_type": "code",
   "execution_count": 0,
   "metadata": {
    "collapsed": false
   },
   "outputs": [],
   "source": [
    "mispifile = '/home/lindb/eckertlab/wbp/bayenv2/Final/missing_bayenv2_outputSNPbyENV.txt'\n",
    "misdata = pd.read_csv(mispifile,header=0,index_col=0,sep=\"\\t\")\n",
    "misdata.head()"
   ]
  },
  {
   "cell_type": "code",
   "execution_count": 0,
   "metadata": {
    "collapsed": true
   },
   "outputs": [],
   "source": [
    "DIR = '/home/lindb/wbp/bayenv2/Final/'"
   ]
  },
  {
   "cell_type": "code",
   "execution_count": 0,
   "metadata": {
    "collapsed": false
   },
   "outputs": [],
   "source": [
    "for col in misdata.columns:\n",
    "    if '_BF' in col:\n",
    "        print col,len(misdata[misdata[col]>5])\n",
    "        loci = misdata[misdata[col]>=5].index\n",
    "        loci = pd.DataFrame(loci)\n",
    "        env = col.split(\".\")[0]\n",
    "        loci.columns = [env]\n",
    "        filE = os.path.join(DIR,env+'_missing_sigSNPs.txt')\n",
    "        loci.to_csv(filE,header=True,index=False,sep=\"\\t\")    "
   ]
  },
  {
   "cell_type": "code",
   "execution_count": 0,
   "metadata": {
    "collapsed": false
   },
   "outputs": [],
   "source": [
    "DIR = '/home/lindb/wbp/bayenv2/Final/missing/'\n",
    "files = os.listdir(DIR)\n",
    "files = [f for f in files if not f.startswith('missing')]\n",
    "len(files)"
   ]
  },
  {
   "cell_type": "code",
   "execution_count": 0,
   "metadata": {
    "collapsed": false
   },
   "outputs": [],
   "source": [
    "for f in files:\n",
    "    df = pd.read_csv(os.path.join(DIR,f),header=0,sep=\"\\t\")\n",
    "    env = f.split(\"_\")[0]\n",
    "    print env\n",
    "    df.columns = [env]\n",
    "    df.to_csv(os.path.join(DIR,f),header=True,index=False,sep=\"\\t\")"
   ]
  },
  {
   "cell_type": "code",
   "execution_count": 0,
   "metadata": {
    "collapsed": true
   },
   "outputs": [],
   "source": []
  },
  {
   "cell_type": "code",
   "execution_count": 0,
   "metadata": {
    "collapsed": true
   },
   "outputs": [],
   "source": []
  },
  {
   "cell_type": "code",
   "execution_count": 0,
   "metadata": {
    "collapsed": true
   },
   "outputs": [],
   "source": []
  },
  {
   "cell_type": "code",
   "execution_count": 0,
   "metadata": {
    "collapsed": true
   },
   "outputs": [],
   "source": []
  },
  {
   "cell_type": "code",
   "execution_count": 0,
   "metadata": {
    "collapsed": true
   },
   "outputs": [],
   "source": []
  },
  {
   "cell_type": "code",
   "execution_count": 0,
   "metadata": {
    "collapsed": true
   },
   "outputs": [],
   "source": []
  },
  {
   "cell_type": "code",
   "execution_count": 0,
   "metadata": {
    "collapsed": true
   },
   "outputs": [],
   "source": []
  },
  {
   "cell_type": "code",
   "execution_count": 0,
   "metadata": {
    "collapsed": true
   },
   "outputs": [],
   "source": []
  },
  {
   "cell_type": "code",
   "execution_count": 0,
   "metadata": {
    "collapsed": true
   },
   "outputs": [],
   "source": []
  },
  {
   "cell_type": "code",
   "execution_count": 0,
   "metadata": {
    "collapsed": true
   },
   "outputs": [],
   "source": []
  },
  {
   "cell_type": "code",
   "execution_count": 0,
   "metadata": {
    "collapsed": true
   },
   "outputs": [],
   "source": []
  },
  {
   "cell_type": "code",
   "execution_count": 0,
   "metadata": {
    "collapsed": true
   },
   "outputs": [],
   "source": []
  }
 ],
 "metadata": {
  "kernelspec": {
   "display_name": "Python 2",
   "language": "python",
   "name": "python2"
  },
  "language_info": {
   "codemirror_mode": {
    "name": "ipython",
    "version": 2
   },
   "file_extension": ".py",
   "mimetype": "text/x-python",
   "name": "python",
   "nbconvert_exporter": "python",
   "pygments_lexer": "ipython2",
   "version": "2.7.10"
  }
 },
 "nbformat": 4,
 "nbformat_minor": 0
}
