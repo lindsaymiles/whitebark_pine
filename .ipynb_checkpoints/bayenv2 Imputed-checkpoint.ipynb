{
 "cells": [
  {
   "cell_type": "code",
   "execution_count": 0,
   "metadata": {
    "collapsed": false
   },
   "outputs": [],
   "source": [
    "import sys\n",
    "from IPython.parallel import Client\n",
    "import os, time\n",
    "import pandas as pd\n",
    "import numpy as np\n",
    "import scipy as sp\n",
    "from IPython.parallel import Client\n",
    "from fractions import Fraction\n",
    "from collections import defaultdict\n",
    "import vcf\n",
    "from __future__ import division\n",
    "import random"
   ]
  },
  {
   "cell_type": "code",
   "execution_count": 0,
   "metadata": {
    "collapsed": true
   },
   "outputs": [],
   "source": [
    "from collections import OrderedDict"
   ]
  },
  {
   "cell_type": "code",
   "execution_count": 0,
   "metadata": {
    "collapsed": false
   },
   "outputs": [],
   "source": [
    "import matplotlib.pyplot as plt\n",
    "%matplotlib inline"
   ]
  },
  {
   "cell_type": "code",
   "execution_count": 0,
   "metadata": {
    "collapsed": false
   },
   "outputs": [],
   "source": [
    "file_dir = '/home/lindb/eckertlab/wbp/bowtie2.1/bowtierun/dup_dir'"
   ]
  },
  {
   "cell_type": "code",
   "execution_count": 0,
   "metadata": {
    "collapsed": false
   },
   "outputs": [],
   "source": [
    "filE = os.path.join(file_dir,'good_snps_good_samples_missing.vcf.gz.012')"
   ]
  },
  {
   "cell_type": "code",
   "execution_count": 0,
   "metadata": {
    "collapsed": false
   },
   "outputs": [],
   "source": [
    "filE1 = os.path.join(file_dir,'good_snps_good_samples.vcf.gz.012')"
   ]
  },
  {
   "cell_type": "code",
   "execution_count": 0,
   "metadata": {
    "collapsed": false
   },
   "outputs": [],
   "source": [
    "def get_z12_df(z12):\n",
    "    data = []\n",
    "    for i, line in enumerate(open(z12)):\n",
    "        line = line.strip()\n",
    "        line = [int(x) for x in line.split(\"\\t\")]\n",
    "        data.append(np.array(line))\n",
    "        if i % 10 == 0:\n",
    "            print i\n",
    "    data = np.array(data)\n",
    "    df = pd.DataFrame(data)\n",
    "    df = df.drop(0, axis=1)\n",
    "    df.columns = pd.Series(df.columns)-1\n",
    "    indv = \"%s.indv\" % z12\n",
    "    names = [x.strip() for x in open(indv).readlines()]\n",
    "    df.index=names\n",
    "    return df"
   ]
  },
  {
   "cell_type": "code",
   "execution_count": 0,
   "metadata": {
    "collapsed": true
   },
   "outputs": [],
   "source": [
    "missingDF = get_z12_df(filE)"
   ]
  },
  {
   "cell_type": "code",
   "execution_count": 0,
   "metadata": {
    "collapsed": false
   },
   "outputs": [],
   "source": [
    "missingPOS = pd.read_csv(os.path.join(file_dir,'good_snps_good_samples_missing.vcf.gz.012.pos'), sep=\"\\t\", header=None)\n",
    "missingPOS.shape #167,701 rows"
   ]
  },
  {
   "cell_type": "code",
   "execution_count": 0,
   "metadata": {
    "collapsed": false
   },
   "outputs": [],
   "source": [
    "missingPOS.head()"
   ]
  },
  {
   "cell_type": "code",
   "execution_count": 0,
   "metadata": {
    "collapsed": false
   },
   "outputs": [],
   "source": [
    "missingLoci = ['_'.join([str(missingPOS.loc[row,0]),str(missingPOS.loc[row,1])]) for row in missingPOS.index]"
   ]
  },
  {
   "cell_type": "code",
   "execution_count": 0,
   "metadata": {
    "collapsed": false,
    "scrolled": true
   },
   "outputs": [],
   "source": [
    "missingDF.columns = missingLoci\n",
    "missingDF #167,701 columns"
   ]
  },
  {
   "cell_type": "code",
   "execution_count": 0,
   "metadata": {
    "collapsed": true
   },
   "outputs": [],
   "source": [
    "imputeDF = get_z12_df(filE1)"
   ]
  },
  {
   "cell_type": "code",
   "execution_count": 0,
   "metadata": {
    "collapsed": false
   },
   "outputs": [],
   "source": [
    "imputedPOS = pd.read_csv(os.path.join(file_dir,'good_snps_good_samples.vcf.gz.012.pos'), sep=\"\\t\", header=None)\n",
    "imputedPOS.shape #159927 rows"
   ]
  },
  {
   "cell_type": "code",
   "execution_count": 0,
   "metadata": {
    "collapsed": true
   },
   "outputs": [],
   "source": [
    "imputedLoci = ['_'.join([imputedPOS.loc[row,0],str(imputedPOS.loc[row,1])]) for row in imputedPOS.index]"
   ]
  },
  {
   "cell_type": "code",
   "execution_count": 0,
   "metadata": {
    "collapsed": false
   },
   "outputs": [],
   "source": [
    "imputeDF.columns = imputedLoci\n",
    "imputeDF.head()"
   ]
  },
  {
   "cell_type": "code",
   "execution_count": 0,
   "metadata": {
    "collapsed": true
   },
   "outputs": [],
   "source": [
    "file_dir = '/home/lindb/eckertlab/wbp/bayenv2/'\n",
    "missingDF.to_csv(os.path.join(file_dir,'missingDF_HEADERIDX.txt'),sep=\"\\t\",header=True,index=True)\n",
    "imputeDF.to_csv(os.path.join(file_dir,'imputedDF_HEADERIDX.txt'),sep=\"\\t\",header=True,index=True)"
   ]
  },
  {
   "cell_type": "code",
   "execution_count": 0,
   "metadata": {
    "collapsed": false,
    "scrolled": true
   },
   "outputs": [],
   "source": [
    "missingSet = set(missingLoci)"
   ]
  },
  {
   "cell_type": "code",
   "execution_count": 0,
   "metadata": {
    "collapsed": false
   },
   "outputs": [],
   "source": [
    "len(missingSet)"
   ]
  },
  {
   "cell_type": "code",
   "execution_count": 0,
   "metadata": {
    "collapsed": true
   },
   "outputs": [],
   "source": [
    "imputedSet = set(imputedLoci)"
   ]
  },
  {
   "cell_type": "code",
   "execution_count": 0,
   "metadata": {
    "collapsed": false
   },
   "outputs": [],
   "source": [
    "len(imputedSet)"
   ]
  },
  {
   "cell_type": "code",
   "execution_count": 0,
   "metadata": {
    "collapsed": false
   },
   "outputs": [],
   "source": [
    "intersection = missingSet.intersection(imputedSet)\n",
    "len(intersection)"
   ]
  },
  {
   "cell_type": "code",
   "execution_count": 0,
   "metadata": {
    "collapsed": false
   },
   "outputs": [],
   "source": [
    "intersection = [x for x in intersection]\n",
    "intersection"
   ]
  },
  {
   "cell_type": "code",
   "execution_count": 0,
   "metadata": {
    "collapsed": true
   },
   "outputs": [],
   "source": []
  },
  {
   "cell_type": "code",
   "execution_count": 0,
   "metadata": {
    "collapsed": false
   },
   "outputs": [],
   "source": [
    "#reduce missing set to intersection\n",
    "missingData = missingDF[intersection]\n",
    "missingData.shape"
   ]
  },
  {
   "cell_type": "code",
   "execution_count": 0,
   "metadata": {
    "collapsed": false
   },
   "outputs": [],
   "source": [
    "missingData.head()"
   ]
  },
  {
   "cell_type": "code",
   "execution_count": 0,
   "metadata": {
    "collapsed": false
   },
   "outputs": [],
   "source": [
    "#reduce imputed set to intersection\n",
    "imputedData = imputeDF[intersection]\n",
    "imputedData.shape"
   ]
  },
  {
   "cell_type": "code",
   "execution_count": 0,
   "metadata": {
    "collapsed": false
   },
   "outputs": [],
   "source": [
    "imputedData.head()"
   ]
  },
  {
   "cell_type": "code",
   "execution_count": 0,
   "metadata": {
    "collapsed": false
   },
   "outputs": [],
   "source": [
    "#replace missing data\n",
    "missingData = missingData.replace(-1,'NaN')\n",
    "missingData.head()"
   ]
  },
  {
   "cell_type": "code",
   "execution_count": 0,
   "metadata": {
    "collapsed": false
   },
   "outputs": [],
   "source": [
    "file_dir"
   ]
  },
  {
   "cell_type": "code",
   "execution_count": 0,
   "metadata": {
    "collapsed": true
   },
   "outputs": [],
   "source": [
    "save_dir = file_dir"
   ]
  },
  {
   "cell_type": "code",
   "execution_count": 0,
   "metadata": {
    "collapsed": true
   },
   "outputs": [],
   "source": [
    "filE2 = os.path.join(save_dir,'missingDataHEADERIDX.txt')\n",
    "missingData.to_csv(filE2,header=True,index=True,sep='\\t')"
   ]
  },
  {
   "cell_type": "code",
   "execution_count": 0,
   "metadata": {
    "collapsed": true
   },
   "outputs": [],
   "source": [
    "filE1 = os.path.join(save_dir,'imputedDataHEADERIDX.txt')\n",
    "imputedData.to_csv(filE1,header=True,index=True,sep='\\t')"
   ]
  },
  {
   "cell_type": "code",
   "execution_count": 0,
   "metadata": {
    "collapsed": false
   },
   "outputs": [],
   "source": [
    "filE = '/home/lindb/eckertlab/wbp/bayenv2/imputedDataHEADERIDX.txt'\n",
    "imputedData = pd.read_csv(filE,sep=\"\\t\",header=0,index_col=0)\n",
    "imputedData.head()"
   ]
  },
  {
   "cell_type": "code",
   "execution_count": 0,
   "metadata": {
    "collapsed": false
   },
   "outputs": [],
   "source": [
    "imputedData.shape"
   ]
  },
  {
   "cell_type": "markdown",
   "metadata": {},
   "source": [
    "##get pop assignments"
   ]
  },
  {
   "cell_type": "code",
   "execution_count": 0,
   "metadata": {
    "collapsed": false
   },
   "outputs": [],
   "source": [
    "stpDF = pd.read_csv('/home/lindb/eckertlab/wbp/hierfstat/sampsTOpop.txt',header=0,sep=\"\\t\")\n",
    "stpDF.head()"
   ]
  },
  {
   "cell_type": "code",
   "execution_count": 0,
   "metadata": {
    "collapsed": false
   },
   "outputs": [],
   "source": [
    "stpDF.shape"
   ]
  },
  {
   "cell_type": "code",
   "execution_count": 0,
   "metadata": {
    "collapsed": false
   },
   "outputs": [],
   "source": [
    "pops = OrderedDict()\n",
    "for row in stpDF.index:\n",
    "    popID = stpDF.loc[row,'pop']\n",
    "    sampID = stpDF.loc[row,'samp']\n",
    "    if popID not in pops.keys():\n",
    "        pops[popID] = []\n",
    "    if sampID not in pops[popID]:\n",
    "        pops[popID].append(sampID)"
   ]
  },
  {
   "cell_type": "code",
   "execution_count": 0,
   "metadata": {
    "collapsed": false
   },
   "outputs": [],
   "source": [
    "sums = 0\n",
    "for pop in sorted(pops.keys()):\n",
    "    print pop, len(pops[pop])\n",
    "    sums = sums+len(pops[pop])\n",
    "sums"
   ]
  },
  {
   "cell_type": "code",
   "execution_count": 0,
   "metadata": {
    "collapsed": true
   },
   "outputs": [],
   "source": [
    "missingBayEnv = pd.DataFrame()\n",
    "imputedBayEnv = pd.DataFrame()"
   ]
  },
  {
   "cell_type": "code",
   "execution_count": 0,
   "metadata": {
    "collapsed": false
   },
   "outputs": [],
   "source": [
    "#popDictMiss = OrderedDict()\n",
    "popDictImp = OrderedDict()\n",
    "for pop in sorted(pops.keys()):\n",
    "    #popDictMiss[pop] = missingData[missingData.index.isin(pops[pop])]\n",
    "    popDictImp[pop]  = imputedData[imputedData.index.isin(pops[pop])]"
   ]
  },
  {
   "cell_type": "code",
   "execution_count": 0,
   "metadata": {
    "collapsed": false
   },
   "outputs": [],
   "source": [
    "sums = 0\n",
    "for pop in popDictImp.keys():\n",
    "    print pop, len(popDictImp[pop])\n",
    "    sums = sums + len(popDictImp[pop])\n",
    "print sums"
   ]
  },
  {
   "cell_type": "code",
   "execution_count": 0,
   "metadata": {
    "collapsed": false
   },
   "outputs": [],
   "source": [
    "for pop in popDictImp.keys():\n",
    "    print pop,popDictImp[pop].shape"
   ]
  },
  {
   "cell_type": "code",
   "execution_count": 0,
   "metadata": {
    "collapsed": false
   },
   "outputs": [],
   "source": [
    "#this is incorrect womp womp\n",
    "locCount = 0\n",
    "bayDict = OrderedDict()\n",
    "for locus in imputedData.columns:\n",
    "    bayDict[locus] = OrderedDict()\n",
    "    popCount = 0\n",
    "    for pop in sorted(pops.keys()):\n",
    "        data = popDictImp[pop] # grab all data for samples in that pop\n",
    "        \n",
    "        zero = str(data[locus]).count('0') #count the first homozygotes\n",
    "        one = str(data[locus]).count('1') #count the heterozygotes\n",
    "        two = str(data[locus]).count('2') #count the second homozygotes        \n",
    "        \n",
    "        A1 = 2*zero + one\n",
    "        A2 = 2*two + one\n",
    "        \n",
    "        if len(bayDict[locus].keys()) == 0:\n",
    "            bayDict[locus]['A1'] = OrderedDict()\n",
    "            bayDict[locus]['A2'] = OrderedDict()\n",
    "        bayDict[locus]['A1'][pop] = A1\n",
    "        bayDict[locus]['A2'][pop] = A2\n",
    "        #break\n",
    "    locCount += 1\n",
    "    if locCount % 1000 == 0:\n",
    "        print locCount\n",
    "    #break"
   ]
  },
  {
   "cell_type": "code",
   "execution_count": 0,
   "metadata": {
    "collapsed": false
   },
   "outputs": [],
   "source": [
    "len(bayDict.keys())"
   ]
  },
  {
   "cell_type": "code",
   "execution_count": 0,
   "metadata": {
    "collapsed": false
   },
   "outputs": [],
   "source": [
    "filE = '/home/lindb/eckertlab/wbp/bayenv2/UnbinnedImputedSNPSFILE.txt'\n",
    "with open(filE, 'w') as o:\n",
    "    line = '\\t'.join([str(pop) for pop in sorted(pops.keys())]) + str('\\n')\n",
    "    o.write(\"%s\" % line)\n",
    "    for locus in bayDict.keys():\n",
    "        for allele in bayDict[locus].keys():\n",
    "            line = str(locus) + '\\t' + '\\t'.join([str(x) for x in bayDict[locus][allele].values()]) + str('\\n')\n",
    "            #print locus,allele,line\n",
    "            o.write(\"%s\" % line)"
   ]
  },
  {
   "cell_type": "code",
   "execution_count": 0,
   "metadata": {
    "collapsed": false
   },
   "outputs": [],
   "source": [
    "imputedBayEnv = pd.read_csv(filE,header=0,index_col=0,sep=\"\\t\")\n",
    "imputedBayEnv.head()"
   ]
  },
  {
   "cell_type": "code",
   "execution_count": 0,
   "metadata": {
    "collapsed": false
   },
   "outputs": [],
   "source": [
    "imputedBayEnv.shape"
   ]
  },
  {
   "cell_type": "code",
   "execution_count": 0,
   "metadata": {
    "collapsed": false
   },
   "outputs": [],
   "source": [
    "159803*2"
   ]
  },
  {
   "cell_type": "code",
   "execution_count": 0,
   "metadata": {
    "collapsed": true
   },
   "outputs": [],
   "source": [
    "filE = '/home/lindb/eckertlab/wbp/bayenv2/UnbinnedImputedSNPSFILE_NOHEADERIDX.txt'\n",
    "imputedBayEnv.to_csv(filE,header=None,index=False,sep=\"\\t\")"
   ]
  },
  {
   "cell_type": "code",
   "execution_count": 0,
   "metadata": {
    "collapsed": false
   },
   "outputs": [],
   "source": [
    "len(imputedBayEnv.index)"
   ]
  },
  {
   "cell_type": "code",
   "execution_count": 0,
   "metadata": {
    "collapsed": true
   },
   "outputs": [],
   "source": []
  },
  {
   "cell_type": "code",
   "execution_count": 0,
   "metadata": {
    "collapsed": true
   },
   "outputs": [],
   "source": []
  },
  {
   "cell_type": "code",
   "execution_count": 0,
   "metadata": {
    "collapsed": true
   },
   "outputs": [],
   "source": []
  },
  {
   "cell_type": "code",
   "execution_count": 0,
   "metadata": {
    "collapsed": true
   },
   "outputs": [],
   "source": []
  },
  {
   "cell_type": "code",
   "execution_count": 0,
   "metadata": {
    "collapsed": true
   },
   "outputs": [],
   "source": []
  },
  {
   "cell_type": "code",
   "execution_count": 0,
   "metadata": {
    "collapsed": true
   },
   "outputs": [],
   "source": []
  },
  {
   "cell_type": "markdown",
   "metadata": {
    "collapsed": true
   },
   "source": [
    "#need to sort by bins"
   ]
  },
  {
   "cell_type": "code",
   "execution_count": 0,
   "metadata": {
    "collapsed": false
   },
   "outputs": [],
   "source": [
    "missingData.columns"
   ]
  },
  {
   "cell_type": "code",
   "execution_count": 0,
   "metadata": {
    "collapsed": false
   },
   "outputs": [],
   "source": [
    "imputedData.columns"
   ]
  },
  {
   "cell_type": "code",
   "execution_count": 0,
   "metadata": {
    "collapsed": false
   },
   "outputs": [],
   "source": [
    "mfile = os.path.join(save_dir,'UnbinnedMissingSNPSFILEColumns.txt')\n",
    "UnbinnedMissingColumns = pd.DataFrame(missingData.columns)\n",
    "UnbinnedMissingColumns.to_csv(mfile,header=False,index=False,sep=\"\\t\")"
   ]
  },
  {
   "cell_type": "code",
   "execution_count": 0,
   "metadata": {
    "collapsed": false
   },
   "outputs": [],
   "source": [
    "ifile = os.path.join(save_dir,'UnbinnedImputedSNPSFILEColumns.txt')\n",
    "UnbinnedImputedColumns = pd.DataFrame(imputedData.columns)\n",
    "UnbinnedImputedColumns.to_csv(ifile,header=False,index=False,sep=\"\\t\")"
   ]
  },
  {
   "cell_type": "code",
   "execution_count": 0,
   "metadata": {
    "collapsed": false
   },
   "outputs": [],
   "source": [
    "len(missingData.loc[:,'L0'].tolist())"
   ]
  },
  {
   "cell_type": "code",
   "execution_count": 0,
   "metadata": {
    "collapsed": false
   },
   "outputs": [],
   "source": [
    "len(missingData.index)"
   ]
  },
  {
   "cell_type": "code",
   "execution_count": 0,
   "metadata": {
    "collapsed": false,
    "scrolled": true
   },
   "outputs": [],
   "source": [
    "missingData.loc[:,'L0'].tolist().count('NaN')"
   ]
  },
  {
   "cell_type": "code",
   "execution_count": 0,
   "metadata": {
    "collapsed": true
   },
   "outputs": [],
   "source": [
    "count = 0\n",
    "missingLessThanPoint1    = []\n",
    "missingLessThanPoint2    = []\n",
    "missingLessThanPoint3    = []\n",
    "missingLessThanPoint4    = []\n",
    "missingLessThanPoint5    = []\n",
    "missingGreaterThanPoint5 = []\n",
    "length = len(missingData.index)\n",
    "for col in missingData.columns:\n",
    "    NANs = missingData.loc[:,col].tolist().count('NaN')\n",
    "    ratio = float(NANs/length)\n",
    "    if (ratio > 0) and (ratio <= 0.10):\n",
    "        missingLessThanPoint1.append(col)\n",
    "    if (ratio >0.10) and (ratio <= 0.20):\n",
    "        missingLessThanPoint2.append(col)    \n",
    "    if (ratio >0.20) and (ratio <= 0.30):\n",
    "        missingLessThanPoint3.append(col)\n",
    "    if (ratio >0.30) and (ratio <= 0.40):\n",
    "        missingLessThanPoint4.append(col)\n",
    "    if (ratio >0.40) and (ratio <= 0.50):\n",
    "        missingLessThanPoint5.append(col)\n",
    "    if (ratio >0.50) and (ratio <= 1.0):\n",
    "        missingGreaterThanPoint5.append(col)\n",
    "    count += 1\n",
    "    if count % 1000 == 0:\n",
    "        print count"
   ]
  },
  {
   "cell_type": "code",
   "execution_count": 0,
   "metadata": {
    "collapsed": true
   },
   "outputs": [],
   "source": [
    "count = 0\n",
    "imputedLessThanPoint1    = []\n",
    "imputedLessThanPoint2    = []\n",
    "imputedLessThanPoint3    = []\n",
    "imputedLessThanPoint4    = []\n",
    "imputedLessThanPoint5    = []\n",
    "imputedGreaterThanPoint5 = []\n",
    "length = len(imputedData.index)\n",
    "for col in imputedData.columns:\n",
    "    NANs = imputedData.loc[:,col].tolist().count('NaN')\n",
    "    ratio = float(NANs/length)\n",
    "    if (ratio > 0) and (ratio <= 0.10):\n",
    "        imputedLessThanPoint1.append(col)\n",
    "    if (ratio >0.10) and (ratio <= 0.20):\n",
    "        imputedLessThanPoint2.append(col)    \n",
    "    if (ratio >0.20) and (ratio <= 0.30):\n",
    "        imputedLessThanPoint3.append(col)\n",
    "    if (ratio >0.30) and (ratio <= 0.40):\n",
    "        imputedLessThanPoint4.append(col)\n",
    "    if (ratio >0.40) and (ratio <= 0.50):\n",
    "        imputedLessThanPoint5.append(col)\n",
    "    if (ratio >0.50) and (ratio <= 1.0):\n",
    "        imputedGreaterThanPoint5.append(col)\n",
    "    count += 1\n",
    "    if count % 1000 == 0:\n",
    "        print count"
   ]
  },
  {
   "cell_type": "code",
   "execution_count": 0,
   "metadata": {
    "collapsed": false
   },
   "outputs": [],
   "source": [
    "print len(imputedData.columns),len(missingData.columns)"
   ]
  },
  {
   "cell_type": "code",
   "execution_count": 0,
   "metadata": {
    "collapsed": false
   },
   "outputs": [],
   "source": [
    "imputeds = [imputedLessThanPoint1, imputedLessThanPoint2, imputedLessThanPoint3, imputedLessThanPoint4, imputedLessThanPoint5,imputedGreaterThanPoint5]"
   ]
  },
  {
   "cell_type": "code",
   "execution_count": 0,
   "metadata": {
    "collapsed": true
   },
   "outputs": [],
   "source": [
    "missings = [missingLessThanPoint1, missingLessThanPoint2, missingLessThanPoint3, missingLessThanPoint4, missingLessThanPoint5,missingGreaterThanPoint5]"
   ]
  },
  {
   "cell_type": "code",
   "execution_count": 0,
   "metadata": {
    "collapsed": false
   },
   "outputs": [],
   "source": [
    "for i in imputeds: #there should be no missing data\n",
    "    print len(i)"
   ]
  },
  {
   "cell_type": "code",
   "execution_count": 0,
   "metadata": {
    "collapsed": false
   },
   "outputs": [],
   "source": [
    "x = 0\n",
    "for m in missings: #all loci have no missing data >20%\n",
    "    x = x + len(m)\n",
    "    perc = len(m)/159767\n",
    "    print len(m), perc"
   ]
  },
  {
   "cell_type": "code",
   "execution_count": 0,
   "metadata": {
    "collapsed": false
   },
   "outputs": [],
   "source": [
    "len(m)"
   ]
  },
  {
   "cell_type": "code",
   "execution_count": 0,
   "metadata": {
    "collapsed": false,
    "scrolled": true
   },
   "outputs": [],
   "source": [
    "missingGreaterThanPoint5"
   ]
  },
  {
   "cell_type": "code",
   "execution_count": 0,
   "metadata": {
    "collapsed": false
   },
   "outputs": [],
   "source": [
    "missingData.loc[:,'L527'].tolist().count('NaN')/length"
   ]
  },
  {
   "cell_type": "code",
   "execution_count": 0,
   "metadata": {
    "collapsed": false
   },
   "outputs": [],
   "source": [
    "gLST = []\n",
    "for m in missingGreaterThanPoint5:\n",
    "    gLST.append(missingData.loc[:,m].tolist().count('NaN')/length)\n",
    "print min(gLST),max(gLST)"
   ]
  },
  {
   "cell_type": "code",
   "execution_count": 0,
   "metadata": {
    "collapsed": false
   },
   "outputs": [],
   "source": [
    "len(missingBayEnv.index)/2"
   ]
  },
  {
   "cell_type": "code",
   "execution_count": 0,
   "metadata": {
    "collapsed": false
   },
   "outputs": [],
   "source": [
    "missingLessThanPoint1[0:10]"
   ]
  },
  {
   "cell_type": "code",
   "execution_count": 0,
   "metadata": {
    "collapsed": false
   },
   "outputs": [],
   "source": [
    "save_dir = '/home/lindb/eckertlab/wbp/BayEnv/BinnedData/'\n",
    "Msave_dir = str(save_dir) + str('Missing/')\n",
    "Msave_dir"
   ]
  },
  {
   "cell_type": "code",
   "execution_count": 0,
   "metadata": {
    "collapsed": true
   },
   "outputs": [],
   "source": [
    "ColumnsMissingLessThanPoint1 = pd.DataFrame(missingLessThanPoint1)\n",
    "fileCMLTP1 = os.path.join(Msave_dir,'ColumnsMissingLessThanPoint1Bin.txt')\n",
    "ColumnsMissingLessThanPoint1.to_csv(fileCMLTP1,header=False,index=False,sep=\"\\t\")"
   ]
  },
  {
   "cell_type": "code",
   "execution_count": 0,
   "metadata": {
    "collapsed": true
   },
   "outputs": [],
   "source": [
    "ColumnsMissingLessThanPoint2 = pd.DataFrame(missingLessThanPoint2)\n",
    "fileCMLTP2 = os.path.join(Msave_dir,'ColumnsMissingLessThanPoint2Bin.txt')\n",
    "ColumnsMissingLessThanPoint2.to_csv(fileCMLTP2,header=False,index=False,sep=\"\\t\")"
   ]
  },
  {
   "cell_type": "code",
   "execution_count": 0,
   "metadata": {
    "collapsed": true
   },
   "outputs": [],
   "source": [
    "ColumnsMissingLessThanPoint3 = pd.DataFrame(missingLessThanPoint3)\n",
    "fileCMLTP2 = os.path.join(Msave_dir,'ColumnsMissingLessThanPoint3Bin.txt')\n",
    "ColumnsMissingLessThanPoint3.to_csv(fileCMLTP2,header=False,index=False,sep=\"\\t\")"
   ]
  },
  {
   "cell_type": "code",
   "execution_count": 0,
   "metadata": {
    "collapsed": true
   },
   "outputs": [],
   "source": [
    "ColumnsMissingLessThanPoint4 = pd.DataFrame(missingLessThanPoint4)\n",
    "fileCMLTP2 = os.path.join(Msave_dir,'ColumnsMissingLessThanPoint4Bin.txt')\n",
    "ColumnsMissingLessThanPoint4.to_csv(fileCMLTP2,header=False,index=False,sep=\"\\t\")"
   ]
  },
  {
   "cell_type": "code",
   "execution_count": 0,
   "metadata": {
    "collapsed": true
   },
   "outputs": [],
   "source": [
    "ColumnsMissingLessThanPoint5 = pd.DataFrame(missingLessThanPoint5)\n",
    "fileCMLTP2 = os.path.join(Msave_dir,'ColumnsMissingLessThanPoint5Bin.txt')\n",
    "ColumnsMissingLessThanPoint5.to_csv(fileCMLTP2,header=False,index=False,sep=\"\\t\")"
   ]
  },
  {
   "cell_type": "code",
   "execution_count": 0,
   "metadata": {
    "collapsed": false
   },
   "outputs": [],
   "source": [
    "Isave_dir = save_dir + str('Imputed/')\n",
    "ColumnsImputedLessThanPoint1 = pd.DataFrame(imputedLessThanPoint1)\n",
    "fileCMLTP1 = os.path.join(Isave_dir,'ColumnsImputedLessThanPoint1Bin.txt')\n",
    "ColumnsImputedLessThanPoint1.to_csv(fileCMLTP1,header=False,index=False,sep=\"\\t\")\n",
    "ColumnsImputedLessThanPoint2 = pd.DataFrame(imputedLessThanPoint2)\n",
    "fileCMLTP2 = os.path.join(Isave_dir,'ColumnsImputedLessThanPoint2Bin.txt')\n",
    "ColumnsImputedLessThanPoint2.to_csv(fileCMLTP2,header=False,index=False,sep=\"\\t\")\n",
    "ColumnsImputedLessThanPoint3 = pd.DataFrame(imputedLessThanPoint3)\n",
    "fileCMLTP2 = os.path.join(Isave_dir,'ColumnsImputedLessThanPoint3Bin.txt')\n",
    "ColumnsImputedLessThanPoint3.to_csv(fileCMLTP2,header=False,index=False,sep=\"\\t\")\n",
    "ColumnsImputedLessThanPoint4 = pd.DataFrame(imputedLessThanPoint4)\n",
    "fileCMLTP2 = os.path.join(Isave_dir,'ColumnsImputedLessThanPoint4Bin.txt')\n",
    "ColumnsImputedLessThanPoint4.to_csv(fileCMLTP2,header=False,index=False,sep=\"\\t\")\n",
    "ColumnsImputedLessThanPoint5 = pd.DataFrame(imputedLessThanPoint5)\n",
    "fileCMLTP2 = os.path.join(Isave_dir,'ColumnsImputedLessThanPoint5Bin.txt')\n",
    "ColumnsImputedLessThanPoint5.to_csv(fileCMLTP2,header=False,index=False,sep=\"\\t\")"
   ]
  },
  {
   "cell_type": "code",
   "execution_count": 0,
   "metadata": {
    "collapsed": false,
    "scrolled": true
   },
   "outputs": [],
   "source": [
    "missingBayEnv"
   ]
  },
  {
   "cell_type": "code",
   "execution_count": 0,
   "metadata": {
    "collapsed": false
   },
   "outputs": [],
   "source": [
    "319606/2"
   ]
  },
  {
   "cell_type": "code",
   "execution_count": 0,
   "metadata": {
    "collapsed": false
   },
   "outputs": [],
   "source": [
    "len(missingLessThanPoint1)"
   ]
  },
  {
   "cell_type": "code",
   "execution_count": 0,
   "metadata": {
    "collapsed": false
   },
   "outputs": [],
   "source": [
    "len(missingLessThanPoint1)"
   ]
  },
  {
   "cell_type": "code",
   "execution_count": 0,
   "metadata": {
    "collapsed": false
   },
   "outputs": [],
   "source": [
    "missingLessThanPoint1[0:10]"
   ]
  },
  {
   "cell_type": "code",
   "execution_count": 0,
   "metadata": {
    "collapsed": false
   },
   "outputs": [],
   "source": [
    "missingBayEnv.loc['L0']"
   ]
  },
  {
   "cell_type": "code",
   "execution_count": 0,
   "metadata": {
    "collapsed": false
   },
   "outputs": [],
   "source": [
    "missingBayEnvLessThanPoint1 = missingBayEnv.loc[missingLessThanPoint1]\n",
    "missingBayEnvLessThanPoint1.head()"
   ]
  },
  {
   "cell_type": "code",
   "execution_count": 0,
   "metadata": {
    "collapsed": false
   },
   "outputs": [],
   "source": [
    "missingBayEnvLessThanPoint2 = missingBayEnv.loc[missingLessThanPoint2]\n",
    "missingBayEnvLessThanPoint2.head()"
   ]
  },
  {
   "cell_type": "code",
   "execution_count": 0,
   "metadata": {
    "collapsed": false
   },
   "outputs": [],
   "source": [
    "missingBayEnvLessThanPoint3 = missingBayEnv.loc[missingLessThanPoint3]\n",
    "missingBayEnvLessThanPoint3.head()"
   ]
  },
  {
   "cell_type": "code",
   "execution_count": 0,
   "metadata": {
    "collapsed": false
   },
   "outputs": [],
   "source": [
    "missingBayEnvLessThanPoint4 = missingBayEnv.loc[missingLessThanPoint4]\n",
    "missingBayEnvLessThanPoint4.head()"
   ]
  },
  {
   "cell_type": "code",
   "execution_count": 0,
   "metadata": {
    "collapsed": false
   },
   "outputs": [],
   "source": [
    "missingBayEnvLessThanPoint5 = missingBayEnv.loc[missingLessThanPoint5]\n",
    "missingBayEnvLessThanPoint5.head()"
   ]
  },
  {
   "cell_type": "markdown",
   "metadata": {},
   "source": [
    "####imputed:"
   ]
  },
  {
   "cell_type": "code",
   "execution_count": 0,
   "metadata": {
    "collapsed": false
   },
   "outputs": [],
   "source": [
    "imputedBayEnvLessThanPoint1 = imputedBayEnv.loc[missingLessThanPoint1]\n",
    "imputedBayEnvLessThanPoint1.head()"
   ]
  },
  {
   "cell_type": "code",
   "execution_count": 0,
   "metadata": {
    "collapsed": false
   },
   "outputs": [],
   "source": [
    "imputedBayEnvLessThanPoint2 = imputedBayEnv.loc[missingLessThanPoint2]\n",
    "imputedBayEnvLessThanPoint2.head()"
   ]
  },
  {
   "cell_type": "code",
   "execution_count": 0,
   "metadata": {
    "collapsed": false
   },
   "outputs": [],
   "source": [
    "imputedBayEnvLessThanPoint3 = imputedBayEnv.loc[missingLessThanPoint3]\n",
    "imputedBayEnvLessThanPoint3.head()"
   ]
  },
  {
   "cell_type": "code",
   "execution_count": 0,
   "metadata": {
    "collapsed": false
   },
   "outputs": [],
   "source": [
    "imputedBayEnvLessThanPoint4 = imputedBayEnv.loc[missingLessThanPoint4]\n",
    "imputedBayEnvLessThanPoint4.head()"
   ]
  },
  {
   "cell_type": "code",
   "execution_count": 0,
   "metadata": {
    "collapsed": false
   },
   "outputs": [],
   "source": [
    "imputedBayEnvLessThanPoint5 = imputedBayEnv.loc[missingLessThanPoint5]\n",
    "imputedBayEnvLessThanPoint5.head()"
   ]
  },
  {
   "cell_type": "code",
   "execution_count": 0,
   "metadata": {
    "collapsed": false
   },
   "outputs": [],
   "source": [
    "Msave_dir"
   ]
  },
  {
   "cell_type": "code",
   "execution_count": 0,
   "metadata": {
    "collapsed": true
   },
   "outputs": [],
   "source": [
    "import os"
   ]
  },
  {
   "cell_type": "code",
   "execution_count": 0,
   "metadata": {
    "collapsed": false
   },
   "outputs": [],
   "source": [
    "MBELTP1 = os.path.join(Msave_dir,'missingSNPSFILELessThanPoint1.txt')\n",
    "missingBayEnvLessThanPoint1.to_csv(MBELTP1,header=False,index=False,sep=\"\\t\")\n",
    "MBELTP2 = os.path.join(Msave_dir,'missingSNPSFILELessThanPoint2.txt')\n",
    "missingBayEnvLessThanPoint2.to_csv(MBELTP2,header=False,index=False,sep=\"\\t\")\n",
    "MBELTP3 = os.path.join(Msave_dir,'missingSNPSFILELessThanPoint3.txt')\n",
    "missingBayEnvLessThanPoint3.to_csv(MBELTP3,header=False,index=False,sep=\"\\t\")\n",
    "MBELTP4 = os.path.join(Msave_dir,'missingSNPSFILELessThanPoint4.txt')\n",
    "missingBayEnvLessThanPoint4.to_csv(MBELTP4,header=False,index=False,sep=\"\\t\")\n",
    "MBELTP5 = os.path.join(Msave_dir,'missingSNPSFILELessThanPoint5.txt')\n",
    "missingBayEnvLessThanPoint5.to_csv(MBELTP5,header=False,index=False,sep=\"\\t\")\n",
    "\n",
    "IBELTP1 = os.path.join(Isave_dir,'imputedSNPSFILELessThanPoint1.txt')\n",
    "imputedBayEnvLessThanPoint1.to_csv(IBELTP1,header=False,index=False,sep=\"\\t\")\n",
    "IBELTP2 = os.path.join(Isave_dir,'imputedSNPSFILELessThanPoint2.txt')\n",
    "imputedBayEnvLessThanPoint2.to_csv(IBELTP2,header=False,index=False,sep=\"\\t\")\n",
    "IBELTP3 = os.path.join(Isave_dir,'imputedSNPSFILELessThanPoint3.txt')\n",
    "imputedBayEnvLessThanPoint3.to_csv(IBELTP3,header=False,index=False,sep=\"\\t\")\n",
    "IBELTP4 = os.path.join(Isave_dir,'imputedSNPSFILELessThanPoint4.txt')\n",
    "imputedBayEnvLessThanPoint4.to_csv(IBELTP4,header=False,index=False,sep=\"\\t\")\n",
    "IBELTP5 = os.path.join(Isave_dir,'imputedSNPSFILELessThanPoint5.txt')\n",
    "imputedBayEnvLessThanPoint5.to_csv(IBELTP5,header=False,index=False,sep=\"\\t\")"
   ]
  },
  {
   "cell_type": "markdown",
   "metadata": {},
   "source": [
    "#Moving on to calculate Environmental values"
   ]
  },
  {
   "cell_type": "code",
   "execution_count": 0,
   "metadata": {
    "collapsed": true
   },
   "outputs": [],
   "source": [
    "file_dir = '/gpfs_fs/home/eckertlab/wbp/BayEnv/ENV_files/'"
   ]
  },
  {
   "cell_type": "code",
   "execution_count": 0,
   "metadata": {
    "collapsed": false
   },
   "outputs": [],
   "source": [
    "test.head()"
   ]
  },
  {
   "cell_type": "code",
   "execution_count": 0,
   "metadata": {
    "collapsed": false
   },
   "outputs": [],
   "source": [
    "test.columns"
   ]
  },
  {
   "cell_type": "code",
   "execution_count": 0,
   "metadata": {
    "collapsed": false
   },
   "outputs": [],
   "source": [
    "test.columns[12:28]"
   ]
  },
  {
   "cell_type": "code",
   "execution_count": 0,
   "metadata": {
    "collapsed": false
   },
   "outputs": [],
   "source": [
    "envdf = pd.DataFrame(data=[],columns=sorted(pops.keys()))\n",
    "envCount = 0\n",
    "for col in test.columns[12:28]: #for each environmental variable\n",
    "    globMean = np.mean(test[col])\n",
    "    globSTD = np.std(test[col])\n",
    "    for pop,v in sorted(pops.items()): #for each population\n",
    "        data = test[test['ID'].isin(pops[pop])] # grab all data for samples in that pop\n",
    "        popMean = np.mean(data[col])\n",
    "        est = (popMean - globMean)/globSTD\n",
    "        envdf.loc[envCount,pop] = est\n",
    "    envCount += 1\n",
    "envdf.index = test.columns[12:28]\n",
    "envdf"
   ]
  },
  {
   "cell_type": "code",
   "execution_count": 0,
   "metadata": {
    "collapsed": false
   },
   "outputs": [],
   "source": [
    "envdf['blank'] = \"\"\n",
    "envdf"
   ]
  },
  {
   "cell_type": "code",
   "execution_count": 0,
   "metadata": {
    "collapsed": false
   },
   "outputs": [],
   "source": [
    "save_dir"
   ]
  },
  {
   "cell_type": "code",
   "execution_count": 0,
   "metadata": {
    "collapsed": true
   },
   "outputs": [],
   "source": [
    "filE = os.path.join(save_dir,'ENVIRONFILE.txt')\n",
    "envdf.to_csv(filE,header=False,index=False,sep='\\t')"
   ]
  },
  {
   "cell_type": "code",
   "execution_count": 0,
   "metadata": {
    "collapsed": false
   },
   "outputs": [],
   "source": [
    "colFILE = os.path.join(save_dir,'ENVIRONFILEcolumns.txt')\n",
    "envdfcolumns = pd.DataFrame(envdf.columns)\n",
    "envdfcolumns.to_csv(colFILE,header=False,index=False,sep=\"\\t\")\n",
    "rowFILE = os.path.join(save_dir,'ENVIRONFILErows.txt')\n",
    "envdfrows = pd.DataFrame(envdf.index)\n",
    "envdfrows.to_csv(rowFILE,header=False,index=False,sep=\"\\t\")"
   ]
  },
  {
   "cell_type": "code",
   "execution_count": 0,
   "metadata": {
    "collapsed": true
   },
   "outputs": [],
   "source": [
    "envdfcolumns = envdf.columns"
   ]
  },
  {
   "cell_type": "code",
   "execution_count": 0,
   "metadata": {
    "collapsed": false
   },
   "outputs": [],
   "source": [
    "len(envdf.index)"
   ]
  },
  {
   "cell_type": "code",
   "execution_count": 0,
   "metadata": {
    "collapsed": false
   },
   "outputs": [],
   "source": [
    "test.head()"
   ]
  },
  {
   "cell_type": "code",
   "execution_count": 0,
   "metadata": {
    "collapsed": false
   },
   "outputs": [],
   "source": [
    "test.columns"
   ]
  },
  {
   "cell_type": "code",
   "execution_count": 0,
   "metadata": {
    "collapsed": true
   },
   "outputs": [],
   "source": [
    "#data = missingData[missingData.index.isin(pops[pop])]\n",
    "test[test['ID'].isin(popsamplist)]\n",
    "#popsamplist"
   ]
  },
  {
   "cell_type": "code",
   "execution_count": 0,
   "metadata": {
    "collapsed": false,
    "scrolled": true
   },
   "outputs": [],
   "source": [
    "#I never incorporated this into the ENVIRONFILE, which is OK\n",
    "latLong = defaultdict()\n",
    "count = 1\n",
    "for pop, popsamplist in sorted(pops.items()):\n",
    "    data = test[test['ID'].isin(popsamplist)]\n",
    "    avgLong = np.mean(data['lon'])\n",
    "    avgLat = np.mean(data['lat'])\n",
    "    latLong[pop] = [avgLat,avgLong]\n",
    "    print count,pop\n",
    "    count += 1\n",
    "latLong"
   ]
  },
  {
   "cell_type": "markdown",
   "metadata": {
    "collapsed": true
   },
   "source": [
    "#Running environmental correlations w bayenv2"
   ]
  },
  {
   "cell_type": "code",
   "execution_count": 0,
   "metadata": {
    "collapsed": true
   },
   "outputs": [],
   "source": [
    "#this was done via command line:\n",
    "#find -type f -name 'snp_batch*' | time parallel -j+0 --progress './bayenv2 -i {} -e ENVIRONFILE.txt -m matrix_unbinnedMissing.txt -k 100000 -r $RANDOM -p 8 -n 16 -t -f -c -X'"
   ]
  },
  {
   "cell_type": "markdown",
   "metadata": {
    "collapsed": true
   },
   "source": [
    " "
   ]
  },
  {
   "cell_type": "markdown",
   "metadata": {
    "collapsed": true
   },
   "source": [
    "# Looking at BFs from env correlations"
   ]
  },
  {
   "cell_type": "code",
   "execution_count": 0,
   "metadata": {
    "collapsed": false
   },
   "outputs": [],
   "source": [
    "file_dir = '/home/lindb/eckertlab/wbp/bayenv2/'\n",
    "miss_dir = os.path.join(file_dir,'Missing/SNPS/')\n",
    "imp_dir = os.path.join(file_dir,'Imputed/SNPS/')"
   ]
  },
  {
   "cell_type": "code",
   "execution_count": 0,
   "metadata": {
    "collapsed": false
   },
   "outputs": [],
   "source": [
    "print miss_dir,imp_dir"
   ]
  },
  {
   "cell_type": "code",
   "execution_count": 0,
   "metadata": {
    "collapsed": false
   },
   "outputs": [],
   "source": [
    "allimputed = pd.read_csv(os.path.join(imp_dir,'bf_environ.ENVIRONFILE.txt'),sep=\"\\t\",header=None)\n",
    "allimputed.index = allimputed[0].values.tolist()\n",
    "allimputed.sort_index(inplace=True)\n",
    "allimputed = pd.DataFrame(allimputed)\n",
    "allimputed.head()"
   ]
  },
  {
   "cell_type": "code",
   "execution_count": 0,
   "metadata": {
    "collapsed": false
   },
   "outputs": [],
   "source": [
    "allmissing = pd.read_csv(os.path.join(miss_dir,'bf_environ.ENVIRONFILE.txt'),sep=\"\\t\",header=None)\n",
    "allmissing.index = allmissing[0].values.tolist()\n",
    "allmissing.sort_index(inplace=True)\n",
    "allmissing = pd.DataFrame(allmissing)\n",
    "allmissing.head()"
   ]
  },
  {
   "cell_type": "code",
   "execution_count": 0,
   "metadata": {
    "collapsed": false
   },
   "outputs": [],
   "source": [
    "allimputed = allimputed.loc[:,1:] \n",
    "allimputed.columns = [x for x in range(len(allimputed.columns))]\n",
    "allimputed.head()"
   ]
  },
  {
   "cell_type": "code",
   "execution_count": 0,
   "metadata": {
    "collapsed": false
   },
   "outputs": [],
   "source": [
    "allmissing = allmissing.loc[:,1:]\n",
    "allmissing.columns = [x for x in range(len(allmissing.columns))]\n",
    "allmissing.head()"
   ]
  },
  {
   "cell_type": "code",
   "execution_count": 0,
   "metadata": {
    "collapsed": false
   },
   "outputs": [],
   "source": [
    "allmissing = allmissing.loc[:,:47]\n",
    "allimputed = allimputed.loc[:,:47]"
   ]
  },
  {
   "cell_type": "code",
   "execution_count": 0,
   "metadata": {
    "collapsed": false
   },
   "outputs": [],
   "source": [
    "len(allimputed.index),len(allmissing.index)"
   ]
  },
  {
   "cell_type": "code",
   "execution_count": 0,
   "metadata": {
    "collapsed": false
   },
   "outputs": [],
   "source": [
    "allimputed.shape #there are 48 data columns, 3 for each env [BF,r,rho]"
   ]
  },
  {
   "cell_type": "code",
   "execution_count": 0,
   "metadata": {
    "collapsed": false
   },
   "outputs": [],
   "source": [
    "allmissing.shape"
   ]
  },
  {
   "cell_type": "code",
   "execution_count": 0,
   "metadata": {
    "collapsed": false
   },
   "outputs": [],
   "source": [
    "file_dir"
   ]
  },
  {
   "cell_type": "code",
   "execution_count": 0,
   "metadata": {
    "collapsed": false
   },
   "outputs": [],
   "source": [
    "envdf = pd.read_csv(os.path.join(file_dir,'ENVIRONFILE.txt'),sep=\"\\t\",header=None)\n",
    "envdf = envdf.loc[:,0:7]\n",
    "envcol = pd.read_csv(os.path.join(file_dir,'ENVIRONFILEcolumns.txt'),sep=\"\\t\",header=None)\n",
    "envrow = pd.read_csv(os.path.join(file_dir,'ENVIRONFILErows.txt'),sep=\"\\t\",header=None)"
   ]
  },
  {
   "cell_type": "code",
   "execution_count": 0,
   "metadata": {
    "collapsed": false
   },
   "outputs": [],
   "source": [
    "envdf.index = envrow[0].tolist()\n",
    "envdf.index"
   ]
  },
  {
   "cell_type": "code",
   "execution_count": 0,
   "metadata": {
    "collapsed": false
   },
   "outputs": [],
   "source": [
    "envdf.columns = envcol[0].values.tolist()"
   ]
  },
  {
   "cell_type": "code",
   "execution_count": 0,
   "metadata": {
    "collapsed": false
   },
   "outputs": [],
   "source": [
    "envdf.head()"
   ]
  },
  {
   "cell_type": "code",
   "execution_count": 0,
   "metadata": {
    "collapsed": false
   },
   "outputs": [],
   "source": [
    "#assign column value for each environmental variable\n",
    "envDict = OrderedDict()\n",
    "for i, env in enumerate(envdf.index):\n",
    "    print i,env\n",
    "    envDict[env] = [(i*3),(i*3)+1,(i*3)+2]\n",
    "envDict"
   ]
  },
  {
   "cell_type": "code",
   "execution_count": 0,
   "metadata": {
    "collapsed": true
   },
   "outputs": [],
   "source": [
    "colDict = {}\n",
    "colDict[0] = 'BF'\n",
    "colDict[1] = 'rho'\n",
    "colDict[2] = 'pearson'"
   ]
  },
  {
   "cell_type": "code",
   "execution_count": 0,
   "metadata": {
    "collapsed": false
   },
   "outputs": [],
   "source": [
    "rowDict = OrderedDict()\n",
    "for env,rows in envDict.items():\n",
    "    print env,rows\n",
    "    rowCount = 0\n",
    "    for row in rows:\n",
    "        sub = '_'.join([str(env), colDict[rowCount]]) \n",
    "        rowDict[row] = sub\n",
    "        rowCount += 1"
   ]
  },
  {
   "cell_type": "code",
   "execution_count": 0,
   "metadata": {
    "collapsed": false
   },
   "outputs": [],
   "source": [
    "rowDict"
   ]
  },
  {
   "cell_type": "code",
   "execution_count": 0,
   "metadata": {
    "collapsed": false
   },
   "outputs": [],
   "source": [
    "rowDict[47],rowDict[0]"
   ]
  },
  {
   "cell_type": "code",
   "execution_count": 0,
   "metadata": {
    "collapsed": false
   },
   "outputs": [],
   "source": [
    "impColLST = []\n",
    "for col in allimputed.columns:\n",
    "    impColLST.append(rowDict[col])\n",
    "allimputed.columns = impColLST\n",
    "allimputed.head()"
   ]
  },
  {
   "cell_type": "code",
   "execution_count": 0,
   "metadata": {
    "collapsed": false
   },
   "outputs": [],
   "source": [
    "misColLST = []\n",
    "for col in allmissing.columns:\n",
    "    misColLST.append(rowDict[col])\n",
    "allmissing.columns = misColLST\n",
    "allmissing.head()"
   ]
  },
  {
   "cell_type": "code",
   "execution_count": 0,
   "metadata": {
    "collapsed": false,
    "scrolled": true
   },
   "outputs": [],
   "source": [
    "impSNPSFILE = pd.read_csv('/home/lindb/eckertlab/wbp/bayenv2/Imputed/UnbinnedImputedSNPSFILE.txt',header=0,index_col=0,sep=\"\\t\")\n",
    "impSNPSFILE = pd.DataFrame(impSNPSFILE)\n",
    "impSNPSFILE.head()"
   ]
  },
  {
   "cell_type": "code",
   "execution_count": 0,
   "metadata": {
    "collapsed": false
   },
   "outputs": [],
   "source": [
    "misSNPSFILE = pd.read_csv('/home/lindb/eckertlab/wbp/bayenv2/Missing/UnbinnedMissingSNPSFILE.txt',header=0,index_col=0,sep=\"\\t\")\n",
    "misSNPSFILE = pd.DataFrame(misSNPSFILE)\n",
    "misSNPSFILE.head()"
   ]
  },
  {
   "cell_type": "code",
   "execution_count": 0,
   "metadata": {
    "collapsed": false
   },
   "outputs": [],
   "source": [
    "impLST = [x for x in range(len(impSNPSFILE.index)) if x % 2 == 0]\n",
    "impLST[0:5]"
   ]
  },
  {
   "cell_type": "code",
   "execution_count": 0,
   "metadata": {
    "collapsed": false
   },
   "outputs": [],
   "source": [
    "allimputed.index = list(impSNPSFILE.index[impLST])\n",
    "allimputed.head()"
   ]
  },
  {
   "cell_type": "code",
   "execution_count": 0,
   "metadata": {
    "collapsed": false
   },
   "outputs": [],
   "source": [
    "misLST = [x for x in range(len(misSNPSFILE.index)) if x % 2 ==0]\n",
    "misLST[0:5]"
   ]
  },
  {
   "cell_type": "code",
   "execution_count": 0,
   "metadata": {
    "collapsed": false
   },
   "outputs": [],
   "source": [
    "allmissing.index = list(misSNPSFILE.index[misLST])\n",
    "allmissing.head()"
   ]
  },
  {
   "cell_type": "code",
   "execution_count": 0,
   "metadata": {
    "collapsed": false
   },
   "outputs": [],
   "source": [
    "allmissing.shape,allimputed.shape"
   ]
  },
  {
   "cell_type": "code",
   "execution_count": 0,
   "metadata": {
    "collapsed": true
   },
   "outputs": [],
   "source": [
    "impfile = '/home/lindb/eckertlab/wbp/bayenv2/Final/imputed_bayenv2_outputSNPbyENV.txt'\n",
    "allimputed.to_csv(impfile,header=True,index=True,sep=\"\\t\")\n",
    "misfile = '/home/lindb/eckertlab/wbp/bayenv2/Final/missing_bayenv2_outputSNPbyENV.txt'\n",
    "allmissing.to_csv(misfile,header=True,index=True,sep=\"\\t\")"
   ]
  },
  {
   "cell_type": "code",
   "execution_count": 0,
   "metadata": {
    "collapsed": true
   },
   "outputs": [],
   "source": []
  },
  {
   "cell_type": "code",
   "execution_count": 0,
   "metadata": {
    "collapsed": true
   },
   "outputs": [],
   "source": []
  },
  {
   "cell_type": "code",
   "execution_count": 0,
   "metadata": {
    "collapsed": true
   },
   "outputs": [],
   "source": [
    "for env in envDict.keys():\n",
    "    print impEnvsBFs[env].describe()"
   ]
  },
  {
   "cell_type": "code",
   "execution_count": 0,
   "metadata": {
    "collapsed": true
   },
   "outputs": [],
   "source": []
  },
  {
   "cell_type": "code",
   "execution_count": 0,
   "metadata": {
    "collapsed": false
   },
   "outputs": [],
   "source": [
    "filE = '/home/lindb/eckertlab/wbp/bayenv2/Final/imputedBFs_by_SNP_IDXHEADER.txt'\n",
    "impEnvsBFs.to_csv(filE,sep=\"\\t\",header=True,index=True)"
   ]
  },
  {
   "cell_type": "code",
   "execution_count": 0,
   "metadata": {
    "collapsed": true
   },
   "outputs": [],
   "source": []
  },
  {
   "cell_type": "code",
   "execution_count": 0,
   "metadata": {
    "collapsed": true
   },
   "outputs": [],
   "source": []
  },
  {
   "cell_type": "code",
   "execution_count": 0,
   "metadata": {
    "collapsed": false,
    "scrolled": true
   },
   "outputs": [],
   "source": [
    "sorted(missEnvsBFs['elev'])[-50:]"
   ]
  },
  {
   "cell_type": "code",
   "execution_count": 0,
   "metadata": {
    "collapsed": false,
    "scrolled": true
   },
   "outputs": [],
   "source": [
    "plt.hist(np.histogram(x))"
   ]
  },
  {
   "cell_type": "code",
   "execution_count": 0,
   "metadata": {
    "collapsed": false
   },
   "outputs": [],
   "source": [
    "plt.hist(missEnvsBFs['elev'].dropna().tolist())"
   ]
  },
  {
   "cell_type": "code",
   "execution_count": 0,
   "metadata": {
    "collapsed": true
   },
   "outputs": [],
   "source": []
  },
  {
   "cell_type": "markdown",
   "metadata": {
    "collapsed": true
   },
   "source": [
    "#determine signficant SNPs"
   ]
  },
  {
   "cell_type": "code",
   "execution_count": 0,
   "metadata": {
    "collapsed": false
   },
   "outputs": [],
   "source": [
    "imppifile = '/home/lindb/wbp/bayenv2/Final/imputed/imputed_bayenv2_outputSNPbyENV.txt' \n",
    "impdata = pd.read_csv(imppifile,header=0,index_col=0,sep=\"\\t\")\n",
    "impdata.head()"
   ]
  },
  {
   "cell_type": "code",
   "execution_count": 0,
   "metadata": {
    "collapsed": true
   },
   "outputs": [],
   "source": [
    "DIR = '/home/lindb/wbp/bayenv2/Final/'"
   ]
  },
  {
   "cell_type": "code",
   "execution_count": 0,
   "metadata": {
    "collapsed": true
   },
   "outputs": [],
   "source": [
    "#get significant SNPs\n",
    "for col in impdata.columns:\n",
    "    if '_BF' in col:\n",
    "        print col,len(impdata[impdata[col]>5])\n",
    "        loci = impdata[impdata[col]>=5].index\n",
    "        loci = pd.DataFrame(loci)\n",
    "        env = col.split(\".\")[0]\n",
    "        loci.columns = [env]\n",
    "        filE = os.path.join(DIR,env+'_imputed_sigSNPs.txt')\n",
    "        loci.to_csv(filE,header=True,index=False,sep=\"\\t\")    "
   ]
  },
  {
   "cell_type": "code",
   "execution_count": 0,
   "metadata": {
    "collapsed": false
   },
   "outputs": [],
   "source": [
    "np.mean(abs(impdata[col]))"
   ]
  },
  {
   "cell_type": "code",
   "execution_count": 0,
   "metadata": {
    "collapsed": true
   },
   "outputs": [],
   "source": [
    "import matplotlib.pyplot as plt\n",
    "import matplotlib.gridspec as gridspec\n",
    "from matplotlib.backends.backend_pdf import PdfPages\n",
    "import matplotlib.ticker as mtick\n",
    "%matplotlib inline"
   ]
  },
  {
   "cell_type": "code",
   "execution_count": 0,
   "metadata": {
    "collapsed": false
   },
   "outputs": [],
   "source": [
    "plt.hist(impdata[col])"
   ]
  },
  {
   "cell_type": "code",
   "execution_count": 0,
   "metadata": {
    "collapsed": false
   },
   "outputs": [],
   "source": [
    "from scipy import stats"
   ]
  },
  {
   "cell_type": "code",
   "execution_count": 0,
   "metadata": {
    "collapsed": true
   },
   "outputs": [],
   "source": [
    "def mean_confidence_interval(data, confidence=0.95):\n",
    "    a = 1.0*np.array(data)\n",
    "    n = len(a)\n",
    "    m, se = np.mean(a), stats.sem(a)\n",
    "    h = se * stats.t.ppf((1+confidence)/2., n-1)\n",
    "    return m, m-h, m+h"
   ]
  },
  {
   "cell_type": "code",
   "execution_count": 0,
   "metadata": {
    "collapsed": false,
    "scrolled": true
   },
   "outputs": [],
   "source": [
    "#get distribution of BFs for each env\n",
    "cols = ['env','mean','low CI','high CI','variance']\n",
    "df = pd.DataFrame(columns = cols)\n",
    "rowcount =0\n",
    "for col in impdata.columns:\n",
    "    if '_BF' in col:\n",
    "        df.loc[rowcount,'env'] = col.split(\"_\")[0]\n",
    "        df.loc[rowcount,'mean'] = np.mean(impdata[col])\n",
    "        rowcount += 1\n",
    "df        "
   ]
  },
  {
   "cell_type": "code",
   "execution_count": 0,
   "metadata": {
    "collapsed": false,
    "scrolled": true
   },
   "outputs": [],
   "source": [
    "#get distribution of BFs for each env\n",
    "cols = ['env','mean','low CI','high CI','variance']\n",
    "df2 = pd.DataFrame(columns = cols)\n",
    "rowcount =0\n",
    "for col in sorted(impdata.columns):\n",
    "    if '_BF' in col:\n",
    "        df2.loc[rowcount,'env'] = col.split(\"_\")[0]\n",
    "        df2.loc[rowcount,'mean'] = mean_confidence_interval(impdata[col],0.95)[0]\n",
    "        df2.loc[rowcount,'low CI'] = mean_confidence_interval(impdata[col],0.95)[1]\n",
    "        df2.loc[rowcount,'high CI'] = mean_confidence_interval(impdata[col],0.95)[2]\n",
    "        df2.loc[rowcount,'variance'] = np.var(impdata[col])\n",
    "        rowcount += 1\n",
    "df2        "
   ]
  },
  {
   "cell_type": "code",
   "execution_count": 0,
   "metadata": {
    "collapsed": true
   },
   "outputs": [],
   "source": [
    "df2.to_csv('/home/lindb/wbp/bayenv2/Final/imputed/imputed_BF_dist_description.txt',header=True,index=False,sep=\"\\t\")"
   ]
  },
  {
   "cell_type": "code",
   "execution_count": 0,
   "metadata": {
    "collapsed": false,
    "scrolled": true
   },
   "outputs": [],
   "source": [
    "len(impdata[impdata['elev_BF']>=5].index)"
   ]
  },
  {
   "cell_type": "code",
   "execution_count": 0,
   "metadata": {
    "collapsed": false,
    "scrolled": true
   },
   "outputs": [],
   "source": [
    "DIR = '/home/lindb/wbp/bayenv2/Final/imputed/'\n",
    "files = os.listdir(DIR)\n",
    "files = [f for f in files if not f.startswith('imputed')]\n",
    "len(files)"
   ]
  },
  {
   "cell_type": "code",
   "execution_count": 0,
   "metadata": {
    "collapsed": false
   },
   "outputs": [],
   "source": [
    "for f in files:\n",
    "    df = pd.read_csv(os.path.join(DIR,f),header=0,sep=\"\\t\")\n",
    "    env = f.split(\"_\")[0]\n",
    "    print env\n",
    "    df.columns = [env]\n",
    "    df.to_csv(os.path.join(DIR,f),header=True,index=False,sep=\"\\t\")"
   ]
  },
  {
   "cell_type": "code",
   "execution_count": 0,
   "metadata": {
    "collapsed": true
   },
   "outputs": [],
   "source": []
  },
  {
   "cell_type": "code",
   "execution_count": 0,
   "metadata": {
    "collapsed": true
   },
   "outputs": [],
   "source": []
  },
  {
   "cell_type": "markdown",
   "metadata": {
    "collapsed": true
   },
   "source": [
    "#look at overlap between missing and imputed"
   ]
  },
  {
   "cell_type": "code",
   "execution_count": 0,
   "metadata": {
    "collapsed": false
   },
   "outputs": [],
   "source": [
    "files = os.listdir('/home/lindb/wbp/bayenv2/Final/imputed')\n",
    "files = [os.path.join('/home/lindb/wbp/bayenv2/Final/imputed',f) for f in files if not f.startswith('imp') and f.endswith('txt')]\n",
    "FILES = os.listdir('/home/lindb/wbp/bayenv2/Final/missing')\n",
    "FILES = [os.path.join('/home/lindb/wbp/bayenv2/Final/missing',f) for f in FILES if not f.startswith('mis') and f.endswith('txt')]\n",
    "files = files + FILES\n",
    "len(files)"
   ]
  },
  {
   "cell_type": "code",
   "execution_count": 0,
   "metadata": {
    "collapsed": true
   },
   "outputs": [],
   "source": [
    "snpDict = OrderedDict()\n",
    "snpDict['imputed'] = OrderedDict()\n",
    "snpDict['missing'] = OrderedDict()\n",
    "for f in sorted(files):\n",
    "    dset = os.path.basename(os.path.dirname(f))\n",
    "    env = os.path.basename(f).split(\"_\")[0]\n",
    "    print dset,env\n",
    "    df = pd.read_csv(f,header=0,sep=\"\\t\")\n",
    "    snps = df[env].tolist()\n",
    "    snpDict[dset][env] = snps"
   ]
  },
  {
   "cell_type": "code",
   "execution_count": 0,
   "metadata": {
    "collapsed": false
   },
   "outputs": [],
   "source": [
    "for env in snpDict['imputed'].keys():\n",
    "    overlap = set(snpDict['imputed'][env]).intersection(set(snpDict['missing'][env]))\n",
    "    print env, len(overlap)"
   ]
  },
  {
   "cell_type": "code",
   "execution_count": 0,
   "metadata": {
    "collapsed": true
   },
   "outputs": [],
   "source": []
  },
  {
   "cell_type": "code",
   "execution_count": 0,
   "metadata": {
    "collapsed": true
   },
   "outputs": [],
   "source": []
  },
  {
   "cell_type": "code",
   "execution_count": 0,
   "metadata": {
    "collapsed": true
   },
   "outputs": [],
   "source": []
  },
  {
   "cell_type": "code",
   "execution_count": 0,
   "metadata": {
    "collapsed": true
   },
   "outputs": [],
   "source": []
  },
  {
   "cell_type": "code",
   "execution_count": 0,
   "metadata": {
    "collapsed": true
   },
   "outputs": [],
   "source": []
  },
  {
   "cell_type": "code",
   "execution_count": 0,
   "metadata": {
    "collapsed": true
   },
   "outputs": [],
   "source": []
  },
  {
   "cell_type": "code",
   "execution_count": 0,
   "metadata": {
    "collapsed": true
   },
   "outputs": [],
   "source": []
  },
  {
   "cell_type": "code",
   "execution_count": 0,
   "metadata": {
    "collapsed": true
   },
   "outputs": [],
   "source": []
  },
  {
   "cell_type": "code",
   "execution_count": 0,
   "metadata": {
    "collapsed": true
   },
   "outputs": [],
   "source": []
  },
  {
   "cell_type": "code",
   "execution_count": 0,
   "metadata": {
    "collapsed": true
   },
   "outputs": [],
   "source": []
  },
  {
   "cell_type": "code",
   "execution_count": 0,
   "metadata": {
    "collapsed": true
   },
   "outputs": [],
   "source": []
  },
  {
   "cell_type": "code",
   "execution_count": 0,
   "metadata": {
    "collapsed": true
   },
   "outputs": [],
   "source": []
  },
  {
   "cell_type": "code",
   "execution_count": 0,
   "metadata": {
    "collapsed": true
   },
   "outputs": [],
   "source": []
  },
  {
   "cell_type": "code",
   "execution_count": 0,
   "metadata": {
    "collapsed": true
   },
   "outputs": [],
   "source": []
  },
  {
   "cell_type": "code",
   "execution_count": 0,
   "metadata": {
    "collapsed": true
   },
   "outputs": [],
   "source": []
  },
  {
   "cell_type": "code",
   "execution_count": 0,
   "metadata": {
    "collapsed": true
   },
   "outputs": [],
   "source": []
  },
  {
   "cell_type": "code",
   "execution_count": 0,
   "metadata": {
    "collapsed": true
   },
   "outputs": [],
   "source": []
  },
  {
   "cell_type": "code",
   "execution_count": 0,
   "metadata": {
    "collapsed": true
   },
   "outputs": [],
   "source": []
  },
  {
   "cell_type": "code",
   "execution_count": 0,
   "metadata": {
    "collapsed": true
   },
   "outputs": [],
   "source": []
  },
  {
   "cell_type": "code",
   "execution_count": 0,
   "metadata": {
    "collapsed": true
   },
   "outputs": [],
   "source": []
  },
  {
   "cell_type": "code",
   "execution_count": 0,
   "metadata": {
    "collapsed": true
   },
   "outputs": [],
   "source": []
  },
  {
   "cell_type": "code",
   "execution_count": 0,
   "metadata": {
    "collapsed": true
   },
   "outputs": [],
   "source": []
  },
  {
   "cell_type": "code",
   "execution_count": 0,
   "metadata": {
    "collapsed": true
   },
   "outputs": [],
   "source": []
  },
  {
   "cell_type": "code",
   "execution_count": 0,
   "metadata": {
    "collapsed": true
   },
   "outputs": [],
   "source": []
  },
  {
   "cell_type": "code",
   "execution_count": 0,
   "metadata": {
    "collapsed": true
   },
   "outputs": [],
   "source": []
  },
  {
   "cell_type": "code",
   "execution_count": 0,
   "metadata": {
    "collapsed": true
   },
   "outputs": [],
   "source": []
  },
  {
   "cell_type": "code",
   "execution_count": 0,
   "metadata": {
    "collapsed": true
   },
   "outputs": [],
   "source": []
  },
  {
   "cell_type": "code",
   "execution_count": 0,
   "metadata": {
    "collapsed": true
   },
   "outputs": [],
   "source": []
  },
  {
   "cell_type": "code",
   "execution_count": 0,
   "metadata": {
    "collapsed": true
   },
   "outputs": [],
   "source": []
  },
  {
   "cell_type": "code",
   "execution_count": 0,
   "metadata": {
    "collapsed": true
   },
   "outputs": [],
   "source": []
  },
  {
   "cell_type": "code",
   "execution_count": 0,
   "metadata": {
    "collapsed": true
   },
   "outputs": [],
   "source": []
  },
  {
   "cell_type": "code",
   "execution_count": 0,
   "metadata": {
    "collapsed": true
   },
   "outputs": [],
   "source": []
  },
  {
   "cell_type": "code",
   "execution_count": 0,
   "metadata": {
    "collapsed": true
   },
   "outputs": [],
   "source": []
  },
  {
   "cell_type": "code",
   "execution_count": 0,
   "metadata": {
    "collapsed": true
   },
   "outputs": [],
   "source": []
  },
  {
   "cell_type": "code",
   "execution_count": 0,
   "metadata": {
    "collapsed": true
   },
   "outputs": [],
   "source": []
  },
  {
   "cell_type": "code",
   "execution_count": 0,
   "metadata": {
    "collapsed": true
   },
   "outputs": [],
   "source": []
  },
  {
   "cell_type": "code",
   "execution_count": 0,
   "metadata": {
    "collapsed": true
   },
   "outputs": [],
   "source": []
  }
 ],
 "metadata": {
  "kernelspec": {
   "display_name": "Python 2",
   "language": "python",
   "name": "python2"
  },
  "language_info": {
   "codemirror_mode": {
    "name": "ipython",
    "version": 2
   },
   "file_extension": ".py",
   "mimetype": "text/x-python",
   "name": "python",
   "nbconvert_exporter": "python",
   "pygments_lexer": "ipython2",
   "version": "2.7.11"
  }
 },
 "nbformat": 4,
 "nbformat_minor": 0
}
