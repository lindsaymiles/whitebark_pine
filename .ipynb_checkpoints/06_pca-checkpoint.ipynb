{
 "cells": [
  {
   "cell_type": "code",
   "execution_count": 0,
   "metadata": {
    "collapsed": false
   },
   "outputs": [],
   "source": [
    "import os\n",
    "from collections import OrderedDict,Counter\n",
    "from __future__ import division\n",
    "import pandas as pd\n",
    "import numpy as np\n",
    "import vcf\n",
    "from operator import itemgetter\n",
    "import random\n",
    "import matplotlib.pyplot as plt\n",
    "import matplotlib.gridspec as gridspec\n",
    "from matplotlib.backends.backend_pdf import PdfPages\n",
    "import matplotlib.ticker as mtick\n",
    "import matplotlib.colors as mcolors\n",
    "import matplotlib.cm as cm\n",
    "import matplotlib.patches as mpatches\n",
    "%matplotlib inline\n",
    "import os.listdir as ls\n",
    "import os.path as op"
   ]
  },
  {
   "cell_type": "code",
   "execution_count": 0,
   "metadata": {
    "collapsed": false
   },
   "outputs": [],
   "source": [
    "#get pop info\n",
    "test = pd.read_csv('/home/lindb/wbp/WBP_IDS_MATCHED_POP_FINAL_02162016.csv',header=0,sep=\"\\t\")\n",
    "test.head()"
   ]
  },
  {
   "cell_type": "code",
   "execution_count": 0,
   "metadata": {
    "collapsed": false
   },
   "outputs": [],
   "source": [
    "len(np.unique(test['UCD_ID']))"
   ]
  },
  {
   "cell_type": "code",
   "execution_count": 0,
   "metadata": {
    "collapsed": false
   },
   "outputs": [],
   "source": [
    "#get pop info\n",
    "stpDict = OrderedDict()\n",
    "for row in test.index:\n",
    "    ID = test.loc[row,'UCD_ID'][-3:] + 'compiled'\n",
    "    if ID not in stpDict.keys():\n",
    "        stpDict[ID] = OrderedDict()\n",
    "    stpDict[ID]['pop'] = test.loc[row,'Population_ID']\n",
    "    stpDict[ID]['plot'] = str(test.loc[row,'Plot_id'])\n",
    "len(stpDict.keys())    "
   ]
  },
  {
   "cell_type": "code",
   "execution_count": 0,
   "metadata": {
    "collapsed": false
   },
   "outputs": [],
   "source": [
    "#write out for future use\n",
    "filE = '/home/lindb/wbp/sampsTOpop.txt'\n",
    "with open(filE,'w') as o:\n",
    "    text = '\\t'.join(['sampID','pop','plot'])+'\\n'\n",
    "    o.write(\"%s\" % text)\n",
    "    for samp in sorted(stpDict.keys()):\n",
    "        text = '\\t'.join([samp,stpDict[samp]['pop'],stpDict[samp]['plot']])+'\\n'\n",
    "        o.write(\"%s\" % text)\n",
    "stp = pd.read_csv(filE,header=0,sep=\"\\t\")\n",
    "stp.head()"
   ]
  },
  {
   "cell_type": "code",
   "execution_count": 0,
   "metadata": {
    "collapsed": false
   },
   "outputs": [],
   "source": [
    "stp = pd.read_csv('/home/lindb/wbp/sampsTOpop.txt',header=0,sep=\"\\t\")\n",
    "stp.head()"
   ]
  },
  {
   "cell_type": "code",
   "execution_count": 0,
   "metadata": {
    "collapsed": true
   },
   "outputs": [],
   "source": [
    "stpDict = OrderedDict()\n",
    "for row in stp.index:\n",
    "    samp = stp.loc[row,'sampID']\n",
    "    stpDict[samp] = OrderedDict()\n",
    "    stpDict[samp]['pop'] = stp.loc[row,'pop']\n",
    "    stpDict[samp]['plot'] = stp.loc[row,'plot']"
   ]
  },
  {
   "cell_type": "code",
   "execution_count": 0,
   "metadata": {
    "collapsed": true
   },
   "outputs": [],
   "source": [
    "#convert vcf.012 to data.frame\n",
    "def get_z12_df(z12_file):\n",
    "    indv_file = \"%s.indv\" % z12_file\n",
    "    pos_file = \"%s.pos\" % z12_file\n",
    "    z12_data = []\n",
    "    for i, line in enumerate(open(z12_file)):\n",
    "        line = line.strip()\n",
    "        line = [int(x) for x in line.split(\"\\t\")]\n",
    "        z12_data.append(np.array(line))\n",
    "    z12_data = np.array(z12_data)\n",
    "    p = pd.read_csv(pos_file, sep=\"\\t\", names=['contig', 'pos'])\n",
    "    df = pd.DataFrame(z12_data)\n",
    "    df = df.drop(0, axis=1)\n",
    "    df.columns = p.apply(lambda x: \"%s_%s\" % (x.contig, x.pos), axis=1)\n",
    "    df.index = [x.strip() for x in open(indv_file).readlines()]    \n",
    "    return df"
   ]
  },
  {
   "cell_type": "code",
   "execution_count": 0,
   "metadata": {
    "collapsed": true
   },
   "outputs": [],
   "source": [
    "misdir = '/home/lindb/wbp/concatenated/snps/'\n",
    "impdir = '/home/lindb/wbp/concatenated/snps/beagle40/'\n",
    "misz12 = op.join(misdir,'isect_one_per_contig.recode.vcf.gz_sorted.vcf.gz.012')\n",
    "impz12 = op.join(impdir,'isect_one_per_contig.recode.vcf.gz_sorted.vcf.gz.012')\n",
    "z12s = [impz12,misz12]"
   ]
  },
  {
   "cell_type": "code",
   "execution_count": 0,
   "metadata": {
    "collapsed": false
   },
   "outputs": [],
   "source": [
    "z12_dfs = [get_z12_df(z) for z in z12s]"
   ]
  },
  {
   "cell_type": "code",
   "execution_count": 0,
   "metadata": {
    "collapsed": false
   },
   "outputs": [],
   "source": [
    "z12_dfs[0][z12_dfs[0].columns[-3:]].head()"
   ]
  },
  {
   "cell_type": "code",
   "execution_count": 0,
   "metadata": {
    "collapsed": false
   },
   "outputs": [],
   "source": [
    "z12_dfs[1][z12_dfs[1].columns[-3:]].head()"
   ]
  },
  {
   "cell_type": "code",
   "execution_count": 0,
   "metadata": {
    "collapsed": false
   },
   "outputs": [],
   "source": [
    "'249compiled' in z12_dfs[0].index"
   ]
  },
  {
   "cell_type": "code",
   "execution_count": 0,
   "metadata": {
    "collapsed": false
   },
   "outputs": [],
   "source": [
    "[z.shape for z in z12_dfs]"
   ]
  },
  {
   "cell_type": "code",
   "execution_count": 0,
   "metadata": {
    "collapsed": false
   },
   "outputs": [],
   "source": [
    "for z in z12_dfs:\n",
    "    for samp in z.index:\n",
    "        z.loc[samp,'population'] = stpDict[samp]['pop']\n",
    "        #print samp,stpDict[samp]"
   ]
  },
  {
   "cell_type": "code",
   "execution_count": 0,
   "metadata": {
    "collapsed": false
   },
   "outputs": [],
   "source": [
    "z12_dfs[0].head()"
   ]
  },
  {
   "cell_type": "code",
   "execution_count": 0,
   "metadata": {
    "collapsed": false
   },
   "outputs": [],
   "source": [
    "z12_dfs[0][z12_dfs[0].columns[-3:]].head()"
   ]
  },
  {
   "cell_type": "code",
   "execution_count": 0,
   "metadata": {
    "collapsed": false
   },
   "outputs": [],
   "source": [
    "z12_dfs[1][z12_dfs[1].columns[-3:]].head()"
   ]
  },
  {
   "cell_type": "code",
   "execution_count": 0,
   "metadata": {
    "collapsed": false
   },
   "outputs": [],
   "source": [
    "[z.shape for z in z12_dfs]"
   ]
  },
  {
   "cell_type": "code",
   "execution_count": 0,
   "metadata": {
    "collapsed": true
   },
   "outputs": [],
   "source": [
    "def get_percent_missing(col):\n",
    "    return len(col[col==-1])*1.0/len(col)   "
   ]
  },
  {
   "cell_type": "code",
   "execution_count": 0,
   "metadata": {
    "collapsed": false
   },
   "outputs": [],
   "source": [
    "%time p_mis = z12_dfs[1].apply(get_percent_missing,axis=0)"
   ]
  },
  {
   "cell_type": "code",
   "execution_count": 0,
   "metadata": {
    "collapsed": false
   },
   "outputs": [],
   "source": [
    "p_mis.describe()\n",
    "#count    116232.000000\n",
    "#mean          0.350268\n",
    "#std           0.090316\n",
    "#min           0.000000\n",
    "#25%           0.282787\n",
    "#50%           0.356557\n",
    "#75%           0.426230\n",
    "#max           0.500000\n",
    "#dtype: float64"
   ]
  },
  {
   "cell_type": "code",
   "execution_count": 0,
   "metadata": {
    "collapsed": false
   },
   "outputs": [],
   "source": [
    "%time p_imp = z12_dfs[0].apply(get_percent_missing,axis=0)"
   ]
  },
  {
   "cell_type": "code",
   "execution_count": 0,
   "metadata": {
    "collapsed": false
   },
   "outputs": [],
   "source": [
    "p_imp.describe() #should be 0 since it's the imputed set\n",
    "#count    116232\n",
    "#mean          0\n",
    "#std           0\n",
    "#min           0\n",
    "#25%           0\n",
    "#50%           0\n",
    "#75%           0\n",
    "#max           0\n",
    "#dtype: float64"
   ]
  },
  {
   "cell_type": "code",
   "execution_count": 0,
   "metadata": {
    "collapsed": false
   },
   "outputs": [],
   "source": [
    "flz = ['/home/lindb/wbp/workingsnps/imputed/imputed_z12.txt','/home/lindb/wbp/workingsnps/missing/missing_z12.txt']\n",
    "for i,z in enumerate(z12_dfs):\n",
    "    z.to_csv(flz[i],header=True,index=True,sep=\"\\t\")"
   ]
  },
  {
   "cell_type": "code",
   "execution_count": 0,
   "metadata": {
    "collapsed": true
   },
   "outputs": [],
   "source": [
    "def get_correction(n):\n",
    "    #for finite sample size\n",
    "    return (2*n)/(2*n-1)\n",
    "\n",
    "def get_allele_freqs(locus, debug):\n",
    "    c = locus[locus != -1].value_counts()\n",
    "    total_alleles = 2.0*sum(c)\n",
    "    num_individuals = sum(c)\n",
    "    P = 0\n",
    "    Q = 0\n",
    "    PQ = 0\n",
    "    if 0 in c:\n",
    "        P = 2*c[0]\n",
    "    if 2 in c:\n",
    "        Q = 2*c[2]\n",
    "    if 1 in c:\n",
    "        PQ = c[1]\n",
    "    P += PQ\n",
    "    Q += PQ\n",
    "    if total_alleles == 0:\n",
    "        return None\n",
    "    p = P/total_alleles\n",
    "    q = Q/total_alleles\n",
    "    assert p + q == 1.0\n",
    "    He = 2 * p * q * get_correction(num_individuals)\n",
    "    Ho = PQ*1.0/num_individuals\n",
    "    Fis = 1 - (Ho/He)\n",
    "    #print p, q, He, Ho, Fis\n",
    "    \n",
    "        \n",
    "    ret = pd.Series({\"p\":p, \n",
    "                      \"q\":q,\n",
    "                      \"P\":P,\n",
    "                      \"Q\":Q,\n",
    "                      \"He\":He,\n",
    "                      \"Ho\":Ho, \n",
    "                      \"Fis\":Fis})\n",
    "    if debug:\n",
    "        print(ret)\n",
    "    return ret"
   ]
  },
  {
   "cell_type": "code",
   "execution_count": 0,
   "metadata": {
    "collapsed": false
   },
   "outputs": [],
   "source": [
    "z12_freqs = [z.ix[:,:-1].apply(get_allele_freqs,debug=False) for z in z12_dfs]"
   ]
  },
  {
   "cell_type": "code",
   "execution_count": 0,
   "metadata": {
    "collapsed": false
   },
   "outputs": [],
   "source": [
    "[z.shape for z in z12_freqs]"
   ]
  },
  {
   "cell_type": "code",
   "execution_count": 0,
   "metadata": {
    "collapsed": false
   },
   "outputs": [],
   "source": [
    "z12_freqs[0].head()"
   ]
  },
  {
   "cell_type": "code",
   "execution_count": 0,
   "metadata": {
    "collapsed": true
   },
   "outputs": [],
   "source": [
    "mafs = [z.apply(lambda x: min(x[\"p\"], x[\"q\"])) for z in z12_freqs]"
   ]
  },
  {
   "cell_type": "code",
   "execution_count": 0,
   "metadata": {
    "collapsed": false
   },
   "outputs": [],
   "source": [
    "mafs[0].head()"
   ]
  },
  {
   "cell_type": "code",
   "execution_count": 0,
   "metadata": {
    "collapsed": false
   },
   "outputs": [],
   "source": [
    "mafs[1].head()"
   ]
  },
  {
   "cell_type": "code",
   "execution_count": 0,
   "metadata": {
    "collapsed": false
   },
   "outputs": [],
   "source": [
    "min(mafs[0].tolist()),max(mafs[0].tolist())"
   ]
  },
  {
   "cell_type": "code",
   "execution_count": 0,
   "metadata": {
    "collapsed": false
   },
   "outputs": [],
   "source": [
    "min(mafs[1].tolist()),max(mafs[1].tolist())"
   ]
  },
  {
   "cell_type": "code",
   "execution_count": 0,
   "metadata": {
    "collapsed": false
   },
   "outputs": [],
   "source": [
    "flz = ['/home/lindb/wbp/workingsnps/imputed/imputed_z12_maf.txt','/home/lindb/wbp/workingsnps/missing/missing_z12_maf.txt']\n",
    "for i,z in enumerate(mafs):\n",
    "    print i\n",
    "    m = pd.DataFrame(z)\n",
    "    m.to_csv(flz[i],header=False,index=True,sep=\"\\t\")"
   ]
  },
  {
   "cell_type": "code",
   "execution_count": 0,
   "metadata": {
    "collapsed": false
   },
   "outputs": [],
   "source": [
    "plt.scatter(mafs[0], mafs[1])\n",
    "plt.title(\"MAF\")\n",
    "plt.xlabel(\"not imputed\")\n",
    "plt.ylabel(\"imputed\")\n",
    "plt.show()"
   ]
  },
  {
   "cell_type": "code",
   "execution_count": 0,
   "metadata": {
    "collapsed": true
   },
   "outputs": [],
   "source": [
    "#swap for minor allele\n",
    "def swap_alleles(locus, af):\n",
    "    if \"_\" in locus.name:\n",
    "        locus_id = locus.name\n",
    "        freqs = af[locus_id]\n",
    "        maf = min(freqs[\"p\"], freqs[\"q\"])\n",
    "        if maf == freqs[\"p\"]:\n",
    "            return locus.replace({0:2,2:0})\n",
    "        return locus\n",
    "    else:\n",
    "        return locus"
   ]
  },
  {
   "cell_type": "code",
   "execution_count": 0,
   "metadata": {
    "collapsed": false
   },
   "outputs": [],
   "source": [
    "z12_swapped = []\n",
    "for i, z in enumerate(z12_dfs):\n",
    "    print i\n",
    "    z12_swapped.append(z.apply(swap_alleles, args=(z12_freqs[i],)))"
   ]
  },
  {
   "cell_type": "code",
   "execution_count": 0,
   "metadata": {
    "collapsed": false
   },
   "outputs": [],
   "source": [
    "z12_dfs[0].head()"
   ]
  },
  {
   "cell_type": "code",
   "execution_count": 0,
   "metadata": {
    "collapsed": false
   },
   "outputs": [],
   "source": [
    "z12_swapped[0].head()"
   ]
  },
  {
   "cell_type": "code",
   "execution_count": 0,
   "metadata": {
    "collapsed": false
   },
   "outputs": [],
   "source": [
    "swaps = ['/home/lindb/wbp/workingsnps/imputed/imputed_z12_maf_swp.txt','/home/lindb/wbp/workingsnps/missing/missing_z12_maf_swp.txt']\n",
    "for i,z in enumerate(z12_swapped):\n",
    "    print i\n",
    "    z12_swapped[i].to_csv(swaps[i],header=True,index=True,sep=\"\\t\")"
   ]
  },
  {
   "cell_type": "code",
   "execution_count": 0,
   "metadata": {
    "collapsed": true
   },
   "outputs": [],
   "source": [
    "swaps = ['/home/lindb/wbp/workingsnps/imputed/imputed_z12_maf_swp.txt','/home/lindb/wbp/workingsnps/missing/missing_z12_maf_swp.txt']\n",
    "z12_swapped = []\n",
    "for i,s in enumerate(swaps):\n",
    "    z12_swapped.append(pd.read_csv(s,header=0,index_col=0,sep=\"\\t\"))"
   ]
  },
  {
   "cell_type": "code",
   "execution_count": 0,
   "metadata": {
    "collapsed": false
   },
   "outputs": [],
   "source": [
    "z12_swapped[0].head()"
   ]
  },
  {
   "cell_type": "code",
   "execution_count": 0,
   "metadata": {
    "collapsed": false
   },
   "outputs": [],
   "source": [
    "z12_swapped[1].head()"
   ]
  },
  {
   "cell_type": "code",
   "execution_count": 0,
   "metadata": {
    "collapsed": true
   },
   "outputs": [],
   "source": [
    "#while i'm at this point, might as well make files for hierfstat\n",
    "hierf_trans = {0:'11', 1:'12', 2:'22', -1:'NA'}\n",
    "def apply_hierf_trans(series):\n",
    "    return [hierf_trans[x] for x in series]"
   ]
  },
  {
   "cell_type": "code",
   "execution_count": 0,
   "metadata": {
    "collapsed": false
   },
   "outputs": [],
   "source": [
    "#while i'm at this point, might as well make files for hierfstat\n",
    "%time ztrans = [z.ix[:,:-1].apply(apply_hierf_trans) for z in z12_swapped]"
   ]
  },
  {
   "cell_type": "code",
   "execution_count": 0,
   "metadata": {
    "collapsed": false
   },
   "outputs": [],
   "source": [
    "len(ztrans[0].columns)"
   ]
  },
  {
   "cell_type": "code",
   "execution_count": 0,
   "metadata": {
    "collapsed": false
   },
   "outputs": [],
   "source": [
    "np.unique(ztrans[1][ztrans[1].columns[0]]) #missing"
   ]
  },
  {
   "cell_type": "code",
   "execution_count": 0,
   "metadata": {
    "collapsed": false
   },
   "outputs": [],
   "source": [
    "np.unique(ztrans[0][ztrans[0].columns[0]]) #imputed should not have \"NA\""
   ]
  },
  {
   "cell_type": "code",
   "execution_count": 0,
   "metadata": {
    "collapsed": false
   },
   "outputs": [],
   "source": [
    "pops = sorted(np.unique(z12_swapped[0]['population']))\n",
    "pops"
   ]
  },
  {
   "cell_type": "code",
   "execution_count": 0,
   "metadata": {
    "collapsed": true
   },
   "outputs": [],
   "source": [
    "pops = ['Dicks_Pass',\n",
    " 'Freel_Peak',\n",
    " 'Heavenly',\n",
    " 'Little_Round_Top',\n",
    " 'Mt_Rose_Ophir',\n",
    " 'Rifle_Peak',\n",
    " 'Snow_Valley_Peak',\n",
    " 'West_Shore_Peaks']"
   ]
  },
  {
   "cell_type": "code",
   "execution_count": 0,
   "metadata": {
    "collapsed": false
   },
   "outputs": [],
   "source": [
    "popids = OrderedDict()\n",
    "for i,pop in enumerate(pops):\n",
    "    i+=1\n",
    "    popids[pop] = i\n",
    "    print pop,i"
   ]
  },
  {
   "cell_type": "code",
   "execution_count": 0,
   "metadata": {
    "collapsed": false
   },
   "outputs": [],
   "source": [
    "stpDict[stpDict.keys()[0]]"
   ]
  },
  {
   "cell_type": "code",
   "execution_count": 0,
   "metadata": {
    "collapsed": false
   },
   "outputs": [],
   "source": [
    "ztrans[0].head()"
   ]
  },
  {
   "cell_type": "code",
   "execution_count": 0,
   "metadata": {
    "collapsed": false
   },
   "outputs": [],
   "source": [
    "ztrans[1].head()"
   ]
  },
  {
   "cell_type": "code",
   "execution_count": 0,
   "metadata": {
    "collapsed": false
   },
   "outputs": [],
   "source": [
    "#while i'm at this point, might as well make files for hierfstat\n",
    "for z in ztrans:\n",
    "    for samp in z.index:\n",
    "        z.loc[samp,'popid']  = popids[stpDict[samp]['pop']]\n",
    "        z.loc[samp,'plotid'] = stpDict[samp]['plot']"
   ]
  },
  {
   "cell_type": "code",
   "execution_count": 0,
   "metadata": {
    "collapsed": false
   },
   "outputs": [],
   "source": [
    "ztrans[0][ztrans[0].columns[-3:]].head()"
   ]
  },
  {
   "cell_type": "code",
   "execution_count": 0,
   "metadata": {
    "collapsed": false
   },
   "outputs": [],
   "source": [
    "ztrans[1][ztrans[1].columns[-3:]].head()"
   ]
  },
  {
   "cell_type": "code",
   "execution_count": 0,
   "metadata": {
    "collapsed": false
   },
   "outputs": [],
   "source": [
    "ztrans[0].columns[-10:-2]"
   ]
  },
  {
   "cell_type": "code",
   "execution_count": 0,
   "metadata": {
    "collapsed": true
   },
   "outputs": [],
   "source": [
    "#this was executed\n",
    "for i,z in enumerate(ztrans):\n",
    "    z.sort_index(inplace=True)"
   ]
  },
  {
   "cell_type": "code",
   "execution_count": 0,
   "metadata": {
    "collapsed": false,
    "scrolled": true
   },
   "outputs": [],
   "source": [
    "cols = [['popid','plotid'],['popid','plotid']]\n",
    "for i,z in enumerate(ztrans):\n",
    "    cols[i].extend([c for c in z.columns[:-2]])\n",
    "    ztrans[i] = ztrans[i][[x for x in cols[i]]]"
   ]
  },
  {
   "cell_type": "code",
   "execution_count": 0,
   "metadata": {
    "collapsed": false
   },
   "outputs": [],
   "source": [
    "len(cols[0])"
   ]
  },
  {
   "cell_type": "code",
   "execution_count": 0,
   "metadata": {
    "collapsed": false
   },
   "outputs": [],
   "source": [
    "ztrans[0].head()"
   ]
  },
  {
   "cell_type": "code",
   "execution_count": 0,
   "metadata": {
    "collapsed": false
   },
   "outputs": [],
   "source": [
    "ztrans[1].head()"
   ]
  },
  {
   "cell_type": "code",
   "execution_count": 0,
   "metadata": {
    "collapsed": false
   },
   "outputs": [],
   "source": [
    "fs = ['/home/lindb/wbp/workingsnps/imputed/imputed_z12_maf_swp_trans.txt',\n",
    "      '/home/lindb/wbp/workingsnps/missing/missing_z12_maf_swp_trans.txt']\n",
    "for i,z in enumerate(ztrans):\n",
    "    print i,fs[i]"
   ]
  },
  {
   "cell_type": "code",
   "execution_count": 0,
   "metadata": {
    "collapsed": false
   },
   "outputs": [],
   "source": [
    "#while i'm at this point, might as well make files for hierfstat\n",
    "fs = ['/home/lindb/wbp/workingsnps/imputed/imputed_z12_maf_swp_trans.txt',\n",
    "      '/home/lindb/wbp/workingsnps/missing/missing_z12_maf_swp_trans.txt']\n",
    "for i,z in enumerate(ztrans):\n",
    "    print i\n",
    "    z.to_csv(fs[i],header=True,index=True,sep=\"\\t\")"
   ]
  },
  {
   "cell_type": "code",
   "execution_count": 0,
   "metadata": {
    "collapsed": true
   },
   "outputs": [],
   "source": [
    "fs = ['/home/lindb/wbp/workingsnps/imputed/imputed_z12_maf_swp_trans.txt',\n",
    "      '/home/lindb/wbp/workingsnps/missing/missing_z12_maf_swp_trans.txt']\n",
    "ztrans = OrderedDict()\n",
    "for i,f in enumerate(fs):\n",
    "    ztrans[dset[i]] = pd.read_csv(f,header=0,index_col=0,sep=\"\\t\")  "
   ]
  },
  {
   "cell_type": "code",
   "execution_count": 0,
   "metadata": {
    "collapsed": false
   },
   "outputs": [],
   "source": [
    "ztrans.keys()"
   ]
  },
  {
   "cell_type": "code",
   "execution_count": 0,
   "metadata": {
    "collapsed": false,
    "scrolled": true
   },
   "outputs": [],
   "source": [
    "ztrans['mis'].fillna(\"NA\",inplace=True)\n",
    "ztrans['mis'].replace([11,12,22],['11','12','22'],inplace=True)\n",
    "ztrans['mis'].head()"
   ]
  },
  {
   "cell_type": "code",
   "execution_count": 0,
   "metadata": {
    "collapsed": false
   },
   "outputs": [],
   "source": [
    "ztrans['imp'].replace([11,12,22],['11','12','22'],inplace=True)\n",
    "ztrans['imp'].head()"
   ]
  },
  {
   "cell_type": "code",
   "execution_count": 0,
   "metadata": {
    "collapsed": false
   },
   "outputs": [],
   "source": [
    "#rewrite just in case\n",
    "fs = ['/home/lindb/wbp/workingsnps/imputed/imputed_z12_maf_swp_trans.txt',\n",
    "      '/home/lindb/wbp/workingsnps/missing/missing_z12_maf_swp_trans.txt']\n",
    "for i,f in enumerate(fs):\n",
    "    ztrans[dset[i]].to_csv(f,header=True,index=True,sep=\"\\t\")"
   ]
  },
  {
   "cell_type": "code",
   "execution_count": 0,
   "metadata": {
    "collapsed": true
   },
   "outputs": [],
   "source": [
    "ztrans['imp'].to_csv('/home/lindb/wbp/workingsnps/imputed/imputed_z12_maf_swp_trans.txt',header=True,index=True,sep=\"\\t\")"
   ]
  },
  {
   "cell_type": "code",
   "execution_count": 0,
   "metadata": {
    "collapsed": false
   },
   "outputs": [],
   "source": [
    "np.unique(ztrans['imp'][ztrans['imp'].columns[3]])"
   ]
  },
  {
   "cell_type": "code",
   "execution_count": 0,
   "metadata": {
    "collapsed": false
   },
   "outputs": [],
   "source": [
    "np.unique(ztrans['mis'][ztrans['mis'].columns[10]]) #missing should have \"NAs\""
   ]
  },
  {
   "cell_type": "code",
   "execution_count": 0,
   "metadata": {
    "collapsed": true
   },
   "outputs": [],
   "source": [
    "#get back to -1,0,1,2 from hierfstat_trans\n",
    "z12_trans = {'NA':-1, '11':0, '12':1, '22':2}\n",
    "def convert_to_z12(col):\n",
    "    return [z12_trans[x] for x in col]"
   ]
  },
  {
   "cell_type": "code",
   "execution_count": 0,
   "metadata": {
    "collapsed": false
   },
   "outputs": [],
   "source": [
    "z12_trans[ztrans['mis'].loc['009compiled','NODE_1000013_length_91_cov_1.802198_37']]"
   ]
  },
  {
   "cell_type": "code",
   "execution_count": 0,
   "metadata": {
    "collapsed": false
   },
   "outputs": [],
   "source": [
    "hierf_z12 = OrderedDict()\n",
    "%time hierf_z12['mis'] = ztrans['mis'].ix[:,2:].apply(convert_to_z12)"
   ]
  },
  {
   "cell_type": "code",
   "execution_count": 0,
   "metadata": {
    "collapsed": false
   },
   "outputs": [],
   "source": [
    "hierf_z12['mis'].head()"
   ]
  },
  {
   "cell_type": "code",
   "execution_count": 0,
   "metadata": {
    "collapsed": false,
    "scrolled": true
   },
   "outputs": [],
   "source": [
    "%time hierf_z12['imp'] = ztrans['imp'].ix[:,2:].apply(convert_to_z12)"
   ]
  },
  {
   "cell_type": "code",
   "execution_count": 0,
   "metadata": {
    "collapsed": false
   },
   "outputs": [],
   "source": [
    "for dset in hierf_z12.keys():\n",
    "    print hierf_z12[dset].shape"
   ]
  },
  {
   "cell_type": "code",
   "execution_count": 0,
   "metadata": {
    "collapsed": false
   },
   "outputs": [],
   "source": [
    "np.unique(hierf_z12['mis'][hierf_z12['mis'].columns[0]]) #should be -1 in missing"
   ]
  },
  {
   "cell_type": "code",
   "execution_count": 0,
   "metadata": {
    "collapsed": false
   },
   "outputs": [],
   "source": [
    "np.unique(hierf_z12['imp'][hierf_z12['imp'].columns[0]])"
   ]
  },
  {
   "cell_type": "code",
   "execution_count": 0,
   "metadata": {
    "collapsed": false
   },
   "outputs": [],
   "source": [
    "hierf_z12['imp'].head()"
   ]
  },
  {
   "cell_type": "code",
   "execution_count": 0,
   "metadata": {
    "collapsed": false,
    "scrolled": true
   },
   "outputs": [],
   "source": [
    "fs = OrderedDict()\n",
    "fs['imp'] = '/home/lindb/wbp/workingsnps/imputed/imputed_z12_maf_swp_trans_z12.txt'\n",
    "fs['mis'] = '/home/lindb/wbp/workingsnps/missing/missing_z12_maf_swp_trans_z12.txt'\n",
    "for dset in hierf_z12:\n",
    "    print dset\n",
    "    hierf_z12[dset].to_csv(fs[dset],header=True,index=True,sep=\"\\t\")"
   ]
  },
  {
   "cell_type": "code",
   "execution_count": 0,
   "metadata": {
    "collapsed": false
   },
   "outputs": [],
   "source": [
    "fs = OrderedDict()\n",
    "fs['imp'] = '/home/lindb/wbp/workingsnps/imputed/imputed_z12_maf_swp_trans_z12.txt'\n",
    "fs['mis'] = '/home/lindb/wbp/workingsnps/missing/missing_z12_maf_swp_trans_z12.txt'\n",
    "hierf_z12 = OrderedDict()\n",
    "for dset in fs.keys():\n",
    "    hierf_z12[dset] = pd.read_csv(fs[dset],header=0,index_col=0,sep=\"\\t\")"
   ]
  },
  {
   "cell_type": "code",
   "execution_count": 0,
   "metadata": {
    "collapsed": false
   },
   "outputs": [],
   "source": [
    "hierf_z12['imp'].head()"
   ]
  },
  {
   "cell_type": "code",
   "execution_count": 0,
   "metadata": {
    "collapsed": false
   },
   "outputs": [],
   "source": [
    "hierf_z12['mis'].head()"
   ]
  },
  {
   "cell_type": "markdown",
   "metadata": {},
   "source": [
    "# now the actual PCA"
   ]
  },
  {
   "cell_type": "code",
   "execution_count": 0,
   "metadata": {
    "collapsed": false
   },
   "outputs": [],
   "source": [
    "popids"
   ]
  },
  {
   "cell_type": "code",
   "execution_count": 0,
   "metadata": {
    "collapsed": false
   },
   "outputs": [],
   "source": [
    "for dset in hierf_z12:\n",
    "    for samp in hierf_z12[dset].index:\n",
    "        hierf_z12[dset].loc[samp,'population'] = popids[stpDict[samp]['pop']]\n",
    "        hierf_z12[dset].loc[samp,'plot'] = stpDict[samp]['plot']"
   ]
  },
  {
   "cell_type": "code",
   "execution_count": 0,
   "metadata": {
    "collapsed": false
   },
   "outputs": [],
   "source": [
    "'plot' in hierf_z12['imp'].columns"
   ]
  },
  {
   "cell_type": "code",
   "execution_count": 0,
   "metadata": {
    "collapsed": false
   },
   "outputs": [],
   "source": [
    "'plot' in hierf_z12['mis'].columns"
   ]
  },
  {
   "cell_type": "code",
   "execution_count": 0,
   "metadata": {
    "collapsed": false
   },
   "outputs": [],
   "source": [
    "hierf_z12['imp'].head()"
   ]
  },
  {
   "cell_type": "code",
   "execution_count": 0,
   "metadata": {
    "collapsed": false
   },
   "outputs": [],
   "source": [
    "hierf_z12['mis'].head()"
   ]
  },
  {
   "cell_type": "code",
   "execution_count": 0,
   "metadata": {
    "collapsed": true
   },
   "outputs": [],
   "source": [
    "def center_and_standardize_value(val, u, var):\n",
    "    if val == -1:\n",
    "        return 0.0\n",
    "    return (val-u)/np.sqrt(var)\n",
    "\n",
    "def center_and_standardize(locus, af):\n",
    "    if \"NODE\" in locus.name:\n",
    "        #locus_id = int(locus.name[1:])\n",
    "        locus_id = locus.name\n",
    "        freqs = af[locus_id]\n",
    "        maf = min(freqs[\"p\"], freqs[\"q\"])\n",
    "        var = maf*(1-maf)\n",
    "        u = np.mean([x for x in locus if x != -1])\n",
    "        return locus.apply(center_and_standardize_value, args=(u, var))\n",
    "    return locus"
   ]
  },
  {
   "cell_type": "code",
   "execution_count": 0,
   "metadata": {
    "collapsed": true
   },
   "outputs": [],
   "source": [
    "temp_freqs = z12_freqs"
   ]
  },
  {
   "cell_type": "code",
   "execution_count": 0,
   "metadata": {
    "collapsed": true
   },
   "outputs": [],
   "source": [
    "z12_freqs = OrderedDict()\n",
    "z12_freqs['imp'] = temp_freqs[0]\n",
    "z12_freqs['mis'] = temp_freqs[1]"
   ]
  },
  {
   "cell_type": "code",
   "execution_count": 0,
   "metadata": {
    "collapsed": false
   },
   "outputs": [],
   "source": [
    "pca_std = OrderedDict()\n",
    "%time\n",
    "for dset in hierf_z12.keys():\n",
    "    pca_std[dset] = hierf_z12[dset].apply(center_and_standardize, args=(z12_freqs[dset],))"
   ]
  },
  {
   "cell_type": "code",
   "execution_count": 0,
   "metadata": {
    "collapsed": false
   },
   "outputs": [],
   "source": [
    "hierf_z12.keys()"
   ]
  },
  {
   "cell_type": "code",
   "execution_count": 0,
   "metadata": {
    "collapsed": false
   },
   "outputs": [],
   "source": [
    "%time\n",
    "fs = OrderedDict()\n",
    "fs['imp'] = '/home/lindb/wbp/workingsnps/imputed/imputed_z12_maf_swp_trans_z12_pca_std.txt'\n",
    "fs['mis'] = '/home/lindb/wbp/workingsnps/missing/missing_z12_maf_swp_trans_z12_pca_std.txt'\n",
    "for i,dset in enumerate(pca_std.keys()):\n",
    "    pca_std[dset].to_csv(fs[dset],header=True,index=True,sep=\"\\t\")"
   ]
  },
  {
   "cell_type": "code",
   "execution_count": 0,
   "metadata": {
    "collapsed": false
   },
   "outputs": [],
   "source": [
    "%time\n",
    "pca_std = OrderedDict()\n",
    "dsets = ['imp','mis']\n",
    "for i,dset in enumerate(dsets):\n",
    "    pca_std[dset] = pd.read_csv(fs[dset],header=0,index_col=0,sep=\"\\t\")"
   ]
  },
  {
   "cell_type": "code",
   "execution_count": 0,
   "metadata": {
    "collapsed": false
   },
   "outputs": [],
   "source": [
    "pca_std['mis'].head()"
   ]
  },
  {
   "cell_type": "code",
   "execution_count": 0,
   "metadata": {
    "collapsed": false
   },
   "outputs": [],
   "source": [
    "pca_std['imp'].head()"
   ]
  },
  {
   "cell_type": "code",
   "execution_count": 0,
   "metadata": {
    "collapsed": false
   },
   "outputs": [],
   "source": [
    "len(pca_std['mis'].columns)"
   ]
  },
  {
   "cell_type": "code",
   "execution_count": 0,
   "metadata": {
    "collapsed": false
   },
   "outputs": [],
   "source": [
    "len(pca_std['imp'].columns)"
   ]
  },
  {
   "cell_type": "code",
   "execution_count": 0,
   "metadata": {
    "collapsed": false
   },
   "outputs": [],
   "source": [
    "pca_std.keys()"
   ]
  },
  {
   "cell_type": "code",
   "execution_count": 0,
   "metadata": {
    "collapsed": false
   },
   "outputs": [],
   "source": [
    "pca_std_data = OrderedDict()\n",
    "for dset in pca_std.keys():\n",
    "    cols = [col for col in pca_std[dset].columns if 'NODE' in col]\n",
    "    pca_std_data[dset] = pca_std[dset].ix[:,[col for col in cols]]"
   ]
  },
  {
   "cell_type": "code",
   "execution_count": 0,
   "metadata": {
    "collapsed": false
   },
   "outputs": [],
   "source": [
    "pca_std_data['imp'].shape"
   ]
  },
  {
   "cell_type": "code",
   "execution_count": 0,
   "metadata": {
    "collapsed": false
   },
   "outputs": [],
   "source": [
    "pca_std_data['imp'].head()"
   ]
  },
  {
   "cell_type": "code",
   "execution_count": 0,
   "metadata": {
    "collapsed": false
   },
   "outputs": [],
   "source": [
    "pca_std_data['mis'].head()"
   ]
  },
  {
   "cell_type": "code",
   "execution_count": 0,
   "metadata": {
    "collapsed": false
   },
   "outputs": [],
   "source": [
    "len(pca_std_data['imp'].columns)"
   ]
  },
  {
   "cell_type": "code",
   "execution_count": 0,
   "metadata": {
    "collapsed": true
   },
   "outputs": [],
   "source": [
    "fs = OrderedDict()\n",
    "fs['imp'] = '/home/lindb/wbp/workingsnps/imputed/imputed_z12_maf_swp_trans_z12_pca_std.txt'\n",
    "fs['mis'] = '/home/lindb/wbp/workingsnps/missing/missing_z12_maf_swp_trans_z12_pca_std.txt'\n",
    "for i,dset in enumerate(pca_std_data.keys()):\n",
    "    pca_std_data[dset].to_csv(fs[dset],header=True,index=True,sep=\"\\t\")"
   ]
  },
  {
   "cell_type": "code",
   "execution_count": 0,
   "metadata": {
    "collapsed": false
   },
   "outputs": [],
   "source": [
    "pca_std_data.keys()"
   ]
  },
  {
   "cell_type": "markdown",
   "metadata": {},
   "source": [
    "## R magic voodoo"
   ]
  },
  {
   "cell_type": "code",
   "execution_count": 0,
   "metadata": {
    "collapsed": true
   },
   "outputs": [],
   "source": [
    "def setup_r(): \n",
    "    os.environ['R_HOME'] = '/home/lindb/g/R3/lib64/R/' \n",
    "    os.environ['LD_LIBRARY_PATH'] = \"%s/lib:%s\" % (os.environ['R_HOME'], \n",
    "                                                   os.environ['LD_LIBRARY_PATH'])"
   ]
  },
  {
   "cell_type": "code",
   "execution_count": 0,
   "metadata": {
    "collapsed": false
   },
   "outputs": [],
   "source": [
    "setup_r()\n",
    "import readline\n",
    "import rpy2.robjects as robjects\n",
    "from rpy2.robjects import pandas2ri as pd2ri\n",
    "pd2ri.activate()\n",
    "r = robjects.r"
   ]
  },
  {
   "cell_type": "code",
   "execution_count": 0,
   "metadata": {
    "collapsed": false
   },
   "outputs": [],
   "source": [
    "%reload_ext autoreload\n",
    "%autoreload 2\n",
    "%matplotlib inline\n",
    "%load_ext rpy2.ipython\n",
    "%matplotlib inline"
   ]
  },
  {
   "cell_type": "code",
   "execution_count": 0,
   "metadata": {
    "collapsed": false
   },
   "outputs": [],
   "source": [
    "%%R\n",
    "sessionInfo()"
   ]
  },
  {
   "cell_type": "code",
   "execution_count": 0,
   "metadata": {
    "collapsed": false
   },
   "outputs": [],
   "source": [
    "%%R\n",
    "library(data.table)\n",
    "data_mis = fread('/home/lindb/wbp/workingsnps/missing/missing_z12_maf_swp_trans_z12_pca_std.txt', sep=\"\\t\", data.table=FALSE)\n",
    "data_imp = fread('/home/lindb/wbp/workingsnps/imputed/imputed_z12_maf_swp_trans_z12_pca_std.txt', sep=\"\\t\", data.table=FALSE)"
   ]
  },
  {
   "cell_type": "code",
   "execution_count": 0,
   "metadata": {
    "collapsed": false
   },
   "outputs": [],
   "source": [
    "%%R\n",
    "mis_dir = '/home/lindb/wbp/workingsnps/missing/'\n",
    "imp_dir = '/home/lindb/wbp/workingsnps/imputed/'\n",
    "rownames(data_mis) = data_mis$V1\n",
    "\n",
    "rownames(data_imp) = data_imp$V1\n",
    "drops = c(\"V1\")\n",
    "data_mis = data_mis[,!(names(data_mis) %in% drops)]\n",
    "data_imp = data_imp[,!(names(data_imp) %in% drops)]\n",
    "res_mis = prcomp(data_mis, scale=F, center=F)\n",
    "res_imp = prcomp(data_imp, scale=F, center=F)\n",
    "rownames(res_mis$x) = rownames(data_mis)\n",
    "\n",
    "rownames(res_imp$x) = rownames(data_imp)\n",
    "fname = 'pca_res.rds'\n",
    "mis = paste(mis_dir, \"/\", fname, sep='')\n",
    "imp = paste(imp_dir, \"/\", fname, sep='')\n",
    "saveRDS(res_mis, mis)\n",
    "saveRDS(res_imp, imp)"
   ]
  },
  {
   "cell_type": "code",
   "execution_count": 0,
   "metadata": {
    "collapsed": false
   },
   "outputs": [],
   "source": [
    "mis_dir = '/home/lindb/wbp/workingsnps/missing/'\n",
    "imp_dir = '/home/lindb/wbp/workingsnps/imputed/'"
   ]
  },
  {
   "cell_type": "code",
   "execution_count": 0,
   "metadata": {
    "collapsed": true
   },
   "outputs": [],
   "source": [
    "r(\"res_mis = readRDS('%s/pca_res.rds')\" % mis_dir);\n",
    "r(\"res_imp = readRDS('%s/pca_res.rds')\" % imp_dir);"
   ]
  },
  {
   "cell_type": "code",
   "execution_count": 0,
   "metadata": {
    "collapsed": true
   },
   "outputs": [],
   "source": [
    "def get_pca_x(res):\n",
    "    x = pd.DataFrame(pd2ri.ri2py(res.rx2(\"x\")))\n",
    "    x.index = res.rx2(\"x\").names[0]\n",
    "    x.columns = res.rx2(\"x\").names[1]\n",
    "    return x"
   ]
  },
  {
   "cell_type": "code",
   "execution_count": 0,
   "metadata": {
    "collapsed": true
   },
   "outputs": [],
   "source": [
    "print(r('res_mis').rx2('x').names[0])"
   ]
  },
  {
   "cell_type": "code",
   "execution_count": 0,
   "metadata": {
    "collapsed": true
   },
   "outputs": [],
   "source": [
    "summary = r('summary')"
   ]
  },
  {
   "cell_type": "code",
   "execution_count": 0,
   "metadata": {
    "collapsed": true
   },
   "outputs": [],
   "source": [
    "prcomp_res = OrderedDict()\n",
    "prcomp_res['imp'] = r['res_imp']\n",
    "prcomp_res['mis'] = r['res_mis']"
   ]
  },
  {
   "cell_type": "code",
   "execution_count": 0,
   "metadata": {
    "collapsed": true
   },
   "outputs": [],
   "source": [
    "pca_x = OrderedDict()\n",
    "for dset in prcomp_res.keys():\n",
    "    pca_x[dset] = get_pca_x(prcomp_res[dset])\n",
    "    pca_x[dset].index = pca_std_data[dset].index"
   ]
  },
  {
   "cell_type": "code",
   "execution_count": 0,
   "metadata": {
    "collapsed": false
   },
   "outputs": [],
   "source": [
    "pca_x['mis']"
   ]
  },
  {
   "cell_type": "code",
   "execution_count": 0,
   "metadata": {
    "collapsed": false
   },
   "outputs": [],
   "source": [
    "pca_x['imp']"
   ]
  },
  {
   "cell_type": "code",
   "execution_count": 0,
   "metadata": {
    "collapsed": false
   },
   "outputs": [],
   "source": [
    "pca_x['mis'].shape"
   ]
  },
  {
   "cell_type": "code",
   "execution_count": 0,
   "metadata": {
    "collapsed": false
   },
   "outputs": [],
   "source": [
    "ntpDict = OrderedDict()\n",
    "for i,pop in enumerate(sorted(pops)):\n",
    "    i+=1\n",
    "    ntpDict[pop] = i\n",
    "    print pop, i"
   ]
  },
  {
   "cell_type": "code",
   "execution_count": 0,
   "metadata": {
    "collapsed": false
   },
   "outputs": [],
   "source": [
    "pca_std['imp'].head()"
   ]
  },
  {
   "cell_type": "code",
   "execution_count": 0,
   "metadata": {
    "collapsed": false
   },
   "outputs": [],
   "source": [
    "pca_std['mis'].head()"
   ]
  },
  {
   "cell_type": "code",
   "execution_count": 0,
   "metadata": {
    "collapsed": false
   },
   "outputs": [],
   "source": [
    "for ro in pca_std['imp'].index:\n",
    "    print ro\n",
    "    break"
   ]
  },
  {
   "cell_type": "code",
   "execution_count": 0,
   "metadata": {
    "collapsed": false
   },
   "outputs": [],
   "source": [
    "len(pca_std_data['imp'].columns)"
   ]
  },
  {
   "cell_type": "code",
   "execution_count": 0,
   "metadata": {
    "collapsed": false
   },
   "outputs": [],
   "source": [
    "norm = mcolors.Normalize(min(popids.values()), max(popids.values()))\n",
    "def plot_pca(key, pca_std, pca_std_data, pca_x, prcomp_res):\n",
    "    joined = pca_std.join(pca_x)\n",
    "    legend = {}\n",
    "    for samp in joined.index:\n",
    "        pop = ntpDict[stpDict[samp]['pop']]\n",
    "        n = norm(pop)\n",
    "        color = cm.rainbow(n)\n",
    "        legend[stpDict[samp]['pop']] = color\n",
    "        plt.scatter(joined.loc[samp,'PC1'],\n",
    "                    joined.loc[samp,'PC2'], \n",
    "                    s=50, \n",
    "                    c=color)\n",
    "    fig = plt.gcf()\n",
    "    ax = plt.gca()\n",
    "    cmap = plt.get_cmap()\n",
    "    fig.set_size_inches(10,8)\n",
    "    if key == 'imp':\n",
    "        title = \"PCA of n=%d samples (imputed w beagle) on %d loci\" % (len(joined), len(pca_std_data.columns))\n",
    "    else:\n",
    "        title = \"PCA of n=%d samples (imputed w mean) on %d loci\" % (len(joined), len(pca_std_data.columns))\n",
    "    plt.title(\"%s\" % title)\n",
    "    imp = summary(prcomp_res).rx(\"importance\")[0]\n",
    "    plt.xlabel(\"PC1 (%g)\" % imp.rx(2,1)[0])\n",
    "    plt.ylabel(\"PC2 (%g)\" % imp.rx(2,2)[0])\n",
    "\n",
    "    handles = []\n",
    "    for pop in sorted(legend):\n",
    "        handles.append(mpatches.Patch(color=legend[pop], label=pop))\n",
    "    plt.legend(handles=handles,loc=2,bbox_to_anchor=(1, 1))\n",
    "    plt.show()"
   ]
  },
  {
   "cell_type": "code",
   "execution_count": 0,
   "metadata": {
    "collapsed": false
   },
   "outputs": [],
   "source": [
    "for key in pca_std.keys():\n",
    "    plot_pca(key,pca_std[key],pca_std_data[key],pca_x[key],prcomp_res[key])"
   ]
  },
  {
   "cell_type": "code",
   "execution_count": 0,
   "metadata": {
    "collapsed": false
   },
   "outputs": [],
   "source": [
    "ntpDict[pop]"
   ]
  },
  {
   "cell_type": "code",
   "execution_count": 0,
   "metadata": {
    "collapsed": false
   },
   "outputs": [],
   "source": [
    "%%R\n",
    "source(\"/home/lindb/g/ipython/tw_calc.R\")\n",
    "twtable=read.table(\"/home/lindb/g/ipython/twTable.txt\", header=F)\n",
    "tw_mis = TWcalc(as.matrix(data_mis),20)\n",
    "tw_imp = TWcalc(as.matrix(data_imp),20)"
   ]
  },
  {
   "cell_type": "code",
   "execution_count": 0,
   "metadata": {
    "collapsed": true
   },
   "outputs": [],
   "source": [
    "tws = OrderedDict()\n",
    "tws['mis'] = r(\"tw_mis[[2]]\")\n",
    "tws['imp'] = r(\"tw_imp[[2]]\")"
   ]
  },
  {
   "cell_type": "code",
   "execution_count": 0,
   "metadata": {
    "collapsed": true
   },
   "outputs": [],
   "source": [
    "def get_sig_tracywidom(tw_p):\n",
    "    ps = []\n",
    "    for i, p in enumerate(tw_p):\n",
    "        if p > 0.05:\n",
    "            print(i, p)\n",
    "            break\n",
    "        else:\n",
    "            ps.append(p)\n",
    "    return len(ps), ps"
   ]
  },
  {
   "cell_type": "code",
   "execution_count": 0,
   "metadata": {
    "collapsed": false
   },
   "outputs": [],
   "source": [
    "#tw_num = [get_sig_tracywidom(x) for x in tws]\n",
    "tw_num = OrderedDict()\n",
    "for dset in tws.keys():\n",
    "    tw_num[dset] = get_sig_tracywidom(tws[dset])"
   ]
  },
  {
   "cell_type": "code",
   "execution_count": 0,
   "metadata": {
    "collapsed": false
   },
   "outputs": [],
   "source": [
    "for dset in tw_num.keys():\n",
    "    print dset,tw_num[dset]\n",
    "#mis (3, [8.0000000000000005e-09, 8.0000000000000005e-09, 8.0000000000000005e-09])\n",
    "#imp (4, [8.0000000000000005e-09, 8.0000000000000005e-09, 8.0000000000000005e-09, 8.0000000000000005e-09])"
   ]
  },
  {
   "cell_type": "markdown",
   "metadata": {},
   "source": [
    "### Tracy Widom\n",
    "    imputed = 4\n",
    "    missing = 3"
   ]
  },
  {
   "cell_type": "code",
   "execution_count": 0,
   "metadata": {
    "collapsed": false
   },
   "outputs": [],
   "source": [
    "tw_num"
   ]
  },
  {
   "cell_type": "code",
   "execution_count": 0,
   "metadata": {
    "collapsed": false,
    "scrolled": true
   },
   "outputs": [],
   "source": [
    "pca_std_data['imp']"
   ]
  },
  {
   "cell_type": "code",
   "execution_count": 0,
   "metadata": {
    "collapsed": false,
    "scrolled": true
   },
   "outputs": [],
   "source": [
    "pca_std['imp']"
   ]
  },
  {
   "cell_type": "code",
   "execution_count": 0,
   "metadata": {
    "collapsed": false
   },
   "outputs": [],
   "source": [
    "pca_x['imp']"
   ]
  },
  {
   "cell_type": "code",
   "execution_count": 0,
   "metadata": {
    "collapsed": false
   },
   "outputs": [],
   "source": [
    "pca_x['mis']"
   ]
  },
  {
   "cell_type": "code",
   "execution_count": 0,
   "metadata": {
    "collapsed": false
   },
   "outputs": [],
   "source": [
    "plt.scatter(pca_x['mis']['PC1'],pca_x['imp']['PC1'])"
   ]
  },
  {
   "cell_type": "code",
   "execution_count": 0,
   "metadata": {
    "collapsed": false
   },
   "outputs": [],
   "source": [
    "plt.scatter(pca_x['mis']['PC2'],pca_x['imp']['PC2'])"
   ]
  },
  {
   "cell_type": "code",
   "execution_count": 0,
   "metadata": {
    "collapsed": false
   },
   "outputs": [],
   "source": [
    "from scipy.stats import spearmanr"
   ]
  },
  {
   "cell_type": "code",
   "execution_count": 0,
   "metadata": {
    "collapsed": false
   },
   "outputs": [],
   "source": [
    "spearmanr(pca_x['imp']['PC1'],pca_x['mis']['PC1'])"
   ]
  },
  {
   "cell_type": "code",
   "execution_count": 0,
   "metadata": {
    "collapsed": false
   },
   "outputs": [],
   "source": [
    "#figure out amount of missing data per individual across snps\n",
    "misDict = OrderedDict()\n",
    "df = hierf_z12['mis']\n",
    "for samp in df.index:\n",
    "    data = df.loc[samp,:]\n",
    "    missingdata = data.tolist().count(-1)\n",
    "    pmissing = missingdata/len(data)\n",
    "    misDict[samp] = pmissing"
   ]
  },
  {
   "cell_type": "code",
   "execution_count": 0,
   "metadata": {
    "collapsed": false
   },
   "outputs": [],
   "source": [
    "len(misDict.keys())"
   ]
  },
  {
   "cell_type": "code",
   "execution_count": 0,
   "metadata": {
    "collapsed": false
   },
   "outputs": [],
   "source": [
    "misDict['009compiled']"
   ]
  },
  {
   "cell_type": "code",
   "execution_count": 0,
   "metadata": {
    "collapsed": false
   },
   "outputs": [],
   "source": [
    "max(misDict.values())"
   ]
  },
  {
   "cell_type": "code",
   "execution_count": 0,
   "metadata": {
    "collapsed": true
   },
   "outputs": [],
   "source": [
    "for samp in misDict.keys():\n",
    "    print samp, misDict[samp]"
   ]
  },
  {
   "cell_type": "code",
   "execution_count": 0,
   "metadata": {
    "collapsed": false
   },
   "outputs": [],
   "source": [
    "pd.DataFrame([float(x) for x in misDict.values()]).describe()"
   ]
  },
  {
   "cell_type": "code",
   "execution_count": 0,
   "metadata": {
    "collapsed": false
   },
   "outputs": [],
   "source": [
    "plt.hist([float(x) for x in misDict.values()])"
   ]
  },
  {
   "cell_type": "code",
   "execution_count": 0,
   "metadata": {
    "collapsed": true
   },
   "outputs": [],
   "source": [
    "misDict.keys() == pca_x['imp'].index"
   ]
  },
  {
   "cell_type": "code",
   "execution_count": 0,
   "metadata": {
    "collapsed": true
   },
   "outputs": [],
   "source": [
    "misDict.keys() == pca_x['mis'].index"
   ]
  },
  {
   "cell_type": "code",
   "execution_count": 0,
   "metadata": {
    "collapsed": false
   },
   "outputs": [],
   "source": [
    "color = misDict.values()"
   ]
  },
  {
   "cell_type": "code",
   "execution_count": 0,
   "metadata": {
    "collapsed": false
   },
   "outputs": [],
   "source": [
    "plt.scatter(pca_x['mis']['PC1'],pca_x['imp']['PC1'],c=color)"
   ]
  },
  {
   "cell_type": "code",
   "execution_count": 0,
   "metadata": {
    "collapsed": false
   },
   "outputs": [],
   "source": [
    "popcols = []\n",
    "for samp in pca_x['imp'].index:\n",
    "    popcols.append(popids[stpDict[samp]['pop']])"
   ]
  },
  {
   "cell_type": "code",
   "execution_count": 0,
   "metadata": {
    "collapsed": false
   },
   "outputs": [],
   "source": [
    "plt.scatter(pca_x['mis']['PC1'],pca_x['imp']['PC1'],c=popcols)"
   ]
  },
  {
   "cell_type": "code",
   "execution_count": 0,
   "metadata": {
    "collapsed": true
   },
   "outputs": [],
   "source": []
  }
 ],
 "metadata": {
  "kernelspec": {
   "display_name": "Python 2",
   "language": "python",
   "name": "python2"
  },
  "language_info": {
   "codemirror_mode": {
    "name": "ipython",
    "version": 2
   },
   "file_extension": ".py",
   "mimetype": "text/x-python",
   "name": "python",
   "nbconvert_exporter": "python",
   "pygments_lexer": "ipython2",
   "version": "2.7.11"
  }
 },
 "nbformat": 4,
 "nbformat_minor": 0
}
