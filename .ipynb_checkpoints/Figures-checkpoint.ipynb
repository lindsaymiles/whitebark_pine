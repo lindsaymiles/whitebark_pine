{
 "cells": [
  {
   "cell_type": "code",
   "execution_count": 0,
   "metadata": {
    "collapsed": true
   },
   "outputs": [],
   "source": []
  },
  {
   "cell_type": "code",
   "execution_count": 0,
   "metadata": {
    "collapsed": true
   },
   "outputs": [],
   "source": [
    "import sys\n",
    "from IPython.parallel import Client\n",
    "import os, time\n",
    "import pandas as pd\n",
    "import numpy as np\n",
    "import scipy as sp\n",
    "from scipy import stats\n",
    "from IPython.parallel import Client\n",
    "from fractions import Fraction\n",
    "from collections import defaultdict\n",
    "import vcf\n",
    "from __future__ import division\n",
    "import random\n",
    "from collections import OrderedDict\n",
    "import matplotlib.pyplot as plt\n",
    "import matplotlib.gridspec as gridspec\n",
    "from matplotlib.backends.backend_pdf import PdfPages\n",
    "import matplotlib.ticker as mtick\n",
    "%matplotlib inline"
   ]
  },
  {
   "cell_type": "markdown",
   "metadata": {},
   "source": [
    "#h^2 vs hh"
   ]
  },
  {
   "cell_type": "code",
   "execution_count": 0,
   "metadata": {
    "collapsed": false
   },
   "outputs": [],
   "source": [
    "#get a list of files\n",
    "files = os.listdir('/home/lindb/eckertlab/wbp/piMASS/infiles2/output')\n",
    "files = [os.path.join('/home/lindb/eckertlab/wbp/piMASS/infiles2/output',f) for f in files]\n",
    "len(files)"
   ]
  },
  {
   "cell_type": "code",
   "execution_count": 0,
   "metadata": {
    "collapsed": false
   },
   "outputs": [],
   "source": [
    "#get a list of phenos\n",
    "phenos = []\n",
    "for f in files:\n",
    "    pheno = \"_\".join(f.split(\"_\")[1:3])\n",
    "    if pheno not in phenos:\n",
    "        phenos.append(pheno)\n",
    "len(phenos)"
   ]
  },
  {
   "cell_type": "code",
   "execution_count": 0,
   "metadata": {
    "collapsed": false
   },
   "outputs": [],
   "source": [
    "pheno"
   ]
  },
  {
   "cell_type": "code",
   "execution_count": 0,
   "metadata": {
    "collapsed": true
   },
   "outputs": [],
   "source": [
    "for f in sorted(files):\n",
    "    if 'path' in f:\n",
    "        print f"
   ]
  },
  {
   "cell_type": "code",
   "execution_count": 0,
   "metadata": {
    "collapsed": false
   },
   "outputs": [],
   "source": [
    "pathDict = OrderedDict()\n",
    "for f in files:\n",
    "    if 'path' in f:\n",
    "        pheno = \"_\".join(f.split(\"_\")[1:3])\n",
    "        if pheno not in pathDict.keys():\n",
    "            pathDict[pheno] = []\n",
    "        num = len(pathDict[pheno])\n",
    "        df = pd.read_csv(f,header=0,sep=\"\\t\")\n",
    "        df.columns = [x.strip()+'_%s'%str(num) for x in df.columns]\n",
    "        df = df.ix[:,:-1]\n",
    "        pathDict[pheno].append(df)"
   ]
  },
  {
   "cell_type": "code",
   "execution_count": 0,
   "metadata": {
    "collapsed": false
   },
   "outputs": [],
   "source": [
    "len(pathDict.keys())"
   ]
  },
  {
   "cell_type": "code",
   "execution_count": 0,
   "metadata": {
    "collapsed": false
   },
   "outputs": [],
   "source": [
    "len(pathDict['bffamx_imp'])"
   ]
  },
  {
   "cell_type": "code",
   "execution_count": 0,
   "metadata": {
    "collapsed": false
   },
   "outputs": [],
   "source": [
    "df.head()"
   ]
  },
  {
   "cell_type": "code",
   "execution_count": 0,
   "metadata": {
    "collapsed": false
   },
   "outputs": [],
   "source": [
    "cdict = OrderedDict()\n",
    "for pheno in pathDict.keys():\n",
    "    cdict[pheno] = 0\n",
    "    \n",
    "pdict = OrderedDict()\n",
    "for pheno in pathDict.keys():\n",
    "    for df in pathDict[pheno]:\n",
    "        if cdict[pheno] == 0:\n",
    "            pdict[pheno] = df\n",
    "            cdict[pheno] += 1\n",
    "        else:\n",
    "            pdict[pheno] = pd.merge(pdict[pheno],df,left_index=True,right_index=True)"
   ]
  },
  {
   "cell_type": "code",
   "execution_count": 0,
   "metadata": {
    "collapsed": false
   },
   "outputs": [],
   "source": [
    "pdict[pheno].head()"
   ]
  },
  {
   "cell_type": "code",
   "execution_count": 0,
   "metadata": {
    "collapsed": false
   },
   "outputs": [],
   "source": [
    "plt.scatter(pdict[pheno]['h_0'][0:100],pdict[pheno].index[0:100])"
   ]
  },
  {
   "cell_type": "code",
   "execution_count": 0,
   "metadata": {
    "collapsed": false
   },
   "outputs": [],
   "source": [
    "len(pdict[pheno].index)"
   ]
  },
  {
   "cell_type": "code",
   "execution_count": 0,
   "metadata": {
    "collapsed": true
   },
   "outputs": [],
   "source": [
    "stats = ['hh','p','snp','sigma']"
   ]
  },
  {
   "cell_type": "code",
   "execution_count": 0,
   "metadata": {
    "collapsed": false
   },
   "outputs": [],
   "source": [
    "valDict = OrderedDict()\n",
    "for pheno in pdict.keys(): #for each phenotype\n",
    "    valDict[pheno] = OrderedDict()\n",
    "    for col in pdict[pheno]: #for each column in the dataframe\n",
    "        for stat in stats:\n",
    "            if not stat in valDict[pheno].keys():\n",
    "                valDict[pheno][stat] = []\n",
    "            if stat == col.split(\"_\")[0]:\n",
    "                #print stat,col\n",
    "                valDict[pheno][stat].extend([x for x in pdict[pheno][col].tolist() if x != 0])"
   ]
  },
  {
   "cell_type": "code",
   "execution_count": 0,
   "metadata": {
    "collapsed": true
   },
   "outputs": [],
   "source": [
    "for pheno in valDict.keys():\n",
    "    for stat in valDict[pheno].keys():\n",
    "        print pheno,stat,len(valDict[pheno][stat])"
   ]
  },
  {
   "cell_type": "code",
   "execution_count": 0,
   "metadata": {
    "collapsed": false,
    "scrolled": true
   },
   "outputs": [],
   "source": [
    "hmean = OrderedDict()\n",
    "for pheno in valDict.keys():\n",
    "    print pheno\n",
    "    hmean[pheno] = OrderedDict()\n",
    "    for stat in valDict[pheno].keys():\n",
    "        if 'p' != stat:\n",
    "            hmean[pheno][stat] = sp.stats.hmean(valDict[pheno][stat])\n",
    "            print pheno,stat,len(valDict[pheno][stat])\n",
    "        else:\n",
    "            vals = [10**x for x in valDict[pheno][stat]]\n",
    "            hmean[pheno][stat] = sp.stats.hmean(vals)\n",
    "            print pheno,stat,len(valDict[pheno][stat])\n",
    "            "
   ]
  },
  {
   "cell_type": "code",
   "execution_count": 0,
   "metadata": {
    "collapsed": true
   },
   "outputs": [],
   "source": [
    "nvalDict = OrderedDict()\n",
    "for pheno in pdict.keys():\n",
    "    nvalDict[pheno] = OrderedDict()\n",
    "    for col in pdict[pheno]:\n",
    "        for stat in stats:\n",
    "            if not stat in nvalDict[pheno].keys():\n",
    "                nvalDict[pheno][stat] = []\n",
    "            if stat == col.split(\"_\")[0]:\n",
    "                print stat,col\n",
    "                nvalDict[pheno][stat].extend([x for x in pdict[pheno][col].tolist()])"
   ]
  },
  {
   "cell_type": "code",
   "execution_count": 0,
   "metadata": {
    "collapsed": true
   },
   "outputs": [],
   "source": [
    "nmean = OrderedDict()\n",
    "for pheno in nvalDict.keys():\n",
    "    nmean[pheno] = OrderedDict()\n",
    "    for stat in nvalDict[pheno].keys():\n",
    "        if 'p' != stat:\n",
    "            nmean[pheno][stat] = np.mean(nvalDict[pheno][stat])\n",
    "            print pheno,stat,len(nvalDict[pheno][stat])\n",
    "        else:\n",
    "            print pheno,stat,len(nvalDict[pheno][stat])\n",
    "            vals = [10**x for x in nvalDict[pheno][stat]]\n",
    "            nmean[pheno][stat] = np.mean(vals) "
   ]
  },
  {
   "cell_type": "code",
   "execution_count": 0,
   "metadata": {
    "collapsed": false,
    "scrolled": true
   },
   "outputs": [],
   "source": [
    "#for the main text\n",
    "for pheno in hmean.keys():\n",
    "    if ('imp' in pheno) and ('pop' in pheno):\n",
    "        for stat in hmean[pheno].keys():\n",
    "            print pheno,stat,hmean[pheno][stat]"
   ]
  },
  {
   "cell_type": "code",
   "execution_count": 0,
   "metadata": {
    "collapsed": false
   },
   "outputs": [],
   "source": [
    "#this data created from data with 0s (as opposed to below)\n",
    "#for the main text\n",
    "for pheno in nmean.keys():\n",
    "    if ('imp' in pheno) and ('pop' in pheno):\n",
    "        for stat in nmean[pheno].keys():\n",
    "            if stat != 'p':\n",
    "                print \"\\t\".join([str(x) for x in [pheno,stat,nmean[pheno][stat],np.percentile(nvalDict[pheno][stat],2.5),np.percentile(nvalDict[pheno][stat],97.5)]])\n",
    "            else:\n",
    "                vals = [10**x for x in nvalDict[pheno][stat]]\n",
    "                print \"\\t\".join([str(x) for x in [pheno,stat,nmean[pheno][stat],np.percentile(vals,2.5),np.percentile(vals,97.5)]])"
   ]
  },
  {
   "cell_type": "code",
   "execution_count": 0,
   "metadata": {
    "collapsed": false
   },
   "outputs": [],
   "source": [
    "print \"{:.2e}\".format(0.0007302643)"
   ]
  },
  {
   "cell_type": "code",
   "execution_count": 0,
   "metadata": {
    "collapsed": false
   },
   "outputs": [],
   "source": [
    "#these means created from data without 0s - this was an accident\n",
    "#for the main text\n",
    "for pheno in nmean.keys():\n",
    "    if ('imp' in pheno) and ('pop' in pheno):\n",
    "        for stat in nmean[pheno].keys():\n",
    "            print pheno,stat,nmean[pheno][stat]"
   ]
  },
  {
   "cell_type": "code",
   "execution_count": 0,
   "metadata": {
    "collapsed": false
   },
   "outputs": [],
   "source": [
    "for pheno in valDict.keys():\n",
    "    print pheno\n",
    "    for stat in valDict[pheno].keys():\n",
    "        if 'p' != stat:\n",
    "            print pheno,stat+'\\n',pd.Series(valDict[pheno][stat]).describe()\n",
    "        else:\n",
    "            vals = [10**x for x in valDict[pheno][stat]]\n",
    "            print pheno,stat+'\\n',pd.Series(vals).describe()\n",
    "            "
   ]
  },
  {
   "cell_type": "code",
   "execution_count": 0,
   "metadata": {
    "collapsed": true
   },
   "outputs": [],
   "source": []
  },
  {
   "cell_type": "code",
   "execution_count": 0,
   "metadata": {
    "collapsed": true
   },
   "outputs": [],
   "source": []
  },
  {
   "cell_type": "code",
   "execution_count": 0,
   "metadata": {
    "collapsed": true
   },
   "outputs": [],
   "source": []
  },
  {
   "cell_type": "markdown",
   "metadata": {},
   "source": [
    "#Beta_RB vs PIP"
   ]
  },
  {
   "cell_type": "code",
   "execution_count": 0,
   "metadata": {
    "collapsed": false
   },
   "outputs": [],
   "source": [
    "1+1 "
   ]
  },
  {
   "cell_type": "code",
   "execution_count": 0,
   "metadata": {
    "collapsed": false
   },
   "outputs": [],
   "source": [
    "#get a list of files containging pip by beta, for each snp, for each phenotype\n",
    "files = os.listdir('/home/lindb/wbp/piMASS/Final/allBETASandPIPS/merged')\n",
    "files = [os.path.join('/home/lindb/wbp/piMASS/Final/allBETASandPIPS/merged',f) for f in files]\n",
    "len(files) #20 phenotypes"
   ]
  },
  {
   "cell_type": "code",
   "execution_count": 0,
   "metadata": {
    "collapsed": false
   },
   "outputs": [],
   "source": [
    "#get a list of phenotypes\n",
    "phenos = []\n",
    "for f in files:\n",
    "    pheno = \"_\".join(f.split(\"/\")[-1].split(\"_\")[0:2])\n",
    "    phenos.append(pheno)\n",
    "len(phenos)"
   ]
  },
  {
   "cell_type": "code",
   "execution_count": 0,
   "metadata": {
    "collapsed": false
   },
   "outputs": [],
   "source": [
    "phenos[0:9]"
   ]
  },
  {
   "cell_type": "code",
   "execution_count": 0,
   "metadata": {
    "collapsed": false
   },
   "outputs": [],
   "source": [
    "#get the sig snp files\n",
    "file_dir = '/home/lindb/wbp/piMASS/analyses2/7xstringent/'\n",
    "snpfiles = os.listdir(file_dir)\n",
    "snpfiles = [os.path.join(file_dir,f) for f in snpfiles]\n",
    "len(snpfiles)"
   ]
  },
  {
   "cell_type": "code",
   "execution_count": 0,
   "metadata": {
    "collapsed": false
   },
   "outputs": [],
   "source": [
    "#get a list of sig snps for each phenotype\n",
    "snpDict = OrderedDict()\n",
    "for f in snpfiles:\n",
    "    pheno = \"_\".join(f.split(\"/\")[-1].split(\"_\")[0:2])\n",
    "    df = pd.read_csv(f,header=0,index_col=0,sep=\"\\t\")\n",
    "    snpDict[pheno] = df['rs'].tolist()"
   ]
  },
  {
   "cell_type": "code",
   "execution_count": 0,
   "metadata": {
    "collapsed": true
   },
   "outputs": [],
   "source": [
    "out_dir = '/home/lindb/wbp/0Figures/BETARBbyPIP_data/'\n",
    "count =0\n",
    "dfDict = OrderedDict()\n",
    "for pheno in phenos:\n",
    "    for f in files:\n",
    "        if pheno in f:\n",
    "            print pheno\n",
    "            count += 1\n",
    "            df = pd.read_csv(f,header=0,sep=\"\\t\")\n",
    "            df = df[df['locus_x'].isin(snpDict[pheno])]\n",
    "            df.to_csv(os.path.join(out_dir,pheno+'.txt'),header=True,index=False,sep=\"\\t\")    \n",
    "            dfDict[pheno] = df\n",
    "count"
   ]
  },
  {
   "cell_type": "code",
   "execution_count": 0,
   "metadata": {
    "collapsed": false
   },
   "outputs": [],
   "source": [
    "DIR = '/home/lindb/wbp/0Figures/BETARBbyPIP_data/'\n",
    "files = os.listdir(DIR)\n",
    "files = [os.path.join(DIR,f) for f in files]\n",
    "len(files)"
   ]
  },
  {
   "cell_type": "code",
   "execution_count": 0,
   "metadata": {
    "collapsed": false
   },
   "outputs": [],
   "source": [
    "#for when I reset my notebook\n",
    "dfDict = OrderedDict()\n",
    "for f in files:\n",
    "    pheno = os.path.basename(f).split(\".\")[0]\n",
    "    df = pd.read_csv(f,header=0,sep=\"\\t\")\n",
    "    dfDict[pheno] = df"
   ]
  },
  {
   "cell_type": "code",
   "execution_count": 0,
   "metadata": {
    "collapsed": false,
    "scrolled": true
   },
   "outputs": [],
   "source": [
    "dfDict['mis_bffamx']"
   ]
  },
  {
   "cell_type": "code",
   "execution_count": 0,
   "metadata": {
    "collapsed": false,
    "scrolled": true
   },
   "outputs": [],
   "source": [
    "phenos"
   ]
  },
  {
   "cell_type": "code",
   "execution_count": 0,
   "metadata": {
    "collapsed": false
   },
   "outputs": [],
   "source": [
    "pmx = -10000000000000\n",
    "pmn = 10000000000000\n",
    "\n",
    "bmx = -10000000000000\n",
    "bmn = 10000000000000\n",
    "\n",
    "for pheno in dfDict.keys():\n",
    "    if 'imp' in pheno:\n",
    "        if max(dfDict[pheno]['PIP'].apply(log10).tolist()) > pmx:\n",
    "            pmx = max(dfDict[pheno]['PIP'].apply(log10).tolist())\n",
    "        if min(dfDict[pheno]['PIP'].apply(log10).tolist()) < pmn:\n",
    "            pmn = min(dfDict[pheno]['PIP'].apply(log10).tolist())\n",
    "        if max(dfDict[pheno]['beta']) > bmx:\n",
    "            bmx = max(dfDict[pheno]['beta'])\n",
    "        if min(dfDict[pheno]['beta']) < bmn:\n",
    "            bmn = min(dfDict[pheno]['beta'])\n",
    "print \"bmn\",bmn\n",
    "print \"bmx\",bmx\n",
    "print \"pmn\",pmn\n",
    "print \"pmx\",pmx\n",
    "\n",
    "#printed:\n",
    "#bmn 0.000139982053583\n",
    "#bmx 0.0440320873692\n",
    "#pmn -3.35377493423\n",
    "#pmx -1.46338005108"
   ]
  },
  {
   "cell_type": "code",
   "execution_count": 0,
   "metadata": {
    "collapsed": false
   },
   "outputs": [],
   "source": [
    "pmx = -10000000000000\n",
    "pmn = 10000000000000\n",
    "\n",
    "bmx = -10000000000000\n",
    "bmn = 10000000000000\n",
    "\n",
    "for pheno in dfDict.keys():\n",
    "    if 'imp' in pheno:\n",
    "        if max(dfDict[pheno]['PIP'].apply(log10).tolist()) > pmx:\n",
    "            pmx = max(dfDict[pheno]['PIP'].apply(log10).tolist())\n",
    "        if min(dfDict[pheno]['PIP'].apply(log10).tolist()) < pmn:\n",
    "            pmn = min(dfDict[pheno]['PIP'].apply(log10).tolist())\n",
    "        if max(dfDict[pheno]['beta'].apply(log10).tolist()) > bmx:\n",
    "            bmx = max(dfDict[pheno]['beta'].apply(log10).tolist())\n",
    "        if min(dfDict[pheno]['beta'].apply(log10).tolist()) < bmn:\n",
    "            bmn = min(dfDict[pheno]['beta'].apply(log10).tolist())\n",
    "print \"bmn\",bmn\n",
    "print \"bmx\",bmx\n",
    "print \"pmn\",pmn\n",
    "print \"pmx\",pmx\n",
    "\n",
    "#printed:\n",
    "#bmn 0.000139982053583\n",
    "#bmx 0.0440320873692\n",
    "#pmn -3.35377493423\n",
    "#pmx -1.46338005108"
   ]
  },
  {
   "cell_type": "code",
   "execution_count": 0,
   "metadata": {
    "collapsed": false
   },
   "outputs": [],
   "source": [
    "for pheno in phenos:\n",
    "    if ('imp' in pheno) and ('pop' in pheno):\n",
    "        print pheno"
   ]
  },
  {
   "cell_type": "code",
   "execution_count": 0,
   "metadata": {
    "collapsed": false
   },
   "outputs": [],
   "source": [
    "!cd /home/lindb/wbp/0Figures/"
   ]
  },
  {
   "cell_type": "code",
   "execution_count": 0,
   "metadata": {
    "collapsed": false
   },
   "outputs": [],
   "source": [
    "r'$\\beta_{RB}$'"
   ]
  },
  {
   "cell_type": "code",
   "execution_count": 0,
   "metadata": {
    "collapsed": true
   },
   "outputs": [],
   "source": [
    "import math"
   ]
  },
  {
   "cell_type": "code",
   "execution_count": 0,
   "metadata": {
    "collapsed": false
   },
   "outputs": [],
   "source": [
    "len([x for x in dfDict['imp_c13popx']['beta'].apply(log10).tolist() if math.isnan(x) == False])"
   ]
  },
  {
   "cell_type": "code",
   "execution_count": 0,
   "metadata": {
    "collapsed": false
   },
   "outputs": [],
   "source": [
    "for pheno in dfDict.keys():\n",
    "    if 'imp' in pheno and 'pop' in pheno:\n",
    "        blen = len([x for x in dfDict[pheno]['beta'].apply(log10).tolist() if math.isnan(x) == False])\n",
    "        plen = len([x for x in dfDict[pheno]['PIP'].apply(log10).tolist() if math.isnan(x) == False])\n",
    "        print pheno,data,blen,plen"
   ]
  },
  {
   "cell_type": "code",
   "execution_count": 0,
   "metadata": {
    "collapsed": false
   },
   "outputs": [],
   "source": [
    "v = []\n",
    "for pheno in dfDict.keys():\n",
    "    if 'imp' in pheno:\n",
    "        vals = [x for x in dfDict[pheno]['beta'] if not x == np.nan]\n",
    "        print pheno, max(vals)\n",
    "        v.append(max(vals))"
   ]
  },
  {
   "cell_type": "code",
   "execution_count": 0,
   "metadata": {
    "collapsed": false
   },
   "outputs": [],
   "source": [
    "max(v)"
   ]
  },
  {
   "cell_type": "code",
   "execution_count": 0,
   "metadata": {
    "collapsed": false
   },
   "outputs": [],
   "source": [
    "#log10 vs log10\n",
    "with PdfPages('/home/lindb/wbp/0Figures/grid_imp_pop_beta_by_pip_sig_snps.pdf') as pdf:\n",
    "    plt.close('all')\n",
    "    fig, ((a1,a2),(a3,a4),(a5,a6)) = plt.subplots(3, 2, figsize=(5,5),dpi=400)\n",
    "\n",
    "    a1 = plt.subplot(321)\n",
    "    a1.plot(dfDict['imp_c13popx']['beta'].apply(log10).tolist(),[x for x in dfDict['imp_c13popx']['PIP'].apply(log10).tolist()],'ko')\n",
    "    a1.set_xlim([-3.9,-1.3])\n",
    "    a1.set_ylim([-3.5,-1.45])\n",
    "    a1.set_title('A',y=.9,loc='right',fontsize=20,fontweight='bold')\n",
    "    a1.spines['right'].set_visible(False)\n",
    "    a1.spines['top'].set_visible(False)\n",
    "    #a1.set_xlabel(r'$\\beta_{RB}$',fontsize=20)\n",
    "    a1.yaxis.set_ticks_position('left')\n",
    "    a1.xaxis.set_ticks_position('bottom')\n",
    "    a1.set_ylabel(r'$\\log_{10}(\\overline{PIP})$',fontsize=15)\n",
    "\n",
    "    a1xmean = np.mean([x for x in dfDict['imp_c13popx']['beta'].apply(log10).tolist()])\n",
    "    a1ymean = np.mean([x for x in dfDict['imp_c13popx']['PIP'].apply(log10).tolist()])\n",
    "    a1.axhline(y=a1ymean,xmin=0,xmax=1.2,c=\"black\",linewidth=0.5,zorder=0,ls='dashed')\n",
    "    a1.axvline(x=a1xmean,c=\"black\",linewidth=0.5,zorder=0,ls='dashed')\n",
    "\n",
    "    a2 = plt.subplot(322)\n",
    "    a2.plot(dfDict['imp_bfpopx']['beta'].apply(log10).tolist(),[x for x in dfDict['imp_bfpopx']['PIP'].apply(log10).tolist()],'ko')\n",
    "    a2.set_xlim([-3.9,-1.3])\n",
    "    a2.set_ylim([-3.5,-1.45])\n",
    "    a2.set_title('B',y=0.9,loc='right',fontsize=20,fontweight='bold')\n",
    "    a2.spines['right'].set_visible(False)\n",
    "    a2.spines['top'].set_visible(False)\n",
    "    a2.yaxis.set_ticks_position('left')\n",
    "    a2.xaxis.set_ticks_position('bottom') \n",
    "    #a2.set_xlabel(r'$\\beta_{RB}$',fontsize=20)\n",
    "    #a2.set_xlabel('PIP',fontsize=12)\n",
    "\n",
    "    a2xmean = np.mean([x for x in dfDict['imp_bfpopx']['beta'].apply(log10).tolist()])\n",
    "    a2ymean = np.mean([x for x in dfDict['imp_bfpopx']['PIP'].apply(log10).tolist()])\n",
    "    a2.axhline(y=a2ymean,xmin=0,xmax=1.2,c=\"black\",linewidth=0.5,zorder=0,ls='dashed')\n",
    "    a2.axvline(x=a2xmean,c=\"black\",linewidth=0.5,zorder=0,ls='dashed')\n",
    "\n",
    "    a3 = plt.subplot(323)\n",
    "    a3.plot(dfDict['imp_n15popx']['beta'].apply(log10).tolist(),[x for x in dfDict['imp_n15popx']['PIP'].apply(log10).tolist()],'ko')\n",
    "    a3.set_xlim([-3.9,-1.3])\n",
    "    a3.set_ylim([-3.5,-1.45])\n",
    "    a3.set_title('C',y=0.9,loc='right',fontsize=20,fontweight='bold')\n",
    "    a3.spines['right'].set_visible(False)\n",
    "    a3.spines['top'].set_visible(False)\n",
    "    a3.yaxis.set_ticks_position('left')\n",
    "    a3.xaxis.set_ticks_position('bottom')\n",
    "    a3.set_ylabel(r'$\\log_{10}(\\overline{PIP})$',fontsize=15)\n",
    "    #a3.set_xlabel(r'$\\beta_{RB}$',fontsize=20)\n",
    "\n",
    "    a3xmean = np.mean([x for x in dfDict['imp_n15popx']['beta'].apply(log10).tolist()])\n",
    "    a3ymean = np.mean([x for x in dfDict['imp_n15popx']['PIP'].apply(log10).tolist()])\n",
    "    a3.axhline(y=a3ymean,xmin=0,xmax=1.2,c=\"black\",linewidth=0.5,zorder=0,ls='dashed')\n",
    "    a3.axvline(x=a3xmean,c=\"black\",linewidth=0.5,zorder=0,ls='dashed')\n",
    "\n",
    "    a4 = plt.subplot(324)\n",
    "    a4.plot(dfDict['imp_htpopx']['beta'].apply(log10).tolist(),[x for x in dfDict['imp_htpopx']['PIP'].apply(log10).tolist()],'ko')\n",
    "    a4.set_xlim([-3.9,-1.3])\n",
    "    a4.set_ylim([-3.5,-1.45])\n",
    "    a4.set_title('D',y=0.9,loc='right',fontsize=20,fontweight='bold')\n",
    "    a4.spines['right'].set_visible(False)\n",
    "    a4.spines['top'].set_visible(False)\n",
    "    a4.yaxis.set_ticks_position('left')\n",
    "    a4.xaxis.set_ticks_position('bottom')\n",
    "    #a4.set_ylabel('Posterior Inclusion Probability (PIP)',fontsize=15)\n",
    "    a4.set_xlabel(r'$\\log_{10}(\\overline{\\beta_{RB}}$)',fontsize=20)\n",
    "\n",
    "    a4xmean = np.mean([x for x in dfDict['imp_htpopx']['beta'].apply(log10).tolist()])\n",
    "    a4ymean = np.mean([x for x in dfDict['imp_htpopx']['PIP'].apply(log10).tolist()])\n",
    "    a4.axhline(y=a4ymean,xmin=0,xmax=1.2,c=\"black\",linewidth=0.5,zorder=0,ls='dashed')\n",
    "    a4.axvline(x=a4xmean,c=\"black\",linewidth=0.5,zorder=0,ls='dashed')\n",
    "\n",
    "    a5 = plt.subplot(325)\n",
    "    a5.plot(dfDict['imp_rspopx']['beta'].apply(log10).tolist(),[x for x in dfDict['imp_rspopx']['PIP'].apply(log10).tolist()],'ko')\n",
    "    a5.set_xlim([-3.9,-1.3])\n",
    "    a5.set_ylim([-3.5,-1.45])\n",
    "    a5.set_title('E',y=0.9,loc='right',fontsize=20,fontweight='bold') \n",
    "    a5.spines['right'].set_visible(False)\n",
    "    a5.spines['top'].set_visible(False)\n",
    "    a5.yaxis.set_ticks_position('left')\n",
    "    a5.xaxis.set_ticks_position('bottom')\n",
    "    a5.set_ylabel(r'$\\log_{10}(\\overline{PIP})$',fontsize=15)\n",
    "    a5.set_xlabel(r'$\\log_{10}(\\overline{\\beta_{RB}}$)',fontsize=20)\n",
    "\n",
    "    a5xmean = np.mean([x for x in dfDict['imp_rspopx']['beta'].apply(log10).tolist()])\n",
    "    a5ymean = np.mean([x for x in dfDict['imp_rspopx']['PIP'].apply(log10).tolist()])\n",
    "    a5.axhline(y=a5ymean,xmin=0,xmax=1.2,c=\"black\",linewidth=0.5,zorder=0,ls='dashed')\n",
    "    a5.axvline(x=a5xmean,c=\"black\",linewidth=0.5,zorder=0,ls='dashed')\n",
    "\n",
    "    a6.spines['right'].set_visible(False)\n",
    "    a6.spines['left'].set_visible(False)\n",
    "    a6.spines['top'].set_visible(False)\n",
    "    a6.spines['bottom'].set_visible(False)\n",
    "    a6.axes.get_yaxis().set_visible(False)\n",
    "    a6.axes.get_xaxis().set_ticks([])\n",
    "    a6.axes.get_yaxis().set_ticks([])\n",
    "\n",
    "    #plt.tight_layout()\n",
    "    fig.set_size_inches(10,10)\n",
    "    pdf.savefig(fig,bbox_inches='tight')"
   ]
  },
  {
   "cell_type": "code",
   "execution_count": 0,
   "metadata": {
    "collapsed": false
   },
   "outputs": [],
   "source": [
    "for pheno in dfDict.keys():\n",
    "    if 'imp' in pheno and 'fam' in pheno:\n",
    "        blen = len([x for x in dfDict[pheno]['beta'].apply(log10).tolist() if math.isnan(x) == False])\n",
    "        plen = len([x for x in dfDict[pheno]['PIP'].apply(log10).tolist() if math.isnan(x) == False])\n",
    "        print pheno,data,blen,plen"
   ]
  },
  {
   "cell_type": "code",
   "execution_count": 0,
   "metadata": {
    "collapsed": false
   },
   "outputs": [],
   "source": [
    "with PdfPages('/home/lindb/wbp/0Figures/grid_imp_fam_beta_by_pip_sig_snps.pdf') as pdf:\n",
    "    plt.close('all')\n",
    "    fig, ((a1,a2),(a3,a4),(a5,a6)) = plt.subplots(3, 2, figsize=(5,5),dpi=400)\n",
    "\n",
    "    a1 = plt.subplot(321)\n",
    "    a1.plot(dfDict['imp_c13famx']['beta'].apply(log10).tolist(),[x for x in dfDict['imp_c13famx']['PIP'].apply(log10).tolist()],'ko')\n",
    "    a1.set_xlim([-3.9,-1.3])\n",
    "    a1.set_ylim([-3.5,-1.45])\n",
    "    a1.set_title('A',y=.9,loc='right',fontsize=20,fontweight='bold')\n",
    "    a1.spines['right'].set_visible(False)\n",
    "    a1.spines['top'].set_visible(False)\n",
    "    #a1.set_xlabel(r'$\\beta_{RB}$',fontsize=20)\n",
    "    a1.yaxis.set_ticks_position('left')\n",
    "    a1.xaxis.set_ticks_position('bottom')\n",
    "    a1.set_ylabel(r'$\\log_{10}(\\overline{PIP})$',fontsize=15)\n",
    "\n",
    "    a1xmean = np.mean([x for x in dfDict['imp_c13famx']['beta'].apply(log10).tolist()])\n",
    "    a1ymean = np.mean([x for x in dfDict['imp_c13famx']['PIP'].apply(log10).tolist()])\n",
    "    a1.axhline(y=a1ymean,xmin=0,xmax=1.2,c=\"black\",linewidth=0.5,zorder=0,ls='dashed')\n",
    "    a1.axvline(x=a1xmean,c=\"black\",linewidth=0.5,zorder=0,ls='dashed')\n",
    "\n",
    "    a2 = plt.subplot(322)\n",
    "    a2.plot(dfDict['imp_bffamx']['beta'].apply(log10).tolist(),[x for x in dfDict['imp_bffamx']['PIP'].apply(log10).tolist()],'ko')\n",
    "    a2.set_xlim([-3.9,-1.3])\n",
    "    a2.set_ylim([-3.5,-1.45])\n",
    "    a2.set_title('B',y=0.9,loc='right',fontsize=20,fontweight='bold')\n",
    "    a2.spines['right'].set_visible(False)\n",
    "    a2.spines['top'].set_visible(False)\n",
    "    a2.yaxis.set_ticks_position('left')\n",
    "    a2.xaxis.set_ticks_position('bottom') \n",
    "    #a2.set_xlabel(r'$\\beta_{RB}$',fontsize=20)\n",
    "    #a2.set_xlabel('PIP',fontsize=12)\n",
    "\n",
    "    a2xmean = np.mean([x for x in dfDict['imp_bffamx']['beta'].apply(log10).tolist()])\n",
    "    a2ymean = np.mean([x for x in dfDict['imp_bffamx']['PIP'].apply(log10).tolist()])\n",
    "    a2.axhline(y=a2ymean,xmin=0,xmax=1.2,c=\"black\",linewidth=0.5,zorder=0,ls='dashed')\n",
    "    a2.axvline(x=a2xmean,c=\"black\",linewidth=0.5,zorder=0,ls='dashed')\n",
    "\n",
    "    a3 = plt.subplot(323)\n",
    "    a3.plot(dfDict['imp_n15famx']['beta'].apply(log10).tolist(),[x for x in dfDict['imp_n15famx']['PIP'].apply(log10).tolist()],'ko')\n",
    "    a3.set_xlim([-3.9,-1.3])\n",
    "    a3.set_ylim([-3.5,-1.45])\n",
    "    a3.set_title('C',y=0.9,loc='right',fontsize=20,fontweight='bold')\n",
    "    a3.spines['right'].set_visible(False)\n",
    "    a3.spines['top'].set_visible(False)\n",
    "    a3.yaxis.set_ticks_position('left')\n",
    "    a3.xaxis.set_ticks_position('bottom')\n",
    "    a3.set_ylabel(r'$\\log_{10}(\\overline{PIP})$',fontsize=15)\n",
    "    #a3.set_xlabel(r'$\\beta_{RB}$',fontsize=20)\n",
    "\n",
    "    a3xmean = np.mean([x for x in dfDict['imp_n15famx']['beta'].apply(log10).tolist()])\n",
    "    a3ymean = np.mean([x for x in dfDict['imp_n15famx']['PIP'].apply(log10).tolist()])\n",
    "    a3.axhline(y=a3ymean,xmin=0,xmax=1.2,c=\"black\",linewidth=0.5,zorder=0,ls='dashed')\n",
    "    a3.axvline(x=a3xmean,c=\"black\",linewidth=0.5,zorder=0,ls='dashed')\n",
    "\n",
    "    a4 = plt.subplot(324)\n",
    "    a4.plot(dfDict['imp_htfamx']['beta'].apply(log10).tolist(),[x for x in dfDict['imp_htfamx']['PIP'].apply(log10).tolist()],'ko')\n",
    "    a4.set_xlim([-3.9,-1.3])\n",
    "    a4.set_ylim([-3.5,-1.45])\n",
    "    a4.set_title('D',y=0.9,loc='right',fontsize=20,fontweight='bold')\n",
    "    a4.spines['right'].set_visible(False)\n",
    "    a4.spines['top'].set_visible(False)\n",
    "    a4.yaxis.set_ticks_position('left')\n",
    "    a4.xaxis.set_ticks_position('bottom')\n",
    "    #a4.set_ylabel('Posterior Inclusion Probability (PIP)',fontsize=15)\n",
    "    a4.set_xlabel(r'$\\log_{10}(\\overline{\\beta_{RB}}$)',fontsize=20)\n",
    "\n",
    "    a4xmean = np.mean([x for x in dfDict['imp_htfamx']['beta'].apply(log10).tolist()])\n",
    "    a4ymean = np.mean([x for x in dfDict['imp_htfamx']['PIP'].apply(log10).tolist()])\n",
    "    a4.axhline(y=a4ymean,xmin=0,xmax=1.2,c=\"black\",linewidth=0.5,zorder=0,ls='dashed')\n",
    "    a4.axvline(x=a4xmean,c=\"black\",linewidth=0.5,zorder=0,ls='dashed')\n",
    "\n",
    "    a5 = plt.subplot(325)\n",
    "    a5.plot(dfDict['imp_rsfamx']['beta'].apply(log10).tolist(),[x for x in dfDict['imp_rsfamx']['PIP'].apply(log10).tolist()],'ko')\n",
    "    a5.set_xlim([-3.9,-1.3])\n",
    "    a5.set_ylim([-3.5,-1.45])\n",
    "    a5.set_title('E',y=0.9,loc='right',fontsize=20,fontweight='bold') \n",
    "    a5.spines['right'].set_visible(False)\n",
    "    a5.spines['top'].set_visible(False)\n",
    "    a5.yaxis.set_ticks_position('left')\n",
    "    a5.xaxis.set_ticks_position('bottom')\n",
    "    a5.set_ylabel(r'$\\log_{10}(\\overline{PIP})$',fontsize=15)\n",
    "    a5.set_xlabel(r'$\\log_{10}(\\overline{\\beta_{RB}}$)',fontsize=20)\n",
    "\n",
    "    a5xmean = np.mean([x for x in dfDict['imp_rsfamx']['beta'].apply(log10).tolist()])\n",
    "    a5ymean = np.mean([x for x in dfDict['imp_rsfamx']['PIP'].apply(log10).tolist()])\n",
    "    a5.axhline(y=a5ymean,xmin=0,xmax=1.2,c=\"black\",linewidth=0.5,zorder=0,ls='dashed')\n",
    "    a5.axvline(x=a5xmean,c=\"black\",linewidth=0.5,zorder=0,ls='dashed')\n",
    "\n",
    "    a6.spines['right'].set_visible(False)\n",
    "    a6.spines['left'].set_visible(False)\n",
    "    a6.spines['top'].set_visible(False)\n",
    "    a6.spines['bottom'].set_visible(False)\n",
    "    a6.axes.get_yaxis().set_visible(False)\n",
    "    a6.axes.get_xaxis().set_ticks([])\n",
    "    a6.axes.get_yaxis().set_ticks([])\n",
    "\n",
    "    #plt.tight_layout()\n",
    "    fig.set_size_inches(10,10)\n",
    "    pdf.savefig(fig,bbox_inches='tight')"
   ]
  },
  {
   "cell_type": "code",
   "execution_count": 0,
   "metadata": {
    "collapsed": false
   },
   "outputs": [],
   "source": [
    "pmx = -10000000000000\n",
    "pmn = 10000000000000\n",
    "\n",
    "bmx = -10000000000000\n",
    "bmn = 10000000000000\n",
    "\n",
    "for pheno in dfDict.keys():\n",
    "    if 'mis' in pheno:\n",
    "        if max([-1*x for x in dfDict[pheno]['PIP'].apply(log10).tolist()]) > pmx:\n",
    "            pmx = max([-1*x for x in dfDict[pheno]['PIP'].apply(log10).tolist()])\n",
    "        if min([-1*x for x in dfDict[pheno]['PIP'].apply(log10).tolist()]) < pmn:\n",
    "            pmn = min([-1*x for x in dfDict[pheno]['PIP'].apply(log10).tolist()])\n",
    "        if max(dfDict[pheno]['beta'].apply(log10).tolist()) > bmx:\n",
    "            bmx = max(dfDict[pheno]['beta'].apply(log10).tolist())\n",
    "        if min(dfDict[pheno]['beta'].apply(log10).tolist()) < bmn:\n",
    "            bmn = min(dfDict[pheno]['beta'].apply(log10).tolist())\n",
    "print \"bmn\",bmn\n",
    "print \"bmx\",bmx\n",
    "print \"pmn\",pmn\n",
    "print \"pmx\",pmx"
   ]
  },
  {
   "cell_type": "code",
   "execution_count": 0,
   "metadata": {
    "collapsed": false
   },
   "outputs": [],
   "source": [
    "for pheno in dfDict.keys():\n",
    "    if 'mis' in pheno and 'pop' in pheno:\n",
    "        blen = len([x for x in dfDict[pheno]['beta'].apply(log10).tolist() if math.isnan(x) == False])\n",
    "        plen = len([x for x in dfDict[pheno]['PIP'].apply(log10).tolist() if math.isnan(x) == False])\n",
    "        print pheno,data,blen,plen"
   ]
  },
  {
   "cell_type": "code",
   "execution_count": 0,
   "metadata": {
    "collapsed": false
   },
   "outputs": [],
   "source": [
    "with PdfPages('/home/lindb/wbp/0Figures/grid_mis_pop_beta_by_pip_sig_snps.pdf') as pdf:\n",
    "    plt.close('all')\n",
    "    fig, ((a1,a2),(a3,a4),(a5,a6)) = plt.subplots(3, 2, figsize=(5,5),dpi=400)\n",
    "\n",
    "    a1 = plt.subplot(321)\n",
    "    a1.plot(dfDict['mis_c13popx']['beta'].apply(log10).tolist(),[x for x in dfDict['mis_c13popx']['PIP'].apply(log10).tolist()],'ko')\n",
    "    a1.set_xlim([-5.1,-3])\n",
    "    a1.set_ylim([-4.2,-3])\n",
    "    a1.set_title('A',y=.9,loc='right',fontsize=20,fontweight='bold')\n",
    "    a1.spines['right'].set_visible(False)\n",
    "    a1.spines['top'].set_visible(False)\n",
    "    #a1.set_xlabel(r'$\\beta_{RB}$',fontsize=20)\n",
    "    a1.yaxis.set_ticks_position('left')\n",
    "    a1.xaxis.set_ticks_position('bottom')\n",
    "    a1.set_ylabel(r'$\\log_{10}(\\overline{PIP})$',fontsize=15)\n",
    "\n",
    "    a1xmean = np.mean([x for x in dfDict['mis_c13popx']['beta'].apply(log10).tolist() if math.isnan(x) == False])\n",
    "    a1ymean = np.mean([x for x in dfDict['mis_c13popx']['PIP'].apply(log10).tolist()])\n",
    "    a1.axhline(y=a1ymean,c=\"black\",linewidth=0.5,zorder=0,ls='dashed')\n",
    "    a1.axvline(x=a1xmean,c=\"black\",linewidth=0.5,zorder=0,ls='dashed')\n",
    "\n",
    "    a2 = plt.subplot(322)\n",
    "    a2.plot(dfDict['mis_bfpopx']['beta'].apply(log10).tolist(),[x for x in dfDict['mis_bfpopx']['PIP'].apply(log10).tolist()],'ko')\n",
    "    a2.set_xlim([-5.1,-3])\n",
    "    a2.set_ylim([-4.2,-3])\n",
    "    a2.set_title('B',y=0.9,loc='right',fontsize=20,fontweight='bold')\n",
    "    a2.spines['right'].set_visible(False)\n",
    "    a2.spines['top'].set_visible(False)\n",
    "    a2.yaxis.set_ticks_position('left')\n",
    "    a2.xaxis.set_ticks_position('bottom') \n",
    "    #a2.set_xlabel(r'$\\beta_{RB}$',fontsize=20)\n",
    "    #a2.set_xlabel('PIP',fontsize=12)\n",
    "\n",
    "    a2xmean = np.mean([x for x in dfDict['mis_bfpopx']['beta'].apply(log10).tolist() if math.isnan(x) == False])\n",
    "    a2ymean = np.mean([x for x in dfDict['mis_bfpopx']['PIP'].apply(log10).tolist()])\n",
    "    a2.axhline(y=a2ymean,c=\"black\",linewidth=0.5,zorder=0,ls='dashed')\n",
    "    a2.axvline(x=a2xmean,c=\"black\",linewidth=0.5,zorder=0,ls='dashed')\n",
    "\n",
    "    a3 = plt.subplot(323)\n",
    "    a3.plot(dfDict['mis_n15popx']['beta'].apply(log10).tolist(),[x for x in dfDict['mis_n15popx']['PIP'].apply(log10).tolist()],'ko')\n",
    "    a3.set_xlim([-5.1,-3])\n",
    "    a3.set_ylim([-4.2,-3])\n",
    "    a3.set_title('C',y=0.9,loc='right',fontsize=20,fontweight='bold')\n",
    "    a3.spines['right'].set_visible(False)\n",
    "    a3.spines['top'].set_visible(False)\n",
    "    a3.yaxis.set_ticks_position('left')\n",
    "    a3.xaxis.set_ticks_position('bottom')\n",
    "    a3.set_ylabel(r'$\\log_{10}(\\overline{PIP})$',fontsize=15)\n",
    "    #a3.set_xlabel(r'$\\beta_{RB}$',fontsize=20)\n",
    "\n",
    "    a3xmean = np.mean([x for x in dfDict['mis_n15popx']['beta'].apply(log10).tolist() if math.isnan(x) == False])\n",
    "    a3ymean = np.mean([x for x in dfDict['mis_n15popx']['PIP'].apply(log10).tolist()])\n",
    "    a3.axhline(y=a3ymean,c=\"black\",linewidth=0.5,zorder=0,ls='dashed')\n",
    "    a3.axvline(x=a3xmean,c=\"black\",linewidth=0.5,zorder=0,ls='dashed')\n",
    "\n",
    "    a4 = plt.subplot(324)\n",
    "    a4.plot(dfDict['mis_htpopx']['beta'].apply(log10).tolist(),[x for x in dfDict['mis_htpopx']['PIP'].apply(log10).tolist()],'ko')\n",
    "    a4.set_xlim([-5.1,-3])\n",
    "    a4.set_ylim([-4.2,-3])\n",
    "    a4.set_title('D',y=0.9,loc='right',fontsize=20,fontweight='bold')\n",
    "    a4.spines['right'].set_visible(False)\n",
    "    a4.spines['top'].set_visible(False)\n",
    "    a4.yaxis.set_ticks_position('left')\n",
    "    a4.xaxis.set_ticks_position('bottom')\n",
    "    #a4.set_ylabel('Posterior Inclusion Probability (PIP)',fontsize=15)\n",
    "    a4.set_xlabel(r'$\\log_{10}(\\overline{\\beta_{RB}}$)',fontsize=20)\n",
    "\n",
    "    a4xmean = np.mean([x for x in dfDict['mis_htpopx']['beta'].apply(log10).tolist() if math.isnan(x) == False])\n",
    "    a4ymean = np.mean([x for x in dfDict['mis_htpopx']['PIP'].apply(log10).tolist()])\n",
    "    a4.axhline(y=a4ymean,c=\"black\",linewidth=0.5,zorder=0,ls='dashed')\n",
    "    a4.axvline(x=a4xmean,c=\"black\",linewidth=0.5,zorder=0,ls='dashed')\n",
    "\n",
    "    a5 = plt.subplot(325)\n",
    "    a5.plot(dfDict['mis_rspopx']['beta'].apply(log10).tolist(),[x for x in dfDict['mis_rspopx']['PIP'].apply(log10).tolist()],'ko')\n",
    "    a5.set_xlim([-5.1,-3])\n",
    "    a5.set_ylim([-4.2,-3])\n",
    "    a5.set_title('E',y=0.9,loc='right',fontsize=20,fontweight='bold') \n",
    "    a5.spines['right'].set_visible(False)\n",
    "    a5.spines['top'].set_visible(False)\n",
    "    a5.yaxis.set_ticks_position('left')\n",
    "    a5.xaxis.set_ticks_position('bottom')\n",
    "    a5.set_ylabel(r'$\\log_{10}(\\overline{PIP})$',fontsize=15)\n",
    "    a5.set_xlabel(r'$\\log_{10}(\\overline{\\beta_{RB}}$)',fontsize=20)\n",
    "\n",
    "    a5xmean = np.mean([x for x in dfDict['mis_rspopx']['beta'].apply(log10).tolist() if math.isnan(x) == False])\n",
    "    a5ymean = np.mean([x for x in dfDict['mis_rspopx']['PIP'].apply(log10).tolist()])\n",
    "    a5.axhline(y=a5ymean,c=\"black\",linewidth=0.5,zorder=0,ls='dashed')\n",
    "    a5.axvline(x=a5xmean,c=\"black\",linewidth=0.5,zorder=0,ls='dashed')\n",
    "\n",
    "    a6.spines['right'].set_visible(False)\n",
    "    a6.spines['left'].set_visible(False)\n",
    "    a6.spines['top'].set_visible(False)\n",
    "    a6.spines['bottom'].set_visible(False)\n",
    "    a6.axes.get_yaxis().set_visible(False)\n",
    "    a6.axes.get_xaxis().set_ticks([])\n",
    "    a6.axes.get_yaxis().set_ticks([])\n",
    "\n",
    "    #plt.tight_layout()\n",
    "    fig.set_size_inches(10,10)\n",
    "    pdf.savefig(fig,bbox_inches='tight')"
   ]
  },
  {
   "cell_type": "code",
   "execution_count": 0,
   "metadata": {
    "collapsed": false
   },
   "outputs": [],
   "source": [
    "#bf,ht,n15,c13,rs\n",
    "len(dfDict['mis_htfamx']['PIP'].apply(log10).tolist()),len(dfDict['mis_htfamx']['PIP'].apply(log10).tolist())"
   ]
  },
  {
   "cell_type": "code",
   "execution_count": 0,
   "metadata": {
    "collapsed": false
   },
   "outputs": [],
   "source": [
    "for pheno in dfDict.keys():\n",
    "    if 'mis' in pheno and 'fam' in pheno:\n",
    "        blen = len([x for x in dfDict[pheno]['beta'].apply(log10).tolist() if math.isnan(x) == False])\n",
    "        plen = len([x for x in dfDict[pheno]['PIP'].apply(log10).tolist() if math.isnan(x) == False])\n",
    "        print pheno,data,blen,plen"
   ]
  },
  {
   "cell_type": "code",
   "execution_count": 0,
   "metadata": {
    "collapsed": false
   },
   "outputs": [],
   "source": [
    "with PdfPages('/home/lindb/wbp/0Figures/grid_mis_fam_beta_by_pip_sig_snps.pdf') as pdf:\n",
    "    plt.close('all')\n",
    "    fig, ((a1,a2),(a3,a4),(a5,a6)) = plt.subplots(3, 2, figsize=(5,5),dpi=400)\n",
    "\n",
    "    a1 = plt.subplot(321)\n",
    "    a1.plot(dfDict['mis_c13famx']['beta'].apply(log10).tolist(),[x for x in dfDict['mis_c13famx']['PIP'].apply(log10).tolist()],'ko')\n",
    "    a1.set_xlim([-5.1,-3])\n",
    "    a1.set_ylim([-4.2,-3])\n",
    "    a1.set_title('A',y=.9,loc='right',fontsize=20,fontweight='bold')\n",
    "    a1.spines['right'].set_visible(False)\n",
    "    a1.spines['top'].set_visible(False)\n",
    "    #a1.set_xlabel(r'$\\beta_{RB}$',fontsize=20)\n",
    "    a1.yaxis.set_ticks_position('left')\n",
    "    a1.xaxis.set_ticks_position('bottom')\n",
    "    a1.set_ylabel(r'$\\log_{10}(\\overline{PIP})$',fontsize=15)\n",
    "\n",
    "    a1xmean = np.mean([x for x in dfDict['mis_c13famx']['beta'].apply(log10).tolist() if math.isnan(x) == False])\n",
    "    a1ymean = np.mean([x for x in dfDict['mis_c13famx']['PIP'].apply(log10).tolist()])\n",
    "    a1.axhline(y=a1ymean,xmin=0,xmax=1.2,c=\"black\",linewidth=0.5,zorder=0,ls='dashed')\n",
    "    a1.axvline(x=a1xmean,c=\"black\",linewidth=0.5,zorder=0,ls='dashed')\n",
    "\n",
    "    a2 = plt.subplot(322)\n",
    "    a2.plot(dfDict['mis_bffamx']['beta'].apply(log10).tolist(),[x for x in dfDict['mis_bffamx']['PIP'].apply(log10).tolist()],'ko')\n",
    "    a2.set_xlim([-5.1,-3])\n",
    "    a2.set_ylim([-4.2,-3])\n",
    "    a2.set_title('B',y=0.9,loc='right',fontsize=20,fontweight='bold')\n",
    "    a2.spines['right'].set_visible(False)\n",
    "    a2.spines['top'].set_visible(False)\n",
    "    a2.yaxis.set_ticks_position('left')\n",
    "    a2.xaxis.set_ticks_position('bottom') \n",
    "    #a2.set_xlabel(r'$\\beta_{RB}$',fontsize=20)\n",
    "    #a2.set_xlabel('PIP',fontsize=12)\n",
    "\n",
    "    a2xmean = np.mean([x for x in dfDict['mis_bffamx']['beta'].apply(log10).tolist() if math.isnan(x) == False])\n",
    "    a2ymean = np.mean([x for x in dfDict['mis_bffamx']['PIP'].apply(log10).tolist()])\n",
    "    a2.axhline(y=a2ymean,xmin=0,xmax=1.2,c=\"black\",linewidth=0.5,zorder=0,ls='dashed')\n",
    "    a2.axvline(x=a2xmean,c=\"black\",linewidth=0.5,zorder=0,ls='dashed')\n",
    "\n",
    "    a3 = plt.subplot(323)\n",
    "    a3.plot(dfDict['mis_n15famx']['beta'].apply(log10).tolist(),[x for x in dfDict['mis_n15famx']['PIP'].apply(log10).tolist()],'ko')\n",
    "    a3.set_xlim([-5.1,-3])\n",
    "    a3.set_ylim([-4.2,-3])\n",
    "    a3.set_title('C',y=0.9,loc='right',fontsize=20,fontweight='bold')\n",
    "    a3.spines['right'].set_visible(False)\n",
    "    a3.spines['top'].set_visible(False)\n",
    "    a3.yaxis.set_ticks_position('left')\n",
    "    a3.xaxis.set_ticks_position('bottom')\n",
    "    a3.set_ylabel(r'$\\log_{10}(\\overline{PIP})$',fontsize=15)\n",
    "    #a3.set_xlabel(r'$\\beta_{RB}$',fontsize=20)\n",
    "\n",
    "    a3xmean = np.mean([x for x in dfDict['mis_n15famx']['beta'].apply(log10).tolist() if math.isnan(x) == False])\n",
    "    a3ymean = np.mean([x for x in dfDict['mis_n15famx']['PIP'].apply(log10).tolist()])\n",
    "    a3.axhline(y=a3ymean,xmin=0,xmax=1.2,c=\"black\",linewidth=0.5,zorder=0,ls='dashed')\n",
    "    a3.axvline(x=a3xmean,c=\"black\",linewidth=0.5,zorder=0,ls='dashed')\n",
    "\n",
    "    a4 = plt.subplot(324)\n",
    "    a4.plot(dfDict['mis_htfamx']['beta'].apply(log10).tolist(),[x for x in dfDict['mis_htfamx']['PIP'].apply(log10).tolist()],'ko')\n",
    "    a4.set_xlim([-5.1,-3])\n",
    "    a4.set_ylim([-4.2,-3])\n",
    "    a4.set_title('D',y=0.9,loc='right',fontsize=20,fontweight='bold')\n",
    "    a4.spines['right'].set_visible(False)\n",
    "    a4.spines['top'].set_visible(False)\n",
    "    a4.yaxis.set_ticks_position('left')\n",
    "    a4.xaxis.set_ticks_position('bottom')\n",
    "    #a4.set_ylabel('Posterior Inclusion Probability (PIP)',fontsize=15)\n",
    "    a4.set_xlabel(r'$\\log_{10}(\\overline{\\beta_{RB}}$)',fontsize=20)\n",
    "\n",
    "    a4xmean = np.mean([x for x in dfDict['mis_htfamx']['beta'].apply(log10).tolist() if math.isnan(x) == False])\n",
    "    a4ymean = np.mean([x for x in dfDict['mis_htfamx']['PIP'].apply(log10).tolist()])\n",
    "    a4.axhline(y=a4ymean,xmin=0,xmax=1.2,c=\"black\",linewidth=0.5,zorder=0,ls='dashed')\n",
    "    a4.axvline(x=a4xmean,c=\"black\",linewidth=0.5,zorder=0,ls='dashed')\n",
    "\n",
    "    a5 = plt.subplot(325)\n",
    "    a5.plot(dfDict['mis_rsfamx']['beta'].apply(log10).tolist(),[x for x in dfDict['mis_rsfamx']['PIP'].apply(log10).tolist()],'ko')\n",
    "    a5.set_xlim([-5.1,-3])\n",
    "    a5.set_ylim([-4.2,-3])\n",
    "    a5.set_title('E',y=0.9,loc='right',fontsize=20,fontweight='bold') \n",
    "    a5.spines['right'].set_visible(False)\n",
    "    a5.spines['top'].set_visible(False)\n",
    "    a5.yaxis.set_ticks_position('left')\n",
    "    a5.xaxis.set_ticks_position('bottom')\n",
    "    a5.set_ylabel(r'$\\log_{10}(\\overline{PIP})$',fontsize=15)\n",
    "    a5.set_xlabel(r'$\\log_{10}(\\overline{\\beta_{RB}}$)',fontsize=20)\n",
    "\n",
    "    a5xmean = np.mean([x for x in dfDict['mis_rsfamx']['beta'].apply(log10).tolist() if math.isnan(x) == False])\n",
    "    a5ymean = np.mean([x for x in dfDict['mis_rsfamx']['PIP'].apply(log10).tolist()])\n",
    "    a5.axhline(y=a5ymean,xmin=0,xmax=1.2,c=\"black\",linewidth=0.5,zorder=0,ls='dashed')\n",
    "    a5.axvline(x=a5xmean,c=\"black\",linewidth=0.5,zorder=0,ls='dashed')\n",
    "\n",
    "    a6.spines['right'].set_visible(False)\n",
    "    a6.spines['left'].set_visible(False)\n",
    "    a6.spines['top'].set_visible(False)\n",
    "    a6.spines['bottom'].set_visible(False)\n",
    "    a6.axes.get_yaxis().set_visible(False)\n",
    "    a6.axes.get_xaxis().set_ticks([])\n",
    "    a6.axes.get_yaxis().set_ticks([])\n",
    "\n",
    "    #plt.tight_layout()\n",
    "    fig.set_size_inches(10,10)\n",
    "    pdf.savefig(fig,bbox_inches='tight')"
   ]
  },
  {
   "cell_type": "code",
   "execution_count": 0,
   "metadata": {
    "collapsed": true
   },
   "outputs": [],
   "source": []
  },
  {
   "cell_type": "code",
   "execution_count": 0,
   "metadata": {
    "collapsed": true
   },
   "outputs": [],
   "source": []
  },
  {
   "cell_type": "code",
   "execution_count": 0,
   "metadata": {
    "collapsed": true
   },
   "outputs": [],
   "source": []
  },
  {
   "cell_type": "code",
   "execution_count": 0,
   "metadata": {
    "collapsed": true
   },
   "outputs": [],
   "source": []
  },
  {
   "cell_type": "code",
   "execution_count": 0,
   "metadata": {
    "collapsed": true
   },
   "outputs": [],
   "source": []
  },
  {
   "cell_type": "code",
   "execution_count": 0,
   "metadata": {
    "collapsed": true
   },
   "outputs": [],
   "source": []
  },
  {
   "cell_type": "code",
   "execution_count": 0,
   "metadata": {
    "collapsed": true
   },
   "outputs": [],
   "source": []
  },
  {
   "cell_type": "code",
   "execution_count": 0,
   "metadata": {
    "collapsed": true
   },
   "outputs": [],
   "source": []
  },
  {
   "cell_type": "code",
   "execution_count": 0,
   "metadata": {
    "collapsed": true
   },
   "outputs": [],
   "source": []
  },
  {
   "cell_type": "code",
   "execution_count": 0,
   "metadata": {
    "collapsed": true
   },
   "outputs": [],
   "source": []
  },
  {
   "cell_type": "code",
   "execution_count": 0,
   "metadata": {
    "collapsed": true
   },
   "outputs": [],
   "source": []
  },
  {
   "cell_type": "code",
   "execution_count": 0,
   "metadata": {
    "collapsed": true
   },
   "outputs": [],
   "source": []
  },
  {
   "cell_type": "code",
   "execution_count": 0,
   "metadata": {
    "collapsed": true
   },
   "outputs": [],
   "source": []
  },
  {
   "cell_type": "code",
   "execution_count": 0,
   "metadata": {
    "collapsed": true
   },
   "outputs": [],
   "source": []
  },
  {
   "cell_type": "code",
   "execution_count": 0,
   "metadata": {
    "collapsed": true
   },
   "outputs": [],
   "source": []
  },
  {
   "cell_type": "code",
   "execution_count": 0,
   "metadata": {
    "collapsed": true
   },
   "outputs": [],
   "source": []
  }
 ],
 "metadata": {
  "kernelspec": {
   "display_name": "Python 2",
   "language": "python",
   "name": "python2"
  },
  "language_info": {
   "codemirror_mode": {
    "name": "ipython",
    "version": 2
   },
   "file_extension": ".py",
   "mimetype": "text/x-python",
   "name": "python",
   "nbconvert_exporter": "python",
   "pygments_lexer": "ipython2",
   "version": "2.7.11"
  }
 },
 "nbformat": 4,
 "nbformat_minor": 0
}
