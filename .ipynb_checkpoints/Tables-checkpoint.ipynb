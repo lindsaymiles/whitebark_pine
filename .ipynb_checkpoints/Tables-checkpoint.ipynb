{
 "cells": [
  {
   "cell_type": "code",
   "execution_count": 0,
   "metadata": {
    "collapsed": true
   },
   "outputs": [],
   "source": [
    "import sys\n",
    "from IPython.parallel import Client\n",
    "import os, time\n",
    "import pandas as pd\n",
    "import numpy as np\n",
    "import scipy as sp\n",
    "from IPython.parallel import Client\n",
    "from fractions import Fraction\n",
    "from collections import defaultdict\n",
    "import vcf\n",
    "from __future__ import division\n",
    "import random\n",
    "from collections import OrderedDict"
   ]
  },
  {
   "cell_type": "markdown",
   "metadata": {},
   "source": [
    "#pop/env info table"
   ]
  },
  {
   "cell_type": "code",
   "execution_count": 0,
   "metadata": {
    "collapsed": false
   },
   "outputs": [],
   "source": [
    "test = pd.read_csv('/home/lindb/wbp/bowtie2.1/bowtierun/dup_dir/WBP_IDS_MATCHED_POP_FINAL_05182015_canonical.csv',header=0,sep=\",\")\n",
    "test.head()"
   ]
  },
  {
   "cell_type": "code",
   "execution_count": 0,
   "metadata": {
    "collapsed": false
   },
   "outputs": [],
   "source": [
    "test.columns"
   ]
  },
  {
   "cell_type": "code",
   "execution_count": 0,
   "metadata": {
    "collapsed": false
   },
   "outputs": [],
   "source": [
    "c = [4,5,6] + range(12,28,1)\n",
    "c"
   ]
  },
  {
   "cell_type": "code",
   "execution_count": 0,
   "metadata": {
    "collapsed": false,
    "scrolled": true
   },
   "outputs": [],
   "source": [
    "use = test.loc[:,test.columns[c]]\n",
    "use.head()"
   ]
  },
  {
   "cell_type": "code",
   "execution_count": 0,
   "metadata": {
    "collapsed": true
   },
   "outputs": [],
   "source": [
    "use"
   ]
  },
  {
   "cell_type": "code",
   "execution_count": 0,
   "metadata": {
    "collapsed": false
   },
   "outputs": [],
   "source": [
    "pops = np.unique(use['Population_ID']).tolist()\n",
    "pops"
   ]
  },
  {
   "cell_type": "code",
   "execution_count": 0,
   "metadata": {
    "collapsed": false
   },
   "outputs": [],
   "source": [
    "use.columns[3]"
   ]
  },
  {
   "cell_type": "code",
   "execution_count": 0,
   "metadata": {
    "collapsed": false
   },
   "outputs": [],
   "source": [
    "envdf = pd.DataFrame(data=[],columns=sorted(pops))\n",
    "envcount = 0\n",
    "for col in sorted(use.columns[3:]):\n",
    "    for pop in pops:\n",
    "        data = use[use['Population_ID'] == pop]\n",
    "        x = round(np.mean(np.unique(data[col]).tolist()),2)\n",
    "        envdf.loc[envcount,pop] = x\n",
    "    envcount += 1\n",
    "envdf.index = sorted(use.columns[3:])\n",
    "envdf = envdf.T\n",
    "envdf"
   ]
  },
  {
   "cell_type": "code",
   "execution_count": 0,
   "metadata": {
    "collapsed": false
   },
   "outputs": [],
   "source": [
    "envdf['n'] = \"\"\n",
    "envdf"
   ]
  },
  {
   "cell_type": "code",
   "execution_count": 0,
   "metadata": {
    "collapsed": false
   },
   "outputs": [],
   "source": [
    "stp = pd.read_csv('/home/lindb/eckertlab/wbp/hierfstat/sampsTOpop.txt',header=0,sep=\"\\t\")\n",
    "stp.head()"
   ]
  },
  {
   "cell_type": "code",
   "execution_count": 0,
   "metadata": {
    "collapsed": false
   },
   "outputs": [],
   "source": [
    "pcount = OrderedDict()\n",
    "for row in stp.index:\n",
    "    pop = stp.loc[row,'pop']\n",
    "    if pop not in pcount.keys():\n",
    "        pcount[pop] = 0\n",
    "    pcount[pop] += 1\n",
    "pcount"
   ]
  },
  {
   "cell_type": "code",
   "execution_count": 0,
   "metadata": {
    "collapsed": true
   },
   "outputs": [],
   "source": [
    "#fill in the 'n' columns of envdf\n",
    "for pop in envdf.index:\n",
    "    envdf.loc[pop,'n'] = pcount[pop]"
   ]
  },
  {
   "cell_type": "code",
   "execution_count": 0,
   "metadata": {
    "collapsed": false
   },
   "outputs": [],
   "source": [
    "#rearrange columns\n",
    "cols = ['n']\n",
    "for col in envdf.columns[0:16]:\n",
    "    cols.append(col)\n",
    "df = envdf[cols]\n",
    "df"
   ]
  },
  {
   "cell_type": "code",
   "execution_count": 0,
   "metadata": {
    "collapsed": false
   },
   "outputs": [],
   "source": [
    "envdf"
   ]
  },
  {
   "cell_type": "code",
   "execution_count": 0,
   "metadata": {
    "collapsed": true
   },
   "outputs": [],
   "source": []
  },
  {
   "cell_type": "markdown",
   "metadata": {
    "collapsed": true
   },
   "source": [
    "#Fisher Tests"
   ]
  },
  {
   "cell_type": "code",
   "execution_count": 0,
   "metadata": {
    "collapsed": false
   },
   "outputs": [],
   "source": [
    "from scipy import stats\n",
    "from scipy.stats import fisher_exact as fe"
   ]
  },
  {
   "cell_type": "code",
   "execution_count": 0,
   "metadata": {
    "collapsed": false
   },
   "outputs": [],
   "source": [
    "intset = pd.read_csv('/home/lindb/wbp/piMASS/IntersectionRowNames.txt',header=None,sep=\"\\t\")\n",
    "intset = intset[1].tolist()\n",
    "intset[0:9]"
   ]
  },
  {
   "cell_type": "code",
   "execution_count": 0,
   "metadata": {
    "collapsed": false
   },
   "outputs": [],
   "source": [
    "len(intset.index)"
   ]
  },
  {
   "cell_type": "code",
   "execution_count": 0,
   "metadata": {
    "collapsed": false
   },
   "outputs": [],
   "source": [
    "files = os.listdir('/home/lindb/wbp/bayenv2/Final/imputed/')\n",
    "files = [os.path.join('/home/lindb/wbp/bayenv2/Final/imputed/',f) for f in files if 'sigSNP' in f]\n",
    "len(files)"
   ]
  },
  {
   "cell_type": "code",
   "execution_count": 0,
   "metadata": {
    "collapsed": true
   },
   "outputs": [],
   "source": [
    "bayDict = OrderedDict()\n",
    "for f in files:\n",
    "    df = pd.read_csv(f,header=0,sep=\"\\t\")\n",
    "    env = df.columns[0]\n",
    "    bayDict[env] = df[env].tolist()"
   ]
  },
  {
   "cell_type": "code",
   "execution_count": 0,
   "metadata": {
    "collapsed": false
   },
   "outputs": [],
   "source": [
    "files = os.listdir('/home/lindb/wbp/piMASS/analyses2/7xstringent/')\n",
    "files = [os.path.join('/home/lindb/wbp/piMASS/analyses2/7xstringent/',f) for f in files if 'imp' in f]\n",
    "len(files)"
   ]
  },
  {
   "cell_type": "code",
   "execution_count": 0,
   "metadata": {
    "collapsed": true
   },
   "outputs": [],
   "source": [
    "piDict = OrderedDict()\n",
    "for f in files:\n",
    "    df = pd.read_csv(f,header=0,index_col=0,sep=\"\\t\")\n",
    "    pheno = os.path.basename(f).split(\"_\")[1]\n",
    "    piDict[pheno] = df['rs'].tolist()"
   ]
  },
  {
   "cell_type": "code",
   "execution_count": 0,
   "metadata": {
    "collapsed": true
   },
   "outputs": [],
   "source": [
    "statDict = OrderedDict()\n",
    "impfishDict = OrderedDict()\n",
    "for i,env in enumerate(bayDict.keys()):\n",
    "    statDict[env] = OrderedDict()\n",
    "    impfishDict[env] = OrderedDict()\n",
    "    for j,pheno in enumerate(piDict.keys()):\n",
    "        baynotsig = set(intset) - set(bayDict[env])\n",
    "        pinotsig = set(intset) - set(piDict[pheno])\n",
    "        one   = len(set(piDict[pheno]).intersection(bayDict[env])) #    sig pi ,     sig bay\n",
    "        two   = len(set(piDict[pheno]).intersection(baynotsig))    #    sig pi , not sig bay\n",
    "        three = len(set(pinotsig).intersection(bayDict[env]))      #not sig pi ,     sig bay\n",
    "        four  = len(set(pinotsig).intersection(baynotsig))         #not sig pi , not sig bay\n",
    "\n",
    "        statDict[env][pheno] = fe([[one,two],[three,four]])\n",
    "        impfishDict[env][pheno] = [[one,two],[three,four]]\n",
    "        print env,pheno,[[one,two],[three,four]]"
   ]
  },
  {
   "cell_type": "code",
   "execution_count": 0,
   "metadata": {
    "collapsed": false
   },
   "outputs": [],
   "source": [
    "filE = '/home/lindb/wbp/0Tables/Fishertests_imputed.txt'\n",
    "with open(filE,'w') as o:\n",
    "    line = '\\t'.join([str(x) for x in piDict.keys()]) + str('\\n')\n",
    "    o.write(\"%s\" % line)\n",
    "    for env in statDict.keys():\n",
    "        line = str(env)+'\\t'+'\\t'.join([str(x) for x in statDict[env].values()]) + str('\\n')\n",
    "        o.write(\"%s\" % line)"
   ]
  },
  {
   "cell_type": "code",
   "execution_count": 0,
   "metadata": {
    "collapsed": false,
    "scrolled": false
   },
   "outputs": [],
   "source": [
    "impfish = pd.read_csv(filE,header=0,index_col=0,sep=\"\\t\")\n",
    "impfish"
   ]
  },
  {
   "cell_type": "code",
   "execution_count": 0,
   "metadata": {
    "collapsed": false
   },
   "outputs": [],
   "source": [
    "impfishDict['Silt']['rspopx']"
   ]
  },
  {
   "cell_type": "code",
   "execution_count": 0,
   "metadata": {
    "collapsed": false
   },
   "outputs": [],
   "source": [
    "len(bayDict['elev'])"
   ]
  },
  {
   "cell_type": "code",
   "execution_count": 0,
   "metadata": {
    "collapsed": false
   },
   "outputs": [],
   "source": [
    "len(piDict['bffamx'])"
   ]
  },
  {
   "cell_type": "code",
   "execution_count": 0,
   "metadata": {
    "collapsed": true
   },
   "outputs": [],
   "source": []
  },
  {
   "cell_type": "code",
   "execution_count": 0,
   "metadata": {
    "collapsed": true
   },
   "outputs": [],
   "source": []
  },
  {
   "cell_type": "code",
   "execution_count": 0,
   "metadata": {
    "collapsed": true
   },
   "outputs": [],
   "source": []
  },
  {
   "cell_type": "code",
   "execution_count": 0,
   "metadata": {
    "collapsed": true
   },
   "outputs": [],
   "source": []
  },
  {
   "cell_type": "code",
   "execution_count": 0,
   "metadata": {
    "collapsed": true
   },
   "outputs": [],
   "source": []
  },
  {
   "cell_type": "code",
   "execution_count": 0,
   "metadata": {
    "collapsed": true
   },
   "outputs": [],
   "source": []
  },
  {
   "cell_type": "code",
   "execution_count": 0,
   "metadata": {
    "collapsed": true
   },
   "outputs": [],
   "source": []
  },
  {
   "cell_type": "code",
   "execution_count": 0,
   "metadata": {
    "collapsed": true
   },
   "outputs": [],
   "source": []
  },
  {
   "cell_type": "code",
   "execution_count": 0,
   "metadata": {
    "collapsed": true
   },
   "outputs": [],
   "source": []
  },
  {
   "cell_type": "code",
   "execution_count": 0,
   "metadata": {
    "collapsed": true
   },
   "outputs": [],
   "source": []
  },
  {
   "cell_type": "code",
   "execution_count": 0,
   "metadata": {
    "collapsed": true
   },
   "outputs": [],
   "source": []
  },
  {
   "cell_type": "code",
   "execution_count": 0,
   "metadata": {
    "collapsed": true
   },
   "outputs": [],
   "source": []
  },
  {
   "cell_type": "code",
   "execution_count": 0,
   "metadata": {
    "collapsed": true
   },
   "outputs": [],
   "source": []
  },
  {
   "cell_type": "code",
   "execution_count": 0,
   "metadata": {
    "collapsed": true
   },
   "outputs": [],
   "source": []
  },
  {
   "cell_type": "code",
   "execution_count": 0,
   "metadata": {
    "collapsed": true
   },
   "outputs": [],
   "source": []
  },
  {
   "cell_type": "code",
   "execution_count": 0,
   "metadata": {
    "collapsed": true
   },
   "outputs": [],
   "source": []
  },
  {
   "cell_type": "code",
   "execution_count": 0,
   "metadata": {
    "collapsed": true
   },
   "outputs": [],
   "source": []
  },
  {
   "cell_type": "code",
   "execution_count": 0,
   "metadata": {
    "collapsed": true
   },
   "outputs": [],
   "source": []
  },
  {
   "cell_type": "code",
   "execution_count": 0,
   "metadata": {
    "collapsed": true
   },
   "outputs": [],
   "source": []
  }
 ],
 "metadata": {
  "kernelspec": {
   "display_name": "Python 2",
   "language": "python",
   "name": "python2"
  },
  "language_info": {
   "codemirror_mode": {
    "name": "ipython",
    "version": 2
   },
   "file_extension": ".py",
   "mimetype": "text/x-python",
   "name": "python",
   "nbconvert_exporter": "python",
   "pygments_lexer": "ipython2",
   "version": "2.7.10"
  }
 },
 "nbformat": 4,
 "nbformat_minor": 0
}
