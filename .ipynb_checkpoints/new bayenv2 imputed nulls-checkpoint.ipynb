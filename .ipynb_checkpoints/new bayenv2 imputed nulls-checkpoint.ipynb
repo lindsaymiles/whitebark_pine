{
 "cells": [
  {
   "cell_type": "code",
   "execution_count": 0,
   "metadata": {
    "collapsed": true
   },
   "outputs": [],
   "source": [
    "import sys, os, time\n",
    "import pandas as pd\n",
    "import numpy as np\n",
    "import vcf\n",
    "import random\n",
    "from collections import OrderedDict\n",
    "from operator import itemgetter\n",
    "from collections import defaultdict\n",
    "from __future__ import division\n",
    "import math\n",
    "import shutil"
   ]
  },
  {
   "cell_type": "code",
   "execution_count": 0,
   "metadata": {
    "collapsed": false
   },
   "outputs": [],
   "source": [
    "1+1"
   ]
  },
  {
   "cell_type": "code",
   "execution_count": 0,
   "metadata": {
    "collapsed": true
   },
   "outputs": [],
   "source": [
    "home = '/home/lindb/eckertlab/wbp/bayenv2/nullruns/old_imputed/'\n",
    "new_home = '/home/lindb/eckertlab/wbp/bayenv2/nullruns/imputed'"
   ]
  },
  {
   "cell_type": "code",
   "execution_count": 0,
   "metadata": {
    "collapsed": true
   },
   "outputs": [],
   "source": [
    "for i in range(1,100,1): # skip dir0 because I'm deleting it atm\n",
    "    DIR = home + 'dir%s' % i\n",
    "    print DIR"
   ]
  },
  {
   "cell_type": "code",
   "execution_count": 0,
   "metadata": {
    "collapsed": false,
    "scrolled": true
   },
   "outputs": [],
   "source": [
    "#make new dirX directories based on if existing dirX directories\n",
    "for i in range(1,100,1): # skip dir0 because I'm deleting it atm\n",
    "    DIR = home + 'dir%s' % i\n",
    "    print DIR\n",
    "    if os.path.exists(DIR):\n",
    "        new_dir = new_home + '/dir%s' % i\n",
    "        if not os.path.exists(new_dir):\n",
    "            os.makedirs(new_dir)"
   ]
  },
  {
   "cell_type": "code",
   "execution_count": 0,
   "metadata": {
    "collapsed": false
   },
   "outputs": [],
   "source": [
    "files = os.listdir(home)\n",
    "for f in files:\n",
    "    if f.startswith('Unbinn'):\n",
    "        src = os.path.join(home,f)\n",
    "        print 'src',src\n",
    "        num = f.split(\"_\")[0][23:]\n",
    "        dst_dir = os.path.join(new_home,'dir%s' % str(num))\n",
    "        if os.path.exists(dst_dir):   \n",
    "            print 'exists'\n",
    "            print 'dst_dir=',dst_dir\n",
    "            dst = os.path.join(dst_dir,'UnbinnedImputedSNPSFILE%s_noHEADERIDX.txt' % str(num))\n",
    "            print 'dst',dst\n",
    "            shutil.copy(src,dst)\n",
    "            #break"
   ]
  },
  {
   "cell_type": "code",
   "execution_count": 0,
   "metadata": {
    "collapsed": false
   },
   "outputs": [],
   "source": [
    "home"
   ]
  },
  {
   "cell_type": "code",
   "execution_count": 0,
   "metadata": {
    "collapsed": true
   },
   "outputs": [],
   "source": [
    "#copy all of the good stuff\n",
    "for i in range(1,100,1):\n",
    "    src_dir = os.path.join(home,'dir%s' % str(i))\n",
    "    if os.path.exists(src_dir):\n",
    "        dst_dir = os.path.join(new_home,'dir%s' % str(i))\n",
    "        print 'src_dir=',src_dir\n",
    "        files = os.listdir(src_dir)\n",
    "    #    print files\n",
    "        for f in files:\n",
    "            if not (f.startswith('Unbin')) and not (f.startswith('SNP')) and not (f.startswith('dele')):\n",
    "                print f\n",
    "                src = os.path.join(src_dir,f)\n",
    "                dst = os.path.join(dst_dir,f)\n",
    "                shutil.copy(src,dst)\n",
    "    #    break"
   ]
  },
  {
   "cell_type": "code",
   "execution_count": 0,
   "metadata": {
    "collapsed": false
   },
   "outputs": [],
   "source": [
    "#make SNPs dirs\n",
    "for i in range(1,100,1):\n",
    "    src_dir = os.path.join(new_home,'dir%s' % str(i))\n",
    "    if os.path.exists(src_dir):\n",
    "        dst_dir = os.path.join(new_home,'dir%s' % str(i))\n",
    "        snp_dir = os.path.join(dst_dir,'SNPs')\n",
    "        if not os.path.exists(snp_dir):\n",
    "            os.makedirs(snp_dir)\n",
    "        #break"
   ]
  },
  {
   "cell_type": "code",
   "execution_count": 0,
   "metadata": {
    "collapsed": true
   },
   "outputs": [],
   "source": [
    "#make usable matrices\n",
    "for i in range(100):\n",
    "    DIR = '/home/lindb/eckertlab/wbp/bayenv2/nullruns/imputed/dir%s/' % str(i)\n",
    "    if os.path.exists(DIR):\n",
    "        files = os.listdir(DIR)\n",
    "        for f in files:\n",
    "            if (f.startswith('matrix')) and (f.endswith('out')):\n",
    "                #print os.path.join(DIR,f)\n",
    "                F = open(os.path.join(DIR,f),'r')\n",
    "                g = F.readlines()\n",
    "                new = f[:-4] + '.txt'\n",
    "                filE = DIR + '/usable_%s' % new\n",
    "                print filE\n",
    "                with open(filE,'w') as o:\n",
    "                    for line in g[2005:][:-1]:\n",
    "                        o.write(line)\n",
    "                o.close()\n",
    "                break\n",
    "        #break    "
   ]
  },
  {
   "cell_type": "code",
   "execution_count": 0,
   "metadata": {
    "collapsed": true
   },
   "outputs": [],
   "source": [
    "#copy everyting into the SNPs folder\n",
    "for i in range(100):\n",
    "    DIR = '/home/lindb/eckertlab/wbp/bayenv2/nullruns/imputed/dir%s/' % str(i)\n",
    "    if os.path.exists(DIR):\n",
    "        files = os.listdir(DIR)\n",
    "        for f in files:\n",
    "            if not (f.startswith('SNP')) and not (f.startswith('copy')):\n",
    "                src = os.path.join(DIR,f)\n",
    "                dst_dir = os.path.join(DIR,'SNPs')\n",
    "                dst = os.path.join(dst_dir,f)\n",
    "                shutil.copy(src,dst)"
   ]
  },
  {
   "cell_type": "code",
   "execution_count": 0,
   "metadata": {
    "collapsed": false,
    "scrolled": true
   },
   "outputs": [],
   "source": [
    "#rewrite copy.sh files\n",
    "for i in range(100):\n",
    "    DIR = '/home/lindb/eckertlab/wbp/bayenv2/nullruns/imputed/dir%s/' % str(i)\n",
    "    if os.path.exists(DIR):\n",
    "        text = '''#!/bin/bash\n",
    "#$ -N %s \n",
    "#$ -V\n",
    "#$ -j y\n",
    "#$ -cwd\n",
    "\n",
    "cd %s\n",
    "split -d -a 10 -l 2 UnbinnedImputedSNPSFILE%s_noHEADERIDX.txt ./SNPs/snp_batch\n",
    "''' % ('imp'+str(i),\n",
    "       DIR,\n",
    "       i)\n",
    "        filE = os.path.join(DIR, 'copySNPs%s.sh' % str(i))\n",
    "        print filE\n",
    "        with open(filE,'w') as o:\n",
    "            o.write(text)\n",
    "        o.close()\n",
    "        #break"
   ]
  },
  {
   "cell_type": "code",
   "execution_count": 0,
   "metadata": {
    "collapsed": false
   },
   "outputs": [],
   "source": [
    "for i in range(100):\n",
    "    DIR = '/home/lindb/eckertlab/wbp/bayenv2/nullruns/imputed/dir%s/SNPs' % str(i)\n",
    "    if os.path.exists(DIR):\n",
    "        files = os.listdir(DIR)\n",
    "        print len(files)"
   ]
  },
  {
   "cell_type": "code",
   "execution_count": 0,
   "metadata": {
    "collapsed": false,
    "scrolled": true
   },
   "outputs": [],
   "source": [
    "#make sure each SNPs folder has 159803 snpfiles\n",
    "for i in range(100):\n",
    "    DIR = '/home/lindb/eckertlab/wbp/bayenv2/nullruns/imputed/dir%s/SNPs' % str(i)\n",
    "    if os.path.exists(DIR):\n",
    "        files = os.listdir(DIR)\n",
    "        count = len([f for f in files if f.startswith('snp')])\n",
    "        if count != 159803:\n",
    "            print DIR, count\n",
    "        else:\n",
    "            print count"
   ]
  },
  {
   "cell_type": "code",
   "execution_count": 0,
   "metadata": {
    "collapsed": false,
    "scrolled": true
   },
   "outputs": [],
   "source": [
    "#make sure each SNPSFILE is 319606 lines long because why not\n",
    "for i in range(100):\n",
    "    DIR = '/home/lindb/eckertlab/wbp/bayenv2/nullruns/imputed/dir%s/SNPs' % str(i)\n",
    "    if os.path.exists(DIR):\n",
    "        files = os.listdir(DIR)\n",
    "        for f in files:\n",
    "            if f.endswith('noHEADERIDX.txt'):\n",
    "                df = pd.read_csv(os.path.join(DIR,f),header=None)\n",
    "                idx = len(df.index)\n",
    "                if idx != 319606:\n",
    "                    print DIR,idx\n",
    "                else:\n",
    "                    print idx"
   ]
  },
  {
   "cell_type": "code",
   "execution_count": 0,
   "metadata": {
    "collapsed": true
   },
   "outputs": [],
   "source": [
    "#copy of all the headeridx files into correct dirs\n",
    "#check SNPFILES file length in both missing/imputed"
   ]
  },
  {
   "cell_type": "code",
   "execution_count": 0,
   "metadata": {
    "collapsed": true
   },
   "outputs": [],
   "source": [
    "os.path.exists('/home/lindb/eckertlab/wbp/bayenv2/nullruns/imputed/dir1/SNPs/UnbinnedImputedSNPSFILE1_noHEADERIDX.txt')"
   ]
  },
  {
   "cell_type": "code",
   "execution_count": 0,
   "metadata": {
    "collapsed": false
   },
   "outputs": [],
   "source": [
    "new_dir = []\n",
    "for i in range(100):\n",
    "    DIR = '/home/lindb/eckertlab/wbp/bayenv2/nullruns/delete2/dir%s/SNPs2/' % str(i)\n",
    "    if os.path.exists(DIR):\n",
    "        files = os.listdir(DIR)\n",
    "        dst_dir = '/home/lindb/eckertlab/wbp/bayenv2/nullruns/imputed/dir%s' % str(i)\n",
    "        if not os.path.exists(dst_dir):\n",
    "            os.makedirs(dst_dir)\n",
    "            new_dir.append(dst_dir)\n",
    "            for f in files:\n",
    "                if (f.endswith('HEADERROW.txt')) or (f.startswith('matrix')) or (f.startswith('ENVIRONFILE')) or (f.startswith('bay')):\n",
    "                    src = os.path.join(DIR,f)\n",
    "                    dst = os.path.join('/home/lindb/eckertlab/wbp/bayenv2/nullruns/imputed/dir%s' % str(i),f)\n",
    "                    shutil.copy(src,dst)\n",
    "        else:\n",
    "            for f in files:\n",
    "                if f.endswith('HEADERROW.txt'):\n",
    "                    src = os.path.join(DIR,f)\n",
    "                    dst = os.path.join('/home/lindb/eckertlab/wbp/bayenv2/nullruns/imputed/dir%s' % str(i),f)\n",
    "                    shutil.copy(src,dst)\n",
    "for x in new_dir:\n",
    "    filE = '/home/lindb/eckertlab/wbp/bayenv2/nullruns/imputed/0readme.txt'\n",
    "    with open(filE,'w') as o:\n",
    "        o.write(\"%s\" % x)"
   ]
  },
  {
   "cell_type": "code",
   "execution_count": 0,
   "metadata": {
    "collapsed": false
   },
   "outputs": [],
   "source": [
    "new_dir"
   ]
  },
  {
   "cell_type": "code",
   "execution_count": 0,
   "metadata": {
    "collapsed": false
   },
   "outputs": [],
   "source": [
    "for i in range(100):\n",
    "    DIR = '/home/lindb/eckertlab/wbp/bayenv2/nullruns/imputed/dir%s' % str(i)\n",
    "    if os.path.exists(DIR):\n",
    "        files = os.listdir(DIR)\n",
    "        if len(files) < 5:\n",
    "            print DIR"
   ]
  },
  {
   "cell_type": "code",
   "execution_count": 0,
   "metadata": {
    "collapsed": true
   },
   "outputs": [],
   "source": [
    "!qdel 1389640"
   ]
  },
  {
   "cell_type": "code",
   "execution_count": 0,
   "metadata": {
    "collapsed": true
   },
   "outputs": [],
   "source": []
  },
  {
   "cell_type": "code",
   "execution_count": 0,
   "metadata": {
    "collapsed": false
   },
   "outputs": [],
   "source": [
    "implst = []\n",
    "for i in range(100):\n",
    "    DIR = '/home/lindb/eckertlab/wbp/bayenv2/nullruns/imputed/dir%s' % str(i)\n",
    "    if not os.path.exists(DIR):\n",
    "        implst.append('dir%s' % str(i))\n",
    "len(implst),implst"
   ]
  },
  {
   "cell_type": "code",
   "execution_count": 0,
   "metadata": {
    "collapsed": true
   },
   "outputs": [],
   "source": [
    "for DIR in implst:\n",
    "    DIR = os.path.join('/home/lindb/eckertlab/wbp/bayenv2/extraNullruns/imputed', DIR)\n",
    "    if not os.path.exists(DIR):\n",
    "        os.makedirs(DIR)"
   ]
  },
  {
   "cell_type": "code",
   "execution_count": 0,
   "metadata": {
    "collapsed": false
   },
   "outputs": [],
   "source": [
    "for i,DIR in enumerate(implst): #make 100 runfiles to make SNPSFILES\n",
    "    text = '''print \"starting\"\n",
    "import sys\n",
    "import os, time\n",
    "import pandas as pd\n",
    "import numpy as np\n",
    "import scipy as sp\n",
    "import random\n",
    "from collections import OrderedDict\n",
    "from operator import itemgetter\n",
    "import random\n",
    "\n",
    "print \"loading imputed data\"\n",
    "imputedData = pd.read_csv('/home/lindb/eckertlab/wbp/bayenv2/imputedDataHEADERIDX.txt',header=0,index_col=0,sep=\"\\\\t\")\n",
    "\n",
    "stpDF = pd.read_csv('/home/lindb/eckertlab/wbp/hierfstat/sampsTOpop.txt',header=0,sep=\"\\\\t\")\n",
    "\n",
    "stpnew = stpDF[stpDF['samp'].isin(imputedData.index)]\n",
    "\n",
    "pops = np.unique(stpnew['pop']).tolist()\n",
    "\n",
    "print \"creating popDict\"\n",
    "popDict = OrderedDict()\n",
    "for pop in pops:\n",
    "    popDict[pop] = 0\n",
    "\n",
    "for row in stpnew.index:\n",
    "    POP = stpDF.loc[row,'pop']\n",
    "    popDict[POP] += 1\n",
    "\n",
    "idx = range(len(imputedData.index))\n",
    "sampDict = OrderedDict()\n",
    "print \"assigning random samps to pops\"\n",
    "for pop in sorted(popDict.keys()): #randomly assign samples to pops\n",
    "    which = random.sample(idx,popDict[pop])\n",
    "    samps = itemgetter(*which)(imputedData.index.tolist())\n",
    "    sampDict[pop] = imputedData[imputedData.index.isin(samps)]\n",
    "    idx = [x for x in idx if x not in which]\n",
    "\n",
    "locCount = 0\n",
    "nullDict = OrderedDict()\n",
    "print \"iterating loci\"\n",
    "for locus in imputedData.columns:\n",
    "    nullDict[locus] = OrderedDict()\n",
    "\n",
    "    for pop in sorted(popDict.keys()):\n",
    "        data = sampDict[pop]\n",
    "        zero = str(data[locus]).count('0') #count the first homozygotes\n",
    "        one = str(data[locus]).count('1') #count the heterozygotes\n",
    "        two = str(data[locus]).count('2') #count the second homozygotes  \n",
    "        A1 = 2*zero + one\n",
    "        A2 = 2*two + one\n",
    "        if len(nullDict[locus].keys()) == 0:\n",
    "            nullDict[locus]['A1'] = OrderedDict()\n",
    "            nullDict[locus]['A2'] = OrderedDict()\n",
    "        nullDict[locus]['A1'][pop] = A1\n",
    "        nullDict[locus]['A2'][pop] = A2    \n",
    "    locCount += 1\n",
    "    if locCount %% 1000 == 0:\n",
    "        print locCount\n",
    "print \"writing file \", %d\n",
    "dIR = os.path.join('/home/lindb/eckertlab/wbp/bayenv2/extraNullruns/imputed/', DIR)\n",
    "filE = os.path.join(dIR,'UnbinnedimputedSNPSFILE%%s_HEADERROW.txt' %% str(DIR[3:]))\n",
    "with open(filE, 'w') as o:\n",
    "    line = '\\\\t'.join([str(pop) for pop in sorted(popDict.keys())]) + str('\\\\n')\n",
    "    o.write(\"%%s\" %% line)\n",
    "    for locus in nullDict.keys():\n",
    "        for allele in nullDict[locus].keys():\n",
    "            line = str(locus) + '\\\\t' + '\\\\t'.join([str(x) for x in nullDict[locus][allele].values()]) + str('\\\\n')\n",
    "            #print locus,allele,line\n",
    "            o.write(\"%%s\" %% line)\n",
    "o.close()\n",
    "print 'writing noHEADERIDX', i\n",
    "df = pd.read_csv(filE,header=0,index_col=0,sep=\"\\\\t\")\n",
    "filE2 = os.path.join(dIR,'UnbinnedimputedSNPSFILE%%s_noHEADERIDX.txt' %% str(DIR[3:]))\n",
    "df.to_csv(filE2,header=False,index=False,sep=\"\\\\t\")\n",
    "print \"finishing up\"\n",
    "''' % i\n",
    "    FILE = '/home/lindb/eckertlab/wbp/bayenv2/extraNullruns/imputed/imp_run%s.py' % str(DIR[3:])\n",
    "    with open(FILE,'w') as o:\n",
    "        o.write(text)\n",
    "    o.close"
   ]
  },
  {
   "cell_type": "code",
   "execution_count": 0,
   "metadata": {
    "collapsed": true
   },
   "outputs": [],
   "source": [
    "files = os.listdir('/home/lindb/eckertlab/wbp/bayenv2/extraNullruns/imputed/')\n",
    "files = itemgetter(*[i for i,x in enumerate(files) if x.startswith('imp')])(files)\n",
    "for f in files:\n",
    "    text = '''#!/bin/bash\n",
    "#$ -N Mdata%s \n",
    "#$ -V\n",
    "#$ -j y\n",
    "#$ -cwd\n",
    "\n",
    "cd %s\n",
    "python %s\n",
    "''' % (f.split(\".\")[0][7:],\n",
    "       '/home/lindb/eckertlab/wbp/bayenv2/extraNullruns/imputed/',\n",
    "       f)\n",
    "    filE = '/home/lindb/eckertlab/wbp/bayenv2/extraNullruns/imputed/get_data%s.sh' % f.split(\".\")[0][7:]\n",
    "    with open(filE,'w') as o:\n",
    "        o.write(text)\n",
    "    o.close()"
   ]
  },
  {
   "cell_type": "code",
   "execution_count": 0,
   "metadata": {
    "collapsed": true
   },
   "outputs": [],
   "source": []
  },
  {
   "cell_type": "code",
   "execution_count": 0,
   "metadata": {
    "collapsed": true
   },
   "outputs": [],
   "source": []
  },
  {
   "cell_type": "code",
   "execution_count": 0,
   "metadata": {
    "collapsed": true
   },
   "outputs": [],
   "source": []
  },
  {
   "cell_type": "code",
   "execution_count": 0,
   "metadata": {
    "collapsed": true
   },
   "outputs": [],
   "source": []
  },
  {
   "cell_type": "code",
   "execution_count": 0,
   "metadata": {
    "collapsed": true
   },
   "outputs": [],
   "source": []
  },
  {
   "cell_type": "code",
   "execution_count": 0,
   "metadata": {
    "collapsed": true
   },
   "outputs": [],
   "source": []
  },
  {
   "cell_type": "code",
   "execution_count": 0,
   "metadata": {
    "collapsed": true
   },
   "outputs": [],
   "source": []
  },
  {
   "cell_type": "code",
   "execution_count": 0,
   "metadata": {
    "collapsed": true
   },
   "outputs": [],
   "source": []
  },
  {
   "cell_type": "code",
   "execution_count": 0,
   "metadata": {
    "collapsed": true
   },
   "outputs": [],
   "source": []
  },
  {
   "cell_type": "code",
   "execution_count": 0,
   "metadata": {
    "collapsed": true
   },
   "outputs": [],
   "source": []
  },
  {
   "cell_type": "code",
   "execution_count": 0,
   "metadata": {
    "collapsed": true
   },
   "outputs": [],
   "source": []
  },
  {
   "cell_type": "code",
   "execution_count": 0,
   "metadata": {
    "collapsed": true
   },
   "outputs": [],
   "source": []
  },
  {
   "cell_type": "code",
   "execution_count": 0,
   "metadata": {
    "collapsed": true
   },
   "outputs": [],
   "source": []
  },
  {
   "cell_type": "code",
   "execution_count": 0,
   "metadata": {
    "collapsed": true
   },
   "outputs": [],
   "source": []
  },
  {
   "cell_type": "code",
   "execution_count": 0,
   "metadata": {
    "collapsed": true
   },
   "outputs": [],
   "source": []
  },
  {
   "cell_type": "code",
   "execution_count": 0,
   "metadata": {
    "collapsed": true
   },
   "outputs": [],
   "source": []
  },
  {
   "cell_type": "code",
   "execution_count": 0,
   "metadata": {
    "collapsed": true
   },
   "outputs": [],
   "source": []
  },
  {
   "cell_type": "code",
   "execution_count": 0,
   "metadata": {
    "collapsed": true
   },
   "outputs": [],
   "source": []
  },
  {
   "cell_type": "code",
   "execution_count": 0,
   "metadata": {
    "collapsed": true
   },
   "outputs": [],
   "source": []
  },
  {
   "cell_type": "code",
   "execution_count": 0,
   "metadata": {
    "collapsed": true
   },
   "outputs": [],
   "source": []
  },
  {
   "cell_type": "code",
   "execution_count": 0,
   "metadata": {
    "collapsed": true
   },
   "outputs": [],
   "source": []
  },
  {
   "cell_type": "code",
   "execution_count": 0,
   "metadata": {
    "collapsed": true
   },
   "outputs": [],
   "source": []
  },
  {
   "cell_type": "code",
   "execution_count": 0,
   "metadata": {
    "collapsed": true
   },
   "outputs": [],
   "source": []
  },
  {
   "cell_type": "code",
   "execution_count": 0,
   "metadata": {
    "collapsed": true
   },
   "outputs": [],
   "source": []
  },
  {
   "cell_type": "code",
   "execution_count": 0,
   "metadata": {
    "collapsed": true
   },
   "outputs": [],
   "source": []
  },
  {
   "cell_type": "code",
   "execution_count": 0,
   "metadata": {
    "collapsed": true
   },
   "outputs": [],
   "source": []
  },
  {
   "cell_type": "code",
   "execution_count": 0,
   "metadata": {
    "collapsed": true
   },
   "outputs": [],
   "source": []
  },
  {
   "cell_type": "code",
   "execution_count": 0,
   "metadata": {
    "collapsed": true
   },
   "outputs": [],
   "source": []
  },
  {
   "cell_type": "code",
   "execution_count": 0,
   "metadata": {
    "collapsed": true
   },
   "outputs": [],
   "source": []
  },
  {
   "cell_type": "code",
   "execution_count": 0,
   "metadata": {
    "collapsed": true
   },
   "outputs": [],
   "source": []
  },
  {
   "cell_type": "code",
   "execution_count": 0,
   "metadata": {
    "collapsed": true
   },
   "outputs": [],
   "source": []
  },
  {
   "cell_type": "code",
   "execution_count": 0,
   "metadata": {
    "collapsed": true
   },
   "outputs": [],
   "source": []
  },
  {
   "cell_type": "code",
   "execution_count": 0,
   "metadata": {
    "collapsed": true
   },
   "outputs": [],
   "source": []
  },
  {
   "cell_type": "code",
   "execution_count": 0,
   "metadata": {
    "collapsed": true
   },
   "outputs": [],
   "source": []
  },
  {
   "cell_type": "code",
   "execution_count": 0,
   "metadata": {
    "collapsed": true
   },
   "outputs": [],
   "source": []
  },
  {
   "cell_type": "code",
   "execution_count": 0,
   "metadata": {
    "collapsed": true
   },
   "outputs": [],
   "source": []
  },
  {
   "cell_type": "code",
   "execution_count": 0,
   "metadata": {
    "collapsed": true
   },
   "outputs": [],
   "source": []
  },
  {
   "cell_type": "code",
   "execution_count": 0,
   "metadata": {
    "collapsed": true
   },
   "outputs": [],
   "source": []
  },
  {
   "cell_type": "code",
   "execution_count": 0,
   "metadata": {
    "collapsed": true
   },
   "outputs": [],
   "source": []
  },
  {
   "cell_type": "code",
   "execution_count": 0,
   "metadata": {
    "collapsed": true
   },
   "outputs": [],
   "source": []
  },
  {
   "cell_type": "code",
   "execution_count": 0,
   "metadata": {
    "collapsed": true
   },
   "outputs": [],
   "source": []
  },
  {
   "cell_type": "code",
   "execution_count": 0,
   "metadata": {
    "collapsed": true
   },
   "outputs": [],
   "source": []
  },
  {
   "cell_type": "code",
   "execution_count": 0,
   "metadata": {
    "collapsed": true
   },
   "outputs": [],
   "source": []
  },
  {
   "cell_type": "code",
   "execution_count": 0,
   "metadata": {
    "collapsed": true
   },
   "outputs": [],
   "source": []
  },
  {
   "cell_type": "code",
   "execution_count": 0,
   "metadata": {
    "collapsed": true
   },
   "outputs": [],
   "source": []
  },
  {
   "cell_type": "code",
   "execution_count": 0,
   "metadata": {
    "collapsed": true
   },
   "outputs": [],
   "source": []
  },
  {
   "cell_type": "code",
   "execution_count": 0,
   "metadata": {
    "collapsed": true
   },
   "outputs": [],
   "source": []
  },
  {
   "cell_type": "code",
   "execution_count": 0,
   "metadata": {
    "collapsed": true
   },
   "outputs": [],
   "source": []
  },
  {
   "cell_type": "code",
   "execution_count": 0,
   "metadata": {
    "collapsed": true
   },
   "outputs": [],
   "source": []
  },
  {
   "cell_type": "code",
   "execution_count": 0,
   "metadata": {
    "collapsed": true
   },
   "outputs": [],
   "source": []
  },
  {
   "cell_type": "code",
   "execution_count": 0,
   "metadata": {
    "collapsed": true
   },
   "outputs": [],
   "source": []
  },
  {
   "cell_type": "code",
   "execution_count": 0,
   "metadata": {
    "collapsed": true
   },
   "outputs": [],
   "source": []
  },
  {
   "cell_type": "code",
   "execution_count": 0,
   "metadata": {
    "collapsed": true
   },
   "outputs": [],
   "source": []
  },
  {
   "cell_type": "code",
   "execution_count": 0,
   "metadata": {
    "collapsed": true
   },
   "outputs": [],
   "source": []
  },
  {
   "cell_type": "code",
   "execution_count": 0,
   "metadata": {
    "collapsed": true
   },
   "outputs": [],
   "source": []
  },
  {
   "cell_type": "code",
   "execution_count": 0,
   "metadata": {
    "collapsed": true
   },
   "outputs": [],
   "source": []
  },
  {
   "cell_type": "code",
   "execution_count": 0,
   "metadata": {
    "collapsed": true
   },
   "outputs": [],
   "source": []
  },
  {
   "cell_type": "code",
   "execution_count": 0,
   "metadata": {
    "collapsed": true
   },
   "outputs": [],
   "source": []
  },
  {
   "cell_type": "code",
   "execution_count": 0,
   "metadata": {
    "collapsed": true
   },
   "outputs": [],
   "source": []
  },
  {
   "cell_type": "code",
   "execution_count": 0,
   "metadata": {
    "collapsed": true
   },
   "outputs": [],
   "source": []
  },
  {
   "cell_type": "code",
   "execution_count": 0,
   "metadata": {
    "collapsed": true
   },
   "outputs": [],
   "source": []
  },
  {
   "cell_type": "code",
   "execution_count": 0,
   "metadata": {
    "collapsed": true
   },
   "outputs": [],
   "source": []
  },
  {
   "cell_type": "code",
   "execution_count": 0,
   "metadata": {
    "collapsed": true
   },
   "outputs": [],
   "source": []
  },
  {
   "cell_type": "code",
   "execution_count": 0,
   "metadata": {
    "collapsed": true
   },
   "outputs": [],
   "source": []
  },
  {
   "cell_type": "code",
   "execution_count": 0,
   "metadata": {
    "collapsed": true
   },
   "outputs": [],
   "source": []
  },
  {
   "cell_type": "code",
   "execution_count": 0,
   "metadata": {
    "collapsed": true
   },
   "outputs": [],
   "source": []
  },
  {
   "cell_type": "code",
   "execution_count": 0,
   "metadata": {
    "collapsed": true
   },
   "outputs": [],
   "source": []
  },
  {
   "cell_type": "code",
   "execution_count": 0,
   "metadata": {
    "collapsed": true
   },
   "outputs": [],
   "source": []
  },
  {
   "cell_type": "code",
   "execution_count": 0,
   "metadata": {
    "collapsed": true
   },
   "outputs": [],
   "source": []
  },
  {
   "cell_type": "code",
   "execution_count": 0,
   "metadata": {
    "collapsed": true
   },
   "outputs": [],
   "source": []
  },
  {
   "cell_type": "code",
   "execution_count": 0,
   "metadata": {
    "collapsed": true
   },
   "outputs": [],
   "source": []
  },
  {
   "cell_type": "code",
   "execution_count": 0,
   "metadata": {
    "collapsed": true
   },
   "outputs": [],
   "source": []
  },
  {
   "cell_type": "code",
   "execution_count": 0,
   "metadata": {
    "collapsed": true
   },
   "outputs": [],
   "source": []
  },
  {
   "cell_type": "code",
   "execution_count": 0,
   "metadata": {
    "collapsed": true
   },
   "outputs": [],
   "source": []
  },
  {
   "cell_type": "code",
   "execution_count": 0,
   "metadata": {
    "collapsed": true
   },
   "outputs": [],
   "source": []
  },
  {
   "cell_type": "code",
   "execution_count": 0,
   "metadata": {
    "collapsed": true
   },
   "outputs": [],
   "source": []
  },
  {
   "cell_type": "code",
   "execution_count": 0,
   "metadata": {
    "collapsed": true
   },
   "outputs": [],
   "source": []
  },
  {
   "cell_type": "code",
   "execution_count": 0,
   "metadata": {
    "collapsed": true
   },
   "outputs": [],
   "source": []
  },
  {
   "cell_type": "code",
   "execution_count": 0,
   "metadata": {
    "collapsed": true
   },
   "outputs": [],
   "source": []
  },
  {
   "cell_type": "code",
   "execution_count": 0,
   "metadata": {
    "collapsed": true
   },
   "outputs": [],
   "source": []
  },
  {
   "cell_type": "code",
   "execution_count": 0,
   "metadata": {
    "collapsed": true
   },
   "outputs": [],
   "source": []
  },
  {
   "cell_type": "code",
   "execution_count": 0,
   "metadata": {
    "collapsed": true
   },
   "outputs": [],
   "source": []
  },
  {
   "cell_type": "code",
   "execution_count": 0,
   "metadata": {
    "collapsed": true
   },
   "outputs": [],
   "source": []
  },
  {
   "cell_type": "code",
   "execution_count": 0,
   "metadata": {
    "collapsed": true
   },
   "outputs": [],
   "source": []
  },
  {
   "cell_type": "code",
   "execution_count": 0,
   "metadata": {
    "collapsed": true
   },
   "outputs": [],
   "source": []
  },
  {
   "cell_type": "code",
   "execution_count": 0,
   "metadata": {
    "collapsed": true
   },
   "outputs": [],
   "source": []
  },
  {
   "cell_type": "code",
   "execution_count": 0,
   "metadata": {
    "collapsed": true
   },
   "outputs": [],
   "source": []
  },
  {
   "cell_type": "code",
   "execution_count": 0,
   "metadata": {
    "collapsed": true
   },
   "outputs": [],
   "source": []
  },
  {
   "cell_type": "code",
   "execution_count": 0,
   "metadata": {
    "collapsed": true
   },
   "outputs": [],
   "source": []
  },
  {
   "cell_type": "code",
   "execution_count": 0,
   "metadata": {
    "collapsed": true
   },
   "outputs": [],
   "source": []
  },
  {
   "cell_type": "code",
   "execution_count": 0,
   "metadata": {
    "collapsed": true
   },
   "outputs": [],
   "source": []
  },
  {
   "cell_type": "code",
   "execution_count": 0,
   "metadata": {
    "collapsed": true
   },
   "outputs": [],
   "source": []
  },
  {
   "cell_type": "code",
   "execution_count": 0,
   "metadata": {
    "collapsed": true
   },
   "outputs": [],
   "source": []
  },
  {
   "cell_type": "code",
   "execution_count": 0,
   "metadata": {
    "collapsed": true
   },
   "outputs": [],
   "source": []
  },
  {
   "cell_type": "code",
   "execution_count": 0,
   "metadata": {
    "collapsed": true
   },
   "outputs": [],
   "source": []
  },
  {
   "cell_type": "code",
   "execution_count": 0,
   "metadata": {
    "collapsed": true
   },
   "outputs": [],
   "source": []
  },
  {
   "cell_type": "code",
   "execution_count": 0,
   "metadata": {
    "collapsed": true
   },
   "outputs": [],
   "source": []
  },
  {
   "cell_type": "code",
   "execution_count": 0,
   "metadata": {
    "collapsed": true
   },
   "outputs": [],
   "source": []
  },
  {
   "cell_type": "code",
   "execution_count": 0,
   "metadata": {
    "collapsed": true
   },
   "outputs": [],
   "source": []
  },
  {
   "cell_type": "code",
   "execution_count": 0,
   "metadata": {
    "collapsed": true
   },
   "outputs": [],
   "source": []
  },
  {
   "cell_type": "code",
   "execution_count": 0,
   "metadata": {
    "collapsed": true
   },
   "outputs": [],
   "source": []
  },
  {
   "cell_type": "code",
   "execution_count": 0,
   "metadata": {
    "collapsed": true
   },
   "outputs": [],
   "source": []
  },
  {
   "cell_type": "code",
   "execution_count": 0,
   "metadata": {
    "collapsed": true
   },
   "outputs": [],
   "source": []
  },
  {
   "cell_type": "code",
   "execution_count": 0,
   "metadata": {
    "collapsed": true
   },
   "outputs": [],
   "source": []
  },
  {
   "cell_type": "code",
   "execution_count": 0,
   "metadata": {
    "collapsed": true
   },
   "outputs": [],
   "source": []
  },
  {
   "cell_type": "code",
   "execution_count": 0,
   "metadata": {
    "collapsed": true
   },
   "outputs": [],
   "source": []
  },
  {
   "cell_type": "code",
   "execution_count": 0,
   "metadata": {
    "collapsed": true
   },
   "outputs": [],
   "source": []
  },
  {
   "cell_type": "code",
   "execution_count": 0,
   "metadata": {
    "collapsed": true
   },
   "outputs": [],
   "source": []
  },
  {
   "cell_type": "code",
   "execution_count": 0,
   "metadata": {
    "collapsed": true
   },
   "outputs": [],
   "source": []
  },
  {
   "cell_type": "code",
   "execution_count": 0,
   "metadata": {
    "collapsed": true
   },
   "outputs": [],
   "source": []
  },
  {
   "cell_type": "code",
   "execution_count": 0,
   "metadata": {
    "collapsed": true
   },
   "outputs": [],
   "source": []
  },
  {
   "cell_type": "code",
   "execution_count": 0,
   "metadata": {
    "collapsed": true
   },
   "outputs": [],
   "source": []
  },
  {
   "cell_type": "code",
   "execution_count": 0,
   "metadata": {
    "collapsed": true
   },
   "outputs": [],
   "source": []
  },
  {
   "cell_type": "code",
   "execution_count": 0,
   "metadata": {
    "collapsed": true
   },
   "outputs": [],
   "source": []
  },
  {
   "cell_type": "code",
   "execution_count": 0,
   "metadata": {
    "collapsed": true
   },
   "outputs": [],
   "source": []
  },
  {
   "cell_type": "code",
   "execution_count": 0,
   "metadata": {
    "collapsed": true
   },
   "outputs": [],
   "source": []
  },
  {
   "cell_type": "code",
   "execution_count": 0,
   "metadata": {
    "collapsed": true
   },
   "outputs": [],
   "source": []
  },
  {
   "cell_type": "code",
   "execution_count": 0,
   "metadata": {
    "collapsed": true
   },
   "outputs": [],
   "source": []
  },
  {
   "cell_type": "code",
   "execution_count": 0,
   "metadata": {
    "collapsed": true
   },
   "outputs": [],
   "source": []
  }
 ],
 "metadata": {
  "kernelspec": {
   "display_name": "Python 2",
   "language": "python",
   "name": "python2"
  },
  "language_info": {
   "codemirror_mode": {
    "name": "ipython",
    "version": 2
   },
   "file_extension": ".py",
   "mimetype": "text/x-python",
   "name": "python",
   "nbconvert_exporter": "python",
   "pygments_lexer": "ipython2",
   "version": "2.7.10"
  }
 },
 "nbformat": 4,
 "nbformat_minor": 0
}
