{
 "cells": [
  {
   "cell_type": "markdown",
   "metadata": {},
   "source": [
    "## imports"
   ]
  },
  {
   "cell_type": "code",
   "execution_count": 0,
   "metadata": {
    "collapsed": true
   },
   "outputs": [],
   "source": [
    "import sys"
   ]
  },
  {
   "cell_type": "code",
   "execution_count": 0,
   "metadata": {
    "collapsed": true
   },
   "outputs": [],
   "source": [
    "sys.path.append(\"../include_utils/\")"
   ]
  },
  {
   "cell_type": "code",
   "execution_count": 0,
   "metadata": {
    "collapsed": false
   },
   "outputs": [],
   "source": [
    "from IPython.parallel import Client\n",
    "import os, time\n",
    "#import include_utils as u\n",
    "import pandas as pd\n",
    "import numpy as np\n",
    "import scipy as sp\n",
    "import numbers\n",
    "import matplotlib.pyplot as plt\n",
    "import matplotlib.patches as mpatches\n",
    "import matplotlib.cm as cm\n",
    "import matplotlib.colors as mcolors\n",
    "import vcf\n",
    "from sklearn import preprocessing\n",
    "from subprocess import Popen, PIPE\n",
    "import seaborn as sns\n",
    "from IPython.display import FileLink\n",
    "import urllib2\n",
    "import dill\n",
    "import traceback\n",
    "from pandas import Series, DataFrame\n",
    "import gzip\n",
    "import warnings\n",
    "warnings.filterwarnings('ignore',category=pd.io.pytables.PerformanceWarning)\n",
    "%config InlineBackend.figure_format = 'retina'"
   ]
  },
  {
   "cell_type": "markdown",
   "metadata": {},
   "source": [
    "## ipython parallel"
   ]
  },
  {
   "cell_type": "code",
   "execution_count": 0,
   "metadata": {
    "collapsed": false
   },
   "outputs": [],
   "source": [
    "rc = Client(profile=\"xmn\")\n",
    "dview = rc[:]\n",
    "lview = rc.load_balanced_view()\n",
    "#len(dview)\n",
    "len(lview)"
   ]
  },
  {
   "cell_type": "code",
   "execution_count": 0,
   "metadata": {
    "collapsed": false
   },
   "outputs": [],
   "source": [
    "with dview.sync_imports():\n",
    "    import os\n",
    "    import sys\n",
    "    import socket\n",
    "    import stopwatch\n",
    "    from subprocess import Popen, PIPE\n",
    "    import tempfile\n",
    "    import shutil"
   ]
  },
  {
   "cell_type": "code",
   "execution_count": 0,
   "metadata": {
    "collapsed": false
   },
   "outputs": [],
   "source": [
    "@dview.remote(block=True)\n",
    "def get_cpu_count():\n",
    "    import multiprocessing as mp\n",
    "    import socket\n",
    "    return socket.gethostname(), mp.cpu_count()\n",
    "cpu_counts = get_cpu_count()\n",
    "from collections import defaultdict\n",
    "cpu_dict = defaultdict(list)\n",
    "for i, c in enumerate(cpu_counts):\n",
    "    if c[1] >= 16:\n",
    "        cpu_dict[c[0]].append(i)  \n",
    "print cpu_dict"
   ]
  },
  {
   "cell_type": "code",
   "execution_count": 0,
   "metadata": {
    "collapsed": false
   },
   "outputs": [],
   "source": [
    "cview = rc.load_balanced_view(targets=[v[0] for k, v in cpu_dict.items()])"
   ]
  },
  {
   "cell_type": "markdown",
   "metadata": {},
   "source": [
    "### find bam files"
   ]
  },
  {
   "cell_type": "code",
   "execution_count": 0,
   "metadata": {
    "collapsed": false
   },
   "outputs": [],
   "source": [
    "bam_dir = \"/gpfs_fs/home/eckertlab/wbp/bowtie2.1/bowtierun/\"\n",
    "bam_files = []\n",
    "for root, dirs, files in os.walk(bam_dir):\n",
    "    for f in files:\n",
    "        if f.endswith(\"sorted_rg.bam\"):\n",
    "            bam_files.append(os.path.join(root,f))\n",
    "bam_files = sorted(bam_files)\n",
    "len(bam_files)            "
   ]
  },
  {
   "cell_type": "code",
   "execution_count": 0,
   "metadata": {
    "collapsed": false
   },
   "outputs": [],
   "source": [
    "bam_files[0]"
   ]
  },
  {
   "cell_type": "code",
   "execution_count": 0,
   "metadata": {
    "collapsed": true
   },
   "outputs": [],
   "source": [
    "samtools = \"/home/lindb/g/src/samtools-1.2/samtools\"\n",
    "bcftools = \"/home/lindb/g/src/bcftools-1.2/bcftools\"\n",
    "picard = \"/home/lindb/g/src/picard-tools-1.130/picard.jar\"\n",
    "java = \"/usr/global/jre/bin/java\"\n",
    "perl = \"/home/lindb/g/src/ActivePerl-5.18.4.1804-x86_64-linux-glibc-2.5-298913/perl/bin/perl\"\n",
    "dup_dir = \"/gpfs_fs/home/eckertlab/wbp/bowtie2.1/bowtierun/dup_dir/\""
   ]
  },
  {
   "cell_type": "code",
   "execution_count": 0,
   "metadata": {
    "collapsed": true
   },
   "outputs": [],
   "source": [
    "def mark_duplicates(args):\n",
    "    java, picard, bam_file, dup_dir = args\n",
    "    out_bam = os.path.join(\"%s_dedup.bam\" % os.path.basename(bam_file[:-4]))\n",
    "    out_bam = os.path.join(dup_dir, out_bam)\n",
    "    t = tempfile.NamedTemporaryFile(delete=False)\n",
    "    cmd = \"%s -jar %s MarkDuplicates \\\n",
    "    INPUT=%s OUTPUT=%s METRICS_FILE=%s.metrics\" %     (java,\n",
    "                              picard,\n",
    "                              bam_file,\n",
    "                              t.name,\n",
    "                              out_bam)\n",
    "    print cmd\n",
    "    !$cmd\n",
    "    shutil.move(t.name, out_bam)\n",
    "    return cmd, out_bam\n",
    "dview['mark_duplicates'] = mark_duplicates"
   ]
  },
  {
   "cell_type": "code",
   "execution_count": 0,
   "metadata": {
    "collapsed": true
   },
   "outputs": [],
   "source": [
    "dup_dir = os.path.join(bam_dir, \"dup_dir\")\n",
    "if not os.path.exists(dup_dir):\n",
    "    os.makedirs(dup_dir)\n",
    "assert os.path.exists(dup_dir)"
   ]
  },
  {
   "cell_type": "code",
   "execution_count": 0,
   "metadata": {
    "collapsed": false
   },
   "outputs": [],
   "source": [
    "bam_files[0][:-4]"
   ]
  },
  {
   "cell_type": "code",
   "execution_count": 0,
   "metadata": {
    "collapsed": false
   },
   "outputs": [],
   "source": [
    "dup_jobs = []\n",
    "for b in bam_files:\n",
    "    dup_jobs.append(cview.apply_async(mark_duplicates, (java, picard, b, dup_dir)))"
   ]
  },
  {
   "cell_type": "code",
   "execution_count": 0,
   "metadata": {
    "collapsed": false
   },
   "outputs": [],
   "source": [
    "counts = 0\n",
    "uncounts = 0\n",
    "for d in dup_jobs:\n",
    "    if d.ready():\n",
    "        #print d.r\n",
    "        counts +=1\n",
    "    else:\n",
    "        #print d.stdout\n",
    "        uncounts += 1\n",
    "counts,uncounts,counts+uncounts"
   ]
  },
  {
   "cell_type": "code",
   "execution_count": 0,
   "metadata": {
    "collapsed": true
   },
   "outputs": [],
   "source": [
    "dedup_files = []\n",
    "for root,dirs,files in os.walk(dup_dir):\n",
    "    for f in files:\n",
    "        if f.endswith(\"bam\"):\n",
    "            dedup_files.append(os.path.join(root,f))\n",
    "dedup_files = sorted(dedup_files)\n",
    "len(dedup_files),dedup_files"
   ]
  },
  {
   "cell_type": "code",
   "execution_count": 0,
   "metadata": {
    "collapsed": true
   },
   "outputs": [],
   "source": [
    "for d in dedup_files:\n",
    "    d2 = d.replace(\"rg.bam\",\"rg\")\n",
    "    cmd = \"%s %s\" % (d,d2)\n",
    "    !mv $cmd\n",
    "    #print cmd"
   ]
  },
  {
   "cell_type": "code",
   "execution_count": 0,
   "metadata": {
    "collapsed": false
   },
   "outputs": [],
   "source": [
    "for b in dedup_files:\n",
    "    rg = !$samtools view -H {b} | grep '^@RG'\n",
    "    print \"\\t\".join(rg)\n",
    "    break"
   ]
  },
  {
   "cell_type": "code",
   "execution_count": 0,
   "metadata": {
    "collapsed": true
   },
   "outputs": [],
   "source": [
    "def create_dedup_file(args):\n",
    "    dedup_files, analysis_dir = args\n",
    "    dedup_file = os.path.join(analysis_dir, \"%s.txt\" % \"dedup_file\")\n",
    "    with open(dedup_file, \"w\") as o:\n",
    "        for d in dedup_files:\n",
    "            #009compiled_sorted_rg_dedup.bam -> 009compiled_sorted\n",
    "            name = \"_\".join(os.path.basename(d).split(\"_\")[0:2])\n",
    "            #name = os.path.join(\"/home/lindb/g/wbp/samtools/snps\",name)\n",
    "            o.write(\"%s\\t%d\\n\" % (name, 2))\n",
    "    return dedup_file\n",
    "dview['create_dedup_file'] = create_dedup_file"
   ]
  },
  {
   "cell_type": "code",
   "execution_count": 0,
   "metadata": {
    "collapsed": true
   },
   "outputs": [],
   "source": [
    "def call_snps(args):\n",
    "    print socket.gethostname()\n",
    "    timer = stopwatch.Timer()\n",
    "    samtools, velvet_ass, dedup_files, bcftools, raw_vcf, out_dir = args \n",
    "    if not out_dir:\n",
    "        out_dir = os.environ['TMPDIR']\n",
    "    raw_vcf = os.path.join(out_dir, raw_vcf)\n",
    "    dedup_file = create_dedup_file((dedup_files, out_dir))\n",
    "    pileup = \"%s mpileup -ugf %s %s | %s call -S %s -vmO z -o %s\" % (samtools, \n",
    "                                                                     velvet_ass, \n",
    "                                                                     ' '.join(dedup_files), \n",
    "                                                                     bcftools, \n",
    "                                                                     dedup_file,\n",
    "                                                                     raw_vcf) \n",
    "    \n",
    "    #print pileup\n",
    "    !$pileup\n",
    "    timer.stop()\n",
    "    return pileup, timer.elapsed\n",
    "dview['call_snps'] = call_snps"
   ]
  },
  {
   "cell_type": "code",
   "execution_count": 0,
   "metadata": {
    "collapsed": true
   },
   "outputs": [],
   "source": [
    "#velvet_ass = \"/home/lindb/g/vo/auto_data_41/contigs.fa\"\n",
    "#outdir = \"/home/lindb/g/wbp/samtools/snps/\"\n",
    "\n",
    "velvet_ass = \"/gpfs_fs/home/eckertlab/wbp/assembly/auto_data_45/contigs.fa\""
   ]
  },
  {
   "cell_type": "code",
   "execution_count": 0,
   "metadata": {
    "collapsed": false
   },
   "outputs": [],
   "source": [
    "args = [samtools, \n",
    "        velvet_ass, \n",
    "        dedup_files, \n",
    "        bcftools, \n",
    "        \"samtools_1.2.vcf.gz\", \n",
    "        dup_dir]"
   ]
  },
  {
   "cell_type": "code",
   "execution_count": 0,
   "metadata": {
    "collapsed": true
   },
   "outputs": [],
   "source": [
    "#samtools_job = cview.apply_async(call_snps, args)"
   ]
  },
  {
   "cell_type": "code",
   "execution_count": 0,
   "metadata": {
    "collapsed": false
   },
   "outputs": [],
   "source": [
    "for line in samtools_job.stdout.split(\"\\n\"):\n",
    "    print line"
   ]
  },
  {
   "cell_type": "code",
   "execution_count": 0,
   "metadata": {
    "collapsed": false
   },
   "outputs": [],
   "source": [
    "#samtools,velvet_ass,dedup_files[0],bcftools,\"samtools_1.2.vcf.gz\",outdir"
   ]
  },
  {
   "cell_type": "code",
   "execution_count": 0,
   "metadata": {
    "collapsed": false
   },
   "outputs": [],
   "source": [
    "#call_snps(args)"
   ]
  },
  {
   "cell_type": "code",
   "execution_count": 0,
   "metadata": {
    "collapsed": true
   },
   "outputs": [],
   "source": []
  }
 ],
 "metadata": {
  "kernelspec": {
   "display_name": "Python 2",
   "language": "python",
   "name": "python2"
  },
  "language_info": {
   "codemirror_mode": {
    "name": "ipython",
    "version": 2
   },
   "file_extension": ".py",
   "mimetype": "text/x-python",
   "name": "python",
   "nbconvert_exporter": "python",
   "pygments_lexer": "ipython2",
   "version": "2.7.11"
  }
 },
 "nbformat": 4,
 "nbformat_minor": 0
}
