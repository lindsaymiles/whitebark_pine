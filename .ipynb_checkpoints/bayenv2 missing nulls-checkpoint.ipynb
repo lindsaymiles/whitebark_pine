{
 "cells": [
  {
   "cell_type": "code",
   "execution_count": 0,
   "metadata": {
    "collapsed": true
   },
   "outputs": [],
   "source": [
    "import sys, os, time\n",
    "import pandas as pd\n",
    "import numpy as np\n",
    "import vcf\n",
    "import random\n",
    "from collections import OrderedDict\n",
    "from operator import itemgetter\n",
    "from collections import defaultdict\n",
    "from __future__ import division\n",
    "import math"
   ]
  },
  {
   "cell_type": "code",
   "execution_count": 0,
   "metadata": {
    "collapsed": false
   },
   "outputs": [],
   "source": [
    "1+1"
   ]
  },
  {
   "cell_type": "code",
   "execution_count": 0,
   "metadata": {
    "collapsed": false
   },
   "outputs": [],
   "source": [
    "missingData = pd.read_csv('/home/lindb/eckertlab/wbp/bayenv2/missingDataHEADERIDX.txt',header=0,index_col=0,sep=\"\\t\")\n",
    "missingData.head()"
   ]
  },
  {
   "cell_type": "code",
   "execution_count": 0,
   "metadata": {
    "collapsed": false
   },
   "outputs": [],
   "source": [
    "stpDF = pd.read_csv('/home/lindb/eckertlab/wbp/hierfstat/sampsTOpop.txt',header=0,sep=\"\\t\")\n",
    "stpDF.head()"
   ]
  },
  {
   "cell_type": "code",
   "execution_count": 0,
   "metadata": {
    "collapsed": false
   },
   "outputs": [],
   "source": [
    "stpnew = stpDF[stpDF['samp'].isin(missingData.index)]\n",
    "stpnew.head()"
   ]
  },
  {
   "cell_type": "code",
   "execution_count": 0,
   "metadata": {
    "collapsed": false
   },
   "outputs": [],
   "source": [
    "len(stpnew.index)"
   ]
  },
  {
   "cell_type": "code",
   "execution_count": 0,
   "metadata": {
    "collapsed": false
   },
   "outputs": [],
   "source": [
    "pops = np.unique(stpnew['pop']).tolist()\n",
    "pops"
   ]
  },
  {
   "cell_type": "code",
   "execution_count": 0,
   "metadata": {
    "collapsed": true
   },
   "outputs": [],
   "source": [
    "popDict = OrderedDict()\n",
    "for pop in pops:\n",
    "    popDict[pop] = 0"
   ]
  },
  {
   "cell_type": "code",
   "execution_count": 0,
   "metadata": {
    "collapsed": false
   },
   "outputs": [],
   "source": [
    "for row in stpnew.index:\n",
    "    POP = stpDF.loc[row,'pop']\n",
    "    popDict[POP] += 1\n",
    "for pop in popDict.keys():\n",
    "    print pop,popDict[pop]"
   ]
  },
  {
   "cell_type": "code",
   "execution_count": 0,
   "metadata": {
    "collapsed": false
   },
   "outputs": [],
   "source": [
    "sum = 0\n",
    "for pop in popDict.keys():\n",
    "    sum = sum + popDict[pop]\n",
    "sum"
   ]
  },
  {
   "cell_type": "code",
   "execution_count": 0,
   "metadata": {
    "collapsed": false
   },
   "outputs": [],
   "source": [
    "len(stpnew.index)"
   ]
  },
  {
   "cell_type": "code",
   "execution_count": 0,
   "metadata": {
    "collapsed": false
   },
   "outputs": [],
   "source": [
    "len(missingData.columns)"
   ]
  },
  {
   "cell_type": "code",
   "execution_count": 0,
   "metadata": {
    "collapsed": true
   },
   "outputs": [],
   "source": [
    "for i in range(100):\n",
    "    idx = range(len(missingData.index))\n",
    "    sampDict = OrderedDict()\n",
    "    print \"assigning random samps to pops\"\n",
    "    for pop in sorted(popDict.keys()): #randomly assign samples to pops\n",
    "        which = random.sample(idx,popDict[pop])\n",
    "        samps = itemgetter(*which)(missingData.index.tolist())\n",
    "        sampDict[pop] = missingData[missingData.index.isin(samps)]\n",
    "        idx = [x for x in idx if x not in which]\n",
    "\n",
    "    locCount = 0\n",
    "    nullDict = OrderedDict()\n",
    "    print \"iterating loci\"\n",
    "    for locus in missingData.columns:\n",
    "        nullDict[locus] = OrderedDict()\n",
    "\n",
    "        for pop in sorted(popDict.keys()):\n",
    "            data = sampDict[pop]\n",
    "            zero = str(data[locus]).count('0') #count the first homozygotes\n",
    "            one = str(data[locus]).count('1') #count the heterozygotes\n",
    "            two = str(data[locus]).count('2') #count the second homozygotes  \n",
    "            A1 = 2*zero + one\n",
    "            A2 = 2*two + one\n",
    "            if len(nullDict[locus].keys()) == 0:\n",
    "                nullDict[locus]['A1'] = OrderedDict()\n",
    "                nullDict[locus]['A2'] = OrderedDict()\n",
    "            nullDict[locus]['A1'][pop] = A1\n",
    "            nullDict[locus]['A2'][pop] = A2    \n",
    "        locCount += 1\n",
    "        if locCount % 1000 == 0:\n",
    "            print locCount\n",
    "    \n",
    "    print \"writing file, iteration %d\" % i\n",
    "    filE = '/home/lindb/eckertlab/wbp/bayenv2/nullruns/missing/UnbinnedmissingSNPSFILE%d_HEADERROW.txt' %i\n",
    "    with open(filE, 'w') as o:\n",
    "        line = '\\t'.join([str(pop) for pop in sorted(popDict.keys())]) + str('\\n')\n",
    "        o.write(\"%s\" % line)\n",
    "        for locus in nullDict.keys():\n",
    "            for allele in nullDict[locus].keys():\n",
    "                line = str(locus) + '\\t' + '\\t'.join([str(x) for x in nullDict[locus][allele].values()]) + str('\\n')\n",
    "                #print locus,allele,line\n",
    "                o.write(\"%s\" % line)\n",
    "    o.close()\n",
    "    FILE = '/home/lindb/eckertlab/wbp/bayenv2/nullruns/missing/mis_run%d.py' % i\n",
    "    with open(FILE,'w') as o:\n",
    "        o.write(text)\n",
    "    o.close"
   ]
  },
  {
   "cell_type": "code",
   "execution_count": 0,
   "metadata": {
    "collapsed": false
   },
   "outputs": [],
   "source": [
    "for i in range(100): #make 100 runfiles to make SNPSFILES\n",
    "    text = '''print \"starting\"\n",
    "import sys\n",
    "import os, time\n",
    "import pandas as pd\n",
    "import numpy as np\n",
    "import scipy as sp\n",
    "import random\n",
    "from collections import OrderedDict\n",
    "from operator import itemgetter\n",
    "import random\n",
    "\n",
    "missingData = pd.read_csv('/home/lindb/eckertlab/wbp/bayenv2/missingDataHEADERIDX.txt',header=0,index_col=0,sep=\"\\\\t\")\n",
    "\n",
    "stpDF = pd.read_csv('/home/lindb/eckertlab/wbp/hierfstat/sampsTOpop.txt',header=0,sep=\"\\\\t\")\n",
    "\n",
    "stpnew = stpDF[stpDF['samp'].isin(missingData.index)]\n",
    "\n",
    "pops = np.unique(stpnew['pop']).tolist()\n",
    "\n",
    "popDict = OrderedDict()\n",
    "for pop in pops:\n",
    "    popDict[pop] = 0\n",
    "\n",
    "for row in stpnew.index:\n",
    "    POP = stpDF.loc[row,'pop']\n",
    "    popDict[POP] += 1\n",
    "\n",
    "\n",
    "\n",
    "idx = range(len(missingData.index))\n",
    "sampDict = OrderedDict()\n",
    "print \"assigning random samps to pops\"\n",
    "for pop in sorted(popDict.keys()): #randomly assign samples to pops\n",
    "    which = random.sample(idx,popDict[pop])\n",
    "    samps = itemgetter(*which)(missingData.index.tolist())\n",
    "    sampDict[pop] = missingData[missingData.index.isin(samps)]\n",
    "    idx = [x for x in idx if x not in which]\n",
    "\n",
    "locCount = 0\n",
    "nullDict = OrderedDict()\n",
    "print \"iterating loci\"\n",
    "for locus in missingData.columns:\n",
    "    nullDict[locus] = OrderedDict()\n",
    "\n",
    "    for pop in sorted(popDict.keys()):\n",
    "        data = sampDict[pop]\n",
    "        zero = str(data[locus]).count('0') #count the first homozygotes\n",
    "        one = str(data[locus]).count('1') #count the heterozygotes\n",
    "        two = str(data[locus]).count('2') #count the second homozygotes  \n",
    "        A1 = 2*zero + one\n",
    "        A2 = 2*two + one\n",
    "        if len(nullDict[locus].keys()) == 0:\n",
    "            nullDict[locus]['A1'] = OrderedDict()\n",
    "            nullDict[locus]['A2'] = OrderedDict()\n",
    "        nullDict[locus]['A1'][pop] = A1\n",
    "        nullDict[locus]['A2'][pop] = A2    \n",
    "    locCount += 1\n",
    "    if locCount %% 1000 == 0:\n",
    "        print locCount\n",
    "print \"writing file, iteration %d\"\n",
    "filE = '/home/lindb/eckertlab/wbp/bayenv2/nullruns/missing/UnbinnedmissingSNPSFILE%d_HEADERROW.txt' \n",
    "with open(filE, 'w') as o:\n",
    "    line = '\\\\t'.join([str(pop) for pop in sorted(popDict.keys())]) + str('\\\\n')\n",
    "    o.write(\"%%s\" %% line)\n",
    "    for locus in nullDict.keys():\n",
    "        for allele in nullDict[locus].keys():\n",
    "            line = str(locus) + '\\\\t' + '\\\\t'.join([str(x) for x in nullDict[locus][allele].values()]) + str('\\\\n')\n",
    "            #print locus,allele,line\n",
    "            o.write(\"%%s\" %% line)\n",
    "o.close()\n",
    "''' % (i,i)\n",
    "    FILE = '/home/lindb/eckertlab/wbp/bayenv2/nullruns/missing/mis_run%d.py' % i\n",
    "    with open(FILE,'w') as o:\n",
    "        o.write(text)\n",
    "    o.close"
   ]
  },
  {
   "cell_type": "code",
   "execution_count": 0,
   "metadata": {
    "collapsed": false,
    "scrolled": true
   },
   "outputs": [],
   "source": [
    "for root,dirs,files in os.walk('/home/lindb/eckertlab/wbp/bayenv2/nullruns/missing/'):\n",
    "    for f in files:\n",
    "        runname = os.path.join(root,f).split(\".\")[0].split(\"/\")[-1]\n",
    "        text = '''#!/bin/bash\n",
    "#$ -N %s\n",
    "#$ -V\n",
    "#$ -j y\n",
    "#$ -cwd\n",
    "python %s\n",
    "''' % (runname,os.path.join(root,f))\n",
    "        filE = os.path.join(root,runname + '.sh')\n",
    "        print filE\n",
    "        with open(filE,'w') as o:\n",
    "            o.write('%s' % text)\n",
    "        o.close()"
   ]
  },
  {
   "cell_type": "code",
   "execution_count": 0,
   "metadata": {
    "collapsed": false,
    "scrolled": true
   },
   "outputs": [],
   "source": [
    "for root,dirs,files in os.walk('/home/lindb/eckertlab/wbp/bayenv2/nullruns/missing/'):\n",
    "    for f in files:\n",
    "        #print os.path.join(root,f)\n",
    "        runname = os.path.join(root,f).split(\".\")[0].split(\"/\")[-1]\n",
    "        text = '''#!/bin/bash\n",
    "#$ -N %s\n",
    "#$ -V\n",
    "#$ -j y\n",
    "#$ -cwd\n",
    "python %s\n",
    "''' % (runname,os.path.join(root,f))\n",
    "        filE = os.path.join(root,runname + '.sh')\n",
    "        print filE\n",
    "        with open(filE,'w') as o:\n",
    "            o.write(text)\n",
    "        o.close\n",
    "        #break"
   ]
  },
  {
   "cell_type": "raw",
   "metadata": {
    "collapsed": true
   },
   "source": [
    "# in terminal, go to /nullruns/missing/ and type:\n",
    "find -type f -name 'mis*sh' | parallel 'qsub {}'"
   ]
  },
  {
   "cell_type": "markdown",
   "metadata": {},
   "source": [
    "#next part"
   ]
  },
  {
   "cell_type": "code",
   "execution_count": 0,
   "metadata": {
    "collapsed": true
   },
   "outputs": [],
   "source": [
    "#1) Get list of SNPSFILEs and create a directory using that name\n",
    "#2) get SNPSFILE with header/idx, save as SNPSFILE without headerIDX in new directory\n",
    "#3) copy ./bayenv2, ENVIRONFILE to each new folder\n",
    "#4) create qsub files to create MATRIXFILE\n",
    "#5) split the SNPSFILE\n",
    "#6) run bayenv2"
   ]
  },
  {
   "cell_type": "code",
   "execution_count": 0,
   "metadata": {
    "collapsed": true
   },
   "outputs": [],
   "source": [
    "file_dir = '/home/lindb/eckertlab/wbp/bayenv2/nullruns/missing/'"
   ]
  },
  {
   "cell_type": "code",
   "execution_count": 0,
   "metadata": {
    "collapsed": true
   },
   "outputs": [],
   "source": [
    "import shutil"
   ]
  },
  {
   "cell_type": "code",
   "execution_count": 0,
   "metadata": {
    "collapsed": false,
    "scrolled": true
   },
   "outputs": [],
   "source": [
    "os.chdir(file_dir)\n",
    "for root,dirs,files in os.walk(file_dir):\n",
    "    for f in files:\n",
    "        if f.endswith('txt'):\n",
    "            print f[23:].split(\"_\")[0]\n",
    "            DIR = f[23:].split(\"_\")[0]\n",
    "            if not os.path.exists(os.path.join(root,'dir'+DIR)):\n",
    "                os.makedirs(os.path.join(root,'dir'+DIR))\n",
    "                shutil.copy(os.path.join(root,f),os.path.join(root,'dir'+DIR))\n",
    "    #break"
   ]
  },
  {
   "cell_type": "code",
   "execution_count": 0,
   "metadata": {
    "collapsed": true
   },
   "outputs": [],
   "source": [
    "for root,dirs,files in os.walk(file_dir):\n",
    "    for d in dirs:\n",
    "        for ROOT,DIRS,FILES in os.walk(os.path.join(root,d)):\n",
    "            count = 0\n",
    "            for F in FILES:\n",
    "                filE = os.path.join(ROOT,F)\n",
    "                print filE\n",
    "                DF = pd.read_csv(filE,header=0,index_col=0,sep=\"\\t\")\n",
    "                split = F.split(\"_\")[0]+'_noHEADERIDX.txt'\n",
    "                filE2 = os.path.join(ROOT,split)\n",
    "                print filE2\n",
    "                DF.to_csv(filE2,header=False,index=False,sep=\"\\t\")\n",
    "            break #keep this"
   ]
  },
  {
   "cell_type": "code",
   "execution_count": 0,
   "metadata": {
    "collapsed": true
   },
   "outputs": [],
   "source": [
    "#3 copy .bayenv2 and ENVIRONFILE to each folder"
   ]
  },
  {
   "cell_type": "code",
   "execution_count": 0,
   "metadata": {
    "collapsed": true
   },
   "outputs": [],
   "source": [
    "EF = '/home/lindb/eckertlab/wbp/bayenv2/ENVIRONFILE.txt'\n",
    "bayenv = '/home/lindb/eckertlab/wbp/bayenv2/bayenv2'"
   ]
  },
  {
   "cell_type": "code",
   "execution_count": 0,
   "metadata": {
    "collapsed": false,
    "scrolled": true
   },
   "outputs": [],
   "source": [
    "for root,dirs,files in os.walk(file_dir):\n",
    "    for d in dirs:\n",
    "        print os.path.join(root,d)\n",
    "        shutil.copy(bayenv,os.path.join(root,d))\n",
    "        shutil.copy(EF,os.path.join(root,d))"
   ]
  },
  {
   "cell_type": "code",
   "execution_count": 0,
   "metadata": {
    "collapsed": false
   },
   "outputs": [],
   "source": [
    "for root,dirs,files in os.walk(file_dir):\n",
    "    for d in sorted(dirs):\n",
    "        if 'SNP' not in d:\n",
    "            src = '/home/lindb/eckertlab/wbp/bayenv2/nullruns/delete/%s/matrix_%s.out' % (d,d)\n",
    "            dst = '/home/lindb/eckertlab/wbp/bayenv2/nullruns/missing/%s/matrix_%s.out' % (d,d)\n",
    "            shutil.copy(src,dst)        "
   ]
  },
  {
   "cell_type": "code",
   "execution_count": 0,
   "metadata": {
    "collapsed": false
   },
   "outputs": [],
   "source": [
    "file_dir"
   ]
  },
  {
   "cell_type": "code",
   "execution_count": 0,
   "metadata": {
    "collapsed": false,
    "scrolled": true
   },
   "outputs": [],
   "source": [
    "for root,dirs,files in os.walk(file_dir):\n",
    "    for d in dirs:\n",
    "        print d\n",
    "        text = '''\n",
    "#!/bin/bash\n",
    "#$ -N %s \n",
    "#$ -V\n",
    "#$ -j y\n",
    "#$ -cwd\n",
    "\n",
    "cd %s\n",
    "./bayenv2 -i UnbinnedmissingSNPSFILE%s_noHEADERIDX.txt -p 8 -k 100000 -r %s > matrix_%s.out\n",
    "''' % (str(d),\n",
    "       os.path.join(root,d)+'/',\n",
    "       str(d)[3:],\n",
    "       str(random.sample(range(100000),1)[0]),\n",
    "       str(d))\n",
    "        filE = os.path.join(root,str(d)+'/'+'matrix_'+str(d)+'.sh')\n",
    "        print filE\n",
    "        #os.remove(filE)\n",
    "        with open(filE,'w') as o:\n",
    "            o.write(text)\n",
    "        o.close\n",
    "        #break"
   ]
  },
  {
   "cell_type": "raw",
   "metadata": {
    "collapsed": true
   },
   "source": [
    "#in the terminal\n",
    "cd /home/lindb/eckertlab/wbp/bayenv2/nullruns/missing/\n",
    "find -type f -name 'matrix*sh' | parallel 'qsub {}'"
   ]
  },
  {
   "cell_type": "code",
   "execution_count": 0,
   "metadata": {
    "collapsed": true
   },
   "outputs": [],
   "source": []
  },
  {
   "cell_type": "markdown",
   "metadata": {
    "collapsed": true
   },
   "source": [
    "#run bayenv"
   ]
  },
  {
   "cell_type": "code",
   "execution_count": 0,
   "metadata": {
    "collapsed": false
   },
   "outputs": [],
   "source": [
    "file_dir"
   ]
  },
  {
   "cell_type": "code",
   "execution_count": 0,
   "metadata": {
    "collapsed": false,
    "scrolled": true
   },
   "outputs": [],
   "source": [
    "#make the /SNPS folder & copy all files into it\n",
    "for root,dirs,files in os.walk(file_dir):\n",
    "    for d in sorted(dirs):\n",
    "        if 'SNPs' not in d:\n",
    "            print d\n",
    "            new = os.path.join(root,d)+'/SNPs'\n",
    "            Files = os.listdir(os.path.join(root,d))\n",
    "            if not os.path.exists(new):\n",
    "                os.makedirs(new)\n",
    "            for f in Files:\n",
    "                if f != 'SNPs':\n",
    "                    src = os.path.join(root,d+'/%s' %f)\n",
    "                    dst = new+'/%s' % f\n",
    "                    #print src,'\\n',dst\n",
    "                    shutil.copy(src,dst)"
   ]
  },
  {
   "cell_type": "code",
   "execution_count": 0,
   "metadata": {
    "collapsed": false
   },
   "outputs": [],
   "source": [
    "file_dir"
   ]
  },
  {
   "cell_type": "code",
   "execution_count": 0,
   "metadata": {
    "collapsed": true
   },
   "outputs": [],
   "source": [
    "#make all of the individual SNPFILEs\n",
    "for root,dirs,files in os.walk(file_dir):\n",
    "    for d in sorted(dirs):\n",
    "        if 'SNPs' not in d:\n",
    "            num = d[3:]\n",
    "            text = '''\n",
    "#!/bin/bash\n",
    "#$ -N %s \n",
    "#$ -V\n",
    "#$ -j y\n",
    "#$ -cwd\n",
    "\n",
    "cd %s\n",
    "split -d -a 10 -l 2 UnbinnedmissingSNPSFILE%s_noHEADERIDX.txt ./SNPs/snp_batch\n",
    "''' % ('mis'+str(num),\n",
    "       os.path.join(root,d),\n",
    "       str(d)[3:])\n",
    "            filE = os.path.join(root,d) + '/copySNPs%s.sh' % str(num)\n",
    "            with open(filE,'w') as o:\n",
    "                o.write(text)\n",
    "            o.close()"
   ]
  },
  {
   "cell_type": "code",
   "execution_count": 0,
   "metadata": {
    "collapsed": true
   },
   "outputs": [],
   "source": []
  },
  {
   "cell_type": "code",
   "execution_count": 0,
   "metadata": {
    "collapsed": false
   },
   "outputs": [],
   "source": [
    "#make usable matrices\n",
    "for i in range(100):\n",
    "    DIR = '/home/lindb/eckertlab/wbp/bayenv2/nullruns/missing/dir%s/SNPs' % str(i)\n",
    "    if os.path.exists(DIR):\n",
    "        files = os.listdir(DIR)\n",
    "        for f in files:\n",
    "            if (f.startswith('matrix')) and (f.endswith('out')):\n",
    "                #print os.path.join(DIR,f)\n",
    "                F = open(os.path.join(DIR,f),'r')\n",
    "                g = F.readlines()\n",
    "                new = f[:-4] + '.txt'\n",
    "                filE = DIR + '/usable_%s' % new\n",
    "                print filE\n",
    "                with open(filE,'w') as o:\n",
    "                    for line in g[2005:][:-1]:\n",
    "                        o.write(line)\n",
    "                o.close()\n",
    "                break\n",
    "        #break    "
   ]
  },
  {
   "cell_type": "code",
   "execution_count": 0,
   "metadata": {
    "collapsed": false
   },
   "outputs": [],
   "source": [
    "file_dir = '/home/lindb/eckertlab/wbp/bayenv2/nullruns/missing/'\n",
    "file_dir"
   ]
  },
  {
   "cell_type": "code",
   "execution_count": 0,
   "metadata": {
    "collapsed": false,
    "scrolled": true
   },
   "outputs": [],
   "source": [
    "#make bayenv2 qsub files\n",
    "for i in range(100):\n",
    "    DIR = '/home/lindb/eckertlab/wbp/bayenv2/nullruns/missing/dir%s/SNPs' % str(i)\n",
    "    print \"DIR =\",DIR\n",
    "    text = '''\n",
    "#!/bin/bash\n",
    "#$ -N %s \n",
    "#$ -V\n",
    "#$ -j y\n",
    "#$ -cwd\n",
    "\n",
    "cd %s\n",
    "find -type f -name 'snp_batch*' | time parallel -j +0 --progress './bayenv2 -i {} -e ENVIRONFILE.txt -m usable_matrix_dir%s.txt -k 100000 -r %s -p 8 -n 16 -t -f -c -X'\n",
    "''' % ('mis'+str(i), #-N %s\n",
    "       DIR,          #cd %s\n",
    "       str(i),       #...dir%s\n",
    "       str(random.sample(range(100000),1)[0])) #-r %s\n",
    "    filE = DIR + '/RUNFILEnull_%s.sh' % str(i) \n",
    "    print filE\n",
    "    with open(filE,'w') as o:\n",
    "        o.write(text)\n",
    "    o.close()\n",
    "    #break"
   ]
  },
  {
   "cell_type": "code",
   "execution_count": 0,
   "metadata": {
    "collapsed": false
   },
   "outputs": [],
   "source": [
    "print text"
   ]
  },
  {
   "cell_type": "code",
   "execution_count": 0,
   "metadata": {
    "collapsed": false
   },
   "outputs": [],
   "source": [
    "filE"
   ]
  },
  {
   "cell_type": "raw",
   "metadata": {
    "collapsed": true
   },
   "source": [
    "# cd /home/lindb/eckertlab/wbp/bayenv2/nullruns/missing/\n",
    "# find -type f -name 'RUN*' | parallel 'qsub {}'"
   ]
  },
  {
   "cell_type": "code",
   "execution_count": 0,
   "metadata": {
    "collapsed": true
   },
   "outputs": [],
   "source": []
  },
  {
   "cell_type": "code",
   "execution_count": 0,
   "metadata": {
    "collapsed": true
   },
   "outputs": [],
   "source": [
    "for i in range(100):\n",
    "    DIR = '/home/lindb/eckertlab/wbp/bayenv2/nullruns/imputed/dir%s/' % i \n",
    "    if os.path.exists(DIR):\n",
    "        files = os.listdir(DIR)\n",
    "        for f in files:\n",
    "            #print f\n",
    "            if f.startswith(\"Unbinned\"):\n",
    "                df = pd.read_csv(str(DIR + f))\n",
    "                if len(df.index) != 319604:\n",
    "                    print str(DIR + f)\n",
    "                else:\n",
    "                    print len(df.index)"
   ]
  },
  {
   "cell_type": "code",
   "execution_count": 0,
   "metadata": {
    "collapsed": false,
    "scrolled": true
   },
   "outputs": [],
   "source": [
    "lst = []\n",
    "for i in range(100):\n",
    "    DIR = '/home/lindb/eckertlab/wbp/bayenv2/nullruns/missing/dir%s/SNPs' % i \n",
    "    if os.path.exists(DIR):\n",
    "        files = os.listdir(DIR)\n",
    "        if len([x for x in files if x.startswith('snp')]) != 159803:\n",
    "            print DIR, len([x for x in files if x.startswith('snp')])\n",
    "            lst.append(DIR)\n",
    "        else:\n",
    "            print len([x for x in files if x.startswith('snp')])"
   ]
  },
  {
   "cell_type": "code",
   "execution_count": 0,
   "metadata": {
    "collapsed": true
   },
   "outputs": [],
   "source": []
  },
  {
   "cell_type": "code",
   "execution_count": 0,
   "metadata": {
    "collapsed": true
   },
   "outputs": [],
   "source": []
  },
  {
   "cell_type": "code",
   "execution_count": 0,
   "metadata": {
    "collapsed": true
   },
   "outputs": [],
   "source": [
    "sh_dir = '/home/lindb/eckertlab/wbp/bayenv2/nullruns/old_missing/'"
   ]
  },
  {
   "cell_type": "code",
   "execution_count": 0,
   "metadata": {
    "collapsed": false
   },
   "outputs": [],
   "source": [
    "for i in range(100):\n",
    "    DIR = os.path.join(sh_dir,'dir%s' % str(i))\n",
    "    if os.path.exists(DIR):\n",
    "        text = '''#!/bin/bash\n",
    "#$ -N %s\n",
    "#$ -V\n",
    "#$ -j y\n",
    "#$ -cwd\n",
    "\n",
    "cd %s\n",
    "find -type f -name 'snp*' | parallel 'rm {}'\n",
    "''' % ('del%s'%i,\n",
    "      os.path.join(DIR,'SNPs2'))\n",
    "        filename = 'delete%s.sh' % i\n",
    "        filE = os.path.join(sh_dir,filename)\n",
    "        with open(filE,'w') as o:\n",
    "            o.write(text)\n",
    "        o.close"
   ]
  },
  {
   "cell_type": "code",
   "execution_count": 0,
   "metadata": {
    "collapsed": true
   },
   "outputs": [],
   "source": []
  },
  {
   "cell_type": "code",
   "execution_count": 0,
   "metadata": {
    "collapsed": true
   },
   "outputs": [],
   "source": []
  },
  {
   "cell_type": "code",
   "execution_count": 0,
   "metadata": {
    "collapsed": true
   },
   "outputs": [],
   "source": []
  },
  {
   "cell_type": "code",
   "execution_count": 0,
   "metadata": {
    "collapsed": true
   },
   "outputs": [],
   "source": []
  },
  {
   "cell_type": "code",
   "execution_count": 0,
   "metadata": {
    "collapsed": true
   },
   "outputs": [],
   "source": []
  },
  {
   "cell_type": "code",
   "execution_count": 0,
   "metadata": {
    "collapsed": true
   },
   "outputs": [],
   "source": []
  },
  {
   "cell_type": "code",
   "execution_count": 0,
   "metadata": {
    "collapsed": true
   },
   "outputs": [],
   "source": []
  },
  {
   "cell_type": "code",
   "execution_count": 0,
   "metadata": {
    "collapsed": true
   },
   "outputs": [],
   "source": []
  },
  {
   "cell_type": "code",
   "execution_count": 0,
   "metadata": {
    "collapsed": true
   },
   "outputs": [],
   "source": []
  },
  {
   "cell_type": "code",
   "execution_count": 0,
   "metadata": {
    "collapsed": true
   },
   "outputs": [],
   "source": []
  },
  {
   "cell_type": "code",
   "execution_count": 0,
   "metadata": {
    "collapsed": true
   },
   "outputs": [],
   "source": []
  },
  {
   "cell_type": "code",
   "execution_count": 0,
   "metadata": {
    "collapsed": true
   },
   "outputs": [],
   "source": []
  },
  {
   "cell_type": "code",
   "execution_count": 0,
   "metadata": {
    "collapsed": true
   },
   "outputs": [],
   "source": []
  },
  {
   "cell_type": "code",
   "execution_count": 0,
   "metadata": {
    "collapsed": true
   },
   "outputs": [],
   "source": []
  },
  {
   "cell_type": "code",
   "execution_count": 0,
   "metadata": {
    "collapsed": true
   },
   "outputs": [],
   "source": []
  },
  {
   "cell_type": "code",
   "execution_count": 0,
   "metadata": {
    "collapsed": true
   },
   "outputs": [],
   "source": []
  },
  {
   "cell_type": "code",
   "execution_count": 0,
   "metadata": {
    "collapsed": true
   },
   "outputs": [],
   "source": []
  },
  {
   "cell_type": "code",
   "execution_count": 0,
   "metadata": {
    "collapsed": true
   },
   "outputs": [],
   "source": []
  },
  {
   "cell_type": "code",
   "execution_count": 0,
   "metadata": {
    "collapsed": true
   },
   "outputs": [],
   "source": []
  },
  {
   "cell_type": "code",
   "execution_count": 0,
   "metadata": {
    "collapsed": true
   },
   "outputs": [],
   "source": []
  },
  {
   "cell_type": "code",
   "execution_count": 0,
   "metadata": {
    "collapsed": true
   },
   "outputs": [],
   "source": []
  },
  {
   "cell_type": "code",
   "execution_count": 0,
   "metadata": {
    "collapsed": true
   },
   "outputs": [],
   "source": []
  },
  {
   "cell_type": "code",
   "execution_count": 0,
   "metadata": {
    "collapsed": true
   },
   "outputs": [],
   "source": []
  },
  {
   "cell_type": "code",
   "execution_count": 0,
   "metadata": {
    "collapsed": true
   },
   "outputs": [],
   "source": []
  },
  {
   "cell_type": "code",
   "execution_count": 0,
   "metadata": {
    "collapsed": true
   },
   "outputs": [],
   "source": []
  },
  {
   "cell_type": "code",
   "execution_count": 0,
   "metadata": {
    "collapsed": true
   },
   "outputs": [],
   "source": []
  },
  {
   "cell_type": "code",
   "execution_count": 0,
   "metadata": {
    "collapsed": true
   },
   "outputs": [],
   "source": []
  },
  {
   "cell_type": "code",
   "execution_count": 0,
   "metadata": {
    "collapsed": true
   },
   "outputs": [],
   "source": []
  },
  {
   "cell_type": "code",
   "execution_count": 0,
   "metadata": {
    "collapsed": true
   },
   "outputs": [],
   "source": []
  },
  {
   "cell_type": "code",
   "execution_count": 0,
   "metadata": {
    "collapsed": true
   },
   "outputs": [],
   "source": []
  },
  {
   "cell_type": "code",
   "execution_count": 0,
   "metadata": {
    "collapsed": true
   },
   "outputs": [],
   "source": []
  },
  {
   "cell_type": "code",
   "execution_count": 0,
   "metadata": {
    "collapsed": true
   },
   "outputs": [],
   "source": []
  },
  {
   "cell_type": "code",
   "execution_count": 0,
   "metadata": {
    "collapsed": true
   },
   "outputs": [],
   "source": []
  },
  {
   "cell_type": "code",
   "execution_count": 0,
   "metadata": {
    "collapsed": true
   },
   "outputs": [],
   "source": []
  },
  {
   "cell_type": "code",
   "execution_count": 0,
   "metadata": {
    "collapsed": true
   },
   "outputs": [],
   "source": []
  },
  {
   "cell_type": "code",
   "execution_count": 0,
   "metadata": {
    "collapsed": true
   },
   "outputs": [],
   "source": []
  },
  {
   "cell_type": "code",
   "execution_count": 0,
   "metadata": {
    "collapsed": true
   },
   "outputs": [],
   "source": []
  },
  {
   "cell_type": "code",
   "execution_count": 0,
   "metadata": {
    "collapsed": true
   },
   "outputs": [],
   "source": []
  },
  {
   "cell_type": "code",
   "execution_count": 0,
   "metadata": {
    "collapsed": true
   },
   "outputs": [],
   "source": []
  },
  {
   "cell_type": "code",
   "execution_count": 0,
   "metadata": {
    "collapsed": true
   },
   "outputs": [],
   "source": []
  }
 ],
 "metadata": {
  "kernelspec": {
   "display_name": "Python 2",
   "language": "python",
   "name": "python2"
  },
  "language_info": {
   "codemirror_mode": {
    "name": "ipython",
    "version": 2
   },
   "file_extension": ".py",
   "mimetype": "text/x-python",
   "name": "python",
   "nbconvert_exporter": "python",
   "pygments_lexer": "ipython2",
   "version": "2.7.10"
  }
 },
 "nbformat": 4,
 "nbformat_minor": 0
}
