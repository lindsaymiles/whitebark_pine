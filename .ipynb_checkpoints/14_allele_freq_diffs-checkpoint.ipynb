{
 "cells": [
  {
   "cell_type": "code",
   "execution_count": 0,
   "metadata": {
    "collapsed": true
   },
   "outputs": [],
   "source": [
    "import os\n",
    "from collections import OrderedDict,Counter,defaultdict\n",
    "import collections\n",
    "from __future__ import division\n",
    "import pandas as pd\n",
    "import numpy as np\n",
    "import vcf\n",
    "from operator import itemgetter\n",
    "import random\n",
    "import math\n",
    "from os import path as op\n",
    "from os import listdir as ls\n",
    "from IPython.display import display"
   ]
  },
  {
   "cell_type": "code",
   "execution_count": 0,
   "metadata": {
    "collapsed": true
   },
   "outputs": [],
   "source": [
    "import skbio"
   ]
  },
  {
   "cell_type": "code",
   "execution_count": 0,
   "metadata": {
    "collapsed": true
   },
   "outputs": [],
   "source": [
    "from skbio.stats.distance import mantel\n"
   ]
  },
  {
   "cell_type": "code",
   "execution_count": 0,
   "metadata": {
    "collapsed": false
   },
   "outputs": [],
   "source": [
    "print skbio.__version__"
   ]
  },
  {
   "cell_type": "markdown",
   "metadata": {},
   "source": [
    "# do for 8 pops"
   ]
  },
  {
   "cell_type": "code",
   "execution_count": 0,
   "metadata": {
    "collapsed": true
   },
   "outputs": [],
   "source": [
    "os.makedirs(\"/home/lindb/wbp/overall_freqshifts/8pops\")"
   ]
  },
  {
   "cell_type": "code",
   "execution_count": 0,
   "metadata": {
    "collapsed": false
   },
   "outputs": [],
   "source": [
    "impMAF = pd.read_csv(\"/home/lindb/wbp/OutFLANK/imputed_MAF.txt\",header=0,index_col=0,sep='\\t')\n",
    "impMAF.head()"
   ]
  },
  {
   "cell_type": "code",
   "execution_count": 0,
   "metadata": {
    "collapsed": false
   },
   "outputs": [],
   "source": [
    "locDict8['NODE_1000013_length_91_cov_1.802198_37']"
   ]
  },
  {
   "cell_type": "code",
   "execution_count": 0,
   "metadata": {
    "collapsed": false
   },
   "outputs": [],
   "source": [
    "loccount =0\n",
    "meds = []\n",
    "DIR = \"/home/lindb/wbp/overall_freqshifts/8pops\"\n",
    "for locus in impMAF.index:\n",
    "    df = pd.DataFrame(index=impMAF.columns,columns=impMAF.columns)\n",
    "    vals = []\n",
    "    for i,popi in enumerate(impMAF.columns):\n",
    "        freqi = impMAF.loc[locus,popi]\n",
    "        for j,popj in enumerate(impMAF.columns):\n",
    "            if i ==j:\n",
    "                df.loc[popi,popj] = 0\n",
    "            if i < j:\n",
    "                freqj = impMAF.loc[locus,popj]\n",
    "                diff = abs(freqi-freqj)\n",
    "                df.loc[popi,popj] = diff\n",
    "                df.loc[popj,popi] = df.loc[popi,popj]\n",
    "                vals.append(diff)\n",
    "    assert len(vals) == 28\n",
    "    med = np.median(vals)\n",
    "    meds.append(med)\n",
    "    \n",
    "    filE = op.join(DIR,'%s.txt' % locus)\n",
    "    df.to_csv(filE,header=True,index=True,sep='\\t')\n",
    "    \n",
    "    loccount +=1 \n",
    "    if loccount % 10000 == 0:\n",
    "        print loccount"
   ]
  },
  {
   "cell_type": "code",
   "execution_count": 0,
   "metadata": {
    "collapsed": true
   },
   "outputs": [],
   "source": [
    "DIR = \"/home/lindb/wbp/overall_freqshifts/8pops\"\n",
    "filE = op.join(DIR,'medianvals.txt')\n",
    "df = pd.DataFrame(meds)\n",
    "df.to_csv(filE,header=False,index=False,sep='\\t')"
   ]
  },
  {
   "cell_type": "code",
   "execution_count": 0,
   "metadata": {
    "collapsed": false
   },
   "outputs": [],
   "source": [
    "len(df.index)"
   ]
  },
  {
   "cell_type": "code",
   "execution_count": 0,
   "metadata": {
    "collapsed": false
   },
   "outputs": [],
   "source": [
    "filE = \"/home/lindb/wbp/overall_freqshifts/8pops/medianvals.txt\"\n",
    "df = pd.read_csv(filE,header=None,sep='\\t')\n",
    "p8medvals = df[0].tolist()\n",
    "len(p8medvals)"
   ]
  },
  {
   "cell_type": "code",
   "execution_count": 0,
   "metadata": {
    "collapsed": true
   },
   "outputs": [],
   "source": [
    "import matplotlib.pyplot as plt\n",
    "import matplotlib.gridspec as gridspec\n",
    "from matplotlib.backends.backend_pdf import PdfPages\n",
    "import matplotlib.ticker as mtick\n",
    "%matplotlib inline"
   ]
  },
  {
   "cell_type": "code",
   "execution_count": 0,
   "metadata": {
    "collapsed": false
   },
   "outputs": [],
   "source": [
    "max(p8medvals)"
   ]
  },
  {
   "cell_type": "code",
   "execution_count": 0,
   "metadata": {
    "collapsed": false
   },
   "outputs": [],
   "source": [
    "plt.hist(p8medvals,bins = [x for x in np.arange(0,.25,0.005)])[2]"
   ]
  },
  {
   "cell_type": "code",
   "execution_count": 0,
   "metadata": {
    "collapsed": false
   },
   "outputs": [],
   "source": [
    "locDict8 = OrderedDict()\n",
    "DIR = '/home/lindb/wbp/overall_freqshifts/8pops/'\n",
    "files = [op.join(DIR,f) for f in ls(DIR) if ('NODE' in f) and ('swp' not in f)]\n",
    "op.basename(files[0]).split(\".txt\")[0]"
   ]
  },
  {
   "cell_type": "code",
   "execution_count": 0,
   "metadata": {
    "collapsed": false
   },
   "outputs": [],
   "source": [
    "loccount =0\n",
    "for f in sorted(files):\n",
    "    locus = op.basename(f).split(\".txt\")[0]\n",
    "    df = pd.read_csv(f,header=0,index_col=0,sep='\\t')\n",
    "    vals = []\n",
    "    for i,popi in enumerate(df.columns):\n",
    "        for j,popj in enumerate(df.index):\n",
    "            if i < j:\n",
    "                vals.append(df.loc[popi,popj])\n",
    "    locDict8[locus] = np.median(vals)\n",
    "    loccount += 1\n",
    "    if loccount % 10000 == 0:\n",
    "        print loccount"
   ]
  },
  {
   "cell_type": "markdown",
   "metadata": {},
   "source": [
    "### get bayenv2 SNPs"
   ]
  },
  {
   "cell_type": "code",
   "execution_count": 0,
   "metadata": {
    "collapsed": false
   },
   "outputs": [],
   "source": [
    "DIR = '/home/lindb/wbp/bayenv2/results/sigsnps'\n",
    "files = [op.join(DIR,f) for f in ls(DIR)]\n",
    "bayDict = OrderedDict()\n",
    "for f in sorted(files):\n",
    "    env = op.basename(f).split(\"_\")[0]\n",
    "    df = pd.read_csv(f,header=0,sep='\\t')\n",
    "    bayDict[env] = df[env].tolist()\n",
    "    print env,len(bayDict[env])"
   ]
  },
  {
   "cell_type": "code",
   "execution_count": 0,
   "metadata": {
    "collapsed": false
   },
   "outputs": [],
   "source": [
    "len(locDict8.keys())"
   ]
  },
  {
   "cell_type": "code",
   "execution_count": 0,
   "metadata": {
    "collapsed": false
   },
   "outputs": [],
   "source": [
    "bayDict.keys()[0:9]"
   ]
  },
  {
   "cell_type": "code",
   "execution_count": 0,
   "metadata": {
    "collapsed": false
   },
   "outputs": [],
   "source": [
    "lst = ['A','B','C','D','E','F','G','H','I']\n",
    "col = 'red'\n",
    "with PdfPages('/home/lindb/wbp/figures/allele_freq_shifts_bayenv2_AWS0-Lat.pdf') as pdf:\n",
    "    \n",
    "    plt.close('all')\n",
    "    fig, ((a1,a2,a3),(a4,a5,a6),(a7,a8,a9)) = plt.subplots(3, 3, figsize=(5,5),dpi=400)\n",
    "    \n",
    "    plotdict = {}\n",
    "    count = 1\n",
    "    for env in sorted(bayDict.keys())[0:9]:\n",
    "        plotdict[count] = plt.subplot(int(\"33%s\" % count))\n",
    "\n",
    "        plotdict[count].hist(p8medvals,bins = [x for x in np.arange(0,.25,0.005)])[2]\n",
    "\n",
    "        plotdict[count].set_title(lst[count-1],y=.9,loc='right',fontsize=17,fontweight='bold')\n",
    "        \n",
    "        plotdict[count].set_xlim(0,0.3)\n",
    "        plotdict[count].set_ylim(0,30000)\n",
    "        plotdict[count].axvline(x=np.median(p8medvals),c='black',linewidth=3,zorder=1)\n",
    "        \n",
    "        for SNP in bayDict[env]:\n",
    "            plotdict[count].axvline(x=locDict8[SNP],ymin=0.83,c=col,linewidth=0.25,zorder=2)\n",
    "        \n",
    "        count += 1\n",
    "\n",
    "    fig.set_size_inches(13,10)\n",
    "    pdf.savefig(fig,bbox_inches='tight')"
   ]
  },
  {
   "cell_type": "code",
   "execution_count": 0,
   "metadata": {
    "collapsed": false
   },
   "outputs": [],
   "source": [
    "lst = ['A','B','C','D','E','F','G','H','I']\n",
    "col = 'red'\n",
    "with PdfPages('/home/lindb/wbp/figures/allele_freq_shifts_bayenv2_Lon-WC3rdbar.pdf') as pdf:\n",
    "    \n",
    "    plt.close('all')\n",
    "    fig, ((a1,a2,a3),(a4,a5,a6),(a7,a8,a9)) = plt.subplots(3, 3, figsize=(5,5),dpi=400)\n",
    "    \n",
    "    plotdict = {}\n",
    "    count = 1\n",
    "    for env in sorted(bayDict.keys())[9:]:\n",
    "        plotdict[count] = plt.subplot(int(\"33%s\" % count))\n",
    "\n",
    "        plotdict[count].hist(p8medvals,bins = [x for x in np.arange(0,.25,0.005)])[2]\n",
    "\n",
    "        plotdict[count].set_title(lst[count-1],y=.9,loc='right',fontsize=17,fontweight='bold')\n",
    "        \n",
    "        plotdict[count].set_xlim(0,0.3)\n",
    "        plotdict[count].set_ylim(0,30000)\n",
    "        \n",
    "        plotdict[count].axvline(x=np.median(p8medvals),c='black',linewidth=3,zorder=1)\n",
    "        \n",
    "        for SNP in bayDict[env]:\n",
    "            plotdict[count].axvline(x=locDict8[SNP],ymin=0.83,c=col,linewidth=0.25,zorder=1)\n",
    "            \n",
    "#         plotdict[count].locator_params(axis='x',nbins=5)\n",
    "#         for tick in plotdict[count].xaxis.get_major_ticks():\n",
    "#                tick.label.set_fontsize(8)\n",
    "        \n",
    "#         if count == 6:\n",
    "#             plotdict[count].spines['right'].set_visible(False)\n",
    "#             plotdict[count].spines['left'].set_visible(False)\n",
    "#             plotdict[count].spines['top'].set_visible(False)\n",
    "#             plotdict[count].spines['bottom'].set_visible(False)\n",
    "#             plotdict[count].axes.get_yaxis().set_visible(False)\n",
    "#             plotdict[count].axes.get_xaxis().set_ticks([])\n",
    "#             plotdict[count].axes.get_yaxis().set_ticks([])\n",
    "        \n",
    "        count += 1\n",
    "\n",
    "    fig.set_size_inches(13,10)\n",
    "    pdf.savefig(fig,bbox_inches='tight')"
   ]
  },
  {
   "cell_type": "code",
   "execution_count": 0,
   "metadata": {
    "collapsed": false
   },
   "outputs": [],
   "source": [
    "res = []\n",
    "for env in bayDict:\n",
    "    count = 0\n",
    "    for SNP in bayDict[env]:\n",
    "        if locDict8[SNP] <= np.median(p8medvals):\n",
    "            count += 1\n",
    "    print env, count,count/len(bayDict[env])\n",
    "    res.append(count/len(bayDict[env]))\n",
    "np.median(res)"
   ]
  },
  {
   "cell_type": "code",
   "execution_count": 0,
   "metadata": {
    "collapsed": false
   },
   "outputs": [],
   "source": [
    "#get a list of 1000 sets of random SNPs for each environment\n",
    "#these SNPs were drawn randomly in 08_bayenv2.ipynb for identification of significant covariation\n",
    "DIR = '/home/lindb/wbp/bayenv2/covariances/randmatrices/randsnps'\n",
    "DIRS = [op.join(DIR,d) for d in ls(DIR)]\n",
    "bayrand = {}\n",
    "for d in DIRS:\n",
    "    env = op.basename(d)\n",
    "    print env\n",
    "    bayrand[env] = {}\n",
    "    files = [op.join(d,f) for f in ls(d)]\n",
    "    for f in sorted(files):\n",
    "        num = op.basename(f).split(\"_\")[1]\n",
    "        df = pd.read_csv(f,header=None,sep='\\t')\n",
    "        bayrand[env][num] = df[0].tolist()"
   ]
  },
  {
   "cell_type": "code",
   "execution_count": 0,
   "metadata": {
    "collapsed": false
   },
   "outputs": [],
   "source": [
    "#get a distribution from these 1000 sets for each env\n",
    "randmeds = {}\n",
    "for env in bayrand:\n",
    "    randmeds[env] = []\n",
    "    for num in bayrand[env]:\n",
    "        randmeds[env].append(np.mean([float(locDict8[SNP]) for SNP in bayrand[env][num]]))           "
   ]
  },
  {
   "cell_type": "code",
   "execution_count": 0,
   "metadata": {
    "collapsed": false
   },
   "outputs": [],
   "source": [
    "np.round(np.mean([locDict8[snp] for snp in bayrand[env][num]]),5)"
   ]
  },
  {
   "cell_type": "code",
   "execution_count": 0,
   "metadata": {
    "collapsed": false,
    "scrolled": true
   },
   "outputs": [],
   "source": [
    "sorted([locDict8[snp] for snp in bayrand[env][num]])"
   ]
  },
  {
   "cell_type": "code",
   "execution_count": 0,
   "metadata": {
    "collapsed": false
   },
   "outputs": [],
   "source": [
    "plt.hist(randmeds[env], bins = [x for x in np.arange(0,.03,0.0001)])[2]"
   ]
  },
  {
   "cell_type": "code",
   "execution_count": 0,
   "metadata": {
    "collapsed": false
   },
   "outputs": [],
   "source": [
    "plt.hist(randmeds['Ann-ppt'], bins = [x for x in np.arange(0,.03,0.0001)])[2]"
   ]
  },
  {
   "cell_type": "code",
   "execution_count": 0,
   "metadata": {
    "collapsed": false
   },
   "outputs": [],
   "source": [
    "for env in randmeds:\n",
    "    print env,max(randmeds[env])"
   ]
  },
  {
   "cell_type": "code",
   "execution_count": 0,
   "metadata": {
    "collapsed": false
   },
   "outputs": [],
   "source": [
    "for env in randmeds:\n",
    "    print env, np.mean(randmeds[env]),max(randmeds[env])"
   ]
  },
  {
   "cell_type": "code",
   "execution_count": 0,
   "metadata": {
    "collapsed": false
   },
   "outputs": [],
   "source": [
    "for env in randmeds:\n",
    "    print env, np.mean([locDict8[SNP] for SNP in bayDict[env]]),np.median([locDict8[SNP] for SNP in bayDict[env]])"
   ]
  },
  {
   "cell_type": "code",
   "execution_count": 0,
   "metadata": {
    "collapsed": true
   },
   "outputs": [],
   "source": [
    "baymeans = {}\n",
    "for env in randmeds:\n",
    "    baymeans[env] = np.mean([locDict8[SNP] for SNP in bayDict[env]])"
   ]
  },
  {
   "cell_type": "code",
   "execution_count": 0,
   "metadata": {
    "collapsed": false
   },
   "outputs": [],
   "source": [
    "lst = ['A','B','C','D','E','F','G','H','I']\n",
    "col = 'red'\n",
    "with PdfPages('/home/lindb/wbp/figures/allele_freq_shifts_bayenv2_hexp_AWS0-Lat.pdf') as pdf:\n",
    "    \n",
    "    plt.close('all')\n",
    "    fig, ((a1,a2,a3),(a4,a5,a6),(a7,a8,a9)) = plt.subplots(3, 3, figsize=(5,5),dpi=400)\n",
    "    \n",
    "    plotdict = {}\n",
    "    count = 1\n",
    "    for env in sorted(bayDict.keys())[0:9]:\n",
    "        plotdict[count] = plt.subplot(int(\"33%s\" % count))\n",
    "\n",
    "        plotdict[count].hist(randmeds[env],bins = [x for x in np.arange(0,.03,0.0001)], color='blue')[2]\n",
    "\n",
    "        plotdict[count].set_title(lst[count-1],y=.9,loc='right',fontsize=17,fontweight='bold')\n",
    "        \n",
    "        plotdict[count].set_xlim(0,0.04)\n",
    "        plotdict[count].set_ylim(0,50)\n",
    "        \n",
    "        plotdict[count].axvline(x=baymeans[env],c='red',linewidth=3,zorder=1)\n",
    "        \n",
    "#         for SNP in bayDict[env]:\n",
    "#             plotdict[count].axvline(x=locDict8[SNP],ymin=0.83,c=col,linewidth=0.25,zorder=1)\n",
    "        count += 1\n",
    "\n",
    "    fig.set_size_inches(13,10)\n",
    "    pdf.savefig(fig,bbox_inches='tight')"
   ]
  },
  {
   "cell_type": "code",
   "execution_count": 0,
   "metadata": {
    "collapsed": false
   },
   "outputs": [],
   "source": [
    "lst = ['A','B','C','D','E','F','G','H','I']\n",
    "col = 'red'\n",
    "with PdfPages('/home/lindb/wbp/figures/allele_freq_shifts_bayenv2_hexp_Lon-WC3rdbar.pdf') as pdf:\n",
    "    \n",
    "    plt.close('all')\n",
    "    fig, ((a1,a2,a3),(a4,a5,a6),(a7,a8,a9)) = plt.subplots(3, 3, figsize=(5,5),dpi=400)\n",
    "    \n",
    "    plotdict = {}\n",
    "    count = 1\n",
    "    for env in sorted(bayDict.keys())[9:]:\n",
    "        plotdict[count] = plt.subplot(int(\"33%s\" % count))\n",
    "\n",
    "        plotdict[count].hist(randmeds[env],bins = [x for x in np.arange(0,.03,0.0001)])[2]\n",
    "\n",
    "        plotdict[count].set_title(lst[count-1],y=.9,loc='right',fontsize=17,fontweight='bold')\n",
    "        \n",
    "        plotdict[count].set_xlim(0,0.04)\n",
    "        plotdict[count].set_ylim(0,50)\n",
    "        \n",
    "        plotdict[count].axvline(x=baymeans[env],c='red',linewidth=3,zorder=1)\n",
    "        \n",
    "#         for SNP in bayDict[env]:\n",
    "#             plotdict[count].axvline(x=locDict8[SNP],ymin=0.83,c=col,linewidth=0.25,zorder=1)\n",
    "        count += 1\n",
    "\n",
    "    fig.set_size_inches(13,10)\n",
    "    pdf.savefig(fig,bbox_inches='tight')"
   ]
  },
  {
   "cell_type": "markdown",
   "metadata": {},
   "source": [
    "# do 6 pops"
   ]
  },
  {
   "cell_type": "code",
   "execution_count": 0,
   "metadata": {
    "collapsed": false
   },
   "outputs": [],
   "source": [
    "sixMAF = pd.read_csv('~/wbp/gemma/6pop_pop_maf.txt',header=0,index_col=0,sep='\\t')\n",
    "sixMAF.head()"
   ]
  },
  {
   "cell_type": "code",
   "execution_count": 0,
   "metadata": {
    "collapsed": true
   },
   "outputs": [],
   "source": [
    "os.makedirs(\"/home/lindb/wbp/overall_freqshifts/6pops\")"
   ]
  },
  {
   "cell_type": "code",
   "execution_count": 0,
   "metadata": {
    "collapsed": false
   },
   "outputs": [],
   "source": [
    "loccount =0\n",
    "sixmeds = []\n",
    "DIR = \"/home/lindb/wbp/overall_freqshifts/6pops\"\n",
    "for locus in sixMAF.index:\n",
    "    df = pd.DataFrame(index=sixMAF.columns,columns=sixMAF.columns)\n",
    "    vals = []\n",
    "    for i,popi in enumerate(sixMAF.columns):\n",
    "        freqi = sixMAF.loc[locus,popi]\n",
    "        for j,popj in enumerate(sixMAF.columns):\n",
    "            if i ==j:\n",
    "                df.loc[popi,popj] = 0\n",
    "            if i < j:\n",
    "                freqj = sixMAF.loc[locus,popj]\n",
    "                diff = abs(freqi-freqj)\n",
    "                df.loc[popi,popj] = diff\n",
    "                df.loc[popj,popi] = df.loc[popi,popj]\n",
    "                vals.append(diff)\n",
    "    assert len(vals) == 15\n",
    "    sixmed = np.median(vals)\n",
    "    sixmeds.append(sixmed)\n",
    "    \n",
    "    filE = op.join(DIR,'%s.txt' % locus)\n",
    "    df.to_csv(filE,header=True,index=True,sep='\\t')\n",
    "    \n",
    "    loccount +=1 \n",
    "    if loccount % 10000 == 0:\n",
    "        print loccount"
   ]
  },
  {
   "cell_type": "code",
   "execution_count": 0,
   "metadata": {
    "collapsed": false
   },
   "outputs": [],
   "source": [
    "len(sixmeds)"
   ]
  },
  {
   "cell_type": "code",
   "execution_count": 0,
   "metadata": {
    "collapsed": false
   },
   "outputs": [],
   "source": [
    "DIR = \"/home/lindb/wbp/overall_freqshifts/6pops\"\n",
    "filE = op.join(DIR,'medianvals.txt')\n",
    "df = pd.DataFrame(sixmeds)\n",
    "df.to_csv(filE,header=False,index=False,sep='\\t')"
   ]
  },
  {
   "cell_type": "code",
   "execution_count": 0,
   "metadata": {
    "collapsed": false
   },
   "outputs": [],
   "source": [
    "DIR = '/home/lindb/wbp/overall_freqshifts/6pops/'\n",
    "files = [op.join(DIR,f) for f in ls(DIR) if ('NODE' in f) and ('swp' not in f)]\n",
    "len(files)"
   ]
  },
  {
   "cell_type": "code",
   "execution_count": 0,
   "metadata": {
    "collapsed": false
   },
   "outputs": [],
   "source": [
    "loccount =0\n",
    "locDict6 = OrderedDict()\n",
    "for f in sorted(files):\n",
    "    locus = op.basename(f).split(\".txt\")[0]\n",
    "    df = pd.read_csv(f,header=0,index_col=0,sep='\\t')\n",
    "    vals = []\n",
    "    for i,popi in enumerate(df.columns):\n",
    "        for j,popj in enumerate(df.index):\n",
    "            if i < j:\n",
    "                vals.append(df.loc[popi,popj])\n",
    "    locDict6[locus] = np.median(vals)\n",
    "    loccount += 1\n",
    "    if loccount % 10000 == 0:\n",
    "        print loccount"
   ]
  },
  {
   "cell_type": "markdown",
   "metadata": {},
   "source": [
    "### get GEMMA snps"
   ]
  },
  {
   "cell_type": "code",
   "execution_count": 0,
   "metadata": {
    "collapsed": true
   },
   "outputs": [],
   "source": [
    "DIR = '/home/lindb/wbp/gemma/covariance_pips_998/dvals/'\n",
    "files = [op.join(DIR,f) for f in ls(DIR)]\n",
    "gemsnps = {}\n",
    "for f in sorted(files):\n",
    "    pheno = op.basename(f).split(\"_\")[0]\n",
    "    df = pd.read_csv(f,header=0,index_col=0,sep='\\t')\n",
    "    gemsnps[pheno] = df.index.tolist()"
   ]
  },
  {
   "cell_type": "code",
   "execution_count": 0,
   "metadata": {
    "collapsed": false
   },
   "outputs": [],
   "source": [
    "for pheno in gemsnps:\n",
    "    print pheno,len(gemsnps[pheno])"
   ]
  },
  {
   "cell_type": "code",
   "execution_count": 0,
   "metadata": {
    "collapsed": false
   },
   "outputs": [],
   "source": [
    "len(locDict6.keys())"
   ]
  },
  {
   "cell_type": "code",
   "execution_count": 0,
   "metadata": {
    "collapsed": false
   },
   "outputs": [],
   "source": [
    "#get a list of 1000 sets of random SNPs for each environment\n",
    "#these SNPs were drawn randomly in 08_bayenv2.ipynb for identification of significant covariation\n",
    "DIR = '/home/lindb/wbp/gemma/covariance_pips_998/randmatrices/randsnps'\n",
    "DIRS = [op.join(DIR,d) for d in ls(DIR)]\n",
    "gemrand = {}\n",
    "for d in DIRS:\n",
    "    pheno = op.basename(d)\n",
    "    print pheno\n",
    "    gemrand[pheno] = {}\n",
    "    files = [op.join(d,f) for f in ls(d)]\n",
    "    for f in sorted(files):\n",
    "        num = op.basename(f).split(\"_\")[1]\n",
    "        df = pd.read_csv(f,header=None,sep='\\t')\n",
    "        gemrand[pheno][num] = df[0].tolist()"
   ]
  },
  {
   "cell_type": "code",
   "execution_count": 0,
   "metadata": {
    "collapsed": false
   },
   "outputs": [],
   "source": [
    "#get a distribution from these 1000 sets for each env\n",
    "gemrandmeds = {}\n",
    "for pheno in gemrand:\n",
    "    gemrandmeds[pheno] = []\n",
    "    for num in gemrand[pheno]:\n",
    "        gemrandmeds[pheno].append(np.mean([float(locDict6[SNP]) for SNP in gemrand[pheno][num]]))           "
   ]
  },
  {
   "cell_type": "code",
   "execution_count": 0,
   "metadata": {
    "collapsed": true
   },
   "outputs": [],
   "source": [
    "gemmeans = {}\n",
    "for pheno in gemrand:\n",
    "    gemmeans[pheno] = np.mean([locDict6[snp] for snp in gemsnps[pheno]])"
   ]
  },
  {
   "cell_type": "code",
   "execution_count": 0,
   "metadata": {
    "collapsed": false
   },
   "outputs": [],
   "source": [
    "for pheno in gemrand:\n",
    "    print pheno, np.mean(gemrandmeds[pheno]),gemmeans[pheno]"
   ]
  },
  {
   "cell_type": "code",
   "execution_count": 0,
   "metadata": {
    "collapsed": false
   },
   "outputs": [],
   "source": [
    "lst = ['A','B','C','D','E','F','G','H','I']\n",
    "col = 'red'\n",
    "with PdfPages('/home/lindb/wbp/figures/allele_freq_shifts_hexp_gemma.pdf') as pdf:\n",
    "    \n",
    "    plt.close('all')\n",
    "    fig, ((a1,a2,a3),(a4,a5,a6)) = plt.subplots(2, 3, figsize=(5,5),dpi=400)\n",
    "    \n",
    "    plotdict = {}\n",
    "    count = 1\n",
    "    for pheno in sorted(gemrand):\n",
    "        plotdict[count] = plt.subplot(int(\"23%s\" % count))\n",
    "\n",
    "        plotdict[count].hist(gemrandmeds[pheno],bins = [x for x in np.arange(0,.1,0.001)])[2]\n",
    "\n",
    "        #plotdict[count].set_title(lst[count-1],y=.9,loc='right',fontsize=17,fontweight='bold')\n",
    "        plotdict[count].set_title(pheno,y=.9,loc='right',fontsize=17,fontweight='bold')\n",
    "        \n",
    "        plotdict[count].set_xlim(0,0.1)\n",
    "        plotdict[count].set_ylim(0,300)\n",
    "        plotdict[count].spines[\"top\"].set_visible(False)\n",
    "        plotdict[count].spines[\"right\"].set_visible(False)\n",
    "        \n",
    "        plotdict[count].axvline(x=gemmeans[pheno],c='red',linewidth=3,zorder=1)\n",
    "        \n",
    "#         for SNP in bayDict[env]:\n",
    "#             plotdict[count].axvline(x=locDict8[SNP],ymin=0.83,c=col,linewidth=0.25,zorder=1)\n",
    "        count += 1\n",
    "\n",
    "    fig.set_size_inches(13,10)\n",
    "    pdf.savefig(fig,bbox_inches='tight')"
   ]
  },
  {
   "cell_type": "code",
   "execution_count": 0,
   "metadata": {
    "collapsed": false
   },
   "outputs": [],
   "source": [
    "[pheno for pheno in sorted(gemrand)]"
   ]
  },
  {
   "cell_type": "code",
   "execution_count": 0,
   "metadata": {
    "collapsed": true
   },
   "outputs": [],
   "source": []
  },
  {
   "cell_type": "code",
   "execution_count": 0,
   "metadata": {
    "collapsed": true
   },
   "outputs": [],
   "source": []
  },
  {
   "cell_type": "code",
   "execution_count": 0,
   "metadata": {
    "collapsed": true
   },
   "outputs": [],
   "source": []
  },
  {
   "cell_type": "code",
   "execution_count": 0,
   "metadata": {
    "collapsed": true
   },
   "outputs": [],
   "source": []
  },
  {
   "cell_type": "code",
   "execution_count": 0,
   "metadata": {
    "collapsed": true
   },
   "outputs": [],
   "source": []
  }
 ],
 "metadata": {
  "kernelspec": {
   "display_name": "Python 2",
   "language": "python",
   "name": "python2"
  },
  "language_info": {
   "codemirror_mode": {
    "name": "ipython",
    "version": 2
   },
   "file_extension": ".py",
   "mimetype": "text/x-python",
   "name": "python",
   "nbconvert_exporter": "python",
   "pygments_lexer": "ipython2",
   "version": "2.7.11"
  }
 },
 "nbformat": 4,
 "nbformat_minor": 0
}
