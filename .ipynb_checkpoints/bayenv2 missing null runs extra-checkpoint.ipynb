{
 "cells": [
  {
   "cell_type": "code",
   "execution_count": 0,
   "metadata": {
    "collapsed": true
   },
   "outputs": [],
   "source": [
    "import sys, os, time\n",
    "import pandas as pd\n",
    "import numpy as np\n",
    "import vcf\n",
    "import random\n",
    "from collections import OrderedDict\n",
    "from operator import itemgetter\n",
    "from collections import defaultdict\n",
    "from __future__ import division\n",
    "import math\n",
    "import shutil"
   ]
  },
  {
   "cell_type": "code",
   "execution_count": 0,
   "metadata": {
    "collapsed": false
   },
   "outputs": [],
   "source": [
    "#find the dirs that were deleted\n",
    "dlst = []\n",
    "for i in range(100):\n",
    "    d = 'dir%s' % str(i)\n",
    "    DIR = '/home/lindb/wbp/bayenv2/nullruns/missing/%s' % d\n",
    "    if not os.path.exists(DIR):\n",
    "        dlst.append(d)\n",
    "len(dlst)"
   ]
  },
  {
   "cell_type": "code",
   "execution_count": 0,
   "metadata": {
    "collapsed": false
   },
   "outputs": [],
   "source": [
    "dlst"
   ]
  },
  {
   "cell_type": "code",
   "execution_count": 0,
   "metadata": {
    "collapsed": true
   },
   "outputs": [],
   "source": [
    "#make the dirs\n",
    "for d in dlst:\n",
    "    DIR = '/home/lindb/wbp/bayenv2/nullruns/missing/extra/%s' % d\n",
    "    if not os.path.exists(DIR):\n",
    "        os.makedirs(DIR)"
   ]
  },
  {
   "cell_type": "code",
   "execution_count": 0,
   "metadata": {
    "collapsed": true
   },
   "outputs": [],
   "source": [
    "for d in dlst: #make 100 runfiles to make SNPSFILES\n",
    "    text = '''print \"starting\"\n",
    "import sys\n",
    "import os, time\n",
    "import pandas as pd\n",
    "import numpy as np\n",
    "import scipy as sp\n",
    "import random\n",
    "from collections import OrderedDict\n",
    "from operator import itemgetter\n",
    "import random\n",
    "\n",
    "print \"importing data\"\n",
    "missingData = pd.read_csv('/home/lindb/eckertlab/wbp/bayenv2/missingDataHEADERIDX.txt',header=0,index_col=0,sep=\"\\\\t\")\n",
    "print \"done importing\"\n",
    "\n",
    "stpDF = pd.read_csv('/home/lindb/eckertlab/wbp/hierfstat/sampsTOpop.txt',header=0,sep=\"\\\\t\")\n",
    "\n",
    "stpnew = stpDF[stpDF['samp'].isin(missingData.index)]\n",
    "\n",
    "pops = np.unique(stpnew['pop']).tolist()\n",
    "\n",
    "popDict = OrderedDict()\n",
    "for pop in pops:\n",
    "    popDict[pop] = 0\n",
    "\n",
    "for row in stpnew.index:\n",
    "    POP = stpDF.loc[row,'pop']\n",
    "    popDict[POP] += 1\n",
    "\n",
    "\n",
    "print \"creating idx\"\n",
    "idx = range(len(missingData.index))\n",
    "sampDict = OrderedDict()\n",
    "print \"assigning random samps to pops\"\n",
    "for pop in sorted(popDict.keys()): #randomly assign samples to pops\n",
    "    which = random.sample(idx,popDict[pop])\n",
    "    samps = itemgetter(*which)(missingData.index.tolist())\n",
    "    sampDict[pop] = missingData[missingData.index.isin(samps)]\n",
    "    idx = [x for x in idx if x not in which]\n",
    "\n",
    "locCount = 0\n",
    "nullDict = OrderedDict()\n",
    "print \"iterating loci\"\n",
    "for locus in missingData.columns:\n",
    "    nullDict[locus] = OrderedDict()\n",
    "\n",
    "    for pop in sorted(popDict.keys()):\n",
    "        data = sampDict[pop]\n",
    "        zero = str(data[locus]).count('0') #count the first homozygotes\n",
    "        one = str(data[locus]).count('1') #count the heterozygotes\n",
    "        two = str(data[locus]).count('2') #count the second homozygotes  \n",
    "        A1 = 2*zero + one\n",
    "        A2 = 2*two + one\n",
    "        if len(nullDict[locus].keys()) == 0:\n",
    "            nullDict[locus]['A1'] = OrderedDict()\n",
    "            nullDict[locus]['A2'] = OrderedDict()\n",
    "        nullDict[locus]['A1'][pop] = A1\n",
    "        nullDict[locus]['A2'][pop] = A2    \n",
    "    locCount += 1\n",
    "    if locCount %% 1000 == 0:\n",
    "        print locCount\n",
    "print \"writing file, iteration %s\"\n",
    "filE = '/home/lindb/eckertlab/wbp/bayenv2/nullruns/missing/extra/UnbinnedmissingSNPSFILE%s_HEADERROW.txt' \n",
    "with open(filE, 'w') as o:\n",
    "    line = '\\\\t'.join([str(pop) for pop in sorted(popDict.keys())]) + str('\\\\n')\n",
    "    o.write(\"%%s\" %% line)\n",
    "    for locus in nullDict.keys():\n",
    "        for allele in nullDict[locus].keys():\n",
    "            line = str(locus) + '\\\\t' + '\\\\t'.join([str(x) for x in nullDict[locus][allele].values()]) + str('\\\\n')\n",
    "            #print locus,allele,line\n",
    "            o.write(\"%%s\" %% line)\n",
    "o.close()\n",
    "''' % (str(d[3:]),str(d[3:]))\n",
    "    FILE = '/home/lindb/eckertlab/wbp/bayenv2/nullruns/missing/extra/mis_run%s.py' % str(d[3:])\n",
    "    with open(FILE,'w') as o:\n",
    "        o.write(text)\n",
    "    o.close"
   ]
  },
  {
   "cell_type": "code",
   "execution_count": 0,
   "metadata": {
    "collapsed": false
   },
   "outputs": [],
   "source": [
    "files = os.listdir('/home/lindb/eckertlab/wbp/bayenv2/nullruns/missing/extra/')\n",
    "files = [os.path.join('/home/lindb/eckertlab/wbp/bayenv2/nullruns/missing/extra/',f) for f in files if f.startswith('mis')]\n",
    "len(files)"
   ]
  },
  {
   "cell_type": "code",
   "execution_count": 0,
   "metadata": {
    "collapsed": true
   },
   "outputs": [],
   "source": [
    "for f in files:\n",
    "    num = f.split(\"/\")[-1].split(\".\")[0][7:]\n",
    "    text = '''#!/bin/bash\n",
    "#$ -N extra%s\n",
    "#$ -V\n",
    "#$ -j y\n",
    "#$ -cwd\n",
    "python %s\n",
    "''' % (str(num),f)\n",
    "    filE = '/home/lindb/wbp/bayenv2/nullruns/missing/extra/mis_run%s.sh' % str(num)\n",
    "    with open(filE,'w') as o:\n",
    "        o.write(\"%s\" % text)\n",
    "    o.close()"
   ]
  },
  {
   "cell_type": "code",
   "execution_count": 0,
   "metadata": {
    "collapsed": false
   },
   "outputs": [],
   "source": [
    "#get Unbinned SNPSFILEs\n",
    "files = os.listdir('/home/lindb/wbp/bayenv2/nullruns/missing/extra/')\n",
    "files = [os.path.join('/home/lindb/wbp/bayenv2/nullruns/missing/extra/',f) for f in files if f.startswith(\"Unbinned\")]\n",
    "len(files)"
   ]
  },
  {
   "cell_type": "code",
   "execution_count": 0,
   "metadata": {
    "collapsed": false
   },
   "outputs": [],
   "source": [
    "for f in files:\n",
    "    fname = os.path.basename(f)\n",
    "    num = fname.split(\"_\")[0][23:]\n",
    "    DIR = os.path.join(os.path.dirname(f),'dir%s' % num)\n",
    "    shutil.move(f,DIR)   "
   ]
  },
  {
   "cell_type": "code",
   "execution_count": 0,
   "metadata": {
    "collapsed": false
   },
   "outputs": [],
   "source": [
    "dirs = os.listdir('/home/lindb/wbp/bayenv2/nullruns/missing/extra/')\n",
    "dirs = [os.path.join('/home/lindb/wbp/bayenv2/nullruns/missing/extra/',d) for d in dirs if d.startswith('dir')]\n",
    "dirs"
   ]
  },
  {
   "cell_type": "code",
   "execution_count": 0,
   "metadata": {
    "collapsed": false
   },
   "outputs": [],
   "source": [
    "for d in dirs:\n",
    "    files = os.listdir(d)\n",
    "    for f in files:\n",
    "        df = pd.read_csv(os.path.join(d,f),header=0,index_col=0,sep=\"\\t\")\n",
    "        fname = f.split(\"_\")[0]+'_noHEADERIDX.txt'\n",
    "        filE = os.path.join(d,fname)\n",
    "        df.to_csv(filE,header=False,index=False,sep=\"\\t\")"
   ]
  },
  {
   "cell_type": "code",
   "execution_count": 0,
   "metadata": {
    "collapsed": true
   },
   "outputs": [],
   "source": [
    "EF = '/home/lindb/eckertlab/wbp/bayenv2/ENVIRONFILE.txt'\n",
    "bayenv = '/home/lindb/eckertlab/wbp/bayenv2/bayenv2'"
   ]
  },
  {
   "cell_type": "code",
   "execution_count": 0,
   "metadata": {
    "collapsed": true
   },
   "outputs": [],
   "source": [
    "for d in dirs:\n",
    "    shutil.copy(EF,d)\n",
    "    shutil.copy(bayenv,d)"
   ]
  },
  {
   "cell_type": "code",
   "execution_count": 0,
   "metadata": {
    "collapsed": false
   },
   "outputs": [],
   "source": [
    "d"
   ]
  },
  {
   "cell_type": "code",
   "execution_count": 0,
   "metadata": {
    "collapsed": true
   },
   "outputs": [],
   "source": [
    "for d in dirs:\n",
    "    num = d.split(\"/\")[-1][3:]\n",
    "    text = '''#!/bin/bash\n",
    "#$ -N mismat%s \n",
    "#$ -V\n",
    "#$ -j y\n",
    "#$ -cwd\n",
    "\n",
    "cd %s\n",
    "./bayenv2 -i UnbinnedmissingSNPSFILE%s_noHEADERIDX.txt -p 8 -k 100000 -r %s > matrix_%s.out\n",
    "''' % (str(num),\n",
    "    d,\n",
    "    str(num),\n",
    "    str(random.sample(range(1000000),1)[0]),\n",
    "    str(num))\n",
    "    filE = os.path.join(d,'%s_matrix_est.sh' % str(num))\n",
    "    with open(filE,'w') as o:\n",
    "        o.write(\"%s\" % text)\n",
    "    o.close()"
   ]
  },
  {
   "cell_type": "code",
   "execution_count": 0,
   "metadata": {
    "collapsed": true
   },
   "outputs": [],
   "source": [
    "#make usable matrices next"
   ]
  },
  {
   "cell_type": "code",
   "execution_count": 0,
   "metadata": {
    "collapsed": true
   },
   "outputs": [],
   "source": []
  },
  {
   "cell_type": "code",
   "execution_count": 0,
   "metadata": {
    "collapsed": true
   },
   "outputs": [],
   "source": []
  },
  {
   "cell_type": "code",
   "execution_count": 0,
   "metadata": {
    "collapsed": true
   },
   "outputs": [],
   "source": []
  },
  {
   "cell_type": "code",
   "execution_count": 0,
   "metadata": {
    "collapsed": true
   },
   "outputs": [],
   "source": []
  },
  {
   "cell_type": "code",
   "execution_count": 0,
   "metadata": {
    "collapsed": true
   },
   "outputs": [],
   "source": []
  },
  {
   "cell_type": "code",
   "execution_count": 0,
   "metadata": {
    "collapsed": true
   },
   "outputs": [],
   "source": []
  },
  {
   "cell_type": "code",
   "execution_count": 0,
   "metadata": {
    "collapsed": true
   },
   "outputs": [],
   "source": []
  },
  {
   "cell_type": "code",
   "execution_count": 0,
   "metadata": {
    "collapsed": true
   },
   "outputs": [],
   "source": []
  },
  {
   "cell_type": "code",
   "execution_count": 0,
   "metadata": {
    "collapsed": true
   },
   "outputs": [],
   "source": []
  },
  {
   "cell_type": "code",
   "execution_count": 0,
   "metadata": {
    "collapsed": true
   },
   "outputs": [],
   "source": []
  },
  {
   "cell_type": "code",
   "execution_count": 0,
   "metadata": {
    "collapsed": true
   },
   "outputs": [],
   "source": []
  }
 ],
 "metadata": {
  "kernelspec": {
   "display_name": "Python 2",
   "language": "python",
   "name": "python2"
  },
  "language_info": {
   "codemirror_mode": {
    "name": "ipython",
    "version": 2
   },
   "file_extension": ".py",
   "mimetype": "text/x-python",
   "name": "python",
   "nbconvert_exporter": "python",
   "pygments_lexer": "ipython2",
   "version": "2.7.10"
  }
 },
 "nbformat": 4,
 "nbformat_minor": 0
}
