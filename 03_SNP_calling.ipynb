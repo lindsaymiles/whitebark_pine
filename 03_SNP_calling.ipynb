{
 "cells": [
  {
   "cell_type": "code",
   "execution_count": 0,
   "metadata": {
    "collapsed": false
   },
   "outputs": [],
   "source": [
    "import ipyparallel\n",
    "import os, time\n",
    "%config InlineBackend.figure_format = 'retina'\n",
    "from ipyparallel import Client"
   ]
  },
  {
   "cell_type": "code",
   "execution_count": 0,
   "metadata": {
    "collapsed": true
   },
   "outputs": [],
   "source": [
    "bam_dir = \"/home/lindb/wbp/concatenated/raw_mapping_samfiles/\"\n",
    "snp_dir = \"/home/lindb/wbp/concatenated/snps/\"\n",
    "if not os.path.exists(snp_dir):\n",
    "    os.makedirs(snp_dir)\n",
    "    "
   ]
  },
  {
   "cell_type": "code",
   "execution_count": 0,
   "metadata": {
    "collapsed": false
   },
   "outputs": [],
   "source": [
    "bam_dir"
   ]
  },
  {
   "cell_type": "code",
   "execution_count": 0,
   "metadata": {
    "collapsed": false
   },
   "outputs": [],
   "source": [
    "bam_files = os.listdir(bam_dir)\n",
    "bam_files = [os.path.join(bam_dir,f) for f in bam_files if f.endswith('rg.bam')]\n",
    "len(bam_files),bam_files[0]"
   ]
  },
  {
   "cell_type": "code",
   "execution_count": 0,
   "metadata": {
    "collapsed": true
   },
   "outputs": [],
   "source": [
    "samtools = \"/home/lindb/g/src/samtools-1.3/samtools\"\n",
    "bcftools = \"/home/lindb/g/src/bcftools-1.3/bcftools\"\n",
    "assembly = '/home/lindb/wbp/concatenated/velvet/auto_data_45/contigs.fa'"
   ]
  },
  {
   "cell_type": "code",
   "execution_count": 0,
   "metadata": {
    "collapsed": false
   },
   "outputs": [],
   "source": [
    "os.chdir('/gpfs_fs/home/lindb/wbp/concatenated/velvet/auto_data_45')"
   ]
  },
  {
   "cell_type": "code",
   "execution_count": 0,
   "metadata": {
    "collapsed": false
   },
   "outputs": [],
   "source": [
    "!$samtools faidx {assembly}"
   ]
  },
  {
   "cell_type": "code",
   "execution_count": 0,
   "metadata": {
    "collapsed": false
   },
   "outputs": [],
   "source": [
    "os.path.basename(bam_files[0]).split(\".fastq\")[0]"
   ]
  },
  {
   "cell_type": "code",
   "execution_count": 0,
   "metadata": {
    "collapsed": true
   },
   "outputs": [],
   "source": [
    "def create_ploidy_file(args):\n",
    "    import os\n",
    "    bam_files, snp_dir = args\n",
    "    ploidy_file = os.path.join(snp_dir, \"all.ploidy\")\n",
    "    if not os.path.exists(ploidy_file):\n",
    "        with open(ploidy_file, \"w\") as o:\n",
    "            for b in bam_files:\n",
    "                name = \"%s\" % os.path.basename(b).split(\".fastq\")[0]\n",
    "                ploidy = 2\n",
    "                o.write(\"%s\\t%d\\n\" % (name, ploidy))\n",
    "    return ploidy_file"
   ]
  },
  {
   "cell_type": "code",
   "execution_count": 0,
   "metadata": {
    "collapsed": false
   },
   "outputs": [],
   "source": [
    "rc = Client(profile=\"xmn\")\n",
    "dview = rc[:]\n",
    "lview = rc.load_balanced_view()\n",
    "len(dview)"
   ]
  },
  {
   "cell_type": "code",
   "execution_count": 0,
   "metadata": {
    "collapsed": true
   },
   "outputs": [],
   "source": [
    "dview['create_ploidy_file'] = create_ploidy_file"
   ]
  },
  {
   "cell_type": "code",
   "execution_count": 0,
   "metadata": {
    "collapsed": true
   },
   "outputs": [],
   "source": [
    "def call_snps(args):\n",
    "    import socket, os, stopwatch\n",
    "    print(socket.gethostname())\n",
    "    timer = stopwatch.Timer()\n",
    "    \n",
    "    samtools, reference, bam_sorted, bcftools, raw_vcf, out_dir, contig_names = args \n",
    "    \n",
    "    raw_vcf = os.path.join(out_dir, os.path.basename(raw_vcf))\n",
    "    ploidy_file = create_ploidy_file((bam_sorted, out_dir))\n",
    "    pileup = \"%s mpileup -t DP,AD,ADF,ADR,SP,INFO/AD,INFO/ADF,INFO/ADR %s -Iugf %s %s | %s call -f GP,GQ -S %s -vmO z -o %s\" % (samtools, \n",
    "                                                                     contig_names, reference, \n",
    "                                                                     ' '.join(bam_sorted), \n",
    "                                                                     bcftools,\n",
    "                                                                     ploidy_file,                                                                \n",
    "                                                                     raw_vcf) \n",
    "    timer.stop()\n",
    "    return pileup, timer.elapsed"
   ]
  },
  {
   "cell_type": "code",
   "execution_count": 0,
   "metadata": {
    "collapsed": false
   },
   "outputs": [],
   "source": [
    "bam_files[0]"
   ]
  },
  {
   "cell_type": "code",
   "execution_count": 0,
   "metadata": {
    "collapsed": true
   },
   "outputs": [],
   "source": [
    "args = [samtools,               #samtools\n",
    "        assembly,               #reference\n",
    "        bam_files,              #bam_sorted\n",
    "        bcftools,               #bcftools\n",
    "        \"samtools_1.3.vcf.gz\",  #raw_vcf\n",
    "        snp_dir,                #out_dir\n",
    "        \"\"]                     #contig_names"
   ]
  },
  {
   "cell_type": "code",
   "execution_count": 0,
   "metadata": {
    "collapsed": false
   },
   "outputs": [],
   "source": [
    "pileup, elapsed = call_snps(args)"
   ]
  },
  {
   "cell_type": "code",
   "execution_count": 0,
   "metadata": {
    "collapsed": false
   },
   "outputs": [],
   "source": [
    "elapsed"
   ]
  },
  {
   "cell_type": "code",
   "execution_count": 0,
   "metadata": {
    "collapsed": true
   },
   "outputs": [],
   "source": [
    "with open(os.path.join(snp_dir, \"samtools.sh\"), \"w\") as o:\n",
    "    text = '''#!/bin/bash\n",
    "#$ -N samtools\n",
    "#$ -V\n",
    "#$ -j y\n",
    "#$ -cwd\n",
    "\n",
    "cd /home/lindb/wbp/concatenated/snps/\n",
    "'''\n",
    "    o.write(\"%s\\n\" % text)\n",
    "    o.write(\"%s\\n\" % pileup)\n",
    "#qsub it"
   ]
  },
  {
   "cell_type": "markdown",
   "metadata": {},
   "source": [
    "    cd /home/lindb/wbp/concatenated/snps/\n",
    "    qsub samtools.sh"
   ]
  },
  {
   "cell_type": "code",
   "execution_count": 0,
   "metadata": {
    "collapsed": true
   },
   "outputs": [],
   "source": []
  }
 ],
 "metadata": {
  "kernelspec": {
   "display_name": "Python 2",
   "language": "python",
   "name": "python2"
  },
  "language_info": {
   "codemirror_mode": {
    "name": "ipython",
    "version": 2
   },
   "file_extension": ".py",
   "mimetype": "text/x-python",
   "name": "python",
   "nbconvert_exporter": "python",
   "pygments_lexer": "ipython2",
   "version": "2.7.11"
  }
 },
 "nbformat": 4,
 "nbformat_minor": 0
}
