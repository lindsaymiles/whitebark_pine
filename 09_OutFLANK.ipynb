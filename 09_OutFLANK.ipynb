{
 "cells": [
  {
   "cell_type": "code",
   "execution_count": 2,
   "metadata": {
    "collapsed": false
   },
   "outputs": [
    {
     "name": "stderr",
     "output_type": "stream",
     "text": [
      "Vendor:  Continuum Analytics, Inc.\n",
      "Package: mkl\n",
      "Message: license expired\n",
      "\n",
      "    the package numpy 1.10.2 was published on 2015-12-14,\n",
      "    however the mkl license expiration date is 2015-05-28.\n",
      "    You may be able to run earlier versions of numpy using your\n",
      "    current license.  A new license can be purchased at: http://continuum.io\n",
      "    To revert to an earlier set of conda packages, use:\n",
      "    $ conda list --revisions\n",
      "    ...\n",
      "    $ conda install --revision <REVISION NUMBER>\n",
      "\n",
      "    \n"
     ]
    }
   ],
   "source": [
    "from __future__ import division\n",
    "import os\n",
    "from collections import OrderedDict,Counter\n",
    "import pandas as pd\n",
    "import numpy as np\n",
    "import vcf\n",
    "from operator import itemgetter\n",
    "import random\n",
    "import matplotlib.pyplot as plt\n",
    "import matplotlib.gridspec as gridspec\n",
    "from matplotlib.backends.backend_pdf import PdfPages\n",
    "import matplotlib.ticker as mtick\n",
    "%matplotlib inline\n",
    "import math\n",
    "from scipy.stats import ks_2samp\n",
    "from scipy.stats import anderson_ksamp\n",
    "from os import path as op\n",
    "from os import listdir as ls\n",
    "from scipy.stats import spearmanr\n",
    "import skbio\n",
    "from scipy.stats import pearsonr"
   ]
  },
  {
   "cell_type": "markdown",
   "metadata": {},
   "source": [
    "# make SNPmat"
   ]
  },
  {
   "cell_type": "code",
   "execution_count": 43,
   "metadata": {
    "collapsed": false
   },
   "outputs": [
    {
     "data": {
      "text/html": [
       "<div>\n",
       "<table border=\"1\" class=\"dataframe\">\n",
       "  <thead>\n",
       "    <tr style=\"text-align: right;\">\n",
       "      <th></th>\n",
       "      <th>NODE_1000013_length_91_cov_1.802198_37</th>\n",
       "      <th>NODE_1000031_length_98_cov_2.000000_30</th>\n",
       "      <th>NODE_1000037_length_93_cov_2.043011_33</th>\n",
       "      <th>NODE_1000042_length_93_cov_1.118280_100</th>\n",
       "      <th>NODE_1000053_length_94_cov_1.744681_25</th>\n",
       "      <th>NODE_1000061_length_47_cov_1.680851_49</th>\n",
       "      <th>NODE_1000118_length_95_cov_2.000000_24</th>\n",
       "      <th>NODE_1000128_length_98_cov_1.714286_53</th>\n",
       "      <th>NODE_1000180_length_98_cov_2.204082_17</th>\n",
       "      <th>NODE_1000188_length_67_cov_1.223881_65</th>\n",
       "      <th>...</th>\n",
       "      <th>NODE_999880_length_98_cov_1.683674_22</th>\n",
       "      <th>NODE_999886_length_96_cov_1.020833_38</th>\n",
       "      <th>NODE_999899_length_96_cov_1.000000_91</th>\n",
       "      <th>NODE_999927_length_95_cov_2.000000_55</th>\n",
       "      <th>NODE_999933_length_76_cov_1.236842_76</th>\n",
       "      <th>NODE_999938_length_98_cov_1.142857_98</th>\n",
       "      <th>NODE_999941_length_107_cov_1.196262_25</th>\n",
       "      <th>NODE_999958_length_91_cov_1.021978_17</th>\n",
       "      <th>NODE_999968_length_75_cov_1.680000_37</th>\n",
       "      <th>NODE_999969_length_92_cov_4.271739_37</th>\n",
       "    </tr>\n",
       "  </thead>\n",
       "  <tbody>\n",
       "    <tr>\n",
       "      <th>009compiled</th>\n",
       "      <td>0</td>\n",
       "      <td>1</td>\n",
       "      <td>0</td>\n",
       "      <td>0</td>\n",
       "      <td>0</td>\n",
       "      <td>0</td>\n",
       "      <td>1</td>\n",
       "      <td>0</td>\n",
       "      <td>1</td>\n",
       "      <td>0</td>\n",
       "      <td>...</td>\n",
       "      <td>0</td>\n",
       "      <td>0</td>\n",
       "      <td>1</td>\n",
       "      <td>0</td>\n",
       "      <td>1</td>\n",
       "      <td>1</td>\n",
       "      <td>0</td>\n",
       "      <td>0</td>\n",
       "      <td>0</td>\n",
       "      <td>1</td>\n",
       "    </tr>\n",
       "    <tr>\n",
       "      <th>010compiled</th>\n",
       "      <td>0</td>\n",
       "      <td>1</td>\n",
       "      <td>1</td>\n",
       "      <td>0</td>\n",
       "      <td>0</td>\n",
       "      <td>0</td>\n",
       "      <td>0</td>\n",
       "      <td>0</td>\n",
       "      <td>0</td>\n",
       "      <td>0</td>\n",
       "      <td>...</td>\n",
       "      <td>0</td>\n",
       "      <td>0</td>\n",
       "      <td>0</td>\n",
       "      <td>0</td>\n",
       "      <td>1</td>\n",
       "      <td>1</td>\n",
       "      <td>0</td>\n",
       "      <td>0</td>\n",
       "      <td>0</td>\n",
       "      <td>0</td>\n",
       "    </tr>\n",
       "    <tr>\n",
       "      <th>011compiled</th>\n",
       "      <td>1</td>\n",
       "      <td>0</td>\n",
       "      <td>1</td>\n",
       "      <td>0</td>\n",
       "      <td>0</td>\n",
       "      <td>0</td>\n",
       "      <td>1</td>\n",
       "      <td>0</td>\n",
       "      <td>1</td>\n",
       "      <td>0</td>\n",
       "      <td>...</td>\n",
       "      <td>0</td>\n",
       "      <td>0</td>\n",
       "      <td>1</td>\n",
       "      <td>0</td>\n",
       "      <td>1</td>\n",
       "      <td>0</td>\n",
       "      <td>0</td>\n",
       "      <td>0</td>\n",
       "      <td>0</td>\n",
       "      <td>0</td>\n",
       "    </tr>\n",
       "    <tr>\n",
       "      <th>012compiled</th>\n",
       "      <td>0</td>\n",
       "      <td>0</td>\n",
       "      <td>0</td>\n",
       "      <td>1</td>\n",
       "      <td>0</td>\n",
       "      <td>0</td>\n",
       "      <td>1</td>\n",
       "      <td>0</td>\n",
       "      <td>1</td>\n",
       "      <td>0</td>\n",
       "      <td>...</td>\n",
       "      <td>0</td>\n",
       "      <td>1</td>\n",
       "      <td>2</td>\n",
       "      <td>0</td>\n",
       "      <td>1</td>\n",
       "      <td>0</td>\n",
       "      <td>0</td>\n",
       "      <td>0</td>\n",
       "      <td>1</td>\n",
       "      <td>1</td>\n",
       "    </tr>\n",
       "    <tr>\n",
       "      <th>013compiled</th>\n",
       "      <td>2</td>\n",
       "      <td>0</td>\n",
       "      <td>0</td>\n",
       "      <td>0</td>\n",
       "      <td>0</td>\n",
       "      <td>0</td>\n",
       "      <td>1</td>\n",
       "      <td>1</td>\n",
       "      <td>1</td>\n",
       "      <td>0</td>\n",
       "      <td>...</td>\n",
       "      <td>0</td>\n",
       "      <td>0</td>\n",
       "      <td>1</td>\n",
       "      <td>0</td>\n",
       "      <td>1</td>\n",
       "      <td>0</td>\n",
       "      <td>0</td>\n",
       "      <td>0</td>\n",
       "      <td>0</td>\n",
       "      <td>1</td>\n",
       "    </tr>\n",
       "  </tbody>\n",
       "</table>\n",
       "<p>5 rows × 116231 columns</p>\n",
       "</div>"
      ],
      "text/plain": [
       "             NODE_1000013_length_91_cov_1.802198_37  \\\n",
       "009compiled                                       0   \n",
       "010compiled                                       0   \n",
       "011compiled                                       1   \n",
       "012compiled                                       0   \n",
       "013compiled                                       2   \n",
       "\n",
       "             NODE_1000031_length_98_cov_2.000000_30  \\\n",
       "009compiled                                       1   \n",
       "010compiled                                       1   \n",
       "011compiled                                       0   \n",
       "012compiled                                       0   \n",
       "013compiled                                       0   \n",
       "\n",
       "             NODE_1000037_length_93_cov_2.043011_33  \\\n",
       "009compiled                                       0   \n",
       "010compiled                                       1   \n",
       "011compiled                                       1   \n",
       "012compiled                                       0   \n",
       "013compiled                                       0   \n",
       "\n",
       "             NODE_1000042_length_93_cov_1.118280_100  \\\n",
       "009compiled                                        0   \n",
       "010compiled                                        0   \n",
       "011compiled                                        0   \n",
       "012compiled                                        1   \n",
       "013compiled                                        0   \n",
       "\n",
       "             NODE_1000053_length_94_cov_1.744681_25  \\\n",
       "009compiled                                       0   \n",
       "010compiled                                       0   \n",
       "011compiled                                       0   \n",
       "012compiled                                       0   \n",
       "013compiled                                       0   \n",
       "\n",
       "             NODE_1000061_length_47_cov_1.680851_49  \\\n",
       "009compiled                                       0   \n",
       "010compiled                                       0   \n",
       "011compiled                                       0   \n",
       "012compiled                                       0   \n",
       "013compiled                                       0   \n",
       "\n",
       "             NODE_1000118_length_95_cov_2.000000_24  \\\n",
       "009compiled                                       1   \n",
       "010compiled                                       0   \n",
       "011compiled                                       1   \n",
       "012compiled                                       1   \n",
       "013compiled                                       1   \n",
       "\n",
       "             NODE_1000128_length_98_cov_1.714286_53  \\\n",
       "009compiled                                       0   \n",
       "010compiled                                       0   \n",
       "011compiled                                       0   \n",
       "012compiled                                       0   \n",
       "013compiled                                       1   \n",
       "\n",
       "             NODE_1000180_length_98_cov_2.204082_17  \\\n",
       "009compiled                                       1   \n",
       "010compiled                                       0   \n",
       "011compiled                                       1   \n",
       "012compiled                                       1   \n",
       "013compiled                                       1   \n",
       "\n",
       "             NODE_1000188_length_67_cov_1.223881_65  \\\n",
       "009compiled                                       0   \n",
       "010compiled                                       0   \n",
       "011compiled                                       0   \n",
       "012compiled                                       0   \n",
       "013compiled                                       0   \n",
       "\n",
       "                             ...                    \\\n",
       "009compiled                  ...                     \n",
       "010compiled                  ...                     \n",
       "011compiled                  ...                     \n",
       "012compiled                  ...                     \n",
       "013compiled                  ...                     \n",
       "\n",
       "             NODE_999880_length_98_cov_1.683674_22  \\\n",
       "009compiled                                      0   \n",
       "010compiled                                      0   \n",
       "011compiled                                      0   \n",
       "012compiled                                      0   \n",
       "013compiled                                      0   \n",
       "\n",
       "             NODE_999886_length_96_cov_1.020833_38  \\\n",
       "009compiled                                      0   \n",
       "010compiled                                      0   \n",
       "011compiled                                      0   \n",
       "012compiled                                      1   \n",
       "013compiled                                      0   \n",
       "\n",
       "             NODE_999899_length_96_cov_1.000000_91  \\\n",
       "009compiled                                      1   \n",
       "010compiled                                      0   \n",
       "011compiled                                      1   \n",
       "012compiled                                      2   \n",
       "013compiled                                      1   \n",
       "\n",
       "             NODE_999927_length_95_cov_2.000000_55  \\\n",
       "009compiled                                      0   \n",
       "010compiled                                      0   \n",
       "011compiled                                      0   \n",
       "012compiled                                      0   \n",
       "013compiled                                      0   \n",
       "\n",
       "             NODE_999933_length_76_cov_1.236842_76  \\\n",
       "009compiled                                      1   \n",
       "010compiled                                      1   \n",
       "011compiled                                      1   \n",
       "012compiled                                      1   \n",
       "013compiled                                      1   \n",
       "\n",
       "             NODE_999938_length_98_cov_1.142857_98  \\\n",
       "009compiled                                      1   \n",
       "010compiled                                      1   \n",
       "011compiled                                      0   \n",
       "012compiled                                      0   \n",
       "013compiled                                      0   \n",
       "\n",
       "             NODE_999941_length_107_cov_1.196262_25  \\\n",
       "009compiled                                       0   \n",
       "010compiled                                       0   \n",
       "011compiled                                       0   \n",
       "012compiled                                       0   \n",
       "013compiled                                       0   \n",
       "\n",
       "             NODE_999958_length_91_cov_1.021978_17  \\\n",
       "009compiled                                      0   \n",
       "010compiled                                      0   \n",
       "011compiled                                      0   \n",
       "012compiled                                      0   \n",
       "013compiled                                      0   \n",
       "\n",
       "             NODE_999968_length_75_cov_1.680000_37  \\\n",
       "009compiled                                      0   \n",
       "010compiled                                      0   \n",
       "011compiled                                      0   \n",
       "012compiled                                      1   \n",
       "013compiled                                      0   \n",
       "\n",
       "             NODE_999969_length_92_cov_4.271739_37  \n",
       "009compiled                                      1  \n",
       "010compiled                                      0  \n",
       "011compiled                                      0  \n",
       "012compiled                                      1  \n",
       "013compiled                                      1  \n",
       "\n",
       "[5 rows x 116231 columns]"
      ]
     },
     "execution_count": 43,
     "metadata": {},
     "output_type": "execute_result"
    }
   ],
   "source": [
    "#get the hierftrans for all SNPS, created above as infile for multilocus FST\n",
    "#z12 file created in 06_pca.ipyn\n",
    "filE = '/home/lindb/wbp/OutFLANK/imputed_z12_maf_swp_trans_z12.txt'\n",
    "imp012 = pd.read_csv(filE,header=0,index_col=0,sep=\"\\t\")\n",
    "imp012.head()"
   ]
  },
  {
   "cell_type": "code",
   "execution_count": 70,
   "metadata": {
    "collapsed": false
   },
   "outputs": [
    {
     "data": {
      "text/html": [
       "<div>\n",
       "<table border=\"1\" class=\"dataframe\">\n",
       "  <thead>\n",
       "    <tr style=\"text-align: right;\">\n",
       "      <th></th>\n",
       "      <th>pop</th>\n",
       "      <th>plot</th>\n",
       "    </tr>\n",
       "    <tr>\n",
       "      <th>sampID</th>\n",
       "      <th></th>\n",
       "      <th></th>\n",
       "    </tr>\n",
       "  </thead>\n",
       "  <tbody>\n",
       "    <tr>\n",
       "      <th>028compiled</th>\n",
       "      <td>Dicks_Pass</td>\n",
       "      <td>3</td>\n",
       "    </tr>\n",
       "    <tr>\n",
       "      <th>024compiled</th>\n",
       "      <td>Dicks_Pass</td>\n",
       "      <td>2</td>\n",
       "    </tr>\n",
       "    <tr>\n",
       "      <th>020compiled</th>\n",
       "      <td>Dicks_Pass</td>\n",
       "      <td>2</td>\n",
       "    </tr>\n",
       "    <tr>\n",
       "      <th>025compiled</th>\n",
       "      <td>Dicks_Pass</td>\n",
       "      <td>2</td>\n",
       "    </tr>\n",
       "    <tr>\n",
       "      <th>023compiled</th>\n",
       "      <td>Dicks_Pass</td>\n",
       "      <td>2</td>\n",
       "    </tr>\n",
       "  </tbody>\n",
       "</table>\n",
       "</div>"
      ],
      "text/plain": [
       "                    pop  plot\n",
       "sampID                       \n",
       "028compiled  Dicks_Pass     3\n",
       "024compiled  Dicks_Pass     2\n",
       "020compiled  Dicks_Pass     2\n",
       "025compiled  Dicks_Pass     2\n",
       "023compiled  Dicks_Pass     2"
      ]
     },
     "execution_count": 70,
     "metadata": {},
     "output_type": "execute_result"
    }
   ],
   "source": [
    "#get pop assignment for each samp\n",
    "filE = '/home/lindb/wbp/sampsTOpop.txt'\n",
    "stp = pd.read_csv(filE,header=0,index_col='sampID',sep=\"\\t\")\n",
    "stp.head()"
   ]
  },
  {
   "cell_type": "code",
   "execution_count": 71,
   "metadata": {
    "collapsed": false
   },
   "outputs": [
    {
     "data": {
      "text/html": [
       "<div>\n",
       "<table border=\"1\" class=\"dataframe\">\n",
       "  <thead>\n",
       "    <tr style=\"text-align: right;\">\n",
       "      <th></th>\n",
       "      <th>pop</th>\n",
       "      <th>NODE_1000013_length_91_cov_1.802198_37</th>\n",
       "      <th>NODE_1000031_length_98_cov_2.000000_30</th>\n",
       "      <th>NODE_1000037_length_93_cov_2.043011_33</th>\n",
       "      <th>NODE_1000042_length_93_cov_1.118280_100</th>\n",
       "      <th>NODE_1000053_length_94_cov_1.744681_25</th>\n",
       "      <th>NODE_1000061_length_47_cov_1.680851_49</th>\n",
       "      <th>NODE_1000118_length_95_cov_2.000000_24</th>\n",
       "      <th>NODE_1000128_length_98_cov_1.714286_53</th>\n",
       "      <th>NODE_1000180_length_98_cov_2.204082_17</th>\n",
       "      <th>...</th>\n",
       "      <th>NODE_999880_length_98_cov_1.683674_22</th>\n",
       "      <th>NODE_999886_length_96_cov_1.020833_38</th>\n",
       "      <th>NODE_999899_length_96_cov_1.000000_91</th>\n",
       "      <th>NODE_999927_length_95_cov_2.000000_55</th>\n",
       "      <th>NODE_999933_length_76_cov_1.236842_76</th>\n",
       "      <th>NODE_999938_length_98_cov_1.142857_98</th>\n",
       "      <th>NODE_999941_length_107_cov_1.196262_25</th>\n",
       "      <th>NODE_999958_length_91_cov_1.021978_17</th>\n",
       "      <th>NODE_999968_length_75_cov_1.680000_37</th>\n",
       "      <th>NODE_999969_length_92_cov_4.271739_37</th>\n",
       "    </tr>\n",
       "  </thead>\n",
       "  <tbody>\n",
       "    <tr>\n",
       "      <th>009compiled</th>\n",
       "      <td>Dicks_Pass</td>\n",
       "      <td>0</td>\n",
       "      <td>1</td>\n",
       "      <td>0</td>\n",
       "      <td>0</td>\n",
       "      <td>0</td>\n",
       "      <td>0</td>\n",
       "      <td>1</td>\n",
       "      <td>0</td>\n",
       "      <td>1</td>\n",
       "      <td>...</td>\n",
       "      <td>0</td>\n",
       "      <td>0</td>\n",
       "      <td>1</td>\n",
       "      <td>0</td>\n",
       "      <td>1</td>\n",
       "      <td>1</td>\n",
       "      <td>0</td>\n",
       "      <td>0</td>\n",
       "      <td>0</td>\n",
       "      <td>1</td>\n",
       "    </tr>\n",
       "    <tr>\n",
       "      <th>010compiled</th>\n",
       "      <td>Dicks_Pass</td>\n",
       "      <td>0</td>\n",
       "      <td>1</td>\n",
       "      <td>1</td>\n",
       "      <td>0</td>\n",
       "      <td>0</td>\n",
       "      <td>0</td>\n",
       "      <td>0</td>\n",
       "      <td>0</td>\n",
       "      <td>0</td>\n",
       "      <td>...</td>\n",
       "      <td>0</td>\n",
       "      <td>0</td>\n",
       "      <td>0</td>\n",
       "      <td>0</td>\n",
       "      <td>1</td>\n",
       "      <td>1</td>\n",
       "      <td>0</td>\n",
       "      <td>0</td>\n",
       "      <td>0</td>\n",
       "      <td>0</td>\n",
       "    </tr>\n",
       "    <tr>\n",
       "      <th>011compiled</th>\n",
       "      <td>Dicks_Pass</td>\n",
       "      <td>1</td>\n",
       "      <td>0</td>\n",
       "      <td>1</td>\n",
       "      <td>0</td>\n",
       "      <td>0</td>\n",
       "      <td>0</td>\n",
       "      <td>1</td>\n",
       "      <td>0</td>\n",
       "      <td>1</td>\n",
       "      <td>...</td>\n",
       "      <td>0</td>\n",
       "      <td>0</td>\n",
       "      <td>1</td>\n",
       "      <td>0</td>\n",
       "      <td>1</td>\n",
       "      <td>0</td>\n",
       "      <td>0</td>\n",
       "      <td>0</td>\n",
       "      <td>0</td>\n",
       "      <td>0</td>\n",
       "    </tr>\n",
       "    <tr>\n",
       "      <th>012compiled</th>\n",
       "      <td>Dicks_Pass</td>\n",
       "      <td>0</td>\n",
       "      <td>0</td>\n",
       "      <td>0</td>\n",
       "      <td>1</td>\n",
       "      <td>0</td>\n",
       "      <td>0</td>\n",
       "      <td>1</td>\n",
       "      <td>0</td>\n",
       "      <td>1</td>\n",
       "      <td>...</td>\n",
       "      <td>0</td>\n",
       "      <td>1</td>\n",
       "      <td>2</td>\n",
       "      <td>0</td>\n",
       "      <td>1</td>\n",
       "      <td>0</td>\n",
       "      <td>0</td>\n",
       "      <td>0</td>\n",
       "      <td>1</td>\n",
       "      <td>1</td>\n",
       "    </tr>\n",
       "    <tr>\n",
       "      <th>013compiled</th>\n",
       "      <td>Dicks_Pass</td>\n",
       "      <td>2</td>\n",
       "      <td>0</td>\n",
       "      <td>0</td>\n",
       "      <td>0</td>\n",
       "      <td>0</td>\n",
       "      <td>0</td>\n",
       "      <td>1</td>\n",
       "      <td>1</td>\n",
       "      <td>1</td>\n",
       "      <td>...</td>\n",
       "      <td>0</td>\n",
       "      <td>0</td>\n",
       "      <td>1</td>\n",
       "      <td>0</td>\n",
       "      <td>1</td>\n",
       "      <td>0</td>\n",
       "      <td>0</td>\n",
       "      <td>0</td>\n",
       "      <td>0</td>\n",
       "      <td>1</td>\n",
       "    </tr>\n",
       "  </tbody>\n",
       "</table>\n",
       "<p>5 rows × 116232 columns</p>\n",
       "</div>"
      ],
      "text/plain": [
       "                    pop  NODE_1000013_length_91_cov_1.802198_37  \\\n",
       "009compiled  Dicks_Pass                                       0   \n",
       "010compiled  Dicks_Pass                                       0   \n",
       "011compiled  Dicks_Pass                                       1   \n",
       "012compiled  Dicks_Pass                                       0   \n",
       "013compiled  Dicks_Pass                                       2   \n",
       "\n",
       "             NODE_1000031_length_98_cov_2.000000_30  \\\n",
       "009compiled                                       1   \n",
       "010compiled                                       1   \n",
       "011compiled                                       0   \n",
       "012compiled                                       0   \n",
       "013compiled                                       0   \n",
       "\n",
       "             NODE_1000037_length_93_cov_2.043011_33  \\\n",
       "009compiled                                       0   \n",
       "010compiled                                       1   \n",
       "011compiled                                       1   \n",
       "012compiled                                       0   \n",
       "013compiled                                       0   \n",
       "\n",
       "             NODE_1000042_length_93_cov_1.118280_100  \\\n",
       "009compiled                                        0   \n",
       "010compiled                                        0   \n",
       "011compiled                                        0   \n",
       "012compiled                                        1   \n",
       "013compiled                                        0   \n",
       "\n",
       "             NODE_1000053_length_94_cov_1.744681_25  \\\n",
       "009compiled                                       0   \n",
       "010compiled                                       0   \n",
       "011compiled                                       0   \n",
       "012compiled                                       0   \n",
       "013compiled                                       0   \n",
       "\n",
       "             NODE_1000061_length_47_cov_1.680851_49  \\\n",
       "009compiled                                       0   \n",
       "010compiled                                       0   \n",
       "011compiled                                       0   \n",
       "012compiled                                       0   \n",
       "013compiled                                       0   \n",
       "\n",
       "             NODE_1000118_length_95_cov_2.000000_24  \\\n",
       "009compiled                                       1   \n",
       "010compiled                                       0   \n",
       "011compiled                                       1   \n",
       "012compiled                                       1   \n",
       "013compiled                                       1   \n",
       "\n",
       "             NODE_1000128_length_98_cov_1.714286_53  \\\n",
       "009compiled                                       0   \n",
       "010compiled                                       0   \n",
       "011compiled                                       0   \n",
       "012compiled                                       0   \n",
       "013compiled                                       1   \n",
       "\n",
       "             NODE_1000180_length_98_cov_2.204082_17  \\\n",
       "009compiled                                       1   \n",
       "010compiled                                       0   \n",
       "011compiled                                       1   \n",
       "012compiled                                       1   \n",
       "013compiled                                       1   \n",
       "\n",
       "                             ...                    \\\n",
       "009compiled                  ...                     \n",
       "010compiled                  ...                     \n",
       "011compiled                  ...                     \n",
       "012compiled                  ...                     \n",
       "013compiled                  ...                     \n",
       "\n",
       "             NODE_999880_length_98_cov_1.683674_22  \\\n",
       "009compiled                                      0   \n",
       "010compiled                                      0   \n",
       "011compiled                                      0   \n",
       "012compiled                                      0   \n",
       "013compiled                                      0   \n",
       "\n",
       "             NODE_999886_length_96_cov_1.020833_38  \\\n",
       "009compiled                                      0   \n",
       "010compiled                                      0   \n",
       "011compiled                                      0   \n",
       "012compiled                                      1   \n",
       "013compiled                                      0   \n",
       "\n",
       "             NODE_999899_length_96_cov_1.000000_91  \\\n",
       "009compiled                                      1   \n",
       "010compiled                                      0   \n",
       "011compiled                                      1   \n",
       "012compiled                                      2   \n",
       "013compiled                                      1   \n",
       "\n",
       "             NODE_999927_length_95_cov_2.000000_55  \\\n",
       "009compiled                                      0   \n",
       "010compiled                                      0   \n",
       "011compiled                                      0   \n",
       "012compiled                                      0   \n",
       "013compiled                                      0   \n",
       "\n",
       "             NODE_999933_length_76_cov_1.236842_76  \\\n",
       "009compiled                                      1   \n",
       "010compiled                                      1   \n",
       "011compiled                                      1   \n",
       "012compiled                                      1   \n",
       "013compiled                                      1   \n",
       "\n",
       "             NODE_999938_length_98_cov_1.142857_98  \\\n",
       "009compiled                                      1   \n",
       "010compiled                                      1   \n",
       "011compiled                                      0   \n",
       "012compiled                                      0   \n",
       "013compiled                                      0   \n",
       "\n",
       "             NODE_999941_length_107_cov_1.196262_25  \\\n",
       "009compiled                                       0   \n",
       "010compiled                                       0   \n",
       "011compiled                                       0   \n",
       "012compiled                                       0   \n",
       "013compiled                                       0   \n",
       "\n",
       "             NODE_999958_length_91_cov_1.021978_17  \\\n",
       "009compiled                                      0   \n",
       "010compiled                                      0   \n",
       "011compiled                                      0   \n",
       "012compiled                                      0   \n",
       "013compiled                                      0   \n",
       "\n",
       "             NODE_999968_length_75_cov_1.680000_37  \\\n",
       "009compiled                                      0   \n",
       "010compiled                                      0   \n",
       "011compiled                                      0   \n",
       "012compiled                                      1   \n",
       "013compiled                                      0   \n",
       "\n",
       "             NODE_999969_length_92_cov_4.271739_37  \n",
       "009compiled                                      1  \n",
       "010compiled                                      0  \n",
       "011compiled                                      0  \n",
       "012compiled                                      1  \n",
       "013compiled                                      1  \n",
       "\n",
       "[5 rows x 116232 columns]"
      ]
     },
     "execution_count": 71,
     "metadata": {},
     "output_type": "execute_result"
    }
   ],
   "source": [
    "merged = pd.merge(imp012,stp,left_index=True,right_index=True)\n",
    "cols = ['pop'] + [col for col in merged.columns if 'NODE' in col]\n",
    "merged = merged[cols]\n",
    "merged.sort_index(inplace=True)\n",
    "merged.head()"
   ]
  },
  {
   "cell_type": "code",
   "execution_count": 72,
   "metadata": {
    "collapsed": false
   },
   "outputs": [
    {
     "data": {
      "text/plain": [
       "(244, 116232)"
      ]
     },
     "execution_count": 72,
     "metadata": {},
     "output_type": "execute_result"
    }
   ],
   "source": [
    "merged.shape"
   ]
  },
  {
   "cell_type": "code",
   "execution_count": 10,
   "metadata": {
    "collapsed": false
   },
   "outputs": [
    {
     "name": "stdout",
     "output_type": "stream",
     "text": [
      "pop ['Dicks_Pass', 'Freel_Peak', 'Heavenly', 'Little_Round_Top', 'Mt_Rose_Ophir', 'Rifle_Peak', 'Snow_Valley_Peak', 'West_Shore_Peaks']\n"
     ]
    }
   ],
   "source": [
    "#make sure there aren't any weird data in the dataframe - like 'NAs' or 'np.nan'\n",
    "for col in merged.columns:\n",
    "    uni = np.unique(merged[col].tolist()).tolist()\n",
    "    if (uni == [0,1]) or (uni == [0,1,2]) or (uni == [1,2]) or (uni == [0,2]):\n",
    "        1+1\n",
    "    else:\n",
    "        print col, np.unique(merged[col].tolist()).tolist() #should only print the pop column"
   ]
  },
  {
   "cell_type": "code",
   "execution_count": 73,
   "metadata": {
    "collapsed": false
   },
   "outputs": [
    {
     "data": {
      "text/html": [
       "<div>\n",
       "<table border=\"1\" class=\"dataframe\">\n",
       "  <thead>\n",
       "    <tr style=\"text-align: right;\">\n",
       "      <th></th>\n",
       "      <th>NODE_1000013_length_91_cov_1.802198_37</th>\n",
       "      <th>NODE_1000031_length_98_cov_2.000000_30</th>\n",
       "      <th>NODE_1000037_length_93_cov_2.043011_33</th>\n",
       "      <th>NODE_1000042_length_93_cov_1.118280_100</th>\n",
       "      <th>NODE_1000053_length_94_cov_1.744681_25</th>\n",
       "      <th>NODE_1000061_length_47_cov_1.680851_49</th>\n",
       "      <th>NODE_1000118_length_95_cov_2.000000_24</th>\n",
       "      <th>NODE_1000128_length_98_cov_1.714286_53</th>\n",
       "      <th>NODE_1000180_length_98_cov_2.204082_17</th>\n",
       "      <th>NODE_1000188_length_67_cov_1.223881_65</th>\n",
       "      <th>...</th>\n",
       "      <th>NODE_999880_length_98_cov_1.683674_22</th>\n",
       "      <th>NODE_999886_length_96_cov_1.020833_38</th>\n",
       "      <th>NODE_999899_length_96_cov_1.000000_91</th>\n",
       "      <th>NODE_999927_length_95_cov_2.000000_55</th>\n",
       "      <th>NODE_999933_length_76_cov_1.236842_76</th>\n",
       "      <th>NODE_999938_length_98_cov_1.142857_98</th>\n",
       "      <th>NODE_999941_length_107_cov_1.196262_25</th>\n",
       "      <th>NODE_999958_length_91_cov_1.021978_17</th>\n",
       "      <th>NODE_999968_length_75_cov_1.680000_37</th>\n",
       "      <th>NODE_999969_length_92_cov_4.271739_37</th>\n",
       "    </tr>\n",
       "  </thead>\n",
       "  <tbody>\n",
       "    <tr>\n",
       "      <th>009compiled</th>\n",
       "      <td>0</td>\n",
       "      <td>1</td>\n",
       "      <td>0</td>\n",
       "      <td>0</td>\n",
       "      <td>0</td>\n",
       "      <td>0</td>\n",
       "      <td>1</td>\n",
       "      <td>0</td>\n",
       "      <td>1</td>\n",
       "      <td>0</td>\n",
       "      <td>...</td>\n",
       "      <td>0</td>\n",
       "      <td>0</td>\n",
       "      <td>1</td>\n",
       "      <td>0</td>\n",
       "      <td>1</td>\n",
       "      <td>1</td>\n",
       "      <td>0</td>\n",
       "      <td>0</td>\n",
       "      <td>0</td>\n",
       "      <td>1</td>\n",
       "    </tr>\n",
       "    <tr>\n",
       "      <th>010compiled</th>\n",
       "      <td>0</td>\n",
       "      <td>1</td>\n",
       "      <td>1</td>\n",
       "      <td>0</td>\n",
       "      <td>0</td>\n",
       "      <td>0</td>\n",
       "      <td>0</td>\n",
       "      <td>0</td>\n",
       "      <td>0</td>\n",
       "      <td>0</td>\n",
       "      <td>...</td>\n",
       "      <td>0</td>\n",
       "      <td>0</td>\n",
       "      <td>0</td>\n",
       "      <td>0</td>\n",
       "      <td>1</td>\n",
       "      <td>1</td>\n",
       "      <td>0</td>\n",
       "      <td>0</td>\n",
       "      <td>0</td>\n",
       "      <td>0</td>\n",
       "    </tr>\n",
       "    <tr>\n",
       "      <th>011compiled</th>\n",
       "      <td>1</td>\n",
       "      <td>0</td>\n",
       "      <td>1</td>\n",
       "      <td>0</td>\n",
       "      <td>0</td>\n",
       "      <td>0</td>\n",
       "      <td>1</td>\n",
       "      <td>0</td>\n",
       "      <td>1</td>\n",
       "      <td>0</td>\n",
       "      <td>...</td>\n",
       "      <td>0</td>\n",
       "      <td>0</td>\n",
       "      <td>1</td>\n",
       "      <td>0</td>\n",
       "      <td>1</td>\n",
       "      <td>0</td>\n",
       "      <td>0</td>\n",
       "      <td>0</td>\n",
       "      <td>0</td>\n",
       "      <td>0</td>\n",
       "    </tr>\n",
       "    <tr>\n",
       "      <th>012compiled</th>\n",
       "      <td>0</td>\n",
       "      <td>0</td>\n",
       "      <td>0</td>\n",
       "      <td>1</td>\n",
       "      <td>0</td>\n",
       "      <td>0</td>\n",
       "      <td>1</td>\n",
       "      <td>0</td>\n",
       "      <td>1</td>\n",
       "      <td>0</td>\n",
       "      <td>...</td>\n",
       "      <td>0</td>\n",
       "      <td>1</td>\n",
       "      <td>2</td>\n",
       "      <td>0</td>\n",
       "      <td>1</td>\n",
       "      <td>0</td>\n",
       "      <td>0</td>\n",
       "      <td>0</td>\n",
       "      <td>1</td>\n",
       "      <td>1</td>\n",
       "    </tr>\n",
       "    <tr>\n",
       "      <th>013compiled</th>\n",
       "      <td>2</td>\n",
       "      <td>0</td>\n",
       "      <td>0</td>\n",
       "      <td>0</td>\n",
       "      <td>0</td>\n",
       "      <td>0</td>\n",
       "      <td>1</td>\n",
       "      <td>1</td>\n",
       "      <td>1</td>\n",
       "      <td>0</td>\n",
       "      <td>...</td>\n",
       "      <td>0</td>\n",
       "      <td>0</td>\n",
       "      <td>1</td>\n",
       "      <td>0</td>\n",
       "      <td>1</td>\n",
       "      <td>0</td>\n",
       "      <td>0</td>\n",
       "      <td>0</td>\n",
       "      <td>0</td>\n",
       "      <td>1</td>\n",
       "    </tr>\n",
       "  </tbody>\n",
       "</table>\n",
       "<p>5 rows × 116231 columns</p>\n",
       "</div>"
      ],
      "text/plain": [
       "             NODE_1000013_length_91_cov_1.802198_37  \\\n",
       "009compiled                                       0   \n",
       "010compiled                                       0   \n",
       "011compiled                                       1   \n",
       "012compiled                                       0   \n",
       "013compiled                                       2   \n",
       "\n",
       "             NODE_1000031_length_98_cov_2.000000_30  \\\n",
       "009compiled                                       1   \n",
       "010compiled                                       1   \n",
       "011compiled                                       0   \n",
       "012compiled                                       0   \n",
       "013compiled                                       0   \n",
       "\n",
       "             NODE_1000037_length_93_cov_2.043011_33  \\\n",
       "009compiled                                       0   \n",
       "010compiled                                       1   \n",
       "011compiled                                       1   \n",
       "012compiled                                       0   \n",
       "013compiled                                       0   \n",
       "\n",
       "             NODE_1000042_length_93_cov_1.118280_100  \\\n",
       "009compiled                                        0   \n",
       "010compiled                                        0   \n",
       "011compiled                                        0   \n",
       "012compiled                                        1   \n",
       "013compiled                                        0   \n",
       "\n",
       "             NODE_1000053_length_94_cov_1.744681_25  \\\n",
       "009compiled                                       0   \n",
       "010compiled                                       0   \n",
       "011compiled                                       0   \n",
       "012compiled                                       0   \n",
       "013compiled                                       0   \n",
       "\n",
       "             NODE_1000061_length_47_cov_1.680851_49  \\\n",
       "009compiled                                       0   \n",
       "010compiled                                       0   \n",
       "011compiled                                       0   \n",
       "012compiled                                       0   \n",
       "013compiled                                       0   \n",
       "\n",
       "             NODE_1000118_length_95_cov_2.000000_24  \\\n",
       "009compiled                                       1   \n",
       "010compiled                                       0   \n",
       "011compiled                                       1   \n",
       "012compiled                                       1   \n",
       "013compiled                                       1   \n",
       "\n",
       "             NODE_1000128_length_98_cov_1.714286_53  \\\n",
       "009compiled                                       0   \n",
       "010compiled                                       0   \n",
       "011compiled                                       0   \n",
       "012compiled                                       0   \n",
       "013compiled                                       1   \n",
       "\n",
       "             NODE_1000180_length_98_cov_2.204082_17  \\\n",
       "009compiled                                       1   \n",
       "010compiled                                       0   \n",
       "011compiled                                       1   \n",
       "012compiled                                       1   \n",
       "013compiled                                       1   \n",
       "\n",
       "             NODE_1000188_length_67_cov_1.223881_65  \\\n",
       "009compiled                                       0   \n",
       "010compiled                                       0   \n",
       "011compiled                                       0   \n",
       "012compiled                                       0   \n",
       "013compiled                                       0   \n",
       "\n",
       "                             ...                    \\\n",
       "009compiled                  ...                     \n",
       "010compiled                  ...                     \n",
       "011compiled                  ...                     \n",
       "012compiled                  ...                     \n",
       "013compiled                  ...                     \n",
       "\n",
       "             NODE_999880_length_98_cov_1.683674_22  \\\n",
       "009compiled                                      0   \n",
       "010compiled                                      0   \n",
       "011compiled                                      0   \n",
       "012compiled                                      0   \n",
       "013compiled                                      0   \n",
       "\n",
       "             NODE_999886_length_96_cov_1.020833_38  \\\n",
       "009compiled                                      0   \n",
       "010compiled                                      0   \n",
       "011compiled                                      0   \n",
       "012compiled                                      1   \n",
       "013compiled                                      0   \n",
       "\n",
       "             NODE_999899_length_96_cov_1.000000_91  \\\n",
       "009compiled                                      1   \n",
       "010compiled                                      0   \n",
       "011compiled                                      1   \n",
       "012compiled                                      2   \n",
       "013compiled                                      1   \n",
       "\n",
       "             NODE_999927_length_95_cov_2.000000_55  \\\n",
       "009compiled                                      0   \n",
       "010compiled                                      0   \n",
       "011compiled                                      0   \n",
       "012compiled                                      0   \n",
       "013compiled                                      0   \n",
       "\n",
       "             NODE_999933_length_76_cov_1.236842_76  \\\n",
       "009compiled                                      1   \n",
       "010compiled                                      1   \n",
       "011compiled                                      1   \n",
       "012compiled                                      1   \n",
       "013compiled                                      1   \n",
       "\n",
       "             NODE_999938_length_98_cov_1.142857_98  \\\n",
       "009compiled                                      1   \n",
       "010compiled                                      1   \n",
       "011compiled                                      0   \n",
       "012compiled                                      0   \n",
       "013compiled                                      0   \n",
       "\n",
       "             NODE_999941_length_107_cov_1.196262_25  \\\n",
       "009compiled                                       0   \n",
       "010compiled                                       0   \n",
       "011compiled                                       0   \n",
       "012compiled                                       0   \n",
       "013compiled                                       0   \n",
       "\n",
       "             NODE_999958_length_91_cov_1.021978_17  \\\n",
       "009compiled                                      0   \n",
       "010compiled                                      0   \n",
       "011compiled                                      0   \n",
       "012compiled                                      0   \n",
       "013compiled                                      0   \n",
       "\n",
       "             NODE_999968_length_75_cov_1.680000_37  \\\n",
       "009compiled                                      0   \n",
       "010compiled                                      0   \n",
       "011compiled                                      0   \n",
       "012compiled                                      1   \n",
       "013compiled                                      0   \n",
       "\n",
       "             NODE_999969_length_92_cov_4.271739_37  \n",
       "009compiled                                      1  \n",
       "010compiled                                      0  \n",
       "011compiled                                      0  \n",
       "012compiled                                      1  \n",
       "013compiled                                      1  \n",
       "\n",
       "[5 rows x 116231 columns]"
      ]
     },
     "execution_count": 73,
     "metadata": {},
     "output_type": "execute_result"
    }
   ],
   "source": [
    "cols = [col for col in merged.columns if 'NODE' in col]\n",
    "snpmat = merged[cols]\n",
    "snpmat.head()"
   ]
  },
  {
   "cell_type": "code",
   "execution_count": 74,
   "metadata": {
    "collapsed": false
   },
   "outputs": [
    {
     "data": {
      "text/html": [
       "<div>\n",
       "<table border=\"1\" class=\"dataframe\">\n",
       "  <thead>\n",
       "    <tr style=\"text-align: right;\">\n",
       "      <th></th>\n",
       "      <th>0</th>\n",
       "    </tr>\n",
       "  </thead>\n",
       "  <tbody>\n",
       "    <tr>\n",
       "      <th>0</th>\n",
       "      <td>Dicks_Pass</td>\n",
       "    </tr>\n",
       "    <tr>\n",
       "      <th>1</th>\n",
       "      <td>Dicks_Pass</td>\n",
       "    </tr>\n",
       "    <tr>\n",
       "      <th>2</th>\n",
       "      <td>Dicks_Pass</td>\n",
       "    </tr>\n",
       "    <tr>\n",
       "      <th>3</th>\n",
       "      <td>Dicks_Pass</td>\n",
       "    </tr>\n",
       "    <tr>\n",
       "      <th>4</th>\n",
       "      <td>Dicks_Pass</td>\n",
       "    </tr>\n",
       "  </tbody>\n",
       "</table>\n",
       "</div>"
      ],
      "text/plain": [
       "            0\n",
       "0  Dicks_Pass\n",
       "1  Dicks_Pass\n",
       "2  Dicks_Pass\n",
       "3  Dicks_Pass\n",
       "4  Dicks_Pass"
      ]
     },
     "execution_count": 74,
     "metadata": {},
     "output_type": "execute_result"
    }
   ],
   "source": [
    "pops = pd.DataFrame(merged['pop'].tolist())\n",
    "pops.head()"
   ]
  },
  {
   "cell_type": "code",
   "execution_count": 75,
   "metadata": {
    "collapsed": false
   },
   "outputs": [
    {
     "name": "stdout",
     "output_type": "stream",
     "text": [
      "making 1st snpmat\n",
      "making 2nd snpmat\n",
      "making popfile\n",
      "making locfile\n"
     ]
    }
   ],
   "source": [
    "filE = '/home/lindb/wbp/OutFLANK/SNPmat_HEADERIDX.txt'\n",
    "filE2 = '/home/lindb/wbp/OutFLANK/SNPmat_noHEADERIDX.txt'\n",
    "print 'making 1st snpmat' #so I don't have to watch ls -lt\n",
    "snpmat.to_csv(filE,header=True,index=True,sep=\"\\t\")\n",
    "print 'making 2nd snpmat'\n",
    "snpmat.to_csv(filE2,header=None,index=False,sep=\"\\t\")\n",
    "\n",
    "popfile = '/home/lindb/wbp/OutFLANK/SNPmat_popNames.txt'\n",
    "print 'making popfile'\n",
    "pops.to_csv(popfile,header=False,index=False,sep=\"\\t\")\n",
    "\n",
    "print 'making locfile'\n",
    "locfile = '/home/lindb/wbp/OutFLANK/SNPmat_locusNames.txt'\n",
    "cols = pd.DataFrame(snpmat.columns)\n",
    "cols.to_csv(locfile,header=False,index=False,sep=\"\\t\")"
   ]
  },
  {
   "cell_type": "markdown",
   "metadata": {},
   "source": [
    "# Put into R\n",
    "\n",
    "```R\n",
    "\n",
    "library(OutFLANK)\n",
    "library(data.table)\n",
    "\n",
    "SNPmat = data.frame(fread('/home/lindb/wbp/OutFLANK/SNPmat_noHEADERIDX.txt',header=F,sep=\"\\t\"))\n",
    "\n",
    "locusNames = read.csv('/home/lindb/wbp/OutFLANK/SNPmat_locusNames.txt',header=F,sep=\"\\t\")\n",
    "\n",
    "popNames = read.csv('/home/lindb/wbp/OutFLANK/SNPmat_popNames.txt',header=F,sep=\"\\t\")\n",
    "\n",
    "FstDataFrame = MakeDiploidFSTMat(SNPmat,locusNames,popNames)\n",
    "\n",
    "out = OutFLANK(FstDataFrame = FstDataFrame,NumberOfSamples = 8)\n",
    "\n",
    "df = out$results\n",
    "\n",
    "outliers = df[which(df$OutlierFlag == 'TRUE'),]\n",
    "\n",
    "loci = outliers$LocusName\n",
    "\n",
    "write.table(df,'/home/lindb/wbp/OutFLANK/OutFLANK_results.txt',row.names=F,col.names=T,sep='\\t')\n",
    "\n",
    "write.table(loci,'/home/lindb/wbp/OutFLANK/OutFLANK_snps.txt',row.names=F,sep='\\t')\n",
    "\n",
    "print(\"DONE!\")\n",
    "\n",
    "\n",
    "\n",
    "```"
   ]
  },
  {
   "cell_type": "code",
   "execution_count": 6,
   "metadata": {
    "collapsed": false
   },
   "outputs": [
    {
     "data": {
      "text/html": [
       "<div>\n",
       "<table border=\"1\" class=\"dataframe\">\n",
       "  <thead>\n",
       "    <tr style=\"text-align: right;\">\n",
       "      <th></th>\n",
       "      <th>x</th>\n",
       "    </tr>\n",
       "  </thead>\n",
       "  <tbody>\n",
       "    <tr>\n",
       "      <th>0</th>\n",
       "      <td>NODE_1001690_length_90_cov_2.000000_37</td>\n",
       "    </tr>\n",
       "    <tr>\n",
       "      <th>1</th>\n",
       "      <td>NODE_1012475_length_88_cov_1.022727_43</td>\n",
       "    </tr>\n",
       "    <tr>\n",
       "      <th>2</th>\n",
       "      <td>NODE_1025193_length_75_cov_1.093333_47</td>\n",
       "    </tr>\n",
       "    <tr>\n",
       "      <th>3</th>\n",
       "      <td>NODE_1030410_length_81_cov_1.259259_40</td>\n",
       "    </tr>\n",
       "    <tr>\n",
       "      <th>4</th>\n",
       "      <td>NODE_1038234_length_92_cov_1.000000_53</td>\n",
       "    </tr>\n",
       "  </tbody>\n",
       "</table>\n",
       "</div>"
      ],
      "text/plain": [
       "                                        x\n",
       "0  NODE_1001690_length_90_cov_2.000000_37\n",
       "1  NODE_1012475_length_88_cov_1.022727_43\n",
       "2  NODE_1025193_length_75_cov_1.093333_47\n",
       "3  NODE_1030410_length_81_cov_1.259259_40\n",
       "4  NODE_1038234_length_92_cov_1.000000_53"
      ]
     },
     "execution_count": 6,
     "metadata": {},
     "output_type": "execute_result"
    }
   ],
   "source": [
    "snps = pd.read_csv('/home/lindb/wbp/OutFLANK/OutFLANK_snps.txt',header=0,sep=\"\\t\")\n",
    "snps.head()"
   ]
  },
  {
   "cell_type": "code",
   "execution_count": 510,
   "metadata": {
    "collapsed": false
   },
   "outputs": [
    {
     "data": {
      "text/html": [
       "<div>\n",
       "<table border=\"1\" class=\"dataframe\">\n",
       "  <thead>\n",
       "    <tr style=\"text-align: right;\">\n",
       "      <th></th>\n",
       "      <th>LocusName</th>\n",
       "      <th>He</th>\n",
       "      <th>FST</th>\n",
       "      <th>T1</th>\n",
       "      <th>T2</th>\n",
       "      <th>FSTNoCorr</th>\n",
       "      <th>T1NoCorr</th>\n",
       "      <th>T2NoCorr</th>\n",
       "      <th>meanAlleleFreq</th>\n",
       "      <th>indexOrder</th>\n",
       "      <th>GoodH</th>\n",
       "      <th>qvalues</th>\n",
       "      <th>pvalues</th>\n",
       "      <th>pvaluesRightTail</th>\n",
       "      <th>OutlierFlag</th>\n",
       "    </tr>\n",
       "  </thead>\n",
       "  <tbody>\n",
       "    <tr>\n",
       "      <th>0</th>\n",
       "      <td>NODE_1000013_length_91_cov_1.802198_37</td>\n",
       "      <td>0.212569</td>\n",
       "      <td>-0.007865</td>\n",
       "      <td>-0.000837</td>\n",
       "      <td>0.106477</td>\n",
       "      <td>0.015786</td>\n",
       "      <td>0.001682</td>\n",
       "      <td>0.106519</td>\n",
       "      <td>0.879098</td>\n",
       "      <td>1</td>\n",
       "      <td>goodH</td>\n",
       "      <td>0.852193</td>\n",
       "      <td>0.852652</td>\n",
       "      <td>0.573674</td>\n",
       "      <td>False</td>\n",
       "    </tr>\n",
       "    <tr>\n",
       "      <th>1</th>\n",
       "      <td>NODE_1000031_length_98_cov_2.000000_30</td>\n",
       "      <td>0.257290</td>\n",
       "      <td>0.012300</td>\n",
       "      <td>0.001589</td>\n",
       "      <td>0.129188</td>\n",
       "      <td>0.032527</td>\n",
       "      <td>0.004204</td>\n",
       "      <td>0.129231</td>\n",
       "      <td>0.848361</td>\n",
       "      <td>2</td>\n",
       "      <td>goodH</td>\n",
       "      <td>0.724113</td>\n",
       "      <td>0.236842</td>\n",
       "      <td>0.118421</td>\n",
       "      <td>False</td>\n",
       "    </tr>\n",
       "    <tr>\n",
       "      <th>2</th>\n",
       "      <td>NODE_1000037_length_93_cov_2.043011_33</td>\n",
       "      <td>0.215668</td>\n",
       "      <td>-0.009567</td>\n",
       "      <td>-0.001032</td>\n",
       "      <td>0.107910</td>\n",
       "      <td>0.006997</td>\n",
       "      <td>0.000755</td>\n",
       "      <td>0.107939</td>\n",
       "      <td>0.877049</td>\n",
       "      <td>3</td>\n",
       "      <td>goodH</td>\n",
       "      <td>0.882429</td>\n",
       "      <td>0.163997</td>\n",
       "      <td>0.918002</td>\n",
       "      <td>False</td>\n",
       "    </tr>\n",
       "    <tr>\n",
       "      <th>3</th>\n",
       "      <td>NODE_1000042_length_93_cov_1.118280_100</td>\n",
       "      <td>0.078608</td>\n",
       "      <td>0.000216</td>\n",
       "      <td>0.000009</td>\n",
       "      <td>0.039383</td>\n",
       "      <td>0.016198</td>\n",
       "      <td>0.000638</td>\n",
       "      <td>0.039393</td>\n",
       "      <td>0.959016</td>\n",
       "      <td>4</td>\n",
       "      <td>lowH</td>\n",
       "      <td>0.848006</td>\n",
       "      <td>0.886690</td>\n",
       "      <td>0.556655</td>\n",
       "      <td>False</td>\n",
       "    </tr>\n",
       "    <tr>\n",
       "      <th>4</th>\n",
       "      <td>NODE_1000053_length_94_cov_1.744681_25</td>\n",
       "      <td>0.047971</td>\n",
       "      <td>-0.005962</td>\n",
       "      <td>-0.000143</td>\n",
       "      <td>0.024014</td>\n",
       "      <td>0.010505</td>\n",
       "      <td>0.000252</td>\n",
       "      <td>0.024021</td>\n",
       "      <td>0.975410</td>\n",
       "      <td>5</td>\n",
       "      <td>lowH</td>\n",
       "      <td>0.872100</td>\n",
       "      <td>0.408936</td>\n",
       "      <td>0.795532</td>\n",
       "      <td>False</td>\n",
       "    </tr>\n",
       "  </tbody>\n",
       "</table>\n",
       "</div>"
      ],
      "text/plain": [
       "                                 LocusName        He       FST        T1  \\\n",
       "0   NODE_1000013_length_91_cov_1.802198_37  0.212569 -0.007865 -0.000837   \n",
       "1   NODE_1000031_length_98_cov_2.000000_30  0.257290  0.012300  0.001589   \n",
       "2   NODE_1000037_length_93_cov_2.043011_33  0.215668 -0.009567 -0.001032   \n",
       "3  NODE_1000042_length_93_cov_1.118280_100  0.078608  0.000216  0.000009   \n",
       "4   NODE_1000053_length_94_cov_1.744681_25  0.047971 -0.005962 -0.000143   \n",
       "\n",
       "         T2  FSTNoCorr  T1NoCorr  T2NoCorr  meanAlleleFreq  indexOrder  GoodH  \\\n",
       "0  0.106477   0.015786  0.001682  0.106519        0.879098           1  goodH   \n",
       "1  0.129188   0.032527  0.004204  0.129231        0.848361           2  goodH   \n",
       "2  0.107910   0.006997  0.000755  0.107939        0.877049           3  goodH   \n",
       "3  0.039383   0.016198  0.000638  0.039393        0.959016           4   lowH   \n",
       "4  0.024014   0.010505  0.000252  0.024021        0.975410           5   lowH   \n",
       "\n",
       "    qvalues   pvalues  pvaluesRightTail OutlierFlag  \n",
       "0  0.852193  0.852652          0.573674       False  \n",
       "1  0.724113  0.236842          0.118421       False  \n",
       "2  0.882429  0.163997          0.918002       False  \n",
       "3  0.848006  0.886690          0.556655       False  \n",
       "4  0.872100  0.408936          0.795532       False  "
      ]
     },
     "execution_count": 510,
     "metadata": {},
     "output_type": "execute_result"
    }
   ],
   "source": [
    "res = pd.read_csv('/home/lindb/wbp/OutFLANK/OutFLANK_results.txt',header=0,sep='\\t')\n",
    "res.head()"
   ]
  },
  {
   "cell_type": "code",
   "execution_count": 517,
   "metadata": {
    "collapsed": false
   },
   "outputs": [
    {
     "data": {
      "text/plain": [
       "7.7074811286143992e-06"
      ]
     },
     "execution_count": 517,
     "metadata": {},
     "output_type": "execute_result"
    }
   ],
   "source": [
    "fstnocorr = res['FSTNoCorr'].tolist()\n",
    "min(fstnocorr)"
   ]
  },
  {
   "cell_type": "code",
   "execution_count": 159,
   "metadata": {
    "collapsed": false
   },
   "outputs": [
    {
     "data": {
      "text/plain": [
       "110"
      ]
     },
     "execution_count": 159,
     "metadata": {},
     "output_type": "execute_result"
    }
   ],
   "source": [
    "len(snps.index)"
   ]
  },
  {
   "cell_type": "markdown",
   "metadata": {
    "collapsed": true
   },
   "source": [
    "# are outliers caused by effects from missing data?"
   ]
  },
  {
   "cell_type": "code",
   "execution_count": 182,
   "metadata": {
    "collapsed": false
   },
   "outputs": [
    {
     "data": {
      "text/html": [
       "<div>\n",
       "<table border=\"1\" class=\"dataframe\">\n",
       "  <thead>\n",
       "    <tr style=\"text-align: right;\">\n",
       "      <th></th>\n",
       "      <th>perc data</th>\n",
       "    </tr>\n",
       "  </thead>\n",
       "  <tbody>\n",
       "    <tr>\n",
       "      <th>NODE_1000013_length_91_cov_1.802198_37</th>\n",
       "      <td>0.692623</td>\n",
       "    </tr>\n",
       "    <tr>\n",
       "      <th>NODE_1000031_length_98_cov_2.000000_30</th>\n",
       "      <td>0.635246</td>\n",
       "    </tr>\n",
       "    <tr>\n",
       "      <th>NODE_1000037_length_93_cov_2.043011_33</th>\n",
       "      <td>0.688525</td>\n",
       "    </tr>\n",
       "    <tr>\n",
       "      <th>NODE_1000042_length_93_cov_1.118280_100</th>\n",
       "      <td>0.528689</td>\n",
       "    </tr>\n",
       "    <tr>\n",
       "      <th>NODE_1000053_length_94_cov_1.744681_25</th>\n",
       "      <td>0.831967</td>\n",
       "    </tr>\n",
       "  </tbody>\n",
       "</table>\n",
       "</div>"
      ],
      "text/plain": [
       "                                         perc data\n",
       "NODE_1000013_length_91_cov_1.802198_37    0.692623\n",
       "NODE_1000031_length_98_cov_2.000000_30    0.635246\n",
       "NODE_1000037_length_93_cov_2.043011_33    0.688525\n",
       "NODE_1000042_length_93_cov_1.118280_100   0.528689\n",
       "NODE_1000053_length_94_cov_1.744681_25    0.831967"
      ]
     },
     "execution_count": 182,
     "metadata": {},
     "output_type": "execute_result"
    }
   ],
   "source": [
    "#I want 'missing' because the 'imputed' will all have perc data (%missing data at a snp) == 1.0\n",
    "#this file was made in 07_hierfstat_missing.ipynb\n",
    "percdata = pd.read_csv('/home/lindb/wbp/hierfstat/missing/missing_hierarchical_Fstats.txt',header=0,index_col=0,sep=\"\\t\")\n",
    "percdata = pd.DataFrame(percdata['perc data'])\n",
    "percdata.head()"
   ]
  },
  {
   "cell_type": "code",
   "execution_count": 7,
   "metadata": {
    "collapsed": false
   },
   "outputs": [
    {
     "data": {
      "text/html": [
       "<div>\n",
       "<table border=\"1\" class=\"dataframe\">\n",
       "  <thead>\n",
       "    <tr style=\"text-align: right;\">\n",
       "      <th></th>\n",
       "      <th>x</th>\n",
       "    </tr>\n",
       "  </thead>\n",
       "  <tbody>\n",
       "    <tr>\n",
       "      <th>NODE_1001690_length_90_cov_2.000000_37</th>\n",
       "      <td>NODE_1001690_length_90_cov_2.000000_37</td>\n",
       "    </tr>\n",
       "    <tr>\n",
       "      <th>NODE_1012475_length_88_cov_1.022727_43</th>\n",
       "      <td>NODE_1012475_length_88_cov_1.022727_43</td>\n",
       "    </tr>\n",
       "    <tr>\n",
       "      <th>NODE_1025193_length_75_cov_1.093333_47</th>\n",
       "      <td>NODE_1025193_length_75_cov_1.093333_47</td>\n",
       "    </tr>\n",
       "    <tr>\n",
       "      <th>NODE_1030410_length_81_cov_1.259259_40</th>\n",
       "      <td>NODE_1030410_length_81_cov_1.259259_40</td>\n",
       "    </tr>\n",
       "    <tr>\n",
       "      <th>NODE_1038234_length_92_cov_1.000000_53</th>\n",
       "      <td>NODE_1038234_length_92_cov_1.000000_53</td>\n",
       "    </tr>\n",
       "  </tbody>\n",
       "</table>\n",
       "</div>"
      ],
      "text/plain": [
       "                                                                             x\n",
       "NODE_1001690_length_90_cov_2.000000_37  NODE_1001690_length_90_cov_2.000000_37\n",
       "NODE_1012475_length_88_cov_1.022727_43  NODE_1012475_length_88_cov_1.022727_43\n",
       "NODE_1025193_length_75_cov_1.093333_47  NODE_1025193_length_75_cov_1.093333_47\n",
       "NODE_1030410_length_81_cov_1.259259_40  NODE_1030410_length_81_cov_1.259259_40\n",
       "NODE_1038234_length_92_cov_1.000000_53  NODE_1038234_length_92_cov_1.000000_53"
      ]
     },
     "execution_count": 7,
     "metadata": {},
     "output_type": "execute_result"
    }
   ],
   "source": [
    "#use as index to merge\n",
    "snps.index = [x for x in snps['x']]\n",
    "snps.head()"
   ]
  },
  {
   "cell_type": "code",
   "execution_count": 184,
   "metadata": {
    "collapsed": false
   },
   "outputs": [
    {
     "data": {
      "text/html": [
       "<div>\n",
       "<table border=\"1\" class=\"dataframe\">\n",
       "  <thead>\n",
       "    <tr style=\"text-align: right;\">\n",
       "      <th></th>\n",
       "      <th>x</th>\n",
       "      <th>perc data</th>\n",
       "    </tr>\n",
       "  </thead>\n",
       "  <tbody>\n",
       "    <tr>\n",
       "      <th>NODE_1001690_length_90_cov_2.000000_37</th>\n",
       "      <td>NODE_1001690_length_90_cov_2.000000_37</td>\n",
       "      <td>0.500000</td>\n",
       "    </tr>\n",
       "    <tr>\n",
       "      <th>NODE_1012475_length_88_cov_1.022727_43</th>\n",
       "      <td>NODE_1012475_length_88_cov_1.022727_43</td>\n",
       "      <td>0.647541</td>\n",
       "    </tr>\n",
       "    <tr>\n",
       "      <th>NODE_1025193_length_75_cov_1.093333_47</th>\n",
       "      <td>NODE_1025193_length_75_cov_1.093333_47</td>\n",
       "      <td>0.606557</td>\n",
       "    </tr>\n",
       "    <tr>\n",
       "      <th>NODE_1030410_length_81_cov_1.259259_40</th>\n",
       "      <td>NODE_1030410_length_81_cov_1.259259_40</td>\n",
       "      <td>0.520492</td>\n",
       "    </tr>\n",
       "    <tr>\n",
       "      <th>NODE_1038234_length_92_cov_1.000000_53</th>\n",
       "      <td>NODE_1038234_length_92_cov_1.000000_53</td>\n",
       "      <td>0.778689</td>\n",
       "    </tr>\n",
       "  </tbody>\n",
       "</table>\n",
       "</div>"
      ],
      "text/plain": [
       "                                                                             x  \\\n",
       "NODE_1001690_length_90_cov_2.000000_37  NODE_1001690_length_90_cov_2.000000_37   \n",
       "NODE_1012475_length_88_cov_1.022727_43  NODE_1012475_length_88_cov_1.022727_43   \n",
       "NODE_1025193_length_75_cov_1.093333_47  NODE_1025193_length_75_cov_1.093333_47   \n",
       "NODE_1030410_length_81_cov_1.259259_40  NODE_1030410_length_81_cov_1.259259_40   \n",
       "NODE_1038234_length_92_cov_1.000000_53  NODE_1038234_length_92_cov_1.000000_53   \n",
       "\n",
       "                                        perc data  \n",
       "NODE_1001690_length_90_cov_2.000000_37   0.500000  \n",
       "NODE_1012475_length_88_cov_1.022727_43   0.647541  \n",
       "NODE_1025193_length_75_cov_1.093333_47   0.606557  \n",
       "NODE_1030410_length_81_cov_1.259259_40   0.520492  \n",
       "NODE_1038234_length_92_cov_1.000000_53   0.778689  "
      ]
     },
     "execution_count": 184,
     "metadata": {},
     "output_type": "execute_result"
    }
   ],
   "source": [
    "merged = pd.merge(snps,percdata,left_index=True,right_index=True)\n",
    "merged.head()"
   ]
  },
  {
   "cell_type": "code",
   "execution_count": 45,
   "metadata": {
    "collapsed": false
   },
   "outputs": [
    {
     "data": {
      "text/plain": [
       "110"
      ]
     },
     "execution_count": 45,
     "metadata": {},
     "output_type": "execute_result"
    }
   ],
   "source": [
    "len(merged.index)"
   ]
  },
  {
   "cell_type": "code",
   "execution_count": 46,
   "metadata": {
    "collapsed": false
   },
   "outputs": [
    {
     "data": {
      "text/plain": [
       "(array([ 11.,  15.,  20.,  17.,  10.,  13.,  11.,   9.,   2.,   2.]),\n",
       " array([ 0.5       ,  0.53729508,  0.57459016,  0.61188525,  0.64918033,\n",
       "         0.68647541,  0.72377049,  0.76106557,  0.79836066,  0.83565574,\n",
       "         0.87295082]),\n",
       " <a list of 10 Patch objects>)"
      ]
     },
     "execution_count": 46,
     "metadata": {},
     "output_type": "execute_result"
    },
    {
     "data": {
      "image/png": "[encoded data removed]",
      "text/plain": [
       "<matplotlib.figure.Figure at 0x2b8d5ce16ed0>"
      ]
     },
     "metadata": {},
     "output_type": "display_data"
    }
   ],
   "source": [
    "plt.hist(merged['perc data'])"
   ]
  },
  {
   "cell_type": "code",
   "execution_count": 47,
   "metadata": {
    "collapsed": false
   },
   "outputs": [
    {
     "data": {
      "text/plain": [
       "(array([ 16415.,  16507.,  17156.,  16970.,  15864.,  13817.,  10528.,\n",
       "          6669.,   2228.,     77.]),\n",
       " array([ 0.5       ,  0.54139344,  0.58278689,  0.62418033,  0.66557377,\n",
       "         0.70696721,  0.74836066,  0.7897541 ,  0.83114754,  0.87254098,\n",
       "         0.91393443]),\n",
       " <a list of 10 Patch objects>)"
      ]
     },
     "execution_count": 47,
     "metadata": {},
     "output_type": "execute_result"
    },
    {
     "data": {
      "image/png": "[encoded data removed]",
      "text/plain": [
       "<matplotlib.figure.Figure at 0x2b8d97228e10>"
      ]
     },
     "metadata": {},
     "output_type": "display_data"
    }
   ],
   "source": [
    "plt.hist(percdata['perc data'])"
   ]
  },
  {
   "cell_type": "code",
   "execution_count": 168,
   "metadata": {
    "collapsed": false
   },
   "outputs": [
    {
     "data": {
      "text/html": [
       "<div>\n",
       "<table border=\"1\" class=\"dataframe\">\n",
       "  <thead>\n",
       "    <tr style=\"text-align: right;\">\n",
       "      <th></th>\n",
       "      <th>He</th>\n",
       "      <th>FST</th>\n",
       "      <th>T1</th>\n",
       "      <th>T2</th>\n",
       "      <th>FSTNoCorr</th>\n",
       "      <th>T1NoCorr</th>\n",
       "      <th>T2NoCorr</th>\n",
       "      <th>meanAlleleFreq</th>\n",
       "      <th>indexOrder</th>\n",
       "      <th>GoodH</th>\n",
       "      <th>qvalues</th>\n",
       "      <th>pvalues</th>\n",
       "      <th>pvaluesRightTail</th>\n",
       "      <th>OutlierFlag</th>\n",
       "    </tr>\n",
       "    <tr>\n",
       "      <th>LocusName</th>\n",
       "      <th></th>\n",
       "      <th></th>\n",
       "      <th></th>\n",
       "      <th></th>\n",
       "      <th></th>\n",
       "      <th></th>\n",
       "      <th></th>\n",
       "      <th></th>\n",
       "      <th></th>\n",
       "      <th></th>\n",
       "      <th></th>\n",
       "      <th></th>\n",
       "      <th></th>\n",
       "      <th></th>\n",
       "    </tr>\n",
       "  </thead>\n",
       "  <tbody>\n",
       "    <tr>\n",
       "      <th>NODE_1000013_length_91_cov_1.802198_37</th>\n",
       "      <td>0.212569</td>\n",
       "      <td>-0.007865</td>\n",
       "      <td>-0.000837</td>\n",
       "      <td>0.106477</td>\n",
       "      <td>0.015786</td>\n",
       "      <td>0.001682</td>\n",
       "      <td>0.106519</td>\n",
       "      <td>0.879098</td>\n",
       "      <td>1</td>\n",
       "      <td>goodH</td>\n",
       "      <td>0.852193</td>\n",
       "      <td>0.852652</td>\n",
       "      <td>0.573674</td>\n",
       "      <td>False</td>\n",
       "    </tr>\n",
       "    <tr>\n",
       "      <th>NODE_1000031_length_98_cov_2.000000_30</th>\n",
       "      <td>0.257290</td>\n",
       "      <td>0.012300</td>\n",
       "      <td>0.001589</td>\n",
       "      <td>0.129188</td>\n",
       "      <td>0.032527</td>\n",
       "      <td>0.004204</td>\n",
       "      <td>0.129231</td>\n",
       "      <td>0.848361</td>\n",
       "      <td>2</td>\n",
       "      <td>goodH</td>\n",
       "      <td>0.724113</td>\n",
       "      <td>0.236842</td>\n",
       "      <td>0.118421</td>\n",
       "      <td>False</td>\n",
       "    </tr>\n",
       "    <tr>\n",
       "      <th>NODE_1000037_length_93_cov_2.043011_33</th>\n",
       "      <td>0.215668</td>\n",
       "      <td>-0.009567</td>\n",
       "      <td>-0.001032</td>\n",
       "      <td>0.107910</td>\n",
       "      <td>0.006997</td>\n",
       "      <td>0.000755</td>\n",
       "      <td>0.107939</td>\n",
       "      <td>0.877049</td>\n",
       "      <td>3</td>\n",
       "      <td>goodH</td>\n",
       "      <td>0.882429</td>\n",
       "      <td>0.163997</td>\n",
       "      <td>0.918002</td>\n",
       "      <td>False</td>\n",
       "    </tr>\n",
       "    <tr>\n",
       "      <th>NODE_1000042_length_93_cov_1.118280_100</th>\n",
       "      <td>0.078608</td>\n",
       "      <td>0.000216</td>\n",
       "      <td>0.000009</td>\n",
       "      <td>0.039383</td>\n",
       "      <td>0.016198</td>\n",
       "      <td>0.000638</td>\n",
       "      <td>0.039393</td>\n",
       "      <td>0.959016</td>\n",
       "      <td>4</td>\n",
       "      <td>lowH</td>\n",
       "      <td>0.848006</td>\n",
       "      <td>0.886690</td>\n",
       "      <td>0.556655</td>\n",
       "      <td>False</td>\n",
       "    </tr>\n",
       "    <tr>\n",
       "      <th>NODE_1000053_length_94_cov_1.744681_25</th>\n",
       "      <td>0.047971</td>\n",
       "      <td>-0.005962</td>\n",
       "      <td>-0.000143</td>\n",
       "      <td>0.024014</td>\n",
       "      <td>0.010505</td>\n",
       "      <td>0.000252</td>\n",
       "      <td>0.024021</td>\n",
       "      <td>0.975410</td>\n",
       "      <td>5</td>\n",
       "      <td>lowH</td>\n",
       "      <td>0.872100</td>\n",
       "      <td>0.408936</td>\n",
       "      <td>0.795532</td>\n",
       "      <td>False</td>\n",
       "    </tr>\n",
       "  </tbody>\n",
       "</table>\n",
       "</div>"
      ],
      "text/plain": [
       "                                               He       FST        T1  \\\n",
       "LocusName                                                               \n",
       "NODE_1000013_length_91_cov_1.802198_37   0.212569 -0.007865 -0.000837   \n",
       "NODE_1000031_length_98_cov_2.000000_30   0.257290  0.012300  0.001589   \n",
       "NODE_1000037_length_93_cov_2.043011_33   0.215668 -0.009567 -0.001032   \n",
       "NODE_1000042_length_93_cov_1.118280_100  0.078608  0.000216  0.000009   \n",
       "NODE_1000053_length_94_cov_1.744681_25   0.047971 -0.005962 -0.000143   \n",
       "\n",
       "                                               T2  FSTNoCorr  T1NoCorr  \\\n",
       "LocusName                                                                \n",
       "NODE_1000013_length_91_cov_1.802198_37   0.106477   0.015786  0.001682   \n",
       "NODE_1000031_length_98_cov_2.000000_30   0.129188   0.032527  0.004204   \n",
       "NODE_1000037_length_93_cov_2.043011_33   0.107910   0.006997  0.000755   \n",
       "NODE_1000042_length_93_cov_1.118280_100  0.039383   0.016198  0.000638   \n",
       "NODE_1000053_length_94_cov_1.744681_25   0.024014   0.010505  0.000252   \n",
       "\n",
       "                                         T2NoCorr  meanAlleleFreq  indexOrder  \\\n",
       "LocusName                                                                       \n",
       "NODE_1000013_length_91_cov_1.802198_37   0.106519        0.879098           1   \n",
       "NODE_1000031_length_98_cov_2.000000_30   0.129231        0.848361           2   \n",
       "NODE_1000037_length_93_cov_2.043011_33   0.107939        0.877049           3   \n",
       "NODE_1000042_length_93_cov_1.118280_100  0.039393        0.959016           4   \n",
       "NODE_1000053_length_94_cov_1.744681_25   0.024021        0.975410           5   \n",
       "\n",
       "                                         GoodH   qvalues   pvalues  \\\n",
       "LocusName                                                            \n",
       "NODE_1000013_length_91_cov_1.802198_37   goodH  0.852193  0.852652   \n",
       "NODE_1000031_length_98_cov_2.000000_30   goodH  0.724113  0.236842   \n",
       "NODE_1000037_length_93_cov_2.043011_33   goodH  0.882429  0.163997   \n",
       "NODE_1000042_length_93_cov_1.118280_100   lowH  0.848006  0.886690   \n",
       "NODE_1000053_length_94_cov_1.744681_25    lowH  0.872100  0.408936   \n",
       "\n",
       "                                         pvaluesRightTail OutlierFlag  \n",
       "LocusName                                                              \n",
       "NODE_1000013_length_91_cov_1.802198_37           0.573674       False  \n",
       "NODE_1000031_length_98_cov_2.000000_30           0.118421       False  \n",
       "NODE_1000037_length_93_cov_2.043011_33           0.918002       False  \n",
       "NODE_1000042_length_93_cov_1.118280_100          0.556655       False  \n",
       "NODE_1000053_length_94_cov_1.744681_25           0.795532       False  "
      ]
     },
     "execution_count": 168,
     "metadata": {},
     "output_type": "execute_result"
    }
   ],
   "source": [
    "results = pd.read_csv('/home/lindb/wbp/OutFLANK/OutFLANK_results.txt',header=0,index_col='LocusName',sep=\"\\t\")\n",
    "results.head()"
   ]
  },
  {
   "cell_type": "code",
   "execution_count": 169,
   "metadata": {
    "collapsed": false
   },
   "outputs": [
    {
     "data": {
      "text/plain": [
       "array([False,  True], dtype=bool)"
      ]
     },
     "execution_count": 169,
     "metadata": {},
     "output_type": "execute_result"
    }
   ],
   "source": [
    "np.unique(results['OutlierFlag'])"
   ]
  },
  {
   "cell_type": "code",
   "execution_count": 170,
   "metadata": {
    "collapsed": false
   },
   "outputs": [
    {
     "data": {
      "text/plain": [
       "110"
      ]
     },
     "execution_count": 170,
     "metadata": {},
     "output_type": "execute_result"
    }
   ],
   "source": [
    "trues = results[results[u'OutlierFlag'] == True]\n",
    "len(trues.index)"
   ]
  },
  {
   "cell_type": "code",
   "execution_count": 171,
   "metadata": {
    "collapsed": false
   },
   "outputs": [
    {
     "data": {
      "text/html": [
       "<div>\n",
       "<table border=\"1\" class=\"dataframe\">\n",
       "  <thead>\n",
       "    <tr style=\"text-align: right;\">\n",
       "      <th></th>\n",
       "      <th>He</th>\n",
       "      <th>FST</th>\n",
       "      <th>T1</th>\n",
       "      <th>T2</th>\n",
       "      <th>FSTNoCorr</th>\n",
       "      <th>T1NoCorr</th>\n",
       "      <th>T2NoCorr</th>\n",
       "      <th>meanAlleleFreq</th>\n",
       "      <th>indexOrder</th>\n",
       "      <th>GoodH</th>\n",
       "      <th>qvalues</th>\n",
       "      <th>pvalues</th>\n",
       "      <th>pvaluesRightTail</th>\n",
       "      <th>OutlierFlag</th>\n",
       "    </tr>\n",
       "    <tr>\n",
       "      <th>LocusName</th>\n",
       "      <th></th>\n",
       "      <th></th>\n",
       "      <th></th>\n",
       "      <th></th>\n",
       "      <th></th>\n",
       "      <th></th>\n",
       "      <th></th>\n",
       "      <th></th>\n",
       "      <th></th>\n",
       "      <th></th>\n",
       "      <th></th>\n",
       "      <th></th>\n",
       "      <th></th>\n",
       "      <th></th>\n",
       "    </tr>\n",
       "  </thead>\n",
       "  <tbody>\n",
       "    <tr>\n",
       "      <th>NODE_1001690_length_90_cov_2.000000_37</th>\n",
       "      <td>0.078608</td>\n",
       "      <td>0.079459</td>\n",
       "      <td>0.003163</td>\n",
       "      <td>0.039812</td>\n",
       "      <td>0.092968</td>\n",
       "      <td>0.003702</td>\n",
       "      <td>0.039821</td>\n",
       "      <td>0.959016</td>\n",
       "      <td>119</td>\n",
       "      <td>lowH</td>\n",
       "      <td>0.043708</td>\n",
       "      <td>7.923133e-05</td>\n",
       "      <td>3.961566e-05</td>\n",
       "      <td>True</td>\n",
       "    </tr>\n",
       "    <tr>\n",
       "      <th>NODE_1012475_length_88_cov_1.022727_43</th>\n",
       "      <td>0.398381</td>\n",
       "      <td>0.083805</td>\n",
       "      <td>0.016937</td>\n",
       "      <td>0.202103</td>\n",
       "      <td>0.105861</td>\n",
       "      <td>0.021403</td>\n",
       "      <td>0.202177</td>\n",
       "      <td>0.725410</td>\n",
       "      <td>1088</td>\n",
       "      <td>goodH</td>\n",
       "      <td>0.017647</td>\n",
       "      <td>1.207446e-05</td>\n",
       "      <td>6.037229e-06</td>\n",
       "      <td>True</td>\n",
       "    </tr>\n",
       "    <tr>\n",
       "      <th>NODE_1025193_length_75_cov_1.093333_47</th>\n",
       "      <td>0.464517</td>\n",
       "      <td>0.105168</td>\n",
       "      <td>0.024855</td>\n",
       "      <td>0.236338</td>\n",
       "      <td>0.126141</td>\n",
       "      <td>0.029822</td>\n",
       "      <td>0.236420</td>\n",
       "      <td>0.633197</td>\n",
       "      <td>2056</td>\n",
       "      <td>goodH</td>\n",
       "      <td>0.004376</td>\n",
       "      <td>5.906672e-07</td>\n",
       "      <td>2.953336e-07</td>\n",
       "      <td>True</td>\n",
       "    </tr>\n",
       "    <tr>\n",
       "      <th>NODE_1030410_length_81_cov_1.259259_40</th>\n",
       "      <td>0.346941</td>\n",
       "      <td>0.089409</td>\n",
       "      <td>0.015746</td>\n",
       "      <td>0.176111</td>\n",
       "      <td>0.109839</td>\n",
       "      <td>0.019350</td>\n",
       "      <td>0.176171</td>\n",
       "      <td>0.776639</td>\n",
       "      <td>2489</td>\n",
       "      <td>goodH</td>\n",
       "      <td>0.013175</td>\n",
       "      <td>6.714982e-06</td>\n",
       "      <td>3.357491e-06</td>\n",
       "      <td>True</td>\n",
       "    </tr>\n",
       "    <tr>\n",
       "      <th>NODE_1038234_length_92_cov_1.000000_53</th>\n",
       "      <td>0.265780</td>\n",
       "      <td>0.077760</td>\n",
       "      <td>0.010471</td>\n",
       "      <td>0.134655</td>\n",
       "      <td>0.096048</td>\n",
       "      <td>0.012937</td>\n",
       "      <td>0.134696</td>\n",
       "      <td>0.842213</td>\n",
       "      <td>3081</td>\n",
       "      <td>goodH</td>\n",
       "      <td>0.032068</td>\n",
       "      <td>5.071086e-05</td>\n",
       "      <td>2.535543e-05</td>\n",
       "      <td>True</td>\n",
       "    </tr>\n",
       "  </tbody>\n",
       "</table>\n",
       "</div>"
      ],
      "text/plain": [
       "                                              He       FST        T1  \\\n",
       "LocusName                                                              \n",
       "NODE_1001690_length_90_cov_2.000000_37  0.078608  0.079459  0.003163   \n",
       "NODE_1012475_length_88_cov_1.022727_43  0.398381  0.083805  0.016937   \n",
       "NODE_1025193_length_75_cov_1.093333_47  0.464517  0.105168  0.024855   \n",
       "NODE_1030410_length_81_cov_1.259259_40  0.346941  0.089409  0.015746   \n",
       "NODE_1038234_length_92_cov_1.000000_53  0.265780  0.077760  0.010471   \n",
       "\n",
       "                                              T2  FSTNoCorr  T1NoCorr  \\\n",
       "LocusName                                                               \n",
       "NODE_1001690_length_90_cov_2.000000_37  0.039812   0.092968  0.003702   \n",
       "NODE_1012475_length_88_cov_1.022727_43  0.202103   0.105861  0.021403   \n",
       "NODE_1025193_length_75_cov_1.093333_47  0.236338   0.126141  0.029822   \n",
       "NODE_1030410_length_81_cov_1.259259_40  0.176111   0.109839  0.019350   \n",
       "NODE_1038234_length_92_cov_1.000000_53  0.134655   0.096048  0.012937   \n",
       "\n",
       "                                        T2NoCorr  meanAlleleFreq  indexOrder  \\\n",
       "LocusName                                                                      \n",
       "NODE_1001690_length_90_cov_2.000000_37  0.039821        0.959016         119   \n",
       "NODE_1012475_length_88_cov_1.022727_43  0.202177        0.725410        1088   \n",
       "NODE_1025193_length_75_cov_1.093333_47  0.236420        0.633197        2056   \n",
       "NODE_1030410_length_81_cov_1.259259_40  0.176171        0.776639        2489   \n",
       "NODE_1038234_length_92_cov_1.000000_53  0.134696        0.842213        3081   \n",
       "\n",
       "                                        GoodH   qvalues       pvalues  \\\n",
       "LocusName                                                               \n",
       "NODE_1001690_length_90_cov_2.000000_37   lowH  0.043708  7.923133e-05   \n",
       "NODE_1012475_length_88_cov_1.022727_43  goodH  0.017647  1.207446e-05   \n",
       "NODE_1025193_length_75_cov_1.093333_47  goodH  0.004376  5.906672e-07   \n",
       "NODE_1030410_length_81_cov_1.259259_40  goodH  0.013175  6.714982e-06   \n",
       "NODE_1038234_length_92_cov_1.000000_53  goodH  0.032068  5.071086e-05   \n",
       "\n",
       "                                        pvaluesRightTail OutlierFlag  \n",
       "LocusName                                                             \n",
       "NODE_1001690_length_90_cov_2.000000_37      3.961566e-05        True  \n",
       "NODE_1012475_length_88_cov_1.022727_43      6.037229e-06        True  \n",
       "NODE_1025193_length_75_cov_1.093333_47      2.953336e-07        True  \n",
       "NODE_1030410_length_81_cov_1.259259_40      3.357491e-06        True  \n",
       "NODE_1038234_length_92_cov_1.000000_53      2.535543e-05        True  "
      ]
     },
     "execution_count": 171,
     "metadata": {},
     "output_type": "execute_result"
    }
   ],
   "source": [
    "trues.head()"
   ]
  },
  {
   "cell_type": "code",
   "execution_count": 185,
   "metadata": {
    "collapsed": true
   },
   "outputs": [],
   "source": [
    "merged2 = pd.merge(merged,pd.DataFrame(trues[['FST','FSTNoCorr']]),left_index=True,right_index=True)"
   ]
  },
  {
   "cell_type": "code",
   "execution_count": 186,
   "metadata": {
    "collapsed": false
   },
   "outputs": [
    {
     "data": {
      "text/html": [
       "<div>\n",
       "<table border=\"1\" class=\"dataframe\">\n",
       "  <thead>\n",
       "    <tr style=\"text-align: right;\">\n",
       "      <th></th>\n",
       "      <th>x</th>\n",
       "      <th>perc data</th>\n",
       "      <th>FST</th>\n",
       "      <th>FSTNoCorr</th>\n",
       "    </tr>\n",
       "  </thead>\n",
       "  <tbody>\n",
       "    <tr>\n",
       "      <th>NODE_1001690_length_90_cov_2.000000_37</th>\n",
       "      <td>NODE_1001690_length_90_cov_2.000000_37</td>\n",
       "      <td>0.500000</td>\n",
       "      <td>0.079459</td>\n",
       "      <td>0.092968</td>\n",
       "    </tr>\n",
       "    <tr>\n",
       "      <th>NODE_1012475_length_88_cov_1.022727_43</th>\n",
       "      <td>NODE_1012475_length_88_cov_1.022727_43</td>\n",
       "      <td>0.647541</td>\n",
       "      <td>0.083805</td>\n",
       "      <td>0.105861</td>\n",
       "    </tr>\n",
       "    <tr>\n",
       "      <th>NODE_1025193_length_75_cov_1.093333_47</th>\n",
       "      <td>NODE_1025193_length_75_cov_1.093333_47</td>\n",
       "      <td>0.606557</td>\n",
       "      <td>0.105168</td>\n",
       "      <td>0.126141</td>\n",
       "    </tr>\n",
       "    <tr>\n",
       "      <th>NODE_1030410_length_81_cov_1.259259_40</th>\n",
       "      <td>NODE_1030410_length_81_cov_1.259259_40</td>\n",
       "      <td>0.520492</td>\n",
       "      <td>0.089409</td>\n",
       "      <td>0.109839</td>\n",
       "    </tr>\n",
       "    <tr>\n",
       "      <th>NODE_1038234_length_92_cov_1.000000_53</th>\n",
       "      <td>NODE_1038234_length_92_cov_1.000000_53</td>\n",
       "      <td>0.778689</td>\n",
       "      <td>0.077760</td>\n",
       "      <td>0.096048</td>\n",
       "    </tr>\n",
       "  </tbody>\n",
       "</table>\n",
       "</div>"
      ],
      "text/plain": [
       "                                                                             x  \\\n",
       "NODE_1001690_length_90_cov_2.000000_37  NODE_1001690_length_90_cov_2.000000_37   \n",
       "NODE_1012475_length_88_cov_1.022727_43  NODE_1012475_length_88_cov_1.022727_43   \n",
       "NODE_1025193_length_75_cov_1.093333_47  NODE_1025193_length_75_cov_1.093333_47   \n",
       "NODE_1030410_length_81_cov_1.259259_40  NODE_1030410_length_81_cov_1.259259_40   \n",
       "NODE_1038234_length_92_cov_1.000000_53  NODE_1038234_length_92_cov_1.000000_53   \n",
       "\n",
       "                                        perc data       FST  FSTNoCorr  \n",
       "NODE_1001690_length_90_cov_2.000000_37   0.500000  0.079459   0.092968  \n",
       "NODE_1012475_length_88_cov_1.022727_43   0.647541  0.083805   0.105861  \n",
       "NODE_1025193_length_75_cov_1.093333_47   0.606557  0.105168   0.126141  \n",
       "NODE_1030410_length_81_cov_1.259259_40   0.520492  0.089409   0.109839  \n",
       "NODE_1038234_length_92_cov_1.000000_53   0.778689  0.077760   0.096048  "
      ]
     },
     "execution_count": 186,
     "metadata": {},
     "output_type": "execute_result"
    }
   ],
   "source": [
    "merged2.head()"
   ]
  },
  {
   "cell_type": "code",
   "execution_count": 70,
   "metadata": {
    "collapsed": false
   },
   "outputs": [
    {
     "data": {
      "text/plain": [
       "<matplotlib.collections.PathCollection at 0x2b8d9ca39a10>"
      ]
     },
     "execution_count": 70,
     "metadata": {},
     "output_type": "execute_result"
    },
    {
     "data": {
      "image/png": "[encoded data removed]",
      "text/plain": [
       "<matplotlib.figure.Figure at 0x2b8d9ca63e90>"
      ]
     },
     "metadata": {},
     "output_type": "display_data"
    }
   ],
   "source": [
    "plt.scatter(merged2['perc data'],merged2['FSTNoCorr'])"
   ]
  },
  {
   "cell_type": "code",
   "execution_count": 73,
   "metadata": {
    "collapsed": false
   },
   "outputs": [
    {
     "data": {
      "text/plain": [
       "<matplotlib.collections.PathCollection at 0x2b8d9cbbb810>"
      ]
     },
     "execution_count": 73,
     "metadata": {},
     "output_type": "execute_result"
    },
    {
     "data": {
      "image/png": "[encoded data removed]",
      "text/plain": [
       "<matplotlib.figure.Figure at 0x2b8d9ca6d890>"
      ]
     },
     "metadata": {},
     "output_type": "display_data"
    }
   ],
   "source": [
    "plt.scatter(merged2['perc data'],merged2['FST'])"
   ]
  },
  {
   "cell_type": "code",
   "execution_count": 75,
   "metadata": {
    "collapsed": false
   },
   "outputs": [
    {
     "data": {
      "text/plain": [
       "count    110.000000\n",
       "mean       0.103556\n",
       "std        0.010733\n",
       "min        0.090965\n",
       "25%        0.095976\n",
       "50%        0.100539\n",
       "75%        0.108251\n",
       "max        0.134076\n",
       "Name: FSTNoCorr, dtype: float64"
      ]
     },
     "execution_count": 75,
     "metadata": {},
     "output_type": "execute_result"
    }
   ],
   "source": [
    "merged2['FSTNoCorr'].describe()"
   ]
  },
  {
   "cell_type": "code",
   "execution_count": 174,
   "metadata": {
    "collapsed": false
   },
   "outputs": [
    {
     "data": {
      "text/plain": [
       "110"
      ]
     },
     "execution_count": 174,
     "metadata": {},
     "output_type": "execute_result"
    }
   ],
   "source": [
    "len(merged2.index)"
   ]
  },
  {
   "cell_type": "code",
   "execution_count": 188,
   "metadata": {
    "collapsed": false
   },
   "outputs": [
    {
     "data": {
      "text/html": [
       "<div>\n",
       "<table border=\"1\" class=\"dataframe\">\n",
       "  <thead>\n",
       "    <tr style=\"text-align: right;\">\n",
       "      <th></th>\n",
       "      <th>pop_total</th>\n",
       "      <th>plot_total</th>\n",
       "      <th>plot_pop</th>\n",
       "    </tr>\n",
       "  </thead>\n",
       "  <tbody>\n",
       "    <tr>\n",
       "      <th>NODE_1000013_length_91_cov_1.802198_37</th>\n",
       "      <td>-0.002797</td>\n",
       "      <td>-0.018565</td>\n",
       "      <td>-0.015723</td>\n",
       "    </tr>\n",
       "    <tr>\n",
       "      <th>NODE_1000031_length_98_cov_2.000000_30</th>\n",
       "      <td>0.014700</td>\n",
       "      <td>0.007232</td>\n",
       "      <td>-0.007579</td>\n",
       "    </tr>\n",
       "    <tr>\n",
       "      <th>NODE_1000037_length_93_cov_2.043011_33</th>\n",
       "      <td>-0.008883</td>\n",
       "      <td>-0.011011</td>\n",
       "      <td>-0.002109</td>\n",
       "    </tr>\n",
       "    <tr>\n",
       "      <th>NODE_1000042_length_93_cov_1.118280_100</th>\n",
       "      <td>-0.008273</td>\n",
       "      <td>0.018138</td>\n",
       "      <td>0.026194</td>\n",
       "    </tr>\n",
       "    <tr>\n",
       "      <th>NODE_1000053_length_94_cov_1.744681_25</th>\n",
       "      <td>-0.020574</td>\n",
       "      <td>0.024885</td>\n",
       "      <td>0.044543</td>\n",
       "    </tr>\n",
       "  </tbody>\n",
       "</table>\n",
       "</div>"
      ],
      "text/plain": [
       "                                         pop_total  plot_total  plot_pop\n",
       "NODE_1000013_length_91_cov_1.802198_37   -0.002797   -0.018565 -0.015723\n",
       "NODE_1000031_length_98_cov_2.000000_30    0.014700    0.007232 -0.007579\n",
       "NODE_1000037_length_93_cov_2.043011_33   -0.008883   -0.011011 -0.002109\n",
       "NODE_1000042_length_93_cov_1.118280_100  -0.008273    0.018138  0.026194\n",
       "NODE_1000053_length_94_cov_1.744681_25   -0.020574    0.024885  0.044543"
      ]
     },
     "execution_count": 188,
     "metadata": {},
     "output_type": "execute_result"
    }
   ],
   "source": [
    "#get multilocus f stats for the imputed outlier snps\n",
    "#this file was made in 07_hierfstat_imputed.ipynb\n",
    "impfstats = pd.read_csv('/home/lindb/wbp/hierfstat/imputed/imputed_hierarchical_Fstats.txt',header=0,index_col=0,sep=\"\\t\")\n",
    "impfstats = impfstats.loc[:,[col for col in impfstats.columns if not 'perc' in col]]\n",
    "impfstats.head()"
   ]
  },
  {
   "cell_type": "code",
   "execution_count": 190,
   "metadata": {
    "collapsed": false
   },
   "outputs": [
    {
     "data": {
      "text/html": [
       "<div>\n",
       "<table border=\"1\" class=\"dataframe\">\n",
       "  <thead>\n",
       "    <tr style=\"text-align: right;\">\n",
       "      <th></th>\n",
       "      <th>pop_total</th>\n",
       "      <th>plot_total</th>\n",
       "      <th>plot_pop</th>\n",
       "      <th>perc data</th>\n",
       "      <th>FST</th>\n",
       "      <th>FSTNoCorr</th>\n",
       "    </tr>\n",
       "  </thead>\n",
       "  <tbody>\n",
       "    <tr>\n",
       "      <th>NODE_1001690_length_90_cov_2.000000_37</th>\n",
       "      <td>0.071807</td>\n",
       "      <td>0.095605</td>\n",
       "      <td>0.025640</td>\n",
       "      <td>0.500000</td>\n",
       "      <td>0.079459</td>\n",
       "      <td>0.092968</td>\n",
       "    </tr>\n",
       "    <tr>\n",
       "      <th>NODE_1012475_length_88_cov_1.022727_43</th>\n",
       "      <td>0.074489</td>\n",
       "      <td>0.103463</td>\n",
       "      <td>0.031307</td>\n",
       "      <td>0.647541</td>\n",
       "      <td>0.083805</td>\n",
       "      <td>0.105861</td>\n",
       "    </tr>\n",
       "    <tr>\n",
       "      <th>NODE_1025193_length_75_cov_1.093333_47</th>\n",
       "      <td>0.083945</td>\n",
       "      <td>0.149946</td>\n",
       "      <td>0.072049</td>\n",
       "      <td>0.606557</td>\n",
       "      <td>0.105168</td>\n",
       "      <td>0.126141</td>\n",
       "    </tr>\n",
       "    <tr>\n",
       "      <th>NODE_1030410_length_81_cov_1.259259_40</th>\n",
       "      <td>0.072266</td>\n",
       "      <td>0.125581</td>\n",
       "      <td>0.057468</td>\n",
       "      <td>0.520492</td>\n",
       "      <td>0.089409</td>\n",
       "      <td>0.109839</td>\n",
       "    </tr>\n",
       "    <tr>\n",
       "      <th>NODE_1038234_length_92_cov_1.000000_53</th>\n",
       "      <td>0.068178</td>\n",
       "      <td>0.097979</td>\n",
       "      <td>0.031981</td>\n",
       "      <td>0.778689</td>\n",
       "      <td>0.077760</td>\n",
       "      <td>0.096048</td>\n",
       "    </tr>\n",
       "  </tbody>\n",
       "</table>\n",
       "</div>"
      ],
      "text/plain": [
       "                                        pop_total  plot_total  plot_pop  \\\n",
       "NODE_1001690_length_90_cov_2.000000_37   0.071807    0.095605  0.025640   \n",
       "NODE_1012475_length_88_cov_1.022727_43   0.074489    0.103463  0.031307   \n",
       "NODE_1025193_length_75_cov_1.093333_47   0.083945    0.149946  0.072049   \n",
       "NODE_1030410_length_81_cov_1.259259_40   0.072266    0.125581  0.057468   \n",
       "NODE_1038234_length_92_cov_1.000000_53   0.068178    0.097979  0.031981   \n",
       "\n",
       "                                        perc data       FST  FSTNoCorr  \n",
       "NODE_1001690_length_90_cov_2.000000_37   0.500000  0.079459   0.092968  \n",
       "NODE_1012475_length_88_cov_1.022727_43   0.647541  0.083805   0.105861  \n",
       "NODE_1025193_length_75_cov_1.093333_47   0.606557  0.105168   0.126141  \n",
       "NODE_1030410_length_81_cov_1.259259_40   0.520492  0.089409   0.109839  \n",
       "NODE_1038234_length_92_cov_1.000000_53   0.778689  0.077760   0.096048  "
      ]
     },
     "execution_count": 190,
     "metadata": {},
     "output_type": "execute_result"
    }
   ],
   "source": [
    "#get the important columns\n",
    "allstats = pd.merge(impfstats,merged2.loc[:,[col for col in merged2.columns if not 'x' in col]],\n",
    "                    left_index=True,right_index=True)\n",
    "allstats.head()"
   ]
  },
  {
   "cell_type": "code",
   "execution_count": 195,
   "metadata": {
    "collapsed": false
   },
   "outputs": [
    {
     "data": {
      "text/html": [
       "<div>\n",
       "<table border=\"1\" class=\"dataframe\">\n",
       "  <thead>\n",
       "    <tr style=\"text-align: right;\">\n",
       "      <th></th>\n",
       "      <th>pop_total_hierfstat</th>\n",
       "      <th>plot_total_hierfstat</th>\n",
       "      <th>plot_pop_hierfstat</th>\n",
       "      <th>perc missing genotypes</th>\n",
       "      <th>FST_outflank</th>\n",
       "      <th>FSTNoCorr_outflank</th>\n",
       "    </tr>\n",
       "  </thead>\n",
       "  <tbody>\n",
       "    <tr>\n",
       "      <th>NODE_1001690_length_90_cov_2.000000_37</th>\n",
       "      <td>0.071807</td>\n",
       "      <td>0.095605</td>\n",
       "      <td>0.025640</td>\n",
       "      <td>0.500000</td>\n",
       "      <td>0.079459</td>\n",
       "      <td>0.092968</td>\n",
       "    </tr>\n",
       "    <tr>\n",
       "      <th>NODE_1012475_length_88_cov_1.022727_43</th>\n",
       "      <td>0.074489</td>\n",
       "      <td>0.103463</td>\n",
       "      <td>0.031307</td>\n",
       "      <td>0.647541</td>\n",
       "      <td>0.083805</td>\n",
       "      <td>0.105861</td>\n",
       "    </tr>\n",
       "    <tr>\n",
       "      <th>NODE_1025193_length_75_cov_1.093333_47</th>\n",
       "      <td>0.083945</td>\n",
       "      <td>0.149946</td>\n",
       "      <td>0.072049</td>\n",
       "      <td>0.606557</td>\n",
       "      <td>0.105168</td>\n",
       "      <td>0.126141</td>\n",
       "    </tr>\n",
       "    <tr>\n",
       "      <th>NODE_1030410_length_81_cov_1.259259_40</th>\n",
       "      <td>0.072266</td>\n",
       "      <td>0.125581</td>\n",
       "      <td>0.057468</td>\n",
       "      <td>0.520492</td>\n",
       "      <td>0.089409</td>\n",
       "      <td>0.109839</td>\n",
       "    </tr>\n",
       "    <tr>\n",
       "      <th>NODE_1038234_length_92_cov_1.000000_53</th>\n",
       "      <td>0.068178</td>\n",
       "      <td>0.097979</td>\n",
       "      <td>0.031981</td>\n",
       "      <td>0.778689</td>\n",
       "      <td>0.077760</td>\n",
       "      <td>0.096048</td>\n",
       "    </tr>\n",
       "  </tbody>\n",
       "</table>\n",
       "</div>"
      ],
      "text/plain": [
       "                                        pop_total_hierfstat  \\\n",
       "NODE_1001690_length_90_cov_2.000000_37             0.071807   \n",
       "NODE_1012475_length_88_cov_1.022727_43             0.074489   \n",
       "NODE_1025193_length_75_cov_1.093333_47             0.083945   \n",
       "NODE_1030410_length_81_cov_1.259259_40             0.072266   \n",
       "NODE_1038234_length_92_cov_1.000000_53             0.068178   \n",
       "\n",
       "                                        plot_total_hierfstat  \\\n",
       "NODE_1001690_length_90_cov_2.000000_37              0.095605   \n",
       "NODE_1012475_length_88_cov_1.022727_43              0.103463   \n",
       "NODE_1025193_length_75_cov_1.093333_47              0.149946   \n",
       "NODE_1030410_length_81_cov_1.259259_40              0.125581   \n",
       "NODE_1038234_length_92_cov_1.000000_53              0.097979   \n",
       "\n",
       "                                        plot_pop_hierfstat  \\\n",
       "NODE_1001690_length_90_cov_2.000000_37            0.025640   \n",
       "NODE_1012475_length_88_cov_1.022727_43            0.031307   \n",
       "NODE_1025193_length_75_cov_1.093333_47            0.072049   \n",
       "NODE_1030410_length_81_cov_1.259259_40            0.057468   \n",
       "NODE_1038234_length_92_cov_1.000000_53            0.031981   \n",
       "\n",
       "                                        perc missing genotypes  FST_outflank  \\\n",
       "NODE_1001690_length_90_cov_2.000000_37                0.500000      0.079459   \n",
       "NODE_1012475_length_88_cov_1.022727_43                0.647541      0.083805   \n",
       "NODE_1025193_length_75_cov_1.093333_47                0.606557      0.105168   \n",
       "NODE_1030410_length_81_cov_1.259259_40                0.520492      0.089409   \n",
       "NODE_1038234_length_92_cov_1.000000_53                0.778689      0.077760   \n",
       "\n",
       "                                        FSTNoCorr_outflank  \n",
       "NODE_1001690_length_90_cov_2.000000_37            0.092968  \n",
       "NODE_1012475_length_88_cov_1.022727_43            0.105861  \n",
       "NODE_1025193_length_75_cov_1.093333_47            0.126141  \n",
       "NODE_1030410_length_81_cov_1.259259_40            0.109839  \n",
       "NODE_1038234_length_92_cov_1.000000_53            0.096048  "
      ]
     },
     "execution_count": 195,
     "metadata": {},
     "output_type": "execute_result"
    }
   ],
   "source": [
    "#rename so I don't have to search my script to find what they mean or where they come from\n",
    "cols = ['pop_total_hierfstat', 'plot_total_hierfstat', 'plot_pop_hierfstat', 'perc missing genotypes', 'FST_outflank', \n",
    "        'FSTNoCorr_outflank']\n",
    "allstats.columns = [col for col in cols]\n",
    "allstats.head()"
   ]
  },
  {
   "cell_type": "code",
   "execution_count": 196,
   "metadata": {
    "collapsed": true
   },
   "outputs": [],
   "source": [
    "#write to file\n",
    "filE = '/home/lindb/wbp/OutFLANK/hierarchical_Fstats_outflankoutliers.txt'\n",
    "allstats.to_csv(filE,header=True,index=True,sep='\\t')"
   ]
  },
  {
   "cell_type": "code",
   "execution_count": 197,
   "metadata": {
    "collapsed": false
   },
   "outputs": [
    {
     "data": {
      "text/html": [
       "<div>\n",
       "<table border=\"1\" class=\"dataframe\">\n",
       "  <thead>\n",
       "    <tr style=\"text-align: right;\">\n",
       "      <th></th>\n",
       "      <th>pop_total_hierfstat</th>\n",
       "      <th>plot_total_hierfstat</th>\n",
       "      <th>plot_pop_hierfstat</th>\n",
       "      <th>perc missing genotypes</th>\n",
       "      <th>FST_outflank</th>\n",
       "      <th>FSTNoCorr_outflank</th>\n",
       "    </tr>\n",
       "  </thead>\n",
       "  <tbody>\n",
       "    <tr>\n",
       "      <th>NODE_1001690_length_90_cov_2.000000_37</th>\n",
       "      <td>0.071807</td>\n",
       "      <td>0.095605</td>\n",
       "      <td>0.025640</td>\n",
       "      <td>0.500000</td>\n",
       "      <td>0.079459</td>\n",
       "      <td>0.092968</td>\n",
       "    </tr>\n",
       "    <tr>\n",
       "      <th>NODE_1012475_length_88_cov_1.022727_43</th>\n",
       "      <td>0.074489</td>\n",
       "      <td>0.103463</td>\n",
       "      <td>0.031307</td>\n",
       "      <td>0.647541</td>\n",
       "      <td>0.083805</td>\n",
       "      <td>0.105861</td>\n",
       "    </tr>\n",
       "    <tr>\n",
       "      <th>NODE_1025193_length_75_cov_1.093333_47</th>\n",
       "      <td>0.083945</td>\n",
       "      <td>0.149946</td>\n",
       "      <td>0.072049</td>\n",
       "      <td>0.606557</td>\n",
       "      <td>0.105168</td>\n",
       "      <td>0.126141</td>\n",
       "    </tr>\n",
       "    <tr>\n",
       "      <th>NODE_1030410_length_81_cov_1.259259_40</th>\n",
       "      <td>0.072266</td>\n",
       "      <td>0.125581</td>\n",
       "      <td>0.057468</td>\n",
       "      <td>0.520492</td>\n",
       "      <td>0.089409</td>\n",
       "      <td>0.109839</td>\n",
       "    </tr>\n",
       "    <tr>\n",
       "      <th>NODE_1038234_length_92_cov_1.000000_53</th>\n",
       "      <td>0.068178</td>\n",
       "      <td>0.097979</td>\n",
       "      <td>0.031981</td>\n",
       "      <td>0.778689</td>\n",
       "      <td>0.077760</td>\n",
       "      <td>0.096048</td>\n",
       "    </tr>\n",
       "  </tbody>\n",
       "</table>\n",
       "</div>"
      ],
      "text/plain": [
       "                                        pop_total_hierfstat  \\\n",
       "NODE_1001690_length_90_cov_2.000000_37             0.071807   \n",
       "NODE_1012475_length_88_cov_1.022727_43             0.074489   \n",
       "NODE_1025193_length_75_cov_1.093333_47             0.083945   \n",
       "NODE_1030410_length_81_cov_1.259259_40             0.072266   \n",
       "NODE_1038234_length_92_cov_1.000000_53             0.068178   \n",
       "\n",
       "                                        plot_total_hierfstat  \\\n",
       "NODE_1001690_length_90_cov_2.000000_37              0.095605   \n",
       "NODE_1012475_length_88_cov_1.022727_43              0.103463   \n",
       "NODE_1025193_length_75_cov_1.093333_47              0.149946   \n",
       "NODE_1030410_length_81_cov_1.259259_40              0.125581   \n",
       "NODE_1038234_length_92_cov_1.000000_53              0.097979   \n",
       "\n",
       "                                        plot_pop_hierfstat  \\\n",
       "NODE_1001690_length_90_cov_2.000000_37            0.025640   \n",
       "NODE_1012475_length_88_cov_1.022727_43            0.031307   \n",
       "NODE_1025193_length_75_cov_1.093333_47            0.072049   \n",
       "NODE_1030410_length_81_cov_1.259259_40            0.057468   \n",
       "NODE_1038234_length_92_cov_1.000000_53            0.031981   \n",
       "\n",
       "                                        perc missing genotypes  FST_outflank  \\\n",
       "NODE_1001690_length_90_cov_2.000000_37                0.500000      0.079459   \n",
       "NODE_1012475_length_88_cov_1.022727_43                0.647541      0.083805   \n",
       "NODE_1025193_length_75_cov_1.093333_47                0.606557      0.105168   \n",
       "NODE_1030410_length_81_cov_1.259259_40                0.520492      0.089409   \n",
       "NODE_1038234_length_92_cov_1.000000_53                0.778689      0.077760   \n",
       "\n",
       "                                        FSTNoCorr_outflank  \n",
       "NODE_1001690_length_90_cov_2.000000_37            0.092968  \n",
       "NODE_1012475_length_88_cov_1.022727_43            0.105861  \n",
       "NODE_1025193_length_75_cov_1.093333_47            0.126141  \n",
       "NODE_1030410_length_81_cov_1.259259_40            0.109839  \n",
       "NODE_1038234_length_92_cov_1.000000_53            0.096048  "
      ]
     },
     "execution_count": 197,
     "metadata": {},
     "output_type": "execute_result"
    }
   ],
   "source": [
    "allstats.head()"
   ]
  },
  {
   "cell_type": "markdown",
   "metadata": {},
   "source": [
    "# covariances using H_exp"
   ]
  },
  {
   "cell_type": "code",
   "execution_count": 6,
   "metadata": {
    "collapsed": false,
    "scrolled": true
   },
   "outputs": [
    {
     "data": {
      "text/html": [
       "<div>\n",
       "<table border=\"1\" class=\"dataframe\">\n",
       "  <thead>\n",
       "    <tr style=\"text-align: right;\">\n",
       "      <th></th>\n",
       "      <th>NODE_1000013_length_91_cov_1.802198_37</th>\n",
       "      <th>NODE_1000031_length_98_cov_2.000000_30</th>\n",
       "      <th>NODE_1000037_length_93_cov_2.043011_33</th>\n",
       "      <th>NODE_1000042_length_93_cov_1.118280_100</th>\n",
       "      <th>NODE_1000053_length_94_cov_1.744681_25</th>\n",
       "      <th>NODE_1000061_length_47_cov_1.680851_49</th>\n",
       "      <th>NODE_1000118_length_95_cov_2.000000_24</th>\n",
       "      <th>NODE_1000128_length_98_cov_1.714286_53</th>\n",
       "      <th>NODE_1000180_length_98_cov_2.204082_17</th>\n",
       "      <th>NODE_1000188_length_67_cov_1.223881_65</th>\n",
       "      <th>...</th>\n",
       "      <th>NODE_999880_length_98_cov_1.683674_22</th>\n",
       "      <th>NODE_999886_length_96_cov_1.020833_38</th>\n",
       "      <th>NODE_999899_length_96_cov_1.000000_91</th>\n",
       "      <th>NODE_999927_length_95_cov_2.000000_55</th>\n",
       "      <th>NODE_999933_length_76_cov_1.236842_76</th>\n",
       "      <th>NODE_999938_length_98_cov_1.142857_98</th>\n",
       "      <th>NODE_999941_length_107_cov_1.196262_25</th>\n",
       "      <th>NODE_999958_length_91_cov_1.021978_17</th>\n",
       "      <th>NODE_999968_length_75_cov_1.680000_37</th>\n",
       "      <th>NODE_999969_length_92_cov_4.271739_37</th>\n",
       "    </tr>\n",
       "  </thead>\n",
       "  <tbody>\n",
       "    <tr>\n",
       "      <th>009compiled</th>\n",
       "      <td>0</td>\n",
       "      <td>1</td>\n",
       "      <td>0</td>\n",
       "      <td>0</td>\n",
       "      <td>0</td>\n",
       "      <td>0</td>\n",
       "      <td>1</td>\n",
       "      <td>0</td>\n",
       "      <td>1</td>\n",
       "      <td>0</td>\n",
       "      <td>...</td>\n",
       "      <td>0</td>\n",
       "      <td>0</td>\n",
       "      <td>1</td>\n",
       "      <td>0</td>\n",
       "      <td>1</td>\n",
       "      <td>1</td>\n",
       "      <td>0</td>\n",
       "      <td>0</td>\n",
       "      <td>0</td>\n",
       "      <td>1</td>\n",
       "    </tr>\n",
       "    <tr>\n",
       "      <th>010compiled</th>\n",
       "      <td>0</td>\n",
       "      <td>1</td>\n",
       "      <td>1</td>\n",
       "      <td>0</td>\n",
       "      <td>0</td>\n",
       "      <td>0</td>\n",
       "      <td>0</td>\n",
       "      <td>0</td>\n",
       "      <td>0</td>\n",
       "      <td>0</td>\n",
       "      <td>...</td>\n",
       "      <td>0</td>\n",
       "      <td>0</td>\n",
       "      <td>0</td>\n",
       "      <td>0</td>\n",
       "      <td>1</td>\n",
       "      <td>1</td>\n",
       "      <td>0</td>\n",
       "      <td>0</td>\n",
       "      <td>0</td>\n",
       "      <td>0</td>\n",
       "    </tr>\n",
       "    <tr>\n",
       "      <th>011compiled</th>\n",
       "      <td>1</td>\n",
       "      <td>0</td>\n",
       "      <td>1</td>\n",
       "      <td>0</td>\n",
       "      <td>0</td>\n",
       "      <td>0</td>\n",
       "      <td>1</td>\n",
       "      <td>0</td>\n",
       "      <td>1</td>\n",
       "      <td>0</td>\n",
       "      <td>...</td>\n",
       "      <td>0</td>\n",
       "      <td>0</td>\n",
       "      <td>1</td>\n",
       "      <td>0</td>\n",
       "      <td>1</td>\n",
       "      <td>0</td>\n",
       "      <td>0</td>\n",
       "      <td>0</td>\n",
       "      <td>0</td>\n",
       "      <td>0</td>\n",
       "    </tr>\n",
       "    <tr>\n",
       "      <th>012compiled</th>\n",
       "      <td>0</td>\n",
       "      <td>0</td>\n",
       "      <td>0</td>\n",
       "      <td>1</td>\n",
       "      <td>0</td>\n",
       "      <td>0</td>\n",
       "      <td>1</td>\n",
       "      <td>0</td>\n",
       "      <td>1</td>\n",
       "      <td>0</td>\n",
       "      <td>...</td>\n",
       "      <td>0</td>\n",
       "      <td>1</td>\n",
       "      <td>2</td>\n",
       "      <td>0</td>\n",
       "      <td>1</td>\n",
       "      <td>0</td>\n",
       "      <td>0</td>\n",
       "      <td>0</td>\n",
       "      <td>1</td>\n",
       "      <td>1</td>\n",
       "    </tr>\n",
       "    <tr>\n",
       "      <th>013compiled</th>\n",
       "      <td>2</td>\n",
       "      <td>0</td>\n",
       "      <td>0</td>\n",
       "      <td>0</td>\n",
       "      <td>0</td>\n",
       "      <td>0</td>\n",
       "      <td>1</td>\n",
       "      <td>1</td>\n",
       "      <td>1</td>\n",
       "      <td>0</td>\n",
       "      <td>...</td>\n",
       "      <td>0</td>\n",
       "      <td>0</td>\n",
       "      <td>1</td>\n",
       "      <td>0</td>\n",
       "      <td>1</td>\n",
       "      <td>0</td>\n",
       "      <td>0</td>\n",
       "      <td>0</td>\n",
       "      <td>0</td>\n",
       "      <td>1</td>\n",
       "    </tr>\n",
       "  </tbody>\n",
       "</table>\n",
       "<p>5 rows × 116231 columns</p>\n",
       "</div>"
      ],
      "text/plain": [
       "             NODE_1000013_length_91_cov_1.802198_37  \\\n",
       "009compiled                                       0   \n",
       "010compiled                                       0   \n",
       "011compiled                                       1   \n",
       "012compiled                                       0   \n",
       "013compiled                                       2   \n",
       "\n",
       "             NODE_1000031_length_98_cov_2.000000_30  \\\n",
       "009compiled                                       1   \n",
       "010compiled                                       1   \n",
       "011compiled                                       0   \n",
       "012compiled                                       0   \n",
       "013compiled                                       0   \n",
       "\n",
       "             NODE_1000037_length_93_cov_2.043011_33  \\\n",
       "009compiled                                       0   \n",
       "010compiled                                       1   \n",
       "011compiled                                       1   \n",
       "012compiled                                       0   \n",
       "013compiled                                       0   \n",
       "\n",
       "             NODE_1000042_length_93_cov_1.118280_100  \\\n",
       "009compiled                                        0   \n",
       "010compiled                                        0   \n",
       "011compiled                                        0   \n",
       "012compiled                                        1   \n",
       "013compiled                                        0   \n",
       "\n",
       "             NODE_1000053_length_94_cov_1.744681_25  \\\n",
       "009compiled                                       0   \n",
       "010compiled                                       0   \n",
       "011compiled                                       0   \n",
       "012compiled                                       0   \n",
       "013compiled                                       0   \n",
       "\n",
       "             NODE_1000061_length_47_cov_1.680851_49  \\\n",
       "009compiled                                       0   \n",
       "010compiled                                       0   \n",
       "011compiled                                       0   \n",
       "012compiled                                       0   \n",
       "013compiled                                       0   \n",
       "\n",
       "             NODE_1000118_length_95_cov_2.000000_24  \\\n",
       "009compiled                                       1   \n",
       "010compiled                                       0   \n",
       "011compiled                                       1   \n",
       "012compiled                                       1   \n",
       "013compiled                                       1   \n",
       "\n",
       "             NODE_1000128_length_98_cov_1.714286_53  \\\n",
       "009compiled                                       0   \n",
       "010compiled                                       0   \n",
       "011compiled                                       0   \n",
       "012compiled                                       0   \n",
       "013compiled                                       1   \n",
       "\n",
       "             NODE_1000180_length_98_cov_2.204082_17  \\\n",
       "009compiled                                       1   \n",
       "010compiled                                       0   \n",
       "011compiled                                       1   \n",
       "012compiled                                       1   \n",
       "013compiled                                       1   \n",
       "\n",
       "             NODE_1000188_length_67_cov_1.223881_65  \\\n",
       "009compiled                                       0   \n",
       "010compiled                                       0   \n",
       "011compiled                                       0   \n",
       "012compiled                                       0   \n",
       "013compiled                                       0   \n",
       "\n",
       "                             ...                    \\\n",
       "009compiled                  ...                     \n",
       "010compiled                  ...                     \n",
       "011compiled                  ...                     \n",
       "012compiled                  ...                     \n",
       "013compiled                  ...                     \n",
       "\n",
       "             NODE_999880_length_98_cov_1.683674_22  \\\n",
       "009compiled                                      0   \n",
       "010compiled                                      0   \n",
       "011compiled                                      0   \n",
       "012compiled                                      0   \n",
       "013compiled                                      0   \n",
       "\n",
       "             NODE_999886_length_96_cov_1.020833_38  \\\n",
       "009compiled                                      0   \n",
       "010compiled                                      0   \n",
       "011compiled                                      0   \n",
       "012compiled                                      1   \n",
       "013compiled                                      0   \n",
       "\n",
       "             NODE_999899_length_96_cov_1.000000_91  \\\n",
       "009compiled                                      1   \n",
       "010compiled                                      0   \n",
       "011compiled                                      1   \n",
       "012compiled                                      2   \n",
       "013compiled                                      1   \n",
       "\n",
       "             NODE_999927_length_95_cov_2.000000_55  \\\n",
       "009compiled                                      0   \n",
       "010compiled                                      0   \n",
       "011compiled                                      0   \n",
       "012compiled                                      0   \n",
       "013compiled                                      0   \n",
       "\n",
       "             NODE_999933_length_76_cov_1.236842_76  \\\n",
       "009compiled                                      1   \n",
       "010compiled                                      1   \n",
       "011compiled                                      1   \n",
       "012compiled                                      1   \n",
       "013compiled                                      1   \n",
       "\n",
       "             NODE_999938_length_98_cov_1.142857_98  \\\n",
       "009compiled                                      1   \n",
       "010compiled                                      1   \n",
       "011compiled                                      0   \n",
       "012compiled                                      0   \n",
       "013compiled                                      0   \n",
       "\n",
       "             NODE_999941_length_107_cov_1.196262_25  \\\n",
       "009compiled                                       0   \n",
       "010compiled                                       0   \n",
       "011compiled                                       0   \n",
       "012compiled                                       0   \n",
       "013compiled                                       0   \n",
       "\n",
       "             NODE_999958_length_91_cov_1.021978_17  \\\n",
       "009compiled                                      0   \n",
       "010compiled                                      0   \n",
       "011compiled                                      0   \n",
       "012compiled                                      0   \n",
       "013compiled                                      0   \n",
       "\n",
       "             NODE_999968_length_75_cov_1.680000_37  \\\n",
       "009compiled                                      0   \n",
       "010compiled                                      0   \n",
       "011compiled                                      0   \n",
       "012compiled                                      1   \n",
       "013compiled                                      0   \n",
       "\n",
       "             NODE_999969_length_92_cov_4.271739_37  \n",
       "009compiled                                      1  \n",
       "010compiled                                      0  \n",
       "011compiled                                      0  \n",
       "012compiled                                      1  \n",
       "013compiled                                      1  \n",
       "\n",
       "[5 rows x 116231 columns]"
      ]
     },
     "execution_count": 6,
     "metadata": {},
     "output_type": "execute_result"
    }
   ],
   "source": [
    "#imputed_z12_maf_swp_trans_z12.txt was made in 06_pca.ipynb and is symlinked in /OutFLANK\n",
    "filE = '/home/lindb/wbp/OutFLANK/imputed_z12_maf_swp_trans_z12.txt'\n",
    "imp012 = pd.read_csv(filE,header=0,index_col=0,sep=\"\\t\")\n",
    "imp012.head()"
   ]
  },
  {
   "cell_type": "code",
   "execution_count": 7,
   "metadata": {
    "collapsed": false
   },
   "outputs": [
    {
     "data": {
      "text/plain": [
       "(244, 116231)"
      ]
     },
     "execution_count": 7,
     "metadata": {},
     "output_type": "execute_result"
    }
   ],
   "source": [
    "imp012.shape"
   ]
  },
  {
   "cell_type": "code",
   "execution_count": 21,
   "metadata": {
    "collapsed": false
   },
   "outputs": [
    {
     "name": "stdout",
     "output_type": "stream",
     "text": [
      "10000\n",
      "20000\n",
      "30000\n",
      "40000\n",
      "50000\n",
      "60000\n",
      "70000\n",
      "80000\n",
      "90000\n",
      "100000\n",
      "110000\n"
     ]
    },
    {
     "data": {
      "text/plain": [
       "116231"
      ]
     },
     "execution_count": 21,
     "metadata": {},
     "output_type": "execute_result"
    }
   ],
   "source": [
    "#get expected heterozygosity\n",
    "Hexp = OrderedDict()\n",
    "count = 0\n",
    "for snp in imp012.columns:\n",
    "    zero = imp012[snp].tolist().count(0)\n",
    "    one  = imp012[snp].tolist().count(1)\n",
    "    two  = imp012[snp].tolist().count(2)\n",
    "    \n",
    "    p = ((2*zero)+one)/(2*(zero+one+two))\n",
    "    q = ((2*two)+one)/(2*(zero+one+two))\n",
    "    \n",
    "    Hexp[snp] = 2*p*q\n",
    "    count += 1\n",
    "    if count % 10000 == 0:\n",
    "        print count\n",
    "len(Hexp.keys())"
   ]
  },
  {
   "cell_type": "code",
   "execution_count": 26,
   "metadata": {
    "collapsed": false
   },
   "outputs": [],
   "source": [
    "filE = '/home/lindb/wbp/OutFLANK/Hexp_by_snp.txt'\n",
    "with open(filE,'w') as o:\n",
    "    text = 'locus\\tH_exp\\n'\n",
    "    o.write(\"%s\" % text)\n",
    "    for snp in Hexp.keys():\n",
    "        text = '\\t'.join([snp,str(Hexp[snp])])+'\\n'\n",
    "        o.write(\"%s\" % text)"
   ]
  },
  {
   "cell_type": "code",
   "execution_count": 238,
   "metadata": {
    "collapsed": false
   },
   "outputs": [
    {
     "data": {
      "text/html": [
       "<div>\n",
       "<table border=\"1\" class=\"dataframe\">\n",
       "  <thead>\n",
       "    <tr style=\"text-align: right;\">\n",
       "      <th></th>\n",
       "      <th>locus</th>\n",
       "      <th>h_exp</th>\n",
       "    </tr>\n",
       "  </thead>\n",
       "  <tbody>\n",
       "    <tr>\n",
       "      <th>NODE_1274178_length_97_cov_1.030928_97</th>\n",
       "      <td>NODE_1274178_length_97_cov_1.030928_97</td>\n",
       "      <td>0.020282</td>\n",
       "    </tr>\n",
       "    <tr>\n",
       "      <th>NODE_694898_length_99_cov_1.676768_19</th>\n",
       "      <td>NODE_694898_length_99_cov_1.676768_19</td>\n",
       "      <td>0.020282</td>\n",
       "    </tr>\n",
       "    <tr>\n",
       "      <th>NODE_544568_length_93_cov_4.064516_12</th>\n",
       "      <td>NODE_544568_length_93_cov_4.064516_12</td>\n",
       "      <td>0.020282</td>\n",
       "    </tr>\n",
       "    <tr>\n",
       "      <th>NODE_1278450_length_97_cov_2.000000_111</th>\n",
       "      <td>NODE_1278450_length_97_cov_2.000000_111</td>\n",
       "      <td>0.020282</td>\n",
       "    </tr>\n",
       "    <tr>\n",
       "      <th>NODE_1913585_length_92_cov_1.750000_37</th>\n",
       "      <td>NODE_1913585_length_92_cov_1.750000_37</td>\n",
       "      <td>0.020282</td>\n",
       "    </tr>\n",
       "  </tbody>\n",
       "</table>\n",
       "</div>"
      ],
      "text/plain": [
       "                                                                           locus  \\\n",
       "NODE_1274178_length_97_cov_1.030928_97    NODE_1274178_length_97_cov_1.030928_97   \n",
       "NODE_694898_length_99_cov_1.676768_19      NODE_694898_length_99_cov_1.676768_19   \n",
       "NODE_544568_length_93_cov_4.064516_12      NODE_544568_length_93_cov_4.064516_12   \n",
       "NODE_1278450_length_97_cov_2.000000_111  NODE_1278450_length_97_cov_2.000000_111   \n",
       "NODE_1913585_length_92_cov_1.750000_37    NODE_1913585_length_92_cov_1.750000_37   \n",
       "\n",
       "                                            h_exp  \n",
       "NODE_1274178_length_97_cov_1.030928_97   0.020282  \n",
       "NODE_694898_length_99_cov_1.676768_19    0.020282  \n",
       "NODE_544568_length_93_cov_4.064516_12    0.020282  \n",
       "NODE_1278450_length_97_cov_2.000000_111  0.020282  \n",
       "NODE_1913585_length_92_cov_1.750000_37   0.020282  "
      ]
     },
     "execution_count": 238,
     "metadata": {},
     "output_type": "execute_result"
    }
   ],
   "source": [
    "filE = '/home/lindb/wbp/OutFLANK/Hexp_by_snp.txt'\n",
    "H = pd.read_csv(filE,header=0,sep='\\t')\n",
    "H.index = [snp for snp in H['locus'].tolist()]\n",
    "H.head()"
   ]
  },
  {
   "cell_type": "code",
   "execution_count": 273,
   "metadata": {
    "collapsed": false
   },
   "outputs": [
    {
     "data": {
      "text/plain": [
       "<a list of 50 Patch objects>"
      ]
     },
     "execution_count": 273,
     "metadata": {},
     "output_type": "execute_result"
    },
    {
     "data": {
      "image/png": "[encoded data removed]",
      "text/plain": [
       "<matplotlib.figure.Figure at 0x2b2a37d9c4d0>"
      ]
     },
     "metadata": {},
     "output_type": "display_data"
    }
   ],
   "source": [
    "plt.hist(H['h_exp'],bins = [x for x in np.arange(0,.51,0.01)])[2]"
   ]
  },
  {
   "cell_type": "code",
   "execution_count": 103,
   "metadata": {
    "collapsed": false
   },
   "outputs": [
    {
     "data": {
      "text/plain": [
       "0.5"
      ]
     },
     "execution_count": 103,
     "metadata": {},
     "output_type": "execute_result"
    }
   ],
   "source": [
    "h"
   ]
  },
  {
   "cell_type": "code",
   "execution_count": 39,
   "metadata": {
    "collapsed": false
   },
   "outputs": [
    {
     "data": {
      "text/plain": [
       "51"
      ]
     },
     "execution_count": 39,
     "metadata": {},
     "output_type": "execute_result"
    }
   ],
   "source": [
    "len(np.arange(0,0.51,0.01))"
   ]
  },
  {
   "cell_type": "code",
   "execution_count": 46,
   "metadata": {
    "collapsed": true
   },
   "outputs": [
    {
     "name": "stdout",
     "output_type": "stream",
     "text": [
      "heyo 0 0.0\n",
      "heyo 1 0.01\n",
      "heyo 2 0.02\n",
      "heyo 3 0.03\n",
      "heyo 4 0.04\n",
      "heyo 5 0.05\n",
      "heyo 6 0.06\n",
      "heyo 7 0.07\n",
      "heyo 8 0.08\n",
      "heyo 9 0.09\n",
      "heyo 10 0.1\n",
      "heyo 11 0.11\n",
      "heyo 12 0.12\n",
      "heyo 13 0.13\n",
      "heyo 14 0.14\n",
      "heyo 15 0.15\n",
      "heyo 16 0.16\n",
      "heyo 17 0.17\n",
      "heyo 18 0.18\n",
      "heyo 19 0.19\n",
      "heyo 20 0.2\n",
      "heyo 21 0.21\n",
      "heyo 22 0.22\n",
      "heyo 23 0.23\n",
      "heyo 24 0.24\n",
      "heyo 25 0.25\n",
      "heyo 26 0.26\n",
      "heyo 27 0.27\n",
      "heyo 28 0.28\n",
      "heyo 29 0.29\n",
      "heyo 30 0.3\n",
      "heyo 31 0.31\n",
      "heyo 32 0.32\n",
      "heyo 33 0.33\n",
      "heyo 34 0.34\n",
      "heyo 35 0.35\n",
      "heyo 36 0.36\n",
      "heyo 37 0.37\n",
      "heyo 38 0.38\n",
      "heyo 39 0.39\n",
      "heyo 40 0.4\n",
      "heyo 41 0.41\n",
      "heyo 42 0.42\n",
      "heyo 43 0.43\n",
      "heyo 44 0.44\n",
      "heyo 45 0.45\n",
      "heyo 46 0.46\n",
      "heyo 47 0.47\n",
      "heyo 48 0.48\n",
      "heyo 49 0.49\n"
     ]
    }
   ],
   "source": [
    "#see what will happen\n",
    "#1st bin is the j=0th bin, 50th bin is the j=49th bin\n",
    "for Bin,j in enumerate(np.arange(0,.51,.01)):\n",
    "    #print Bin,j\n",
    "    if 0.50>j: #0.50 don't need their own bin\n",
    "        print \"heyo\",Bin,j"
   ]
  },
  {
   "cell_type": "code",
   "execution_count": 37,
   "metadata": {
    "collapsed": true
   },
   "outputs": [
    {
     "ename": "KeyError",
     "evalue": "'the label [1043] is not in the [index]'",
     "output_type": "error",
     "traceback": [
      "\u001b[1;31m---------------------------------------------------------------------------\u001b[0m",
      "\u001b[1;31mKeyError\u001b[0m                                  Traceback (most recent call last)",
      "\u001b[1;32m<ipython-input-37-2e0f0a486b60>\u001b[0m in \u001b[0;36m<module>\u001b[1;34m()\u001b[0m\n\u001b[1;32m----> 1\u001b[1;33m \u001b[0mnp\u001b[0m\u001b[1;33m.\u001b[0m\u001b[0mround\u001b[0m\u001b[1;33m(\u001b[0m\u001b[0mH\u001b[0m\u001b[1;33m.\u001b[0m\u001b[0mloc\u001b[0m\u001b[1;33m[\u001b[0m\u001b[1;36m1043\u001b[0m\u001b[1;33m,\u001b[0m\u001b[1;34m'h_exp'\u001b[0m\u001b[1;33m]\u001b[0m\u001b[1;33m,\u001b[0m\u001b[0mdecimals\u001b[0m\u001b[1;33m=\u001b[0m\u001b[1;36m4\u001b[0m\u001b[1;33m)\u001b[0m\u001b[1;33m\u001b[0m\u001b[0m\n\u001b[0m",
      "\u001b[1;32m/gpfs_fs/home/lindb/anaconda/envs/conda/lib/python2.7/site-packages/pandas/core/indexing.pyc\u001b[0m in \u001b[0;36m__getitem__\u001b[1;34m(self, key)\u001b[0m\n\u001b[0;32m   1223\u001b[0m     \u001b[1;32mdef\u001b[0m \u001b[0m__getitem__\u001b[0m\u001b[1;33m(\u001b[0m\u001b[0mself\u001b[0m\u001b[1;33m,\u001b[0m \u001b[0mkey\u001b[0m\u001b[1;33m)\u001b[0m\u001b[1;33m:\u001b[0m\u001b[1;33m\u001b[0m\u001b[0m\n\u001b[0;32m   1224\u001b[0m         \u001b[1;32mif\u001b[0m \u001b[0mtype\u001b[0m\u001b[1;33m(\u001b[0m\u001b[0mkey\u001b[0m\u001b[1;33m)\u001b[0m \u001b[1;32mis\u001b[0m \u001b[0mtuple\u001b[0m\u001b[1;33m:\u001b[0m\u001b[1;33m\u001b[0m\u001b[0m\n\u001b[1;32m-> 1225\u001b[1;33m             \u001b[1;32mreturn\u001b[0m \u001b[0mself\u001b[0m\u001b[1;33m.\u001b[0m\u001b[0m_getitem_tuple\u001b[0m\u001b[1;33m(\u001b[0m\u001b[0mkey\u001b[0m\u001b[1;33m)\u001b[0m\u001b[1;33m\u001b[0m\u001b[0m\n\u001b[0m\u001b[0;32m   1226\u001b[0m         \u001b[1;32melse\u001b[0m\u001b[1;33m:\u001b[0m\u001b[1;33m\u001b[0m\u001b[0m\n\u001b[0;32m   1227\u001b[0m             \u001b[1;32mreturn\u001b[0m \u001b[0mself\u001b[0m\u001b[1;33m.\u001b[0m\u001b[0m_getitem_axis\u001b[0m\u001b[1;33m(\u001b[0m\u001b[0mkey\u001b[0m\u001b[1;33m,\u001b[0m \u001b[0maxis\u001b[0m\u001b[1;33m=\u001b[0m\u001b[1;36m0\u001b[0m\u001b[1;33m)\u001b[0m\u001b[1;33m\u001b[0m\u001b[0m\n",
      "\u001b[1;32m/gpfs_fs/home/lindb/anaconda/envs/conda/lib/python2.7/site-packages/pandas/core/indexing.pyc\u001b[0m in \u001b[0;36m_getitem_tuple\u001b[1;34m(self, tup)\u001b[0m\n\u001b[0;32m    736\u001b[0m     \u001b[1;32mdef\u001b[0m \u001b[0m_getitem_tuple\u001b[0m\u001b[1;33m(\u001b[0m\u001b[0mself\u001b[0m\u001b[1;33m,\u001b[0m \u001b[0mtup\u001b[0m\u001b[1;33m)\u001b[0m\u001b[1;33m:\u001b[0m\u001b[1;33m\u001b[0m\u001b[0m\n\u001b[0;32m    737\u001b[0m         \u001b[1;32mtry\u001b[0m\u001b[1;33m:\u001b[0m\u001b[1;33m\u001b[0m\u001b[0m\n\u001b[1;32m--> 738\u001b[1;33m             \u001b[1;32mreturn\u001b[0m \u001b[0mself\u001b[0m\u001b[1;33m.\u001b[0m\u001b[0m_getitem_lowerdim\u001b[0m\u001b[1;33m(\u001b[0m\u001b[0mtup\u001b[0m\u001b[1;33m)\u001b[0m\u001b[1;33m\u001b[0m\u001b[0m\n\u001b[0m\u001b[0;32m    739\u001b[0m         \u001b[1;32mexcept\u001b[0m \u001b[0mIndexingError\u001b[0m\u001b[1;33m:\u001b[0m\u001b[1;33m\u001b[0m\u001b[0m\n\u001b[0;32m    740\u001b[0m             \u001b[1;32mpass\u001b[0m\u001b[1;33m\u001b[0m\u001b[0m\n",
      "\u001b[1;32m/gpfs_fs/home/lindb/anaconda/envs/conda/lib/python2.7/site-packages/pandas/core/indexing.pyc\u001b[0m in \u001b[0;36m_getitem_lowerdim\u001b[1;34m(self, tup)\u001b[0m\n\u001b[0;32m    861\u001b[0m         \u001b[1;32mfor\u001b[0m \u001b[0mi\u001b[0m\u001b[1;33m,\u001b[0m \u001b[0mkey\u001b[0m \u001b[1;32min\u001b[0m \u001b[0menumerate\u001b[0m\u001b[1;33m(\u001b[0m\u001b[0mtup\u001b[0m\u001b[1;33m)\u001b[0m\u001b[1;33m:\u001b[0m\u001b[1;33m\u001b[0m\u001b[0m\n\u001b[0;32m    862\u001b[0m             \u001b[1;32mif\u001b[0m \u001b[0mis_label_like\u001b[0m\u001b[1;33m(\u001b[0m\u001b[0mkey\u001b[0m\u001b[1;33m)\u001b[0m \u001b[1;32mor\u001b[0m \u001b[0misinstance\u001b[0m\u001b[1;33m(\u001b[0m\u001b[0mkey\u001b[0m\u001b[1;33m,\u001b[0m \u001b[0mtuple\u001b[0m\u001b[1;33m)\u001b[0m\u001b[1;33m:\u001b[0m\u001b[1;33m\u001b[0m\u001b[0m\n\u001b[1;32m--> 863\u001b[1;33m                 \u001b[0msection\u001b[0m \u001b[1;33m=\u001b[0m \u001b[0mself\u001b[0m\u001b[1;33m.\u001b[0m\u001b[0m_getitem_axis\u001b[0m\u001b[1;33m(\u001b[0m\u001b[0mkey\u001b[0m\u001b[1;33m,\u001b[0m \u001b[0maxis\u001b[0m\u001b[1;33m=\u001b[0m\u001b[0mi\u001b[0m\u001b[1;33m)\u001b[0m\u001b[1;33m\u001b[0m\u001b[0m\n\u001b[0m\u001b[0;32m    864\u001b[0m \u001b[1;33m\u001b[0m\u001b[0m\n\u001b[0;32m    865\u001b[0m                 \u001b[1;31m# we have yielded a scalar ?\u001b[0m\u001b[1;33m\u001b[0m\u001b[1;33m\u001b[0m\u001b[0m\n",
      "\u001b[1;32m/gpfs_fs/home/lindb/anaconda/envs/conda/lib/python2.7/site-packages/pandas/core/indexing.pyc\u001b[0m in \u001b[0;36m_getitem_axis\u001b[1;34m(self, key, axis)\u001b[0m\n\u001b[0;32m   1369\u001b[0m \u001b[1;33m\u001b[0m\u001b[0m\n\u001b[0;32m   1370\u001b[0m         \u001b[1;31m# fall thru to straight lookup\u001b[0m\u001b[1;33m\u001b[0m\u001b[1;33m\u001b[0m\u001b[0m\n\u001b[1;32m-> 1371\u001b[1;33m         \u001b[0mself\u001b[0m\u001b[1;33m.\u001b[0m\u001b[0m_has_valid_type\u001b[0m\u001b[1;33m(\u001b[0m\u001b[0mkey\u001b[0m\u001b[1;33m,\u001b[0m \u001b[0maxis\u001b[0m\u001b[1;33m)\u001b[0m\u001b[1;33m\u001b[0m\u001b[0m\n\u001b[0m\u001b[0;32m   1372\u001b[0m         \u001b[1;32mreturn\u001b[0m \u001b[0mself\u001b[0m\u001b[1;33m.\u001b[0m\u001b[0m_get_label\u001b[0m\u001b[1;33m(\u001b[0m\u001b[0mkey\u001b[0m\u001b[1;33m,\u001b[0m \u001b[0maxis\u001b[0m\u001b[1;33m=\u001b[0m\u001b[0maxis\u001b[0m\u001b[1;33m)\u001b[0m\u001b[1;33m\u001b[0m\u001b[0m\n\u001b[0;32m   1373\u001b[0m \u001b[1;33m\u001b[0m\u001b[0m\n",
      "\u001b[1;32m/gpfs_fs/home/lindb/anaconda/envs/conda/lib/python2.7/site-packages/pandas/core/indexing.pyc\u001b[0m in \u001b[0;36m_has_valid_type\u001b[1;34m(self, key, axis)\u001b[0m\n\u001b[0;32m   1331\u001b[0m                 \u001b[1;32mraise\u001b[0m\u001b[1;33m\u001b[0m\u001b[0m\n\u001b[0;32m   1332\u001b[0m             \u001b[1;32mexcept\u001b[0m\u001b[1;33m:\u001b[0m\u001b[1;33m\u001b[0m\u001b[0m\n\u001b[1;32m-> 1333\u001b[1;33m                 \u001b[0merror\u001b[0m\u001b[1;33m(\u001b[0m\u001b[1;33m)\u001b[0m\u001b[1;33m\u001b[0m\u001b[0m\n\u001b[0m\u001b[0;32m   1334\u001b[0m \u001b[1;33m\u001b[0m\u001b[0m\n\u001b[0;32m   1335\u001b[0m         \u001b[1;32mreturn\u001b[0m \u001b[0mTrue\u001b[0m\u001b[1;33m\u001b[0m\u001b[0m\n",
      "\u001b[1;32m/gpfs_fs/home/lindb/anaconda/envs/conda/lib/python2.7/site-packages/pandas/core/indexing.pyc\u001b[0m in \u001b[0;36merror\u001b[1;34m()\u001b[0m\n\u001b[0;32m   1318\u001b[0m                         \"cannot use label indexing with a null key\")\n\u001b[0;32m   1319\u001b[0m                 raise KeyError(\"the label [%s] is not in the [%s]\" %\n\u001b[1;32m-> 1320\u001b[1;33m                                (key, self.obj._get_axis_name(axis)))\n\u001b[0m\u001b[0;32m   1321\u001b[0m \u001b[1;33m\u001b[0m\u001b[0m\n\u001b[0;32m   1322\u001b[0m             \u001b[1;32mtry\u001b[0m\u001b[1;33m:\u001b[0m\u001b[1;33m\u001b[0m\u001b[0m\n",
      "\u001b[1;31mKeyError\u001b[0m: 'the label [1043] is not in the [index]'"
     ]
    }
   ],
   "source": [
    "np.round(H.loc[1043,'h_exp'],decimals=4)"
   ]
  },
  {
   "cell_type": "code",
   "execution_count": 139,
   "metadata": {
    "collapsed": true
   },
   "outputs": [
    {
     "name": "stdout",
     "output_type": "stream",
     "text": [
      "1000\n",
      "2000\n",
      "3000\n",
      "4000\n",
      "5000\n",
      "6000\n",
      "7000\n",
      "8000\n",
      "9000\n",
      "10000\n",
      "11000\n",
      "12000\n",
      "13000\n",
      "14000\n",
      "15000\n",
      "16000\n",
      "17000\n",
      "18000\n",
      "19000\n",
      "20000\n",
      "21000\n",
      "22000\n",
      "23000\n",
      "24000\n",
      "25000\n",
      "26000\n",
      "27000\n",
      "28000\n",
      "29000\n",
      "30000\n",
      "31000\n",
      "32000\n",
      "33000\n",
      "34000\n",
      "35000\n",
      "36000\n",
      "37000\n",
      "38000\n",
      "39000\n",
      "40000\n",
      "41000\n",
      "42000\n",
      "43000\n",
      "44000\n",
      "45000\n",
      "46000\n",
      "47000\n",
      "48000\n",
      "49000\n",
      "50000\n",
      "51000\n",
      "52000\n",
      "53000\n",
      "54000\n",
      "55000\n",
      "56000\n",
      "57000\n",
      "58000\n",
      "59000\n",
      "60000\n",
      "61000\n",
      "62000\n",
      "63000\n",
      "64000\n",
      "65000\n",
      "66000\n",
      "67000\n",
      "68000\n",
      "69000\n",
      "70000\n",
      "71000\n",
      "72000\n",
      "73000\n",
      "74000\n",
      "75000\n",
      "76000\n",
      "77000\n",
      "78000\n",
      "79000\n",
      "80000\n",
      "81000\n",
      "82000\n",
      "83000\n",
      "84000\n",
      "85000\n",
      "86000\n",
      "87000\n",
      "88000\n",
      "89000\n",
      "90000\n",
      "91000\n",
      "92000\n",
      "93000\n",
      "94000\n",
      "95000\n",
      "96000\n",
      "97000\n",
      "98000\n",
      "99000\n",
      "100000\n",
      "101000\n",
      "102000\n",
      "103000\n",
      "104000\n",
      "105000\n",
      "106000\n",
      "107000\n",
      "108000\n",
      "109000\n",
      "110000\n",
      "111000\n",
      "112000\n",
      "113000\n",
      "114000\n",
      "115000\n",
      "116000\n"
     ]
    }
   ],
   "source": [
    "#assign bins to samps\n",
    "#1st bin is the j=0th bin, 50th bin is the j=49th bin\n",
    "count = 0\n",
    "binDict = OrderedDict()\n",
    "for row in H.index:\n",
    "    h = np.round(H.loc[row,'h_exp'],decimals=3)\n",
    "    binDict[row] = 0 #because 2pq will never be equal to 0 for a SNP, but may be less than 0.01\n",
    "    for Bin,j in enumerate(np.arange(0,0.51,0.01)): #1st bin is the j=0th bin, 50th bin is the j=49th bin\n",
    "        if h>j: #binDict[row] will constantly replace the value, which is good. don't want 2pq=0.5 having its own group\n",
    "            binDict[row] = Bin\n",
    "    count += 1\n",
    "    if count % 1000 == 0:\n",
    "        print count"
   ]
  },
  {
   "cell_type": "code",
   "execution_count": 141,
   "metadata": {
    "collapsed": false,
    "scrolled": true
   },
   "outputs": [
    {
     "data": {
      "text/plain": [
       "49"
      ]
     },
     "execution_count": 141,
     "metadata": {},
     "output_type": "execute_result"
    }
   ],
   "source": [
    "len(np.unique(binDict.values()).tolist()) # how many bins"
   ]
  },
  {
   "cell_type": "code",
   "execution_count": 148,
   "metadata": {
    "collapsed": false
   },
   "outputs": [
    {
     "data": {
      "text/plain": [
       "([1, 1, 1, 1, 1, 1, 1, 1, 1, 1], [49, 49, 49, 49, 49, 49, 49, 49, 49, 49])"
      ]
     },
     "execution_count": 148,
     "metadata": {},
     "output_type": "execute_result"
    }
   ],
   "source": [
    "binDict.values()[:10],binDict.values()[-10:]"
   ]
  },
  {
   "cell_type": "code",
   "execution_count": 239,
   "metadata": {
    "collapsed": false,
    "scrolled": true
   },
   "outputs": [],
   "source": [
    "H['bin'] = binDict.values()"
   ]
  },
  {
   "cell_type": "code",
   "execution_count": 240,
   "metadata": {
    "collapsed": false,
    "scrolled": true
   },
   "outputs": [
    {
     "data": {
      "text/html": [
       "<div>\n",
       "<table border=\"1\" class=\"dataframe\">\n",
       "  <thead>\n",
       "    <tr style=\"text-align: right;\">\n",
       "      <th></th>\n",
       "      <th>locus</th>\n",
       "      <th>h_exp</th>\n",
       "      <th>bin</th>\n",
       "    </tr>\n",
       "  </thead>\n",
       "  <tbody>\n",
       "    <tr>\n",
       "      <th>NODE_1274178_length_97_cov_1.030928_97</th>\n",
       "      <td>NODE_1274178_length_97_cov_1.030928_97</td>\n",
       "      <td>0.020282</td>\n",
       "      <td>1</td>\n",
       "    </tr>\n",
       "    <tr>\n",
       "      <th>NODE_694898_length_99_cov_1.676768_19</th>\n",
       "      <td>NODE_694898_length_99_cov_1.676768_19</td>\n",
       "      <td>0.020282</td>\n",
       "      <td>1</td>\n",
       "    </tr>\n",
       "    <tr>\n",
       "      <th>NODE_544568_length_93_cov_4.064516_12</th>\n",
       "      <td>NODE_544568_length_93_cov_4.064516_12</td>\n",
       "      <td>0.020282</td>\n",
       "      <td>1</td>\n",
       "    </tr>\n",
       "    <tr>\n",
       "      <th>NODE_1278450_length_97_cov_2.000000_111</th>\n",
       "      <td>NODE_1278450_length_97_cov_2.000000_111</td>\n",
       "      <td>0.020282</td>\n",
       "      <td>1</td>\n",
       "    </tr>\n",
       "    <tr>\n",
       "      <th>NODE_1913585_length_92_cov_1.750000_37</th>\n",
       "      <td>NODE_1913585_length_92_cov_1.750000_37</td>\n",
       "      <td>0.020282</td>\n",
       "      <td>1</td>\n",
       "    </tr>\n",
       "  </tbody>\n",
       "</table>\n",
       "</div>"
      ],
      "text/plain": [
       "                                                                           locus  \\\n",
       "NODE_1274178_length_97_cov_1.030928_97    NODE_1274178_length_97_cov_1.030928_97   \n",
       "NODE_694898_length_99_cov_1.676768_19      NODE_694898_length_99_cov_1.676768_19   \n",
       "NODE_544568_length_93_cov_4.064516_12      NODE_544568_length_93_cov_4.064516_12   \n",
       "NODE_1278450_length_97_cov_2.000000_111  NODE_1278450_length_97_cov_2.000000_111   \n",
       "NODE_1913585_length_92_cov_1.750000_37    NODE_1913585_length_92_cov_1.750000_37   \n",
       "\n",
       "                                            h_exp  bin  \n",
       "NODE_1274178_length_97_cov_1.030928_97   0.020282    1  \n",
       "NODE_694898_length_99_cov_1.676768_19    0.020282    1  \n",
       "NODE_544568_length_93_cov_4.064516_12    0.020282    1  \n",
       "NODE_1278450_length_97_cov_2.000000_111  0.020282    1  \n",
       "NODE_1913585_length_92_cov_1.750000_37   0.020282    1  "
      ]
     },
     "execution_count": 240,
     "metadata": {},
     "output_type": "execute_result"
    }
   ],
   "source": [
    "H.head()"
   ]
  },
  {
   "cell_type": "code",
   "execution_count": 149,
   "metadata": {
    "collapsed": false
   },
   "outputs": [
    {
     "data": {
      "text/plain": [
       "array([ 1,  2,  3,  4,  5,  6,  7,  8,  9, 10, 11, 12, 13, 14, 15, 16, 17,\n",
       "       18, 19, 20, 21, 22, 23, 24, 25, 26, 27, 28, 29, 30, 31, 32, 33, 34,\n",
       "       35, 36, 37, 38, 39, 40, 41, 42, 43, 44, 45, 46, 47, 48, 49])"
      ]
     },
     "execution_count": 149,
     "metadata": {},
     "output_type": "execute_result"
    }
   ],
   "source": [
    "np.unique(H['bin'])"
   ]
  },
  {
   "cell_type": "code",
   "execution_count": 79,
   "metadata": {
    "collapsed": true
   },
   "outputs": [],
   "source": [
    "#write the file\n",
    "filE = '/home/lindb/wbp/OutFLANK/Hexp_by_snp_withbins.txt'\n",
    "H.to_csv(filE,header=True,index=True,sep='\\t')"
   ]
  },
  {
   "cell_type": "code",
   "execution_count": 30,
   "metadata": {
    "collapsed": true
   },
   "outputs": [],
   "source": [
    "#read back the file\n",
    "filE = '/home/lindb/wbp/OutFLANK/Hexp_by_snp_withbins.txt'\n",
    "H = pd.read_csv(filE, header=0,index_col=0,sep='\\t')"
   ]
  },
  {
   "cell_type": "code",
   "execution_count": 276,
   "metadata": {
    "collapsed": true
   },
   "outputs": [],
   "source": [
    "from matplotlib.backends.backend_pdf import PdfPages"
   ]
  },
  {
   "cell_type": "code",
   "execution_count": 288,
   "metadata": {
    "collapsed": false
   },
   "outputs": [
    {
     "data": {
      "text/html": [
       "<div>\n",
       "<table border=\"1\" class=\"dataframe\">\n",
       "  <thead>\n",
       "    <tr style=\"text-align: right;\">\n",
       "      <th></th>\n",
       "      <th>locus</th>\n",
       "      <th>h_exp</th>\n",
       "      <th>bin</th>\n",
       "    </tr>\n",
       "  </thead>\n",
       "  <tbody>\n",
       "    <tr>\n",
       "      <th>NODE_1274178_length_97_cov_1.030928_97</th>\n",
       "      <td>NODE_1274178_length_97_cov_1.030928_97</td>\n",
       "      <td>0.020282</td>\n",
       "      <td>1</td>\n",
       "    </tr>\n",
       "    <tr>\n",
       "      <th>NODE_694898_length_99_cov_1.676768_19</th>\n",
       "      <td>NODE_694898_length_99_cov_1.676768_19</td>\n",
       "      <td>0.020282</td>\n",
       "      <td>1</td>\n",
       "    </tr>\n",
       "    <tr>\n",
       "      <th>NODE_544568_length_93_cov_4.064516_12</th>\n",
       "      <td>NODE_544568_length_93_cov_4.064516_12</td>\n",
       "      <td>0.020282</td>\n",
       "      <td>1</td>\n",
       "    </tr>\n",
       "    <tr>\n",
       "      <th>NODE_1278450_length_97_cov_2.000000_111</th>\n",
       "      <td>NODE_1278450_length_97_cov_2.000000_111</td>\n",
       "      <td>0.020282</td>\n",
       "      <td>1</td>\n",
       "    </tr>\n",
       "    <tr>\n",
       "      <th>NODE_1913585_length_92_cov_1.750000_37</th>\n",
       "      <td>NODE_1913585_length_92_cov_1.750000_37</td>\n",
       "      <td>0.020282</td>\n",
       "      <td>1</td>\n",
       "    </tr>\n",
       "  </tbody>\n",
       "</table>\n",
       "</div>"
      ],
      "text/plain": [
       "                                                                           locus  \\\n",
       "NODE_1274178_length_97_cov_1.030928_97    NODE_1274178_length_97_cov_1.030928_97   \n",
       "NODE_694898_length_99_cov_1.676768_19      NODE_694898_length_99_cov_1.676768_19   \n",
       "NODE_544568_length_93_cov_4.064516_12      NODE_544568_length_93_cov_4.064516_12   \n",
       "NODE_1278450_length_97_cov_2.000000_111  NODE_1278450_length_97_cov_2.000000_111   \n",
       "NODE_1913585_length_92_cov_1.750000_37    NODE_1913585_length_92_cov_1.750000_37   \n",
       "\n",
       "                                            h_exp  bin  \n",
       "NODE_1274178_length_97_cov_1.030928_97   0.020282    1  \n",
       "NODE_694898_length_99_cov_1.676768_19    0.020282    1  \n",
       "NODE_544568_length_93_cov_4.064516_12    0.020282    1  \n",
       "NODE_1278450_length_97_cov_2.000000_111  0.020282    1  \n",
       "NODE_1913585_length_92_cov_1.750000_37   0.020282    1  "
      ]
     },
     "execution_count": 288,
     "metadata": {},
     "output_type": "execute_result"
    }
   ],
   "source": [
    "H.head()"
   ]
  },
  {
   "cell_type": "code",
   "execution_count": 290,
   "metadata": {
    "collapsed": false
   },
   "outputs": [
    {
     "data": {
      "image/png": "[encoded data removed]",
      "text/plain": [
       "<matplotlib.figure.Figure at 0x2ba12b3b04d0>"
      ]
     },
     "metadata": {},
     "output_type": "display_data"
    }
   ],
   "source": [
    "with PdfPages('/home/lindb/wbp/OutFLANK/figures/expected_heterozygosit_all_SNPs.pdf') as pdf:\n",
    "    fig = plt.figure()\n",
    "    plt.hist(H['h_exp'],bins = [x for x in np.arange(0,0.51,0.01)])[2]\n",
    "    plt.xlabel('Expected Heterozygosity')\n",
    "    plt.ylabel('Count')\n",
    "    #set_size_inches(5,5)\n",
    "    pdf.savefig(fig,bbox_inches='tight')"
   ]
  },
  {
   "cell_type": "code",
   "execution_count": 281,
   "metadata": {
    "collapsed": false
   },
   "outputs": [
    {
     "data": {
      "image/png": "[encoded data removed]",
      "text/plain": [
       "<matplotlib.figure.Figure at 0x2ba12acc4c50>"
      ]
     },
     "metadata": {},
     "output_type": "display_data"
    }
   ],
   "source": [
    "with PdfPages('/home/lindb/wbp/OutFLANK/figures/expected_heterozygosit_all_SNPs.pdf') as pdf:\n",
    "    fig = plt.figure()\n",
    "    plt.hist(H['bin'],bins = [x for x in range(51)])[2]\n",
    "    plt.xlabel('Expected Heterozygosity')\n",
    "    plt.ylabel('Count')\n",
    "    #set_size_inches(5,5)\n",
    "    pdf.savefig(fig,bbox_inches='tight')"
   ]
  },
  {
   "cell_type": "code",
   "execution_count": 306,
   "metadata": {
    "collapsed": false
   },
   "outputs": [
    {
     "data": {
      "text/plain": [
       "116231"
      ]
     },
     "execution_count": 306,
     "metadata": {},
     "output_type": "execute_result"
    }
   ],
   "source": [
    "len(H.index)"
   ]
  },
  {
   "cell_type": "markdown",
   "metadata": {},
   "source": [
    "# make minor allele freq dataframe"
   ]
  },
  {
   "cell_type": "code",
   "execution_count": 7,
   "metadata": {
    "collapsed": false
   },
   "outputs": [
    {
     "data": {
      "text/html": [
       "<div>\n",
       "<table border=\"1\" class=\"dataframe\">\n",
       "  <thead>\n",
       "    <tr style=\"text-align: right;\">\n",
       "      <th></th>\n",
       "      <th>Dicks_Pass</th>\n",
       "      <th>Freel_Peak</th>\n",
       "      <th>Heavenly</th>\n",
       "      <th>Little_Round_Top</th>\n",
       "      <th>Mt_Rose_Ophir</th>\n",
       "      <th>Rifle_Peak</th>\n",
       "      <th>Snow_Valley_Peak</th>\n",
       "      <th>West_Shore_Peaks</th>\n",
       "    </tr>\n",
       "  </thead>\n",
       "  <tbody>\n",
       "    <tr>\n",
       "      <th>NODE_1000013_length_91_cov_1.802198_37</th>\n",
       "      <td>43</td>\n",
       "      <td>91</td>\n",
       "      <td>43</td>\n",
       "      <td>42</td>\n",
       "      <td>87</td>\n",
       "      <td>42</td>\n",
       "      <td>41</td>\n",
       "      <td>40</td>\n",
       "    </tr>\n",
       "    <tr>\n",
       "      <th>NODE_1000013_length_91_cov_1.802198_37</th>\n",
       "      <td>7</td>\n",
       "      <td>5</td>\n",
       "      <td>7</td>\n",
       "      <td>8</td>\n",
       "      <td>11</td>\n",
       "      <td>6</td>\n",
       "      <td>7</td>\n",
       "      <td>8</td>\n",
       "    </tr>\n",
       "    <tr>\n",
       "      <th>NODE_1000031_length_98_cov_2.000000_30</th>\n",
       "      <td>37</td>\n",
       "      <td>86</td>\n",
       "      <td>41</td>\n",
       "      <td>40</td>\n",
       "      <td>90</td>\n",
       "      <td>42</td>\n",
       "      <td>41</td>\n",
       "      <td>37</td>\n",
       "    </tr>\n",
       "    <tr>\n",
       "      <th>NODE_1000031_length_98_cov_2.000000_30</th>\n",
       "      <td>13</td>\n",
       "      <td>10</td>\n",
       "      <td>9</td>\n",
       "      <td>10</td>\n",
       "      <td>8</td>\n",
       "      <td>6</td>\n",
       "      <td>7</td>\n",
       "      <td>11</td>\n",
       "    </tr>\n",
       "    <tr>\n",
       "      <th>NODE_1000037_length_93_cov_2.043011_33</th>\n",
       "      <td>46</td>\n",
       "      <td>85</td>\n",
       "      <td>43</td>\n",
       "      <td>42</td>\n",
       "      <td>88</td>\n",
       "      <td>42</td>\n",
       "      <td>40</td>\n",
       "      <td>42</td>\n",
       "    </tr>\n",
       "  </tbody>\n",
       "</table>\n",
       "</div>"
      ],
      "text/plain": [
       "                                        Dicks_Pass  Freel_Peak  Heavenly  \\\n",
       "NODE_1000013_length_91_cov_1.802198_37          43          91        43   \n",
       "NODE_1000013_length_91_cov_1.802198_37           7           5         7   \n",
       "NODE_1000031_length_98_cov_2.000000_30          37          86        41   \n",
       "NODE_1000031_length_98_cov_2.000000_30          13          10         9   \n",
       "NODE_1000037_length_93_cov_2.043011_33          46          85        43   \n",
       "\n",
       "                                        Little_Round_Top  Mt_Rose_Ophir  \\\n",
       "NODE_1000013_length_91_cov_1.802198_37                42             87   \n",
       "NODE_1000013_length_91_cov_1.802198_37                 8             11   \n",
       "NODE_1000031_length_98_cov_2.000000_30                40             90   \n",
       "NODE_1000031_length_98_cov_2.000000_30                10              8   \n",
       "NODE_1000037_length_93_cov_2.043011_33                42             88   \n",
       "\n",
       "                                        Rifle_Peak  Snow_Valley_Peak  \\\n",
       "NODE_1000013_length_91_cov_1.802198_37          42                41   \n",
       "NODE_1000013_length_91_cov_1.802198_37           6                 7   \n",
       "NODE_1000031_length_98_cov_2.000000_30          42                41   \n",
       "NODE_1000031_length_98_cov_2.000000_30           6                 7   \n",
       "NODE_1000037_length_93_cov_2.043011_33          42                40   \n",
       "\n",
       "                                        West_Shore_Peaks  \n",
       "NODE_1000013_length_91_cov_1.802198_37                40  \n",
       "NODE_1000013_length_91_cov_1.802198_37                 8  \n",
       "NODE_1000031_length_98_cov_2.000000_30                37  \n",
       "NODE_1000031_length_98_cov_2.000000_30                11  \n",
       "NODE_1000037_length_93_cov_2.043011_33                42  "
      ]
     },
     "execution_count": 7,
     "metadata": {},
     "output_type": "execute_result"
    }
   ],
   "source": [
    "#get allele counts by pop - first locus = counts of 0 allele, second = counts of 2 allele\n",
    "    #012 counts global minor allele\n",
    "counts = pd.read_csv('/home/lindb/wbp/bayenv2/UnbinnedImputedSNPSFILE.txt',header=0,index_col=0,sep=\"\\t\")\n",
    "counts.head()"
   ]
  },
  {
   "cell_type": "code",
   "execution_count": 5,
   "metadata": {
    "collapsed": false
   },
   "outputs": [
    {
     "data": {
      "text/plain": [
       "488"
      ]
     },
     "execution_count": 5,
     "metadata": {},
     "output_type": "execute_result"
    }
   ],
   "source": [
    "#first row + second row of DataFrame(counts)\n",
    "43+91+43+42+87+42+41+40+7+5+7+8+11+6+7+8"
   ]
  },
  {
   "cell_type": "code",
   "execution_count": 22,
   "metadata": {
    "collapsed": false
   },
   "outputs": [
    {
     "data": {
      "text/html": [
       "<div>\n",
       "<table border=\"1\" class=\"dataframe\">\n",
       "  <thead>\n",
       "    <tr style=\"text-align: right;\">\n",
       "      <th></th>\n",
       "      <th>Dicks_Pass</th>\n",
       "      <th>Freel_Peak</th>\n",
       "      <th>Heavenly</th>\n",
       "      <th>Little_Round_Top</th>\n",
       "      <th>Mt_Rose_Ophir</th>\n",
       "      <th>Rifle_Peak</th>\n",
       "      <th>Snow_Valley_Peak</th>\n",
       "      <th>West_Shore_Peaks</th>\n",
       "    </tr>\n",
       "  </thead>\n",
       "  <tbody>\n",
       "    <tr>\n",
       "      <th>major</th>\n",
       "      <td>43</td>\n",
       "      <td>91</td>\n",
       "      <td>43</td>\n",
       "      <td>42</td>\n",
       "      <td>87</td>\n",
       "      <td>42</td>\n",
       "      <td>41</td>\n",
       "      <td>40</td>\n",
       "    </tr>\n",
       "    <tr>\n",
       "      <th>minor</th>\n",
       "      <td>7</td>\n",
       "      <td>5</td>\n",
       "      <td>7</td>\n",
       "      <td>8</td>\n",
       "      <td>11</td>\n",
       "      <td>6</td>\n",
       "      <td>7</td>\n",
       "      <td>8</td>\n",
       "    </tr>\n",
       "  </tbody>\n",
       "</table>\n",
       "</div>"
      ],
      "text/plain": [
       "       Dicks_Pass  Freel_Peak  Heavenly  Little_Round_Top  Mt_Rose_Ophir  \\\n",
       "major          43          91        43                42             87   \n",
       "minor           7           5         7                 8             11   \n",
       "\n",
       "       Rifle_Peak  Snow_Valley_Peak  West_Shore_Peaks  \n",
       "major          42                41                40  \n",
       "minor           6                 7                 8  "
      ]
     },
     "execution_count": 22,
     "metadata": {},
     "output_type": "execute_result"
    }
   ],
   "source": [
    "df = pd.DataFrame(counts.loc['NODE_1000013_length_91_cov_1.802198_37',:])\n",
    "df.index = ['major','minor']\n",
    "df"
   ]
  },
  {
   "cell_type": "code",
   "execution_count": 23,
   "metadata": {
    "collapsed": false
   },
   "outputs": [
    {
     "data": {
      "text/plain": [
       "50"
      ]
     },
     "execution_count": 23,
     "metadata": {},
     "output_type": "execute_result"
    }
   ],
   "source": [
    "sum(df['Dicks_Pass'])"
   ]
  },
  {
   "cell_type": "code",
   "execution_count": 24,
   "metadata": {
    "collapsed": false
   },
   "outputs": [
    {
     "data": {
      "text/plain": [
       "0.14000000000000001"
      ]
     },
     "execution_count": 24,
     "metadata": {},
     "output_type": "execute_result"
    }
   ],
   "source": [
    "df.loc['minor','Dicks_Pass']/sum(df['Dicks_Pass'])"
   ]
  },
  {
   "cell_type": "code",
   "execution_count": 67,
   "metadata": {
    "collapsed": true
   },
   "outputs": [],
   "source": [
    "#(my notebook is on a slow node)\n",
    "#make minor allele freq dataframe\n",
    "text = '''from __future__ import division\n",
    "import os\n",
    "from collections import OrderedDict,Counter\n",
    "import pandas as pd\n",
    "import numpy as np\n",
    "import random\n",
    "\n",
    "f2 = '/home/lindb/wbp/OutFLANK/update_maf.txt'\n",
    "with open(f2,'w') as o:\n",
    "    text = 'starting\\\\n'\n",
    "    o.write(\"%s\" % text)\n",
    "\n",
    "counts = pd.read_csv('/home/lindb/wbp/bayenv2/UnbinnedImputedSNPSFILE.txt',header=0,index_col=0,sep=\"\\\\t\")\n",
    "loci = np.unique(counts.index).tolist()\n",
    "\n",
    "loccount = 0\n",
    "mafDict = OrderedDict()\n",
    "for locus in loci:\n",
    "    mafDict[locus] = OrderedDict()\n",
    "    data = pd.DataFrame(counts.loc[locus,:])\n",
    "    data.index = ['major','minor']\n",
    "    for pop in data.columns:\n",
    "        MAF = data.loc['minor',pop]/sum(data[pop]) #get allele freq corresponding to global minor allele\n",
    "        mafDict[locus][pop] = MAF\n",
    "    loccount += 1\n",
    "    if loccount % 1000 == 0:\n",
    "        with open(f2,'a') as o:\n",
    "            text = \"%s\" % str(loccount)\n",
    "            o.write(\"%s\\\\n\" % text)\n",
    "        print loccount\n",
    "\n",
    "with open(f2,'a') as o:\n",
    "    text = 'writing file\\\\n'\n",
    "    o.write(\"%s\" % text)\n",
    "\n",
    "filE = '/home/lindb/wbp/OutFLANK/imputed_MAF.txt'\n",
    "with open(filE,'w') as o:\n",
    "    text = '\\\\t'.join([x for x in mafDict[mafDict.keys()[0]].keys()]) + '\\\\n'\n",
    "    o.write(\"%s\" % text)\n",
    "    print text\n",
    "    count = 0\n",
    "    for locus in mafDict.keys():\n",
    "        text = locus + '\\\\t' + '\\\\t'.join([str(x) for x in mafDict[locus].values()]) + '\\\\n'\n",
    "        o.write(\"%s\" % text)\n",
    "        count += 1\n",
    "'''"
   ]
  },
  {
   "cell_type": "code",
   "execution_count": 68,
   "metadata": {
    "collapsed": false
   },
   "outputs": [],
   "source": [
    "filE = '/home/lindb/wbp/OutFLANK/maf.py'\n",
    "with open(filE,'w') as o:\n",
    "    o.write(\"%s\" % text)"
   ]
  },
  {
   "cell_type": "code",
   "execution_count": 66,
   "metadata": {
    "collapsed": true
   },
   "outputs": [],
   "source": [
    "shtext = '''#!/bin/bash\n",
    "#$ -N maf\n",
    "#$ -V\n",
    "#$ -j y\n",
    "#$ -cwd\n",
    "\n",
    "cd /home/lindb/wbp/OutFLANK/\n",
    "python maf.py\n",
    "\n",
    "'''\n",
    "filE = '/home/lindb/wbp/OutFLANK/get_maf.sh'\n",
    "with open(filE,'w') as o:\n",
    "    o.write(\"%s\" % shtext)"
   ]
  },
  {
   "cell_type": "code",
   "execution_count": 123,
   "metadata": {
    "collapsed": true
   },
   "outputs": [],
   "source": [
    "!qsub /home/lindb/wbp/OutFLANK/get_maf.sh"
   ]
  },
  {
   "cell_type": "code",
   "execution_count": 8,
   "metadata": {
    "collapsed": false
   },
   "outputs": [
    {
     "data": {
      "text/plain": [
       "110"
      ]
     },
     "execution_count": 8,
     "metadata": {},
     "output_type": "execute_result"
    }
   ],
   "source": [
    "outliersnps = snps['x'].tolist()\n",
    "len(outliersnps)"
   ]
  },
  {
   "cell_type": "code",
   "execution_count": 163,
   "metadata": {
    "collapsed": true
   },
   "outputs": [
    {
     "data": {
      "text/plain": [
       "['NODE_1001690_length_90_cov_2.000000_37',\n",
       " 'NODE_1012475_length_88_cov_1.022727_43',\n",
       " 'NODE_1025193_length_75_cov_1.093333_47',\n",
       " 'NODE_1030410_length_81_cov_1.259259_40',\n",
       " 'NODE_1038234_length_92_cov_1.000000_53',\n",
       " 'NODE_1063087_length_97_cov_1.639175_100',\n",
       " 'NODE_107570_length_80_cov_1.350000_43',\n",
       " 'NODE_1082793_length_76_cov_1.026316_38',\n",
       " 'NODE_1090835_length_51_cov_1.921569_62',\n",
       " 'NODE_1092275_length_98_cov_3.897959_107',\n",
       " 'NODE_1109529_length_96_cov_1.833333_15',\n",
       " 'NODE_1127778_length_90_cov_1.122222_132',\n",
       " 'NODE_1138926_length_98_cov_2.000000_89',\n",
       " 'NODE_116690_length_74_cov_1.472973_41',\n",
       " 'NODE_1167253_length_98_cov_5.122449_20',\n",
       " 'NODE_1174675_length_78_cov_1.025641_35',\n",
       " 'NODE_1176140_length_98_cov_2.000000_7',\n",
       " 'NODE_1207375_length_94_cov_1.000000_114',\n",
       " 'NODE_1238761_length_100_cov_1.700000_23',\n",
       " 'NODE_1247512_length_46_cov_1.021739_38',\n",
       " 'NODE_1254517_length_98_cov_2.000000_81',\n",
       " 'NODE_1265845_length_124_cov_1.145161_45',\n",
       " 'NODE_1285422_length_94_cov_2.414894_29',\n",
       " 'NODE_1287665_length_98_cov_2.295918_7',\n",
       " 'NODE_131571_length_52_cov_2.019231_37',\n",
       " 'NODE_1323878_length_97_cov_1.010309_22',\n",
       " 'NODE_1326740_length_94_cov_2.691489_40',\n",
       " 'NODE_1348766_length_96_cov_1.000000_12',\n",
       " 'NODE_1356247_length_90_cov_1.000000_8',\n",
       " 'NODE_1388325_length_91_cov_1.648352_32',\n",
       " 'NODE_1391695_length_78_cov_1.025641_38',\n",
       " 'NODE_1432252_length_96_cov_1.833333_21',\n",
       " 'NODE_1435892_length_74_cov_1.067568_47',\n",
       " 'NODE_146895_length_47_cov_1.638298_42',\n",
       " 'NODE_1485589_length_47_cov_1.148936_35',\n",
       " 'NODE_1488451_length_51_cov_1.058824_38',\n",
       " 'NODE_1500113_length_95_cov_1.652632_90',\n",
       " 'NODE_150499_length_93_cov_1.064516_61',\n",
       " 'NODE_1534791_length_63_cov_1.190476_35',\n",
       " 'NODE_1562280_length_90_cov_1.000000_30',\n",
       " 'NODE_1563679_length_53_cov_1.169811_45',\n",
       " 'NODE_1574188_length_98_cov_2.000000_78',\n",
       " 'NODE_1595860_length_128_cov_1.015625_93',\n",
       " 'NODE_1598378_length_88_cov_1.045455_47',\n",
       " 'NODE_1620375_length_86_cov_1.034884_41',\n",
       " 'NODE_1629860_length_95_cov_1.021053_102',\n",
       " 'NODE_1640732_length_98_cov_3.653061_29',\n",
       " 'NODE_1752336_length_98_cov_1.683674_110',\n",
       " 'NODE_1770363_length_53_cov_1.528302_44',\n",
       " 'NODE_1774095_length_84_cov_1.011905_59',\n",
       " 'NODE_1801704_length_74_cov_1.013514_38',\n",
       " 'NODE_1830445_length_48_cov_1.000000_37',\n",
       " 'NODE_1834503_length_95_cov_1.000000_97',\n",
       " 'NODE_1846345_length_96_cov_1.000000_111',\n",
       " 'NODE_1901625_length_98_cov_2.000000_112',\n",
       " 'NODE_1934353_length_90_cov_1.000000_108',\n",
       " 'NODE_1940769_length_131_cov_1.007634_7',\n",
       " 'NODE_1948825_length_76_cov_1.000000_38',\n",
       " 'NODE_1984191_length_91_cov_1.000000_84',\n",
       " 'NODE_1992102_length_95_cov_1.000000_89',\n",
       " 'NODE_1993485_length_90_cov_2.011111_54',\n",
       " 'NODE_2070370_length_89_cov_1.044944_49',\n",
       " 'NODE_2078515_length_96_cov_1.000000_92',\n",
       " 'NODE_2081278_length_56_cov_1.000000_59',\n",
       " 'NODE_210164_length_75_cov_1.120000_49',\n",
       " 'NODE_2108854_length_92_cov_1.000000_78',\n",
       " 'NODE_213401_length_90_cov_3.077778_56',\n",
       " 'NODE_298523_length_55_cov_1.018182_40',\n",
       " 'NODE_354479_length_54_cov_1.666667_41',\n",
       " 'NODE_355944_length_57_cov_1.210526_40',\n",
       " 'NODE_374092_length_86_cov_1.139535_83',\n",
       " 'NODE_404432_length_98_cov_2.000000_56',\n",
       " 'NODE_413346_length_77_cov_1.168831_37',\n",
       " 'NODE_42095_length_78_cov_1.269231_52',\n",
       " 'NODE_429155_length_97_cov_1.000000_48',\n",
       " 'NODE_440628_length_54_cov_2.185185_41',\n",
       " 'NODE_473602_length_93_cov_3.591398_85',\n",
       " 'NODE_479598_length_98_cov_4.500000_111',\n",
       " 'NODE_508000_length_75_cov_1.400000_82',\n",
       " 'NODE_514833_length_96_cov_1.031250_89',\n",
       " 'NODE_570781_length_98_cov_1.469388_31',\n",
       " 'NODE_587104_length_72_cov_1.041667_57',\n",
       " 'NODE_613094_length_75_cov_1.280000_64',\n",
       " 'NODE_621502_length_87_cov_1.264368_60',\n",
       " 'NODE_642299_length_90_cov_1.933333_45',\n",
       " 'NODE_647618_length_98_cov_1.408163_95',\n",
       " 'NODE_656443_length_117_cov_1.367521_117',\n",
       " 'NODE_674798_length_79_cov_1.367089_44',\n",
       " 'NODE_704681_length_57_cov_2.912281_42',\n",
       " 'NODE_719579_length_79_cov_1.050633_86',\n",
       " 'NODE_722618_length_48_cov_1.145833_34',\n",
       " 'NODE_745002_length_86_cov_1.174419_47',\n",
       " 'NODE_763333_length_86_cov_1.197674_57',\n",
       " 'NODE_783359_length_49_cov_1.081633_37',\n",
       " 'NODE_793972_length_81_cov_1.098765_51',\n",
       " 'NODE_797516_length_50_cov_1.300000_42',\n",
       " 'NODE_80803_length_75_cov_1.053333_36',\n",
       " 'NODE_816578_length_78_cov_1.230769_74',\n",
       " 'NODE_831879_length_108_cov_1.129630_90',\n",
       " 'NODE_843063_length_96_cov_1.010417_101',\n",
       " 'NODE_861529_length_116_cov_1.318966_103',\n",
       " 'NODE_866842_length_48_cov_1.229167_34',\n",
       " 'NODE_880604_length_66_cov_1.363636_44',\n",
       " 'NODE_893311_length_93_cov_2.000000_109',\n",
       " 'NODE_897315_length_77_cov_1.337662_38',\n",
       " 'NODE_904862_length_47_cov_1.382979_41',\n",
       " 'NODE_923338_length_97_cov_3.154639_15',\n",
       " 'NODE_983665_length_98_cov_2.000000_96',\n",
       " 'NODE_987313_length_98_cov_4.653061_59',\n",
       " 'NODE_988447_length_96_cov_2.697917_32']"
      ]
     },
     "execution_count": 163,
     "metadata": {},
     "output_type": "execute_result"
    }
   ],
   "source": [
    "outliersnps"
   ]
  },
  {
   "cell_type": "code",
   "execution_count": 27,
   "metadata": {
    "collapsed": false
   },
   "outputs": [
    {
     "data": {
      "text/html": [
       "<div>\n",
       "<table border=\"1\" class=\"dataframe\">\n",
       "  <thead>\n",
       "    <tr style=\"text-align: right;\">\n",
       "      <th></th>\n",
       "      <th>Dicks_Pass</th>\n",
       "      <th>Freel_Peak</th>\n",
       "      <th>Heavenly</th>\n",
       "      <th>Little_Round_Top</th>\n",
       "      <th>Mt_Rose_Ophir</th>\n",
       "      <th>Rifle_Peak</th>\n",
       "      <th>Snow_Valley_Peak</th>\n",
       "      <th>West_Shore_Peaks</th>\n",
       "    </tr>\n",
       "  </thead>\n",
       "  <tbody>\n",
       "    <tr>\n",
       "      <th>NODE_1000013_length_91_cov_1.802198_37</th>\n",
       "      <td>0.14</td>\n",
       "      <td>0.052083</td>\n",
       "      <td>0.14</td>\n",
       "      <td>0.16</td>\n",
       "      <td>0.112245</td>\n",
       "      <td>0.1250</td>\n",
       "      <td>0.145833</td>\n",
       "      <td>0.166667</td>\n",
       "    </tr>\n",
       "    <tr>\n",
       "      <th>NODE_1000031_length_98_cov_2.000000_30</th>\n",
       "      <td>0.26</td>\n",
       "      <td>0.104167</td>\n",
       "      <td>0.18</td>\n",
       "      <td>0.20</td>\n",
       "      <td>0.081633</td>\n",
       "      <td>0.1250</td>\n",
       "      <td>0.145833</td>\n",
       "      <td>0.229167</td>\n",
       "    </tr>\n",
       "    <tr>\n",
       "      <th>NODE_1000037_length_93_cov_2.043011_33</th>\n",
       "      <td>0.08</td>\n",
       "      <td>0.114583</td>\n",
       "      <td>0.14</td>\n",
       "      <td>0.16</td>\n",
       "      <td>0.102041</td>\n",
       "      <td>0.1250</td>\n",
       "      <td>0.166667</td>\n",
       "      <td>0.125000</td>\n",
       "    </tr>\n",
       "    <tr>\n",
       "      <th>NODE_1000042_length_93_cov_1.118280_100</th>\n",
       "      <td>0.06</td>\n",
       "      <td>0.020833</td>\n",
       "      <td>0.08</td>\n",
       "      <td>0.02</td>\n",
       "      <td>0.051020</td>\n",
       "      <td>0.0000</td>\n",
       "      <td>0.041667</td>\n",
       "      <td>0.062500</td>\n",
       "    </tr>\n",
       "    <tr>\n",
       "      <th>NODE_1000053_length_94_cov_1.744681_25</th>\n",
       "      <td>0.02</td>\n",
       "      <td>0.020833</td>\n",
       "      <td>0.04</td>\n",
       "      <td>0.02</td>\n",
       "      <td>0.010204</td>\n",
       "      <td>0.0625</td>\n",
       "      <td>0.020833</td>\n",
       "      <td>0.020833</td>\n",
       "    </tr>\n",
       "  </tbody>\n",
       "</table>\n",
       "</div>"
      ],
      "text/plain": [
       "                                         Dicks_Pass  Freel_Peak  Heavenly  \\\n",
       "NODE_1000013_length_91_cov_1.802198_37         0.14    0.052083      0.14   \n",
       "NODE_1000031_length_98_cov_2.000000_30         0.26    0.104167      0.18   \n",
       "NODE_1000037_length_93_cov_2.043011_33         0.08    0.114583      0.14   \n",
       "NODE_1000042_length_93_cov_1.118280_100        0.06    0.020833      0.08   \n",
       "NODE_1000053_length_94_cov_1.744681_25         0.02    0.020833      0.04   \n",
       "\n",
       "                                         Little_Round_Top  Mt_Rose_Ophir  \\\n",
       "NODE_1000013_length_91_cov_1.802198_37               0.16       0.112245   \n",
       "NODE_1000031_length_98_cov_2.000000_30               0.20       0.081633   \n",
       "NODE_1000037_length_93_cov_2.043011_33               0.16       0.102041   \n",
       "NODE_1000042_length_93_cov_1.118280_100              0.02       0.051020   \n",
       "NODE_1000053_length_94_cov_1.744681_25               0.02       0.010204   \n",
       "\n",
       "                                         Rifle_Peak  Snow_Valley_Peak  \\\n",
       "NODE_1000013_length_91_cov_1.802198_37       0.1250          0.145833   \n",
       "NODE_1000031_length_98_cov_2.000000_30       0.1250          0.145833   \n",
       "NODE_1000037_length_93_cov_2.043011_33       0.1250          0.166667   \n",
       "NODE_1000042_length_93_cov_1.118280_100      0.0000          0.041667   \n",
       "NODE_1000053_length_94_cov_1.744681_25       0.0625          0.020833   \n",
       "\n",
       "                                         West_Shore_Peaks  \n",
       "NODE_1000013_length_91_cov_1.802198_37           0.166667  \n",
       "NODE_1000031_length_98_cov_2.000000_30           0.229167  \n",
       "NODE_1000037_length_93_cov_2.043011_33           0.125000  \n",
       "NODE_1000042_length_93_cov_1.118280_100          0.062500  \n",
       "NODE_1000053_length_94_cov_1.744681_25           0.020833  "
      ]
     },
     "execution_count": 27,
     "metadata": {},
     "output_type": "execute_result"
    }
   ],
   "source": [
    "impMAF = pd.read_csv('/home/lindb/wbp/OutFLANK/imputed_MAF.txt',header=0,index_col=0,sep=\"\\t\")\n",
    "impMAF.head()"
   ]
  },
  {
   "cell_type": "code",
   "execution_count": 77,
   "metadata": {
    "collapsed": true
   },
   "outputs": [],
   "source": [
    "filE= '/home/lindb/wbp/OutFLANK/imputed_MAF.txt'\n",
    "impMAF.to_csv(filE,header=True,index=True,sep='\\t')"
   ]
  },
  {
   "cell_type": "code",
   "execution_count": 76,
   "metadata": {
    "collapsed": false
   },
   "outputs": [
    {
     "data": {
      "text/html": [
       "<div>\n",
       "<table border=\"1\" class=\"dataframe\">\n",
       "  <thead>\n",
       "    <tr style=\"text-align: right;\">\n",
       "      <th></th>\n",
       "      <th>Dicks_Pass</th>\n",
       "      <th>Freel_Peak</th>\n",
       "      <th>Heavenly</th>\n",
       "      <th>Little_Round_Top</th>\n",
       "      <th>Mt_Rose_Ophir</th>\n",
       "      <th>Rifle_Peak</th>\n",
       "      <th>Snow_Valley_Peak</th>\n",
       "      <th>West_Shore_Peaks</th>\n",
       "    </tr>\n",
       "  </thead>\n",
       "  <tbody>\n",
       "    <tr>\n",
       "      <th>NODE_1000013_length_91_cov_1.802198_37</th>\n",
       "      <td>0.14</td>\n",
       "      <td>0.052083</td>\n",
       "      <td>0.14</td>\n",
       "      <td>0.16</td>\n",
       "      <td>0.112245</td>\n",
       "      <td>0.1250</td>\n",
       "      <td>0.145833</td>\n",
       "      <td>0.166667</td>\n",
       "    </tr>\n",
       "    <tr>\n",
       "      <th>NODE_1000031_length_98_cov_2.000000_30</th>\n",
       "      <td>0.26</td>\n",
       "      <td>0.104167</td>\n",
       "      <td>0.18</td>\n",
       "      <td>0.20</td>\n",
       "      <td>0.081633</td>\n",
       "      <td>0.1250</td>\n",
       "      <td>0.145833</td>\n",
       "      <td>0.229167</td>\n",
       "    </tr>\n",
       "    <tr>\n",
       "      <th>NODE_1000037_length_93_cov_2.043011_33</th>\n",
       "      <td>0.08</td>\n",
       "      <td>0.114583</td>\n",
       "      <td>0.14</td>\n",
       "      <td>0.16</td>\n",
       "      <td>0.102041</td>\n",
       "      <td>0.1250</td>\n",
       "      <td>0.166667</td>\n",
       "      <td>0.125000</td>\n",
       "    </tr>\n",
       "    <tr>\n",
       "      <th>NODE_1000042_length_93_cov_1.118280_100</th>\n",
       "      <td>0.06</td>\n",
       "      <td>0.020833</td>\n",
       "      <td>0.08</td>\n",
       "      <td>0.02</td>\n",
       "      <td>0.051020</td>\n",
       "      <td>0.0000</td>\n",
       "      <td>0.041667</td>\n",
       "      <td>0.062500</td>\n",
       "    </tr>\n",
       "    <tr>\n",
       "      <th>NODE_1000053_length_94_cov_1.744681_25</th>\n",
       "      <td>0.02</td>\n",
       "      <td>0.020833</td>\n",
       "      <td>0.04</td>\n",
       "      <td>0.02</td>\n",
       "      <td>0.010204</td>\n",
       "      <td>0.0625</td>\n",
       "      <td>0.020833</td>\n",
       "      <td>0.020833</td>\n",
       "    </tr>\n",
       "  </tbody>\n",
       "</table>\n",
       "</div>"
      ],
      "text/plain": [
       "                                         Dicks_Pass  Freel_Peak  Heavenly  \\\n",
       "NODE_1000013_length_91_cov_1.802198_37         0.14    0.052083      0.14   \n",
       "NODE_1000031_length_98_cov_2.000000_30         0.26    0.104167      0.18   \n",
       "NODE_1000037_length_93_cov_2.043011_33         0.08    0.114583      0.14   \n",
       "NODE_1000042_length_93_cov_1.118280_100        0.06    0.020833      0.08   \n",
       "NODE_1000053_length_94_cov_1.744681_25         0.02    0.020833      0.04   \n",
       "\n",
       "                                         Little_Round_Top  Mt_Rose_Ophir  \\\n",
       "NODE_1000013_length_91_cov_1.802198_37               0.16       0.112245   \n",
       "NODE_1000031_length_98_cov_2.000000_30               0.20       0.081633   \n",
       "NODE_1000037_length_93_cov_2.043011_33               0.16       0.102041   \n",
       "NODE_1000042_length_93_cov_1.118280_100              0.02       0.051020   \n",
       "NODE_1000053_length_94_cov_1.744681_25               0.02       0.010204   \n",
       "\n",
       "                                         Rifle_Peak  Snow_Valley_Peak  \\\n",
       "NODE_1000013_length_91_cov_1.802198_37       0.1250          0.145833   \n",
       "NODE_1000031_length_98_cov_2.000000_30       0.1250          0.145833   \n",
       "NODE_1000037_length_93_cov_2.043011_33       0.1250          0.166667   \n",
       "NODE_1000042_length_93_cov_1.118280_100      0.0000          0.041667   \n",
       "NODE_1000053_length_94_cov_1.744681_25       0.0625          0.020833   \n",
       "\n",
       "                                         West_Shore_Peaks  \n",
       "NODE_1000013_length_91_cov_1.802198_37           0.166667  \n",
       "NODE_1000031_length_98_cov_2.000000_30           0.229167  \n",
       "NODE_1000037_length_93_cov_2.043011_33           0.125000  \n",
       "NODE_1000042_length_93_cov_1.118280_100          0.062500  \n",
       "NODE_1000053_length_94_cov_1.744681_25           0.020833  "
      ]
     },
     "execution_count": 76,
     "metadata": {},
     "output_type": "execute_result"
    }
   ],
   "source": [
    "impMAF.head()"
   ]
  },
  {
   "cell_type": "code",
   "execution_count": 29,
   "metadata": {
    "collapsed": false
   },
   "outputs": [
    {
     "data": {
      "text/plain": [
       "(116231, 8)"
      ]
     },
     "execution_count": 29,
     "metadata": {},
     "output_type": "execute_result"
    }
   ],
   "source": [
    "impMAF.shape"
   ]
  },
  {
   "cell_type": "code",
   "execution_count": 28,
   "metadata": {
    "collapsed": false
   },
   "outputs": [
    {
     "name": "stdout",
     "output_type": "stream",
     "text": [
      "Dicks_Pass 0.0 0.74\n",
      "Freel_Peak 0.0 0.65625\n",
      "Heavenly 0.0 0.8\n",
      "Little_Round_Top 0.0 0.74\n",
      "Mt_Rose_Ophir 0.0 0.663265306122\n",
      "Rifle_Peak 0.0 0.6875\n",
      "Snow_Valley_Peak 0.0 0.75\n",
      "West_Shore_Peaks 0.0 0.729166666667\n"
     ]
    }
   ],
   "source": [
    "for pop in impMAF.columns:\n",
    "    print pop,min(impMAF[pop]),max(impMAF[pop])"
   ]
  },
  {
   "cell_type": "markdown",
   "metadata": {},
   "source": [
    "# get global maf allele freqs"
   ]
  },
  {
   "cell_type": "code",
   "execution_count": 44,
   "metadata": {
    "collapsed": false
   },
   "outputs": [
    {
     "name": "stdout",
     "output_type": "stream",
     "text": [
      "10000\n",
      "20000\n",
      "30000\n",
      "40000\n",
      "50000\n",
      "60000\n",
      "70000\n",
      "80000\n",
      "90000\n",
      "100000\n",
      "110000\n"
     ]
    }
   ],
   "source": [
    "glob = OrderedDict() \n",
    "count = 0\n",
    "for snp in imp012.columns:\n",
    "    zero = imp012[snp].tolist().count(0)\n",
    "    one  = imp012[snp].tolist().count(1)\n",
    "    two  = imp012[snp].tolist().count(2)\n",
    "    \n",
    "    a1 = ((2*zero)+one)/(2*(zero+one+two))\n",
    "    a2 = ((2*two)+one)/(2*(zero+one+two))\n",
    "    \n",
    "    q = min(a1,a2)\n",
    "    \n",
    "    glob[snp] = q\n",
    "    \n",
    "    count +=1 \n",
    "    if count % 10000 == 0:\n",
    "        print count"
   ]
  },
  {
   "cell_type": "code",
   "execution_count": 45,
   "metadata": {
    "collapsed": false
   },
   "outputs": [
    {
     "data": {
      "text/plain": [
       "116231"
      ]
     },
     "execution_count": 45,
     "metadata": {},
     "output_type": "execute_result"
    }
   ],
   "source": [
    "len(glob.keys())"
   ]
  },
  {
   "cell_type": "code",
   "execution_count": 46,
   "metadata": {
    "collapsed": false
   },
   "outputs": [
    {
     "data": {
      "text/html": [
       "<div>\n",
       "<table border=\"1\" class=\"dataframe\">\n",
       "  <thead>\n",
       "    <tr style=\"text-align: right;\">\n",
       "      <th></th>\n",
       "      <th>locus</th>\n",
       "      <th>maf</th>\n",
       "    </tr>\n",
       "  </thead>\n",
       "  <tbody>\n",
       "    <tr>\n",
       "      <th>0</th>\n",
       "      <td>NODE_1000013_length_91_cov_1.802198_37</td>\n",
       "      <td>0.120902</td>\n",
       "    </tr>\n",
       "    <tr>\n",
       "      <th>1</th>\n",
       "      <td>NODE_1000031_length_98_cov_2.000000_30</td>\n",
       "      <td>0.151639</td>\n",
       "    </tr>\n",
       "    <tr>\n",
       "      <th>2</th>\n",
       "      <td>NODE_1000037_length_93_cov_2.043011_33</td>\n",
       "      <td>0.122951</td>\n",
       "    </tr>\n",
       "    <tr>\n",
       "      <th>3</th>\n",
       "      <td>NODE_1000042_length_93_cov_1.118280_100</td>\n",
       "      <td>0.040984</td>\n",
       "    </tr>\n",
       "    <tr>\n",
       "      <th>4</th>\n",
       "      <td>NODE_1000053_length_94_cov_1.744681_25</td>\n",
       "      <td>0.024590</td>\n",
       "    </tr>\n",
       "  </tbody>\n",
       "</table>\n",
       "</div>"
      ],
      "text/plain": [
       "                                     locus       maf\n",
       "0   NODE_1000013_length_91_cov_1.802198_37  0.120902\n",
       "1   NODE_1000031_length_98_cov_2.000000_30  0.151639\n",
       "2   NODE_1000037_length_93_cov_2.043011_33  0.122951\n",
       "3  NODE_1000042_length_93_cov_1.118280_100  0.040984\n",
       "4   NODE_1000053_length_94_cov_1.744681_25  0.024590"
      ]
     },
     "execution_count": 46,
     "metadata": {},
     "output_type": "execute_result"
    }
   ],
   "source": [
    "filE = '/home/lindb/wbp/OutFLANK/global_mafs.txt'\n",
    "with open(filE,'w') as o:\n",
    "    text = '\\t'.join(['locus','maf'])+'\\n'\n",
    "    o.write(\"%s\" % text)\n",
    "    for snp in glob.keys():\n",
    "        text = '\\t'.join([snp,str(glob[snp])])+'\\n'\n",
    "        o.write(\"%s\" % text)\n",
    "globmafs = pd.read_csv(filE,header=0,sep='\\t')\n",
    "globmafs.head()"
   ]
  },
  {
   "cell_type": "code",
   "execution_count": 31,
   "metadata": {
    "collapsed": false
   },
   "outputs": [
    {
     "data": {
      "text/html": [
       "<div>\n",
       "<table border=\"1\" class=\"dataframe\">\n",
       "  <thead>\n",
       "    <tr style=\"text-align: right;\">\n",
       "      <th></th>\n",
       "      <th>locus</th>\n",
       "      <th>h_exp</th>\n",
       "      <th>bin</th>\n",
       "    </tr>\n",
       "  </thead>\n",
       "  <tbody>\n",
       "    <tr>\n",
       "      <th>NODE_1274178_length_97_cov_1.030928_97</th>\n",
       "      <td>NODE_1274178_length_97_cov_1.030928_97</td>\n",
       "      <td>0.020282</td>\n",
       "      <td>1</td>\n",
       "    </tr>\n",
       "    <tr>\n",
       "      <th>NODE_694898_length_99_cov_1.676768_19</th>\n",
       "      <td>NODE_694898_length_99_cov_1.676768_19</td>\n",
       "      <td>0.020282</td>\n",
       "      <td>1</td>\n",
       "    </tr>\n",
       "    <tr>\n",
       "      <th>NODE_544568_length_93_cov_4.064516_12</th>\n",
       "      <td>NODE_544568_length_93_cov_4.064516_12</td>\n",
       "      <td>0.020282</td>\n",
       "      <td>1</td>\n",
       "    </tr>\n",
       "    <tr>\n",
       "      <th>NODE_1278450_length_97_cov_2.000000_111</th>\n",
       "      <td>NODE_1278450_length_97_cov_2.000000_111</td>\n",
       "      <td>0.020282</td>\n",
       "      <td>1</td>\n",
       "    </tr>\n",
       "    <tr>\n",
       "      <th>NODE_1913585_length_92_cov_1.750000_37</th>\n",
       "      <td>NODE_1913585_length_92_cov_1.750000_37</td>\n",
       "      <td>0.020282</td>\n",
       "      <td>1</td>\n",
       "    </tr>\n",
       "  </tbody>\n",
       "</table>\n",
       "</div>"
      ],
      "text/plain": [
       "                                                                           locus  \\\n",
       "NODE_1274178_length_97_cov_1.030928_97    NODE_1274178_length_97_cov_1.030928_97   \n",
       "NODE_694898_length_99_cov_1.676768_19      NODE_694898_length_99_cov_1.676768_19   \n",
       "NODE_544568_length_93_cov_4.064516_12      NODE_544568_length_93_cov_4.064516_12   \n",
       "NODE_1278450_length_97_cov_2.000000_111  NODE_1278450_length_97_cov_2.000000_111   \n",
       "NODE_1913585_length_92_cov_1.750000_37    NODE_1913585_length_92_cov_1.750000_37   \n",
       "\n",
       "                                            h_exp  bin  \n",
       "NODE_1274178_length_97_cov_1.030928_97   0.020282    1  \n",
       "NODE_694898_length_99_cov_1.676768_19    0.020282    1  \n",
       "NODE_544568_length_93_cov_4.064516_12    0.020282    1  \n",
       "NODE_1278450_length_97_cov_2.000000_111  0.020282    1  \n",
       "NODE_1913585_length_92_cov_1.750000_37   0.020282    1  "
      ]
     },
     "execution_count": 31,
     "metadata": {},
     "output_type": "execute_result"
    }
   ],
   "source": [
    "H.head()"
   ]
  },
  {
   "cell_type": "code",
   "execution_count": 36,
   "metadata": {
    "collapsed": false
   },
   "outputs": [
    {
     "data": {
      "text/plain": [
       "0.25728970706799997"
      ]
     },
     "execution_count": 36,
     "metadata": {},
     "output_type": "execute_result"
    }
   ],
   "source": [
    "#make sure global allele freq and H_exp make sense\n",
    "H.loc['NODE_1000031_length_98_cov_2.000000_30','h_exp']"
   ]
  },
  {
   "cell_type": "code",
   "execution_count": 37,
   "metadata": {
    "collapsed": false
   },
   "outputs": [
    {
     "data": {
      "text/plain": [
       "0.257289227358"
      ]
     },
     "execution_count": 37,
     "metadata": {},
     "output_type": "execute_result"
    }
   ],
   "source": [
    "2*0.151639*(1-0.151639)"
   ]
  },
  {
   "cell_type": "code",
   "execution_count": 208,
   "metadata": {
    "collapsed": false
   },
   "outputs": [
    {
     "data": {
      "text/plain": [
       "116231"
      ]
     },
     "execution_count": 208,
     "metadata": {},
     "output_type": "execute_result"
    }
   ],
   "source": [
    "len(globmafs.index)"
   ]
  },
  {
   "cell_type": "markdown",
   "metadata": {},
   "source": [
    "# get pop sizes"
   ]
  },
  {
   "cell_type": "code",
   "execution_count": 52,
   "metadata": {
    "collapsed": false
   },
   "outputs": [
    {
     "data": {
      "text/html": [
       "<div>\n",
       "<table border=\"1\" class=\"dataframe\">\n",
       "  <thead>\n",
       "    <tr style=\"text-align: right;\">\n",
       "      <th></th>\n",
       "      <th>sampID</th>\n",
       "      <th>pop</th>\n",
       "      <th>plot</th>\n",
       "    </tr>\n",
       "  </thead>\n",
       "  <tbody>\n",
       "    <tr>\n",
       "      <th>0</th>\n",
       "      <td>028compiled</td>\n",
       "      <td>Dicks_Pass</td>\n",
       "      <td>3</td>\n",
       "    </tr>\n",
       "    <tr>\n",
       "      <th>1</th>\n",
       "      <td>024compiled</td>\n",
       "      <td>Dicks_Pass</td>\n",
       "      <td>2</td>\n",
       "    </tr>\n",
       "    <tr>\n",
       "      <th>2</th>\n",
       "      <td>020compiled</td>\n",
       "      <td>Dicks_Pass</td>\n",
       "      <td>2</td>\n",
       "    </tr>\n",
       "    <tr>\n",
       "      <th>3</th>\n",
       "      <td>025compiled</td>\n",
       "      <td>Dicks_Pass</td>\n",
       "      <td>2</td>\n",
       "    </tr>\n",
       "    <tr>\n",
       "      <th>4</th>\n",
       "      <td>023compiled</td>\n",
       "      <td>Dicks_Pass</td>\n",
       "      <td>2</td>\n",
       "    </tr>\n",
       "  </tbody>\n",
       "</table>\n",
       "</div>"
      ],
      "text/plain": [
       "        sampID         pop  plot\n",
       "0  028compiled  Dicks_Pass     3\n",
       "1  024compiled  Dicks_Pass     2\n",
       "2  020compiled  Dicks_Pass     2\n",
       "3  025compiled  Dicks_Pass     2\n",
       "4  023compiled  Dicks_Pass     2"
      ]
     },
     "execution_count": 52,
     "metadata": {},
     "output_type": "execute_result"
    }
   ],
   "source": [
    "filE = '/home/lindb/wbp/sampsTOpop.txt'\n",
    "stp = pd.read_csv(filE,header=0,sep=\"\\t\")\n",
    "stp.head()"
   ]
  },
  {
   "cell_type": "code",
   "execution_count": 53,
   "metadata": {
    "collapsed": false
   },
   "outputs": [
    {
     "name": "stdout",
     "output_type": "stream",
     "text": [
      "Dicks_Pass 25\n",
      "Freel_Peak 48\n",
      "Little_Round_Top 25\n",
      "Heavenly 25\n",
      "Mt_Rose_Ophir 49\n",
      "Rifle_Peak 24\n",
      "Snow_Valley_Peak 24\n",
      "West_Shore_Peaks 24\n"
     ]
    }
   ],
   "source": [
    "#pops matched to samps\n",
    "ptsDict = OrderedDict() #pop to samp dictionary\n",
    "for row in stp.index:\n",
    "    pop = stp.loc[row,'pop']\n",
    "    if not pop in ptsDict.keys():\n",
    "        ptsDict[pop] = []\n",
    "    ptsDict[pop].append(stp.loc[row,'sampID'])\n",
    "for pop in ptsDict.keys():\n",
    "    print pop,len(ptsDict[pop])"
   ]
  },
  {
   "cell_type": "code",
   "execution_count": 54,
   "metadata": {
    "collapsed": false
   },
   "outputs": [
    {
     "name": "stdout",
     "output_type": "stream",
     "text": [
      "Dicks_Pass 25\n",
      "Freel_Peak 48\n",
      "Little_Round_Top 25\n",
      "Heavenly 25\n",
      "Mt_Rose_Ophir 49\n",
      "Rifle_Peak 24\n",
      "Snow_Valley_Peak 24\n",
      "West_Shore_Peaks 24\n"
     ]
    },
    {
     "data": {
      "text/plain": [
       "244"
      ]
     },
     "execution_count": 54,
     "metadata": {},
     "output_type": "execute_result"
    }
   ],
   "source": [
    "#get a dict with num indiv in pop\n",
    "popDict = OrderedDict()\n",
    "total = 0\n",
    "for pop in ptsDict.keys():\n",
    "    popDict[pop] = len(ptsDict[pop])\n",
    "    print pop,popDict[pop]\n",
    "    total += popDict[pop]\n",
    "total"
   ]
  },
  {
   "cell_type": "markdown",
   "metadata": {},
   "source": [
    "# covariances using H_exp"
   ]
  },
  {
   "cell_type": "code",
   "execution_count": 48,
   "metadata": {
    "collapsed": false
   },
   "outputs": [],
   "source": [
    "snps = pd.read_csv('/home/lindb/wbp/OutFLANK/OutFLANK_snps.txt',header=0,sep='\\t')\n",
    "outliersnps = snps['x'].tolist()"
   ]
  },
  {
   "cell_type": "code",
   "execution_count": 65,
   "metadata": {
    "collapsed": true
   },
   "outputs": [],
   "source": [
    "filE = '/home/lindb/wbp/OutFLANK/OutFLANK_snps.txt'\n",
    "snps.to_csv(filE,header=True,index=False,sep='\\t')"
   ]
  },
  {
   "cell_type": "code",
   "execution_count": 49,
   "metadata": {
    "collapsed": false
   },
   "outputs": [
    {
     "data": {
      "text/plain": [
       "110"
      ]
     },
     "execution_count": 49,
     "metadata": {},
     "output_type": "execute_result"
    }
   ],
   "source": [
    "len(outliersnps)"
   ]
  },
  {
   "cell_type": "markdown",
   "metadata": {},
   "source": [
    "    D_ij = sum { (nk/n)*((qik*qjk)-(qi*qj)) } for 1:k pops\n",
    "    qik = snp i maf for pop k\n",
    "    qik = snp j maf for pop k\n",
    "    \n",
    "    qi = global maf\n",
    "    qj = global maf"
   ]
  },
  {
   "cell_type": "code",
   "execution_count": 55,
   "metadata": {
    "collapsed": false
   },
   "outputs": [
    {
     "name": "stdout",
     "output_type": "stream",
     "text": [
      "10\n",
      "20\n",
      "30\n",
      "40\n",
      "50\n",
      "60\n",
      "70\n",
      "80\n",
      "90\n",
      "100\n",
      "110\n"
     ]
    }
   ],
   "source": [
    "#do pairwise to get D\n",
    "dijDict = OrderedDict() \n",
    "icount = 0\n",
    "for i,locusi in enumerate(outliersnps):\n",
    "    dijDict[locusi] = OrderedDict()\n",
    "    qi = glob[locusi] #global maf\n",
    "    \n",
    "    for j,locusj in enumerate(outliersnps):\n",
    "        if i > j: #i=row, j=col : lower triangle \n",
    "            qj = glob[locusj] #global maf\n",
    "            \n",
    "            sums = 0\n",
    "            for pop in impMAF.columns:\n",
    "                qik = impMAF.loc[locusi,pop] #get pop maf\n",
    "                qjk = impMAF.loc[locusj,pop] #get pop maf\n",
    "                nk = popDict[pop]\n",
    "                \n",
    "                sums += (nk/244)*((qik*qjk)-(qi*qj))\n",
    "\n",
    "            dijDict[locusi][locusj] = sums\n",
    "        else:\n",
    "            dijDict[locusi][locusj] = np.nan\n",
    "    icount += 1\n",
    "    if icount % 10 == 0:\n",
    "        print icount"
   ]
  },
  {
   "cell_type": "code",
   "execution_count": 56,
   "metadata": {
    "collapsed": true
   },
   "outputs": [],
   "source": [
    "#write out the file\n",
    "rowcount = 0\n",
    "filE = '/home/lindb/wbp/OutFLANK/covariances/dvals/imputed_dvals.txt'\n",
    "if not op.exists(op.dirname(filE)):\n",
    "    os.makedirs(op.dirname(filE))\n",
    "with open(filE,'w') as o:\n",
    "    key0 = dijDict.keys()[0]\n",
    "    line = '\\t'.join(dijDict[key0].keys()) + str('\\n')\n",
    "    o.write(\"%s\" % line)\n",
    "    for locusi in dijDict.keys():\n",
    "        line = str(locusi)+'\\t'+'\\t'.join([str(x) for x in dijDict[locusi].values()]) + str('\\n')\n",
    "        o.write(\"%s\" % line)"
   ]
  },
  {
   "cell_type": "code",
   "execution_count": 57,
   "metadata": {
    "collapsed": false
   },
   "outputs": [
    {
     "data": {
      "text/html": [
       "<div>\n",
       "<table border=\"1\" class=\"dataframe\">\n",
       "  <thead>\n",
       "    <tr style=\"text-align: right;\">\n",
       "      <th></th>\n",
       "      <th>NODE_1001690_length_90_cov_2.000000_37</th>\n",
       "      <th>NODE_1012475_length_88_cov_1.022727_43</th>\n",
       "      <th>NODE_1025193_length_75_cov_1.093333_47</th>\n",
       "      <th>NODE_1030410_length_81_cov_1.259259_40</th>\n",
       "      <th>NODE_1038234_length_92_cov_1.000000_53</th>\n",
       "      <th>NODE_1063087_length_97_cov_1.639175_100</th>\n",
       "      <th>NODE_107570_length_80_cov_1.350000_43</th>\n",
       "      <th>NODE_1082793_length_76_cov_1.026316_38</th>\n",
       "      <th>NODE_1090835_length_51_cov_1.921569_62</th>\n",
       "      <th>NODE_1092275_length_98_cov_3.897959_107</th>\n",
       "      <th>...</th>\n",
       "      <th>NODE_861529_length_116_cov_1.318966_103</th>\n",
       "      <th>NODE_866842_length_48_cov_1.229167_34</th>\n",
       "      <th>NODE_880604_length_66_cov_1.363636_44</th>\n",
       "      <th>NODE_893311_length_93_cov_2.000000_109</th>\n",
       "      <th>NODE_897315_length_77_cov_1.337662_38</th>\n",
       "      <th>NODE_904862_length_47_cov_1.382979_41</th>\n",
       "      <th>NODE_923338_length_97_cov_3.154639_15</th>\n",
       "      <th>NODE_983665_length_98_cov_2.000000_96</th>\n",
       "      <th>NODE_987313_length_98_cov_4.653061_59</th>\n",
       "      <th>NODE_988447_length_96_cov_2.697917_32</th>\n",
       "    </tr>\n",
       "  </thead>\n",
       "  <tbody>\n",
       "    <tr>\n",
       "      <th>NODE_1001690_length_90_cov_2.000000_37</th>\n",
       "      <td>NaN</td>\n",
       "      <td>NaN</td>\n",
       "      <td>NaN</td>\n",
       "      <td>NaN</td>\n",
       "      <td>NaN</td>\n",
       "      <td>NaN</td>\n",
       "      <td>NaN</td>\n",
       "      <td>NaN</td>\n",
       "      <td>NaN</td>\n",
       "      <td>NaN</td>\n",
       "      <td>...</td>\n",
       "      <td>NaN</td>\n",
       "      <td>NaN</td>\n",
       "      <td>NaN</td>\n",
       "      <td>NaN</td>\n",
       "      <td>NaN</td>\n",
       "      <td>NaN</td>\n",
       "      <td>NaN</td>\n",
       "      <td>NaN</td>\n",
       "      <td>NaN</td>\n",
       "      <td>NaN</td>\n",
       "    </tr>\n",
       "    <tr>\n",
       "      <th>NODE_1012475_length_88_cov_1.022727_43</th>\n",
       "      <td>0.005430</td>\n",
       "      <td>NaN</td>\n",
       "      <td>NaN</td>\n",
       "      <td>NaN</td>\n",
       "      <td>NaN</td>\n",
       "      <td>NaN</td>\n",
       "      <td>NaN</td>\n",
       "      <td>NaN</td>\n",
       "      <td>NaN</td>\n",
       "      <td>NaN</td>\n",
       "      <td>...</td>\n",
       "      <td>NaN</td>\n",
       "      <td>NaN</td>\n",
       "      <td>NaN</td>\n",
       "      <td>NaN</td>\n",
       "      <td>NaN</td>\n",
       "      <td>NaN</td>\n",
       "      <td>NaN</td>\n",
       "      <td>NaN</td>\n",
       "      <td>NaN</td>\n",
       "      <td>NaN</td>\n",
       "    </tr>\n",
       "    <tr>\n",
       "      <th>NODE_1025193_length_75_cov_1.093333_47</th>\n",
       "      <td>0.006523</td>\n",
       "      <td>0.020351</td>\n",
       "      <td>NaN</td>\n",
       "      <td>NaN</td>\n",
       "      <td>NaN</td>\n",
       "      <td>NaN</td>\n",
       "      <td>NaN</td>\n",
       "      <td>NaN</td>\n",
       "      <td>NaN</td>\n",
       "      <td>NaN</td>\n",
       "      <td>...</td>\n",
       "      <td>NaN</td>\n",
       "      <td>NaN</td>\n",
       "      <td>NaN</td>\n",
       "      <td>NaN</td>\n",
       "      <td>NaN</td>\n",
       "      <td>NaN</td>\n",
       "      <td>NaN</td>\n",
       "      <td>NaN</td>\n",
       "      <td>NaN</td>\n",
       "      <td>NaN</td>\n",
       "    </tr>\n",
       "    <tr>\n",
       "      <th>NODE_1030410_length_81_cov_1.259259_40</th>\n",
       "      <td>0.003342</td>\n",
       "      <td>0.015638</td>\n",
       "      <td>0.018560</td>\n",
       "      <td>NaN</td>\n",
       "      <td>NaN</td>\n",
       "      <td>NaN</td>\n",
       "      <td>NaN</td>\n",
       "      <td>NaN</td>\n",
       "      <td>NaN</td>\n",
       "      <td>NaN</td>\n",
       "      <td>...</td>\n",
       "      <td>NaN</td>\n",
       "      <td>NaN</td>\n",
       "      <td>NaN</td>\n",
       "      <td>NaN</td>\n",
       "      <td>NaN</td>\n",
       "      <td>NaN</td>\n",
       "      <td>NaN</td>\n",
       "      <td>NaN</td>\n",
       "      <td>NaN</td>\n",
       "      <td>NaN</td>\n",
       "    </tr>\n",
       "    <tr>\n",
       "      <th>NODE_1038234_length_92_cov_1.000000_53</th>\n",
       "      <td>0.004104</td>\n",
       "      <td>0.011751</td>\n",
       "      <td>0.015875</td>\n",
       "      <td>0.012073</td>\n",
       "      <td>NaN</td>\n",
       "      <td>NaN</td>\n",
       "      <td>NaN</td>\n",
       "      <td>NaN</td>\n",
       "      <td>NaN</td>\n",
       "      <td>NaN</td>\n",
       "      <td>...</td>\n",
       "      <td>NaN</td>\n",
       "      <td>NaN</td>\n",
       "      <td>NaN</td>\n",
       "      <td>NaN</td>\n",
       "      <td>NaN</td>\n",
       "      <td>NaN</td>\n",
       "      <td>NaN</td>\n",
       "      <td>NaN</td>\n",
       "      <td>NaN</td>\n",
       "      <td>NaN</td>\n",
       "    </tr>\n",
       "  </tbody>\n",
       "</table>\n",
       "<p>5 rows × 110 columns</p>\n",
       "</div>"
      ],
      "text/plain": [
       "                                        NODE_1001690_length_90_cov_2.000000_37  \\\n",
       "NODE_1001690_length_90_cov_2.000000_37                                     NaN   \n",
       "NODE_1012475_length_88_cov_1.022727_43                                0.005430   \n",
       "NODE_1025193_length_75_cov_1.093333_47                                0.006523   \n",
       "NODE_1030410_length_81_cov_1.259259_40                                0.003342   \n",
       "NODE_1038234_length_92_cov_1.000000_53                                0.004104   \n",
       "\n",
       "                                        NODE_1012475_length_88_cov_1.022727_43  \\\n",
       "NODE_1001690_length_90_cov_2.000000_37                                     NaN   \n",
       "NODE_1012475_length_88_cov_1.022727_43                                     NaN   \n",
       "NODE_1025193_length_75_cov_1.093333_47                                0.020351   \n",
       "NODE_1030410_length_81_cov_1.259259_40                                0.015638   \n",
       "NODE_1038234_length_92_cov_1.000000_53                                0.011751   \n",
       "\n",
       "                                        NODE_1025193_length_75_cov_1.093333_47  \\\n",
       "NODE_1001690_length_90_cov_2.000000_37                                     NaN   \n",
       "NODE_1012475_length_88_cov_1.022727_43                                     NaN   \n",
       "NODE_1025193_length_75_cov_1.093333_47                                     NaN   \n",
       "NODE_1030410_length_81_cov_1.259259_40                                0.018560   \n",
       "NODE_1038234_length_92_cov_1.000000_53                                0.015875   \n",
       "\n",
       "                                        NODE_1030410_length_81_cov_1.259259_40  \\\n",
       "NODE_1001690_length_90_cov_2.000000_37                                     NaN   \n",
       "NODE_1012475_length_88_cov_1.022727_43                                     NaN   \n",
       "NODE_1025193_length_75_cov_1.093333_47                                     NaN   \n",
       "NODE_1030410_length_81_cov_1.259259_40                                     NaN   \n",
       "NODE_1038234_length_92_cov_1.000000_53                                0.012073   \n",
       "\n",
       "                                        NODE_1038234_length_92_cov_1.000000_53  \\\n",
       "NODE_1001690_length_90_cov_2.000000_37                                     NaN   \n",
       "NODE_1012475_length_88_cov_1.022727_43                                     NaN   \n",
       "NODE_1025193_length_75_cov_1.093333_47                                     NaN   \n",
       "NODE_1030410_length_81_cov_1.259259_40                                     NaN   \n",
       "NODE_1038234_length_92_cov_1.000000_53                                     NaN   \n",
       "\n",
       "                                        NODE_1063087_length_97_cov_1.639175_100  \\\n",
       "NODE_1001690_length_90_cov_2.000000_37                                      NaN   \n",
       "NODE_1012475_length_88_cov_1.022727_43                                      NaN   \n",
       "NODE_1025193_length_75_cov_1.093333_47                                      NaN   \n",
       "NODE_1030410_length_81_cov_1.259259_40                                      NaN   \n",
       "NODE_1038234_length_92_cov_1.000000_53                                      NaN   \n",
       "\n",
       "                                        NODE_107570_length_80_cov_1.350000_43  \\\n",
       "NODE_1001690_length_90_cov_2.000000_37                                    NaN   \n",
       "NODE_1012475_length_88_cov_1.022727_43                                    NaN   \n",
       "NODE_1025193_length_75_cov_1.093333_47                                    NaN   \n",
       "NODE_1030410_length_81_cov_1.259259_40                                    NaN   \n",
       "NODE_1038234_length_92_cov_1.000000_53                                    NaN   \n",
       "\n",
       "                                        NODE_1082793_length_76_cov_1.026316_38  \\\n",
       "NODE_1001690_length_90_cov_2.000000_37                                     NaN   \n",
       "NODE_1012475_length_88_cov_1.022727_43                                     NaN   \n",
       "NODE_1025193_length_75_cov_1.093333_47                                     NaN   \n",
       "NODE_1030410_length_81_cov_1.259259_40                                     NaN   \n",
       "NODE_1038234_length_92_cov_1.000000_53                                     NaN   \n",
       "\n",
       "                                        NODE_1090835_length_51_cov_1.921569_62  \\\n",
       "NODE_1001690_length_90_cov_2.000000_37                                     NaN   \n",
       "NODE_1012475_length_88_cov_1.022727_43                                     NaN   \n",
       "NODE_1025193_length_75_cov_1.093333_47                                     NaN   \n",
       "NODE_1030410_length_81_cov_1.259259_40                                     NaN   \n",
       "NODE_1038234_length_92_cov_1.000000_53                                     NaN   \n",
       "\n",
       "                                        NODE_1092275_length_98_cov_3.897959_107  \\\n",
       "NODE_1001690_length_90_cov_2.000000_37                                      NaN   \n",
       "NODE_1012475_length_88_cov_1.022727_43                                      NaN   \n",
       "NODE_1025193_length_75_cov_1.093333_47                                      NaN   \n",
       "NODE_1030410_length_81_cov_1.259259_40                                      NaN   \n",
       "NODE_1038234_length_92_cov_1.000000_53                                      NaN   \n",
       "\n",
       "                                                        ...                    \\\n",
       "NODE_1001690_length_90_cov_2.000000_37                  ...                     \n",
       "NODE_1012475_length_88_cov_1.022727_43                  ...                     \n",
       "NODE_1025193_length_75_cov_1.093333_47                  ...                     \n",
       "NODE_1030410_length_81_cov_1.259259_40                  ...                     \n",
       "NODE_1038234_length_92_cov_1.000000_53                  ...                     \n",
       "\n",
       "                                        NODE_861529_length_116_cov_1.318966_103  \\\n",
       "NODE_1001690_length_90_cov_2.000000_37                                      NaN   \n",
       "NODE_1012475_length_88_cov_1.022727_43                                      NaN   \n",
       "NODE_1025193_length_75_cov_1.093333_47                                      NaN   \n",
       "NODE_1030410_length_81_cov_1.259259_40                                      NaN   \n",
       "NODE_1038234_length_92_cov_1.000000_53                                      NaN   \n",
       "\n",
       "                                        NODE_866842_length_48_cov_1.229167_34  \\\n",
       "NODE_1001690_length_90_cov_2.000000_37                                    NaN   \n",
       "NODE_1012475_length_88_cov_1.022727_43                                    NaN   \n",
       "NODE_1025193_length_75_cov_1.093333_47                                    NaN   \n",
       "NODE_1030410_length_81_cov_1.259259_40                                    NaN   \n",
       "NODE_1038234_length_92_cov_1.000000_53                                    NaN   \n",
       "\n",
       "                                        NODE_880604_length_66_cov_1.363636_44  \\\n",
       "NODE_1001690_length_90_cov_2.000000_37                                    NaN   \n",
       "NODE_1012475_length_88_cov_1.022727_43                                    NaN   \n",
       "NODE_1025193_length_75_cov_1.093333_47                                    NaN   \n",
       "NODE_1030410_length_81_cov_1.259259_40                                    NaN   \n",
       "NODE_1038234_length_92_cov_1.000000_53                                    NaN   \n",
       "\n",
       "                                        NODE_893311_length_93_cov_2.000000_109  \\\n",
       "NODE_1001690_length_90_cov_2.000000_37                                     NaN   \n",
       "NODE_1012475_length_88_cov_1.022727_43                                     NaN   \n",
       "NODE_1025193_length_75_cov_1.093333_47                                     NaN   \n",
       "NODE_1030410_length_81_cov_1.259259_40                                     NaN   \n",
       "NODE_1038234_length_92_cov_1.000000_53                                     NaN   \n",
       "\n",
       "                                        NODE_897315_length_77_cov_1.337662_38  \\\n",
       "NODE_1001690_length_90_cov_2.000000_37                                    NaN   \n",
       "NODE_1012475_length_88_cov_1.022727_43                                    NaN   \n",
       "NODE_1025193_length_75_cov_1.093333_47                                    NaN   \n",
       "NODE_1030410_length_81_cov_1.259259_40                                    NaN   \n",
       "NODE_1038234_length_92_cov_1.000000_53                                    NaN   \n",
       "\n",
       "                                        NODE_904862_length_47_cov_1.382979_41  \\\n",
       "NODE_1001690_length_90_cov_2.000000_37                                    NaN   \n",
       "NODE_1012475_length_88_cov_1.022727_43                                    NaN   \n",
       "NODE_1025193_length_75_cov_1.093333_47                                    NaN   \n",
       "NODE_1030410_length_81_cov_1.259259_40                                    NaN   \n",
       "NODE_1038234_length_92_cov_1.000000_53                                    NaN   \n",
       "\n",
       "                                        NODE_923338_length_97_cov_3.154639_15  \\\n",
       "NODE_1001690_length_90_cov_2.000000_37                                    NaN   \n",
       "NODE_1012475_length_88_cov_1.022727_43                                    NaN   \n",
       "NODE_1025193_length_75_cov_1.093333_47                                    NaN   \n",
       "NODE_1030410_length_81_cov_1.259259_40                                    NaN   \n",
       "NODE_1038234_length_92_cov_1.000000_53                                    NaN   \n",
       "\n",
       "                                        NODE_983665_length_98_cov_2.000000_96  \\\n",
       "NODE_1001690_length_90_cov_2.000000_37                                    NaN   \n",
       "NODE_1012475_length_88_cov_1.022727_43                                    NaN   \n",
       "NODE_1025193_length_75_cov_1.093333_47                                    NaN   \n",
       "NODE_1030410_length_81_cov_1.259259_40                                    NaN   \n",
       "NODE_1038234_length_92_cov_1.000000_53                                    NaN   \n",
       "\n",
       "                                        NODE_987313_length_98_cov_4.653061_59  \\\n",
       "NODE_1001690_length_90_cov_2.000000_37                                    NaN   \n",
       "NODE_1012475_length_88_cov_1.022727_43                                    NaN   \n",
       "NODE_1025193_length_75_cov_1.093333_47                                    NaN   \n",
       "NODE_1030410_length_81_cov_1.259259_40                                    NaN   \n",
       "NODE_1038234_length_92_cov_1.000000_53                                    NaN   \n",
       "\n",
       "                                        NODE_988447_length_96_cov_2.697917_32  \n",
       "NODE_1001690_length_90_cov_2.000000_37                                    NaN  \n",
       "NODE_1012475_length_88_cov_1.022727_43                                    NaN  \n",
       "NODE_1025193_length_75_cov_1.093333_47                                    NaN  \n",
       "NODE_1030410_length_81_cov_1.259259_40                                    NaN  \n",
       "NODE_1038234_length_92_cov_1.000000_53                                    NaN  \n",
       "\n",
       "[5 rows x 110 columns]"
      ]
     },
     "execution_count": 57,
     "metadata": {},
     "output_type": "execute_result"
    }
   ],
   "source": [
    "dvals = pd.read_csv(filE,header=0,index_col=0,sep=\"\\t\")\n",
    "dvals.head()"
   ]
  },
  {
   "cell_type": "code",
   "execution_count": 284,
   "metadata": {
    "collapsed": false
   },
   "outputs": [
    {
     "data": {
      "text/html": [
       "<div>\n",
       "<table border=\"1\" class=\"dataframe\">\n",
       "  <thead>\n",
       "    <tr style=\"text-align: right;\">\n",
       "      <th></th>\n",
       "      <th>locus</th>\n",
       "      <th>h_exp</th>\n",
       "      <th>bin</th>\n",
       "    </tr>\n",
       "  </thead>\n",
       "  <tbody>\n",
       "    <tr>\n",
       "      <th>NODE_479598_length_98_cov_4.500000_111</th>\n",
       "      <td>NODE_479598_length_98_cov_4.500000_111</td>\n",
       "      <td>0.020282</td>\n",
       "      <td>1</td>\n",
       "    </tr>\n",
       "    <tr>\n",
       "      <th>NODE_1176140_length_98_cov_2.000000_7</th>\n",
       "      <td>NODE_1176140_length_98_cov_2.000000_7</td>\n",
       "      <td>0.028277</td>\n",
       "      <td>2</td>\n",
       "    </tr>\n",
       "    <tr>\n",
       "      <th>NODE_429155_length_97_cov_1.000000_48</th>\n",
       "      <td>NODE_429155_length_97_cov_1.000000_48</td>\n",
       "      <td>0.028277</td>\n",
       "      <td>2</td>\n",
       "    </tr>\n",
       "    <tr>\n",
       "      <th>NODE_843063_length_96_cov_1.010417_101</th>\n",
       "      <td>NODE_843063_length_96_cov_1.010417_101</td>\n",
       "      <td>0.032249</td>\n",
       "      <td>3</td>\n",
       "    </tr>\n",
       "    <tr>\n",
       "      <th>NODE_1640732_length_98_cov_3.653061_29</th>\n",
       "      <td>NODE_1640732_length_98_cov_3.653061_29</td>\n",
       "      <td>0.040144</td>\n",
       "      <td>3</td>\n",
       "    </tr>\n",
       "  </tbody>\n",
       "</table>\n",
       "</div>"
      ],
      "text/plain": [
       "                                                                         locus  \\\n",
       "NODE_479598_length_98_cov_4.500000_111  NODE_479598_length_98_cov_4.500000_111   \n",
       "NODE_1176140_length_98_cov_2.000000_7    NODE_1176140_length_98_cov_2.000000_7   \n",
       "NODE_429155_length_97_cov_1.000000_48    NODE_429155_length_97_cov_1.000000_48   \n",
       "NODE_843063_length_96_cov_1.010417_101  NODE_843063_length_96_cov_1.010417_101   \n",
       "NODE_1640732_length_98_cov_3.653061_29  NODE_1640732_length_98_cov_3.653061_29   \n",
       "\n",
       "                                           h_exp  bin  \n",
       "NODE_479598_length_98_cov_4.500000_111  0.020282    1  \n",
       "NODE_1176140_length_98_cov_2.000000_7   0.028277    2  \n",
       "NODE_429155_length_97_cov_1.000000_48   0.028277    2  \n",
       "NODE_843063_length_96_cov_1.010417_101  0.032249    3  \n",
       "NODE_1640732_length_98_cov_3.653061_29  0.040144    3  "
      ]
     },
     "execution_count": 284,
     "metadata": {},
     "output_type": "execute_result"
    }
   ],
   "source": [
    "#get a dataframe with the outlier loci and their bins\n",
    "outlierdata = pd.DataFrame(H[H['locus'].isin(outliersnps)])\n",
    "outlierdata.index = [snp for snp in outlierdata['locus'].tolist()]\n",
    "outlierdata.head()"
   ]
  },
  {
   "cell_type": "code",
   "execution_count": 285,
   "metadata": {
    "collapsed": false
   },
   "outputs": [
    {
     "data": {
      "image/png": "[encoded data removed]",
      "text/plain": [
       "<matplotlib.figure.Figure at 0x2ba12acbb7d0>"
      ]
     },
     "metadata": {},
     "output_type": "display_data"
    }
   ],
   "source": [
    "with PdfPages('/home/lindb/wbp/OutFLANK/figures/expected_heterozygosit_outlier_SNPs.pdf') as pdf:\n",
    "    fig = plt.figure()\n",
    "    plt.hist(outlierdata['h_exp'].tolist(),bins = [binn for binn in np.arange(0,0.51,0.01)])[2]\n",
    "    plt.xlabel('Expected Heterozygosity')\n",
    "    plt.ylabel('Count')\n",
    "    #set_size_inches(5,5)\n",
    "    pdf.savefig(fig,bbox_inches='tight')"
   ]
  },
  {
   "cell_type": "code",
   "execution_count": 275,
   "metadata": {
    "collapsed": false
   },
   "outputs": [
    {
     "data": {
      "text/plain": [
       "<a list of 50 Patch objects>"
      ]
     },
     "execution_count": 275,
     "metadata": {},
     "output_type": "execute_result"
    },
    {
     "data": {
      "image/png": "[encoded data removed]",
      "text/plain": [
       "<matplotlib.figure.Figure at 0x2b2a3793f410>"
      ]
     },
     "metadata": {},
     "output_type": "display_data"
    }
   ],
   "source": [
    "plt.hist(outlierdata['h_exp'].tolist(),bins = [binn for binn in np.arange(0,0.51,0.01)])[2]"
   ]
  },
  {
   "cell_type": "code",
   "execution_count": 314,
   "metadata": {
    "collapsed": false
   },
   "outputs": [
    {
     "data": {
      "text/plain": [
       "116121"
      ]
     },
     "execution_count": 314,
     "metadata": {},
     "output_type": "execute_result"
    }
   ],
   "source": [
    "nonsigs = set(H.index.tolist()) - set(outlierdata.index.tolist())\n",
    "nonsigs = [x for x in nonsigs]\n",
    "len(nonsigs)"
   ]
  },
  {
   "cell_type": "code",
   "execution_count": 315,
   "metadata": {
    "collapsed": false
   },
   "outputs": [
    {
     "data": {
      "text/plain": [
       "(116121, 3)"
      ]
     },
     "execution_count": 315,
     "metadata": {},
     "output_type": "execute_result"
    }
   ],
   "source": [
    "nonsigdata = pd.DataFrame(H[H['locus'].isin(nonsigs)])\n",
    "nonsigdata.shape"
   ]
  },
  {
   "cell_type": "code",
   "execution_count": 231,
   "metadata": {
    "collapsed": true
   },
   "outputs": [
    {
     "name": "stdout",
     "output_type": "stream",
     "text": [
      "1 1\n",
      "2 2\n",
      "3 3\n",
      "4 2\n",
      "5 1\n",
      "6 3\n",
      "7 5\n",
      "8 6\n",
      "10 1\n",
      "11 1\n",
      "12 1\n",
      "13 3\n",
      "14 3\n",
      "15 1\n",
      "16 1\n",
      "17 2\n",
      "19 2\n",
      "20 2\n",
      "24 1\n",
      "25 5\n",
      "26 1\n",
      "28 2\n",
      "29 1\n",
      "30 2\n",
      "32 1\n",
      "34 1\n",
      "35 1\n",
      "36 1\n",
      "37 1\n",
      "38 2\n",
      "39 2\n",
      "40 3\n",
      "41 1\n",
      "42 3\n",
      "43 3\n",
      "44 5\n",
      "45 3\n",
      "46 5\n",
      "47 4\n",
      "48 9\n",
      "49 13\n"
     ]
    }
   ],
   "source": [
    "#how many random snps from each bin?\n",
    "binCounter = Counter()\n",
    "for row in outlierdata.index:\n",
    "    binCounter[outlierdata.loc[row,'bin']] += 1\n",
    "for b in binCounter.keys():\n",
    "    print b,binCounter[b]"
   ]
  },
  {
   "cell_type": "code",
   "execution_count": 316,
   "metadata": {
    "collapsed": true
   },
   "outputs": [
    {
     "name": "stdout",
     "output_type": "stream",
     "text": [
      "110\n",
      "110\n",
      "110\n",
      "110\n",
      "110\n",
      "110\n",
      "110\n",
      "110\n",
      "110\n",
      "110\n",
      "110\n",
      "110\n",
      "110\n",
      "110\n",
      "110\n",
      "110\n",
      "110\n",
      "110\n",
      "110\n",
      "110\n",
      "110\n",
      "110\n",
      "110\n",
      "110\n",
      "110\n",
      "110\n",
      "110\n",
      "110\n",
      "110\n",
      "110\n",
      "110\n",
      "110\n",
      "110\n",
      "110\n",
      "110\n",
      "110\n",
      "110\n",
      "110\n",
      "110\n",
      "110\n",
      "110\n",
      "110\n",
      "110\n",
      "110\n",
      "110\n",
      "110\n",
      "110\n",
      "110\n",
      "110\n",
      "110\n",
      "110\n",
      "110\n",
      "110\n",
      "110\n",
      "110\n",
      "110\n",
      "110\n",
      "110\n",
      "110\n",
      "110\n",
      "110\n",
      "110\n",
      "110\n",
      "110\n",
      "110\n",
      "110\n",
      "110\n",
      "110\n",
      "110\n",
      "110\n",
      "110\n",
      "110\n",
      "110\n",
      "110\n",
      "110\n",
      "110\n",
      "110\n",
      "110\n",
      "110\n",
      "110\n",
      "110\n",
      "110\n",
      "110\n",
      "110\n",
      "110\n",
      "110\n",
      "110\n",
      "110\n",
      "110\n",
      "110\n",
      "110\n",
      "110\n",
      "110\n",
      "110\n",
      "110\n",
      "110\n",
      "110\n",
      "110\n",
      "110\n",
      "110\n",
      "110\n",
      "110\n",
      "110\n",
      "110\n",
      "110\n",
      "110\n",
      "110\n",
      "110\n",
      "110\n",
      "110\n",
      "110\n",
      "110\n",
      "110\n",
      "110\n",
      "110\n",
      "110\n",
      "110\n",
      "110\n",
      "110\n",
      "110\n",
      "110\n",
      "110\n",
      "110\n",
      "110\n",
      "110\n",
      "110\n",
      "110\n",
      "110\n",
      "110\n",
      "110\n",
      "110\n",
      "110\n",
      "110\n",
      "110\n",
      "110\n",
      "110\n",
      "110\n",
      "110\n",
      "110\n",
      "110\n",
      "110\n",
      "110\n",
      "110\n",
      "110\n",
      "110\n",
      "110\n",
      "110\n",
      "110\n",
      "110\n",
      "110\n",
      "110\n",
      "110\n",
      "110\n",
      "110\n",
      "110\n",
      "110\n",
      "110\n",
      "110\n",
      "110\n",
      "110\n",
      "110\n",
      "110\n",
      "110\n",
      "110\n",
      "110\n",
      "110\n",
      "110\n",
      "110\n",
      "110\n",
      "110\n",
      "110\n",
      "110\n",
      "110\n",
      "110\n",
      "110\n",
      "110\n",
      "110\n",
      "110\n",
      "110\n",
      "110\n",
      "110\n",
      "110\n",
      "110\n",
      "110\n",
      "110\n",
      "110\n",
      "110\n",
      "110\n",
      "110\n",
      "110\n",
      "110\n",
      "110\n",
      "110\n",
      "110\n",
      "110\n",
      "110\n",
      "110\n",
      "110\n",
      "110\n",
      "110\n",
      "110\n",
      "110\n",
      "110\n",
      "110\n",
      "110\n",
      "110\n",
      "110\n",
      "110\n",
      "110\n",
      "110\n",
      "110\n",
      "110\n",
      "110\n",
      "110\n",
      "110\n",
      "110\n",
      "110\n",
      "110\n",
      "110\n",
      "110\n",
      "110\n",
      "110\n",
      "110\n",
      "110\n",
      "110\n",
      "110\n",
      "110\n",
      "110\n",
      "110\n",
      "110\n",
      "110\n",
      "110\n",
      "110\n",
      "110\n",
      "110\n",
      "110\n",
      "110\n",
      "110\n",
      "110\n",
      "110\n",
      "110\n",
      "110\n",
      "110\n",
      "110\n",
      "110\n",
      "110\n",
      "110\n",
      "110\n",
      "110\n",
      "110\n",
      "110\n",
      "110\n",
      "110\n",
      "110\n",
      "110\n",
      "110\n",
      "110\n",
      "110\n",
      "110\n",
      "110\n",
      "110\n",
      "110\n",
      "110\n",
      "110\n",
      "110\n",
      "110\n",
      "110\n",
      "110\n",
      "110\n",
      "110\n",
      "110\n",
      "110\n",
      "110\n",
      "110\n",
      "110\n",
      "110\n",
      "110\n",
      "110\n",
      "110\n",
      "110\n",
      "110\n",
      "110\n",
      "110\n",
      "110\n",
      "110\n",
      "110\n",
      "110\n",
      "110\n",
      "110\n",
      "110\n",
      "110\n",
      "110\n",
      "110\n",
      "110\n",
      "110\n",
      "110\n",
      "110\n",
      "110\n",
      "110\n",
      "110\n",
      "110\n",
      "110\n",
      "110\n",
      "110\n",
      "110\n",
      "110\n",
      "110\n",
      "110\n",
      "110\n",
      "110\n",
      "110\n",
      "110\n",
      "110\n",
      "110\n",
      "110\n",
      "110\n",
      "110\n",
      "110\n",
      "110\n",
      "110\n",
      "110\n",
      "110\n",
      "110\n",
      "110\n",
      "110\n",
      "110\n",
      "110\n",
      "110\n",
      "110\n",
      "110\n",
      "110\n",
      "110\n",
      "110\n",
      "110\n",
      "110\n",
      "110\n",
      "110\n",
      "110\n",
      "110\n",
      "110\n",
      "110\n",
      "110\n",
      "110\n",
      "110\n",
      "110\n",
      "110\n",
      "110\n",
      "110\n",
      "110\n",
      "110\n",
      "110\n",
      "110\n",
      "110\n",
      "110\n",
      "110\n",
      "110\n",
      "110\n",
      "110\n",
      "110\n",
      "110\n",
      "110\n",
      "110\n",
      "110\n",
      "110\n",
      "110\n",
      "110\n",
      "110\n",
      "110\n",
      "110\n",
      "110\n",
      "110\n",
      "110\n",
      "110\n",
      "110\n",
      "110\n",
      "110\n",
      "110\n",
      "110\n",
      "110\n",
      "110\n",
      "110\n",
      "110\n",
      "110\n",
      "110\n",
      "110\n",
      "110\n",
      "110\n",
      "110\n",
      "110\n",
      "110\n",
      "110\n",
      "110\n",
      "110\n",
      "110\n",
      "110\n",
      "110\n",
      "110\n",
      "110\n",
      "110\n",
      "110\n",
      "110\n",
      "110\n",
      "110\n",
      "110\n",
      "110\n",
      "110\n",
      "110\n",
      "110\n",
      "110\n",
      "110\n",
      "110\n",
      "110\n",
      "110\n",
      "110\n",
      "110\n",
      "110\n",
      "110\n",
      "110\n",
      "110\n",
      "110\n",
      "110\n",
      "110\n",
      "110\n",
      "110\n",
      "110\n",
      "110\n",
      "110\n",
      "110\n",
      "110\n",
      "110\n",
      "110\n",
      "110\n",
      "110\n",
      "110\n",
      "110\n",
      "110\n",
      "110\n",
      "110\n",
      "110\n",
      "110\n",
      "110\n",
      "110\n",
      "110\n",
      "110\n",
      "110\n",
      "110\n",
      "110\n",
      "110\n",
      "110\n",
      "110\n",
      "110\n",
      "110\n",
      "110\n",
      "110\n",
      "110\n",
      "110\n",
      "110\n",
      "110\n",
      "110\n",
      "110\n",
      "110\n",
      "110\n",
      "110\n",
      "110\n",
      "110\n",
      "110\n",
      "110\n",
      "110\n",
      "110\n",
      "110\n",
      "110\n",
      "110\n",
      "110\n",
      "110\n",
      "110\n",
      "110\n",
      "110\n",
      "110\n",
      "110\n",
      "110\n",
      "110\n",
      "110\n",
      "110\n",
      "110\n",
      "110\n",
      "110\n",
      "110\n",
      "110\n",
      "110\n",
      "110\n",
      "110\n",
      "110\n",
      "110\n",
      "110\n",
      "110\n",
      "110\n",
      "110\n",
      "110\n",
      "110\n",
      "110\n",
      "110\n",
      "110\n",
      "110\n",
      "110\n",
      "110\n",
      "110\n",
      "110\n",
      "110\n",
      "110\n",
      "110\n",
      "110\n",
      "110\n",
      "110\n",
      "110\n",
      "110\n",
      "110\n",
      "110\n",
      "110\n",
      "110\n",
      "110\n",
      "110\n",
      "110\n",
      "110\n",
      "110\n",
      "110\n",
      "110\n",
      "110\n",
      "110\n",
      "110\n",
      "110\n",
      "110\n",
      "110\n",
      "110\n",
      "110\n",
      "110\n",
      "110\n",
      "110\n",
      "110\n",
      "110\n",
      "110\n",
      "110\n",
      "110\n",
      "110\n",
      "110\n",
      "110\n",
      "110\n",
      "110\n",
      "110\n",
      "110\n",
      "110\n",
      "110\n",
      "110\n",
      "110\n",
      "110\n",
      "110\n",
      "110\n",
      "110\n",
      "110\n",
      "110\n",
      "110\n",
      "110\n",
      "110\n",
      "110\n",
      "110\n",
      "110\n",
      "110\n",
      "110\n",
      "110\n",
      "110\n",
      "110\n",
      "110\n",
      "110\n",
      "110\n",
      "110\n",
      "110\n",
      "110\n",
      "110\n",
      "110\n",
      "110\n",
      "110\n",
      "110\n",
      "110\n",
      "110\n",
      "110\n",
      "110\n",
      "110\n",
      "110\n",
      "110\n",
      "110\n",
      "110\n",
      "110\n",
      "110\n",
      "110\n",
      "110\n",
      "110\n",
      "110\n",
      "110\n",
      "110\n",
      "110\n",
      "110\n",
      "110\n",
      "110\n",
      "110\n",
      "110\n",
      "110\n",
      "110\n",
      "110\n",
      "110\n",
      "110\n",
      "110\n",
      "110\n",
      "110\n",
      "110\n",
      "110\n",
      "110\n",
      "110\n",
      "110\n",
      "110\n",
      "110\n",
      "110\n",
      "110\n",
      "110\n",
      "110\n",
      "110\n",
      "110\n",
      "110\n",
      "110\n",
      "110\n",
      "110\n",
      "110\n",
      "110\n",
      "110\n",
      "110\n",
      "110\n",
      "110\n",
      "110\n",
      "110\n",
      "110\n",
      "110\n",
      "110\n",
      "110\n",
      "110\n",
      "110\n",
      "110\n",
      "110\n",
      "110\n",
      "110\n",
      "110\n",
      "110\n",
      "110\n",
      "110\n",
      "110\n",
      "110\n",
      "110\n",
      "110\n",
      "110\n",
      "110\n",
      "110\n",
      "110\n",
      "110\n",
      "110\n",
      "110\n",
      "110\n",
      "110\n",
      "110\n",
      "110\n",
      "110\n",
      "110\n",
      "110\n",
      "110\n",
      "110\n",
      "110\n",
      "110\n",
      "110\n",
      "110\n",
      "110\n",
      "110\n",
      "110\n",
      "110\n",
      "110\n",
      "110\n",
      "110\n",
      "110\n",
      "110\n",
      "110\n",
      "110\n",
      "110\n",
      "110\n",
      "110\n",
      "110\n",
      "110\n",
      "110\n",
      "110\n",
      "110\n",
      "110\n",
      "110\n",
      "110\n",
      "110\n",
      "110\n",
      "110\n",
      "110\n",
      "110\n",
      "110\n",
      "110\n",
      "110\n",
      "110\n",
      "110\n",
      "110\n",
      "110\n",
      "110\n",
      "110\n",
      "110\n",
      "110\n",
      "110\n",
      "110\n",
      "110\n",
      "110\n",
      "110\n",
      "110\n",
      "110\n",
      "110\n",
      "110\n",
      "110\n",
      "110\n",
      "110\n",
      "110\n",
      "110\n",
      "110\n",
      "110\n",
      "110\n",
      "110\n",
      "110\n",
      "110\n",
      "110\n",
      "110\n",
      "110\n",
      "110\n",
      "110\n",
      "110\n",
      "110\n",
      "110\n",
      "110\n",
      "110\n",
      "110\n",
      "110\n",
      "110\n",
      "110\n",
      "110\n",
      "110\n",
      "110\n",
      "110\n",
      "110\n",
      "110\n",
      "110\n",
      "110\n",
      "110\n",
      "110\n",
      "110\n",
      "110\n",
      "110\n",
      "110\n",
      "110\n",
      "110\n",
      "110\n",
      "110\n",
      "110\n",
      "110\n",
      "110\n",
      "110\n",
      "110\n",
      "110\n",
      "110\n",
      "110\n",
      "110\n",
      "110\n",
      "110\n",
      "110\n",
      "110\n",
      "110\n",
      "110\n",
      "110\n",
      "110\n",
      "110\n",
      "110\n",
      "110\n",
      "110\n",
      "110\n",
      "110\n",
      "110\n",
      "110\n",
      "110\n",
      "110\n",
      "110\n",
      "110\n",
      "110\n",
      "110\n",
      "110\n",
      "110\n",
      "110\n",
      "110\n",
      "110\n",
      "110\n",
      "110\n",
      "110\n",
      "110\n",
      "110\n",
      "110\n",
      "110\n",
      "110\n",
      "110\n",
      "110\n",
      "110\n",
      "110\n",
      "110\n",
      "110\n",
      "110\n",
      "110\n",
      "110\n",
      "110\n",
      "110\n",
      "110\n",
      "110\n",
      "110\n",
      "110\n",
      "110\n",
      "110\n",
      "110\n",
      "110\n",
      "110\n",
      "110\n",
      "110\n",
      "110\n",
      "110\n",
      "110\n",
      "110\n",
      "110\n",
      "110\n",
      "110\n",
      "110\n",
      "110\n",
      "110\n",
      "110\n",
      "110\n",
      "110\n",
      "110\n",
      "110\n",
      "110\n",
      "110\n",
      "110\n",
      "110\n",
      "110\n",
      "110\n",
      "110\n",
      "110\n",
      "110\n",
      "110\n",
      "110\n",
      "110\n",
      "110\n",
      "110\n",
      "110\n",
      "110\n",
      "110\n",
      "110\n",
      "110\n",
      "110\n",
      "110\n",
      "110\n",
      "110\n",
      "110\n",
      "110\n",
      "110\n",
      "110\n",
      "110\n",
      "110\n",
      "110\n",
      "110\n",
      "110\n",
      "110\n",
      "110\n",
      "110\n",
      "110\n",
      "110\n",
      "110\n",
      "110\n",
      "110\n",
      "110\n",
      "110\n",
      "110\n",
      "110\n",
      "110\n",
      "110\n",
      "110\n",
      "110\n",
      "110\n",
      "110\n",
      "110\n",
      "110\n",
      "110\n",
      "110\n",
      "110\n",
      "110\n",
      "110\n",
      "110\n",
      "110\n",
      "110\n",
      "110\n",
      "110\n",
      "110\n",
      "110\n",
      "110\n",
      "110\n",
      "110\n",
      "110\n",
      "110\n",
      "110\n",
      "110\n",
      "110\n",
      "110\n",
      "110\n",
      "110\n",
      "110\n",
      "110\n",
      "110\n",
      "110\n",
      "110\n",
      "110\n",
      "110\n",
      "110\n",
      "110\n",
      "110\n",
      "110\n",
      "110\n",
      "110\n",
      "110\n",
      "110\n",
      "110\n",
      "110\n",
      "110\n",
      "110\n",
      "110\n",
      "110\n",
      "110\n",
      "110\n",
      "110\n",
      "110\n",
      "110\n",
      "110\n",
      "110\n",
      "110\n",
      "110\n",
      "110\n",
      "110\n",
      "110\n",
      "110\n",
      "110\n",
      "110\n",
      "110\n",
      "110\n",
      "110\n",
      "110\n",
      "110\n",
      "110\n",
      "110\n",
      "110\n",
      "110\n",
      "110\n",
      "110\n",
      "110\n",
      "110\n",
      "110\n",
      "110\n",
      "110\n",
      "110\n",
      "110\n",
      "110\n",
      "110\n",
      "110\n",
      "110\n",
      "110\n",
      "110\n",
      "110\n",
      "110\n",
      "110\n",
      "110\n",
      "110\n",
      "110\n",
      "110\n",
      "110\n",
      "110\n",
      "110\n",
      "110\n",
      "110\n",
      "110\n",
      "110\n",
      "110\n",
      "110\n",
      "110\n",
      "110\n",
      "110\n"
     ]
    }
   ],
   "source": [
    "#make 1000 dataframes with a set of snps == 110 = len(outliersnps)\n",
    "for i in range(20):                                  #make 20 .py files\n",
    "    for j in range(50):                              #each .py file makes 50 matrices\n",
    "        snps = []        \n",
    "        for binn in binCounter.keys():\n",
    "            data = nonsigdata[nonsigdata['bin'] == binn]\n",
    "            \n",
    "            [snps.append(snp) for snp in random.sample(data.index,binCounter[binn])]\n",
    "        \n",
    "        print len(snps)\n",
    "        DIR = '/home/lindb/wbp/OutFLANK/covariances/randmatrices/randsnps'\n",
    "        if not op.exists(DIR):\n",
    "            os.makedirs(DIR)\n",
    "        filE = op.join(DIR,\"outflank_%s_%s_randsnps.txt\" % (str(i).zfill(2),str(j).zfill(2)))\n",
    "        df = pd.DataFrame(snps)\n",
    "        df.to_csv(filE,header=False,index=False,sep=\"\\t\")"
   ]
  },
  {
   "cell_type": "code",
   "execution_count": 331,
   "metadata": {
    "collapsed": false
   },
   "outputs": [
    {
     "data": {
      "text/html": [
       "<div>\n",
       "<table border=\"1\" class=\"dataframe\">\n",
       "  <thead>\n",
       "    <tr style=\"text-align: right;\">\n",
       "      <th></th>\n",
       "      <th>sampID</th>\n",
       "      <th>pop</th>\n",
       "      <th>plot</th>\n",
       "    </tr>\n",
       "  </thead>\n",
       "  <tbody>\n",
       "    <tr>\n",
       "      <th>0</th>\n",
       "      <td>028compiled</td>\n",
       "      <td>Dicks_Pass</td>\n",
       "      <td>3</td>\n",
       "    </tr>\n",
       "    <tr>\n",
       "      <th>1</th>\n",
       "      <td>024compiled</td>\n",
       "      <td>Dicks_Pass</td>\n",
       "      <td>2</td>\n",
       "    </tr>\n",
       "    <tr>\n",
       "      <th>2</th>\n",
       "      <td>020compiled</td>\n",
       "      <td>Dicks_Pass</td>\n",
       "      <td>2</td>\n",
       "    </tr>\n",
       "    <tr>\n",
       "      <th>3</th>\n",
       "      <td>025compiled</td>\n",
       "      <td>Dicks_Pass</td>\n",
       "      <td>2</td>\n",
       "    </tr>\n",
       "    <tr>\n",
       "      <th>4</th>\n",
       "      <td>023compiled</td>\n",
       "      <td>Dicks_Pass</td>\n",
       "      <td>2</td>\n",
       "    </tr>\n",
       "  </tbody>\n",
       "</table>\n",
       "</div>"
      ],
      "text/plain": [
       "        sampID         pop  plot\n",
       "0  028compiled  Dicks_Pass     3\n",
       "1  024compiled  Dicks_Pass     2\n",
       "2  020compiled  Dicks_Pass     2\n",
       "3  025compiled  Dicks_Pass     2\n",
       "4  023compiled  Dicks_Pass     2"
      ]
     },
     "execution_count": 331,
     "metadata": {},
     "output_type": "execute_result"
    }
   ],
   "source": [
    "stp.head()"
   ]
  },
  {
   "cell_type": "code",
   "execution_count": 332,
   "metadata": {
    "collapsed": false
   },
   "outputs": [],
   "source": [
    "#I'm using all of my engines for bayenv2 at the moment, ran these with GNU parallel\n",
    "#get dvals for 1000 sets of random snps of len=110\n",
    "for k in range(20):\n",
    "    for l in range(50):\n",
    "        text = '''from __future__ import division\n",
    "import os\n",
    "from collections import OrderedDict,Counter\n",
    "import pandas as pd\n",
    "import numpy as np\n",
    "import vcf\n",
    "from operator import itemgetter\n",
    "import random\n",
    "import math\n",
    "from scipy.stats import ks_2samp\n",
    "from scipy.stats import anderson_ksamp\n",
    "from os import path as op\n",
    "from os import listdir as ls\n",
    "\n",
    "#get pop assignment for each samp\n",
    "filE = '/home/lindb/wbp/sampsTOpop.txt'\n",
    "stp = pd.read_csv(filE,header=0,sep=\"\\t\")\n",
    "\n",
    "\n",
    "#pops matched to samps\n",
    "ptsDict = OrderedDict() #pop to samp dictionary\n",
    "for row in stp.index:\n",
    "    pop = stp.loc[row,'pop']\n",
    "    if not pop in ptsDict.keys():\n",
    "        ptsDict[pop] = []\n",
    "    ptsDict[pop].append(stp.loc[row,'sampID'])\n",
    "\n",
    "\n",
    "#get a dict with num indiv in pop\n",
    "popDict = OrderedDict()\n",
    "total = 0\n",
    "for pop in ptsDict.keys():\n",
    "    popDict[pop] = len(ptsDict[pop])\n",
    "    print pop,popDict[pop]\n",
    "    total += popDict[pop]\n",
    "\n",
    "\n",
    "filE = '/home/lindb/wbp/OutFLANK/global_mafs.txt'\n",
    "globs = pd.read_csv(filE,header=0,sep='\\\\t')\n",
    "glob = OrderedDict()\n",
    "for row in globs.index:\n",
    "    snp = globs.loc[row,'locus']\n",
    "    maf = globs.loc[row,'maf']\n",
    "    glob[snp] = maf\n",
    "\n",
    "impMAF = pd.read_csv('/home/lindb/wbp/OutFLANK/imputed_MAF.txt',header=0,index_col=0,sep=\"\\\\t\")\n",
    "\n",
    "filE= '/home/lindb/wbp/OutFLANK/covariances/randmatrices/randsnps/outflank_%s_%s_randsnps.txt' \n",
    "df = pd.read_csv(filE,header=None,sep=\"\\\\t\")\n",
    "randomsnps = df[0].tolist()\n",
    "\n",
    "dijDict = OrderedDict() \n",
    "for i,locusi in enumerate(randomsnps):\n",
    "    dijDict[locusi] = OrderedDict()\n",
    "    qi = glob[locusi] #global maf\n",
    "\n",
    "    for j,locusj in enumerate(randomsnps):\n",
    "        if i > j: #i=row, j=col : lower triangle \n",
    "            qj = glob[locusj] #global maf\n",
    "\n",
    "            sums = 0\n",
    "            for pop in impMAF.columns:\n",
    "                qik = impMAF.loc[locusi,pop] #get pop maf\n",
    "                qjk = impMAF.loc[locusj,pop] #get pop maf\n",
    "                nk = popDict[pop]\n",
    "\n",
    "                sums += (nk/sum(popDict.values()))*((qik*qjk)-(qi*qj))\n",
    "\n",
    "            dijDict[locusi][locusj] = sums\n",
    "        else:\n",
    "            dijDict[locusi][locusj] = np.nan\n",
    "\n",
    "filE = '/home/lindb/wbp/OutFLANK/covariances/randmatrices/0outfiles/outflank_%s_%s_imputedDVALS.txt'\n",
    "DIR = os.path.dirname(filE)\n",
    "if not os.path.exists(DIR):\n",
    "    os.makedirs(DIR)\n",
    "\n",
    "with open(filE,'w') as o:\n",
    "    key0 = dijDict.keys()[0]\n",
    "    line = '\\\\t'.join(dijDict[key0].keys()) + str('\\\\n')\n",
    "    o.write(\"%%s\" %% line)\n",
    "    for locusi in dijDict.keys():\n",
    "        line = str(locusi)+'\\\\t'+'\\\\t'.join([str(x) for x in dijDict[locusi].values()]) + str('\\\\n')\n",
    "        o.write(\"%%s\" %% line)\n",
    "\n",
    "\n",
    "''' % (str(k).zfill(2),str(l).zfill(2),\n",
    "       str(k).zfill(2),str(l).zfill(2))\n",
    "        filE = '/home/lindb/wbp/OutFLANK/covariances/randmatrices/0pyfiles/get_rand_dvals_%s_%s.py' % (str(k).zfill(2),\n",
    "                                                                                                       str(l).zfill(2)\n",
    "                                                                                                      )\n",
    "        with open(filE,'w') as o:\n",
    "            o.write(\"%s\" % text)"
   ]
  },
  {
   "cell_type": "code",
   "execution_count": 81,
   "metadata": {
    "collapsed": false
   },
   "outputs": [],
   "source": [
    "#make qsub files\n",
    "count = 0\n",
    "shcount = 0\n",
    "for i in range(20):\n",
    "    for j in range(50):\n",
    "        filE = '/home/lindb/wbp/OutFLANK/covariances/randmatrices/0pyfiles/get_rand_dvals_%s_%s.py' % (str(i).zfill(2),\n",
    "                                                                                                       str(j).zfill(2)\n",
    "                                                                                                      )\n",
    "        if count == 0:\n",
    "            text = '''#!/bin/bash\n",
    "#$ -N snpsfile\n",
    "#$ -V\n",
    "#$ -j y\n",
    "#$ -cwd\n",
    "\n",
    "python %s\n",
    "''' % filE\n",
    "        else:\n",
    "            newtext = '''\n",
    "python %s\n",
    "''' % filE\n",
    "            text = text + newtext\n",
    "        count += 1\n",
    "        if count == 40:\n",
    "            count = 0\n",
    "            filE = '/home/lindb/wbp/OutFLANK/covariances/randmatrices/0runfiles/%s_run.sh' % str(shcount).zfill(2)\n",
    "            shcount += 1\n",
    "            if not op.exists(op.dirname(filE)):\n",
    "                os.makedirs(op.dirname(filE))\n",
    "            with open(filE,'w') as o:\n",
    "                o.write(\"%s\" % text)"
   ]
  },
  {
   "cell_type": "code",
   "execution_count": null,
   "metadata": {
    "collapsed": true
   },
   "outputs": [],
   "source": []
  },
  {
   "cell_type": "code",
   "execution_count": null,
   "metadata": {
    "collapsed": true
   },
   "outputs": [],
   "source": []
  },
  {
   "cell_type": "code",
   "execution_count": null,
   "metadata": {
    "collapsed": true
   },
   "outputs": [],
   "source": []
  },
  {
   "cell_type": "markdown",
   "metadata": {
    "collapsed": true
   },
   "source": [
    "### place median observed dij in distribution of median dij for random snps"
   ]
  },
  {
   "cell_type": "code",
   "execution_count": 85,
   "metadata": {
    "collapsed": false
   },
   "outputs": [
    {
     "name": "stdout",
     "output_type": "stream",
     "text": [
      "100\n",
      "200\n",
      "300\n",
      "400\n",
      "500\n",
      "600\n",
      "700\n",
      "800\n",
      "900\n",
      "1000\n"
     ]
    }
   ],
   "source": [
    "# get observed dvals\n",
    "DF = pd.read_csv('/home/lindb/wbp/OutFLANK/covariances/dvals/imputed_dvals.txt',header=0,index_col=0,sep=\"\\t\")\n",
    "dvals = []\n",
    "for i,row in enumerate(DF.index):\n",
    "    for j,col in enumerate(DF.columns):\n",
    "        if i > j:\n",
    "            dvals.append(abs(DF.loc[row,col]))\n",
    "            \n",
    "DIR = '/home/lindb/wbp/OutFLANK/covariances/randmatrices/0outfiles'\n",
    "files = os.listdir(DIR)\n",
    "files = [f for f in files if f.startswith('outflank')]\n",
    "\n",
    "fcount = 0\n",
    "medvals = []\n",
    "for f in files:\n",
    "    df = pd.read_csv(os.path.join(DIR,f),header=0,index_col=0,sep=\"\\t\")\n",
    "    rvals = [] #random dij values\n",
    "    for i,row in enumerate(df.index):\n",
    "        for j,col in enumerate(df.columns):\n",
    "            if i>j:\n",
    "                rvals.append(df.loc[row,col])\n",
    "\n",
    "    \n",
    "    medvals.append(np.median([abs(x) for x in rvals]))\n",
    "\n",
    "    fcount += 1\n",
    "    if fcount % 100 == 0:\n",
    "        print fcount\n",
    "\n",
    "filE = '/home/lindb/wbp/OutFLANK/covariances/randmatrices/0randmedvals/outflank_imputed_randmedvalues.txt'\n",
    "if not op.exists(op.dirname(filE)):\n",
    "    os.makedirs(op.dirname(filE))\n",
    "medvals = pd.DataFrame(medvals)\n",
    "medvals.to_csv(filE,header=None,index=False,sep=\"\\t\")"
   ]
  },
  {
   "cell_type": "code",
   "execution_count": null,
   "metadata": {
    "collapsed": true
   },
   "outputs": [],
   "source": [
    "1+1"
   ]
  },
  {
   "cell_type": "code",
   "execution_count": 86,
   "metadata": {
    "collapsed": false
   },
   "outputs": [
    {
     "data": {
      "text/html": [
       "<div>\n",
       "<table border=\"1\" class=\"dataframe\">\n",
       "  <thead>\n",
       "    <tr style=\"text-align: right;\">\n",
       "      <th></th>\n",
       "      <th>0</th>\n",
       "    </tr>\n",
       "  </thead>\n",
       "  <tbody>\n",
       "    <tr>\n",
       "      <th>0</th>\n",
       "      <td>0.000446</td>\n",
       "    </tr>\n",
       "    <tr>\n",
       "      <th>1</th>\n",
       "      <td>0.000462</td>\n",
       "    </tr>\n",
       "    <tr>\n",
       "      <th>2</th>\n",
       "      <td>0.000450</td>\n",
       "    </tr>\n",
       "    <tr>\n",
       "      <th>3</th>\n",
       "      <td>0.000511</td>\n",
       "    </tr>\n",
       "    <tr>\n",
       "      <th>4</th>\n",
       "      <td>0.000429</td>\n",
       "    </tr>\n",
       "  </tbody>\n",
       "</table>\n",
       "</div>"
      ],
      "text/plain": [
       "          0\n",
       "0  0.000446\n",
       "1  0.000462\n",
       "2  0.000450\n",
       "3  0.000511\n",
       "4  0.000429"
      ]
     },
     "execution_count": 86,
     "metadata": {},
     "output_type": "execute_result"
    }
   ],
   "source": [
    "medDF = pd.read_csv(filE,header=None,sep='\\t')\n",
    "medDF.head()"
   ]
  },
  {
   "cell_type": "code",
   "execution_count": 87,
   "metadata": {
    "collapsed": false
   },
   "outputs": [],
   "source": [
    "sorts = sorted(medvals[0].tolist())\n",
    "n5th = sorts[949] #95th percentile"
   ]
  },
  {
   "cell_type": "code",
   "execution_count": 89,
   "metadata": {
    "collapsed": false
   },
   "outputs": [
    {
     "data": {
      "text/plain": [
       "<matplotlib.lines.Line2D at 0x2b9dfb14b3d0>"
      ]
     },
     "execution_count": 89,
     "metadata": {},
     "output_type": "execute_result"
    },
    {
     "data": {
      "image/png": "[encoded data removed]",
      "text/plain": [
       "<matplotlib.figure.Figure at 0x2b9dfaf3bb50>"
      ]
     },
     "metadata": {},
     "output_type": "display_data"
    }
   ],
   "source": [
    "#this is the distribution of median values of random SNPs\n",
    "#red line is the 95th percentile (95th = 0.0006213)\n",
    "plt.hist(sorts)[2] \n",
    "plt.axvline(x=n5th,c=\"red\",linewidth=2,zorder=0) #should be zorder=1 "
   ]
  },
  {
   "cell_type": "code",
   "execution_count": 90,
   "metadata": {
    "collapsed": false
   },
   "outputs": [
    {
     "data": {
      "text/plain": [
       "<matplotlib.lines.Line2D at 0x2b9dfa95b310>"
      ]
     },
     "execution_count": 90,
     "metadata": {},
     "output_type": "execute_result"
    },
    {
     "data": {
      "image/png": "[encoded data removed]",
      "text/plain": [
       "<matplotlib.figure.Figure at 0x2b9dfa960210>"
      ]
     },
     "metadata": {},
     "output_type": "display_data"
    }
   ],
   "source": [
    "#this is the distribution of observed Dvals\n",
    "#red line is the median value (median = 0.0043892)\n",
    "med = np.median(dvals)\n",
    "fig = plt.hist(dvals)[2]\n",
    "plt.axvline(x=med,c=\"red\",linewidth=5,zorder=0)"
   ]
  },
  {
   "cell_type": "code",
   "execution_count": 91,
   "metadata": {
    "collapsed": false
   },
   "outputs": [
    {
     "data": {
      "text/plain": [
       "10.610076816148037"
      ]
     },
     "execution_count": 91,
     "metadata": {},
     "output_type": "execute_result"
    }
   ],
   "source": [
    "#how much bigger is the empirical median dvalue than the 100th percentile of random SNPs?\n",
    "np.median(dvals)/max(sorts)"
   ]
  },
  {
   "cell_type": "code",
   "execution_count": 92,
   "metadata": {
    "collapsed": false
   },
   "outputs": [
    {
     "data": {
      "text/plain": [
       "12.376278242077095"
      ]
     },
     "execution_count": 92,
     "metadata": {},
     "output_type": "execute_result"
    }
   ],
   "source": [
    "np.median(dvals)/n5th"
   ]
  },
  {
   "cell_type": "code",
   "execution_count": 93,
   "metadata": {
    "collapsed": false
   },
   "outputs": [
    {
     "data": {
      "text/plain": [
       "5995"
      ]
     },
     "execution_count": 93,
     "metadata": {},
     "output_type": "execute_result"
    }
   ],
   "source": [
    "len(dvals)"
   ]
  },
  {
   "cell_type": "code",
   "execution_count": 137,
   "metadata": {
    "collapsed": false
   },
   "outputs": [
    {
     "data": {
      "text/plain": [
       "0.0060805992646700002"
      ]
     },
     "execution_count": 137,
     "metadata": {},
     "output_type": "execute_result"
    }
   ],
   "source": [
    "med"
   ]
  },
  {
   "cell_type": "code",
   "execution_count": 141,
   "metadata": {
    "collapsed": false
   },
   "outputs": [
    {
     "name": "stdout",
     "output_type": "stream",
     "text": [
      "449 0.0748957464554\n"
     ]
    }
   ],
   "source": [
    "#below what percentile of the observed dvals less than the maximum randdvals\n",
    "for i,medi in enumerate(sorted(dvals)):\n",
    "    if not medi < max(sorts):\n",
    "        print i,i/len(dvals)\n",
    "        break      "
   ]
  },
  {
   "cell_type": "code",
   "execution_count": 96,
   "metadata": {
    "collapsed": false
   },
   "outputs": [
    {
     "name": "stdout",
     "output_type": "stream",
     "text": [
      "389 0.0648874061718\n"
     ]
    }
   ],
   "source": [
    "#below what percentile of the observed dvals are the values less than the 95th perc randdvals\n",
    "for i,D in enumerate(sorted(dvals)):\n",
    "    if not D < sorts[950]: #if the observed D-value isn't less than the 95th percentile of the random distribution of D\n",
    "        print i,i/len(dvals)\n",
    "        break"
   ]
  },
  {
   "cell_type": "code",
   "execution_count": 138,
   "metadata": {
    "collapsed": false
   },
   "outputs": [
    {
     "data": {
      "text/plain": [
       "(0.00057309662974500001, 0.0060805992646700002)"
      ]
     },
     "execution_count": 138,
     "metadata": {},
     "output_type": "execute_result"
    }
   ],
   "source": [
    "max(sorts),med"
   ]
  },
  {
   "cell_type": "code",
   "execution_count": 139,
   "metadata": {
    "collapsed": false
   },
   "outputs": [
    {
     "data": {
      "text/plain": [
       "(0.00049131080812300006, 0.0060805992646700002)"
      ]
     },
     "execution_count": 139,
     "metadata": {},
     "output_type": "execute_result"
    }
   ],
   "source": [
    "n5th,med"
   ]
  },
  {
   "cell_type": "markdown",
   "metadata": {},
   "source": [
    "# allele frequency shifts"
   ]
  },
  {
   "cell_type": "markdown",
   "metadata": {},
   "source": [
    "### using median abs Dij"
   ]
  },
  {
   "cell_type": "code",
   "execution_count": 99,
   "metadata": {
    "collapsed": false
   },
   "outputs": [
    {
     "data": {
      "text/html": [
       "<div>\n",
       "<table border=\"1\" class=\"dataframe\">\n",
       "  <thead>\n",
       "    <tr style=\"text-align: right;\">\n",
       "      <th></th>\n",
       "      <th>Dicks_Pass</th>\n",
       "      <th>Freel_Peak</th>\n",
       "      <th>Heavenly</th>\n",
       "      <th>Little_Round_Top</th>\n",
       "      <th>Mt_Rose_Ophir</th>\n",
       "      <th>Rifle_Peak</th>\n",
       "      <th>Snow_Valley_Peak</th>\n",
       "      <th>West_Shore_Peaks</th>\n",
       "    </tr>\n",
       "  </thead>\n",
       "  <tbody>\n",
       "    <tr>\n",
       "      <th>NODE_1000013_length_91_cov_1.802198_37</th>\n",
       "      <td>0.14</td>\n",
       "      <td>0.052083</td>\n",
       "      <td>0.14</td>\n",
       "      <td>0.16</td>\n",
       "      <td>0.112245</td>\n",
       "      <td>0.1250</td>\n",
       "      <td>0.145833</td>\n",
       "      <td>0.166667</td>\n",
       "    </tr>\n",
       "    <tr>\n",
       "      <th>NODE_1000031_length_98_cov_2.000000_30</th>\n",
       "      <td>0.26</td>\n",
       "      <td>0.104167</td>\n",
       "      <td>0.18</td>\n",
       "      <td>0.20</td>\n",
       "      <td>0.081633</td>\n",
       "      <td>0.1250</td>\n",
       "      <td>0.145833</td>\n",
       "      <td>0.229167</td>\n",
       "    </tr>\n",
       "    <tr>\n",
       "      <th>NODE_1000037_length_93_cov_2.043011_33</th>\n",
       "      <td>0.08</td>\n",
       "      <td>0.114583</td>\n",
       "      <td>0.14</td>\n",
       "      <td>0.16</td>\n",
       "      <td>0.102041</td>\n",
       "      <td>0.1250</td>\n",
       "      <td>0.166667</td>\n",
       "      <td>0.125000</td>\n",
       "    </tr>\n",
       "    <tr>\n",
       "      <th>NODE_1000042_length_93_cov_1.118280_100</th>\n",
       "      <td>0.06</td>\n",
       "      <td>0.020833</td>\n",
       "      <td>0.08</td>\n",
       "      <td>0.02</td>\n",
       "      <td>0.051020</td>\n",
       "      <td>0.0000</td>\n",
       "      <td>0.041667</td>\n",
       "      <td>0.062500</td>\n",
       "    </tr>\n",
       "    <tr>\n",
       "      <th>NODE_1000053_length_94_cov_1.744681_25</th>\n",
       "      <td>0.02</td>\n",
       "      <td>0.020833</td>\n",
       "      <td>0.04</td>\n",
       "      <td>0.02</td>\n",
       "      <td>0.010204</td>\n",
       "      <td>0.0625</td>\n",
       "      <td>0.020833</td>\n",
       "      <td>0.020833</td>\n",
       "    </tr>\n",
       "  </tbody>\n",
       "</table>\n",
       "</div>"
      ],
      "text/plain": [
       "                                         Dicks_Pass  Freel_Peak  Heavenly  \\\n",
       "NODE_1000013_length_91_cov_1.802198_37         0.14    0.052083      0.14   \n",
       "NODE_1000031_length_98_cov_2.000000_30         0.26    0.104167      0.18   \n",
       "NODE_1000037_length_93_cov_2.043011_33         0.08    0.114583      0.14   \n",
       "NODE_1000042_length_93_cov_1.118280_100        0.06    0.020833      0.08   \n",
       "NODE_1000053_length_94_cov_1.744681_25         0.02    0.020833      0.04   \n",
       "\n",
       "                                         Little_Round_Top  Mt_Rose_Ophir  \\\n",
       "NODE_1000013_length_91_cov_1.802198_37               0.16       0.112245   \n",
       "NODE_1000031_length_98_cov_2.000000_30               0.20       0.081633   \n",
       "NODE_1000037_length_93_cov_2.043011_33               0.16       0.102041   \n",
       "NODE_1000042_length_93_cov_1.118280_100              0.02       0.051020   \n",
       "NODE_1000053_length_94_cov_1.744681_25               0.02       0.010204   \n",
       "\n",
       "                                         Rifle_Peak  Snow_Valley_Peak  \\\n",
       "NODE_1000013_length_91_cov_1.802198_37       0.1250          0.145833   \n",
       "NODE_1000031_length_98_cov_2.000000_30       0.1250          0.145833   \n",
       "NODE_1000037_length_93_cov_2.043011_33       0.1250          0.166667   \n",
       "NODE_1000042_length_93_cov_1.118280_100      0.0000          0.041667   \n",
       "NODE_1000053_length_94_cov_1.744681_25       0.0625          0.020833   \n",
       "\n",
       "                                         West_Shore_Peaks  \n",
       "NODE_1000013_length_91_cov_1.802198_37           0.166667  \n",
       "NODE_1000031_length_98_cov_2.000000_30           0.229167  \n",
       "NODE_1000037_length_93_cov_2.043011_33           0.125000  \n",
       "NODE_1000042_length_93_cov_1.118280_100          0.062500  \n",
       "NODE_1000053_length_94_cov_1.744681_25           0.020833  "
      ]
     },
     "execution_count": 99,
     "metadata": {},
     "output_type": "execute_result"
    }
   ],
   "source": [
    "#dataframe to get population MAF across 8 pops using all n=244 samples (can't use this for GEMMA since pop sizes r diff\n",
    "impMAF.head()"
   ]
  },
  {
   "cell_type": "code",
   "execution_count": 100,
   "metadata": {
    "collapsed": false
   },
   "outputs": [
    {
     "data": {
      "text/plain": [
       "OrderedDict([('Dicks_Pass', 25),\n",
       "             ('Freel_Peak', 48),\n",
       "             ('Little_Round_Top', 25),\n",
       "             ('Heavenly', 25),\n",
       "             ('Mt_Rose_Ophir', 49),\n",
       "             ('Rifle_Peak', 24),\n",
       "             ('Snow_Valley_Peak', 24),\n",
       "             ('West_Shore_Peaks', 24)])"
      ]
     },
     "execution_count": 100,
     "metadata": {},
     "output_type": "execute_result"
    }
   ],
   "source": [
    "#population sizes\n",
    "popDict"
   ]
  },
  {
   "cell_type": "code",
   "execution_count": 323,
   "metadata": {
    "collapsed": false
   },
   "outputs": [
    {
     "data": {
      "text/plain": [
       "110"
      ]
     },
     "execution_count": 323,
     "metadata": {},
     "output_type": "execute_result"
    }
   ],
   "source": [
    "len(outliersnps)"
   ]
  },
  {
   "cell_type": "code",
   "execution_count": 101,
   "metadata": {
    "collapsed": false
   },
   "outputs": [
    {
     "name": "stdout",
     "output_type": "stream",
     "text": [
      "Dicks_Pass\n",
      "Freel_Peak\n",
      "Heavenly\n",
      "Little_Round_Top\n",
      "Mt_Rose_Ophir\n",
      "Rifle_Peak\n",
      "Snow_Valley_Peak\n",
      "West_Shore_Peaks\n"
     ]
    }
   ],
   "source": [
    "#do pairwise pops for empirical SNPs IDed by OutFLANK and calculate median Dij for each pop pair\n",
    "shiftDict = OrderedDict() \n",
    "kcount = 0\n",
    "for m,popm in enumerate(impMAF.columns):\n",
    "    print popm\n",
    "    shiftDict[popm] = OrderedDict()\n",
    "    for l,popl in enumerate(impMAF.columns):\n",
    "        if m>l: #only need to do the lower triangle\n",
    "            dijlist = []\n",
    "            for i,locusi in enumerate(outliersnps):\n",
    "                for j,locusj in enumerate(outliersnps):\n",
    "                    if i > j: #i=row, j=col : lower triangle \n",
    "                        sums =0\n",
    "                        kcount += 1\n",
    "                        for popk in [popm,popl]:\n",
    "                            qik = impMAF.loc[locusi,popk]        #get locusi maf for pop k\n",
    "                            qjk = impMAF.loc[locusj,popk]        #get locusj maf for pop k\n",
    "                            nk = popDict[popk]                   #N  individuals  in pop k\n",
    "                            \n",
    "                            globN = 2*(popDict[popm]+popDict[popl]) # number of alleles across 2 pops\n",
    "                            \n",
    "                            #get global mafs\n",
    "                            fqim = impMAF.loc[locusi,popm]        #minor allele locusi freq  in popm\n",
    "                            nqim = round(fqim*2*popDict[popm])    #minor allele locusi count in popm\n",
    "                            fqil = impMAF.loc[locusi,popl]        #minor allele locusi freq  in popl\n",
    "                            nqil = round(fqil*2*popDict[popl])    #minor allele locusi count in popl\n",
    "                            \n",
    "                            fqjm = impMAF.loc[locusj,popm]        #minor allele locusj freq  in popm\n",
    "                            nqjm = round(fqjm*2*popDict[popm])    #minor allele locusj count in popm\n",
    "                            fqjl = impMAF.loc[locusj,popl]        #minor allele locusj freq  in popl\n",
    "                            nqjl = round(fqjl*2*popDict[popl])    #minor allele locusj count in popl\n",
    "                            \n",
    "                            qi = (nqim+nqil)/((2*popDict[popm])+(2*popDict[popl])) #global maf locusi\n",
    "                            qj = (nqjm+nqjl)/((2*popDict[popm])+(2*popDict[popl])) #global maf locusj\n",
    "\n",
    "                            sums += (nk/(popDict[popm]+popDict[popl]))*((qik*qjk)-(qi*qj))\n",
    "\n",
    "                        dijlist.append(sums) #each pairwise pop comparison has a matrix of Dij\n",
    "                    else:\n",
    "                        pass #no redundancies, no diagonal. \n",
    "            shiftDict[popm][popl] = np.median([abs(d) for d in dijlist])\n",
    "        else:\n",
    "            shiftDict[popm][popl] = np.nan #no redundancies,no diagonal. will be faster to reflect across diag later\n",
    "#    if kcount > 1:\n",
    "#        break"
   ]
  },
  {
   "cell_type": "code",
   "execution_count": 102,
   "metadata": {
    "collapsed": true
   },
   "outputs": [],
   "source": [
    "filE = '/home/lindb/wbp/OutFLANK/freqshifts/pop_pairwise_dij.text'\n",
    "with open(filE,'w') as o:\n",
    "    key0 = shiftDict.keys()[0]\n",
    "    line = '\\t'.join(shiftDict[key0].keys()) + str('\\n')\n",
    "    o.write(\"%s\" % line)\n",
    "    for popk in shiftDict.keys():\n",
    "        text = str(popk)+'\\t'+'\\t'.join([str(d) for d in shiftDict[popk].values()])+'\\n'\n",
    "        o.write(\"%s\" % text)"
   ]
  },
  {
   "cell_type": "code",
   "execution_count": 103,
   "metadata": {
    "collapsed": false
   },
   "outputs": [
    {
     "data": {
      "text/html": [
       "<div>\n",
       "<table border=\"1\" class=\"dataframe\">\n",
       "  <thead>\n",
       "    <tr style=\"text-align: right;\">\n",
       "      <th></th>\n",
       "      <th>Dicks_Pass</th>\n",
       "      <th>Freel_Peak</th>\n",
       "      <th>Heavenly</th>\n",
       "      <th>Little_Round_Top</th>\n",
       "      <th>Mt_Rose_Ophir</th>\n",
       "      <th>Rifle_Peak</th>\n",
       "      <th>Snow_Valley_Peak</th>\n",
       "      <th>West_Shore_Peaks</th>\n",
       "    </tr>\n",
       "  </thead>\n",
       "  <tbody>\n",
       "    <tr>\n",
       "      <th>Dicks_Pass</th>\n",
       "      <td>NaN</td>\n",
       "      <td>NaN</td>\n",
       "      <td>NaN</td>\n",
       "      <td>NaN</td>\n",
       "      <td>NaN</td>\n",
       "      <td>NaN</td>\n",
       "      <td>NaN</td>\n",
       "      <td>NaN</td>\n",
       "    </tr>\n",
       "    <tr>\n",
       "      <th>Freel_Peak</th>\n",
       "      <td>0.006703</td>\n",
       "      <td>NaN</td>\n",
       "      <td>NaN</td>\n",
       "      <td>NaN</td>\n",
       "      <td>NaN</td>\n",
       "      <td>NaN</td>\n",
       "      <td>NaN</td>\n",
       "      <td>NaN</td>\n",
       "    </tr>\n",
       "    <tr>\n",
       "      <th>Heavenly</th>\n",
       "      <td>0.002600</td>\n",
       "      <td>0.006422</td>\n",
       "      <td>NaN</td>\n",
       "      <td>NaN</td>\n",
       "      <td>NaN</td>\n",
       "      <td>NaN</td>\n",
       "      <td>NaN</td>\n",
       "      <td>NaN</td>\n",
       "    </tr>\n",
       "    <tr>\n",
       "      <th>Little_Round_Top</th>\n",
       "      <td>0.007000</td>\n",
       "      <td>0.000522</td>\n",
       "      <td>0.008500</td>\n",
       "      <td>NaN</td>\n",
       "      <td>NaN</td>\n",
       "      <td>NaN</td>\n",
       "      <td>NaN</td>\n",
       "      <td>NaN</td>\n",
       "    </tr>\n",
       "    <tr>\n",
       "      <th>Mt_Rose_Ophir</th>\n",
       "      <td>0.007560</td>\n",
       "      <td>0.000307</td>\n",
       "      <td>0.008609</td>\n",
       "      <td>0.000710</td>\n",
       "      <td>NaN</td>\n",
       "      <td>NaN</td>\n",
       "      <td>NaN</td>\n",
       "      <td>NaN</td>\n",
       "    </tr>\n",
       "    <tr>\n",
       "      <th>Rifle_Peak</th>\n",
       "      <td>0.006247</td>\n",
       "      <td>0.000193</td>\n",
       "      <td>0.008668</td>\n",
       "      <td>0.000529</td>\n",
       "      <td>0.000317</td>\n",
       "      <td>NaN</td>\n",
       "      <td>NaN</td>\n",
       "      <td>NaN</td>\n",
       "    </tr>\n",
       "    <tr>\n",
       "      <th>Snow_Valley_Peak</th>\n",
       "      <td>0.015165</td>\n",
       "      <td>0.000772</td>\n",
       "      <td>0.016198</td>\n",
       "      <td>0.002124</td>\n",
       "      <td>0.000797</td>\n",
       "      <td>0.00076</td>\n",
       "      <td>NaN</td>\n",
       "      <td>NaN</td>\n",
       "    </tr>\n",
       "    <tr>\n",
       "      <th>West_Shore_Peaks</th>\n",
       "      <td>0.008131</td>\n",
       "      <td>0.000603</td>\n",
       "      <td>0.009341</td>\n",
       "      <td>0.000994</td>\n",
       "      <td>0.000232</td>\n",
       "      <td>0.00076</td>\n",
       "      <td>0.001302</td>\n",
       "      <td>NaN</td>\n",
       "    </tr>\n",
       "  </tbody>\n",
       "</table>\n",
       "</div>"
      ],
      "text/plain": [
       "                  Dicks_Pass  Freel_Peak  Heavenly  Little_Round_Top  \\\n",
       "Dicks_Pass               NaN         NaN       NaN               NaN   \n",
       "Freel_Peak          0.006703         NaN       NaN               NaN   \n",
       "Heavenly            0.002600    0.006422       NaN               NaN   \n",
       "Little_Round_Top    0.007000    0.000522  0.008500               NaN   \n",
       "Mt_Rose_Ophir       0.007560    0.000307  0.008609          0.000710   \n",
       "Rifle_Peak          0.006247    0.000193  0.008668          0.000529   \n",
       "Snow_Valley_Peak    0.015165    0.000772  0.016198          0.002124   \n",
       "West_Shore_Peaks    0.008131    0.000603  0.009341          0.000994   \n",
       "\n",
       "                  Mt_Rose_Ophir  Rifle_Peak  Snow_Valley_Peak  \\\n",
       "Dicks_Pass                  NaN         NaN               NaN   \n",
       "Freel_Peak                  NaN         NaN               NaN   \n",
       "Heavenly                    NaN         NaN               NaN   \n",
       "Little_Round_Top            NaN         NaN               NaN   \n",
       "Mt_Rose_Ophir               NaN         NaN               NaN   \n",
       "Rifle_Peak             0.000317         NaN               NaN   \n",
       "Snow_Valley_Peak       0.000797     0.00076               NaN   \n",
       "West_Shore_Peaks       0.000232     0.00076          0.001302   \n",
       "\n",
       "                  West_Shore_Peaks  \n",
       "Dicks_Pass                     NaN  \n",
       "Freel_Peak                     NaN  \n",
       "Heavenly                       NaN  \n",
       "Little_Round_Top               NaN  \n",
       "Mt_Rose_Ophir                  NaN  \n",
       "Rifle_Peak                     NaN  \n",
       "Snow_Valley_Peak               NaN  \n",
       "West_Shore_Peaks               NaN  "
      ]
     },
     "execution_count": 103,
     "metadata": {},
     "output_type": "execute_result"
    }
   ],
   "source": [
    "filE = '/home/lindb/wbp/OutFLANK/freqshifts/pop_pairwise_dij.text'\n",
    "shiftDF = pd.read_csv(filE,header=0,index_col=0,sep='\\t')\n",
    "shiftDF"
   ]
  },
  {
   "cell_type": "code",
   "execution_count": 105,
   "metadata": {
    "collapsed": false
   },
   "outputs": [],
   "source": [
    "shifts = []\n",
    "for i,row in enumerate(shiftDF.index):\n",
    "    for j,col in enumerate(shiftDF.columns):\n",
    "        if i > j:\n",
    "            shifts.append(shiftDF.loc[row,col])"
   ]
  },
  {
   "cell_type": "code",
   "execution_count": 106,
   "metadata": {
    "collapsed": false
   },
   "outputs": [
    {
     "data": {
      "text/html": [
       "<div>\n",
       "<table border=\"1\" class=\"dataframe\">\n",
       "  <thead>\n",
       "    <tr style=\"text-align: right;\">\n",
       "      <th></th>\n",
       "      <th>Dicks_Pass</th>\n",
       "      <th>Freel_Peak</th>\n",
       "      <th>Heavenly</th>\n",
       "      <th>Little_Round_Top</th>\n",
       "      <th>Mt_Rose_Ophir</th>\n",
       "      <th>Rifle_Peak</th>\n",
       "      <th>Snow_Valley_Peak</th>\n",
       "      <th>West_Shore_Peaks</th>\n",
       "    </tr>\n",
       "  </thead>\n",
       "  <tbody>\n",
       "    <tr>\n",
       "      <th>Dicks_Pass</th>\n",
       "      <td>0.000000</td>\n",
       "      <td>0.006703</td>\n",
       "      <td>0.002600</td>\n",
       "      <td>0.007000</td>\n",
       "      <td>0.007560</td>\n",
       "      <td>0.006247</td>\n",
       "      <td>0.015165</td>\n",
       "      <td>0.008131</td>\n",
       "    </tr>\n",
       "    <tr>\n",
       "      <th>Freel_Peak</th>\n",
       "      <td>0.006703</td>\n",
       "      <td>0.000000</td>\n",
       "      <td>0.006422</td>\n",
       "      <td>0.000522</td>\n",
       "      <td>0.000307</td>\n",
       "      <td>0.000193</td>\n",
       "      <td>0.000772</td>\n",
       "      <td>0.000603</td>\n",
       "    </tr>\n",
       "    <tr>\n",
       "      <th>Heavenly</th>\n",
       "      <td>0.002600</td>\n",
       "      <td>0.006422</td>\n",
       "      <td>0.000000</td>\n",
       "      <td>0.008500</td>\n",
       "      <td>0.008609</td>\n",
       "      <td>0.008668</td>\n",
       "      <td>0.016198</td>\n",
       "      <td>0.009341</td>\n",
       "    </tr>\n",
       "    <tr>\n",
       "      <th>Little_Round_Top</th>\n",
       "      <td>0.007000</td>\n",
       "      <td>0.000522</td>\n",
       "      <td>0.008500</td>\n",
       "      <td>0.000000</td>\n",
       "      <td>0.000710</td>\n",
       "      <td>0.000529</td>\n",
       "      <td>0.002124</td>\n",
       "      <td>0.000994</td>\n",
       "    </tr>\n",
       "    <tr>\n",
       "      <th>Mt_Rose_Ophir</th>\n",
       "      <td>0.007560</td>\n",
       "      <td>0.000307</td>\n",
       "      <td>0.008609</td>\n",
       "      <td>0.000710</td>\n",
       "      <td>0.000000</td>\n",
       "      <td>0.000317</td>\n",
       "      <td>0.000797</td>\n",
       "      <td>0.000232</td>\n",
       "    </tr>\n",
       "    <tr>\n",
       "      <th>Rifle_Peak</th>\n",
       "      <td>0.006247</td>\n",
       "      <td>0.000193</td>\n",
       "      <td>0.008668</td>\n",
       "      <td>0.000529</td>\n",
       "      <td>0.000317</td>\n",
       "      <td>0.000000</td>\n",
       "      <td>0.000760</td>\n",
       "      <td>0.000760</td>\n",
       "    </tr>\n",
       "    <tr>\n",
       "      <th>Snow_Valley_Peak</th>\n",
       "      <td>0.015165</td>\n",
       "      <td>0.000772</td>\n",
       "      <td>0.016198</td>\n",
       "      <td>0.002124</td>\n",
       "      <td>0.000797</td>\n",
       "      <td>0.000760</td>\n",
       "      <td>0.000000</td>\n",
       "      <td>0.001302</td>\n",
       "    </tr>\n",
       "    <tr>\n",
       "      <th>West_Shore_Peaks</th>\n",
       "      <td>0.008131</td>\n",
       "      <td>0.000603</td>\n",
       "      <td>0.009341</td>\n",
       "      <td>0.000994</td>\n",
       "      <td>0.000232</td>\n",
       "      <td>0.000760</td>\n",
       "      <td>0.001302</td>\n",
       "      <td>0.000000</td>\n",
       "    </tr>\n",
       "  </tbody>\n",
       "</table>\n",
       "</div>"
      ],
      "text/plain": [
       "                  Dicks_Pass  Freel_Peak  Heavenly  Little_Round_Top  \\\n",
       "Dicks_Pass          0.000000    0.006703  0.002600          0.007000   \n",
       "Freel_Peak          0.006703    0.000000  0.006422          0.000522   \n",
       "Heavenly            0.002600    0.006422  0.000000          0.008500   \n",
       "Little_Round_Top    0.007000    0.000522  0.008500          0.000000   \n",
       "Mt_Rose_Ophir       0.007560    0.000307  0.008609          0.000710   \n",
       "Rifle_Peak          0.006247    0.000193  0.008668          0.000529   \n",
       "Snow_Valley_Peak    0.015165    0.000772  0.016198          0.002124   \n",
       "West_Shore_Peaks    0.008131    0.000603  0.009341          0.000994   \n",
       "\n",
       "                  Mt_Rose_Ophir  Rifle_Peak  Snow_Valley_Peak  \\\n",
       "Dicks_Pass             0.007560    0.006247          0.015165   \n",
       "Freel_Peak             0.000307    0.000193          0.000772   \n",
       "Heavenly               0.008609    0.008668          0.016198   \n",
       "Little_Round_Top       0.000710    0.000529          0.002124   \n",
       "Mt_Rose_Ophir          0.000000    0.000317          0.000797   \n",
       "Rifle_Peak             0.000317    0.000000          0.000760   \n",
       "Snow_Valley_Peak       0.000797    0.000760          0.000000   \n",
       "West_Shore_Peaks       0.000232    0.000760          0.001302   \n",
       "\n",
       "                  West_Shore_Peaks  \n",
       "Dicks_Pass                0.008131  \n",
       "Freel_Peak                0.000603  \n",
       "Heavenly                  0.009341  \n",
       "Little_Round_Top          0.000994  \n",
       "Mt_Rose_Ophir             0.000232  \n",
       "Rifle_Peak                0.000760  \n",
       "Snow_Valley_Peak          0.001302  \n",
       "West_Shore_Peaks          0.000000  "
      ]
     },
     "execution_count": 106,
     "metadata": {},
     "output_type": "execute_result"
    }
   ],
   "source": [
    "for i,popi in enumerate(shiftDF.index):\n",
    "    for j,popj in enumerate(shiftDF.columns):\n",
    "        if i == j:\n",
    "            shiftDF.loc[popi,popj] =0\n",
    "        elif math.isnan(shiftDF.loc[popi,popj]) == True:\n",
    "            shiftDF.loc[popi,popj] = shiftDF.loc[popj,popi]\n",
    "shiftDF"
   ]
  },
  {
   "cell_type": "code",
   "execution_count": 107,
   "metadata": {
    "collapsed": false
   },
   "outputs": [
    {
     "data": {
      "text/html": [
       "<div>\n",
       "<table border=\"1\" class=\"dataframe\">\n",
       "  <thead>\n",
       "    <tr style=\"text-align: right;\">\n",
       "      <th></th>\n",
       "      <th>Dicks_Pass</th>\n",
       "      <th>Freel_Peak</th>\n",
       "      <th>Heavenly</th>\n",
       "      <th>Little_Round_Top</th>\n",
       "      <th>Mt_Rose_Ophir</th>\n",
       "      <th>Rifle_Peak</th>\n",
       "      <th>Snow_Valley_Peak</th>\n",
       "      <th>West_Shore_Peaks</th>\n",
       "    </tr>\n",
       "  </thead>\n",
       "  <tbody>\n",
       "    <tr>\n",
       "      <th>Dicks_Pass</th>\n",
       "      <td>0.000000</td>\n",
       "      <td>20.104666</td>\n",
       "      <td>19.920600</td>\n",
       "      <td>20.154529</td>\n",
       "      <td>46.721875</td>\n",
       "      <td>43.644995</td>\n",
       "      <td>34.872237</td>\n",
       "      <td>7.360111</td>\n",
       "    </tr>\n",
       "    <tr>\n",
       "      <th>Freel_Peak</th>\n",
       "      <td>20.104666</td>\n",
       "      <td>0.000000</td>\n",
       "      <td>8.942301</td>\n",
       "      <td>18.012925</td>\n",
       "      <td>48.167873</td>\n",
       "      <td>47.870742</td>\n",
       "      <td>33.436003</td>\n",
       "      <td>22.696565</td>\n",
       "    </tr>\n",
       "    <tr>\n",
       "      <th>Heavenly</th>\n",
       "      <td>19.920600</td>\n",
       "      <td>8.942301</td>\n",
       "      <td>0.000000</td>\n",
       "      <td>25.483772</td>\n",
       "      <td>39.233487</td>\n",
       "      <td>39.101996</td>\n",
       "      <td>24.495198</td>\n",
       "      <td>19.398818</td>\n",
       "    </tr>\n",
       "    <tr>\n",
       "      <th>Little_Round_Top</th>\n",
       "      <td>20.154529</td>\n",
       "      <td>18.012925</td>\n",
       "      <td>25.483772</td>\n",
       "      <td>0.000000</td>\n",
       "      <td>62.614167</td>\n",
       "      <td>60.896987</td>\n",
       "      <td>48.688896</td>\n",
       "      <td>26.972518</td>\n",
       "    </tr>\n",
       "    <tr>\n",
       "      <th>Mt_Rose_Ophir</th>\n",
       "      <td>46.721875</td>\n",
       "      <td>48.167873</td>\n",
       "      <td>39.233487</td>\n",
       "      <td>62.614167</td>\n",
       "      <td>0.000000</td>\n",
       "      <td>6.729816</td>\n",
       "      <td>14.888191</td>\n",
       "      <td>39.846163</td>\n",
       "    </tr>\n",
       "    <tr>\n",
       "      <th>Rifle_Peak</th>\n",
       "      <td>43.644995</td>\n",
       "      <td>47.870742</td>\n",
       "      <td>39.101996</td>\n",
       "      <td>60.896987</td>\n",
       "      <td>6.729816</td>\n",
       "      <td>0.000000</td>\n",
       "      <td>16.378662</td>\n",
       "      <td>36.466148</td>\n",
       "    </tr>\n",
       "    <tr>\n",
       "      <th>Snow_Valley_Peak</th>\n",
       "      <td>34.872237</td>\n",
       "      <td>33.436003</td>\n",
       "      <td>24.495198</td>\n",
       "      <td>48.688896</td>\n",
       "      <td>14.888191</td>\n",
       "      <td>16.378662</td>\n",
       "      <td>0.000000</td>\n",
       "      <td>28.899038</td>\n",
       "    </tr>\n",
       "    <tr>\n",
       "      <th>West_Shore_Peaks</th>\n",
       "      <td>7.360111</td>\n",
       "      <td>22.696565</td>\n",
       "      <td>19.398818</td>\n",
       "      <td>26.972518</td>\n",
       "      <td>39.846163</td>\n",
       "      <td>36.466148</td>\n",
       "      <td>28.899038</td>\n",
       "      <td>0.000000</td>\n",
       "    </tr>\n",
       "  </tbody>\n",
       "</table>\n",
       "</div>"
      ],
      "text/plain": [
       "                  Dicks_Pass  Freel_Peak   Heavenly  Little_Round_Top  \\\n",
       "Dicks_Pass          0.000000   20.104666  19.920600         20.154529   \n",
       "Freel_Peak         20.104666    0.000000   8.942301         18.012925   \n",
       "Heavenly           19.920600    8.942301   0.000000         25.483772   \n",
       "Little_Round_Top   20.154529   18.012925  25.483772          0.000000   \n",
       "Mt_Rose_Ophir      46.721875   48.167873  39.233487         62.614167   \n",
       "Rifle_Peak         43.644995   47.870742  39.101996         60.896987   \n",
       "Snow_Valley_Peak   34.872237   33.436003  24.495198         48.688896   \n",
       "West_Shore_Peaks    7.360111   22.696565  19.398818         26.972518   \n",
       "\n",
       "                  Mt_Rose_Ophir  Rifle_Peak  Snow_Valley_Peak  \\\n",
       "Dicks_Pass            46.721875   43.644995         34.872237   \n",
       "Freel_Peak            48.167873   47.870742         33.436003   \n",
       "Heavenly              39.233487   39.101996         24.495198   \n",
       "Little_Round_Top      62.614167   60.896987         48.688896   \n",
       "Mt_Rose_Ophir          0.000000    6.729816         14.888191   \n",
       "Rifle_Peak             6.729816    0.000000         16.378662   \n",
       "Snow_Valley_Peak      14.888191   16.378662          0.000000   \n",
       "West_Shore_Peaks      39.846163   36.466148         28.899038   \n",
       "\n",
       "                  West_Shore_Peaks  \n",
       "Dicks_Pass                7.360111  \n",
       "Freel_Peak               22.696565  \n",
       "Heavenly                 19.398818  \n",
       "Little_Round_Top         26.972518  \n",
       "Mt_Rose_Ophir            39.846163  \n",
       "Rifle_Peak               36.466148  \n",
       "Snow_Valley_Peak         28.899038  \n",
       "West_Shore_Peaks          0.000000  "
      ]
     },
     "execution_count": 107,
     "metadata": {},
     "output_type": "execute_result"
    }
   ],
   "source": [
    "filE = '/home/lindb/wbp/bayenv2/distance_matrices/geographic_distances.txt'\n",
    "geodist = pd.read_csv(filE,header=0,index_col=0,sep='\\t')\n",
    "geodist"
   ]
  },
  {
   "cell_type": "code",
   "execution_count": 180,
   "metadata": {
    "collapsed": false
   },
   "outputs": [
    {
     "data": {
      "text/plain": [
       "'20.1046659014'"
      ]
     },
     "execution_count": 180,
     "metadata": {},
     "output_type": "execute_result"
    }
   ],
   "source": [
    "geodist.loc['Freel_Peak','Dicks_Pass'][:-3]"
   ]
  },
  {
   "cell_type": "code",
   "execution_count": 109,
   "metadata": {
    "collapsed": false
   },
   "outputs": [],
   "source": [
    "geos = []\n",
    "for i,row in enumerate(geodist.index):\n",
    "    for j,col in enumerate(geodist.columns):\n",
    "        if i > j:\n",
    "            geos.append(float(geodist.loc[row,col]))"
   ]
  },
  {
   "cell_type": "code",
   "execution_count": 191,
   "metadata": {
    "collapsed": false
   },
   "outputs": [
    {
     "data": {
      "text/html": [
       "<div>\n",
       "<table border=\"1\" class=\"dataframe\">\n",
       "  <thead>\n",
       "    <tr style=\"text-align: right;\">\n",
       "      <th></th>\n",
       "      <th>Dicks_Pass</th>\n",
       "      <th>Freel_Peak</th>\n",
       "      <th>Heavenly</th>\n",
       "      <th>Little_Round_Top</th>\n",
       "      <th>Mt_Rose_Ophir</th>\n",
       "      <th>Rifle_Peak</th>\n",
       "      <th>Snow_Valley_Peak</th>\n",
       "      <th>West_Shore_Peaks</th>\n",
       "    </tr>\n",
       "  </thead>\n",
       "  <tbody>\n",
       "    <tr>\n",
       "      <th>Dicks_Pass</th>\n",
       "      <td>NaN</td>\n",
       "      <td>NaN</td>\n",
       "      <td>NaN</td>\n",
       "      <td>NaN</td>\n",
       "      <td>NaN</td>\n",
       "      <td>NaN</td>\n",
       "      <td>NaN</td>\n",
       "      <td>NaN</td>\n",
       "    </tr>\n",
       "    <tr>\n",
       "      <th>Freel_Peak</th>\n",
       "      <td>20.1047</td>\n",
       "      <td>NaN</td>\n",
       "      <td>NaN</td>\n",
       "      <td>NaN</td>\n",
       "      <td>NaN</td>\n",
       "      <td>NaN</td>\n",
       "      <td>NaN</td>\n",
       "      <td>NaN</td>\n",
       "    </tr>\n",
       "    <tr>\n",
       "      <th>Heavenly</th>\n",
       "      <td>19.9206</td>\n",
       "      <td>8.9423</td>\n",
       "      <td>NaN</td>\n",
       "      <td>NaN</td>\n",
       "      <td>NaN</td>\n",
       "      <td>NaN</td>\n",
       "      <td>NaN</td>\n",
       "      <td>NaN</td>\n",
       "    </tr>\n",
       "    <tr>\n",
       "      <th>Little_Round_Top</th>\n",
       "      <td>20.1545</td>\n",
       "      <td>18.0129</td>\n",
       "      <td>25.4838</td>\n",
       "      <td>NaN</td>\n",
       "      <td>NaN</td>\n",
       "      <td>NaN</td>\n",
       "      <td>NaN</td>\n",
       "      <td>NaN</td>\n",
       "    </tr>\n",
       "    <tr>\n",
       "      <th>Mt_Rose_Ophir</th>\n",
       "      <td>46.7219</td>\n",
       "      <td>48.1679</td>\n",
       "      <td>39.2335</td>\n",
       "      <td>62.6142</td>\n",
       "      <td>NaN</td>\n",
       "      <td>NaN</td>\n",
       "      <td>NaN</td>\n",
       "      <td>NaN</td>\n",
       "    </tr>\n",
       "    <tr>\n",
       "      <th>Rifle_Peak</th>\n",
       "      <td>43.645</td>\n",
       "      <td>47.8707</td>\n",
       "      <td>39.102</td>\n",
       "      <td>60.897</td>\n",
       "      <td>6.72982</td>\n",
       "      <td>NaN</td>\n",
       "      <td>NaN</td>\n",
       "      <td>NaN</td>\n",
       "    </tr>\n",
       "    <tr>\n",
       "      <th>Snow_Valley_Peak</th>\n",
       "      <td>34.8722</td>\n",
       "      <td>33.436</td>\n",
       "      <td>24.4952</td>\n",
       "      <td>48.6889</td>\n",
       "      <td>14.8882</td>\n",
       "      <td>16.3787</td>\n",
       "      <td>NaN</td>\n",
       "      <td>NaN</td>\n",
       "    </tr>\n",
       "    <tr>\n",
       "      <th>West_Shore_Peaks</th>\n",
       "      <td>7.36011</td>\n",
       "      <td>22.6966</td>\n",
       "      <td>19.3988</td>\n",
       "      <td>26.9725</td>\n",
       "      <td>39.8462</td>\n",
       "      <td>36.4661</td>\n",
       "      <td>28.899</td>\n",
       "      <td>NaN</td>\n",
       "    </tr>\n",
       "  </tbody>\n",
       "</table>\n",
       "</div>"
      ],
      "text/plain": [
       "                 Dicks_Pass Freel_Peak Heavenly Little_Round_Top  \\\n",
       "Dicks_Pass              NaN        NaN      NaN              NaN   \n",
       "Freel_Peak          20.1047        NaN      NaN              NaN   \n",
       "Heavenly            19.9206     8.9423      NaN              NaN   \n",
       "Little_Round_Top    20.1545    18.0129  25.4838              NaN   \n",
       "Mt_Rose_Ophir       46.7219    48.1679  39.2335          62.6142   \n",
       "Rifle_Peak           43.645    47.8707   39.102           60.897   \n",
       "Snow_Valley_Peak    34.8722     33.436  24.4952          48.6889   \n",
       "West_Shore_Peaks    7.36011    22.6966  19.3988          26.9725   \n",
       "\n",
       "                 Mt_Rose_Ophir Rifle_Peak Snow_Valley_Peak  West_Shore_Peaks  \n",
       "Dicks_Pass                 NaN        NaN              NaN               NaN  \n",
       "Freel_Peak                 NaN        NaN              NaN               NaN  \n",
       "Heavenly                   NaN        NaN              NaN               NaN  \n",
       "Little_Round_Top           NaN        NaN              NaN               NaN  \n",
       "Mt_Rose_Ophir              NaN        NaN              NaN               NaN  \n",
       "Rifle_Peak             6.72982        NaN              NaN               NaN  \n",
       "Snow_Valley_Peak       14.8882    16.3787              NaN               NaN  \n",
       "West_Shore_Peaks       39.8462    36.4661           28.899               NaN  "
      ]
     },
     "execution_count": 191,
     "metadata": {},
     "output_type": "execute_result"
    }
   ],
   "source": [
    "#get rid of the km\n",
    "for i,popi in enumerate(geodist.index):\n",
    "    for j,popj in enumerate(geodist.columns):\n",
    "        if i>j:\n",
    "            geodist.loc[popi,popj] = float(geodist.loc[popi,popj][:-3])\n",
    "geodist"
   ]
  },
  {
   "cell_type": "code",
   "execution_count": 192,
   "metadata": {
    "collapsed": false
   },
   "outputs": [
    {
     "data": {
      "text/html": [
       "<div>\n",
       "<table border=\"1\" class=\"dataframe\">\n",
       "  <thead>\n",
       "    <tr style=\"text-align: right;\">\n",
       "      <th></th>\n",
       "      <th>Dicks_Pass</th>\n",
       "      <th>Freel_Peak</th>\n",
       "      <th>Heavenly</th>\n",
       "      <th>Little_Round_Top</th>\n",
       "      <th>Mt_Rose_Ophir</th>\n",
       "      <th>Rifle_Peak</th>\n",
       "      <th>Snow_Valley_Peak</th>\n",
       "      <th>West_Shore_Peaks</th>\n",
       "    </tr>\n",
       "  </thead>\n",
       "  <tbody>\n",
       "    <tr>\n",
       "      <th>Dicks_Pass</th>\n",
       "      <td>0</td>\n",
       "      <td>20.1047</td>\n",
       "      <td>19.9206</td>\n",
       "      <td>20.1545</td>\n",
       "      <td>46.7219</td>\n",
       "      <td>43.645</td>\n",
       "      <td>34.8722</td>\n",
       "      <td>7.360111</td>\n",
       "    </tr>\n",
       "    <tr>\n",
       "      <th>Freel_Peak</th>\n",
       "      <td>20.1047</td>\n",
       "      <td>0</td>\n",
       "      <td>8.9423</td>\n",
       "      <td>18.0129</td>\n",
       "      <td>48.1679</td>\n",
       "      <td>47.8707</td>\n",
       "      <td>33.436</td>\n",
       "      <td>22.696565</td>\n",
       "    </tr>\n",
       "    <tr>\n",
       "      <th>Heavenly</th>\n",
       "      <td>19.9206</td>\n",
       "      <td>8.9423</td>\n",
       "      <td>0</td>\n",
       "      <td>25.4838</td>\n",
       "      <td>39.2335</td>\n",
       "      <td>39.102</td>\n",
       "      <td>24.4952</td>\n",
       "      <td>19.398818</td>\n",
       "    </tr>\n",
       "    <tr>\n",
       "      <th>Little_Round_Top</th>\n",
       "      <td>20.1545</td>\n",
       "      <td>18.0129</td>\n",
       "      <td>25.4838</td>\n",
       "      <td>0</td>\n",
       "      <td>62.6142</td>\n",
       "      <td>60.897</td>\n",
       "      <td>48.6889</td>\n",
       "      <td>26.972518</td>\n",
       "    </tr>\n",
       "    <tr>\n",
       "      <th>Mt_Rose_Ophir</th>\n",
       "      <td>46.7219</td>\n",
       "      <td>48.1679</td>\n",
       "      <td>39.2335</td>\n",
       "      <td>62.6142</td>\n",
       "      <td>0</td>\n",
       "      <td>6.72982</td>\n",
       "      <td>14.8882</td>\n",
       "      <td>39.846163</td>\n",
       "    </tr>\n",
       "    <tr>\n",
       "      <th>Rifle_Peak</th>\n",
       "      <td>43.645</td>\n",
       "      <td>47.8707</td>\n",
       "      <td>39.102</td>\n",
       "      <td>60.897</td>\n",
       "      <td>6.72982</td>\n",
       "      <td>0</td>\n",
       "      <td>16.3787</td>\n",
       "      <td>36.466148</td>\n",
       "    </tr>\n",
       "    <tr>\n",
       "      <th>Snow_Valley_Peak</th>\n",
       "      <td>34.8722</td>\n",
       "      <td>33.436</td>\n",
       "      <td>24.4952</td>\n",
       "      <td>48.6889</td>\n",
       "      <td>14.8882</td>\n",
       "      <td>16.3787</td>\n",
       "      <td>0</td>\n",
       "      <td>28.899038</td>\n",
       "    </tr>\n",
       "    <tr>\n",
       "      <th>West_Shore_Peaks</th>\n",
       "      <td>7.36011</td>\n",
       "      <td>22.6966</td>\n",
       "      <td>19.3988</td>\n",
       "      <td>26.9725</td>\n",
       "      <td>39.8462</td>\n",
       "      <td>36.4661</td>\n",
       "      <td>28.899</td>\n",
       "      <td>0.000000</td>\n",
       "    </tr>\n",
       "  </tbody>\n",
       "</table>\n",
       "</div>"
      ],
      "text/plain": [
       "                 Dicks_Pass Freel_Peak Heavenly Little_Round_Top  \\\n",
       "Dicks_Pass                0    20.1047  19.9206          20.1545   \n",
       "Freel_Peak          20.1047          0   8.9423          18.0129   \n",
       "Heavenly            19.9206     8.9423        0          25.4838   \n",
       "Little_Round_Top    20.1545    18.0129  25.4838                0   \n",
       "Mt_Rose_Ophir       46.7219    48.1679  39.2335          62.6142   \n",
       "Rifle_Peak           43.645    47.8707   39.102           60.897   \n",
       "Snow_Valley_Peak    34.8722     33.436  24.4952          48.6889   \n",
       "West_Shore_Peaks    7.36011    22.6966  19.3988          26.9725   \n",
       "\n",
       "                 Mt_Rose_Ophir Rifle_Peak Snow_Valley_Peak  West_Shore_Peaks  \n",
       "Dicks_Pass             46.7219     43.645          34.8722          7.360111  \n",
       "Freel_Peak             48.1679    47.8707           33.436         22.696565  \n",
       "Heavenly               39.2335     39.102          24.4952         19.398818  \n",
       "Little_Round_Top       62.6142     60.897          48.6889         26.972518  \n",
       "Mt_Rose_Ophir                0    6.72982          14.8882         39.846163  \n",
       "Rifle_Peak             6.72982          0          16.3787         36.466148  \n",
       "Snow_Valley_Peak       14.8882    16.3787                0         28.899038  \n",
       "West_Shore_Peaks       39.8462    36.4661           28.899          0.000000  "
      ]
     },
     "execution_count": 192,
     "metadata": {},
     "output_type": "execute_result"
    }
   ],
   "source": [
    "for i,popi in enumerate(geodist.index):\n",
    "    for j,popj in enumerate(geodist.columns):\n",
    "        if i == j:\n",
    "            geodist.loc[popi,popj] = 0\n",
    "        elif math.isnan(geodist.loc[popi,popj]) == True:\n",
    "            geodist.loc[popi,popj] = geodist.loc[popj,popi]\n",
    "geodist"
   ]
  },
  {
   "cell_type": "code",
   "execution_count": 317,
   "metadata": {
    "collapsed": false
   },
   "outputs": [],
   "source": [
    "filE = '/home/lindb/wbp/bayenv2/distance_matrices/geographic_distances.txt'\n",
    "geodist.to_csv(filE,header=True,index=True,sep='\\t')"
   ]
  },
  {
   "cell_type": "code",
   "execution_count": 110,
   "metadata": {
    "collapsed": false
   },
   "outputs": [
    {
     "data": {
      "text/plain": [
       "<matplotlib.collections.PathCollection at 0x2b9dfc8c8210>"
      ]
     },
     "execution_count": 110,
     "metadata": {},
     "output_type": "execute_result"
    },
    {
     "data": {
      "image/png": "[encoded data removed]",
      "text/plain": [
       "<matplotlib.figure.Figure at 0x2b9dc2131f10>"
      ]
     },
     "metadata": {},
     "output_type": "display_data"
    }
   ],
   "source": [
    "plt.scatter(shifts,geos)"
   ]
  },
  {
   "cell_type": "code",
   "execution_count": 111,
   "metadata": {
    "collapsed": false
   },
   "outputs": [
    {
     "data": {
      "text/plain": [
       "(-0.15843450931736525, 0.35560000000000003, 8)"
      ]
     },
     "execution_count": 111,
     "metadata": {},
     "output_type": "execute_result"
    }
   ],
   "source": [
    "#Mantel shift vs geodist\n",
    "skbio.stats.distance.mantel(shiftDF,geodist,permutations=9999)"
   ]
  },
  {
   "cell_type": "code",
   "execution_count": 26,
   "metadata": {
    "collapsed": false,
    "scrolled": true
   },
   "outputs": [
    {
     "data": {
      "text/html": [
       "<div>\n",
       "<table border=\"1\" class=\"dataframe\">\n",
       "  <thead>\n",
       "    <tr style=\"text-align: right;\">\n",
       "      <th></th>\n",
       "      <th>Dicks_Pass</th>\n",
       "      <th>Freel_Peak</th>\n",
       "      <th>Heavenly</th>\n",
       "      <th>Little_Round_Top</th>\n",
       "      <th>Mt_Rose_Ophir</th>\n",
       "      <th>Rifle_Peak</th>\n",
       "      <th>Snow_Valley_Peak</th>\n",
       "      <th>West_Shore_Peaks</th>\n",
       "    </tr>\n",
       "  </thead>\n",
       "  <tbody>\n",
       "    <tr>\n",
       "      <th>Dicks_Pass</th>\n",
       "      <td>NaN</td>\n",
       "      <td>NaN</td>\n",
       "      <td>NaN</td>\n",
       "      <td>NaN</td>\n",
       "      <td>NaN</td>\n",
       "      <td>NaN</td>\n",
       "      <td>NaN</td>\n",
       "      <td>NaN</td>\n",
       "    </tr>\n",
       "    <tr>\n",
       "      <th>Freel_Peak</th>\n",
       "      <td>2.922248</td>\n",
       "      <td>NaN</td>\n",
       "      <td>NaN</td>\n",
       "      <td>NaN</td>\n",
       "      <td>NaN</td>\n",
       "      <td>NaN</td>\n",
       "      <td>NaN</td>\n",
       "      <td>NaN</td>\n",
       "    </tr>\n",
       "    <tr>\n",
       "      <th>Heavenly</th>\n",
       "      <td>2.220908</td>\n",
       "      <td>0.701339</td>\n",
       "      <td>NaN</td>\n",
       "      <td>NaN</td>\n",
       "      <td>NaN</td>\n",
       "      <td>NaN</td>\n",
       "      <td>NaN</td>\n",
       "      <td>NaN</td>\n",
       "    </tr>\n",
       "    <tr>\n",
       "      <th>Little_Round_Top</th>\n",
       "      <td>4.149592</td>\n",
       "      <td>1.227344</td>\n",
       "      <td>1.928684</td>\n",
       "      <td>NaN</td>\n",
       "      <td>NaN</td>\n",
       "      <td>NaN</td>\n",
       "      <td>NaN</td>\n",
       "      <td>NaN</td>\n",
       "    </tr>\n",
       "    <tr>\n",
       "      <th>Mt_Rose_Ophir</th>\n",
       "      <td>0.233780</td>\n",
       "      <td>3.156028</td>\n",
       "      <td>2.454688</td>\n",
       "      <td>4.383372</td>\n",
       "      <td>NaN</td>\n",
       "      <td>NaN</td>\n",
       "      <td>NaN</td>\n",
       "      <td>NaN</td>\n",
       "    </tr>\n",
       "    <tr>\n",
       "      <th>Rifle_Peak</th>\n",
       "      <td>3.039138</td>\n",
       "      <td>5.961386</td>\n",
       "      <td>5.260046</td>\n",
       "      <td>7.188730</td>\n",
       "      <td>2.805358</td>\n",
       "      <td>NaN</td>\n",
       "      <td>NaN</td>\n",
       "      <td>NaN</td>\n",
       "    </tr>\n",
       "    <tr>\n",
       "      <th>Snow_Valley_Peak</th>\n",
       "      <td>8.299184</td>\n",
       "      <td>11.221432</td>\n",
       "      <td>10.520092</td>\n",
       "      <td>12.448776</td>\n",
       "      <td>8.065404</td>\n",
       "      <td>5.260046</td>\n",
       "      <td>NaN</td>\n",
       "      <td>NaN</td>\n",
       "    </tr>\n",
       "    <tr>\n",
       "      <th>West_Shore_Peaks</th>\n",
       "      <td>6.078275</td>\n",
       "      <td>3.156028</td>\n",
       "      <td>3.857367</td>\n",
       "      <td>1.928684</td>\n",
       "      <td>6.312055</td>\n",
       "      <td>9.117413</td>\n",
       "      <td>14.377459</td>\n",
       "      <td>NaN</td>\n",
       "    </tr>\n",
       "  </tbody>\n",
       "</table>\n",
       "</div>"
      ],
      "text/plain": [
       "                  Dicks_Pass  Freel_Peak   Heavenly  Little_Round_Top  \\\n",
       "Dicks_Pass               NaN         NaN        NaN               NaN   \n",
       "Freel_Peak          2.922248         NaN        NaN               NaN   \n",
       "Heavenly            2.220908    0.701339        NaN               NaN   \n",
       "Little_Round_Top    4.149592    1.227344   1.928684               NaN   \n",
       "Mt_Rose_Ophir       0.233780    3.156028   2.454688          4.383372   \n",
       "Rifle_Peak          3.039138    5.961386   5.260046          7.188730   \n",
       "Snow_Valley_Peak    8.299184   11.221432  10.520092         12.448776   \n",
       "West_Shore_Peaks    6.078275    3.156028   3.857367          1.928684   \n",
       "\n",
       "                  Mt_Rose_Ophir  Rifle_Peak  Snow_Valley_Peak  \\\n",
       "Dicks_Pass                  NaN         NaN               NaN   \n",
       "Freel_Peak                  NaN         NaN               NaN   \n",
       "Heavenly                    NaN         NaN               NaN   \n",
       "Little_Round_Top            NaN         NaN               NaN   \n",
       "Mt_Rose_Ophir               NaN         NaN               NaN   \n",
       "Rifle_Peak             2.805358         NaN               NaN   \n",
       "Snow_Valley_Peak       8.065404    5.260046               NaN   \n",
       "West_Shore_Peaks       6.312055    9.117413         14.377459   \n",
       "\n",
       "                  West_Shore_Peaks  \n",
       "Dicks_Pass                     NaN  \n",
       "Freel_Peak                     NaN  \n",
       "Heavenly                       NaN  \n",
       "Little_Round_Top               NaN  \n",
       "Mt_Rose_Ophir                  NaN  \n",
       "Rifle_Peak                     NaN  \n",
       "Snow_Valley_Peak               NaN  \n",
       "West_Shore_Peaks               NaN  "
      ]
     },
     "execution_count": 26,
     "metadata": {},
     "output_type": "execute_result"
    }
   ],
   "source": [
    "#file made in 08_bayen2\n",
    "envdist = pd.read_csv('/home/lindb/wbp/bayenv2/matrices/environmental_distances.txt',header=0,index_col=0,sep='\\t')\n",
    "envdist"
   ]
  },
  {
   "cell_type": "code",
   "execution_count": 28,
   "metadata": {
    "collapsed": true
   },
   "outputs": [
    {
     "data": {
      "text/plain": [
       "[2.92224783365,\n",
       " 2.2209083535799996,\n",
       " 0.701339480077,\n",
       " 4.14959192379,\n",
       " 1.22734409013,\n",
       " 1.92868357021,\n",
       " 0.23377982669199998,\n",
       " 3.1560276603500004,\n",
       " 2.4546881802700002,\n",
       " 4.38337175048,\n",
       " 3.039137747,\n",
       " 5.96138558066,\n",
       " 5.26004610058,\n",
       " 7.18872967079,\n",
       " 2.8053579203099996,\n",
       " 8.29918384758,\n",
       " 11.221431681199999,\n",
       " 10.5200922012,\n",
       " 12.448775771400001,\n",
       " 8.06540402089,\n",
       " 5.26004610058,\n",
       " 6.078275494,\n",
       " 3.1560276603500004,\n",
       " 3.85736714042,\n",
       " 1.92868357021,\n",
       " 6.31205532069,\n",
       " 9.117413241,\n",
       " 14.377459341600002]"
      ]
     },
     "execution_count": 28,
     "metadata": {},
     "output_type": "execute_result"
    }
   ],
   "source": [
    "envs = []\n",
    "for i,row in enumerate(envdist.index):\n",
    "    for j,col in enumerate(envdist.columns):\n",
    "        if i > j:\n",
    "            envs.append(float(envdist.loc[row,col]))\n",
    "envs"
   ]
  },
  {
   "cell_type": "code",
   "execution_count": 331,
   "metadata": {
    "collapsed": false
   },
   "outputs": [
    {
     "data": {
      "text/plain": [
       "<matplotlib.collections.PathCollection at 0x2ba12b0ebf50>"
      ]
     },
     "execution_count": 331,
     "metadata": {},
     "output_type": "execute_result"
    },
    {
     "data": {
      "image/png": "[encoded data removed]",
      "text/plain": [
       "<matplotlib.figure.Figure at 0x2ba12b768c50>"
      ]
     },
     "metadata": {},
     "output_type": "display_data"
    }
   ],
   "source": [
    "plt.scatter(envs,shifts)"
   ]
  },
  {
   "cell_type": "code",
   "execution_count": 244,
   "metadata": {
    "collapsed": false
   },
   "outputs": [
    {
     "data": {
      "text/html": [
       "<div>\n",
       "<table border=\"1\" class=\"dataframe\">\n",
       "  <thead>\n",
       "    <tr style=\"text-align: right;\">\n",
       "      <th></th>\n",
       "      <th>Dicks_Pass</th>\n",
       "      <th>Freel_Peak</th>\n",
       "      <th>Heavenly</th>\n",
       "      <th>Little_Round_Top</th>\n",
       "      <th>Mt_Rose_Ophir</th>\n",
       "      <th>Rifle_Peak</th>\n",
       "      <th>Snow_Valley_Peak</th>\n",
       "      <th>West_Shore_Peaks</th>\n",
       "    </tr>\n",
       "  </thead>\n",
       "  <tbody>\n",
       "    <tr>\n",
       "      <th>Dicks_Pass</th>\n",
       "      <td>0.000000</td>\n",
       "      <td>2.922248</td>\n",
       "      <td>2.220908</td>\n",
       "      <td>4.149592</td>\n",
       "      <td>0.233780</td>\n",
       "      <td>3.039138</td>\n",
       "      <td>8.299184</td>\n",
       "      <td>6.078275</td>\n",
       "    </tr>\n",
       "    <tr>\n",
       "      <th>Freel_Peak</th>\n",
       "      <td>2.922248</td>\n",
       "      <td>0.000000</td>\n",
       "      <td>0.701339</td>\n",
       "      <td>1.227344</td>\n",
       "      <td>3.156028</td>\n",
       "      <td>5.961386</td>\n",
       "      <td>11.221432</td>\n",
       "      <td>3.156028</td>\n",
       "    </tr>\n",
       "    <tr>\n",
       "      <th>Heavenly</th>\n",
       "      <td>2.220908</td>\n",
       "      <td>0.701339</td>\n",
       "      <td>0.000000</td>\n",
       "      <td>1.928684</td>\n",
       "      <td>2.454688</td>\n",
       "      <td>5.260046</td>\n",
       "      <td>10.520092</td>\n",
       "      <td>3.857367</td>\n",
       "    </tr>\n",
       "    <tr>\n",
       "      <th>Little_Round_Top</th>\n",
       "      <td>4.149592</td>\n",
       "      <td>1.227344</td>\n",
       "      <td>1.928684</td>\n",
       "      <td>0.000000</td>\n",
       "      <td>4.383372</td>\n",
       "      <td>7.188730</td>\n",
       "      <td>12.448776</td>\n",
       "      <td>1.928684</td>\n",
       "    </tr>\n",
       "    <tr>\n",
       "      <th>Mt_Rose_Ophir</th>\n",
       "      <td>0.233780</td>\n",
       "      <td>3.156028</td>\n",
       "      <td>2.454688</td>\n",
       "      <td>4.383372</td>\n",
       "      <td>0.000000</td>\n",
       "      <td>2.805358</td>\n",
       "      <td>8.065404</td>\n",
       "      <td>6.312055</td>\n",
       "    </tr>\n",
       "    <tr>\n",
       "      <th>Rifle_Peak</th>\n",
       "      <td>3.039138</td>\n",
       "      <td>5.961386</td>\n",
       "      <td>5.260046</td>\n",
       "      <td>7.188730</td>\n",
       "      <td>2.805358</td>\n",
       "      <td>0.000000</td>\n",
       "      <td>5.260046</td>\n",
       "      <td>9.117413</td>\n",
       "    </tr>\n",
       "    <tr>\n",
       "      <th>Snow_Valley_Peak</th>\n",
       "      <td>8.299184</td>\n",
       "      <td>11.221432</td>\n",
       "      <td>10.520092</td>\n",
       "      <td>12.448776</td>\n",
       "      <td>8.065404</td>\n",
       "      <td>5.260046</td>\n",
       "      <td>0.000000</td>\n",
       "      <td>14.377459</td>\n",
       "    </tr>\n",
       "    <tr>\n",
       "      <th>West_Shore_Peaks</th>\n",
       "      <td>6.078275</td>\n",
       "      <td>3.156028</td>\n",
       "      <td>3.857367</td>\n",
       "      <td>1.928684</td>\n",
       "      <td>6.312055</td>\n",
       "      <td>9.117413</td>\n",
       "      <td>14.377459</td>\n",
       "      <td>0.000000</td>\n",
       "    </tr>\n",
       "  </tbody>\n",
       "</table>\n",
       "</div>"
      ],
      "text/plain": [
       "                  Dicks_Pass  Freel_Peak   Heavenly  Little_Round_Top  \\\n",
       "Dicks_Pass          0.000000    2.922248   2.220908          4.149592   \n",
       "Freel_Peak          2.922248    0.000000   0.701339          1.227344   \n",
       "Heavenly            2.220908    0.701339   0.000000          1.928684   \n",
       "Little_Round_Top    4.149592    1.227344   1.928684          0.000000   \n",
       "Mt_Rose_Ophir       0.233780    3.156028   2.454688          4.383372   \n",
       "Rifle_Peak          3.039138    5.961386   5.260046          7.188730   \n",
       "Snow_Valley_Peak    8.299184   11.221432  10.520092         12.448776   \n",
       "West_Shore_Peaks    6.078275    3.156028   3.857367          1.928684   \n",
       "\n",
       "                  Mt_Rose_Ophir  Rifle_Peak  Snow_Valley_Peak  \\\n",
       "Dicks_Pass             0.233780    3.039138          8.299184   \n",
       "Freel_Peak             3.156028    5.961386         11.221432   \n",
       "Heavenly               2.454688    5.260046         10.520092   \n",
       "Little_Round_Top       4.383372    7.188730         12.448776   \n",
       "Mt_Rose_Ophir          0.000000    2.805358          8.065404   \n",
       "Rifle_Peak             2.805358    0.000000          5.260046   \n",
       "Snow_Valley_Peak       8.065404    5.260046          0.000000   \n",
       "West_Shore_Peaks       6.312055    9.117413         14.377459   \n",
       "\n",
       "                  West_Shore_Peaks  \n",
       "Dicks_Pass                6.078275  \n",
       "Freel_Peak                3.156028  \n",
       "Heavenly                  3.857367  \n",
       "Little_Round_Top          1.928684  \n",
       "Mt_Rose_Ophir             6.312055  \n",
       "Rifle_Peak                9.117413  \n",
       "Snow_Valley_Peak         14.377459  \n",
       "West_Shore_Peaks          0.000000  "
      ]
     },
     "execution_count": 244,
     "metadata": {},
     "output_type": "execute_result"
    }
   ],
   "source": [
    "for i,popi in enumerate(envdist.index):\n",
    "    for j,popj in enumerate(envdist.columns):\n",
    "        if i == j:\n",
    "            envdist.loc[popi,popj] = 0\n",
    "        elif math.isnan(envdist.loc[popi,popj]) == True:\n",
    "            envdist.loc[popi,popj] = envdist.loc[popj,popi]\n",
    "envdist"
   ]
  },
  {
   "cell_type": "code",
   "execution_count": 320,
   "metadata": {
    "collapsed": false
   },
   "outputs": [],
   "source": [
    "filE = '/home/lindb/wbp/bayenv2/distance_matrices/environmental_distances.txt'\n",
    "envdist.to_csv(filE,header=True,index_col=True,sep='\\t')"
   ]
  },
  {
   "cell_type": "code",
   "execution_count": 113,
   "metadata": {
    "collapsed": false
   },
   "outputs": [
    {
     "data": {
      "text/html": [
       "<div>\n",
       "<table border=\"1\" class=\"dataframe\">\n",
       "  <thead>\n",
       "    <tr style=\"text-align: right;\">\n",
       "      <th></th>\n",
       "      <th>Dicks_Pass</th>\n",
       "      <th>Freel_Peak</th>\n",
       "      <th>Heavenly</th>\n",
       "      <th>Little_Round_Top</th>\n",
       "      <th>Mt_Rose_Ophir</th>\n",
       "      <th>Rifle_Peak</th>\n",
       "      <th>Snow_Valley_Peak</th>\n",
       "      <th>West_Shore_Peaks</th>\n",
       "    </tr>\n",
       "  </thead>\n",
       "  <tbody>\n",
       "    <tr>\n",
       "      <th>Dicks_Pass</th>\n",
       "      <td>0.000000</td>\n",
       "      <td>2.922248</td>\n",
       "      <td>2.220908</td>\n",
       "      <td>4.149592</td>\n",
       "      <td>0.233780</td>\n",
       "      <td>3.039138</td>\n",
       "      <td>8.299184</td>\n",
       "      <td>6.078275</td>\n",
       "    </tr>\n",
       "    <tr>\n",
       "      <th>Freel_Peak</th>\n",
       "      <td>2.922248</td>\n",
       "      <td>0.000000</td>\n",
       "      <td>0.701339</td>\n",
       "      <td>1.227344</td>\n",
       "      <td>3.156028</td>\n",
       "      <td>5.961386</td>\n",
       "      <td>11.221432</td>\n",
       "      <td>3.156028</td>\n",
       "    </tr>\n",
       "    <tr>\n",
       "      <th>Heavenly</th>\n",
       "      <td>2.220908</td>\n",
       "      <td>0.701339</td>\n",
       "      <td>0.000000</td>\n",
       "      <td>1.928684</td>\n",
       "      <td>2.454688</td>\n",
       "      <td>5.260046</td>\n",
       "      <td>10.520092</td>\n",
       "      <td>3.857367</td>\n",
       "    </tr>\n",
       "    <tr>\n",
       "      <th>Little_Round_Top</th>\n",
       "      <td>4.149592</td>\n",
       "      <td>1.227344</td>\n",
       "      <td>1.928684</td>\n",
       "      <td>0.000000</td>\n",
       "      <td>4.383372</td>\n",
       "      <td>7.188730</td>\n",
       "      <td>12.448776</td>\n",
       "      <td>1.928684</td>\n",
       "    </tr>\n",
       "    <tr>\n",
       "      <th>Mt_Rose_Ophir</th>\n",
       "      <td>0.233780</td>\n",
       "      <td>3.156028</td>\n",
       "      <td>2.454688</td>\n",
       "      <td>4.383372</td>\n",
       "      <td>0.000000</td>\n",
       "      <td>2.805358</td>\n",
       "      <td>8.065404</td>\n",
       "      <td>6.312055</td>\n",
       "    </tr>\n",
       "    <tr>\n",
       "      <th>Rifle_Peak</th>\n",
       "      <td>3.039138</td>\n",
       "      <td>5.961386</td>\n",
       "      <td>5.260046</td>\n",
       "      <td>7.188730</td>\n",
       "      <td>2.805358</td>\n",
       "      <td>0.000000</td>\n",
       "      <td>5.260046</td>\n",
       "      <td>9.117413</td>\n",
       "    </tr>\n",
       "    <tr>\n",
       "      <th>Snow_Valley_Peak</th>\n",
       "      <td>8.299184</td>\n",
       "      <td>11.221432</td>\n",
       "      <td>10.520092</td>\n",
       "      <td>12.448776</td>\n",
       "      <td>8.065404</td>\n",
       "      <td>5.260046</td>\n",
       "      <td>0.000000</td>\n",
       "      <td>14.377459</td>\n",
       "    </tr>\n",
       "    <tr>\n",
       "      <th>West_Shore_Peaks</th>\n",
       "      <td>6.078275</td>\n",
       "      <td>3.156028</td>\n",
       "      <td>3.857367</td>\n",
       "      <td>1.928684</td>\n",
       "      <td>6.312055</td>\n",
       "      <td>9.117413</td>\n",
       "      <td>14.377459</td>\n",
       "      <td>0.000000</td>\n",
       "    </tr>\n",
       "  </tbody>\n",
       "</table>\n",
       "</div>"
      ],
      "text/plain": [
       "                  Dicks_Pass  Freel_Peak   Heavenly  Little_Round_Top  \\\n",
       "Dicks_Pass          0.000000    2.922248   2.220908          4.149592   \n",
       "Freel_Peak          2.922248    0.000000   0.701339          1.227344   \n",
       "Heavenly            2.220908    0.701339   0.000000          1.928684   \n",
       "Little_Round_Top    4.149592    1.227344   1.928684          0.000000   \n",
       "Mt_Rose_Ophir       0.233780    3.156028   2.454688          4.383372   \n",
       "Rifle_Peak          3.039138    5.961386   5.260046          7.188730   \n",
       "Snow_Valley_Peak    8.299184   11.221432  10.520092         12.448776   \n",
       "West_Shore_Peaks    6.078275    3.156028   3.857367          1.928684   \n",
       "\n",
       "                  Mt_Rose_Ophir  Rifle_Peak  Snow_Valley_Peak  \\\n",
       "Dicks_Pass             0.233780    3.039138          8.299184   \n",
       "Freel_Peak             3.156028    5.961386         11.221432   \n",
       "Heavenly               2.454688    5.260046         10.520092   \n",
       "Little_Round_Top       4.383372    7.188730         12.448776   \n",
       "Mt_Rose_Ophir          0.000000    2.805358          8.065404   \n",
       "Rifle_Peak             2.805358    0.000000          5.260046   \n",
       "Snow_Valley_Peak       8.065404    5.260046          0.000000   \n",
       "West_Shore_Peaks       6.312055    9.117413         14.377459   \n",
       "\n",
       "                  West_Shore_Peaks  \n",
       "Dicks_Pass                6.078275  \n",
       "Freel_Peak                3.156028  \n",
       "Heavenly                  3.857367  \n",
       "Little_Round_Top          1.928684  \n",
       "Mt_Rose_Ophir             6.312055  \n",
       "Rifle_Peak                9.117413  \n",
       "Snow_Valley_Peak         14.377459  \n",
       "West_Shore_Peaks          0.000000  "
      ]
     },
     "execution_count": 113,
     "metadata": {},
     "output_type": "execute_result"
    }
   ],
   "source": [
    "#file made in 08_bayen2\n",
    "envdist = pd.read_csv('/home/lindb/wbp/bayenv2/distance_matrices/environmental_distances.txt',header=0,index_col=0,sep='\\t')\n",
    "envdist"
   ]
  },
  {
   "cell_type": "code",
   "execution_count": 114,
   "metadata": {
    "collapsed": false
   },
   "outputs": [
    {
     "data": {
      "text/plain": [
       "(-0.032115581581677079, 0.91669999999999996, 8)"
      ]
     },
     "execution_count": 114,
     "metadata": {},
     "output_type": "execute_result"
    }
   ],
   "source": [
    "#Mantel shift vs total environmental distance\n",
    "skbio.stats.distance.mantel(shiftDF,envdist,permutations=9999)"
   ]
  },
  {
   "cell_type": "code",
   "execution_count": 115,
   "metadata": {
    "collapsed": false
   },
   "outputs": [
    {
     "data": {
      "text/html": [
       "<div>\n",
       "<table border=\"1\" class=\"dataframe\">\n",
       "  <thead>\n",
       "    <tr style=\"text-align: right;\">\n",
       "      <th></th>\n",
       "      <th>Dicks_Pass</th>\n",
       "      <th>Freel_Peak</th>\n",
       "      <th>Heavenly</th>\n",
       "      <th>Little_Round_Top</th>\n",
       "      <th>Mt_Rose_Ophir</th>\n",
       "      <th>Rifle_Peak</th>\n",
       "      <th>Snow_Valley_Peak</th>\n",
       "      <th>West_Shore_Peaks</th>\n",
       "    </tr>\n",
       "  </thead>\n",
       "  <tbody>\n",
       "    <tr>\n",
       "      <th>AWS0-25</th>\n",
       "      <td>-0.203570</td>\n",
       "      <td>-0.389380</td>\n",
       "      <td>-1.384005</td>\n",
       "      <td>0.474087</td>\n",
       "      <td>0.430367</td>\n",
       "      <td>0.299207</td>\n",
       "      <td>1.982420</td>\n",
       "      <td>-1.209126</td>\n",
       "    </tr>\n",
       "    <tr>\n",
       "      <th>AWS0-50</th>\n",
       "      <td>-0.035349</td>\n",
       "      <td>-0.578405</td>\n",
       "      <td>-1.156498</td>\n",
       "      <td>0.239933</td>\n",
       "      <td>-0.030344</td>\n",
       "      <td>0.510211</td>\n",
       "      <td>2.176919</td>\n",
       "      <td>-1.126467</td>\n",
       "    </tr>\n",
       "    <tr>\n",
       "      <th>Ann-ppt</th>\n",
       "      <td>1.621491</td>\n",
       "      <td>-0.620322</td>\n",
       "      <td>-1.416888</td>\n",
       "      <td>0.058608</td>\n",
       "      <td>-0.059028</td>\n",
       "      <td>0.260270</td>\n",
       "      <td>-1.124478</td>\n",
       "      <td>1.280346</td>\n",
       "    </tr>\n",
       "    <tr>\n",
       "      <th>CEC</th>\n",
       "      <td>-0.519958</td>\n",
       "      <td>-0.162005</td>\n",
       "      <td>-0.519958</td>\n",
       "      <td>2.565848</td>\n",
       "      <td>0.195949</td>\n",
       "      <td>-0.519958</td>\n",
       "      <td>-0.519958</td>\n",
       "      <td>-0.519958</td>\n",
       "    </tr>\n",
       "    <tr>\n",
       "      <th>Clay</th>\n",
       "      <td>-0.111761</td>\n",
       "      <td>-0.739189</td>\n",
       "      <td>-0.049018</td>\n",
       "      <td>2.429323</td>\n",
       "      <td>-1.209760</td>\n",
       "      <td>-0.033332</td>\n",
       "      <td>-0.017646</td>\n",
       "      <td>-0.268618</td>\n",
       "    </tr>\n",
       "  </tbody>\n",
       "</table>\n",
       "</div>"
      ],
      "text/plain": [
       "         Dicks_Pass  Freel_Peak  Heavenly  Little_Round_Top  Mt_Rose_Ophir  \\\n",
       "AWS0-25   -0.203570   -0.389380 -1.384005          0.474087       0.430367   \n",
       "AWS0-50   -0.035349   -0.578405 -1.156498          0.239933      -0.030344   \n",
       "Ann-ppt    1.621491   -0.620322 -1.416888          0.058608      -0.059028   \n",
       "CEC       -0.519958   -0.162005 -0.519958          2.565848       0.195949   \n",
       "Clay      -0.111761   -0.739189 -0.049018          2.429323      -1.209760   \n",
       "\n",
       "         Rifle_Peak  Snow_Valley_Peak  West_Shore_Peaks  \n",
       "AWS0-25    0.299207          1.982420         -1.209126  \n",
       "AWS0-50    0.510211          2.176919         -1.126467  \n",
       "Ann-ppt    0.260270         -1.124478          1.280346  \n",
       "CEC       -0.519958         -0.519958         -0.519958  \n",
       "Clay      -0.033332         -0.017646         -0.268618  "
      ]
     },
     "execution_count": 115,
     "metadata": {},
     "output_type": "execute_result"
    }
   ],
   "source": [
    "envdf = pd.read_csv('/home/lindb/wbp/bayenv2/ENVIRONFILE_headerIDX.txt',header=0,index_col=0,sep='\\t')\n",
    "envdf = envdf.loc[:,[col for col in envdf.columns[:8]]]\n",
    "envdf.head()"
   ]
  },
  {
   "cell_type": "code",
   "execution_count": 116,
   "metadata": {
    "collapsed": false
   },
   "outputs": [],
   "source": [
    "#get distance matrices for each of the environmental variables\n",
    "envdDict = OrderedDict()\n",
    "for env in envdf.index:\n",
    "    envdDict[env] = pd.DataFrame(index=[pop for pop in shiftDF.index],columns=[pop for pop in shiftDF.columns])\n",
    "    for i,popi in enumerate(envdf.columns):\n",
    "        for j,popj in enumerate(envdf.columns):\n",
    "            if i != j:\n",
    "                dist = abs(envdf.loc[env,popi]-envdf.loc[env,popj])\n",
    "                envdDict[env].loc[popi,popj] = dist\n",
    "            elif i == j:\n",
    "                envdDict[env][popi][popj] = 0"
   ]
  },
  {
   "cell_type": "code",
   "execution_count": 117,
   "metadata": {
    "collapsed": false
   },
   "outputs": [
    {
     "data": {
      "text/html": [
       "<div>\n",
       "<table border=\"1\" class=\"dataframe\">\n",
       "  <thead>\n",
       "    <tr style=\"text-align: right;\">\n",
       "      <th></th>\n",
       "      <th>Dicks_Pass</th>\n",
       "      <th>Freel_Peak</th>\n",
       "      <th>Heavenly</th>\n",
       "      <th>Little_Round_Top</th>\n",
       "      <th>Mt_Rose_Ophir</th>\n",
       "      <th>Rifle_Peak</th>\n",
       "      <th>Snow_Valley_Peak</th>\n",
       "      <th>West_Shore_Peaks</th>\n",
       "    </tr>\n",
       "  </thead>\n",
       "  <tbody>\n",
       "    <tr>\n",
       "      <th>Dicks_Pass</th>\n",
       "      <td>0</td>\n",
       "      <td>2.24181</td>\n",
       "      <td>3.03838</td>\n",
       "      <td>1.56288</td>\n",
       "      <td>1.68052</td>\n",
       "      <td>1.36122</td>\n",
       "      <td>2.74597</td>\n",
       "      <td>0.341145</td>\n",
       "    </tr>\n",
       "    <tr>\n",
       "      <th>Freel_Peak</th>\n",
       "      <td>2.24181</td>\n",
       "      <td>0</td>\n",
       "      <td>0.796566</td>\n",
       "      <td>0.67893</td>\n",
       "      <td>0.561294</td>\n",
       "      <td>0.880592</td>\n",
       "      <td>0.504156</td>\n",
       "      <td>1.90067</td>\n",
       "    </tr>\n",
       "    <tr>\n",
       "      <th>Heavenly</th>\n",
       "      <td>3.03838</td>\n",
       "      <td>0.796566</td>\n",
       "      <td>0</td>\n",
       "      <td>1.4755</td>\n",
       "      <td>1.35786</td>\n",
       "      <td>1.67716</td>\n",
       "      <td>0.29241</td>\n",
       "      <td>2.69723</td>\n",
       "    </tr>\n",
       "    <tr>\n",
       "      <th>Little_Round_Top</th>\n",
       "      <td>1.56288</td>\n",
       "      <td>0.67893</td>\n",
       "      <td>1.4755</td>\n",
       "      <td>0</td>\n",
       "      <td>0.117636</td>\n",
       "      <td>0.201662</td>\n",
       "      <td>1.18309</td>\n",
       "      <td>1.22174</td>\n",
       "    </tr>\n",
       "    <tr>\n",
       "      <th>Mt_Rose_Ophir</th>\n",
       "      <td>1.68052</td>\n",
       "      <td>0.561294</td>\n",
       "      <td>1.35786</td>\n",
       "      <td>0.117636</td>\n",
       "      <td>0</td>\n",
       "      <td>0.319299</td>\n",
       "      <td>1.06545</td>\n",
       "      <td>1.33937</td>\n",
       "    </tr>\n",
       "    <tr>\n",
       "      <th>Rifle_Peak</th>\n",
       "      <td>1.36122</td>\n",
       "      <td>0.880592</td>\n",
       "      <td>1.67716</td>\n",
       "      <td>0.201662</td>\n",
       "      <td>0.319299</td>\n",
       "      <td>0</td>\n",
       "      <td>1.38475</td>\n",
       "      <td>1.02008</td>\n",
       "    </tr>\n",
       "    <tr>\n",
       "      <th>Snow_Valley_Peak</th>\n",
       "      <td>2.74597</td>\n",
       "      <td>0.504156</td>\n",
       "      <td>0.29241</td>\n",
       "      <td>1.18309</td>\n",
       "      <td>1.06545</td>\n",
       "      <td>1.38475</td>\n",
       "      <td>0</td>\n",
       "      <td>2.40482</td>\n",
       "    </tr>\n",
       "    <tr>\n",
       "      <th>West_Shore_Peaks</th>\n",
       "      <td>0.341145</td>\n",
       "      <td>1.90067</td>\n",
       "      <td>2.69723</td>\n",
       "      <td>1.22174</td>\n",
       "      <td>1.33937</td>\n",
       "      <td>1.02008</td>\n",
       "      <td>2.40482</td>\n",
       "      <td>0</td>\n",
       "    </tr>\n",
       "  </tbody>\n",
       "</table>\n",
       "</div>"
      ],
      "text/plain": [
       "                 Dicks_Pass Freel_Peak  Heavenly Little_Round_Top  \\\n",
       "Dicks_Pass                0    2.24181   3.03838          1.56288   \n",
       "Freel_Peak          2.24181          0  0.796566          0.67893   \n",
       "Heavenly            3.03838   0.796566         0           1.4755   \n",
       "Little_Round_Top    1.56288    0.67893    1.4755                0   \n",
       "Mt_Rose_Ophir       1.68052   0.561294   1.35786         0.117636   \n",
       "Rifle_Peak          1.36122   0.880592   1.67716         0.201662   \n",
       "Snow_Valley_Peak    2.74597   0.504156   0.29241          1.18309   \n",
       "West_Shore_Peaks   0.341145    1.90067   2.69723          1.22174   \n",
       "\n",
       "                 Mt_Rose_Ophir Rifle_Peak Snow_Valley_Peak West_Shore_Peaks  \n",
       "Dicks_Pass             1.68052    1.36122          2.74597         0.341145  \n",
       "Freel_Peak            0.561294   0.880592         0.504156          1.90067  \n",
       "Heavenly               1.35786    1.67716          0.29241          2.69723  \n",
       "Little_Round_Top      0.117636   0.201662          1.18309          1.22174  \n",
       "Mt_Rose_Ophir                0   0.319299          1.06545          1.33937  \n",
       "Rifle_Peak            0.319299          0          1.38475          1.02008  \n",
       "Snow_Valley_Peak       1.06545    1.38475                0          2.40482  \n",
       "West_Shore_Peaks       1.33937    1.02008          2.40482                0  "
      ]
     },
     "execution_count": 117,
     "metadata": {},
     "output_type": "execute_result"
    }
   ],
   "source": [
    "envdDict['Ann-ppt']"
   ]
  },
  {
   "cell_type": "code",
   "execution_count": 293,
   "metadata": {
    "collapsed": false
   },
   "outputs": [],
   "source": [
    "os.makedirs('/home/lindb/wbp/distance_matrices/')"
   ]
  },
  {
   "cell_type": "code",
   "execution_count": 296,
   "metadata": {
    "collapsed": false,
    "scrolled": true
   },
   "outputs": [
    {
     "name": "stdout",
     "output_type": "stream",
     "text": [
      "AWS0-25\n",
      "AWS0-50\n",
      "Ann-ppt\n",
      "CEC\n",
      "Clay\n",
      "Elev\n",
      "GDD-Aug\n",
      "GDD-May\n",
      "Lat\n",
      "Lon\n",
      "Max-rad-input\n",
      "Rock-cov\n",
      "Sand\n",
      "Silt\n",
      "Tmax-July\n",
      "Tmin-Jan\n",
      "WC15Bar\n",
      "WC3rdbar\n"
     ]
    }
   ],
   "source": [
    "for env in envdDict.keys():\n",
    "    print env\n",
    "    filE = '/home/lindb/wbp/distance_matrices/%s_dist_symm.txt' % env\n",
    "    envdDict[env].to_csv(filE,header=True,index=True,sep='\\t')"
   ]
  },
  {
   "cell_type": "code",
   "execution_count": 133,
   "metadata": {
    "collapsed": false
   },
   "outputs": [
    {
     "name": "stdout",
     "output_type": "stream",
     "text": [
      "AWS0-25 (0.28339662633306506, 0.31969999999999998, 8)\n",
      "AWS0-50 (0.15855639697724125, 0.68979999999999997, 8)\n",
      "Ann-ppt (0.28122700978409215, 0.16039999999999999, 8)\n",
      "CEC (-0.22644229327031271, 0.49299999999999999, 8)\n",
      "Clay (-0.30403596623729046, 0.34439999999999998, 8)\n",
      "Elev (-0.080111685348811384, 0.69159999999999999, 8)\n",
      "GDD-Aug (-0.31389381180668968, 0.0814, 8)\n",
      "GDD-May (-0.045965057135505388, 0.91459999999999997, 8)\n",
      "Lat (-0.15790509498595753, 0.42130000000000001, 8)\n",
      "Lon (0.024769828892832649, 0.83850000000000002, 8)\n",
      "Max-rad-input (-0.18765549349739241, 0.40210000000000001, 8)\n",
      "Rock-cov (-0.33822613555529529, 0.18210000000000001, 8)\n",
      "Sand (-0.11394026866449045, 0.52669999999999995, 8)\n",
      "Silt (-0.0095027003278365801, 0.96799999999999997, 8)\n",
      "Tmax-July (0.092395517750101991, 0.61670000000000003, 8)\n",
      "Tmin-Jan (-0.14650977030646228, 0.57220000000000004, 8)\n",
      "WC15Bar (0.054043871975656965, 0.90669999999999995, 8)\n",
      "WC3rdbar (-0.032115581583035444, 0.90820000000000001, 8)\n"
     ]
    }
   ],
   "source": [
    "#mantel vs individual envs\n",
    "for env in envdDict:\n",
    "    mant = mantel(shiftDF,envdDict[env],permutations = 9999)\n",
    "    print env,mant"
   ]
  },
  {
   "cell_type": "code",
   "execution_count": 130,
   "metadata": {
    "collapsed": false
   },
   "outputs": [
    {
     "data": {
      "text/plain": [
       "(0.28339662633306506, 0.20000000000000001, 8)"
      ]
     },
     "execution_count": 130,
     "metadata": {},
     "output_type": "execute_result"
    }
   ],
   "source": [
    "mant"
   ]
  },
  {
   "cell_type": "code",
   "execution_count": 118,
   "metadata": {
    "collapsed": false
   },
   "outputs": [
    {
     "data": {
      "text/plain": [
       "<matplotlib.collections.PathCollection at 0x2b9dfa74b550>"
      ]
     },
     "execution_count": 118,
     "metadata": {},
     "output_type": "execute_result"
    },
    {
     "data": {
      "image/png": "[encoded data removed]",
      "text/plain": [
       "<matplotlib.figure.Figure at 0x2b9dfae83490>"
      ]
     },
     "metadata": {},
     "output_type": "display_data"
    }
   ],
   "source": [
    "appt = []\n",
    "for i,popi in enumerate(envdDict['Ann-ppt'].index):\n",
    "    for j,popj in enumerate(envdDict['Ann-ppt'].columns):\n",
    "        if i>j:\n",
    "            appt.append(envdDict['Ann-ppt'].loc[popi,popj])\n",
    "plt.scatter(shifts,appt)"
   ]
  },
  {
   "cell_type": "code",
   "execution_count": 119,
   "metadata": {
    "collapsed": false
   },
   "outputs": [
    {
     "data": {
      "text/plain": [
       "['AWS0-25',\n",
       " 'AWS0-50',\n",
       " 'Ann-ppt',\n",
       " 'CEC',\n",
       " 'Clay',\n",
       " 'Elev',\n",
       " 'GDD-Aug',\n",
       " 'GDD-May',\n",
       " 'Lat',\n",
       " 'Lon',\n",
       " 'Max-rad-input',\n",
       " 'Rock-cov',\n",
       " 'Sand',\n",
       " 'Silt',\n",
       " 'Tmax-July',\n",
       " 'Tmin-Jan',\n",
       " 'WC15Bar',\n",
       " 'WC3rdbar']"
      ]
     },
     "execution_count": 119,
     "metadata": {},
     "output_type": "execute_result"
    }
   ],
   "source": [
    "envdDict.keys()"
   ]
  },
  {
   "cell_type": "code",
   "execution_count": 120,
   "metadata": {
    "collapsed": false
   },
   "outputs": [
    {
     "data": {
      "text/plain": [
       "<matplotlib.collections.PathCollection at 0x2b9dfc7c6dd0>"
      ]
     },
     "execution_count": 120,
     "metadata": {},
     "output_type": "execute_result"
    },
    {
     "data": {
      "image/png": "[encoded data removed]",
      "text/plain": [
       "<matplotlib.figure.Figure at 0x2b9dfa86d550>"
      ]
     },
     "metadata": {},
     "output_type": "display_data"
    }
   ],
   "source": [
    "longs = []\n",
    "for i,popi in enumerate(envdDict['Lon'].index):\n",
    "    for j,popj in enumerate(envdDict['Lon'].columns):\n",
    "        if i>j:\n",
    "            longs.append(envdDict['Lon'].loc[popi,popj])\n",
    "plt.scatter(shifts,longs)"
   ]
  },
  {
   "cell_type": "code",
   "execution_count": 121,
   "metadata": {
    "collapsed": false
   },
   "outputs": [
    {
     "data": {
      "text/plain": [
       "(0.28122700978409221, 0.14713846317584567)"
      ]
     },
     "execution_count": 121,
     "metadata": {},
     "output_type": "execute_result"
    }
   ],
   "source": [
    "pearsonr(appt,shifts)"
   ]
  },
  {
   "cell_type": "code",
   "execution_count": 122,
   "metadata": {
    "collapsed": false
   },
   "outputs": [
    {
     "data": {
      "text/plain": [
       "<matplotlib.collections.PathCollection at 0x2b9dfacc5390>"
      ]
     },
     "execution_count": 122,
     "metadata": {},
     "output_type": "execute_result"
    },
    {
     "data": {
      "image/png": "[encoded data removed]",
      "text/plain": [
       "<matplotlib.figure.Figure at 0x2b9dfab08810>"
      ]
     },
     "metadata": {},
     "output_type": "display_data"
    }
   ],
   "source": [
    "prmi = []\n",
    "for i,popi in enumerate(envdDict['Max-rad-input'].index):\n",
    "    for j,popj in enumerate(envdDict['Max-rad-input'].columns):\n",
    "        if i>j:\n",
    "            prmi.append(envdDict['Max-rad-input'].loc[popi,popj])\n",
    "plt.scatter(prmi,shifts)"
   ]
  },
  {
   "cell_type": "code",
   "execution_count": 123,
   "metadata": {
    "collapsed": false
   },
   "outputs": [
    {
     "data": {
      "text/plain": [
       "<matplotlib.collections.PathCollection at 0x2b9dfaaebb90>"
      ]
     },
     "execution_count": 123,
     "metadata": {},
     "output_type": "execute_result"
    },
    {
     "data": {
      "image/png": "[encoded data removed]",
      "text/plain": [
       "<matplotlib.figure.Figure at 0x2b9dfacf9110>"
      ]
     },
     "metadata": {},
     "output_type": "display_data"
    }
   ],
   "source": [
    "sand = []\n",
    "for i,popi in enumerate(envdDict['Sand'].index):\n",
    "    for j,popj in enumerate(envdDict['Sand'].columns):\n",
    "        if i>j:\n",
    "            sand.append(envdDict['Sand'].loc[popi,popj])\n",
    "plt.scatter(sand,shifts)"
   ]
  },
  {
   "cell_type": "code",
   "execution_count": 124,
   "metadata": {
    "collapsed": false
   },
   "outputs": [
    {
     "data": {
      "text/plain": [
       "<matplotlib.collections.PathCollection at 0x2b9dfe3ff410>"
      ]
     },
     "execution_count": 124,
     "metadata": {},
     "output_type": "execute_result"
    },
    {
     "data": {
      "image/png": "[encoded data removed]",
      "text/plain": [
       "<matplotlib.figure.Figure at 0x2b9dfaac52d0>"
      ]
     },
     "metadata": {},
     "output_type": "display_data"
    }
   ],
   "source": [
    "silt = []\n",
    "for i,popi in enumerate(envdDict['Silt'].index):\n",
    "    for j,popj in enumerate(envdDict['Silt'].columns):\n",
    "        if i>j:\n",
    "            silt.append(envdDict['Silt'].loc[popi,popj])\n",
    "plt.scatter(silt,shifts)"
   ]
  },
  {
   "cell_type": "code",
   "execution_count": 125,
   "metadata": {
    "collapsed": false
   },
   "outputs": [
    {
     "data": {
      "text/plain": [
       "<matplotlib.collections.PathCollection at 0x2b9dfe4bfc50>"
      ]
     },
     "execution_count": 125,
     "metadata": {},
     "output_type": "execute_result"
    },
    {
     "data": {
      "image/png": "[encoded data removed]",
      "text/plain": [
       "<matplotlib.figure.Figure at 0x2b9dfe3b4090>"
      ]
     },
     "metadata": {},
     "output_type": "display_data"
    }
   ],
   "source": [
    "WC3rdbar = []\n",
    "for i,popi in enumerate(envdDict['WC3rdbar'].index):\n",
    "    for j,popj in enumerate(envdDict['WC3rdbar'].columns):\n",
    "        if i>j:\n",
    "            WC3rdbar.append(envdDict['WC3rdbar'].loc[popi,popj])\n",
    "plt.scatter(WC3rdbar,shifts)"
   ]
  },
  {
   "cell_type": "code",
   "execution_count": 360,
   "metadata": {
    "collapsed": false
   },
   "outputs": [
    {
     "data": {
      "text/html": [
       "<div>\n",
       "<table border=\"1\" class=\"dataframe\">\n",
       "  <thead>\n",
       "    <tr style=\"text-align: right;\">\n",
       "      <th></th>\n",
       "      <th>Dicks_Pass</th>\n",
       "      <th>Freel_Peak</th>\n",
       "      <th>Little_Round_Top</th>\n",
       "      <th>Mt_Rose_Ophir</th>\n",
       "      <th>Rifle_Peak</th>\n",
       "      <th>Snow_Valley_Peak</th>\n",
       "    </tr>\n",
       "  </thead>\n",
       "  <tbody>\n",
       "    <tr>\n",
       "      <th>Dicks_Pass</th>\n",
       "      <td>0.000000</td>\n",
       "      <td>0.875842</td>\n",
       "      <td>2.606191</td>\n",
       "      <td>1.598282</td>\n",
       "      <td>2.768496</td>\n",
       "      <td>0.763021</td>\n",
       "    </tr>\n",
       "    <tr>\n",
       "      <th>Freel_Peak</th>\n",
       "      <td>0.875842</td>\n",
       "      <td>0.000000</td>\n",
       "      <td>1.730349</td>\n",
       "      <td>0.722440</td>\n",
       "      <td>1.892654</td>\n",
       "      <td>0.112821</td>\n",
       "    </tr>\n",
       "    <tr>\n",
       "      <th>Little_Round_Top</th>\n",
       "      <td>2.606191</td>\n",
       "      <td>1.730349</td>\n",
       "      <td>0.000000</td>\n",
       "      <td>1.007910</td>\n",
       "      <td>0.162305</td>\n",
       "      <td>1.843170</td>\n",
       "    </tr>\n",
       "    <tr>\n",
       "      <th>Mt_Rose_Ophir</th>\n",
       "      <td>1.598282</td>\n",
       "      <td>0.722440</td>\n",
       "      <td>1.007910</td>\n",
       "      <td>0.000000</td>\n",
       "      <td>1.170214</td>\n",
       "      <td>0.835261</td>\n",
       "    </tr>\n",
       "    <tr>\n",
       "      <th>Rifle_Peak</th>\n",
       "      <td>2.768496</td>\n",
       "      <td>1.892654</td>\n",
       "      <td>0.162305</td>\n",
       "      <td>1.170214</td>\n",
       "      <td>0.000000</td>\n",
       "      <td>2.005475</td>\n",
       "    </tr>\n",
       "    <tr>\n",
       "      <th>Snow_Valley_Peak</th>\n",
       "      <td>0.763021</td>\n",
       "      <td>0.112821</td>\n",
       "      <td>1.843170</td>\n",
       "      <td>0.835261</td>\n",
       "      <td>2.005475</td>\n",
       "      <td>0.000000</td>\n",
       "    </tr>\n",
       "  </tbody>\n",
       "</table>\n",
       "</div>"
      ],
      "text/plain": [
       "                  Dicks_Pass  Freel_Peak  Little_Round_Top  Mt_Rose_Ophir  \\\n",
       "Dicks_Pass          0.000000    0.875842          2.606191       1.598282   \n",
       "Freel_Peak          0.875842    0.000000          1.730349       0.722440   \n",
       "Little_Round_Top    2.606191    1.730349          0.000000       1.007910   \n",
       "Mt_Rose_Ophir       1.598282    0.722440          1.007910       0.000000   \n",
       "Rifle_Peak          2.768496    1.892654          0.162305       1.170214   \n",
       "Snow_Valley_Peak    0.763021    0.112821          1.843170       0.835261   \n",
       "\n",
       "                  Rifle_Peak  Snow_Valley_Peak  \n",
       "Dicks_Pass          2.768496          0.763021  \n",
       "Freel_Peak          1.892654          0.112821  \n",
       "Little_Round_Top    0.162305          1.843170  \n",
       "Mt_Rose_Ophir       1.170214          0.835261  \n",
       "Rifle_Peak          0.000000          2.005475  \n",
       "Snow_Valley_Peak    2.005475          0.000000  "
      ]
     },
     "execution_count": 360,
     "metadata": {},
     "output_type": "execute_result"
    }
   ],
   "source": [
    "#test against phenotypic distances\n",
    "DIR = '/home/lindb/wbp/gemma/distance_matrices'\n",
    "files = [op.join(DIR,f) for f in ls(DIR)]\n",
    "phendf = OrderedDict()\n",
    "for f in files:\n",
    "    pheno = op.basename(f).split(\"_\")[0]\n",
    "    phendf[pheno] = pd.read_csv(f,header=0,index_col=0,sep='\\t')\n",
    "phendf[pheno]"
   ]
  },
  {
   "cell_type": "code",
   "execution_count": 128,
   "metadata": {
    "collapsed": true
   },
   "outputs": [],
   "source": [
    "from skbio.stats.distance import mantel"
   ]
  },
  {
   "cell_type": "code",
   "execution_count": 364,
   "metadata": {
    "collapsed": false
   },
   "outputs": [
    {
     "data": {
      "text/html": [
       "<div>\n",
       "<table border=\"1\" class=\"dataframe\">\n",
       "  <thead>\n",
       "    <tr style=\"text-align: right;\">\n",
       "      <th></th>\n",
       "      <th>Dicks_Pass</th>\n",
       "      <th>Freel_Peak</th>\n",
       "      <th>Heavenly</th>\n",
       "      <th>Little_Round_Top</th>\n",
       "      <th>Mt_Rose_Ophir</th>\n",
       "      <th>Rifle_Peak</th>\n",
       "      <th>Snow_Valley_Peak</th>\n",
       "      <th>West_Shore_Peaks</th>\n",
       "    </tr>\n",
       "  </thead>\n",
       "  <tbody>\n",
       "    <tr>\n",
       "      <th>Dicks_Pass</th>\n",
       "      <td>0.000000</td>\n",
       "      <td>0.002867</td>\n",
       "      <td>0.002000</td>\n",
       "      <td>0.003500</td>\n",
       "      <td>0.001697</td>\n",
       "      <td>0.002599</td>\n",
       "      <td>0.006875</td>\n",
       "      <td>0.002251</td>\n",
       "    </tr>\n",
       "    <tr>\n",
       "      <th>Freel_Peak</th>\n",
       "      <td>0.002867</td>\n",
       "      <td>0.000000</td>\n",
       "      <td>0.002071</td>\n",
       "      <td>0.000445</td>\n",
       "      <td>0.000258</td>\n",
       "      <td>0.000169</td>\n",
       "      <td>0.000627</td>\n",
       "      <td>0.000579</td>\n",
       "    </tr>\n",
       "    <tr>\n",
       "      <th>Heavenly</th>\n",
       "      <td>0.002000</td>\n",
       "      <td>0.002071</td>\n",
       "      <td>0.000000</td>\n",
       "      <td>0.002800</td>\n",
       "      <td>0.001995</td>\n",
       "      <td>0.003015</td>\n",
       "      <td>0.004258</td>\n",
       "      <td>0.002224</td>\n",
       "    </tr>\n",
       "    <tr>\n",
       "      <th>Little_Round_Top</th>\n",
       "      <td>0.003500</td>\n",
       "      <td>0.000445</td>\n",
       "      <td>0.002800</td>\n",
       "      <td>0.000000</td>\n",
       "      <td>0.000471</td>\n",
       "      <td>0.000487</td>\n",
       "      <td>0.001688</td>\n",
       "      <td>0.000833</td>\n",
       "    </tr>\n",
       "    <tr>\n",
       "      <th>Mt_Rose_Ophir</th>\n",
       "      <td>0.001697</td>\n",
       "      <td>0.000258</td>\n",
       "      <td>0.001995</td>\n",
       "      <td>0.000471</td>\n",
       "      <td>0.000000</td>\n",
       "      <td>0.000257</td>\n",
       "      <td>0.000774</td>\n",
       "      <td>0.000230</td>\n",
       "    </tr>\n",
       "    <tr>\n",
       "      <th>Rifle_Peak</th>\n",
       "      <td>0.002599</td>\n",
       "      <td>0.000169</td>\n",
       "      <td>0.003015</td>\n",
       "      <td>0.000487</td>\n",
       "      <td>0.000257</td>\n",
       "      <td>0.000000</td>\n",
       "      <td>0.000651</td>\n",
       "      <td>0.000651</td>\n",
       "    </tr>\n",
       "    <tr>\n",
       "      <th>Snow_Valley_Peak</th>\n",
       "      <td>0.006875</td>\n",
       "      <td>0.000627</td>\n",
       "      <td>0.004258</td>\n",
       "      <td>0.001688</td>\n",
       "      <td>0.000774</td>\n",
       "      <td>0.000651</td>\n",
       "      <td>0.000000</td>\n",
       "      <td>0.001085</td>\n",
       "    </tr>\n",
       "    <tr>\n",
       "      <th>West_Shore_Peaks</th>\n",
       "      <td>0.002251</td>\n",
       "      <td>0.000579</td>\n",
       "      <td>0.002224</td>\n",
       "      <td>0.000833</td>\n",
       "      <td>0.000230</td>\n",
       "      <td>0.000651</td>\n",
       "      <td>0.001085</td>\n",
       "      <td>0.000000</td>\n",
       "    </tr>\n",
       "  </tbody>\n",
       "</table>\n",
       "</div>"
      ],
      "text/plain": [
       "                  Dicks_Pass  Freel_Peak  Heavenly  Little_Round_Top  \\\n",
       "Dicks_Pass          0.000000    0.002867  0.002000          0.003500   \n",
       "Freel_Peak          0.002867    0.000000  0.002071          0.000445   \n",
       "Heavenly            0.002000    0.002071  0.000000          0.002800   \n",
       "Little_Round_Top    0.003500    0.000445  0.002800          0.000000   \n",
       "Mt_Rose_Ophir       0.001697    0.000258  0.001995          0.000471   \n",
       "Rifle_Peak          0.002599    0.000169  0.003015          0.000487   \n",
       "Snow_Valley_Peak    0.006875    0.000627  0.004258          0.001688   \n",
       "West_Shore_Peaks    0.002251    0.000579  0.002224          0.000833   \n",
       "\n",
       "                  Mt_Rose_Ophir  Rifle_Peak  Snow_Valley_Peak  \\\n",
       "Dicks_Pass             0.001697    0.002599          0.006875   \n",
       "Freel_Peak             0.000258    0.000169          0.000627   \n",
       "Heavenly               0.001995    0.003015          0.004258   \n",
       "Little_Round_Top       0.000471    0.000487          0.001688   \n",
       "Mt_Rose_Ophir          0.000000    0.000257          0.000774   \n",
       "Rifle_Peak             0.000257    0.000000          0.000651   \n",
       "Snow_Valley_Peak       0.000774    0.000651          0.000000   \n",
       "West_Shore_Peaks       0.000230    0.000651          0.001085   \n",
       "\n",
       "                  West_Shore_Peaks  \n",
       "Dicks_Pass                0.002251  \n",
       "Freel_Peak                0.000579  \n",
       "Heavenly                  0.002224  \n",
       "Little_Round_Top          0.000833  \n",
       "Mt_Rose_Ophir             0.000230  \n",
       "Rifle_Peak                0.000651  \n",
       "Snow_Valley_Peak          0.001085  \n",
       "West_Shore_Peaks          0.000000  "
      ]
     },
     "execution_count": 364,
     "metadata": {},
     "output_type": "execute_result"
    }
   ],
   "source": [
    "shiftDF"
   ]
  },
  {
   "cell_type": "code",
   "execution_count": 369,
   "metadata": {
    "collapsed": false
   },
   "outputs": [
    {
     "data": {
      "text/html": [
       "<div>\n",
       "<table border=\"1\" class=\"dataframe\">\n",
       "  <thead>\n",
       "    <tr style=\"text-align: right;\">\n",
       "      <th></th>\n",
       "      <th>Dicks_Pass</th>\n",
       "      <th>Freel_Peak</th>\n",
       "      <th>Little_Round_Top</th>\n",
       "      <th>Mt_Rose_Ophir</th>\n",
       "      <th>Rifle_Peak</th>\n",
       "      <th>Snow_Valley_Peak</th>\n",
       "    </tr>\n",
       "  </thead>\n",
       "  <tbody>\n",
       "    <tr>\n",
       "      <th>Dicks_Pass</th>\n",
       "      <td>0.000000</td>\n",
       "      <td>0.002867</td>\n",
       "      <td>0.003500</td>\n",
       "      <td>0.001697</td>\n",
       "      <td>0.002599</td>\n",
       "      <td>0.006875</td>\n",
       "    </tr>\n",
       "    <tr>\n",
       "      <th>Freel_Peak</th>\n",
       "      <td>0.002867</td>\n",
       "      <td>0.000000</td>\n",
       "      <td>0.000445</td>\n",
       "      <td>0.000258</td>\n",
       "      <td>0.000169</td>\n",
       "      <td>0.000627</td>\n",
       "    </tr>\n",
       "    <tr>\n",
       "      <th>Little_Round_Top</th>\n",
       "      <td>0.003500</td>\n",
       "      <td>0.000445</td>\n",
       "      <td>0.000000</td>\n",
       "      <td>0.000471</td>\n",
       "      <td>0.000487</td>\n",
       "      <td>0.001688</td>\n",
       "    </tr>\n",
       "    <tr>\n",
       "      <th>Mt_Rose_Ophir</th>\n",
       "      <td>0.001697</td>\n",
       "      <td>0.000258</td>\n",
       "      <td>0.000471</td>\n",
       "      <td>0.000000</td>\n",
       "      <td>0.000257</td>\n",
       "      <td>0.000774</td>\n",
       "    </tr>\n",
       "    <tr>\n",
       "      <th>Rifle_Peak</th>\n",
       "      <td>0.002599</td>\n",
       "      <td>0.000169</td>\n",
       "      <td>0.000487</td>\n",
       "      <td>0.000257</td>\n",
       "      <td>0.000000</td>\n",
       "      <td>0.000651</td>\n",
       "    </tr>\n",
       "    <tr>\n",
       "      <th>Snow_Valley_Peak</th>\n",
       "      <td>0.006875</td>\n",
       "      <td>0.000627</td>\n",
       "      <td>0.001688</td>\n",
       "      <td>0.000774</td>\n",
       "      <td>0.000651</td>\n",
       "      <td>0.000000</td>\n",
       "    </tr>\n",
       "  </tbody>\n",
       "</table>\n",
       "</div>"
      ],
      "text/plain": [
       "                  Dicks_Pass  Freel_Peak  Little_Round_Top  Mt_Rose_Ophir  \\\n",
       "Dicks_Pass          0.000000    0.002867          0.003500       0.001697   \n",
       "Freel_Peak          0.002867    0.000000          0.000445       0.000258   \n",
       "Little_Round_Top    0.003500    0.000445          0.000000       0.000471   \n",
       "Mt_Rose_Ophir       0.001697    0.000258          0.000471       0.000000   \n",
       "Rifle_Peak          0.002599    0.000169          0.000487       0.000257   \n",
       "Snow_Valley_Peak    0.006875    0.000627          0.001688       0.000774   \n",
       "\n",
       "                  Rifle_Peak  Snow_Valley_Peak  \n",
       "Dicks_Pass          0.002599          0.006875  \n",
       "Freel_Peak          0.000169          0.000627  \n",
       "Little_Round_Top    0.000487          0.001688  \n",
       "Mt_Rose_Ophir       0.000257          0.000774  \n",
       "Rifle_Peak          0.000000          0.000651  \n",
       "Snow_Valley_Peak    0.000651          0.000000  "
      ]
     },
     "execution_count": 369,
     "metadata": {},
     "output_type": "execute_result"
    }
   ],
   "source": [
    "#get a shiftDF with only those pops in common gardens\n",
    "pops = ['Dicks_Pass','Freel_Peak','Little_Round_Top','Mt_Rose_Ophir','Rifle_Peak','Snow_Valley_Peak']\n",
    "cgshiftDF = pd.DataFrame(shiftDF[[col for col in shiftDF.columns if col in pops]])\n",
    "cgshiftDF = cgshiftDF[cgshiftDF.index.isin(pops)]\n",
    "cgshiftDF"
   ]
  },
  {
   "cell_type": "code",
   "execution_count": 370,
   "metadata": {
    "collapsed": false
   },
   "outputs": [],
   "source": [
    "#test against phenotypic distances\n",
    "for pheno in phendf:\n",
    "    mant = mantel(cgshiftDF,phendf[pheno],permutations=9999)\n",
    "    if mant[1] <= 0.05:\n",
    "        print pheno,mant"
   ]
  },
  {
   "cell_type": "code",
   "execution_count": null,
   "metadata": {
    "collapsed": true
   },
   "outputs": [],
   "source": []
  },
  {
   "cell_type": "markdown",
   "metadata": {},
   "source": [
    "### using 95th percentile Dij"
   ]
  },
  {
   "cell_type": "code",
   "execution_count": 114,
   "metadata": {
    "collapsed": false
   },
   "outputs": [
    {
     "data": {
      "text/plain": [
       "5695.0"
      ]
     },
     "execution_count": 114,
     "metadata": {},
     "output_type": "execute_result"
    }
   ],
   "source": [
    "#where is the 95th percentile for 110 choose 2 Dij?\n",
    "math.floor(5995*0.95)"
   ]
  },
  {
   "cell_type": "code",
   "execution_count": 344,
   "metadata": {
    "collapsed": false
   },
   "outputs": [
    {
     "name": "stdout",
     "output_type": "stream",
     "text": [
      "Dicks_Pass\n",
      "Freel_Peak\n",
      "Heavenly\n",
      "Little_Round_Top\n",
      "Mt_Rose_Ophir\n",
      "Rifle_Peak\n",
      "Snow_Valley_Peak\n",
      "West_Shore_Peaks\n"
     ]
    }
   ],
   "source": [
    "#do pairwise pops for empirical SNPs IDed by OutFLANK and calculate median Dij for each pop pair\n",
    "n5thshiftDict = OrderedDict() \n",
    "kcount = 0\n",
    "for m,popm in enumerate(impMAF.columns):\n",
    "    print popm\n",
    "    n5thshiftDict[popm] = OrderedDict()\n",
    "    for l,popl in enumerate(impMAF.columns):\n",
    "        if m>l:\n",
    "            dijlist = []\n",
    "            for i,locusi in enumerate(outliersnps):\n",
    "                for j,locusj in enumerate(outliersnps):\n",
    "                    if i > j: #i=row, j=col : lower triangle \n",
    "                        sums =0\n",
    "                        kcount += 1\n",
    "                        for popk in [popm,popl]:\n",
    "                            qik = impMAF.loc[locusi,popk] #get locusi maf for pop k\n",
    "                            qjk = impMAF.loc[locusj,popk] #get locusj maf for pop k\n",
    "                            nk = popDict[popk]            #N individuals in pop k\n",
    "                            \n",
    "                            globN = 2*(popDict[popm]+popDict[popl]) # number of alleles across 2 pops\n",
    "                            \n",
    "                            #get global mafs\n",
    "                            fqim = impMAF.loc[locusi,popm]        #minor allele locusi freq  in popm\n",
    "                            nqim = round(fqim*2*popDict[popm])    #minor allele locusi count in popm\n",
    "                            fqil = impMAF.loc[locusi,popl]        #minor allele locusi freq  in popl\n",
    "                            nqil = round(fqil*2*popDict[popl])    #minor allele locusi count in popl\n",
    "                            \n",
    "                            fqjm = impMAF.loc[locusj,popm]        #minor allele locusj freq  in popm\n",
    "                            nqjm = round(fqjm*2*popDict[popm])    #minor allele locusj count in popm\n",
    "                            fqjl = impMAF.loc[locusj,popl]        #minor allele locusj freq  in popl\n",
    "                            nqjl = round(fqjl*2*popDict[popl])    #minor allele locusj count in popl\n",
    "                            \n",
    "                            qi = (nqim+nqil)/((2*popDict[popm])+(2*popDict[popl])) #global maf locusi\n",
    "                            qj = (nqjm+nqjl)/((2*popDict[popm])+(2*popDict[popl])) #global maf locusj\n",
    "\n",
    "                            sums += (nk/(popDict[popm]+popDict[popl]))*((qik*qjk)-(qi*qj))\n",
    "\n",
    "                        dijlist.append(sums) #each pairwise pop comparison has a matrix of Dij\n",
    "                    else:\n",
    "                        pass #no redundancies, no diagonal.\n",
    "            n5thshiftDict[popm][popl] = sorted([abs(d) for d in dijlist])[5695]\n",
    "        else:\n",
    "            n5thshiftDict[popm][popl] = np.nan #no redundancies,no diagonal. will be faster to reflect across diag later\n",
    "#    if kcount > 1:\n",
    "#        break"
   ]
  },
  {
   "cell_type": "code",
   "execution_count": 345,
   "metadata": {
    "collapsed": true
   },
   "outputs": [],
   "source": [
    "filE = '/home/lindb/wbp/OutFLANK/freqshifts/pop_pairwise_95th_dij.text'\n",
    "with open(filE,'w') as o:\n",
    "    key0 = n5thshiftDict.keys()[0]\n",
    "    line = '\\t'.join(n5thshiftDict[key0].keys()) + str('\\n')\n",
    "    o.write(\"%s\" % line)\n",
    "    for popk in n5thshiftDict.keys():\n",
    "        text = str(popk)+'\\t'+'\\t'.join([str(d) for d in n5thshiftDict[popk].values()])+'\\n'\n",
    "        o.write(\"%s\" % text)"
   ]
  },
  {
   "cell_type": "code",
   "execution_count": 346,
   "metadata": {
    "collapsed": false,
    "scrolled": true
   },
   "outputs": [
    {
     "data": {
      "text/html": [
       "<div>\n",
       "<table border=\"1\" class=\"dataframe\">\n",
       "  <thead>\n",
       "    <tr style=\"text-align: right;\">\n",
       "      <th></th>\n",
       "      <th>Dicks_Pass</th>\n",
       "      <th>Freel_Peak</th>\n",
       "      <th>Heavenly</th>\n",
       "      <th>Little_Round_Top</th>\n",
       "      <th>Mt_Rose_Ophir</th>\n",
       "      <th>Rifle_Peak</th>\n",
       "      <th>Snow_Valley_Peak</th>\n",
       "      <th>West_Shore_Peaks</th>\n",
       "    </tr>\n",
       "  </thead>\n",
       "  <tbody>\n",
       "    <tr>\n",
       "      <th>Dicks_Pass</th>\n",
       "      <td>0.000000</td>\n",
       "      <td>0.012651</td>\n",
       "      <td>0.008800</td>\n",
       "      <td>0.013200</td>\n",
       "      <td>0.010146</td>\n",
       "      <td>0.014848</td>\n",
       "      <td>0.023715</td>\n",
       "      <td>0.011368</td>\n",
       "    </tr>\n",
       "    <tr>\n",
       "      <th>Freel_Peak</th>\n",
       "      <td>0.012651</td>\n",
       "      <td>0.000000</td>\n",
       "      <td>0.013148</td>\n",
       "      <td>0.003685</td>\n",
       "      <td>0.002759</td>\n",
       "      <td>0.002894</td>\n",
       "      <td>0.009766</td>\n",
       "      <td>0.005208</td>\n",
       "    </tr>\n",
       "    <tr>\n",
       "      <th>Heavenly</th>\n",
       "      <td>0.008800</td>\n",
       "      <td>0.013148</td>\n",
       "      <td>0.000000</td>\n",
       "      <td>0.016000</td>\n",
       "      <td>0.012511</td>\n",
       "      <td>0.016180</td>\n",
       "      <td>0.026305</td>\n",
       "      <td>0.015375</td>\n",
       "    </tr>\n",
       "    <tr>\n",
       "      <th>Little_Round_Top</th>\n",
       "      <td>0.013200</td>\n",
       "      <td>0.003685</td>\n",
       "      <td>0.016000</td>\n",
       "      <td>0.000000</td>\n",
       "      <td>0.004952</td>\n",
       "      <td>0.005181</td>\n",
       "      <td>0.013364</td>\n",
       "      <td>0.007431</td>\n",
       "    </tr>\n",
       "    <tr>\n",
       "      <th>Mt_Rose_Ophir</th>\n",
       "      <td>0.010146</td>\n",
       "      <td>0.002759</td>\n",
       "      <td>0.012511</td>\n",
       "      <td>0.004952</td>\n",
       "      <td>0.000000</td>\n",
       "      <td>0.002857</td>\n",
       "      <td>0.009119</td>\n",
       "      <td>0.002958</td>\n",
       "    </tr>\n",
       "    <tr>\n",
       "      <th>Rifle_Peak</th>\n",
       "      <td>0.014848</td>\n",
       "      <td>0.002894</td>\n",
       "      <td>0.016180</td>\n",
       "      <td>0.005181</td>\n",
       "      <td>0.002857</td>\n",
       "      <td>0.000000</td>\n",
       "      <td>0.010742</td>\n",
       "      <td>0.005208</td>\n",
       "    </tr>\n",
       "    <tr>\n",
       "      <th>Snow_Valley_Peak</th>\n",
       "      <td>0.023715</td>\n",
       "      <td>0.009766</td>\n",
       "      <td>0.026305</td>\n",
       "      <td>0.013364</td>\n",
       "      <td>0.009119</td>\n",
       "      <td>0.010742</td>\n",
       "      <td>0.000000</td>\n",
       "      <td>0.009766</td>\n",
       "    </tr>\n",
       "    <tr>\n",
       "      <th>West_Shore_Peaks</th>\n",
       "      <td>0.011368</td>\n",
       "      <td>0.005208</td>\n",
       "      <td>0.015375</td>\n",
       "      <td>0.007431</td>\n",
       "      <td>0.002958</td>\n",
       "      <td>0.005208</td>\n",
       "      <td>0.009766</td>\n",
       "      <td>0.000000</td>\n",
       "    </tr>\n",
       "  </tbody>\n",
       "</table>\n",
       "</div>"
      ],
      "text/plain": [
       "                  Dicks_Pass  Freel_Peak  Heavenly  Little_Round_Top  \\\n",
       "Dicks_Pass          0.000000    0.012651  0.008800          0.013200   \n",
       "Freel_Peak          0.012651    0.000000  0.013148          0.003685   \n",
       "Heavenly            0.008800    0.013148  0.000000          0.016000   \n",
       "Little_Round_Top    0.013200    0.003685  0.016000          0.000000   \n",
       "Mt_Rose_Ophir       0.010146    0.002759  0.012511          0.004952   \n",
       "Rifle_Peak          0.014848    0.002894  0.016180          0.005181   \n",
       "Snow_Valley_Peak    0.023715    0.009766  0.026305          0.013364   \n",
       "West_Shore_Peaks    0.011368    0.005208  0.015375          0.007431   \n",
       "\n",
       "                  Mt_Rose_Ophir  Rifle_Peak  Snow_Valley_Peak  \\\n",
       "Dicks_Pass             0.010146    0.014848          0.023715   \n",
       "Freel_Peak             0.002759    0.002894          0.009766   \n",
       "Heavenly               0.012511    0.016180          0.026305   \n",
       "Little_Round_Top       0.004952    0.005181          0.013364   \n",
       "Mt_Rose_Ophir          0.000000    0.002857          0.009119   \n",
       "Rifle_Peak             0.002857    0.000000          0.010742   \n",
       "Snow_Valley_Peak       0.009119    0.010742          0.000000   \n",
       "West_Shore_Peaks       0.002958    0.005208          0.009766   \n",
       "\n",
       "                  West_Shore_Peaks  \n",
       "Dicks_Pass                0.011368  \n",
       "Freel_Peak                0.005208  \n",
       "Heavenly                  0.015375  \n",
       "Little_Round_Top          0.007431  \n",
       "Mt_Rose_Ophir             0.002958  \n",
       "Rifle_Peak                0.005208  \n",
       "Snow_Valley_Peak          0.009766  \n",
       "West_Shore_Peaks          0.000000  "
      ]
     },
     "execution_count": 346,
     "metadata": {},
     "output_type": "execute_result"
    }
   ],
   "source": [
    "filE = '/home/lindb/wbp/OutFLANK/freqshifts/pop_pairwise_95th_dij.text'\n",
    "n5thshiftDF = pd.read_csv(filE,header=0,index_col=0,sep='\\t')\n",
    "for i,popi in enumerate(n5thshiftDF.index):\n",
    "    for j,popj in enumerate(n5thshiftDF.columns):\n",
    "        if i == j:\n",
    "            n5thshiftDF.loc[popi,popj] = 0\n",
    "        elif math.isnan(n5thshiftDF.loc[popi,popj]) == True:\n",
    "            n5thshiftDF.loc[popi,popj] = n5thshiftDF.loc[popj,popi]\n",
    "n5thshiftDF"
   ]
  },
  {
   "cell_type": "code",
   "execution_count": 347,
   "metadata": {
    "collapsed": false
   },
   "outputs": [
    {
     "name": "stdout",
     "output_type": "stream",
     "text": [
      "AWS0-25 (0.46824603500147038, 0.053600000000000002, 8)\n",
      "AWS0-50 (0.40540876126596931, 0.1384, 8)\n",
      "Ann-ppt (0.32132313610473717, 0.16209999999999999, 8)\n",
      "CEC (-0.18646222846707394, 0.79120000000000001, 8)\n",
      "Clay (-0.30743208079700118, 0.4546, 8)\n",
      "Elev (-0.07529435010952755, 0.73280000000000001, 8)\n",
      "GDD-Aug (-0.21939154032105951, 0.35830000000000001, 8)\n",
      "GDD-May (-0.17948656986160377, 0.69779999999999998, 8)\n",
      "Lat (-0.16338130731538075, 0.4214, 8)\n",
      "Lon (0.031029853512226611, 0.85999999999999999, 8)\n",
      "Max-rad-input (-0.10650204073750817, 0.64680000000000004, 8)\n",
      "Rock-cov (-0.46366399956557541, 0.069199999999999998, 8)\n",
      "Sand (-0.041195621085455374, 0.83150000000000002, 8)\n",
      "Silt (0.17057796908758596, 0.66080000000000005, 8)\n",
      "Tmax-July (0.18155763900447014, 0.2606, 8)\n",
      "Tmin-Jan (-0.17183806125689327, 0.57240000000000002, 8)\n",
      "WC15Bar (0.31129508632343739, 0.35999999999999999, 8)\n",
      "WC3rdbar (0.20271549695168214, 0.59509999999999996, 8)\n"
     ]
    }
   ],
   "source": [
    "for env in envdDict.keys():\n",
    "    print env,skbio.stats.distance.mantel(n5thshiftDF,envdDict[env],permutations=9999)"
   ]
  },
  {
   "cell_type": "markdown",
   "metadata": {},
   "source": [
    "### using max abs Dij values instead of median"
   ]
  },
  {
   "cell_type": "code",
   "execution_count": 348,
   "metadata": {
    "collapsed": false
   },
   "outputs": [
    {
     "name": "stdout",
     "output_type": "stream",
     "text": [
      "Dicks_Pass\n",
      "Freel_Peak\n",
      "Heavenly\n",
      "Little_Round_Top\n",
      "Mt_Rose_Ophir\n",
      "Rifle_Peak\n",
      "Snow_Valley_Peak\n",
      "West_Shore_Peaks\n"
     ]
    }
   ],
   "source": [
    "#do pairwise pops for empirical SNPs IDed by OutFLANK and calculate median Dij for each pop pair\n",
    "maxshiftDict = OrderedDict() \n",
    "kcount = 0\n",
    "for m,popm in enumerate(impMAF.columns):\n",
    "    print popm\n",
    "    maxshiftDict[popm] = OrderedDict()\n",
    "    for l,popl in enumerate(impMAF.columns):\n",
    "        if m>l:\n",
    "            dijlist = []\n",
    "            for i,locusi in enumerate(outliersnps):\n",
    "                for j,locusj in enumerate(outliersnps):\n",
    "                    if i > j: #i=row, j=col : lower triangle \n",
    "                        sums =0\n",
    "                        kcount += 1\n",
    "                        for popk in [popm,popl]:\n",
    "                            qik = impMAF.loc[locusi,popk] #get locusi maf for pop k\n",
    "                            qjk = impMAF.loc[locusj,popk] #get locusj maf for pop k\n",
    "                            nk = popDict[popk]            #N individuals in pop k\n",
    "                            \n",
    "                            globN = 2*(popDict[popm]+popDict[popl]) # number of alleles across 2 pops\n",
    "                            \n",
    "                            #get global mafs\n",
    "                            fqim = impMAF.loc[locusi,popm]        #minor allele locusi freq  in popm\n",
    "                            nqim = round(fqim*2*popDict[popm])    #minor allele locusi count in popm\n",
    "                            fqil = impMAF.loc[locusi,popl]        #minor allele locusi freq  in popl\n",
    "                            nqil = round(fqil*2*popDict[popl])    #minor allele locusi count in popl\n",
    "                            \n",
    "                            fqjm = impMAF.loc[locusj,popm]        #minor allele locusj freq  in popm\n",
    "                            nqjm = round(fqjm*2*popDict[popm])    #minor allele locusj count in popm\n",
    "                            fqjl = impMAF.loc[locusj,popl]        #minor allele locusj freq  in popl\n",
    "                            nqjl = round(fqjl*2*popDict[popl])    #minor allele locusj count in popl\n",
    "                            \n",
    "                            qi = (nqim+nqil)/((2*popDict[popm])+(2*popDict[popl])) #global maf locusi\n",
    "                            qj = (nqjm+nqjl)/((2*popDict[popm])+(2*popDict[popl])) #global maf locusj\n",
    "\n",
    "                            sums += (nk/(popDict[popm]+popDict[popl]))*((qik*qjk)-(qi*qj))\n",
    "\n",
    "                        dijlist.append(sums) #each pairwise pop comparison has a matrix of Dij\n",
    "                    else:\n",
    "                        pass #no redundancies, no diagonal.\n",
    "            maxshiftDict[popm][popl] = max([abs(d) for d in dijlist])\n",
    "        else:\n",
    "            maxshiftDict[popm][popl] = np.nan #no redundancies,no diagonal. will be faster to reflect across diag later\n",
    "#    if kcount > 1:\n",
    "#        break"
   ]
  },
  {
   "cell_type": "code",
   "execution_count": 349,
   "metadata": {
    "collapsed": true
   },
   "outputs": [],
   "source": [
    "filE = '/home/lindb/wbp/OutFLANK/freqshifts/pop_pairwise_max_dij.text'\n",
    "with open(filE,'w') as o:\n",
    "    key0 = maxshiftDict.keys()[0]\n",
    "    line = '\\t'.join(maxshiftDict[key0].keys()) + str('\\n')\n",
    "    o.write(\"%s\" % line)\n",
    "    for popk in maxshiftDict.keys():\n",
    "        text = str(popk)+'\\t'+'\\t'.join([str(d) for d in maxshiftDict[popk].values()])+'\\n'\n",
    "        o.write(\"%s\" % text)"
   ]
  },
  {
   "cell_type": "code",
   "execution_count": 350,
   "metadata": {
    "collapsed": false
   },
   "outputs": [
    {
     "data": {
      "text/html": [
       "<div>\n",
       "<table border=\"1\" class=\"dataframe\">\n",
       "  <thead>\n",
       "    <tr style=\"text-align: right;\">\n",
       "      <th></th>\n",
       "      <th>Dicks_Pass</th>\n",
       "      <th>Freel_Peak</th>\n",
       "      <th>Heavenly</th>\n",
       "      <th>Little_Round_Top</th>\n",
       "      <th>Mt_Rose_Ophir</th>\n",
       "      <th>Rifle_Peak</th>\n",
       "      <th>Snow_Valley_Peak</th>\n",
       "      <th>West_Shore_Peaks</th>\n",
       "    </tr>\n",
       "  </thead>\n",
       "  <tbody>\n",
       "    <tr>\n",
       "      <th>Dicks_Pass</th>\n",
       "      <td>0.000000</td>\n",
       "      <td>0.024053</td>\n",
       "      <td>0.030400</td>\n",
       "      <td>0.028500</td>\n",
       "      <td>0.023447</td>\n",
       "      <td>0.035769</td>\n",
       "      <td>0.041442</td>\n",
       "      <td>0.023484</td>\n",
       "    </tr>\n",
       "    <tr>\n",
       "      <th>Freel_Peak</th>\n",
       "      <td>0.024053</td>\n",
       "      <td>0.000000</td>\n",
       "      <td>0.027225</td>\n",
       "      <td>0.014377</td>\n",
       "      <td>0.013381</td>\n",
       "      <td>0.011671</td>\n",
       "      <td>0.034819</td>\n",
       "      <td>0.024595</td>\n",
       "    </tr>\n",
       "    <tr>\n",
       "      <th>Heavenly</th>\n",
       "      <td>0.030400</td>\n",
       "      <td>0.027225</td>\n",
       "      <td>0.000000</td>\n",
       "      <td>0.028800</td>\n",
       "      <td>0.037343</td>\n",
       "      <td>0.032387</td>\n",
       "      <td>0.047993</td>\n",
       "      <td>0.033263</td>\n",
       "    </tr>\n",
       "    <tr>\n",
       "      <th>Little_Round_Top</th>\n",
       "      <td>0.028500</td>\n",
       "      <td>0.014377</td>\n",
       "      <td>0.028800</td>\n",
       "      <td>0.000000</td>\n",
       "      <td>0.016899</td>\n",
       "      <td>0.020875</td>\n",
       "      <td>0.031970</td>\n",
       "      <td>0.016785</td>\n",
       "    </tr>\n",
       "    <tr>\n",
       "      <th>Mt_Rose_Ophir</th>\n",
       "      <td>0.023447</td>\n",
       "      <td>0.013381</td>\n",
       "      <td>0.037343</td>\n",
       "      <td>0.016899</td>\n",
       "      <td>0.000000</td>\n",
       "      <td>0.015077</td>\n",
       "      <td>0.023953</td>\n",
       "      <td>0.014445</td>\n",
       "    </tr>\n",
       "    <tr>\n",
       "      <th>Rifle_Peak</th>\n",
       "      <td>0.035769</td>\n",
       "      <td>0.011671</td>\n",
       "      <td>0.032387</td>\n",
       "      <td>0.020875</td>\n",
       "      <td>0.015077</td>\n",
       "      <td>0.000000</td>\n",
       "      <td>0.032552</td>\n",
       "      <td>0.015625</td>\n",
       "    </tr>\n",
       "    <tr>\n",
       "      <th>Snow_Valley_Peak</th>\n",
       "      <td>0.041442</td>\n",
       "      <td>0.034819</td>\n",
       "      <td>0.047993</td>\n",
       "      <td>0.031970</td>\n",
       "      <td>0.023953</td>\n",
       "      <td>0.032552</td>\n",
       "      <td>0.000000</td>\n",
       "      <td>0.018338</td>\n",
       "    </tr>\n",
       "    <tr>\n",
       "      <th>West_Shore_Peaks</th>\n",
       "      <td>0.023484</td>\n",
       "      <td>0.024595</td>\n",
       "      <td>0.033263</td>\n",
       "      <td>0.016785</td>\n",
       "      <td>0.014445</td>\n",
       "      <td>0.015625</td>\n",
       "      <td>0.018338</td>\n",
       "      <td>0.000000</td>\n",
       "    </tr>\n",
       "  </tbody>\n",
       "</table>\n",
       "</div>"
      ],
      "text/plain": [
       "                  Dicks_Pass  Freel_Peak  Heavenly  Little_Round_Top  \\\n",
       "Dicks_Pass          0.000000    0.024053  0.030400          0.028500   \n",
       "Freel_Peak          0.024053    0.000000  0.027225          0.014377   \n",
       "Heavenly            0.030400    0.027225  0.000000          0.028800   \n",
       "Little_Round_Top    0.028500    0.014377  0.028800          0.000000   \n",
       "Mt_Rose_Ophir       0.023447    0.013381  0.037343          0.016899   \n",
       "Rifle_Peak          0.035769    0.011671  0.032387          0.020875   \n",
       "Snow_Valley_Peak    0.041442    0.034819  0.047993          0.031970   \n",
       "West_Shore_Peaks    0.023484    0.024595  0.033263          0.016785   \n",
       "\n",
       "                  Mt_Rose_Ophir  Rifle_Peak  Snow_Valley_Peak  \\\n",
       "Dicks_Pass             0.023447    0.035769          0.041442   \n",
       "Freel_Peak             0.013381    0.011671          0.034819   \n",
       "Heavenly               0.037343    0.032387          0.047993   \n",
       "Little_Round_Top       0.016899    0.020875          0.031970   \n",
       "Mt_Rose_Ophir          0.000000    0.015077          0.023953   \n",
       "Rifle_Peak             0.015077    0.000000          0.032552   \n",
       "Snow_Valley_Peak       0.023953    0.032552          0.000000   \n",
       "West_Shore_Peaks       0.014445    0.015625          0.018338   \n",
       "\n",
       "                  West_Shore_Peaks  \n",
       "Dicks_Pass                0.023484  \n",
       "Freel_Peak                0.024595  \n",
       "Heavenly                  0.033263  \n",
       "Little_Round_Top          0.016785  \n",
       "Mt_Rose_Ophir             0.014445  \n",
       "Rifle_Peak                0.015625  \n",
       "Snow_Valley_Peak          0.018338  \n",
       "West_Shore_Peaks          0.000000  "
      ]
     },
     "execution_count": 350,
     "metadata": {},
     "output_type": "execute_result"
    }
   ],
   "source": [
    "filE = '/home/lindb/wbp/OutFLANK/freqshifts/pop_pairwise_max_dij.text'\n",
    "maxshiftDF = pd.read_csv(filE,header=0,index_col=0,sep='\\t')\n",
    "for i,popi in enumerate(maxshiftDF.index):\n",
    "    for j,popj in enumerate(maxshiftDF.columns):\n",
    "        if i == j:\n",
    "            maxshiftDF.loc[popi,popj] = 0\n",
    "        elif math.isnan(maxshiftDF.loc[popi,popj]) == True:\n",
    "            maxshiftDF.loc[popi,popj] = maxshiftDF.loc[popj,popi]\n",
    "maxshiftDF"
   ]
  },
  {
   "cell_type": "code",
   "execution_count": 351,
   "metadata": {
    "collapsed": false
   },
   "outputs": [
    {
     "name": "stdout",
     "output_type": "stream",
     "text": [
      "AWS0-25 (0.42739169717382758, 0.089200000000000002, 8)\n",
      "AWS0-50 (0.36803148785089407, 0.21920000000000001, 8)\n",
      "Ann-ppt (0.28693051052556456, 0.2268, 8)\n",
      "CEC (-0.24010073697349651, 0.59560000000000002, 8)\n",
      "Clay (-0.35073110206680419, 0.35909999999999997, 8)\n",
      "Elev (0.086489000390999521, 0.69299999999999995, 8)\n",
      "GDD-Aug (-0.15714210392323899, 0.5393, 8)\n",
      "GDD-May (-0.17374896098710291, 0.66320000000000001, 8)\n",
      "Lat (-0.12285561907597917, 0.56699999999999995, 8)\n",
      "Lon (-0.041646961512708261, 0.83640000000000003, 8)\n",
      "Max-rad-input (-0.0079100443644270577, 0.97399999999999998, 8)\n",
      "Rock-cov (-0.47141072918491167, 0.065000000000000002, 8)\n",
      "Sand (-0.14484108460325157, 0.48149999999999998, 8)\n",
      "Silt (0.091177308918790445, 0.84330000000000005, 8)\n",
      "Tmax-July (0.1778649263702477, 0.28249999999999997, 8)\n",
      "Tmin-Jan (-0.22503662944452579, 0.46439999999999998, 8)\n",
      "WC15Bar (0.3227214249958914, 0.3251, 8)\n",
      "WC3rdbar (0.1859068309414969, 0.61970000000000003, 8)\n"
     ]
    }
   ],
   "source": [
    "for env in envdDict.keys():\n",
    "    print env,skbio.stats.distance.mantel(maxshiftDF,envdDict[env],permutations=9999)"
   ]
  },
  {
   "cell_type": "code",
   "execution_count": 352,
   "metadata": {
    "collapsed": false
   },
   "outputs": [
    {
     "data": {
      "text/plain": [
       "28"
      ]
     },
     "execution_count": 352,
     "metadata": {},
     "output_type": "execute_result"
    }
   ],
   "source": [
    "maxs = []\n",
    "for i,popi in enumerate(maxshiftDF.index):\n",
    "    for j,popj in enumerate(maxshiftDF.columns):\n",
    "        if i > j:\n",
    "            maxs.append(maxshiftDF.loc[popi,popj])\n",
    "len(maxs)"
   ]
  },
  {
   "cell_type": "code",
   "execution_count": 353,
   "metadata": {
    "collapsed": false
   },
   "outputs": [
    {
     "data": {
      "text/plain": [
       "<matplotlib.collections.PathCollection at 0x2ba12b83e250>"
      ]
     },
     "execution_count": 353,
     "metadata": {},
     "output_type": "execute_result"
    },
    {
     "data": {
      "image/png": "[encoded data removed]",
      "text/plain": [
       "<matplotlib.figure.Figure at 0x2ba12b3b0b10>"
      ]
     },
     "metadata": {},
     "output_type": "display_data"
    }
   ],
   "source": [
    "plt.scatter(maxs,appt)"
   ]
  },
  {
   "cell_type": "markdown",
   "metadata": {
    "collapsed": true
   },
   "source": [
    "### using raw Dij values instead of absolute values"
   ]
  },
  {
   "cell_type": "code",
   "execution_count": 354,
   "metadata": {
    "collapsed": false
   },
   "outputs": [
    {
     "name": "stdout",
     "output_type": "stream",
     "text": [
      "Dicks_Pass\n",
      "Freel_Peak\n",
      "Heavenly\n",
      "Little_Round_Top\n",
      "Mt_Rose_Ophir\n",
      "Rifle_Peak\n",
      "Snow_Valley_Peak\n",
      "West_Shore_Peaks\n"
     ]
    }
   ],
   "source": [
    "#do pairwise pops for empirical SNPs IDed by OutFLANK and calculate median Dij for each pop pair\n",
    "rawshiftDict = OrderedDict() \n",
    "kcount = 0\n",
    "for m,popm in enumerate(impMAF.columns):\n",
    "    print popm\n",
    "    rawshiftDict[popm] = OrderedDict()\n",
    "    for l,popl in enumerate(impMAF.columns):\n",
    "        if m>l:\n",
    "            dijlist = []\n",
    "            for i,locusi in enumerate(outliersnps):\n",
    "                for j,locusj in enumerate(outliersnps):\n",
    "                    if i > j: #i=row, j=col : lower triangle \n",
    "                        sums =0\n",
    "                        kcount += 1\n",
    "                        for popk in [popm,popl]:\n",
    "                            qik = impMAF.loc[locusi,popk] #get locusi maf for pop k\n",
    "                            qjk = impMAF.loc[locusj,popk] #get locusj maf for pop k\n",
    "                            nk = popDict[popk]            #N individuals in pop k\n",
    "                            \n",
    "                            globN = 2*(popDict[popm]+popDict[popl]) # number of alleles across 2 pops\n",
    "                            \n",
    "                            #get global mafs\n",
    "                            fqim = impMAF.loc[locusi,popm]        #minor allele locusi freq  in popm\n",
    "                            nqim = round(fqim*2*popDict[popm])    #minor allele locusi count in popm\n",
    "                            fqil = impMAF.loc[locusi,popl]        #minor allele locusi freq  in popl\n",
    "                            nqil = round(fqil*2*popDict[popl])    #minor allele locusi count in popl\n",
    "                            \n",
    "                            fqjm = impMAF.loc[locusj,popm]        #minor allele locusj freq  in popm\n",
    "                            nqjm = round(fqjm*2*popDict[popm])    #minor allele locusj count in popm\n",
    "                            fqjl = impMAF.loc[locusj,popl]        #minor allele locusj freq  in popl\n",
    "                            nqjl = round(fqjl*2*popDict[popl])    #minor allele locusj count in popl\n",
    "                            \n",
    "                            qi = (nqim+nqil)/((2*popDict[popm])+(2*popDict[popl])) #global maf locusi\n",
    "                            qj = (nqjm+nqjl)/((2*popDict[popm])+(2*popDict[popl])) #global maf locusj\n",
    "\n",
    "                            sums += (nk/(popDict[popm]+popDict[popl]))*((qik*qjk)-(qi*qj))\n",
    "\n",
    "                        dijlist.append(sums) #each pairwise pop comparison has a matrix of Dij\n",
    "                    else:\n",
    "                        pass #no redundancies, no diagonal. will be faster to reflect across diagonal later on\n",
    "            rawshiftDict[popm][popl] = np.median([d for d in dijlist])\n",
    "        else:\n",
    "            rawshiftDict[popm][popl] = np.nan #no redundancies,no diagonal. will be faster to reflect across diag later\n",
    "#    if kcount > 1:\n",
    "#        break"
   ]
  },
  {
   "cell_type": "code",
   "execution_count": 356,
   "metadata": {
    "collapsed": false
   },
   "outputs": [],
   "source": [
    "#write to file\n",
    "filE = '/home/lindb/wbp/OutFLANK/freqshifts/pop_pairwise_raw_median_dij.text'\n",
    "with open(filE,'w') as o:\n",
    "    key0 = rawshiftDict.keys()[0]\n",
    "    line = '\\t'.join(rawshiftDict[key0].keys()) + str('\\n')\n",
    "    o.write(\"%s\" % line)\n",
    "    for popk in rawshiftDict.keys():\n",
    "        text = str(popk)+'\\t'+'\\t'.join([str(d) for d in rawshiftDict[popk].values()])+'\\n'\n",
    "        o.write(\"%s\" % text)"
   ]
  },
  {
   "cell_type": "code",
   "execution_count": 357,
   "metadata": {
    "collapsed": false
   },
   "outputs": [
    {
     "data": {
      "text/html": [
       "<div>\n",
       "<table border=\"1\" class=\"dataframe\">\n",
       "  <thead>\n",
       "    <tr style=\"text-align: right;\">\n",
       "      <th></th>\n",
       "      <th>Dicks_Pass</th>\n",
       "      <th>Freel_Peak</th>\n",
       "      <th>Heavenly</th>\n",
       "      <th>Little_Round_Top</th>\n",
       "      <th>Mt_Rose_Ophir</th>\n",
       "      <th>Rifle_Peak</th>\n",
       "      <th>Snow_Valley_Peak</th>\n",
       "      <th>West_Shore_Peaks</th>\n",
       "    </tr>\n",
       "  </thead>\n",
       "  <tbody>\n",
       "    <tr>\n",
       "      <th>Dicks_Pass</th>\n",
       "      <td>0.000000e+00</td>\n",
       "      <td>0.000784</td>\n",
       "      <td>0.000200</td>\n",
       "      <td>6.938894e-18</td>\n",
       "      <td>0.000835</td>\n",
       "      <td>0.000731</td>\n",
       "      <td>4.763640e-03</td>\n",
       "      <td>5.997501e-04</td>\n",
       "    </tr>\n",
       "    <tr>\n",
       "      <th>Freel_Peak</th>\n",
       "      <td>7.838400e-04</td>\n",
       "      <td>0.000000</td>\n",
       "      <td>0.000009</td>\n",
       "      <td>0.000000e+00</td>\n",
       "      <td>0.000000</td>\n",
       "      <td>0.000000</td>\n",
       "      <td>0.000000e+00</td>\n",
       "      <td>0.000000e+00</td>\n",
       "    </tr>\n",
       "    <tr>\n",
       "      <th>Heavenly</th>\n",
       "      <td>2.000000e-04</td>\n",
       "      <td>0.000009</td>\n",
       "      <td>0.000000</td>\n",
       "      <td>0.000000e+00</td>\n",
       "      <td>0.000043</td>\n",
       "      <td>0.000000</td>\n",
       "      <td>1.474386e-03</td>\n",
       "      <td>0.000000e+00</td>\n",
       "    </tr>\n",
       "    <tr>\n",
       "      <th>Little_Round_Top</th>\n",
       "      <td>6.938894e-18</td>\n",
       "      <td>0.000000</td>\n",
       "      <td>0.000000</td>\n",
       "      <td>0.000000e+00</td>\n",
       "      <td>0.000000</td>\n",
       "      <td>0.000000</td>\n",
       "      <td>4.737609e-04</td>\n",
       "      <td>0.000000e+00</td>\n",
       "    </tr>\n",
       "    <tr>\n",
       "      <th>Mt_Rose_Ophir</th>\n",
       "      <td>8.348116e-04</td>\n",
       "      <td>0.000000</td>\n",
       "      <td>0.000043</td>\n",
       "      <td>0.000000e+00</td>\n",
       "      <td>0.000000</td>\n",
       "      <td>0.000000</td>\n",
       "      <td>4.595571e-05</td>\n",
       "      <td>0.000000e+00</td>\n",
       "    </tr>\n",
       "    <tr>\n",
       "      <th>Rifle_Peak</th>\n",
       "      <td>7.309454e-04</td>\n",
       "      <td>0.000000</td>\n",
       "      <td>0.000000</td>\n",
       "      <td>0.000000e+00</td>\n",
       "      <td>0.000000</td>\n",
       "      <td>0.000000</td>\n",
       "      <td>0.000000e+00</td>\n",
       "      <td>0.000000e+00</td>\n",
       "    </tr>\n",
       "    <tr>\n",
       "      <th>Snow_Valley_Peak</th>\n",
       "      <td>4.763640e-03</td>\n",
       "      <td>0.000000</td>\n",
       "      <td>0.001474</td>\n",
       "      <td>4.737609e-04</td>\n",
       "      <td>0.000046</td>\n",
       "      <td>0.000000</td>\n",
       "      <td>0.000000e+00</td>\n",
       "      <td>3.820555e-14</td>\n",
       "    </tr>\n",
       "    <tr>\n",
       "      <th>West_Shore_Peaks</th>\n",
       "      <td>5.997501e-04</td>\n",
       "      <td>0.000000</td>\n",
       "      <td>0.000000</td>\n",
       "      <td>0.000000e+00</td>\n",
       "      <td>0.000000</td>\n",
       "      <td>0.000000</td>\n",
       "      <td>3.820555e-14</td>\n",
       "      <td>0.000000e+00</td>\n",
       "    </tr>\n",
       "  </tbody>\n",
       "</table>\n",
       "</div>"
      ],
      "text/plain": [
       "                    Dicks_Pass  Freel_Peak  Heavenly  Little_Round_Top  \\\n",
       "Dicks_Pass        0.000000e+00    0.000784  0.000200      6.938894e-18   \n",
       "Freel_Peak        7.838400e-04    0.000000  0.000009      0.000000e+00   \n",
       "Heavenly          2.000000e-04    0.000009  0.000000      0.000000e+00   \n",
       "Little_Round_Top  6.938894e-18    0.000000  0.000000      0.000000e+00   \n",
       "Mt_Rose_Ophir     8.348116e-04    0.000000  0.000043      0.000000e+00   \n",
       "Rifle_Peak        7.309454e-04    0.000000  0.000000      0.000000e+00   \n",
       "Snow_Valley_Peak  4.763640e-03    0.000000  0.001474      4.737609e-04   \n",
       "West_Shore_Peaks  5.997501e-04    0.000000  0.000000      0.000000e+00   \n",
       "\n",
       "                  Mt_Rose_Ophir  Rifle_Peak  Snow_Valley_Peak  \\\n",
       "Dicks_Pass             0.000835    0.000731      4.763640e-03   \n",
       "Freel_Peak             0.000000    0.000000      0.000000e+00   \n",
       "Heavenly               0.000043    0.000000      1.474386e-03   \n",
       "Little_Round_Top       0.000000    0.000000      4.737609e-04   \n",
       "Mt_Rose_Ophir          0.000000    0.000000      4.595571e-05   \n",
       "Rifle_Peak             0.000000    0.000000      0.000000e+00   \n",
       "Snow_Valley_Peak       0.000046    0.000000      0.000000e+00   \n",
       "West_Shore_Peaks       0.000000    0.000000      3.820555e-14   \n",
       "\n",
       "                  West_Shore_Peaks  \n",
       "Dicks_Pass            5.997501e-04  \n",
       "Freel_Peak            0.000000e+00  \n",
       "Heavenly              0.000000e+00  \n",
       "Little_Round_Top      0.000000e+00  \n",
       "Mt_Rose_Ophir         0.000000e+00  \n",
       "Rifle_Peak            0.000000e+00  \n",
       "Snow_Valley_Peak      3.820555e-14  \n",
       "West_Shore_Peaks      0.000000e+00  "
      ]
     },
     "execution_count": 357,
     "metadata": {},
     "output_type": "execute_result"
    }
   ],
   "source": [
    "filE = '/home/lindb/wbp/OutFLANK/freqshifts/pop_pairwise_raw_median_dij.text'\n",
    "rawshiftDF = pd.read_csv(filE,header=0,index_col=0,sep='\\t')\n",
    "for i,popi in enumerate(rawshiftDF.index):\n",
    "    for j,popj in enumerate(rawshiftDF.columns):\n",
    "        if i == j:\n",
    "            rawshiftDF.loc[popi,popj] = 0\n",
    "        elif math.isnan(rawshiftDF.loc[popi,popj]) == True:\n",
    "            rawshiftDF.loc[popi,popj] = rawshiftDF.loc[popj,popi]\n",
    "rawshiftDF"
   ]
  },
  {
   "cell_type": "code",
   "execution_count": 358,
   "metadata": {
    "collapsed": false
   },
   "outputs": [
    {
     "name": "stdout",
     "output_type": "stream",
     "text": [
      "AWS0-25 (0.2588599535229304, 0.23980000000000001, 8)\n",
      "AWS0-50 (0.2641217034419916, 0.23469999999999999, 8)\n",
      "Ann-ppt (0.30954083777361852, 0.15190000000000001, 8)\n",
      "CEC (-0.22639441077773764, 0.28439999999999999, 8)\n",
      "Clay (-0.26307196899398844, 0.2792, 8)\n",
      "Elev (0.009271726059366504, 0.96220000000000006, 8)\n",
      "GDD-Aug (-0.27956628267263894, 0.17599999999999999, 8)\n",
      "GDD-May (-0.13373579049080664, 0.74960000000000004, 8)\n",
      "Lat (-0.0017490599876568197, 0.99560000000000004, 8)\n",
      "Lon (0.29082587665334642, 0.1217, 8)\n",
      "Max-rad-input (0.061207044228018197, 0.7873, 8)\n",
      "Rock-cov (-0.28530581546539024, 0.18820000000000001, 8)\n",
      "Sand (0.015311367094609346, 0.94699999999999995, 8)\n",
      "Silt (0.17779783648207903, 0.45029999999999998, 8)\n",
      "Tmax-July (0.33466992761767517, 0.047300000000000002, 8)\n",
      "Tmin-Jan (0.062439791359677213, 0.79730000000000001, 8)\n",
      "WC15Bar (0.25681728740527349, 0.25829999999999997, 8)\n",
      "WC3rdbar (0.18714035824274602, 0.4506, 8)\n"
     ]
    }
   ],
   "source": [
    "for env in envdDict.keys():\n",
    "    print env,skbio.stats.distance.mantel(rawshiftDF,envdDict[env],permutations=9999)"
   ]
  },
  {
   "cell_type": "code",
   "execution_count": null,
   "metadata": {
    "collapsed": true
   },
   "outputs": [],
   "source": []
  },
  {
   "cell_type": "code",
   "execution_count": null,
   "metadata": {
    "collapsed": true
   },
   "outputs": [],
   "source": []
  },
  {
   "cell_type": "code",
   "execution_count": null,
   "metadata": {
    "collapsed": true
   },
   "outputs": [],
   "source": []
  },
  {
   "cell_type": "code",
   "execution_count": null,
   "metadata": {
    "collapsed": true
   },
   "outputs": [],
   "source": []
  },
  {
   "cell_type": "code",
   "execution_count": null,
   "metadata": {
    "collapsed": true
   },
   "outputs": [],
   "source": []
  },
  {
   "cell_type": "code",
   "execution_count": null,
   "metadata": {
    "collapsed": true
   },
   "outputs": [],
   "source": []
  },
  {
   "cell_type": "code",
   "execution_count": null,
   "metadata": {
    "collapsed": true
   },
   "outputs": [],
   "source": []
  },
  {
   "cell_type": "code",
   "execution_count": null,
   "metadata": {
    "collapsed": true
   },
   "outputs": [],
   "source": [
    "#below scripts aren't used"
   ]
  },
  {
   "cell_type": "markdown",
   "metadata": {
    "collapsed": true
   },
   "source": [
    "# visualizing allele frequency shifts"
   ]
  },
  {
   "cell_type": "code",
   "execution_count": 213,
   "metadata": {
    "collapsed": false
   },
   "outputs": [
    {
     "data": {
      "text/plain": [
       "0.039600000000000003"
      ]
     },
     "execution_count": 213,
     "metadata": {},
     "output_type": "execute_result"
    }
   ],
   "source": [
    "maxx = -1000\n",
    "for col in shiftDF.columns:\n",
    "    lst = [x for x in mirshiftDF[col].tolist() if math.isnan(x)==False]\n",
    "    if len(lst) >0:\n",
    "        m = max(lst)\n",
    "        if m > maxx:\n",
    "            maxx = m\n",
    "maxx"
   ]
  },
  {
   "cell_type": "code",
   "execution_count": 161,
   "metadata": {
    "collapsed": false
   },
   "outputs": [],
   "source": [
    "#same geographic arrangement around lake tahoe\n",
    "pops = ['Heavenly',\n",
    "        'Freel_Peak',\n",
    "        'Little_Round_Top',\n",
    "        'Dicks_Pass',\n",
    "        'West_Shore_Peaks',\n",
    "        'Rifle_Peak',\n",
    "        'Mt_Rose_Ophir',\n",
    "        'Snow_Valley_Peak']"
   ]
  },
  {
   "cell_type": "code",
   "execution_count": 162,
   "metadata": {
    "collapsed": false,
    "scrolled": true
   },
   "outputs": [
    {
     "data": {
      "text/plain": [
       "[(1, 0),\n",
       " (2, 0),\n",
       " (2, 1),\n",
       " (3, 0),\n",
       " (3, 1),\n",
       " (3, 2),\n",
       " (4, 0),\n",
       " (4, 1),\n",
       " (4, 2),\n",
       " (4, 3),\n",
       " (5, 0),\n",
       " (5, 1),\n",
       " (5, 2),\n",
       " (5, 3),\n",
       " (5, 4),\n",
       " (6, 0),\n",
       " (6, 1),\n",
       " (6, 2),\n",
       " (6, 3),\n",
       " (6, 4),\n",
       " (6, 5),\n",
       " (7, 0),\n",
       " (7, 1),\n",
       " (7, 2),\n",
       " (7, 3),\n",
       " (7, 4),\n",
       " (7, 5),\n",
       " (7, 6)]"
      ]
     },
     "execution_count": 162,
     "metadata": {},
     "output_type": "execute_result"
    }
   ],
   "source": [
    "lst = []\n",
    "comps = []\n",
    "for i,popi in enumerate(pops):\n",
    "    for j,popj in enumerate(pops):\n",
    "        if i > j:\n",
    "            lst.append((i,j))\n",
    "            comps.append((popi,popj))\n",
    "lst"
   ]
  },
  {
   "cell_type": "code",
   "execution_count": 163,
   "metadata": {
    "collapsed": false,
    "scrolled": true
   },
   "outputs": [
    {
     "data": {
      "text/plain": [
       "[('Freel_Peak', 'Heavenly'),\n",
       " ('Little_Round_Top', 'Heavenly'),\n",
       " ('Little_Round_Top', 'Freel_Peak'),\n",
       " ('Dicks_Pass', 'Heavenly'),\n",
       " ('Dicks_Pass', 'Freel_Peak'),\n",
       " ('Dicks_Pass', 'Little_Round_Top'),\n",
       " ('West_Shore_Peaks', 'Heavenly'),\n",
       " ('West_Shore_Peaks', 'Freel_Peak'),\n",
       " ('West_Shore_Peaks', 'Little_Round_Top'),\n",
       " ('West_Shore_Peaks', 'Dicks_Pass'),\n",
       " ('Rifle_Peak', 'Heavenly'),\n",
       " ('Rifle_Peak', 'Freel_Peak'),\n",
       " ('Rifle_Peak', 'Little_Round_Top'),\n",
       " ('Rifle_Peak', 'Dicks_Pass'),\n",
       " ('Rifle_Peak', 'West_Shore_Peaks'),\n",
       " ('Mt_Rose_Ophir', 'Heavenly'),\n",
       " ('Mt_Rose_Ophir', 'Freel_Peak'),\n",
       " ('Mt_Rose_Ophir', 'Little_Round_Top'),\n",
       " ('Mt_Rose_Ophir', 'Dicks_Pass'),\n",
       " ('Mt_Rose_Ophir', 'West_Shore_Peaks'),\n",
       " ('Mt_Rose_Ophir', 'Rifle_Peak'),\n",
       " ('Snow_Valley_Peak', 'Heavenly'),\n",
       " ('Snow_Valley_Peak', 'Freel_Peak'),\n",
       " ('Snow_Valley_Peak', 'Little_Round_Top'),\n",
       " ('Snow_Valley_Peak', 'Dicks_Pass'),\n",
       " ('Snow_Valley_Peak', 'West_Shore_Peaks'),\n",
       " ('Snow_Valley_Peak', 'Rifle_Peak'),\n",
       " ('Snow_Valley_Peak', 'Mt_Rose_Ophir')]"
      ]
     },
     "execution_count": 163,
     "metadata": {},
     "output_type": "execute_result"
    }
   ],
   "source": [
    "comps"
   ]
  },
  {
   "cell_type": "code",
   "execution_count": 164,
   "metadata": {
    "collapsed": false
   },
   "outputs": [],
   "source": [
    "g = Graph(lst)\n",
    "g.vs[\"name\"] = pops\n",
    "g.vs[\"label\"] = g.vs[\"name\"]\n",
    "layout = g.layout_circle()"
   ]
  },
  {
   "cell_type": "code",
   "execution_count": 165,
   "metadata": {
    "collapsed": false
   },
   "outputs": [
    {
     "data": {
      "text/plain": [
       "('Freel_Peak', 'Heavenly')"
      ]
     },
     "execution_count": 165,
     "metadata": {},
     "output_type": "execute_result"
    }
   ],
   "source": [
    "comps[0]"
   ]
  },
  {
   "cell_type": "code",
   "execution_count": 214,
   "metadata": {
    "collapsed": false
   },
   "outputs": [
    {
     "data": {
      "image/svg+xml": [
       "<?xml version=\"1.0\" encoding=\"UTF-8\"?>\n",
       "<svg xmlns=\"http://www.w3.org/2000/svg\" xmlns:xlink=\"http://www.w3.org/1999/xlink\" width=\"600pt\" height=\"600pt\" viewBox=\"0 0 600 600\" version=\"1.1\">\n",
       "<defs>\n",
       "<g>\n",
       "<symbol overflow=\"visible\" id=\"glyph0-0\">\n",
       "<path style=\"stroke:none;\" d=\"M 0.703125 2.46875 L 0.703125 -9.875 L 7.703125 -9.875 L 7.703125 2.46875 Z M 1.484375 1.703125 L 6.921875 1.703125 L 6.921875 -9.078125 L 1.484375 -9.078125 Z \"/>\n",
       "</symbol>\n",
       "<symbol overflow=\"visible\" id=\"glyph0-1\">\n",
       "<path style=\"stroke:none;\" d=\"M 1.375 -10.203125 L 2.75 -10.203125 L 2.75 -6.015625 L 7.765625 -6.015625 L 7.765625 -10.203125 L 9.15625 -10.203125 L 9.15625 0 L 7.765625 0 L 7.765625 -4.859375 L 2.75 -4.859375 L 2.75 0 L 1.375 0 Z \"/>\n",
       "</symbol>\n",
       "<symbol overflow=\"visible\" id=\"glyph0-2\">\n",
       "<path style=\"stroke:none;\" d=\"M 7.875 -4.140625 L 7.875 -3.53125 L 2.078125 -3.53125 C 2.140625 -2.664062 2.398438 -2.003906 2.859375 -1.546875 C 3.328125 -1.097656 3.976562 -0.875 4.8125 -0.875 C 5.300781 -0.875 5.769531 -0.929688 6.21875 -1.046875 C 6.675781 -1.160156 7.128906 -1.335938 7.578125 -1.578125 L 7.578125 -0.390625 C 7.117188 -0.203125 6.648438 -0.0546875 6.171875 0.046875 C 5.703125 0.148438 5.226562 0.203125 4.75 0.203125 C 3.519531 0.203125 2.546875 -0.148438 1.828125 -0.859375 C 1.117188 -1.578125 0.765625 -2.539062 0.765625 -3.75 C 0.765625 -5.007812 1.101562 -6.003906 1.78125 -6.734375 C 2.457031 -7.472656 3.375 -7.84375 4.53125 -7.84375 C 5.5625 -7.84375 6.375 -7.507812 6.96875 -6.84375 C 7.570312 -6.1875 7.875 -5.285156 7.875 -4.140625 Z M 6.609375 -4.515625 C 6.597656 -5.203125 6.40625 -5.75 6.03125 -6.15625 C 5.65625 -6.570312 5.160156 -6.78125 4.546875 -6.78125 C 3.835938 -6.78125 3.269531 -6.578125 2.84375 -6.171875 C 2.425781 -5.773438 2.1875 -5.21875 2.125 -4.5 Z \"/>\n",
       "</symbol>\n",
       "<symbol overflow=\"visible\" id=\"glyph0-3\">\n",
       "<path style=\"stroke:none;\" d=\"M 4.796875 -3.84375 C 3.785156 -3.84375 3.082031 -3.726562 2.6875 -3.5 C 2.289062 -3.269531 2.09375 -2.875 2.09375 -2.3125 C 2.09375 -1.863281 2.238281 -1.507812 2.53125 -1.25 C 2.832031 -0.988281 3.234375 -0.859375 3.734375 -0.859375 C 4.429688 -0.859375 4.988281 -1.101562 5.40625 -1.59375 C 5.832031 -2.09375 6.046875 -2.75 6.046875 -3.5625 L 6.046875 -3.84375 Z M 7.3125 -4.375 L 7.3125 0 L 6.046875 0 L 6.046875 -1.15625 C 5.765625 -0.695312 5.40625 -0.351562 4.96875 -0.125 C 4.539062 0.09375 4.019531 0.203125 3.40625 0.203125 C 2.625 0.203125 2 -0.015625 1.53125 -0.453125 C 1.070312 -0.898438 0.84375 -1.492188 0.84375 -2.234375 C 0.84375 -3.085938 1.128906 -3.734375 1.703125 -4.171875 C 2.285156 -4.609375 3.144531 -4.828125 4.28125 -4.828125 L 6.046875 -4.828125 L 6.046875 -4.953125 C 6.046875 -5.535156 5.851562 -5.984375 5.46875 -6.296875 C 5.09375 -6.617188 4.5625 -6.78125 3.875 -6.78125 C 3.4375 -6.78125 3.007812 -6.722656 2.59375 -6.609375 C 2.175781 -6.503906 1.78125 -6.347656 1.40625 -6.140625 L 1.40625 -7.3125 C 1.863281 -7.488281 2.304688 -7.617188 2.734375 -7.703125 C 3.171875 -7.796875 3.59375 -7.84375 4 -7.84375 C 5.113281 -7.84375 5.941406 -7.554688 6.484375 -6.984375 C 7.035156 -6.410156 7.3125 -5.539062 7.3125 -4.375 Z \"/>\n",
       "</symbol>\n",
       "<symbol overflow=\"visible\" id=\"glyph0-4\">\n",
       "<path style=\"stroke:none;\" d=\"M 0.421875 -7.65625 L 1.75 -7.65625 L 4.140625 -1.234375 L 6.53125 -7.65625 L 7.875 -7.65625 L 5 0 L 3.28125 0 Z \"/>\n",
       "</symbol>\n",
       "<symbol overflow=\"visible\" id=\"glyph0-5\">\n",
       "<path style=\"stroke:none;\" d=\"M 7.6875 -4.625 L 7.6875 0 L 6.421875 0 L 6.421875 -4.578125 C 6.421875 -5.304688 6.28125 -5.847656 6 -6.203125 C 5.71875 -6.566406 5.296875 -6.75 4.734375 -6.75 C 4.054688 -6.75 3.519531 -6.53125 3.125 -6.09375 C 2.726562 -5.664062 2.53125 -5.078125 2.53125 -4.328125 L 2.53125 0 L 1.265625 0 L 1.265625 -7.65625 L 2.53125 -7.65625 L 2.53125 -6.46875 C 2.832031 -6.925781 3.1875 -7.269531 3.59375 -7.5 C 4.007812 -7.726562 4.484375 -7.84375 5.015625 -7.84375 C 5.890625 -7.84375 6.550781 -7.566406 7 -7.015625 C 7.457031 -6.472656 7.6875 -5.675781 7.6875 -4.625 Z \"/>\n",
       "</symbol>\n",
       "<symbol overflow=\"visible\" id=\"glyph0-6\">\n",
       "<path style=\"stroke:none;\" d=\"M 1.3125 -10.640625 L 2.578125 -10.640625 L 2.578125 0 L 1.3125 0 Z \"/>\n",
       "</symbol>\n",
       "<symbol overflow=\"visible\" id=\"glyph0-7\">\n",
       "<path style=\"stroke:none;\" d=\"M 4.5 0.71875 C 4.144531 1.625 3.796875 2.210938 3.453125 2.484375 C 3.117188 2.765625 2.671875 2.90625 2.109375 2.90625 L 1.109375 2.90625 L 1.109375 1.859375 L 1.84375 1.859375 C 2.1875 1.859375 2.453125 1.773438 2.640625 1.609375 C 2.835938 1.453125 3.050781 1.066406 3.28125 0.453125 L 3.515625 -0.125 L 0.421875 -7.65625 L 1.75 -7.65625 L 4.140625 -1.671875 L 6.53125 -7.65625 L 7.875 -7.65625 Z \"/>\n",
       "</symbol>\n",
       "<symbol overflow=\"visible\" id=\"glyph0-8\">\n",
       "<path style=\"stroke:none;\" d=\"M 1.375 -10.203125 L 7.234375 -10.203125 L 7.234375 -9.046875 L 2.75 -9.046875 L 2.75 -6.03125 L 6.796875 -6.03125 L 6.796875 -4.875 L 2.75 -4.875 L 2.75 0 L 1.375 0 Z \"/>\n",
       "</symbol>\n",
       "<symbol overflow=\"visible\" id=\"glyph0-9\">\n",
       "<path style=\"stroke:none;\" d=\"M 5.75 -6.484375 C 5.613281 -6.566406 5.460938 -6.625 5.296875 -6.65625 C 5.128906 -6.695312 4.945312 -6.71875 4.75 -6.71875 C 4.03125 -6.71875 3.476562 -6.484375 3.09375 -6.015625 C 2.71875 -5.554688 2.53125 -4.894531 2.53125 -4.03125 L 2.53125 0 L 1.265625 0 L 1.265625 -7.65625 L 2.53125 -7.65625 L 2.53125 -6.46875 C 2.800781 -6.9375 3.144531 -7.28125 3.5625 -7.5 C 3.988281 -7.726562 4.503906 -7.84375 5.109375 -7.84375 C 5.203125 -7.84375 5.300781 -7.835938 5.40625 -7.828125 C 5.507812 -7.816406 5.625 -7.796875 5.75 -7.765625 Z \"/>\n",
       "</symbol>\n",
       "<symbol overflow=\"visible\" id=\"glyph0-10\">\n",
       "<path style=\"stroke:none;\" d=\"M 7.140625 2.328125 L 7.140625 3.296875 L -0.140625 3.296875 L -0.140625 2.328125 Z \"/>\n",
       "</symbol>\n",
       "<symbol overflow=\"visible\" id=\"glyph0-11\">\n",
       "<path style=\"stroke:none;\" d=\"M 2.75 -9.078125 L 2.75 -5.234375 L 4.484375 -5.234375 C 5.128906 -5.234375 5.628906 -5.398438 5.984375 -5.734375 C 6.335938 -6.066406 6.515625 -6.539062 6.515625 -7.15625 C 6.515625 -7.769531 6.335938 -8.242188 5.984375 -8.578125 C 5.628906 -8.910156 5.128906 -9.078125 4.484375 -9.078125 Z M 1.375 -10.203125 L 4.484375 -10.203125 C 5.628906 -10.203125 6.492188 -9.941406 7.078125 -9.421875 C 7.671875 -8.910156 7.96875 -8.15625 7.96875 -7.15625 C 7.96875 -6.144531 7.671875 -5.382812 7.078125 -4.875 C 6.492188 -4.363281 5.628906 -4.109375 4.484375 -4.109375 L 2.75 -4.109375 L 2.75 0 L 1.375 0 Z \"/>\n",
       "</symbol>\n",
       "<symbol overflow=\"visible\" id=\"glyph0-12\">\n",
       "<path style=\"stroke:none;\" d=\"M 1.265625 -10.640625 L 2.53125 -10.640625 L 2.53125 -4.359375 L 6.296875 -7.65625 L 7.890625 -7.65625 L 3.828125 -4.078125 L 8.0625 0 L 6.421875 0 L 2.53125 -3.734375 L 2.53125 0 L 1.265625 0 Z \"/>\n",
       "</symbol>\n",
       "<symbol overflow=\"visible\" id=\"glyph0-13\">\n",
       "<path style=\"stroke:none;\" d=\"M 1.375 -10.203125 L 2.75 -10.203125 L 2.75 -1.15625 L 7.71875 -1.15625 L 7.71875 0 L 1.375 0 Z \"/>\n",
       "</symbol>\n",
       "<symbol overflow=\"visible\" id=\"glyph0-14\">\n",
       "<path style=\"stroke:none;\" d=\"M 1.3125 -7.65625 L 2.578125 -7.65625 L 2.578125 0 L 1.3125 0 Z M 1.3125 -10.640625 L 2.578125 -10.640625 L 2.578125 -9.046875 L 1.3125 -9.046875 Z \"/>\n",
       "</symbol>\n",
       "<symbol overflow=\"visible\" id=\"glyph0-15\">\n",
       "<path style=\"stroke:none;\" d=\"M 2.5625 -9.828125 L 2.5625 -7.65625 L 5.15625 -7.65625 L 5.15625 -6.671875 L 2.5625 -6.671875 L 2.5625 -2.515625 C 2.5625 -1.898438 2.644531 -1.5 2.8125 -1.3125 C 2.988281 -1.132812 3.335938 -1.046875 3.859375 -1.046875 L 5.15625 -1.046875 L 5.15625 0 L 3.859375 0 C 2.890625 0 2.21875 -0.179688 1.84375 -0.546875 C 1.476562 -0.910156 1.296875 -1.566406 1.296875 -2.515625 L 1.296875 -6.671875 L 0.375 -6.671875 L 0.375 -7.65625 L 1.296875 -7.65625 L 1.296875 -9.828125 Z \"/>\n",
       "</symbol>\n",
       "<symbol overflow=\"visible\" id=\"glyph0-16\">\n",
       "<path style=\"stroke:none;\" d=\"M 6.21875 -4.78125 C 6.507812 -4.6875 6.796875 -4.472656 7.078125 -4.140625 C 7.359375 -3.816406 7.640625 -3.367188 7.921875 -2.796875 L 9.328125 0 L 7.84375 0 L 6.53125 -2.625 C 6.195312 -3.300781 5.867188 -3.75 5.546875 -3.96875 C 5.234375 -4.195312 4.804688 -4.3125 4.265625 -4.3125 L 2.75 -4.3125 L 2.75 0 L 1.375 0 L 1.375 -10.203125 L 4.484375 -10.203125 C 5.648438 -10.203125 6.519531 -9.957031 7.09375 -9.46875 C 7.675781 -8.988281 7.96875 -8.253906 7.96875 -7.265625 C 7.96875 -6.617188 7.816406 -6.082031 7.515625 -5.65625 C 7.210938 -5.238281 6.78125 -4.945312 6.21875 -4.78125 Z M 2.75 -9.078125 L 2.75 -5.453125 L 4.484375 -5.453125 C 5.148438 -5.453125 5.65625 -5.601562 6 -5.90625 C 6.34375 -6.21875 6.515625 -6.671875 6.515625 -7.265625 C 6.515625 -7.859375 6.34375 -8.304688 6 -8.609375 C 5.65625 -8.921875 5.148438 -9.078125 4.484375 -9.078125 Z \"/>\n",
       "</symbol>\n",
       "<symbol overflow=\"visible\" id=\"glyph0-17\">\n",
       "<path style=\"stroke:none;\" d=\"M 4.28125 -6.78125 C 3.613281 -6.78125 3.082031 -6.515625 2.6875 -5.984375 C 2.289062 -5.460938 2.09375 -4.742188 2.09375 -3.828125 C 2.09375 -2.910156 2.285156 -2.1875 2.671875 -1.65625 C 3.066406 -1.132812 3.601562 -0.875 4.28125 -0.875 C 4.957031 -0.875 5.488281 -1.132812 5.875 -1.65625 C 6.269531 -2.1875 6.46875 -2.910156 6.46875 -3.828125 C 6.46875 -4.734375 6.269531 -5.453125 5.875 -5.984375 C 5.488281 -6.515625 4.957031 -6.78125 4.28125 -6.78125 Z M 4.28125 -7.84375 C 5.375 -7.84375 6.234375 -7.484375 6.859375 -6.765625 C 7.484375 -6.054688 7.796875 -5.078125 7.796875 -3.828125 C 7.796875 -2.566406 7.484375 -1.578125 6.859375 -0.859375 C 6.234375 -0.148438 5.375 0.203125 4.28125 0.203125 C 3.1875 0.203125 2.328125 -0.148438 1.703125 -0.859375 C 1.078125 -1.578125 0.765625 -2.566406 0.765625 -3.828125 C 0.765625 -5.078125 1.078125 -6.054688 1.703125 -6.765625 C 2.328125 -7.484375 3.1875 -7.84375 4.28125 -7.84375 Z \"/>\n",
       "</symbol>\n",
       "<symbol overflow=\"visible\" id=\"glyph0-18\">\n",
       "<path style=\"stroke:none;\" d=\"M 1.1875 -3.015625 L 1.1875 -7.65625 L 2.453125 -7.65625 L 2.453125 -3.0625 C 2.453125 -2.34375 2.59375 -1.800781 2.875 -1.4375 C 3.15625 -1.070312 3.578125 -0.890625 4.140625 -0.890625 C 4.816406 -0.890625 5.351562 -1.101562 5.75 -1.53125 C 6.144531 -1.96875 6.34375 -2.5625 6.34375 -3.3125 L 6.34375 -7.65625 L 7.609375 -7.65625 L 7.609375 0 L 6.34375 0 L 6.34375 -1.171875 C 6.039062 -0.710938 5.6875 -0.367188 5.28125 -0.140625 C 4.875 0.0859375 4.40625 0.203125 3.875 0.203125 C 3 0.203125 2.332031 -0.0664062 1.875 -0.609375 C 1.414062 -1.160156 1.1875 -1.960938 1.1875 -3.015625 Z M 4.359375 -7.84375 Z \"/>\n",
       "</symbol>\n",
       "<symbol overflow=\"visible\" id=\"glyph0-19\">\n",
       "<path style=\"stroke:none;\" d=\"M 6.359375 -6.5 L 6.359375 -10.640625 L 7.609375 -10.640625 L 7.609375 0 L 6.359375 0 L 6.359375 -1.15625 C 6.097656 -0.695312 5.765625 -0.351562 5.359375 -0.125 C 4.953125 0.09375 4.46875 0.203125 3.90625 0.203125 C 2.976562 0.203125 2.222656 -0.164062 1.640625 -0.90625 C 1.054688 -1.644531 0.765625 -2.617188 0.765625 -3.828125 C 0.765625 -5.023438 1.054688 -5.992188 1.640625 -6.734375 C 2.222656 -7.472656 2.976562 -7.84375 3.90625 -7.84375 C 4.46875 -7.84375 4.953125 -7.726562 5.359375 -7.5 C 5.765625 -7.28125 6.097656 -6.945312 6.359375 -6.5 Z M 2.078125 -3.828125 C 2.078125 -2.898438 2.265625 -2.171875 2.640625 -1.640625 C 3.023438 -1.117188 3.550781 -0.859375 4.21875 -0.859375 C 4.875 -0.859375 5.394531 -1.117188 5.78125 -1.640625 C 6.164062 -2.171875 6.359375 -2.898438 6.359375 -3.828125 C 6.359375 -4.742188 6.164062 -5.460938 5.78125 -5.984375 C 5.394531 -6.515625 4.875 -6.78125 4.21875 -6.78125 C 3.550781 -6.78125 3.023438 -6.515625 2.640625 -5.984375 C 2.265625 -5.460938 2.078125 -4.742188 2.078125 -3.828125 Z \"/>\n",
       "</symbol>\n",
       "<symbol overflow=\"visible\" id=\"glyph0-20\">\n",
       "<path style=\"stroke:none;\" d=\"M -0.046875 -10.203125 L 8.59375 -10.203125 L 8.59375 -9.046875 L 4.96875 -9.046875 L 4.96875 0 L 3.578125 0 L 3.578125 -9.046875 L -0.046875 -9.046875 Z \"/>\n",
       "</symbol>\n",
       "<symbol overflow=\"visible\" id=\"glyph0-21\">\n",
       "<path style=\"stroke:none;\" d=\"M 2.53125 -1.15625 L 2.53125 2.90625 L 1.265625 2.90625 L 1.265625 -7.65625 L 2.53125 -7.65625 L 2.53125 -6.5 C 2.800781 -6.945312 3.132812 -7.28125 3.53125 -7.5 C 3.9375 -7.726562 4.421875 -7.84375 4.984375 -7.84375 C 5.910156 -7.84375 6.664062 -7.472656 7.25 -6.734375 C 7.832031 -5.992188 8.125 -5.023438 8.125 -3.828125 C 8.125 -2.617188 7.832031 -1.644531 7.25 -0.90625 C 6.664062 -0.164062 5.910156 0.203125 4.984375 0.203125 C 4.421875 0.203125 3.9375 0.09375 3.53125 -0.125 C 3.132812 -0.351562 2.800781 -0.695312 2.53125 -1.15625 Z M 6.8125 -3.828125 C 6.8125 -4.742188 6.617188 -5.460938 6.234375 -5.984375 C 5.859375 -6.515625 5.335938 -6.78125 4.671875 -6.78125 C 4.003906 -6.78125 3.476562 -6.515625 3.09375 -5.984375 C 2.71875 -5.460938 2.53125 -4.742188 2.53125 -3.828125 C 2.53125 -2.898438 2.71875 -2.171875 3.09375 -1.640625 C 3.476562 -1.117188 4.003906 -0.859375 4.671875 -0.859375 C 5.335938 -0.859375 5.859375 -1.117188 6.234375 -1.640625 C 6.617188 -2.171875 6.8125 -2.898438 6.8125 -3.828125 Z \"/>\n",
       "</symbol>\n",
       "<symbol overflow=\"visible\" id=\"glyph0-22\">\n",
       "<path style=\"stroke:none;\" d=\"M 2.75 -9.078125 L 2.75 -1.140625 L 4.421875 -1.140625 C 5.828125 -1.140625 6.859375 -1.457031 7.515625 -2.09375 C 8.171875 -2.726562 8.5 -3.734375 8.5 -5.109375 C 8.5 -6.484375 8.171875 -7.488281 7.515625 -8.125 C 6.859375 -8.757812 5.828125 -9.078125 4.421875 -9.078125 Z M 1.375 -10.203125 L 4.21875 -10.203125 C 6.1875 -10.203125 7.632812 -9.789062 8.5625 -8.96875 C 9.488281 -8.144531 9.953125 -6.859375 9.953125 -5.109375 C 9.953125 -3.347656 9.488281 -2.054688 8.5625 -1.234375 C 7.632812 -0.410156 6.1875 0 4.21875 0 L 1.375 0 Z \"/>\n",
       "</symbol>\n",
       "<symbol overflow=\"visible\" id=\"glyph0-23\">\n",
       "<path style=\"stroke:none;\" d=\"M 6.828125 -7.359375 L 6.828125 -6.1875 C 6.472656 -6.382812 6.113281 -6.53125 5.75 -6.625 C 5.394531 -6.726562 5.035156 -6.78125 4.671875 -6.78125 C 3.859375 -6.78125 3.222656 -6.519531 2.765625 -6 C 2.316406 -5.476562 2.09375 -4.753906 2.09375 -3.828125 C 2.09375 -2.890625 2.316406 -2.160156 2.765625 -1.640625 C 3.222656 -1.128906 3.859375 -0.875 4.671875 -0.875 C 5.035156 -0.875 5.394531 -0.921875 5.75 -1.015625 C 6.113281 -1.109375 6.472656 -1.253906 6.828125 -1.453125 L 6.828125 -0.296875 C 6.472656 -0.128906 6.109375 -0.00390625 5.734375 0.078125 C 5.359375 0.160156 4.960938 0.203125 4.546875 0.203125 C 3.390625 0.203125 2.46875 -0.15625 1.78125 -0.875 C 1.101562 -1.601562 0.765625 -2.585938 0.765625 -3.828125 C 0.765625 -5.066406 1.109375 -6.046875 1.796875 -6.765625 C 2.484375 -7.484375 3.425781 -7.84375 4.625 -7.84375 C 5.007812 -7.84375 5.382812 -7.800781 5.75 -7.71875 C 6.125 -7.644531 6.484375 -7.523438 6.828125 -7.359375 Z \"/>\n",
       "</symbol>\n",
       "<symbol overflow=\"visible\" id=\"glyph0-24\">\n",
       "<path style=\"stroke:none;\" d=\"M 6.203125 -7.4375 L 6.203125 -6.234375 C 5.847656 -6.421875 5.476562 -6.554688 5.09375 -6.640625 C 4.707031 -6.734375 4.3125 -6.78125 3.90625 -6.78125 C 3.28125 -6.78125 2.8125 -6.6875 2.5 -6.5 C 2.1875 -6.3125 2.03125 -6.023438 2.03125 -5.640625 C 2.03125 -5.347656 2.140625 -5.117188 2.359375 -4.953125 C 2.585938 -4.785156 3.039062 -4.628906 3.71875 -4.484375 L 4.140625 -4.375 C 5.035156 -4.1875 5.671875 -3.914062 6.046875 -3.5625 C 6.421875 -3.21875 6.609375 -2.734375 6.609375 -2.109375 C 6.609375 -1.398438 6.328125 -0.835938 5.765625 -0.421875 C 5.203125 -0.00390625 4.429688 0.203125 3.453125 0.203125 C 3.035156 0.203125 2.601562 0.160156 2.15625 0.078125 C 1.71875 -0.00390625 1.253906 -0.125 0.765625 -0.28125 L 0.765625 -1.578125 C 1.222656 -1.335938 1.675781 -1.15625 2.125 -1.03125 C 2.582031 -0.914062 3.03125 -0.859375 3.46875 -0.859375 C 4.0625 -0.859375 4.515625 -0.957031 4.828125 -1.15625 C 5.148438 -1.363281 5.3125 -1.648438 5.3125 -2.015625 C 5.3125 -2.359375 5.195312 -2.617188 4.96875 -2.796875 C 4.738281 -2.984375 4.234375 -3.160156 3.453125 -3.328125 L 3.015625 -3.4375 C 2.242188 -3.59375 1.679688 -3.84375 1.328125 -4.1875 C 0.984375 -4.53125 0.8125 -4.992188 0.8125 -5.578125 C 0.8125 -6.304688 1.066406 -6.863281 1.578125 -7.25 C 2.085938 -7.644531 2.8125 -7.84375 3.75 -7.84375 C 4.21875 -7.84375 4.65625 -7.804688 5.0625 -7.734375 C 5.476562 -7.671875 5.859375 -7.570312 6.203125 -7.4375 Z \"/>\n",
       "</symbol>\n",
       "<symbol overflow=\"visible\" id=\"glyph0-25\">\n",
       "<path style=\"stroke:none;\" d=\"M 0.46875 -10.203125 L 1.859375 -10.203125 L 4 -1.578125 L 6.140625 -10.203125 L 7.703125 -10.203125 L 9.84375 -1.578125 L 11.984375 -10.203125 L 13.390625 -10.203125 L 10.828125 0 L 9.078125 0 L 6.9375 -8.859375 L 4.765625 0 L 3.015625 0 Z \"/>\n",
       "</symbol>\n",
       "<symbol overflow=\"visible\" id=\"glyph0-26\">\n",
       "<path style=\"stroke:none;\" d=\"M 7.5 -9.875 L 7.5 -8.53125 C 6.96875 -8.78125 6.46875 -8.960938 6 -9.078125 C 5.539062 -9.203125 5.09375 -9.265625 4.65625 -9.265625 C 3.90625 -9.265625 3.328125 -9.117188 2.921875 -8.828125 C 2.515625 -8.535156 2.3125 -8.125 2.3125 -7.59375 C 2.3125 -7.132812 2.445312 -6.789062 2.71875 -6.5625 C 2.988281 -6.332031 3.503906 -6.148438 4.265625 -6.015625 L 5.09375 -5.84375 C 6.125 -5.644531 6.882812 -5.296875 7.375 -4.796875 C 7.863281 -4.304688 8.109375 -3.644531 8.109375 -2.8125 C 8.109375 -1.820312 7.773438 -1.070312 7.109375 -0.5625 C 6.453125 -0.0507812 5.484375 0.203125 4.203125 0.203125 C 3.710938 0.203125 3.195312 0.144531 2.65625 0.03125 C 2.113281 -0.0703125 1.550781 -0.234375 0.96875 -0.453125 L 0.96875 -1.875 C 1.53125 -1.5625 2.078125 -1.320312 2.609375 -1.15625 C 3.148438 -1 3.679688 -0.921875 4.203125 -0.921875 C 4.984375 -0.921875 5.585938 -1.078125 6.015625 -1.390625 C 6.453125 -1.703125 6.671875 -2.144531 6.671875 -2.71875 C 6.671875 -3.21875 6.515625 -3.609375 6.203125 -3.890625 C 5.898438 -4.171875 5.394531 -4.382812 4.6875 -4.53125 L 3.84375 -4.6875 C 2.8125 -4.894531 2.066406 -5.21875 1.609375 -5.65625 C 1.148438 -6.09375 0.921875 -6.703125 0.921875 -7.484375 C 0.921875 -8.378906 1.238281 -9.085938 1.875 -9.609375 C 2.507812 -10.128906 3.382812 -10.390625 4.5 -10.390625 C 4.976562 -10.390625 5.46875 -10.34375 5.96875 -10.25 C 6.46875 -10.164062 6.976562 -10.039062 7.5 -9.875 Z \"/>\n",
       "</symbol>\n",
       "<symbol overflow=\"visible\" id=\"glyph0-27\">\n",
       "<path style=\"stroke:none;\" d=\"M 7.6875 -4.625 L 7.6875 0 L 6.421875 0 L 6.421875 -4.578125 C 6.421875 -5.304688 6.28125 -5.847656 6 -6.203125 C 5.71875 -6.566406 5.296875 -6.75 4.734375 -6.75 C 4.054688 -6.75 3.519531 -6.53125 3.125 -6.09375 C 2.726562 -5.664062 2.53125 -5.078125 2.53125 -4.328125 L 2.53125 0 L 1.265625 0 L 1.265625 -10.640625 L 2.53125 -10.640625 L 2.53125 -6.46875 C 2.832031 -6.925781 3.1875 -7.269531 3.59375 -7.5 C 4.007812 -7.726562 4.484375 -7.84375 5.015625 -7.84375 C 5.890625 -7.84375 6.550781 -7.566406 7 -7.015625 C 7.457031 -6.472656 7.6875 -5.675781 7.6875 -4.625 Z \"/>\n",
       "</symbol>\n",
       "<symbol overflow=\"visible\" id=\"glyph0-28\">\n",
       "<path style=\"stroke:none;\" d=\"M 5.203125 -10.640625 L 5.203125 -9.59375 L 4 -9.59375 C 3.539062 -9.59375 3.222656 -9.5 3.046875 -9.3125 C 2.878906 -9.132812 2.796875 -8.804688 2.796875 -8.328125 L 2.796875 -7.65625 L 4.859375 -7.65625 L 4.859375 -6.671875 L 2.796875 -6.671875 L 2.796875 0 L 1.53125 0 L 1.53125 -6.671875 L 0.328125 -6.671875 L 0.328125 -7.65625 L 1.53125 -7.65625 L 1.53125 -8.1875 C 1.53125 -9.039062 1.726562 -9.660156 2.125 -10.046875 C 2.519531 -10.441406 3.144531 -10.640625 4 -10.640625 Z \"/>\n",
       "</symbol>\n",
       "<symbol overflow=\"visible\" id=\"glyph0-29\">\n",
       "<path style=\"stroke:none;\" d=\"M 1.375 -10.203125 L 3.4375 -10.203125 L 6.03125 -3.265625 L 8.65625 -10.203125 L 10.71875 -10.203125 L 10.71875 0 L 9.359375 0 L 9.359375 -8.96875 L 6.734375 -1.96875 L 5.34375 -1.96875 L 2.71875 -8.96875 L 2.71875 0 L 1.375 0 Z \"/>\n",
       "</symbol>\n",
       "<symbol overflow=\"visible\" id=\"glyph0-30\">\n",
       "<path style=\"stroke:none;\" d=\"M 5.515625 -9.265625 C 4.515625 -9.265625 3.71875 -8.890625 3.125 -8.140625 C 2.539062 -7.398438 2.25 -6.382812 2.25 -5.09375 C 2.25 -3.8125 2.539062 -2.796875 3.125 -2.046875 C 3.71875 -1.296875 4.515625 -0.921875 5.515625 -0.921875 C 6.515625 -0.921875 7.304688 -1.296875 7.890625 -2.046875 C 8.484375 -2.796875 8.78125 -3.8125 8.78125 -5.09375 C 8.78125 -6.382812 8.484375 -7.398438 7.890625 -8.140625 C 7.304688 -8.890625 6.515625 -9.265625 5.515625 -9.265625 Z M 5.515625 -10.390625 C 6.941406 -10.390625 8.082031 -9.910156 8.9375 -8.953125 C 9.800781 -7.992188 10.234375 -6.707031 10.234375 -5.09375 C 10.234375 -3.488281 9.800781 -2.203125 8.9375 -1.234375 C 8.082031 -0.273438 6.941406 0.203125 5.515625 0.203125 C 4.078125 0.203125 2.925781 -0.273438 2.0625 -1.234375 C 1.207031 -2.191406 0.78125 -3.476562 0.78125 -5.09375 C 0.78125 -6.707031 1.207031 -7.992188 2.0625 -8.953125 C 2.925781 -9.910156 4.078125 -10.390625 5.515625 -10.390625 Z \"/>\n",
       "</symbol>\n",
       "<symbol overflow=\"visible\" id=\"glyph0-31\">\n",
       "<path style=\"stroke:none;\" d=\"M 0.59375 -7.65625 L 1.84375 -7.65625 L 3.421875 -1.6875 L 4.984375 -7.65625 L 6.46875 -7.65625 L 8.046875 -1.6875 L 9.609375 -7.65625 L 10.859375 -7.65625 L 8.859375 0 L 7.375 0 L 5.734375 -6.28125 L 4.078125 0 L 2.59375 0 Z \"/>\n",
       "</symbol>\n",
       "<symbol overflow=\"visible\" id=\"glyph0-32\">\n",
       "<path style=\"stroke:none;\" d=\"M 4 0 L 0.109375 -10.203125 L 1.546875 -10.203125 L 4.78125 -1.609375 L 8.03125 -10.203125 L 9.46875 -10.203125 L 5.578125 0 Z \"/>\n",
       "</symbol>\n",
       "</g>\n",
       "</defs>\n",
       "<g id=\"surface138\">\n",
       "<rect x=\"0\" y=\"0\" width=\"600\" height=\"600\" style=\"fill:rgb(100%,100%,100%);fill-opacity:1;stroke:none;\"/>\n",
       "<path style=\"fill:none;stroke-width:1.863795;stroke-linecap:butt;stroke-linejoin:miter;stroke:rgb(26.666667%,26.666667%,26.666667%);stroke-opacity:1;stroke-miterlimit:10;\" d=\"M 580 300 L 497.988281 497.988281 \"/>\n",
       "<path style=\"fill:none;stroke-width:3.09;stroke-linecap:butt;stroke-linejoin:miter;stroke:rgb(26.666667%,26.666667%,26.666667%);stroke-opacity:1;stroke-miterlimit:10;\" d=\"M 580 300 L 300 580 \"/>\n",
       "<path style=\"fill:none;stroke-width:1.323018;stroke-linecap:butt;stroke-linejoin:miter;stroke:rgb(26.666667%,26.666667%,26.666667%);stroke-opacity:1;stroke-miterlimit:10;\" d=\"M 497.988281 497.988281 L 300 580 \"/>\n",
       "<path style=\"fill:none;stroke-width:3.93;stroke-linecap:butt;stroke-linejoin:miter;stroke:rgb(26.666667%,26.666667%,26.666667%);stroke-opacity:1;stroke-miterlimit:10;\" d=\"M 580 300 L 102.011719 497.988281 \"/>\n",
       "<path style=\"fill:none;stroke-width:2.684099;stroke-linecap:butt;stroke-linejoin:miter;stroke:rgb(26.666667%,26.666667%,26.666667%);stroke-opacity:1;stroke-miterlimit:10;\" d=\"M 497.988281 497.988281 L 102.011719 497.988281 \"/>\n",
       "<path style=\"fill:none;stroke-width:3.96;stroke-linecap:butt;stroke-linejoin:miter;stroke:rgb(26.666667%,26.666667%,26.666667%);stroke-opacity:1;stroke-miterlimit:10;\" d=\"M 300 580 L 102.011719 497.988281 \"/>\n",
       "<path style=\"fill:none;stroke-width:2.936214;stroke-linecap:butt;stroke-linejoin:miter;stroke:rgb(26.666667%,26.666667%,26.666667%);stroke-opacity:1;stroke-miterlimit:10;\" d=\"M 580 300 L 20 300 \"/>\n",
       "<path style=\"fill:none;stroke-width:1.205633;stroke-linecap:butt;stroke-linejoin:miter;stroke:rgb(26.666667%,26.666667%,26.666667%);stroke-opacity:1;stroke-miterlimit:10;\" d=\"M 497.988281 497.988281 L 20 300 \"/>\n",
       "<path style=\"fill:none;stroke-width:2.209078;stroke-linecap:butt;stroke-linejoin:miter;stroke:rgb(26.666667%,26.666667%,26.666667%);stroke-opacity:1;stroke-miterlimit:10;\" d=\"M 300 580 L 20 300 \"/>\n",
       "<path style=\"fill:none;stroke-width:3.746287;stroke-linecap:butt;stroke-linejoin:miter;stroke:rgb(26.666667%,26.666667%,26.666667%);stroke-opacity:1;stroke-miterlimit:10;\" d=\"M 102.011719 497.988281 L 20 300 \"/>\n",
       "<path style=\"fill:none;stroke-width:2.294554;stroke-linecap:butt;stroke-linejoin:miter;stroke:rgb(26.666667%,26.666667%,26.666667%);stroke-opacity:1;stroke-miterlimit:10;\" d=\"M 580 300 L 102.011719 102.011719 \"/>\n",
       "<path style=\"fill:none;stroke-width:0.690426;stroke-linecap:butt;stroke-linejoin:miter;stroke:rgb(26.666667%,26.666667%,26.666667%);stroke-opacity:1;stroke-miterlimit:10;\" d=\"M 497.988281 497.988281 L 102.011719 102.011719 \"/>\n",
       "<path style=\"fill:none;stroke-width:1.560159;stroke-linecap:butt;stroke-linejoin:miter;stroke:rgb(26.666667%,26.666667%,26.666667%);stroke-opacity:1;stroke-miterlimit:10;\" d=\"M 300 580 L 102.011719 102.011719 \"/>\n",
       "<path style=\"fill:none;stroke-width:3.155012;stroke-linecap:butt;stroke-linejoin:miter;stroke:rgb(26.666667%,26.666667%,26.666667%);stroke-opacity:1;stroke-miterlimit:10;\" d=\"M 102.011719 497.988281 L 102.011719 102.011719 \"/>\n",
       "<path style=\"fill:none;stroke-width:1.171875;stroke-linecap:butt;stroke-linejoin:miter;stroke:rgb(26.666667%,26.666667%,26.666667%);stroke-opacity:1;stroke-miterlimit:10;\" d=\"M 20 300 L 102.011719 102.011719 \"/>\n",
       "<path style=\"fill:none;stroke-width:2.037568;stroke-linecap:butt;stroke-linejoin:miter;stroke:rgb(26.666667%,26.666667%,26.666667%);stroke-opacity:1;stroke-miterlimit:10;\" d=\"M 580 300 L 300 20 \"/>\n",
       "<path style=\"fill:none;stroke-width:0.888971;stroke-linecap:butt;stroke-linejoin:miter;stroke:rgb(26.666667%,26.666667%,26.666667%);stroke-opacity:1;stroke-miterlimit:10;\" d=\"M 497.988281 497.988281 L 300 20 \"/>\n",
       "<path style=\"fill:none;stroke-width:1.516632;stroke-linecap:butt;stroke-linejoin:miter;stroke:rgb(26.666667%,26.666667%,26.666667%);stroke-opacity:1;stroke-miterlimit:10;\" d=\"M 300 580 L 300 20 \"/>\n",
       "<path style=\"fill:none;stroke-width:2.679972;stroke-linecap:butt;stroke-linejoin:miter;stroke:rgb(26.666667%,26.666667%,26.666667%);stroke-opacity:1;stroke-miterlimit:10;\" d=\"M 102.011719 497.988281 L 300 20 \"/>\n",
       "<path style=\"fill:none;stroke-width:1.182092;stroke-linecap:butt;stroke-linejoin:miter;stroke:rgb(26.666667%,26.666667%,26.666667%);stroke-opacity:1;stroke-miterlimit:10;\" d=\"M 20 300 L 300 20 \"/>\n",
       "<path style=\"fill:none;stroke-width:0.749144;stroke-linecap:butt;stroke-linejoin:miter;stroke:rgb(26.666667%,26.666667%,26.666667%);stroke-opacity:1;stroke-miterlimit:10;\" d=\"M 102.011719 102.011719 L 300 20 \"/>\n",
       "<path style=\"fill:none;stroke-width:2.169321;stroke-linecap:butt;stroke-linejoin:miter;stroke:rgb(26.666667%,26.666667%,26.666667%);stroke-opacity:1;stroke-miterlimit:10;\" d=\"M 580 300 L 497.988281 102.011719 \"/>\n",
       "<path style=\"fill:none;stroke-width:0.659883;stroke-linecap:butt;stroke-linejoin:miter;stroke:rgb(26.666667%,26.666667%,26.666667%);stroke-opacity:1;stroke-miterlimit:10;\" d=\"M 497.988281 497.988281 L 497.988281 102.011719 \"/>\n",
       "<path style=\"fill:none;stroke-width:1.462145;stroke-linecap:butt;stroke-linejoin:miter;stroke:rgb(26.666667%,26.666667%,26.666667%);stroke-opacity:1;stroke-miterlimit:10;\" d=\"M 300 580 L 497.988281 102.011719 \"/>\n",
       "<path style=\"fill:none;stroke-width:3.139916;stroke-linecap:butt;stroke-linejoin:miter;stroke:rgb(26.666667%,26.666667%,26.666667%);stroke-opacity:1;stroke-miterlimit:10;\" d=\"M 102.011719 497.988281 L 497.988281 102.011719 \"/>\n",
       "<path style=\"fill:none;stroke-width:1.171875;stroke-linecap:butt;stroke-linejoin:miter;stroke:rgb(26.666667%,26.666667%,26.666667%);stroke-opacity:1;stroke-miterlimit:10;\" d=\"M 20 300 L 497.988281 102.011719 \"/>\n",
       "<path style=\"fill:none;stroke-width:0.569661;stroke-linecap:butt;stroke-linejoin:miter;stroke:rgb(26.666667%,26.666667%,26.666667%);stroke-opacity:1;stroke-miterlimit:10;\" d=\"M 102.011719 102.011719 L 497.988281 102.011719 \"/>\n",
       "<path style=\"fill:none;stroke-width:0.715357;stroke-linecap:butt;stroke-linejoin:miter;stroke:rgb(26.666667%,26.666667%,26.666667%);stroke-opacity:1;stroke-miterlimit:10;\" d=\"M 300 20 L 497.988281 102.011719 \"/>\n",
       "<path style=\"fill-rule:nonzero;fill:rgb(100%,0%,0%);fill-opacity:1;stroke-width:1;stroke-linecap:butt;stroke-linejoin:miter;stroke:rgb(0%,0%,0%);stroke-opacity:1;stroke-miterlimit:10;\" d=\"M 590 300 C 590 305.523438 585.523438 310 580 310 C 574.476562 310 570 305.523438 570 300 C 570 294.476562 574.476562 290 580 290 C 585.523438 290 590 294.476562 590 300 \"/>\n",
       "<path style=\"fill-rule:nonzero;fill:rgb(100%,0%,0%);fill-opacity:1;stroke-width:1;stroke-linecap:butt;stroke-linejoin:miter;stroke:rgb(0%,0%,0%);stroke-opacity:1;stroke-miterlimit:10;\" d=\"M 507.988281 497.988281 C 507.988281 503.511719 503.511719 507.988281 497.988281 507.988281 C 492.46875 507.988281 487.988281 503.511719 487.988281 497.988281 C 487.988281 492.46875 492.46875 487.988281 497.988281 487.988281 C 503.511719 487.988281 507.988281 492.46875 507.988281 497.988281 \"/>\n",
       "<path style=\"fill-rule:nonzero;fill:rgb(100%,0%,0%);fill-opacity:1;stroke-width:1;stroke-linecap:butt;stroke-linejoin:miter;stroke:rgb(0%,0%,0%);stroke-opacity:1;stroke-miterlimit:10;\" d=\"M 310 580 C 310 585.523438 305.523438 590 300 590 C 294.476562 590 290 585.523438 290 580 C 290 574.476562 294.476562 570 300 570 C 305.523438 570 310 574.476562 310 580 \"/>\n",
       "<path style=\"fill-rule:nonzero;fill:rgb(100%,0%,0%);fill-opacity:1;stroke-width:1;stroke-linecap:butt;stroke-linejoin:miter;stroke:rgb(0%,0%,0%);stroke-opacity:1;stroke-miterlimit:10;\" d=\"M 112.011719 497.988281 C 112.011719 503.511719 107.53125 507.988281 102.011719 507.988281 C 96.488281 507.988281 92.011719 503.511719 92.011719 497.988281 C 92.011719 492.46875 96.488281 487.988281 102.011719 487.988281 C 107.53125 487.988281 112.011719 492.46875 112.011719 497.988281 \"/>\n",
       "<path style=\"fill-rule:nonzero;fill:rgb(100%,0%,0%);fill-opacity:1;stroke-width:1;stroke-linecap:butt;stroke-linejoin:miter;stroke:rgb(0%,0%,0%);stroke-opacity:1;stroke-miterlimit:10;\" d=\"M 30 300 C 30 305.523438 25.523438 310 20 310 C 14.476562 310 10 305.523438 10 300 C 10 294.476562 14.476562 290 20 290 C 25.523438 290 30 294.476562 30 300 \"/>\n",
       "<path style=\"fill-rule:nonzero;fill:rgb(100%,0%,0%);fill-opacity:1;stroke-width:1;stroke-linecap:butt;stroke-linejoin:miter;stroke:rgb(0%,0%,0%);stroke-opacity:1;stroke-miterlimit:10;\" d=\"M 112.011719 102.011719 C 112.011719 107.53125 107.53125 112.011719 102.011719 112.011719 C 96.488281 112.011719 92.011719 107.53125 92.011719 102.011719 C 92.011719 96.488281 96.488281 92.011719 102.011719 92.011719 C 107.53125 92.011719 112.011719 96.488281 112.011719 102.011719 \"/>\n",
       "<path style=\"fill-rule:nonzero;fill:rgb(100%,0%,0%);fill-opacity:1;stroke-width:1;stroke-linecap:butt;stroke-linejoin:miter;stroke:rgb(0%,0%,0%);stroke-opacity:1;stroke-miterlimit:10;\" d=\"M 310 20 C 310 25.523438 305.523438 30 300 30 C 294.476562 30 290 25.523438 290 20 C 290 14.476562 294.476562 10 300 10 C 305.523438 10 310 14.476562 310 20 \"/>\n",
       "<path style=\"fill-rule:nonzero;fill:rgb(100%,0%,0%);fill-opacity:1;stroke-width:1;stroke-linecap:butt;stroke-linejoin:miter;stroke:rgb(0%,0%,0%);stroke-opacity:1;stroke-miterlimit:10;\" d=\"M 507.988281 102.011719 C 507.988281 107.53125 503.511719 112.011719 497.988281 112.011719 C 492.46875 112.011719 487.988281 107.53125 487.988281 102.011719 C 487.988281 96.488281 492.46875 92.011719 497.988281 92.011719 C 503.511719 92.011719 507.988281 96.488281 507.988281 102.011719 \"/>\n",
       "<g style=\"fill:rgb(0%,0%,0%);fill-opacity:1;\">\n",
       "  <use xlink:href=\"#glyph0-1\" x=\"546.683594\" y=\"306.972656\"/>\n",
       "  <use xlink:href=\"#glyph0-2\" x=\"557.210938\" y=\"306.972656\"/>\n",
       "  <use xlink:href=\"#glyph0-3\" x=\"565.824219\" y=\"306.972656\"/>\n",
       "  <use xlink:href=\"#glyph0-4\" x=\"574.40332\" y=\"306.972656\"/>\n",
       "  <use xlink:href=\"#glyph0-2\" x=\"582.688477\" y=\"306.972656\"/>\n",
       "  <use xlink:href=\"#glyph0-5\" x=\"591.301758\" y=\"306.972656\"/>\n",
       "  <use xlink:href=\"#glyph0-6\" x=\"600.174805\" y=\"306.972656\"/>\n",
       "  <use xlink:href=\"#glyph0-7\" x=\"604.064453\" y=\"306.972656\"/>\n",
       "</g>\n",
       "<g style=\"fill:rgb(0%,0%,0%);fill-opacity:1;\">\n",
       "  <use xlink:href=\"#glyph0-8\" x=\"459.492188\" y=\"504.960938\"/>\n",
       "  <use xlink:href=\"#glyph0-9\" x=\"467.544922\" y=\"504.960938\"/>\n",
       "  <use xlink:href=\"#glyph0-2\" x=\"473.300781\" y=\"504.960938\"/>\n",
       "  <use xlink:href=\"#glyph0-2\" x=\"481.914062\" y=\"504.960938\"/>\n",
       "  <use xlink:href=\"#glyph0-6\" x=\"490.527344\" y=\"504.960938\"/>\n",
       "  <use xlink:href=\"#glyph0-10\" x=\"494.416992\" y=\"504.960938\"/>\n",
       "  <use xlink:href=\"#glyph0-11\" x=\"501.416992\" y=\"504.960938\"/>\n",
       "  <use xlink:href=\"#glyph0-2\" x=\"509.859375\" y=\"504.960938\"/>\n",
       "  <use xlink:href=\"#glyph0-3\" x=\"518.472656\" y=\"504.960938\"/>\n",
       "  <use xlink:href=\"#glyph0-12\" x=\"527.051758\" y=\"504.960938\"/>\n",
       "</g>\n",
       "<g style=\"fill:rgb(0%,0%,0%);fill-opacity:1;\">\n",
       "  <use xlink:href=\"#glyph0-13\" x=\"239.644531\" y=\"586.972656\"/>\n",
       "  <use xlink:href=\"#glyph0-14\" x=\"247.444336\" y=\"586.972656\"/>\n",
       "  <use xlink:href=\"#glyph0-15\" x=\"251.333984\" y=\"586.972656\"/>\n",
       "  <use xlink:href=\"#glyph0-15\" x=\"256.823242\" y=\"586.972656\"/>\n",
       "  <use xlink:href=\"#glyph0-6\" x=\"262.3125\" y=\"586.972656\"/>\n",
       "  <use xlink:href=\"#glyph0-2\" x=\"266.202148\" y=\"586.972656\"/>\n",
       "  <use xlink:href=\"#glyph0-10\" x=\"274.81543\" y=\"586.972656\"/>\n",
       "  <use xlink:href=\"#glyph0-16\" x=\"281.81543\" y=\"586.972656\"/>\n",
       "  <use xlink:href=\"#glyph0-17\" x=\"291.542969\" y=\"586.972656\"/>\n",
       "  <use xlink:href=\"#glyph0-18\" x=\"300.108398\" y=\"586.972656\"/>\n",
       "  <use xlink:href=\"#glyph0-5\" x=\"308.981445\" y=\"586.972656\"/>\n",
       "  <use xlink:href=\"#glyph0-19\" x=\"317.854492\" y=\"586.972656\"/>\n",
       "  <use xlink:href=\"#glyph0-10\" x=\"326.741211\" y=\"586.972656\"/>\n",
       "  <use xlink:href=\"#glyph0-20\" x=\"333.741211\" y=\"586.972656\"/>\n",
       "  <use xlink:href=\"#glyph0-17\" x=\"342.292969\" y=\"586.972656\"/>\n",
       "  <use xlink:href=\"#glyph0-21\" x=\"350.858398\" y=\"586.972656\"/>\n",
       "</g>\n",
       "<g style=\"fill:rgb(0%,0%,0%);fill-opacity:1;\">\n",
       "  <use xlink:href=\"#glyph0-22\" x=\"63.476562\" y=\"504.960938\"/>\n",
       "  <use xlink:href=\"#glyph0-14\" x=\"74.256836\" y=\"504.960938\"/>\n",
       "  <use xlink:href=\"#glyph0-23\" x=\"78.146484\" y=\"504.960938\"/>\n",
       "  <use xlink:href=\"#glyph0-12\" x=\"85.84375\" y=\"504.960938\"/>\n",
       "  <use xlink:href=\"#glyph0-24\" x=\"93.951172\" y=\"504.960938\"/>\n",
       "  <use xlink:href=\"#glyph0-10\" x=\"101.245117\" y=\"504.960938\"/>\n",
       "  <use xlink:href=\"#glyph0-11\" x=\"108.245117\" y=\"504.960938\"/>\n",
       "  <use xlink:href=\"#glyph0-3\" x=\"116.6875\" y=\"504.960938\"/>\n",
       "  <use xlink:href=\"#glyph0-24\" x=\"125.266602\" y=\"504.960938\"/>\n",
       "  <use xlink:href=\"#glyph0-24\" x=\"132.560547\" y=\"504.960938\"/>\n",
       "</g>\n",
       "<g style=\"fill:rgb(0%,0%,0%);fill-opacity:1;\">\n",
       "  <use xlink:href=\"#glyph0-25\" x=\"-45.375\" y=\"306.972656\"/>\n",
       "  <use xlink:href=\"#glyph0-2\" x=\"-31.532227\" y=\"306.972656\"/>\n",
       "  <use xlink:href=\"#glyph0-24\" x=\"-22.918945\" y=\"306.972656\"/>\n",
       "  <use xlink:href=\"#glyph0-15\" x=\"-15.625\" y=\"306.972656\"/>\n",
       "  <use xlink:href=\"#glyph0-10\" x=\"-10.135742\" y=\"306.972656\"/>\n",
       "  <use xlink:href=\"#glyph0-26\" x=\"-3.135742\" y=\"306.972656\"/>\n",
       "  <use xlink:href=\"#glyph0-27\" x=\"5.750977\" y=\"306.972656\"/>\n",
       "  <use xlink:href=\"#glyph0-17\" x=\"14.624023\" y=\"306.972656\"/>\n",
       "  <use xlink:href=\"#glyph0-9\" x=\"23.189453\" y=\"306.972656\"/>\n",
       "  <use xlink:href=\"#glyph0-2\" x=\"28.945312\" y=\"306.972656\"/>\n",
       "  <use xlink:href=\"#glyph0-10\" x=\"37.558594\" y=\"306.972656\"/>\n",
       "  <use xlink:href=\"#glyph0-11\" x=\"44.558594\" y=\"306.972656\"/>\n",
       "  <use xlink:href=\"#glyph0-2\" x=\"53.000977\" y=\"306.972656\"/>\n",
       "  <use xlink:href=\"#glyph0-3\" x=\"61.614258\" y=\"306.972656\"/>\n",
       "  <use xlink:href=\"#glyph0-12\" x=\"70.193359\" y=\"306.972656\"/>\n",
       "  <use xlink:href=\"#glyph0-24\" x=\"78.300781\" y=\"306.972656\"/>\n",
       "</g>\n",
       "<g style=\"fill:rgb(0%,0%,0%);fill-opacity:1;\">\n",
       "  <use xlink:href=\"#glyph0-16\" x=\"65.449219\" y=\"108.980469\"/>\n",
       "  <use xlink:href=\"#glyph0-14\" x=\"75.176758\" y=\"108.980469\"/>\n",
       "  <use xlink:href=\"#glyph0-28\" x=\"79.066406\" y=\"108.980469\"/>\n",
       "  <use xlink:href=\"#glyph0-6\" x=\"83.995117\" y=\"108.980469\"/>\n",
       "  <use xlink:href=\"#glyph0-2\" x=\"87.884766\" y=\"108.980469\"/>\n",
       "  <use xlink:href=\"#glyph0-10\" x=\"96.498047\" y=\"108.980469\"/>\n",
       "  <use xlink:href=\"#glyph0-11\" x=\"103.498047\" y=\"108.980469\"/>\n",
       "  <use xlink:href=\"#glyph0-2\" x=\"111.94043\" y=\"108.980469\"/>\n",
       "  <use xlink:href=\"#glyph0-3\" x=\"120.553711\" y=\"108.980469\"/>\n",
       "  <use xlink:href=\"#glyph0-12\" x=\"129.132812\" y=\"108.980469\"/>\n",
       "</g>\n",
       "<g style=\"fill:rgb(0%,0%,0%);fill-opacity:1;\">\n",
       "  <use xlink:href=\"#glyph0-29\" x=\"247.21875\" y=\"26.972656\"/>\n",
       "  <use xlink:href=\"#glyph0-15\" x=\"259.297852\" y=\"26.972656\"/>\n",
       "  <use xlink:href=\"#glyph0-10\" x=\"264.787109\" y=\"26.972656\"/>\n",
       "  <use xlink:href=\"#glyph0-16\" x=\"271.787109\" y=\"26.972656\"/>\n",
       "  <use xlink:href=\"#glyph0-17\" x=\"281.514648\" y=\"26.972656\"/>\n",
       "  <use xlink:href=\"#glyph0-24\" x=\"290.080078\" y=\"26.972656\"/>\n",
       "  <use xlink:href=\"#glyph0-2\" x=\"297.374023\" y=\"26.972656\"/>\n",
       "  <use xlink:href=\"#glyph0-10\" x=\"305.987305\" y=\"26.972656\"/>\n",
       "  <use xlink:href=\"#glyph0-30\" x=\"312.987305\" y=\"26.972656\"/>\n",
       "  <use xlink:href=\"#glyph0-21\" x=\"324.006836\" y=\"26.972656\"/>\n",
       "  <use xlink:href=\"#glyph0-27\" x=\"332.893555\" y=\"26.972656\"/>\n",
       "  <use xlink:href=\"#glyph0-14\" x=\"341.766602\" y=\"26.972656\"/>\n",
       "  <use xlink:href=\"#glyph0-9\" x=\"345.65625\" y=\"26.972656\"/>\n",
       "</g>\n",
       "<g style=\"fill:rgb(0%,0%,0%);fill-opacity:1;\">\n",
       "  <use xlink:href=\"#glyph0-26\" x=\"433.375\" y=\"108.980469\"/>\n",
       "  <use xlink:href=\"#glyph0-5\" x=\"442.261719\" y=\"108.980469\"/>\n",
       "  <use xlink:href=\"#glyph0-17\" x=\"451.134766\" y=\"108.980469\"/>\n",
       "  <use xlink:href=\"#glyph0-31\" x=\"459.700195\" y=\"108.980469\"/>\n",
       "  <use xlink:href=\"#glyph0-10\" x=\"471.150391\" y=\"108.980469\"/>\n",
       "  <use xlink:href=\"#glyph0-32\" x=\"478.150391\" y=\"108.980469\"/>\n",
       "  <use xlink:href=\"#glyph0-3\" x=\"487.727539\" y=\"108.980469\"/>\n",
       "  <use xlink:href=\"#glyph0-6\" x=\"496.306641\" y=\"108.980469\"/>\n",
       "  <use xlink:href=\"#glyph0-6\" x=\"500.196289\" y=\"108.980469\"/>\n",
       "  <use xlink:href=\"#glyph0-2\" x=\"504.085938\" y=\"108.980469\"/>\n",
       "  <use xlink:href=\"#glyph0-7\" x=\"512.699219\" y=\"108.980469\"/>\n",
       "  <use xlink:href=\"#glyph0-10\" x=\"520.984375\" y=\"108.980469\"/>\n",
       "  <use xlink:href=\"#glyph0-11\" x=\"527.984375\" y=\"108.980469\"/>\n",
       "  <use xlink:href=\"#glyph0-2\" x=\"536.426758\" y=\"108.980469\"/>\n",
       "  <use xlink:href=\"#glyph0-3\" x=\"545.040039\" y=\"108.980469\"/>\n",
       "  <use xlink:href=\"#glyph0-12\" x=\"553.619141\" y=\"108.980469\"/>\n",
       "</g>\n",
       "</g>\n",
       "</svg>\n"
      ],
      "text/plain": [
       "<igraph.drawing.Plot at 0x2b8ca437b810>"
      ]
     },
     "execution_count": 214,
     "metadata": {},
     "output_type": "execute_result"
    }
   ],
   "source": [
    "style = {}\n",
    "#style[\"edge_width\"] = [(4*(shiftDF.loc[comps[i][0],comps[i][1]]/maxx)) for i in range(len(comps))]\n",
    "style[\"edge_width\"] = [100*(mirshiftDF.loc[comps[i][0],comps[i][1]]) for i in range(len(comps))]\n",
    "style[\"layout\"] = layout\n",
    "plot(g,**style)"
   ]
  },
  {
   "cell_type": "code",
   "execution_count": null,
   "metadata": {
    "collapsed": true
   },
   "outputs": [],
   "source": []
  },
  {
   "cell_type": "code",
   "execution_count": null,
   "metadata": {
    "collapsed": true
   },
   "outputs": [],
   "source": []
  },
  {
   "cell_type": "code",
   "execution_count": null,
   "metadata": {
    "collapsed": true
   },
   "outputs": [],
   "source": []
  },
  {
   "cell_type": "code",
   "execution_count": null,
   "metadata": {
    "collapsed": true
   },
   "outputs": [],
   "source": []
  },
  {
   "cell_type": "code",
   "execution_count": 81,
   "metadata": {
    "collapsed": true
   },
   "outputs": [
    {
     "data": {
      "text/plain": [
       "['Dicks_Pass',\n",
       " 'Freel_Peak',\n",
       " 'Heavenly',\n",
       " 'Little_Round_Top',\n",
       " 'Mt_Rose_Ophir',\n",
       " 'Rifle_Peak',\n",
       " 'Snow_Valley_Peak',\n",
       " 'West_Shore_Peaks']"
      ]
     },
     "execution_count": 81,
     "metadata": {},
     "output_type": "execute_result"
    }
   ],
   "source": [
    "shiftDict.keys()"
   ]
  },
  {
   "cell_type": "code",
   "execution_count": 85,
   "metadata": {
    "collapsed": false
   },
   "outputs": [
    {
     "data": {
      "text/plain": [
       "Index([u'Dicks_Pass', u'Freel_Peak', u'Heavenly', u'Little_Round_Top',\n",
       "       u'Mt_Rose_Ophir', u'Rifle_Peak', u'Snow_Valley_Peak',\n",
       "       u'West_Shore_Peaks'],\n",
       "      dtype='object')"
      ]
     },
     "execution_count": 85,
     "metadata": {},
     "output_type": "execute_result"
    }
   ],
   "source": [
    "shiftDF.index"
   ]
  },
  {
   "cell_type": "code",
   "execution_count": 102,
   "metadata": {
    "collapsed": false
   },
   "outputs": [
    {
     "data": {
      "text/html": [
       "<div id=\"graph-774f8715-0ca5-4cbd-9c22-1d6eae1a5ad6\"></div>\n",
       "           <script type=\"text/javascript\">\n",
       "           require.config({baseUrl: '/',\n",
       "                             paths: {jgraph: ['nbextensions/jgraph.min', 'https://rawgit.com/patrickfuller/jgraph/master/js/build/jgraph.min']}});\n",
       "           require(['jgraph'], function () {\n",
       "               var $d = $('#graph-774f8715-0ca5-4cbd-9c22-1d6eae1a5ad6');\n",
       "               $d.width(600); $d.height(400);\n",
       "               $d.jgraph = jQuery.extend({}, jgraph);\n",
       "               $d.jgraph.create($d, {nodeSize: 2.000000,\n",
       "                                     edgeSize: 0.250000,\n",
       "                                     defaultNodeColor: '0x5bc0de',\n",
       "                                     defaultEdgeColor: '0xaaaaaa',\n",
       "                                     shader: 'basic',\n",
       "                                     z: 100,\n",
       "                                     runOptimization: true,\n",
       "                                     directed: true,\n",
       "                                     showSave: false});\n",
       "               $d.jgraph.draw({\n",
       "    \"edges\": [\n",
       "        { \"size\": 0.678, \"source\": \"Dicks_Pass\", \"target\": \"Freel_Peak\" },\n",
       "        { \"size\": 0.992, \"source\": \"Dicks_Pass\", \"target\": \"Heavenly\" },\n",
       "        { \"size\": 1.000, \"source\": \"Dicks_Pass\", \"target\": \"Little_Round_Top\" },\n",
       "        { \"size\": 1.000, \"source\": \"Dicks_Pass\", \"target\": \"Mt_Rose_Ophir\" },\n",
       "        { \"size\": 0.797, \"source\": \"Dicks_Pass\", \"target\": \"Rifle_Peak\" },\n",
       "        { \"size\": 0.793, \"source\": \"Dicks_Pass\", \"target\": \"Snow_Valley_Peak\" },\n",
       "        { \"size\": 0.946, \"source\": \"Dicks_Pass\", \"target\": \"West_Shore_Peaks\" },\n",
       "        { \"size\": 0.471, \"source\": \"Freel_Peak\", \"target\": \"Heavenly\" },\n",
       "        { \"size\": 0.334, \"source\": \"Freel_Peak\", \"target\": \"Little_Round_Top\" },\n",
       "        { \"size\": 0.224, \"source\": \"Freel_Peak\", \"target\": \"Mt_Rose_Ophir\" },\n",
       "        { \"size\": 0.174, \"source\": \"Freel_Peak\", \"target\": \"Rifle_Peak\" },\n",
       "        { \"size\": 0.167, \"source\": \"Freel_Peak\", \"target\": \"Snow_Valley_Peak\" },\n",
       "        { \"size\": 0.304, \"source\": \"Freel_Peak\", \"target\": \"West_Shore_Peaks\" },\n",
       "        { \"size\": 0.780, \"source\": \"Heavenly\", \"target\": \"Little_Round_Top\" },\n",
       "        { \"size\": 0.515, \"source\": \"Heavenly\", \"target\": \"Mt_Rose_Ophir\" },\n",
       "        { \"size\": 0.579, \"source\": \"Heavenly\", \"target\": \"Rifle_Peak\" },\n",
       "        { \"size\": 0.548, \"source\": \"Heavenly\", \"target\": \"Snow_Valley_Peak\" },\n",
       "        { \"size\": 0.741, \"source\": \"Heavenly\", \"target\": \"West_Shore_Peaks\" },\n",
       "        { \"size\": 0.383, \"source\": \"Little_Round_Top\", \"target\": \"Mt_Rose_Ophir\" },\n",
       "        { \"size\": 0.394, \"source\": \"Little_Round_Top\", \"target\": \"Rifle_Peak\" },\n",
       "        { \"size\": 0.369, \"source\": \"Little_Round_Top\", \"target\": \"Snow_Valley_Peak\" },\n",
       "        { \"size\": 0.558, \"source\": \"Little_Round_Top\", \"target\": \"West_Shore_Peaks\" },\n",
       "        { \"size\": 0.189, \"source\": \"Mt_Rose_Ophir\", \"target\": \"Rifle_Peak\" },\n",
       "        { \"size\": 0.181, \"source\": \"Mt_Rose_Ophir\", \"target\": \"Snow_Valley_Peak\" },\n",
       "        { \"size\": 0.299, \"source\": \"Mt_Rose_Ophir\", \"target\": \"West_Shore_Peaks\" },\n",
       "        { \"size\": 0.144, \"source\": \"Rifle_Peak\", \"target\": \"Snow_Valley_Peak\" },\n",
       "        { \"size\": 0.296, \"source\": \"Rifle_Peak\", \"target\": \"West_Shore_Peaks\" },\n",
       "        { \"size\": 0.296, \"source\": \"Snow_Valley_Peak\", \"target\": \"West_Shore_Peaks\" }\n",
       "    ],\n",
       "    \"nodes\": {\n",
       "        \"Dicks_Pass\": {},\n",
       "        \"Freel_Peak\": {},\n",
       "        \"Heavenly\": {},\n",
       "        \"Little_Round_Top\": {},\n",
       "        \"Mt_Rose_Ophir\": {},\n",
       "        \"Rifle_Peak\": {},\n",
       "        \"Snow_Valley_Peak\": {},\n",
       "        \"West_Shore_Peaks\": {}\n",
       "    }\n",
       "});\n",
       "\n",
       "               $d.resizable({\n",
       "                   aspectRatio: 600 / 400,\n",
       "                   resize: function (evt, ui) {\n",
       "                       $d.jgraph.renderer.setSize(ui.size.width,\n",
       "                                                  ui.size.height);\n",
       "                   }\n",
       "               });\n",
       "           });\n",
       "           </script>"
      ],
      "text/plain": [
       "<IPython.core.display.HTML object>"
      ]
     },
     "metadata": {},
     "output_type": "display_data"
    }
   ],
   "source": [
    "graph = {\n",
    "    'nodes': {\n",
    "        'Dicks_Pass': {},\n",
    "        'Freel_Peak': {},\n",
    "        'Heavenly': {},\n",
    "        'Little_Round_Top': {},\n",
    "        'Mt_Rose_Ophir': {},\n",
    "        'Rifle_Peak': {},\n",
    "        'Snow_Valley_Peak': {},\n",
    "        'West_Shore_Peaks': {},\n",
    "    },\n",
    "    'edges': [\n",
    "        {'source': 'Dicks_Pass', 'target': 'Freel_Peak', 'size': shiftDF.loc['Freel_Peak','Dicks_Pass']/maxx},\n",
    "        {'source': 'Dicks_Pass', 'target': 'Heavenly', 'size': shiftDF.loc['Heavenly','Dicks_Pass']/maxx},\n",
    "        {'source': 'Dicks_Pass', 'target': 'Little_Round_Top', 'size': shiftDF.loc['Little_Round_Top','Dicks_Pass']/maxx},\n",
    "        {'source': 'Dicks_Pass', 'target': 'Mt_Rose_Ophir', 'size': shiftDF.loc['Little_Round_Top','Dicks_Pass']/maxx},\n",
    "        {'source': 'Dicks_Pass', 'target': 'Rifle_Peak', 'size': shiftDF.loc['Rifle_Peak','Dicks_Pass']/maxx},\n",
    "        {'source': 'Dicks_Pass', 'target': 'Snow_Valley_Peak', 'size': shiftDF.loc['Snow_Valley_Peak','Dicks_Pass']/maxx},\n",
    "        {'source': 'Dicks_Pass', 'target': 'West_Shore_Peaks', 'size': shiftDF.loc['West_Shore_Peaks','Dicks_Pass']/maxx},\n",
    "        {'source': 'Freel_Peak', 'target': 'Heavenly', 'size': shiftDF.loc['Heavenly','Freel_Peak']/maxx},\n",
    "        {'source': 'Freel_Peak', 'target': 'Little_Round_Top', 'size': shiftDF.loc['Little_Round_Top','Freel_Peak']/maxx},\n",
    "        {'source': 'Freel_Peak', 'target': 'Mt_Rose_Ophir', 'size': shiftDF.loc['Mt_Rose_Ophir','Freel_Peak']/maxx},\n",
    "        {'source': 'Freel_Peak', 'target': 'Rifle_Peak', 'size': shiftDF.loc['Rifle_Peak','Freel_Peak']/maxx},\n",
    "        {'source': 'Freel_Peak', 'target': 'Snow_Valley_Peak', 'size': shiftDF.loc['Snow_Valley_Peak','Freel_Peak']/maxx},\n",
    "        {'source': 'Freel_Peak', 'target': 'West_Shore_Peaks', 'size': shiftDF.loc['West_Shore_Peaks','Freel_Peak']/maxx},\n",
    "        {'source': 'Heavenly', 'target': 'Little_Round_Top', 'size': shiftDF.loc['Little_Round_Top','Heavenly']/maxx},\n",
    "        {'source': 'Heavenly', 'target': 'Mt_Rose_Ophir', 'size': shiftDF.loc['Mt_Rose_Ophir','Heavenly']/maxx},\n",
    "        {'source': 'Heavenly', 'target': 'Rifle_Peak', 'size': shiftDF.loc['Rifle_Peak','Heavenly']/maxx},\n",
    "        {'source': 'Heavenly', 'target': 'Snow_Valley_Peak', 'size': shiftDF.loc['Snow_Valley_Peak','Heavenly']/maxx},\n",
    "        {'source': 'Heavenly', 'target': 'West_Shore_Peaks', 'size': shiftDF.loc['West_Shore_Peaks','Heavenly']/maxx},\n",
    "        {'source': 'Little_Round_Top', 'target': 'Mt_Rose_Ophir', 'size': shiftDF.loc['Mt_Rose_Ophir','Little_Round_Top']/maxx},\n",
    "        {'source': 'Little_Round_Top', 'target': 'Rifle_Peak', 'size': shiftDF.loc['Rifle_Peak','Little_Round_Top']/maxx},\n",
    "        {'source': 'Little_Round_Top', 'target': 'Snow_Valley_Peak', 'size': shiftDF.loc['Snow_Valley_Peak','Little_Round_Top']/maxx},\n",
    "        {'source': 'Little_Round_Top', 'target': 'West_Shore_Peaks', 'size': shiftDF.loc['West_Shore_Peaks','Little_Round_Top']/maxx},\n",
    "        {'source': 'Mt_Rose_Ophir', 'target': 'Rifle_Peak', 'size': shiftDF.loc['Rifle_Peak','Mt_Rose_Ophir']/maxx},\n",
    "        {'source': 'Mt_Rose_Ophir', 'target': 'Snow_Valley_Peak', 'size': shiftDF.loc['Snow_Valley_Peak','Mt_Rose_Ophir']/maxx},\n",
    "        {'source': 'Mt_Rose_Ophir', 'target': 'West_Shore_Peaks', 'size': shiftDF.loc['West_Shore_Peaks','Mt_Rose_Ophir']/maxx},\n",
    "        {'source': 'Rifle_Peak', 'target': 'Snow_Valley_Peak', 'size': shiftDF.loc['Snow_Valley_Peak','Rifle_Peak']/maxx},\n",
    "        {'source': 'Rifle_Peak', 'target': 'West_Shore_Peaks', 'size': shiftDF.loc['West_Shore_Peaks','Rifle_Peak']/maxx},\n",
    "        {'source': 'Snow_Valley_Peak', 'target': 'West_Shore_Peaks', 'size': shiftDF.loc['West_Shore_Peaks','Snow_Valley_Peak']/maxx},\n",
    "        \n",
    "    ]\n",
    "}\n",
    "\n",
    "jgraph.draw(graph)"
   ]
  },
  {
   "cell_type": "code",
   "execution_count": 100,
   "metadata": {
    "collapsed": false
   },
   "outputs": [
    {
     "ename": "AttributeError",
     "evalue": "'dict' object has no attribute 'layout'",
     "output_type": "error",
     "traceback": [
      "\u001b[1;31m---------------------------------------------------------------------------\u001b[0m",
      "\u001b[1;31mAttributeError\u001b[0m                            Traceback (most recent call last)",
      "\u001b[1;32m<ipython-input-100-6c88895bba18>\u001b[0m in \u001b[0;36m<module>\u001b[1;34m()\u001b[0m\n\u001b[1;32m----> 1\u001b[1;33m \u001b[0mlayout\u001b[0m \u001b[1;33m=\u001b[0m \u001b[0mgraph\u001b[0m\u001b[1;33m.\u001b[0m\u001b[0mlayout\u001b[0m\u001b[1;33m(\u001b[0m\u001b[1;34m\"circle\"\u001b[0m\u001b[1;33m)\u001b[0m\u001b[1;33m\u001b[0m\u001b[0m\n\u001b[0m\u001b[0;32m      2\u001b[0m \u001b[0mplot\u001b[0m\u001b[1;33m(\u001b[0m\u001b[0mgraph\u001b[0m\u001b[1;33m,\u001b[0m\u001b[0mlayout\u001b[0m\u001b[1;33m=\u001b[0m\u001b[0mlayout\u001b[0m\u001b[1;33m)\u001b[0m\u001b[1;33m\u001b[0m\u001b[0m\n",
      "\u001b[1;31mAttributeError\u001b[0m: 'dict' object has no attribute 'layout'"
     ]
    }
   ],
   "source": [
    "layout = graph.layout(\"circle\")\n",
    "plot(graph,layout=layout)"
   ]
  },
  {
   "cell_type": "code",
   "execution_count": 101,
   "metadata": {
    "collapsed": true
   },
   "outputs": [],
   "source": [
    "?jgraph"
   ]
  },
  {
   "cell_type": "code",
   "execution_count": null,
   "metadata": {
    "collapsed": true
   },
   "outputs": [],
   "source": []
  },
  {
   "cell_type": "code",
   "execution_count": null,
   "metadata": {
    "collapsed": true
   },
   "outputs": [],
   "source": []
  },
  {
   "cell_type": "markdown",
   "metadata": {},
   "source": [
    "# old way of calculating covariance using random snps"
   ]
  },
  {
   "cell_type": "code",
   "execution_count": null,
   "metadata": {
    "collapsed": true
   },
   "outputs": [],
   "source": [
    "#this section was done before using H_exp (above)\n",
    "#the folders here were moved from /covariances to /covariances_unweighted_allele_freqs"
   ]
  },
  {
   "cell_type": "code",
   "execution_count": 131,
   "metadata": {
    "collapsed": false
   },
   "outputs": [
    {
     "name": "stdout",
     "output_type": "stream",
     "text": [
      "10\n",
      "20\n",
      "30\n",
      "40\n",
      "50\n",
      "60\n",
      "70\n",
      "80\n",
      "90\n",
      "100\n",
      "110\n"
     ]
    }
   ],
   "source": [
    "#do pairwise to get D\n",
    "dDict = OrderedDict()\n",
    "icount = 0\n",
    "for i,locusi in enumerate(outliersnps):\n",
    "    dDict[locusi] = OrderedDict()\n",
    "    for j,locusj in enumerate(outliersnps):\n",
    "        if i > j: #i=row, j=col : lower triangle\n",
    "            asums = 0\n",
    "            bsums = 0\n",
    "            csums = 0\n",
    "            for pop in impMAF.columns:\n",
    "                p_i = impMAF.loc[locusi,pop]\n",
    "                p_j = impMAF.loc[locusj,pop]\n",
    "\n",
    "                #calc \"a\"\n",
    "                product = p_i*p_j\n",
    "                asums = asums + product\n",
    "\n",
    "                #calc \"b\"\n",
    "                bsums = bsums + p_i\n",
    "\n",
    "                #calc \"c\" \n",
    "                csums = csums + p_j\n",
    "\n",
    "            a = asums/len(impMAF.columns)\n",
    "            b = bsums/len(impMAF.columns)\n",
    "            c = csums/len(impMAF.columns)\n",
    "\n",
    "            d = a - (b*c)\n",
    "            dDict[locusi][locusj] = d\n",
    "        else:\n",
    "            dDict[locusi][locusj] = np.nan\n",
    "    icount += 1\n",
    "    if icount % 10 == 0:\n",
    "        print icount"
   ]
  },
  {
   "cell_type": "code",
   "execution_count": 132,
   "metadata": {
    "collapsed": true
   },
   "outputs": [],
   "source": [
    "#write out the file\n",
    "rowcount = 0\n",
    "filE = '/home/lindb/wbp/OutFLANK/covariances/dvals/imputed_dvals.txt'\n",
    "if not os.path.exists(os.path.dirname(filE)):\n",
    "    os.makedirs(os.path.dirname(filE))\n",
    "with open(filE,'w') as o:\n",
    "    key0 = dDict.keys()[0]\n",
    "    line = '\\t'.join(dDict[key0].keys()) + str('\\n')\n",
    "    o.write(\"%s\" % line)\n",
    "    for locusi in dDict.keys():\n",
    "        line = str(locusi)+'\\t'+'\\t'.join([str(x) for x in dDict[locusi].values()]) + str('\\n')\n",
    "        o.write(\"%s\" % line)"
   ]
  },
  {
   "cell_type": "code",
   "execution_count": 133,
   "metadata": {
    "collapsed": false
   },
   "outputs": [
    {
     "data": {
      "text/html": [
       "<div>\n",
       "<table border=\"1\" class=\"dataframe\">\n",
       "  <thead>\n",
       "    <tr style=\"text-align: right;\">\n",
       "      <th></th>\n",
       "      <th>NODE_1001690_length_90_cov_2.000000_37</th>\n",
       "      <th>NODE_1012475_length_88_cov_1.022727_43</th>\n",
       "      <th>NODE_1025193_length_75_cov_1.093333_47</th>\n",
       "      <th>NODE_1030410_length_81_cov_1.259259_40</th>\n",
       "      <th>NODE_1038234_length_92_cov_1.000000_53</th>\n",
       "      <th>NODE_1063087_length_97_cov_1.639175_100</th>\n",
       "      <th>NODE_107570_length_80_cov_1.350000_43</th>\n",
       "      <th>NODE_1082793_length_76_cov_1.026316_38</th>\n",
       "      <th>NODE_1090835_length_51_cov_1.921569_62</th>\n",
       "      <th>NODE_1092275_length_98_cov_3.897959_107</th>\n",
       "      <th>...</th>\n",
       "      <th>NODE_861529_length_116_cov_1.318966_103</th>\n",
       "      <th>NODE_866842_length_48_cov_1.229167_34</th>\n",
       "      <th>NODE_880604_length_66_cov_1.363636_44</th>\n",
       "      <th>NODE_893311_length_93_cov_2.000000_109</th>\n",
       "      <th>NODE_897315_length_77_cov_1.337662_38</th>\n",
       "      <th>NODE_904862_length_47_cov_1.382979_41</th>\n",
       "      <th>NODE_923338_length_97_cov_3.154639_15</th>\n",
       "      <th>NODE_983665_length_98_cov_2.000000_96</th>\n",
       "      <th>NODE_987313_length_98_cov_4.653061_59</th>\n",
       "      <th>NODE_988447_length_96_cov_2.697917_32</th>\n",
       "    </tr>\n",
       "  </thead>\n",
       "  <tbody>\n",
       "    <tr>\n",
       "      <th>NODE_1001690_length_90_cov_2.000000_37</th>\n",
       "      <td>NaN</td>\n",
       "      <td>NaN</td>\n",
       "      <td>NaN</td>\n",
       "      <td>NaN</td>\n",
       "      <td>NaN</td>\n",
       "      <td>NaN</td>\n",
       "      <td>NaN</td>\n",
       "      <td>NaN</td>\n",
       "      <td>NaN</td>\n",
       "      <td>NaN</td>\n",
       "      <td>...</td>\n",
       "      <td>NaN</td>\n",
       "      <td>NaN</td>\n",
       "      <td>NaN</td>\n",
       "      <td>NaN</td>\n",
       "      <td>NaN</td>\n",
       "      <td>NaN</td>\n",
       "      <td>NaN</td>\n",
       "      <td>NaN</td>\n",
       "      <td>NaN</td>\n",
       "      <td>NaN</td>\n",
       "    </tr>\n",
       "    <tr>\n",
       "      <th>NODE_1012475_length_88_cov_1.022727_43</th>\n",
       "      <td>0.004050</td>\n",
       "      <td>NaN</td>\n",
       "      <td>NaN</td>\n",
       "      <td>NaN</td>\n",
       "      <td>NaN</td>\n",
       "      <td>NaN</td>\n",
       "      <td>NaN</td>\n",
       "      <td>NaN</td>\n",
       "      <td>NaN</td>\n",
       "      <td>NaN</td>\n",
       "      <td>...</td>\n",
       "      <td>NaN</td>\n",
       "      <td>NaN</td>\n",
       "      <td>NaN</td>\n",
       "      <td>NaN</td>\n",
       "      <td>NaN</td>\n",
       "      <td>NaN</td>\n",
       "      <td>NaN</td>\n",
       "      <td>NaN</td>\n",
       "      <td>NaN</td>\n",
       "      <td>NaN</td>\n",
       "    </tr>\n",
       "    <tr>\n",
       "      <th>NODE_1025193_length_75_cov_1.093333_47</th>\n",
       "      <td>0.000404</td>\n",
       "      <td>0.004778</td>\n",
       "      <td>NaN</td>\n",
       "      <td>NaN</td>\n",
       "      <td>NaN</td>\n",
       "      <td>NaN</td>\n",
       "      <td>NaN</td>\n",
       "      <td>NaN</td>\n",
       "      <td>NaN</td>\n",
       "      <td>NaN</td>\n",
       "      <td>...</td>\n",
       "      <td>NaN</td>\n",
       "      <td>NaN</td>\n",
       "      <td>NaN</td>\n",
       "      <td>NaN</td>\n",
       "      <td>NaN</td>\n",
       "      <td>NaN</td>\n",
       "      <td>NaN</td>\n",
       "      <td>NaN</td>\n",
       "      <td>NaN</td>\n",
       "      <td>NaN</td>\n",
       "    </tr>\n",
       "    <tr>\n",
       "      <th>NODE_1030410_length_81_cov_1.259259_40</th>\n",
       "      <td>0.003925</td>\n",
       "      <td>0.016184</td>\n",
       "      <td>0.005641</td>\n",
       "      <td>NaN</td>\n",
       "      <td>NaN</td>\n",
       "      <td>NaN</td>\n",
       "      <td>NaN</td>\n",
       "      <td>NaN</td>\n",
       "      <td>NaN</td>\n",
       "      <td>NaN</td>\n",
       "      <td>...</td>\n",
       "      <td>NaN</td>\n",
       "      <td>NaN</td>\n",
       "      <td>NaN</td>\n",
       "      <td>NaN</td>\n",
       "      <td>NaN</td>\n",
       "      <td>NaN</td>\n",
       "      <td>NaN</td>\n",
       "      <td>NaN</td>\n",
       "      <td>NaN</td>\n",
       "      <td>NaN</td>\n",
       "    </tr>\n",
       "    <tr>\n",
       "      <th>NODE_1038234_length_92_cov_1.000000_53</th>\n",
       "      <td>0.004630</td>\n",
       "      <td>0.010943</td>\n",
       "      <td>0.003383</td>\n",
       "      <td>0.014627</td>\n",
       "      <td>NaN</td>\n",
       "      <td>NaN</td>\n",
       "      <td>NaN</td>\n",
       "      <td>NaN</td>\n",
       "      <td>NaN</td>\n",
       "      <td>NaN</td>\n",
       "      <td>...</td>\n",
       "      <td>NaN</td>\n",
       "      <td>NaN</td>\n",
       "      <td>NaN</td>\n",
       "      <td>NaN</td>\n",
       "      <td>NaN</td>\n",
       "      <td>NaN</td>\n",
       "      <td>NaN</td>\n",
       "      <td>NaN</td>\n",
       "      <td>NaN</td>\n",
       "      <td>NaN</td>\n",
       "    </tr>\n",
       "  </tbody>\n",
       "</table>\n",
       "<p>5 rows × 110 columns</p>\n",
       "</div>"
      ],
      "text/plain": [
       "                                        NODE_1001690_length_90_cov_2.000000_37  \\\n",
       "NODE_1001690_length_90_cov_2.000000_37                                     NaN   \n",
       "NODE_1012475_length_88_cov_1.022727_43                                0.004050   \n",
       "NODE_1025193_length_75_cov_1.093333_47                                0.000404   \n",
       "NODE_1030410_length_81_cov_1.259259_40                                0.003925   \n",
       "NODE_1038234_length_92_cov_1.000000_53                                0.004630   \n",
       "\n",
       "                                        NODE_1012475_length_88_cov_1.022727_43  \\\n",
       "NODE_1001690_length_90_cov_2.000000_37                                     NaN   \n",
       "NODE_1012475_length_88_cov_1.022727_43                                     NaN   \n",
       "NODE_1025193_length_75_cov_1.093333_47                                0.004778   \n",
       "NODE_1030410_length_81_cov_1.259259_40                                0.016184   \n",
       "NODE_1038234_length_92_cov_1.000000_53                                0.010943   \n",
       "\n",
       "                                        NODE_1025193_length_75_cov_1.093333_47  \\\n",
       "NODE_1001690_length_90_cov_2.000000_37                                     NaN   \n",
       "NODE_1012475_length_88_cov_1.022727_43                                     NaN   \n",
       "NODE_1025193_length_75_cov_1.093333_47                                     NaN   \n",
       "NODE_1030410_length_81_cov_1.259259_40                                0.005641   \n",
       "NODE_1038234_length_92_cov_1.000000_53                                0.003383   \n",
       "\n",
       "                                        NODE_1030410_length_81_cov_1.259259_40  \\\n",
       "NODE_1001690_length_90_cov_2.000000_37                                     NaN   \n",
       "NODE_1012475_length_88_cov_1.022727_43                                     NaN   \n",
       "NODE_1025193_length_75_cov_1.093333_47                                     NaN   \n",
       "NODE_1030410_length_81_cov_1.259259_40                                     NaN   \n",
       "NODE_1038234_length_92_cov_1.000000_53                                0.014627   \n",
       "\n",
       "                                        NODE_1038234_length_92_cov_1.000000_53  \\\n",
       "NODE_1001690_length_90_cov_2.000000_37                                     NaN   \n",
       "NODE_1012475_length_88_cov_1.022727_43                                     NaN   \n",
       "NODE_1025193_length_75_cov_1.093333_47                                     NaN   \n",
       "NODE_1030410_length_81_cov_1.259259_40                                     NaN   \n",
       "NODE_1038234_length_92_cov_1.000000_53                                     NaN   \n",
       "\n",
       "                                        NODE_1063087_length_97_cov_1.639175_100  \\\n",
       "NODE_1001690_length_90_cov_2.000000_37                                      NaN   \n",
       "NODE_1012475_length_88_cov_1.022727_43                                      NaN   \n",
       "NODE_1025193_length_75_cov_1.093333_47                                      NaN   \n",
       "NODE_1030410_length_81_cov_1.259259_40                                      NaN   \n",
       "NODE_1038234_length_92_cov_1.000000_53                                      NaN   \n",
       "\n",
       "                                        NODE_107570_length_80_cov_1.350000_43  \\\n",
       "NODE_1001690_length_90_cov_2.000000_37                                    NaN   \n",
       "NODE_1012475_length_88_cov_1.022727_43                                    NaN   \n",
       "NODE_1025193_length_75_cov_1.093333_47                                    NaN   \n",
       "NODE_1030410_length_81_cov_1.259259_40                                    NaN   \n",
       "NODE_1038234_length_92_cov_1.000000_53                                    NaN   \n",
       "\n",
       "                                        NODE_1082793_length_76_cov_1.026316_38  \\\n",
       "NODE_1001690_length_90_cov_2.000000_37                                     NaN   \n",
       "NODE_1012475_length_88_cov_1.022727_43                                     NaN   \n",
       "NODE_1025193_length_75_cov_1.093333_47                                     NaN   \n",
       "NODE_1030410_length_81_cov_1.259259_40                                     NaN   \n",
       "NODE_1038234_length_92_cov_1.000000_53                                     NaN   \n",
       "\n",
       "                                        NODE_1090835_length_51_cov_1.921569_62  \\\n",
       "NODE_1001690_length_90_cov_2.000000_37                                     NaN   \n",
       "NODE_1012475_length_88_cov_1.022727_43                                     NaN   \n",
       "NODE_1025193_length_75_cov_1.093333_47                                     NaN   \n",
       "NODE_1030410_length_81_cov_1.259259_40                                     NaN   \n",
       "NODE_1038234_length_92_cov_1.000000_53                                     NaN   \n",
       "\n",
       "                                        NODE_1092275_length_98_cov_3.897959_107  \\\n",
       "NODE_1001690_length_90_cov_2.000000_37                                      NaN   \n",
       "NODE_1012475_length_88_cov_1.022727_43                                      NaN   \n",
       "NODE_1025193_length_75_cov_1.093333_47                                      NaN   \n",
       "NODE_1030410_length_81_cov_1.259259_40                                      NaN   \n",
       "NODE_1038234_length_92_cov_1.000000_53                                      NaN   \n",
       "\n",
       "                                                        ...                    \\\n",
       "NODE_1001690_length_90_cov_2.000000_37                  ...                     \n",
       "NODE_1012475_length_88_cov_1.022727_43                  ...                     \n",
       "NODE_1025193_length_75_cov_1.093333_47                  ...                     \n",
       "NODE_1030410_length_81_cov_1.259259_40                  ...                     \n",
       "NODE_1038234_length_92_cov_1.000000_53                  ...                     \n",
       "\n",
       "                                        NODE_861529_length_116_cov_1.318966_103  \\\n",
       "NODE_1001690_length_90_cov_2.000000_37                                      NaN   \n",
       "NODE_1012475_length_88_cov_1.022727_43                                      NaN   \n",
       "NODE_1025193_length_75_cov_1.093333_47                                      NaN   \n",
       "NODE_1030410_length_81_cov_1.259259_40                                      NaN   \n",
       "NODE_1038234_length_92_cov_1.000000_53                                      NaN   \n",
       "\n",
       "                                        NODE_866842_length_48_cov_1.229167_34  \\\n",
       "NODE_1001690_length_90_cov_2.000000_37                                    NaN   \n",
       "NODE_1012475_length_88_cov_1.022727_43                                    NaN   \n",
       "NODE_1025193_length_75_cov_1.093333_47                                    NaN   \n",
       "NODE_1030410_length_81_cov_1.259259_40                                    NaN   \n",
       "NODE_1038234_length_92_cov_1.000000_53                                    NaN   \n",
       "\n",
       "                                        NODE_880604_length_66_cov_1.363636_44  \\\n",
       "NODE_1001690_length_90_cov_2.000000_37                                    NaN   \n",
       "NODE_1012475_length_88_cov_1.022727_43                                    NaN   \n",
       "NODE_1025193_length_75_cov_1.093333_47                                    NaN   \n",
       "NODE_1030410_length_81_cov_1.259259_40                                    NaN   \n",
       "NODE_1038234_length_92_cov_1.000000_53                                    NaN   \n",
       "\n",
       "                                        NODE_893311_length_93_cov_2.000000_109  \\\n",
       "NODE_1001690_length_90_cov_2.000000_37                                     NaN   \n",
       "NODE_1012475_length_88_cov_1.022727_43                                     NaN   \n",
       "NODE_1025193_length_75_cov_1.093333_47                                     NaN   \n",
       "NODE_1030410_length_81_cov_1.259259_40                                     NaN   \n",
       "NODE_1038234_length_92_cov_1.000000_53                                     NaN   \n",
       "\n",
       "                                        NODE_897315_length_77_cov_1.337662_38  \\\n",
       "NODE_1001690_length_90_cov_2.000000_37                                    NaN   \n",
       "NODE_1012475_length_88_cov_1.022727_43                                    NaN   \n",
       "NODE_1025193_length_75_cov_1.093333_47                                    NaN   \n",
       "NODE_1030410_length_81_cov_1.259259_40                                    NaN   \n",
       "NODE_1038234_length_92_cov_1.000000_53                                    NaN   \n",
       "\n",
       "                                        NODE_904862_length_47_cov_1.382979_41  \\\n",
       "NODE_1001690_length_90_cov_2.000000_37                                    NaN   \n",
       "NODE_1012475_length_88_cov_1.022727_43                                    NaN   \n",
       "NODE_1025193_length_75_cov_1.093333_47                                    NaN   \n",
       "NODE_1030410_length_81_cov_1.259259_40                                    NaN   \n",
       "NODE_1038234_length_92_cov_1.000000_53                                    NaN   \n",
       "\n",
       "                                        NODE_923338_length_97_cov_3.154639_15  \\\n",
       "NODE_1001690_length_90_cov_2.000000_37                                    NaN   \n",
       "NODE_1012475_length_88_cov_1.022727_43                                    NaN   \n",
       "NODE_1025193_length_75_cov_1.093333_47                                    NaN   \n",
       "NODE_1030410_length_81_cov_1.259259_40                                    NaN   \n",
       "NODE_1038234_length_92_cov_1.000000_53                                    NaN   \n",
       "\n",
       "                                        NODE_983665_length_98_cov_2.000000_96  \\\n",
       "NODE_1001690_length_90_cov_2.000000_37                                    NaN   \n",
       "NODE_1012475_length_88_cov_1.022727_43                                    NaN   \n",
       "NODE_1025193_length_75_cov_1.093333_47                                    NaN   \n",
       "NODE_1030410_length_81_cov_1.259259_40                                    NaN   \n",
       "NODE_1038234_length_92_cov_1.000000_53                                    NaN   \n",
       "\n",
       "                                        NODE_987313_length_98_cov_4.653061_59  \\\n",
       "NODE_1001690_length_90_cov_2.000000_37                                    NaN   \n",
       "NODE_1012475_length_88_cov_1.022727_43                                    NaN   \n",
       "NODE_1025193_length_75_cov_1.093333_47                                    NaN   \n",
       "NODE_1030410_length_81_cov_1.259259_40                                    NaN   \n",
       "NODE_1038234_length_92_cov_1.000000_53                                    NaN   \n",
       "\n",
       "                                        NODE_988447_length_96_cov_2.697917_32  \n",
       "NODE_1001690_length_90_cov_2.000000_37                                    NaN  \n",
       "NODE_1012475_length_88_cov_1.022727_43                                    NaN  \n",
       "NODE_1025193_length_75_cov_1.093333_47                                    NaN  \n",
       "NODE_1030410_length_81_cov_1.259259_40                                    NaN  \n",
       "NODE_1038234_length_92_cov_1.000000_53                                    NaN  \n",
       "\n",
       "[5 rows x 110 columns]"
      ]
     },
     "execution_count": 133,
     "metadata": {},
     "output_type": "execute_result"
    }
   ],
   "source": [
    "dvals = pd.read_csv(filE,header=0,index_col=0,sep=\"\\t\")\n",
    "dvals.head()"
   ]
  },
  {
   "cell_type": "code",
   "execution_count": 134,
   "metadata": {
    "collapsed": false
   },
   "outputs": [
    {
     "data": {
      "text/plain": [
       "116231"
      ]
     },
     "execution_count": 134,
     "metadata": {},
     "output_type": "execute_result"
    }
   ],
   "source": [
    "len(loci)"
   ]
  },
  {
   "cell_type": "code",
   "execution_count": 135,
   "metadata": {
    "collapsed": false
   },
   "outputs": [
    {
     "data": {
      "text/plain": [
       "116121"
      ]
     },
     "execution_count": 135,
     "metadata": {},
     "output_type": "execute_result"
    }
   ],
   "source": [
    "#get a list of snps not IDed as outliers\n",
    "bucket = set(loci) - set(outliersnps)\n",
    "len(bucket)"
   ]
  },
  {
   "cell_type": "code",
   "execution_count": 139,
   "metadata": {
    "collapsed": false
   },
   "outputs": [],
   "source": [
    "#get a list of snps not IDed as outliers\n",
    "filE = '/home/lindb/wbp/OutFLANK/covariances/drawbuckets/outflank_bucket.txt'\n",
    "snpbucket = pd.DataFrame([x for x in bucket])\n",
    "if not os.path.exists(os.path.dirname(filE)):\n",
    "    os.makedirs(os.path.dirname(filE))\n",
    "snpbucket.to_csv(filE,header=True,index=True,sep=\"\\t\")"
   ]
  },
  {
   "cell_type": "code",
   "execution_count": 151,
   "metadata": {
    "collapsed": false
   },
   "outputs": [],
   "source": [
    "snpbucket = [x for x in snpbucket[0].tolist()]"
   ]
  },
  {
   "cell_type": "code",
   "execution_count": 159,
   "metadata": {
    "collapsed": false
   },
   "outputs": [],
   "source": [
    "#make 1000 dataframes with a set of snps == 110 = len(outliersnps)\n",
    "for i in range(20):                                  #make 20 .py files\n",
    "    for j in range(50):                              #each .py file makes 50 matrices\n",
    "        snps = random.sample(snpbucket,len(outliersnps))           #select random snps\n",
    "\n",
    "        DIR = '/home/lindb/wbp/OutFLANK/covariances/randmatrices/randsnps'\n",
    "        if not os.path.exists(DIR):\n",
    "            os.makedirs(DIR)\n",
    "        filE = os.path.join(DIR,\"outflank_%s_%s_randsnps.txt\" % (str(i).zfill(2),str(j).zfill(2)))\n",
    "        df = pd.DataFrame(snps)\n",
    "        df.to_csv(filE,header=False,index=False,sep=\"\\t\")"
   ]
  },
  {
   "cell_type": "code",
   "execution_count": 156,
   "metadata": {
    "collapsed": false
   },
   "outputs": [
    {
     "data": {
      "text/html": [
       "<div>\n",
       "<table border=\"1\" class=\"dataframe\">\n",
       "  <thead>\n",
       "    <tr style=\"text-align: right;\">\n",
       "      <th></th>\n",
       "      <th>0</th>\n",
       "    </tr>\n",
       "  </thead>\n",
       "  <tbody>\n",
       "    <tr>\n",
       "      <th>0</th>\n",
       "      <td>NODE_1973495_length_96_cov_1.031250_116</td>\n",
       "    </tr>\n",
       "    <tr>\n",
       "      <th>1</th>\n",
       "      <td>NODE_1098008_length_94_cov_1.000000_99</td>\n",
       "    </tr>\n",
       "    <tr>\n",
       "      <th>2</th>\n",
       "      <td>NODE_1816274_length_94_cov_1.031915_84</td>\n",
       "    </tr>\n",
       "    <tr>\n",
       "      <th>3</th>\n",
       "      <td>NODE_739340_length_93_cov_2.881721_19</td>\n",
       "    </tr>\n",
       "    <tr>\n",
       "      <th>4</th>\n",
       "      <td>NODE_1585603_length_97_cov_2.000000_17</td>\n",
       "    </tr>\n",
       "  </tbody>\n",
       "</table>\n",
       "</div>"
      ],
      "text/plain": [
       "                                         0\n",
       "0  NODE_1973495_length_96_cov_1.031250_116\n",
       "1   NODE_1098008_length_94_cov_1.000000_99\n",
       "2   NODE_1816274_length_94_cov_1.031915_84\n",
       "3    NODE_739340_length_93_cov_2.881721_19\n",
       "4   NODE_1585603_length_97_cov_2.000000_17"
      ]
     },
     "execution_count": 156,
     "metadata": {},
     "output_type": "execute_result"
    }
   ],
   "source": [
    "df = pd.read_csv(filE,header=None,sep=\"\\t\")\n",
    "df.head()"
   ]
  },
  {
   "cell_type": "code",
   "execution_count": 157,
   "metadata": {
    "collapsed": false
   },
   "outputs": [
    {
     "data": {
      "text/plain": [
       "'/home/lindb/wbp/OutFLANK/covariances/randmatrices/outflank_19_49_randsnps.txt'"
      ]
     },
     "execution_count": 157,
     "metadata": {},
     "output_type": "execute_result"
    }
   ],
   "source": [
    "filE"
   ]
  },
  {
   "cell_type": "code",
   "execution_count": 160,
   "metadata": {
    "collapsed": true
   },
   "outputs": [],
   "source": [
    "#make .py files\n",
    "for i in range(20):\n",
    "    for j in range(50):\n",
    "        text = '''from __future__ import division\n",
    "import sys, os, time\n",
    "import pandas as pd\n",
    "import numpy as np\n",
    "import vcf\n",
    "import random\n",
    "from collections import OrderedDict\n",
    "from operator import itemgetter\n",
    "from collections import defaultdict\n",
    "import math\n",
    "import shutil\n",
    "\n",
    "filE= '/home/lindb/wbp/OutFLANK/covariances/randmatrices/randsnps/outflank_%s_%s_randsnps.txt'\n",
    "df = pd.read_csv(filE,header=None,sep=\"\\\\t\")\n",
    "snps = df[0].tolist()\n",
    "\n",
    "newdf = pd.read_csv('/home/lindb/wbp/OutFLANK/imputed_MAF.txt',header=0,index_col=0,sep=\"\\\\t\")\n",
    "\n",
    "icount = 0\n",
    "rDict = OrderedDict()\n",
    "for i,locusi in enumerate(snps):\n",
    "    rDict[locusi] = OrderedDict()\n",
    "    for j,locusj in enumerate(snps):\n",
    "        if i > j: #i=row, j=col : lower tri\n",
    "            asums = 0\n",
    "            bsums = 0\n",
    "            csums = 0\n",
    "            for pop in newdf.columns:\n",
    "                p_i = newdf.loc[locusi,pop]\n",
    "                p_j = newdf.loc[locusj,pop]\n",
    "                \n",
    "                #calc \"a\"\n",
    "                product = p_i*p_j\n",
    "                asums = asums + product\n",
    "                \n",
    "                #calc \"b\"\n",
    "                bsums = bsums + p_i\n",
    "                \n",
    "                #calc \"c\"\n",
    "                csums = csums + p_j\n",
    "            \n",
    "            a = asums/len(newdf.columns)\n",
    "            b = bsums/len(newdf.columns)\n",
    "            c = csums/len(newdf.columns)\n",
    "            \n",
    "            d = a - (b*c)\n",
    "            rDict[locusi][locusj] = d\n",
    "        else:\n",
    "            rDict[locusi][locusj] = np.nan\n",
    "    icount += 1\n",
    "    if icount %% 10 == 0:\n",
    "        print icount\n",
    "\n",
    "filE = '/home/lindb/wbp/OutFLANK/covariances/randmatrices/0outfiles/outflank_%s_%s_imputedDVALS.txt'\n",
    "DIR = os.path.dirname(filE)\n",
    "if not os.path.exists(DIR):\n",
    "    os.makedirs(DIR)\n",
    "with open(filE,'w') as o:\n",
    "    line = '\\\\t'.join(snps) + str('\\\\n')\n",
    "    o.write(\"%%s\" %% line)\n",
    "    for locusi in rDict.keys():\n",
    "        line = str(locusi) + '\\\\t' + '\\\\t'.join([str(x) for x in rDict[locusi].values()]) + str('\\\\n')\n",
    "        o.write(\"%%s\" %% line)\n",
    "    \n",
    "''' % (str(i).zfill(2),str(j).zfill(2), \n",
    "       str(i).zfill(2),str(j).zfill(2))\n",
    "        \n",
    "        filE = '/home/lindb/wbp/OutFLANK/covariances/randmatrices/0pyfiles/outflank_%s_%s_imputed.py' % (str(i).zfill(2),\n",
    "                                                                                                         str(j).zfill(2))\n",
    "        DIR = os.path.dirname(filE)\n",
    "        if not os.path.exists(DIR):\n",
    "            os.makedirs(DIR)\n",
    "        with open(filE,'w') as o:\n",
    "            o.write(text)\n",
    "        o.close()"
   ]
  },
  {
   "cell_type": "code",
   "execution_count": 174,
   "metadata": {
    "collapsed": false
   },
   "outputs": [
    {
     "data": {
      "text/plain": [
       "1000"
      ]
     },
     "execution_count": 174,
     "metadata": {},
     "output_type": "execute_result"
    }
   ],
   "source": [
    "DIR = '/home/lindb/wbp/OutFLANK/covariances/randmatrices/0pyfiles/'\n",
    "files = os.listdir(DIR)\n",
    "files = [os.path.join(DIR,f) for f in files]\n",
    "len(files)"
   ]
  },
  {
   "cell_type": "code",
   "execution_count": 167,
   "metadata": {
    "collapsed": false
   },
   "outputs": [
    {
     "data": {
      "text/plain": [
       "'outflank_00_00_imputed.py'"
      ]
     },
     "execution_count": 167,
     "metadata": {},
     "output_type": "execute_result"
    }
   ],
   "source": [
    "files[0]"
   ]
  },
  {
   "cell_type": "code",
   "execution_count": 177,
   "metadata": {
    "collapsed": true
   },
   "outputs": [],
   "source": [
    "#make <=198 sh files to include imputed py files too (my qsub limit is 200, I have 2 things going at the moment\n",
    "fcount =0\n",
    "shcount =0\n",
    "tcount =0\n",
    "newsh = True\n",
    "for f in sorted(files):\n",
    "    if newsh == True:\n",
    "        text = '''#!/bin/bash\n",
    "#$ -N run%s \n",
    "#$ -V\n",
    "#$ -j y\n",
    "#$ -cwd\n",
    "''' % str(shcount).zfill(3)\n",
    "    newtext = '''\n",
    "cd %s\n",
    "python %s\n",
    "''' % (os.path.dirname(f),os.path.basename(f))\n",
    "    text = text + newtext\n",
    "    \n",
    "    fcount += 1\n",
    "    tcount += 1\n",
    "    newsh = False\n",
    "    if (fcount == 6) or (tcount == 1000):\n",
    "        newsh = True\n",
    "        fcount =0\n",
    "        filE = '/home/lindb/wbp/OutFLANK/covariances/randmatrices/0runfiles/%s_run.sh' % str(shcount).zfill(3)\n",
    "        DIR = os.path.dirname(filE)\n",
    "        if not os.path.exists(DIR):\n",
    "            os.makedirs(DIR)\n",
    "        with open(filE,'w') as o:\n",
    "            o.write(text)\n",
    "        o.close()\n",
    "        \n",
    "        shcount += 1\n",
    "    if '%max-rad-input_00_00_imputed.py' in f:\n",
    "        print \"shcount\",shcount"
   ]
  },
  {
   "cell_type": "code",
   "execution_count": 176,
   "metadata": {
    "collapsed": false
   },
   "outputs": [
    {
     "data": {
      "text/plain": [
       "'/home/lindb/wbp/OutFLANK/covariances/randmatrices/0pyfiles'"
      ]
     },
     "execution_count": 176,
     "metadata": {},
     "output_type": "execute_result"
    }
   ],
   "source": [
    "os.path.dirname(f)"
   ]
  },
  {
   "cell_type": "code",
   "execution_count": 178,
   "metadata": {
    "collapsed": false
   },
   "outputs": [
    {
     "data": {
      "text/html": [
       "<div>\n",
       "<table border=\"1\" class=\"dataframe\">\n",
       "  <thead>\n",
       "    <tr style=\"text-align: right;\">\n",
       "      <th></th>\n",
       "      <th>NODE_336286_length_45_cov_1.666667_52</th>\n",
       "      <th>NODE_1957212_length_97_cov_1.000000_49</th>\n",
       "      <th>NODE_1571027_length_50_cov_2.040000_45</th>\n",
       "      <th>NODE_335241_length_95_cov_1.263158_95</th>\n",
       "      <th>NODE_880442_length_98_cov_2.091837_10</th>\n",
       "      <th>NODE_565875_length_81_cov_1.469136_90</th>\n",
       "      <th>NODE_1706578_length_90_cov_1.000000_86</th>\n",
       "      <th>NODE_1416161_length_90_cov_1.155556_103</th>\n",
       "      <th>NODE_1057474_length_98_cov_1.387755_125</th>\n",
       "      <th>NODE_810209_length_57_cov_1.298246_63</th>\n",
       "      <th>...</th>\n",
       "      <th>NODE_1031856_length_92_cov_3.967391_93</th>\n",
       "      <th>NODE_1858985_length_97_cov_3.597938_85</th>\n",
       "      <th>NODE_1765139_length_126_cov_2.095238_125</th>\n",
       "      <th>NODE_773369_length_46_cov_6.956522_54</th>\n",
       "      <th>NODE_691317_length_98_cov_1.602041_107</th>\n",
       "      <th>NODE_114676_length_92_cov_1.500000_32</th>\n",
       "      <th>NODE_1180737_length_80_cov_1.037500_52</th>\n",
       "      <th>NODE_944803_length_96_cov_1.000000_9</th>\n",
       "      <th>NODE_1347610_length_93_cov_1.000000_30</th>\n",
       "      <th>NODE_2007580_length_95_cov_1.000000_45</th>\n",
       "    </tr>\n",
       "  </thead>\n",
       "  <tbody>\n",
       "    <tr>\n",
       "      <th>NODE_336286_length_45_cov_1.666667_52</th>\n",
       "      <td>NaN</td>\n",
       "      <td>NaN</td>\n",
       "      <td>NaN</td>\n",
       "      <td>NaN</td>\n",
       "      <td>NaN</td>\n",
       "      <td>NaN</td>\n",
       "      <td>NaN</td>\n",
       "      <td>NaN</td>\n",
       "      <td>NaN</td>\n",
       "      <td>NaN</td>\n",
       "      <td>...</td>\n",
       "      <td>NaN</td>\n",
       "      <td>NaN</td>\n",
       "      <td>NaN</td>\n",
       "      <td>NaN</td>\n",
       "      <td>NaN</td>\n",
       "      <td>NaN</td>\n",
       "      <td>NaN</td>\n",
       "      <td>NaN</td>\n",
       "      <td>NaN</td>\n",
       "      <td>NaN</td>\n",
       "    </tr>\n",
       "    <tr>\n",
       "      <th>NODE_1957212_length_97_cov_1.000000_49</th>\n",
       "      <td>-0.000219</td>\n",
       "      <td>NaN</td>\n",
       "      <td>NaN</td>\n",
       "      <td>NaN</td>\n",
       "      <td>NaN</td>\n",
       "      <td>NaN</td>\n",
       "      <td>NaN</td>\n",
       "      <td>NaN</td>\n",
       "      <td>NaN</td>\n",
       "      <td>NaN</td>\n",
       "      <td>...</td>\n",
       "      <td>NaN</td>\n",
       "      <td>NaN</td>\n",
       "      <td>NaN</td>\n",
       "      <td>NaN</td>\n",
       "      <td>NaN</td>\n",
       "      <td>NaN</td>\n",
       "      <td>NaN</td>\n",
       "      <td>NaN</td>\n",
       "      <td>NaN</td>\n",
       "      <td>NaN</td>\n",
       "    </tr>\n",
       "    <tr>\n",
       "      <th>NODE_1571027_length_50_cov_2.040000_45</th>\n",
       "      <td>-0.000134</td>\n",
       "      <td>-0.000958</td>\n",
       "      <td>NaN</td>\n",
       "      <td>NaN</td>\n",
       "      <td>NaN</td>\n",
       "      <td>NaN</td>\n",
       "      <td>NaN</td>\n",
       "      <td>NaN</td>\n",
       "      <td>NaN</td>\n",
       "      <td>NaN</td>\n",
       "      <td>...</td>\n",
       "      <td>NaN</td>\n",
       "      <td>NaN</td>\n",
       "      <td>NaN</td>\n",
       "      <td>NaN</td>\n",
       "      <td>NaN</td>\n",
       "      <td>NaN</td>\n",
       "      <td>NaN</td>\n",
       "      <td>NaN</td>\n",
       "      <td>NaN</td>\n",
       "      <td>NaN</td>\n",
       "    </tr>\n",
       "    <tr>\n",
       "      <th>NODE_335241_length_95_cov_1.263158_95</th>\n",
       "      <td>0.000329</td>\n",
       "      <td>-0.000446</td>\n",
       "      <td>-0.000061</td>\n",
       "      <td>NaN</td>\n",
       "      <td>NaN</td>\n",
       "      <td>NaN</td>\n",
       "      <td>NaN</td>\n",
       "      <td>NaN</td>\n",
       "      <td>NaN</td>\n",
       "      <td>NaN</td>\n",
       "      <td>...</td>\n",
       "      <td>NaN</td>\n",
       "      <td>NaN</td>\n",
       "      <td>NaN</td>\n",
       "      <td>NaN</td>\n",
       "      <td>NaN</td>\n",
       "      <td>NaN</td>\n",
       "      <td>NaN</td>\n",
       "      <td>NaN</td>\n",
       "      <td>NaN</td>\n",
       "      <td>NaN</td>\n",
       "    </tr>\n",
       "    <tr>\n",
       "      <th>NODE_880442_length_98_cov_2.091837_10</th>\n",
       "      <td>0.000450</td>\n",
       "      <td>-0.000653</td>\n",
       "      <td>0.000630</td>\n",
       "      <td>0.000854</td>\n",
       "      <td>NaN</td>\n",
       "      <td>NaN</td>\n",
       "      <td>NaN</td>\n",
       "      <td>NaN</td>\n",
       "      <td>NaN</td>\n",
       "      <td>NaN</td>\n",
       "      <td>...</td>\n",
       "      <td>NaN</td>\n",
       "      <td>NaN</td>\n",
       "      <td>NaN</td>\n",
       "      <td>NaN</td>\n",
       "      <td>NaN</td>\n",
       "      <td>NaN</td>\n",
       "      <td>NaN</td>\n",
       "      <td>NaN</td>\n",
       "      <td>NaN</td>\n",
       "      <td>NaN</td>\n",
       "    </tr>\n",
       "  </tbody>\n",
       "</table>\n",
       "<p>5 rows × 110 columns</p>\n",
       "</div>"
      ],
      "text/plain": [
       "                                        NODE_336286_length_45_cov_1.666667_52  \\\n",
       "NODE_336286_length_45_cov_1.666667_52                                     NaN   \n",
       "NODE_1957212_length_97_cov_1.000000_49                              -0.000219   \n",
       "NODE_1571027_length_50_cov_2.040000_45                              -0.000134   \n",
       "NODE_335241_length_95_cov_1.263158_95                                0.000329   \n",
       "NODE_880442_length_98_cov_2.091837_10                                0.000450   \n",
       "\n",
       "                                        NODE_1957212_length_97_cov_1.000000_49  \\\n",
       "NODE_336286_length_45_cov_1.666667_52                                      NaN   \n",
       "NODE_1957212_length_97_cov_1.000000_49                                     NaN   \n",
       "NODE_1571027_length_50_cov_2.040000_45                               -0.000958   \n",
       "NODE_335241_length_95_cov_1.263158_95                                -0.000446   \n",
       "NODE_880442_length_98_cov_2.091837_10                                -0.000653   \n",
       "\n",
       "                                        NODE_1571027_length_50_cov_2.040000_45  \\\n",
       "NODE_336286_length_45_cov_1.666667_52                                      NaN   \n",
       "NODE_1957212_length_97_cov_1.000000_49                                     NaN   \n",
       "NODE_1571027_length_50_cov_2.040000_45                                     NaN   \n",
       "NODE_335241_length_95_cov_1.263158_95                                -0.000061   \n",
       "NODE_880442_length_98_cov_2.091837_10                                 0.000630   \n",
       "\n",
       "                                        NODE_335241_length_95_cov_1.263158_95  \\\n",
       "NODE_336286_length_45_cov_1.666667_52                                     NaN   \n",
       "NODE_1957212_length_97_cov_1.000000_49                                    NaN   \n",
       "NODE_1571027_length_50_cov_2.040000_45                                    NaN   \n",
       "NODE_335241_length_95_cov_1.263158_95                                     NaN   \n",
       "NODE_880442_length_98_cov_2.091837_10                                0.000854   \n",
       "\n",
       "                                        NODE_880442_length_98_cov_2.091837_10  \\\n",
       "NODE_336286_length_45_cov_1.666667_52                                     NaN   \n",
       "NODE_1957212_length_97_cov_1.000000_49                                    NaN   \n",
       "NODE_1571027_length_50_cov_2.040000_45                                    NaN   \n",
       "NODE_335241_length_95_cov_1.263158_95                                     NaN   \n",
       "NODE_880442_length_98_cov_2.091837_10                                     NaN   \n",
       "\n",
       "                                        NODE_565875_length_81_cov_1.469136_90  \\\n",
       "NODE_336286_length_45_cov_1.666667_52                                     NaN   \n",
       "NODE_1957212_length_97_cov_1.000000_49                                    NaN   \n",
       "NODE_1571027_length_50_cov_2.040000_45                                    NaN   \n",
       "NODE_335241_length_95_cov_1.263158_95                                     NaN   \n",
       "NODE_880442_length_98_cov_2.091837_10                                     NaN   \n",
       "\n",
       "                                        NODE_1706578_length_90_cov_1.000000_86  \\\n",
       "NODE_336286_length_45_cov_1.666667_52                                      NaN   \n",
       "NODE_1957212_length_97_cov_1.000000_49                                     NaN   \n",
       "NODE_1571027_length_50_cov_2.040000_45                                     NaN   \n",
       "NODE_335241_length_95_cov_1.263158_95                                      NaN   \n",
       "NODE_880442_length_98_cov_2.091837_10                                      NaN   \n",
       "\n",
       "                                        NODE_1416161_length_90_cov_1.155556_103  \\\n",
       "NODE_336286_length_45_cov_1.666667_52                                       NaN   \n",
       "NODE_1957212_length_97_cov_1.000000_49                                      NaN   \n",
       "NODE_1571027_length_50_cov_2.040000_45                                      NaN   \n",
       "NODE_335241_length_95_cov_1.263158_95                                       NaN   \n",
       "NODE_880442_length_98_cov_2.091837_10                                       NaN   \n",
       "\n",
       "                                        NODE_1057474_length_98_cov_1.387755_125  \\\n",
       "NODE_336286_length_45_cov_1.666667_52                                       NaN   \n",
       "NODE_1957212_length_97_cov_1.000000_49                                      NaN   \n",
       "NODE_1571027_length_50_cov_2.040000_45                                      NaN   \n",
       "NODE_335241_length_95_cov_1.263158_95                                       NaN   \n",
       "NODE_880442_length_98_cov_2.091837_10                                       NaN   \n",
       "\n",
       "                                        NODE_810209_length_57_cov_1.298246_63  \\\n",
       "NODE_336286_length_45_cov_1.666667_52                                     NaN   \n",
       "NODE_1957212_length_97_cov_1.000000_49                                    NaN   \n",
       "NODE_1571027_length_50_cov_2.040000_45                                    NaN   \n",
       "NODE_335241_length_95_cov_1.263158_95                                     NaN   \n",
       "NODE_880442_length_98_cov_2.091837_10                                     NaN   \n",
       "\n",
       "                                                         ...                    \\\n",
       "NODE_336286_length_45_cov_1.666667_52                    ...                     \n",
       "NODE_1957212_length_97_cov_1.000000_49                   ...                     \n",
       "NODE_1571027_length_50_cov_2.040000_45                   ...                     \n",
       "NODE_335241_length_95_cov_1.263158_95                    ...                     \n",
       "NODE_880442_length_98_cov_2.091837_10                    ...                     \n",
       "\n",
       "                                        NODE_1031856_length_92_cov_3.967391_93  \\\n",
       "NODE_336286_length_45_cov_1.666667_52                                      NaN   \n",
       "NODE_1957212_length_97_cov_1.000000_49                                     NaN   \n",
       "NODE_1571027_length_50_cov_2.040000_45                                     NaN   \n",
       "NODE_335241_length_95_cov_1.263158_95                                      NaN   \n",
       "NODE_880442_length_98_cov_2.091837_10                                      NaN   \n",
       "\n",
       "                                        NODE_1858985_length_97_cov_3.597938_85  \\\n",
       "NODE_336286_length_45_cov_1.666667_52                                      NaN   \n",
       "NODE_1957212_length_97_cov_1.000000_49                                     NaN   \n",
       "NODE_1571027_length_50_cov_2.040000_45                                     NaN   \n",
       "NODE_335241_length_95_cov_1.263158_95                                      NaN   \n",
       "NODE_880442_length_98_cov_2.091837_10                                      NaN   \n",
       "\n",
       "                                        NODE_1765139_length_126_cov_2.095238_125  \\\n",
       "NODE_336286_length_45_cov_1.666667_52                                        NaN   \n",
       "NODE_1957212_length_97_cov_1.000000_49                                       NaN   \n",
       "NODE_1571027_length_50_cov_2.040000_45                                       NaN   \n",
       "NODE_335241_length_95_cov_1.263158_95                                        NaN   \n",
       "NODE_880442_length_98_cov_2.091837_10                                        NaN   \n",
       "\n",
       "                                        NODE_773369_length_46_cov_6.956522_54  \\\n",
       "NODE_336286_length_45_cov_1.666667_52                                     NaN   \n",
       "NODE_1957212_length_97_cov_1.000000_49                                    NaN   \n",
       "NODE_1571027_length_50_cov_2.040000_45                                    NaN   \n",
       "NODE_335241_length_95_cov_1.263158_95                                     NaN   \n",
       "NODE_880442_length_98_cov_2.091837_10                                     NaN   \n",
       "\n",
       "                                        NODE_691317_length_98_cov_1.602041_107  \\\n",
       "NODE_336286_length_45_cov_1.666667_52                                      NaN   \n",
       "NODE_1957212_length_97_cov_1.000000_49                                     NaN   \n",
       "NODE_1571027_length_50_cov_2.040000_45                                     NaN   \n",
       "NODE_335241_length_95_cov_1.263158_95                                      NaN   \n",
       "NODE_880442_length_98_cov_2.091837_10                                      NaN   \n",
       "\n",
       "                                        NODE_114676_length_92_cov_1.500000_32  \\\n",
       "NODE_336286_length_45_cov_1.666667_52                                     NaN   \n",
       "NODE_1957212_length_97_cov_1.000000_49                                    NaN   \n",
       "NODE_1571027_length_50_cov_2.040000_45                                    NaN   \n",
       "NODE_335241_length_95_cov_1.263158_95                                     NaN   \n",
       "NODE_880442_length_98_cov_2.091837_10                                     NaN   \n",
       "\n",
       "                                        NODE_1180737_length_80_cov_1.037500_52  \\\n",
       "NODE_336286_length_45_cov_1.666667_52                                      NaN   \n",
       "NODE_1957212_length_97_cov_1.000000_49                                     NaN   \n",
       "NODE_1571027_length_50_cov_2.040000_45                                     NaN   \n",
       "NODE_335241_length_95_cov_1.263158_95                                      NaN   \n",
       "NODE_880442_length_98_cov_2.091837_10                                      NaN   \n",
       "\n",
       "                                        NODE_944803_length_96_cov_1.000000_9  \\\n",
       "NODE_336286_length_45_cov_1.666667_52                                    NaN   \n",
       "NODE_1957212_length_97_cov_1.000000_49                                   NaN   \n",
       "NODE_1571027_length_50_cov_2.040000_45                                   NaN   \n",
       "NODE_335241_length_95_cov_1.263158_95                                    NaN   \n",
       "NODE_880442_length_98_cov_2.091837_10                                    NaN   \n",
       "\n",
       "                                        NODE_1347610_length_93_cov_1.000000_30  \\\n",
       "NODE_336286_length_45_cov_1.666667_52                                      NaN   \n",
       "NODE_1957212_length_97_cov_1.000000_49                                     NaN   \n",
       "NODE_1571027_length_50_cov_2.040000_45                                     NaN   \n",
       "NODE_335241_length_95_cov_1.263158_95                                      NaN   \n",
       "NODE_880442_length_98_cov_2.091837_10                                      NaN   \n",
       "\n",
       "                                        NODE_2007580_length_95_cov_1.000000_45  \n",
       "NODE_336286_length_45_cov_1.666667_52                                      NaN  \n",
       "NODE_1957212_length_97_cov_1.000000_49                                     NaN  \n",
       "NODE_1571027_length_50_cov_2.040000_45                                     NaN  \n",
       "NODE_335241_length_95_cov_1.263158_95                                      NaN  \n",
       "NODE_880442_length_98_cov_2.091837_10                                      NaN  \n",
       "\n",
       "[5 rows x 110 columns]"
      ]
     },
     "execution_count": 178,
     "metadata": {},
     "output_type": "execute_result"
    }
   ],
   "source": [
    "#check one to make sure it worked\n",
    "df = pd.read_csv('/home/lindb/wbp/OutFLANK/covariances/randmatrices/0outfiles/outflank_18_46_imputedDVALS.txt',header=0,\n",
    "                index_col = 0, sep=\"\\t\")\n",
    "df.head()"
   ]
  },
  {
   "cell_type": "markdown",
   "metadata": {
    "collapsed": true
   },
   "source": [
    "# place observed median in distribution of medians made from random SNPs"
   ]
  },
  {
   "cell_type": "code",
   "execution_count": 290,
   "metadata": {
    "collapsed": false
   },
   "outputs": [
    {
     "data": {
      "text/html": [
       "<div>\n",
       "<table border=\"1\" class=\"dataframe\">\n",
       "  <thead>\n",
       "    <tr style=\"text-align: right;\">\n",
       "      <th></th>\n",
       "      <th>NODE_1001690_length_90_cov_2.000000_37</th>\n",
       "      <th>NODE_1012475_length_88_cov_1.022727_43</th>\n",
       "      <th>NODE_1025193_length_75_cov_1.093333_47</th>\n",
       "      <th>NODE_1030410_length_81_cov_1.259259_40</th>\n",
       "      <th>NODE_1038234_length_92_cov_1.000000_53</th>\n",
       "      <th>NODE_1063087_length_97_cov_1.639175_100</th>\n",
       "      <th>NODE_107570_length_80_cov_1.350000_43</th>\n",
       "      <th>NODE_1082793_length_76_cov_1.026316_38</th>\n",
       "      <th>NODE_1090835_length_51_cov_1.921569_62</th>\n",
       "      <th>NODE_1092275_length_98_cov_3.897959_107</th>\n",
       "      <th>...</th>\n",
       "      <th>NODE_861529_length_116_cov_1.318966_103</th>\n",
       "      <th>NODE_866842_length_48_cov_1.229167_34</th>\n",
       "      <th>NODE_880604_length_66_cov_1.363636_44</th>\n",
       "      <th>NODE_893311_length_93_cov_2.000000_109</th>\n",
       "      <th>NODE_897315_length_77_cov_1.337662_38</th>\n",
       "      <th>NODE_904862_length_47_cov_1.382979_41</th>\n",
       "      <th>NODE_923338_length_97_cov_3.154639_15</th>\n",
       "      <th>NODE_983665_length_98_cov_2.000000_96</th>\n",
       "      <th>NODE_987313_length_98_cov_4.653061_59</th>\n",
       "      <th>NODE_988447_length_96_cov_2.697917_32</th>\n",
       "    </tr>\n",
       "  </thead>\n",
       "  <tbody>\n",
       "    <tr>\n",
       "      <th>NODE_1001690_length_90_cov_2.000000_37</th>\n",
       "      <td>NaN</td>\n",
       "      <td>NaN</td>\n",
       "      <td>NaN</td>\n",
       "      <td>NaN</td>\n",
       "      <td>NaN</td>\n",
       "      <td>NaN</td>\n",
       "      <td>NaN</td>\n",
       "      <td>NaN</td>\n",
       "      <td>NaN</td>\n",
       "      <td>NaN</td>\n",
       "      <td>...</td>\n",
       "      <td>NaN</td>\n",
       "      <td>NaN</td>\n",
       "      <td>NaN</td>\n",
       "      <td>NaN</td>\n",
       "      <td>NaN</td>\n",
       "      <td>NaN</td>\n",
       "      <td>NaN</td>\n",
       "      <td>NaN</td>\n",
       "      <td>NaN</td>\n",
       "      <td>NaN</td>\n",
       "    </tr>\n",
       "    <tr>\n",
       "      <th>NODE_1012475_length_88_cov_1.022727_43</th>\n",
       "      <td>0.004050</td>\n",
       "      <td>NaN</td>\n",
       "      <td>NaN</td>\n",
       "      <td>NaN</td>\n",
       "      <td>NaN</td>\n",
       "      <td>NaN</td>\n",
       "      <td>NaN</td>\n",
       "      <td>NaN</td>\n",
       "      <td>NaN</td>\n",
       "      <td>NaN</td>\n",
       "      <td>...</td>\n",
       "      <td>NaN</td>\n",
       "      <td>NaN</td>\n",
       "      <td>NaN</td>\n",
       "      <td>NaN</td>\n",
       "      <td>NaN</td>\n",
       "      <td>NaN</td>\n",
       "      <td>NaN</td>\n",
       "      <td>NaN</td>\n",
       "      <td>NaN</td>\n",
       "      <td>NaN</td>\n",
       "    </tr>\n",
       "    <tr>\n",
       "      <th>NODE_1025193_length_75_cov_1.093333_47</th>\n",
       "      <td>0.000404</td>\n",
       "      <td>0.004778</td>\n",
       "      <td>NaN</td>\n",
       "      <td>NaN</td>\n",
       "      <td>NaN</td>\n",
       "      <td>NaN</td>\n",
       "      <td>NaN</td>\n",
       "      <td>NaN</td>\n",
       "      <td>NaN</td>\n",
       "      <td>NaN</td>\n",
       "      <td>...</td>\n",
       "      <td>NaN</td>\n",
       "      <td>NaN</td>\n",
       "      <td>NaN</td>\n",
       "      <td>NaN</td>\n",
       "      <td>NaN</td>\n",
       "      <td>NaN</td>\n",
       "      <td>NaN</td>\n",
       "      <td>NaN</td>\n",
       "      <td>NaN</td>\n",
       "      <td>NaN</td>\n",
       "    </tr>\n",
       "    <tr>\n",
       "      <th>NODE_1030410_length_81_cov_1.259259_40</th>\n",
       "      <td>0.003925</td>\n",
       "      <td>0.016184</td>\n",
       "      <td>0.005641</td>\n",
       "      <td>NaN</td>\n",
       "      <td>NaN</td>\n",
       "      <td>NaN</td>\n",
       "      <td>NaN</td>\n",
       "      <td>NaN</td>\n",
       "      <td>NaN</td>\n",
       "      <td>NaN</td>\n",
       "      <td>...</td>\n",
       "      <td>NaN</td>\n",
       "      <td>NaN</td>\n",
       "      <td>NaN</td>\n",
       "      <td>NaN</td>\n",
       "      <td>NaN</td>\n",
       "      <td>NaN</td>\n",
       "      <td>NaN</td>\n",
       "      <td>NaN</td>\n",
       "      <td>NaN</td>\n",
       "      <td>NaN</td>\n",
       "    </tr>\n",
       "    <tr>\n",
       "      <th>NODE_1038234_length_92_cov_1.000000_53</th>\n",
       "      <td>0.004630</td>\n",
       "      <td>0.010943</td>\n",
       "      <td>0.003383</td>\n",
       "      <td>0.014627</td>\n",
       "      <td>NaN</td>\n",
       "      <td>NaN</td>\n",
       "      <td>NaN</td>\n",
       "      <td>NaN</td>\n",
       "      <td>NaN</td>\n",
       "      <td>NaN</td>\n",
       "      <td>...</td>\n",
       "      <td>NaN</td>\n",
       "      <td>NaN</td>\n",
       "      <td>NaN</td>\n",
       "      <td>NaN</td>\n",
       "      <td>NaN</td>\n",
       "      <td>NaN</td>\n",
       "      <td>NaN</td>\n",
       "      <td>NaN</td>\n",
       "      <td>NaN</td>\n",
       "      <td>NaN</td>\n",
       "    </tr>\n",
       "  </tbody>\n",
       "</table>\n",
       "<p>5 rows × 110 columns</p>\n",
       "</div>"
      ],
      "text/plain": [
       "                                        NODE_1001690_length_90_cov_2.000000_37  \\\n",
       "NODE_1001690_length_90_cov_2.000000_37                                     NaN   \n",
       "NODE_1012475_length_88_cov_1.022727_43                                0.004050   \n",
       "NODE_1025193_length_75_cov_1.093333_47                                0.000404   \n",
       "NODE_1030410_length_81_cov_1.259259_40                                0.003925   \n",
       "NODE_1038234_length_92_cov_1.000000_53                                0.004630   \n",
       "\n",
       "                                        NODE_1012475_length_88_cov_1.022727_43  \\\n",
       "NODE_1001690_length_90_cov_2.000000_37                                     NaN   \n",
       "NODE_1012475_length_88_cov_1.022727_43                                     NaN   \n",
       "NODE_1025193_length_75_cov_1.093333_47                                0.004778   \n",
       "NODE_1030410_length_81_cov_1.259259_40                                0.016184   \n",
       "NODE_1038234_length_92_cov_1.000000_53                                0.010943   \n",
       "\n",
       "                                        NODE_1025193_length_75_cov_1.093333_47  \\\n",
       "NODE_1001690_length_90_cov_2.000000_37                                     NaN   \n",
       "NODE_1012475_length_88_cov_1.022727_43                                     NaN   \n",
       "NODE_1025193_length_75_cov_1.093333_47                                     NaN   \n",
       "NODE_1030410_length_81_cov_1.259259_40                                0.005641   \n",
       "NODE_1038234_length_92_cov_1.000000_53                                0.003383   \n",
       "\n",
       "                                        NODE_1030410_length_81_cov_1.259259_40  \\\n",
       "NODE_1001690_length_90_cov_2.000000_37                                     NaN   \n",
       "NODE_1012475_length_88_cov_1.022727_43                                     NaN   \n",
       "NODE_1025193_length_75_cov_1.093333_47                                     NaN   \n",
       "NODE_1030410_length_81_cov_1.259259_40                                     NaN   \n",
       "NODE_1038234_length_92_cov_1.000000_53                                0.014627   \n",
       "\n",
       "                                        NODE_1038234_length_92_cov_1.000000_53  \\\n",
       "NODE_1001690_length_90_cov_2.000000_37                                     NaN   \n",
       "NODE_1012475_length_88_cov_1.022727_43                                     NaN   \n",
       "NODE_1025193_length_75_cov_1.093333_47                                     NaN   \n",
       "NODE_1030410_length_81_cov_1.259259_40                                     NaN   \n",
       "NODE_1038234_length_92_cov_1.000000_53                                     NaN   \n",
       "\n",
       "                                        NODE_1063087_length_97_cov_1.639175_100  \\\n",
       "NODE_1001690_length_90_cov_2.000000_37                                      NaN   \n",
       "NODE_1012475_length_88_cov_1.022727_43                                      NaN   \n",
       "NODE_1025193_length_75_cov_1.093333_47                                      NaN   \n",
       "NODE_1030410_length_81_cov_1.259259_40                                      NaN   \n",
       "NODE_1038234_length_92_cov_1.000000_53                                      NaN   \n",
       "\n",
       "                                        NODE_107570_length_80_cov_1.350000_43  \\\n",
       "NODE_1001690_length_90_cov_2.000000_37                                    NaN   \n",
       "NODE_1012475_length_88_cov_1.022727_43                                    NaN   \n",
       "NODE_1025193_length_75_cov_1.093333_47                                    NaN   \n",
       "NODE_1030410_length_81_cov_1.259259_40                                    NaN   \n",
       "NODE_1038234_length_92_cov_1.000000_53                                    NaN   \n",
       "\n",
       "                                        NODE_1082793_length_76_cov_1.026316_38  \\\n",
       "NODE_1001690_length_90_cov_2.000000_37                                     NaN   \n",
       "NODE_1012475_length_88_cov_1.022727_43                                     NaN   \n",
       "NODE_1025193_length_75_cov_1.093333_47                                     NaN   \n",
       "NODE_1030410_length_81_cov_1.259259_40                                     NaN   \n",
       "NODE_1038234_length_92_cov_1.000000_53                                     NaN   \n",
       "\n",
       "                                        NODE_1090835_length_51_cov_1.921569_62  \\\n",
       "NODE_1001690_length_90_cov_2.000000_37                                     NaN   \n",
       "NODE_1012475_length_88_cov_1.022727_43                                     NaN   \n",
       "NODE_1025193_length_75_cov_1.093333_47                                     NaN   \n",
       "NODE_1030410_length_81_cov_1.259259_40                                     NaN   \n",
       "NODE_1038234_length_92_cov_1.000000_53                                     NaN   \n",
       "\n",
       "                                        NODE_1092275_length_98_cov_3.897959_107  \\\n",
       "NODE_1001690_length_90_cov_2.000000_37                                      NaN   \n",
       "NODE_1012475_length_88_cov_1.022727_43                                      NaN   \n",
       "NODE_1025193_length_75_cov_1.093333_47                                      NaN   \n",
       "NODE_1030410_length_81_cov_1.259259_40                                      NaN   \n",
       "NODE_1038234_length_92_cov_1.000000_53                                      NaN   \n",
       "\n",
       "                                                        ...                    \\\n",
       "NODE_1001690_length_90_cov_2.000000_37                  ...                     \n",
       "NODE_1012475_length_88_cov_1.022727_43                  ...                     \n",
       "NODE_1025193_length_75_cov_1.093333_47                  ...                     \n",
       "NODE_1030410_length_81_cov_1.259259_40                  ...                     \n",
       "NODE_1038234_length_92_cov_1.000000_53                  ...                     \n",
       "\n",
       "                                        NODE_861529_length_116_cov_1.318966_103  \\\n",
       "NODE_1001690_length_90_cov_2.000000_37                                      NaN   \n",
       "NODE_1012475_length_88_cov_1.022727_43                                      NaN   \n",
       "NODE_1025193_length_75_cov_1.093333_47                                      NaN   \n",
       "NODE_1030410_length_81_cov_1.259259_40                                      NaN   \n",
       "NODE_1038234_length_92_cov_1.000000_53                                      NaN   \n",
       "\n",
       "                                        NODE_866842_length_48_cov_1.229167_34  \\\n",
       "NODE_1001690_length_90_cov_2.000000_37                                    NaN   \n",
       "NODE_1012475_length_88_cov_1.022727_43                                    NaN   \n",
       "NODE_1025193_length_75_cov_1.093333_47                                    NaN   \n",
       "NODE_1030410_length_81_cov_1.259259_40                                    NaN   \n",
       "NODE_1038234_length_92_cov_1.000000_53                                    NaN   \n",
       "\n",
       "                                        NODE_880604_length_66_cov_1.363636_44  \\\n",
       "NODE_1001690_length_90_cov_2.000000_37                                    NaN   \n",
       "NODE_1012475_length_88_cov_1.022727_43                                    NaN   \n",
       "NODE_1025193_length_75_cov_1.093333_47                                    NaN   \n",
       "NODE_1030410_length_81_cov_1.259259_40                                    NaN   \n",
       "NODE_1038234_length_92_cov_1.000000_53                                    NaN   \n",
       "\n",
       "                                        NODE_893311_length_93_cov_2.000000_109  \\\n",
       "NODE_1001690_length_90_cov_2.000000_37                                     NaN   \n",
       "NODE_1012475_length_88_cov_1.022727_43                                     NaN   \n",
       "NODE_1025193_length_75_cov_1.093333_47                                     NaN   \n",
       "NODE_1030410_length_81_cov_1.259259_40                                     NaN   \n",
       "NODE_1038234_length_92_cov_1.000000_53                                     NaN   \n",
       "\n",
       "                                        NODE_897315_length_77_cov_1.337662_38  \\\n",
       "NODE_1001690_length_90_cov_2.000000_37                                    NaN   \n",
       "NODE_1012475_length_88_cov_1.022727_43                                    NaN   \n",
       "NODE_1025193_length_75_cov_1.093333_47                                    NaN   \n",
       "NODE_1030410_length_81_cov_1.259259_40                                    NaN   \n",
       "NODE_1038234_length_92_cov_1.000000_53                                    NaN   \n",
       "\n",
       "                                        NODE_904862_length_47_cov_1.382979_41  \\\n",
       "NODE_1001690_length_90_cov_2.000000_37                                    NaN   \n",
       "NODE_1012475_length_88_cov_1.022727_43                                    NaN   \n",
       "NODE_1025193_length_75_cov_1.093333_47                                    NaN   \n",
       "NODE_1030410_length_81_cov_1.259259_40                                    NaN   \n",
       "NODE_1038234_length_92_cov_1.000000_53                                    NaN   \n",
       "\n",
       "                                        NODE_923338_length_97_cov_3.154639_15  \\\n",
       "NODE_1001690_length_90_cov_2.000000_37                                    NaN   \n",
       "NODE_1012475_length_88_cov_1.022727_43                                    NaN   \n",
       "NODE_1025193_length_75_cov_1.093333_47                                    NaN   \n",
       "NODE_1030410_length_81_cov_1.259259_40                                    NaN   \n",
       "NODE_1038234_length_92_cov_1.000000_53                                    NaN   \n",
       "\n",
       "                                        NODE_983665_length_98_cov_2.000000_96  \\\n",
       "NODE_1001690_length_90_cov_2.000000_37                                    NaN   \n",
       "NODE_1012475_length_88_cov_1.022727_43                                    NaN   \n",
       "NODE_1025193_length_75_cov_1.093333_47                                    NaN   \n",
       "NODE_1030410_length_81_cov_1.259259_40                                    NaN   \n",
       "NODE_1038234_length_92_cov_1.000000_53                                    NaN   \n",
       "\n",
       "                                        NODE_987313_length_98_cov_4.653061_59  \\\n",
       "NODE_1001690_length_90_cov_2.000000_37                                    NaN   \n",
       "NODE_1012475_length_88_cov_1.022727_43                                    NaN   \n",
       "NODE_1025193_length_75_cov_1.093333_47                                    NaN   \n",
       "NODE_1030410_length_81_cov_1.259259_40                                    NaN   \n",
       "NODE_1038234_length_92_cov_1.000000_53                                    NaN   \n",
       "\n",
       "                                        NODE_988447_length_96_cov_2.697917_32  \n",
       "NODE_1001690_length_90_cov_2.000000_37                                    NaN  \n",
       "NODE_1012475_length_88_cov_1.022727_43                                    NaN  \n",
       "NODE_1025193_length_75_cov_1.093333_47                                    NaN  \n",
       "NODE_1030410_length_81_cov_1.259259_40                                    NaN  \n",
       "NODE_1038234_length_92_cov_1.000000_53                                    NaN  \n",
       "\n",
       "[5 rows x 110 columns]"
      ]
     },
     "execution_count": 290,
     "metadata": {},
     "output_type": "execute_result"
    }
   ],
   "source": [
    "DF.head()"
   ]
  },
  {
   "cell_type": "code",
   "execution_count": 280,
   "metadata": {
    "collapsed": true
   },
   "outputs": [],
   "source": [
    "# get observed dvals\n",
    "DF = pd.read_csv('/home/lindb/wbp/OutFLANK/covariances/dvals/imputed_dvals.txt',header=0,index_col=0,sep=\"\\t\")\n",
    "dvals = []\n",
    "for i,row in enumerate(DF.index):\n",
    "    for j,col in enumerate(DF.columns):\n",
    "        if i > j:\n",
    "            dvals.append(DF.loc[row,col])\n",
    "            \n",
    "DIR = '/home/lindb/wbp/OutFLANK/covariances/randmatrices/0outfiles'\n",
    "files = os.listdir(DIR)\n",
    "files = [f for f in files if f.startswith('outflank')]\n",
    "\n",
    "pvals = []\n",
    "fcount = 0\n",
    "allvals = []\n",
    "medvals = []\n",
    "for f in files:\n",
    "    df = pd.read_csv(os.path.join(DIR,f),header=0,index_col=0,sep=\"\\t\")\n",
    "    rvals = [] #random dij values\n",
    "    for lst in df.values.tolist():\n",
    "        for x in lst:\n",
    "            if math.isnan(x) == False:\n",
    "                rvals.append(x)\n",
    "                allvals.append(x)\n",
    "    \n",
    "    medvals.append(np.median([abs(x) for x in rvals]))\n",
    "    pvals.append(ks_2samp(rvals,dvals)[1])\n",
    "    fcount += 1\n",
    "    if fcount % 10 == 0:\n",
    "        print fcount\n",
    "\n",
    "filE = '/home/lindb/wbp/OutFLANK/covariances/randmatrices/0OBSpvals/outflank_imputed_observedpvalues.txt'\n",
    "pvals = pd.DataFrame(pvals)\n",
    "pvals.to_csv(filE,header=None,index=False,sep=\"\\t\")"
   ]
  },
  {
   "cell_type": "code",
   "execution_count": 282,
   "metadata": {
    "collapsed": false
   },
   "outputs": [],
   "source": [
    "sorts = sorted([abs(x) for x in medvals])"
   ]
  },
  {
   "cell_type": "code",
   "execution_count": 283,
   "metadata": {
    "collapsed": false
   },
   "outputs": [
    {
     "data": {
      "text/plain": [
       "950.0"
      ]
     },
     "execution_count": 283,
     "metadata": {},
     "output_type": "execute_result"
    }
   ],
   "source": [
    "len(sorts)*.95"
   ]
  },
  {
   "cell_type": "code",
   "execution_count": 284,
   "metadata": {
    "collapsed": false
   },
   "outputs": [
    {
     "data": {
      "text/plain": [
       "0.00036672468466600002"
      ]
     },
     "execution_count": 284,
     "metadata": {},
     "output_type": "execute_result"
    }
   ],
   "source": [
    "sorts[950]"
   ]
  },
  {
   "cell_type": "code",
   "execution_count": 285,
   "metadata": {
    "collapsed": false
   },
   "outputs": [
    {
     "data": {
      "text/plain": [
       "0.00045208673406100001"
      ]
     },
     "execution_count": 285,
     "metadata": {},
     "output_type": "execute_result"
    }
   ],
   "source": [
    "max(sorts)"
   ]
  },
  {
   "cell_type": "code",
   "execution_count": null,
   "metadata": {
    "collapsed": true
   },
   "outputs": [],
   "source": [
    "plt.hist(medvals)[2] # this is the 1000 median values"
   ]
  },
  {
   "cell_type": "code",
   "execution_count": 302,
   "metadata": {
    "collapsed": false
   },
   "outputs": [],
   "source": [
    "med = np.median(dvals)"
   ]
  },
  {
   "cell_type": "code",
   "execution_count": 311,
   "metadata": {
    "collapsed": true
   },
   "outputs": [],
   "source": [
    "n5th = sorts[950]"
   ]
  },
  {
   "cell_type": "code",
   "execution_count": 312,
   "metadata": {
    "collapsed": false
   },
   "outputs": [
    {
     "data": {
      "text/plain": [
       "<matplotlib.lines.Line2D at 0x2b8dd07d9150>"
      ]
     },
     "execution_count": 312,
     "metadata": {},
     "output_type": "execute_result"
    },
    {
     "data": {
      "image/png": "[encoded data removed]",
      "text/plain": [
       "<matplotlib.figure.Figure at 0x2b8dd07f7110>"
      ]
     },
     "metadata": {},
     "output_type": "display_data"
    }
   ],
   "source": [
    "#this is the distribution of median values of random SNPs\n",
    "#red line is the 95th percentile\n",
    "plt.hist(sorts)[2] \n",
    "plt.axvline(x=n5th,c=\"red\",linewidth=2,zorder=0) "
   ]
  },
  {
   "cell_type": "code",
   "execution_count": 316,
   "metadata": {
    "collapsed": false
   },
   "outputs": [
    {
     "data": {
      "text/plain": [
       "<matplotlib.lines.Line2D at 0x2b8dd0aac250>"
      ]
     },
     "execution_count": 316,
     "metadata": {},
     "output_type": "execute_result"
    },
    {
     "data": {
      "image/png": "[encoded data removed]",
      "text/plain": [
       "<matplotlib.figure.Figure at 0x2b8dd0a952d0>"
      ]
     },
     "metadata": {},
     "output_type": "display_data"
    }
   ],
   "source": [
    "#this is the distribution of observed Dvals\n",
    "#red line is the median value\n",
    "fig = plt.hist([abs(x) for x in dvals])[2]\n",
    "plt.axvline(x=med,c=\"red\",linewidth=5,zorder=0)"
   ]
  },
  {
   "cell_type": "code",
   "execution_count": 287,
   "metadata": {
    "collapsed": false
   },
   "outputs": [
    {
     "data": {
      "text/plain": [
       "0.0015759621133599998"
      ]
     },
     "execution_count": 287,
     "metadata": {},
     "output_type": "execute_result"
    }
   ],
   "source": [
    "np.median(dvals)"
   ]
  },
  {
   "cell_type": "code",
   "execution_count": 288,
   "metadata": {
    "collapsed": false
   },
   "outputs": [
    {
     "data": {
      "text/plain": [
       "True"
      ]
     },
     "execution_count": 288,
     "metadata": {},
     "output_type": "execute_result"
    }
   ],
   "source": [
    "np.median(dvals) > max(sorts)"
   ]
  },
  {
   "cell_type": "code",
   "execution_count": 289,
   "metadata": {
    "collapsed": false
   },
   "outputs": [
    {
     "data": {
      "text/plain": [
       "5995"
      ]
     },
     "execution_count": 289,
     "metadata": {},
     "output_type": "execute_result"
    }
   ],
   "source": [
    "len(dvals)"
   ]
  },
  {
   "cell_type": "code",
   "execution_count": 272,
   "metadata": {
    "collapsed": false
   },
   "outputs": [
    {
     "data": {
      "text/plain": [
       "3.4859729220617992"
      ]
     },
     "execution_count": 272,
     "metadata": {},
     "output_type": "execute_result"
    }
   ],
   "source": [
    "np.median(dvals)/max(sorts)"
   ]
  },
  {
   "cell_type": "code",
   "execution_count": 277,
   "metadata": {
    "collapsed": false
   },
   "outputs": [
    {
     "data": {
      "text/plain": [
       "5995"
      ]
     },
     "execution_count": 277,
     "metadata": {},
     "output_type": "execute_result"
    }
   ],
   "source": [
    "len(dvals)"
   ]
  },
  {
   "cell_type": "code",
   "execution_count": 295,
   "metadata": {
    "collapsed": false
   },
   "outputs": [
    {
     "name": "stdout",
     "output_type": "stream",
     "text": [
      "2227 0.371476230192\n"
     ]
    }
   ],
   "source": [
    "#below what percentile of observed OBSdvals are the values less than the maximum randranddvals\n",
    "for i,med in enumerate(sorted(dvals)):\n",
    "    if not med < max(sorts):\n",
    "        print i,i/len(dvals)\n",
    "        break"
   ]
  },
  {
   "cell_type": "code",
   "execution_count": 297,
   "metadata": {
    "collapsed": false
   },
   "outputs": [
    {
     "data": {
      "text/plain": [
       "0.00036672468466600002"
      ]
     },
     "execution_count": 297,
     "metadata": {},
     "output_type": "execute_result"
    }
   ],
   "source": [
    "sorts[950]"
   ]
  },
  {
   "cell_type": "code",
   "execution_count": 298,
   "metadata": {
    "collapsed": false
   },
   "outputs": [
    {
     "name": "stdout",
     "output_type": "stream",
     "text": [
      "2169 0.361801501251\n"
     ]
    }
   ],
   "source": [
    "for i,med in enumerate(sorted(dvals)):\n",
    "    if not med < sorts[950]:\n",
    "        print i,i/len(dvals)\n",
    "        break"
   ]
  },
  {
   "cell_type": "code",
   "execution_count": 188,
   "metadata": {
    "collapsed": false
   },
   "outputs": [
    {
     "data": {
      "text/plain": [
       "(116231, 116121)"
      ]
     },
     "execution_count": 188,
     "metadata": {},
     "output_type": "execute_result"
    }
   ],
   "source": [
    "len(loci),len(snpbucket)"
   ]
  },
  {
   "cell_type": "code",
   "execution_count": null,
   "metadata": {
    "collapsed": true
   },
   "outputs": [],
   "source": []
  },
  {
   "cell_type": "code",
   "execution_count": null,
   "metadata": {
    "collapsed": true
   },
   "outputs": [],
   "source": []
  },
  {
   "cell_type": "code",
   "execution_count": null,
   "metadata": {
    "collapsed": true
   },
   "outputs": [],
   "source": []
  },
  {
   "cell_type": "markdown",
   "metadata": {
    "collapsed": true
   },
   "source": [
    "# ignore: effect distributions - effects pulled from 11_GEMMA.ipynb"
   ]
  },
  {
   "cell_type": "code",
   "execution_count": 375,
   "metadata": {
    "collapsed": true
   },
   "outputs": [],
   "source": [
    "from IPython.display import display"
   ]
  },
  {
   "cell_type": "code",
   "execution_count": 376,
   "metadata": {
    "collapsed": true
   },
   "outputs": [
    {
     "name": "stdout",
     "output_type": "stream",
     "text": [
      "htpopx\n"
     ]
    },
    {
     "data": {
      "text/html": [
       "<div>\n",
       "<table border=\"1\" class=\"dataframe\">\n",
       "  <thead>\n",
       "    <tr style=\"text-align: right;\">\n",
       "      <th></th>\n",
       "      <th>alpha_hmean</th>\n",
       "      <th>beta_hmean</th>\n",
       "      <th>gamma_hmean</th>\n",
       "      <th>total_effect</th>\n",
       "    </tr>\n",
       "    <tr>\n",
       "      <th>rs</th>\n",
       "      <th></th>\n",
       "      <th></th>\n",
       "      <th></th>\n",
       "      <th></th>\n",
       "    </tr>\n",
       "  </thead>\n",
       "  <tbody>\n",
       "    <tr>\n",
       "      <th>NODE_803654_length_96_cov_2.916667_100</th>\n",
       "      <td>0.000140</td>\n",
       "      <td>0.094300</td>\n",
       "      <td>0.003535</td>\n",
       "      <td>0.094441</td>\n",
       "    </tr>\n",
       "    <tr>\n",
       "      <th>NODE_118775_length_91_cov_3.846154_42</th>\n",
       "      <td>0.000139</td>\n",
       "      <td>0.090890</td>\n",
       "      <td>0.002810</td>\n",
       "      <td>0.091029</td>\n",
       "    </tr>\n",
       "    <tr>\n",
       "      <th>NODE_1042213_length_96_cov_2.010417_23</th>\n",
       "      <td>0.000130</td>\n",
       "      <td>0.105395</td>\n",
       "      <td>0.003905</td>\n",
       "      <td>0.105525</td>\n",
       "    </tr>\n",
       "    <tr>\n",
       "      <th>NODE_1191856_length_56_cov_1.660714_52</th>\n",
       "      <td>0.000119</td>\n",
       "      <td>0.061644</td>\n",
       "      <td>0.002200</td>\n",
       "      <td>0.061763</td>\n",
       "    </tr>\n",
       "    <tr>\n",
       "      <th>NODE_715291_length_115_cov_1.626087_19</th>\n",
       "      <td>0.000119</td>\n",
       "      <td>0.085383</td>\n",
       "      <td>0.002480</td>\n",
       "      <td>0.085502</td>\n",
       "    </tr>\n",
       "  </tbody>\n",
       "</table>\n",
       "</div>"
      ],
      "text/plain": [
       "                                        alpha_hmean  beta_hmean  gamma_hmean  \\\n",
       "rs                                                                             \n",
       "NODE_803654_length_96_cov_2.916667_100     0.000140    0.094300     0.003535   \n",
       "NODE_118775_length_91_cov_3.846154_42      0.000139    0.090890     0.002810   \n",
       "NODE_1042213_length_96_cov_2.010417_23     0.000130    0.105395     0.003905   \n",
       "NODE_1191856_length_56_cov_1.660714_52     0.000119    0.061644     0.002200   \n",
       "NODE_715291_length_115_cov_1.626087_19     0.000119    0.085383     0.002480   \n",
       "\n",
       "                                        total_effect  \n",
       "rs                                                    \n",
       "NODE_803654_length_96_cov_2.916667_100      0.094441  \n",
       "NODE_118775_length_91_cov_3.846154_42       0.091029  \n",
       "NODE_1042213_length_96_cov_2.010417_23      0.105525  \n",
       "NODE_1191856_length_56_cov_1.660714_52      0.061763  \n",
       "NODE_715291_length_115_cov_1.626087_19      0.085502  "
      ]
     },
     "metadata": {},
     "output_type": "display_data"
    },
    {
     "name": "stdout",
     "output_type": "stream",
     "text": [
      "rspopx\n"
     ]
    },
    {
     "data": {
      "text/html": [
       "<div>\n",
       "<table border=\"1\" class=\"dataframe\">\n",
       "  <thead>\n",
       "    <tr style=\"text-align: right;\">\n",
       "      <th></th>\n",
       "      <th>alpha_hmean</th>\n",
       "      <th>beta_hmean</th>\n",
       "      <th>gamma_hmean</th>\n",
       "      <th>total_effect</th>\n",
       "    </tr>\n",
       "    <tr>\n",
       "      <th>rs</th>\n",
       "      <th></th>\n",
       "      <th></th>\n",
       "      <th></th>\n",
       "      <th></th>\n",
       "    </tr>\n",
       "  </thead>\n",
       "  <tbody>\n",
       "    <tr>\n",
       "      <th>NODE_1000013_length_91_cov_1.802198_37</th>\n",
       "      <td>0.000089</td>\n",
       "      <td>0.033259</td>\n",
       "      <td>0.001765</td>\n",
       "      <td>0.033348</td>\n",
       "    </tr>\n",
       "    <tr>\n",
       "      <th>NODE_1000031_length_98_cov_2.000000_30</th>\n",
       "      <td>0.000024</td>\n",
       "      <td>0.011842</td>\n",
       "      <td>0.001620</td>\n",
       "      <td>0.011866</td>\n",
       "    </tr>\n",
       "    <tr>\n",
       "      <th>NODE_1000037_length_93_cov_2.043011_33</th>\n",
       "      <td>0.000016</td>\n",
       "      <td>0.004484</td>\n",
       "      <td>0.001635</td>\n",
       "      <td>0.004500</td>\n",
       "    </tr>\n",
       "    <tr>\n",
       "      <th>NODE_1000042_length_93_cov_1.118280_100</th>\n",
       "      <td>0.000009</td>\n",
       "      <td>0.001231</td>\n",
       "      <td>0.001680</td>\n",
       "      <td>0.001240</td>\n",
       "    </tr>\n",
       "    <tr>\n",
       "      <th>NODE_1000053_length_94_cov_1.744681_25</th>\n",
       "      <td>0.000008</td>\n",
       "      <td>0.001378</td>\n",
       "      <td>0.001835</td>\n",
       "      <td>0.001386</td>\n",
       "    </tr>\n",
       "  </tbody>\n",
       "</table>\n",
       "</div>"
      ],
      "text/plain": [
       "                                         alpha_hmean  beta_hmean  gamma_hmean  \\\n",
       "rs                                                                              \n",
       "NODE_1000013_length_91_cov_1.802198_37      0.000089    0.033259     0.001765   \n",
       "NODE_1000031_length_98_cov_2.000000_30      0.000024    0.011842     0.001620   \n",
       "NODE_1000037_length_93_cov_2.043011_33      0.000016    0.004484     0.001635   \n",
       "NODE_1000042_length_93_cov_1.118280_100     0.000009    0.001231     0.001680   \n",
       "NODE_1000053_length_94_cov_1.744681_25      0.000008    0.001378     0.001835   \n",
       "\n",
       "                                         total_effect  \n",
       "rs                                                     \n",
       "NODE_1000013_length_91_cov_1.802198_37       0.033348  \n",
       "NODE_1000031_length_98_cov_2.000000_30       0.011866  \n",
       "NODE_1000037_length_93_cov_2.043011_33       0.004500  \n",
       "NODE_1000042_length_93_cov_1.118280_100      0.001240  \n",
       "NODE_1000053_length_94_cov_1.744681_25       0.001386  "
      ]
     },
     "metadata": {},
     "output_type": "display_data"
    },
    {
     "name": "stdout",
     "output_type": "stream",
     "text": [
      "c13popx\n"
     ]
    },
    {
     "data": {
      "text/html": [
       "<div>\n",
       "<table border=\"1\" class=\"dataframe\">\n",
       "  <thead>\n",
       "    <tr style=\"text-align: right;\">\n",
       "      <th></th>\n",
       "      <th>alpha_hmean</th>\n",
       "      <th>beta_hmean</th>\n",
       "      <th>gamma_hmean</th>\n",
       "      <th>total_effect</th>\n",
       "    </tr>\n",
       "    <tr>\n",
       "      <th>rs</th>\n",
       "      <th></th>\n",
       "      <th></th>\n",
       "      <th></th>\n",
       "      <th></th>\n",
       "    </tr>\n",
       "  </thead>\n",
       "  <tbody>\n",
       "    <tr>\n",
       "      <th>NODE_1000013_length_91_cov_1.802198_37</th>\n",
       "      <td>0.000006</td>\n",
       "      <td>0.008956</td>\n",
       "      <td>0.00137</td>\n",
       "      <td>0.008961</td>\n",
       "    </tr>\n",
       "    <tr>\n",
       "      <th>NODE_1000031_length_98_cov_2.000000_30</th>\n",
       "      <td>0.000003</td>\n",
       "      <td>0.000100</td>\n",
       "      <td>0.00166</td>\n",
       "      <td>0.000103</td>\n",
       "    </tr>\n",
       "    <tr>\n",
       "      <th>NODE_1000037_length_93_cov_2.043011_33</th>\n",
       "      <td>0.000021</td>\n",
       "      <td>0.004199</td>\n",
       "      <td>0.00142</td>\n",
       "      <td>0.004220</td>\n",
       "    </tr>\n",
       "    <tr>\n",
       "      <th>NODE_1000042_length_93_cov_1.118280_100</th>\n",
       "      <td>0.000008</td>\n",
       "      <td>0.002320</td>\n",
       "      <td>0.00150</td>\n",
       "      <td>0.002328</td>\n",
       "    </tr>\n",
       "    <tr>\n",
       "      <th>NODE_1000053_length_94_cov_1.744681_25</th>\n",
       "      <td>0.000041</td>\n",
       "      <td>0.027766</td>\n",
       "      <td>0.00163</td>\n",
       "      <td>0.027807</td>\n",
       "    </tr>\n",
       "  </tbody>\n",
       "</table>\n",
       "</div>"
      ],
      "text/plain": [
       "                                         alpha_hmean  beta_hmean  gamma_hmean  \\\n",
       "rs                                                                              \n",
       "NODE_1000013_length_91_cov_1.802198_37      0.000006    0.008956      0.00137   \n",
       "NODE_1000031_length_98_cov_2.000000_30      0.000003    0.000100      0.00166   \n",
       "NODE_1000037_length_93_cov_2.043011_33      0.000021    0.004199      0.00142   \n",
       "NODE_1000042_length_93_cov_1.118280_100     0.000008    0.002320      0.00150   \n",
       "NODE_1000053_length_94_cov_1.744681_25      0.000041    0.027766      0.00163   \n",
       "\n",
       "                                         total_effect  \n",
       "rs                                                     \n",
       "NODE_1000013_length_91_cov_1.802198_37       0.008961  \n",
       "NODE_1000031_length_98_cov_2.000000_30       0.000103  \n",
       "NODE_1000037_length_93_cov_2.043011_33       0.004220  \n",
       "NODE_1000042_length_93_cov_1.118280_100      0.002328  \n",
       "NODE_1000053_length_94_cov_1.744681_25       0.027807  "
      ]
     },
     "metadata": {},
     "output_type": "display_data"
    },
    {
     "name": "stdout",
     "output_type": "stream",
     "text": [
      "n15popx\n"
     ]
    },
    {
     "data": {
      "text/html": [
       "<div>\n",
       "<table border=\"1\" class=\"dataframe\">\n",
       "  <thead>\n",
       "    <tr style=\"text-align: right;\">\n",
       "      <th></th>\n",
       "      <th>alpha_hmean</th>\n",
       "      <th>beta_hmean</th>\n",
       "      <th>gamma_hmean</th>\n",
       "      <th>total_effect</th>\n",
       "    </tr>\n",
       "    <tr>\n",
       "      <th>rs</th>\n",
       "      <th></th>\n",
       "      <th></th>\n",
       "      <th></th>\n",
       "      <th></th>\n",
       "    </tr>\n",
       "  </thead>\n",
       "  <tbody>\n",
       "    <tr>\n",
       "      <th>NODE_1000013_length_91_cov_1.802198_37</th>\n",
       "      <td>0.000035</td>\n",
       "      <td>0.016382</td>\n",
       "      <td>0.001555</td>\n",
       "      <td>0.016417</td>\n",
       "    </tr>\n",
       "    <tr>\n",
       "      <th>NODE_1000031_length_98_cov_2.000000_30</th>\n",
       "      <td>0.000023</td>\n",
       "      <td>0.014235</td>\n",
       "      <td>0.001860</td>\n",
       "      <td>0.014257</td>\n",
       "    </tr>\n",
       "    <tr>\n",
       "      <th>NODE_1000037_length_93_cov_2.043011_33</th>\n",
       "      <td>0.000006</td>\n",
       "      <td>0.003460</td>\n",
       "      <td>0.001580</td>\n",
       "      <td>0.003465</td>\n",
       "    </tr>\n",
       "    <tr>\n",
       "      <th>NODE_1000042_length_93_cov_1.118280_100</th>\n",
       "      <td>0.000004</td>\n",
       "      <td>0.002745</td>\n",
       "      <td>0.001315</td>\n",
       "      <td>0.002749</td>\n",
       "    </tr>\n",
       "    <tr>\n",
       "      <th>NODE_1000053_length_94_cov_1.744681_25</th>\n",
       "      <td>0.000012</td>\n",
       "      <td>0.015700</td>\n",
       "      <td>0.001725</td>\n",
       "      <td>0.015713</td>\n",
       "    </tr>\n",
       "  </tbody>\n",
       "</table>\n",
       "</div>"
      ],
      "text/plain": [
       "                                         alpha_hmean  beta_hmean  gamma_hmean  \\\n",
       "rs                                                                              \n",
       "NODE_1000013_length_91_cov_1.802198_37      0.000035    0.016382     0.001555   \n",
       "NODE_1000031_length_98_cov_2.000000_30      0.000023    0.014235     0.001860   \n",
       "NODE_1000037_length_93_cov_2.043011_33      0.000006    0.003460     0.001580   \n",
       "NODE_1000042_length_93_cov_1.118280_100     0.000004    0.002745     0.001315   \n",
       "NODE_1000053_length_94_cov_1.744681_25      0.000012    0.015700     0.001725   \n",
       "\n",
       "                                         total_effect  \n",
       "rs                                                     \n",
       "NODE_1000013_length_91_cov_1.802198_37       0.016417  \n",
       "NODE_1000031_length_98_cov_2.000000_30       0.014257  \n",
       "NODE_1000037_length_93_cov_2.043011_33       0.003465  \n",
       "NODE_1000042_length_93_cov_1.118280_100      0.002749  \n",
       "NODE_1000053_length_94_cov_1.744681_25       0.015713  "
      ]
     },
     "metadata": {},
     "output_type": "display_data"
    },
    {
     "name": "stdout",
     "output_type": "stream",
     "text": [
      "bfpopx\n"
     ]
    },
    {
     "data": {
      "text/html": [
       "<div>\n",
       "<table border=\"1\" class=\"dataframe\">\n",
       "  <thead>\n",
       "    <tr style=\"text-align: right;\">\n",
       "      <th></th>\n",
       "      <th>alpha_hmean</th>\n",
       "      <th>beta_hmean</th>\n",
       "      <th>gamma_hmean</th>\n",
       "      <th>total_effect</th>\n",
       "    </tr>\n",
       "    <tr>\n",
       "      <th>rs</th>\n",
       "      <th></th>\n",
       "      <th></th>\n",
       "      <th></th>\n",
       "      <th></th>\n",
       "    </tr>\n",
       "  </thead>\n",
       "  <tbody>\n",
       "    <tr>\n",
       "      <th>NODE_1000013_length_91_cov_1.802198_37</th>\n",
       "      <td>0.000018</td>\n",
       "      <td>0.000751</td>\n",
       "      <td>0.00118</td>\n",
       "      <td>0.000770</td>\n",
       "    </tr>\n",
       "    <tr>\n",
       "      <th>NODE_1000031_length_98_cov_2.000000_30</th>\n",
       "      <td>0.000008</td>\n",
       "      <td>0.018813</td>\n",
       "      <td>0.00181</td>\n",
       "      <td>0.018821</td>\n",
       "    </tr>\n",
       "    <tr>\n",
       "      <th>NODE_1000037_length_93_cov_2.043011_33</th>\n",
       "      <td>0.000012</td>\n",
       "      <td>0.004933</td>\n",
       "      <td>0.00146</td>\n",
       "      <td>0.004945</td>\n",
       "    </tr>\n",
       "    <tr>\n",
       "      <th>NODE_1000042_length_93_cov_1.118280_100</th>\n",
       "      <td>0.000006</td>\n",
       "      <td>0.002573</td>\n",
       "      <td>0.00146</td>\n",
       "      <td>0.002579</td>\n",
       "    </tr>\n",
       "    <tr>\n",
       "      <th>NODE_1000053_length_94_cov_1.744681_25</th>\n",
       "      <td>0.000058</td>\n",
       "      <td>0.031942</td>\n",
       "      <td>0.00171</td>\n",
       "      <td>0.032000</td>\n",
       "    </tr>\n",
       "  </tbody>\n",
       "</table>\n",
       "</div>"
      ],
      "text/plain": [
       "                                         alpha_hmean  beta_hmean  gamma_hmean  \\\n",
       "rs                                                                              \n",
       "NODE_1000013_length_91_cov_1.802198_37      0.000018    0.000751      0.00118   \n",
       "NODE_1000031_length_98_cov_2.000000_30      0.000008    0.018813      0.00181   \n",
       "NODE_1000037_length_93_cov_2.043011_33      0.000012    0.004933      0.00146   \n",
       "NODE_1000042_length_93_cov_1.118280_100     0.000006    0.002573      0.00146   \n",
       "NODE_1000053_length_94_cov_1.744681_25      0.000058    0.031942      0.00171   \n",
       "\n",
       "                                         total_effect  \n",
       "rs                                                     \n",
       "NODE_1000013_length_91_cov_1.802198_37       0.000770  \n",
       "NODE_1000031_length_98_cov_2.000000_30       0.018821  \n",
       "NODE_1000037_length_93_cov_2.043011_33       0.004945  \n",
       "NODE_1000042_length_93_cov_1.118280_100      0.002579  \n",
       "NODE_1000053_length_94_cov_1.744681_25       0.032000  "
      ]
     },
     "metadata": {},
     "output_type": "display_data"
    }
   ],
   "source": [
    "combined_dfs = {}\n",
    "DIR = '/home/lindb/wbp/gemma/infiles/bslmm/output/'\n",
    "for f in [op.join(DIR,f) for f in ls(DIR) if 'combined_df.txt' in f]:\n",
    "    pheno = op.basename(f).split(\"_\")[0]\n",
    "    combined_dfs[pheno] = pd.read_csv(f,header=0,index_col=0,sep='\\t')\n",
    "    print pheno\n",
    "    display(combined_dfs[pheno].head())"
   ]
  },
  {
   "cell_type": "code",
   "execution_count": 415,
   "metadata": {
    "collapsed": false
   },
   "outputs": [],
   "source": [
    "#get a list of effects across phenotypes for each of the outlier snps\n",
    "outfx = OrderedDict()\n",
    "for snp in outliersnps:\n",
    "    snp = str(snp)\n",
    "    outfx[snp] = OrderedDict()\n",
    "    outfx[snp]['alpha'] = []\n",
    "    outfx[snp]['beta'] = []\n",
    "    outfx[snp]['total'] = []\n",
    "    outfx[snp]['gamma'] = []\n",
    "    for pheno in combined_dfs:\n",
    "        outfx[snp]['alpha'].append(combined_dfs[pheno].loc[snp,'alpha_hmean'])\n",
    "        \n",
    "        outfx[snp]['beta'].append(combined_dfs[pheno].loc[snp,'beta_hmean'])\n",
    "        \n",
    "        outfx[snp]['total'].append(combined_dfs[pheno].loc[snp,'total_effect'])\n",
    "        \n",
    "        outfx[snp]['gamma'].append(combined_dfs[pheno].loc[snp,'gamma_hmean'])"
   ]
  },
  {
   "cell_type": "code",
   "execution_count": 417,
   "metadata": {
    "collapsed": false
   },
   "outputs": [],
   "source": [
    "#get an average for each effect for each snp\n",
    "for snp in outfx:\n",
    "    outfx[snp]['mean alpha'] = np.mean([float(a) for a in outfx[snp]['alpha']])\n",
    "    outfx[snp]['mean beta']  = np.mean([b for b in outfx[snp]['beta']])\n",
    "    outfx[snp]['mean total'] = np.mean([t for t in outfx[snp]['total']])\n",
    "    outfx[snp]['mean gamma'] = np.mean([g for g in outfx[snp]['gamma']])"
   ]
  },
  {
   "cell_type": "code",
   "execution_count": 427,
   "metadata": {
    "collapsed": false,
    "scrolled": true
   },
   "outputs": [
    {
     "data": {
      "text/plain": [
       "OrderedDict([('alpha',\n",
       "              [4.6991895000000003e-06,\n",
       "               1.5445775000000001e-06,\n",
       "               3.0082017500000001e-06,\n",
       "               3.0021499999999997e-06,\n",
       "               1.41544075e-05]),\n",
       "             ('beta',\n",
       "              [0.0023814293499999999,\n",
       "               0.0043603729999999999,\n",
       "               0.016492326725000003,\n",
       "               0.0060297355000000002,\n",
       "               0.013418521250000001]),\n",
       "             ('total',\n",
       "              [0.0023861285394999997,\n",
       "               0.0043619175775,\n",
       "               0.016495334926799998,\n",
       "               0.0060327376499999998,\n",
       "               0.0134326756575]),\n",
       "             ('gamma',\n",
       "              [0.0015949999999999998,\n",
       "               0.00183,\n",
       "               0.0013699999999999999,\n",
       "               0.0016249999999999999,\n",
       "               0.00149]),\n",
       "             ('mean alpha', 5.28170525e-06),\n",
       "             ('mean beta', 0.0085364771650000004),\n",
       "             ('mean total', 0.0085417588702599995),\n",
       "             ('mean gamma', 0.0015820000000000001)])"
      ]
     },
     "execution_count": 427,
     "metadata": {},
     "output_type": "execute_result"
    }
   ],
   "source": [
    "outfx['NODE_1001690_length_90_cov_2.000000_37']"
   ]
  },
  {
   "cell_type": "code",
   "execution_count": 431,
   "metadata": {
    "collapsed": false
   },
   "outputs": [],
   "source": [
    "#put the means into a list\n",
    "outfx['total dist'] = []\n",
    "outfx['gamma dist'] = []\n",
    "outfx['alpha dist'] = []\n",
    "outfx['beta dist'] = []\n",
    "for snp in outfx:\n",
    "    if ' ' not in snp:\n",
    "        outfx['alpha dist'].append(outfx[snp]['mean alpha'])\n",
    "\n",
    "        outfx['beta dist'].append(outfx[snp]['mean beta'])\n",
    "\n",
    "        outfx['gamma dist'].append(outfx[snp]['mean gamma'])\n",
    "\n",
    "        outfx['total dist'].append(outfx[snp]['mean total'])"
   ]
  },
  {
   "cell_type": "code",
   "execution_count": 464,
   "metadata": {
    "collapsed": false
   },
   "outputs": [
    {
     "data": {
      "image/png": "[encoded data removed]",
      "text/plain": [
       "<matplotlib.figure.Figure at 0x2ba1315dbe90>"
      ]
     },
     "metadata": {},
     "output_type": "display_data"
    }
   ],
   "source": [
    "with PdfPages('/home/lindb/wbp/OutFLANK/figures/effects_4_criteria.pdf') as pdf:\n",
    "#    crit = 'alpha_hmean'\n",
    "    \n",
    "#    plt.close('all')\n",
    "#    fig , ((a1,a2,a3),(a4,a5,a6)) = plt.subplots(2, 3, figsize=(5,5),dpi=400)\n",
    "    fig = plt.figure()\n",
    "    ax = fig.add_subplot(111)\n",
    "#    plotdict[count] = plt.subplot(int(\"23%s\" % count))\n",
    "    a = outfx['alpha dist']\n",
    "    b = outfx['beta dist']\n",
    "    c = outfx['gamma dist']\n",
    "    d = outfx['total dist']\n",
    "    bins=np.histogram(np.hstack((a,b,c,d)), bins=40)[1]\n",
    "    ax.hist(a,label='alpha (%s)' % str(round(np.median(a),8)),alpha=0.5,bins=bins)\n",
    "    ax.hist(b,label='beta (%s)' % str(round(np.median(b),5)),alpha=0.5,bins=bins)\n",
    "    ax.hist(c,label='gamma (%s)' % str(round(np.median(c),5)),alpha=0.5,bins=bins)\n",
    "    ax.hist(d,label='total (%s)' % str(round(np.median(d),5)),alpha=0.5,bins=bins)\n",
    "    \n",
    "#    plt.legend(['toppips','snpdict999','top alphas'])\n",
    "    plt.legend()\n",
    "#    plotdict[count].set_title('%s alpha' % pheno,y=.9,loc='left',fontsize=10,fontweight='bold')\n",
    "    ax.spines['right'].set_visible(False)\n",
    "    ax.spines['top'].set_visible(False)\n",
    "    ax.yaxis.set_ticks_position('left')\n",
    "    ax.xaxis.set_ticks_position('bottom')\n",
    "    ax.set_xlabel('effect size')\n",
    "    ax.set_ylabel('count')\n",
    "    ax.locator_params(axis='x',nbins=4)\n",
    "\n",
    "    fig.set_size_inches(7,5)\n",
    "    pdf.savefig(fig,bbox_inches='tight')\n"
   ]
  },
  {
   "cell_type": "code",
   "execution_count": 441,
   "metadata": {
    "collapsed": false
   },
   "outputs": [
    {
     "data": {
      "text/plain": [
       "<a list of 40 Patch objects>"
      ]
     },
     "execution_count": 441,
     "metadata": {},
     "output_type": "execute_result"
    },
    {
     "data": {
      "image/png": "[encoded data removed]",
      "text/plain": [
       "<matplotlib.figure.Figure at 0x2ba12e9ef290>"
      ]
     },
     "metadata": {},
     "output_type": "display_data"
    }
   ],
   "source": [
    "plt.hist(a,label='alpha dist',alpha=0.5,bins=bins)[2]"
   ]
  },
  {
   "cell_type": "code",
   "execution_count": 442,
   "metadata": {
    "collapsed": false
   },
   "outputs": [
    {
     "data": {
      "text/plain": [
       "<a list of 40 Patch objects>"
      ]
     },
     "execution_count": 442,
     "metadata": {},
     "output_type": "execute_result"
    },
    {
     "data": {
      "image/png": "[encoded data removed]",
      "text/plain": [
       "<matplotlib.figure.Figure at 0x2ba12e9e2810>"
      ]
     },
     "metadata": {},
     "output_type": "display_data"
    }
   ],
   "source": [
    "plt.hist(b,label='beta dist',alpha=0.5,bins=bins)[2]"
   ]
  },
  {
   "cell_type": "code",
   "execution_count": 443,
   "metadata": {
    "collapsed": false
   },
   "outputs": [
    {
     "data": {
      "text/plain": [
       "<a list of 40 Patch objects>"
      ]
     },
     "execution_count": 443,
     "metadata": {},
     "output_type": "execute_result"
    },
    {
     "data": {
      "image/png": "[encoded data removed]",
      "text/plain": [
       "<matplotlib.figure.Figure at 0x2ba12ed97f50>"
      ]
     },
     "metadata": {},
     "output_type": "display_data"
    }
   ],
   "source": [
    "plt.hist(c,label='gamma dist',alpha=0.5,bins=bins)[2]"
   ]
  },
  {
   "cell_type": "code",
   "execution_count": 446,
   "metadata": {
    "collapsed": false
   },
   "outputs": [
    {
     "data": {
      "text/plain": [
       "<a list of 40 Patch objects>"
      ]
     },
     "execution_count": 446,
     "metadata": {},
     "output_type": "execute_result"
    },
    {
     "data": {
      "image/png": "[encoded data removed]",
      "text/plain": [
       "<matplotlib.figure.Figure at 0x2ba1308c9a90>"
      ]
     },
     "metadata": {},
     "output_type": "display_data"
    }
   ],
   "source": [
    "plt.hist(d,label='total dist',alpha=0.5,bins=bins)[2]"
   ]
  },
  {
   "cell_type": "code",
   "execution_count": 479,
   "metadata": {
    "collapsed": false
   },
   "outputs": [
    {
     "name": "stdout",
     "output_type": "stream",
     "text": [
      "115492 115602 115492\n",
      "115492 115602 115492\n",
      "115476 115586 115476\n",
      "115492 115602 115492\n",
      "115487 115597 115487\n"
     ]
    }
   ],
   "source": [
    "nonoutlier = {}\n",
    "for pheno in combined_dfs:\n",
    "    loci = combined_dfs[pheno].index.tolist()\n",
    "    nonoutlier[pheno] = set(loci)-set(outliersnps)\n",
    "    print len(nonoutlier[pheno]),len(loci),len(loci)-110"
   ]
  },
  {
   "cell_type": "code",
   "execution_count": 484,
   "metadata": {
    "collapsed": false
   },
   "outputs": [
    {
     "data": {
      "text/plain": [
       "116231"
      ]
     },
     "execution_count": 484,
     "metadata": {},
     "output_type": "execute_result"
    }
   ],
   "source": [
    "len(H.index)"
   ]
  },
  {
   "cell_type": "code",
   "execution_count": 489,
   "metadata": {
    "collapsed": false
   },
   "outputs": [
    {
     "data": {
      "text/plain": [
       "116121"
      ]
     },
     "execution_count": 489,
     "metadata": {},
     "output_type": "execute_result"
    }
   ],
   "source": [
    "nonoutliers = set(H.index.tolist()) - set(outliersnps)\n",
    "len(nonoutliers)"
   ]
  },
  {
   "cell_type": "code",
   "execution_count": 490,
   "metadata": {
    "collapsed": false,
    "scrolled": true
   },
   "outputs": [
    {
     "name": "stdout",
     "output_type": "stream",
     "text": [
      "1000\n",
      "2000\n",
      "3000\n",
      "4000\n",
      "5000\n",
      "6000\n",
      "7000\n",
      "8000\n",
      "9000\n",
      "10000\n",
      "11000\n",
      "12000\n",
      "13000\n",
      "14000\n",
      "15000\n",
      "16000\n",
      "17000\n",
      "18000\n",
      "19000\n",
      "20000\n",
      "21000\n",
      "22000\n",
      "23000\n",
      "24000\n",
      "25000\n",
      "26000\n",
      "27000\n",
      "28000\n",
      "29000\n",
      "30000\n",
      "31000\n",
      "32000\n",
      "33000\n",
      "34000\n",
      "35000\n",
      "36000\n",
      "37000\n",
      "38000\n",
      "39000\n",
      "40000\n",
      "41000\n",
      "42000\n",
      "43000\n",
      "44000\n",
      "45000\n",
      "46000\n",
      "47000\n",
      "48000\n",
      "49000\n",
      "50000\n",
      "51000\n",
      "52000\n",
      "53000\n",
      "54000\n",
      "55000\n",
      "56000\n",
      "57000\n",
      "58000\n",
      "59000\n",
      "60000\n",
      "61000\n",
      "62000\n",
      "63000\n",
      "64000\n",
      "65000\n",
      "66000\n",
      "67000\n",
      "68000\n",
      "69000\n",
      "70000\n",
      "71000\n",
      "72000\n",
      "73000\n",
      "74000\n",
      "75000\n",
      "76000\n",
      "77000\n",
      "78000\n",
      "79000\n",
      "80000\n",
      "81000\n",
      "82000\n",
      "83000\n",
      "84000\n",
      "85000\n",
      "86000\n",
      "87000\n",
      "88000\n",
      "89000\n",
      "90000\n",
      "91000\n",
      "92000\n",
      "93000\n",
      "94000\n",
      "95000\n",
      "96000\n",
      "97000\n",
      "98000\n",
      "99000\n",
      "100000\n",
      "101000\n",
      "102000\n",
      "103000\n",
      "104000\n",
      "105000\n",
      "106000\n",
      "107000\n",
      "108000\n",
      "109000\n",
      "110000\n",
      "111000\n",
      "112000\n",
      "113000\n",
      "114000\n",
      "115000\n",
      "116000\n"
     ]
    }
   ],
   "source": [
    "snpcount = 0\n",
    "nonfx = OrderedDict()\n",
    "for snp in nonoutliers:\n",
    "    if not snp in nonfx.keys():\n",
    "        nonfx[snp] = OrderedDict()\n",
    "        nonfx[snp]['alpha'] = []\n",
    "        nonfx[snp]['beta']  = []\n",
    "        nonfx[snp]['total'] = []\n",
    "        nonfx[snp]['gamma'] = []\n",
    "\n",
    "    [nonfx[snp]['alpha'].append(combined_dfs[pheno].loc[snp,'alpha_hmean']) for pheno in combined_dfs if snp in combined_dfs[pheno].index]\n",
    "\n",
    "    [nonfx[snp]['beta'].append(combined_dfs[pheno].loc[snp,'beta_hmean']) for pheno in combined_dfs if snp in combined_dfs[pheno].index]\n",
    "\n",
    "    [nonfx[snp]['total'].append(combined_dfs[pheno].loc[snp,'total_effect']) for pheno in combined_dfs if snp in combined_dfs[pheno].index]\n",
    "\n",
    "    [nonfx[snp]['gamma'].append(combined_dfs[pheno].loc[snp,'gamma_hmean']) for pheno in combined_dfs if snp in combined_dfs[pheno].index]\n",
    "    \n",
    "    snpcount += 1\n",
    "    if snpcount % 1000 == 0:\n",
    "        print snpcount"
   ]
  },
  {
   "cell_type": "code",
   "execution_count": 491,
   "metadata": {
    "collapsed": true
   },
   "outputs": [],
   "source": [
    "#write out the file since it took so GD long to make\n",
    "import pickle\n",
    "with open('/home/lindb/wbp/OutFLANK/nonoutlier_effects.pkl',\"wb\") as o:\n",
    "    pickle.dump(nonfx, o, pickle.HIGHEST_PROTOCOL)"
   ]
  },
  {
   "cell_type": "code",
   "execution_count": 492,
   "metadata": {
    "collapsed": false
   },
   "outputs": [
    {
     "name": "stderr",
     "output_type": "stream",
     "text": [
      "/gpfs_fs/home/lindb/anaconda/envs/conda/lib/python2.7/site-packages/numpy/core/_methods.py:59: RuntimeWarning: Mean of empty slice.\n",
      "  warnings.warn(\"Mean of empty slice.\", RuntimeWarning)\n"
     ]
    }
   ],
   "source": [
    "#get an average for each effect for each snp\n",
    "for snp in nonfx:\n",
    "    nonfx[snp]['mean alpha'] = np.mean([float(a) for a in nonfx[snp]['alpha']])\n",
    "    nonfx[snp]['mean beta']  = np.mean([b for b in nonfx[snp]['beta']])\n",
    "    nonfx[snp]['mean total'] = np.mean([t for t in nonfx[snp]['total']])\n",
    "    nonfx[snp]['mean gamma'] = np.mean([g for g in nonfx[snp]['gamma']])"
   ]
  },
  {
   "cell_type": "code",
   "execution_count": 493,
   "metadata": {
    "collapsed": true
   },
   "outputs": [],
   "source": [
    "#put the means into a list\n",
    "nonfx['total dist'] = []\n",
    "nonfx['gamma dist'] = []\n",
    "nonfx['alpha dist'] = []\n",
    "nonfx['beta dist'] = []\n",
    "for snp in nonfx:\n",
    "    if ' ' not in snp:\n",
    "        nonfx['alpha dist'].append(nonfx[snp]['mean alpha'])\n",
    "\n",
    "        nonfx['beta dist'].append(nonfx[snp]['mean beta'])\n",
    "\n",
    "        nonfx['gamma dist'].append(nonfx[snp]['mean gamma'])\n",
    "\n",
    "        nonfx['total dist'].append(nonfx[snp]['mean total'])"
   ]
  },
  {
   "cell_type": "code",
   "execution_count": 495,
   "metadata": {
    "collapsed": false
   },
   "outputs": [
    {
     "data": {
      "image/png": "[encoded data removed]",
      "text/plain": [
       "<matplotlib.figure.Figure at 0x2ba12b7c5fd0>"
      ]
     },
     "metadata": {},
     "output_type": "display_data"
    }
   ],
   "source": [
    "with PdfPages('/home/lindb/wbp/OutFLANK/figures/nonoutlier_effects_4_criteria.pdf') as pdf:\n",
    "#    crit = 'alpha_hmean'\n",
    "    \n",
    "#    plt.close('all')\n",
    "#    fig , ((a1,a2,a3),(a4,a5,a6)) = plt.subplots(2, 3, figsize=(5,5),dpi=400)\n",
    "    fig = plt.figure()\n",
    "    ax = fig.add_subplot(111)\n",
    "#    plotdict[count] = plt.subplot(int(\"23%s\" % count))\n",
    "    a = [A for A in nonfx['alpha dist'] if math.isnan(A)==False]\n",
    "    b = [B for B in nonfx['beta dist'] if math.isnan(B)==False]\n",
    "    c = [C for C in nonfx['gamma dist'] if math.isnan(C)==False]\n",
    "    d = [D for D in nonfx['total dist'] if math.isnan(D)==False]\n",
    "    bins=np.histogram(np.hstack((a,b,c,d)), bins=40)[1]\n",
    "    ax.hist(a,label='alpha (%s)' % str(round(np.median(a),8)),alpha=0.5,bins=bins)\n",
    "    ax.hist(b,label='beta (%s)' % str(round(np.median(b),5)),alpha=0.5,bins=bins)\n",
    "    ax.hist(c,label='gamma (%s)' % str(round(np.median(c),5)),alpha=0.5,bins=bins)\n",
    "    ax.hist(d,label='total (%s)' % str(round(np.median(d),5)),alpha=0.5,bins=bins)\n",
    "    \n",
    "#    plt.legend(['toppips','snpdict999','top alphas'])\n",
    "    plt.legend()\n",
    "#    plotdict[count].set_title('%s alpha' % pheno,y=.9,loc='left',fontsize=10,fontweight='bold')\n",
    "    ax.spines['right'].set_visible(False)\n",
    "    ax.spines['top'].set_visible(False)\n",
    "    ax.yaxis.set_ticks_position('left')\n",
    "    ax.xaxis.set_ticks_position('bottom')\n",
    "    ax.set_xlabel('effect size')\n",
    "    ax.set_ylabel('count')\n",
    "    ax.locator_params(axis='x',nbins=4)\n",
    "\n",
    "    fig.set_size_inches(7,5)\n",
    "    pdf.savefig(fig,bbox_inches='tight')\n"
   ]
  },
  {
   "cell_type": "code",
   "execution_count": 497,
   "metadata": {
    "collapsed": false
   },
   "outputs": [
    {
     "data": {
      "text/plain": [
       "0.054245481499999991"
      ]
     },
     "execution_count": 497,
     "metadata": {},
     "output_type": "execute_result"
    }
   ],
   "source": [
    "max(b)"
   ]
  },
  {
   "cell_type": "code",
   "execution_count": 498,
   "metadata": {
    "collapsed": true
   },
   "outputs": [],
   "source": [
    "from scipy.stats import wilcoxon"
   ]
  },
  {
   "cell_type": "code",
   "execution_count": 506,
   "metadata": {
    "collapsed": false
   },
   "outputs": [
    {
     "name": "stdout",
     "output_type": "stream",
     "text": [
      "alpha dist\n",
      "o= 2.5490117675e-05\n",
      "n= 1.8693900065e-05\n",
      "beta dist\n",
      "o= 0.012870257345\n",
      "n= 0.01127220979\n",
      "gamma dist\n",
      "o= 0.0016415\n",
      "n= 0.001662\n",
      "total dist\n",
      "o= 0.0128857854585\n",
      "n= 0.0112916675203\n"
     ]
    }
   ],
   "source": [
    "for crit in ['alpha dist','beta dist','gamma dist','total dist']:\n",
    "    print crit\n",
    "    o = [B for B in outfx[crit] if math.isnan(B)==False]\n",
    "    n = [A for A in nonfx[crit] if math.isnan(A)==False]\n",
    "    print \"o=\",np.median(o)\n",
    "    print \"n=\",np.median(n)"
   ]
  },
  {
   "cell_type": "code",
   "execution_count": 501,
   "metadata": {
    "collapsed": false
   },
   "outputs": [
    {
     "data": {
      "text/plain": [
       "(110, 115495)"
      ]
     },
     "execution_count": 501,
     "metadata": {},
     "output_type": "execute_result"
    }
   ],
   "source": [
    "len(o),len(n)"
   ]
  },
  {
   "cell_type": "code",
   "execution_count": 507,
   "metadata": {
    "collapsed": true
   },
   "outputs": [],
   "source": [
    "from scipy.stats.mstats import kruskalwallis"
   ]
  },
  {
   "cell_type": "code",
   "execution_count": 509,
   "metadata": {
    "collapsed": false
   },
   "outputs": [
    {
     "name": "stdout",
     "output_type": "stream",
     "text": [
      "alpha dist\n",
      "alpha dist KruskalResult(statistic=28.56003018224235, pvalue=9.083805250036183e-08)\n",
      "max o 7.128271005e-05\n",
      "max n 9.56341955e-05\n",
      "beta dist\n",
      "beta dist KruskalResult(statistic=11.204932138556746, pvalue=0.00081580209890184756)\n",
      "max o 0.034322192225\n",
      "max n 0.0542454815\n",
      "gamma dist\n",
      "gamma dist KruskalResult(statistic=4.1671833631657966, pvalue=0.041214261421066781)\n",
      "max o 0.001917\n",
      "max n 0.002756\n",
      "total dist\n",
      "total dist KruskalResult(statistic=11.237506560864858, pvalue=0.0008016077423364669)\n",
      "max o 0.0343934749351\n",
      "max n 0.054334171794\n"
     ]
    }
   ],
   "source": [
    "for crit in ['alpha dist','beta dist','gamma dist','total dist']:\n",
    "    print crit\n",
    "    o = [B for B in outfx[crit] if math.isnan(B)==False]\n",
    "    n = [A for A in nonfx[crit] if math.isnan(A)==False]\n",
    "    k = kruskalwallis(o,n)\n",
    "    print crit,k\n",
    "    print \"max o\",max(o)\n",
    "    print \"max n\",max(n)"
   ]
  },
  {
   "cell_type": "code",
   "execution_count": null,
   "metadata": {
    "collapsed": true
   },
   "outputs": [],
   "source": []
  },
  {
   "cell_type": "code",
   "execution_count": null,
   "metadata": {
    "collapsed": true
   },
   "outputs": [],
   "source": []
  },
  {
   "cell_type": "code",
   "execution_count": null,
   "metadata": {
    "collapsed": true
   },
   "outputs": [],
   "source": []
  },
  {
   "cell_type": "code",
   "execution_count": 9,
   "metadata": {
    "collapsed": false
   },
   "outputs": [
    {
     "data": {
      "text/html": [
       "<div>\n",
       "<table border=\"1\" class=\"dataframe\">\n",
       "  <thead>\n",
       "    <tr style=\"text-align: right;\">\n",
       "      <th></th>\n",
       "      <th>LocusName</th>\n",
       "      <th>He</th>\n",
       "      <th>FST</th>\n",
       "      <th>T1</th>\n",
       "      <th>T2</th>\n",
       "      <th>FSTNoCorr</th>\n",
       "      <th>T1NoCorr</th>\n",
       "      <th>T2NoCorr</th>\n",
       "      <th>meanAlleleFreq</th>\n",
       "      <th>indexOrder</th>\n",
       "      <th>GoodH</th>\n",
       "      <th>qvalues</th>\n",
       "      <th>pvalues</th>\n",
       "      <th>pvaluesRightTail</th>\n",
       "      <th>OutlierFlag</th>\n",
       "    </tr>\n",
       "  </thead>\n",
       "  <tbody>\n",
       "    <tr>\n",
       "      <th>0</th>\n",
       "      <td>NODE_1000013_length_91_cov_1.802198_37</td>\n",
       "      <td>0.212569</td>\n",
       "      <td>-0.007865</td>\n",
       "      <td>-0.000837</td>\n",
       "      <td>0.106477</td>\n",
       "      <td>0.015786</td>\n",
       "      <td>0.001682</td>\n",
       "      <td>0.106519</td>\n",
       "      <td>0.879098</td>\n",
       "      <td>1</td>\n",
       "      <td>goodH</td>\n",
       "      <td>0.852193</td>\n",
       "      <td>0.852652</td>\n",
       "      <td>0.573674</td>\n",
       "      <td>False</td>\n",
       "    </tr>\n",
       "    <tr>\n",
       "      <th>1</th>\n",
       "      <td>NODE_1000031_length_98_cov_2.000000_30</td>\n",
       "      <td>0.257290</td>\n",
       "      <td>0.012300</td>\n",
       "      <td>0.001589</td>\n",
       "      <td>0.129188</td>\n",
       "      <td>0.032527</td>\n",
       "      <td>0.004204</td>\n",
       "      <td>0.129231</td>\n",
       "      <td>0.848361</td>\n",
       "      <td>2</td>\n",
       "      <td>goodH</td>\n",
       "      <td>0.724113</td>\n",
       "      <td>0.236842</td>\n",
       "      <td>0.118421</td>\n",
       "      <td>False</td>\n",
       "    </tr>\n",
       "    <tr>\n",
       "      <th>2</th>\n",
       "      <td>NODE_1000037_length_93_cov_2.043011_33</td>\n",
       "      <td>0.215668</td>\n",
       "      <td>-0.009567</td>\n",
       "      <td>-0.001032</td>\n",
       "      <td>0.107910</td>\n",
       "      <td>0.006997</td>\n",
       "      <td>0.000755</td>\n",
       "      <td>0.107939</td>\n",
       "      <td>0.877049</td>\n",
       "      <td>3</td>\n",
       "      <td>goodH</td>\n",
       "      <td>0.882429</td>\n",
       "      <td>0.163997</td>\n",
       "      <td>0.918002</td>\n",
       "      <td>False</td>\n",
       "    </tr>\n",
       "    <tr>\n",
       "      <th>3</th>\n",
       "      <td>NODE_1000042_length_93_cov_1.118280_100</td>\n",
       "      <td>0.078608</td>\n",
       "      <td>0.000216</td>\n",
       "      <td>0.000009</td>\n",
       "      <td>0.039383</td>\n",
       "      <td>0.016198</td>\n",
       "      <td>0.000638</td>\n",
       "      <td>0.039393</td>\n",
       "      <td>0.959016</td>\n",
       "      <td>4</td>\n",
       "      <td>lowH</td>\n",
       "      <td>0.848006</td>\n",
       "      <td>0.886690</td>\n",
       "      <td>0.556655</td>\n",
       "      <td>False</td>\n",
       "    </tr>\n",
       "    <tr>\n",
       "      <th>4</th>\n",
       "      <td>NODE_1000053_length_94_cov_1.744681_25</td>\n",
       "      <td>0.047971</td>\n",
       "      <td>-0.005962</td>\n",
       "      <td>-0.000143</td>\n",
       "      <td>0.024014</td>\n",
       "      <td>0.010505</td>\n",
       "      <td>0.000252</td>\n",
       "      <td>0.024021</td>\n",
       "      <td>0.975410</td>\n",
       "      <td>5</td>\n",
       "      <td>lowH</td>\n",
       "      <td>0.872100</td>\n",
       "      <td>0.408936</td>\n",
       "      <td>0.795532</td>\n",
       "      <td>False</td>\n",
       "    </tr>\n",
       "  </tbody>\n",
       "</table>\n",
       "</div>"
      ],
      "text/plain": [
       "                                 LocusName        He       FST        T1  \\\n",
       "0   NODE_1000013_length_91_cov_1.802198_37  0.212569 -0.007865 -0.000837   \n",
       "1   NODE_1000031_length_98_cov_2.000000_30  0.257290  0.012300  0.001589   \n",
       "2   NODE_1000037_length_93_cov_2.043011_33  0.215668 -0.009567 -0.001032   \n",
       "3  NODE_1000042_length_93_cov_1.118280_100  0.078608  0.000216  0.000009   \n",
       "4   NODE_1000053_length_94_cov_1.744681_25  0.047971 -0.005962 -0.000143   \n",
       "\n",
       "         T2  FSTNoCorr  T1NoCorr  T2NoCorr  meanAlleleFreq  indexOrder  GoodH  \\\n",
       "0  0.106477   0.015786  0.001682  0.106519        0.879098           1  goodH   \n",
       "1  0.129188   0.032527  0.004204  0.129231        0.848361           2  goodH   \n",
       "2  0.107910   0.006997  0.000755  0.107939        0.877049           3  goodH   \n",
       "3  0.039383   0.016198  0.000638  0.039393        0.959016           4   lowH   \n",
       "4  0.024014   0.010505  0.000252  0.024021        0.975410           5   lowH   \n",
       "\n",
       "    qvalues   pvalues  pvaluesRightTail OutlierFlag  \n",
       "0  0.852193  0.852652          0.573674       False  \n",
       "1  0.724113  0.236842          0.118421       False  \n",
       "2  0.882429  0.163997          0.918002       False  \n",
       "3  0.848006  0.886690          0.556655       False  \n",
       "4  0.872100  0.408936          0.795532       False  "
      ]
     },
     "execution_count": 9,
     "metadata": {},
     "output_type": "execute_result"
    }
   ],
   "source": [
    "df = pd.read_csv('/home/lindb/wbp/OutFLANK/OutFlank_results2.txt',header=0,sep='\\t')\n",
    "df.head()"
   ]
  },
  {
   "cell_type": "code",
   "execution_count": 10,
   "metadata": {
    "collapsed": false
   },
   "outputs": [
    {
     "data": {
      "text/plain": [
       "0.020281846277882199"
      ]
     },
     "execution_count": 10,
     "metadata": {},
     "output_type": "execute_result"
    }
   ],
   "source": [
    "min(df['He'])"
   ]
  },
  {
   "cell_type": "code",
   "execution_count": 14,
   "metadata": {
    "collapsed": false
   },
   "outputs": [
    {
     "data": {
      "text/plain": [
       "110"
      ]
     },
     "execution_count": 14,
     "metadata": {},
     "output_type": "execute_result"
    }
   ],
   "source": [
    "df2 = pd.DataFrame(df[df['OutlierFlag'] == True])\n",
    "len(df2.index)"
   ]
  },
  {
   "cell_type": "code",
   "execution_count": 16,
   "metadata": {
    "collapsed": false
   },
   "outputs": [
    {
     "data": {
      "text/plain": [
       "count    110.000000\n",
       "mean       0.305242\n",
       "std        0.169550\n",
       "min        0.020282\n",
       "25%        0.137528\n",
       "50%        0.358035\n",
       "75%        0.466917\n",
       "max        0.499160\n",
       "Name: He, dtype: float64"
      ]
     },
     "execution_count": 16,
     "metadata": {},
     "output_type": "execute_result"
    }
   ],
   "source": [
    "df2['He'].describe()"
   ]
  },
  {
   "cell_type": "code",
   "execution_count": null,
   "metadata": {
    "collapsed": true
   },
   "outputs": [],
   "source": []
  },
  {
   "cell_type": "code",
   "execution_count": null,
   "metadata": {
    "collapsed": true
   },
   "outputs": [],
   "source": []
  },
  {
   "cell_type": "code",
   "execution_count": null,
   "metadata": {
    "collapsed": true
   },
   "outputs": [],
   "source": []
  }
 ],
 "metadata": {
  "kernelspec": {
   "display_name": "Python 2",
   "language": "python",
   "name": "python2"
  },
  "language_info": {
   "codemirror_mode": {
    "name": "ipython",
    "version": 2
   },
   "file_extension": ".py",
   "mimetype": "text/x-python",
   "name": "python",
   "nbconvert_exporter": "python",
   "pygments_lexer": "ipython2",
   "version": "2.7.11"
  }
 },
 "nbformat": 4,
 "nbformat_minor": 0
}
