{
 "cells": [
  {
   "cell_type": "code",
   "execution_count": 2,
   "metadata": {
    "collapsed": false
   },
   "outputs": [],
   "source": [
    "import os\n",
    "from collections import OrderedDict,Counter\n",
    "from __future__ import division\n",
    "import pandas as pd\n",
    "import numpy as np\n",
    "import vcf\n",
    "from operator import itemgetter\n",
    "import random\n",
    "import matplotlib.pyplot as plt\n",
    "import matplotlib.gridspec as gridspec\n",
    "from matplotlib.backends.backend_pdf import PdfPages\n",
    "import matplotlib.ticker as mtick\n",
    "%matplotlib inline"
   ]
  },
  {
   "cell_type": "code",
   "execution_count": 3,
   "metadata": {
    "collapsed": true
   },
   "outputs": [],
   "source": [
    "#I made these files in 6_pca.ipynb, they are symlinked to the hierfstat folder\n",
    "#genotypes are coded based on minor allele\n",
    "hierf = '/home/lindb/wbp/hierfstat/missing/missing_z12_maf_swp_trans.txt'"
   ]
  },
  {
   "cell_type": "code",
   "execution_count": 4,
   "metadata": {
    "collapsed": true
   },
   "outputs": [],
   "source": [
    "hierfdf = pd.read_csv(hierf,header=0,index_col=0,sep=\"\\t\")"
   ]
  },
  {
   "cell_type": "code",
   "execution_count": 5,
   "metadata": {
    "collapsed": false
   },
   "outputs": [
    {
     "data": {
      "text/html": [
       "<div>\n",
       "<table border=\"1\" class=\"dataframe\">\n",
       "  <thead>\n",
       "    <tr style=\"text-align: right;\">\n",
       "      <th></th>\n",
       "      <th>popid</th>\n",
       "      <th>plotid</th>\n",
       "      <th>NODE_1000013_length_91_cov_1.802198_37</th>\n",
       "      <th>NODE_1000031_length_98_cov_2.000000_30</th>\n",
       "      <th>NODE_1000037_length_93_cov_2.043011_33</th>\n",
       "      <th>NODE_1000042_length_93_cov_1.118280_100</th>\n",
       "      <th>NODE_1000053_length_94_cov_1.744681_25</th>\n",
       "      <th>NODE_1000061_length_47_cov_1.680851_49</th>\n",
       "      <th>NODE_1000118_length_95_cov_2.000000_24</th>\n",
       "      <th>NODE_1000128_length_98_cov_1.714286_53</th>\n",
       "      <th>...</th>\n",
       "      <th>NODE_999880_length_98_cov_1.683674_22</th>\n",
       "      <th>NODE_999886_length_96_cov_1.020833_38</th>\n",
       "      <th>NODE_999899_length_96_cov_1.000000_91</th>\n",
       "      <th>NODE_999927_length_95_cov_2.000000_55</th>\n",
       "      <th>NODE_999933_length_76_cov_1.236842_76</th>\n",
       "      <th>NODE_999938_length_98_cov_1.142857_98</th>\n",
       "      <th>NODE_999941_length_107_cov_1.196262_25</th>\n",
       "      <th>NODE_999958_length_91_cov_1.021978_17</th>\n",
       "      <th>NODE_999968_length_75_cov_1.680000_37</th>\n",
       "      <th>NODE_999969_length_92_cov_4.271739_37</th>\n",
       "    </tr>\n",
       "  </thead>\n",
       "  <tbody>\n",
       "    <tr>\n",
       "      <th>009compiled</th>\n",
       "      <td>1</td>\n",
       "      <td>1</td>\n",
       "      <td>11</td>\n",
       "      <td>NaN</td>\n",
       "      <td>11</td>\n",
       "      <td>11</td>\n",
       "      <td>11</td>\n",
       "      <td>11</td>\n",
       "      <td>12</td>\n",
       "      <td>11</td>\n",
       "      <td>...</td>\n",
       "      <td>11</td>\n",
       "      <td>11</td>\n",
       "      <td>NaN</td>\n",
       "      <td>11</td>\n",
       "      <td>12</td>\n",
       "      <td>12</td>\n",
       "      <td>11</td>\n",
       "      <td>11</td>\n",
       "      <td>11</td>\n",
       "      <td>NaN</td>\n",
       "    </tr>\n",
       "    <tr>\n",
       "      <th>010compiled</th>\n",
       "      <td>1</td>\n",
       "      <td>1</td>\n",
       "      <td>11</td>\n",
       "      <td>12</td>\n",
       "      <td>12</td>\n",
       "      <td>11</td>\n",
       "      <td>11</td>\n",
       "      <td>11</td>\n",
       "      <td>11</td>\n",
       "      <td>11</td>\n",
       "      <td>...</td>\n",
       "      <td>11</td>\n",
       "      <td>11</td>\n",
       "      <td>11</td>\n",
       "      <td>11</td>\n",
       "      <td>12</td>\n",
       "      <td>12</td>\n",
       "      <td>11</td>\n",
       "      <td>11</td>\n",
       "      <td>11</td>\n",
       "      <td>11</td>\n",
       "    </tr>\n",
       "    <tr>\n",
       "      <th>011compiled</th>\n",
       "      <td>1</td>\n",
       "      <td>1</td>\n",
       "      <td>12</td>\n",
       "      <td>11</td>\n",
       "      <td>12</td>\n",
       "      <td>11</td>\n",
       "      <td>11</td>\n",
       "      <td>11</td>\n",
       "      <td>12</td>\n",
       "      <td>11</td>\n",
       "      <td>...</td>\n",
       "      <td>11</td>\n",
       "      <td>11</td>\n",
       "      <td>12</td>\n",
       "      <td>11</td>\n",
       "      <td>NaN</td>\n",
       "      <td>11</td>\n",
       "      <td>11</td>\n",
       "      <td>11</td>\n",
       "      <td>11</td>\n",
       "      <td>11</td>\n",
       "    </tr>\n",
       "    <tr>\n",
       "      <th>012compiled</th>\n",
       "      <td>1</td>\n",
       "      <td>1</td>\n",
       "      <td>11</td>\n",
       "      <td>11</td>\n",
       "      <td>11</td>\n",
       "      <td>12</td>\n",
       "      <td>11</td>\n",
       "      <td>11</td>\n",
       "      <td>12</td>\n",
       "      <td>11</td>\n",
       "      <td>...</td>\n",
       "      <td>11</td>\n",
       "      <td>12</td>\n",
       "      <td>22</td>\n",
       "      <td>11</td>\n",
       "      <td>12</td>\n",
       "      <td>11</td>\n",
       "      <td>11</td>\n",
       "      <td>11</td>\n",
       "      <td>12</td>\n",
       "      <td>12</td>\n",
       "    </tr>\n",
       "    <tr>\n",
       "      <th>013compiled</th>\n",
       "      <td>1</td>\n",
       "      <td>1</td>\n",
       "      <td>22</td>\n",
       "      <td>12</td>\n",
       "      <td>11</td>\n",
       "      <td>12</td>\n",
       "      <td>11</td>\n",
       "      <td>11</td>\n",
       "      <td>12</td>\n",
       "      <td>11</td>\n",
       "      <td>...</td>\n",
       "      <td>11</td>\n",
       "      <td>11</td>\n",
       "      <td>12</td>\n",
       "      <td>11</td>\n",
       "      <td>NaN</td>\n",
       "      <td>11</td>\n",
       "      <td>12</td>\n",
       "      <td>11</td>\n",
       "      <td>11</td>\n",
       "      <td>12</td>\n",
       "    </tr>\n",
       "  </tbody>\n",
       "</table>\n",
       "<p>5 rows × 116233 columns</p>\n",
       "</div>"
      ],
      "text/plain": [
       "             popid  plotid  NODE_1000013_length_91_cov_1.802198_37  \\\n",
       "009compiled      1       1                                      11   \n",
       "010compiled      1       1                                      11   \n",
       "011compiled      1       1                                      12   \n",
       "012compiled      1       1                                      11   \n",
       "013compiled      1       1                                      22   \n",
       "\n",
       "             NODE_1000031_length_98_cov_2.000000_30  \\\n",
       "009compiled                                     NaN   \n",
       "010compiled                                      12   \n",
       "011compiled                                      11   \n",
       "012compiled                                      11   \n",
       "013compiled                                      12   \n",
       "\n",
       "             NODE_1000037_length_93_cov_2.043011_33  \\\n",
       "009compiled                                      11   \n",
       "010compiled                                      12   \n",
       "011compiled                                      12   \n",
       "012compiled                                      11   \n",
       "013compiled                                      11   \n",
       "\n",
       "             NODE_1000042_length_93_cov_1.118280_100  \\\n",
       "009compiled                                       11   \n",
       "010compiled                                       11   \n",
       "011compiled                                       11   \n",
       "012compiled                                       12   \n",
       "013compiled                                       12   \n",
       "\n",
       "             NODE_1000053_length_94_cov_1.744681_25  \\\n",
       "009compiled                                      11   \n",
       "010compiled                                      11   \n",
       "011compiled                                      11   \n",
       "012compiled                                      11   \n",
       "013compiled                                      11   \n",
       "\n",
       "             NODE_1000061_length_47_cov_1.680851_49  \\\n",
       "009compiled                                      11   \n",
       "010compiled                                      11   \n",
       "011compiled                                      11   \n",
       "012compiled                                      11   \n",
       "013compiled                                      11   \n",
       "\n",
       "             NODE_1000118_length_95_cov_2.000000_24  \\\n",
       "009compiled                                      12   \n",
       "010compiled                                      11   \n",
       "011compiled                                      12   \n",
       "012compiled                                      12   \n",
       "013compiled                                      12   \n",
       "\n",
       "             NODE_1000128_length_98_cov_1.714286_53  \\\n",
       "009compiled                                      11   \n",
       "010compiled                                      11   \n",
       "011compiled                                      11   \n",
       "012compiled                                      11   \n",
       "013compiled                                      11   \n",
       "\n",
       "                             ...                    \\\n",
       "009compiled                  ...                     \n",
       "010compiled                  ...                     \n",
       "011compiled                  ...                     \n",
       "012compiled                  ...                     \n",
       "013compiled                  ...                     \n",
       "\n",
       "             NODE_999880_length_98_cov_1.683674_22  \\\n",
       "009compiled                                     11   \n",
       "010compiled                                     11   \n",
       "011compiled                                     11   \n",
       "012compiled                                     11   \n",
       "013compiled                                     11   \n",
       "\n",
       "             NODE_999886_length_96_cov_1.020833_38  \\\n",
       "009compiled                                     11   \n",
       "010compiled                                     11   \n",
       "011compiled                                     11   \n",
       "012compiled                                     12   \n",
       "013compiled                                     11   \n",
       "\n",
       "             NODE_999899_length_96_cov_1.000000_91  \\\n",
       "009compiled                                    NaN   \n",
       "010compiled                                     11   \n",
       "011compiled                                     12   \n",
       "012compiled                                     22   \n",
       "013compiled                                     12   \n",
       "\n",
       "             NODE_999927_length_95_cov_2.000000_55  \\\n",
       "009compiled                                     11   \n",
       "010compiled                                     11   \n",
       "011compiled                                     11   \n",
       "012compiled                                     11   \n",
       "013compiled                                     11   \n",
       "\n",
       "             NODE_999933_length_76_cov_1.236842_76  \\\n",
       "009compiled                                     12   \n",
       "010compiled                                     12   \n",
       "011compiled                                    NaN   \n",
       "012compiled                                     12   \n",
       "013compiled                                    NaN   \n",
       "\n",
       "             NODE_999938_length_98_cov_1.142857_98  \\\n",
       "009compiled                                     12   \n",
       "010compiled                                     12   \n",
       "011compiled                                     11   \n",
       "012compiled                                     11   \n",
       "013compiled                                     11   \n",
       "\n",
       "             NODE_999941_length_107_cov_1.196262_25  \\\n",
       "009compiled                                      11   \n",
       "010compiled                                      11   \n",
       "011compiled                                      11   \n",
       "012compiled                                      11   \n",
       "013compiled                                      12   \n",
       "\n",
       "             NODE_999958_length_91_cov_1.021978_17  \\\n",
       "009compiled                                     11   \n",
       "010compiled                                     11   \n",
       "011compiled                                     11   \n",
       "012compiled                                     11   \n",
       "013compiled                                     11   \n",
       "\n",
       "             NODE_999968_length_75_cov_1.680000_37  \\\n",
       "009compiled                                     11   \n",
       "010compiled                                     11   \n",
       "011compiled                                     11   \n",
       "012compiled                                     12   \n",
       "013compiled                                     11   \n",
       "\n",
       "             NODE_999969_length_92_cov_4.271739_37  \n",
       "009compiled                                    NaN  \n",
       "010compiled                                     11  \n",
       "011compiled                                     11  \n",
       "012compiled                                     12  \n",
       "013compiled                                     12  \n",
       "\n",
       "[5 rows x 116233 columns]"
      ]
     },
     "execution_count": 5,
     "metadata": {},
     "output_type": "execute_result"
    }
   ],
   "source": [
    "hierfdf.head()"
   ]
  },
  {
   "cell_type": "code",
   "execution_count": 6,
   "metadata": {
    "collapsed": true
   },
   "outputs": [],
   "source": [
    "hierfdf.to_csv('/home/lindb/wbp/hierfstat/missing/missing_z12_maf_swp_trans_NOIDX.txt',header=True,index=False,sep=\"\\t\")"
   ]
  },
  {
   "cell_type": "markdown",
   "metadata": {},
   "source": [
    "# Put into R\n",
    "\n",
    "```R\n",
    "\n",
    "setwd(\"/home/lindb/wbp/hierfstat/missing/\")\n",
    "get_varcomp = function(x) \n",
    "{\n",
    "    library(hierfstat)\n",
    "    loci = data.frame(x)\n",
    "    res <- varcomp(cbind(levels, loci),diploid=T)$overall\n",
    "}\n",
    "\n",
    "finish_varcomp = function(m) \n",
    "{\n",
    "    tot <- apply(m, 2, sum, na.rm = TRUE)\n",
    "    nblevels <- length(tot)\n",
    "    f <- matrix(rep(0, (nblevels - 1)^2), ncol = (nblevels - 1))\n",
    "    for (i in 1:(nblevels - 1)) \n",
    "    {\n",
    "        for (j in i:(nblevels - 1)) \n",
    "        {\n",
    "            f[i, j] <- sum(tot[i:j])/sum(tot[i:nblevels])\n",
    "        }\n",
    "    }\n",
    "    row.names(m) <- lnames\n",
    "    print(names(tot))\n",
    "    tf <- t(f)\n",
    "    row.names(tf) <- fnames\n",
    "    f <- t(tf)\n",
    "    row.names(f) <- c(\"Total\", fnames[-length(fnames)])\n",
    "    return(list(loc = m, overall = tot, F = f))\n",
    "}\n",
    "\n",
    "\n",
    "library(hierfstat)\n",
    "library(data.table)\n",
    "library(snow)\n",
    "data = data.frame(fread(\"missing_z12_maf_swp_trans_NOIDX.txt\", header=T, sep=\"\\t\"))\n",
    "levels = data.frame(data[,1:2])\n",
    "loci = data[,3:ncol(data)]\n",
    "lnames=names(loci)\n",
    "fnames=c(names(levels), \"Ind\")\n",
    "cl = makeSOCKcluster(50)\n",
    "clusterExport(cl, \"levels\", envir=environment())\n",
    "system.time(res <- matrix(parCapply(cl, loci, get_varcomp), nrow=length(names(loci)),byrow=T))\n",
    "res = finish_varcomp(res)\n",
    "saveRDS(res, \"hierfstatRUN_missing.rds\")\n",
    "system.time(bs <- basic.stats(data))\n",
    "saveRDS(bs, \"bs_hierfstatRUN_missing.rds\")\n",
    "stopCluster(cl)\n",
    "print(\"Done!\")\n",
    "\n",
    "\n",
    "```"
   ]
  },
  {
   "cell_type": "code",
   "execution_count": 7,
   "metadata": {
    "collapsed": true
   },
   "outputs": [],
   "source": [
    "def setup_r(): \n",
    "    os.environ['R_HOME'] = '/home/lindb/g/R3/lib64/R/' \n",
    "    os.environ['LD_LIBRARY_PATH'] = \"%s/lib:%s\" % (os.environ['R_HOME'], \n",
    "                                                   os.environ['LD_LIBRARY_PATH'])"
   ]
  },
  {
   "cell_type": "code",
   "execution_count": 8,
   "metadata": {
    "collapsed": true
   },
   "outputs": [],
   "source": [
    "setup_r()\n",
    "import readline\n",
    "import rpy2.robjects as robjects\n",
    "from rpy2.robjects import pandas2ri as pd2ri\n",
    "pd2ri.activate()\n",
    "r = robjects.r"
   ]
  },
  {
   "cell_type": "code",
   "execution_count": 9,
   "metadata": {
    "collapsed": true
   },
   "outputs": [],
   "source": [
    "%reload_ext autoreload\n",
    "%autoreload 2\n",
    "%matplotlib inline\n",
    "%load_ext rpy2.ipython\n",
    "%matplotlib inline"
   ]
  },
  {
   "cell_type": "code",
   "execution_count": 10,
   "metadata": {
    "collapsed": false
   },
   "outputs": [
    {
     "data": {
      "text/plain": [
       "R version 3.2.2 (2015-08-14)\n",
       "Platform: x86_64-pc-linux-gnu (64-bit)\n",
       "Running under: CentOS release 6.7 (Final)\n",
       "\n",
       "locale:\n",
       " [1] LC_CTYPE=en_US.UTF-8       LC_NUMERIC=C              \n",
       " [3] LC_TIME=en_US.UTF-8        LC_COLLATE=en_US.UTF-8    \n",
       " [5] LC_MONETARY=en_US.UTF-8    LC_MESSAGES=en_US.UTF-8   \n",
       " [7] LC_PAPER=en_US.UTF-8       LC_NAME=C                 \n",
       " [9] LC_ADDRESS=C               LC_TELEPHONE=C            \n",
       "[11] LC_MEASUREMENT=en_US.UTF-8 LC_IDENTIFICATION=C       \n",
       "\n",
       "attached base packages:\n",
       "[1] tools     stats     graphics  grDevices utils     datasets  methods  \n",
       "[8] base     \n"
      ]
     },
     "metadata": {},
     "output_type": "display_data"
    }
   ],
   "source": [
    "%%R\n",
    "sessionInfo()"
   ]
  },
  {
   "cell_type": "code",
   "execution_count": 11,
   "metadata": {
    "collapsed": true
   },
   "outputs": [],
   "source": [
    "def get_r_series(key):\n",
    "    s = pd.Series(get_r(key))\n",
    "    s.index = get_r(\"names(%s)\" % key)\n",
    "    return s\n",
    "\n",
    "def get_r_df(key):\n",
    "    df = pd.DataFrame(get_r(key))\n",
    "    try:\n",
    "        rname = get_r(\"rownames(%s)\" % key)\n",
    "        df.index = rname\n",
    "    except:\n",
    "        pass\n",
    "    \n",
    "    try:\n",
    "        cname = get_r(\"colnames(%s)\" % key)\n",
    "        df.columns = cname\n",
    "    except:\n",
    "        pass\n",
    "    \n",
    "    return df\n",
    "\n",
    "def get_r(key):\n",
    "    return r(key)"
   ]
  },
  {
   "cell_type": "code",
   "execution_count": 12,
   "metadata": {
    "collapsed": true
   },
   "outputs": [],
   "source": [
    "%%R\n",
    "res = readRDS(\"/home/lindb/wbp/hierfstat/missing/hierfstatRUN_missing.rds\")"
   ]
  },
  {
   "cell_type": "code",
   "execution_count": 13,
   "metadata": {
    "collapsed": false
   },
   "outputs": [
    {
     "data": {
      "text/html": [
       "<div>\n",
       "<table border=\"1\" class=\"dataframe\">\n",
       "  <thead>\n",
       "    <tr style=\"text-align: right;\">\n",
       "      <th></th>\n",
       "      <th>popid</th>\n",
       "      <th>plotid</th>\n",
       "      <th>Ind</th>\n",
       "    </tr>\n",
       "  </thead>\n",
       "  <tbody>\n",
       "    <tr>\n",
       "      <th>Total</th>\n",
       "      <td>0.004442</td>\n",
       "      <td>0.007940</td>\n",
       "      <td>-0.100050</td>\n",
       "    </tr>\n",
       "    <tr>\n",
       "      <th>popid</th>\n",
       "      <td>0.000000</td>\n",
       "      <td>0.003514</td>\n",
       "      <td>-0.104957</td>\n",
       "    </tr>\n",
       "    <tr>\n",
       "      <th>plotid</th>\n",
       "      <td>0.000000</td>\n",
       "      <td>0.000000</td>\n",
       "      <td>-0.108854</td>\n",
       "    </tr>\n",
       "  </tbody>\n",
       "</table>\n",
       "</div>"
      ],
      "text/plain": [
       "           popid    plotid       Ind\n",
       "Total   0.004442  0.007940 -0.100050\n",
       "popid   0.000000  0.003514 -0.104957\n",
       "plotid  0.000000  0.000000 -0.108854"
      ]
     },
     "execution_count": 13,
     "metadata": {},
     "output_type": "execute_result"
    }
   ],
   "source": [
    "resF = get_r_df(\"res$F\")\n",
    "resF"
   ]
  },
  {
   "cell_type": "code",
   "execution_count": 14,
   "metadata": {
    "collapsed": false
   },
   "outputs": [
    {
     "data": {
      "text/html": [
       "<div>\n",
       "<table border=\"1\" class=\"dataframe\">\n",
       "  <thead>\n",
       "    <tr style=\"text-align: right;\">\n",
       "      <th></th>\n",
       "      <th>0</th>\n",
       "    </tr>\n",
       "  </thead>\n",
       "  <tbody>\n",
       "    <tr>\n",
       "      <th>0</th>\n",
       "      <td>130.936685</td>\n",
       "    </tr>\n",
       "    <tr>\n",
       "      <th>1</th>\n",
       "      <td>103.124602</td>\n",
       "    </tr>\n",
       "    <tr>\n",
       "      <th>2</th>\n",
       "      <td>-3183.546095</td>\n",
       "    </tr>\n",
       "    <tr>\n",
       "      <th>3</th>\n",
       "      <td>32429.685176</td>\n",
       "    </tr>\n",
       "  </tbody>\n",
       "</table>\n",
       "</div>"
      ],
      "text/plain": [
       "              0\n",
       "0    130.936685\n",
       "1    103.124602\n",
       "2  -3183.546095\n",
       "3  32429.685176"
      ]
     },
     "execution_count": 14,
     "metadata": {},
     "output_type": "execute_result"
    }
   ],
   "source": [
    "overall = get_r_df(\"res$overall\")\n",
    "overall"
   ]
  },
  {
   "cell_type": "code",
   "execution_count": 15,
   "metadata": {
    "collapsed": false
   },
   "outputs": [
    {
     "data": {
      "text/html": [
       "<div>\n",
       "<table border=\"1\" class=\"dataframe\">\n",
       "  <thead>\n",
       "    <tr style=\"text-align: right;\">\n",
       "      <th></th>\n",
       "      <th>0</th>\n",
       "      <th>1</th>\n",
       "      <th>2</th>\n",
       "      <th>3</th>\n",
       "    </tr>\n",
       "  </thead>\n",
       "  <tbody>\n",
       "    <tr>\n",
       "      <th>NODE_1000013_length_91_cov_1.802198_37</th>\n",
       "      <td>0.005071</td>\n",
       "      <td>-0.015490</td>\n",
       "      <td>0.135857</td>\n",
       "      <td>0.171598</td>\n",
       "    </tr>\n",
       "    <tr>\n",
       "      <th>NODE_1000031_length_98_cov_2.000000_30</th>\n",
       "      <td>-0.001182</td>\n",
       "      <td>-0.003903</td>\n",
       "      <td>-0.033064</td>\n",
       "      <td>0.277419</td>\n",
       "    </tr>\n",
       "    <tr>\n",
       "      <th>NODE_1000037_length_93_cov_2.043011_33</th>\n",
       "      <td>-0.000462</td>\n",
       "      <td>-0.005312</td>\n",
       "      <td>-0.036442</td>\n",
       "      <td>0.291667</td>\n",
       "    </tr>\n",
       "    <tr>\n",
       "      <th>NODE_1000042_length_93_cov_1.118280_100</th>\n",
       "      <td>-0.003369</td>\n",
       "      <td>-0.000120</td>\n",
       "      <td>-0.012285</td>\n",
       "      <td>0.178295</td>\n",
       "    </tr>\n",
       "    <tr>\n",
       "      <th>NODE_1000053_length_94_cov_1.744681_25</th>\n",
       "      <td>-0.001228</td>\n",
       "      <td>0.001638</td>\n",
       "      <td>-0.001841</td>\n",
       "      <td>0.054187</td>\n",
       "    </tr>\n",
       "  </tbody>\n",
       "</table>\n",
       "</div>"
      ],
      "text/plain": [
       "                                                0         1         2  \\\n",
       "NODE_1000013_length_91_cov_1.802198_37   0.005071 -0.015490  0.135857   \n",
       "NODE_1000031_length_98_cov_2.000000_30  -0.001182 -0.003903 -0.033064   \n",
       "NODE_1000037_length_93_cov_2.043011_33  -0.000462 -0.005312 -0.036442   \n",
       "NODE_1000042_length_93_cov_1.118280_100 -0.003369 -0.000120 -0.012285   \n",
       "NODE_1000053_length_94_cov_1.744681_25  -0.001228  0.001638 -0.001841   \n",
       "\n",
       "                                                3  \n",
       "NODE_1000013_length_91_cov_1.802198_37   0.171598  \n",
       "NODE_1000031_length_98_cov_2.000000_30   0.277419  \n",
       "NODE_1000037_length_93_cov_2.043011_33   0.291667  \n",
       "NODE_1000042_length_93_cov_1.118280_100  0.178295  \n",
       "NODE_1000053_length_94_cov_1.744681_25   0.054187  "
      ]
     },
     "execution_count": 15,
     "metadata": {},
     "output_type": "execute_result"
    }
   ],
   "source": [
    "loc = get_r_df(\"res$loc\")\n",
    "loc.head()"
   ]
  },
  {
   "cell_type": "code",
   "execution_count": 16,
   "metadata": {
    "collapsed": false
   },
   "outputs": [],
   "source": [
    "def compute_F_plotTotal(series):\n",
    "    Hs = series[0]+series[1]\n",
    "    Ht = sum(series)\n",
    "    return Hs/Ht"
   ]
  },
  {
   "cell_type": "code",
   "execution_count": 17,
   "metadata": {
    "collapsed": false
   },
   "outputs": [
    {
     "data": {
      "text/plain": [
       "((116231,), NODE_1000013_length_91_cov_1.802198_37    -0.035077\n",
       " NODE_1000031_length_98_cov_2.000000_30    -0.021254\n",
       " NODE_1000037_length_93_cov_2.043011_33    -0.023150\n",
       " NODE_1000042_length_93_cov_1.118280_100   -0.021468\n",
       " NODE_1000053_length_94_cov_1.744681_25     0.007779\n",
       " dtype: float64)"
      ]
     },
     "execution_count": 17,
     "metadata": {},
     "output_type": "execute_result"
    }
   ],
   "source": [
    "plot_total_fst = loc.apply(compute_F_plotTotal, axis=1)\n",
    "plot_total_fst.shape,plot_total_fst.head()"
   ]
  },
  {
   "cell_type": "code",
   "execution_count": 18,
   "metadata": {
    "collapsed": false
   },
   "outputs": [
    {
     "data": {
      "text/plain": [
       "<a list of 29 Patch objects>"
      ]
     },
     "execution_count": 18,
     "metadata": {},
     "output_type": "execute_result"
    },
    {
     "data": {
      "image/png": "[encoded data removed]",
      "text/plain": [
       "<matplotlib.figure.Figure at 0x2b00ec119cd0>"
      ]
     },
     "metadata": {},
     "output_type": "display_data"
    }
   ],
   "source": [
    "plt.hist(plot_total_fst, bins = [x for x in np.linspace(-0.1,0.15,30)])[2]"
   ]
  },
  {
   "cell_type": "code",
   "execution_count": 19,
   "metadata": {
    "collapsed": true
   },
   "outputs": [],
   "source": [
    "def compute_F_popTotal(series):\n",
    "    return series[0]/sum(series)"
   ]
  },
  {
   "cell_type": "code",
   "execution_count": 20,
   "metadata": {
    "collapsed": false
   },
   "outputs": [
    {
     "data": {
      "text/plain": [
       "((116231,), NODE_1000013_length_91_cov_1.802198_37     0.017072\n",
       " NODE_1000031_length_98_cov_2.000000_30    -0.004942\n",
       " NODE_1000037_length_93_cov_2.043011_33    -0.001854\n",
       " NODE_1000042_length_93_cov_1.118280_100   -0.020731\n",
       " NODE_1000053_length_94_cov_1.744681_25    -0.023275\n",
       " dtype: float64)"
      ]
     },
     "execution_count": 20,
     "metadata": {},
     "output_type": "execute_result"
    }
   ],
   "source": [
    "pop_total_fst = loc.apply(compute_F_popTotal, axis = 1)\n",
    "pop_total_fst.shape,pop_total_fst.head()"
   ]
  },
  {
   "cell_type": "code",
   "execution_count": 21,
   "metadata": {
    "collapsed": false
   },
   "outputs": [
    {
     "data": {
      "text/plain": [
       "<a list of 29 Patch objects>"
      ]
     },
     "execution_count": 21,
     "metadata": {},
     "output_type": "execute_result"
    },
    {
     "data": {
      "image/png": "[encoded data removed]",
      "text/plain": [
       "<matplotlib.figure.Figure at 0x2b00f3bee790>"
      ]
     },
     "metadata": {},
     "output_type": "display_data"
    }
   ],
   "source": [
    "plt.hist(pop_total_fst, bins = [x for x in np.linspace(-0.1,0.1,30)])[2]"
   ]
  },
  {
   "cell_type": "code",
   "execution_count": 22,
   "metadata": {
    "collapsed": true
   },
   "outputs": [],
   "source": [
    "def compute_F_plotPop(series):\n",
    "    return series[1]/sum(series[1:])"
   ]
  },
  {
   "cell_type": "code",
   "execution_count": 23,
   "metadata": {
    "collapsed": false
   },
   "outputs": [
    {
     "data": {
      "text/plain": [
       "((116231,), NODE_1000013_length_91_cov_1.802198_37    -0.053055\n",
       " NODE_1000031_length_98_cov_2.000000_30    -0.016232\n",
       " NODE_1000037_length_93_cov_2.043011_33    -0.021257\n",
       " NODE_1000042_length_93_cov_1.118280_100   -0.000722\n",
       " NODE_1000053_length_94_cov_1.744681_25     0.030348\n",
       " dtype: float64)"
      ]
     },
     "execution_count": 23,
     "metadata": {},
     "output_type": "execute_result"
    }
   ],
   "source": [
    "plot_pop_fst = loc.apply(compute_F_plotPop,axis=1)\n",
    "plot_pop_fst.shape,plot_pop_fst.head()"
   ]
  },
  {
   "cell_type": "code",
   "execution_count": 24,
   "metadata": {
    "collapsed": false
   },
   "outputs": [
    {
     "data": {
      "text/plain": [
       "<a list of 29 Patch objects>"
      ]
     },
     "execution_count": 24,
     "metadata": {},
     "output_type": "execute_result"
    },
    {
     "data": {
      "image/png": "[encoded data removed]",
      "text/plain": [
       "<matplotlib.figure.Figure at 0x2b00f40a0150>"
      ]
     },
     "metadata": {},
     "output_type": "display_data"
    }
   ],
   "source": [
    "plt.hist(plot_pop_fst, bins = [x for x in np.linspace(-0.11,0.11,30)])[2]"
   ]
  },
  {
   "cell_type": "code",
   "execution_count": 25,
   "metadata": {
    "collapsed": false
   },
   "outputs": [
    {
     "data": {
      "text/html": [
       "<div>\n",
       "<table border=\"1\" class=\"dataframe\">\n",
       "  <thead>\n",
       "    <tr style=\"text-align: right;\">\n",
       "      <th></th>\n",
       "      <th>pop_total</th>\n",
       "      <th>plot_total</th>\n",
       "      <th>plot_pop</th>\n",
       "    </tr>\n",
       "  </thead>\n",
       "  <tbody>\n",
       "    <tr>\n",
       "      <th>NODE_1000013_length_91_cov_1.802198_37</th>\n",
       "      <td>0.017072</td>\n",
       "      <td>-0.035077</td>\n",
       "      <td>-0.053055</td>\n",
       "    </tr>\n",
       "    <tr>\n",
       "      <th>NODE_1000031_length_98_cov_2.000000_30</th>\n",
       "      <td>-0.004942</td>\n",
       "      <td>-0.021254</td>\n",
       "      <td>-0.016232</td>\n",
       "    </tr>\n",
       "    <tr>\n",
       "      <th>NODE_1000037_length_93_cov_2.043011_33</th>\n",
       "      <td>-0.001854</td>\n",
       "      <td>-0.023150</td>\n",
       "      <td>-0.021257</td>\n",
       "    </tr>\n",
       "    <tr>\n",
       "      <th>NODE_1000042_length_93_cov_1.118280_100</th>\n",
       "      <td>-0.020731</td>\n",
       "      <td>-0.021468</td>\n",
       "      <td>-0.000722</td>\n",
       "    </tr>\n",
       "    <tr>\n",
       "      <th>NODE_1000053_length_94_cov_1.744681_25</th>\n",
       "      <td>-0.023275</td>\n",
       "      <td>0.007779</td>\n",
       "      <td>0.030348</td>\n",
       "    </tr>\n",
       "  </tbody>\n",
       "</table>\n",
       "</div>"
      ],
      "text/plain": [
       "                                         pop_total  plot_total  plot_pop\n",
       "NODE_1000013_length_91_cov_1.802198_37    0.017072   -0.035077 -0.053055\n",
       "NODE_1000031_length_98_cov_2.000000_30   -0.004942   -0.021254 -0.016232\n",
       "NODE_1000037_length_93_cov_2.043011_33   -0.001854   -0.023150 -0.021257\n",
       "NODE_1000042_length_93_cov_1.118280_100  -0.020731   -0.021468 -0.000722\n",
       "NODE_1000053_length_94_cov_1.744681_25   -0.023275    0.007779  0.030348"
      ]
     },
     "execution_count": 25,
     "metadata": {},
     "output_type": "execute_result"
    }
   ],
   "source": [
    "dfs = [pop_total_fst,plot_total_fst,plot_pop_fst]\n",
    "ds = [\"pop_total\",\"plot_total\",\"plot_pop\"]\n",
    "for i,d in enumerate(dfs):\n",
    "    d = pd.DataFrame(d)\n",
    "    d.columns = [ds[i]]\n",
    "    if i == 0:\n",
    "        df = pd.DataFrame(d)\n",
    "    else:\n",
    "        df = pd.merge(df,d,left_index=True,right_index=True)\n",
    "df.head()"
   ]
  },
  {
   "cell_type": "code",
   "execution_count": 27,
   "metadata": {
    "collapsed": false,
    "scrolled": true
   },
   "outputs": [
    {
     "name": "stdout",
     "output_type": "stream",
     "text": [
      "1000\n",
      "2000\n",
      "3000\n",
      "4000\n",
      "5000\n",
      "6000\n",
      "7000\n",
      "8000\n",
      "9000\n",
      "10000\n",
      "11000\n",
      "12000\n",
      "13000\n",
      "14000\n",
      "15000\n",
      "16000\n",
      "17000\n",
      "18000\n",
      "19000\n",
      "20000\n",
      "21000\n",
      "22000\n",
      "23000\n",
      "24000\n",
      "25000\n",
      "26000\n",
      "27000\n",
      "28000\n",
      "29000\n",
      "30000\n",
      "31000\n",
      "32000\n",
      "33000\n",
      "34000\n",
      "35000\n",
      "36000\n",
      "37000\n",
      "38000\n",
      "39000\n",
      "40000\n",
      "41000\n",
      "42000\n",
      "43000\n",
      "44000\n",
      "45000\n",
      "46000\n",
      "47000\n",
      "48000\n",
      "49000\n",
      "50000\n",
      "51000\n",
      "52000\n",
      "53000\n",
      "54000\n",
      "55000\n",
      "56000\n",
      "57000\n",
      "58000\n",
      "59000\n",
      "60000\n",
      "61000\n",
      "62000\n",
      "63000\n",
      "64000\n",
      "65000\n",
      "66000\n",
      "67000\n",
      "68000\n",
      "69000\n",
      "70000\n",
      "71000\n",
      "72000\n",
      "73000\n",
      "74000\n",
      "75000\n",
      "76000\n",
      "77000\n",
      "78000\n",
      "79000\n",
      "80000\n",
      "81000\n",
      "82000\n",
      "83000\n",
      "84000\n",
      "85000\n",
      "86000\n",
      "87000\n",
      "88000\n",
      "89000\n",
      "90000\n",
      "91000\n",
      "92000\n",
      "93000\n",
      "94000\n",
      "95000\n",
      "96000\n",
      "97000\n",
      "98000\n",
      "99000\n",
      "100000\n",
      "101000\n",
      "102000\n",
      "103000\n",
      "104000\n",
      "105000\n",
      "106000\n",
      "107000\n",
      "108000\n",
      "109000\n",
      "110000\n",
      "111000\n",
      "112000\n",
      "113000\n",
      "114000\n",
      "115000\n",
      "116000\n"
     ]
    }
   ],
   "source": [
    "locDict = OrderedDict()\n",
    "j = 0\n",
    "for i,SNP in enumerate(hierfdf.columns[2:]):\n",
    "    l = len([x for x in hierfdf.loc[:,SNP] if x > 0])\n",
    "    pthere = l/len(hierfdf.index)\n",
    "    locDict[SNP] = pthere\n",
    "    j+=1\n",
    "    if j % 1000 == 0:\n",
    "        print j"
   ]
  },
  {
   "cell_type": "code",
   "execution_count": 28,
   "metadata": {
    "collapsed": false
   },
   "outputs": [
    {
     "data": {
      "text/html": [
       "<div>\n",
       "<table border=\"1\" class=\"dataframe\">\n",
       "  <thead>\n",
       "    <tr style=\"text-align: right;\">\n",
       "      <th></th>\n",
       "      <th>perc data</th>\n",
       "    </tr>\n",
       "  </thead>\n",
       "  <tbody>\n",
       "    <tr>\n",
       "      <th>NODE_1000013_length_91_cov_1.802198_37</th>\n",
       "      <td>0.692623</td>\n",
       "    </tr>\n",
       "    <tr>\n",
       "      <th>NODE_1000031_length_98_cov_2.000000_30</th>\n",
       "      <td>0.635246</td>\n",
       "    </tr>\n",
       "    <tr>\n",
       "      <th>NODE_1000037_length_93_cov_2.043011_33</th>\n",
       "      <td>0.688525</td>\n",
       "    </tr>\n",
       "    <tr>\n",
       "      <th>NODE_1000042_length_93_cov_1.118280_100</th>\n",
       "      <td>0.528689</td>\n",
       "    </tr>\n",
       "    <tr>\n",
       "      <th>NODE_1000053_length_94_cov_1.744681_25</th>\n",
       "      <td>0.831967</td>\n",
       "    </tr>\n",
       "  </tbody>\n",
       "</table>\n",
       "</div>"
      ],
      "text/plain": [
       "                                         perc data\n",
       "NODE_1000013_length_91_cov_1.802198_37    0.692623\n",
       "NODE_1000031_length_98_cov_2.000000_30    0.635246\n",
       "NODE_1000037_length_93_cov_2.043011_33    0.688525\n",
       "NODE_1000042_length_93_cov_1.118280_100   0.528689\n",
       "NODE_1000053_length_94_cov_1.744681_25    0.831967"
      ]
     },
     "execution_count": 28,
     "metadata": {},
     "output_type": "execute_result"
    }
   ],
   "source": [
    "perc = pd.DataFrame()\n",
    "perc[0] = locDict.values()\n",
    "perc.index = locDict.keys()\n",
    "perc.columns = ['perc data']\n",
    "perc.head()"
   ]
  },
  {
   "cell_type": "code",
   "execution_count": 29,
   "metadata": {
    "collapsed": false
   },
   "outputs": [
    {
     "data": {
      "text/plain": [
       "(116231, 1)"
      ]
     },
     "execution_count": 29,
     "metadata": {},
     "output_type": "execute_result"
    }
   ],
   "source": [
    "perc.shape"
   ]
  },
  {
   "cell_type": "code",
   "execution_count": 30,
   "metadata": {
    "collapsed": false
   },
   "outputs": [
    {
     "data": {
      "text/html": [
       "<div>\n",
       "<table border=\"1\" class=\"dataframe\">\n",
       "  <thead>\n",
       "    <tr style=\"text-align: right;\">\n",
       "      <th></th>\n",
       "      <th>pop_total</th>\n",
       "      <th>plot_total</th>\n",
       "      <th>plot_pop</th>\n",
       "      <th>perc data</th>\n",
       "    </tr>\n",
       "  </thead>\n",
       "  <tbody>\n",
       "    <tr>\n",
       "      <th>NODE_1000013_length_91_cov_1.802198_37</th>\n",
       "      <td>0.017072</td>\n",
       "      <td>-0.035077</td>\n",
       "      <td>-0.053055</td>\n",
       "      <td>0.692623</td>\n",
       "    </tr>\n",
       "    <tr>\n",
       "      <th>NODE_1000031_length_98_cov_2.000000_30</th>\n",
       "      <td>-0.004942</td>\n",
       "      <td>-0.021254</td>\n",
       "      <td>-0.016232</td>\n",
       "      <td>0.635246</td>\n",
       "    </tr>\n",
       "    <tr>\n",
       "      <th>NODE_1000037_length_93_cov_2.043011_33</th>\n",
       "      <td>-0.001854</td>\n",
       "      <td>-0.023150</td>\n",
       "      <td>-0.021257</td>\n",
       "      <td>0.688525</td>\n",
       "    </tr>\n",
       "    <tr>\n",
       "      <th>NODE_1000042_length_93_cov_1.118280_100</th>\n",
       "      <td>-0.020731</td>\n",
       "      <td>-0.021468</td>\n",
       "      <td>-0.000722</td>\n",
       "      <td>0.528689</td>\n",
       "    </tr>\n",
       "    <tr>\n",
       "      <th>NODE_1000053_length_94_cov_1.744681_25</th>\n",
       "      <td>-0.023275</td>\n",
       "      <td>0.007779</td>\n",
       "      <td>0.030348</td>\n",
       "      <td>0.831967</td>\n",
       "    </tr>\n",
       "  </tbody>\n",
       "</table>\n",
       "</div>"
      ],
      "text/plain": [
       "                                         pop_total  plot_total  plot_pop  \\\n",
       "NODE_1000013_length_91_cov_1.802198_37    0.017072   -0.035077 -0.053055   \n",
       "NODE_1000031_length_98_cov_2.000000_30   -0.004942   -0.021254 -0.016232   \n",
       "NODE_1000037_length_93_cov_2.043011_33   -0.001854   -0.023150 -0.021257   \n",
       "NODE_1000042_length_93_cov_1.118280_100  -0.020731   -0.021468 -0.000722   \n",
       "NODE_1000053_length_94_cov_1.744681_25   -0.023275    0.007779  0.030348   \n",
       "\n",
       "                                         perc data  \n",
       "NODE_1000013_length_91_cov_1.802198_37    0.692623  \n",
       "NODE_1000031_length_98_cov_2.000000_30    0.635246  \n",
       "NODE_1000037_length_93_cov_2.043011_33    0.688525  \n",
       "NODE_1000042_length_93_cov_1.118280_100   0.528689  \n",
       "NODE_1000053_length_94_cov_1.744681_25    0.831967  "
      ]
     },
     "execution_count": 30,
     "metadata": {},
     "output_type": "execute_result"
    }
   ],
   "source": [
    "df = pd.merge(df,perc,left_index=True,right_index=True)\n",
    "df.head()"
   ]
  },
  {
   "cell_type": "code",
   "execution_count": 31,
   "metadata": {
    "collapsed": false
   },
   "outputs": [
    {
     "data": {
      "text/html": [
       "<div>\n",
       "<table border=\"1\" class=\"dataframe\">\n",
       "  <thead>\n",
       "    <tr style=\"text-align: right;\">\n",
       "      <th></th>\n",
       "      <th>pop_total</th>\n",
       "      <th>plot_total</th>\n",
       "      <th>plot_pop</th>\n",
       "      <th>perc data</th>\n",
       "    </tr>\n",
       "  </thead>\n",
       "  <tbody>\n",
       "    <tr>\n",
       "      <th>NODE_1000013_length_91_cov_1.802198_37</th>\n",
       "      <td>0.017072</td>\n",
       "      <td>-0.035077</td>\n",
       "      <td>-0.053055</td>\n",
       "      <td>0.692623</td>\n",
       "    </tr>\n",
       "    <tr>\n",
       "      <th>NODE_1000031_length_98_cov_2.000000_30</th>\n",
       "      <td>-0.004942</td>\n",
       "      <td>-0.021254</td>\n",
       "      <td>-0.016232</td>\n",
       "      <td>0.635246</td>\n",
       "    </tr>\n",
       "    <tr>\n",
       "      <th>NODE_1000037_length_93_cov_2.043011_33</th>\n",
       "      <td>-0.001854</td>\n",
       "      <td>-0.023150</td>\n",
       "      <td>-0.021257</td>\n",
       "      <td>0.688525</td>\n",
       "    </tr>\n",
       "    <tr>\n",
       "      <th>NODE_1000042_length_93_cov_1.118280_100</th>\n",
       "      <td>-0.020731</td>\n",
       "      <td>-0.021468</td>\n",
       "      <td>-0.000722</td>\n",
       "      <td>0.528689</td>\n",
       "    </tr>\n",
       "    <tr>\n",
       "      <th>NODE_1000053_length_94_cov_1.744681_25</th>\n",
       "      <td>-0.023275</td>\n",
       "      <td>0.007779</td>\n",
       "      <td>0.030348</td>\n",
       "      <td>0.831967</td>\n",
       "    </tr>\n",
       "  </tbody>\n",
       "</table>\n",
       "</div>"
      ],
      "text/plain": [
       "                                         pop_total  plot_total  plot_pop  \\\n",
       "NODE_1000013_length_91_cov_1.802198_37    0.017072   -0.035077 -0.053055   \n",
       "NODE_1000031_length_98_cov_2.000000_30   -0.004942   -0.021254 -0.016232   \n",
       "NODE_1000037_length_93_cov_2.043011_33   -0.001854   -0.023150 -0.021257   \n",
       "NODE_1000042_length_93_cov_1.118280_100  -0.020731   -0.021468 -0.000722   \n",
       "NODE_1000053_length_94_cov_1.744681_25   -0.023275    0.007779  0.030348   \n",
       "\n",
       "                                         perc data  \n",
       "NODE_1000013_length_91_cov_1.802198_37    0.692623  \n",
       "NODE_1000031_length_98_cov_2.000000_30    0.635246  \n",
       "NODE_1000037_length_93_cov_2.043011_33    0.688525  \n",
       "NODE_1000042_length_93_cov_1.118280_100   0.528689  \n",
       "NODE_1000053_length_94_cov_1.744681_25    0.831967  "
      ]
     },
     "execution_count": 31,
     "metadata": {},
     "output_type": "execute_result"
    }
   ],
   "source": [
    "df.head()"
   ]
  },
  {
   "cell_type": "code",
   "execution_count": 32,
   "metadata": {
    "collapsed": true
   },
   "outputs": [],
   "source": [
    "filE = '/home/lindb/wbp/hierfstat/missing/missing_hierarchical_Fstats.txt'\n",
    "df.to_csv(filE, header=True,index=True,sep=\"\\t\")"
   ]
  },
  {
   "cell_type": "code",
   "execution_count": 33,
   "metadata": {
    "collapsed": false
   },
   "outputs": [
    {
     "data": {
      "text/plain": [
       "(0.5, 0.91393442622950816)"
      ]
     },
     "execution_count": 33,
     "metadata": {},
     "output_type": "execute_result"
    }
   ],
   "source": [
    "min(df['perc data']),max(df['perc data'])"
   ]
  },
  {
   "cell_type": "code",
   "execution_count": null,
   "metadata": {
    "collapsed": true
   },
   "outputs": [],
   "source": []
  },
  {
   "cell_type": "code",
   "execution_count": null,
   "metadata": {
    "collapsed": true
   },
   "outputs": [],
   "source": []
  },
  {
   "cell_type": "code",
   "execution_count": null,
   "metadata": {
    "collapsed": true
   },
   "outputs": [],
   "source": []
  },
  {
   "cell_type": "code",
   "execution_count": null,
   "metadata": {
    "collapsed": true
   },
   "outputs": [],
   "source": []
  },
  {
   "cell_type": "code",
   "execution_count": null,
   "metadata": {
    "collapsed": true
   },
   "outputs": [],
   "source": []
  },
  {
   "cell_type": "code",
   "execution_count": null,
   "metadata": {
    "collapsed": true
   },
   "outputs": [],
   "source": []
  },
  {
   "cell_type": "code",
   "execution_count": null,
   "metadata": {
    "collapsed": true
   },
   "outputs": [],
   "source": []
  },
  {
   "cell_type": "code",
   "execution_count": null,
   "metadata": {
    "collapsed": true
   },
   "outputs": [],
   "source": []
  },
  {
   "cell_type": "code",
   "execution_count": null,
   "metadata": {
    "collapsed": true
   },
   "outputs": [],
   "source": []
  },
  {
   "cell_type": "code",
   "execution_count": null,
   "metadata": {
    "collapsed": true
   },
   "outputs": [],
   "source": []
  },
  {
   "cell_type": "code",
   "execution_count": null,
   "metadata": {
    "collapsed": true
   },
   "outputs": [],
   "source": []
  },
  {
   "cell_type": "code",
   "execution_count": null,
   "metadata": {
    "collapsed": true
   },
   "outputs": [],
   "source": []
  },
  {
   "cell_type": "code",
   "execution_count": null,
   "metadata": {
    "collapsed": true
   },
   "outputs": [],
   "source": []
  },
  {
   "cell_type": "code",
   "execution_count": null,
   "metadata": {
    "collapsed": true
   },
   "outputs": [],
   "source": []
  },
  {
   "cell_type": "code",
   "execution_count": null,
   "metadata": {
    "collapsed": true
   },
   "outputs": [],
   "source": []
  },
  {
   "cell_type": "code",
   "execution_count": null,
   "metadata": {
    "collapsed": true
   },
   "outputs": [],
   "source": []
  },
  {
   "cell_type": "code",
   "execution_count": null,
   "metadata": {
    "collapsed": true
   },
   "outputs": [],
   "source": []
  },
  {
   "cell_type": "code",
   "execution_count": null,
   "metadata": {
    "collapsed": true
   },
   "outputs": [],
   "source": []
  },
  {
   "cell_type": "code",
   "execution_count": null,
   "metadata": {
    "collapsed": true
   },
   "outputs": [],
   "source": []
  },
  {
   "cell_type": "code",
   "execution_count": null,
   "metadata": {
    "collapsed": true
   },
   "outputs": [],
   "source": []
  },
  {
   "cell_type": "code",
   "execution_count": null,
   "metadata": {
    "collapsed": true
   },
   "outputs": [],
   "source": []
  },
  {
   "cell_type": "code",
   "execution_count": null,
   "metadata": {
    "collapsed": true
   },
   "outputs": [],
   "source": []
  },
  {
   "cell_type": "code",
   "execution_count": null,
   "metadata": {
    "collapsed": true
   },
   "outputs": [],
   "source": []
  },
  {
   "cell_type": "code",
   "execution_count": null,
   "metadata": {
    "collapsed": true
   },
   "outputs": [],
   "source": []
  },
  {
   "cell_type": "code",
   "execution_count": null,
   "metadata": {
    "collapsed": true
   },
   "outputs": [],
   "source": []
  },
  {
   "cell_type": "code",
   "execution_count": null,
   "metadata": {
    "collapsed": true
   },
   "outputs": [],
   "source": []
  },
  {
   "cell_type": "code",
   "execution_count": null,
   "metadata": {
    "collapsed": true
   },
   "outputs": [],
   "source": []
  },
  {
   "cell_type": "code",
   "execution_count": null,
   "metadata": {
    "collapsed": true
   },
   "outputs": [],
   "source": []
  },
  {
   "cell_type": "code",
   "execution_count": null,
   "metadata": {
    "collapsed": true
   },
   "outputs": [],
   "source": []
  },
  {
   "cell_type": "code",
   "execution_count": null,
   "metadata": {
    "collapsed": true
   },
   "outputs": [],
   "source": []
  },
  {
   "cell_type": "code",
   "execution_count": null,
   "metadata": {
    "collapsed": true
   },
   "outputs": [],
   "source": []
  },
  {
   "cell_type": "code",
   "execution_count": null,
   "metadata": {
    "collapsed": true
   },
   "outputs": [],
   "source": []
  },
  {
   "cell_type": "code",
   "execution_count": null,
   "metadata": {
    "collapsed": true
   },
   "outputs": [],
   "source": []
  },
  {
   "cell_type": "code",
   "execution_count": null,
   "metadata": {
    "collapsed": true
   },
   "outputs": [],
   "source": []
  }
 ],
 "metadata": {
  "kernelspec": {
   "display_name": "Python 2",
   "language": "python",
   "name": "python2"
  },
  "language_info": {
   "codemirror_mode": {
    "name": "ipython",
    "version": 2
   },
   "file_extension": ".py",
   "mimetype": "text/x-python",
   "name": "python",
   "nbconvert_exporter": "python",
   "pygments_lexer": "ipython2",
   "version": "2.7.11"
  }
 },
 "nbformat": 4,
 "nbformat_minor": 0
}
