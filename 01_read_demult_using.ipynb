{
 "cells": [
  {
   "cell_type": "code",
   "execution_count": 1,
   "metadata": {
    "collapsed": false
   },
   "outputs": [],
   "source": [
    "import os,sys\n",
    "from ipyparallel import Client\n",
    "from collections import defaultdict\n",
    "import tempfile\n",
    "from Bio.SeqIO.QualityIO import FastqGeneralIterator\n",
    "import socket\n",
    "import stopwatch\n",
    "from multiprocessing import Pool, Manager\n",
    "import shutil\n",
    "import tempfile\n",
    "from collections import OrderedDict\n",
    "import pandas as pd\n",
    "import numpy as np"
   ]
  },
  {
   "cell_type": "code",
   "execution_count": 393,
   "metadata": {
    "collapsed": true
   },
   "outputs": [],
   "source": [
    "import shutil"
   ]
  },
  {
   "cell_type": "code",
   "execution_count": 21,
   "metadata": {
    "collapsed": false,
    "scrolled": true
   },
   "outputs": [
    {
     "data": {
      "text/plain": [
       "735"
      ]
     },
     "execution_count": 21,
     "metadata": {},
     "output_type": "execute_result"
    }
   ],
   "source": [
    "file_dir = \"/gpfs_fs/home/lindb/wbp/raw_reads\"\n",
    "proc_files = []\n",
    "for root, dirs, files in os.walk(file_dir):\n",
    "    for f in files:\n",
    "        if f.startswith('WBP'):\n",
    "            proc_files.append(os.path.join(root,f))\n",
    "len(proc_files)"
   ]
  },
  {
   "cell_type": "code",
   "execution_count": 23,
   "metadata": {
    "collapsed": false
   },
   "outputs": [
    {
     "data": {
      "text/plain": [
       "'/gpfs_fs/home/lindb/wbp/raw_reads/50bp_reads/Sample_WBP02_2/WBP02_2_NoIndex_L004_R1_024.fastq'"
      ]
     },
     "execution_count": 23,
     "metadata": {},
     "output_type": "execute_result"
    }
   ],
   "source": [
    "proc_files[199]"
   ]
  },
  {
   "cell_type": "code",
   "execution_count": 24,
   "metadata": {
    "collapsed": false
   },
   "outputs": [
    {
     "data": {
      "text/plain": [
       "'/gpfs_fs/home/lindb/wbp/raw_reads/150bp_reads/Sample_WBP01_1/WBP01_1_NoIndex_L001_R1_001.fastq'"
      ]
     },
     "execution_count": 24,
     "metadata": {},
     "output_type": "execute_result"
    }
   ],
   "source": [
    "sorted(proc_files)[0]"
   ]
  },
  {
   "cell_type": "code",
   "execution_count": 25,
   "metadata": {
    "collapsed": true
   },
   "outputs": [
    {
     "data": {
      "text/plain": [
       "['/gpfs_fs/home/lindb/wbp/raw_reads/50bp_reads/Sample_WBP01_1/WBP01_1_NoIndex_L001_R1_001.fastq',\n",
       " '/gpfs_fs/home/lindb/wbp/raw_reads/50bp_reads/Sample_WBP01_1/WBP01_1_NoIndex_L001_R1_002.fastq',\n",
       " '/gpfs_fs/home/lindb/wbp/raw_reads/50bp_reads/Sample_WBP01_1/WBP01_1_NoIndex_L001_R1_003.fastq',\n",
       " '/gpfs_fs/home/lindb/wbp/raw_reads/50bp_reads/Sample_WBP01_1/WBP01_1_NoIndex_L001_R1_004.fastq',\n",
       " '/gpfs_fs/home/lindb/wbp/raw_reads/50bp_reads/Sample_WBP01_1/WBP01_1_NoIndex_L001_R1_005.fastq',\n",
       " '/gpfs_fs/home/lindb/wbp/raw_reads/50bp_reads/Sample_WBP01_1/WBP01_1_NoIndex_L001_R1_006.fastq',\n",
       " '/gpfs_fs/home/lindb/wbp/raw_reads/50bp_reads/Sample_WBP01_1/WBP01_1_NoIndex_L001_R1_007.fastq',\n",
       " '/gpfs_fs/home/lindb/wbp/raw_reads/50bp_reads/Sample_WBP01_1/WBP01_1_NoIndex_L001_R1_008.fastq',\n",
       " '/gpfs_fs/home/lindb/wbp/raw_reads/50bp_reads/Sample_WBP01_1/WBP01_1_NoIndex_L001_R1_009.fastq',\n",
       " '/gpfs_fs/home/lindb/wbp/raw_reads/50bp_reads/Sample_WBP01_1/WBP01_1_NoIndex_L001_R1_010.fastq',\n",
       " '/gpfs_fs/home/lindb/wbp/raw_reads/50bp_reads/Sample_WBP01_1/WBP01_1_NoIndex_L001_R1_011.fastq',\n",
       " '/gpfs_fs/home/lindb/wbp/raw_reads/50bp_reads/Sample_WBP01_1/WBP01_1_NoIndex_L001_R1_012.fastq',\n",
       " '/gpfs_fs/home/lindb/wbp/raw_reads/50bp_reads/Sample_WBP01_1/WBP01_1_NoIndex_L001_R1_013.fastq',\n",
       " '/gpfs_fs/home/lindb/wbp/raw_reads/50bp_reads/Sample_WBP01_1/WBP01_1_NoIndex_L001_R1_014.fastq',\n",
       " '/gpfs_fs/home/lindb/wbp/raw_reads/50bp_reads/Sample_WBP01_1/WBP01_1_NoIndex_L001_R1_015.fastq',\n",
       " '/gpfs_fs/home/lindb/wbp/raw_reads/50bp_reads/Sample_WBP01_1/WBP01_1_NoIndex_L001_R1_016.fastq',\n",
       " '/gpfs_fs/home/lindb/wbp/raw_reads/50bp_reads/Sample_WBP01_1/WBP01_1_NoIndex_L001_R1_017.fastq',\n",
       " '/gpfs_fs/home/lindb/wbp/raw_reads/50bp_reads/Sample_WBP01_1/WBP01_1_NoIndex_L001_R1_018.fastq',\n",
       " '/gpfs_fs/home/lindb/wbp/raw_reads/50bp_reads/Sample_WBP01_1/WBP01_1_NoIndex_L001_R1_019.fastq',\n",
       " '/gpfs_fs/home/lindb/wbp/raw_reads/50bp_reads/Sample_WBP01_1/WBP01_1_NoIndex_L001_R1_020.fastq',\n",
       " '/gpfs_fs/home/lindb/wbp/raw_reads/50bp_reads/Sample_WBP01_1/WBP01_1_NoIndex_L001_R1_021.fastq',\n",
       " '/gpfs_fs/home/lindb/wbp/raw_reads/50bp_reads/Sample_WBP01_1/WBP01_1_NoIndex_L001_R1_022.fastq',\n",
       " '/gpfs_fs/home/lindb/wbp/raw_reads/50bp_reads/Sample_WBP01_1/WBP01_1_NoIndex_L001_R1_023.fastq',\n",
       " '/gpfs_fs/home/lindb/wbp/raw_reads/50bp_reads/Sample_WBP01_1/WBP01_1_NoIndex_L001_R1_024.fastq',\n",
       " '/gpfs_fs/home/lindb/wbp/raw_reads/50bp_reads/Sample_WBP01_1/WBP01_1_NoIndex_L001_R1_025.fastq',\n",
       " '/gpfs_fs/home/lindb/wbp/raw_reads/50bp_reads/Sample_WBP01_1/WBP01_1_NoIndex_L001_R1_026.fastq',\n",
       " '/gpfs_fs/home/lindb/wbp/raw_reads/50bp_reads/Sample_WBP01_1/WBP01_1_NoIndex_L001_R1_027.fastq',\n",
       " '/gpfs_fs/home/lindb/wbp/raw_reads/50bp_reads/Sample_WBP01_1/WBP01_1_NoIndex_L001_R1_028.fastq',\n",
       " '/gpfs_fs/home/lindb/wbp/raw_reads/50bp_reads/Sample_WBP01_1/WBP01_1_NoIndex_L001_R1_029.fastq',\n",
       " '/gpfs_fs/home/lindb/wbp/raw_reads/50bp_reads/Sample_WBP01_1/WBP01_1_NoIndex_L001_R1_030.fastq',\n",
       " '/gpfs_fs/home/lindb/wbp/raw_reads/50bp_reads/Sample_WBP01_1/WBP01_1_NoIndex_L001_R1_031.fastq',\n",
       " '/gpfs_fs/home/lindb/wbp/raw_reads/50bp_reads/Sample_WBP01_1/WBP01_1_NoIndex_L001_R1_032.fastq',\n",
       " '/gpfs_fs/home/lindb/wbp/raw_reads/50bp_reads/Sample_WBP01_1/WBP01_1_NoIndex_L001_R1_033.fastq',\n",
       " '/gpfs_fs/home/lindb/wbp/raw_reads/50bp_reads/Sample_WBP01_1/WBP01_1_NoIndex_L001_R1_034.fastq',\n",
       " '/gpfs_fs/home/lindb/wbp/raw_reads/50bp_reads/Sample_WBP01_1/WBP01_1_NoIndex_L001_R1_035.fastq',\n",
       " '/gpfs_fs/home/lindb/wbp/raw_reads/50bp_reads/Sample_WBP01_1/WBP01_1_NoIndex_L001_R1_036.fastq',\n",
       " '/gpfs_fs/home/lindb/wbp/raw_reads/50bp_reads/Sample_WBP01_1/WBP01_1_NoIndex_L001_R1_037.fastq',\n",
       " '/gpfs_fs/home/lindb/wbp/raw_reads/50bp_reads/Sample_WBP01_1/WBP01_1_NoIndex_L001_R1_038.fastq',\n",
       " '/gpfs_fs/home/lindb/wbp/raw_reads/50bp_reads/Sample_WBP01_1/WBP01_1_NoIndex_L001_R1_039.fastq',\n",
       " '/gpfs_fs/home/lindb/wbp/raw_reads/50bp_reads/Sample_WBP01_1/WBP01_1_NoIndex_L001_R1_040.fastq',\n",
       " '/gpfs_fs/home/lindb/wbp/raw_reads/50bp_reads/Sample_WBP01_2/WBP01_2_NoIndex_L002_R1_004.fastq',\n",
       " '/gpfs_fs/home/lindb/wbp/raw_reads/50bp_reads/Sample_WBP01_2/WBP01_2_NoIndex_L002_R1_006.fastq',\n",
       " '/gpfs_fs/home/lindb/wbp/raw_reads/50bp_reads/Sample_WBP01_2/WBP01_2_NoIndex_L002_R1_003.fastq',\n",
       " '/gpfs_fs/home/lindb/wbp/raw_reads/50bp_reads/Sample_WBP01_2/WBP01_2_NoIndex_L002_R1_020.fastq',\n",
       " '/gpfs_fs/home/lindb/wbp/raw_reads/50bp_reads/Sample_WBP01_2/WBP01_2_NoIndex_L002_R1_002.fastq',\n",
       " '/gpfs_fs/home/lindb/wbp/raw_reads/50bp_reads/Sample_WBP01_2/WBP01_2_NoIndex_L002_R1_008.fastq',\n",
       " '/gpfs_fs/home/lindb/wbp/raw_reads/50bp_reads/Sample_WBP01_2/WBP01_2_NoIndex_L002_R1_014.fastq',\n",
       " '/gpfs_fs/home/lindb/wbp/raw_reads/50bp_reads/Sample_WBP01_2/WBP01_2_NoIndex_L002_R1_039.fastq',\n",
       " '/gpfs_fs/home/lindb/wbp/raw_reads/50bp_reads/Sample_WBP01_2/WBP01_2_NoIndex_L002_R1_009.fastq',\n",
       " '/gpfs_fs/home/lindb/wbp/raw_reads/50bp_reads/Sample_WBP01_2/WBP01_2_NoIndex_L002_R1_019.fastq',\n",
       " '/gpfs_fs/home/lindb/wbp/raw_reads/50bp_reads/Sample_WBP01_2/WBP01_2_NoIndex_L002_R1_012.fastq',\n",
       " '/gpfs_fs/home/lindb/wbp/raw_reads/50bp_reads/Sample_WBP01_2/WBP01_2_NoIndex_L002_R1_018.fastq',\n",
       " '/gpfs_fs/home/lindb/wbp/raw_reads/50bp_reads/Sample_WBP01_2/WBP01_2_NoIndex_L002_R1_030.fastq',\n",
       " '/gpfs_fs/home/lindb/wbp/raw_reads/50bp_reads/Sample_WBP01_2/WBP01_2_NoIndex_L002_R1_033.fastq',\n",
       " '/gpfs_fs/home/lindb/wbp/raw_reads/50bp_reads/Sample_WBP01_2/WBP01_2_NoIndex_L002_R1_022.fastq',\n",
       " '/gpfs_fs/home/lindb/wbp/raw_reads/50bp_reads/Sample_WBP01_2/WBP01_2_NoIndex_L002_R1_032.fastq',\n",
       " '/gpfs_fs/home/lindb/wbp/raw_reads/50bp_reads/Sample_WBP01_2/WBP01_2_NoIndex_L002_R1_035.fastq',\n",
       " '/gpfs_fs/home/lindb/wbp/raw_reads/50bp_reads/Sample_WBP01_2/WBP01_2_NoIndex_L002_R1_037.fastq',\n",
       " '/gpfs_fs/home/lindb/wbp/raw_reads/50bp_reads/Sample_WBP01_2/WBP01_2_NoIndex_L002_R1_015.fastq',\n",
       " '/gpfs_fs/home/lindb/wbp/raw_reads/50bp_reads/Sample_WBP01_2/WBP01_2_NoIndex_L002_R1_026.fastq',\n",
       " '/gpfs_fs/home/lindb/wbp/raw_reads/50bp_reads/Sample_WBP01_2/WBP01_2_NoIndex_L002_R1_027.fastq',\n",
       " '/gpfs_fs/home/lindb/wbp/raw_reads/50bp_reads/Sample_WBP01_2/WBP01_2_NoIndex_L002_R1_031.fastq',\n",
       " '/gpfs_fs/home/lindb/wbp/raw_reads/50bp_reads/Sample_WBP01_2/WBP01_2_NoIndex_L002_R1_038.fastq',\n",
       " '/gpfs_fs/home/lindb/wbp/raw_reads/50bp_reads/Sample_WBP01_2/WBP01_2_NoIndex_L002_R1_036.fastq',\n",
       " '/gpfs_fs/home/lindb/wbp/raw_reads/50bp_reads/Sample_WBP01_2/WBP01_2_NoIndex_L002_R1_021.fastq',\n",
       " '/gpfs_fs/home/lindb/wbp/raw_reads/50bp_reads/Sample_WBP01_2/WBP01_2_NoIndex_L002_R1_029.fastq',\n",
       " '/gpfs_fs/home/lindb/wbp/raw_reads/50bp_reads/Sample_WBP01_2/WBP01_2_NoIndex_L002_R1_010.fastq',\n",
       " '/gpfs_fs/home/lindb/wbp/raw_reads/50bp_reads/Sample_WBP01_2/WBP01_2_NoIndex_L002_R1_017.fastq',\n",
       " '/gpfs_fs/home/lindb/wbp/raw_reads/50bp_reads/Sample_WBP01_2/WBP01_2_NoIndex_L002_R1_024.fastq',\n",
       " '/gpfs_fs/home/lindb/wbp/raw_reads/50bp_reads/Sample_WBP01_2/WBP01_2_NoIndex_L002_R1_028.fastq',\n",
       " '/gpfs_fs/home/lindb/wbp/raw_reads/50bp_reads/Sample_WBP01_2/WBP01_2_NoIndex_L002_R1_001.fastq',\n",
       " '/gpfs_fs/home/lindb/wbp/raw_reads/50bp_reads/Sample_WBP01_2/WBP01_2_NoIndex_L002_R1_005.fastq',\n",
       " '/gpfs_fs/home/lindb/wbp/raw_reads/50bp_reads/Sample_WBP01_2/WBP01_2_NoIndex_L002_R1_007.fastq',\n",
       " '/gpfs_fs/home/lindb/wbp/raw_reads/50bp_reads/Sample_WBP01_2/WBP01_2_NoIndex_L002_R1_016.fastq',\n",
       " '/gpfs_fs/home/lindb/wbp/raw_reads/50bp_reads/Sample_WBP01_2/WBP01_2_NoIndex_L002_R1_025.fastq',\n",
       " '/gpfs_fs/home/lindb/wbp/raw_reads/50bp_reads/Sample_WBP01_2/WBP01_2_NoIndex_L002_R1_034.fastq',\n",
       " '/gpfs_fs/home/lindb/wbp/raw_reads/50bp_reads/Sample_WBP01_2/WBP01_2_NoIndex_L002_R1_040.fastq',\n",
       " '/gpfs_fs/home/lindb/wbp/raw_reads/50bp_reads/Sample_WBP01_2/WBP01_2_NoIndex_L002_R1_023.fastq',\n",
       " '/gpfs_fs/home/lindb/wbp/raw_reads/50bp_reads/Sample_WBP01_2/WBP01_2_NoIndex_L002_R1_011.fastq',\n",
       " '/gpfs_fs/home/lindb/wbp/raw_reads/50bp_reads/Sample_WBP01_2/WBP01_2_NoIndex_L002_R1_013.fastq',\n",
       " '/gpfs_fs/home/lindb/wbp/raw_reads/50bp_reads/Sample_WBP02_1/WBP02_1_NoIndex_L003_R1_001.fastq',\n",
       " '/gpfs_fs/home/lindb/wbp/raw_reads/50bp_reads/Sample_WBP02_1/WBP02_1_NoIndex_L003_R1_045.fastq',\n",
       " '/gpfs_fs/home/lindb/wbp/raw_reads/50bp_reads/Sample_WBP02_1/WBP02_1_NoIndex_L003_R1_040.fastq',\n",
       " '/gpfs_fs/home/lindb/wbp/raw_reads/50bp_reads/Sample_WBP02_1/WBP02_1_NoIndex_L003_R1_007.fastq',\n",
       " '/gpfs_fs/home/lindb/wbp/raw_reads/50bp_reads/Sample_WBP02_1/WBP02_1_NoIndex_L003_R1_018.fastq',\n",
       " '/gpfs_fs/home/lindb/wbp/raw_reads/50bp_reads/Sample_WBP02_1/WBP02_1_NoIndex_L003_R1_021.fastq',\n",
       " '/gpfs_fs/home/lindb/wbp/raw_reads/50bp_reads/Sample_WBP02_1/WBP02_1_NoIndex_L003_R1_044.fastq',\n",
       " '/gpfs_fs/home/lindb/wbp/raw_reads/50bp_reads/Sample_WBP02_1/WBP02_1_NoIndex_L003_R1_005.fastq',\n",
       " '/gpfs_fs/home/lindb/wbp/raw_reads/50bp_reads/Sample_WBP02_1/WBP02_1_NoIndex_L003_R1_020.fastq',\n",
       " '/gpfs_fs/home/lindb/wbp/raw_reads/50bp_reads/Sample_WBP02_1/WBP02_1_NoIndex_L003_R1_043.fastq',\n",
       " '/gpfs_fs/home/lindb/wbp/raw_reads/50bp_reads/Sample_WBP02_1/WBP02_1_NoIndex_L003_R1_062.fastq',\n",
       " '/gpfs_fs/home/lindb/wbp/raw_reads/50bp_reads/Sample_WBP02_1/WBP02_1_NoIndex_L003_R1_012.fastq',\n",
       " '/gpfs_fs/home/lindb/wbp/raw_reads/50bp_reads/Sample_WBP02_1/WBP02_1_NoIndex_L003_R1_008.fastq',\n",
       " '/gpfs_fs/home/lindb/wbp/raw_reads/50bp_reads/Sample_WBP02_1/WBP02_1_NoIndex_L003_R1_060.fastq',\n",
       " '/gpfs_fs/home/lindb/wbp/raw_reads/50bp_reads/Sample_WBP02_1/WBP02_1_NoIndex_L003_R1_063.fastq',\n",
       " '/gpfs_fs/home/lindb/wbp/raw_reads/50bp_reads/Sample_WBP02_1/WBP02_1_NoIndex_L003_R1_042.fastq',\n",
       " '/gpfs_fs/home/lindb/wbp/raw_reads/50bp_reads/Sample_WBP02_1/WBP02_1_NoIndex_L003_R1_051.fastq',\n",
       " '/gpfs_fs/home/lindb/wbp/raw_reads/50bp_reads/Sample_WBP02_1/WBP02_1_NoIndex_L003_R1_035.fastq',\n",
       " '/gpfs_fs/home/lindb/wbp/raw_reads/50bp_reads/Sample_WBP02_1/WBP02_1_NoIndex_L003_R1_054.fastq',\n",
       " '/gpfs_fs/home/lindb/wbp/raw_reads/50bp_reads/Sample_WBP02_1/WBP02_1_NoIndex_L003_R1_004.fastq',\n",
       " '/gpfs_fs/home/lindb/wbp/raw_reads/50bp_reads/Sample_WBP02_1/WBP02_1_NoIndex_L003_R1_029.fastq',\n",
       " '/gpfs_fs/home/lindb/wbp/raw_reads/50bp_reads/Sample_WBP02_1/WBP02_1_NoIndex_L003_R1_030.fastq',\n",
       " '/gpfs_fs/home/lindb/wbp/raw_reads/50bp_reads/Sample_WBP02_1/WBP02_1_NoIndex_L003_R1_047.fastq',\n",
       " '/gpfs_fs/home/lindb/wbp/raw_reads/50bp_reads/Sample_WBP02_1/WBP02_1_NoIndex_L003_R1_058.fastq',\n",
       " '/gpfs_fs/home/lindb/wbp/raw_reads/50bp_reads/Sample_WBP02_1/WBP02_1_NoIndex_L003_R1_016.fastq',\n",
       " '/gpfs_fs/home/lindb/wbp/raw_reads/50bp_reads/Sample_WBP02_1/WBP02_1_NoIndex_L003_R1_025.fastq',\n",
       " '/gpfs_fs/home/lindb/wbp/raw_reads/50bp_reads/Sample_WBP02_1/WBP02_1_NoIndex_L003_R1_061.fastq',\n",
       " '/gpfs_fs/home/lindb/wbp/raw_reads/50bp_reads/Sample_WBP02_1/WBP02_1_NoIndex_L003_R1_015.fastq',\n",
       " '/gpfs_fs/home/lindb/wbp/raw_reads/50bp_reads/Sample_WBP02_1/WBP02_1_NoIndex_L003_R1_033.fastq',\n",
       " '/gpfs_fs/home/lindb/wbp/raw_reads/50bp_reads/Sample_WBP02_1/WBP02_1_NoIndex_L003_R1_039.fastq',\n",
       " '/gpfs_fs/home/lindb/wbp/raw_reads/50bp_reads/Sample_WBP02_1/WBP02_1_NoIndex_L003_R1_017.fastq',\n",
       " '/gpfs_fs/home/lindb/wbp/raw_reads/50bp_reads/Sample_WBP02_1/WBP02_1_NoIndex_L003_R1_019.fastq',\n",
       " '/gpfs_fs/home/lindb/wbp/raw_reads/50bp_reads/Sample_WBP02_1/WBP02_1_NoIndex_L003_R1_027.fastq',\n",
       " '/gpfs_fs/home/lindb/wbp/raw_reads/50bp_reads/Sample_WBP02_1/WBP02_1_NoIndex_L003_R1_022.fastq',\n",
       " '/gpfs_fs/home/lindb/wbp/raw_reads/50bp_reads/Sample_WBP02_1/WBP02_1_NoIndex_L003_R1_028.fastq',\n",
       " '/gpfs_fs/home/lindb/wbp/raw_reads/50bp_reads/Sample_WBP02_1/WBP02_1_NoIndex_L003_R1_036.fastq',\n",
       " '/gpfs_fs/home/lindb/wbp/raw_reads/50bp_reads/Sample_WBP02_1/WBP02_1_NoIndex_L003_R1_059.fastq',\n",
       " '/gpfs_fs/home/lindb/wbp/raw_reads/50bp_reads/Sample_WBP02_1/WBP02_1_NoIndex_L003_R1_064.fastq',\n",
       " '/gpfs_fs/home/lindb/wbp/raw_reads/50bp_reads/Sample_WBP02_1/WBP02_1_NoIndex_L003_R1_031.fastq',\n",
       " '/gpfs_fs/home/lindb/wbp/raw_reads/50bp_reads/Sample_WBP02_1/WBP02_1_NoIndex_L003_R1_057.fastq',\n",
       " '/gpfs_fs/home/lindb/wbp/raw_reads/50bp_reads/Sample_WBP02_1/WBP02_1_NoIndex_L003_R1_006.fastq',\n",
       " '/gpfs_fs/home/lindb/wbp/raw_reads/50bp_reads/Sample_WBP02_1/WBP02_1_NoIndex_L003_R1_010.fastq',\n",
       " '/gpfs_fs/home/lindb/wbp/raw_reads/50bp_reads/Sample_WBP02_1/WBP02_1_NoIndex_L003_R1_034.fastq',\n",
       " '/gpfs_fs/home/lindb/wbp/raw_reads/50bp_reads/Sample_WBP02_1/WBP02_1_NoIndex_L003_R1_037.fastq',\n",
       " '/gpfs_fs/home/lindb/wbp/raw_reads/50bp_reads/Sample_WBP02_1/WBP02_1_NoIndex_L003_R1_023.fastq',\n",
       " '/gpfs_fs/home/lindb/wbp/raw_reads/50bp_reads/Sample_WBP02_1/WBP02_1_NoIndex_L003_R1_026.fastq',\n",
       " '/gpfs_fs/home/lindb/wbp/raw_reads/50bp_reads/Sample_WBP02_1/WBP02_1_NoIndex_L003_R1_032.fastq',\n",
       " '/gpfs_fs/home/lindb/wbp/raw_reads/50bp_reads/Sample_WBP02_1/WBP02_1_NoIndex_L003_R1_049.fastq',\n",
       " '/gpfs_fs/home/lindb/wbp/raw_reads/50bp_reads/Sample_WBP02_1/WBP02_1_NoIndex_L003_R1_053.fastq',\n",
       " '/gpfs_fs/home/lindb/wbp/raw_reads/50bp_reads/Sample_WBP02_1/WBP02_1_NoIndex_L003_R1_052.fastq',\n",
       " '/gpfs_fs/home/lindb/wbp/raw_reads/50bp_reads/Sample_WBP02_1/WBP02_1_NoIndex_L003_R1_055.fastq',\n",
       " '/gpfs_fs/home/lindb/wbp/raw_reads/50bp_reads/Sample_WBP02_1/WBP02_1_NoIndex_L003_R1_011.fastq',\n",
       " '/gpfs_fs/home/lindb/wbp/raw_reads/50bp_reads/Sample_WBP02_1/WBP02_1_NoIndex_L003_R1_013.fastq',\n",
       " '/gpfs_fs/home/lindb/wbp/raw_reads/50bp_reads/Sample_WBP02_1/WBP02_1_NoIndex_L003_R1_048.fastq',\n",
       " '/gpfs_fs/home/lindb/wbp/raw_reads/50bp_reads/Sample_WBP02_1/WBP02_1_NoIndex_L003_R1_046.fastq',\n",
       " '/gpfs_fs/home/lindb/wbp/raw_reads/50bp_reads/Sample_WBP02_1/WBP02_1_NoIndex_L003_R1_038.fastq',\n",
       " '/gpfs_fs/home/lindb/wbp/raw_reads/50bp_reads/Sample_WBP02_1/WBP02_1_NoIndex_L003_R1_056.fastq',\n",
       " '/gpfs_fs/home/lindb/wbp/raw_reads/50bp_reads/Sample_WBP02_1/WBP02_1_NoIndex_L003_R1_024.fastq',\n",
       " '/gpfs_fs/home/lindb/wbp/raw_reads/50bp_reads/Sample_WBP02_1/WBP02_1_NoIndex_L003_R1_002.fastq',\n",
       " '/gpfs_fs/home/lindb/wbp/raw_reads/50bp_reads/Sample_WBP02_1/WBP02_1_NoIndex_L003_R1_014.fastq',\n",
       " '/gpfs_fs/home/lindb/wbp/raw_reads/50bp_reads/Sample_WBP02_1/WBP02_1_NoIndex_L003_R1_003.fastq',\n",
       " '/gpfs_fs/home/lindb/wbp/raw_reads/50bp_reads/Sample_WBP02_1/WBP02_1_NoIndex_L003_R1_041.fastq',\n",
       " '/gpfs_fs/home/lindb/wbp/raw_reads/50bp_reads/Sample_WBP02_1/WBP02_1_NoIndex_L003_R1_050.fastq',\n",
       " '/gpfs_fs/home/lindb/wbp/raw_reads/50bp_reads/Sample_WBP02_1/WBP02_1_NoIndex_L003_R1_009.fastq',\n",
       " '/gpfs_fs/home/lindb/wbp/raw_reads/50bp_reads/Sample_WBP02_2/WBP02_2_NoIndex_L004_R1_003.fastq',\n",
       " '/gpfs_fs/home/lindb/wbp/raw_reads/50bp_reads/Sample_WBP02_2/WBP02_2_NoIndex_L004_R1_047.fastq',\n",
       " '/gpfs_fs/home/lindb/wbp/raw_reads/50bp_reads/Sample_WBP02_2/WBP02_2_NoIndex_L004_R1_050.fastq',\n",
       " '/gpfs_fs/home/lindb/wbp/raw_reads/50bp_reads/Sample_WBP02_2/WBP02_2_NoIndex_L004_R1_004.fastq',\n",
       " '/gpfs_fs/home/lindb/wbp/raw_reads/50bp_reads/Sample_WBP02_2/WBP02_2_NoIndex_L004_R1_027.fastq',\n",
       " '/gpfs_fs/home/lindb/wbp/raw_reads/50bp_reads/Sample_WBP02_2/WBP02_2_NoIndex_L004_R1_032.fastq',\n",
       " '/gpfs_fs/home/lindb/wbp/raw_reads/50bp_reads/Sample_WBP02_2/WBP02_2_NoIndex_L004_R1_011.fastq',\n",
       " '/gpfs_fs/home/lindb/wbp/raw_reads/50bp_reads/Sample_WBP02_2/WBP02_2_NoIndex_L004_R1_007.fastq',\n",
       " '/gpfs_fs/home/lindb/wbp/raw_reads/50bp_reads/Sample_WBP02_2/WBP02_2_NoIndex_L004_R1_025.fastq',\n",
       " '/gpfs_fs/home/lindb/wbp/raw_reads/50bp_reads/Sample_WBP02_2/WBP02_2_NoIndex_L004_R1_062.fastq',\n",
       " '/gpfs_fs/home/lindb/wbp/raw_reads/50bp_reads/Sample_WBP02_2/WBP02_2_NoIndex_L004_R1_043.fastq',\n",
       " '/gpfs_fs/home/lindb/wbp/raw_reads/50bp_reads/Sample_WBP02_2/WBP02_2_NoIndex_L004_R1_052.fastq',\n",
       " '/gpfs_fs/home/lindb/wbp/raw_reads/50bp_reads/Sample_WBP02_2/WBP02_2_NoIndex_L004_R1_012.fastq',\n",
       " '/gpfs_fs/home/lindb/wbp/raw_reads/50bp_reads/Sample_WBP02_2/WBP02_2_NoIndex_L004_R1_018.fastq',\n",
       " '/gpfs_fs/home/lindb/wbp/raw_reads/50bp_reads/Sample_WBP02_2/WBP02_2_NoIndex_L004_R1_040.fastq',\n",
       " '/gpfs_fs/home/lindb/wbp/raw_reads/50bp_reads/Sample_WBP02_2/WBP02_2_NoIndex_L004_R1_058.fastq',\n",
       " '/gpfs_fs/home/lindb/wbp/raw_reads/50bp_reads/Sample_WBP02_2/WBP02_2_NoIndex_L004_R1_017.fastq',\n",
       " '/gpfs_fs/home/lindb/wbp/raw_reads/50bp_reads/Sample_WBP02_2/WBP02_2_NoIndex_L004_R1_001.fastq',\n",
       " '/gpfs_fs/home/lindb/wbp/raw_reads/50bp_reads/Sample_WBP02_2/WBP02_2_NoIndex_L004_R1_013.fastq',\n",
       " '/gpfs_fs/home/lindb/wbp/raw_reads/50bp_reads/Sample_WBP02_2/WBP02_2_NoIndex_L004_R1_019.fastq',\n",
       " '/gpfs_fs/home/lindb/wbp/raw_reads/50bp_reads/Sample_WBP02_2/WBP02_2_NoIndex_L004_R1_010.fastq',\n",
       " '/gpfs_fs/home/lindb/wbp/raw_reads/50bp_reads/Sample_WBP02_2/WBP02_2_NoIndex_L004_R1_016.fastq',\n",
       " '/gpfs_fs/home/lindb/wbp/raw_reads/50bp_reads/Sample_WBP02_2/WBP02_2_NoIndex_L004_R1_022.fastq',\n",
       " '/gpfs_fs/home/lindb/wbp/raw_reads/50bp_reads/Sample_WBP02_2/WBP02_2_NoIndex_L004_R1_029.fastq',\n",
       " '/gpfs_fs/home/lindb/wbp/raw_reads/50bp_reads/Sample_WBP02_2/WBP02_2_NoIndex_L004_R1_055.fastq',\n",
       " '/gpfs_fs/home/lindb/wbp/raw_reads/50bp_reads/Sample_WBP02_2/WBP02_2_NoIndex_L004_R1_056.fastq',\n",
       " '/gpfs_fs/home/lindb/wbp/raw_reads/50bp_reads/Sample_WBP02_2/WBP02_2_NoIndex_L004_R1_059.fastq',\n",
       " '/gpfs_fs/home/lindb/wbp/raw_reads/50bp_reads/Sample_WBP02_2/WBP02_2_NoIndex_L004_R1_053.fastq',\n",
       " '/gpfs_fs/home/lindb/wbp/raw_reads/50bp_reads/Sample_WBP02_2/WBP02_2_NoIndex_L004_R1_005.fastq',\n",
       " '/gpfs_fs/home/lindb/wbp/raw_reads/50bp_reads/Sample_WBP02_2/WBP02_2_NoIndex_L004_R1_061.fastq',\n",
       " '/gpfs_fs/home/lindb/wbp/raw_reads/50bp_reads/Sample_WBP02_2/WBP02_2_NoIndex_L004_R1_051.fastq',\n",
       " '/gpfs_fs/home/lindb/wbp/raw_reads/50bp_reads/Sample_WBP02_2/WBP02_2_NoIndex_L004_R1_036.fastq',\n",
       " '/gpfs_fs/home/lindb/wbp/raw_reads/50bp_reads/Sample_WBP02_2/WBP02_2_NoIndex_L004_R1_035.fastq',\n",
       " '/gpfs_fs/home/lindb/wbp/raw_reads/50bp_reads/Sample_WBP02_2/WBP02_2_NoIndex_L004_R1_038.fastq',\n",
       " '/gpfs_fs/home/lindb/wbp/raw_reads/50bp_reads/Sample_WBP02_2/WBP02_2_NoIndex_L004_R1_046.fastq',\n",
       " '/gpfs_fs/home/lindb/wbp/raw_reads/50bp_reads/Sample_WBP02_2/WBP02_2_NoIndex_L004_R1_031.fastq',\n",
       " '/gpfs_fs/home/lindb/wbp/raw_reads/50bp_reads/Sample_WBP02_2/WBP02_2_NoIndex_L004_R1_044.fastq',\n",
       " '/gpfs_fs/home/lindb/wbp/raw_reads/50bp_reads/Sample_WBP02_2/WBP02_2_NoIndex_L004_R1_041.fastq',\n",
       " '/gpfs_fs/home/lindb/wbp/raw_reads/50bp_reads/Sample_WBP02_2/WBP02_2_NoIndex_L004_R1_002.fastq',\n",
       " '/gpfs_fs/home/lindb/wbp/raw_reads/50bp_reads/Sample_WBP02_2/WBP02_2_NoIndex_L004_R1_042.fastq',\n",
       " '/gpfs_fs/home/lindb/wbp/raw_reads/50bp_reads/Sample_WBP02_2/WBP02_2_NoIndex_L004_R1_064.fastq',\n",
       " '/gpfs_fs/home/lindb/wbp/raw_reads/50bp_reads/Sample_WBP02_2/WBP02_2_NoIndex_L004_R1_033.fastq',\n",
       " '/gpfs_fs/home/lindb/wbp/raw_reads/50bp_reads/Sample_WBP02_2/WBP02_2_NoIndex_L004_R1_039.fastq',\n",
       " '/gpfs_fs/home/lindb/wbp/raw_reads/50bp_reads/Sample_WBP02_2/WBP02_2_NoIndex_L004_R1_049.fastq',\n",
       " '/gpfs_fs/home/lindb/wbp/raw_reads/50bp_reads/Sample_WBP02_2/WBP02_2_NoIndex_L004_R1_014.fastq',\n",
       " '/gpfs_fs/home/lindb/wbp/raw_reads/50bp_reads/Sample_WBP02_2/WBP02_2_NoIndex_L004_R1_048.fastq',\n",
       " '/gpfs_fs/home/lindb/wbp/raw_reads/50bp_reads/Sample_WBP02_2/WBP02_2_NoIndex_L004_R1_045.fastq',\n",
       " '/gpfs_fs/home/lindb/wbp/raw_reads/50bp_reads/Sample_WBP02_2/WBP02_2_NoIndex_L004_R1_060.fastq',\n",
       " '/gpfs_fs/home/lindb/wbp/raw_reads/50bp_reads/Sample_WBP02_2/WBP02_2_NoIndex_L004_R1_006.fastq',\n",
       " '/gpfs_fs/home/lindb/wbp/raw_reads/50bp_reads/Sample_WBP02_2/WBP02_2_NoIndex_L004_R1_034.fastq',\n",
       " '/gpfs_fs/home/lindb/wbp/raw_reads/50bp_reads/Sample_WBP02_2/WBP02_2_NoIndex_L004_R1_057.fastq',\n",
       " '/gpfs_fs/home/lindb/wbp/raw_reads/50bp_reads/Sample_WBP02_2/WBP02_2_NoIndex_L004_R1_015.fastq',\n",
       " '/gpfs_fs/home/lindb/wbp/raw_reads/50bp_reads/Sample_WBP02_2/WBP02_2_NoIndex_L004_R1_030.fastq',\n",
       " '/gpfs_fs/home/lindb/wbp/raw_reads/50bp_reads/Sample_WBP02_2/WBP02_2_NoIndex_L004_R1_037.fastq',\n",
       " '/gpfs_fs/home/lindb/wbp/raw_reads/50bp_reads/Sample_WBP02_2/WBP02_2_NoIndex_L004_R1_028.fastq',\n",
       " '/gpfs_fs/home/lindb/wbp/raw_reads/50bp_reads/Sample_WBP02_2/WBP02_2_NoIndex_L004_R1_024.fastq',\n",
       " '/gpfs_fs/home/lindb/wbp/raw_reads/50bp_reads/Sample_WBP02_2/WBP02_2_NoIndex_L004_R1_023.fastq',\n",
       " '/gpfs_fs/home/lindb/wbp/raw_reads/50bp_reads/Sample_WBP02_2/WBP02_2_NoIndex_L004_R1_054.fastq',\n",
       " '/gpfs_fs/home/lindb/wbp/raw_reads/50bp_reads/Sample_WBP02_2/WBP02_2_NoIndex_L004_R1_063.fastq',\n",
       " '/gpfs_fs/home/lindb/wbp/raw_reads/50bp_reads/Sample_WBP02_2/WBP02_2_NoIndex_L004_R1_009.fastq',\n",
       " '/gpfs_fs/home/lindb/wbp/raw_reads/50bp_reads/Sample_WBP02_2/WBP02_2_NoIndex_L004_R1_008.fastq',\n",
       " '/gpfs_fs/home/lindb/wbp/raw_reads/50bp_reads/Sample_WBP02_2/WBP02_2_NoIndex_L004_R1_026.fastq',\n",
       " '/gpfs_fs/home/lindb/wbp/raw_reads/50bp_reads/Sample_WBP02_2/WBP02_2_NoIndex_L004_R1_020.fastq',\n",
       " '/gpfs_fs/home/lindb/wbp/raw_reads/50bp_reads/Sample_WBP02_2/WBP02_2_NoIndex_L004_R1_021.fastq',\n",
       " '/gpfs_fs/home/lindb/wbp/raw_reads/50bp_reads/Sample_WBP03_2/WBP03_2_NoIndex_L006_R1_025.fastq',\n",
       " '/gpfs_fs/home/lindb/wbp/raw_reads/50bp_reads/Sample_WBP03_2/WBP03_2_NoIndex_L006_R1_027.fastq',\n",
       " '/gpfs_fs/home/lindb/wbp/raw_reads/50bp_reads/Sample_WBP03_2/WBP03_2_NoIndex_L006_R1_049.fastq',\n",
       " '/gpfs_fs/home/lindb/wbp/raw_reads/50bp_reads/Sample_WBP03_2/WBP03_2_NoIndex_L006_R1_026.fastq',\n",
       " '/gpfs_fs/home/lindb/wbp/raw_reads/50bp_reads/Sample_WBP03_2/WBP03_2_NoIndex_L006_R1_031.fastq',\n",
       " '/gpfs_fs/home/lindb/wbp/raw_reads/50bp_reads/Sample_WBP03_2/WBP03_2_NoIndex_L006_R1_008.fastq',\n",
       " '/gpfs_fs/home/lindb/wbp/raw_reads/50bp_reads/Sample_WBP03_2/WBP03_2_NoIndex_L006_R1_030.fastq',\n",
       " '/gpfs_fs/home/lindb/wbp/raw_reads/50bp_reads/Sample_WBP03_2/WBP03_2_NoIndex_L006_R1_038.fastq',\n",
       " '/gpfs_fs/home/lindb/wbp/raw_reads/50bp_reads/Sample_WBP03_2/WBP03_2_NoIndex_L006_R1_039.fastq',\n",
       " '/gpfs_fs/home/lindb/wbp/raw_reads/50bp_reads/Sample_WBP03_2/WBP03_2_NoIndex_L006_R1_042.fastq',\n",
       " '/gpfs_fs/home/lindb/wbp/raw_reads/50bp_reads/Sample_WBP03_2/WBP03_2_NoIndex_L006_R1_067.fastq',\n",
       " '/gpfs_fs/home/lindb/wbp/raw_reads/50bp_reads/Sample_WBP03_2/WBP03_2_NoIndex_L006_R1_007.fastq',\n",
       " '/gpfs_fs/home/lindb/wbp/raw_reads/50bp_reads/Sample_WBP03_2/WBP03_2_NoIndex_L006_R1_066.fastq',\n",
       " '/gpfs_fs/home/lindb/wbp/raw_reads/50bp_reads/Sample_WBP03_2/WBP03_2_NoIndex_L006_R1_048.fastq',\n",
       " '/gpfs_fs/home/lindb/wbp/raw_reads/50bp_reads/Sample_WBP03_2/WBP03_2_NoIndex_L006_R1_051.fastq',\n",
       " '/gpfs_fs/home/lindb/wbp/raw_reads/50bp_reads/Sample_WBP03_2/WBP03_2_NoIndex_L006_R1_001.fastq',\n",
       " '/gpfs_fs/home/lindb/wbp/raw_reads/50bp_reads/Sample_WBP03_2/WBP03_2_NoIndex_L006_R1_002.fastq',\n",
       " '/gpfs_fs/home/lindb/wbp/raw_reads/50bp_reads/Sample_WBP03_2/WBP03_2_NoIndex_L006_R1_013.fastq',\n",
       " '/gpfs_fs/home/lindb/wbp/raw_reads/50bp_reads/Sample_WBP03_2/WBP03_2_NoIndex_L006_R1_065.fastq',\n",
       " '/gpfs_fs/home/lindb/wbp/raw_reads/50bp_reads/Sample_WBP03_2/WBP03_2_NoIndex_L006_R1_028.fastq',\n",
       " '/gpfs_fs/home/lindb/wbp/raw_reads/50bp_reads/Sample_WBP03_2/WBP03_2_NoIndex_L006_R1_054.fastq',\n",
       " '/gpfs_fs/home/lindb/wbp/raw_reads/50bp_reads/Sample_WBP03_2/WBP03_2_NoIndex_L006_R1_006.fastq',\n",
       " '/gpfs_fs/home/lindb/wbp/raw_reads/50bp_reads/Sample_WBP03_2/WBP03_2_NoIndex_L006_R1_020.fastq',\n",
       " '/gpfs_fs/home/lindb/wbp/raw_reads/50bp_reads/Sample_WBP03_2/WBP03_2_NoIndex_L006_R1_060.fastq',\n",
       " '/gpfs_fs/home/lindb/wbp/raw_reads/50bp_reads/Sample_WBP03_2/WBP03_2_NoIndex_L006_R1_016.fastq',\n",
       " '/gpfs_fs/home/lindb/wbp/raw_reads/50bp_reads/Sample_WBP03_2/WBP03_2_NoIndex_L006_R1_041.fastq',\n",
       " '/gpfs_fs/home/lindb/wbp/raw_reads/50bp_reads/Sample_WBP03_2/WBP03_2_NoIndex_L006_R1_057.fastq',\n",
       " '/gpfs_fs/home/lindb/wbp/raw_reads/50bp_reads/Sample_WBP03_2/WBP03_2_NoIndex_L006_R1_004.fastq',\n",
       " '/gpfs_fs/home/lindb/wbp/raw_reads/50bp_reads/Sample_WBP03_2/WBP03_2_NoIndex_L006_R1_022.fastq',\n",
       " '/gpfs_fs/home/lindb/wbp/raw_reads/50bp_reads/Sample_WBP03_2/WBP03_2_NoIndex_L006_R1_035.fastq',\n",
       " '/gpfs_fs/home/lindb/wbp/raw_reads/50bp_reads/Sample_WBP03_2/WBP03_2_NoIndex_L006_R1_047.fastq',\n",
       " '/gpfs_fs/home/lindb/wbp/raw_reads/50bp_reads/Sample_WBP03_2/WBP03_2_NoIndex_L006_R1_015.fastq',\n",
       " '/gpfs_fs/home/lindb/wbp/raw_reads/50bp_reads/Sample_WBP03_2/WBP03_2_NoIndex_L006_R1_037.fastq',\n",
       " '/gpfs_fs/home/lindb/wbp/raw_reads/50bp_reads/Sample_WBP03_2/WBP03_2_NoIndex_L006_R1_053.fastq',\n",
       " '/gpfs_fs/home/lindb/wbp/raw_reads/50bp_reads/Sample_WBP03_2/WBP03_2_NoIndex_L006_R1_024.fastq',\n",
       " '/gpfs_fs/home/lindb/wbp/raw_reads/50bp_reads/Sample_WBP03_2/WBP03_2_NoIndex_L006_R1_005.fastq',\n",
       " '/gpfs_fs/home/lindb/wbp/raw_reads/50bp_reads/Sample_WBP03_2/WBP03_2_NoIndex_L006_R1_014.fastq',\n",
       " '/gpfs_fs/home/lindb/wbp/raw_reads/50bp_reads/Sample_WBP03_2/WBP03_2_NoIndex_L006_R1_017.fastq',\n",
       " '/gpfs_fs/home/lindb/wbp/raw_reads/50bp_reads/Sample_WBP03_2/WBP03_2_NoIndex_L006_R1_029.fastq',\n",
       " '/gpfs_fs/home/lindb/wbp/raw_reads/50bp_reads/Sample_WBP03_2/WBP03_2_NoIndex_L006_R1_036.fastq',\n",
       " '/gpfs_fs/home/lindb/wbp/raw_reads/50bp_reads/Sample_WBP03_2/WBP03_2_NoIndex_L006_R1_046.fastq',\n",
       " '/gpfs_fs/home/lindb/wbp/raw_reads/50bp_reads/Sample_WBP03_2/WBP03_2_NoIndex_L006_R1_058.fastq',\n",
       " '/gpfs_fs/home/lindb/wbp/raw_reads/50bp_reads/Sample_WBP03_2/WBP03_2_NoIndex_L006_R1_061.fastq',\n",
       " '/gpfs_fs/home/lindb/wbp/raw_reads/50bp_reads/Sample_WBP03_2/WBP03_2_NoIndex_L006_R1_019.fastq',\n",
       " '/gpfs_fs/home/lindb/wbp/raw_reads/50bp_reads/Sample_WBP03_2/WBP03_2_NoIndex_L006_R1_050.fastq',\n",
       " '/gpfs_fs/home/lindb/wbp/raw_reads/50bp_reads/Sample_WBP03_2/WBP03_2_NoIndex_L006_R1_062.fastq',\n",
       " '/gpfs_fs/home/lindb/wbp/raw_reads/50bp_reads/Sample_WBP03_2/WBP03_2_NoIndex_L006_R1_018.fastq',\n",
       " '/gpfs_fs/home/lindb/wbp/raw_reads/50bp_reads/Sample_WBP03_2/WBP03_2_NoIndex_L006_R1_034.fastq',\n",
       " '/gpfs_fs/home/lindb/wbp/raw_reads/50bp_reads/Sample_WBP03_2/WBP03_2_NoIndex_L006_R1_044.fastq',\n",
       " '/gpfs_fs/home/lindb/wbp/raw_reads/50bp_reads/Sample_WBP03_2/WBP03_2_NoIndex_L006_R1_043.fastq',\n",
       " '/gpfs_fs/home/lindb/wbp/raw_reads/50bp_reads/Sample_WBP03_2/WBP03_2_NoIndex_L006_R1_040.fastq',\n",
       " '/gpfs_fs/home/lindb/wbp/raw_reads/50bp_reads/Sample_WBP03_2/WBP03_2_NoIndex_L006_R1_055.fastq',\n",
       " '/gpfs_fs/home/lindb/wbp/raw_reads/50bp_reads/Sample_WBP03_2/WBP03_2_NoIndex_L006_R1_064.fastq',\n",
       " '/gpfs_fs/home/lindb/wbp/raw_reads/50bp_reads/Sample_WBP03_2/WBP03_2_NoIndex_L006_R1_021.fastq',\n",
       " '/gpfs_fs/home/lindb/wbp/raw_reads/50bp_reads/Sample_WBP03_2/WBP03_2_NoIndex_L006_R1_052.fastq',\n",
       " '/gpfs_fs/home/lindb/wbp/raw_reads/50bp_reads/Sample_WBP03_2/WBP03_2_NoIndex_L006_R1_003.fastq',\n",
       " '/gpfs_fs/home/lindb/wbp/raw_reads/50bp_reads/Sample_WBP03_2/WBP03_2_NoIndex_L006_R1_009.fastq',\n",
       " '/gpfs_fs/home/lindb/wbp/raw_reads/50bp_reads/Sample_WBP03_2/WBP03_2_NoIndex_L006_R1_032.fastq',\n",
       " '/gpfs_fs/home/lindb/wbp/raw_reads/50bp_reads/Sample_WBP03_2/WBP03_2_NoIndex_L006_R1_056.fastq',\n",
       " '/gpfs_fs/home/lindb/wbp/raw_reads/50bp_reads/Sample_WBP03_2/WBP03_2_NoIndex_L006_R1_045.fastq',\n",
       " '/gpfs_fs/home/lindb/wbp/raw_reads/50bp_reads/Sample_WBP03_2/WBP03_2_NoIndex_L006_R1_010.fastq',\n",
       " '/gpfs_fs/home/lindb/wbp/raw_reads/50bp_reads/Sample_WBP03_2/WBP03_2_NoIndex_L006_R1_059.fastq',\n",
       " '/gpfs_fs/home/lindb/wbp/raw_reads/50bp_reads/Sample_WBP03_2/WBP03_2_NoIndex_L006_R1_023.fastq',\n",
       " '/gpfs_fs/home/lindb/wbp/raw_reads/50bp_reads/Sample_WBP03_2/WBP03_2_NoIndex_L006_R1_063.fastq',\n",
       " '/gpfs_fs/home/lindb/wbp/raw_reads/50bp_reads/Sample_WBP03_2/WBP03_2_NoIndex_L006_R1_011.fastq',\n",
       " '/gpfs_fs/home/lindb/wbp/raw_reads/50bp_reads/Sample_WBP03_2/WBP03_2_NoIndex_L006_R1_033.fastq',\n",
       " '/gpfs_fs/home/lindb/wbp/raw_reads/50bp_reads/Sample_WBP03_2/WBP03_2_NoIndex_L006_R1_012.fastq',\n",
       " '/gpfs_fs/home/lindb/wbp/raw_reads/50bp_reads/Sample_WBP03_1/WBP03_1_NoIndex_L005_R1_007.fastq',\n",
       " '/gpfs_fs/home/lindb/wbp/raw_reads/50bp_reads/Sample_WBP03_1/WBP03_1_NoIndex_L005_R1_047.fastq',\n",
       " '/gpfs_fs/home/lindb/wbp/raw_reads/50bp_reads/Sample_WBP03_1/WBP03_1_NoIndex_L005_R1_052.fastq',\n",
       " '/gpfs_fs/home/lindb/wbp/raw_reads/50bp_reads/Sample_WBP03_1/WBP03_1_NoIndex_L005_R1_020.fastq',\n",
       " '/gpfs_fs/home/lindb/wbp/raw_reads/50bp_reads/Sample_WBP03_1/WBP03_1_NoIndex_L005_R1_022.fastq',\n",
       " '/gpfs_fs/home/lindb/wbp/raw_reads/50bp_reads/Sample_WBP03_1/WBP03_1_NoIndex_L005_R1_014.fastq',\n",
       " '/gpfs_fs/home/lindb/wbp/raw_reads/50bp_reads/Sample_WBP03_1/WBP03_1_NoIndex_L005_R1_042.fastq',\n",
       " '/gpfs_fs/home/lindb/wbp/raw_reads/50bp_reads/Sample_WBP03_1/WBP03_1_NoIndex_L005_R1_031.fastq',\n",
       " '/gpfs_fs/home/lindb/wbp/raw_reads/50bp_reads/Sample_WBP03_1/WBP03_1_NoIndex_L005_R1_051.fastq',\n",
       " '/gpfs_fs/home/lindb/wbp/raw_reads/50bp_reads/Sample_WBP03_1/WBP03_1_NoIndex_L005_R1_003.fastq',\n",
       " '/gpfs_fs/home/lindb/wbp/raw_reads/50bp_reads/Sample_WBP03_1/WBP03_1_NoIndex_L005_R1_053.fastq',\n",
       " '/gpfs_fs/home/lindb/wbp/raw_reads/50bp_reads/Sample_WBP03_1/WBP03_1_NoIndex_L005_R1_061.fastq',\n",
       " '/gpfs_fs/home/lindb/wbp/raw_reads/50bp_reads/Sample_WBP03_1/WBP03_1_NoIndex_L005_R1_002.fastq',\n",
       " '/gpfs_fs/home/lindb/wbp/raw_reads/50bp_reads/Sample_WBP03_1/WBP03_1_NoIndex_L005_R1_009.fastq',\n",
       " '/gpfs_fs/home/lindb/wbp/raw_reads/50bp_reads/Sample_WBP03_1/WBP03_1_NoIndex_L005_R1_034.fastq',\n",
       " '/gpfs_fs/home/lindb/wbp/raw_reads/50bp_reads/Sample_WBP03_1/WBP03_1_NoIndex_L005_R1_054.fastq',\n",
       " '/gpfs_fs/home/lindb/wbp/raw_reads/50bp_reads/Sample_WBP03_1/WBP03_1_NoIndex_L005_R1_065.fastq',\n",
       " '/gpfs_fs/home/lindb/wbp/raw_reads/50bp_reads/Sample_WBP03_1/WBP03_1_NoIndex_L005_R1_066.fastq',\n",
       " '/gpfs_fs/home/lindb/wbp/raw_reads/50bp_reads/Sample_WBP03_1/WBP03_1_NoIndex_L005_R1_032.fastq',\n",
       " '/gpfs_fs/home/lindb/wbp/raw_reads/50bp_reads/Sample_WBP03_1/WBP03_1_NoIndex_L005_R1_006.fastq',\n",
       " '/gpfs_fs/home/lindb/wbp/raw_reads/50bp_reads/Sample_WBP03_1/WBP03_1_NoIndex_L005_R1_021.fastq',\n",
       " '/gpfs_fs/home/lindb/wbp/raw_reads/50bp_reads/Sample_WBP03_1/WBP03_1_NoIndex_L005_R1_056.fastq',\n",
       " '/gpfs_fs/home/lindb/wbp/raw_reads/50bp_reads/Sample_WBP03_1/WBP03_1_NoIndex_L005_R1_059.fastq',\n",
       " '/gpfs_fs/home/lindb/wbp/raw_reads/50bp_reads/Sample_WBP03_1/WBP03_1_NoIndex_L005_R1_044.fastq',\n",
       " '/gpfs_fs/home/lindb/wbp/raw_reads/50bp_reads/Sample_WBP03_1/WBP03_1_NoIndex_L005_R1_011.fastq',\n",
       " '/gpfs_fs/home/lindb/wbp/raw_reads/50bp_reads/Sample_WBP03_1/WBP03_1_NoIndex_L005_R1_048.fastq',\n",
       " '/gpfs_fs/home/lindb/wbp/raw_reads/50bp_reads/Sample_WBP03_1/WBP03_1_NoIndex_L005_R1_067.fastq',\n",
       " '/gpfs_fs/home/lindb/wbp/raw_reads/50bp_reads/Sample_WBP03_1/WBP03_1_NoIndex_L005_R1_024.fastq',\n",
       " '/gpfs_fs/home/lindb/wbp/raw_reads/50bp_reads/Sample_WBP03_1/WBP03_1_NoIndex_L005_R1_018.fastq',\n",
       " '/gpfs_fs/home/lindb/wbp/raw_reads/50bp_reads/Sample_WBP03_1/WBP03_1_NoIndex_L005_R1_026.fastq',\n",
       " '/gpfs_fs/home/lindb/wbp/raw_reads/50bp_reads/Sample_WBP03_1/WBP03_1_NoIndex_L005_R1_038.fastq',\n",
       " '/gpfs_fs/home/lindb/wbp/raw_reads/50bp_reads/Sample_WBP03_1/WBP03_1_NoIndex_L005_R1_017.fastq',\n",
       " '/gpfs_fs/home/lindb/wbp/raw_reads/50bp_reads/Sample_WBP03_1/WBP03_1_NoIndex_L005_R1_027.fastq',\n",
       " '/gpfs_fs/home/lindb/wbp/raw_reads/50bp_reads/Sample_WBP03_1/WBP03_1_NoIndex_L005_R1_060.fastq',\n",
       " '/gpfs_fs/home/lindb/wbp/raw_reads/50bp_reads/Sample_WBP03_1/WBP03_1_NoIndex_L005_R1_015.fastq',\n",
       " '/gpfs_fs/home/lindb/wbp/raw_reads/50bp_reads/Sample_WBP03_1/WBP03_1_NoIndex_L005_R1_029.fastq',\n",
       " '/gpfs_fs/home/lindb/wbp/raw_reads/50bp_reads/Sample_WBP03_1/WBP03_1_NoIndex_L005_R1_050.fastq',\n",
       " '/gpfs_fs/home/lindb/wbp/raw_reads/50bp_reads/Sample_WBP03_1/WBP03_1_NoIndex_L005_R1_063.fastq',\n",
       " '/gpfs_fs/home/lindb/wbp/raw_reads/50bp_reads/Sample_WBP03_1/WBP03_1_NoIndex_L005_R1_010.fastq',\n",
       " '/gpfs_fs/home/lindb/wbp/raw_reads/50bp_reads/Sample_WBP03_1/WBP03_1_NoIndex_L005_R1_037.fastq',\n",
       " '/gpfs_fs/home/lindb/wbp/raw_reads/50bp_reads/Sample_WBP03_1/WBP03_1_NoIndex_L005_R1_019.fastq',\n",
       " '/gpfs_fs/home/lindb/wbp/raw_reads/50bp_reads/Sample_WBP03_1/WBP03_1_NoIndex_L005_R1_039.fastq',\n",
       " '/gpfs_fs/home/lindb/wbp/raw_reads/50bp_reads/Sample_WBP03_1/WBP03_1_NoIndex_L005_R1_036.fastq',\n",
       " '/gpfs_fs/home/lindb/wbp/raw_reads/50bp_reads/Sample_WBP03_1/WBP03_1_NoIndex_L005_R1_004.fastq',\n",
       " '/gpfs_fs/home/lindb/wbp/raw_reads/50bp_reads/Sample_WBP03_1/WBP03_1_NoIndex_L005_R1_013.fastq',\n",
       " '/gpfs_fs/home/lindb/wbp/raw_reads/50bp_reads/Sample_WBP03_1/WBP03_1_NoIndex_L005_R1_049.fastq',\n",
       " '/gpfs_fs/home/lindb/wbp/raw_reads/50bp_reads/Sample_WBP03_1/WBP03_1_NoIndex_L005_R1_055.fastq',\n",
       " '/gpfs_fs/home/lindb/wbp/raw_reads/50bp_reads/Sample_WBP03_1/WBP03_1_NoIndex_L005_R1_016.fastq',\n",
       " '/gpfs_fs/home/lindb/wbp/raw_reads/50bp_reads/Sample_WBP03_1/WBP03_1_NoIndex_L005_R1_033.fastq',\n",
       " '/gpfs_fs/home/lindb/wbp/raw_reads/50bp_reads/Sample_WBP03_1/WBP03_1_NoIndex_L005_R1_064.fastq',\n",
       " '/gpfs_fs/home/lindb/wbp/raw_reads/50bp_reads/Sample_WBP03_1/WBP03_1_NoIndex_L005_R1_001.fastq',\n",
       " '/gpfs_fs/home/lindb/wbp/raw_reads/50bp_reads/Sample_WBP03_1/WBP03_1_NoIndex_L005_R1_005.fastq',\n",
       " '/gpfs_fs/home/lindb/wbp/raw_reads/50bp_reads/Sample_WBP03_1/WBP03_1_NoIndex_L005_R1_046.fastq',\n",
       " '/gpfs_fs/home/lindb/wbp/raw_reads/50bp_reads/Sample_WBP03_1/WBP03_1_NoIndex_L005_R1_035.fastq',\n",
       " '/gpfs_fs/home/lindb/wbp/raw_reads/50bp_reads/Sample_WBP03_1/WBP03_1_NoIndex_L005_R1_057.fastq',\n",
       " '/gpfs_fs/home/lindb/wbp/raw_reads/50bp_reads/Sample_WBP03_1/WBP03_1_NoIndex_L005_R1_028.fastq',\n",
       " '/gpfs_fs/home/lindb/wbp/raw_reads/50bp_reads/Sample_WBP03_1/WBP03_1_NoIndex_L005_R1_012.fastq',\n",
       " '/gpfs_fs/home/lindb/wbp/raw_reads/50bp_reads/Sample_WBP03_1/WBP03_1_NoIndex_L005_R1_030.fastq',\n",
       " '/gpfs_fs/home/lindb/wbp/raw_reads/50bp_reads/Sample_WBP03_1/WBP03_1_NoIndex_L005_R1_062.fastq',\n",
       " '/gpfs_fs/home/lindb/wbp/raw_reads/50bp_reads/Sample_WBP03_1/WBP03_1_NoIndex_L005_R1_045.fastq',\n",
       " '/gpfs_fs/home/lindb/wbp/raw_reads/50bp_reads/Sample_WBP03_1/WBP03_1_NoIndex_L005_R1_023.fastq',\n",
       " '/gpfs_fs/home/lindb/wbp/raw_reads/50bp_reads/Sample_WBP03_1/WBP03_1_NoIndex_L005_R1_008.fastq',\n",
       " '/gpfs_fs/home/lindb/wbp/raw_reads/50bp_reads/Sample_WBP03_1/WBP03_1_NoIndex_L005_R1_043.fastq',\n",
       " '/gpfs_fs/home/lindb/wbp/raw_reads/50bp_reads/Sample_WBP03_1/WBP03_1_NoIndex_L005_R1_041.fastq',\n",
       " '/gpfs_fs/home/lindb/wbp/raw_reads/50bp_reads/Sample_WBP03_1/WBP03_1_NoIndex_L005_R1_040.fastq',\n",
       " '/gpfs_fs/home/lindb/wbp/raw_reads/50bp_reads/Sample_WBP03_1/WBP03_1_NoIndex_L005_R1_025.fastq',\n",
       " '/gpfs_fs/home/lindb/wbp/raw_reads/50bp_reads/Sample_WBP03_1/WBP03_1_NoIndex_L005_R1_058.fastq',\n",
       " '/gpfs_fs/home/lindb/wbp/raw_reads/150bp_reads/Sample_WBP01_1/WBP01_1_NoIndex_L001_R1_018.fastq',\n",
       " '/gpfs_fs/home/lindb/wbp/raw_reads/150bp_reads/Sample_WBP01_1/WBP01_1_NoIndex_L001_R1_033.fastq',\n",
       " '/gpfs_fs/home/lindb/wbp/raw_reads/150bp_reads/Sample_WBP01_1/WBP01_1_NoIndex_L001_R1_036.fastq',\n",
       " '/gpfs_fs/home/lindb/wbp/raw_reads/150bp_reads/Sample_WBP01_1/WBP01_1_NoIndex_L001_R1_007.fastq',\n",
       " '/gpfs_fs/home/lindb/wbp/raw_reads/150bp_reads/Sample_WBP01_1/WBP01_1_NoIndex_L001_R1_037.fastq',\n",
       " '/gpfs_fs/home/lindb/wbp/raw_reads/150bp_reads/Sample_WBP01_1/WBP01_1_NoIndex_L001_R1_013.fastq',\n",
       " '/gpfs_fs/home/lindb/wbp/raw_reads/150bp_reads/Sample_WBP01_1/WBP01_1_NoIndex_L001_R1_040.fastq',\n",
       " '/gpfs_fs/home/lindb/wbp/raw_reads/150bp_reads/Sample_WBP01_1/WBP01_1_NoIndex_L001_R1_001.fastq',\n",
       " '/gpfs_fs/home/lindb/wbp/raw_reads/150bp_reads/Sample_WBP01_1/WBP01_1_NoIndex_L001_R1_008.fastq',\n",
       " '/gpfs_fs/home/lindb/wbp/raw_reads/150bp_reads/Sample_WBP01_1/WBP01_1_NoIndex_L001_R1_034.fastq',\n",
       " '/gpfs_fs/home/lindb/wbp/raw_reads/150bp_reads/Sample_WBP01_1/WBP01_1_NoIndex_L001_R1_035.fastq',\n",
       " '/gpfs_fs/home/lindb/wbp/raw_reads/150bp_reads/Sample_WBP01_1/WBP01_1_NoIndex_L001_R1_010.fastq',\n",
       " '/gpfs_fs/home/lindb/wbp/raw_reads/150bp_reads/Sample_WBP01_1/WBP01_1_NoIndex_L001_R1_005.fastq',\n",
       " '/gpfs_fs/home/lindb/wbp/raw_reads/150bp_reads/Sample_WBP01_1/WBP01_1_NoIndex_L001_R1_025.fastq',\n",
       " '/gpfs_fs/home/lindb/wbp/raw_reads/150bp_reads/Sample_WBP01_1/WBP01_1_NoIndex_L001_R1_026.fastq',\n",
       " '/gpfs_fs/home/lindb/wbp/raw_reads/150bp_reads/Sample_WBP01_1/WBP01_1_NoIndex_L001_R1_032.fastq',\n",
       " '/gpfs_fs/home/lindb/wbp/raw_reads/150bp_reads/Sample_WBP01_1/WBP01_1_NoIndex_L001_R1_042.fastq',\n",
       " '/gpfs_fs/home/lindb/wbp/raw_reads/150bp_reads/Sample_WBP01_1/WBP01_1_NoIndex_L001_R1_023.fastq',\n",
       " '/gpfs_fs/home/lindb/wbp/raw_reads/150bp_reads/Sample_WBP01_1/WBP01_1_NoIndex_L001_R1_027.fastq',\n",
       " '/gpfs_fs/home/lindb/wbp/raw_reads/150bp_reads/Sample_WBP01_1/WBP01_1_NoIndex_L001_R1_009.fastq',\n",
       " '/gpfs_fs/home/lindb/wbp/raw_reads/150bp_reads/Sample_WBP01_1/WBP01_1_NoIndex_L001_R1_017.fastq',\n",
       " '/gpfs_fs/home/lindb/wbp/raw_reads/150bp_reads/Sample_WBP01_1/WBP01_1_NoIndex_L001_R1_004.fastq',\n",
       " '/gpfs_fs/home/lindb/wbp/raw_reads/150bp_reads/Sample_WBP01_1/WBP01_1_NoIndex_L001_R1_011.fastq',\n",
       " '/gpfs_fs/home/lindb/wbp/raw_reads/150bp_reads/Sample_WBP01_1/WBP01_1_NoIndex_L001_R1_024.fastq',\n",
       " '/gpfs_fs/home/lindb/wbp/raw_reads/150bp_reads/Sample_WBP01_1/WBP01_1_NoIndex_L001_R1_031.fastq',\n",
       " '/gpfs_fs/home/lindb/wbp/raw_reads/150bp_reads/Sample_WBP01_1/WBP01_1_NoIndex_L001_R1_038.fastq',\n",
       " '/gpfs_fs/home/lindb/wbp/raw_reads/150bp_reads/Sample_WBP01_1/WBP01_1_NoIndex_L001_R1_015.fastq',\n",
       " '/gpfs_fs/home/lindb/wbp/raw_reads/150bp_reads/Sample_WBP01_1/WBP01_1_NoIndex_L001_R1_029.fastq',\n",
       " '/gpfs_fs/home/lindb/wbp/raw_reads/150bp_reads/Sample_WBP01_1/WBP01_1_NoIndex_L001_R1_045.fastq',\n",
       " '/gpfs_fs/home/lindb/wbp/raw_reads/150bp_reads/Sample_WBP01_1/WBP01_1_NoIndex_L001_R1_016.fastq',\n",
       " '/gpfs_fs/home/lindb/wbp/raw_reads/150bp_reads/Sample_WBP01_1/WBP01_1_NoIndex_L001_R1_021.fastq',\n",
       " '/gpfs_fs/home/lindb/wbp/raw_reads/150bp_reads/Sample_WBP01_1/WBP01_1_NoIndex_L001_R1_022.fastq',\n",
       " '/gpfs_fs/home/lindb/wbp/raw_reads/150bp_reads/Sample_WBP01_1/WBP01_1_NoIndex_L001_R1_019.fastq',\n",
       " '/gpfs_fs/home/lindb/wbp/raw_reads/150bp_reads/Sample_WBP01_1/WBP01_1_NoIndex_L001_R1_030.fastq',\n",
       " '/gpfs_fs/home/lindb/wbp/raw_reads/150bp_reads/Sample_WBP01_1/WBP01_1_NoIndex_L001_R1_043.fastq',\n",
       " '/gpfs_fs/home/lindb/wbp/raw_reads/150bp_reads/Sample_WBP01_1/WBP01_1_NoIndex_L001_R1_044.fastq',\n",
       " '/gpfs_fs/home/lindb/wbp/raw_reads/150bp_reads/Sample_WBP01_1/WBP01_1_NoIndex_L001_R1_002.fastq',\n",
       " '/gpfs_fs/home/lindb/wbp/raw_reads/150bp_reads/Sample_WBP01_1/WBP01_1_NoIndex_L001_R1_003.fastq',\n",
       " '/gpfs_fs/home/lindb/wbp/raw_reads/150bp_reads/Sample_WBP01_1/WBP01_1_NoIndex_L001_R1_006.fastq',\n",
       " '/gpfs_fs/home/lindb/wbp/raw_reads/150bp_reads/Sample_WBP01_1/WBP01_1_NoIndex_L001_R1_012.fastq',\n",
       " '/gpfs_fs/home/lindb/wbp/raw_reads/150bp_reads/Sample_WBP01_1/WBP01_1_NoIndex_L001_R1_028.fastq',\n",
       " '/gpfs_fs/home/lindb/wbp/raw_reads/150bp_reads/Sample_WBP01_1/WBP01_1_NoIndex_L001_R1_020.fastq',\n",
       " '/gpfs_fs/home/lindb/wbp/raw_reads/150bp_reads/Sample_WBP01_1/WBP01_1_NoIndex_L001_R1_041.fastq',\n",
       " '/gpfs_fs/home/lindb/wbp/raw_reads/150bp_reads/Sample_WBP01_1/WBP01_1_NoIndex_L001_R1_014.fastq',\n",
       " '/gpfs_fs/home/lindb/wbp/raw_reads/150bp_reads/Sample_WBP01_1/WBP01_1_NoIndex_L001_R1_039.fastq',\n",
       " '/gpfs_fs/home/lindb/wbp/raw_reads/150bp_reads/Sample_WBP01_2/WBP01_2_NoIndex_L002_R1_004.fastq',\n",
       " '/gpfs_fs/home/lindb/wbp/raw_reads/150bp_reads/Sample_WBP01_2/WBP01_2_NoIndex_L002_R1_003.fastq',\n",
       " '/gpfs_fs/home/lindb/wbp/raw_reads/150bp_reads/Sample_WBP01_2/WBP01_2_NoIndex_L002_R1_006.fastq',\n",
       " '/gpfs_fs/home/lindb/wbp/raw_reads/150bp_reads/Sample_WBP01_2/WBP01_2_NoIndex_L002_R1_020.fastq',\n",
       " '/gpfs_fs/home/lindb/wbp/raw_reads/150bp_reads/Sample_WBP01_2/WBP01_2_NoIndex_L002_R1_002.fastq',\n",
       " '/gpfs_fs/home/lindb/wbp/raw_reads/150bp_reads/Sample_WBP01_2/WBP01_2_NoIndex_L002_R1_042.fastq',\n",
       " '/gpfs_fs/home/lindb/wbp/raw_reads/150bp_reads/Sample_WBP01_2/WBP01_2_NoIndex_L002_R1_008.fastq',\n",
       " '/gpfs_fs/home/lindb/wbp/raw_reads/150bp_reads/Sample_WBP01_2/WBP01_2_NoIndex_L002_R1_014.fastq',\n",
       " '/gpfs_fs/home/lindb/wbp/raw_reads/150bp_reads/Sample_WBP01_2/WBP01_2_NoIndex_L002_R1_039.fastq',\n",
       " '/gpfs_fs/home/lindb/wbp/raw_reads/150bp_reads/Sample_WBP01_2/WBP01_2_NoIndex_L002_R1_045.fastq',\n",
       " '/gpfs_fs/home/lindb/wbp/raw_reads/150bp_reads/Sample_WBP01_2/WBP01_2_NoIndex_L002_R1_018.fastq',\n",
       " '/gpfs_fs/home/lindb/wbp/raw_reads/150bp_reads/Sample_WBP01_2/WBP01_2_NoIndex_L002_R1_009.fastq',\n",
       " '/gpfs_fs/home/lindb/wbp/raw_reads/150bp_reads/Sample_WBP01_2/WBP01_2_NoIndex_L002_R1_012.fastq',\n",
       " '/gpfs_fs/home/lindb/wbp/raw_reads/150bp_reads/Sample_WBP01_2/WBP01_2_NoIndex_L002_R1_019.fastq',\n",
       " '/gpfs_fs/home/lindb/wbp/raw_reads/150bp_reads/Sample_WBP01_2/WBP01_2_NoIndex_L002_R1_030.fastq',\n",
       " '/gpfs_fs/home/lindb/wbp/raw_reads/150bp_reads/Sample_WBP01_2/WBP01_2_NoIndex_L002_R1_033.fastq',\n",
       " '/gpfs_fs/home/lindb/wbp/raw_reads/150bp_reads/Sample_WBP01_2/WBP01_2_NoIndex_L002_R1_022.fastq',\n",
       " '/gpfs_fs/home/lindb/wbp/raw_reads/150bp_reads/Sample_WBP01_2/WBP01_2_NoIndex_L002_R1_032.fastq',\n",
       " '/gpfs_fs/home/lindb/wbp/raw_reads/150bp_reads/Sample_WBP01_2/WBP01_2_NoIndex_L002_R1_035.fastq',\n",
       " '/gpfs_fs/home/lindb/wbp/raw_reads/150bp_reads/Sample_WBP01_2/WBP01_2_NoIndex_L002_R1_037.fastq',\n",
       " '/gpfs_fs/home/lindb/wbp/raw_reads/150bp_reads/Sample_WBP01_2/WBP01_2_NoIndex_L002_R1_044.fastq',\n",
       " '/gpfs_fs/home/lindb/wbp/raw_reads/150bp_reads/Sample_WBP01_2/WBP01_2_NoIndex_L002_R1_015.fastq',\n",
       " '/gpfs_fs/home/lindb/wbp/raw_reads/150bp_reads/Sample_WBP01_2/WBP01_2_NoIndex_L002_R1_026.fastq',\n",
       " '/gpfs_fs/home/lindb/wbp/raw_reads/150bp_reads/Sample_WBP01_2/WBP01_2_NoIndex_L002_R1_027.fastq',\n",
       " '/gpfs_fs/home/lindb/wbp/raw_reads/150bp_reads/Sample_WBP01_2/WBP01_2_NoIndex_L002_R1_031.fastq',\n",
       " '/gpfs_fs/home/lindb/wbp/raw_reads/150bp_reads/Sample_WBP01_2/WBP01_2_NoIndex_L002_R1_038.fastq',\n",
       " '/gpfs_fs/home/lindb/wbp/raw_reads/150bp_reads/Sample_WBP01_2/WBP01_2_NoIndex_L002_R1_036.fastq',\n",
       " '/gpfs_fs/home/lindb/wbp/raw_reads/150bp_reads/Sample_WBP01_2/WBP01_2_NoIndex_L002_R1_021.fastq',\n",
       " '/gpfs_fs/home/lindb/wbp/raw_reads/150bp_reads/Sample_WBP01_2/WBP01_2_NoIndex_L002_R1_029.fastq',\n",
       " '/gpfs_fs/home/lindb/wbp/raw_reads/150bp_reads/Sample_WBP01_2/WBP01_2_NoIndex_L002_R1_041.fastq',\n",
       " '/gpfs_fs/home/lindb/wbp/raw_reads/150bp_reads/Sample_WBP01_2/WBP01_2_NoIndex_L002_R1_010.fastq',\n",
       " '/gpfs_fs/home/lindb/wbp/raw_reads/150bp_reads/Sample_WBP01_2/WBP01_2_NoIndex_L002_R1_017.fastq',\n",
       " '/gpfs_fs/home/lindb/wbp/raw_reads/150bp_reads/Sample_WBP01_2/WBP01_2_NoIndex_L002_R1_024.fastq',\n",
       " '/gpfs_fs/home/lindb/wbp/raw_reads/150bp_reads/Sample_WBP01_2/WBP01_2_NoIndex_L002_R1_043.fastq',\n",
       " '/gpfs_fs/home/lindb/wbp/raw_reads/150bp_reads/Sample_WBP01_2/WBP01_2_NoIndex_L002_R1_028.fastq',\n",
       " '/gpfs_fs/home/lindb/wbp/raw_reads/150bp_reads/Sample_WBP01_2/WBP01_2_NoIndex_L002_R1_001.fastq',\n",
       " '/gpfs_fs/home/lindb/wbp/raw_reads/150bp_reads/Sample_WBP01_2/WBP01_2_NoIndex_L002_R1_005.fastq',\n",
       " '/gpfs_fs/home/lindb/wbp/raw_reads/150bp_reads/Sample_WBP01_2/WBP01_2_NoIndex_L002_R1_007.fastq',\n",
       " '/gpfs_fs/home/lindb/wbp/raw_reads/150bp_reads/Sample_WBP01_2/WBP01_2_NoIndex_L002_R1_016.fastq',\n",
       " '/gpfs_fs/home/lindb/wbp/raw_reads/150bp_reads/Sample_WBP01_2/WBP01_2_NoIndex_L002_R1_025.fastq',\n",
       " '/gpfs_fs/home/lindb/wbp/raw_reads/150bp_reads/Sample_WBP01_2/WBP01_2_NoIndex_L002_R1_034.fastq',\n",
       " '/gpfs_fs/home/lindb/wbp/raw_reads/150bp_reads/Sample_WBP01_2/WBP01_2_NoIndex_L002_R1_040.fastq',\n",
       " '/gpfs_fs/home/lindb/wbp/raw_reads/150bp_reads/Sample_WBP01_2/WBP01_2_NoIndex_L002_R1_023.fastq',\n",
       " '/gpfs_fs/home/lindb/wbp/raw_reads/150bp_reads/Sample_WBP01_2/WBP01_2_NoIndex_L002_R1_011.fastq',\n",
       " '/gpfs_fs/home/lindb/wbp/raw_reads/150bp_reads/Sample_WBP01_2/WBP01_2_NoIndex_L002_R1_013.fastq',\n",
       " '/gpfs_fs/home/lindb/wbp/raw_reads/150bp_reads/Sample_WBP02_2/WBP02_2_NoIndex_L002_R1_015.fastq',\n",
       " '/gpfs_fs/home/lindb/wbp/raw_reads/150bp_reads/Sample_WBP02_2/WBP02_2_NoIndex_L002_R1_052.fastq',\n",
       " '/gpfs_fs/home/lindb/wbp/raw_reads/150bp_reads/Sample_WBP02_2/WBP02_2_NoIndex_L002_R1_001.fastq',\n",
       " '/gpfs_fs/home/lindb/wbp/raw_reads/150bp_reads/Sample_WBP02_2/WBP02_2_NoIndex_L002_R1_017.fastq',\n",
       " '/gpfs_fs/home/lindb/wbp/raw_reads/150bp_reads/Sample_WBP02_2/WBP02_2_NoIndex_L002_R1_028.fastq',\n",
       " '/gpfs_fs/home/lindb/wbp/raw_reads/150bp_reads/Sample_WBP02_2/WBP02_2_NoIndex_L002_R1_039.fastq',\n",
       " '/gpfs_fs/home/lindb/wbp/raw_reads/150bp_reads/Sample_WBP02_2/WBP02_2_NoIndex_L002_R1_005.fastq',\n",
       " '/gpfs_fs/home/lindb/wbp/raw_reads/150bp_reads/Sample_WBP02_2/WBP02_2_NoIndex_L002_R1_046.fastq',\n",
       " '/gpfs_fs/home/lindb/wbp/raw_reads/150bp_reads/Sample_WBP02_2/WBP02_2_NoIndex_L002_R1_003.fastq',\n",
       " '/gpfs_fs/home/lindb/wbp/raw_reads/150bp_reads/Sample_WBP02_2/WBP02_2_NoIndex_L002_R1_032.fastq',\n",
       " '/gpfs_fs/home/lindb/wbp/raw_reads/150bp_reads/Sample_WBP02_2/WBP02_2_NoIndex_L002_R1_050.fastq',\n",
       " '/gpfs_fs/home/lindb/wbp/raw_reads/150bp_reads/Sample_WBP02_2/WBP02_2_NoIndex_L002_R1_033.fastq',\n",
       " '/gpfs_fs/home/lindb/wbp/raw_reads/150bp_reads/Sample_WBP02_2/WBP02_2_NoIndex_L002_R1_008.fastq',\n",
       " '/gpfs_fs/home/lindb/wbp/raw_reads/150bp_reads/Sample_WBP02_2/WBP02_2_NoIndex_L002_R1_021.fastq',\n",
       " '/gpfs_fs/home/lindb/wbp/raw_reads/150bp_reads/Sample_WBP02_2/WBP02_2_NoIndex_L002_R1_036.fastq',\n",
       " '/gpfs_fs/home/lindb/wbp/raw_reads/150bp_reads/Sample_WBP02_2/WBP02_2_NoIndex_L002_R1_048.fastq',\n",
       " '/gpfs_fs/home/lindb/wbp/raw_reads/150bp_reads/Sample_WBP02_2/WBP02_2_NoIndex_L002_R1_011.fastq',\n",
       " '/gpfs_fs/home/lindb/wbp/raw_reads/150bp_reads/Sample_WBP02_2/WBP02_2_NoIndex_L002_R1_026.fastq',\n",
       " '/gpfs_fs/home/lindb/wbp/raw_reads/150bp_reads/Sample_WBP02_2/WBP02_2_NoIndex_L002_R1_044.fastq',\n",
       " '/gpfs_fs/home/lindb/wbp/raw_reads/150bp_reads/Sample_WBP02_2/WBP02_2_NoIndex_L002_R1_031.fastq',\n",
       " '/gpfs_fs/home/lindb/wbp/raw_reads/150bp_reads/Sample_WBP02_2/WBP02_2_NoIndex_L002_R1_004.fastq',\n",
       " '/gpfs_fs/home/lindb/wbp/raw_reads/150bp_reads/Sample_WBP02_2/WBP02_2_NoIndex_L002_R1_037.fastq',\n",
       " '/gpfs_fs/home/lindb/wbp/raw_reads/150bp_reads/Sample_WBP02_2/WBP02_2_NoIndex_L002_R1_042.fastq',\n",
       " '/gpfs_fs/home/lindb/wbp/raw_reads/150bp_reads/Sample_WBP02_2/WBP02_2_NoIndex_L002_R1_022.fastq',\n",
       " '/gpfs_fs/home/lindb/wbp/raw_reads/150bp_reads/Sample_WBP02_2/WBP02_2_NoIndex_L002_R1_027.fastq',\n",
       " '/gpfs_fs/home/lindb/wbp/raw_reads/150bp_reads/Sample_WBP02_2/WBP02_2_NoIndex_L002_R1_043.fastq',\n",
       " '/gpfs_fs/home/lindb/wbp/raw_reads/150bp_reads/Sample_WBP02_2/WBP02_2_NoIndex_L002_R1_035.fastq',\n",
       " '/gpfs_fs/home/lindb/wbp/raw_reads/150bp_reads/Sample_WBP02_2/WBP02_2_NoIndex_L002_R1_002.fastq',\n",
       " '/gpfs_fs/home/lindb/wbp/raw_reads/150bp_reads/Sample_WBP02_2/WBP02_2_NoIndex_L002_R1_018.fastq',\n",
       " '/gpfs_fs/home/lindb/wbp/raw_reads/150bp_reads/Sample_WBP02_2/WBP02_2_NoIndex_L002_R1_053.fastq',\n",
       " '/gpfs_fs/home/lindb/wbp/raw_reads/150bp_reads/Sample_WBP02_2/WBP02_2_NoIndex_L002_R1_020.fastq',\n",
       " '/gpfs_fs/home/lindb/wbp/raw_reads/150bp_reads/Sample_WBP02_2/WBP02_2_NoIndex_L002_R1_010.fastq',\n",
       " '/gpfs_fs/home/lindb/wbp/raw_reads/150bp_reads/Sample_WBP02_2/WBP02_2_NoIndex_L002_R1_024.fastq',\n",
       " '/gpfs_fs/home/lindb/wbp/raw_reads/150bp_reads/Sample_WBP02_2/WBP02_2_NoIndex_L002_R1_025.fastq',\n",
       " '/gpfs_fs/home/lindb/wbp/raw_reads/150bp_reads/Sample_WBP02_2/WBP02_2_NoIndex_L002_R1_006.fastq',\n",
       " '/gpfs_fs/home/lindb/wbp/raw_reads/150bp_reads/Sample_WBP02_2/WBP02_2_NoIndex_L002_R1_013.fastq',\n",
       " '/gpfs_fs/home/lindb/wbp/raw_reads/150bp_reads/Sample_WBP02_2/WBP02_2_NoIndex_L002_R1_014.fastq',\n",
       " '/gpfs_fs/home/lindb/wbp/raw_reads/150bp_reads/Sample_WBP02_2/WBP02_2_NoIndex_L002_R1_019.fastq',\n",
       " '/gpfs_fs/home/lindb/wbp/raw_reads/150bp_reads/Sample_WBP02_2/WBP02_2_NoIndex_L002_R1_023.fastq',\n",
       " '/gpfs_fs/home/lindb/wbp/raw_reads/150bp_reads/Sample_WBP02_2/WBP02_2_NoIndex_L002_R1_007.fastq',\n",
       " '/gpfs_fs/home/lindb/wbp/raw_reads/150bp_reads/Sample_WBP02_2/WBP02_2_NoIndex_L002_R1_029.fastq',\n",
       " '/gpfs_fs/home/lindb/wbp/raw_reads/150bp_reads/Sample_WBP02_2/WBP02_2_NoIndex_L002_R1_038.fastq',\n",
       " '/gpfs_fs/home/lindb/wbp/raw_reads/150bp_reads/Sample_WBP02_2/WBP02_2_NoIndex_L002_R1_054.fastq',\n",
       " '/gpfs_fs/home/lindb/wbp/raw_reads/150bp_reads/Sample_WBP02_2/WBP02_2_NoIndex_L002_R1_047.fastq',\n",
       " '/gpfs_fs/home/lindb/wbp/raw_reads/150bp_reads/Sample_WBP02_2/WBP02_2_NoIndex_L002_R1_009.fastq',\n",
       " '/gpfs_fs/home/lindb/wbp/raw_reads/150bp_reads/Sample_WBP02_2/WBP02_2_NoIndex_L002_R1_012.fastq',\n",
       " '/gpfs_fs/home/lindb/wbp/raw_reads/150bp_reads/Sample_WBP02_2/WBP02_2_NoIndex_L002_R1_051.fastq',\n",
       " '/gpfs_fs/home/lindb/wbp/raw_reads/150bp_reads/Sample_WBP02_2/WBP02_2_NoIndex_L002_R1_041.fastq',\n",
       " '/gpfs_fs/home/lindb/wbp/raw_reads/150bp_reads/Sample_WBP02_2/WBP02_2_NoIndex_L002_R1_040.fastq',\n",
       " '/gpfs_fs/home/lindb/wbp/raw_reads/150bp_reads/Sample_WBP02_2/WBP02_2_NoIndex_L002_R1_045.fastq',\n",
       " '/gpfs_fs/home/lindb/wbp/raw_reads/150bp_reads/Sample_WBP02_2/WBP02_2_NoIndex_L002_R1_016.fastq',\n",
       " '/gpfs_fs/home/lindb/wbp/raw_reads/150bp_reads/Sample_WBP02_2/WBP02_2_NoIndex_L002_R1_030.fastq',\n",
       " '/gpfs_fs/home/lindb/wbp/raw_reads/150bp_reads/Sample_WBP02_2/WBP02_2_NoIndex_L002_R1_049.fastq',\n",
       " '/gpfs_fs/home/lindb/wbp/raw_reads/150bp_reads/Sample_WBP02_2/WBP02_2_NoIndex_L002_R1_034.fastq',\n",
       " '/gpfs_fs/home/lindb/wbp/raw_reads/150bp_reads/Sample_WBP02_1/WBP02_1_NoIndex_L001_R1_020.fastq',\n",
       " '/gpfs_fs/home/lindb/wbp/raw_reads/150bp_reads/Sample_WBP02_1/WBP02_1_NoIndex_L001_R1_035.fastq',\n",
       " '/gpfs_fs/home/lindb/wbp/raw_reads/150bp_reads/Sample_WBP02_1/WBP02_1_NoIndex_L001_R1_048.fastq',\n",
       " '/gpfs_fs/home/lindb/wbp/raw_reads/150bp_reads/Sample_WBP02_1/WBP02_1_NoIndex_L001_R1_049.fastq',\n",
       " '/gpfs_fs/home/lindb/wbp/raw_reads/150bp_reads/Sample_WBP02_1/WBP02_1_NoIndex_L001_R1_044.fastq',\n",
       " '/gpfs_fs/home/lindb/wbp/raw_reads/150bp_reads/Sample_WBP02_1/WBP02_1_NoIndex_L001_R1_032.fastq',\n",
       " '/gpfs_fs/home/lindb/wbp/raw_reads/150bp_reads/Sample_WBP02_1/WBP02_1_NoIndex_L001_R1_046.fastq',\n",
       " '/gpfs_fs/home/lindb/wbp/raw_reads/150bp_reads/Sample_WBP02_1/WBP02_1_NoIndex_L001_R1_040.fastq',\n",
       " '/gpfs_fs/home/lindb/wbp/raw_reads/150bp_reads/Sample_WBP02_1/WBP02_1_NoIndex_L001_R1_047.fastq',\n",
       " '/gpfs_fs/home/lindb/wbp/raw_reads/150bp_reads/Sample_WBP02_1/WBP02_1_NoIndex_L001_R1_021.fastq',\n",
       " '/gpfs_fs/home/lindb/wbp/raw_reads/150bp_reads/Sample_WBP02_1/WBP02_1_NoIndex_L001_R1_028.fastq',\n",
       " '/gpfs_fs/home/lindb/wbp/raw_reads/150bp_reads/Sample_WBP02_1/WBP02_1_NoIndex_L001_R1_036.fastq',\n",
       " '/gpfs_fs/home/lindb/wbp/raw_reads/150bp_reads/Sample_WBP02_1/WBP02_1_NoIndex_L001_R1_038.fastq',\n",
       " '/gpfs_fs/home/lindb/wbp/raw_reads/150bp_reads/Sample_WBP02_1/WBP02_1_NoIndex_L001_R1_027.fastq',\n",
       " '/gpfs_fs/home/lindb/wbp/raw_reads/150bp_reads/Sample_WBP02_1/WBP02_1_NoIndex_L001_R1_002.fastq',\n",
       " '/gpfs_fs/home/lindb/wbp/raw_reads/150bp_reads/Sample_WBP02_1/WBP02_1_NoIndex_L001_R1_011.fastq',\n",
       " '/gpfs_fs/home/lindb/wbp/raw_reads/150bp_reads/Sample_WBP02_1/WBP02_1_NoIndex_L001_R1_022.fastq',\n",
       " '/gpfs_fs/home/lindb/wbp/raw_reads/150bp_reads/Sample_WBP02_1/WBP02_1_NoIndex_L001_R1_029.fastq',\n",
       " '/gpfs_fs/home/lindb/wbp/raw_reads/150bp_reads/Sample_WBP02_1/WBP02_1_NoIndex_L001_R1_031.fastq',\n",
       " '/gpfs_fs/home/lindb/wbp/raw_reads/150bp_reads/Sample_WBP02_1/WBP02_1_NoIndex_L001_R1_006.fastq',\n",
       " '/gpfs_fs/home/lindb/wbp/raw_reads/150bp_reads/Sample_WBP02_1/WBP02_1_NoIndex_L001_R1_042.fastq',\n",
       " '/gpfs_fs/home/lindb/wbp/raw_reads/150bp_reads/Sample_WBP02_1/WBP02_1_NoIndex_L001_R1_007.fastq',\n",
       " '/gpfs_fs/home/lindb/wbp/raw_reads/150bp_reads/Sample_WBP02_1/WBP02_1_NoIndex_L001_R1_024.fastq',\n",
       " '/gpfs_fs/home/lindb/wbp/raw_reads/150bp_reads/Sample_WBP02_1/WBP02_1_NoIndex_L001_R1_010.fastq',\n",
       " '/gpfs_fs/home/lindb/wbp/raw_reads/150bp_reads/Sample_WBP02_1/WBP02_1_NoIndex_L001_R1_012.fastq',\n",
       " '/gpfs_fs/home/lindb/wbp/raw_reads/150bp_reads/Sample_WBP02_1/WBP02_1_NoIndex_L001_R1_030.fastq',\n",
       " '/gpfs_fs/home/lindb/wbp/raw_reads/150bp_reads/Sample_WBP02_1/WBP02_1_NoIndex_L001_R1_034.fastq',\n",
       " '/gpfs_fs/home/lindb/wbp/raw_reads/150bp_reads/Sample_WBP02_1/WBP02_1_NoIndex_L001_R1_019.fastq',\n",
       " '/gpfs_fs/home/lindb/wbp/raw_reads/150bp_reads/Sample_WBP02_1/WBP02_1_NoIndex_L001_R1_025.fastq',\n",
       " '/gpfs_fs/home/lindb/wbp/raw_reads/150bp_reads/Sample_WBP02_1/WBP02_1_NoIndex_L001_R1_039.fastq',\n",
       " '/gpfs_fs/home/lindb/wbp/raw_reads/150bp_reads/Sample_WBP02_1/WBP02_1_NoIndex_L001_R1_016.fastq',\n",
       " '/gpfs_fs/home/lindb/wbp/raw_reads/150bp_reads/Sample_WBP02_1/WBP02_1_NoIndex_L001_R1_050.fastq',\n",
       " '/gpfs_fs/home/lindb/wbp/raw_reads/150bp_reads/Sample_WBP02_1/WBP02_1_NoIndex_L001_R1_004.fastq',\n",
       " '/gpfs_fs/home/lindb/wbp/raw_reads/150bp_reads/Sample_WBP02_1/WBP02_1_NoIndex_L001_R1_014.fastq',\n",
       " '/gpfs_fs/home/lindb/wbp/raw_reads/150bp_reads/Sample_WBP02_1/WBP02_1_NoIndex_L001_R1_023.fastq',\n",
       " '/gpfs_fs/home/lindb/wbp/raw_reads/150bp_reads/Sample_WBP02_1/WBP02_1_NoIndex_L001_R1_045.fastq',\n",
       " '/gpfs_fs/home/lindb/wbp/raw_reads/150bp_reads/Sample_WBP02_1/WBP02_1_NoIndex_L001_R1_053.fastq',\n",
       " '/gpfs_fs/home/lindb/wbp/raw_reads/150bp_reads/Sample_WBP02_1/WBP02_1_NoIndex_L001_R1_017.fastq',\n",
       " '/gpfs_fs/home/lindb/wbp/raw_reads/150bp_reads/Sample_WBP02_1/WBP02_1_NoIndex_L001_R1_041.fastq',\n",
       " '/gpfs_fs/home/lindb/wbp/raw_reads/150bp_reads/Sample_WBP02_1/WBP02_1_NoIndex_L001_R1_052.fastq',\n",
       " '/gpfs_fs/home/lindb/wbp/raw_reads/150bp_reads/Sample_WBP02_1/WBP02_1_NoIndex_L001_R1_008.fastq',\n",
       " '/gpfs_fs/home/lindb/wbp/raw_reads/150bp_reads/Sample_WBP02_1/WBP02_1_NoIndex_L001_R1_009.fastq',\n",
       " '/gpfs_fs/home/lindb/wbp/raw_reads/150bp_reads/Sample_WBP02_1/WBP02_1_NoIndex_L001_R1_013.fastq',\n",
       " '/gpfs_fs/home/lindb/wbp/raw_reads/150bp_reads/Sample_WBP02_1/WBP02_1_NoIndex_L001_R1_037.fastq',\n",
       " '/gpfs_fs/home/lindb/wbp/raw_reads/150bp_reads/Sample_WBP02_1/WBP02_1_NoIndex_L001_R1_015.fastq',\n",
       " '/gpfs_fs/home/lindb/wbp/raw_reads/150bp_reads/Sample_WBP02_1/WBP02_1_NoIndex_L001_R1_026.fastq',\n",
       " '/gpfs_fs/home/lindb/wbp/raw_reads/150bp_reads/Sample_WBP02_1/WBP02_1_NoIndex_L001_R1_003.fastq',\n",
       " '/gpfs_fs/home/lindb/wbp/raw_reads/150bp_reads/Sample_WBP02_1/WBP02_1_NoIndex_L001_R1_018.fastq',\n",
       " '/gpfs_fs/home/lindb/wbp/raw_reads/150bp_reads/Sample_WBP02_1/WBP02_1_NoIndex_L001_R1_001.fastq',\n",
       " '/gpfs_fs/home/lindb/wbp/raw_reads/150bp_reads/Sample_WBP02_1/WBP02_1_NoIndex_L001_R1_005.fastq',\n",
       " '/gpfs_fs/home/lindb/wbp/raw_reads/150bp_reads/Sample_WBP02_1/WBP02_1_NoIndex_L001_R1_033.fastq',\n",
       " '/gpfs_fs/home/lindb/wbp/raw_reads/150bp_reads/Sample_WBP02_1/WBP02_1_NoIndex_L001_R1_043.fastq',\n",
       " '/gpfs_fs/home/lindb/wbp/raw_reads/150bp_reads/Sample_WBP02_1/WBP02_1_NoIndex_L001_R1_051.fastq',\n",
       " '/gpfs_fs/home/lindb/wbp/raw_reads/150bp_reads/Sample_WBP03_1/WBP03_1_NoIndex_L001_R1_001.fastq',\n",
       " '/gpfs_fs/home/lindb/wbp/raw_reads/150bp_reads/Sample_WBP03_1/WBP03_1_NoIndex_L001_R1_021.fastq',\n",
       " '/gpfs_fs/home/lindb/wbp/raw_reads/150bp_reads/Sample_WBP03_1/WBP03_1_NoIndex_L001_R1_010.fastq',\n",
       " '/gpfs_fs/home/lindb/wbp/raw_reads/150bp_reads/Sample_WBP03_1/WBP03_1_NoIndex_L001_R1_012.fastq',\n",
       " '/gpfs_fs/home/lindb/wbp/raw_reads/150bp_reads/Sample_WBP03_1/WBP03_1_NoIndex_L001_R1_039.fastq',\n",
       " '/gpfs_fs/home/lindb/wbp/raw_reads/150bp_reads/Sample_WBP03_1/WBP03_1_NoIndex_L001_R1_035.fastq',\n",
       " '/gpfs_fs/home/lindb/wbp/raw_reads/150bp_reads/Sample_WBP03_1/WBP03_1_NoIndex_L001_R1_008.fastq',\n",
       " '/gpfs_fs/home/lindb/wbp/raw_reads/150bp_reads/Sample_WBP03_1/WBP03_1_NoIndex_L001_R1_031.fastq',\n",
       " '/gpfs_fs/home/lindb/wbp/raw_reads/150bp_reads/Sample_WBP03_1/WBP03_1_NoIndex_L001_R1_038.fastq',\n",
       " '/gpfs_fs/home/lindb/wbp/raw_reads/150bp_reads/Sample_WBP03_1/WBP03_1_NoIndex_L001_R1_037.fastq',\n",
       " '/gpfs_fs/home/lindb/wbp/raw_reads/150bp_reads/Sample_WBP03_1/WBP03_1_NoIndex_L001_R1_042.fastq',\n",
       " '/gpfs_fs/home/lindb/wbp/raw_reads/150bp_reads/Sample_WBP03_1/WBP03_1_NoIndex_L001_R1_046.fastq',\n",
       " '/gpfs_fs/home/lindb/wbp/raw_reads/150bp_reads/Sample_WBP03_1/WBP03_1_NoIndex_L001_R1_034.fastq',\n",
       " '/gpfs_fs/home/lindb/wbp/raw_reads/150bp_reads/Sample_WBP03_1/WBP03_1_NoIndex_L001_R1_003.fastq',\n",
       " '/gpfs_fs/home/lindb/wbp/raw_reads/150bp_reads/Sample_WBP03_1/WBP03_1_NoIndex_L001_R1_018.fastq',\n",
       " '/gpfs_fs/home/lindb/wbp/raw_reads/150bp_reads/Sample_WBP03_1/WBP03_1_NoIndex_L001_R1_024.fastq',\n",
       " '/gpfs_fs/home/lindb/wbp/raw_reads/150bp_reads/Sample_WBP03_1/WBP03_1_NoIndex_L001_R1_040.fastq',\n",
       " '/gpfs_fs/home/lindb/wbp/raw_reads/150bp_reads/Sample_WBP03_1/WBP03_1_NoIndex_L001_R1_045.fastq',\n",
       " '/gpfs_fs/home/lindb/wbp/raw_reads/150bp_reads/Sample_WBP03_1/WBP03_1_NoIndex_L001_R1_006.fastq',\n",
       " '/gpfs_fs/home/lindb/wbp/raw_reads/150bp_reads/Sample_WBP03_1/WBP03_1_NoIndex_L001_R1_048.fastq',\n",
       " '/gpfs_fs/home/lindb/wbp/raw_reads/150bp_reads/Sample_WBP03_1/WBP03_1_NoIndex_L001_R1_004.fastq',\n",
       " '/gpfs_fs/home/lindb/wbp/raw_reads/150bp_reads/Sample_WBP03_1/WBP03_1_NoIndex_L001_R1_022.fastq',\n",
       " '/gpfs_fs/home/lindb/wbp/raw_reads/150bp_reads/Sample_WBP03_1/WBP03_1_NoIndex_L001_R1_020.fastq',\n",
       " '/gpfs_fs/home/lindb/wbp/raw_reads/150bp_reads/Sample_WBP03_1/WBP03_1_NoIndex_L001_R1_016.fastq',\n",
       " '/gpfs_fs/home/lindb/wbp/raw_reads/150bp_reads/Sample_WBP03_1/WBP03_1_NoIndex_L001_R1_033.fastq',\n",
       " '/gpfs_fs/home/lindb/wbp/raw_reads/150bp_reads/Sample_WBP03_1/WBP03_1_NoIndex_L001_R1_027.fastq',\n",
       " '/gpfs_fs/home/lindb/wbp/raw_reads/150bp_reads/Sample_WBP03_1/WBP03_1_NoIndex_L001_R1_007.fastq',\n",
       " '/gpfs_fs/home/lindb/wbp/raw_reads/150bp_reads/Sample_WBP03_1/WBP03_1_NoIndex_L001_R1_014.fastq',\n",
       " '/gpfs_fs/home/lindb/wbp/raw_reads/150bp_reads/Sample_WBP03_1/WBP03_1_NoIndex_L001_R1_028.fastq',\n",
       " '/gpfs_fs/home/lindb/wbp/raw_reads/150bp_reads/Sample_WBP03_1/WBP03_1_NoIndex_L001_R1_036.fastq',\n",
       " '/gpfs_fs/home/lindb/wbp/raw_reads/150bp_reads/Sample_WBP03_1/WBP03_1_NoIndex_L001_R1_047.fastq',\n",
       " '/gpfs_fs/home/lindb/wbp/raw_reads/150bp_reads/Sample_WBP03_1/WBP03_1_NoIndex_L001_R1_049.fastq',\n",
       " '/gpfs_fs/home/lindb/wbp/raw_reads/150bp_reads/Sample_WBP03_1/WBP03_1_NoIndex_L001_R1_019.fastq',\n",
       " '/gpfs_fs/home/lindb/wbp/raw_reads/150bp_reads/Sample_WBP03_1/WBP03_1_NoIndex_L001_R1_015.fastq',\n",
       " '/gpfs_fs/home/lindb/wbp/raw_reads/150bp_reads/Sample_WBP03_1/WBP03_1_NoIndex_L001_R1_030.fastq',\n",
       " '/gpfs_fs/home/lindb/wbp/raw_reads/150bp_reads/Sample_WBP03_1/WBP03_1_NoIndex_L001_R1_044.fastq',\n",
       " '/gpfs_fs/home/lindb/wbp/raw_reads/150bp_reads/Sample_WBP03_1/WBP03_1_NoIndex_L001_R1_017.fastq',\n",
       " '/gpfs_fs/home/lindb/wbp/raw_reads/150bp_reads/Sample_WBP03_1/WBP03_1_NoIndex_L001_R1_011.fastq',\n",
       " '/gpfs_fs/home/lindb/wbp/raw_reads/150bp_reads/Sample_WBP03_1/WBP03_1_NoIndex_L001_R1_023.fastq',\n",
       " '/gpfs_fs/home/lindb/wbp/raw_reads/150bp_reads/Sample_WBP03_1/WBP03_1_NoIndex_L001_R1_029.fastq',\n",
       " '/gpfs_fs/home/lindb/wbp/raw_reads/150bp_reads/Sample_WBP03_1/WBP03_1_NoIndex_L001_R1_013.fastq',\n",
       " '/gpfs_fs/home/lindb/wbp/raw_reads/150bp_reads/Sample_WBP03_1/WBP03_1_NoIndex_L001_R1_026.fastq',\n",
       " '/gpfs_fs/home/lindb/wbp/raw_reads/150bp_reads/Sample_WBP03_1/WBP03_1_NoIndex_L001_R1_005.fastq',\n",
       " '/gpfs_fs/home/lindb/wbp/raw_reads/150bp_reads/Sample_WBP03_1/WBP03_1_NoIndex_L001_R1_043.fastq',\n",
       " '/gpfs_fs/home/lindb/wbp/raw_reads/150bp_reads/Sample_WBP03_1/WBP03_1_NoIndex_L001_R1_002.fastq',\n",
       " '/gpfs_fs/home/lindb/wbp/raw_reads/150bp_reads/Sample_WBP03_1/WBP03_1_NoIndex_L001_R1_009.fastq',\n",
       " '/gpfs_fs/home/lindb/wbp/raw_reads/150bp_reads/Sample_WBP03_1/WBP03_1_NoIndex_L001_R1_025.fastq',\n",
       " '/gpfs_fs/home/lindb/wbp/raw_reads/150bp_reads/Sample_WBP03_1/WBP03_1_NoIndex_L001_R1_032.fastq',\n",
       " '/gpfs_fs/home/lindb/wbp/raw_reads/150bp_reads/Sample_WBP03_1/WBP03_1_NoIndex_L001_R1_041.fastq',\n",
       " '/gpfs_fs/home/lindb/wbp/raw_reads/150bp_reads/Sample_WBP03_2/WBP03_2_NoIndex_L002_R1_003.fastq',\n",
       " '/gpfs_fs/home/lindb/wbp/raw_reads/150bp_reads/Sample_WBP03_2/WBP03_2_NoIndex_L002_R1_042.fastq',\n",
       " '/gpfs_fs/home/lindb/wbp/raw_reads/150bp_reads/Sample_WBP03_2/WBP03_2_NoIndex_L002_R1_007.fastq',\n",
       " '/gpfs_fs/home/lindb/wbp/raw_reads/150bp_reads/Sample_WBP03_2/WBP03_2_NoIndex_L002_R1_015.fastq',\n",
       " '/gpfs_fs/home/lindb/wbp/raw_reads/150bp_reads/Sample_WBP03_2/WBP03_2_NoIndex_L002_R1_027.fastq',\n",
       " '/gpfs_fs/home/lindb/wbp/raw_reads/150bp_reads/Sample_WBP03_2/WBP03_2_NoIndex_L002_R1_032.fastq',\n",
       " '/gpfs_fs/home/lindb/wbp/raw_reads/150bp_reads/Sample_WBP03_2/WBP03_2_NoIndex_L002_R1_002.fastq',\n",
       " '/gpfs_fs/home/lindb/wbp/raw_reads/150bp_reads/Sample_WBP03_2/WBP03_2_NoIndex_L002_R1_033.fastq',\n",
       " '/gpfs_fs/home/lindb/wbp/raw_reads/150bp_reads/Sample_WBP03_2/WBP03_2_NoIndex_L002_R1_029.fastq',\n",
       " '/gpfs_fs/home/lindb/wbp/raw_reads/150bp_reads/Sample_WBP03_2/WBP03_2_NoIndex_L002_R1_004.fastq',\n",
       " '/gpfs_fs/home/lindb/wbp/raw_reads/150bp_reads/Sample_WBP03_2/WBP03_2_NoIndex_L002_R1_025.fastq',\n",
       " '/gpfs_fs/home/lindb/wbp/raw_reads/150bp_reads/Sample_WBP03_2/WBP03_2_NoIndex_L002_R1_047.fastq',\n",
       " '/gpfs_fs/home/lindb/wbp/raw_reads/150bp_reads/Sample_WBP03_2/WBP03_2_NoIndex_L002_R1_049.fastq',\n",
       " '/gpfs_fs/home/lindb/wbp/raw_reads/150bp_reads/Sample_WBP03_2/WBP03_2_NoIndex_L002_R1_030.fastq',\n",
       " '/gpfs_fs/home/lindb/wbp/raw_reads/150bp_reads/Sample_WBP03_2/WBP03_2_NoIndex_L002_R1_009.fastq',\n",
       " '/gpfs_fs/home/lindb/wbp/raw_reads/150bp_reads/Sample_WBP03_2/WBP03_2_NoIndex_L002_R1_008.fastq',\n",
       " '/gpfs_fs/home/lindb/wbp/raw_reads/150bp_reads/Sample_WBP03_2/WBP03_2_NoIndex_L002_R1_022.fastq',\n",
       " '/gpfs_fs/home/lindb/wbp/raw_reads/150bp_reads/Sample_WBP03_2/WBP03_2_NoIndex_L002_R1_044.fastq',\n",
       " '/gpfs_fs/home/lindb/wbp/raw_reads/150bp_reads/Sample_WBP03_2/WBP03_2_NoIndex_L002_R1_039.fastq',\n",
       " '/gpfs_fs/home/lindb/wbp/raw_reads/150bp_reads/Sample_WBP03_2/WBP03_2_NoIndex_L002_R1_014.fastq',\n",
       " '/gpfs_fs/home/lindb/wbp/raw_reads/150bp_reads/Sample_WBP03_2/WBP03_2_NoIndex_L002_R1_017.fastq',\n",
       " '/gpfs_fs/home/lindb/wbp/raw_reads/150bp_reads/Sample_WBP03_2/WBP03_2_NoIndex_L002_R1_034.fastq',\n",
       " '/gpfs_fs/home/lindb/wbp/raw_reads/150bp_reads/Sample_WBP03_2/WBP03_2_NoIndex_L002_R1_010.fastq',\n",
       " '/gpfs_fs/home/lindb/wbp/raw_reads/150bp_reads/Sample_WBP03_2/WBP03_2_NoIndex_L002_R1_019.fastq',\n",
       " '/gpfs_fs/home/lindb/wbp/raw_reads/150bp_reads/Sample_WBP03_2/WBP03_2_NoIndex_L002_R1_021.fastq',\n",
       " '/gpfs_fs/home/lindb/wbp/raw_reads/150bp_reads/Sample_WBP03_2/WBP03_2_NoIndex_L002_R1_036.fastq',\n",
       " '/gpfs_fs/home/lindb/wbp/raw_reads/150bp_reads/Sample_WBP03_2/WBP03_2_NoIndex_L002_R1_012.fastq',\n",
       " '/gpfs_fs/home/lindb/wbp/raw_reads/150bp_reads/Sample_WBP03_2/WBP03_2_NoIndex_L002_R1_016.fastq',\n",
       " '/gpfs_fs/home/lindb/wbp/raw_reads/150bp_reads/Sample_WBP03_2/WBP03_2_NoIndex_L002_R1_013.fastq',\n",
       " '/gpfs_fs/home/lindb/wbp/raw_reads/150bp_reads/Sample_WBP03_2/WBP03_2_NoIndex_L002_R1_018.fastq',\n",
       " '/gpfs_fs/home/lindb/wbp/raw_reads/150bp_reads/Sample_WBP03_2/WBP03_2_NoIndex_L002_R1_028.fastq',\n",
       " '/gpfs_fs/home/lindb/wbp/raw_reads/150bp_reads/Sample_WBP03_2/WBP03_2_NoIndex_L002_R1_037.fastq',\n",
       " '/gpfs_fs/home/lindb/wbp/raw_reads/150bp_reads/Sample_WBP03_2/WBP03_2_NoIndex_L002_R1_046.fastq',\n",
       " '/gpfs_fs/home/lindb/wbp/raw_reads/150bp_reads/Sample_WBP03_2/WBP03_2_NoIndex_L002_R1_001.fastq',\n",
       " '/gpfs_fs/home/lindb/wbp/raw_reads/150bp_reads/Sample_WBP03_2/WBP03_2_NoIndex_L002_R1_023.fastq',\n",
       " '/gpfs_fs/home/lindb/wbp/raw_reads/150bp_reads/Sample_WBP03_2/WBP03_2_NoIndex_L002_R1_040.fastq',\n",
       " '/gpfs_fs/home/lindb/wbp/raw_reads/150bp_reads/Sample_WBP03_2/WBP03_2_NoIndex_L002_R1_006.fastq',\n",
       " '/gpfs_fs/home/lindb/wbp/raw_reads/150bp_reads/Sample_WBP03_2/WBP03_2_NoIndex_L002_R1_020.fastq',\n",
       " '/gpfs_fs/home/lindb/wbp/raw_reads/150bp_reads/Sample_WBP03_2/WBP03_2_NoIndex_L002_R1_024.fastq',\n",
       " '/gpfs_fs/home/lindb/wbp/raw_reads/150bp_reads/Sample_WBP03_2/WBP03_2_NoIndex_L002_R1_031.fastq',\n",
       " '/gpfs_fs/home/lindb/wbp/raw_reads/150bp_reads/Sample_WBP03_2/WBP03_2_NoIndex_L002_R1_035.fastq',\n",
       " '/gpfs_fs/home/lindb/wbp/raw_reads/150bp_reads/Sample_WBP03_2/WBP03_2_NoIndex_L002_R1_026.fastq',\n",
       " '/gpfs_fs/home/lindb/wbp/raw_reads/150bp_reads/Sample_WBP03_2/WBP03_2_NoIndex_L002_R1_048.fastq',\n",
       " '/gpfs_fs/home/lindb/wbp/raw_reads/150bp_reads/Sample_WBP03_2/WBP03_2_NoIndex_L002_R1_005.fastq',\n",
       " '/gpfs_fs/home/lindb/wbp/raw_reads/150bp_reads/Sample_WBP03_2/WBP03_2_NoIndex_L002_R1_043.fastq',\n",
       " '/gpfs_fs/home/lindb/wbp/raw_reads/150bp_reads/Sample_WBP03_2/WBP03_2_NoIndex_L002_R1_041.fastq',\n",
       " '/gpfs_fs/home/lindb/wbp/raw_reads/150bp_reads/Sample_WBP03_2/WBP03_2_NoIndex_L002_R1_011.fastq',\n",
       " '/gpfs_fs/home/lindb/wbp/raw_reads/150bp_reads/Sample_WBP03_2/WBP03_2_NoIndex_L002_R1_038.fastq',\n",
       " '/gpfs_fs/home/lindb/wbp/raw_reads/150bp_reads/Sample_WBP03_2/WBP03_2_NoIndex_L002_R1_045.fastq',\n",
       " '/gpfs_fs/home/lindb/wbp/raw_reads/150bp_reads/Sample_WBP03_3/WBP03_1_NoIndex_L001_R1_001.fastq',\n",
       " '/gpfs_fs/home/lindb/wbp/raw_reads/150bp_reads/Sample_WBP03_3/WBP03_1_NoIndex_L001_R1_021.fastq',\n",
       " '/gpfs_fs/home/lindb/wbp/raw_reads/150bp_reads/Sample_WBP03_3/WBP03_1_NoIndex_L001_R1_039.fastq',\n",
       " '/gpfs_fs/home/lindb/wbp/raw_reads/150bp_reads/Sample_WBP03_3/WBP03_1_NoIndex_L001_R1_010.fastq',\n",
       " '/gpfs_fs/home/lindb/wbp/raw_reads/150bp_reads/Sample_WBP03_3/WBP03_1_NoIndex_L001_R1_012.fastq',\n",
       " '/gpfs_fs/home/lindb/wbp/raw_reads/150bp_reads/Sample_WBP03_3/WBP03_1_NoIndex_L001_R1_008.fastq',\n",
       " '/gpfs_fs/home/lindb/wbp/raw_reads/150bp_reads/Sample_WBP03_3/WBP03_1_NoIndex_L001_R1_031.fastq',\n",
       " '/gpfs_fs/home/lindb/wbp/raw_reads/150bp_reads/Sample_WBP03_3/WBP03_1_NoIndex_L001_R1_035.fastq',\n",
       " '/gpfs_fs/home/lindb/wbp/raw_reads/150bp_reads/Sample_WBP03_3/WBP03_1_NoIndex_L001_R1_037.fastq',\n",
       " '/gpfs_fs/home/lindb/wbp/raw_reads/150bp_reads/Sample_WBP03_3/WBP03_1_NoIndex_L001_R1_038.fastq',\n",
       " '/gpfs_fs/home/lindb/wbp/raw_reads/150bp_reads/Sample_WBP03_3/WBP03_1_NoIndex_L001_R1_042.fastq',\n",
       " '/gpfs_fs/home/lindb/wbp/raw_reads/150bp_reads/Sample_WBP03_3/WBP03_1_NoIndex_L001_R1_046.fastq',\n",
       " '/gpfs_fs/home/lindb/wbp/raw_reads/150bp_reads/Sample_WBP03_3/WBP03_1_NoIndex_L001_R1_034.fastq',\n",
       " '/gpfs_fs/home/lindb/wbp/raw_reads/150bp_reads/Sample_WBP03_3/WBP03_1_NoIndex_L001_R1_003.fastq',\n",
       " '/gpfs_fs/home/lindb/wbp/raw_reads/150bp_reads/Sample_WBP03_3/WBP03_1_NoIndex_L001_R1_018.fastq',\n",
       " '/gpfs_fs/home/lindb/wbp/raw_reads/150bp_reads/Sample_WBP03_3/WBP03_1_NoIndex_L001_R1_024.fastq',\n",
       " '/gpfs_fs/home/lindb/wbp/raw_reads/150bp_reads/Sample_WBP03_3/WBP03_1_NoIndex_L001_R1_040.fastq',\n",
       " '/gpfs_fs/home/lindb/wbp/raw_reads/150bp_reads/Sample_WBP03_3/WBP03_1_NoIndex_L001_R1_045.fastq',\n",
       " '/gpfs_fs/home/lindb/wbp/raw_reads/150bp_reads/Sample_WBP03_3/WBP03_1_NoIndex_L001_R1_006.fastq',\n",
       " '/gpfs_fs/home/lindb/wbp/raw_reads/150bp_reads/Sample_WBP03_3/WBP03_1_NoIndex_L001_R1_048.fastq',\n",
       " '/gpfs_fs/home/lindb/wbp/raw_reads/150bp_reads/Sample_WBP03_3/WBP03_1_NoIndex_L001_R1_022.fastq',\n",
       " '/gpfs_fs/home/lindb/wbp/raw_reads/150bp_reads/Sample_WBP03_3/WBP03_1_NoIndex_L001_R1_004.fastq',\n",
       " '/gpfs_fs/home/lindb/wbp/raw_reads/150bp_reads/Sample_WBP03_3/WBP03_1_NoIndex_L001_R1_016.fastq',\n",
       " '/gpfs_fs/home/lindb/wbp/raw_reads/150bp_reads/Sample_WBP03_3/WBP03_1_NoIndex_L001_R1_020.fastq',\n",
       " '/gpfs_fs/home/lindb/wbp/raw_reads/150bp_reads/Sample_WBP03_3/WBP03_1_NoIndex_L001_R1_033.fastq',\n",
       " '/gpfs_fs/home/lindb/wbp/raw_reads/150bp_reads/Sample_WBP03_3/WBP03_1_NoIndex_L001_R1_027.fastq',\n",
       " '/gpfs_fs/home/lindb/wbp/raw_reads/150bp_reads/Sample_WBP03_3/WBP03_1_NoIndex_L001_R1_028.fastq',\n",
       " '/gpfs_fs/home/lindb/wbp/raw_reads/150bp_reads/Sample_WBP03_3/WBP03_1_NoIndex_L001_R1_036.fastq',\n",
       " '/gpfs_fs/home/lindb/wbp/raw_reads/150bp_reads/Sample_WBP03_3/WBP03_1_NoIndex_L001_R1_047.fastq',\n",
       " '/gpfs_fs/home/lindb/wbp/raw_reads/150bp_reads/Sample_WBP03_3/WBP03_1_NoIndex_L001_R1_007.fastq',\n",
       " '/gpfs_fs/home/lindb/wbp/raw_reads/150bp_reads/Sample_WBP03_3/WBP03_1_NoIndex_L001_R1_014.fastq',\n",
       " '/gpfs_fs/home/lindb/wbp/raw_reads/150bp_reads/Sample_WBP03_3/WBP03_1_NoIndex_L001_R1_049.fastq',\n",
       " '/gpfs_fs/home/lindb/wbp/raw_reads/150bp_reads/Sample_WBP03_3/WBP03_1_NoIndex_L001_R1_019.fastq',\n",
       " '/gpfs_fs/home/lindb/wbp/raw_reads/150bp_reads/Sample_WBP03_3/WBP03_1_NoIndex_L001_R1_015.fastq',\n",
       " '/gpfs_fs/home/lindb/wbp/raw_reads/150bp_reads/Sample_WBP03_3/WBP03_1_NoIndex_L001_R1_030.fastq',\n",
       " '/gpfs_fs/home/lindb/wbp/raw_reads/150bp_reads/Sample_WBP03_3/WBP03_1_NoIndex_L001_R1_044.fastq',\n",
       " '/gpfs_fs/home/lindb/wbp/raw_reads/150bp_reads/Sample_WBP03_3/WBP03_1_NoIndex_L001_R1_017.fastq',\n",
       " '/gpfs_fs/home/lindb/wbp/raw_reads/150bp_reads/Sample_WBP03_3/WBP03_1_NoIndex_L001_R1_023.fastq',\n",
       " '/gpfs_fs/home/lindb/wbp/raw_reads/150bp_reads/Sample_WBP03_3/WBP03_1_NoIndex_L001_R1_029.fastq',\n",
       " '/gpfs_fs/home/lindb/wbp/raw_reads/150bp_reads/Sample_WBP03_3/WBP03_1_NoIndex_L001_R1_011.fastq',\n",
       " '/gpfs_fs/home/lindb/wbp/raw_reads/150bp_reads/Sample_WBP03_3/WBP03_1_NoIndex_L001_R1_005.fastq',\n",
       " '/gpfs_fs/home/lindb/wbp/raw_reads/150bp_reads/Sample_WBP03_3/WBP03_1_NoIndex_L001_R1_013.fastq',\n",
       " '/gpfs_fs/home/lindb/wbp/raw_reads/150bp_reads/Sample_WBP03_3/WBP03_1_NoIndex_L001_R1_026.fastq',\n",
       " '/gpfs_fs/home/lindb/wbp/raw_reads/150bp_reads/Sample_WBP03_3/WBP03_1_NoIndex_L001_R1_043.fastq',\n",
       " '/gpfs_fs/home/lindb/wbp/raw_reads/150bp_reads/Sample_WBP03_3/WBP03_1_NoIndex_L001_R1_002.fastq',\n",
       " '/gpfs_fs/home/lindb/wbp/raw_reads/150bp_reads/Sample_WBP03_3/WBP03_1_NoIndex_L001_R1_009.fastq',\n",
       " '/gpfs_fs/home/lindb/wbp/raw_reads/150bp_reads/Sample_WBP03_3/WBP03_1_NoIndex_L001_R1_025.fastq',\n",
       " '/gpfs_fs/home/lindb/wbp/raw_reads/150bp_reads/Sample_WBP03_3/WBP03_1_NoIndex_L001_R1_032.fastq',\n",
       " '/gpfs_fs/home/lindb/wbp/raw_reads/150bp_reads/Sample_WBP03_3/WBP03_1_NoIndex_L001_R1_041.fastq',\n",
       " '/gpfs_fs/home/lindb/wbp/raw_reads/150bp_reads/Sample_WBP03_4/WBP03_2_NoIndex_L002_R1_003.fastq',\n",
       " '/gpfs_fs/home/lindb/wbp/raw_reads/150bp_reads/Sample_WBP03_4/WBP03_2_NoIndex_L002_R1_007.fastq',\n",
       " '/gpfs_fs/home/lindb/wbp/raw_reads/150bp_reads/Sample_WBP03_4/WBP03_2_NoIndex_L002_R1_015.fastq',\n",
       " '/gpfs_fs/home/lindb/wbp/raw_reads/150bp_reads/Sample_WBP03_4/WBP03_2_NoIndex_L002_R1_027.fastq',\n",
       " '/gpfs_fs/home/lindb/wbp/raw_reads/150bp_reads/Sample_WBP03_4/WBP03_2_NoIndex_L002_R1_032.fastq',\n",
       " '/gpfs_fs/home/lindb/wbp/raw_reads/150bp_reads/Sample_WBP03_4/WBP03_2_NoIndex_L002_R1_042.fastq',\n",
       " '/gpfs_fs/home/lindb/wbp/raw_reads/150bp_reads/Sample_WBP03_4/WBP03_2_NoIndex_L002_R1_002.fastq',\n",
       " '/gpfs_fs/home/lindb/wbp/raw_reads/150bp_reads/Sample_WBP03_4/WBP03_2_NoIndex_L002_R1_033.fastq',\n",
       " '/gpfs_fs/home/lindb/wbp/raw_reads/150bp_reads/Sample_WBP03_4/WBP03_2_NoIndex_L002_R1_029.fastq',\n",
       " '/gpfs_fs/home/lindb/wbp/raw_reads/150bp_reads/Sample_WBP03_4/WBP03_2_NoIndex_L002_R1_004.fastq',\n",
       " '/gpfs_fs/home/lindb/wbp/raw_reads/150bp_reads/Sample_WBP03_4/WBP03_2_NoIndex_L002_R1_025.fastq',\n",
       " '/gpfs_fs/home/lindb/wbp/raw_reads/150bp_reads/Sample_WBP03_4/WBP03_2_NoIndex_L002_R1_047.fastq',\n",
       " '/gpfs_fs/home/lindb/wbp/raw_reads/150bp_reads/Sample_WBP03_4/WBP03_2_NoIndex_L002_R1_030.fastq',\n",
       " '/gpfs_fs/home/lindb/wbp/raw_reads/150bp_reads/Sample_WBP03_4/WBP03_2_NoIndex_L002_R1_049.fastq',\n",
       " '/gpfs_fs/home/lindb/wbp/raw_reads/150bp_reads/Sample_WBP03_4/WBP03_2_NoIndex_L002_R1_022.fastq',\n",
       " '/gpfs_fs/home/lindb/wbp/raw_reads/150bp_reads/Sample_WBP03_4/WBP03_2_NoIndex_L002_R1_008.fastq',\n",
       " '/gpfs_fs/home/lindb/wbp/raw_reads/150bp_reads/Sample_WBP03_4/WBP03_2_NoIndex_L002_R1_009.fastq',\n",
       " '/gpfs_fs/home/lindb/wbp/raw_reads/150bp_reads/Sample_WBP03_4/WBP03_2_NoIndex_L002_R1_044.fastq',\n",
       " '/gpfs_fs/home/lindb/wbp/raw_reads/150bp_reads/Sample_WBP03_4/WBP03_2_NoIndex_L002_R1_014.fastq',\n",
       " '/gpfs_fs/home/lindb/wbp/raw_reads/150bp_reads/Sample_WBP03_4/WBP03_2_NoIndex_L002_R1_039.fastq',\n",
       " '/gpfs_fs/home/lindb/wbp/raw_reads/150bp_reads/Sample_WBP03_4/WBP03_2_NoIndex_L002_R1_017.fastq',\n",
       " '/gpfs_fs/home/lindb/wbp/raw_reads/150bp_reads/Sample_WBP03_4/WBP03_2_NoIndex_L002_R1_034.fastq',\n",
       " '/gpfs_fs/home/lindb/wbp/raw_reads/150bp_reads/Sample_WBP03_4/WBP03_2_NoIndex_L002_R1_021.fastq',\n",
       " '/gpfs_fs/home/lindb/wbp/raw_reads/150bp_reads/Sample_WBP03_4/WBP03_2_NoIndex_L002_R1_010.fastq',\n",
       " '/gpfs_fs/home/lindb/wbp/raw_reads/150bp_reads/Sample_WBP03_4/WBP03_2_NoIndex_L002_R1_019.fastq',\n",
       " '/gpfs_fs/home/lindb/wbp/raw_reads/150bp_reads/Sample_WBP03_4/WBP03_2_NoIndex_L002_R1_012.fastq',\n",
       " '/gpfs_fs/home/lindb/wbp/raw_reads/150bp_reads/Sample_WBP03_4/WBP03_2_NoIndex_L002_R1_016.fastq',\n",
       " '/gpfs_fs/home/lindb/wbp/raw_reads/150bp_reads/Sample_WBP03_4/WBP03_2_NoIndex_L002_R1_036.fastq',\n",
       " '/gpfs_fs/home/lindb/wbp/raw_reads/150bp_reads/Sample_WBP03_4/WBP03_2_NoIndex_L002_R1_018.fastq',\n",
       " '/gpfs_fs/home/lindb/wbp/raw_reads/150bp_reads/Sample_WBP03_4/WBP03_2_NoIndex_L002_R1_013.fastq',\n",
       " '/gpfs_fs/home/lindb/wbp/raw_reads/150bp_reads/Sample_WBP03_4/WBP03_2_NoIndex_L002_R1_028.fastq',\n",
       " '/gpfs_fs/home/lindb/wbp/raw_reads/150bp_reads/Sample_WBP03_4/WBP03_2_NoIndex_L002_R1_037.fastq',\n",
       " '/gpfs_fs/home/lindb/wbp/raw_reads/150bp_reads/Sample_WBP03_4/WBP03_2_NoIndex_L002_R1_046.fastq',\n",
       " '/gpfs_fs/home/lindb/wbp/raw_reads/150bp_reads/Sample_WBP03_4/WBP03_2_NoIndex_L002_R1_001.fastq',\n",
       " '/gpfs_fs/home/lindb/wbp/raw_reads/150bp_reads/Sample_WBP03_4/WBP03_2_NoIndex_L002_R1_023.fastq',\n",
       " '/gpfs_fs/home/lindb/wbp/raw_reads/150bp_reads/Sample_WBP03_4/WBP03_2_NoIndex_L002_R1_006.fastq',\n",
       " '/gpfs_fs/home/lindb/wbp/raw_reads/150bp_reads/Sample_WBP03_4/WBP03_2_NoIndex_L002_R1_020.fastq',\n",
       " '/gpfs_fs/home/lindb/wbp/raw_reads/150bp_reads/Sample_WBP03_4/WBP03_2_NoIndex_L002_R1_024.fastq',\n",
       " '/gpfs_fs/home/lindb/wbp/raw_reads/150bp_reads/Sample_WBP03_4/WBP03_2_NoIndex_L002_R1_031.fastq',\n",
       " '/gpfs_fs/home/lindb/wbp/raw_reads/150bp_reads/Sample_WBP03_4/WBP03_2_NoIndex_L002_R1_035.fastq',\n",
       " '/gpfs_fs/home/lindb/wbp/raw_reads/150bp_reads/Sample_WBP03_4/WBP03_2_NoIndex_L002_R1_040.fastq',\n",
       " '/gpfs_fs/home/lindb/wbp/raw_reads/150bp_reads/Sample_WBP03_4/WBP03_2_NoIndex_L002_R1_026.fastq',\n",
       " '/gpfs_fs/home/lindb/wbp/raw_reads/150bp_reads/Sample_WBP03_4/WBP03_2_NoIndex_L002_R1_005.fastq',\n",
       " '/gpfs_fs/home/lindb/wbp/raw_reads/150bp_reads/Sample_WBP03_4/WBP03_2_NoIndex_L002_R1_041.fastq',\n",
       " '/gpfs_fs/home/lindb/wbp/raw_reads/150bp_reads/Sample_WBP03_4/WBP03_2_NoIndex_L002_R1_043.fastq',\n",
       " '/gpfs_fs/home/lindb/wbp/raw_reads/150bp_reads/Sample_WBP03_4/WBP03_2_NoIndex_L002_R1_048.fastq',\n",
       " '/gpfs_fs/home/lindb/wbp/raw_reads/150bp_reads/Sample_WBP03_4/WBP03_2_NoIndex_L002_R1_011.fastq',\n",
       " '/gpfs_fs/home/lindb/wbp/raw_reads/150bp_reads/Sample_WBP03_4/WBP03_2_NoIndex_L002_R1_038.fastq',\n",
       " '/gpfs_fs/home/lindb/wbp/raw_reads/150bp_reads/Sample_WBP03_4/WBP03_2_NoIndex_L002_R1_045.fastq']"
      ]
     },
     "execution_count": 25,
     "metadata": {},
     "output_type": "execute_result"
    }
   ],
   "source": [
    "proc_files"
   ]
  },
  {
   "cell_type": "code",
   "execution_count": 1,
   "metadata": {
    "collapsed": false
   },
   "outputs": [
    {
     "ename": "NameError",
     "evalue": "name 'Client' is not defined",
     "output_type": "error",
     "traceback": [
      "\u001b[1;31m---------------------------------------------------------------------------\u001b[0m",
      "\u001b[1;31mNameError\u001b[0m                                 Traceback (most recent call last)",
      "\u001b[1;32m<ipython-input-1-e72fde2a18b8>\u001b[0m in \u001b[0;36m<module>\u001b[1;34m()\u001b[0m\n\u001b[1;32m----> 1\u001b[1;33m \u001b[0mrc\u001b[0m \u001b[1;33m=\u001b[0m \u001b[0mClient\u001b[0m\u001b[1;33m(\u001b[0m\u001b[0mprofile\u001b[0m\u001b[1;33m=\u001b[0m\u001b[1;34m\"xmn\"\u001b[0m\u001b[1;33m)\u001b[0m\u001b[1;33m\u001b[0m\u001b[0m\n\u001b[0m\u001b[0;32m      2\u001b[0m \u001b[0mdview\u001b[0m \u001b[1;33m=\u001b[0m \u001b[0mrc\u001b[0m\u001b[1;33m[\u001b[0m\u001b[1;33m:\u001b[0m\u001b[1;33m]\u001b[0m\u001b[1;33m\u001b[0m\u001b[0m\n\u001b[0;32m      3\u001b[0m \u001b[0mlview\u001b[0m \u001b[1;33m=\u001b[0m \u001b[0mrc\u001b[0m\u001b[1;33m.\u001b[0m\u001b[0mload_balanced_view\u001b[0m\u001b[1;33m(\u001b[0m\u001b[1;33m)\u001b[0m\u001b[1;33m\u001b[0m\u001b[0m\n\u001b[0;32m      4\u001b[0m \u001b[0mlen\u001b[0m\u001b[1;33m(\u001b[0m\u001b[0mlview\u001b[0m\u001b[1;33m)\u001b[0m\u001b[1;33m\u001b[0m\u001b[0m\n",
      "\u001b[1;31mNameError\u001b[0m: name 'Client' is not defined"
     ]
    }
   ],
   "source": [
    "rc = Client(profile=\"xmn\")\n",
    "dview = rc[:]\n",
    "lview = rc.load_balanced_view()\n",
    "len(lview)"
   ]
  },
  {
   "cell_type": "code",
   "execution_count": 188,
   "metadata": {
    "collapsed": false
   },
   "outputs": [],
   "source": [
    "def format_fastq_tuple(title, seq, qual):\n",
    "    assert len(seq) == len(qual)\n",
    "    return \"@%s\\n%s\\n+\\n%s\\n\" % (title, seq, qual)\n",
    "\n",
    "def get_writers(barcodes, f):\n",
    "    import tempfile\n",
    "    from collections import defaultdict\n",
    "    w = defaultdict()\n",
    "    file_list = []\n",
    "    for b, name in list(barcodes.items()):\n",
    "        file_name = \"%s_%s_%s.fastq\" % (f, name, b)\n",
    "        file_list.append(file_name)\n",
    "        w[b] = open(file_name, \"w\")\n",
    "    return w, file_list\n",
    "\n",
    "def get_barcodes(f):\n",
    "    from collections import defaultdict\n",
    "    import os\n",
    "    bcs = defaultdict()\n",
    "    bc_lens = set()\n",
    "    b = os.path.join(os.path.dirname(f), \"barcodes.txt\")\n",
    "    h = open(b)\n",
    "    h.readline()\n",
    "    for line in h:\n",
    "        line = line.strip()\n",
    "        data = line.split(\"\\t\")\n",
    "        if len(data) > 1: #skip blank lines\n",
    "            if \",\" in data[0]:\n",
    "                data[0] = data[0].replace(\" \", \"\").replace(\",\", \"-\")\n",
    "            bc = data[4].upper().replace(\"CTCTTTCCCTACACGACGCTCTTCCGATCT\", \"\")[:-1]\n",
    "            bc_lens.add(len(bc))\n",
    "            bcs[bc] = data[1] + \"_\" + data[0]        \n",
    "    return bcs, bc_lens    \n",
    "\n",
    "def check_barcodes(barcodes):\n",
    "    for i in list(barcodes.keys()):\n",
    "        for j in list(barcodes.keys()):\n",
    "            if i != j:\n",
    "                assert not j.startswith(i)\n",
    "                \n",
    "def copy_file(src, dst):\n",
    "    import shutil\n",
    "    shutil.copy(src, dst)\n",
    "                \n",
    "def demult(f):\n",
    "    print(f)\n",
    "    import socket, stopwatch, os\n",
    "    from Bio.SeqIO.QualityIO import FastqGeneralIterator\n",
    "    from multiprocessing import Pool\n",
    "    from collections import defaultdict\n",
    "    hostname = socket.gethostname()\n",
    "    timer = stopwatch.Timer()\n",
    "    out_dir = os.path.dirname(f)\n",
    "    barcodes, barcode_lens = get_barcodes(f)\n",
    "    check_barcodes(barcodes)\n",
    "    writers, writer_list = get_writers(barcodes, f)\n",
    "    count = 0\n",
    "    found = defaultdict(int)\n",
    "    bad_barcode = 0\n",
    "    n_start = 0\n",
    "    for title, seq, qual in FastqGeneralIterator(open(f)):\n",
    "\n",
    "        if seq.startswith(\"N\"):\n",
    "            seq = seq[1:]\n",
    "            qual = qual[1:]\n",
    "            n_start += 1\n",
    "        \n",
    "        has_barcode = False    \n",
    "        \n",
    "        for l in barcode_lens: \n",
    "            bc = seq[0:l]\n",
    "            if bc in barcodes:\n",
    "                found[bc] += 1\n",
    "                has_barcode = True\n",
    "                w = writers[bc]\n",
    "                w.write(format_fastq_tuple(title, seq[l:], qual[l:]))\n",
    "                break\n",
    "            \n",
    "        count += 1\n",
    "            \n",
    "        if count % 100000 == 0:\n",
    "            print(hostname, f, count)\n",
    "        \n",
    "        if not has_barcode:\n",
    "            bad_barcode += 1\n",
    "    \n",
    "    for k, v in writers.items():\n",
    "        v.close()\n",
    "            \n",
    "    return f, count, bad_barcode, found, writer_list\n",
    "\n",
    "dview['format_fastq_tuple'] = format_fastq_tuple\n",
    "dview['demult'] = demult\n",
    "dview['check_barcodes'] = check_barcodes\n",
    "dview['get_writers'] = get_writers\n",
    "dview['get_barcodes'] = get_barcodes\n",
    "dview['copy_file'] = copy_file\n"
   ]
  },
  {
   "cell_type": "code",
   "execution_count": 28,
   "metadata": {
    "collapsed": true
   },
   "outputs": [],
   "source": [
    "demult_jobs = []\n",
    "for f in proc_files:\n",
    "    demult_jobs.append(lview.apply_async(demult, f))"
   ]
  },
  {
   "cell_type": "code",
   "execution_count": 158,
   "metadata": {
    "collapsed": false
   },
   "outputs": [
    {
     "data": {
      "text/plain": [
       "735"
      ]
     },
     "execution_count": 158,
     "metadata": {},
     "output_type": "execute_result"
    }
   ],
   "source": [
    "np.sum([j.ready() for j in demult_jobs])"
   ]
  },
  {
   "cell_type": "code",
   "execution_count": 159,
   "metadata": {
    "collapsed": false
   },
   "outputs": [
    {
     "data": {
      "text/plain": [
       "735"
      ]
     },
     "execution_count": 159,
     "metadata": {},
     "output_type": "execute_result"
    }
   ],
   "source": [
    "len(demult_jobs)"
   ]
  },
  {
   "cell_type": "code",
   "execution_count": 51,
   "metadata": {
    "collapsed": false
   },
   "outputs": [
    {
     "data": {
      "text/plain": [
       "'/gpfs_fs/home/lindb/wbp/raw_reads/50bp_reads/Sample_WBP01_1/WBP01_1_NoIndex_L001_R1_001.fastq'"
      ]
     },
     "execution_count": 51,
     "metadata": {},
     "output_type": "execute_result"
    }
   ],
   "source": [
    "proc_files[0]"
   ]
  },
  {
   "cell_type": "code",
   "execution_count": 160,
   "metadata": {
    "collapsed": false
   },
   "outputs": [],
   "source": [
    "import pickle"
   ]
  },
  {
   "cell_type": "code",
   "execution_count": 161,
   "metadata": {
    "collapsed": true
   },
   "outputs": [],
   "source": [
    "demult_results = [j.r for j in demult_jobs if j.ready()]"
   ]
  },
  {
   "cell_type": "code",
   "execution_count": 162,
   "metadata": {
    "collapsed": true
   },
   "outputs": [],
   "source": [
    "pickle.dump(demult_results, open(\"/home/lindb/wbp/raw_reads/demult_results.pkl\", \"w\"))"
   ]
  },
  {
   "cell_type": "code",
   "execution_count": 163,
   "metadata": {
    "collapsed": false
   },
   "outputs": [],
   "source": [
    "demult_results = pickle.load(open(\"/home/lindb/wbp/raw_reads/demult_results.pkl\", \"r\"))"
   ]
  },
  {
   "cell_type": "code",
   "execution_count": 164,
   "metadata": {
    "collapsed": true
   },
   "outputs": [],
   "source": [
    "samp_dict = {}\n",
    "for res in demult_results:\n",
    "    files = res[-1]\n",
    "    for f in files:\n",
    "        d = f.split(\"_\")\n",
    "        sample = d[-2]\n",
    "        if not sample in samp_dict:\n",
    "            samp_dict[sample] = []\n",
    "        samp_dict[sample].append(f)"
   ]
  },
  {
   "cell_type": "code",
   "execution_count": 180,
   "metadata": {
    "collapsed": false
   },
   "outputs": [
    {
     "data": {
      "text/plain": [
       "252"
      ]
     },
     "execution_count": 180,
     "metadata": {},
     "output_type": "execute_result"
    }
   ],
   "source": [
    "len(samp_dict.keys())"
   ]
  },
  {
   "cell_type": "code",
   "execution_count": 183,
   "metadata": {
    "collapsed": false
   },
   "outputs": [
    {
     "data": {
      "text/plain": [
       "['10',\n",
       " '100',\n",
       " '101',\n",
       " '102',\n",
       " '103',\n",
       " '104',\n",
       " '105',\n",
       " '106',\n",
       " '107',\n",
       " '108',\n",
       " '109',\n",
       " '11',\n",
       " '110',\n",
       " '111',\n",
       " '112',\n",
       " '113',\n",
       " '114',\n",
       " '115',\n",
       " '116',\n",
       " '117',\n",
       " '118',\n",
       " '119',\n",
       " '12',\n",
       " '120',\n",
       " '121',\n",
       " '122',\n",
       " '123',\n",
       " '124',\n",
       " '125',\n",
       " '126',\n",
       " '127',\n",
       " '128',\n",
       " '129',\n",
       " '13',\n",
       " '130',\n",
       " '131',\n",
       " '132',\n",
       " '133',\n",
       " '134',\n",
       " '135',\n",
       " '136',\n",
       " '137',\n",
       " '139',\n",
       " '14',\n",
       " '140',\n",
       " '141',\n",
       " '142',\n",
       " '143',\n",
       " '144',\n",
       " '145',\n",
       " '146',\n",
       " '147',\n",
       " '148',\n",
       " '149',\n",
       " '15',\n",
       " '150',\n",
       " '151',\n",
       " '152',\n",
       " '153',\n",
       " '154',\n",
       " '155',\n",
       " '156',\n",
       " '157',\n",
       " '158',\n",
       " '159',\n",
       " '16',\n",
       " '160',\n",
       " '161',\n",
       " '163',\n",
       " '164',\n",
       " '165',\n",
       " '166',\n",
       " '167',\n",
       " '168',\n",
       " '169',\n",
       " '17',\n",
       " '170',\n",
       " '171',\n",
       " '172',\n",
       " '173',\n",
       " '174',\n",
       " '175',\n",
       " '177',\n",
       " '178',\n",
       " '179',\n",
       " '18',\n",
       " '180',\n",
       " '181',\n",
       " '182',\n",
       " '183',\n",
       " '184',\n",
       " '185',\n",
       " '186',\n",
       " '187',\n",
       " '188',\n",
       " '189',\n",
       " '19',\n",
       " '190',\n",
       " '191',\n",
       " '192',\n",
       " '193',\n",
       " '194',\n",
       " '195',\n",
       " '196',\n",
       " '197',\n",
       " '198',\n",
       " '199',\n",
       " '20',\n",
       " '200',\n",
       " '201',\n",
       " '202',\n",
       " '203',\n",
       " '204',\n",
       " '205',\n",
       " '206',\n",
       " '207',\n",
       " '208',\n",
       " '209',\n",
       " '21',\n",
       " '210',\n",
       " '211',\n",
       " '212',\n",
       " '213',\n",
       " '214',\n",
       " '215',\n",
       " '216',\n",
       " '217',\n",
       " '218',\n",
       " '219',\n",
       " '22',\n",
       " '220',\n",
       " '221',\n",
       " '222',\n",
       " '223',\n",
       " '224',\n",
       " '225',\n",
       " '226',\n",
       " '227',\n",
       " '228',\n",
       " '229',\n",
       " '23',\n",
       " '230',\n",
       " '231',\n",
       " '232',\n",
       " '233',\n",
       " '234',\n",
       " '235',\n",
       " '236',\n",
       " '237',\n",
       " '238',\n",
       " '239',\n",
       " '24',\n",
       " '240',\n",
       " '241',\n",
       " '242',\n",
       " '243',\n",
       " '244',\n",
       " '245',\n",
       " '246',\n",
       " '247',\n",
       " '248',\n",
       " '249',\n",
       " '25',\n",
       " '250',\n",
       " '251',\n",
       " '252',\n",
       " '253',\n",
       " '254',\n",
       " '255',\n",
       " '256',\n",
       " '26',\n",
       " '27',\n",
       " '28',\n",
       " '29',\n",
       " '30',\n",
       " '31',\n",
       " '32',\n",
       " '33',\n",
       " '34',\n",
       " '35',\n",
       " '36',\n",
       " '37',\n",
       " '38',\n",
       " '39',\n",
       " '40',\n",
       " '41',\n",
       " '42',\n",
       " '43',\n",
       " '44',\n",
       " '45',\n",
       " '46',\n",
       " '47',\n",
       " '48',\n",
       " '49',\n",
       " '50',\n",
       " '51',\n",
       " '52',\n",
       " '53',\n",
       " '54',\n",
       " '55',\n",
       " '56',\n",
       " '57',\n",
       " '58',\n",
       " '59',\n",
       " '60',\n",
       " '61',\n",
       " '62',\n",
       " '63',\n",
       " '64',\n",
       " '65',\n",
       " '66',\n",
       " '67',\n",
       " '68',\n",
       " '69',\n",
       " '70',\n",
       " '71',\n",
       " '72',\n",
       " '73',\n",
       " '74',\n",
       " '75',\n",
       " '76',\n",
       " '78',\n",
       " '79',\n",
       " '80',\n",
       " '81',\n",
       " '82',\n",
       " '83',\n",
       " '84',\n",
       " '85',\n",
       " '86',\n",
       " '87',\n",
       " '88',\n",
       " '89',\n",
       " '9',\n",
       " '90',\n",
       " '91',\n",
       " '92',\n",
       " '93',\n",
       " '94',\n",
       " '95',\n",
       " '96',\n",
       " '97',\n",
       " '98',\n",
       " '99',\n",
       " 'NA',\n",
       " 'a3',\n",
       " 'a4',\n",
       " 'a6',\n",
       " 'a7',\n",
       " 'a9',\n",
       " 'b11',\n",
       " 'b9']"
      ]
     },
     "execution_count": 183,
     "metadata": {},
     "output_type": "execute_result"
    }
   ],
   "source": [
    "sorted(samp_dict.keys())"
   ]
  },
  {
   "cell_type": "markdown",
   "metadata": {},
   "source": [
    "# concatenate demult to individual files"
   ]
  },
  {
   "cell_type": "code",
   "execution_count": 165,
   "metadata": {
    "collapsed": false
   },
   "outputs": [
    {
     "data": {
      "text/plain": [
       "'/gpfs_fs/home/lindb/wbp/raw_reads'"
      ]
     },
     "execution_count": 165,
     "metadata": {},
     "output_type": "execute_result"
    }
   ],
   "source": [
    "file_dir = \"/gpfs_fs/home/lindb/wbp/raw_reads\"\n",
    "file_dir"
   ]
  },
  {
   "cell_type": "code",
   "execution_count": 184,
   "metadata": {
    "collapsed": false
   },
   "outputs": [],
   "source": [
    "good_dict = {}\n",
    "for s in samp_dict:\n",
    "    if s == 'NA':\n",
    "        pass\n",
    "    elif s == 'nan':\n",
    "        pass\n",
    "    elif s == 'b11':\n",
    "        pass\n",
    "    elif s == 'a3':\n",
    "        pass\n",
    "    elif s == 'a4':\n",
    "        pass\n",
    "    elif s == 'a6':\n",
    "        pass\n",
    "    elif s == 'a7':\n",
    "        pass\n",
    "    elif s == 'a9':\n",
    "        pass    \n",
    "    elif s == 'b11':\n",
    "        pass\n",
    "    elif s == 'b9':\n",
    "        pass    \n",
    "    else:\n",
    "        good_dict[s] = samp_dict[s]"
   ]
  },
  {
   "cell_type": "code",
   "execution_count": 185,
   "metadata": {
    "collapsed": false
   },
   "outputs": [
    {
     "data": {
      "text/plain": [
       "244"
      ]
     },
     "execution_count": 185,
     "metadata": {},
     "output_type": "execute_result"
    }
   ],
   "source": [
    "len(good_dict.keys())"
   ]
  },
  {
   "cell_type": "code",
   "execution_count": 186,
   "metadata": {
    "collapsed": false
   },
   "outputs": [],
   "source": [
    "for samp in good_dict.keys():\n",
    "    for f in good_dict[samp]:\n",
    "        if not os.path.exists(f):\n",
    "            print f"
   ]
  },
  {
   "cell_type": "code",
   "execution_count": 189,
   "metadata": {
    "collapsed": false
   },
   "outputs": [
    {
     "name": "stdout",
     "output_type": "stream",
     "text": [
      "importing os on engine(s)\n",
      "importing defaultdict from collections on engine(s)\n",
      "importing FastqGeneralIterator from Bio.SeqIO.QualityIO on engine(s)\n",
      "importing socket on engine(s)\n",
      "importing OrderedDict from collections on engine(s)\n"
     ]
    }
   ],
   "source": [
    "with dview.sync_imports():\n",
    "    import os\n",
    "    from collections import defaultdict\n",
    "    from Bio.SeqIO.QualityIO import FastqGeneralIterator\n",
    "    import socket\n",
    "    from collections import OrderedDict"
   ]
  },
  {
   "cell_type": "code",
   "execution_count": 190,
   "metadata": {
    "collapsed": true
   },
   "outputs": [],
   "source": [
    "hosts = dview.apply(socket.gethostname)"
   ]
  },
  {
   "cell_type": "code",
   "execution_count": 191,
   "metadata": {
    "collapsed": false,
    "scrolled": true
   },
   "outputs": [
    {
     "data": {
      "text/plain": [
       "{'godel10': [2, 3, 60, 79, 96],\n",
       " 'godel14': [29, 32, 49, 59, 83, 93],\n",
       " 'godel15': [39, 40, 45, 67, 86, 104, 111],\n",
       " 'godel16': [31, 35, 63, 82, 100, 123, 144, 145, 146],\n",
       " 'godel19': [6, 28, 47, 70, 89, 117, 118, 133],\n",
       " 'godel2': [12, 15, 51, 68, 88, 105, 114],\n",
       " 'godel20': [18, 23, 54, 78, 97, 112, 125],\n",
       " 'godel22': [10, 19, 42, 72, 90, 120, 121, 134, 135],\n",
       " 'godel24': [5, 34, 65, 81, 103, 127, 139, 143, 147],\n",
       " 'godel26': [4, 30, 48, 73, 91, 110, 137, 138, 142, 148, 149],\n",
       " 'godel27': [37, 38, 53],\n",
       " 'godel28': [26, 27, 56, 77, 101, 115, 130],\n",
       " 'godel29': [20, 21, 50, 69, 98, 113, 126],\n",
       " 'godel31': [8, 36, 44, 62, 84, 106, 128, 132, 136, 140, 141],\n",
       " 'godel32': [24, 25, 52, 71, 95, 109, 119],\n",
       " 'godel34': [7, 11, 55, 74],\n",
       " 'godel35': [13, 22, 58, 75, 94],\n",
       " 'godel36': [14, 17, 57, 76, 92, 108, 124],\n",
       " 'godel5': [0, 1, 43, 61, 85, 107, 122, 129, 131],\n",
       " 'godel6': [33, 46, 64, 80, 102, 116],\n",
       " 'godel7': [9, 16, 41, 66, 87, 99]}"
      ]
     },
     "execution_count": 191,
     "metadata": {},
     "output_type": "execute_result"
    }
   ],
   "source": [
    "host_dict = {}\n",
    "for i, host in enumerate(hosts.get()):\n",
    "    if not host in host_dict:\n",
    "        host_dict[host] = []\n",
    "    host_dict[host].append(i)\n",
    "host_dict"
   ]
  },
  {
   "cell_type": "code",
   "execution_count": 192,
   "metadata": {
    "collapsed": true
   },
   "outputs": [],
   "source": [
    "single_host = rc.load_balanced_view(targets=[v[0] for k,v in host_dict.items()])"
   ]
  },
  {
   "cell_type": "code",
   "execution_count": 193,
   "metadata": {
    "collapsed": false
   },
   "outputs": [
    {
     "data": {
      "text/plain": [
       "21"
      ]
     },
     "execution_count": 193,
     "metadata": {},
     "output_type": "execute_result"
    }
   ],
   "source": [
    "len(single_host)"
   ]
  },
  {
   "cell_type": "code",
   "execution_count": 383,
   "metadata": {
    "collapsed": false
   },
   "outputs": [],
   "source": [
    "#old don't use\n",
    "#@lview.remote()\n",
    "#def old_join_fastq(args):\n",
    "    joined, file_list = args\n",
    "    !touch {joined}\n",
    "    for f in file_list:\n",
    "        !cat {f} >> {joined}\n",
    "    return joined"
   ]
  },
  {
   "cell_type": "code",
   "execution_count": 384,
   "metadata": {
    "collapsed": true
   },
   "outputs": [],
   "source": [
    "@lview.remote()\n",
    "def join_fastq(args):\n",
    "    joined, file_list = args\n",
    "    for f in file_list:\n",
    "        for title,seq,qual in FastqGeneralIterator(open(f)):\n",
    "            with open(joined,'a') as o:\n",
    "                o.write(format_fastq_tuple(title,seq,qual))\n",
    "    return joined"
   ]
  },
  {
   "cell_type": "code",
   "execution_count": 385,
   "metadata": {
    "collapsed": false
   },
   "outputs": [],
   "source": [
    "#old_jobs = []\n",
    "#for sample_id, file_list in good_dict.items():\n",
    "#    if sample_id == '12':\n",
    "#        new_base_name = sample_id + \"TESTcompiled.fastq\"\n",
    "#        dir_name = \"/gpfs_fs/home/lindb/wbp/concatenated\"\n",
    "#        joined = os.path.join(dir_name,new_base_name)\n",
    "#        old_jobs.append(old_join_fastq((joined,file_list)))"
   ]
  },
  {
   "cell_type": "code",
   "execution_count": 206,
   "metadata": {
    "collapsed": false
   },
   "outputs": [
    {
     "data": {
      "text/plain": [
       "244"
      ]
     },
     "execution_count": 206,
     "metadata": {},
     "output_type": "execute_result"
    }
   ],
   "source": [
    "len(good_dict.keys())"
   ]
  },
  {
   "cell_type": "code",
   "execution_count": 207,
   "metadata": {
    "collapsed": true
   },
   "outputs": [
    {
     "data": {
      "text/plain": [
       "['216',\n",
       " '217',\n",
       " '214',\n",
       " '215',\n",
       " '212',\n",
       " '213',\n",
       " '210',\n",
       " '211',\n",
       " '218',\n",
       " '219',\n",
       " '133',\n",
       " '91',\n",
       " '131',\n",
       " '130',\n",
       " '137',\n",
       " '136',\n",
       " '135',\n",
       " '134',\n",
       " '139',\n",
       " '166',\n",
       " '24',\n",
       " '25',\n",
       " '26',\n",
       " '92',\n",
       " '20',\n",
       " '21',\n",
       " '22',\n",
       " '23',\n",
       " '160',\n",
       " '28',\n",
       " '29',\n",
       " '94',\n",
       " '221',\n",
       " '163',\n",
       " '227',\n",
       " '120',\n",
       " '121',\n",
       " '122',\n",
       " '123',\n",
       " '124',\n",
       " '125',\n",
       " '126',\n",
       " '127',\n",
       " '128',\n",
       " '129',\n",
       " '118',\n",
       " '59',\n",
       " '58',\n",
       " '132',\n",
       " '55',\n",
       " '54',\n",
       " '57',\n",
       " '56',\n",
       " '51',\n",
       " '50',\n",
       " '53',\n",
       " '52',\n",
       " '201',\n",
       " '199',\n",
       " '198',\n",
       " '147',\n",
       " '195',\n",
       " '194',\n",
       " '197',\n",
       " '196',\n",
       " '191',\n",
       " '190',\n",
       " '193',\n",
       " '192',\n",
       " '115',\n",
       " '114',\n",
       " '117',\n",
       " '116',\n",
       " '111',\n",
       " '110',\n",
       " '113',\n",
       " '253',\n",
       " '82',\n",
       " '83',\n",
       " '80',\n",
       " '81',\n",
       " '119',\n",
       " '87',\n",
       " '165',\n",
       " '85',\n",
       " '251',\n",
       " '207',\n",
       " '173',\n",
       " '141',\n",
       " '226',\n",
       " '172',\n",
       " '254',\n",
       " '255',\n",
       " '225',\n",
       " '245',\n",
       " '244',\n",
       " '247',\n",
       " '27',\n",
       " '241',\n",
       " '240',\n",
       " '243',\n",
       " '242',\n",
       " '102',\n",
       " '103',\n",
       " '100',\n",
       " '101',\n",
       " '249',\n",
       " '248',\n",
       " '104',\n",
       " '105',\n",
       " '39',\n",
       " '38',\n",
       " '33',\n",
       " '32',\n",
       " '31',\n",
       " '30',\n",
       " '37',\n",
       " '108',\n",
       " '35',\n",
       " '34',\n",
       " '109',\n",
       " '252',\n",
       " '151',\n",
       " '223',\n",
       " '60',\n",
       " '61',\n",
       " '62',\n",
       " '63',\n",
       " '64',\n",
       " '65',\n",
       " '179',\n",
       " '178',\n",
       " '68',\n",
       " '69',\n",
       " '250',\n",
       " '174',\n",
       " '256',\n",
       " '177',\n",
       " '171',\n",
       " '170',\n",
       " '222',\n",
       " '106',\n",
       " '175',\n",
       " '107',\n",
       " '182',\n",
       " '183',\n",
       " '180',\n",
       " '181',\n",
       " '186',\n",
       " '187',\n",
       " '184',\n",
       " '185',\n",
       " '188',\n",
       " '189',\n",
       " '202',\n",
       " '99',\n",
       " '98',\n",
       " '168',\n",
       " '169',\n",
       " '229',\n",
       " '228',\n",
       " '164',\n",
       " '90',\n",
       " '93',\n",
       " '167',\n",
       " '95',\n",
       " '161',\n",
       " '97',\n",
       " '220',\n",
       " '11',\n",
       " '10',\n",
       " '13',\n",
       " '12',\n",
       " '15',\n",
       " '14',\n",
       " '66',\n",
       " '16',\n",
       " '19',\n",
       " '18',\n",
       " '88',\n",
       " '89',\n",
       " '204',\n",
       " '17',\n",
       " '224',\n",
       " '150',\n",
       " '153',\n",
       " '152',\n",
       " '155',\n",
       " '154',\n",
       " '157',\n",
       " '156',\n",
       " '159',\n",
       " '158',\n",
       " '112',\n",
       " '36',\n",
       " '238',\n",
       " '239',\n",
       " '234',\n",
       " '235',\n",
       " '236',\n",
       " '237',\n",
       " '230',\n",
       " '231',\n",
       " '232',\n",
       " '233',\n",
       " '48',\n",
       " '49',\n",
       " '46',\n",
       " '86',\n",
       " '44',\n",
       " '45',\n",
       " '42',\n",
       " '43',\n",
       " '40',\n",
       " '41',\n",
       " '84',\n",
       " '9',\n",
       " '78',\n",
       " '146',\n",
       " '200',\n",
       " '203',\n",
       " '145',\n",
       " '142',\n",
       " '143',\n",
       " '140',\n",
       " '206',\n",
       " '209',\n",
       " '208',\n",
       " '148',\n",
       " '149',\n",
       " '76',\n",
       " '75',\n",
       " '74',\n",
       " '73',\n",
       " '72',\n",
       " '71',\n",
       " '70',\n",
       " '96',\n",
       " '79',\n",
       " '205',\n",
       " '144',\n",
       " '47',\n",
       " '67',\n",
       " '246']"
      ]
     },
     "execution_count": 207,
     "metadata": {},
     "output_type": "execute_result"
    }
   ],
   "source": [
    "good_dict.keys()"
   ]
  },
  {
   "cell_type": "code",
   "execution_count": 195,
   "metadata": {
    "collapsed": false
   },
   "outputs": [],
   "source": [
    "#send off files to be concatenated\n",
    "join_jobs = []\n",
    "for sample_id, file_list in good_dict.items():\n",
    "    new_base_name = sample_id + \"compiled.fastq\"\n",
    "    dir_name = \"/gpfs_fs/home/lindb/wbp/concatenated\"\n",
    "    joined = os.path.join(dir_name, new_base_name)\n",
    "    join_jobs.append(join_fastq((joined, file_list)))"
   ]
  },
  {
   "cell_type": "code",
   "execution_count": 196,
   "metadata": {
    "collapsed": false
   },
   "outputs": [
    {
     "data": {
      "text/plain": [
       "244"
      ]
     },
     "execution_count": 196,
     "metadata": {},
     "output_type": "execute_result"
    }
   ],
   "source": [
    "len(join_jobs)"
   ]
  },
  {
   "cell_type": "code",
   "execution_count": 382,
   "metadata": {
    "collapsed": false
   },
   "outputs": [
    {
     "data": {
      "text/plain": [
       "244"
      ]
     },
     "execution_count": 382,
     "metadata": {},
     "output_type": "execute_result"
    }
   ],
   "source": [
    "#check progress\n",
    "np.sum([j.ready() for j in join_jobs])"
   ]
  },
  {
   "cell_type": "code",
   "execution_count": 413,
   "metadata": {
    "collapsed": false
   },
   "outputs": [
    {
     "data": {
      "text/plain": [
       "246"
      ]
     },
     "execution_count": 413,
     "metadata": {},
     "output_type": "execute_result"
    }
   ],
   "source": [
    "#get a list of concatenated files\n",
    "compdir = '/home/lindb/wbp/concatenated/'\n",
    "files = os.listdir(compdir)\n",
    "files = [os.path.join(compdir,f) for f in files if 'compiled' in f]\n",
    "len(files)"
   ]
  },
  {
   "cell_type": "code",
   "execution_count": 414,
   "metadata": {
    "collapsed": false
   },
   "outputs": [
    {
     "ename": "KeyboardInterrupt",
     "evalue": "",
     "output_type": "error",
     "traceback": [
      "\u001b[1;31m---------------------------------------------------------------------------\u001b[0m",
      "\u001b[1;31mKeyboardInterrupt\u001b[0m                         Traceback (most recent call last)",
      "\u001b[1;32m<ipython-input-414-ec10c609784c>\u001b[0m in \u001b[0;36m<module>\u001b[1;34m()\u001b[0m\n\u001b[0;32m      2\u001b[0m \u001b[1;31m#if everything is good, no errors should print\u001b[0m\u001b[1;33m\u001b[0m\u001b[1;33m\u001b[0m\u001b[0m\n\u001b[0;32m      3\u001b[0m \u001b[1;32mfor\u001b[0m \u001b[0mf\u001b[0m \u001b[1;32min\u001b[0m \u001b[0mfiles\u001b[0m\u001b[1;33m:\u001b[0m\u001b[1;33m\u001b[0m\u001b[0m\n\u001b[1;32m----> 4\u001b[1;33m     \u001b[1;32mfor\u001b[0m \u001b[0mt\u001b[0m\u001b[1;33m,\u001b[0m\u001b[0ms\u001b[0m\u001b[1;33m,\u001b[0m\u001b[0mq\u001b[0m \u001b[1;32min\u001b[0m \u001b[0mFastqGeneralIterator\u001b[0m\u001b[1;33m(\u001b[0m\u001b[0mopen\u001b[0m\u001b[1;33m(\u001b[0m\u001b[0mf\u001b[0m\u001b[1;33m)\u001b[0m\u001b[1;33m)\u001b[0m\u001b[1;33m:\u001b[0m\u001b[1;33m\u001b[0m\u001b[0m\n\u001b[0m\u001b[0;32m      5\u001b[0m         \u001b[1;32mpass\u001b[0m\u001b[1;33m\u001b[0m\u001b[0m\n",
      "\u001b[1;32m/gpfs_fs/home/lindb/anaconda/envs/conda/lib/python2.7/site-packages/Bio/SeqIO/QualityIO.pyc\u001b[0m in \u001b[0;36mFastqGeneralIterator\u001b[1;34m(handle)\u001b[0m\n\u001b[0;32m    954\u001b[0m \u001b[1;33m\u001b[0m\u001b[0m\n\u001b[0;32m    955\u001b[0m         \u001b[1;31m# Return the record and then continue...\u001b[0m\u001b[1;33m\u001b[0m\u001b[1;33m\u001b[0m\u001b[0m\n\u001b[1;32m--> 956\u001b[1;33m         \u001b[1;32myield\u001b[0m \u001b[1;33m(\u001b[0m\u001b[0mtitle_line\u001b[0m\u001b[1;33m,\u001b[0m \u001b[0mseq_string\u001b[0m\u001b[1;33m,\u001b[0m \u001b[0mquality_string\u001b[0m\u001b[1;33m)\u001b[0m\u001b[1;33m\u001b[0m\u001b[0m\n\u001b[0m\u001b[0;32m    957\u001b[0m     \u001b[1;32mraise\u001b[0m \u001b[0mStopIteration\u001b[0m\u001b[1;33m\u001b[0m\u001b[0m\n\u001b[0;32m    958\u001b[0m \u001b[1;33m\u001b[0m\u001b[0m\n",
      "\u001b[1;31mKeyboardInterrupt\u001b[0m: "
     ]
    }
   ],
   "source": [
    "#check to make sure nothing is wonky\n",
    "#if everything is good, no errors should print\n",
    "for f in files:\n",
    "    for t,s,q in FastqGeneralIterator(open(f)):\n",
    "        pass"
   ]
  },
  {
   "cell_type": "code",
   "execution_count": 395,
   "metadata": {
    "collapsed": true
   },
   "outputs": [],
   "source": [
    "@lview.remote()\n",
    "def do_it(f):\n",
    "    from Bio.SeqIO.QualityIO import FastqGeneralIterator\n",
    "    import os,sys\n",
    "    for t,s,q in FastqGeneralIterator(open(f)):\n",
    "        pass\n",
    "    return f"
   ]
  },
  {
   "cell_type": "code",
   "execution_count": 396,
   "metadata": {
    "collapsed": true
   },
   "outputs": [],
   "source": [
    "lst = []\n",
    "for f in files:\n",
    "    lst.append(do_it(f))"
   ]
  },
  {
   "cell_type": "code",
   "execution_count": 397,
   "metadata": {
    "collapsed": false
   },
   "outputs": [
    {
     "data": {
      "text/plain": [
       "244"
      ]
     },
     "execution_count": 397,
     "metadata": {},
     "output_type": "execute_result"
    }
   ],
   "source": [
    "#check progress\n",
    "np.sum([j.ready() for j in lst])"
   ]
  },
  {
   "cell_type": "code",
   "execution_count": 398,
   "metadata": {
    "collapsed": true
   },
   "outputs": [],
   "source": [
    "for j in lst:\n",
    "    if j.ready():\n",
    "        if not j.r.startswith('/home/'):\n",
    "            print j.r"
   ]
  },
  {
   "cell_type": "code",
   "execution_count": 403,
   "metadata": {
    "collapsed": false,
    "scrolled": true
   },
   "outputs": [],
   "source": [
    "#having sample IDs of the same length is handy!\n",
    "for f in files:\n",
    "    bname = os.path.basename(f)\n",
    "    if len(bname) == 17:\n",
    "        new_name = bname\n",
    "    if len(bname) == 16:\n",
    "        new_name = '0' + bname\n",
    "    if len(bname) == 15:\n",
    "        new_name = '00' + bname\n",
    "    if not len(new_name) == 17:\n",
    "        print new_name\n",
    "    dst = os.path.join(compdir,new_name)\n",
    "    shutil.move(f,dst)"
   ]
  },
  {
   "cell_type": "code",
   "execution_count": 410,
   "metadata": {
    "collapsed": false
   },
   "outputs": [],
   "source": [
    "#file with greatest reads = 012compiled.fastq\n",
    "#split into 50bp or 150bp for VelvetOptimiser.pl\n",
    "f = '/home/lindb/wbp/concatenated/012compiled.fastq'\n",
    "w50 = open(\"/%s_50.fastq\" % f,  \"w\")\n",
    "w150 = open(\"/%s_150.fastq\" % f, \"w\")\n",
    "for t, s, q in FastqGeneralIterator(open(f)):\n",
    "    w = w50\n",
    "    if len(s) > 50:\n",
    "        w = w150\n",
    "    w.write(format_fastq_tuple(t, s, q))\n",
    "w50.close()\n",
    "w150.close()"
   ]
  },
  {
   "cell_type": "code",
   "execution_count": 412,
   "metadata": {
    "collapsed": true
   },
   "outputs": [],
   "source": [
    "#check one last time\n",
    "fz = ['/home/lindb/wbp/concatenated/012compiled.fastq_150.fastq','/home/lindb/wbp/concatenated/012compiled.fastq_50.fastq']\n",
    "for f in fz:\n",
    "    for t,s,q in FastqGeneralIterator(open(f)):\n",
    "        pass"
   ]
  },
  {
   "cell_type": "code",
   "execution_count": null,
   "metadata": {
    "collapsed": true
   },
   "outputs": [],
   "source": []
  },
  {
   "cell_type": "code",
   "execution_count": null,
   "metadata": {
    "collapsed": true
   },
   "outputs": [],
   "source": []
  },
  {
   "cell_type": "code",
   "execution_count": null,
   "metadata": {
    "collapsed": true
   },
   "outputs": [],
   "source": []
  },
  {
   "cell_type": "code",
   "execution_count": null,
   "metadata": {
    "collapsed": true
   },
   "outputs": [],
   "source": []
  },
  {
   "cell_type": "code",
   "execution_count": null,
   "metadata": {
    "collapsed": true
   },
   "outputs": [],
   "source": []
  }
 ],
 "metadata": {
  "kernelspec": {
   "display_name": "Python 2",
   "language": "python",
   "name": "python2"
  },
  "language_info": {
   "codemirror_mode": {
    "name": "ipython",
    "version": 2
   },
   "file_extension": ".py",
   "mimetype": "text/x-python",
   "name": "python",
   "nbconvert_exporter": "python",
   "pygments_lexer": "ipython2",
   "version": "2.7.11"
  }
 },
 "nbformat": 4,
 "nbformat_minor": 0
}
