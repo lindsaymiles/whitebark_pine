{
 "cells": [
  {
   "cell_type": "code",
   "execution_count": 0,
   "metadata": {
    "collapsed": false
   },
   "outputs": [],
   "source": [
    "import os,sys\n",
    "from ipyparallel import Client\n",
    "from collections import defaultdict\n",
    "import tempfile\n",
    "from Bio.SeqIO.QualityIO import FastqGeneralIterator\n",
    "import socket\n",
    "import stopwatch\n",
    "from multiprocessing import Pool, Manager\n",
    "import shutil\n",
    "import tempfile\n",
    "from collections import OrderedDict\n",
    "import pandas as pd\n",
    "import numpy as np\n"
   ]
  },
  {
   "cell_type": "code",
   "execution_count": 0,
   "metadata": {
    "collapsed": true
   },
   "outputs": [],
   "source": [
    "import shutil"
   ]
  },
  {
   "cell_type": "code",
   "execution_count": 0,
   "metadata": {
    "collapsed": false,
    "scrolled": true
   },
   "outputs": [],
   "source": [
    "file_dir = \"/gpfs_fs/home/lindb/wbp/raw_reads\"\n",
    "proc_files = []\n",
    "for root, dirs, files in os.walk(file_dir):\n",
    "    for f in files:\n",
    "        if f.startswith('WBP'):\n",
    "            proc_files.append(os.path.join(root,f))\n",
    "len(proc_files)"
   ]
  },
  {
   "cell_type": "code",
   "execution_count": 0,
   "metadata": {
    "collapsed": false
   },
   "outputs": [],
   "source": [
    "proc_files[199]"
   ]
  },
  {
   "cell_type": "code",
   "execution_count": 0,
   "metadata": {
    "collapsed": false
   },
   "outputs": [],
   "source": [
    "sorted(proc_files)[0]"
   ]
  },
  {
   "cell_type": "code",
   "execution_count": 0,
   "metadata": {
    "collapsed": true
   },
   "outputs": [],
   "source": [
    "proc_files"
   ]
  },
  {
   "cell_type": "code",
   "execution_count": 0,
   "metadata": {
    "collapsed": false
   },
   "outputs": [],
   "source": [
    "rc = Client(profile=\"xmn\")\n",
    "dview = rc[:]\n",
    "lview = rc.load_balanced_view()\n",
    "len(lview)"
   ]
  },
  {
   "cell_type": "code",
   "execution_count": 0,
   "metadata": {
    "collapsed": false
   },
   "outputs": [],
   "source": [
    "def format_fastq_tuple(title, seq, qual):\n",
    "    assert len(seq) == len(qual)\n",
    "    return \"@%s\\n%s\\n+\\n%s\\n\" % (title, seq, qual)\n",
    "\n",
    "def get_writers(barcodes, f):\n",
    "    import tempfile\n",
    "    from collections import defaultdict\n",
    "    w = defaultdict()\n",
    "    file_list = []\n",
    "    for b, name in list(barcodes.items()):\n",
    "        file_name = \"%s_%s_%s.fastq\" % (f, name, b)\n",
    "        file_list.append(file_name)\n",
    "        w[b] = open(file_name, \"w\")\n",
    "    return w, file_list\n",
    "\n",
    "def get_barcodes(f):\n",
    "    from collections import defaultdict\n",
    "    import os\n",
    "    bcs = defaultdict()\n",
    "    bc_lens = set()\n",
    "    b = os.path.join(os.path.dirname(f), \"barcodes.txt\")\n",
    "    h = open(b)\n",
    "    h.readline()\n",
    "    for line in h:\n",
    "        line = line.strip()\n",
    "        data = line.split(\"\\t\")\n",
    "        if len(data) > 1: #skip blank lines\n",
    "            if \",\" in data[0]:\n",
    "                data[0] = data[0].replace(\" \", \"\").replace(\",\", \"-\")\n",
    "            bc = data[4].upper().replace(\"CTCTTTCCCTACACGACGCTCTTCCGATCT\", \"\")[:-1]\n",
    "            bc_lens.add(len(bc))\n",
    "            bcs[bc] = data[1] + \"_\" + data[0]        \n",
    "    return bcs, bc_lens    \n",
    "\n",
    "def check_barcodes(barcodes):\n",
    "    for i in list(barcodes.keys()):\n",
    "        for j in list(barcodes.keys()):\n",
    "            if i != j:\n",
    "                assert not j.startswith(i)\n",
    "                \n",
    "def copy_file(src, dst):\n",
    "    import shutil\n",
    "    shutil.copy(src, dst)\n",
    "                \n",
    "def demult(f):\n",
    "    print(f)\n",
    "    import socket, stopwatch, os\n",
    "    from Bio.SeqIO.QualityIO import FastqGeneralIterator\n",
    "    from multiprocessing import Pool\n",
    "    from collections import defaultdict\n",
    "    hostname = socket.gethostname()\n",
    "    timer = stopwatch.Timer()\n",
    "    out_dir = os.path.dirname(f)\n",
    "    barcodes, barcode_lens = get_barcodes(f)\n",
    "    check_barcodes(barcodes)\n",
    "    writers, writer_list = get_writers(barcodes, f)\n",
    "    count = 0\n",
    "    found = defaultdict(int)\n",
    "    bad_barcode = 0\n",
    "    n_start = 0\n",
    "    for title, seq, qual in FastqGeneralIterator(open(f)):\n",
    "\n",
    "        if seq.startswith(\"N\"):\n",
    "            seq = seq[1:]\n",
    "            qual = qual[1:]\n",
    "            n_start += 1\n",
    "        \n",
    "        has_barcode = False    \n",
    "        \n",
    "        for l in barcode_lens: \n",
    "            bc = seq[0:l]\n",
    "            if bc in barcodes:\n",
    "                found[bc] += 1\n",
    "                has_barcode = True\n",
    "                w = writers[bc]\n",
    "                w.write(format_fastq_tuple(title, seq[l:], qual[l:]))\n",
    "                break\n",
    "            \n",
    "        count += 1\n",
    "            \n",
    "        if count % 100000 == 0:\n",
    "            print(hostname, f, count)\n",
    "        \n",
    "        if not has_barcode:\n",
    "            bad_barcode += 1\n",
    "    \n",
    "    for k, v in writers.items():\n",
    "        v.close()\n",
    "            \n",
    "    return f, count, bad_barcode, found, writer_list\n",
    "\n",
    "dview['format_fastq_tuple'] = format_fastq_tuple\n",
    "dview['demult'] = demult\n",
    "dview['check_barcodes'] = check_barcodes\n",
    "dview['get_writers'] = get_writers\n",
    "dview['get_barcodes'] = get_barcodes\n",
    "dview['copy_file'] = copy_file\n"
   ]
  },
  {
   "cell_type": "code",
   "execution_count": 0,
   "metadata": {
    "collapsed": true
   },
   "outputs": [],
   "source": [
    "demult_jobs = []\n",
    "for f in proc_files:\n",
    "    demult_jobs.append(lview.apply_async(demult, f))"
   ]
  },
  {
   "cell_type": "code",
   "execution_count": 0,
   "metadata": {
    "collapsed": false
   },
   "outputs": [],
   "source": [
    "np.sum([j.ready() for j in demult_jobs])"
   ]
  },
  {
   "cell_type": "code",
   "execution_count": 0,
   "metadata": {
    "collapsed": false
   },
   "outputs": [],
   "source": [
    "len(demult_jobs)"
   ]
  },
  {
   "cell_type": "code",
   "execution_count": 0,
   "metadata": {
    "collapsed": false
   },
   "outputs": [],
   "source": [
    "proc_files[0]"
   ]
  },
  {
   "cell_type": "code",
   "execution_count": 0,
   "metadata": {
    "collapsed": false
   },
   "outputs": [],
   "source": [
    "import pickle"
   ]
  },
  {
   "cell_type": "code",
   "execution_count": 0,
   "metadata": {
    "collapsed": true
   },
   "outputs": [],
   "source": [
    "demult_results = [j.r for j in demult_jobs if j.ready()]"
   ]
  },
  {
   "cell_type": "code",
   "execution_count": 0,
   "metadata": {
    "collapsed": true
   },
   "outputs": [],
   "source": [
    "pickle.dump(demult_results, open(\"/home/lindb/wbp/raw_reads/demult_results.pkl\", \"w\"))"
   ]
  },
  {
   "cell_type": "code",
   "execution_count": 0,
   "metadata": {
    "collapsed": false
   },
   "outputs": [],
   "source": [
    "demult_results = pickle.load(open(\"/home/lindb/wbp/raw_reads/demult_results.pkl\", \"r\"))"
   ]
  },
  {
   "cell_type": "code",
   "execution_count": 0,
   "metadata": {
    "collapsed": true
   },
   "outputs": [],
   "source": [
    "samp_dict = {}\n",
    "for res in demult_results:\n",
    "    files = res[-1]\n",
    "    for f in files:\n",
    "        d = f.split(\"_\")\n",
    "        sample = d[-2]\n",
    "        if not sample in samp_dict:\n",
    "            samp_dict[sample] = []\n",
    "        samp_dict[sample].append(f)"
   ]
  },
  {
   "cell_type": "code",
   "execution_count": 0,
   "metadata": {
    "collapsed": false
   },
   "outputs": [],
   "source": [
    "len(samp_dict.keys())"
   ]
  },
  {
   "cell_type": "code",
   "execution_count": 0,
   "metadata": {
    "collapsed": false
   },
   "outputs": [],
   "source": [
    "sorted(samp_dict.keys())"
   ]
  },
  {
   "cell_type": "markdown",
   "metadata": {},
   "source": [
    "# concatenate demult to individual files"
   ]
  },
  {
   "cell_type": "code",
   "execution_count": 0,
   "metadata": {
    "collapsed": false
   },
   "outputs": [],
   "source": [
    "file_dir = \"/gpfs_fs/home/lindb/wbp/raw_reads\"\n",
    "file_dir"
   ]
  },
  {
   "cell_type": "code",
   "execution_count": 0,
   "metadata": {
    "collapsed": false
   },
   "outputs": [],
   "source": [
    "good_dict = {}\n",
    "for s in samp_dict:\n",
    "    if s == 'NA':\n",
    "        pass\n",
    "    elif s == 'nan':\n",
    "        pass\n",
    "    elif s == 'b11':\n",
    "        pass\n",
    "    elif s == 'a3':\n",
    "        pass\n",
    "    elif s == 'a4':\n",
    "        pass\n",
    "    elif s == 'a6':\n",
    "        pass\n",
    "    elif s == 'a7':\n",
    "        pass\n",
    "    elif s == 'a9':\n",
    "        pass    \n",
    "    elif s == 'b11':\n",
    "        pass\n",
    "    elif s == 'b9':\n",
    "        pass    \n",
    "    else:\n",
    "        good_dict[s] = samp_dict[s]"
   ]
  },
  {
   "cell_type": "code",
   "execution_count": 0,
   "metadata": {
    "collapsed": false
   },
   "outputs": [],
   "source": [
    "len(good_dict.keys())"
   ]
  },
  {
   "cell_type": "code",
   "execution_count": 0,
   "metadata": {
    "collapsed": false
   },
   "outputs": [],
   "source": [
    "for samp in good_dict.keys():\n",
    "    for f in good_dict[samp]:\n",
    "        if not os.path.exists(f):\n",
    "            print f"
   ]
  },
  {
   "cell_type": "code",
   "execution_count": 0,
   "metadata": {
    "collapsed": false
   },
   "outputs": [],
   "source": [
    "with dview.sync_imports():\n",
    "    import os\n",
    "    from collections import defaultdict\n",
    "    from Bio.SeqIO.QualityIO import FastqGeneralIterator\n",
    "    import socket\n",
    "    from collections import OrderedDict"
   ]
  },
  {
   "cell_type": "code",
   "execution_count": 0,
   "metadata": {
    "collapsed": true
   },
   "outputs": [],
   "source": [
    "hosts = dview.apply(socket.gethostname)"
   ]
  },
  {
   "cell_type": "code",
   "execution_count": 0,
   "metadata": {
    "collapsed": false,
    "scrolled": true
   },
   "outputs": [],
   "source": [
    "host_dict = {}\n",
    "for i, host in enumerate(hosts.get()):\n",
    "    if not host in host_dict:\n",
    "        host_dict[host] = []\n",
    "    host_dict[host].append(i)\n",
    "host_dict"
   ]
  },
  {
   "cell_type": "code",
   "execution_count": 0,
   "metadata": {
    "collapsed": true
   },
   "outputs": [],
   "source": [
    "single_host = rc.load_balanced_view(targets=[v[0] for k,v in host_dict.items()])"
   ]
  },
  {
   "cell_type": "code",
   "execution_count": 0,
   "metadata": {
    "collapsed": false
   },
   "outputs": [],
   "source": [
    "len(single_host)"
   ]
  },
  {
   "cell_type": "code",
   "execution_count": 0,
   "metadata": {
    "collapsed": false
   },
   "outputs": [],
   "source": [
    "#old don't use\n",
    "#@lview.remote()\n",
    "#def old_join_fastq(args):\n",
    "    joined, file_list = args\n",
    "    !touch {joined}\n",
    "    for f in file_list:\n",
    "        !cat {f} >> {joined}\n",
    "    return joined"
   ]
  },
  {
   "cell_type": "code",
   "execution_count": 0,
   "metadata": {
    "collapsed": true
   },
   "outputs": [],
   "source": [
    "@lview.remote()\n",
    "def join_fastq(args):\n",
    "    joined, file_list = args\n",
    "    for f in file_list:\n",
    "        for title,seq,qual in FastqGeneralIterator(open(f)):\n",
    "            with open(joined,'a') as o:\n",
    "                o.write(format_fastq_tuple(title,seq,qual))\n",
    "    return joined"
   ]
  },
  {
   "cell_type": "code",
   "execution_count": 0,
   "metadata": {
    "collapsed": false
   },
   "outputs": [],
   "source": [
    "#old_jobs = []\n",
    "#for sample_id, file_list in good_dict.items():\n",
    "#    if sample_id == '12':\n",
    "#        new_base_name = sample_id + \"TESTcompiled.fastq\"\n",
    "#        dir_name = \"/gpfs_fs/home/lindb/wbp/concatenated\"\n",
    "#        joined = os.path.join(dir_name,new_base_name)\n",
    "#        old_jobs.append(old_join_fastq((joined,file_list)))"
   ]
  },
  {
   "cell_type": "code",
   "execution_count": 0,
   "metadata": {
    "collapsed": false
   },
   "outputs": [],
   "source": [
    "len(good_dict.keys())"
   ]
  },
  {
   "cell_type": "code",
   "execution_count": 0,
   "metadata": {
    "collapsed": true
   },
   "outputs": [],
   "source": [
    "good_dict.keys()"
   ]
  },
  {
   "cell_type": "code",
   "execution_count": 0,
   "metadata": {
    "collapsed": false
   },
   "outputs": [],
   "source": [
    "#send off files to be concatenated\n",
    "join_jobs = []\n",
    "for sample_id, file_list in good_dict.items():\n",
    "    new_base_name = sample_id + \"compiled.fastq\"\n",
    "    dir_name = \"/gpfs_fs/home/lindb/wbp/concatenated\"\n",
    "    joined = os.path.join(dir_name, new_base_name)\n",
    "    join_jobs.append(join_fastq((joined, file_list)))"
   ]
  },
  {
   "cell_type": "code",
   "execution_count": 0,
   "metadata": {
    "collapsed": false
   },
   "outputs": [],
   "source": [
    "len(join_jobs)"
   ]
  },
  {
   "cell_type": "code",
   "execution_count": 0,
   "metadata": {
    "collapsed": false
   },
   "outputs": [],
   "source": [
    "#check progress\n",
    "np.sum([j.ready() for j in join_jobs])"
   ]
  },
  {
   "cell_type": "code",
   "execution_count": 0,
   "metadata": {
    "collapsed": false
   },
   "outputs": [],
   "source": [
    "#get a list of concatenated files\n",
    "compdir = '/home/lindb/wbp/concatenated/'\n",
    "files = os.listdir(compdir)\n",
    "files = [os.path.join(compdir,f) for f in files if 'compiled' in f]\n",
    "len(files)"
   ]
  },
  {
   "cell_type": "code",
   "execution_count": 0,
   "metadata": {
    "collapsed": false
   },
   "outputs": [],
   "source": [
    "#check to make sure nothing is wonky\n",
    "#if everything is good, no errors should print\n",
    "for f in files:\n",
    "    for t,s,q in FastqGeneralIterator(open(f)):\n",
    "        pass"
   ]
  },
  {
   "cell_type": "code",
   "execution_count": 0,
   "metadata": {
    "collapsed": true
   },
   "outputs": [],
   "source": [
    "@lview.remote()\n",
    "def do_it(f):\n",
    "    from Bio.SeqIO.QualityIO import FastqGeneralIterator\n",
    "    import os,sys\n",
    "    for t,s,q in FastqGeneralIterator(open(f)):\n",
    "        pass\n",
    "    return f"
   ]
  },
  {
   "cell_type": "code",
   "execution_count": 0,
   "metadata": {
    "collapsed": true
   },
   "outputs": [],
   "source": [
    "lst = []\n",
    "for f in files:\n",
    "    lst.append(do_it(f))"
   ]
  },
  {
   "cell_type": "code",
   "execution_count": 0,
   "metadata": {
    "collapsed": false
   },
   "outputs": [],
   "source": [
    "#check progress\n",
    "np.sum([j.ready() for j in lst])"
   ]
  },
  {
   "cell_type": "code",
   "execution_count": 0,
   "metadata": {
    "collapsed": true
   },
   "outputs": [],
   "source": [
    "for j in lst:\n",
    "    if j.ready():\n",
    "        if not j.r.startswith('/home/'):\n",
    "            print j.r"
   ]
  },
  {
   "cell_type": "code",
   "execution_count": 0,
   "metadata": {
    "collapsed": false,
    "scrolled": true
   },
   "outputs": [],
   "source": [
    "#having sample IDs of the same length is handy!\n",
    "for f in files:\n",
    "    bname = os.path.basename(f)\n",
    "    if len(bname) == 17:\n",
    "        new_name = bname\n",
    "    if len(bname) == 16:\n",
    "        new_name = '0' + bname\n",
    "    if len(bname) == 15:\n",
    "        new_name = '00' + bname\n",
    "    if not len(new_name) == 17:\n",
    "        print new_name\n",
    "    dst = os.path.join(compdir,new_name)\n",
    "    shutil.move(f,dst)"
   ]
  },
  {
   "cell_type": "code",
   "execution_count": 0,
   "metadata": {
    "collapsed": false
   },
   "outputs": [],
   "source": [
    "#file with greatest reads = 012compiled.fastq\n",
    "#split into 50bp or 150bp for VelvetOptimiser.pl\n",
    "f = '/home/lindb/wbp/concatenated/012compiled.fastq'\n",
    "w50 = open(\"/%s_50.fastq\" % f,  \"w\")\n",
    "w150 = open(\"/%s_150.fastq\" % f, \"w\")\n",
    "for t, s, q in FastqGeneralIterator(open(f)):\n",
    "    w = w50\n",
    "    if len(s) > 50:\n",
    "        w = w150\n",
    "    w.write(format_fastq_tuple(t, s, q))\n",
    "w50.close()\n",
    "w150.close()"
   ]
  },
  {
   "cell_type": "code",
   "execution_count": 0,
   "metadata": {
    "collapsed": true
   },
   "outputs": [],
   "source": [
    "#check one last time\n",
    "fz = ['/home/lindb/wbp/concatenated/012compiled.fastq_150.fastq','/home/lindb/wbp/concatenated/012compiled.fastq_50.fastq']\n",
    "for f in fz:\n",
    "    for t,s,q in FastqGeneralIterator(open(f)):\n",
    "        pass"
   ]
  },
  {
   "cell_type": "code",
   "execution_count": 0,
   "metadata": {
    "collapsed": true
   },
   "outputs": [],
   "source": []
  },
  {
   "cell_type": "code",
   "execution_count": 0,
   "metadata": {
    "collapsed": true
   },
   "outputs": [],
   "source": []
  },
  {
   "cell_type": "code",
   "execution_count": 0,
   "metadata": {
    "collapsed": true
   },
   "outputs": [],
   "source": []
  },
  {
   "cell_type": "code",
   "execution_count": 0,
   "metadata": {
    "collapsed": true
   },
   "outputs": [],
   "source": []
  },
  {
   "cell_type": "code",
   "execution_count": 0,
   "metadata": {
    "collapsed": true
   },
   "outputs": [],
   "source": []
  }
 ],
 "metadata": {
  "kernelspec": {
   "display_name": "Python 2",
   "language": "python",
   "name": "python2"
  },
  "language_info": {
   "codemirror_mode": {
    "name": "ipython",
    "version": 2
   },
   "file_extension": ".py",
   "mimetype": "text/x-python",
   "name": "python",
   "nbconvert_exporter": "python",
   "pygments_lexer": "ipython2",
   "version": "2.7.11"
  }
 },
 "nbformat": 4,
 "nbformat_minor": 0
}
