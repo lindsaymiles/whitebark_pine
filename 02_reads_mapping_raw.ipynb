{
 "cells": [
  {
   "cell_type": "code",
   "execution_count": 0,
   "metadata": {
    "collapsed": true
   },
   "outputs": [],
   "source": [
    "import os, sys\n",
    "from ipyparallel import Client\n",
    "import matplotlib.pyplot as plt\n",
    "%matplotlib inline\n",
    "from subprocess import Popen, PIPE\n",
    "from Bio import SeqIO\n",
    "import pandas as pd"
   ]
  },
  {
   "cell_type": "code",
   "execution_count": 0,
   "metadata": {
    "collapsed": false
   },
   "outputs": [],
   "source": [
    "#get fastq files\n",
    "\n",
    "qdir = '/home/lindb/wbp/concatenated/'\n",
    "files = os.listdir(qdir)\n",
    "files = [os.path.join(qdir,f) for f in files if f.endswith('d.fastq')]\n",
    "len(files)"
   ]
  },
  {
   "cell_type": "code",
   "execution_count": 0,
   "metadata": {
    "collapsed": false,
    "scrolled": true
   },
   "outputs": [],
   "source": [
    "rc = Client(profile=\"xmn\")\n",
    "dview = rc[:]\n",
    "lview = rc.load_balanced_view()\n",
    "print(len(rc))"
   ]
  },
  {
   "cell_type": "code",
   "execution_count": 0,
   "metadata": {
    "collapsed": true
   },
   "outputs": [],
   "source": [
    "assembly = '/home/lindb/wbp/concatenated/velvet/auto_data_45/contigs.fa'"
   ]
  },
  {
   "cell_type": "code",
   "execution_count": 0,
   "metadata": {
    "collapsed": false
   },
   "outputs": [],
   "source": [
    "cd ~/wbp/concatenated/raw_mapping/"
   ]
  },
  {
   "cell_type": "code",
   "execution_count": 0,
   "metadata": {
    "collapsed": true
   },
   "outputs": [],
   "source": [
    "!/home/lindb/g/src/bowtie2-2.2.6/bowtie2-build -f $assembly $assembly"
   ]
  },
  {
   "cell_type": "code",
   "execution_count": 0,
   "metadata": {
    "collapsed": true
   },
   "outputs": [],
   "source": [
    "# --very-fast-local\n",
    "# Same as: -D 5 -R 1 -N 0 -L 25 -i S,1,2.00\n",
    "\n",
    "# --fast-local\n",
    "# Same as: -D 10 -R 2 -N 0 -L 22 -i S,1,1.75\n",
    "\n",
    "# --sensitive-local\n",
    "# Same as: -D 15 -R 2 -N 0 -L 20 -i S,1,0.75 (default in --local mode)\n",
    "\n",
    "# --very-sensitive-local\n",
    "# Same as: -D 20 -R 3 -N 0 -L 20 -i S,1,0.50\n",
    "\n",
    "@lview.remote()\n",
    "def run_bowtie2(args):\n",
    "    import os, stopwatch, multiprocessing\n",
    "    timer = stopwatch.Timer()\n",
    "    cpus = multiprocessing.cpu_count()\n",
    "    assembly, reads = args\n",
    "    parent = os.path.dirname(reads)\n",
    "    outdir = os.path.join(parent, \"raw_mapping_samfiles\")\n",
    "    if not os.path.exists(outdir):\n",
    "        os.mkdir(outdir)\n",
    "    sam = os.path.join(outdir, \"%s.sam\" % (os.path.basename(reads)))\n",
    "    cmd = \"/home/lindb/g/src/bowtie2-2.2.6/bowtie2 --local -D 20 -R 3 -N 1 -L 20 -i S,1,0.50 -p %d -x %s -U %s -S %s\" % (cpus,\n",
    "                                                               assembly,\n",
    "                                                               reads,\n",
    "                                                               sam)\n",
    "    res = None\n",
    "    res = !$cmd\n",
    "#     if not os.path.exists(sam):\n",
    "#         res = !$cmd\n",
    "    timer.stop()\n",
    "    return assembly, sam, cmd, timer.elapsed, res"
   ]
  },
  {
   "cell_type": "code",
   "execution_count": 0,
   "metadata": {
    "collapsed": false
   },
   "outputs": [],
   "source": [
    "#make sure they're the right files\n",
    "for f in files:\n",
    "    print f\n",
    "    break"
   ]
  },
  {
   "cell_type": "code",
   "execution_count": 0,
   "metadata": {
    "collapsed": false
   },
   "outputs": [],
   "source": [
    "len(files)"
   ]
  },
  {
   "cell_type": "code",
   "execution_count": 0,
   "metadata": {
    "collapsed": true
   },
   "outputs": [],
   "source": [
    "#map with bowtie2\n",
    "bowtie_jobs = []\n",
    "for f in files:\n",
    "    bowtie_jobs.append(run_bowtie2((assembly, f)))"
   ]
  },
  {
   "cell_type": "code",
   "execution_count": 0,
   "metadata": {
    "collapsed": false
   },
   "outputs": [],
   "source": [
    "#check on progress\n",
    "count = 0\n",
    "for j in bowtie_jobs:\n",
    "    if j.ready():\n",
    "        count += 1\n",
    "print count,'/',len(bowtie_jobs)"
   ]
  },
  {
   "cell_type": "code",
   "execution_count": 0,
   "metadata": {
    "collapsed": true
   },
   "outputs": [],
   "source": [
    "bowtie_jobs"
   ]
  },
  {
   "cell_type": "code",
   "execution_count": 0,
   "metadata": {
    "collapsed": true
   },
   "outputs": [],
   "source": [
    "from io import StringIO"
   ]
  },
  {
   "cell_type": "code",
   "execution_count": 0,
   "metadata": {
    "collapsed": false
   },
   "outputs": [],
   "source": [
    "#make sure there are no errors!\n",
    "count = 0\n",
    "ecount = 0\n",
    "for j in bowtie_jobs:\n",
    "    if j.ready():\n",
    "        try:\n",
    "            res = [x.strip() for x in j.r[-1]]\n",
    "        except Exception as E:\n",
    "            print \"%s engine died\" % os.path.basename(files[count]).split(\".\")[0]\n",
    "            ecount += 1\n",
    "            #print E,'\\n'\n",
    "        #print files[count].split(\"/\")[-1]\n",
    "        #print res\n",
    "        res = \"\"\n",
    "    count += 1\n",
    "ecount"
   ]
  },
  {
   "cell_type": "code",
   "execution_count": 0,
   "metadata": {
    "collapsed": false
   },
   "outputs": [],
   "source": [
    "#look at overall mapping percentages across samples\n",
    "overall = []\n",
    "for j in bowtie_jobs:\n",
    "    if j.ready():\n",
    "        try:\n",
    "            path = j.r[1]\n",
    "            res_file = \"%s.stats\" % path\n",
    "            res = j.r[-1]\n",
    "            res = [x.strip() for x in res]\n",
    "            percent = res[-1].split()[0][:-1]\n",
    "            overall.append(float(percent))\n",
    "        except Exception as E:\n",
    "            pass\n",
    "pd.Series(overall).describe()"
   ]
  },
  {
   "cell_type": "code",
   "execution_count": 0,
   "metadata": {
    "collapsed": false
   },
   "outputs": [],
   "source": [
    "#add in 11 that failed above because engine died; I had to run in another window\n",
    "sec_overall = [85.83, 92.78, 80.02, 76.73, 94.65, 91.83, 94.56, 78.43, 88.95, 99.24, 93.76]\n",
    "len(sec_overall)"
   ]
  },
  {
   "cell_type": "code",
   "execution_count": 0,
   "metadata": {
    "collapsed": false
   },
   "outputs": [],
   "source": [
    "test = sec_overall + overall\n",
    "len(test)"
   ]
  },
  {
   "cell_type": "code",
   "execution_count": 0,
   "metadata": {
    "collapsed": false
   },
   "outputs": [],
   "source": [
    "len(overall)"
   ]
  },
  {
   "cell_type": "code",
   "execution_count": 0,
   "metadata": {
    "collapsed": true
   },
   "outputs": [],
   "source": [
    "overall"
   ]
  },
  {
   "cell_type": "code",
   "execution_count": 0,
   "metadata": {
    "collapsed": true
   },
   "outputs": [],
   "source": [
    "for x in overall:\n",
    "    if x not in test:\n",
    "        print \"crap\"\n",
    "for y in sec_overall:\n",
    "    if y not in test:\n",
    "        print 'crap'"
   ]
  },
  {
   "cell_type": "code",
   "execution_count": 0,
   "metadata": {
    "collapsed": false
   },
   "outputs": [],
   "source": [
    "pd.Series(test).describe()"
   ]
  },
  {
   "cell_type": "code",
   "execution_count": 0,
   "metadata": {
    "collapsed": true
   },
   "outputs": [],
   "source": [
    "#output from pd.Series(test).describe()\n",
    "#count    244.000000\n",
    "#mean      84.548607\n",
    "#std       10.013239\n",
    "#min       38.010000\n",
    "#25%       78.427500\n",
    "#50%       84.770000\n",
    "#75%       92.625000\n",
    "#max       99.410000\n",
    "#dtype: float64"
   ]
  },
  {
   "cell_type": "markdown",
   "metadata": {
    "collapsed": true
   },
   "source": [
    "# convert sam to bam"
   ]
  },
  {
   "cell_type": "code",
   "execution_count": 0,
   "metadata": {
    "collapsed": false
   },
   "outputs": [],
   "source": [
    "#get all of the *.sam files\n",
    "DIR = '/home/lindb/wbp/concatenated/raw_mapping_samfiles/'\n",
    "sam_files = os.listdir(DIR)\n",
    "sam_files = [os.path.join(DIR,f) for f in sam_files if f.endswith('sam')]\n",
    "len(sam_files)"
   ]
  },
  {
   "cell_type": "code",
   "execution_count": 0,
   "metadata": {
    "collapsed": false
   },
   "outputs": [],
   "source": [
    "#example\n",
    "sam_files[0]"
   ]
  },
  {
   "cell_type": "code",
   "execution_count": 0,
   "metadata": {
    "collapsed": true
   },
   "outputs": [],
   "source": [
    "sorted(sam_files)"
   ]
  },
  {
   "cell_type": "code",
   "execution_count": 0,
   "metadata": {
    "collapsed": false
   },
   "outputs": [],
   "source": [
    "#to make sure function will name like I want it to\n",
    "sam = sam_files[0]\n",
    "bam = sam.replace(\".sam\", \".bam\")\n",
    "bam_sorted = \"%s_sorted.bam\" % bam.replace(\".bam\", \"\")\n",
    "bam_index = bam_sorted.replace(\".bam\", \".bai\")\n",
    "print sam\n",
    "print bam\n",
    "print bam_sorted\n",
    "print bam_index\n",
    "del sam,bam,bam_sorted,bam_index"
   ]
  },
  {
   "cell_type": "code",
   "execution_count": 0,
   "metadata": {
    "collapsed": false
   },
   "outputs": [],
   "source": [
    "@lview.remote()\n",
    "def convert_sam_to_bam(sam):\n",
    "    import stopwatch, multiprocessing, os\n",
    "    timer = stopwatch.Timer()\n",
    "    cpus = multiprocessing.cpu_count()\n",
    "    bam = sam.replace(\".sam\", \".bam\")\n",
    "    bam_sorted = \"%s_sorted.bam\" % bam.replace(\".bam\", \"\")\n",
    "    bam_index = bam_sorted.replace(\".bam\", \".bai\")\n",
    "    if not os.path.exists(bam):\n",
    "        !samtools view -bS $sam > $bam\n",
    "#    if os.path.exists(bam):\n",
    "#        if not os.path.exists(bam_sorted):\n",
    "#            !samtools sort -@ $cpus $bam -o $bam_sorted\n",
    "#    if os.path.exists(bam_sorted):\n",
    "#        if not os.path.exists(bam_index):\n",
    "#            !samtools index $bam_sorted $bam_index\n",
    "    timer.stop()\n",
    "    return bam, bam_sorted, bam_index, timer.elapsed"
   ]
  },
  {
   "cell_type": "code",
   "execution_count": 0,
   "metadata": {
    "collapsed": false
   },
   "outputs": [],
   "source": [
    "#convert *.sam to *.bam\n",
    "sam_bam_jobs = []\n",
    "for f in sam_files:\n",
    "    sam_bam_jobs.append(convert_sam_to_bam(os.path.abspath(f)))"
   ]
  },
  {
   "cell_type": "code",
   "execution_count": 0,
   "metadata": {
    "collapsed": false
   },
   "outputs": [],
   "source": [
    "count = 0\n",
    "for j in sam_bam_jobs:\n",
    "    if j.ready():\n",
    "        count += 1\n",
    "count,len(sam_bam_jobs)        "
   ]
  },
  {
   "cell_type": "code",
   "execution_count": 0,
   "metadata": {
    "collapsed": false
   },
   "outputs": [],
   "source": [
    "#make sure there are no errors!\n",
    "count = 0\n",
    "ecount = 0\n",
    "rcount = 0\n",
    "for j in sam_bam_jobs:\n",
    "    if j.ready():\n",
    "        rcount += 1\n",
    "        try:\n",
    "            hey = j.r\n",
    "            #print j.r\n",
    "        except Exception as E:\n",
    "            print \"%s engine died\" % os.path.basename(sam_files[count]).split(\".\")[0]\n",
    "            print E, '\\n'\n",
    "            ecount += 1\n",
    "            #print E,'\\n'\n",
    "        #print files[count].split(\"/\")[-1]\n",
    "        #print res\n",
    "        res = \"\"\n",
    "    count += 1\n",
    "ecount, rcount"
   ]
  },
  {
   "cell_type": "code",
   "execution_count": 0,
   "metadata": {
    "collapsed": false
   },
   "outputs": [],
   "source": [
    "#get bam files\n",
    "bam_files = os.listdir(DIR)\n",
    "bam_files = [os.path.join(DIR,f) for f in bam_files if f.endswith('q.bam')]\n",
    "len(bam_files)"
   ]
  },
  {
   "cell_type": "code",
   "execution_count": 0,
   "metadata": {
    "collapsed": false
   },
   "outputs": [],
   "source": [
    "count = 0\n",
    "for bam in bam_files:\n",
    "    bam_sorted = \"%s_sorted.bam\" % bam.replace(\".bam\", \"\")\n",
    "    if not os.path.exists(bam_sorted):        \n",
    "        num = os.path.basename(bam)[:3]\n",
    "        text = '''#!/bin/bash\n",
    "#$ -N run%s\n",
    "#$ -V\n",
    "#$ -j y\n",
    "#$ -cwd\n",
    "\n",
    "cd /home/lindb/wbp/concatenated/raw_mapping_samfiles/\n",
    "samtools sort -@ 24 %s -o %s\n",
    "''' % (num,bam,bam_sorted)\n",
    "        f = \"sort%s.sh\" % str(num)\n",
    "        filE = '/home/lindb/wbp/concatenated/raw_mapping_samfiles/sortrunfiles/%s' % f\n",
    "        with open(filE,'w') as o:\n",
    "            o.write(\"%s\" % text)    "
   ]
  },
  {
   "cell_type": "code",
   "execution_count": 0,
   "metadata": {
    "collapsed": true
   },
   "outputs": [],
   "source": [
    "@lview.remote()\n",
    "def index_sorted_bams(bam_sorted):\n",
    "    import stopwatch, multiprocessing, os\n",
    "    timer = stopwatch.Timer()\n",
    "    cpus = multiprocessing.cpu_count() \n",
    "    bam_index = bam_sorted.replace(\".bam\", \".bai\")\n",
    "    if not os.path.exists(bam_index):\n",
    "        !samtools index $bam_sorted $bam_index    \n",
    "    timer.stop()\n",
    "    return bam_sorted, bam_index, timer.elapsed            "
   ]
  },
  {
   "cell_type": "code",
   "execution_count": 0,
   "metadata": {
    "collapsed": false
   },
   "outputs": [],
   "source": [
    "sorted_bams = os.listdir(DIR)\n",
    "sorted_bams = [os.path.join(DIR,f) for f in sorted_bams if 'sorted.bam' in f]\n",
    "len(sorted_bams)"
   ]
  },
  {
   "cell_type": "code",
   "execution_count": 0,
   "metadata": {
    "collapsed": false
   },
   "outputs": [],
   "source": [
    "for bam_sorted in sorted_bams:\n",
    "    print bam_sorted\n",
    "    break"
   ]
  },
  {
   "cell_type": "code",
   "execution_count": 0,
   "metadata": {
    "collapsed": true
   },
   "outputs": [],
   "source": [
    "count = 0\n",
    "for bam_sorted in sorted_bams:\n",
    "    bam_index = bam_sorted.replace(\".bam\", \".bai\")\n",
    "    if not os.path.exists(bam_index):        \n",
    "        num = os.path.basename(bam_sorted)[:3]\n",
    "        text = '''#!/bin/bash\n",
    "#$ -N run%s\n",
    "#$ -V\n",
    "#$ -j y\n",
    "#$ -cwd\n",
    "\n",
    "cd /home/lindb/wbp/concatenated/raw_mapping_samfiles/\n",
    "samtools index %s %s\n",
    "''' % (num,bam_sorted,bam_index)\n",
    "        f = \"index%s.sh\" % str(num)\n",
    "        filE = '/home/lindb/wbp/concatenated/raw_mapping_samfiles/sortrunfiles/%s' % f\n",
    "        with open(filE,'w') as o:\n",
    "            o.write(\"%s\" % text)    "
   ]
  },
  {
   "cell_type": "markdown",
   "metadata": {},
   "source": [
    "# add rg info"
   ]
  },
  {
   "cell_type": "code",
   "execution_count": 0,
   "metadata": {
    "collapsed": true
   },
   "outputs": [],
   "source": [
    "from collections import OrderedDict"
   ]
  },
  {
   "cell_type": "code",
   "execution_count": 0,
   "metadata": {
    "collapsed": false
   },
   "outputs": [],
   "source": [
    "#get files containing library and barcode IDs for each sample\n",
    "bdir = '/home/lindb/wbp/raw_reads/barcodefiles/' \n",
    "bfiles = os.listdir(bdir)\n",
    "bfiles = [os.path.join(bdir,f) for f in bfiles]\n",
    "barfiles = []\n",
    "libs = []\n",
    "for f in bfiles:\n",
    "    lib = os.path.basename(f).split(\"_\")[0]\n",
    "    if lib not in libs:\n",
    "        libs.append(lib)\n",
    "        barfiles.append(f)\n",
    "barfiles"
   ]
  },
  {
   "cell_type": "code",
   "execution_count": 0,
   "metadata": {
    "collapsed": false
   },
   "outputs": [],
   "source": [
    "#grab libID and barcodeID for each sample from the files\n",
    "badids = ['NA','nan','5_b11','8_a3','8_a4','8_a6','8_a7','2_a7','2_a9','5_b11','5_b9']\n",
    "rgDict = OrderedDict()\n",
    "for f in barfiles:\n",
    "    df = pd.read_csv(f,header=0,sep=\"\\t\")\n",
    "    lib = \"lib%s\" % str(os.path.basename(f).split(\"_\")[0])\n",
    "    for row in df.index:\n",
    "        samp = str(df.loc[row,'sample.ID'])\n",
    "        while len(samp) < 3:\n",
    "            samp = '0%s' % samp\n",
    "        if samp not in badids:\n",
    "            rgDict[samp] = OrderedDict()\n",
    "            bc = df.loc[row,'barcode2'].replace(\"CTCTTTCCCTACACGACGCTCTTCCGATCT\", \"\")[:-1]\n",
    "            #print samp,bc\n",
    "            rgDict[samp]['lib'] = lib\n",
    "            rgDict[samp]['bc'] = bc\n",
    "len(rgDict.keys())"
   ]
  },
  {
   "cell_type": "code",
   "execution_count": 0,
   "metadata": {
    "collapsed": false
   },
   "outputs": [],
   "source": [
    "bcs = []\n",
    "for samp in rgDict.keys():\n",
    "    if rgDict[samp]['bc'] not in bcs:\n",
    "        bcs.append(rgDict[samp]['bc'])\n",
    "len(bcs)    #should be 96!!!!    "
   ]
  },
  {
   "cell_type": "code",
   "execution_count": 0,
   "metadata": {
    "collapsed": false
   },
   "outputs": [],
   "source": [
    "#take a look to see how function will work\n",
    "bam = '/home/lindb/wbp/concatenated/raw_mapping_samfiles/218compiled.fastq_sorted.bam'\n",
    "base = os.path.basename(bam).split(\".\")\n",
    "samp = base[0][:3]\n",
    "bam_rg = bam.replace(\".bam\", \"_rg.bam\")\n",
    "rglb = rgDict[samp]['lib'] #lib ID\n",
    "rgpu = rgDict[samp]['bc']  #barcode ID\n",
    "rgsm = base[0]\n",
    "rgid = \"_\".join([rglb,rgsm,rgpu])\n",
    "print \"base=\",base\n",
    "print \"bam_rg=\",bam_rg\n",
    "print \"rglb=\",rglb #population ID\n",
    "print 'rgpu=',rgpu\n",
    "print 'rgsm =',rgsm\n",
    "print 'rgid=',rgid\n",
    "del bam, base,samp,bam_rg,rglb,rgpu,rgsm,rgid"
   ]
  },
  {
   "cell_type": "code",
   "execution_count": 0,
   "metadata": {
    "collapsed": false
   },
   "outputs": [],
   "source": [
    "@lview.remote()\n",
    "def add_rg_info_to_bam(args):\n",
    "    rgDict , bam = args\n",
    "    import os\n",
    "    cmd = \"java -jar /home/lindb/g/src/picard-tools-1.130/picard.jar AddOrReplaceReadGroups\"\n",
    "    base = os.path.basename(bam).split(\".\")\n",
    "    samp = base[0][:3]\n",
    "    bam_rg = bam.replace(\".bam\", \"_rg.bam\")\n",
    "    rglb = rgDict[samp]['lib']    #libID\n",
    "    rgpu = rgDict[samp]['bc']     #barcodeID\n",
    "    rgsm = base[0]                #sampID\n",
    "    rgid = \"_\".join([rglb,rgsm,rgpu])  #sampID_barcodeID\n",
    "    rg_string = \"RGID=%s RGLB=%s RGPL=illumina RGPU=%s RGSM=%s\" % (rgid,\n",
    "                                                                   rglb,\n",
    "                                                                   rgpu,\n",
    "                                                                   rgsm)\n",
    "    cmd = \"%s INPUT=%s OUTPUT=%s %s CREATE_INDEX=true\" % (cmd,bam,bam_rg,rg_string)\n",
    "    print cmd\n",
    "    if not os.path.exists(bam_rg):\n",
    "        !$cmd\n",
    "    return bam_rg, rg_string, cmd"
   ]
  },
  {
   "cell_type": "code",
   "execution_count": 0,
   "metadata": {
    "collapsed": false
   },
   "outputs": [],
   "source": [
    "#get sorted.bam files\n",
    "DIR = '/home/lindb/wbp/concatenated/raw_mapping_samfiles/'\n",
    "sorted_bams = os.listdir(DIR)\n",
    "sorted_bams = [os.path.join(DIR,f) for f in sorted_bams if 'sorted.bam' in f]\n",
    "len(sorted_bams)"
   ]
  },
  {
   "cell_type": "code",
   "execution_count": 0,
   "metadata": {
    "collapsed": false
   },
   "outputs": [],
   "source": [
    "rg_lst = []\n",
    "for f in sorted_bams:\n",
    "    rg_lst.append(add_rg_info_to_bam([rgDict,f]))"
   ]
  },
  {
   "cell_type": "code",
   "execution_count": 0,
   "metadata": {
    "collapsed": false
   },
   "outputs": [],
   "source": [
    "rcount = 0\n",
    "for j in rg_lst:\n",
    "    if j.ready():\n",
    "        rcount += 1\n",
    "rcount,len(rg_lst)"
   ]
  },
  {
   "cell_type": "code",
   "execution_count": 0,
   "metadata": {
    "collapsed": true
   },
   "outputs": [],
   "source": [
    "for f in sorted_bams:\n",
    "    rg_bai = f.replace(\".bam\",\"_rg.bai\")\n",
    "    rg_bam = rg_bai.replace(\".bai\",\".bam\")\n",
    "    if not os.path.exists(rg_bai):\n",
    "        print 'bai',f\n",
    "    if not os.path.exists(rg_bam):\n",
    "        print 'bam',f"
   ]
  },
  {
   "cell_type": "code",
   "execution_count": 0,
   "metadata": {
    "collapsed": true
   },
   "outputs": [],
   "source": []
  }
 ],
 "metadata": {
  "kernelspec": {
   "display_name": "Python 2",
   "language": "python",
   "name": "python2"
  },
  "language_info": {
   "codemirror_mode": {
    "name": "ipython",
    "version": 2
   },
   "file_extension": ".py",
   "mimetype": "text/x-python",
   "name": "python",
   "nbconvert_exporter": "python",
   "pygments_lexer": "ipython2",
   "version": "2.7.11"
  }
 },
 "nbformat": 4,
 "nbformat_minor": 0
}
