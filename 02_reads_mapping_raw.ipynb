{
 "cells": [
  {
   "cell_type": "code",
   "execution_count": 1,
   "metadata": {
    "collapsed": true
   },
   "outputs": [],
   "source": [
    "import os, sys\n",
    "from ipyparallel import Client\n",
    "import matplotlib.pyplot as plt\n",
    "%matplotlib inline\n",
    "from subprocess import Popen, PIPE\n",
    "from Bio import SeqIO\n",
    "import pandas as pd"
   ]
  },
  {
   "cell_type": "code",
   "execution_count": 2,
   "metadata": {
    "collapsed": false
   },
   "outputs": [
    {
     "data": {
      "text/plain": [
       "244"
      ]
     },
     "execution_count": 2,
     "metadata": {},
     "output_type": "execute_result"
    }
   ],
   "source": [
    "#get fastq files\n",
    "qdir = '/home/lindb/wbp/concatenated/'\n",
    "files = os.listdir(qdir)\n",
    "files = [os.path.join(qdir,f) for f in files if f.endswith('d.fastq')]\n",
    "len(files)"
   ]
  },
  {
   "cell_type": "code",
   "execution_count": 1035,
   "metadata": {
    "collapsed": false,
    "scrolled": true
   },
   "outputs": [
    {
     "name": "stdout",
     "output_type": "stream",
     "text": [
      "10\n"
     ]
    }
   ],
   "source": [
    "rc = Client(profile=\"xmn\")\n",
    "dview = rc[:]\n",
    "lview = rc.load_balanced_view()\n",
    "print(len(rc))"
   ]
  },
  {
   "cell_type": "code",
   "execution_count": 594,
   "metadata": {
    "collapsed": true
   },
   "outputs": [],
   "source": [
    "assembly = '/home/lindb/wbp/concatenated/velvet/auto_data_45/contigs.fa'"
   ]
  },
  {
   "cell_type": "code",
   "execution_count": 5,
   "metadata": {
    "collapsed": false
   },
   "outputs": [
    {
     "name": "stdout",
     "output_type": "stream",
     "text": [
      "/gpfs_fs/home/lindb/wbp/concatenated/raw_mapping\n"
     ]
    }
   ],
   "source": [
    "cd ~/wbp/concatenated/raw_mapping/"
   ]
  },
  {
   "cell_type": "code",
   "execution_count": 6,
   "metadata": {
    "collapsed": true
   },
   "outputs": [
    {
     "name": "stdout",
     "output_type": "stream",
     "text": [
      "Settings:\n",
      "  Output files: \"/home/lindb/wbp/concatenated/velvet/auto_data_45/contigs.fa.*.bt2\"\n",
      "  Line rate: 6 (line is 64 bytes)\n",
      "  Lines per side: 1 (side is 64 bytes)\n",
      "  Offset rate: 4 (one in 16)\n",
      "  FTable chars: 10\n",
      "  Strings: unpacked\n",
      "  Max bucket size: default\n",
      "  Max bucket size, sqrt multiplier: default\n",
      "  Max bucket size, len divisor: 4\n",
      "  Difference-cover sample period: 1024\n",
      "  Endianness: little\n",
      "  Actual local endianness: little\n",
      "  Sanity checking: disabled\n",
      "  Assertions: disabled\n",
      "  Random seed: 0\n",
      "  Sizeofs: void*:8, int:4, long:8, size_t:8\n",
      "Input files DNA, FASTA:\n",
      "  /home/lindb/wbp/concatenated/velvet/auto_data_45/contigs.fa\n",
      "Building a SMALL index\n",
      "Reading reference sizes\n",
      "  Time reading reference sizes: 00:00:01\n",
      "Calculating joined length\n",
      "Writing header\n",
      "Reserving space for joined string\n",
      "Joining reference sequences\n",
      "  Time to join reference sequences: 00:00:01\n",
      "bmax according to bmaxDivN setting: 12226508\n",
      "Using parameters --bmax 9169881 --dcv 1024\n",
      "  Doing ahead-of-time memory usage test\n",
      "  Passed!  Constructing with these parameters: --bmax 9169881 --dcv 1024\n",
      "Constructing suffix-array element generator\n",
      "Building DifferenceCoverSample\n",
      "  Building sPrime\n",
      "  Building sPrimeOrder\n",
      "  V-Sorting samples\n",
      "  V-Sorting samples time: 00:00:01\n",
      "  Allocating rank array\n",
      "  Ranking v-sort output\n",
      "  Ranking v-sort output time: 00:00:00\n",
      "  Invoking Larsson-Sadakane on ranks\n",
      "  Invoking Larsson-Sadakane on ranks time: 00:00:00\n",
      "  Sanity-checking and returning\n",
      "Building samples\n",
      "Reserving space for 12 sample suffixes\n",
      "Generating random suffixes\n",
      "QSorting 12 sample offsets, eliminating duplicates\n",
      "QSorting sample offsets, eliminating duplicates time: 00:00:00\n",
      "Multikey QSorting 12 samples\n",
      "  (Using difference cover)\n",
      "  Multikey QSorting samples time: 00:00:00\n",
      "Calculating bucket sizes\n",
      "  Binary sorting into buckets\n",
      "  10%\n",
      "  20%\n",
      "  30%\n",
      "  40%\n",
      "  50%\n",
      "  60%\n",
      "  70%\n",
      "  80%\n",
      "  90%\n",
      "  100%\n",
      "  Binary sorting into buckets time: 00:00:05\n",
      "Splitting and merging\n",
      "  Splitting and merging time: 00:00:00\n",
      "Split 1, merged 7; iterating...\n",
      "  Binary sorting into buckets\n",
      "  10%\n",
      "  20%\n",
      "  30%\n",
      "  40%\n",
      "  50%\n",
      "  60%\n",
      "  70%\n",
      "  80%\n",
      "  90%\n",
      "  100%\n",
      "  Binary sorting into buckets time: 00:00:03\n",
      "Splitting and merging\n",
      "  Splitting and merging time: 00:00:00\n",
      "Split 1, merged 0; iterating...\n",
      "  Binary sorting into buckets\n",
      "  10%\n",
      "  20%\n",
      "  30%\n",
      "  40%\n",
      "  50%\n",
      "  60%\n",
      "  70%\n",
      "  80%\n",
      "  90%\n",
      "  100%\n",
      "  Binary sorting into buckets time: 00:00:04\n",
      "Splitting and merging\n",
      "  Splitting and merging time: 00:00:00\n",
      "Split 1, merged 1; iterating...\n",
      "  Binary sorting into buckets\n",
      "  10%\n",
      "  20%\n",
      "  30%\n",
      "  40%\n",
      "  50%\n",
      "  60%\n",
      "  70%\n",
      "  80%\n",
      "  90%\n",
      "  100%\n",
      "  Binary sorting into buckets time: 00:00:03\n",
      "Splitting and merging\n",
      "  Splitting and merging time: 00:00:00\n",
      "Avg bucket size: 6.98658e+06 (target: 9169880)\n",
      "Converting suffix-array elements to index image\n",
      "Allocating ftab, absorbFtab\n",
      "Entering Ebwt loop\n",
      "Getting block 1 of 7\n",
      "  Reserving size (9169881) for bucket\n",
      "  Calculating Z arrays\n",
      "  Calculating Z arrays time: 00:00:00\n",
      "  Entering block accumulator loop:\n",
      "  10%\n",
      "  20%\n",
      "  30%\n",
      "  40%\n",
      "  50%\n",
      "  60%\n",
      "  70%\n",
      "  80%\n",
      "  90%\n",
      "  100%\n",
      "  Block accumulator loop time: 00:00:01\n",
      "  Sorting block of length 6392161\n",
      "  (Using difference cover)\n",
      "  Sorting block time: 00:00:02\n",
      "Returning block of 6392162\n",
      "Getting block 2 of 7\n",
      "  Reserving size (9169881) for bucket\n",
      "  Calculating Z arrays\n",
      "  Calculating Z arrays time: 00:00:00\n",
      "  Entering block accumulator loop:\n",
      "  10%\n",
      "  20%\n",
      "  30%\n",
      "  40%\n",
      "  50%\n",
      "  60%\n",
      "  70%\n",
      "  80%\n",
      "  90%\n",
      "  100%\n",
      "  Block accumulator loop time: 00:00:01\n",
      "  Sorting block of length 8506966\n",
      "  (Using difference cover)\n",
      "  Sorting block time: 00:00:04\n",
      "Returning block of 8506967\n",
      "Getting block 3 of 7\n",
      "  Reserving size (9169881) for bucket\n",
      "  Calculating Z arrays\n",
      "  Calculating Z arrays time: 00:00:00\n",
      "  Entering block accumulator loop:\n",
      "  10%\n",
      "  20%\n",
      "  30%\n",
      "  40%\n",
      "  50%\n",
      "  60%\n",
      "  70%\n",
      "  80%\n",
      "  90%\n",
      "  100%\n",
      "  Block accumulator loop time: 00:00:01\n",
      "  Sorting block of length 2589722\n",
      "  (Using difference cover)\n",
      "  Sorting block time: 00:00:01\n",
      "Returning block of 2589723\n",
      "Getting block 4 of 7\n",
      "  Reserving size (9169881) for bucket\n",
      "  Calculating Z arrays\n",
      "  Calculating Z arrays time: 00:00:00\n",
      "  Entering block accumulator loop:\n",
      "  10%\n",
      "  20%\n",
      "  30%\n",
      "  40%\n",
      "  50%\n",
      "  60%\n",
      "  70%\n",
      "  80%\n",
      "  90%\n",
      "  100%\n",
      "  Block accumulator loop time: 00:00:02\n",
      "  Sorting block of length 6977214\n",
      "  (Using difference cover)\n",
      "  Sorting block time: 00:00:03\n",
      "Returning block of 6977215\n",
      "Getting block 5 of 7\n",
      "  Reserving size (9169881) for bucket\n",
      "  Calculating Z arrays\n",
      "  Calculating Z arrays time: 00:00:00\n",
      "  Entering block accumulator loop:\n",
      "  10%\n",
      "  20%\n",
      "  30%\n",
      "  40%\n",
      "  50%\n",
      "  60%\n",
      "  70%\n",
      "  80%\n",
      "  90%\n",
      "  100%\n",
      "  Block accumulator loop time: 00:00:01\n",
      "  Sorting block of length 7597555\n",
      "  (Using difference cover)\n",
      "  Sorting block time: 00:00:03\n",
      "Returning block of 7597556\n",
      "Getting block 6 of 7\n",
      "  Reserving size (9169881) for bucket\n",
      "  Calculating Z arrays\n",
      "  Calculating Z arrays time: 00:00:00\n",
      "  Entering block accumulator loop:\n",
      "  10%\n",
      "  20%\n",
      "  30%\n",
      "  40%\n",
      "  50%\n",
      "  60%\n",
      "  70%\n",
      "  80%\n",
      "  90%\n",
      "  100%\n",
      "  Block accumulator loop time: 00:00:02\n",
      "  Sorting block of length 7869836\n",
      "  (Using difference cover)\n",
      "  Sorting block time: 00:00:03\n",
      "Returning block of 7869837\n",
      "Getting block 7 of 7\n",
      "  Reserving size (9169881) for bucket\n",
      "  Calculating Z arrays\n",
      "  Calculating Z arrays time: 00:00:00\n",
      "  Entering block accumulator loop:\n",
      "  10%\n",
      "  20%\n",
      "  30%\n",
      "  40%\n",
      "  50%\n",
      "  60%\n",
      "  70%\n",
      "  80%\n",
      "  90%\n",
      "  100%\n",
      "  Block accumulator loop time: 00:00:01\n",
      "  Sorting block of length 8972575\n",
      "  (Using difference cover)\n",
      "  Sorting block time: 00:00:03\n",
      "Returning block of 8972576\n",
      "Exited Ebwt loop\n",
      "fchr[A]: 0\n",
      "fchr[C]: 14620718\n",
      "fchr[G]: 29119124\n",
      "fchr[T]: 36938893\n",
      "fchr[$]: 48906035\n",
      "Exiting Ebwt::buildToDisk()\n",
      "Returning from initFromVector\n",
      "Wrote 40714826 bytes to primary EBWT file: /home/lindb/wbp/concatenated/velvet/auto_data_45/contigs.fa.1.bt2\n",
      "Wrote 12226516 bytes to secondary EBWT file: /home/lindb/wbp/concatenated/velvet/auto_data_45/contigs.fa.2.bt2\n",
      "Re-opening _in1 and _in2 as input streams\n",
      "Returning from Ebwt constructor\n",
      "Headers:\n",
      "    len: 48906035\n",
      "    bwtLen: 48906036\n",
      "    sz: 12226509\n",
      "    bwtSz: 12226509\n",
      "    lineRate: 6\n",
      "    offRate: 4\n",
      "    offMask: 0xfffffff0\n",
      "    ftabChars: 10\n",
      "    eftabLen: 20\n",
      "    eftabSz: 80\n",
      "    ftabLen: 1048577\n",
      "    ftabSz: 4194308\n",
      "    offsLen: 3056628\n",
      "    offsSz: 12226512\n",
      "    lineSz: 64\n",
      "    sideSz: 64\n",
      "    sideBwtSz: 48\n",
      "    sideBwtLen: 192\n",
      "    numSides: 254719\n",
      "    numLines: 254719\n",
      "    ebwtTotLen: 16302016\n",
      "    ebwtTotSz: 16302016\n",
      "    color: 0\n",
      "    reverse: 0\n",
      "Total time for call to driver() for forward index: 00:00:56\n",
      "Reading reference sizes\n",
      "  Time reading reference sizes: 00:00:01\n",
      "Calculating joined length\n",
      "Writing header\n",
      "Reserving space for joined string\n",
      "Joining reference sequences\n",
      "  Time to join reference sequences: 00:00:01\n",
      "  Time to reverse reference sequence: 00:00:00\n",
      "bmax according to bmaxDivN setting: 12226508\n",
      "Using parameters --bmax 9169881 --dcv 1024\n",
      "  Doing ahead-of-time memory usage test\n",
      "  Passed!  Constructing with these parameters: --bmax 9169881 --dcv 1024\n",
      "Constructing suffix-array element generator\n",
      "Building DifferenceCoverSample\n",
      "  Building sPrime\n",
      "  Building sPrimeOrder\n",
      "  V-Sorting samples\n",
      "  V-Sorting samples time: 00:00:02\n",
      "  Allocating rank array\n",
      "  Ranking v-sort output\n",
      "  Ranking v-sort output time: 00:00:00\n",
      "  Invoking Larsson-Sadakane on ranks\n",
      "  Invoking Larsson-Sadakane on ranks time: 00:00:00\n",
      "  Sanity-checking and returning\n",
      "Building samples\n",
      "Reserving space for 12 sample suffixes\n",
      "Generating random suffixes\n",
      "QSorting 12 sample offsets, eliminating duplicates\n",
      "QSorting sample offsets, eliminating duplicates time: 00:00:00\n",
      "Multikey QSorting 12 samples\n",
      "  (Using difference cover)\n",
      "  Multikey QSorting samples time: 00:00:00\n",
      "Calculating bucket sizes\n",
      "  Binary sorting into buckets\n",
      "  10%\n",
      "  20%\n",
      "  30%\n",
      "  40%\n",
      "  50%\n",
      "  60%\n",
      "  70%\n",
      "  80%\n",
      "  90%\n",
      "  100%\n",
      "  Binary sorting into buckets time: 00:00:05\n",
      "Splitting and merging\n",
      "  Splitting and merging time: 00:00:00\n",
      "Split 3, merged 6; iterating...\n",
      "  Binary sorting into buckets\n",
      "  10%\n",
      "  20%\n",
      "  30%\n",
      "  40%\n",
      "  50%\n",
      "  60%\n",
      "  70%\n",
      "  80%\n",
      "  90%\n",
      "  100%\n",
      "  Binary sorting into buckets time: 00:00:05\n",
      "Splitting and merging\n",
      "  Splitting and merging time: 00:00:00\n",
      "Split 2, merged 2; iterating...\n",
      "  Binary sorting into buckets\n",
      "  10%\n",
      "  20%\n",
      "  30%\n",
      "  40%\n",
      "  50%\n",
      "  60%\n",
      "  70%\n",
      "  80%\n",
      "  90%\n",
      "  100%\n",
      "  Binary sorting into buckets time: 00:00:04\n",
      "Splitting and merging\n",
      "  Splitting and merging time: 00:00:00\n",
      "Avg bucket size: 6.11325e+06 (target: 9169880)\n",
      "Converting suffix-array elements to index image\n",
      "Allocating ftab, absorbFtab\n",
      "Entering Ebwt loop\n",
      "Getting block 1 of 8\n",
      "  Reserving size (9169881) for bucket\n",
      "  Calculating Z arrays\n",
      "  Calculating Z arrays time: 00:00:00\n",
      "  Entering block accumulator loop:\n",
      "  10%\n",
      "  20%\n",
      "  30%\n",
      "  40%\n",
      "  50%\n",
      "  60%\n",
      "  70%\n",
      "  80%\n",
      "  90%\n",
      "  100%\n",
      "  Block accumulator loop time: 00:00:01\n",
      "  Sorting block of length 1146831\n",
      "  (Using difference cover)\n",
      "  Sorting block time: 00:00:01\n",
      "Returning block of 1146832\n",
      "Getting block 2 of 8\n",
      "  Reserving size (9169881) for bucket\n",
      "  Calculating Z arrays\n",
      "  Calculating Z arrays time: 00:00:00\n",
      "  Entering block accumulator loop:\n",
      "  10%\n",
      "  20%\n",
      "  30%\n",
      "  40%\n",
      "  50%\n",
      "  60%\n",
      "  70%\n",
      "  80%\n",
      "  90%\n",
      "  100%\n",
      "  Block accumulator loop time: 00:00:01\n",
      "  Sorting block of length 8792802\n",
      "  (Using difference cover)\n",
      "  Sorting block time: 00:00:04\n",
      "Returning block of 8792803\n",
      "Getting block 3 of 8\n",
      "  Reserving size (9169881) for bucket\n",
      "  Calculating Z arrays\n",
      "  Calculating Z arrays time: 00:00:00\n",
      "  Entering block accumulator loop:\n",
      "  10%\n",
      "  20%\n",
      "  30%\n",
      "  40%\n",
      "  50%\n",
      "  60%\n",
      "  70%\n",
      "  80%\n",
      "  90%\n",
      "  100%\n",
      "  Block accumulator loop time: 00:00:02\n",
      "  Sorting block of length 8026644\n",
      "  (Using difference cover)\n",
      "  Sorting block time: 00:00:02\n",
      "Returning block of 8026645\n",
      "Getting block 4 of 8\n",
      "  Reserving size (9169881) for bucket\n",
      "  Calculating Z arrays\n",
      "  Calculating Z arrays time: 00:00:00\n",
      "  Entering block accumulator loop:\n",
      "  10%\n",
      "  20%\n",
      "  30%\n",
      "  40%\n",
      "  50%\n",
      "  60%\n",
      "  70%\n",
      "  80%\n",
      "  90%\n",
      "  100%\n",
      "  Block accumulator loop time: 00:00:02\n",
      "  Sorting block of length 6171936\n",
      "  (Using difference cover)\n",
      "  Sorting block time: 00:00:02\n",
      "Returning block of 6171937\n",
      "Getting block 5 of 8\n",
      "  Reserving size (9169881) for bucket\n",
      "  Calculating Z arrays\n",
      "  Calculating Z arrays time: 00:00:00\n",
      "  Entering block accumulator loop:\n",
      "  10%\n",
      "  20%\n",
      "  30%\n",
      "  40%\n",
      "  50%\n",
      "  60%\n",
      "  70%\n",
      "  80%\n",
      "  90%\n",
      "  100%\n",
      "  Block accumulator loop time: 00:00:01\n",
      "  Sorting block of length 4167755\n",
      "  (Using difference cover)\n",
      "  Sorting block time: 00:00:02\n",
      "Returning block of 4167756\n",
      "Getting block 6 of 8\n",
      "  Reserving size (9169881) for bucket\n",
      "  Calculating Z arrays\n",
      "  Calculating Z arrays time: 00:00:00\n",
      "  Entering block accumulator loop:\n",
      "  10%\n",
      "  20%\n",
      "  30%\n",
      "  40%\n",
      "  50%\n",
      "  60%\n",
      "  70%\n",
      "  80%\n",
      "  90%\n",
      "  100%\n",
      "  Block accumulator loop time: 00:00:01\n",
      "  Sorting block of length 8632919\n",
      "  (Using difference cover)\n",
      "  Sorting block time: 00:00:04\n",
      "Returning block of 8632920\n",
      "Getting block 7 of 8\n",
      "  Reserving size (9169881) for bucket\n",
      "  Calculating Z arrays\n",
      "  Calculating Z arrays time: 00:00:00\n",
      "  Entering block accumulator loop:\n",
      "  10%\n",
      "  20%\n",
      "  30%\n",
      "  40%\n",
      "  50%\n",
      "  60%\n",
      "  70%\n",
      "  80%\n",
      "  90%\n",
      "  100%\n",
      "  Block accumulator loop time: 00:00:01\n",
      "  Sorting block of length 6998742\n",
      "  (Using difference cover)\n",
      "  Sorting block time: 00:00:03\n",
      "Returning block of 6998743\n",
      "Getting block 8 of 8\n",
      "  Reserving size (9169881) for bucket\n",
      "  Calculating Z arrays\n",
      "  Calculating Z arrays time: 00:00:00\n",
      "  Entering block accumulator loop:\n",
      "  10%\n",
      "  20%\n",
      "  30%\n",
      "  40%\n",
      "  50%\n",
      "  60%\n",
      "  70%\n",
      "  80%\n",
      "  90%\n",
      "  100%\n",
      "  Block accumulator loop time: 00:00:01\n",
      "  Sorting block of length 4968399\n",
      "  (Using difference cover)\n",
      "  Sorting block time: 00:00:01\n",
      "Returning block of 4968400\n",
      "Exited Ebwt loop\n",
      "fchr[A]: 0\n",
      "fchr[C]: 14620718\n",
      "fchr[G]: 29119124\n",
      "fchr[T]: 36938893\n",
      "fchr[$]: 48906035\n",
      "Exiting Ebwt::buildToDisk()\n",
      "Returning from initFromVector\n",
      "Wrote 40714826 bytes to primary EBWT file: /home/lindb/wbp/concatenated/velvet/auto_data_45/contigs.fa.rev.1.bt2\n",
      "Wrote 12226516 bytes to secondary EBWT file: /home/lindb/wbp/concatenated/velvet/auto_data_45/contigs.fa.rev.2.bt2\n",
      "Re-opening _in1 and _in2 as input streams\n",
      "Returning from Ebwt constructor\n",
      "Headers:\n",
      "    len: 48906035\n",
      "    bwtLen: 48906036\n",
      "    sz: 12226509\n",
      "    bwtSz: 12226509\n",
      "    lineRate: 6\n",
      "    offRate: 4\n",
      "    offMask: 0xfffffff0\n",
      "    ftabChars: 10\n",
      "    eftabLen: 20\n",
      "    eftabSz: 80\n",
      "    ftabLen: 1048577\n",
      "    ftabSz: 4194308\n",
      "    offsLen: 3056628\n",
      "    offsSz: 12226512\n",
      "    lineSz: 64\n",
      "    sideSz: 64\n",
      "    sideBwtSz: 48\n",
      "    sideBwtLen: 192\n",
      "    numSides: 254719\n",
      "    numLines: 254719\n",
      "    ebwtTotLen: 16302016\n",
      "    ebwtTotSz: 16302016\n",
      "    color: 0\n",
      "    reverse: 1\n",
      "Total time for backward call to driver() for mirror index: 00:00:57\n"
     ]
    }
   ],
   "source": [
    "!/home/lindb/g/src/bowtie2-2.2.6/bowtie2-build -f $assembly $assembly"
   ]
  },
  {
   "cell_type": "code",
   "execution_count": 105,
   "metadata": {
    "collapsed": true
   },
   "outputs": [],
   "source": [
    "# --very-fast-local\n",
    "# Same as: -D 5 -R 1 -N 0 -L 25 -i S,1,2.00\n",
    "\n",
    "# --fast-local\n",
    "# Same as: -D 10 -R 2 -N 0 -L 22 -i S,1,1.75\n",
    "\n",
    "# --sensitive-local\n",
    "# Same as: -D 15 -R 2 -N 0 -L 20 -i S,1,0.75 (default in --local mode)\n",
    "\n",
    "# --very-sensitive-local\n",
    "# Same as: -D 20 -R 3 -N 0 -L 20 -i S,1,0.50\n",
    "\n",
    "@lview.remote()\n",
    "def run_bowtie2(args):\n",
    "    import os, stopwatch, multiprocessing\n",
    "    timer = stopwatch.Timer()\n",
    "    cpus = multiprocessing.cpu_count()\n",
    "    assembly, reads = args\n",
    "    parent = os.path.dirname(reads)\n",
    "    outdir = os.path.join(parent, \"raw_mapping_samfiles\")\n",
    "    if not os.path.exists(outdir):\n",
    "        os.mkdir(outdir)\n",
    "    sam = os.path.join(outdir, \"%s.sam\" % (os.path.basename(reads)))\n",
    "    cmd = \"/home/lindb/g/src/bowtie2-2.2.6/bowtie2 --local -D 20 -R 3 -N 1 -L 20 -i S,1,0.50 -p %d -x %s -U %s -S %s\" % (cpus,\n",
    "                                                               assembly,\n",
    "                                                               reads,\n",
    "                                                               sam)\n",
    "    res = None\n",
    "    res = !$cmd\n",
    "#     if not os.path.exists(sam):\n",
    "#         res = !$cmd\n",
    "    timer.stop()\n",
    "    return assembly, sam, cmd, timer.elapsed, res"
   ]
  },
  {
   "cell_type": "code",
   "execution_count": 107,
   "metadata": {
    "collapsed": false
   },
   "outputs": [
    {
     "name": "stdout",
     "output_type": "stream",
     "text": [
      "/home/lindb/wbp/concatenated/055compiled.fastq\n"
     ]
    }
   ],
   "source": [
    "#make sure they're the right files\n",
    "for f in files:\n",
    "    print f\n",
    "    break"
   ]
  },
  {
   "cell_type": "code",
   "execution_count": 106,
   "metadata": {
    "collapsed": false
   },
   "outputs": [
    {
     "data": {
      "text/plain": [
       "244"
      ]
     },
     "execution_count": 106,
     "metadata": {},
     "output_type": "execute_result"
    }
   ],
   "source": [
    "len(files)"
   ]
  },
  {
   "cell_type": "code",
   "execution_count": 108,
   "metadata": {
    "collapsed": true
   },
   "outputs": [],
   "source": [
    "#map with bowtie2\n",
    "bowtie_jobs = []\n",
    "for f in files:\n",
    "    bowtie_jobs.append(run_bowtie2((assembly, f)))"
   ]
  },
  {
   "cell_type": "code",
   "execution_count": 248,
   "metadata": {
    "collapsed": false
   },
   "outputs": [
    {
     "name": "stdout",
     "output_type": "stream",
     "text": [
      "244 / 244\n"
     ]
    }
   ],
   "source": [
    "#check on progress\n",
    "count = 0\n",
    "for j in bowtie_jobs:\n",
    "    if j.ready():\n",
    "        count += 1\n",
    "print count,'/',len(bowtie_jobs)"
   ]
  },
  {
   "cell_type": "code",
   "execution_count": 234,
   "metadata": {
    "collapsed": true
   },
   "outputs": [
    {
     "data": {
      "text/plain": [
       "[<AsyncResult: finished>,\n",
       " <AsyncResult: finished>,\n",
       " <AsyncResult: finished>,\n",
       " <AsyncResult: finished>,\n",
       " <AsyncResult: finished>,\n",
       " <AsyncResult: finished>,\n",
       " <AsyncResult: finished>,\n",
       " <AsyncResult: finished>,\n",
       " <AsyncResult: finished>,\n",
       " <AsyncResult: finished>,\n",
       " <AsyncResult: finished>,\n",
       " <AsyncResult: finished>,\n",
       " <AsyncResult: run_bowtie2>,\n",
       " <AsyncResult: finished>,\n",
       " <AsyncResult: finished>,\n",
       " <AsyncResult: finished>,\n",
       " <AsyncResult: finished>,\n",
       " <AsyncResult: finished>,\n",
       " <AsyncResult: finished>,\n",
       " <AsyncResult: finished>,\n",
       " <AsyncResult: finished>,\n",
       " <AsyncResult: finished>,\n",
       " <AsyncResult: run_bowtie2>,\n",
       " <AsyncResult: finished>,\n",
       " <AsyncResult: finished>,\n",
       " <AsyncResult: finished>,\n",
       " <AsyncResult: finished>,\n",
       " <AsyncResult: run_bowtie2>,\n",
       " <AsyncResult: finished>,\n",
       " <AsyncResult: finished>,\n",
       " <AsyncResult: finished>,\n",
       " <AsyncResult: finished>,\n",
       " <AsyncResult: finished>,\n",
       " <AsyncResult: finished>,\n",
       " <AsyncResult: finished>,\n",
       " <AsyncResult: finished>,\n",
       " <AsyncResult: finished>,\n",
       " <AsyncResult: finished>,\n",
       " <AsyncResult: finished>,\n",
       " <AsyncResult: run_bowtie2>,\n",
       " <AsyncResult: finished>,\n",
       " <AsyncResult: finished>,\n",
       " <AsyncResult: finished>,\n",
       " <AsyncResult: finished>,\n",
       " <AsyncResult: finished>,\n",
       " <AsyncResult: finished>,\n",
       " <AsyncResult: finished>,\n",
       " <AsyncResult: finished>,\n",
       " <AsyncResult: finished>,\n",
       " <AsyncResult: finished>,\n",
       " <AsyncResult: finished>,\n",
       " <AsyncResult: finished>,\n",
       " <AsyncResult: finished>,\n",
       " <AsyncResult: finished>,\n",
       " <AsyncResult: finished>,\n",
       " <AsyncResult: finished>,\n",
       " <AsyncResult: finished>,\n",
       " <AsyncResult: finished>,\n",
       " <AsyncResult: finished>,\n",
       " <AsyncResult: finished>,\n",
       " <AsyncResult: finished>,\n",
       " <AsyncResult: finished>,\n",
       " <AsyncResult: finished>,\n",
       " <AsyncResult: finished>,\n",
       " <AsyncResult: finished>,\n",
       " <AsyncResult: finished>,\n",
       " <AsyncResult: finished>,\n",
       " <AsyncResult: finished>,\n",
       " <AsyncResult: finished>,\n",
       " <AsyncResult: finished>,\n",
       " <AsyncResult: finished>,\n",
       " <AsyncResult: finished>,\n",
       " <AsyncResult: finished>,\n",
       " <AsyncResult: finished>,\n",
       " <AsyncResult: finished>,\n",
       " <AsyncResult: finished>,\n",
       " <AsyncResult: finished>,\n",
       " <AsyncResult: finished>,\n",
       " <AsyncResult: finished>,\n",
       " <AsyncResult: finished>,\n",
       " <AsyncResult: finished>,\n",
       " <AsyncResult: finished>,\n",
       " <AsyncResult: finished>,\n",
       " <AsyncResult: finished>,\n",
       " <AsyncResult: run_bowtie2>,\n",
       " <AsyncResult: finished>,\n",
       " <AsyncResult: finished>,\n",
       " <AsyncResult: finished>,\n",
       " <AsyncResult: finished>,\n",
       " <AsyncResult: finished>,\n",
       " <AsyncResult: finished>,\n",
       " <AsyncResult: finished>,\n",
       " <AsyncResult: run_bowtie2>,\n",
       " <AsyncResult: finished>,\n",
       " <AsyncResult: finished>,\n",
       " <AsyncResult: finished>,\n",
       " <AsyncResult: finished>,\n",
       " <AsyncResult: finished>,\n",
       " <AsyncResult: finished>,\n",
       " <AsyncResult: finished>,\n",
       " <AsyncResult: finished>,\n",
       " <AsyncResult: finished>,\n",
       " <AsyncResult: finished>,\n",
       " <AsyncResult: finished>,\n",
       " <AsyncResult: finished>,\n",
       " <AsyncResult: finished>,\n",
       " <AsyncResult: finished>,\n",
       " <AsyncResult: finished>,\n",
       " <AsyncResult: finished>,\n",
       " <AsyncResult: finished>,\n",
       " <AsyncResult: finished>,\n",
       " <AsyncResult: finished>,\n",
       " <AsyncResult: finished>,\n",
       " <AsyncResult: finished>,\n",
       " <AsyncResult: finished>,\n",
       " <AsyncResult: finished>,\n",
       " <AsyncResult: finished>,\n",
       " <AsyncResult: finished>,\n",
       " <AsyncResult: finished>,\n",
       " <AsyncResult: finished>,\n",
       " <AsyncResult: finished>,\n",
       " <AsyncResult: finished>,\n",
       " <AsyncResult: finished>,\n",
       " <AsyncResult: finished>,\n",
       " <AsyncResult: finished>,\n",
       " <AsyncResult: finished>,\n",
       " <AsyncResult: finished>,\n",
       " <AsyncResult: finished>,\n",
       " <AsyncResult: finished>,\n",
       " <AsyncResult: run_bowtie2>,\n",
       " <AsyncResult: finished>,\n",
       " <AsyncResult: finished>,\n",
       " <AsyncResult: finished>,\n",
       " <AsyncResult: run_bowtie2>,\n",
       " <AsyncResult: finished>,\n",
       " <AsyncResult: finished>,\n",
       " <AsyncResult: finished>,\n",
       " <AsyncResult: finished>,\n",
       " <AsyncResult: finished>,\n",
       " <AsyncResult: finished>,\n",
       " <AsyncResult: finished>,\n",
       " <AsyncResult: finished>,\n",
       " <AsyncResult: finished>,\n",
       " <AsyncResult: finished>,\n",
       " <AsyncResult: finished>,\n",
       " <AsyncResult: finished>,\n",
       " <AsyncResult: finished>,\n",
       " <AsyncResult: finished>,\n",
       " <AsyncResult: finished>,\n",
       " <AsyncResult: finished>,\n",
       " <AsyncResult: finished>,\n",
       " <AsyncResult: finished>,\n",
       " <AsyncResult: finished>,\n",
       " <AsyncResult: finished>,\n",
       " <AsyncResult: finished>,\n",
       " <AsyncResult: finished>,\n",
       " <AsyncResult: finished>,\n",
       " <AsyncResult: finished>,\n",
       " <AsyncResult: finished>,\n",
       " <AsyncResult: finished>,\n",
       " <AsyncResult: finished>,\n",
       " <AsyncResult: finished>,\n",
       " <AsyncResult: run_bowtie2>,\n",
       " <AsyncResult: finished>,\n",
       " <AsyncResult: finished>,\n",
       " <AsyncResult: finished>,\n",
       " <AsyncResult: finished>,\n",
       " <AsyncResult: finished>,\n",
       " <AsyncResult: finished>,\n",
       " <AsyncResult: run_bowtie2>,\n",
       " <AsyncResult: finished>,\n",
       " <AsyncResult: run_bowtie2>,\n",
       " <AsyncResult: finished>,\n",
       " <AsyncResult: finished>,\n",
       " <AsyncResult: finished>,\n",
       " <AsyncResult: finished>,\n",
       " <AsyncResult: finished>,\n",
       " <AsyncResult: finished>,\n",
       " <AsyncResult: finished>,\n",
       " <AsyncResult: finished>,\n",
       " <AsyncResult: finished>,\n",
       " <AsyncResult: finished>,\n",
       " <AsyncResult: finished>,\n",
       " <AsyncResult: finished>,\n",
       " <AsyncResult: finished>,\n",
       " <AsyncResult: finished>,\n",
       " <AsyncResult: finished>,\n",
       " <AsyncResult: finished>,\n",
       " <AsyncResult: finished>,\n",
       " <AsyncResult: finished>,\n",
       " <AsyncResult: finished>,\n",
       " <AsyncResult: finished>,\n",
       " <AsyncResult: finished>,\n",
       " <AsyncResult: finished>,\n",
       " <AsyncResult: finished>,\n",
       " <AsyncResult: finished>,\n",
       " <AsyncResult: finished>,\n",
       " <AsyncResult: finished>,\n",
       " <AsyncResult: finished>,\n",
       " <AsyncResult: finished>,\n",
       " <AsyncResult: finished>,\n",
       " <AsyncResult: finished>,\n",
       " <AsyncResult: finished>,\n",
       " <AsyncResult: finished>,\n",
       " <AsyncResult: finished>,\n",
       " <AsyncResult: finished>,\n",
       " <AsyncResult: finished>,\n",
       " <AsyncResult: finished>,\n",
       " <AsyncResult: finished>,\n",
       " <AsyncResult: finished>,\n",
       " <AsyncResult: finished>,\n",
       " <AsyncResult: finished>,\n",
       " <AsyncResult: finished>,\n",
       " <AsyncResult: finished>,\n",
       " <AsyncResult: finished>,\n",
       " <AsyncResult: finished>,\n",
       " <AsyncResult: finished>,\n",
       " <AsyncResult: finished>,\n",
       " <AsyncResult: finished>,\n",
       " <AsyncResult: finished>,\n",
       " <AsyncResult: finished>,\n",
       " <AsyncResult: finished>,\n",
       " <AsyncResult: run_bowtie2>,\n",
       " <AsyncResult: finished>,\n",
       " <AsyncResult: finished>,\n",
       " <AsyncResult: finished>,\n",
       " <AsyncResult: finished>,\n",
       " <AsyncResult: finished>,\n",
       " <AsyncResult: finished>,\n",
       " <AsyncResult: finished>,\n",
       " <AsyncResult: finished>,\n",
       " <AsyncResult: finished>,\n",
       " <AsyncResult: finished>,\n",
       " <AsyncResult: finished>,\n",
       " <AsyncResult: finished>,\n",
       " <AsyncResult: finished>,\n",
       " <AsyncResult: finished>,\n",
       " <AsyncResult: finished>,\n",
       " <AsyncResult: finished>,\n",
       " <AsyncResult: finished>,\n",
       " <AsyncResult: finished>,\n",
       " <AsyncResult: finished>,\n",
       " <AsyncResult: finished>,\n",
       " <AsyncResult: finished>]"
      ]
     },
     "execution_count": 234,
     "metadata": {},
     "output_type": "execute_result"
    }
   ],
   "source": [
    "bowtie_jobs"
   ]
  },
  {
   "cell_type": "code",
   "execution_count": 192,
   "metadata": {
    "collapsed": true
   },
   "outputs": [],
   "source": [
    "from io import StringIO"
   ]
  },
  {
   "cell_type": "code",
   "execution_count": 249,
   "metadata": {
    "collapsed": false
   },
   "outputs": [
    {
     "name": "stdout",
     "output_type": "stream",
     "text": [
      "119compiled engine died\n",
      "117compiled engine died\n",
      "039compiled engine died\n",
      "030compiled engine died\n",
      "256compiled engine died\n",
      "250compiled engine died\n",
      "163compiled engine died\n",
      "091compiled engine died\n",
      "015compiled engine died\n",
      "066compiled engine died\n",
      "153compiled engine died\n"
     ]
    },
    {
     "data": {
      "text/plain": [
       "11"
      ]
     },
     "execution_count": 249,
     "metadata": {},
     "output_type": "execute_result"
    }
   ],
   "source": [
    "#make sure there are no errors!\n",
    "count = 0\n",
    "ecount = 0\n",
    "for j in bowtie_jobs:\n",
    "    if j.ready():\n",
    "        try:\n",
    "            res = [x.strip() for x in j.r[-1]]\n",
    "        except Exception as E:\n",
    "            print \"%s engine died\" % os.path.basename(files[count]).split(\".\")[0]\n",
    "            ecount += 1\n",
    "            #print E,'\\n'\n",
    "        #print files[count].split(\"/\")[-1]\n",
    "        #print res\n",
    "        res = \"\"\n",
    "    count += 1\n",
    "ecount"
   ]
  },
  {
   "cell_type": "code",
   "execution_count": 267,
   "metadata": {
    "collapsed": false
   },
   "outputs": [
    {
     "data": {
      "text/plain": [
       "count    233.000000\n",
       "mean      84.347983\n",
       "std       10.083955\n",
       "min       38.010000\n",
       "25%       78.330000\n",
       "50%       84.710000\n",
       "75%       92.510000\n",
       "max       99.410000\n",
       "dtype: float64"
      ]
     },
     "execution_count": 267,
     "metadata": {},
     "output_type": "execute_result"
    }
   ],
   "source": [
    "#look at overall mapping percentages across samples\n",
    "overall = []\n",
    "for j in bowtie_jobs:\n",
    "    if j.ready():\n",
    "        try:\n",
    "            path = j.r[1]\n",
    "            res_file = \"%s.stats\" % path\n",
    "            res = j.r[-1]\n",
    "            res = [x.strip() for x in res]\n",
    "            percent = res[-1].split()[0][:-1]\n",
    "            overall.append(float(percent))\n",
    "        except Exception as E:\n",
    "            pass\n",
    "pd.Series(overall).describe()"
   ]
  },
  {
   "cell_type": "code",
   "execution_count": 290,
   "metadata": {
    "collapsed": false
   },
   "outputs": [
    {
     "data": {
      "text/plain": [
       "11"
      ]
     },
     "execution_count": 290,
     "metadata": {},
     "output_type": "execute_result"
    }
   ],
   "source": [
    "#add in 11 that failed above because engine died; I had to run in another window\n",
    "sec_overall = [85.83, 92.78, 80.02, 76.73, 94.65, 91.83, 94.56, 78.43, 88.95, 99.24, 93.76]\n",
    "len(sec_overall)"
   ]
  },
  {
   "cell_type": "code",
   "execution_count": 283,
   "metadata": {
    "collapsed": false
   },
   "outputs": [
    {
     "data": {
      "text/plain": [
       "244"
      ]
     },
     "execution_count": 283,
     "metadata": {},
     "output_type": "execute_result"
    }
   ],
   "source": [
    "test = sec_overall + overall\n",
    "len(test)"
   ]
  },
  {
   "cell_type": "code",
   "execution_count": 285,
   "metadata": {
    "collapsed": false
   },
   "outputs": [
    {
     "data": {
      "text/plain": [
       "233"
      ]
     },
     "execution_count": 285,
     "metadata": {},
     "output_type": "execute_result"
    }
   ],
   "source": [
    "len(overall)"
   ]
  },
  {
   "cell_type": "code",
   "execution_count": 286,
   "metadata": {
    "collapsed": true
   },
   "outputs": [
    {
     "data": {
      "text/plain": [
       "[76.62,\n",
       " 84.98,\n",
       " 77.61,\n",
       " 77.07,\n",
       " 86.26,\n",
       " 80.12,\n",
       " 81.82,\n",
       " 93.84,\n",
       " 94.26,\n",
       " 82.89,\n",
       " 50.61,\n",
       " 93.6,\n",
       " 91.51,\n",
       " 90.77,\n",
       " 93.08,\n",
       " 76.35,\n",
       " 93.2,\n",
       " 46.83,\n",
       " 94.55,\n",
       " 91.17,\n",
       " 95.73,\n",
       " 77.14,\n",
       " 93.33,\n",
       " 76.49,\n",
       " 76.86,\n",
       " 96.43,\n",
       " 95.66,\n",
       " 93.52,\n",
       " 77.6,\n",
       " 79.19,\n",
       " 81.85,\n",
       " 93.63,\n",
       " 93.52,\n",
       " 96.42,\n",
       " 92.2,\n",
       " 93.23,\n",
       " 55.28,\n",
       " 92.48,\n",
       " 87.34,\n",
       " 83.3,\n",
       " 77.18,\n",
       " 80.7,\n",
       " 77.99,\n",
       " 91.59,\n",
       " 82.69,\n",
       " 78.33,\n",
       " 40.24,\n",
       " 90.68,\n",
       " 79.17,\n",
       " 50.83,\n",
       " 81.04,\n",
       " 97.13,\n",
       " 81.74,\n",
       " 70.2,\n",
       " 93.76,\n",
       " 95.17,\n",
       " 92.94,\n",
       " 91.21,\n",
       " 96.13,\n",
       " 91.58,\n",
       " 76.61,\n",
       " 78.97,\n",
       " 90.39,\n",
       " 79.86,\n",
       " 83.53,\n",
       " 88.18,\n",
       " 77.33,\n",
       " 79.23,\n",
       " 76.58,\n",
       " 93.08,\n",
       " 47.25,\n",
       " 93.56,\n",
       " 77.08,\n",
       " 94.15,\n",
       " 84.77,\n",
       " 75.41,\n",
       " 70.71,\n",
       " 93.17,\n",
       " 93.28,\n",
       " 76.48,\n",
       " 84.71,\n",
       " 95.13,\n",
       " 96.86,\n",
       " 78.15,\n",
       " 72.2,\n",
       " 86.15,\n",
       " 86.73,\n",
       " 82.01,\n",
       " 85.83,\n",
       " 77.63,\n",
       " 83.11,\n",
       " 82.37,\n",
       " 76.73,\n",
       " 96.62,\n",
       " 92.06,\n",
       " 78.73,\n",
       " 94.08,\n",
       " 78.96,\n",
       " 92.39,\n",
       " 85.28,\n",
       " 95.91,\n",
       " 84.64,\n",
       " 79.02,\n",
       " 76.24,\n",
       " 38.01,\n",
       " 75.7,\n",
       " 96.2,\n",
       " 83.03,\n",
       " 90.46,\n",
       " 99.24,\n",
       " 76.61,\n",
       " 76.13,\n",
       " 92.38,\n",
       " 99.02,\n",
       " 92.09,\n",
       " 92.73,\n",
       " 77.37,\n",
       " 85.03,\n",
       " 75.13,\n",
       " 92.57,\n",
       " 91.84,\n",
       " 93.39,\n",
       " 95.56,\n",
       " 96.08,\n",
       " 92.41,\n",
       " 81.7,\n",
       " 93.1,\n",
       " 83.56,\n",
       " 91.54,\n",
       " 84.59,\n",
       " 94.41,\n",
       " 94.08,\n",
       " 90.6,\n",
       " 79.12,\n",
       " 93.87,\n",
       " 84.56,\n",
       " 94.01,\n",
       " 91.0,\n",
       " 81.01,\n",
       " 99.38,\n",
       " 92.51,\n",
       " 82.7,\n",
       " 73.16,\n",
       " 94.77,\n",
       " 82.9,\n",
       " 80.24,\n",
       " 90.61,\n",
       " 84.3,\n",
       " 89.43,\n",
       " 84.73,\n",
       " 82.87,\n",
       " 77.26,\n",
       " 76.58,\n",
       " 76.9,\n",
       " 90.94,\n",
       " 81.13,\n",
       " 76.93,\n",
       " 68.14,\n",
       " 94.64,\n",
       " 76.5,\n",
       " 78.02,\n",
       " 82.91,\n",
       " 76.9,\n",
       " 84.2,\n",
       " 79.73,\n",
       " 87.84,\n",
       " 83.2,\n",
       " 85.04,\n",
       " 78.42,\n",
       " 77.05,\n",
       " 90.19,\n",
       " 84.66,\n",
       " 89.28,\n",
       " 76.68,\n",
       " 96.62,\n",
       " 83.59,\n",
       " 93.22,\n",
       " 76.96,\n",
       " 74.97,\n",
       " 95.12,\n",
       " 79.75,\n",
       " 94.61,\n",
       " 89.56,\n",
       " 88.9,\n",
       " 82.24,\n",
       " 85.49,\n",
       " 78.67,\n",
       " 79.8,\n",
       " 99.41,\n",
       " 88.08,\n",
       " 86.46,\n",
       " 93.57,\n",
       " 93.97,\n",
       " 85.76,\n",
       " 84.46,\n",
       " 78.51,\n",
       " 80.15,\n",
       " 82.1,\n",
       " 73.8,\n",
       " 77.99,\n",
       " 88.2,\n",
       " 79.0,\n",
       " 84.39,\n",
       " 73.68,\n",
       " 90.8,\n",
       " 91.99,\n",
       " 99.36,\n",
       " 81.61,\n",
       " 88.44,\n",
       " 94.08,\n",
       " 93.29,\n",
       " 85.65,\n",
       " 87.36,\n",
       " 92.01,\n",
       " 82.64,\n",
       " 89.67,\n",
       " 85.18,\n",
       " 91.03,\n",
       " 93.19,\n",
       " 92.59,\n",
       " 80.37,\n",
       " 84.77,\n",
       " 59.97,\n",
       " 78.74,\n",
       " 76.86,\n",
       " 72.85,\n",
       " 89.7,\n",
       " 77.81,\n",
       " 89.89,\n",
       " 77.91,\n",
       " 75.72,\n",
       " 63.11,\n",
       " 78.79]"
      ]
     },
     "execution_count": 286,
     "metadata": {},
     "output_type": "execute_result"
    }
   ],
   "source": [
    "overall"
   ]
  },
  {
   "cell_type": "code",
   "execution_count": 289,
   "metadata": {
    "collapsed": true
   },
   "outputs": [],
   "source": [
    "for x in overall:\n",
    "    if x not in test:\n",
    "        print \"crap\"\n",
    "for y in sec_overall:\n",
    "    if y not in test:\n",
    "        print 'crap'"
   ]
  },
  {
   "cell_type": "code",
   "execution_count": 291,
   "metadata": {
    "collapsed": false
   },
   "outputs": [
    {
     "data": {
      "text/plain": [
       "count    244.000000\n",
       "mean      84.548607\n",
       "std       10.013239\n",
       "min       38.010000\n",
       "25%       78.427500\n",
       "50%       84.770000\n",
       "75%       92.625000\n",
       "max       99.410000\n",
       "dtype: float64"
      ]
     },
     "execution_count": 291,
     "metadata": {},
     "output_type": "execute_result"
    }
   ],
   "source": [
    "pd.Series(test).describe()"
   ]
  },
  {
   "cell_type": "code",
   "execution_count": null,
   "metadata": {
    "collapsed": true
   },
   "outputs": [],
   "source": [
    "#output from pd.Series(test).describe()\n",
    "#count    244.000000\n",
    "#mean      84.548607\n",
    "#std       10.013239\n",
    "#min       38.010000\n",
    "#25%       78.427500\n",
    "#50%       84.770000\n",
    "#75%       92.625000\n",
    "#max       99.410000\n",
    "#dtype: float64"
   ]
  },
  {
   "cell_type": "markdown",
   "metadata": {
    "collapsed": true
   },
   "source": [
    "# convert sam to bam"
   ]
  },
  {
   "cell_type": "code",
   "execution_count": 46,
   "metadata": {
    "collapsed": false
   },
   "outputs": [
    {
     "data": {
      "text/plain": [
       "244"
      ]
     },
     "execution_count": 46,
     "metadata": {},
     "output_type": "execute_result"
    }
   ],
   "source": [
    "#get all of the *.sam files\n",
    "DIR = '/home/lindb/wbp/concatenated/raw_mapping_samfiles/'\n",
    "sam_files = os.listdir(DIR)\n",
    "sam_files = [os.path.join(DIR,f) for f in sam_files if f.endswith('sam')]\n",
    "len(sam_files)"
   ]
  },
  {
   "cell_type": "code",
   "execution_count": 70,
   "metadata": {
    "collapsed": false
   },
   "outputs": [
    {
     "data": {
      "text/plain": [
       "'/home/lindb/wbp/concatenated/raw_mapping_samfiles/218compiled.fastq.sam'"
      ]
     },
     "execution_count": 70,
     "metadata": {},
     "output_type": "execute_result"
    }
   ],
   "source": [
    "#example\n",
    "sam_files[0]"
   ]
  },
  {
   "cell_type": "code",
   "execution_count": 75,
   "metadata": {
    "collapsed": true
   },
   "outputs": [
    {
     "data": {
      "text/plain": [
       "['/home/lindb/wbp/concatenated/raw_mapping_samfiles/009compiled.fastq.sam',\n",
       " '/home/lindb/wbp/concatenated/raw_mapping_samfiles/010compiled.fastq.sam',\n",
       " '/home/lindb/wbp/concatenated/raw_mapping_samfiles/011compiled.fastq.sam',\n",
       " '/home/lindb/wbp/concatenated/raw_mapping_samfiles/012compiled.fastq.sam',\n",
       " '/home/lindb/wbp/concatenated/raw_mapping_samfiles/013compiled.fastq.sam',\n",
       " '/home/lindb/wbp/concatenated/raw_mapping_samfiles/014compiled.fastq.sam',\n",
       " '/home/lindb/wbp/concatenated/raw_mapping_samfiles/015compiled.fastq.sam',\n",
       " '/home/lindb/wbp/concatenated/raw_mapping_samfiles/016compiled.fastq.sam',\n",
       " '/home/lindb/wbp/concatenated/raw_mapping_samfiles/017compiled.fastq.sam',\n",
       " '/home/lindb/wbp/concatenated/raw_mapping_samfiles/018compiled.fastq.sam',\n",
       " '/home/lindb/wbp/concatenated/raw_mapping_samfiles/019compiled.fastq.sam',\n",
       " '/home/lindb/wbp/concatenated/raw_mapping_samfiles/020compiled.fastq.sam',\n",
       " '/home/lindb/wbp/concatenated/raw_mapping_samfiles/021compiled.fastq.sam',\n",
       " '/home/lindb/wbp/concatenated/raw_mapping_samfiles/022compiled.fastq.sam',\n",
       " '/home/lindb/wbp/concatenated/raw_mapping_samfiles/023compiled.fastq.sam',\n",
       " '/home/lindb/wbp/concatenated/raw_mapping_samfiles/024compiled.fastq.sam',\n",
       " '/home/lindb/wbp/concatenated/raw_mapping_samfiles/025compiled.fastq.sam',\n",
       " '/home/lindb/wbp/concatenated/raw_mapping_samfiles/026compiled.fastq.sam',\n",
       " '/home/lindb/wbp/concatenated/raw_mapping_samfiles/027compiled.fastq.sam',\n",
       " '/home/lindb/wbp/concatenated/raw_mapping_samfiles/028compiled.fastq.sam',\n",
       " '/home/lindb/wbp/concatenated/raw_mapping_samfiles/029compiled.fastq.sam',\n",
       " '/home/lindb/wbp/concatenated/raw_mapping_samfiles/030compiled.fastq.sam',\n",
       " '/home/lindb/wbp/concatenated/raw_mapping_samfiles/031compiled.fastq.sam',\n",
       " '/home/lindb/wbp/concatenated/raw_mapping_samfiles/032compiled.fastq.sam',\n",
       " '/home/lindb/wbp/concatenated/raw_mapping_samfiles/033compiled.fastq.sam',\n",
       " '/home/lindb/wbp/concatenated/raw_mapping_samfiles/034compiled.fastq.sam',\n",
       " '/home/lindb/wbp/concatenated/raw_mapping_samfiles/035compiled.fastq.sam',\n",
       " '/home/lindb/wbp/concatenated/raw_mapping_samfiles/036compiled.fastq.sam',\n",
       " '/home/lindb/wbp/concatenated/raw_mapping_samfiles/037compiled.fastq.sam',\n",
       " '/home/lindb/wbp/concatenated/raw_mapping_samfiles/038compiled.fastq.sam',\n",
       " '/home/lindb/wbp/concatenated/raw_mapping_samfiles/039compiled.fastq.sam',\n",
       " '/home/lindb/wbp/concatenated/raw_mapping_samfiles/040compiled.fastq.sam',\n",
       " '/home/lindb/wbp/concatenated/raw_mapping_samfiles/041compiled.fastq.sam',\n",
       " '/home/lindb/wbp/concatenated/raw_mapping_samfiles/042compiled.fastq.sam',\n",
       " '/home/lindb/wbp/concatenated/raw_mapping_samfiles/043compiled.fastq.sam',\n",
       " '/home/lindb/wbp/concatenated/raw_mapping_samfiles/044compiled.fastq.sam',\n",
       " '/home/lindb/wbp/concatenated/raw_mapping_samfiles/045compiled.fastq.sam',\n",
       " '/home/lindb/wbp/concatenated/raw_mapping_samfiles/046compiled.fastq.sam',\n",
       " '/home/lindb/wbp/concatenated/raw_mapping_samfiles/047compiled.fastq.sam',\n",
       " '/home/lindb/wbp/concatenated/raw_mapping_samfiles/048compiled.fastq.sam',\n",
       " '/home/lindb/wbp/concatenated/raw_mapping_samfiles/049compiled.fastq.sam',\n",
       " '/home/lindb/wbp/concatenated/raw_mapping_samfiles/050compiled.fastq.sam',\n",
       " '/home/lindb/wbp/concatenated/raw_mapping_samfiles/051compiled.fastq.sam',\n",
       " '/home/lindb/wbp/concatenated/raw_mapping_samfiles/052compiled.fastq.sam',\n",
       " '/home/lindb/wbp/concatenated/raw_mapping_samfiles/053compiled.fastq.sam',\n",
       " '/home/lindb/wbp/concatenated/raw_mapping_samfiles/054compiled.fastq.sam',\n",
       " '/home/lindb/wbp/concatenated/raw_mapping_samfiles/055compiled.fastq.sam',\n",
       " '/home/lindb/wbp/concatenated/raw_mapping_samfiles/056compiled.fastq.sam',\n",
       " '/home/lindb/wbp/concatenated/raw_mapping_samfiles/057compiled.fastq.sam',\n",
       " '/home/lindb/wbp/concatenated/raw_mapping_samfiles/058compiled.fastq.sam',\n",
       " '/home/lindb/wbp/concatenated/raw_mapping_samfiles/059compiled.fastq.sam',\n",
       " '/home/lindb/wbp/concatenated/raw_mapping_samfiles/060compiled.fastq.sam',\n",
       " '/home/lindb/wbp/concatenated/raw_mapping_samfiles/061compiled.fastq.sam',\n",
       " '/home/lindb/wbp/concatenated/raw_mapping_samfiles/062compiled.fastq.sam',\n",
       " '/home/lindb/wbp/concatenated/raw_mapping_samfiles/063compiled.fastq.sam',\n",
       " '/home/lindb/wbp/concatenated/raw_mapping_samfiles/064compiled.fastq.sam',\n",
       " '/home/lindb/wbp/concatenated/raw_mapping_samfiles/065compiled.fastq.sam',\n",
       " '/home/lindb/wbp/concatenated/raw_mapping_samfiles/066compiled.fastq.sam',\n",
       " '/home/lindb/wbp/concatenated/raw_mapping_samfiles/067compiled.fastq.sam',\n",
       " '/home/lindb/wbp/concatenated/raw_mapping_samfiles/068compiled.fastq.sam',\n",
       " '/home/lindb/wbp/concatenated/raw_mapping_samfiles/069compiled.fastq.sam',\n",
       " '/home/lindb/wbp/concatenated/raw_mapping_samfiles/070compiled.fastq.sam',\n",
       " '/home/lindb/wbp/concatenated/raw_mapping_samfiles/071compiled.fastq.sam',\n",
       " '/home/lindb/wbp/concatenated/raw_mapping_samfiles/072compiled.fastq.sam',\n",
       " '/home/lindb/wbp/concatenated/raw_mapping_samfiles/073compiled.fastq.sam',\n",
       " '/home/lindb/wbp/concatenated/raw_mapping_samfiles/074compiled.fastq.sam',\n",
       " '/home/lindb/wbp/concatenated/raw_mapping_samfiles/075compiled.fastq.sam',\n",
       " '/home/lindb/wbp/concatenated/raw_mapping_samfiles/076compiled.fastq.sam',\n",
       " '/home/lindb/wbp/concatenated/raw_mapping_samfiles/078compiled.fastq.sam',\n",
       " '/home/lindb/wbp/concatenated/raw_mapping_samfiles/079compiled.fastq.sam',\n",
       " '/home/lindb/wbp/concatenated/raw_mapping_samfiles/080compiled.fastq.sam',\n",
       " '/home/lindb/wbp/concatenated/raw_mapping_samfiles/081compiled.fastq.sam',\n",
       " '/home/lindb/wbp/concatenated/raw_mapping_samfiles/082compiled.fastq.sam',\n",
       " '/home/lindb/wbp/concatenated/raw_mapping_samfiles/083compiled.fastq.sam',\n",
       " '/home/lindb/wbp/concatenated/raw_mapping_samfiles/084compiled.fastq.sam',\n",
       " '/home/lindb/wbp/concatenated/raw_mapping_samfiles/085compiled.fastq.sam',\n",
       " '/home/lindb/wbp/concatenated/raw_mapping_samfiles/086compiled.fastq.sam',\n",
       " '/home/lindb/wbp/concatenated/raw_mapping_samfiles/087compiled.fastq.sam',\n",
       " '/home/lindb/wbp/concatenated/raw_mapping_samfiles/088compiled.fastq.sam',\n",
       " '/home/lindb/wbp/concatenated/raw_mapping_samfiles/089compiled.fastq.sam',\n",
       " '/home/lindb/wbp/concatenated/raw_mapping_samfiles/090compiled.fastq.sam',\n",
       " '/home/lindb/wbp/concatenated/raw_mapping_samfiles/091compiled.fastq.sam',\n",
       " '/home/lindb/wbp/concatenated/raw_mapping_samfiles/092compiled.fastq.sam',\n",
       " '/home/lindb/wbp/concatenated/raw_mapping_samfiles/093compiled.fastq.sam',\n",
       " '/home/lindb/wbp/concatenated/raw_mapping_samfiles/094compiled.fastq.sam',\n",
       " '/home/lindb/wbp/concatenated/raw_mapping_samfiles/095compiled.fastq.sam',\n",
       " '/home/lindb/wbp/concatenated/raw_mapping_samfiles/096compiled.fastq.sam',\n",
       " '/home/lindb/wbp/concatenated/raw_mapping_samfiles/097compiled.fastq.sam',\n",
       " '/home/lindb/wbp/concatenated/raw_mapping_samfiles/098compiled.fastq.sam',\n",
       " '/home/lindb/wbp/concatenated/raw_mapping_samfiles/099compiled.fastq.sam',\n",
       " '/home/lindb/wbp/concatenated/raw_mapping_samfiles/100compiled.fastq.sam',\n",
       " '/home/lindb/wbp/concatenated/raw_mapping_samfiles/101compiled.fastq.sam',\n",
       " '/home/lindb/wbp/concatenated/raw_mapping_samfiles/102compiled.fastq.sam',\n",
       " '/home/lindb/wbp/concatenated/raw_mapping_samfiles/103compiled.fastq.sam',\n",
       " '/home/lindb/wbp/concatenated/raw_mapping_samfiles/104compiled.fastq.sam',\n",
       " '/home/lindb/wbp/concatenated/raw_mapping_samfiles/105compiled.fastq.sam',\n",
       " '/home/lindb/wbp/concatenated/raw_mapping_samfiles/106compiled.fastq.sam',\n",
       " '/home/lindb/wbp/concatenated/raw_mapping_samfiles/107compiled.fastq.sam',\n",
       " '/home/lindb/wbp/concatenated/raw_mapping_samfiles/108compiled.fastq.sam',\n",
       " '/home/lindb/wbp/concatenated/raw_mapping_samfiles/109compiled.fastq.sam',\n",
       " '/home/lindb/wbp/concatenated/raw_mapping_samfiles/110compiled.fastq.sam',\n",
       " '/home/lindb/wbp/concatenated/raw_mapping_samfiles/111compiled.fastq.sam',\n",
       " '/home/lindb/wbp/concatenated/raw_mapping_samfiles/112compiled.fastq.sam',\n",
       " '/home/lindb/wbp/concatenated/raw_mapping_samfiles/113compiled.fastq.sam',\n",
       " '/home/lindb/wbp/concatenated/raw_mapping_samfiles/114compiled.fastq.sam',\n",
       " '/home/lindb/wbp/concatenated/raw_mapping_samfiles/115compiled.fastq.sam',\n",
       " '/home/lindb/wbp/concatenated/raw_mapping_samfiles/116compiled.fastq.sam',\n",
       " '/home/lindb/wbp/concatenated/raw_mapping_samfiles/117compiled.fastq.sam',\n",
       " '/home/lindb/wbp/concatenated/raw_mapping_samfiles/118compiled.fastq.sam',\n",
       " '/home/lindb/wbp/concatenated/raw_mapping_samfiles/119compiled.fastq.sam',\n",
       " '/home/lindb/wbp/concatenated/raw_mapping_samfiles/120compiled.fastq.sam',\n",
       " '/home/lindb/wbp/concatenated/raw_mapping_samfiles/121compiled.fastq.sam',\n",
       " '/home/lindb/wbp/concatenated/raw_mapping_samfiles/122compiled.fastq.sam',\n",
       " '/home/lindb/wbp/concatenated/raw_mapping_samfiles/123compiled.fastq.sam',\n",
       " '/home/lindb/wbp/concatenated/raw_mapping_samfiles/124compiled.fastq.sam',\n",
       " '/home/lindb/wbp/concatenated/raw_mapping_samfiles/125compiled.fastq.sam',\n",
       " '/home/lindb/wbp/concatenated/raw_mapping_samfiles/126compiled.fastq.sam',\n",
       " '/home/lindb/wbp/concatenated/raw_mapping_samfiles/127compiled.fastq.sam',\n",
       " '/home/lindb/wbp/concatenated/raw_mapping_samfiles/128compiled.fastq.sam',\n",
       " '/home/lindb/wbp/concatenated/raw_mapping_samfiles/129compiled.fastq.sam',\n",
       " '/home/lindb/wbp/concatenated/raw_mapping_samfiles/130compiled.fastq.sam',\n",
       " '/home/lindb/wbp/concatenated/raw_mapping_samfiles/131compiled.fastq.sam',\n",
       " '/home/lindb/wbp/concatenated/raw_mapping_samfiles/132compiled.fastq.sam',\n",
       " '/home/lindb/wbp/concatenated/raw_mapping_samfiles/133compiled.fastq.sam',\n",
       " '/home/lindb/wbp/concatenated/raw_mapping_samfiles/134compiled.fastq.sam',\n",
       " '/home/lindb/wbp/concatenated/raw_mapping_samfiles/135compiled.fastq.sam',\n",
       " '/home/lindb/wbp/concatenated/raw_mapping_samfiles/136compiled.fastq.sam',\n",
       " '/home/lindb/wbp/concatenated/raw_mapping_samfiles/137compiled.fastq.sam',\n",
       " '/home/lindb/wbp/concatenated/raw_mapping_samfiles/139compiled.fastq.sam',\n",
       " '/home/lindb/wbp/concatenated/raw_mapping_samfiles/140compiled.fastq.sam',\n",
       " '/home/lindb/wbp/concatenated/raw_mapping_samfiles/141compiled.fastq.sam',\n",
       " '/home/lindb/wbp/concatenated/raw_mapping_samfiles/142compiled.fastq.sam',\n",
       " '/home/lindb/wbp/concatenated/raw_mapping_samfiles/143compiled.fastq.sam',\n",
       " '/home/lindb/wbp/concatenated/raw_mapping_samfiles/144compiled.fastq.sam',\n",
       " '/home/lindb/wbp/concatenated/raw_mapping_samfiles/145compiled.fastq.sam',\n",
       " '/home/lindb/wbp/concatenated/raw_mapping_samfiles/146compiled.fastq.sam',\n",
       " '/home/lindb/wbp/concatenated/raw_mapping_samfiles/147compiled.fastq.sam',\n",
       " '/home/lindb/wbp/concatenated/raw_mapping_samfiles/148compiled.fastq.sam',\n",
       " '/home/lindb/wbp/concatenated/raw_mapping_samfiles/149compiled.fastq.sam',\n",
       " '/home/lindb/wbp/concatenated/raw_mapping_samfiles/150compiled.fastq.sam',\n",
       " '/home/lindb/wbp/concatenated/raw_mapping_samfiles/151compiled.fastq.sam',\n",
       " '/home/lindb/wbp/concatenated/raw_mapping_samfiles/152compiled.fastq.sam',\n",
       " '/home/lindb/wbp/concatenated/raw_mapping_samfiles/153compiled.fastq.sam',\n",
       " '/home/lindb/wbp/concatenated/raw_mapping_samfiles/154compiled.fastq.sam',\n",
       " '/home/lindb/wbp/concatenated/raw_mapping_samfiles/155compiled.fastq.sam',\n",
       " '/home/lindb/wbp/concatenated/raw_mapping_samfiles/156compiled.fastq.sam',\n",
       " '/home/lindb/wbp/concatenated/raw_mapping_samfiles/157compiled.fastq.sam',\n",
       " '/home/lindb/wbp/concatenated/raw_mapping_samfiles/158compiled.fastq.sam',\n",
       " '/home/lindb/wbp/concatenated/raw_mapping_samfiles/159compiled.fastq.sam',\n",
       " '/home/lindb/wbp/concatenated/raw_mapping_samfiles/160compiled.fastq.sam',\n",
       " '/home/lindb/wbp/concatenated/raw_mapping_samfiles/161compiled.fastq.sam',\n",
       " '/home/lindb/wbp/concatenated/raw_mapping_samfiles/163compiled.fastq.sam',\n",
       " '/home/lindb/wbp/concatenated/raw_mapping_samfiles/164compiled.fastq.sam',\n",
       " '/home/lindb/wbp/concatenated/raw_mapping_samfiles/165compiled.fastq.sam',\n",
       " '/home/lindb/wbp/concatenated/raw_mapping_samfiles/166compiled.fastq.sam',\n",
       " '/home/lindb/wbp/concatenated/raw_mapping_samfiles/167compiled.fastq.sam',\n",
       " '/home/lindb/wbp/concatenated/raw_mapping_samfiles/168compiled.fastq.sam',\n",
       " '/home/lindb/wbp/concatenated/raw_mapping_samfiles/169compiled.fastq.sam',\n",
       " '/home/lindb/wbp/concatenated/raw_mapping_samfiles/170compiled.fastq.sam',\n",
       " '/home/lindb/wbp/concatenated/raw_mapping_samfiles/171compiled.fastq.sam',\n",
       " '/home/lindb/wbp/concatenated/raw_mapping_samfiles/172compiled.fastq.sam',\n",
       " '/home/lindb/wbp/concatenated/raw_mapping_samfiles/173compiled.fastq.sam',\n",
       " '/home/lindb/wbp/concatenated/raw_mapping_samfiles/174compiled.fastq.sam',\n",
       " '/home/lindb/wbp/concatenated/raw_mapping_samfiles/175compiled.fastq.sam',\n",
       " '/home/lindb/wbp/concatenated/raw_mapping_samfiles/177compiled.fastq.sam',\n",
       " '/home/lindb/wbp/concatenated/raw_mapping_samfiles/178compiled.fastq.sam',\n",
       " '/home/lindb/wbp/concatenated/raw_mapping_samfiles/179compiled.fastq.sam',\n",
       " '/home/lindb/wbp/concatenated/raw_mapping_samfiles/180compiled.fastq.sam',\n",
       " '/home/lindb/wbp/concatenated/raw_mapping_samfiles/181compiled.fastq.sam',\n",
       " '/home/lindb/wbp/concatenated/raw_mapping_samfiles/182compiled.fastq.sam',\n",
       " '/home/lindb/wbp/concatenated/raw_mapping_samfiles/183compiled.fastq.sam',\n",
       " '/home/lindb/wbp/concatenated/raw_mapping_samfiles/184compiled.fastq.sam',\n",
       " '/home/lindb/wbp/concatenated/raw_mapping_samfiles/185compiled.fastq.sam',\n",
       " '/home/lindb/wbp/concatenated/raw_mapping_samfiles/186compiled.fastq.sam',\n",
       " '/home/lindb/wbp/concatenated/raw_mapping_samfiles/187compiled.fastq.sam',\n",
       " '/home/lindb/wbp/concatenated/raw_mapping_samfiles/188compiled.fastq.sam',\n",
       " '/home/lindb/wbp/concatenated/raw_mapping_samfiles/189compiled.fastq.sam',\n",
       " '/home/lindb/wbp/concatenated/raw_mapping_samfiles/190compiled.fastq.sam',\n",
       " '/home/lindb/wbp/concatenated/raw_mapping_samfiles/191compiled.fastq.sam',\n",
       " '/home/lindb/wbp/concatenated/raw_mapping_samfiles/192compiled.fastq.sam',\n",
       " '/home/lindb/wbp/concatenated/raw_mapping_samfiles/193compiled.fastq.sam',\n",
       " '/home/lindb/wbp/concatenated/raw_mapping_samfiles/194compiled.fastq.sam',\n",
       " '/home/lindb/wbp/concatenated/raw_mapping_samfiles/195compiled.fastq.sam',\n",
       " '/home/lindb/wbp/concatenated/raw_mapping_samfiles/196compiled.fastq.sam',\n",
       " '/home/lindb/wbp/concatenated/raw_mapping_samfiles/197compiled.fastq.sam',\n",
       " '/home/lindb/wbp/concatenated/raw_mapping_samfiles/198compiled.fastq.sam',\n",
       " '/home/lindb/wbp/concatenated/raw_mapping_samfiles/199compiled.fastq.sam',\n",
       " '/home/lindb/wbp/concatenated/raw_mapping_samfiles/200compiled.fastq.sam',\n",
       " '/home/lindb/wbp/concatenated/raw_mapping_samfiles/201compiled.fastq.sam',\n",
       " '/home/lindb/wbp/concatenated/raw_mapping_samfiles/202compiled.fastq.sam',\n",
       " '/home/lindb/wbp/concatenated/raw_mapping_samfiles/203compiled.fastq.sam',\n",
       " '/home/lindb/wbp/concatenated/raw_mapping_samfiles/204compiled.fastq.sam',\n",
       " '/home/lindb/wbp/concatenated/raw_mapping_samfiles/205compiled.fastq.sam',\n",
       " '/home/lindb/wbp/concatenated/raw_mapping_samfiles/206compiled.fastq.sam',\n",
       " '/home/lindb/wbp/concatenated/raw_mapping_samfiles/207compiled.fastq.sam',\n",
       " '/home/lindb/wbp/concatenated/raw_mapping_samfiles/208compiled.fastq.sam',\n",
       " '/home/lindb/wbp/concatenated/raw_mapping_samfiles/209compiled.fastq.sam',\n",
       " '/home/lindb/wbp/concatenated/raw_mapping_samfiles/210compiled.fastq.sam',\n",
       " '/home/lindb/wbp/concatenated/raw_mapping_samfiles/211compiled.fastq.sam',\n",
       " '/home/lindb/wbp/concatenated/raw_mapping_samfiles/212compiled.fastq.sam',\n",
       " '/home/lindb/wbp/concatenated/raw_mapping_samfiles/213compiled.fastq.sam',\n",
       " '/home/lindb/wbp/concatenated/raw_mapping_samfiles/214compiled.fastq.sam',\n",
       " '/home/lindb/wbp/concatenated/raw_mapping_samfiles/215compiled.fastq.sam',\n",
       " '/home/lindb/wbp/concatenated/raw_mapping_samfiles/216compiled.fastq.sam',\n",
       " '/home/lindb/wbp/concatenated/raw_mapping_samfiles/217compiled.fastq.sam',\n",
       " '/home/lindb/wbp/concatenated/raw_mapping_samfiles/218compiled.fastq.sam',\n",
       " '/home/lindb/wbp/concatenated/raw_mapping_samfiles/219compiled.fastq.sam',\n",
       " '/home/lindb/wbp/concatenated/raw_mapping_samfiles/220compiled.fastq.sam',\n",
       " '/home/lindb/wbp/concatenated/raw_mapping_samfiles/221compiled.fastq.sam',\n",
       " '/home/lindb/wbp/concatenated/raw_mapping_samfiles/222compiled.fastq.sam',\n",
       " '/home/lindb/wbp/concatenated/raw_mapping_samfiles/223compiled.fastq.sam',\n",
       " '/home/lindb/wbp/concatenated/raw_mapping_samfiles/224compiled.fastq.sam',\n",
       " '/home/lindb/wbp/concatenated/raw_mapping_samfiles/225compiled.fastq.sam',\n",
       " '/home/lindb/wbp/concatenated/raw_mapping_samfiles/226compiled.fastq.sam',\n",
       " '/home/lindb/wbp/concatenated/raw_mapping_samfiles/227compiled.fastq.sam',\n",
       " '/home/lindb/wbp/concatenated/raw_mapping_samfiles/228compiled.fastq.sam',\n",
       " '/home/lindb/wbp/concatenated/raw_mapping_samfiles/229compiled.fastq.sam',\n",
       " '/home/lindb/wbp/concatenated/raw_mapping_samfiles/230compiled.fastq.sam',\n",
       " '/home/lindb/wbp/concatenated/raw_mapping_samfiles/231compiled.fastq.sam',\n",
       " '/home/lindb/wbp/concatenated/raw_mapping_samfiles/232compiled.fastq.sam',\n",
       " '/home/lindb/wbp/concatenated/raw_mapping_samfiles/233compiled.fastq.sam',\n",
       " '/home/lindb/wbp/concatenated/raw_mapping_samfiles/234compiled.fastq.sam',\n",
       " '/home/lindb/wbp/concatenated/raw_mapping_samfiles/235compiled.fastq.sam',\n",
       " '/home/lindb/wbp/concatenated/raw_mapping_samfiles/236compiled.fastq.sam',\n",
       " '/home/lindb/wbp/concatenated/raw_mapping_samfiles/237compiled.fastq.sam',\n",
       " '/home/lindb/wbp/concatenated/raw_mapping_samfiles/238compiled.fastq.sam',\n",
       " '/home/lindb/wbp/concatenated/raw_mapping_samfiles/239compiled.fastq.sam',\n",
       " '/home/lindb/wbp/concatenated/raw_mapping_samfiles/240compiled.fastq.sam',\n",
       " '/home/lindb/wbp/concatenated/raw_mapping_samfiles/241compiled.fastq.sam',\n",
       " '/home/lindb/wbp/concatenated/raw_mapping_samfiles/242compiled.fastq.sam',\n",
       " '/home/lindb/wbp/concatenated/raw_mapping_samfiles/243compiled.fastq.sam',\n",
       " '/home/lindb/wbp/concatenated/raw_mapping_samfiles/244compiled.fastq.sam',\n",
       " '/home/lindb/wbp/concatenated/raw_mapping_samfiles/245compiled.fastq.sam',\n",
       " '/home/lindb/wbp/concatenated/raw_mapping_samfiles/246compiled.fastq.sam',\n",
       " '/home/lindb/wbp/concatenated/raw_mapping_samfiles/247compiled.fastq.sam',\n",
       " '/home/lindb/wbp/concatenated/raw_mapping_samfiles/248compiled.fastq.sam',\n",
       " '/home/lindb/wbp/concatenated/raw_mapping_samfiles/249compiled.fastq.sam',\n",
       " '/home/lindb/wbp/concatenated/raw_mapping_samfiles/250compiled.fastq.sam',\n",
       " '/home/lindb/wbp/concatenated/raw_mapping_samfiles/251compiled.fastq.sam',\n",
       " '/home/lindb/wbp/concatenated/raw_mapping_samfiles/252compiled.fastq.sam',\n",
       " '/home/lindb/wbp/concatenated/raw_mapping_samfiles/253compiled.fastq.sam',\n",
       " '/home/lindb/wbp/concatenated/raw_mapping_samfiles/254compiled.fastq.sam',\n",
       " '/home/lindb/wbp/concatenated/raw_mapping_samfiles/255compiled.fastq.sam',\n",
       " '/home/lindb/wbp/concatenated/raw_mapping_samfiles/256compiled.fastq.sam']"
      ]
     },
     "execution_count": 75,
     "metadata": {},
     "output_type": "execute_result"
    }
   ],
   "source": [
    "sorted(sam_files)"
   ]
  },
  {
   "cell_type": "code",
   "execution_count": 76,
   "metadata": {
    "collapsed": false
   },
   "outputs": [
    {
     "name": "stdout",
     "output_type": "stream",
     "text": [
      "/home/lindb/wbp/concatenated/raw_mapping_samfiles/218compiled.fastq.sam\n",
      "/home/lindb/wbp/concatenated/raw_mapping_samfiles/218compiled.fastq.bam\n",
      "/home/lindb/wbp/concatenated/raw_mapping_samfiles/218compiled.fastq_sorted.bam\n",
      "/home/lindb/wbp/concatenated/raw_mapping_samfiles/218compiled.fastq_sorted.bai\n"
     ]
    }
   ],
   "source": [
    "#to make sure function will name like I want it to\n",
    "sam = sam_files[0]\n",
    "bam = sam.replace(\".sam\", \".bam\")\n",
    "bam_sorted = \"%s_sorted.bam\" % bam.replace(\".bam\", \"\")\n",
    "bam_index = bam_sorted.replace(\".bam\", \".bai\")\n",
    "print sam\n",
    "print bam\n",
    "print bam_sorted\n",
    "print bam_index\n",
    "del sam,bam,bam_sorted,bam_index"
   ]
  },
  {
   "cell_type": "code",
   "execution_count": 50,
   "metadata": {
    "collapsed": false
   },
   "outputs": [],
   "source": [
    "@lview.remote()\n",
    "def convert_sam_to_bam(sam):\n",
    "    import stopwatch, multiprocessing, os\n",
    "    timer = stopwatch.Timer()\n",
    "    cpus = multiprocessing.cpu_count()\n",
    "    bam = sam.replace(\".sam\", \".bam\")\n",
    "    bam_sorted = \"%s_sorted.bam\" % bam.replace(\".bam\", \"\")\n",
    "    bam_index = bam_sorted.replace(\".bam\", \".bai\")\n",
    "    if not os.path.exists(bam):\n",
    "        !samtools view -bS $sam > $bam\n",
    "#    if os.path.exists(bam):\n",
    "#        if not os.path.exists(bam_sorted):\n",
    "#            !samtools sort -@ $cpus $bam -o $bam_sorted\n",
    "#    if os.path.exists(bam_sorted):\n",
    "#        if not os.path.exists(bam_index):\n",
    "#            !samtools index $bam_sorted $bam_index\n",
    "    timer.stop()\n",
    "    return bam, bam_sorted, bam_index, timer.elapsed"
   ]
  },
  {
   "cell_type": "code",
   "execution_count": 51,
   "metadata": {
    "collapsed": false
   },
   "outputs": [],
   "source": [
    "#convert *.sam to *.bam\n",
    "sam_bam_jobs = []\n",
    "for f in sam_files:\n",
    "    sam_bam_jobs.append(convert_sam_to_bam(os.path.abspath(f)))"
   ]
  },
  {
   "cell_type": "code",
   "execution_count": 201,
   "metadata": {
    "collapsed": false
   },
   "outputs": [
    {
     "data": {
      "text/plain": [
       "(244, 244)"
      ]
     },
     "execution_count": 201,
     "metadata": {},
     "output_type": "execute_result"
    }
   ],
   "source": [
    "count = 0\n",
    "for j in sam_bam_jobs:\n",
    "    if j.ready():\n",
    "        count += 1\n",
    "count,len(sam_bam_jobs)        "
   ]
  },
  {
   "cell_type": "code",
   "execution_count": 202,
   "metadata": {
    "collapsed": false
   },
   "outputs": [
    {
     "data": {
      "text/plain": [
       "(0, 244)"
      ]
     },
     "execution_count": 202,
     "metadata": {},
     "output_type": "execute_result"
    }
   ],
   "source": [
    "#make sure there are no errors!\n",
    "count = 0\n",
    "ecount = 0\n",
    "rcount = 0\n",
    "for j in sam_bam_jobs:\n",
    "    if j.ready():\n",
    "        rcount += 1\n",
    "        try:\n",
    "            hey = j.r\n",
    "            #print j.r\n",
    "        except Exception as E:\n",
    "            print \"%s engine died\" % os.path.basename(sam_files[count]).split(\".\")[0]\n",
    "            print E, '\\n'\n",
    "            ecount += 1\n",
    "            #print E,'\\n'\n",
    "        #print files[count].split(\"/\")[-1]\n",
    "        #print res\n",
    "        res = \"\"\n",
    "    count += 1\n",
    "ecount, rcount"
   ]
  },
  {
   "cell_type": "code",
   "execution_count": 229,
   "metadata": {
    "collapsed": false
   },
   "outputs": [
    {
     "data": {
      "text/plain": [
       "244"
      ]
     },
     "execution_count": 229,
     "metadata": {},
     "output_type": "execute_result"
    }
   ],
   "source": [
    "#get bam files\n",
    "bam_files = os.listdir(DIR)\n",
    "bam_files = [os.path.join(DIR,f) for f in bam_files if f.endswith('q.bam')]\n",
    "len(bam_files)"
   ]
  },
  {
   "cell_type": "code",
   "execution_count": 252,
   "metadata": {
    "collapsed": false
   },
   "outputs": [],
   "source": [
    "count = 0\n",
    "for bam in bam_files:\n",
    "    bam_sorted = \"%s_sorted.bam\" % bam.replace(\".bam\", \"\")\n",
    "    if not os.path.exists(bam_sorted):        \n",
    "        num = os.path.basename(bam)[:3]\n",
    "        text = '''#!/bin/bash\n",
    "#$ -N run%s\n",
    "#$ -V\n",
    "#$ -j y\n",
    "#$ -cwd\n",
    "\n",
    "cd /home/lindb/wbp/concatenated/raw_mapping_samfiles/\n",
    "samtools sort -@ 24 %s -o %s\n",
    "''' % (num,bam,bam_sorted)\n",
    "        f = \"sort%s.sh\" % str(num)\n",
    "        filE = '/home/lindb/wbp/concatenated/raw_mapping_samfiles/sortrunfiles/%s' % f\n",
    "        with open(filE,'w') as o:\n",
    "            o.write(\"%s\" % text)    "
   ]
  },
  {
   "cell_type": "code",
   "execution_count": 294,
   "metadata": {
    "collapsed": true
   },
   "outputs": [],
   "source": [
    "@lview.remote()\n",
    "def index_sorted_bams(bam_sorted):\n",
    "    import stopwatch, multiprocessing, os\n",
    "    timer = stopwatch.Timer()\n",
    "    cpus = multiprocessing.cpu_count() \n",
    "    bam_index = bam_sorted.replace(\".bam\", \".bai\")\n",
    "    if not os.path.exists(bam_index):\n",
    "        !samtools index $bam_sorted $bam_index    \n",
    "    timer.stop()\n",
    "    return bam_sorted, bam_index, timer.elapsed            "
   ]
  },
  {
   "cell_type": "code",
   "execution_count": 302,
   "metadata": {
    "collapsed": false
   },
   "outputs": [
    {
     "data": {
      "text/plain": [
       "244"
      ]
     },
     "execution_count": 302,
     "metadata": {},
     "output_type": "execute_result"
    }
   ],
   "source": [
    "sorted_bams = os.listdir(DIR)\n",
    "sorted_bams = [os.path.join(DIR,f) for f in sorted_bams if 'sorted.bam' in f]\n",
    "len(sorted_bams)"
   ]
  },
  {
   "cell_type": "code",
   "execution_count": 304,
   "metadata": {
    "collapsed": false
   },
   "outputs": [
    {
     "name": "stdout",
     "output_type": "stream",
     "text": [
      "/home/lindb/wbp/concatenated/raw_mapping_samfiles/203compiled.fastq_sorted.bam\n"
     ]
    }
   ],
   "source": [
    "for bam_sorted in sorted_bams:\n",
    "    print bam_sorted\n",
    "    break"
   ]
  },
  {
   "cell_type": "code",
   "execution_count": 306,
   "metadata": {
    "collapsed": true
   },
   "outputs": [],
   "source": [
    "count = 0\n",
    "for bam_sorted in sorted_bams:\n",
    "    bam_index = bam_sorted.replace(\".bam\", \".bai\")\n",
    "    if not os.path.exists(bam_index):        \n",
    "        num = os.path.basename(bam_sorted)[:3]\n",
    "        text = '''#!/bin/bash\n",
    "#$ -N run%s\n",
    "#$ -V\n",
    "#$ -j y\n",
    "#$ -cwd\n",
    "\n",
    "cd /home/lindb/wbp/concatenated/raw_mapping_samfiles/\n",
    "samtools index %s %s\n",
    "''' % (num,bam_sorted,bam_index)\n",
    "        f = \"index%s.sh\" % str(num)\n",
    "        filE = '/home/lindb/wbp/concatenated/raw_mapping_samfiles/sortrunfiles/%s' % f\n",
    "        with open(filE,'w') as o:\n",
    "            o.write(\"%s\" % text)    "
   ]
  },
  {
   "cell_type": "markdown",
   "metadata": {},
   "source": [
    "# add rg info"
   ]
  },
  {
   "cell_type": "code",
   "execution_count": 307,
   "metadata": {
    "collapsed": true
   },
   "outputs": [],
   "source": [
    "from collections import OrderedDict"
   ]
  },
  {
   "cell_type": "code",
   "execution_count": 308,
   "metadata": {
    "collapsed": false
   },
   "outputs": [
    {
     "data": {
      "text/plain": [
       "['/home/lindb/wbp/raw_reads/barcodefiles/1_1_150bp_barcodes.txt',\n",
       " '/home/lindb/wbp/raw_reads/barcodefiles/2_1_150bp_barcodes.txt',\n",
       " '/home/lindb/wbp/raw_reads/barcodefiles/3_1_150bp_barcodes.txt']"
      ]
     },
     "execution_count": 308,
     "metadata": {},
     "output_type": "execute_result"
    }
   ],
   "source": [
    "#get files containing library and barcode IDs for each sample\n",
    "bdir = '/home/lindb/wbp/raw_reads/barcodefiles/' \n",
    "bfiles = os.listdir(bdir)\n",
    "bfiles = [os.path.join(bdir,f) for f in bfiles]\n",
    "barfiles = []\n",
    "libs = []\n",
    "for f in bfiles:\n",
    "    lib = os.path.basename(f).split(\"_\")[0]\n",
    "    if lib not in libs:\n",
    "        libs.append(lib)\n",
    "        barfiles.append(f)\n",
    "barfiles"
   ]
  },
  {
   "cell_type": "code",
   "execution_count": 309,
   "metadata": {
    "collapsed": false
   },
   "outputs": [
    {
     "data": {
      "text/plain": [
       "244"
      ]
     },
     "execution_count": 309,
     "metadata": {},
     "output_type": "execute_result"
    }
   ],
   "source": [
    "#grab libID and barcodeID for each sample from the files\n",
    "badids = ['NA','nan','5_b11','8_a3','8_a4','8_a6','8_a7','2_a7','2_a9','5_b11','5_b9']\n",
    "rgDict = OrderedDict()\n",
    "for f in barfiles:\n",
    "    df = pd.read_csv(f,header=0,sep=\"\\t\")\n",
    "    lib = \"lib%s\" % str(os.path.basename(f).split(\"_\")[0])\n",
    "    for row in df.index:\n",
    "        samp = str(df.loc[row,'sample.ID'])\n",
    "        while len(samp) < 3:\n",
    "            samp = '0%s' % samp\n",
    "        if samp not in badids:\n",
    "            rgDict[samp] = OrderedDict()\n",
    "            bc = df.loc[row,'barcode2'].replace(\"CTCTTTCCCTACACGACGCTCTTCCGATCT\", \"\")[:-1]\n",
    "            #print samp,bc\n",
    "            rgDict[samp]['lib'] = lib\n",
    "            rgDict[samp]['bc'] = bc\n",
    "len(rgDict.keys())"
   ]
  },
  {
   "cell_type": "code",
   "execution_count": 310,
   "metadata": {
    "collapsed": false
   },
   "outputs": [
    {
     "data": {
      "text/plain": [
       "96"
      ]
     },
     "execution_count": 310,
     "metadata": {},
     "output_type": "execute_result"
    }
   ],
   "source": [
    "bcs = []\n",
    "for samp in rgDict.keys():\n",
    "    if rgDict[samp]['bc'] not in bcs:\n",
    "        bcs.append(rgDict[samp]['bc'])\n",
    "len(bcs)    #should be 96!!!!    "
   ]
  },
  {
   "cell_type": "code",
   "execution_count": 311,
   "metadata": {
    "collapsed": false
   },
   "outputs": [
    {
     "name": "stdout",
     "output_type": "stream",
     "text": [
      "base= ['218compiled', 'fastq_sorted', 'bam']\n",
      "bam_rg= /home/lindb/wbp/concatenated/raw_mapping_samfiles/218compiled.fastq_sorted_rg.bam\n",
      "rglb= lib1\n",
      "rgpu= ggtaggaa\n",
      "rgsm = 218compiled\n",
      "rgid= lib1_218compiled_ggtaggaa\n"
     ]
    }
   ],
   "source": [
    "#take a look to see how function will work\n",
    "bam = '/home/lindb/wbp/concatenated/raw_mapping_samfiles/218compiled.fastq_sorted.bam'\n",
    "base = os.path.basename(bam).split(\".\")\n",
    "samp = base[0][:3]\n",
    "bam_rg = bam.replace(\".bam\", \"_rg.bam\")\n",
    "rglb = rgDict[samp]['lib'] #lib ID\n",
    "rgpu = rgDict[samp]['bc']  #barcode ID\n",
    "rgsm = base[0]\n",
    "rgid = \"_\".join([rglb,rgsm,rgpu])\n",
    "print \"base=\",base\n",
    "print \"bam_rg=\",bam_rg\n",
    "print \"rglb=\",rglb #population ID\n",
    "print 'rgpu=',rgpu\n",
    "print 'rgsm =',rgsm\n",
    "print 'rgid=',rgid\n",
    "del bam, base,samp,bam_rg,rglb,rgpu,rgsm,rgid"
   ]
  },
  {
   "cell_type": "code",
   "execution_count": 958,
   "metadata": {
    "collapsed": false
   },
   "outputs": [],
   "source": [
    "@lview.remote()\n",
    "def add_rg_info_to_bam(args):\n",
    "    rgDict , bam = args\n",
    "    import os\n",
    "    cmd = \"java -jar /home/lindb/g/src/picard-tools-1.130/picard.jar AddOrReplaceReadGroups\"\n",
    "    base = os.path.basename(bam).split(\".\")\n",
    "    samp = base[0][:3]\n",
    "    bam_rg = bam.replace(\".bam\", \"_rg.bam\")\n",
    "    rglb = rgDict[samp]['lib']    #libID\n",
    "    rgpu = rgDict[samp]['bc']     #barcodeID\n",
    "    rgsm = base[0]                #sampID\n",
    "    rgid = \"_\".join([rglb,rgsm,rgpu])  #sampID_barcodeID\n",
    "    rg_string = \"RGID=%s RGLB=%s RGPL=illumina RGPU=%s RGSM=%s\" % (rgid,\n",
    "                                                                   rglb,\n",
    "                                                                   rgpu,\n",
    "                                                                   rgsm)\n",
    "    cmd = \"%s INPUT=%s OUTPUT=%s %s CREATE_INDEX=true\" % (cmd,bam,bam_rg,rg_string)\n",
    "    print cmd\n",
    "    if not os.path.exists(bam_rg):\n",
    "        !$cmd\n",
    "    return bam_rg, rg_string, cmd"
   ]
  },
  {
   "cell_type": "code",
   "execution_count": 360,
   "metadata": {
    "collapsed": false
   },
   "outputs": [
    {
     "data": {
      "text/plain": [
       "244"
      ]
     },
     "execution_count": 360,
     "metadata": {},
     "output_type": "execute_result"
    }
   ],
   "source": [
    "#get sorted.bam files\n",
    "DIR = '/home/lindb/wbp/concatenated/raw_mapping_samfiles/'\n",
    "sorted_bams = os.listdir(DIR)\n",
    "sorted_bams = [os.path.join(DIR,f) for f in sorted_bams if 'sorted.bam' in f]\n",
    "len(sorted_bams)"
   ]
  },
  {
   "cell_type": "code",
   "execution_count": 960,
   "metadata": {
    "collapsed": false
   },
   "outputs": [],
   "source": [
    "rg_lst = []\n",
    "for f in sorted_bams:\n",
    "    rg_lst.append(add_rg_info_to_bam([rgDict,f]))"
   ]
  },
  {
   "cell_type": "code",
   "execution_count": 1072,
   "metadata": {
    "collapsed": false
   },
   "outputs": [
    {
     "name": "stdout",
     "output_type": "stream",
     "text": [
      "(244, 244)\n"
     ]
    }
   ],
   "source": [
    "rcount = 0\n",
    "for j in rg_lst:\n",
    "    if j.ready():\n",
    "        rcount += 1\n",
    "rcount,len(rg_lst)"
   ]
  },
  {
   "cell_type": "code",
   "execution_count": 1071,
   "metadata": {
    "collapsed": true
   },
   "outputs": [],
   "source": [
    "for f in sorted_bams:\n",
    "    rg_bai = f.replace(\".bam\",\"_rg.bai\")\n",
    "    rg_bam = rg_bai.replace(\".bai\",\".bam\")\n",
    "    if not os.path.exists(rg_bai):\n",
    "        print 'bai',f\n",
    "    if not os.path.exists(rg_bam):\n",
    "        print 'bam',f"
   ]
  },
  {
   "cell_type": "code",
   "execution_count": null,
   "metadata": {
    "collapsed": true
   },
   "outputs": [],
   "source": []
  }
 ],
 "metadata": {
  "kernelspec": {
   "display_name": "Python 2",
   "language": "python",
   "name": "python2"
  },
  "language_info": {
   "codemirror_mode": {
    "name": "ipython",
    "version": 2
   },
   "file_extension": ".py",
   "mimetype": "text/x-python",
   "name": "python",
   "nbconvert_exporter": "python",
   "pygments_lexer": "ipython2",
   "version": "2.7.11"
  }
 },
 "nbformat": 4,
 "nbformat_minor": 0
}
