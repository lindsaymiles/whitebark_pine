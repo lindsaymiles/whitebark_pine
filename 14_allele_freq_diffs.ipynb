{
 "cells": [
  {
   "cell_type": "markdown",
   "metadata": {
    "collapsed": false
   },
   "source": [
    "##### import os\n",
    "from collections import OrderedDict,Counter,defaultdict\n",
    "import collections\n",
    "from __future__ import division\n",
    "import pandas as pd\n",
    "import numpy as np\n",
    "import vcf\n",
    "from operator import itemgetter\n",
    "import random\n",
    "import math\n",
    "from os import path as op\n",
    "from os import listdir as ls\n",
    "from IPython.display import display"
   ]
  },
  {
   "cell_type": "code",
   "execution_count": 219,
   "metadata": {
    "collapsed": true
   },
   "outputs": [],
   "source": [
    "import skbio"
   ]
  },
  {
   "cell_type": "code",
   "execution_count": 220,
   "metadata": {
    "collapsed": true
   },
   "outputs": [],
   "source": [
    "from skbio.stats.distance import mantel\n"
   ]
  },
  {
   "cell_type": "code",
   "execution_count": 223,
   "metadata": {
    "collapsed": false
   },
   "outputs": [
    {
     "name": "stdout",
     "output_type": "stream",
     "text": [
      "0.4.2\n"
     ]
    }
   ],
   "source": [
    "print skbio.__version__"
   ]
  },
  {
   "cell_type": "markdown",
   "metadata": {},
   "source": [
    "# do for 8 pops"
   ]
  },
  {
   "cell_type": "code",
   "execution_count": 33,
   "metadata": {
    "collapsed": true
   },
   "outputs": [],
   "source": [
    "os.makedirs(\"/home/lindb/wbp/overall_freqshifts/8pops\")"
   ]
  },
  {
   "cell_type": "code",
   "execution_count": 10,
   "metadata": {
    "collapsed": false
   },
   "outputs": [
    {
     "data": {
      "text/html": [
       "<div>\n",
       "<table border=\"1\" class=\"dataframe\">\n",
       "  <thead>\n",
       "    <tr style=\"text-align: right;\">\n",
       "      <th></th>\n",
       "      <th>Dicks_Pass</th>\n",
       "      <th>Freel_Peak</th>\n",
       "      <th>Heavenly</th>\n",
       "      <th>Little_Round_Top</th>\n",
       "      <th>Mt_Rose_Ophir</th>\n",
       "      <th>Rifle_Peak</th>\n",
       "      <th>Snow_Valley_Peak</th>\n",
       "      <th>West_Shore_Peaks</th>\n",
       "    </tr>\n",
       "  </thead>\n",
       "  <tbody>\n",
       "    <tr>\n",
       "      <th>NODE_1000013_length_91_cov_1.802198_37</th>\n",
       "      <td>0.14</td>\n",
       "      <td>0.052083</td>\n",
       "      <td>0.14</td>\n",
       "      <td>0.16</td>\n",
       "      <td>0.112245</td>\n",
       "      <td>0.1250</td>\n",
       "      <td>0.145833</td>\n",
       "      <td>0.166667</td>\n",
       "    </tr>\n",
       "    <tr>\n",
       "      <th>NODE_1000031_length_98_cov_2.000000_30</th>\n",
       "      <td>0.26</td>\n",
       "      <td>0.104167</td>\n",
       "      <td>0.18</td>\n",
       "      <td>0.20</td>\n",
       "      <td>0.081633</td>\n",
       "      <td>0.1250</td>\n",
       "      <td>0.145833</td>\n",
       "      <td>0.229167</td>\n",
       "    </tr>\n",
       "    <tr>\n",
       "      <th>NODE_1000037_length_93_cov_2.043011_33</th>\n",
       "      <td>0.08</td>\n",
       "      <td>0.114583</td>\n",
       "      <td>0.14</td>\n",
       "      <td>0.16</td>\n",
       "      <td>0.102041</td>\n",
       "      <td>0.1250</td>\n",
       "      <td>0.166667</td>\n",
       "      <td>0.125000</td>\n",
       "    </tr>\n",
       "    <tr>\n",
       "      <th>NODE_1000042_length_93_cov_1.118280_100</th>\n",
       "      <td>0.06</td>\n",
       "      <td>0.020833</td>\n",
       "      <td>0.08</td>\n",
       "      <td>0.02</td>\n",
       "      <td>0.051020</td>\n",
       "      <td>0.0000</td>\n",
       "      <td>0.041667</td>\n",
       "      <td>0.062500</td>\n",
       "    </tr>\n",
       "    <tr>\n",
       "      <th>NODE_1000053_length_94_cov_1.744681_25</th>\n",
       "      <td>0.02</td>\n",
       "      <td>0.020833</td>\n",
       "      <td>0.04</td>\n",
       "      <td>0.02</td>\n",
       "      <td>0.010204</td>\n",
       "      <td>0.0625</td>\n",
       "      <td>0.020833</td>\n",
       "      <td>0.020833</td>\n",
       "    </tr>\n",
       "  </tbody>\n",
       "</table>\n",
       "</div>"
      ],
      "text/plain": [
       "                                         Dicks_Pass  Freel_Peak  Heavenly  \\\n",
       "NODE_1000013_length_91_cov_1.802198_37         0.14    0.052083      0.14   \n",
       "NODE_1000031_length_98_cov_2.000000_30         0.26    0.104167      0.18   \n",
       "NODE_1000037_length_93_cov_2.043011_33         0.08    0.114583      0.14   \n",
       "NODE_1000042_length_93_cov_1.118280_100        0.06    0.020833      0.08   \n",
       "NODE_1000053_length_94_cov_1.744681_25         0.02    0.020833      0.04   \n",
       "\n",
       "                                         Little_Round_Top  Mt_Rose_Ophir  \\\n",
       "NODE_1000013_length_91_cov_1.802198_37               0.16       0.112245   \n",
       "NODE_1000031_length_98_cov_2.000000_30               0.20       0.081633   \n",
       "NODE_1000037_length_93_cov_2.043011_33               0.16       0.102041   \n",
       "NODE_1000042_length_93_cov_1.118280_100              0.02       0.051020   \n",
       "NODE_1000053_length_94_cov_1.744681_25               0.02       0.010204   \n",
       "\n",
       "                                         Rifle_Peak  Snow_Valley_Peak  \\\n",
       "NODE_1000013_length_91_cov_1.802198_37       0.1250          0.145833   \n",
       "NODE_1000031_length_98_cov_2.000000_30       0.1250          0.145833   \n",
       "NODE_1000037_length_93_cov_2.043011_33       0.1250          0.166667   \n",
       "NODE_1000042_length_93_cov_1.118280_100      0.0000          0.041667   \n",
       "NODE_1000053_length_94_cov_1.744681_25       0.0625          0.020833   \n",
       "\n",
       "                                         West_Shore_Peaks  \n",
       "NODE_1000013_length_91_cov_1.802198_37           0.166667  \n",
       "NODE_1000031_length_98_cov_2.000000_30           0.229167  \n",
       "NODE_1000037_length_93_cov_2.043011_33           0.125000  \n",
       "NODE_1000042_length_93_cov_1.118280_100          0.062500  \n",
       "NODE_1000053_length_94_cov_1.744681_25           0.020833  "
      ]
     },
     "execution_count": 10,
     "metadata": {},
     "output_type": "execute_result"
    }
   ],
   "source": [
    "impMAF = pd.read_csv(\"/home/lindb/wbp/OutFLANK/imputed_MAF.txt\",header=0,index_col=0,sep='\\t')\n",
    "impMAF.head()"
   ]
  },
  {
   "cell_type": "code",
   "execution_count": 150,
   "metadata": {
    "collapsed": false
   },
   "outputs": [
    {
     "data": {
      "text/plain": [
       "0.027210884354000001"
      ]
     },
     "execution_count": 150,
     "metadata": {},
     "output_type": "execute_result"
    }
   ],
   "source": [
    "locDict8['NODE_1000013_length_91_cov_1.802198_37']"
   ]
  },
  {
   "cell_type": "code",
   "execution_count": 38,
   "metadata": {
    "collapsed": false
   },
   "outputs": [
    {
     "name": "stdout",
     "output_type": "stream",
     "text": [
      "10000\n",
      "20000\n",
      "30000\n",
      "40000\n",
      "50000\n",
      "60000\n",
      "70000\n",
      "80000\n",
      "90000\n",
      "100000\n",
      "110000\n"
     ]
    }
   ],
   "source": [
    "loccount =0\n",
    "meds = []\n",
    "DIR = \"/home/lindb/wbp/overall_freqshifts/8pops\"\n",
    "for locus in impMAF.index:\n",
    "    df = pd.DataFrame(index=impMAF.columns,columns=impMAF.columns)\n",
    "    vals = []\n",
    "    for i,popi in enumerate(impMAF.columns):\n",
    "        freqi = impMAF.loc[locus,popi]\n",
    "        for j,popj in enumerate(impMAF.columns):\n",
    "            if i ==j:\n",
    "                df.loc[popi,popj] = 0\n",
    "            if i < j:\n",
    "                freqj = impMAF.loc[locus,popj]\n",
    "                diff = abs(freqi-freqj)\n",
    "                df.loc[popi,popj] = diff\n",
    "                df.loc[popj,popi] = df.loc[popi,popj]\n",
    "                vals.append(diff)\n",
    "    assert len(vals) == 28\n",
    "    med = np.median(vals)\n",
    "    meds.append(med)\n",
    "    \n",
    "    filE = op.join(DIR,'%s.txt' % locus)\n",
    "    df.to_csv(filE,header=True,index=True,sep='\\t')\n",
    "    \n",
    "    loccount +=1 \n",
    "    if loccount % 10000 == 0:\n",
    "        print loccount"
   ]
  },
  {
   "cell_type": "code",
   "execution_count": 41,
   "metadata": {
    "collapsed": true
   },
   "outputs": [],
   "source": [
    "DIR = \"/home/lindb/wbp/overall_freqshifts/8pops\"\n",
    "filE = op.join(DIR,'medianvals.txt')\n",
    "df = pd.DataFrame(meds)\n",
    "df.to_csv(filE,header=False,index=False,sep='\\t')"
   ]
  },
  {
   "cell_type": "code",
   "execution_count": 42,
   "metadata": {
    "collapsed": false
   },
   "outputs": [
    {
     "data": {
      "text/plain": [
       "116231"
      ]
     },
     "execution_count": 42,
     "metadata": {},
     "output_type": "execute_result"
    }
   ],
   "source": [
    "len(df.index)"
   ]
  },
  {
   "cell_type": "code",
   "execution_count": 52,
   "metadata": {
    "collapsed": false
   },
   "outputs": [
    {
     "data": {
      "text/plain": [
       "116231"
      ]
     },
     "execution_count": 52,
     "metadata": {},
     "output_type": "execute_result"
    }
   ],
   "source": [
    "filE = \"/home/lindb/wbp/overall_freqshifts/8pops/medianvals.txt\"\n",
    "df = pd.read_csv(filE,header=None,sep='\\t')\n",
    "p8medvals = df[0].tolist()\n",
    "len(p8medvals)"
   ]
  },
  {
   "cell_type": "code",
   "execution_count": 54,
   "metadata": {
    "collapsed": true
   },
   "outputs": [],
   "source": [
    "import matplotlib.pyplot as plt\n",
    "import matplotlib.gridspec as gridspec\n",
    "from matplotlib.backends.backend_pdf import PdfPages\n",
    "import matplotlib.ticker as mtick\n",
    "%matplotlib inline"
   ]
  },
  {
   "cell_type": "code",
   "execution_count": 59,
   "metadata": {
    "collapsed": false
   },
   "outputs": [
    {
     "data": {
      "text/plain": [
       "0.22395833333299997"
      ]
     },
     "execution_count": 59,
     "metadata": {},
     "output_type": "execute_result"
    }
   ],
   "source": [
    "max(p8medvals)"
   ]
  },
  {
   "cell_type": "code",
   "execution_count": 62,
   "metadata": {
    "collapsed": false
   },
   "outputs": [
    {
     "data": {
      "text/plain": [
       "<a list of 49 Patch objects>"
      ]
     },
     "execution_count": 62,
     "metadata": {},
     "output_type": "execute_result"
    },
    {
     "data": {
      "image/png": "[encoded data removed]",
      "text/plain": [
       "<matplotlib.figure.Figure at 0x2af49d6ddcd0>"
      ]
     },
     "metadata": {},
     "output_type": "display_data"
    }
   ],
   "source": [
    "plt.hist(p8medvals,bins = [x for x in np.arange(0,.25,0.005)])[2]"
   ]
  },
  {
   "cell_type": "code",
   "execution_count": 89,
   "metadata": {
    "collapsed": false
   },
   "outputs": [
    {
     "data": {
      "text/plain": [
       "'NODE_1964998_length_94_cov_1.000000_24'"
      ]
     },
     "execution_count": 89,
     "metadata": {},
     "output_type": "execute_result"
    }
   ],
   "source": [
    "locDict8 = OrderedDict()\n",
    "DIR = '/home/lindb/wbp/overall_freqshifts/8pops/'\n",
    "files = [op.join(DIR,f) for f in ls(DIR) if ('NODE' in f) and ('swp' not in f)]\n",
    "op.basename(files[0]).split(\".txt\")[0]"
   ]
  },
  {
   "cell_type": "code",
   "execution_count": 91,
   "metadata": {
    "collapsed": false
   },
   "outputs": [
    {
     "name": "stdout",
     "output_type": "stream",
     "text": [
      "10000\n",
      "20000\n",
      "30000\n",
      "40000\n",
      "50000\n",
      "60000\n",
      "70000\n",
      "80000\n",
      "90000\n",
      "100000\n",
      "110000\n"
     ]
    }
   ],
   "source": [
    "loccount =0\n",
    "for f in sorted(files):\n",
    "    locus = op.basename(f).split(\".txt\")[0]\n",
    "    df = pd.read_csv(f,header=0,index_col=0,sep='\\t')\n",
    "    vals = []\n",
    "    for i,popi in enumerate(df.columns):\n",
    "        for j,popj in enumerate(df.index):\n",
    "            if i < j:\n",
    "                vals.append(df.loc[popi,popj])\n",
    "    locDict8[locus] = np.median(vals)\n",
    "    loccount += 1\n",
    "    if loccount % 10000 == 0:\n",
    "        print loccount"
   ]
  },
  {
   "cell_type": "markdown",
   "metadata": {},
   "source": [
    "### get bayenv2 SNPs"
   ]
  },
  {
   "cell_type": "code",
   "execution_count": 50,
   "metadata": {
    "collapsed": false
   },
   "outputs": [
    {
     "name": "stdout",
     "output_type": "stream",
     "text": [
      "AWS0-25 95\n",
      "AWS0-50 147\n",
      "Ann-ppt 49\n",
      "CEC 14\n",
      "Clay 22\n",
      "Elev 143\n",
      "GDD-Aug 157\n",
      "GDD-May 80\n",
      "Lat 119\n",
      "Lon 67\n",
      "Max-rad-input 144\n",
      "Rock-cov 143\n",
      "Sand 111\n",
      "Silt 140\n",
      "Tmax-July 50\n",
      "Tmin-Jan 116\n",
      "WC15Bar 86\n",
      "WC3rdbar 97\n"
     ]
    }
   ],
   "source": [
    "DIR = '/home/lindb/wbp/bayenv2/results/sigsnps'\n",
    "files = [op.join(DIR,f) for f in ls(DIR)]\n",
    "bayDict = OrderedDict()\n",
    "for f in sorted(files):\n",
    "    env = op.basename(f).split(\"_\")[0]\n",
    "    df = pd.read_csv(f,header=0,sep='\\t')\n",
    "    bayDict[env] = df[env].tolist()\n",
    "    print env,len(bayDict[env])"
   ]
  },
  {
   "cell_type": "code",
   "execution_count": 84,
   "metadata": {
    "collapsed": false
   },
   "outputs": [
    {
     "data": {
      "text/plain": [
       "116231"
      ]
     },
     "execution_count": 84,
     "metadata": {},
     "output_type": "execute_result"
    }
   ],
   "source": [
    "len(locDict8.keys())"
   ]
  },
  {
   "cell_type": "code",
   "execution_count": 94,
   "metadata": {
    "collapsed": false
   },
   "outputs": [
    {
     "data": {
      "text/plain": [
       "['AWS0-25',\n",
       " 'AWS0-50',\n",
       " 'Ann-ppt',\n",
       " 'CEC',\n",
       " 'Clay',\n",
       " 'Elev',\n",
       " 'GDD-Aug',\n",
       " 'GDD-May',\n",
       " 'Lat']"
      ]
     },
     "execution_count": 94,
     "metadata": {},
     "output_type": "execute_result"
    }
   ],
   "source": [
    "bayDict.keys()[0:9]"
   ]
  },
  {
   "cell_type": "code",
   "execution_count": 112,
   "metadata": {
    "collapsed": false
   },
   "outputs": [
    {
     "data": {
      "image/png": "[encoded data removed]",
      "text/plain": [
       "<matplotlib.figure.Figure at 0x2af4acad4990>"
      ]
     },
     "metadata": {},
     "output_type": "display_data"
    }
   ],
   "source": [
    "lst = ['A','B','C','D','E','F','G','H','I']\n",
    "col = 'red'\n",
    "with PdfPages('/home/lindb/wbp/figures/allele_freq_shifts_bayenv2_AWS0-Lat.pdf') as pdf:\n",
    "    \n",
    "    plt.close('all')\n",
    "    fig, ((a1,a2,a3),(a4,a5,a6),(a7,a8,a9)) = plt.subplots(3, 3, figsize=(5,5),dpi=400)\n",
    "    \n",
    "    plotdict = {}\n",
    "    count = 1\n",
    "    for env in sorted(bayDict.keys())[0:9]:\n",
    "        plotdict[count] = plt.subplot(int(\"33%s\" % count))\n",
    "\n",
    "        plotdict[count].hist(p8medvals,bins = [x for x in np.arange(0,.25,0.005)])[2]\n",
    "\n",
    "        plotdict[count].set_title(lst[count-1],y=.9,loc='right',fontsize=17,fontweight='bold')\n",
    "        \n",
    "        plotdict[count].set_xlim(0,0.3)\n",
    "        plotdict[count].set_ylim(0,30000)\n",
    "        plotdict[count].axvline(x=np.median(p8medvals),c='black',linewidth=3,zorder=1)\n",
    "        \n",
    "        for SNP in bayDict[env]:\n",
    "            plotdict[count].axvline(x=locDict8[SNP],ymin=0.83,c=col,linewidth=0.25,zorder=2)\n",
    "        \n",
    "        count += 1\n",
    "\n",
    "    fig.set_size_inches(13,10)\n",
    "    pdf.savefig(fig,bbox_inches='tight')"
   ]
  },
  {
   "cell_type": "code",
   "execution_count": 117,
   "metadata": {
    "collapsed": false
   },
   "outputs": [
    {
     "data": {
      "image/png": "[encoded data removed]",
      "text/plain": [
       "<matplotlib.figure.Figure at 0x2af4afa50790>"
      ]
     },
     "metadata": {},
     "output_type": "display_data"
    }
   ],
   "source": [
    "lst = ['A','B','C','D','E','F','G','H','I']\n",
    "col = 'red'\n",
    "with PdfPages('/home/lindb/wbp/figures/allele_freq_shifts_bayenv2_Lon-WC3rdbar.pdf') as pdf:\n",
    "    \n",
    "    plt.close('all')\n",
    "    fig, ((a1,a2,a3),(a4,a5,a6),(a7,a8,a9)) = plt.subplots(3, 3, figsize=(5,5),dpi=400)\n",
    "    \n",
    "    plotdict = {}\n",
    "    count = 1\n",
    "    for env in sorted(bayDict.keys())[9:]:\n",
    "        plotdict[count] = plt.subplot(int(\"33%s\" % count))\n",
    "\n",
    "        plotdict[count].hist(p8medvals,bins = [x for x in np.arange(0,.25,0.005)])[2]\n",
    "\n",
    "        plotdict[count].set_title(lst[count-1],y=.9,loc='right',fontsize=17,fontweight='bold')\n",
    "        \n",
    "        plotdict[count].set_xlim(0,0.3)\n",
    "        plotdict[count].set_ylim(0,30000)\n",
    "        \n",
    "        plotdict[count].axvline(x=np.median(p8medvals),c='black',linewidth=3,zorder=1)\n",
    "        \n",
    "        for SNP in bayDict[env]:\n",
    "            plotdict[count].axvline(x=locDict8[SNP],ymin=0.83,c=col,linewidth=0.25,zorder=1)\n",
    "            \n",
    "#         plotdict[count].locator_params(axis='x',nbins=5)\n",
    "#         for tick in plotdict[count].xaxis.get_major_ticks():\n",
    "#                tick.label.set_fontsize(8)\n",
    "        \n",
    "#         if count == 6:\n",
    "#             plotdict[count].spines['right'].set_visible(False)\n",
    "#             plotdict[count].spines['left'].set_visible(False)\n",
    "#             plotdict[count].spines['top'].set_visible(False)\n",
    "#             plotdict[count].spines['bottom'].set_visible(False)\n",
    "#             plotdict[count].axes.get_yaxis().set_visible(False)\n",
    "#             plotdict[count].axes.get_xaxis().set_ticks([])\n",
    "#             plotdict[count].axes.get_yaxis().set_ticks([])\n",
    "        \n",
    "        count += 1\n",
    "\n",
    "    fig.set_size_inches(13,10)\n",
    "    pdf.savefig(fig,bbox_inches='tight')"
   ]
  },
  {
   "cell_type": "code",
   "execution_count": 118,
   "metadata": {
    "collapsed": false
   },
   "outputs": [
    {
     "name": "stdout",
     "output_type": "stream",
     "text": [
      "AWS0-25 92 0.968421052632\n",
      "AWS0-50 139 0.945578231293\n",
      "Ann-ppt 35 0.714285714286\n",
      "CEC 10 0.714285714286\n",
      "Clay 21 0.954545454545\n",
      "Elev 121 0.846153846154\n",
      "GDD-Aug 108 0.687898089172\n",
      "GDD-May 62 0.775\n",
      "Lat 103 0.865546218487\n",
      "Lon 54 0.805970149254\n",
      "Max-rad-input 117 0.8125\n",
      "Rock-cov 99 0.692307692308\n",
      "Sand 95 0.855855855856\n",
      "Silt 122 0.871428571429\n",
      "Tmax-July 44 0.88\n",
      "Tmin-Jan 64 0.551724137931\n",
      "WC15Bar 74 0.860465116279\n",
      "WC3rdbar 64 0.659793814433\n"
     ]
    },
    {
     "data": {
      "text/plain": [
       "0.82932692307692313"
      ]
     },
     "execution_count": 118,
     "metadata": {},
     "output_type": "execute_result"
    }
   ],
   "source": [
    "res = []\n",
    "for env in bayDict:\n",
    "    count = 0\n",
    "    for SNP in bayDict[env]:\n",
    "        if locDict8[SNP] <= np.median(p8medvals):\n",
    "            count += 1\n",
    "    print env, count,count/len(bayDict[env])\n",
    "    res.append(count/len(bayDict[env]))\n",
    "np.median(res)"
   ]
  },
  {
   "cell_type": "code",
   "execution_count": 126,
   "metadata": {
    "collapsed": false
   },
   "outputs": [
    {
     "name": "stdout",
     "output_type": "stream",
     "text": [
      "AWS0-25\n",
      "AWS0-50\n",
      "Ann-ppt\n",
      "CEC\n",
      "Clay\n",
      "Elev\n",
      "GDD-Aug\n",
      "GDD-May\n",
      "Lat\n",
      "Lon\n",
      "Max-rad-input\n",
      "Rock-cov\n",
      "Sand\n",
      "Silt\n",
      "Tmax-July\n",
      "Tmin-Jan\n",
      "WC15Bar\n",
      "WC3rdbar\n"
     ]
    }
   ],
   "source": [
    "#get a list of 1000 sets of random SNPs for each environment\n",
    "#these SNPs were drawn randomly in 08_bayenv2.ipynb for identification of significant covariation\n",
    "DIR = '/home/lindb/wbp/bayenv2/covariances/randmatrices/randsnps'\n",
    "DIRS = [op.join(DIR,d) for d in ls(DIR)]\n",
    "bayrand = {}\n",
    "for d in DIRS:\n",
    "    env = op.basename(d)\n",
    "    print env\n",
    "    bayrand[env] = {}\n",
    "    files = [op.join(d,f) for f in ls(d)]\n",
    "    for f in sorted(files):\n",
    "        num = op.basename(f).split(\"_\")[1]\n",
    "        df = pd.read_csv(f,header=None,sep='\\t')\n",
    "        bayrand[env][num] = df[0].tolist()"
   ]
  },
  {
   "cell_type": "code",
   "execution_count": 160,
   "metadata": {
    "collapsed": false
   },
   "outputs": [],
   "source": [
    "#get a distribution from these 1000 sets for each env\n",
    "randmeds = {}\n",
    "for env in bayrand:\n",
    "    randmeds[env] = []\n",
    "    for num in bayrand[env]:\n",
    "        randmeds[env].append(np.mean([float(locDict8[SNP]) for SNP in bayrand[env][num]]))           "
   ]
  },
  {
   "cell_type": "code",
   "execution_count": 161,
   "metadata": {
    "collapsed": false
   },
   "outputs": [
    {
     "data": {
      "text/plain": [
       "0.019740000000000001"
      ]
     },
     "execution_count": 161,
     "metadata": {},
     "output_type": "execute_result"
    }
   ],
   "source": [
    "np.round(np.mean([locDict8[snp] for snp in bayrand[env][num]]),5)"
   ]
  },
  {
   "cell_type": "code",
   "execution_count": 162,
   "metadata": {
    "collapsed": false,
    "scrolled": true
   },
   "outputs": [
    {
     "data": {
      "text/plain": [
       "[0.0102040816327,\n",
       " 0.0102040816327,\n",
       " 0.010310374149649998,\n",
       " 0.010416666666649997,\n",
       " 0.010416666666649997,\n",
       " 0.010416666666649997,\n",
       " 0.010416666666700001,\n",
       " 0.010416666666700001,\n",
       " 0.010416666666700001,\n",
       " 0.010416666666700001,\n",
       " 0.010416666666700001,\n",
       " 0.010416666666700001,\n",
       " 0.010416666666700001,\n",
       " 0.010416666666700001,\n",
       " 0.010416666666700001,\n",
       " 0.010416666666700001,\n",
       " 0.010522959183649998,\n",
       " 0.010629251700599996,\n",
       " 0.010629251700599996,\n",
       " 0.010629251700599996,\n",
       " 0.010931122449,\n",
       " 0.01125,\n",
       " 0.019166666666700003,\n",
       " 0.019166666666700003,\n",
       " 0.019166666666700003,\n",
       " 0.019583333333350002,\n",
       " 0.019583333333350002,\n",
       " 0.019583333333350002,\n",
       " 0.019583333333350002,\n",
       " 0.019583333333350002,\n",
       " 0.01979591836735,\n",
       " 0.02,\n",
       " 0.02,\n",
       " 0.02,\n",
       " 0.02,\n",
       " 0.02,\n",
       " 0.02,\n",
       " 0.02,\n",
       " 0.02,\n",
       " 0.02,\n",
       " 0.02,\n",
       " 0.02,\n",
       " 0.02,\n",
       " 0.02,\n",
       " 0.02,\n",
       " 0.02,\n",
       " 0.02,\n",
       " 0.02,\n",
       " 0.02,\n",
       " 0.02,\n",
       " 0.02,\n",
       " 0.02,\n",
       " 0.02,\n",
       " 0.02,\n",
       " 0.02,\n",
       " 0.02,\n",
       " 0.020000000000000004,\n",
       " 0.020204081632650001,\n",
       " 0.020408163265300001,\n",
       " 0.020416666666649999,\n",
       " 0.020416666666649999,\n",
       " 0.020833333333300001,\n",
       " 0.020833333333300001,\n",
       " 0.020833333333300001,\n",
       " 0.020833333333300001,\n",
       " 0.020833333333300001,\n",
       " 0.020833333333300001,\n",
       " 0.020833333333300001,\n",
       " 0.020833333333300001,\n",
       " 0.020833333333300001,\n",
       " 0.020833333333300001,\n",
       " 0.020833333333300001,\n",
       " 0.020833333333300001,\n",
       " 0.020833333333300001,\n",
       " 0.020833333333350003,\n",
       " 0.021045918367400003,\n",
       " 0.021683673469399999,\n",
       " 0.02333333333330001,\n",
       " 0.030612244898000001,\n",
       " 0.031462585033999999,\n",
       " 0.040000000000000001,\n",
       " 0.040000000000000008,\n",
       " 0.040816326530600001,\n",
       " 0.040833333333300005,\n",
       " 0.048750000000000009,\n",
       " 0.059999999999999998]"
      ]
     },
     "execution_count": 162,
     "metadata": {},
     "output_type": "execute_result"
    }
   ],
   "source": [
    "sorted([locDict8[snp] for snp in bayrand[env][num]])"
   ]
  },
  {
   "cell_type": "code",
   "execution_count": 174,
   "metadata": {
    "collapsed": false
   },
   "outputs": [
    {
     "data": {
      "text/plain": [
       "<a list of 299 Patch objects>"
      ]
     },
     "execution_count": 174,
     "metadata": {},
     "output_type": "execute_result"
    },
    {
     "data": {
      "image/png": "[encoded data removed]",
      "text/plain": [
       "<matplotlib.figure.Figure at 0x2af4bbbd1d50>"
      ]
     },
     "metadata": {},
     "output_type": "display_data"
    }
   ],
   "source": [
    "plt.hist(randmeds[env], bins = [x for x in np.arange(0,.03,0.0001)])[2]"
   ]
  },
  {
   "cell_type": "code",
   "execution_count": 175,
   "metadata": {
    "collapsed": false
   },
   "outputs": [
    {
     "data": {
      "text/plain": [
       "<a list of 299 Patch objects>"
      ]
     },
     "execution_count": 175,
     "metadata": {},
     "output_type": "execute_result"
    },
    {
     "data": {
      "image/png": "[encoded data removed]",
      "text/plain": [
       "<matplotlib.figure.Figure at 0x2af4af6935d0>"
      ]
     },
     "metadata": {},
     "output_type": "display_data"
    }
   ],
   "source": [
    "plt.hist(randmeds['Ann-ppt'], bins = [x for x in np.arange(0,.03,0.0001)])[2]"
   ]
  },
  {
   "cell_type": "code",
   "execution_count": 171,
   "metadata": {
    "collapsed": false
   },
   "outputs": [
    {
     "name": "stdout",
     "output_type": "stream",
     "text": [
      "Ann-ppt 0.0259200159656\n",
      "CEC 0.0268731778426\n",
      "AWS0-25 0.0198723147154\n",
      "AWS0-50 0.019428363182\n",
      "Max-rad-input 0.0233125767668\n",
      "Rock-cov 0.0230355358927\n",
      "Lon 0.0233174687786\n",
      "WC3rdbar 0.0254662844519\n",
      "Tmax-July 0.0217265306122\n",
      "WC15Bar 0.0213085350419\n",
      "Sand 0.0218999356499\n",
      "Tmin-Jan 0.0273998284659\n",
      "Elev 0.0212802078873\n",
      "Clay 0.0234562461348\n",
      "Lat 0.0205569727891\n",
      "Silt 0.020634930758\n",
      "GDD-Aug 0.0248137105161\n",
      "GDD-May 0.0229693346088\n"
     ]
    }
   ],
   "source": [
    "for env in randmeds:\n",
    "    print env,max(randmeds[env])"
   ]
  },
  {
   "cell_type": "code",
   "execution_count": 226,
   "metadata": {
    "collapsed": false
   },
   "outputs": [
    {
     "name": "stdout",
     "output_type": "stream",
     "text": [
      "Ann-ppt 0.0221404244759 0.0259200159656\n",
      "CEC 0.0211167738703 0.0268731778426\n",
      "AWS0-25 0.0178693510562 0.0198723147154\n",
      "AWS0-50 0.0178568841397 0.019428363182\n",
      "Max-rad-input 0.02149607072 0.0233125767668\n",
      "Rock-cov 0.0208916047048 0.0230355358927\n",
      "Lon 0.0202986227028 0.0233174687786\n",
      "WC3rdbar 0.0227344562645 0.0254662844519\n",
      "Tmax-July 0.0189692895408 0.0217265306122\n",
      "WC15Bar 0.0189693167616 0.0213085350419\n",
      "Sand 0.0199433797956 0.0218999356499\n",
      "Tmin-Jan 0.0246946009266 0.0273998284659\n",
      "Elev 0.0195735424992 0.0212802078873\n",
      "Clay 0.019209401863 0.0234562461348\n",
      "Lat 0.0188873432587 0.0205569727891\n",
      "Silt 0.0192248086127 0.020634930758\n",
      "GDD-Aug 0.0231356225627 0.0248137105161\n",
      "GDD-May 0.0205997764137 0.0229693346088\n"
     ]
    }
   ],
   "source": [
    "for env in randmeds:\n",
    "    print env, np.mean(randmeds[env]),max(randmeds[env])"
   ]
  },
  {
   "cell_type": "code",
   "execution_count": 169,
   "metadata": {
    "collapsed": false
   },
   "outputs": [
    {
     "name": "stdout",
     "output_type": "stream",
     "text": [
      "Ann-ppt 0.0281886019714 0.0208333333333\n",
      "CEC 0.0265846695821 0.0208333333333\n",
      "AWS0-25 0.0199104010025 0.02\n",
      "AWS0-50 0.0208372668795 0.02\n",
      "Max-rad-input 0.0269249870087 0.0208333333333\n",
      "Rock-cov 0.029764164407 0.0208333333333\n",
      "Lon 0.0243432708904 0.0204081632653\n",
      "WC3rdbar 0.031672583982 0.0208333333333\n",
      "Tmax-July 0.021219047619 0.0208333333333\n",
      "WC15Bar 0.0231406719665 0.02\n",
      "Sand 0.0238989244346 0.0208333333333\n",
      "Tmin-Jan 0.0370576765189 0.031356292517\n",
      "Elev 0.0219846819847 0.0204081632653\n",
      "Clay 0.0188506880025 0.02\n",
      "Lat 0.021444077631 0.0204081632653\n",
      "Silt 0.0243244655005 0.0208333333333\n",
      "GDD-Aug 0.0308268068374 0.0210289115646\n",
      "GDD-May 0.0224600871599 0.0208333333333\n"
     ]
    }
   ],
   "source": [
    "for env in randmeds:\n",
    "    print env, np.mean([locDict8[SNP] for SNP in bayDict[env]]),np.median([locDict8[SNP] for SNP in bayDict[env]])"
   ]
  },
  {
   "cell_type": "code",
   "execution_count": 172,
   "metadata": {
    "collapsed": true
   },
   "outputs": [],
   "source": [
    "baymeans = {}\n",
    "for env in randmeds:\n",
    "    baymeans[env] = np.mean([locDict8[SNP] for SNP in bayDict[env]])"
   ]
  },
  {
   "cell_type": "code",
   "execution_count": 225,
   "metadata": {
    "collapsed": false
   },
   "outputs": [
    {
     "data": {
      "image/png": "[encoded data removed]",
      "text/plain": [
       "<matplotlib.figure.Figure at 0x2af4b0c33350>"
      ]
     },
     "metadata": {},
     "output_type": "display_data"
    }
   ],
   "source": [
    "lst = ['A','B','C','D','E','F','G','H','I']\n",
    "col = 'red'\n",
    "with PdfPages('/home/lindb/wbp/figures/allele_freq_shifts_bayenv2_hexp_AWS0-Lat.pdf') as pdf:\n",
    "    \n",
    "    plt.close('all')\n",
    "    fig, ((a1,a2,a3),(a4,a5,a6),(a7,a8,a9)) = plt.subplots(3, 3, figsize=(5,5),dpi=400)\n",
    "    \n",
    "    plotdict = {}\n",
    "    count = 1\n",
    "    for env in sorted(bayDict.keys())[0:9]:\n",
    "        plotdict[count] = plt.subplot(int(\"33%s\" % count))\n",
    "\n",
    "        plotdict[count].hist(randmeds[env],bins = [x for x in np.arange(0,.03,0.0001)], color='blue')[2]\n",
    "\n",
    "        plotdict[count].set_title(lst[count-1],y=.9,loc='right',fontsize=17,fontweight='bold')\n",
    "        \n",
    "        plotdict[count].set_xlim(0,0.04)\n",
    "        plotdict[count].set_ylim(0,50)\n",
    "        \n",
    "        plotdict[count].axvline(x=baymeans[env],c='red',linewidth=3,zorder=1)\n",
    "        \n",
    "#         for SNP in bayDict[env]:\n",
    "#             plotdict[count].axvline(x=locDict8[SNP],ymin=0.83,c=col,linewidth=0.25,zorder=1)\n",
    "        count += 1\n",
    "\n",
    "    fig.set_size_inches(13,10)\n",
    "    pdf.savefig(fig,bbox_inches='tight')"
   ]
  },
  {
   "cell_type": "code",
   "execution_count": 205,
   "metadata": {
    "collapsed": false
   },
   "outputs": [
    {
     "data": {
      "image/png": "[encoded data removed]",
      "text/plain": [
       "<matplotlib.figure.Figure at 0x2af4bd504850>"
      ]
     },
     "metadata": {},
     "output_type": "display_data"
    }
   ],
   "source": [
    "lst = ['A','B','C','D','E','F','G','H','I']\n",
    "col = 'red'\n",
    "with PdfPages('/home/lindb/wbp/figures/allele_freq_shifts_bayenv2_hexp_Lon-WC3rdbar.pdf') as pdf:\n",
    "    \n",
    "    plt.close('all')\n",
    "    fig, ((a1,a2,a3),(a4,a5,a6),(a7,a8,a9)) = plt.subplots(3, 3, figsize=(5,5),dpi=400)\n",
    "    \n",
    "    plotdict = {}\n",
    "    count = 1\n",
    "    for env in sorted(bayDict.keys())[9:]:\n",
    "        plotdict[count] = plt.subplot(int(\"33%s\" % count))\n",
    "\n",
    "        plotdict[count].hist(randmeds[env],bins = [x for x in np.arange(0,.03,0.0001)])[2]\n",
    "\n",
    "        plotdict[count].set_title(lst[count-1],y=.9,loc='right',fontsize=17,fontweight='bold')\n",
    "        \n",
    "        plotdict[count].set_xlim(0,0.04)\n",
    "        plotdict[count].set_ylim(0,50)\n",
    "        \n",
    "        plotdict[count].axvline(x=baymeans[env],c='red',linewidth=3,zorder=1)\n",
    "        \n",
    "#         for SNP in bayDict[env]:\n",
    "#             plotdict[count].axvline(x=locDict8[SNP],ymin=0.83,c=col,linewidth=0.25,zorder=1)\n",
    "        count += 1\n",
    "\n",
    "    fig.set_size_inches(13,10)\n",
    "    pdf.savefig(fig,bbox_inches='tight')"
   ]
  },
  {
   "cell_type": "markdown",
   "metadata": {},
   "source": [
    "# do 6 pops"
   ]
  },
  {
   "cell_type": "code",
   "execution_count": 44,
   "metadata": {
    "collapsed": false
   },
   "outputs": [
    {
     "data": {
      "text/html": [
       "<div>\n",
       "<table border=\"1\" class=\"dataframe\">\n",
       "  <thead>\n",
       "    <tr style=\"text-align: right;\">\n",
       "      <th></th>\n",
       "      <th>Dicks_Pass</th>\n",
       "      <th>Freel_Peak</th>\n",
       "      <th>Little_Round_Top</th>\n",
       "      <th>Mt_Rose_Ophir</th>\n",
       "      <th>Rifle_Peak</th>\n",
       "      <th>Snow_Valley_Peak</th>\n",
       "    </tr>\n",
       "  </thead>\n",
       "  <tbody>\n",
       "    <tr>\n",
       "      <th>NODE_1000013_length_91_cov_1.802198_37</th>\n",
       "      <td>0.066667</td>\n",
       "      <td>0.105263</td>\n",
       "      <td>0.250000</td>\n",
       "      <td>0.272727</td>\n",
       "      <td>0.100000</td>\n",
       "      <td>0.178571</td>\n",
       "    </tr>\n",
       "    <tr>\n",
       "      <th>NODE_1000031_length_98_cov_2.000000_30</th>\n",
       "      <td>0.333333</td>\n",
       "      <td>0.078947</td>\n",
       "      <td>0.178571</td>\n",
       "      <td>0.045455</td>\n",
       "      <td>0.100000</td>\n",
       "      <td>0.178571</td>\n",
       "    </tr>\n",
       "    <tr>\n",
       "      <th>NODE_1000037_length_93_cov_2.043011_33</th>\n",
       "      <td>0.100000</td>\n",
       "      <td>0.078947</td>\n",
       "      <td>0.071429</td>\n",
       "      <td>0.045455</td>\n",
       "      <td>0.133333</td>\n",
       "      <td>0.142857</td>\n",
       "    </tr>\n",
       "    <tr>\n",
       "      <th>NODE_1000042_length_93_cov_1.118280_100</th>\n",
       "      <td>0.000000</td>\n",
       "      <td>0.000000</td>\n",
       "      <td>0.035714</td>\n",
       "      <td>0.000000</td>\n",
       "      <td>0.000000</td>\n",
       "      <td>0.071429</td>\n",
       "    </tr>\n",
       "    <tr>\n",
       "      <th>NODE_1000053_length_94_cov_1.744681_25</th>\n",
       "      <td>0.033333</td>\n",
       "      <td>0.000000</td>\n",
       "      <td>0.035714</td>\n",
       "      <td>0.045455</td>\n",
       "      <td>0.033333</td>\n",
       "      <td>0.035714</td>\n",
       "    </tr>\n",
       "  </tbody>\n",
       "</table>\n",
       "</div>"
      ],
      "text/plain": [
       "                                         Dicks_Pass  Freel_Peak  \\\n",
       "NODE_1000013_length_91_cov_1.802198_37     0.066667    0.105263   \n",
       "NODE_1000031_length_98_cov_2.000000_30     0.333333    0.078947   \n",
       "NODE_1000037_length_93_cov_2.043011_33     0.100000    0.078947   \n",
       "NODE_1000042_length_93_cov_1.118280_100    0.000000    0.000000   \n",
       "NODE_1000053_length_94_cov_1.744681_25     0.033333    0.000000   \n",
       "\n",
       "                                         Little_Round_Top  Mt_Rose_Ophir  \\\n",
       "NODE_1000013_length_91_cov_1.802198_37           0.250000       0.272727   \n",
       "NODE_1000031_length_98_cov_2.000000_30           0.178571       0.045455   \n",
       "NODE_1000037_length_93_cov_2.043011_33           0.071429       0.045455   \n",
       "NODE_1000042_length_93_cov_1.118280_100          0.035714       0.000000   \n",
       "NODE_1000053_length_94_cov_1.744681_25           0.035714       0.045455   \n",
       "\n",
       "                                         Rifle_Peak  Snow_Valley_Peak  \n",
       "NODE_1000013_length_91_cov_1.802198_37     0.100000          0.178571  \n",
       "NODE_1000031_length_98_cov_2.000000_30     0.100000          0.178571  \n",
       "NODE_1000037_length_93_cov_2.043011_33     0.133333          0.142857  \n",
       "NODE_1000042_length_93_cov_1.118280_100    0.000000          0.071429  \n",
       "NODE_1000053_length_94_cov_1.744681_25     0.033333          0.035714  "
      ]
     },
     "execution_count": 44,
     "metadata": {},
     "output_type": "execute_result"
    }
   ],
   "source": [
    "sixMAF = pd.read_csv('~/wbp/gemma/6pop_pop_maf.txt',header=0,index_col=0,sep='\\t')\n",
    "sixMAF.head()"
   ]
  },
  {
   "cell_type": "code",
   "execution_count": 40,
   "metadata": {
    "collapsed": true
   },
   "outputs": [],
   "source": [
    "os.makedirs(\"/home/lindb/wbp/overall_freqshifts/6pops\")"
   ]
  },
  {
   "cell_type": "code",
   "execution_count": 47,
   "metadata": {
    "collapsed": false
   },
   "outputs": [
    {
     "name": "stdout",
     "output_type": "stream",
     "text": [
      "10000\n",
      "20000\n",
      "30000\n",
      "40000\n",
      "50000\n",
      "60000\n",
      "70000\n",
      "80000\n",
      "90000\n",
      "100000\n",
      "110000\n"
     ]
    }
   ],
   "source": [
    "loccount =0\n",
    "sixmeds = []\n",
    "DIR = \"/home/lindb/wbp/overall_freqshifts/6pops\"\n",
    "for locus in sixMAF.index:\n",
    "    df = pd.DataFrame(index=sixMAF.columns,columns=sixMAF.columns)\n",
    "    vals = []\n",
    "    for i,popi in enumerate(sixMAF.columns):\n",
    "        freqi = sixMAF.loc[locus,popi]\n",
    "        for j,popj in enumerate(sixMAF.columns):\n",
    "            if i ==j:\n",
    "                df.loc[popi,popj] = 0\n",
    "            if i < j:\n",
    "                freqj = sixMAF.loc[locus,popj]\n",
    "                diff = abs(freqi-freqj)\n",
    "                df.loc[popi,popj] = diff\n",
    "                df.loc[popj,popi] = df.loc[popi,popj]\n",
    "                vals.append(diff)\n",
    "    assert len(vals) == 15\n",
    "    sixmed = np.median(vals)\n",
    "    sixmeds.append(sixmed)\n",
    "    \n",
    "    filE = op.join(DIR,'%s.txt' % locus)\n",
    "    df.to_csv(filE,header=True,index=True,sep='\\t')\n",
    "    \n",
    "    loccount +=1 \n",
    "    if loccount % 10000 == 0:\n",
    "        print loccount"
   ]
  },
  {
   "cell_type": "code",
   "execution_count": 48,
   "metadata": {
    "collapsed": false
   },
   "outputs": [
    {
     "data": {
      "text/plain": [
       "115632"
      ]
     },
     "execution_count": 48,
     "metadata": {},
     "output_type": "execute_result"
    }
   ],
   "source": [
    "len(sixmeds)"
   ]
  },
  {
   "cell_type": "code",
   "execution_count": 49,
   "metadata": {
    "collapsed": false
   },
   "outputs": [],
   "source": [
    "DIR = \"/home/lindb/wbp/overall_freqshifts/6pops\"\n",
    "filE = op.join(DIR,'medianvals.txt')\n",
    "df = pd.DataFrame(sixmeds)\n",
    "df.to_csv(filE,header=False,index=False,sep='\\t')"
   ]
  },
  {
   "cell_type": "code",
   "execution_count": 185,
   "metadata": {
    "collapsed": false
   },
   "outputs": [
    {
     "data": {
      "text/plain": [
       "115632"
      ]
     },
     "execution_count": 185,
     "metadata": {},
     "output_type": "execute_result"
    }
   ],
   "source": [
    "DIR = '/home/lindb/wbp/overall_freqshifts/6pops/'\n",
    "files = [op.join(DIR,f) for f in ls(DIR) if ('NODE' in f) and ('swp' not in f)]\n",
    "len(files)"
   ]
  },
  {
   "cell_type": "code",
   "execution_count": 186,
   "metadata": {
    "collapsed": false
   },
   "outputs": [
    {
     "name": "stdout",
     "output_type": "stream",
     "text": [
      "10000\n",
      "20000\n",
      "30000\n",
      "40000\n",
      "50000\n",
      "60000\n",
      "70000\n",
      "80000\n",
      "90000\n",
      "100000\n",
      "110000\n"
     ]
    }
   ],
   "source": [
    "loccount =0\n",
    "locDict6 = OrderedDict()\n",
    "for f in sorted(files):\n",
    "    locus = op.basename(f).split(\".txt\")[0]\n",
    "    df = pd.read_csv(f,header=0,index_col=0,sep='\\t')\n",
    "    vals = []\n",
    "    for i,popi in enumerate(df.columns):\n",
    "        for j,popj in enumerate(df.index):\n",
    "            if i < j:\n",
    "                vals.append(df.loc[popi,popj])\n",
    "    locDict6[locus] = np.median(vals)\n",
    "    loccount += 1\n",
    "    if loccount % 10000 == 0:\n",
    "        print loccount"
   ]
  },
  {
   "cell_type": "markdown",
   "metadata": {},
   "source": [
    "### get GEMMA snps"
   ]
  },
  {
   "cell_type": "code",
   "execution_count": 193,
   "metadata": {
    "collapsed": true
   },
   "outputs": [],
   "source": [
    "DIR = '/home/lindb/wbp/gemma/covariance_pips_998/dvals/'\n",
    "files = [op.join(DIR,f) for f in ls(DIR)]\n",
    "gemsnps = {}\n",
    "for f in sorted(files):\n",
    "    pheno = op.basename(f).split(\"_\")[0]\n",
    "    df = pd.read_csv(f,header=0,index_col=0,sep='\\t')\n",
    "    gemsnps[pheno] = df.index.tolist()"
   ]
  },
  {
   "cell_type": "code",
   "execution_count": 194,
   "metadata": {
    "collapsed": false
   },
   "outputs": [
    {
     "name": "stdout",
     "output_type": "stream",
     "text": [
      "rspopx 234\n",
      "bfpopx 240\n",
      "c13popx 240\n",
      "n15popx 232\n",
      "htpopx 238\n"
     ]
    }
   ],
   "source": [
    "for pheno in gemsnps:\n",
    "    print pheno,len(gemsnps[pheno])"
   ]
  },
  {
   "cell_type": "code",
   "execution_count": 195,
   "metadata": {
    "collapsed": false
   },
   "outputs": [
    {
     "data": {
      "text/plain": [
       "115632"
      ]
     },
     "execution_count": 195,
     "metadata": {},
     "output_type": "execute_result"
    }
   ],
   "source": [
    "len(locDict6.keys())"
   ]
  },
  {
   "cell_type": "code",
   "execution_count": 200,
   "metadata": {
    "collapsed": false
   },
   "outputs": [
    {
     "name": "stdout",
     "output_type": "stream",
     "text": [
      "bfpopx\n",
      "c13popx\n",
      "htpopx\n",
      "n15popx\n",
      "rspopx\n"
     ]
    }
   ],
   "source": [
    "#get a list of 1000 sets of random SNPs for each environment\n",
    "#these SNPs were drawn randomly in 08_bayenv2.ipynb for identification of significant covariation\n",
    "DIR = '/home/lindb/wbp/gemma/covariance_pips_998/randmatrices/randsnps'\n",
    "DIRS = [op.join(DIR,d) for d in ls(DIR)]\n",
    "gemrand = {}\n",
    "for d in DIRS:\n",
    "    pheno = op.basename(d)\n",
    "    print pheno\n",
    "    gemrand[pheno] = {}\n",
    "    files = [op.join(d,f) for f in ls(d)]\n",
    "    for f in sorted(files):\n",
    "        num = op.basename(f).split(\"_\")[1]\n",
    "        df = pd.read_csv(f,header=None,sep='\\t')\n",
    "        gemrand[pheno][num] = df[0].tolist()"
   ]
  },
  {
   "cell_type": "code",
   "execution_count": 202,
   "metadata": {
    "collapsed": false
   },
   "outputs": [],
   "source": [
    "#get a distribution from these 1000 sets for each env\n",
    "gemrandmeds = {}\n",
    "for pheno in gemrand:\n",
    "    gemrandmeds[pheno] = []\n",
    "    for num in gemrand[pheno]:\n",
    "        gemrandmeds[pheno].append(np.mean([float(locDict6[SNP]) for SNP in gemrand[pheno][num]]))           "
   ]
  },
  {
   "cell_type": "code",
   "execution_count": 212,
   "metadata": {
    "collapsed": true
   },
   "outputs": [],
   "source": [
    "gemmeans = {}\n",
    "for pheno in gemrand:\n",
    "    gemmeans[pheno] = np.mean([locDict6[snp] for snp in gemsnps[pheno]])"
   ]
  },
  {
   "cell_type": "code",
   "execution_count": 228,
   "metadata": {
    "collapsed": false
   },
   "outputs": [
    {
     "name": "stdout",
     "output_type": "stream",
     "text": [
      " rspopx 0.0795716237953 0.0874907256486\n",
      "bfpopx 0.0720396990108 0.0727438862307\n",
      "c13popx 0.0618438402825 0.060935482646\n",
      "n15popx 0.0589423527471 0.0598448511561\n",
      "htpopx 0.0569354425502 0.0544943336186\n"
     ]
    }
   ],
   "source": [
    "for pheno in gemrand:\n",
    "    print pheno, np.mean(gemrandmeds[pheno]),gemmeans[pheno]"
   ]
  },
  {
   "cell_type": "code",
   "execution_count": 218,
   "metadata": {
    "collapsed": false
   },
   "outputs": [
    {
     "data": {
      "image/png": "[encoded data removed]",
      "text/plain": [
       "<matplotlib.figure.Figure at 0x2af4acaf0710>"
      ]
     },
     "metadata": {},
     "output_type": "display_data"
    }
   ],
   "source": [
    "lst = ['A','B','C','D','E','F','G','H','I']\n",
    "col = 'red'\n",
    "with PdfPages('/home/lindb/wbp/figures/allele_freq_shifts_hexp_gemma.pdf') as pdf:\n",
    "    \n",
    "    plt.close('all')\n",
    "    fig, ((a1,a2,a3),(a4,a5,a6)) = plt.subplots(2, 3, figsize=(5,5),dpi=400)\n",
    "    \n",
    "    plotdict = {}\n",
    "    count = 1\n",
    "    for pheno in sorted(gemrand):\n",
    "        plotdict[count] = plt.subplot(int(\"23%s\" % count))\n",
    "\n",
    "        plotdict[count].hist(gemrandmeds[pheno],bins = [x for x in np.arange(0,.1,0.001)])[2]\n",
    "\n",
    "        #plotdict[count].set_title(lst[count-1],y=.9,loc='right',fontsize=17,fontweight='bold')\n",
    "        plotdict[count].set_title(pheno,y=.9,loc='right',fontsize=17,fontweight='bold')\n",
    "        \n",
    "        plotdict[count].set_xlim(0,0.1)\n",
    "        plotdict[count].set_ylim(0,300)\n",
    "        plotdict[count].spines[\"top\"].set_visible(False)\n",
    "        plotdict[count].spines[\"right\"].set_visible(False)\n",
    "        \n",
    "        plotdict[count].axvline(x=gemmeans[pheno],c='red',linewidth=3,zorder=1)\n",
    "        \n",
    "#         for SNP in bayDict[env]:\n",
    "#             plotdict[count].axvline(x=locDict8[SNP],ymin=0.83,c=col,linewidth=0.25,zorder=1)\n",
    "        count += 1\n",
    "\n",
    "    fig.set_size_inches(13,10)\n",
    "    pdf.savefig(fig,bbox_inches='tight')"
   ]
  },
  {
   "cell_type": "code",
   "execution_count": 214,
   "metadata": {
    "collapsed": false
   },
   "outputs": [
    {
     "data": {
      "text/plain": [
       "['bfpopx', 'c13popx', 'htpopx', 'n15popx', 'rspopx']"
      ]
     },
     "execution_count": 214,
     "metadata": {},
     "output_type": "execute_result"
    }
   ],
   "source": [
    "[pheno for pheno in sorted(gemrand)]"
   ]
  },
  {
   "cell_type": "code",
   "execution_count": null,
   "metadata": {
    "collapsed": true
   },
   "outputs": [],
   "source": []
  },
  {
   "cell_type": "code",
   "execution_count": null,
   "metadata": {
    "collapsed": true
   },
   "outputs": [],
   "source": []
  },
  {
   "cell_type": "code",
   "execution_count": null,
   "metadata": {
    "collapsed": true
   },
   "outputs": [],
   "source": []
  },
  {
   "cell_type": "code",
   "execution_count": null,
   "metadata": {
    "collapsed": true
   },
   "outputs": [],
   "source": []
  },
  {
   "cell_type": "code",
   "execution_count": null,
   "metadata": {
    "collapsed": true
   },
   "outputs": [],
   "source": []
  }
 ],
 "metadata": {
  "kernelspec": {
   "display_name": "Python 2",
   "language": "python",
   "name": "python2"
  },
  "language_info": {
   "codemirror_mode": {
    "name": "ipython",
    "version": 2
   },
   "file_extension": ".py",
   "mimetype": "text/x-python",
   "name": "python",
   "nbconvert_exporter": "python",
   "pygments_lexer": "ipython2",
   "version": "2.7.11"
  }
 },
 "nbformat": 4,
 "nbformat_minor": 0
}
