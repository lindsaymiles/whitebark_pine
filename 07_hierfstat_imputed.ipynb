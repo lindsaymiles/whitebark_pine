{
 "cells": [
  {
   "cell_type": "code",
   "execution_count": 3,
   "metadata": {
    "collapsed": true
   },
   "outputs": [],
   "source": [
    "from os import path as op\n",
    "from os import listdir as ls"
   ]
  },
  {
   "cell_type": "code",
   "execution_count": 4,
   "metadata": {
    "collapsed": false
   },
   "outputs": [
    {
     "name": "stderr",
     "output_type": "stream",
     "text": [
      "Vendor:  Continuum Analytics, Inc.\n",
      "Package: mkl\n",
      "Message: license expired\n",
      "\n",
      "    the package numpy 1.10.2 was published on 2015-12-14,\n",
      "    however the mkl license expiration date is 2015-05-28.\n",
      "    You may be able to run earlier versions of numpy using your\n",
      "    current license.  A new license can be purchased at: http://continuum.io\n",
      "    To revert to an earlier set of conda packages, use:\n",
      "    $ conda list --revisions\n",
      "    ...\n",
      "    $ conda install --revision <REVISION NUMBER>\n",
      "\n",
      "    \n"
     ]
    }
   ],
   "source": [
    "import os\n",
    "from collections import OrderedDict,Counter\n",
    "from __future__ import division\n",
    "import pandas as pd\n",
    "import numpy as np\n",
    "import vcf\n",
    "from operator import itemgetter\n",
    "import random\n",
    "import matplotlib.pyplot as plt\n",
    "import matplotlib.gridspec as gridspec\n",
    "from matplotlib.backends.backend_pdf import PdfPages\n",
    "import matplotlib.ticker as mtick\n",
    "%matplotlib inline"
   ]
  },
  {
   "cell_type": "code",
   "execution_count": 3,
   "metadata": {
    "collapsed": true
   },
   "outputs": [],
   "source": [
    "#I made these files in 6_pca.ipynb, they are symlinked to the hierfstat folder\n",
    "#genotypes are coded based on minor allele\n",
    "hierf = '/home/lindb/wbp/hierfstat/imputed/imputed_z12_maf_swp_trans.txt'"
   ]
  },
  {
   "cell_type": "code",
   "execution_count": 4,
   "metadata": {
    "collapsed": true
   },
   "outputs": [],
   "source": [
    "hierfdf = pd.read_csv(hierf,header=0,index_col=0,sep=\"\\t\")"
   ]
  },
  {
   "cell_type": "code",
   "execution_count": 6,
   "metadata": {
    "collapsed": false
   },
   "outputs": [
    {
     "data": {
      "text/html": [
       "<div>\n",
       "<table border=\"1\" class=\"dataframe\">\n",
       "  <thead>\n",
       "    <tr style=\"text-align: right;\">\n",
       "      <th></th>\n",
       "      <th>popid</th>\n",
       "      <th>plotid</th>\n",
       "      <th>NODE_1000013_length_91_cov_1.802198_37</th>\n",
       "      <th>NODE_1000031_length_98_cov_2.000000_30</th>\n",
       "      <th>NODE_1000037_length_93_cov_2.043011_33</th>\n",
       "      <th>NODE_1000042_length_93_cov_1.118280_100</th>\n",
       "      <th>NODE_1000053_length_94_cov_1.744681_25</th>\n",
       "      <th>NODE_1000061_length_47_cov_1.680851_49</th>\n",
       "      <th>NODE_1000118_length_95_cov_2.000000_24</th>\n",
       "      <th>NODE_1000128_length_98_cov_1.714286_53</th>\n",
       "      <th>...</th>\n",
       "      <th>NODE_999880_length_98_cov_1.683674_22</th>\n",
       "      <th>NODE_999886_length_96_cov_1.020833_38</th>\n",
       "      <th>NODE_999899_length_96_cov_1.000000_91</th>\n",
       "      <th>NODE_999927_length_95_cov_2.000000_55</th>\n",
       "      <th>NODE_999933_length_76_cov_1.236842_76</th>\n",
       "      <th>NODE_999938_length_98_cov_1.142857_98</th>\n",
       "      <th>NODE_999941_length_107_cov_1.196262_25</th>\n",
       "      <th>NODE_999958_length_91_cov_1.021978_17</th>\n",
       "      <th>NODE_999968_length_75_cov_1.680000_37</th>\n",
       "      <th>NODE_999969_length_92_cov_4.271739_37</th>\n",
       "    </tr>\n",
       "  </thead>\n",
       "  <tbody>\n",
       "    <tr>\n",
       "      <th>009compiled</th>\n",
       "      <td>1</td>\n",
       "      <td>1</td>\n",
       "      <td>11</td>\n",
       "      <td>12</td>\n",
       "      <td>11</td>\n",
       "      <td>11</td>\n",
       "      <td>11</td>\n",
       "      <td>11</td>\n",
       "      <td>12</td>\n",
       "      <td>11</td>\n",
       "      <td>...</td>\n",
       "      <td>11</td>\n",
       "      <td>11</td>\n",
       "      <td>12</td>\n",
       "      <td>11</td>\n",
       "      <td>12</td>\n",
       "      <td>12</td>\n",
       "      <td>11</td>\n",
       "      <td>11</td>\n",
       "      <td>11</td>\n",
       "      <td>12</td>\n",
       "    </tr>\n",
       "    <tr>\n",
       "      <th>010compiled</th>\n",
       "      <td>1</td>\n",
       "      <td>1</td>\n",
       "      <td>11</td>\n",
       "      <td>12</td>\n",
       "      <td>12</td>\n",
       "      <td>11</td>\n",
       "      <td>11</td>\n",
       "      <td>11</td>\n",
       "      <td>11</td>\n",
       "      <td>11</td>\n",
       "      <td>...</td>\n",
       "      <td>11</td>\n",
       "      <td>11</td>\n",
       "      <td>11</td>\n",
       "      <td>11</td>\n",
       "      <td>12</td>\n",
       "      <td>12</td>\n",
       "      <td>11</td>\n",
       "      <td>11</td>\n",
       "      <td>11</td>\n",
       "      <td>11</td>\n",
       "    </tr>\n",
       "    <tr>\n",
       "      <th>011compiled</th>\n",
       "      <td>1</td>\n",
       "      <td>1</td>\n",
       "      <td>12</td>\n",
       "      <td>11</td>\n",
       "      <td>12</td>\n",
       "      <td>11</td>\n",
       "      <td>11</td>\n",
       "      <td>11</td>\n",
       "      <td>12</td>\n",
       "      <td>11</td>\n",
       "      <td>...</td>\n",
       "      <td>11</td>\n",
       "      <td>11</td>\n",
       "      <td>12</td>\n",
       "      <td>11</td>\n",
       "      <td>12</td>\n",
       "      <td>11</td>\n",
       "      <td>11</td>\n",
       "      <td>11</td>\n",
       "      <td>11</td>\n",
       "      <td>11</td>\n",
       "    </tr>\n",
       "    <tr>\n",
       "      <th>012compiled</th>\n",
       "      <td>1</td>\n",
       "      <td>1</td>\n",
       "      <td>11</td>\n",
       "      <td>11</td>\n",
       "      <td>11</td>\n",
       "      <td>12</td>\n",
       "      <td>11</td>\n",
       "      <td>11</td>\n",
       "      <td>12</td>\n",
       "      <td>11</td>\n",
       "      <td>...</td>\n",
       "      <td>11</td>\n",
       "      <td>12</td>\n",
       "      <td>22</td>\n",
       "      <td>11</td>\n",
       "      <td>12</td>\n",
       "      <td>11</td>\n",
       "      <td>11</td>\n",
       "      <td>11</td>\n",
       "      <td>12</td>\n",
       "      <td>12</td>\n",
       "    </tr>\n",
       "    <tr>\n",
       "      <th>013compiled</th>\n",
       "      <td>1</td>\n",
       "      <td>1</td>\n",
       "      <td>22</td>\n",
       "      <td>11</td>\n",
       "      <td>11</td>\n",
       "      <td>11</td>\n",
       "      <td>11</td>\n",
       "      <td>11</td>\n",
       "      <td>12</td>\n",
       "      <td>12</td>\n",
       "      <td>...</td>\n",
       "      <td>11</td>\n",
       "      <td>11</td>\n",
       "      <td>12</td>\n",
       "      <td>11</td>\n",
       "      <td>12</td>\n",
       "      <td>11</td>\n",
       "      <td>11</td>\n",
       "      <td>11</td>\n",
       "      <td>11</td>\n",
       "      <td>12</td>\n",
       "    </tr>\n",
       "  </tbody>\n",
       "</table>\n",
       "<p>5 rows × 116233 columns</p>\n",
       "</div>"
      ],
      "text/plain": [
       "             popid  plotid  NODE_1000013_length_91_cov_1.802198_37  \\\n",
       "009compiled      1       1                                      11   \n",
       "010compiled      1       1                                      11   \n",
       "011compiled      1       1                                      12   \n",
       "012compiled      1       1                                      11   \n",
       "013compiled      1       1                                      22   \n",
       "\n",
       "             NODE_1000031_length_98_cov_2.000000_30  \\\n",
       "009compiled                                      12   \n",
       "010compiled                                      12   \n",
       "011compiled                                      11   \n",
       "012compiled                                      11   \n",
       "013compiled                                      11   \n",
       "\n",
       "             NODE_1000037_length_93_cov_2.043011_33  \\\n",
       "009compiled                                      11   \n",
       "010compiled                                      12   \n",
       "011compiled                                      12   \n",
       "012compiled                                      11   \n",
       "013compiled                                      11   \n",
       "\n",
       "             NODE_1000042_length_93_cov_1.118280_100  \\\n",
       "009compiled                                       11   \n",
       "010compiled                                       11   \n",
       "011compiled                                       11   \n",
       "012compiled                                       12   \n",
       "013compiled                                       11   \n",
       "\n",
       "             NODE_1000053_length_94_cov_1.744681_25  \\\n",
       "009compiled                                      11   \n",
       "010compiled                                      11   \n",
       "011compiled                                      11   \n",
       "012compiled                                      11   \n",
       "013compiled                                      11   \n",
       "\n",
       "             NODE_1000061_length_47_cov_1.680851_49  \\\n",
       "009compiled                                      11   \n",
       "010compiled                                      11   \n",
       "011compiled                                      11   \n",
       "012compiled                                      11   \n",
       "013compiled                                      11   \n",
       "\n",
       "             NODE_1000118_length_95_cov_2.000000_24  \\\n",
       "009compiled                                      12   \n",
       "010compiled                                      11   \n",
       "011compiled                                      12   \n",
       "012compiled                                      12   \n",
       "013compiled                                      12   \n",
       "\n",
       "             NODE_1000128_length_98_cov_1.714286_53  \\\n",
       "009compiled                                      11   \n",
       "010compiled                                      11   \n",
       "011compiled                                      11   \n",
       "012compiled                                      11   \n",
       "013compiled                                      12   \n",
       "\n",
       "                             ...                    \\\n",
       "009compiled                  ...                     \n",
       "010compiled                  ...                     \n",
       "011compiled                  ...                     \n",
       "012compiled                  ...                     \n",
       "013compiled                  ...                     \n",
       "\n",
       "             NODE_999880_length_98_cov_1.683674_22  \\\n",
       "009compiled                                     11   \n",
       "010compiled                                     11   \n",
       "011compiled                                     11   \n",
       "012compiled                                     11   \n",
       "013compiled                                     11   \n",
       "\n",
       "             NODE_999886_length_96_cov_1.020833_38  \\\n",
       "009compiled                                     11   \n",
       "010compiled                                     11   \n",
       "011compiled                                     11   \n",
       "012compiled                                     12   \n",
       "013compiled                                     11   \n",
       "\n",
       "             NODE_999899_length_96_cov_1.000000_91  \\\n",
       "009compiled                                     12   \n",
       "010compiled                                     11   \n",
       "011compiled                                     12   \n",
       "012compiled                                     22   \n",
       "013compiled                                     12   \n",
       "\n",
       "             NODE_999927_length_95_cov_2.000000_55  \\\n",
       "009compiled                                     11   \n",
       "010compiled                                     11   \n",
       "011compiled                                     11   \n",
       "012compiled                                     11   \n",
       "013compiled                                     11   \n",
       "\n",
       "             NODE_999933_length_76_cov_1.236842_76  \\\n",
       "009compiled                                     12   \n",
       "010compiled                                     12   \n",
       "011compiled                                     12   \n",
       "012compiled                                     12   \n",
       "013compiled                                     12   \n",
       "\n",
       "             NODE_999938_length_98_cov_1.142857_98  \\\n",
       "009compiled                                     12   \n",
       "010compiled                                     12   \n",
       "011compiled                                     11   \n",
       "012compiled                                     11   \n",
       "013compiled                                     11   \n",
       "\n",
       "             NODE_999941_length_107_cov_1.196262_25  \\\n",
       "009compiled                                      11   \n",
       "010compiled                                      11   \n",
       "011compiled                                      11   \n",
       "012compiled                                      11   \n",
       "013compiled                                      11   \n",
       "\n",
       "             NODE_999958_length_91_cov_1.021978_17  \\\n",
       "009compiled                                     11   \n",
       "010compiled                                     11   \n",
       "011compiled                                     11   \n",
       "012compiled                                     11   \n",
       "013compiled                                     11   \n",
       "\n",
       "             NODE_999968_length_75_cov_1.680000_37  \\\n",
       "009compiled                                     11   \n",
       "010compiled                                     11   \n",
       "011compiled                                     11   \n",
       "012compiled                                     12   \n",
       "013compiled                                     11   \n",
       "\n",
       "             NODE_999969_length_92_cov_4.271739_37  \n",
       "009compiled                                     12  \n",
       "010compiled                                     11  \n",
       "011compiled                                     11  \n",
       "012compiled                                     12  \n",
       "013compiled                                     12  \n",
       "\n",
       "[5 rows x 116233 columns]"
      ]
     },
     "execution_count": 6,
     "metadata": {},
     "output_type": "execute_result"
    }
   ],
   "source": [
    "hierfdf.head()"
   ]
  },
  {
   "cell_type": "code",
   "execution_count": 7,
   "metadata": {
    "collapsed": false
   },
   "outputs": [],
   "source": [
    "hierfdf.to_csv('/home/lindb/wbp/hierfstat/imputed/imputed_z12_maf_swp_trans_NOIDX.txt',header=True,index=False,sep=\"\\t\")"
   ]
  },
  {
   "cell_type": "markdown",
   "metadata": {},
   "source": [
    "# Put into R \n",
    "\n",
    "```R\n",
    "\n",
    "setwd(\"/home/lindb/wbp/hierfstat/imputed/\")\n",
    "get_varcomp = function(x) \n",
    "{\n",
    "    library(hierfstat)\n",
    "    loci = data.frame(x)\n",
    "    res <- varcomp(cbind(levels, loci),diploid=T)$overall\n",
    "}\n",
    "\n",
    "finish_varcomp = function(m) \n",
    "{\n",
    "    tot <- apply(m, 2, sum, na.rm = TRUE)\n",
    "    nblevels <- length(tot)\n",
    "    f <- matrix(rep(0, (nblevels - 1)^2), ncol = (nblevels - 1))\n",
    "    for (i in 1:(nblevels - 1)) \n",
    "    {\n",
    "        for (j in i:(nblevels - 1)) \n",
    "        {\n",
    "            f[i, j] <- sum(tot[i:j])/sum(tot[i:nblevels])\n",
    "        }\n",
    "    }\n",
    "    row.names(m) <- lnames\n",
    "    print(names(tot))\n",
    "    tf <- t(f)\n",
    "    row.names(tf) <- fnames\n",
    "    f <- t(tf)\n",
    "    row.names(f) <- c(\"Total\", fnames[-length(fnames)])\n",
    "    return(list(loc = m, overall = tot, F = f))\n",
    "}\n",
    "\n",
    "\n",
    "library(hierfstat)\n",
    "library(data.table)\n",
    "library(snow)\n",
    "data = data.frame(fread(\"imputed_z12_maf_swp_trans_NOIDX.txt\", header=T, sep=\"\\t\"))\n",
    "levels = data.frame(data[,1:2])\n",
    "loci = data[,3:ncol(data)]\n",
    "lnames=names(loci)\n",
    "fnames=c(names(levels), \"Ind\")\n",
    "cl = makeSOCKcluster(50)\n",
    "clusterExport(cl, \"levels\", envir=environment())\n",
    "system.time(res <- matrix(parCapply(cl, loci, get_varcomp), nrow=length(names(loci)),byrow=T))\n",
    "res = finish_varcomp(res)\n",
    "saveRDS(res, \"hierfstatRUN_imputed.rds\")\n",
    "system.time(bs <- basic.stats(data))\n",
    "saveRDS(bs, \"bs_hierfstatRUN_imputed.rds\")\n",
    "stopCluster(cl)\n",
    "print(\"Done!\")\n",
    "\n",
    "\n",
    "```"
   ]
  },
  {
   "cell_type": "code",
   "execution_count": 61,
   "metadata": {
    "collapsed": true
   },
   "outputs": [],
   "source": [
    "def setup_r(): \n",
    "    os.environ['R_HOME'] = '/home/lindb/g/R3/lib64/R/' \n",
    "    os.environ['LD_LIBRARY_PATH'] = \"%s/lib:%s\" % (os.environ['R_HOME'], \n",
    "                                                   os.environ['LD_LIBRARY_PATH'])"
   ]
  },
  {
   "cell_type": "code",
   "execution_count": 62,
   "metadata": {
    "collapsed": false
   },
   "outputs": [],
   "source": [
    "setup_r()\n",
    "import readline\n",
    "import rpy2.robjects as robjects\n",
    "from rpy2.robjects import pandas2ri as pd2ri\n",
    "pd2ri.activate()\n",
    "r = robjects.r"
   ]
  },
  {
   "cell_type": "code",
   "execution_count": 63,
   "metadata": {
    "collapsed": true
   },
   "outputs": [],
   "source": [
    "%reload_ext autoreload\n",
    "%autoreload 2\n",
    "%matplotlib inline\n",
    "%load_ext rpy2.ipython\n",
    "%matplotlib inline"
   ]
  },
  {
   "cell_type": "code",
   "execution_count": 64,
   "metadata": {
    "collapsed": true
   },
   "outputs": [
    {
     "data": {
      "text/plain": [
       "R version 3.2.2 (2015-08-14)\n",
       "Platform: x86_64-pc-linux-gnu (64-bit)\n",
       "Running under: CentOS release 6.7 (Final)\n",
       "\n",
       "locale:\n",
       " [1] LC_CTYPE=en_US.UTF-8       LC_NUMERIC=C              \n",
       " [3] LC_TIME=en_US.UTF-8        LC_COLLATE=en_US.UTF-8    \n",
       " [5] LC_MONETARY=en_US.UTF-8    LC_MESSAGES=en_US.UTF-8   \n",
       " [7] LC_PAPER=en_US.UTF-8       LC_NAME=C                 \n",
       " [9] LC_ADDRESS=C               LC_TELEPHONE=C            \n",
       "[11] LC_MEASUREMENT=en_US.UTF-8 LC_IDENTIFICATION=C       \n",
       "\n",
       "attached base packages:\n",
       "[1] tools     stats     graphics  grDevices utils     datasets  methods  \n",
       "[8] base     \n"
      ]
     },
     "metadata": {},
     "output_type": "display_data"
    }
   ],
   "source": [
    "%%R\n",
    "sessionInfo()"
   ]
  },
  {
   "cell_type": "code",
   "execution_count": 65,
   "metadata": {
    "collapsed": true
   },
   "outputs": [],
   "source": [
    "def get_r_series(key):\n",
    "    s = pd.Series(get_r(key))\n",
    "    s.index = get_r(\"names(%s)\" % key)\n",
    "    return s\n",
    "\n",
    "def get_r_df(key):\n",
    "    df = pd.DataFrame(get_r(key))\n",
    "    try:\n",
    "        rname = get_r(\"rownames(%s)\" % key)\n",
    "        df.index = rname\n",
    "    except:\n",
    "        pass\n",
    "    \n",
    "    try:\n",
    "        cname = get_r(\"colnames(%s)\" % key)\n",
    "        df.columns = cname\n",
    "    except:\n",
    "        pass\n",
    "    \n",
    "    return df\n",
    "\n",
    "def get_r(key):\n",
    "    return r(key)"
   ]
  },
  {
   "cell_type": "code",
   "execution_count": 9,
   "metadata": {
    "collapsed": false
   },
   "outputs": [],
   "source": [
    "%%R\n",
    "res = readRDS(\"/home/lindb/wbp/hierfstat/imputed/hierfstatRUN_imputed.rds\")"
   ]
  },
  {
   "cell_type": "code",
   "execution_count": 66,
   "metadata": {
    "collapsed": true
   },
   "outputs": [],
   "source": [
    "%%R\n",
    "bs = readRDS(\"/home/lindb/wbp/hierfstat/imputed/bs_hierfstatRUN_imputed.rds\")"
   ]
  },
  {
   "cell_type": "code",
   "execution_count": 11,
   "metadata": {
    "collapsed": false
   },
   "outputs": [
    {
     "data": {
      "text/html": [
       "<div>\n",
       "<table border=\"1\" class=\"dataframe\">\n",
       "  <thead>\n",
       "    <tr style=\"text-align: right;\">\n",
       "      <th></th>\n",
       "      <th>popid</th>\n",
       "      <th>plotid</th>\n",
       "      <th>Ind</th>\n",
       "    </tr>\n",
       "  </thead>\n",
       "  <tbody>\n",
       "    <tr>\n",
       "      <th>Total</th>\n",
       "      <td>0.003887</td>\n",
       "      <td>0.006868</td>\n",
       "      <td>-0.100147</td>\n",
       "    </tr>\n",
       "    <tr>\n",
       "      <th>popid</th>\n",
       "      <td>0.000000</td>\n",
       "      <td>0.002993</td>\n",
       "      <td>-0.104440</td>\n",
       "    </tr>\n",
       "    <tr>\n",
       "      <th>plotid</th>\n",
       "      <td>0.000000</td>\n",
       "      <td>0.000000</td>\n",
       "      <td>-0.107755</td>\n",
       "    </tr>\n",
       "  </tbody>\n",
       "</table>\n",
       "</div>"
      ],
      "text/plain": [
       "           popid    plotid       Ind\n",
       "Total   0.003887  0.006868 -0.100147\n",
       "popid   0.000000  0.002993 -0.104440\n",
       "plotid  0.000000  0.000000 -0.107755"
      ]
     },
     "execution_count": 11,
     "metadata": {},
     "output_type": "execute_result"
    }
   ],
   "source": [
    "resF = get_r_df(\"res$F\")\n",
    "resF"
   ]
  },
  {
   "cell_type": "code",
   "execution_count": 68,
   "metadata": {
    "collapsed": false
   },
   "outputs": [
    {
     "data": {
      "text/html": [
       "<div>\n",
       "<table border=\"1\" class=\"dataframe\">\n",
       "  <thead>\n",
       "    <tr style=\"text-align: right;\">\n",
       "      <th></th>\n",
       "      <th>Ho</th>\n",
       "      <th>Hs</th>\n",
       "      <th>Ht</th>\n",
       "      <th>Dst</th>\n",
       "      <th>Htp</th>\n",
       "      <th>Dstp</th>\n",
       "      <th>Fst</th>\n",
       "      <th>Fstp</th>\n",
       "      <th>Fis</th>\n",
       "      <th>Dest</th>\n",
       "    </tr>\n",
       "  </thead>\n",
       "  <tbody>\n",
       "    <tr>\n",
       "      <th>plotid</th>\n",
       "      <td>1.0000</td>\n",
       "      <td>0.6709</td>\n",
       "      <td>0.6672</td>\n",
       "      <td>-0.0037</td>\n",
       "      <td>0.6667</td>\n",
       "      <td>-0.0042</td>\n",
       "      <td>-0.0055</td>\n",
       "      <td>-0.0063</td>\n",
       "      <td>-0.4906</td>\n",
       "      <td>-0.0127</td>\n",
       "    </tr>\n",
       "    <tr>\n",
       "      <th>NODE_1000013_length_91_cov_1.802198_37</th>\n",
       "      <td>0.1384</td>\n",
       "      <td>0.2300</td>\n",
       "      <td>0.2273</td>\n",
       "      <td>-0.0028</td>\n",
       "      <td>0.2269</td>\n",
       "      <td>-0.0032</td>\n",
       "      <td>-0.0121</td>\n",
       "      <td>-0.0139</td>\n",
       "      <td>0.3984</td>\n",
       "      <td>-0.0041</td>\n",
       "    </tr>\n",
       "    <tr>\n",
       "      <th>NODE_1000031_length_98_cov_2.000000_30</th>\n",
       "      <td>0.2235</td>\n",
       "      <td>0.2756</td>\n",
       "      <td>0.2773</td>\n",
       "      <td>0.0017</td>\n",
       "      <td>0.2775</td>\n",
       "      <td>0.0019</td>\n",
       "      <td>0.0060</td>\n",
       "      <td>0.0069</td>\n",
       "      <td>0.1888</td>\n",
       "      <td>0.0026</td>\n",
       "    </tr>\n",
       "    <tr>\n",
       "      <th>NODE_1000037_length_93_cov_2.043011_33</th>\n",
       "      <td>0.2273</td>\n",
       "      <td>0.2237</td>\n",
       "      <td>0.2217</td>\n",
       "      <td>-0.0020</td>\n",
       "      <td>0.2214</td>\n",
       "      <td>-0.0023</td>\n",
       "      <td>-0.0090</td>\n",
       "      <td>-0.0103</td>\n",
       "      <td>-0.0159</td>\n",
       "      <td>-0.0029</td>\n",
       "    </tr>\n",
       "    <tr>\n",
       "      <th>NODE_1000042_length_93_cov_1.118280_100</th>\n",
       "      <td>0.0840</td>\n",
       "      <td>0.0806</td>\n",
       "      <td>0.0806</td>\n",
       "      <td>0.0000</td>\n",
       "      <td>0.0807</td>\n",
       "      <td>0.0000</td>\n",
       "      <td>0.0004</td>\n",
       "      <td>0.0005</td>\n",
       "      <td>-0.0420</td>\n",
       "      <td>0.0000</td>\n",
       "    </tr>\n",
       "  </tbody>\n",
       "</table>\n",
       "</div>"
      ],
      "text/plain": [
       "                                             Ho      Hs      Ht     Dst  \\\n",
       "plotid                                   1.0000  0.6709  0.6672 -0.0037   \n",
       "NODE_1000013_length_91_cov_1.802198_37   0.1384  0.2300  0.2273 -0.0028   \n",
       "NODE_1000031_length_98_cov_2.000000_30   0.2235  0.2756  0.2773  0.0017   \n",
       "NODE_1000037_length_93_cov_2.043011_33   0.2273  0.2237  0.2217 -0.0020   \n",
       "NODE_1000042_length_93_cov_1.118280_100  0.0840  0.0806  0.0806  0.0000   \n",
       "\n",
       "                                            Htp    Dstp     Fst    Fstp  \\\n",
       "plotid                                   0.6667 -0.0042 -0.0055 -0.0063   \n",
       "NODE_1000013_length_91_cov_1.802198_37   0.2269 -0.0032 -0.0121 -0.0139   \n",
       "NODE_1000031_length_98_cov_2.000000_30   0.2775  0.0019  0.0060  0.0069   \n",
       "NODE_1000037_length_93_cov_2.043011_33   0.2214 -0.0023 -0.0090 -0.0103   \n",
       "NODE_1000042_length_93_cov_1.118280_100  0.0807  0.0000  0.0004  0.0005   \n",
       "\n",
       "                                            Fis    Dest  \n",
       "plotid                                  -0.4906 -0.0127  \n",
       "NODE_1000013_length_91_cov_1.802198_37   0.3984 -0.0041  \n",
       "NODE_1000031_length_98_cov_2.000000_30   0.1888  0.0026  \n",
       "NODE_1000037_length_93_cov_2.043011_33  -0.0159 -0.0029  \n",
       "NODE_1000042_length_93_cov_1.118280_100 -0.0420  0.0000  "
      ]
     },
     "execution_count": 68,
     "metadata": {},
     "output_type": "execute_result"
    }
   ],
   "source": [
    "bs = get_r_df(\"bs$perloc\")\n",
    "bs.head()"
   ]
  },
  {
   "cell_type": "code",
   "execution_count": 16,
   "metadata": {
    "collapsed": false
   },
   "outputs": [
    {
     "data": {
      "text/html": [
       "<div>\n",
       "<table border=\"1\" class=\"dataframe\">\n",
       "  <thead>\n",
       "    <tr style=\"text-align: right;\">\n",
       "      <th></th>\n",
       "      <th>0</th>\n",
       "    </tr>\n",
       "  </thead>\n",
       "  <tbody>\n",
       "    <tr>\n",
       "      <th>0</th>\n",
       "      <td>90.010840</td>\n",
       "    </tr>\n",
       "    <tr>\n",
       "      <th>1</th>\n",
       "      <td>69.032855</td>\n",
       "    </tr>\n",
       "    <tr>\n",
       "      <th>2</th>\n",
       "      <td>-2478.241164</td>\n",
       "    </tr>\n",
       "    <tr>\n",
       "      <th>3</th>\n",
       "      <td>25477.065574</td>\n",
       "    </tr>\n",
       "  </tbody>\n",
       "</table>\n",
       "</div>"
      ],
      "text/plain": [
       "              0\n",
       "0     90.010840\n",
       "1     69.032855\n",
       "2  -2478.241164\n",
       "3  25477.065574"
      ]
     },
     "execution_count": 16,
     "metadata": {},
     "output_type": "execute_result"
    }
   ],
   "source": [
    "overall = get_r_df(\"res$overall\")\n",
    "overall"
   ]
  },
  {
   "cell_type": "code",
   "execution_count": 13,
   "metadata": {
    "collapsed": false
   },
   "outputs": [
    {
     "data": {
      "text/html": [
       "<div>\n",
       "<table border=\"1\" class=\"dataframe\">\n",
       "  <thead>\n",
       "    <tr style=\"text-align: right;\">\n",
       "      <th></th>\n",
       "      <th>0</th>\n",
       "      <th>1</th>\n",
       "      <th>2</th>\n",
       "      <th>3</th>\n",
       "    </tr>\n",
       "  </thead>\n",
       "  <tbody>\n",
       "    <tr>\n",
       "      <th>NODE_1000013_length_91_cov_1.802198_37</th>\n",
       "      <td>-0.000596</td>\n",
       "      <td>-0.003358</td>\n",
       "      <td>0.089855</td>\n",
       "      <td>0.127049</td>\n",
       "    </tr>\n",
       "    <tr>\n",
       "      <th>NODE_1000031_length_98_cov_2.000000_30</th>\n",
       "      <td>0.003798</td>\n",
       "      <td>-0.001930</td>\n",
       "      <td>0.059784</td>\n",
       "      <td>0.196721</td>\n",
       "    </tr>\n",
       "    <tr>\n",
       "      <th>NODE_1000037_length_93_cov_2.043011_33</th>\n",
       "      <td>-0.001917</td>\n",
       "      <td>-0.000459</td>\n",
       "      <td>-0.003116</td>\n",
       "      <td>0.221311</td>\n",
       "    </tr>\n",
       "    <tr>\n",
       "      <th>NODE_1000042_length_93_cov_1.118280_100</th>\n",
       "      <td>-0.000652</td>\n",
       "      <td>0.002080</td>\n",
       "      <td>-0.004629</td>\n",
       "      <td>0.081967</td>\n",
       "    </tr>\n",
       "    <tr>\n",
       "      <th>NODE_1000053_length_94_cov_1.744681_25</th>\n",
       "      <td>-0.000988</td>\n",
       "      <td>0.002183</td>\n",
       "      <td>-0.002345</td>\n",
       "      <td>0.049180</td>\n",
       "    </tr>\n",
       "  </tbody>\n",
       "</table>\n",
       "</div>"
      ],
      "text/plain": [
       "                                                0         1         2  \\\n",
       "NODE_1000013_length_91_cov_1.802198_37  -0.000596 -0.003358  0.089855   \n",
       "NODE_1000031_length_98_cov_2.000000_30   0.003798 -0.001930  0.059784   \n",
       "NODE_1000037_length_93_cov_2.043011_33  -0.001917 -0.000459 -0.003116   \n",
       "NODE_1000042_length_93_cov_1.118280_100 -0.000652  0.002080 -0.004629   \n",
       "NODE_1000053_length_94_cov_1.744681_25  -0.000988  0.002183 -0.002345   \n",
       "\n",
       "                                                3  \n",
       "NODE_1000013_length_91_cov_1.802198_37   0.127049  \n",
       "NODE_1000031_length_98_cov_2.000000_30   0.196721  \n",
       "NODE_1000037_length_93_cov_2.043011_33   0.221311  \n",
       "NODE_1000042_length_93_cov_1.118280_100  0.081967  \n",
       "NODE_1000053_length_94_cov_1.744681_25   0.049180  "
      ]
     },
     "execution_count": 13,
     "metadata": {},
     "output_type": "execute_result"
    }
   ],
   "source": [
    "loc = get_r_df(\"res$loc\")\n",
    "loc.head()"
   ]
  },
  {
   "cell_type": "code",
   "execution_count": 18,
   "metadata": {
    "collapsed": true
   },
   "outputs": [],
   "source": [
    "#multilocus FST\n",
    "def compute_F_plotTotal(series):\n",
    "    Hs = series[0]+series[1]\n",
    "    Ht = sum(series)\n",
    "    return Hs/Ht"
   ]
  },
  {
   "cell_type": "code",
   "execution_count": 19,
   "metadata": {
    "collapsed": false
   },
   "outputs": [
    {
     "data": {
      "text/plain": [
       "((116231,), NODE_1000013_length_91_cov_1.802198_37    -0.018565\n",
       " NODE_1000031_length_98_cov_2.000000_30     0.007232\n",
       " NODE_1000037_length_93_cov_2.043011_33    -0.011011\n",
       " NODE_1000042_length_93_cov_1.118280_100    0.018138\n",
       " NODE_1000053_length_94_cov_1.744681_25     0.024885\n",
       " dtype: float64)"
      ]
     },
     "execution_count": 19,
     "metadata": {},
     "output_type": "execute_result"
    }
   ],
   "source": [
    "plot_total_fst = loc.apply(compute_F_plotTotal, axis=1)\n",
    "plot_total_fst.shape,plot_total_fst.head()"
   ]
  },
  {
   "cell_type": "code",
   "execution_count": 20,
   "metadata": {
    "collapsed": false
   },
   "outputs": [
    {
     "data": {
      "text/plain": [
       "<a list of 29 Patch objects>"
      ]
     },
     "execution_count": 20,
     "metadata": {},
     "output_type": "execute_result"
    },
    {
     "data": {
      "image/png": "[encoded data removed]",
      "text/plain": [
       "<matplotlib.figure.Figure at 0x2adb873a5d50>"
      ]
     },
     "metadata": {},
     "output_type": "display_data"
    }
   ],
   "source": [
    "plt.hist(plot_total_fst, bins = [x for x in np.linspace(-0.1,0.15,30)])[2]"
   ]
  },
  {
   "cell_type": "code",
   "execution_count": 21,
   "metadata": {
    "collapsed": true
   },
   "outputs": [],
   "source": [
    "def compute_F_popTotal(series):\n",
    "    return series[0]/sum(series)"
   ]
  },
  {
   "cell_type": "code",
   "execution_count": 22,
   "metadata": {
    "collapsed": false
   },
   "outputs": [
    {
     "data": {
      "text/plain": [
       "((116231,), NODE_1000013_length_91_cov_1.802198_37    -0.002797\n",
       " NODE_1000031_length_98_cov_2.000000_30     0.014700\n",
       " NODE_1000037_length_93_cov_2.043011_33    -0.008883\n",
       " NODE_1000042_length_93_cov_1.118280_100   -0.008273\n",
       " NODE_1000053_length_94_cov_1.744681_25    -0.020574\n",
       " dtype: float64)"
      ]
     },
     "execution_count": 22,
     "metadata": {},
     "output_type": "execute_result"
    }
   ],
   "source": [
    "pop_total_fst = loc.apply(compute_F_popTotal, axis = 1)\n",
    "pop_total_fst.shape,pop_total_fst.head()"
   ]
  },
  {
   "cell_type": "code",
   "execution_count": 23,
   "metadata": {
    "collapsed": false
   },
   "outputs": [
    {
     "data": {
      "text/plain": [
       "<a list of 29 Patch objects>"
      ]
     },
     "execution_count": 23,
     "metadata": {},
     "output_type": "execute_result"
    },
    {
     "data": {
      "image/png": "[encoded data removed]",
      "text/plain": [
       "<matplotlib.figure.Figure at 0x2adb8efe80d0>"
      ]
     },
     "metadata": {},
     "output_type": "display_data"
    }
   ],
   "source": [
    "plt.hist(pop_total_fst, bins = [x for x in np.linspace(-0.1,0.1,30)])[2]"
   ]
  },
  {
   "cell_type": "code",
   "execution_count": 74,
   "metadata": {
    "collapsed": false
   },
   "outputs": [
    {
     "data": {
      "text/plain": [
       "<a list of 29 Patch objects>"
      ]
     },
     "execution_count": 74,
     "metadata": {},
     "output_type": "execute_result"
    },
    {
     "data": {
      "image/png": "[encoded data removed]",
      "text/plain": [
       "<matplotlib.figure.Figure at 0x2b6e2810f590>"
      ]
     },
     "metadata": {},
     "output_type": "display_data"
    }
   ],
   "source": [
    "plt.hist(bs['Fst'].tolist(),bins =[x for x in np.linspace(-0.1,0.1,30)])[2]"
   ]
  },
  {
   "cell_type": "code",
   "execution_count": 24,
   "metadata": {
    "collapsed": true
   },
   "outputs": [],
   "source": [
    "def compute_F_plotPop(series):\n",
    "    return series[1]/sum(series[1:])"
   ]
  },
  {
   "cell_type": "code",
   "execution_count": 25,
   "metadata": {
    "collapsed": false
   },
   "outputs": [
    {
     "data": {
      "text/plain": [
       "((116231,), NODE_1000013_length_91_cov_1.802198_37    -0.015723\n",
       " NODE_1000031_length_98_cov_2.000000_30    -0.007579\n",
       " NODE_1000037_length_93_cov_2.043011_33    -0.002109\n",
       " NODE_1000042_length_93_cov_1.118280_100    0.026194\n",
       " NODE_1000053_length_94_cov_1.744681_25     0.044543\n",
       " dtype: float64)"
      ]
     },
     "execution_count": 25,
     "metadata": {},
     "output_type": "execute_result"
    }
   ],
   "source": [
    "plot_pop_fst = loc.apply(compute_F_plotPop,axis=1)\n",
    "plot_pop_fst.shape,plot_pop_fst.head()"
   ]
  },
  {
   "cell_type": "code",
   "execution_count": 26,
   "metadata": {
    "collapsed": false,
    "scrolled": true
   },
   "outputs": [
    {
     "data": {
      "text/plain": [
       "<a list of 29 Patch objects>"
      ]
     },
     "execution_count": 26,
     "metadata": {},
     "output_type": "execute_result"
    },
    {
     "data": {
      "image/png": "[encoded data removed]",
      "text/plain": [
       "<matplotlib.figure.Figure at 0x2adb918576d0>"
      ]
     },
     "metadata": {},
     "output_type": "display_data"
    }
   ],
   "source": [
    "plt.hist(plot_pop_fst, bins = [x for x in np.linspace(-0.11,0.11,30)])[2]"
   ]
  },
  {
   "cell_type": "code",
   "execution_count": 27,
   "metadata": {
    "collapsed": false
   },
   "outputs": [
    {
     "data": {
      "text/html": [
       "<div>\n",
       "<table border=\"1\" class=\"dataframe\">\n",
       "  <thead>\n",
       "    <tr style=\"text-align: right;\">\n",
       "      <th></th>\n",
       "      <th>pop_total</th>\n",
       "      <th>plot_total</th>\n",
       "      <th>plot_pop</th>\n",
       "    </tr>\n",
       "  </thead>\n",
       "  <tbody>\n",
       "    <tr>\n",
       "      <th>NODE_1000013_length_91_cov_1.802198_37</th>\n",
       "      <td>-0.002797</td>\n",
       "      <td>-0.018565</td>\n",
       "      <td>-0.015723</td>\n",
       "    </tr>\n",
       "    <tr>\n",
       "      <th>NODE_1000031_length_98_cov_2.000000_30</th>\n",
       "      <td>0.014700</td>\n",
       "      <td>0.007232</td>\n",
       "      <td>-0.007579</td>\n",
       "    </tr>\n",
       "    <tr>\n",
       "      <th>NODE_1000037_length_93_cov_2.043011_33</th>\n",
       "      <td>-0.008883</td>\n",
       "      <td>-0.011011</td>\n",
       "      <td>-0.002109</td>\n",
       "    </tr>\n",
       "    <tr>\n",
       "      <th>NODE_1000042_length_93_cov_1.118280_100</th>\n",
       "      <td>-0.008273</td>\n",
       "      <td>0.018138</td>\n",
       "      <td>0.026194</td>\n",
       "    </tr>\n",
       "    <tr>\n",
       "      <th>NODE_1000053_length_94_cov_1.744681_25</th>\n",
       "      <td>-0.020574</td>\n",
       "      <td>0.024885</td>\n",
       "      <td>0.044543</td>\n",
       "    </tr>\n",
       "  </tbody>\n",
       "</table>\n",
       "</div>"
      ],
      "text/plain": [
       "                                         pop_total  plot_total  plot_pop\n",
       "NODE_1000013_length_91_cov_1.802198_37   -0.002797   -0.018565 -0.015723\n",
       "NODE_1000031_length_98_cov_2.000000_30    0.014700    0.007232 -0.007579\n",
       "NODE_1000037_length_93_cov_2.043011_33   -0.008883   -0.011011 -0.002109\n",
       "NODE_1000042_length_93_cov_1.118280_100  -0.008273    0.018138  0.026194\n",
       "NODE_1000053_length_94_cov_1.744681_25   -0.020574    0.024885  0.044543"
      ]
     },
     "execution_count": 27,
     "metadata": {},
     "output_type": "execute_result"
    }
   ],
   "source": [
    "dfs = [pop_total_fst,plot_total_fst,plot_pop_fst]\n",
    "ds = [\"pop_total\",\"plot_total\",\"plot_pop\"]\n",
    "for i,d in enumerate(dfs):\n",
    "    d = pd.DataFrame(d)\n",
    "    d.columns = [ds[i]]\n",
    "    if i == 0:\n",
    "        df = pd.DataFrame(d)\n",
    "    else:\n",
    "        df = pd.merge(df,d,left_index=True,right_index=True)\n",
    "df.head()"
   ]
  },
  {
   "cell_type": "code",
   "execution_count": 29,
   "metadata": {
    "collapsed": false,
    "scrolled": true
   },
   "outputs": [
    {
     "name": "stdout",
     "output_type": "stream",
     "text": [
      "1000\n",
      "2000\n",
      "3000\n",
      "4000\n",
      "5000\n",
      "6000\n",
      "7000\n",
      "8000\n",
      "9000\n",
      "10000\n",
      "11000\n",
      "12000\n",
      "13000\n",
      "14000\n",
      "15000\n",
      "16000\n",
      "17000\n",
      "18000\n",
      "19000\n",
      "20000\n",
      "21000\n",
      "22000\n",
      "23000\n",
      "24000\n",
      "25000\n",
      "26000\n",
      "27000\n",
      "28000\n",
      "29000\n",
      "30000\n",
      "31000\n",
      "32000\n",
      "33000\n",
      "34000\n",
      "35000\n",
      "36000\n",
      "37000\n",
      "38000\n",
      "39000\n",
      "40000\n",
      "41000\n",
      "42000\n",
      "43000\n",
      "44000\n",
      "45000\n",
      "46000\n",
      "47000\n",
      "48000\n",
      "49000\n",
      "50000\n",
      "51000\n",
      "52000\n",
      "53000\n",
      "54000\n",
      "55000\n",
      "56000\n",
      "57000\n",
      "58000\n",
      "59000\n",
      "60000\n",
      "61000\n",
      "62000\n",
      "63000\n",
      "64000\n",
      "65000\n",
      "66000\n",
      "67000\n",
      "68000\n",
      "69000\n",
      "70000\n",
      "71000\n",
      "72000\n",
      "73000\n",
      "74000\n",
      "75000\n",
      "76000\n",
      "77000\n",
      "78000\n",
      "79000\n",
      "80000\n",
      "81000\n",
      "82000\n",
      "83000\n",
      "84000\n",
      "85000\n",
      "86000\n",
      "87000\n",
      "88000\n",
      "89000\n",
      "90000\n",
      "91000\n",
      "92000\n",
      "93000\n",
      "94000\n",
      "95000\n",
      "96000\n",
      "97000\n",
      "98000\n",
      "99000\n",
      "100000\n",
      "101000\n",
      "102000\n",
      "103000\n",
      "104000\n",
      "105000\n",
      "106000\n",
      "107000\n",
      "108000\n",
      "109000\n",
      "110000\n",
      "111000\n",
      "112000\n",
      "113000\n",
      "114000\n",
      "115000\n",
      "116000\n"
     ]
    }
   ],
   "source": [
    "locDict = OrderedDict()\n",
    "j = 0\n",
    "for i,SNP in enumerate(hierfdf.columns[2:]):\n",
    "    l = len([x for x in hierfdf.loc[:,SNP] if x > 0])\n",
    "    pthere = l/len(hierfdf.index)\n",
    "    locDict[SNP] = pthere\n",
    "    j+=1\n",
    "    if j % 1000 == 0:\n",
    "        print j"
   ]
  },
  {
   "cell_type": "code",
   "execution_count": 30,
   "metadata": {
    "collapsed": false
   },
   "outputs": [
    {
     "data": {
      "text/html": [
       "<div>\n",
       "<table border=\"1\" class=\"dataframe\">\n",
       "  <thead>\n",
       "    <tr style=\"text-align: right;\">\n",
       "      <th></th>\n",
       "      <th>perc data</th>\n",
       "    </tr>\n",
       "  </thead>\n",
       "  <tbody>\n",
       "    <tr>\n",
       "      <th>NODE_1000013_length_91_cov_1.802198_37</th>\n",
       "      <td>1</td>\n",
       "    </tr>\n",
       "    <tr>\n",
       "      <th>NODE_1000031_length_98_cov_2.000000_30</th>\n",
       "      <td>1</td>\n",
       "    </tr>\n",
       "    <tr>\n",
       "      <th>NODE_1000037_length_93_cov_2.043011_33</th>\n",
       "      <td>1</td>\n",
       "    </tr>\n",
       "    <tr>\n",
       "      <th>NODE_1000042_length_93_cov_1.118280_100</th>\n",
       "      <td>1</td>\n",
       "    </tr>\n",
       "    <tr>\n",
       "      <th>NODE_1000053_length_94_cov_1.744681_25</th>\n",
       "      <td>1</td>\n",
       "    </tr>\n",
       "  </tbody>\n",
       "</table>\n",
       "</div>"
      ],
      "text/plain": [
       "                                         perc data\n",
       "NODE_1000013_length_91_cov_1.802198_37           1\n",
       "NODE_1000031_length_98_cov_2.000000_30           1\n",
       "NODE_1000037_length_93_cov_2.043011_33           1\n",
       "NODE_1000042_length_93_cov_1.118280_100          1\n",
       "NODE_1000053_length_94_cov_1.744681_25           1"
      ]
     },
     "execution_count": 30,
     "metadata": {},
     "output_type": "execute_result"
    }
   ],
   "source": [
    "perc = pd.DataFrame()\n",
    "perc[0] = locDict.values()\n",
    "perc.index = locDict.keys()\n",
    "perc.columns = ['perc data']\n",
    "perc.head()"
   ]
  },
  {
   "cell_type": "code",
   "execution_count": 31,
   "metadata": {
    "collapsed": false
   },
   "outputs": [
    {
     "data": {
      "text/plain": [
       "(116231, 1)"
      ]
     },
     "execution_count": 31,
     "metadata": {},
     "output_type": "execute_result"
    }
   ],
   "source": [
    "perc.shape"
   ]
  },
  {
   "cell_type": "code",
   "execution_count": 32,
   "metadata": {
    "collapsed": false
   },
   "outputs": [
    {
     "data": {
      "text/html": [
       "<div>\n",
       "<table border=\"1\" class=\"dataframe\">\n",
       "  <thead>\n",
       "    <tr style=\"text-align: right;\">\n",
       "      <th></th>\n",
       "      <th>pop_total</th>\n",
       "      <th>plot_total</th>\n",
       "      <th>plot_pop</th>\n",
       "      <th>perc data</th>\n",
       "    </tr>\n",
       "  </thead>\n",
       "  <tbody>\n",
       "    <tr>\n",
       "      <th>NODE_1000013_length_91_cov_1.802198_37</th>\n",
       "      <td>-0.002797</td>\n",
       "      <td>-0.018565</td>\n",
       "      <td>-0.015723</td>\n",
       "      <td>1</td>\n",
       "    </tr>\n",
       "    <tr>\n",
       "      <th>NODE_1000031_length_98_cov_2.000000_30</th>\n",
       "      <td>0.014700</td>\n",
       "      <td>0.007232</td>\n",
       "      <td>-0.007579</td>\n",
       "      <td>1</td>\n",
       "    </tr>\n",
       "    <tr>\n",
       "      <th>NODE_1000037_length_93_cov_2.043011_33</th>\n",
       "      <td>-0.008883</td>\n",
       "      <td>-0.011011</td>\n",
       "      <td>-0.002109</td>\n",
       "      <td>1</td>\n",
       "    </tr>\n",
       "    <tr>\n",
       "      <th>NODE_1000042_length_93_cov_1.118280_100</th>\n",
       "      <td>-0.008273</td>\n",
       "      <td>0.018138</td>\n",
       "      <td>0.026194</td>\n",
       "      <td>1</td>\n",
       "    </tr>\n",
       "    <tr>\n",
       "      <th>NODE_1000053_length_94_cov_1.744681_25</th>\n",
       "      <td>-0.020574</td>\n",
       "      <td>0.024885</td>\n",
       "      <td>0.044543</td>\n",
       "      <td>1</td>\n",
       "    </tr>\n",
       "  </tbody>\n",
       "</table>\n",
       "</div>"
      ],
      "text/plain": [
       "                                         pop_total  plot_total  plot_pop  \\\n",
       "NODE_1000013_length_91_cov_1.802198_37   -0.002797   -0.018565 -0.015723   \n",
       "NODE_1000031_length_98_cov_2.000000_30    0.014700    0.007232 -0.007579   \n",
       "NODE_1000037_length_93_cov_2.043011_33   -0.008883   -0.011011 -0.002109   \n",
       "NODE_1000042_length_93_cov_1.118280_100  -0.008273    0.018138  0.026194   \n",
       "NODE_1000053_length_94_cov_1.744681_25   -0.020574    0.024885  0.044543   \n",
       "\n",
       "                                         perc data  \n",
       "NODE_1000013_length_91_cov_1.802198_37           1  \n",
       "NODE_1000031_length_98_cov_2.000000_30           1  \n",
       "NODE_1000037_length_93_cov_2.043011_33           1  \n",
       "NODE_1000042_length_93_cov_1.118280_100          1  \n",
       "NODE_1000053_length_94_cov_1.744681_25           1  "
      ]
     },
     "execution_count": 32,
     "metadata": {},
     "output_type": "execute_result"
    }
   ],
   "source": [
    "df = pd.merge(df,perc,left_index=True,right_index=True)\n",
    "df.head()"
   ]
  },
  {
   "cell_type": "code",
   "execution_count": 33,
   "metadata": {
    "collapsed": true
   },
   "outputs": [],
   "source": [
    "filE = '/home/lindb/wbp/hierfstat/imputed/imputed_hierarchical_Fstats.txt'\n",
    "df.to_csv(filE, header=True,index=True,sep=\"\\t\")"
   ]
  },
  {
   "cell_type": "code",
   "execution_count": 5,
   "metadata": {
    "collapsed": false
   },
   "outputs": [
    {
     "data": {
      "text/html": [
       "<div>\n",
       "<table border=\"1\" class=\"dataframe\">\n",
       "  <thead>\n",
       "    <tr style=\"text-align: right;\">\n",
       "      <th></th>\n",
       "      <th>pop_total</th>\n",
       "      <th>plot_total</th>\n",
       "      <th>plot_pop</th>\n",
       "      <th>perc data</th>\n",
       "    </tr>\n",
       "  </thead>\n",
       "  <tbody>\n",
       "    <tr>\n",
       "      <th>NODE_1000013_length_91_cov_1.802198_37</th>\n",
       "      <td>-0.002797</td>\n",
       "      <td>-0.018565</td>\n",
       "      <td>-0.015723</td>\n",
       "      <td>1.0</td>\n",
       "    </tr>\n",
       "    <tr>\n",
       "      <th>NODE_1000031_length_98_cov_2.000000_30</th>\n",
       "      <td>0.014700</td>\n",
       "      <td>0.007232</td>\n",
       "      <td>-0.007579</td>\n",
       "      <td>1.0</td>\n",
       "    </tr>\n",
       "    <tr>\n",
       "      <th>NODE_1000037_length_93_cov_2.043011_33</th>\n",
       "      <td>-0.008883</td>\n",
       "      <td>-0.011011</td>\n",
       "      <td>-0.002109</td>\n",
       "      <td>1.0</td>\n",
       "    </tr>\n",
       "    <tr>\n",
       "      <th>NODE_1000042_length_93_cov_1.118280_100</th>\n",
       "      <td>-0.008273</td>\n",
       "      <td>0.018138</td>\n",
       "      <td>0.026194</td>\n",
       "      <td>1.0</td>\n",
       "    </tr>\n",
       "    <tr>\n",
       "      <th>NODE_1000053_length_94_cov_1.744681_25</th>\n",
       "      <td>-0.020574</td>\n",
       "      <td>0.024885</td>\n",
       "      <td>0.044543</td>\n",
       "      <td>1.0</td>\n",
       "    </tr>\n",
       "  </tbody>\n",
       "</table>\n",
       "</div>"
      ],
      "text/plain": [
       "                                         pop_total  plot_total  plot_pop  \\\n",
       "NODE_1000013_length_91_cov_1.802198_37   -0.002797   -0.018565 -0.015723   \n",
       "NODE_1000031_length_98_cov_2.000000_30    0.014700    0.007232 -0.007579   \n",
       "NODE_1000037_length_93_cov_2.043011_33   -0.008883   -0.011011 -0.002109   \n",
       "NODE_1000042_length_93_cov_1.118280_100  -0.008273    0.018138  0.026194   \n",
       "NODE_1000053_length_94_cov_1.744681_25   -0.020574    0.024885  0.044543   \n",
       "\n",
       "                                         perc data  \n",
       "NODE_1000013_length_91_cov_1.802198_37         1.0  \n",
       "NODE_1000031_length_98_cov_2.000000_30         1.0  \n",
       "NODE_1000037_length_93_cov_2.043011_33         1.0  \n",
       "NODE_1000042_length_93_cov_1.118280_100        1.0  \n",
       "NODE_1000053_length_94_cov_1.744681_25         1.0  "
      ]
     },
     "execution_count": 5,
     "metadata": {},
     "output_type": "execute_result"
    }
   ],
   "source": [
    "filE = '/home/lindb/wbp/hierfstat/imputed/imputed_hierarchical_Fstats.txt'\n",
    "df = pd.read_csv(filE,header=0,index_col=0,sep='\\t')\n",
    "df.head()"
   ]
  },
  {
   "cell_type": "code",
   "execution_count": 34,
   "metadata": {
    "collapsed": false
   },
   "outputs": [
    {
     "data": {
      "text/plain": [
       "(1.0, 1.0)"
      ]
     },
     "execution_count": 34,
     "metadata": {},
     "output_type": "execute_result"
    }
   ],
   "source": [
    "min(df['perc data']),max(df['perc data'])"
   ]
  },
  {
   "cell_type": "markdown",
   "metadata": {
    "collapsed": true
   },
   "source": [
    "# figures"
   ]
  },
  {
   "cell_type": "code",
   "execution_count": 17,
   "metadata": {
    "collapsed": false
   },
   "outputs": [
    {
     "data": {
      "text/html": [
       "<div>\n",
       "<table border=\"1\" class=\"dataframe\">\n",
       "  <thead>\n",
       "    <tr style=\"text-align: right;\">\n",
       "      <th></th>\n",
       "      <th>pop_total</th>\n",
       "      <th>plot_total</th>\n",
       "      <th>plot_pop</th>\n",
       "      <th>perc data</th>\n",
       "    </tr>\n",
       "  </thead>\n",
       "  <tbody>\n",
       "    <tr>\n",
       "      <th>NODE_1000013_length_91_cov_1.802198_37</th>\n",
       "      <td>-0.002797</td>\n",
       "      <td>-0.018565</td>\n",
       "      <td>-0.015723</td>\n",
       "      <td>1</td>\n",
       "    </tr>\n",
       "    <tr>\n",
       "      <th>NODE_1000031_length_98_cov_2.000000_30</th>\n",
       "      <td>0.014700</td>\n",
       "      <td>0.007232</td>\n",
       "      <td>-0.007579</td>\n",
       "      <td>1</td>\n",
       "    </tr>\n",
       "    <tr>\n",
       "      <th>NODE_1000037_length_93_cov_2.043011_33</th>\n",
       "      <td>-0.008883</td>\n",
       "      <td>-0.011011</td>\n",
       "      <td>-0.002109</td>\n",
       "      <td>1</td>\n",
       "    </tr>\n",
       "    <tr>\n",
       "      <th>NODE_1000042_length_93_cov_1.118280_100</th>\n",
       "      <td>-0.008273</td>\n",
       "      <td>0.018138</td>\n",
       "      <td>0.026194</td>\n",
       "      <td>1</td>\n",
       "    </tr>\n",
       "    <tr>\n",
       "      <th>NODE_1000053_length_94_cov_1.744681_25</th>\n",
       "      <td>-0.020574</td>\n",
       "      <td>0.024885</td>\n",
       "      <td>0.044543</td>\n",
       "      <td>1</td>\n",
       "    </tr>\n",
       "  </tbody>\n",
       "</table>\n",
       "</div>"
      ],
      "text/plain": [
       "                                         pop_total  plot_total  plot_pop  \\\n",
       "NODE_1000013_length_91_cov_1.802198_37   -0.002797   -0.018565 -0.015723   \n",
       "NODE_1000031_length_98_cov_2.000000_30    0.014700    0.007232 -0.007579   \n",
       "NODE_1000037_length_93_cov_2.043011_33   -0.008883   -0.011011 -0.002109   \n",
       "NODE_1000042_length_93_cov_1.118280_100  -0.008273    0.018138  0.026194   \n",
       "NODE_1000053_length_94_cov_1.744681_25   -0.020574    0.024885  0.044543   \n",
       "\n",
       "                                         perc data  \n",
       "NODE_1000013_length_91_cov_1.802198_37           1  \n",
       "NODE_1000031_length_98_cov_2.000000_30           1  \n",
       "NODE_1000037_length_93_cov_2.043011_33           1  \n",
       "NODE_1000042_length_93_cov_1.118280_100          1  \n",
       "NODE_1000053_length_94_cov_1.744681_25           1  "
      ]
     },
     "execution_count": 17,
     "metadata": {},
     "output_type": "execute_result"
    }
   ],
   "source": [
    "df.head()"
   ]
  },
  {
   "cell_type": "code",
   "execution_count": null,
   "metadata": {
    "collapsed": true
   },
   "outputs": [],
   "source": []
  },
  {
   "cell_type": "code",
   "execution_count": 10,
   "metadata": {
    "collapsed": false
   },
   "outputs": [
    {
     "data": {
      "image/png": "[encoded data removed]",
      "text/plain": [
       "<matplotlib.figure.Figure at 0x2b918ad02110>"
      ]
     },
     "metadata": {},
     "output_type": "display_data"
    }
   ],
   "source": [
    "plt.close('all')\n",
    "fig  = plt.figure(figsize=(5,5),dpi=400)\n",
    "a1 = plt.subplot(111)\n",
    "a1.hist(df['plot_total'],bins = [x for x in np.linspace(-0.1,0.2,30)])\n",
    "a1.spines['right'].set_visible(False)\n",
    "a1.spines['top'].set_visible(False)\n",
    "a1.yaxis.set_ticks_position('left')\n",
    "a1.xaxis.set_ticks_position('bottom')\n",
    "a1.set_xlabel(r'single-locus $F_{ST}$',fontsize=14)\n",
    "a1.set_ylabel('Count',fontsize=14)\n",
    "\n",
    "fig.set_size_inches(4,4)\n",
    "plt.savefig('/home/lindb/wbp/figures/multilocus_fst_distribution.pdf',format='pdf',bbox_inches='tight')"
   ]
  },
  {
   "cell_type": "code",
   "execution_count": 6,
   "metadata": {
    "collapsed": false
   },
   "outputs": [
    {
     "data": {
      "image/png": "[encoded data removed]",
      "text/plain": [
       "<matplotlib.figure.Figure at 0x2b918781b810>"
      ]
     },
     "metadata": {},
     "output_type": "display_data"
    }
   ],
   "source": [
    "with PdfPages('/home/lindb/wbp/figures/multilocus_fst_distribution.pdf') as pdf:\n",
    "    plt.close('all')\n",
    "    fig  = plt.figure(figsize=(5,5),dpi=400)\n",
    "    a1 = plt.subplot(111)\n",
    "    a1.hist(df['plot_total'],bins = [x for x in np.linspace(-0.1,0.2,30)])\n",
    "    a1.spines['right'].set_visible(False)\n",
    "    a1.spines['top'].set_visible(False)\n",
    "    a1.yaxis.set_ticks_position('left')\n",
    "    a1.xaxis.set_ticks_position('bottom')\n",
    "    a1.set_xlabel(r'single-locus $F_{ST}$',fontsize=14)\n",
    "    a1.set_ylabel('Count',fontsize=14)\n",
    "    \n",
    "    fig.set_size_inches(4,4)\n",
    "    pdf.savefig(fig,bbox_inches='tight')"
   ]
  },
  {
   "cell_type": "code",
   "execution_count": 7,
   "metadata": {
    "collapsed": true
   },
   "outputs": [],
   "source": [
    "?plt.savefig"
   ]
  },
  {
   "cell_type": "code",
   "execution_count": 21,
   "metadata": {
    "collapsed": false
   },
   "outputs": [
    {
     "data": {
      "text/plain": [
       "(-0.052821570340700001, 0.18435132508400001)"
      ]
     },
     "execution_count": 21,
     "metadata": {},
     "output_type": "execute_result"
    }
   ],
   "source": [
    "min(df['plot_total']),max(df['plot_total'])"
   ]
  },
  {
   "cell_type": "code",
   "execution_count": 51,
   "metadata": {
    "collapsed": false
   },
   "outputs": [
    {
     "data": {
      "text/plain": [
       "count    116231.000000\n",
       "mean          0.006976\n",
       "std           0.018286\n",
       "min          -0.052822\n",
       "25%          -0.005697\n",
       "50%           0.004339\n",
       "75%           0.016639\n",
       "max           0.184351\n",
       "Name: plot_total, dtype: float64"
      ]
     },
     "execution_count": 51,
     "metadata": {},
     "output_type": "execute_result"
    }
   ],
   "source": [
    "df['plot_total'].describe()"
   ]
  },
  {
   "cell_type": "code",
   "execution_count": 52,
   "metadata": {
    "collapsed": false
   },
   "outputs": [
    {
     "name": "stdout",
     "output_type": "stream",
     "text": [
      "low -0.02886456\n",
      "high 0.04281656\n"
     ]
    }
   ],
   "source": [
    "print 'low',0.006976-(1.96*0.018286)\n",
    "print 'high',0.006976+(1.96*0.018286)"
   ]
  },
  {
   "cell_type": "markdown",
   "metadata": {
    "collapsed": true
   },
   "source": [
    "# plot abline of sig snps"
   ]
  },
  {
   "cell_type": "markdown",
   "metadata": {
    "collapsed": true
   },
   "source": [
    "### OutFLANK"
   ]
  },
  {
   "cell_type": "code",
   "execution_count": 7,
   "metadata": {
    "collapsed": false
   },
   "outputs": [
    {
     "data": {
      "text/plain": [
       "110"
      ]
     },
     "execution_count": 7,
     "metadata": {},
     "output_type": "execute_result"
    }
   ],
   "source": [
    "outflank = '/home/lindb/wbp/OutFLANK/OutFLANK_snps.txt'\n",
    "outdf = pd.read_csv(outflank,header=0,sep='\\t')\n",
    "outflanksnps = outdf['x'].tolist()\n",
    "len(outflanksnps)"
   ]
  },
  {
   "cell_type": "code",
   "execution_count": 51,
   "metadata": {
    "collapsed": false
   },
   "outputs": [
    {
     "data": {
      "text/plain": [
       "-0.018564518718000002"
      ]
     },
     "execution_count": 51,
     "metadata": {},
     "output_type": "execute_result"
    }
   ],
   "source": [
    "dd['NODE_1000013_length_91_cov_1.802198_37']"
   ]
  },
  {
   "cell_type": "code",
   "execution_count": 4,
   "metadata": {
    "collapsed": false
   },
   "outputs": [],
   "source": [
    "dd = OrderedDict(df['plot_total'])"
   ]
  },
  {
   "cell_type": "code",
   "execution_count": 8,
   "metadata": {
    "collapsed": false
   },
   "outputs": [
    {
     "data": {
      "text/plain": [
       "110"
      ]
     },
     "execution_count": 8,
     "metadata": {},
     "output_type": "execute_result"
    }
   ],
   "source": [
    "vals = [dd[snp] for snp in outflanksnps]\n",
    "len(vals)"
   ]
  },
  {
   "cell_type": "code",
   "execution_count": 9,
   "metadata": {
    "collapsed": false
   },
   "outputs": [
    {
     "data": {
      "image/png": "[encoded data removed]",
      "text/plain": [
       "<matplotlib.figure.Figure at 0x2b6e2678ae50>"
      ]
     },
     "metadata": {},
     "output_type": "display_data"
    }
   ],
   "source": [
    "with PdfPages('/home/lindb/wbp/figures/multilocus_fst_distribution_outflank_overlay.pdf') as pdf:\n",
    "    plt.close('all')\n",
    "    fig  = plt.figure(figsize=(5,5),dpi=400)\n",
    "    a1 = plt.subplot(111)\n",
    "    a1.hist(df['plot_total'],bins = [x for x in np.linspace(-0.1,0.2,30)])\n",
    "    a1.spines['right'].set_visible(False)\n",
    "    a1.spines['top'].set_visible(False)\n",
    "    a1.yaxis.set_ticks_position('left')\n",
    "    a1.xaxis.set_ticks_position('bottom')\n",
    "    a1.set_xlabel(r'multilocus $F_{ST}$',fontsize=14)\n",
    "    a1.set_ylabel('Count',fontsize=14)\n",
    "    \n",
    "    [a1.axvline(x=dd[snp],c='red',linewidth=0.25,zorder=1) for snp in outflanksnps]\n",
    "    #a1.axvline(x=dd[dd.keys()[0]],c='red',linewidth=0.25,zorder=1)\n",
    "    \n",
    "    fig.set_size_inches(4,4)\n",
    "    pdf.savefig(fig,bbox_inches='tight')"
   ]
  },
  {
   "cell_type": "markdown",
   "metadata": {},
   "source": [
    "### bayenv2"
   ]
  },
  {
   "cell_type": "code",
   "execution_count": 12,
   "metadata": {
    "collapsed": true
   },
   "outputs": [],
   "source": [
    "from os import listdir as ls\n",
    "import os.path as op"
   ]
  },
  {
   "cell_type": "code",
   "execution_count": 13,
   "metadata": {
    "collapsed": false
   },
   "outputs": [
    {
     "name": "stdout",
     "output_type": "stream",
     "text": [
      "AWS0-25 95\n",
      "AWS0-50 147\n",
      "Ann-ppt 49\n",
      "CEC 14\n",
      "Clay 22\n",
      "Elev 143\n",
      "GDD-Aug 157\n",
      "GDD-May 80\n",
      "Lat 119\n",
      "Lon 67\n",
      "Max-rad-input 144\n",
      "Rock-cov 143\n",
      "Sand 111\n",
      "Silt 140\n",
      "Tmax-July 50\n",
      "Tmin-Jan 116\n",
      "WC15Bar 86\n",
      "WC3rdbar 97\n"
     ]
    }
   ],
   "source": [
    "#get bayenv2 snps\n",
    "DIR = '/home/lindb/wbp/bayenv2/results/sigsnps'\n",
    "bayfs = [op.join(DIR,f) for f in ls(DIR)]\n",
    "baydict = {}\n",
    "for f in bayfs:\n",
    "    env = op.basename(f).split(\"_\")[0]\n",
    "    df = pd.read_csv(f,header=0,sep='\\t')\n",
    "    baydict[env] = df[env].tolist()\n",
    "    print env,len(baydict[env])"
   ]
  },
  {
   "cell_type": "code",
   "execution_count": 22,
   "metadata": {
    "collapsed": false
   },
   "outputs": [
    {
     "data": {
      "text/plain": [
       "110419.0"
      ]
     },
     "execution_count": 22,
     "metadata": {},
     "output_type": "execute_result"
    }
   ],
   "source": [
    "round(0.95*116231)"
   ]
  },
  {
   "cell_type": "code",
   "execution_count": 31,
   "metadata": {
    "collapsed": false
   },
   "outputs": [
    {
     "data": {
      "text/plain": [
       "0.039738934044299998"
      ]
     },
     "execution_count": 31,
     "metadata": {},
     "output_type": "execute_result"
    }
   ],
   "source": [
    "n5th = df['plot_total'].quantile(0.95)\n",
    "n5th"
   ]
  },
  {
   "cell_type": "code",
   "execution_count": 32,
   "metadata": {
    "collapsed": false
   },
   "outputs": [
    {
     "data": {
      "text/plain": [
       "0.10773465509763011"
      ]
     },
     "execution_count": 32,
     "metadata": {},
     "output_type": "execute_result"
    }
   ],
   "source": [
    "n99th = df['plot_total'].quantile(0.999)\n",
    "n99th"
   ]
  },
  {
   "cell_type": "code",
   "execution_count": null,
   "metadata": {
    "collapsed": true
   },
   "outputs": [],
   "source": [
    "/home/lindb/wbp/figures/multilocus_fst_distribution_bayenv_Ann-ppt_overlay.pdf"
   ]
  },
  {
   "cell_type": "code",
   "execution_count": 33,
   "metadata": {
    "collapsed": true
   },
   "outputs": [
    {
     "name": "stdout",
     "output_type": "stream",
     "text": [
      "Tmin-Jan\n"
     ]
    },
    {
     "data": {
      "image/png": "[encoded data removed]",
      "text/plain": [
       "<matplotlib.figure.Figure at 0x2b6e2c877750>"
      ]
     },
     "metadata": {},
     "output_type": "display_data"
    },
    {
     "name": "stdout",
     "output_type": "stream",
     "text": [
      "Ann-ppt\n"
     ]
    },
    {
     "data": {
      "image/png": "[encoded data removed]",
      "text/plain": [
       "<matplotlib.figure.Figure at 0x2b6e2d034c50>"
      ]
     },
     "metadata": {},
     "output_type": "display_data"
    },
    {
     "name": "stdout",
     "output_type": "stream",
     "text": [
      "CEC\n"
     ]
    },
    {
     "data": {
      "image/png": "[encoded data removed]",
      "text/plain": [
       "<matplotlib.figure.Figure at 0x2b6e2b9b4b10>"
      ]
     },
     "metadata": {},
     "output_type": "display_data"
    },
    {
     "name": "stdout",
     "output_type": "stream",
     "text": [
      "AWS0-25\n"
     ]
    },
    {
     "data": {
      "image/png": "[encoded data removed]",
      "text/plain": [
       "<matplotlib.figure.Figure at 0x2b6e2d14aad0>"
      ]
     },
     "metadata": {},
     "output_type": "display_data"
    },
    {
     "name": "stdout",
     "output_type": "stream",
     "text": [
      "AWS0-50\n"
     ]
    },
    {
     "data": {
      "image/png": "[encoded data removed]",
      "text/plain": [
       "<matplotlib.figure.Figure at 0x2b6e2d1debd0>"
      ]
     },
     "metadata": {},
     "output_type": "display_data"
    },
    {
     "name": "stdout",
     "output_type": "stream",
     "text": [
      "Rock-cov\n"
     ]
    },
    {
     "data": {
      "image/png": "[encoded data removed]",
      "text/plain": [
       "<matplotlib.figure.Figure at 0x2b6e2c321bd0>"
      ]
     },
     "metadata": {},
     "output_type": "display_data"
    },
    {
     "name": "stdout",
     "output_type": "stream",
     "text": [
      "Tmax-July\n"
     ]
    },
    {
     "data": {
      "image/png": "[encoded data removed]",
      "text/plain": [
       "<matplotlib.figure.Figure at 0x2b6e2c91ee90>"
      ]
     },
     "metadata": {},
     "output_type": "display_data"
    },
    {
     "name": "stdout",
     "output_type": "stream",
     "text": [
      "WC3rdbar\n"
     ]
    },
    {
     "data": {
      "image/png": "[encoded data removed]",
      "text/plain": [
       "<matplotlib.figure.Figure at 0x2b6e2d01c550>"
      ]
     },
     "metadata": {},
     "output_type": "display_data"
    },
    {
     "name": "stdout",
     "output_type": "stream",
     "text": [
      "Silt\n"
     ]
    },
    {
     "data": {
      "image/png": "[encoded data removed]",
      "text/plain": [
       "<matplotlib.figure.Figure at 0x2b6e2bfd0650>"
      ]
     },
     "metadata": {},
     "output_type": "display_data"
    },
    {
     "name": "stdout",
     "output_type": "stream",
     "text": [
      "Lon\n"
     ]
    },
    {
     "data": {
      "image/png": "[encoded data removed]",
      "text/plain": [
       "<matplotlib.figure.Figure at 0x2b6e2cd322d0>"
      ]
     },
     "metadata": {},
     "output_type": "display_data"
    },
    {
     "name": "stdout",
     "output_type": "stream",
     "text": [
      "Sand\n"
     ]
    },
    {
     "data": {
      "image/png": "[encoded data removed]",
      "text/plain": [
       "<matplotlib.figure.Figure at 0x2b6e2cd30990>"
      ]
     },
     "metadata": {},
     "output_type": "display_data"
    },
    {
     "name": "stdout",
     "output_type": "stream",
     "text": [
      "Max-rad-input\n"
     ]
    },
    {
     "data": {
      "image/png": "[encoded data removed]",
      "text/plain": [
       "<matplotlib.figure.Figure at 0x2b6e2cc8ced0>"
      ]
     },
     "metadata": {},
     "output_type": "display_data"
    },
    {
     "name": "stdout",
     "output_type": "stream",
     "text": [
      "Elev\n"
     ]
    },
    {
     "data": {
      "image/png": "[encoded data removed]",
      "text/plain": [
       "<matplotlib.figure.Figure at 0x2b6e2cd41890>"
      ]
     },
     "metadata": {},
     "output_type": "display_data"
    },
    {
     "name": "stdout",
     "output_type": "stream",
     "text": [
      "Clay\n"
     ]
    },
    {
     "data": {
      "image/png": "[encoded data removed]",
      "text/plain": [
       "<matplotlib.figure.Figure at 0x2b6e2808ee90>"
      ]
     },
     "metadata": {},
     "output_type": "display_data"
    },
    {
     "name": "stdout",
     "output_type": "stream",
     "text": [
      "Lat\n"
     ]
    },
    {
     "data": {
      "image/png": "[encoded data removed]",
      "text/plain": [
       "<matplotlib.figure.Figure at 0x2b6e2c2febd0>"
      ]
     },
     "metadata": {},
     "output_type": "display_data"
    },
    {
     "name": "stdout",
     "output_type": "stream",
     "text": [
      "GDD-May\n"
     ]
    },
    {
     "data": {
      "image/png": "[encoded data removed]",
      "text/plain": [
       "<matplotlib.figure.Figure at 0x2b6e2d0084d0>"
      ]
     },
     "metadata": {},
     "output_type": "display_data"
    },
    {
     "name": "stdout",
     "output_type": "stream",
     "text": [
      "GDD-Aug\n"
     ]
    },
    {
     "data": {
      "image/png": "[encoded data removed]",
      "text/plain": [
       "<matplotlib.figure.Figure at 0x2b6e2db13890>"
      ]
     },
     "metadata": {},
     "output_type": "display_data"
    },
    {
     "name": "stdout",
     "output_type": "stream",
     "text": [
      "WC15Bar\n"
     ]
    },
    {
     "data": {
      "image/png": "[encoded data removed]",
      "text/plain": [
       "<matplotlib.figure.Figure at 0x2b6e2db13f10>"
      ]
     },
     "metadata": {},
     "output_type": "display_data"
    }
   ],
   "source": [
    "for env in baydict.keys():\n",
    "    print env\n",
    "    with PdfPages('/home/lindb/wbp/figures/multilocus_fst_distribution_bayenv_%s_overlay.pdf' % env) as pdf:\n",
    "        plt.close('all')\n",
    "        fig  = plt.figure(figsize=(5,5),dpi=400)\n",
    "        a1 = plt.subplot(111)\n",
    "        a1.hist(df['plot_total'],bins = [x for x in np.linspace(-0.1,0.2,30)])\n",
    "        a1.spines['right'].set_visible(False)\n",
    "        a1.spines['top'].set_visible(False)\n",
    "        a1.yaxis.set_ticks_position('left')\n",
    "        a1.xaxis.set_ticks_position('bottom')\n",
    "        a1.set_xlabel(r'multilocus $F_{ST}$',fontsize=14)\n",
    "        a1.set_ylabel('Count',fontsize=14)\n",
    "\n",
    "        #[a1.axvline(x=dd[snp],c='red',linewidth=0.25,zorder=1) for snp in baydict[env]]\n",
    "        for snp in baydict[env]:\n",
    "            col = 'red'\n",
    "            if dd[snp] >= n5th:\n",
    "                col = 'purple'\n",
    "            if dd[snp] >= n99th:\n",
    "                col = 'blue'\n",
    "            a1.axvline(x=dd[snp],c=col,linewidth=0.25,zorder=1)\n",
    "        #a1.axvline(x=dd[dd.keys()[0]],c='red',linewidth=0.25,zorder=1)\n",
    "\n",
    "        fig.set_size_inches(4,4)\n",
    "        pdf.savefig(fig,bbox_inches='tight')\n",
    "        plt.show()\n"
   ]
  },
  {
   "cell_type": "code",
   "execution_count": 57,
   "metadata": {
    "collapsed": false
   },
   "outputs": [
    {
     "name": "stdout",
     "output_type": "stream",
     "text": [
      "AWS0-25 78 15 2 95 95\n",
      "AWS0-50 125 21 1 147 147\n",
      "Ann-ppt 27 21 1 49 49\n",
      "CEC 12 2 0 14 14\n",
      "Clay 20 2 0 22 22\n",
      "Elev 121 22 0 143 143\n",
      "GDD-Aug 118 39 0 157 157\n",
      "GDD-May 70 10 0 80 80\n",
      "Lat 103 16 0 119 119\n",
      "Lon 47 20 0 67 67\n",
      "Max-rad-input 115 28 1 144 144\n",
      "Rock-cov 100 43 0 143 143\n",
      "Sand 88 21 2 111 111\n",
      "Silt 116 23 1 140 140\n",
      "Tmax-July 40 10 0 50 50\n",
      "Tmin-Jan 59 56 1 116 116\n",
      "WC15Bar 70 15 1 86 86\n",
      "WC3rdbar 75 22 0 97 97\n"
     ]
    }
   ],
   "source": [
    "for env in sorted(baydict):\n",
    "    rcount = 0\n",
    "    pcount = 0\n",
    "    bcount = 0\n",
    "    for snp in baydict[env]:\n",
    "        if dd[snp] < n5th:\n",
    "            rcount += 1\n",
    "        elif dd[snp] < n99th:\n",
    "            pcount += 1\n",
    "        elif dd[snp] >= n99th:\n",
    "            bcount += 1\n",
    "    print env,rcount,pcount,bcount,rcount+pcount+bcount,len(baydict[env])"
   ]
  },
  {
   "cell_type": "code",
   "execution_count": 49,
   "metadata": {
    "collapsed": false
   },
   "outputs": [
    {
     "data": {
      "image/png": "[encoded data removed]",
      "text/plain": [
       "<matplotlib.figure.Figure at 0x2b6e2c945510>"
      ]
     },
     "metadata": {},
     "output_type": "display_data"
    }
   ],
   "source": [
    "with PdfPages('/home/lindb/wbp/figures/multilocus_fst_distribution_bayenv_all_env_overlay.pdf') as pdf:\n",
    "    \n",
    "    plt.close('all')\n",
    "    fig, ((a1,a2,a3),(a4,a5,a6),(a7,a8,a9)) = plt.subplots(3, 3, figsize=(5,5),dpi=400)\n",
    "    \n",
    "    plotdict = {}\n",
    "    count = 1\n",
    "    for env in sorted(baydict.keys())[0:9]:\n",
    "        plotdict[count] = plt.subplot(int(\"33%s\" % count))\n",
    "\n",
    "        plotdict[count].hist(df['plot_total'],bins = [x for x in np.linspace(-0.1,0.2,30)])\n",
    "        plotdict[count].spines['right'].set_visible(False)\n",
    "        plotdict[count].spines['top'].set_visible(False)\n",
    "        plotdict[count].yaxis.set_ticks_position('left')\n",
    "        plotdict[count].xaxis.set_ticks_position('bottom')\n",
    "        plotdict[count].set_title(lst[count-1],y=.9,loc='right',fontsize=17,fontweight='bold')\n",
    "        \n",
    "        if count in [7,8,9]:\n",
    "            plotdict[count].set_xlabel(r'multilocus $F_{ST}$',fontsize=14)\n",
    "        if count in [1,4,7]:\n",
    "            plotdict[count].set_ylabel('Count',fontsize=14)\n",
    "        \n",
    "        for snp in baydict[env]:\n",
    "            col = 'red'\n",
    "            if dd[snp] >= n5th:\n",
    "                col = 'purple'\n",
    "            if dd[snp] >= n99th:\n",
    "                col = 'blue'\n",
    "            plotdict[count].axvline(x=dd[snp],c=col,linewidth=0.25,zorder=1)\n",
    "        \n",
    "        fig.set_size_inches(13,10)\n",
    "        pdf.savefig(fig,bbox_inches='tight')\n",
    "        \n",
    "        count += 1"
   ]
  },
  {
   "cell_type": "code",
   "execution_count": 52,
   "metadata": {
    "collapsed": false
   },
   "outputs": [
    {
     "data": {
      "text/plain": [
       "['Lon',\n",
       " 'Max-rad-input',\n",
       " 'Rock-cov',\n",
       " 'Sand',\n",
       " 'Silt',\n",
       " 'Tmax-July',\n",
       " 'Tmin-Jan',\n",
       " 'WC15Bar',\n",
       " 'WC3rdbar']"
      ]
     },
     "execution_count": 52,
     "metadata": {},
     "output_type": "execute_result"
    }
   ],
   "source": [
    "sorted(baydict.keys())[9:]"
   ]
  },
  {
   "cell_type": "code",
   "execution_count": 54,
   "metadata": {
    "collapsed": false
   },
   "outputs": [
    {
     "name": "stdout",
     "output_type": "stream",
     "text": [
      "AWS0-25 95\n",
      "AWS0-50 147\n",
      "Ann-ppt 49\n",
      "CEC 14\n",
      "Clay 22\n",
      "Elev 143\n",
      "GDD-Aug 157\n",
      "GDD-May 80\n",
      "Lat 119\n",
      "Lon 67\n",
      "Max-rad-input 144\n",
      "Rock-cov 143\n",
      "Sand 111\n",
      "Silt 140\n",
      "Tmax-July 50\n",
      "Tmin-Jan 116\n",
      "WC15Bar 86\n",
      "WC3rdbar 97\n"
     ]
    }
   ],
   "source": [
    "for env in sorted(baydict):\n",
    "    print env,len(baydict[env])"
   ]
  },
  {
   "cell_type": "code",
   "execution_count": 50,
   "metadata": {
    "collapsed": false
   },
   "outputs": [
    {
     "data": {
      "image/png": "[encoded data removed]",
      "text/plain": [
       "<matplotlib.figure.Figure at 0x2b6e30679b50>"
      ]
     },
     "metadata": {},
     "output_type": "display_data"
    }
   ],
   "source": [
    "with PdfPages('/home/lindb/wbp/figures/multilocus_fst_distribution_bayenv_all_env_overlay_2.pdf') as pdf:\n",
    "    \n",
    "    plt.close('all')\n",
    "    fig, ((a1,a2,a3),(a4,a5,a6),(a7,a8,a9)) = plt.subplots(3, 3, figsize=(5,5),dpi=400)\n",
    "    \n",
    "    plotdict = {}\n",
    "    count = 1\n",
    "    for env in sorted(baydict.keys())[9:]:\n",
    "        plotdict[count] = plt.subplot(int(\"33%s\" % count))\n",
    "\n",
    "        plotdict[count].hist(df['plot_total'],bins = [x for x in np.linspace(-0.1,0.2,30)])\n",
    "        plotdict[count].spines['right'].set_visible(False)\n",
    "        plotdict[count].spines['top'].set_visible(False)\n",
    "        plotdict[count].yaxis.set_ticks_position('left')\n",
    "        plotdict[count].xaxis.set_ticks_position('bottom')\n",
    "        plotdict[count].set_title(lst[count-1],y=.9,loc='right',fontsize=17,fontweight='bold')\n",
    "        \n",
    "        if count in [7,8,9]:\n",
    "            plotdict[count].set_xlabel(r'multilocus $F_{ST}$',fontsize=14)\n",
    "        if count in [1,4,7]:\n",
    "            plotdict[count].set_ylabel('Count',fontsize=14)\n",
    "        \n",
    "        for snp in baydict[env]:\n",
    "            col = 'red'\n",
    "            if dd[snp] >= n5th:\n",
    "                col = 'purple'\n",
    "            if dd[snp] >= n99th:\n",
    "                col = 'blue'\n",
    "            plotdict[count].axvline(x=dd[snp],c=col,linewidth=0.25,zorder=1)\n",
    "        \n",
    "        fig.set_size_inches(13,10)\n",
    "        pdf.savefig(fig,bbox_inches='tight')\n",
    "        \n",
    "        count += 1"
   ]
  },
  {
   "cell_type": "code",
   "execution_count": null,
   "metadata": {
    "collapsed": true
   },
   "outputs": [],
   "source": []
  },
  {
   "cell_type": "code",
   "execution_count": null,
   "metadata": {
    "collapsed": true
   },
   "outputs": [],
   "source": []
  },
  {
   "cell_type": "code",
   "execution_count": null,
   "metadata": {
    "collapsed": true
   },
   "outputs": [],
   "source": []
  },
  {
   "cell_type": "code",
   "execution_count": null,
   "metadata": {
    "collapsed": true
   },
   "outputs": [],
   "source": []
  },
  {
   "cell_type": "code",
   "execution_count": null,
   "metadata": {
    "collapsed": true
   },
   "outputs": [],
   "source": []
  }
 ],
 "metadata": {
  "kernelspec": {
   "display_name": "Python 2",
   "language": "python",
   "name": "python2"
  },
  "language_info": {
   "codemirror_mode": {
    "name": "ipython",
    "version": 2
   },
   "file_extension": ".py",
   "mimetype": "text/x-python",
   "name": "python",
   "nbconvert_exporter": "python",
   "pygments_lexer": "ipython2",
   "version": "2.7.11"
  }
 },
 "nbformat": 4,
 "nbformat_minor": 0
}
