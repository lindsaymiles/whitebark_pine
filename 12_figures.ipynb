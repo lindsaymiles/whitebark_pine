{
 "cells": [
  {
   "cell_type": "code",
   "execution_count": 3,
   "metadata": {
    "collapsed": false
   },
   "outputs": [
    {
     "name": "stderr",
     "output_type": "stream",
     "text": [
      "Vendor:  Continuum Analytics, Inc.\n",
      "Package: mkl\n",
      "Message: license expired\n",
      "\n",
      "    the package numpy 1.10.2 was published on 2015-12-14,\n",
      "    however the mkl license expiration date is 2015-05-28.\n",
      "    You may be able to run earlier versions of numpy using your\n",
      "    current license.  A new license can be purchased at: http://continuum.io\n",
      "    To revert to an earlier set of conda packages, use:\n",
      "    $ conda list --revisions\n",
      "    ...\n",
      "    $ conda install --revision <REVISION NUMBER>\n",
      "\n",
      "    \n"
     ]
    }
   ],
   "source": [
    "import os\n",
    "from collections import OrderedDict,Counter,defaultdict\n",
    "import collections\n",
    "from __future__ import division\n",
    "import pandas as pd\n",
    "import numpy as np\n",
    "import vcf\n",
    "from operator import itemgetter\n",
    "import random\n",
    "import matplotlib.pyplot as plt\n",
    "import matplotlib.gridspec as gridspec\n",
    "from matplotlib.backends.backend_pdf import PdfPages\n",
    "import matplotlib.ticker as mtick\n",
    "import matplotlib.colors as mcolors\n",
    "import matplotlib.cm as cm\n",
    "import matplotlib.patches as mpatches\n",
    "%matplotlib inline\n",
    "import math\n",
    "from os import path as op\n",
    "from os import listdir as ls\n",
    "from IPython.display import display\n",
    "from matplotlib.backends.backend_pdf import PdfPages"
   ]
  },
  {
   "cell_type": "markdown",
   "metadata": {},
   "source": [
    "# heatmap of pops vs ann ppt"
   ]
  },
  {
   "cell_type": "code",
   "execution_count": 29,
   "metadata": {
    "collapsed": false
   },
   "outputs": [
    {
     "data": {
      "text/html": [
       "<div>\n",
       "<table border=\"1\" class=\"dataframe\">\n",
       "  <thead>\n",
       "    <tr style=\"text-align: right;\">\n",
       "      <th></th>\n",
       "      <th>Dicks_Pass</th>\n",
       "      <th>Freel_Peak</th>\n",
       "      <th>Heavenly</th>\n",
       "      <th>Little_Round_Top</th>\n",
       "      <th>Mt_Rose_Ophir</th>\n",
       "      <th>Rifle_Peak</th>\n",
       "      <th>Snow_Valley_Peak</th>\n",
       "      <th>West_Shore_Peaks</th>\n",
       "    </tr>\n",
       "  </thead>\n",
       "  <tbody>\n",
       "    <tr>\n",
       "      <th>AWS0-25</th>\n",
       "      <td>-0.203570</td>\n",
       "      <td>-0.389380</td>\n",
       "      <td>-1.384005</td>\n",
       "      <td>0.474087</td>\n",
       "      <td>0.430367</td>\n",
       "      <td>0.299207</td>\n",
       "      <td>1.982420</td>\n",
       "      <td>-1.209126</td>\n",
       "    </tr>\n",
       "    <tr>\n",
       "      <th>AWS0-50</th>\n",
       "      <td>-0.035349</td>\n",
       "      <td>-0.578405</td>\n",
       "      <td>-1.156498</td>\n",
       "      <td>0.239933</td>\n",
       "      <td>-0.030344</td>\n",
       "      <td>0.510211</td>\n",
       "      <td>2.176919</td>\n",
       "      <td>-1.126467</td>\n",
       "    </tr>\n",
       "    <tr>\n",
       "      <th>Ann-ppt</th>\n",
       "      <td>1.621491</td>\n",
       "      <td>-0.620322</td>\n",
       "      <td>-1.416888</td>\n",
       "      <td>0.058608</td>\n",
       "      <td>-0.059028</td>\n",
       "      <td>0.260270</td>\n",
       "      <td>-1.124478</td>\n",
       "      <td>1.280346</td>\n",
       "    </tr>\n",
       "    <tr>\n",
       "      <th>CEC</th>\n",
       "      <td>-0.519958</td>\n",
       "      <td>-0.162005</td>\n",
       "      <td>-0.519958</td>\n",
       "      <td>2.565848</td>\n",
       "      <td>0.195949</td>\n",
       "      <td>-0.519958</td>\n",
       "      <td>-0.519958</td>\n",
       "      <td>-0.519958</td>\n",
       "    </tr>\n",
       "    <tr>\n",
       "      <th>Clay</th>\n",
       "      <td>-0.111761</td>\n",
       "      <td>-0.739189</td>\n",
       "      <td>-0.049018</td>\n",
       "      <td>2.429323</td>\n",
       "      <td>-1.209760</td>\n",
       "      <td>-0.033332</td>\n",
       "      <td>-0.017646</td>\n",
       "      <td>-0.268618</td>\n",
       "    </tr>\n",
       "    <tr>\n",
       "      <th>Elev</th>\n",
       "      <td>-0.003848</td>\n",
       "      <td>1.073662</td>\n",
       "      <td>0.821217</td>\n",
       "      <td>1.270692</td>\n",
       "      <td>-1.653978</td>\n",
       "      <td>0.223968</td>\n",
       "      <td>-1.235288</td>\n",
       "      <td>-0.496424</td>\n",
       "    </tr>\n",
       "    <tr>\n",
       "      <th>GDD-Aug</th>\n",
       "      <td>0.934437</td>\n",
       "      <td>-1.786280</td>\n",
       "      <td>0.442116</td>\n",
       "      <td>-1.242137</td>\n",
       "      <td>0.960348</td>\n",
       "      <td>-0.620259</td>\n",
       "      <td>0.778967</td>\n",
       "      <td>0.532807</td>\n",
       "    </tr>\n",
       "    <tr>\n",
       "      <th>GDD-May</th>\n",
       "      <td>-0.649369</td>\n",
       "      <td>-0.649369</td>\n",
       "      <td>0.949078</td>\n",
       "      <td>-0.649369</td>\n",
       "      <td>2.281117</td>\n",
       "      <td>-0.649369</td>\n",
       "      <td>-0.249757</td>\n",
       "      <td>-0.382961</td>\n",
       "    </tr>\n",
       "    <tr>\n",
       "      <th>Lat</th>\n",
       "      <td>-0.576210</td>\n",
       "      <td>-0.851775</td>\n",
       "      <td>-0.428441</td>\n",
       "      <td>-1.473446</td>\n",
       "      <td>1.431077</td>\n",
       "      <td>1.398217</td>\n",
       "      <td>0.729649</td>\n",
       "      <td>-0.229072</td>\n",
       "    </tr>\n",
       "    <tr>\n",
       "      <th>Lon</th>\n",
       "      <td>-1.511918</td>\n",
       "      <td>0.796321</td>\n",
       "      <td>0.849157</td>\n",
       "      <td>-0.682730</td>\n",
       "      <td>0.861823</td>\n",
       "      <td>0.054377</td>\n",
       "      <td>1.057400</td>\n",
       "      <td>-1.424429</td>\n",
       "    </tr>\n",
       "    <tr>\n",
       "      <th>Max-rad-input</th>\n",
       "      <td>0.288808</td>\n",
       "      <td>-0.386476</td>\n",
       "      <td>-0.479210</td>\n",
       "      <td>-0.229616</td>\n",
       "      <td>1.327138</td>\n",
       "      <td>1.721752</td>\n",
       "      <td>-1.471172</td>\n",
       "      <td>-0.771225</td>\n",
       "    </tr>\n",
       "    <tr>\n",
       "      <th>Rock-cov</th>\n",
       "      <td>0.636724</td>\n",
       "      <td>-0.563724</td>\n",
       "      <td>0.052722</td>\n",
       "      <td>-0.953059</td>\n",
       "      <td>-1.699283</td>\n",
       "      <td>0.539391</td>\n",
       "      <td>0.214945</td>\n",
       "      <td>1.772284</td>\n",
       "    </tr>\n",
       "    <tr>\n",
       "      <th>Sand</th>\n",
       "      <td>-0.108508</td>\n",
       "      <td>1.000282</td>\n",
       "      <td>0.529776</td>\n",
       "      <td>-1.363192</td>\n",
       "      <td>1.306658</td>\n",
       "      <td>-0.509715</td>\n",
       "      <td>-1.549206</td>\n",
       "      <td>0.693906</td>\n",
       "    </tr>\n",
       "    <tr>\n",
       "      <th>Silt</th>\n",
       "      <td>0.188186</td>\n",
       "      <td>-0.940932</td>\n",
       "      <td>-0.662137</td>\n",
       "      <td>0.648198</td>\n",
       "      <td>-1.122149</td>\n",
       "      <td>0.662137</td>\n",
       "      <td>1.986412</td>\n",
       "      <td>-0.759716</td>\n",
       "    </tr>\n",
       "    <tr>\n",
       "      <th>Tmax-July</th>\n",
       "      <td>-1.436161</td>\n",
       "      <td>-0.825029</td>\n",
       "      <td>1.130595</td>\n",
       "      <td>-0.947255</td>\n",
       "      <td>0.763915</td>\n",
       "      <td>0.519462</td>\n",
       "      <td>1.375048</td>\n",
       "      <td>-0.580576</td>\n",
       "    </tr>\n",
       "    <tr>\n",
       "      <th>Tmin-Jan</th>\n",
       "      <td>1.405432</td>\n",
       "      <td>-1.888829</td>\n",
       "      <td>-0.026855</td>\n",
       "      <td>-0.742999</td>\n",
       "      <td>0.116373</td>\n",
       "      <td>0.116373</td>\n",
       "      <td>-0.313313</td>\n",
       "      <td>1.333817</td>\n",
       "    </tr>\n",
       "    <tr>\n",
       "      <th>WC15Bar</th>\n",
       "      <td>0.163643</td>\n",
       "      <td>-0.568353</td>\n",
       "      <td>-0.765429</td>\n",
       "      <td>-0.680968</td>\n",
       "      <td>-0.146047</td>\n",
       "      <td>0.740794</td>\n",
       "      <td>2.247017</td>\n",
       "      <td>-0.990658</td>\n",
       "    </tr>\n",
       "    <tr>\n",
       "      <th>WC3rdbar</th>\n",
       "      <td>0.111927</td>\n",
       "      <td>-0.576854</td>\n",
       "      <td>-0.411546</td>\n",
       "      <td>-0.866141</td>\n",
       "      <td>0.167029</td>\n",
       "      <td>0.828258</td>\n",
       "      <td>2.068063</td>\n",
       "      <td>-1.320736</td>\n",
       "    </tr>\n",
       "  </tbody>\n",
       "</table>\n",
       "</div>"
      ],
      "text/plain": [
       "               Dicks_Pass  Freel_Peak  Heavenly  Little_Round_Top  \\\n",
       "AWS0-25         -0.203570   -0.389380 -1.384005          0.474087   \n",
       "AWS0-50         -0.035349   -0.578405 -1.156498          0.239933   \n",
       "Ann-ppt          1.621491   -0.620322 -1.416888          0.058608   \n",
       "CEC             -0.519958   -0.162005 -0.519958          2.565848   \n",
       "Clay            -0.111761   -0.739189 -0.049018          2.429323   \n",
       "Elev            -0.003848    1.073662  0.821217          1.270692   \n",
       "GDD-Aug          0.934437   -1.786280  0.442116         -1.242137   \n",
       "GDD-May         -0.649369   -0.649369  0.949078         -0.649369   \n",
       "Lat             -0.576210   -0.851775 -0.428441         -1.473446   \n",
       "Lon             -1.511918    0.796321  0.849157         -0.682730   \n",
       "Max-rad-input    0.288808   -0.386476 -0.479210         -0.229616   \n",
       "Rock-cov         0.636724   -0.563724  0.052722         -0.953059   \n",
       "Sand            -0.108508    1.000282  0.529776         -1.363192   \n",
       "Silt             0.188186   -0.940932 -0.662137          0.648198   \n",
       "Tmax-July       -1.436161   -0.825029  1.130595         -0.947255   \n",
       "Tmin-Jan         1.405432   -1.888829 -0.026855         -0.742999   \n",
       "WC15Bar          0.163643   -0.568353 -0.765429         -0.680968   \n",
       "WC3rdbar         0.111927   -0.576854 -0.411546         -0.866141   \n",
       "\n",
       "               Mt_Rose_Ophir  Rifle_Peak  Snow_Valley_Peak  West_Shore_Peaks  \n",
       "AWS0-25             0.430367    0.299207          1.982420         -1.209126  \n",
       "AWS0-50            -0.030344    0.510211          2.176919         -1.126467  \n",
       "Ann-ppt            -0.059028    0.260270         -1.124478          1.280346  \n",
       "CEC                 0.195949   -0.519958         -0.519958         -0.519958  \n",
       "Clay               -1.209760   -0.033332         -0.017646         -0.268618  \n",
       "Elev               -1.653978    0.223968         -1.235288         -0.496424  \n",
       "GDD-Aug             0.960348   -0.620259          0.778967          0.532807  \n",
       "GDD-May             2.281117   -0.649369         -0.249757         -0.382961  \n",
       "Lat                 1.431077    1.398217          0.729649         -0.229072  \n",
       "Lon                 0.861823    0.054377          1.057400         -1.424429  \n",
       "Max-rad-input       1.327138    1.721752         -1.471172         -0.771225  \n",
       "Rock-cov           -1.699283    0.539391          0.214945          1.772284  \n",
       "Sand                1.306658   -0.509715         -1.549206          0.693906  \n",
       "Silt               -1.122149    0.662137          1.986412         -0.759716  \n",
       "Tmax-July           0.763915    0.519462          1.375048         -0.580576  \n",
       "Tmin-Jan            0.116373    0.116373         -0.313313          1.333817  \n",
       "WC15Bar            -0.146047    0.740794          2.247017         -0.990658  \n",
       "WC3rdbar            0.167029    0.828258          2.068063         -1.320736  "
      ]
     },
     "execution_count": 29,
     "metadata": {},
     "output_type": "execute_result"
    }
   ],
   "source": [
    "#made in 08_bayenv2.ipynb\n",
    "envf = pd.read_csv('/home/lindb/wbp/bayenv2/ENVIRONFILE_headerIDX.txt',header=0,index_col=0,sep='\\t')\n",
    "envf"
   ]
  },
  {
   "cell_type": "code",
   "execution_count": 12,
   "metadata": {
    "collapsed": false
   },
   "outputs": [],
   "source": [
    "dist = {}\n",
    "for env in envf.index:\n",
    "    dist[env] = {}\n",
    "    for pop in envf.columns:\n",
    "        dist[env][pop] = envf.loc[env,pop]"
   ]
  },
  {
   "cell_type": "code",
   "execution_count": 31,
   "metadata": {
    "collapsed": true
   },
   "outputs": [],
   "source": [
    "from scipy.stats import spearmanr"
   ]
  },
  {
   "cell_type": "code",
   "execution_count": 32,
   "metadata": {
    "collapsed": false
   },
   "outputs": [
    {
     "data": {
      "text/plain": [
       "SpearmanrResult(correlation=-0.85714285714285721, pvalue=0.0065300172547152922)"
      ]
     },
     "execution_count": 32,
     "metadata": {},
     "output_type": "execute_result"
    }
   ],
   "source": [
    "spearmanr(dist['Ann-ppt'].values(),dist['Lon'].values())"
   ]
  },
  {
   "cell_type": "code",
   "execution_count": 33,
   "metadata": {
    "collapsed": false
   },
   "outputs": [
    {
     "data": {
      "text/plain": [
       "SpearmanrResult(correlation=-0.095238095238095233, pvalue=0.82250543020361144)"
      ]
     },
     "execution_count": 33,
     "metadata": {},
     "output_type": "execute_result"
    }
   ],
   "source": [
    "spearmanr(dist['Ann-ppt'].values(),dist['Elev'].values())"
   ]
  },
  {
   "cell_type": "code",
   "execution_count": 35,
   "metadata": {
    "collapsed": false
   },
   "outputs": [
    {
     "data": {
      "text/plain": [
       "<matplotlib.collections.PathCollection at 0x2b5fc564d2d0>"
      ]
     },
     "execution_count": 35,
     "metadata": {},
     "output_type": "execute_result"
    },
    {
     "data": {
      "image/png": "[encoded data removed]",
      "text/plain": [
       "<matplotlib.figure.Figure at 0x2b5fcbd3f310>"
      ]
     },
     "metadata": {},
     "output_type": "display_data"
    }
   ],
   "source": [
    "plt.scatter(dist['Ann-ppt'].values(),dist['Lon'].values())"
   ]
  },
  {
   "cell_type": "code",
   "execution_count": 52,
   "metadata": {
    "collapsed": false
   },
   "outputs": [],
   "source": [
    "loc = {'Rifle_Peak': [39.286262, -119.9822649], \n",
    "'Mt_Rose_Ophir': [39.2893711, -119.907125],\n",
    "'Snow_Valley_Peak': [39.1588193, -119.8860493],\n",
    "'Freel_Peak': [38.8611931, -119.9091713],\n",
    "'Little_Round_Top': [38.7369475, -120.0545048],\n",
    "'Dicks_Pass': [38.9039739, -120.1336446],\n",
    "'Heavenly': [38.9368189, -119.9063352],\n",
    "'West_Shore_Peaks': [38.9737194, -120.1240533]   \n",
    "}"
   ]
  },
  {
   "cell_type": "code",
   "execution_count": 38,
   "metadata": {
    "collapsed": false
   },
   "outputs": [
    {
     "data": {
      "text/plain": [
       "(39.2839081, -119.98260160000001)"
      ]
     },
     "execution_count": 38,
     "metadata": {},
     "output_type": "execute_result"
    }
   ],
   "source": [
    "loc['Rifle_Peak'][0],loc['Rifle_Peak'][1]"
   ]
  },
  {
   "cell_type": "code",
   "execution_count": 49,
   "metadata": {
    "collapsed": false
   },
   "outputs": [
    {
     "data": {
      "text/plain": [
       "float"
      ]
     },
     "execution_count": 49,
     "metadata": {},
     "output_type": "execute_result"
    }
   ],
   "source": [
    "type(loc['Rifle_Peak'][1])"
   ]
  },
  {
   "cell_type": "code",
   "execution_count": 58,
   "metadata": {
    "collapsed": false
   },
   "outputs": [
    {
     "data": {
      "text/plain": [
       "1.62149127403"
      ]
     },
     "execution_count": 58,
     "metadata": {},
     "output_type": "execute_result"
    }
   ],
   "source": [
    "max(dist['Ann-ppt'].values())"
   ]
  },
  {
   "cell_type": "code",
   "execution_count": 70,
   "metadata": {
    "collapsed": false
   },
   "outputs": [
    {
     "data": {
      "image/png": "[encoded data removed]",
      "text/plain": [
       "<matplotlib.figure.Figure at 0x2b5fc563acd0>"
      ]
     },
     "metadata": {},
     "output_type": "display_data"
    }
   ],
   "source": [
    "with PdfPages('/home/lindb/wbp/figures/ann-ppt_vs_lat-long.pdf') as pdf:\n",
    "    norm = mcolors.Normalize(min(dist['Ann-ppt'].values()), max(dist['Ann-ppt'].values()))\n",
    "    legend = {}\n",
    "    for pop in sorted(loc):\n",
    "        n = norm(dist['Ann-ppt'][pop])\n",
    "        color = cm.rainbow(n)\n",
    "        legend[pop] = color\n",
    "        plt.scatter(loc[pop][1],\n",
    "                    loc[pop][0],\n",
    "                    s=150,\n",
    "                    c=color\n",
    "                   )\n",
    "    fig = plt.gcf()\n",
    "    ax = plt.gca()\n",
    "    cmap = plt.get_cmap()\n",
    "    fig.set_size_inches(10,8)\n",
    "    handles=[]\n",
    "    for pop in sorted(legend):\n",
    "        handles.append(mpatches.Patch(color=legend[pop], label=(pop, dist['Ann-ppt'][pop])))\n",
    "    for pop in legend:\n",
    "        ax.annotate(pop,(loc[pop][1],loc[pop][0]))\n",
    "    plt.legend(handles=sorted(handles), loc=2,bbox_to_anchor=(1, 1))\n",
    "    plt.show()\n",
    "    \n",
    "    ax.set_xlabel('Longitude')\n",
    "    ax.set_ylabel('Latitude')\n",
    "    fig.set_size_inches(6,5)\n",
    "    pdf.savefig(fig,bbox_inches='tight')"
   ]
  },
  {
   "cell_type": "code",
   "execution_count": null,
   "metadata": {
    "collapsed": true
   },
   "outputs": [],
   "source": [
    "fig = plt.gcf()\n",
    "ax = plt.gca()\n",
    "cmap = plt.get_cmap()\n",
    "fig.set_size_inches(10,8)\n",
    "plt.title(\"PCA of n=%d imputed samples for gemma on %d loci across 6 populations\" % (len(impPCs), len(imp_std.columns)))\n",
    "#0.05294  0.01079\n",
    "#0.02051  0.01083\n",
    "imp = summary(imp_res).rx(\"importance\")[0]\n",
    "plt.xlabel(\"PC1 (%g)\" % imp.rx(2,1)[0])\n",
    "plt.ylabel(\"PC2 (%g)\" % imp.rx(2,2)[0])\n",
    "handles = []\n",
    "for pop in sorted(legend):\n",
    "    handles.append(mpatches.Patch(color=legend[pop], label=pop))\n",
    "plt.legend(handles=sorted(handles), loc=2,bbox_to_anchor=(1, 1))\n",
    "\n",
    "plt.show()"
   ]
  },
  {
   "cell_type": "markdown",
   "metadata": {
    "collapsed": true
   },
   "source": [
    "# violin plot"
   ]
  },
  {
   "cell_type": "code",
   "execution_count": 4,
   "metadata": {
    "collapsed": true
   },
   "outputs": [],
   "source": [
    "hyp_files = defaultdict(list,\n",
    "            {'bfpopx': ['/home/lindb/wbp/gemma/infiles/bslmm/output/bfpopx_bslmm_1_out_50mil.hyp.txt',\n",
    "              '/home/lindb/wbp/gemma/infiles/bslmm/output/bfpopx_bslmm_3_out_50mil.hyp.txt',\n",
    "              '/home/lindb/wbp/gemma/infiles/bslmm/output/bfpopx_bslmm_2_out_50mil.hyp.txt',\n",
    "              '/home/lindb/wbp/gemma/infiles/bslmm/output/bfpopx_bslmm_4_out_50mil.hyp.txt'],\n",
    "             'c13popx': ['/home/lindb/wbp/gemma/infiles/bslmm/output/c13popx_bslmm_1_out_50mil.hyp.txt',\n",
    "              '/home/lindb/wbp/gemma/infiles/bslmm/output/c13popx_bslmm_3_out_50mil.hyp.txt',\n",
    "              '/home/lindb/wbp/gemma/infiles/bslmm/output/c13popx_bslmm_2_out_50mil.hyp.txt',\n",
    "              '/home/lindb/wbp/gemma/infiles/bslmm/output/c13popx_bslmm_4_out_50mil.hyp.txt'],\n",
    "             'htpopx': ['/home/lindb/wbp/gemma/infiles/bslmm/output/htpopx_bslmm_1_out_50mil.hyp.txt',\n",
    "              '/home/lindb/wbp/gemma/infiles/bslmm/output/htpopx_bslmm_3_out_50mil.hyp.txt',\n",
    "              '/home/lindb/wbp/gemma/infiles/bslmm/output/htpopx_bslmm_2_out_50mil.hyp.txt',\n",
    "              '/home/lindb/wbp/gemma/infiles/bslmm/output/htpopx_bslmm_4_out_50mil.hyp.txt'],\n",
    "             'n15popx': ['/home/lindb/wbp/gemma/infiles/bslmm/output/n15popx_bslmm_1_out_50mil.hyp.txt',\n",
    "              '/home/lindb/wbp/gemma/infiles/bslmm/output/n15popx_bslmm_3_out_50mil.hyp.txt',\n",
    "              '/home/lindb/wbp/gemma/infiles/bslmm/output/n15popx_bslmm_2_out_50mil.hyp.txt',\n",
    "              '/home/lindb/wbp/gemma/infiles/bslmm/output/n15popx_bslmm_4_out_50mil.hyp.txt'],\n",
    "             'rspopx': ['/home/lindb/wbp/gemma/infiles/bslmm/output/rspopx_bslmm_1_out_50mil.hyp.txt',\n",
    "              '/home/lindb/wbp/gemma/infiles/bslmm/output/rspopx_bslmm_3_out_50mil.hyp.txt',\n",
    "              '/home/lindb/wbp/gemma/infiles/bslmm/output/rspopx_bslmm_2_out_50mil.hyp.txt',\n",
    "              '/home/lindb/wbp/gemma/infiles/bslmm/output/rspopx_bslmm_4_out_50mil.hyp.txt']})"
   ]
  },
  {
   "cell_type": "code",
   "execution_count": 5,
   "metadata": {
    "collapsed": true
   },
   "outputs": [],
   "source": [
    "param_files = defaultdict(list,\n",
    "            {'bfpopx': ['/home/lindb/wbp/gemma/infiles/bslmm/output/bfpopx_bslmm_1_out_50mil.param.txt',\n",
    "              '/home/lindb/wbp/gemma/infiles/bslmm/output/bfpopx_bslmm_3_out_50mil.param.txt',\n",
    "              '/home/lindb/wbp/gemma/infiles/bslmm/output/bfpopx_bslmm_2_out_50mil.param.txt',\n",
    "              '/home/lindb/wbp/gemma/infiles/bslmm/output/bfpopx_bslmm_4_out_50mil.param.txt'],\n",
    "             'c13popx': ['/home/lindb/wbp/gemma/infiles/bslmm/output/c13popx_bslmm_1_out_50mil.param.txt',\n",
    "              '/home/lindb/wbp/gemma/infiles/bslmm/output/c13popx_bslmm_3_out_50mil.param.txt',\n",
    "              '/home/lindb/wbp/gemma/infiles/bslmm/output/c13popx_bslmm_2_out_50mil.param.txt',\n",
    "              '/home/lindb/wbp/gemma/infiles/bslmm/output/c13popx_bslmm_4_out_50mil.param.txt'],\n",
    "             'htpopx': ['/home/lindb/wbp/gemma/infiles/bslmm/output/htpopx_bslmm_1_out_50mil.param.txt',\n",
    "              '/home/lindb/wbp/gemma/infiles/bslmm/output/htpopx_bslmm_3_out_50mil.param.txt',\n",
    "              '/home/lindb/wbp/gemma/infiles/bslmm/output/htpopx_bslmm_2_out_50mil.param.txt',\n",
    "              '/home/lindb/wbp/gemma/infiles/bslmm/output/htpopx_bslmm_4_out_50mil.param.txt'],\n",
    "             'n15popx': ['/home/lindb/wbp/gemma/infiles/bslmm/output/n15popx_bslmm_1_out_50mil.param.txt',\n",
    "              '/home/lindb/wbp/gemma/infiles/bslmm/output/n15popx_bslmm_3_out_50mil.param.txt',\n",
    "              '/home/lindb/wbp/gemma/infiles/bslmm/output/n15popx_bslmm_2_out_50mil.param.txt',\n",
    "              '/home/lindb/wbp/gemma/infiles/bslmm/output/n15popx_bslmm_4_out_50mil.param.txt'],\n",
    "             'rspopx': ['/home/lindb/wbp/gemma/infiles/bslmm/output/rspopx_bslmm_1_out_50mil.param.txt',\n",
    "              '/home/lindb/wbp/gemma/infiles/bslmm/output/rspopx_bslmm_3_out_50mil.param.txt',\n",
    "              '/home/lindb/wbp/gemma/infiles/bslmm/output/rspopx_bslmm_2_out_50mil.param.txt',\n",
    "              '/home/lindb/wbp/gemma/infiles/bslmm/output/rspopx_bslmm_4_out_50mil.param.txt']})"
   ]
  },
  {
   "cell_type": "code",
   "execution_count": 6,
   "metadata": {
    "collapsed": true
   },
   "outputs": [],
   "source": [
    "def get_hyp_dfs(files):\n",
    "    dfs = {}\n",
    "    for pheno, filelist in files.items():\n",
    "        dfs[pheno] = pd.DataFrame()\n",
    "        df = None\n",
    "        fcount = 0\n",
    "        for f in sorted(filelist):\n",
    "            fdata = os.path.basename(f).split(\".\")[0].split(\"_\")\n",
    "            num = int(fdata[2])\n",
    "            \n",
    "            if fcount == 0:\n",
    "                df = pd.read_csv(f, sep=\"\\t\")\n",
    "                df.columns = ['%s_%s' % (col,num) for col in df.columns]\n",
    "            else:\n",
    "                newdf = pd.read_csv(f, sep=\"\\t\")\n",
    "                newdf.columns = [\"%s_%s\" % (col,num) for col in newdf.columns]\n",
    "                df = pd.merge(df,newdf,left_index=True,right_index=True)\n",
    "            fcount += 1\n",
    "        df = df.apply(pd.to_numeric, errors=\"ignore\")\n",
    "        dfs[pheno] = df\n",
    "    return dfs\n",
    "hyp_dfs = get_hyp_dfs(hyp_files)"
   ]
  },
  {
   "cell_type": "code",
   "execution_count": 7,
   "metadata": {
    "collapsed": false
   },
   "outputs": [
    {
     "data": {
      "text/html": [
       "<div>\n",
       "<table border=\"1\" class=\"dataframe\">\n",
       "  <thead>\n",
       "    <tr style=\"text-align: right;\">\n",
       "      <th></th>\n",
       "      <th>h_1</th>\n",
       "      <th>pve_1</th>\n",
       "      <th>rho_1</th>\n",
       "      <th>pge_1</th>\n",
       "      <th>pi_1</th>\n",
       "      <th>n_gamma_1</th>\n",
       "      <th>h_2</th>\n",
       "      <th>pve_2</th>\n",
       "      <th>rho_2</th>\n",
       "      <th>pge_2</th>\n",
       "      <th>...</th>\n",
       "      <th>rho_3</th>\n",
       "      <th>pge_3</th>\n",
       "      <th>pi_3</th>\n",
       "      <th>n_gamma_3</th>\n",
       "      <th>h_4</th>\n",
       "      <th>pve_4</th>\n",
       "      <th>rho_4</th>\n",
       "      <th>pge_4</th>\n",
       "      <th>pi_4</th>\n",
       "      <th>n_gamma_4</th>\n",
       "    </tr>\n",
       "  </thead>\n",
       "  <tbody>\n",
       "    <tr>\n",
       "      <th>0</th>\n",
       "      <td>0.220253</td>\n",
       "      <td>0.231943</td>\n",
       "      <td>0.410713</td>\n",
       "      <td>0.443830</td>\n",
       "      <td>0.001884</td>\n",
       "      <td>220.0</td>\n",
       "      <td>0.267925</td>\n",
       "      <td>0.291488</td>\n",
       "      <td>0.674529</td>\n",
       "      <td>0.614970</td>\n",
       "      <td>...</td>\n",
       "      <td>0.569785</td>\n",
       "      <td>0.648057</td>\n",
       "      <td>0.001008</td>\n",
       "      <td>117.0</td>\n",
       "      <td>0.267925</td>\n",
       "      <td>0.291488</td>\n",
       "      <td>0.674529</td>\n",
       "      <td>0.614970</td>\n",
       "      <td>0.001550</td>\n",
       "      <td>158.0</td>\n",
       "    </tr>\n",
       "    <tr>\n",
       "      <th>1</th>\n",
       "      <td>0.450946</td>\n",
       "      <td>0.416229</td>\n",
       "      <td>0.617552</td>\n",
       "      <td>0.646631</td>\n",
       "      <td>0.001930</td>\n",
       "      <td>229.0</td>\n",
       "      <td>0.401846</td>\n",
       "      <td>0.335596</td>\n",
       "      <td>0.492682</td>\n",
       "      <td>0.477998</td>\n",
       "      <td>...</td>\n",
       "      <td>0.359418</td>\n",
       "      <td>0.264804</td>\n",
       "      <td>0.001061</td>\n",
       "      <td>103.0</td>\n",
       "      <td>0.401846</td>\n",
       "      <td>0.335596</td>\n",
       "      <td>0.492682</td>\n",
       "      <td>0.477998</td>\n",
       "      <td>0.001541</td>\n",
       "      <td>176.0</td>\n",
       "    </tr>\n",
       "    <tr>\n",
       "      <th>2</th>\n",
       "      <td>0.202163</td>\n",
       "      <td>0.179139</td>\n",
       "      <td>0.656780</td>\n",
       "      <td>0.554563</td>\n",
       "      <td>0.001746</td>\n",
       "      <td>202.0</td>\n",
       "      <td>0.211270</td>\n",
       "      <td>0.215039</td>\n",
       "      <td>0.398028</td>\n",
       "      <td>0.504549</td>\n",
       "      <td>...</td>\n",
       "      <td>0.447940</td>\n",
       "      <td>0.438302</td>\n",
       "      <td>0.001059</td>\n",
       "      <td>110.0</td>\n",
       "      <td>0.211270</td>\n",
       "      <td>0.215039</td>\n",
       "      <td>0.398028</td>\n",
       "      <td>0.504549</td>\n",
       "      <td>0.001856</td>\n",
       "      <td>185.0</td>\n",
       "    </tr>\n",
       "    <tr>\n",
       "      <th>3</th>\n",
       "      <td>0.183005</td>\n",
       "      <td>0.164360</td>\n",
       "      <td>0.442000</td>\n",
       "      <td>0.458563</td>\n",
       "      <td>0.001426</td>\n",
       "      <td>195.0</td>\n",
       "      <td>0.566320</td>\n",
       "      <td>0.551887</td>\n",
       "      <td>0.378794</td>\n",
       "      <td>0.430254</td>\n",
       "      <td>...</td>\n",
       "      <td>0.489446</td>\n",
       "      <td>0.525387</td>\n",
       "      <td>0.001152</td>\n",
       "      <td>143.0</td>\n",
       "      <td>0.566320</td>\n",
       "      <td>0.551887</td>\n",
       "      <td>0.378794</td>\n",
       "      <td>0.430254</td>\n",
       "      <td>0.001794</td>\n",
       "      <td>207.0</td>\n",
       "    </tr>\n",
       "    <tr>\n",
       "      <th>4</th>\n",
       "      <td>0.067618</td>\n",
       "      <td>0.062976</td>\n",
       "      <td>0.163403</td>\n",
       "      <td>0.160793</td>\n",
       "      <td>0.001379</td>\n",
       "      <td>184.0</td>\n",
       "      <td>0.353257</td>\n",
       "      <td>0.378838</td>\n",
       "      <td>0.369870</td>\n",
       "      <td>0.428792</td>\n",
       "      <td>...</td>\n",
       "      <td>0.152600</td>\n",
       "      <td>0.153034</td>\n",
       "      <td>0.001243</td>\n",
       "      <td>151.0</td>\n",
       "      <td>0.353257</td>\n",
       "      <td>0.378838</td>\n",
       "      <td>0.369870</td>\n",
       "      <td>0.428792</td>\n",
       "      <td>0.001651</td>\n",
       "      <td>215.0</td>\n",
       "    </tr>\n",
       "  </tbody>\n",
       "</table>\n",
       "<p>5 rows × 24 columns</p>\n",
       "</div>"
      ],
      "text/plain": [
       "        h_1     pve_1     rho_1     pge_1      pi_1  n_gamma_1       h_2  \\\n",
       "0  0.220253  0.231943  0.410713  0.443830  0.001884      220.0  0.267925   \n",
       "1  0.450946  0.416229  0.617552  0.646631  0.001930      229.0  0.401846   \n",
       "2  0.202163  0.179139  0.656780  0.554563  0.001746      202.0  0.211270   \n",
       "3  0.183005  0.164360  0.442000  0.458563  0.001426      195.0  0.566320   \n",
       "4  0.067618  0.062976  0.163403  0.160793  0.001379      184.0  0.353257   \n",
       "\n",
       "      pve_2     rho_2     pge_2    ...         rho_3     pge_3      pi_3  \\\n",
       "0  0.291488  0.674529  0.614970    ...      0.569785  0.648057  0.001008   \n",
       "1  0.335596  0.492682  0.477998    ...      0.359418  0.264804  0.001061   \n",
       "2  0.215039  0.398028  0.504549    ...      0.447940  0.438302  0.001059   \n",
       "3  0.551887  0.378794  0.430254    ...      0.489446  0.525387  0.001152   \n",
       "4  0.378838  0.369870  0.428792    ...      0.152600  0.153034  0.001243   \n",
       "\n",
       "   n_gamma_3       h_4     pve_4     rho_4     pge_4      pi_4  n_gamma_4  \n",
       "0      117.0  0.267925  0.291488  0.674529  0.614970  0.001550      158.0  \n",
       "1      103.0  0.401846  0.335596  0.492682  0.477998  0.001541      176.0  \n",
       "2      110.0  0.211270  0.215039  0.398028  0.504549  0.001856      185.0  \n",
       "3      143.0  0.566320  0.551887  0.378794  0.430254  0.001794      207.0  \n",
       "4      151.0  0.353257  0.378838  0.369870  0.428792  0.001651      215.0  \n",
       "\n",
       "[5 rows x 24 columns]"
      ]
     },
     "execution_count": 7,
     "metadata": {},
     "output_type": "execute_result"
    }
   ],
   "source": [
    "hyp_dfs['bfpopx'].head()"
   ]
  },
  {
   "cell_type": "code",
   "execution_count": 8,
   "metadata": {
    "collapsed": false
   },
   "outputs": [],
   "source": [
    "def get_hmean_row(row):\n",
    "    try:\n",
    "        return sp.stats.hmean(row)\n",
    "    except ValueError as e:\n",
    "        return np.nan   \n",
    "\n",
    "def get_hmean(param):\n",
    "    d = {}\n",
    "    for pheno in hyp_dfs: #for use with ngamma_dfs\n",
    "    #for pheno in param_dfs:\n",
    "        df = hyp_dfs[pheno]\n",
    "        g = pd.DataFrame(df[[col for col in df.columns if param in col]])\n",
    "        #m = g.apply(get_hmean_row, axis=1)\n",
    "        m = g.apply(np.mean, axis=1)\n",
    "        g['%s_hmean' % param] = m\n",
    "        d[pheno] = g\n",
    "    return d\n",
    "\n",
    "ngamma_dfs = get_hmean('gamma')"
   ]
  },
  {
   "cell_type": "code",
   "execution_count": 18,
   "metadata": {
    "collapsed": true
   },
   "outputs": [],
   "source": [
    "pheno = 'rspopx'"
   ]
  },
  {
   "cell_type": "code",
   "execution_count": 17,
   "metadata": {
    "collapsed": false
   },
   "outputs": [
    {
     "data": {
      "text/html": [
       "<div>\n",
       "<table border=\"1\" class=\"dataframe\">\n",
       "  <thead>\n",
       "    <tr style=\"text-align: right;\">\n",
       "      <th></th>\n",
       "      <th>rho_1</th>\n",
       "      <th>rho_2</th>\n",
       "      <th>rho_3</th>\n",
       "      <th>rho_4</th>\n",
       "      <th>rho_hmean</th>\n",
       "    </tr>\n",
       "  </thead>\n",
       "  <tbody>\n",
       "    <tr>\n",
       "      <th>0</th>\n",
       "      <td>0.495398</td>\n",
       "      <td>0.916803</td>\n",
       "      <td>0.916803</td>\n",
       "      <td>0.431246</td>\n",
       "      <td>0.690063</td>\n",
       "    </tr>\n",
       "    <tr>\n",
       "      <th>1</th>\n",
       "      <td>0.950799</td>\n",
       "      <td>0.838154</td>\n",
       "      <td>0.838154</td>\n",
       "      <td>0.210276</td>\n",
       "      <td>0.709346</td>\n",
       "    </tr>\n",
       "    <tr>\n",
       "      <th>2</th>\n",
       "      <td>0.740808</td>\n",
       "      <td>0.658635</td>\n",
       "      <td>0.658635</td>\n",
       "      <td>0.315019</td>\n",
       "      <td>0.593274</td>\n",
       "    </tr>\n",
       "    <tr>\n",
       "      <th>3</th>\n",
       "      <td>0.356586</td>\n",
       "      <td>0.569538</td>\n",
       "      <td>0.569538</td>\n",
       "      <td>0.343518</td>\n",
       "      <td>0.459795</td>\n",
       "    </tr>\n",
       "    <tr>\n",
       "      <th>4</th>\n",
       "      <td>0.008016</td>\n",
       "      <td>0.262542</td>\n",
       "      <td>0.262542</td>\n",
       "      <td>0.645753</td>\n",
       "      <td>0.294713</td>\n",
       "    </tr>\n",
       "  </tbody>\n",
       "</table>\n",
       "</div>"
      ],
      "text/plain": [
       "      rho_1     rho_2     rho_3     rho_4  rho_hmean\n",
       "0  0.495398  0.916803  0.916803  0.431246   0.690063\n",
       "1  0.950799  0.838154  0.838154  0.210276   0.709346\n",
       "2  0.740808  0.658635  0.658635  0.315019   0.593274\n",
       "3  0.356586  0.569538  0.569538  0.343518   0.459795\n",
       "4  0.008016  0.262542  0.262542  0.645753   0.294713"
      ]
     },
     "execution_count": 17,
     "metadata": {},
     "output_type": "execute_result"
    }
   ],
   "source": [
    "rho_dfs = get_hmean('rho') \n",
    "rho_dfs['rspopx'].head()"
   ]
  },
  {
   "cell_type": "code",
   "execution_count": 19,
   "metadata": {
    "collapsed": false
   },
   "outputs": [
    {
     "data": {
      "text/html": [
       "<div>\n",
       "<table border=\"1\" class=\"dataframe\">\n",
       "  <thead>\n",
       "    <tr style=\"text-align: right;\">\n",
       "      <th></th>\n",
       "      <th>pge_1</th>\n",
       "      <th>pge_2</th>\n",
       "      <th>pge_3</th>\n",
       "      <th>pge_4</th>\n",
       "      <th>pge_hmean</th>\n",
       "    </tr>\n",
       "  </thead>\n",
       "  <tbody>\n",
       "    <tr>\n",
       "      <th>0</th>\n",
       "      <td>0.479972</td>\n",
       "      <td>0.934036</td>\n",
       "      <td>0.934036</td>\n",
       "      <td>0.520338</td>\n",
       "      <td>0.717095</td>\n",
       "    </tr>\n",
       "    <tr>\n",
       "      <th>1</th>\n",
       "      <td>0.953320</td>\n",
       "      <td>0.816456</td>\n",
       "      <td>0.816456</td>\n",
       "      <td>0.264439</td>\n",
       "      <td>0.712668</td>\n",
       "    </tr>\n",
       "    <tr>\n",
       "      <th>2</th>\n",
       "      <td>0.774475</td>\n",
       "      <td>0.677189</td>\n",
       "      <td>0.677189</td>\n",
       "      <td>0.307974</td>\n",
       "      <td>0.609207</td>\n",
       "    </tr>\n",
       "    <tr>\n",
       "      <th>3</th>\n",
       "      <td>0.370574</td>\n",
       "      <td>0.526767</td>\n",
       "      <td>0.526767</td>\n",
       "      <td>0.225275</td>\n",
       "      <td>0.412346</td>\n",
       "    </tr>\n",
       "    <tr>\n",
       "      <th>4</th>\n",
       "      <td>0.007988</td>\n",
       "      <td>0.223424</td>\n",
       "      <td>0.223424</td>\n",
       "      <td>0.602190</td>\n",
       "      <td>0.264256</td>\n",
       "    </tr>\n",
       "  </tbody>\n",
       "</table>\n",
       "</div>"
      ],
      "text/plain": [
       "      pge_1     pge_2     pge_3     pge_4  pge_hmean\n",
       "0  0.479972  0.934036  0.934036  0.520338   0.717095\n",
       "1  0.953320  0.816456  0.816456  0.264439   0.712668\n",
       "2  0.774475  0.677189  0.677189  0.307974   0.609207\n",
       "3  0.370574  0.526767  0.526767  0.225275   0.412346\n",
       "4  0.007988  0.223424  0.223424  0.602190   0.264256"
      ]
     },
     "execution_count": 19,
     "metadata": {},
     "output_type": "execute_result"
    }
   ],
   "source": [
    "pge_dfs = get_hmean('pge')\n",
    "pge_dfs[pheno].head()"
   ]
  },
  {
   "cell_type": "code",
   "execution_count": 20,
   "metadata": {
    "collapsed": false
   },
   "outputs": [
    {
     "data": {
      "text/html": [
       "<div>\n",
       "<table border=\"1\" class=\"dataframe\">\n",
       "  <thead>\n",
       "    <tr style=\"text-align: right;\">\n",
       "      <th></th>\n",
       "      <th>pve_1</th>\n",
       "      <th>pve_2</th>\n",
       "      <th>pve_3</th>\n",
       "      <th>pve_4</th>\n",
       "      <th>pve_hmean</th>\n",
       "    </tr>\n",
       "  </thead>\n",
       "  <tbody>\n",
       "    <tr>\n",
       "      <th>0</th>\n",
       "      <td>0.390095</td>\n",
       "      <td>0.427651</td>\n",
       "      <td>0.427651</td>\n",
       "      <td>0.380257</td>\n",
       "      <td>0.406414</td>\n",
       "    </tr>\n",
       "    <tr>\n",
       "      <th>1</th>\n",
       "      <td>0.356403</td>\n",
       "      <td>0.416884</td>\n",
       "      <td>0.416884</td>\n",
       "      <td>0.248368</td>\n",
       "      <td>0.359635</td>\n",
       "    </tr>\n",
       "    <tr>\n",
       "      <th>2</th>\n",
       "      <td>0.322908</td>\n",
       "      <td>0.350035</td>\n",
       "      <td>0.350035</td>\n",
       "      <td>0.245457</td>\n",
       "      <td>0.317109</td>\n",
       "    </tr>\n",
       "    <tr>\n",
       "      <th>3</th>\n",
       "      <td>0.206704</td>\n",
       "      <td>0.353308</td>\n",
       "      <td>0.353308</td>\n",
       "      <td>0.431532</td>\n",
       "      <td>0.336213</td>\n",
       "    </tr>\n",
       "    <tr>\n",
       "      <th>4</th>\n",
       "      <td>0.365853</td>\n",
       "      <td>0.139653</td>\n",
       "      <td>0.139653</td>\n",
       "      <td>0.473148</td>\n",
       "      <td>0.279577</td>\n",
       "    </tr>\n",
       "  </tbody>\n",
       "</table>\n",
       "</div>"
      ],
      "text/plain": [
       "      pve_1     pve_2     pve_3     pve_4  pve_hmean\n",
       "0  0.390095  0.427651  0.427651  0.380257   0.406414\n",
       "1  0.356403  0.416884  0.416884  0.248368   0.359635\n",
       "2  0.322908  0.350035  0.350035  0.245457   0.317109\n",
       "3  0.206704  0.353308  0.353308  0.431532   0.336213\n",
       "4  0.365853  0.139653  0.139653  0.473148   0.279577"
      ]
     },
     "execution_count": 20,
     "metadata": {},
     "output_type": "execute_result"
    }
   ],
   "source": [
    "pve_dfs = get_hmean('pve')\n",
    "pve_dfs['rspopx'].head()"
   ]
  },
  {
   "cell_type": "code",
   "execution_count": 10,
   "metadata": {
    "collapsed": false
   },
   "outputs": [
    {
     "data": {
      "text/html": [
       "<div>\n",
       "<table border=\"1\" class=\"dataframe\">\n",
       "  <thead>\n",
       "    <tr style=\"text-align: right;\">\n",
       "      <th></th>\n",
       "      <th>n_gamma_1</th>\n",
       "      <th>n_gamma_2</th>\n",
       "      <th>n_gamma_3</th>\n",
       "      <th>n_gamma_4</th>\n",
       "      <th>gamma_hmean</th>\n",
       "    </tr>\n",
       "  </thead>\n",
       "  <tbody>\n",
       "    <tr>\n",
       "      <th>0</th>\n",
       "      <td>156.0</td>\n",
       "      <td>163.0</td>\n",
       "      <td>163.0</td>\n",
       "      <td>164.0</td>\n",
       "      <td>161.50</td>\n",
       "    </tr>\n",
       "    <tr>\n",
       "      <th>1</th>\n",
       "      <td>171.0</td>\n",
       "      <td>146.0</td>\n",
       "      <td>146.0</td>\n",
       "      <td>150.0</td>\n",
       "      <td>153.25</td>\n",
       "    </tr>\n",
       "    <tr>\n",
       "      <th>2</th>\n",
       "      <td>181.0</td>\n",
       "      <td>151.0</td>\n",
       "      <td>151.0</td>\n",
       "      <td>149.0</td>\n",
       "      <td>158.00</td>\n",
       "    </tr>\n",
       "    <tr>\n",
       "      <th>3</th>\n",
       "      <td>190.0</td>\n",
       "      <td>168.0</td>\n",
       "      <td>168.0</td>\n",
       "      <td>140.0</td>\n",
       "      <td>166.50</td>\n",
       "    </tr>\n",
       "    <tr>\n",
       "      <th>4</th>\n",
       "      <td>210.0</td>\n",
       "      <td>171.0</td>\n",
       "      <td>171.0</td>\n",
       "      <td>137.0</td>\n",
       "      <td>172.25</td>\n",
       "    </tr>\n",
       "  </tbody>\n",
       "</table>\n",
       "</div>"
      ],
      "text/plain": [
       "   n_gamma_1  n_gamma_2  n_gamma_3  n_gamma_4  gamma_hmean\n",
       "0      156.0      163.0      163.0      164.0       161.50\n",
       "1      171.0      146.0      146.0      150.0       153.25\n",
       "2      181.0      151.0      151.0      149.0       158.00\n",
       "3      190.0      168.0      168.0      140.0       166.50\n",
       "4      210.0      171.0      171.0      137.0       172.25"
      ]
     },
     "execution_count": 10,
     "metadata": {},
     "output_type": "execute_result"
    }
   ],
   "source": [
    "ngamma_dfs['rspopx'].head()"
   ]
  },
  {
   "cell_type": "code",
   "execution_count": 47,
   "metadata": {
    "collapsed": false
   },
   "outputs": [
    {
     "name": "stdout",
     "output_type": "stream",
     "text": [
      "bfpopx 192.142415\n",
      "c13popx 190.29327\n",
      "htpopx 191.79638\n",
      "n15popx 193.68265\n",
      "rspopx 194.051105\n"
     ]
    }
   ],
   "source": [
    "for pheno in sorted(ngamma_dfs):\n",
    "    print pheno, np.mean(ngamma_dfs[pheno]['gamma_hmean'])"
   ]
  },
  {
   "cell_type": "code",
   "execution_count": 21,
   "metadata": {
    "collapsed": false
   },
   "outputs": [],
   "source": [
    "import seaborn as sns"
   ]
  },
  {
   "cell_type": "code",
   "execution_count": 12,
   "metadata": {
    "collapsed": false
   },
   "outputs": [
    {
     "data": {
      "text/plain": [
       "'0.7.0'"
      ]
     },
     "execution_count": 12,
     "metadata": {},
     "output_type": "execute_result"
    }
   ],
   "source": [
    "sns.__version__"
   ]
  },
  {
   "cell_type": "code",
   "execution_count": 11,
   "metadata": {
    "collapsed": false
   },
   "outputs": [],
   "source": [
    "phenos = sorted(['n15popx', 'c13popx', 'htpopx', 'bfpopx', 'rspopx'])"
   ]
  },
  {
   "cell_type": "code",
   "execution_count": 14,
   "metadata": {
    "collapsed": false
   },
   "outputs": [
    {
     "data": {
      "text/plain": [
       "['bfpopx', 'c13popx', 'htpopx', 'n15popx', 'rspopx']"
      ]
     },
     "execution_count": 14,
     "metadata": {},
     "output_type": "execute_result"
    }
   ],
   "source": [
    "phenos"
   ]
  },
  {
   "cell_type": "code",
   "execution_count": 22,
   "metadata": {
    "collapsed": false
   },
   "outputs": [
    {
     "data": {
      "text/html": [
       "<div>\n",
       "<table border=\"1\" class=\"dataframe\">\n",
       "  <thead>\n",
       "    <tr style=\"text-align: right;\">\n",
       "      <th></th>\n",
       "      <th>alpha_hmean</th>\n",
       "      <th>beta_hmean</th>\n",
       "      <th>gamma_hmean</th>\n",
       "      <th>total_effect</th>\n",
       "      <th>model_averaged</th>\n",
       "    </tr>\n",
       "    <tr>\n",
       "      <th>rs</th>\n",
       "      <th></th>\n",
       "      <th></th>\n",
       "      <th></th>\n",
       "      <th></th>\n",
       "      <th></th>\n",
       "    </tr>\n",
       "  </thead>\n",
       "  <tbody>\n",
       "    <tr>\n",
       "      <th>NODE_1000013_length_91_cov_1.802198_37</th>\n",
       "      <td>0.000089</td>\n",
       "      <td>0.033259</td>\n",
       "      <td>0.001765</td>\n",
       "      <td>0.033348</td>\n",
       "      <td>0.000148</td>\n",
       "    </tr>\n",
       "    <tr>\n",
       "      <th>NODE_1000031_length_98_cov_2.000000_30</th>\n",
       "      <td>0.000024</td>\n",
       "      <td>0.011842</td>\n",
       "      <td>0.001620</td>\n",
       "      <td>0.011866</td>\n",
       "      <td>0.000043</td>\n",
       "    </tr>\n",
       "    <tr>\n",
       "      <th>NODE_1000037_length_93_cov_2.043011_33</th>\n",
       "      <td>0.000016</td>\n",
       "      <td>0.004484</td>\n",
       "      <td>0.001635</td>\n",
       "      <td>0.004500</td>\n",
       "      <td>0.000023</td>\n",
       "    </tr>\n",
       "    <tr>\n",
       "      <th>NODE_1000042_length_93_cov_1.118280_100</th>\n",
       "      <td>0.000009</td>\n",
       "      <td>0.001231</td>\n",
       "      <td>0.001680</td>\n",
       "      <td>0.001240</td>\n",
       "      <td>0.000011</td>\n",
       "    </tr>\n",
       "    <tr>\n",
       "      <th>NODE_1000053_length_94_cov_1.744681_25</th>\n",
       "      <td>0.000008</td>\n",
       "      <td>0.001378</td>\n",
       "      <td>0.001835</td>\n",
       "      <td>0.001386</td>\n",
       "      <td>0.000010</td>\n",
       "    </tr>\n",
       "  </tbody>\n",
       "</table>\n",
       "</div>"
      ],
      "text/plain": [
       "                                         alpha_hmean  beta_hmean  gamma_hmean  \\\n",
       "rs                                                                              \n",
       "NODE_1000013_length_91_cov_1.802198_37      0.000089    0.033259     0.001765   \n",
       "NODE_1000031_length_98_cov_2.000000_30      0.000024    0.011842     0.001620   \n",
       "NODE_1000037_length_93_cov_2.043011_33      0.000016    0.004484     0.001635   \n",
       "NODE_1000042_length_93_cov_1.118280_100     0.000009    0.001231     0.001680   \n",
       "NODE_1000053_length_94_cov_1.744681_25      0.000008    0.001378     0.001835   \n",
       "\n",
       "                                         total_effect  model_averaged  \n",
       "rs                                                                     \n",
       "NODE_1000013_length_91_cov_1.802198_37       0.033348        0.000148  \n",
       "NODE_1000031_length_98_cov_2.000000_30       0.011866        0.000043  \n",
       "NODE_1000037_length_93_cov_2.043011_33       0.004500        0.000023  \n",
       "NODE_1000042_length_93_cov_1.118280_100      0.001240        0.000011  \n",
       "NODE_1000053_length_94_cov_1.744681_25       0.001386        0.000010  "
      ]
     },
     "execution_count": 22,
     "metadata": {},
     "output_type": "execute_result"
    }
   ],
   "source": [
    "combined_dfs={}\n",
    "for pheno in phenos:\n",
    "    filE = '/home/lindb/wbp/gemma/infiles/bslmm/output/%s_combined_df.txt' % pheno\n",
    "    combined_dfs[pheno] = pd.read_csv(filE,header=0,index_col=0,sep='\\t')\n",
    "combined_dfs[pheno].head()"
   ]
  },
  {
   "cell_type": "code",
   "execution_count": 51,
   "metadata": {
    "collapsed": false
   },
   "outputs": [
    {
     "data": {
      "text/html": [
       "<div>\n",
       "<table border=\"1\" class=\"dataframe\">\n",
       "  <thead>\n",
       "    <tr style=\"text-align: right;\">\n",
       "      <th></th>\n",
       "      <th>n_gamma_1</th>\n",
       "      <th>n_gamma_2</th>\n",
       "      <th>n_gamma_3</th>\n",
       "      <th>n_gamma_4</th>\n",
       "      <th>gamma_hmean</th>\n",
       "    </tr>\n",
       "  </thead>\n",
       "  <tbody>\n",
       "    <tr>\n",
       "      <th>0</th>\n",
       "      <td>220.0</td>\n",
       "      <td>158.0</td>\n",
       "      <td>117.0</td>\n",
       "      <td>158.0</td>\n",
       "      <td>163.25</td>\n",
       "    </tr>\n",
       "    <tr>\n",
       "      <th>1</th>\n",
       "      <td>229.0</td>\n",
       "      <td>176.0</td>\n",
       "      <td>103.0</td>\n",
       "      <td>176.0</td>\n",
       "      <td>171.00</td>\n",
       "    </tr>\n",
       "    <tr>\n",
       "      <th>2</th>\n",
       "      <td>202.0</td>\n",
       "      <td>185.0</td>\n",
       "      <td>110.0</td>\n",
       "      <td>185.0</td>\n",
       "      <td>170.50</td>\n",
       "    </tr>\n",
       "    <tr>\n",
       "      <th>3</th>\n",
       "      <td>195.0</td>\n",
       "      <td>207.0</td>\n",
       "      <td>143.0</td>\n",
       "      <td>207.0</td>\n",
       "      <td>188.00</td>\n",
       "    </tr>\n",
       "    <tr>\n",
       "      <th>4</th>\n",
       "      <td>184.0</td>\n",
       "      <td>215.0</td>\n",
       "      <td>151.0</td>\n",
       "      <td>215.0</td>\n",
       "      <td>191.25</td>\n",
       "    </tr>\n",
       "  </tbody>\n",
       "</table>\n",
       "</div>"
      ],
      "text/plain": [
       "   n_gamma_1  n_gamma_2  n_gamma_3  n_gamma_4  gamma_hmean\n",
       "0      220.0      158.0      117.0      158.0       163.25\n",
       "1      229.0      176.0      103.0      176.0       171.00\n",
       "2      202.0      185.0      110.0      185.0       170.50\n",
       "3      195.0      207.0      143.0      207.0       188.00\n",
       "4      184.0      215.0      151.0      215.0       191.25"
      ]
     },
     "execution_count": 51,
     "metadata": {},
     "output_type": "execute_result"
    }
   ],
   "source": [
    "ngamma_dfs['bfpopx'].head()"
   ]
  },
  {
   "cell_type": "code",
   "execution_count": 33,
   "metadata": {
    "collapsed": false
   },
   "outputs": [
    {
     "data": {
      "image/png": "[encoded data removed]",
      "text/plain": [
       "<matplotlib.figure.Figure at 0x2b0edb317790>"
      ]
     },
     "metadata": {},
     "output_type": "display_data"
    }
   ],
   "source": [
    "sns.set_style(\"white\")\n",
    "f, axes = plt.subplots(nrows=5, ncols=4, sharex=True)\n",
    "f.set_size_inches(10, 10)\n",
    "color=\"skyblue\"\n",
    "titlesize=24\n",
    "labelsize=18\n",
    "linewidth=1\n",
    "sns.violinplot(x=\"alpha_hmean\", data=pd.DataFrame(combined_dfs[\"bfpopx\"]['alpha_hmean']), orient=\"v\", ax=axes[0,0], color=color, linewidth=linewidth)\n",
    "sns.violinplot(x=\"beta_hmean\", data=pd.DataFrame(combined_dfs[\"bfpopx\"]['beta_hmean']), orient=\"v\", ax=axes[0,1], color=color, linewidth=linewidth)\n",
    "sns.violinplot(x=\"gamma_hmean\", data=pd.DataFrame(combined_dfs[\"bfpopx\"]['gamma_hmean']), orient=\"v\", ax=axes[0,2], color=color, linewidth=linewidth)\n",
    "sns.violinplot(x=\"model_averaged\", data=pd.DataFrame(combined_dfs[\"bfpopx\"]['model_averaged']), orient=\"v\", ax=axes[0,3], color=color, linewidth=linewidth)\n",
    "\n",
    "sns.violinplot(x=\"alpha_hmean\", data=pd.DataFrame(combined_dfs[\"c13popx\"]['alpha_hmean']), orient=\"v\", ax=axes[1,0], color=color, linewidth=linewidth)\n",
    "sns.violinplot(x=\"beta_hmean\", data=pd.DataFrame(combined_dfs[\"c13popx\"]['beta_hmean']), orient=\"v\", ax=axes[1,1], color=color, linewidth=linewidth)\n",
    "sns.violinplot(x=\"gamma_hmean\", data=pd.DataFrame(combined_dfs[\"c13popx\"]['gamma_hmean']), orient=\"v\", ax=axes[1,2], color=color, linewidth=linewidth)\n",
    "sns.violinplot(x=\"model_averaged\", data=pd.DataFrame(combined_dfs[\"c13popx\"]['model_averaged']), orient=\"v\", ax=axes[1,3], color=color, linewidth=linewidth)\n",
    "\n",
    "sns.violinplot(x=\"alpha_hmean\", data=pd.DataFrame(combined_dfs[\"htpopx\"]['alpha_hmean']), orient=\"v\", ax=axes[2,0], color=color, linewidth=linewidth)\n",
    "sns.violinplot(x=\"beta_hmean\", data=pd.DataFrame(combined_dfs[\"htpopx\"]['beta_hmean']), orient=\"v\", ax=axes[2,1], color=color, linewidth=linewidth)\n",
    "sns.violinplot(x=\"gamma_hmean\", data=pd.DataFrame(combined_dfs[\"htpopx\"]['gamma_hmean']), orient=\"v\", ax=axes[2,2], color=color, linewidth=linewidth)\n",
    "sns.violinplot(x=\"model_averaged\", data=pd.DataFrame(combined_dfs[\"htpopx\"]['model_averaged']), orient=\"v\", ax=axes[2,3], color=color, linewidth=linewidth)\n",
    "\n",
    "sns.violinplot(x=\"alpha_hmean\", data=pd.DataFrame(combined_dfs[\"n15popx\"]['alpha_hmean']), orient=\"v\", ax=axes[3,0], color=color, linewidth=linewidth)\n",
    "sns.violinplot(x=\"beta_hmean\", data=pd.DataFrame(combined_dfs[\"n15popx\"]['beta_hmean']), orient=\"v\", ax=axes[3,1], color=color, linewidth=linewidth)\n",
    "sns.violinplot(x=\"gamma_hmean\", data=pd.DataFrame(combined_dfs[\"n15popx\"]['gamma_hmean']), orient=\"v\", ax=axes[3,2], color=color, linewidth=linewidth)\n",
    "sns.violinplot(x=\"model_averaged\", data=pd.DataFrame(combined_dfs[\"n15popx\"]['model_averaged']), orient=\"v\", ax=axes[3,3], color=color, linewidth=linewidth)\n",
    "\n",
    "sns.violinplot(x=\"alpha_hmean\", data=pd.DataFrame(combined_dfs[\"rspopx\"]['alpha_hmean']), orient=\"v\", ax=axes[4,0], color=color, linewidth=linewidth)\n",
    "sns.violinplot(x=\"beta_hmean\", data=pd.DataFrame(combined_dfs[\"rspopx\"]['beta_hmean']), orient=\"v\", ax=axes[4,1], color=color, linewidth=linewidth)\n",
    "sns.violinplot(x=\"gamma_hmean\", data=pd.DataFrame(combined_dfs[\"rspopx\"]['gamma_hmean']), orient=\"v\", ax=axes[4,2], color=color, linewidth=linewidth)\n",
    "sns.violinplot(x=\"model_averaged\", data=pd.DataFrame(combined_dfs[\"rspopx\"]['model_averaged']), orient=\"v\", ax=axes[4,3], color=color, linewidth=linewidth)\n",
    "\n",
    "axes[0,0].set_title(r\"$\\alpha$\", fontsize=titlesize)\n",
    "axes[0,1].set_title(r\"$\\beta$\", fontsize=titlesize)\n",
    "axes[0,2].set_title(r\"$\\gamma$\", fontsize=titlesize)\n",
    "axes[0,3].set_title(r\"$\\hat{b}$\", fontsize=titlesize)\n",
    "\n",
    "\n",
    "axes[0,0].set_ylabel(\"bfpopx\", fontsize=labelsize)\n",
    "axes[0,1].set_ylabel(\"\")\n",
    "axes[0,2].set_ylabel(\"\")\n",
    "axes[0,3].set_ylabel(\"\")\n",
    "\n",
    "\n",
    "axes[1,0].set_ylabel(\"c13popx\", fontsize=labelsize)\n",
    "axes[1,1].set_ylabel(\"\")\n",
    "axes[1,2].set_ylabel(\"\")\n",
    "axes[1,3].set_ylabel(\"\")\n",
    "\n",
    "\n",
    "axes[2,0].set_ylabel(\"htpopx\", fontsize=labelsize)\n",
    "axes[2,1].set_ylabel(\"\")\n",
    "axes[2,2].set_ylabel(\"\")\n",
    "axes[2,3].set_ylabel(\"\")\n",
    "\n",
    "\n",
    "axes[3,0].set_ylabel(\"n15popx\", fontsize=labelsize)\n",
    "axes[3,1].set_ylabel(\"\")\n",
    "axes[3,2].set_ylabel(\"\")\n",
    "axes[3,3].set_ylabel(\"\")\n",
    "\n",
    "\n",
    "axes[4,0].set_ylabel(\"rspopx\", fontsize=labelsize)\n",
    "axes[4,1].set_ylabel(\"\")\n",
    "axes[4,2].set_ylabel(\"\")\n",
    "axes[4,3].set_ylabel(\"\")\n",
    "\n",
    "\n",
    "\n",
    "plt.tight_layout(pad=0.4, w_pad=0.5, h_pad=1.0)\n",
    "#plt.tight_layout()\n",
    "plt.savefig(\"/home/lindb/wbp/figures/gemma_violinplot_abgbnsnps.pdf\")\n",
    "plt.show()"
   ]
  },
  {
   "cell_type": "code",
   "execution_count": 19,
   "metadata": {
    "collapsed": false
   },
   "outputs": [
    {
     "data": {
      "text/plain": [
       "'0.7.0'"
      ]
     },
     "execution_count": 19,
     "metadata": {},
     "output_type": "execute_result"
    }
   ],
   "source": [
    "sns.__version__"
   ]
  },
  {
   "cell_type": "code",
   "execution_count": 72,
   "metadata": {
    "collapsed": false
   },
   "outputs": [
    {
     "data": {
      "text/html": [
       "<div>\n",
       "<table border=\"1\" class=\"dataframe\">\n",
       "  <thead>\n",
       "    <tr style=\"text-align: right;\">\n",
       "      <th></th>\n",
       "      <th>n_gamma_1</th>\n",
       "      <th>n_gamma_2</th>\n",
       "      <th>n_gamma_3</th>\n",
       "      <th>n_gamma_4</th>\n",
       "      <th>gamma_hmean</th>\n",
       "    </tr>\n",
       "  </thead>\n",
       "  <tbody>\n",
       "    <tr>\n",
       "      <th>0</th>\n",
       "      <td>156.0</td>\n",
       "      <td>163.0</td>\n",
       "      <td>163.0</td>\n",
       "      <td>164.0</td>\n",
       "      <td>161.50</td>\n",
       "    </tr>\n",
       "    <tr>\n",
       "      <th>1</th>\n",
       "      <td>171.0</td>\n",
       "      <td>146.0</td>\n",
       "      <td>146.0</td>\n",
       "      <td>150.0</td>\n",
       "      <td>153.25</td>\n",
       "    </tr>\n",
       "    <tr>\n",
       "      <th>2</th>\n",
       "      <td>181.0</td>\n",
       "      <td>151.0</td>\n",
       "      <td>151.0</td>\n",
       "      <td>149.0</td>\n",
       "      <td>158.00</td>\n",
       "    </tr>\n",
       "    <tr>\n",
       "      <th>3</th>\n",
       "      <td>190.0</td>\n",
       "      <td>168.0</td>\n",
       "      <td>168.0</td>\n",
       "      <td>140.0</td>\n",
       "      <td>166.50</td>\n",
       "    </tr>\n",
       "    <tr>\n",
       "      <th>4</th>\n",
       "      <td>210.0</td>\n",
       "      <td>171.0</td>\n",
       "      <td>171.0</td>\n",
       "      <td>137.0</td>\n",
       "      <td>172.25</td>\n",
       "    </tr>\n",
       "  </tbody>\n",
       "</table>\n",
       "</div>"
      ],
      "text/plain": [
       "   n_gamma_1  n_gamma_2  n_gamma_3  n_gamma_4  gamma_hmean\n",
       "0      156.0      163.0      163.0      164.0       161.50\n",
       "1      171.0      146.0      146.0      150.0       153.25\n",
       "2      181.0      151.0      151.0      149.0       158.00\n",
       "3      190.0      168.0      168.0      140.0       166.50\n",
       "4      210.0      171.0      171.0      137.0       172.25"
      ]
     },
     "execution_count": 72,
     "metadata": {},
     "output_type": "execute_result"
    }
   ],
   "source": [
    "ngamma_dfs[pheno].head()"
   ]
  },
  {
   "cell_type": "code",
   "execution_count": 80,
   "metadata": {
    "collapsed": false
   },
   "outputs": [
    {
     "data": {
      "text/html": [
       "<div>\n",
       "<table border=\"1\" class=\"dataframe\">\n",
       "  <thead>\n",
       "    <tr style=\"text-align: right;\">\n",
       "      <th></th>\n",
       "      <th>pve_1</th>\n",
       "      <th>pve_2</th>\n",
       "      <th>pve_3</th>\n",
       "      <th>pve_4</th>\n",
       "      <th>pve_hmean</th>\n",
       "    </tr>\n",
       "  </thead>\n",
       "  <tbody>\n",
       "    <tr>\n",
       "      <th>0</th>\n",
       "      <td>0.390095</td>\n",
       "      <td>0.427651</td>\n",
       "      <td>0.427651</td>\n",
       "      <td>0.380257</td>\n",
       "      <td>0.406414</td>\n",
       "    </tr>\n",
       "    <tr>\n",
       "      <th>1</th>\n",
       "      <td>0.356403</td>\n",
       "      <td>0.416884</td>\n",
       "      <td>0.416884</td>\n",
       "      <td>0.248368</td>\n",
       "      <td>0.359635</td>\n",
       "    </tr>\n",
       "    <tr>\n",
       "      <th>2</th>\n",
       "      <td>0.322908</td>\n",
       "      <td>0.350035</td>\n",
       "      <td>0.350035</td>\n",
       "      <td>0.245457</td>\n",
       "      <td>0.317109</td>\n",
       "    </tr>\n",
       "    <tr>\n",
       "      <th>3</th>\n",
       "      <td>0.206704</td>\n",
       "      <td>0.353308</td>\n",
       "      <td>0.353308</td>\n",
       "      <td>0.431532</td>\n",
       "      <td>0.336213</td>\n",
       "    </tr>\n",
       "    <tr>\n",
       "      <th>4</th>\n",
       "      <td>0.365853</td>\n",
       "      <td>0.139653</td>\n",
       "      <td>0.139653</td>\n",
       "      <td>0.473148</td>\n",
       "      <td>0.279577</td>\n",
       "    </tr>\n",
       "  </tbody>\n",
       "</table>\n",
       "</div>"
      ],
      "text/plain": [
       "      pve_1     pve_2     pve_3     pve_4  pve_hmean\n",
       "0  0.390095  0.427651  0.427651  0.380257   0.406414\n",
       "1  0.356403  0.416884  0.416884  0.248368   0.359635\n",
       "2  0.322908  0.350035  0.350035  0.245457   0.317109\n",
       "3  0.206704  0.353308  0.353308  0.431532   0.336213\n",
       "4  0.365853  0.139653  0.139653  0.473148   0.279577"
      ]
     },
     "execution_count": 80,
     "metadata": {},
     "output_type": "execute_result"
    }
   ],
   "source": [
    "pve_dfs[pheno].head()"
   ]
  },
  {
   "cell_type": "code",
   "execution_count": 81,
   "metadata": {
    "collapsed": false
   },
   "outputs": [
    {
     "data": {
      "text/html": [
       "<div>\n",
       "<table border=\"1\" class=\"dataframe\">\n",
       "  <thead>\n",
       "    <tr style=\"text-align: right;\">\n",
       "      <th></th>\n",
       "      <th>pge_1</th>\n",
       "      <th>pge_2</th>\n",
       "      <th>pge_3</th>\n",
       "      <th>pge_4</th>\n",
       "      <th>pge_hmean</th>\n",
       "    </tr>\n",
       "  </thead>\n",
       "  <tbody>\n",
       "    <tr>\n",
       "      <th>0</th>\n",
       "      <td>0.479972</td>\n",
       "      <td>0.934036</td>\n",
       "      <td>0.934036</td>\n",
       "      <td>0.520338</td>\n",
       "      <td>0.717095</td>\n",
       "    </tr>\n",
       "    <tr>\n",
       "      <th>1</th>\n",
       "      <td>0.953320</td>\n",
       "      <td>0.816456</td>\n",
       "      <td>0.816456</td>\n",
       "      <td>0.264439</td>\n",
       "      <td>0.712668</td>\n",
       "    </tr>\n",
       "    <tr>\n",
       "      <th>2</th>\n",
       "      <td>0.774475</td>\n",
       "      <td>0.677189</td>\n",
       "      <td>0.677189</td>\n",
       "      <td>0.307974</td>\n",
       "      <td>0.609207</td>\n",
       "    </tr>\n",
       "    <tr>\n",
       "      <th>3</th>\n",
       "      <td>0.370574</td>\n",
       "      <td>0.526767</td>\n",
       "      <td>0.526767</td>\n",
       "      <td>0.225275</td>\n",
       "      <td>0.412346</td>\n",
       "    </tr>\n",
       "    <tr>\n",
       "      <th>4</th>\n",
       "      <td>0.007988</td>\n",
       "      <td>0.223424</td>\n",
       "      <td>0.223424</td>\n",
       "      <td>0.602190</td>\n",
       "      <td>0.264256</td>\n",
       "    </tr>\n",
       "  </tbody>\n",
       "</table>\n",
       "</div>"
      ],
      "text/plain": [
       "      pge_1     pge_2     pge_3     pge_4  pge_hmean\n",
       "0  0.479972  0.934036  0.934036  0.520338   0.717095\n",
       "1  0.953320  0.816456  0.816456  0.264439   0.712668\n",
       "2  0.774475  0.677189  0.677189  0.307974   0.609207\n",
       "3  0.370574  0.526767  0.526767  0.225275   0.412346\n",
       "4  0.007988  0.223424  0.223424  0.602190   0.264256"
      ]
     },
     "execution_count": 81,
     "metadata": {},
     "output_type": "execute_result"
    }
   ],
   "source": [
    "pge_dfs[pheno].head()"
   ]
  },
  {
   "cell_type": "code",
   "execution_count": 82,
   "metadata": {
    "collapsed": false
   },
   "outputs": [
    {
     "data": {
      "text/html": [
       "<div>\n",
       "<table border=\"1\" class=\"dataframe\">\n",
       "  <thead>\n",
       "    <tr style=\"text-align: right;\">\n",
       "      <th></th>\n",
       "      <th>rho_1</th>\n",
       "      <th>rho_2</th>\n",
       "      <th>rho_3</th>\n",
       "      <th>rho_4</th>\n",
       "      <th>rho_hmean</th>\n",
       "    </tr>\n",
       "  </thead>\n",
       "  <tbody>\n",
       "    <tr>\n",
       "      <th>0</th>\n",
       "      <td>0.495398</td>\n",
       "      <td>0.916803</td>\n",
       "      <td>0.916803</td>\n",
       "      <td>0.431246</td>\n",
       "      <td>0.690063</td>\n",
       "    </tr>\n",
       "    <tr>\n",
       "      <th>1</th>\n",
       "      <td>0.950799</td>\n",
       "      <td>0.838154</td>\n",
       "      <td>0.838154</td>\n",
       "      <td>0.210276</td>\n",
       "      <td>0.709346</td>\n",
       "    </tr>\n",
       "    <tr>\n",
       "      <th>2</th>\n",
       "      <td>0.740808</td>\n",
       "      <td>0.658635</td>\n",
       "      <td>0.658635</td>\n",
       "      <td>0.315019</td>\n",
       "      <td>0.593274</td>\n",
       "    </tr>\n",
       "    <tr>\n",
       "      <th>3</th>\n",
       "      <td>0.356586</td>\n",
       "      <td>0.569538</td>\n",
       "      <td>0.569538</td>\n",
       "      <td>0.343518</td>\n",
       "      <td>0.459795</td>\n",
       "    </tr>\n",
       "    <tr>\n",
       "      <th>4</th>\n",
       "      <td>0.008016</td>\n",
       "      <td>0.262542</td>\n",
       "      <td>0.262542</td>\n",
       "      <td>0.645753</td>\n",
       "      <td>0.294713</td>\n",
       "    </tr>\n",
       "  </tbody>\n",
       "</table>\n",
       "</div>"
      ],
      "text/plain": [
       "      rho_1     rho_2     rho_3     rho_4  rho_hmean\n",
       "0  0.495398  0.916803  0.916803  0.431246   0.690063\n",
       "1  0.950799  0.838154  0.838154  0.210276   0.709346\n",
       "2  0.740808  0.658635  0.658635  0.315019   0.593274\n",
       "3  0.356586  0.569538  0.569538  0.343518   0.459795\n",
       "4  0.008016  0.262542  0.262542  0.645753   0.294713"
      ]
     },
     "execution_count": 82,
     "metadata": {},
     "output_type": "execute_result"
    }
   ],
   "source": [
    "rho_dfs[pheno].head()"
   ]
  },
  {
   "cell_type": "code",
   "execution_count": 85,
   "metadata": {
    "collapsed": true
   },
   "outputs": [
    {
     "data": {
      "text/html": [
       "<div>\n",
       "<table border=\"1\" class=\"dataframe\">\n",
       "  <thead>\n",
       "    <tr style=\"text-align: right;\">\n",
       "      <th></th>\n",
       "      <th>total_bill</th>\n",
       "      <th>tip</th>\n",
       "      <th>sex</th>\n",
       "      <th>smoker</th>\n",
       "      <th>day</th>\n",
       "      <th>time</th>\n",
       "      <th>size</th>\n",
       "    </tr>\n",
       "  </thead>\n",
       "  <tbody>\n",
       "    <tr>\n",
       "      <th>0</th>\n",
       "      <td>16.99</td>\n",
       "      <td>1.01</td>\n",
       "      <td>Female</td>\n",
       "      <td>No</td>\n",
       "      <td>Sun</td>\n",
       "      <td>Dinner</td>\n",
       "      <td>2</td>\n",
       "    </tr>\n",
       "    <tr>\n",
       "      <th>1</th>\n",
       "      <td>10.34</td>\n",
       "      <td>1.66</td>\n",
       "      <td>Male</td>\n",
       "      <td>No</td>\n",
       "      <td>Sun</td>\n",
       "      <td>Dinner</td>\n",
       "      <td>3</td>\n",
       "    </tr>\n",
       "    <tr>\n",
       "      <th>2</th>\n",
       "      <td>21.01</td>\n",
       "      <td>3.50</td>\n",
       "      <td>Male</td>\n",
       "      <td>No</td>\n",
       "      <td>Sun</td>\n",
       "      <td>Dinner</td>\n",
       "      <td>3</td>\n",
       "    </tr>\n",
       "    <tr>\n",
       "      <th>3</th>\n",
       "      <td>23.68</td>\n",
       "      <td>3.31</td>\n",
       "      <td>Male</td>\n",
       "      <td>No</td>\n",
       "      <td>Sun</td>\n",
       "      <td>Dinner</td>\n",
       "      <td>2</td>\n",
       "    </tr>\n",
       "    <tr>\n",
       "      <th>4</th>\n",
       "      <td>24.59</td>\n",
       "      <td>3.61</td>\n",
       "      <td>Female</td>\n",
       "      <td>No</td>\n",
       "      <td>Sun</td>\n",
       "      <td>Dinner</td>\n",
       "      <td>4</td>\n",
       "    </tr>\n",
       "    <tr>\n",
       "      <th>5</th>\n",
       "      <td>25.29</td>\n",
       "      <td>4.71</td>\n",
       "      <td>Male</td>\n",
       "      <td>No</td>\n",
       "      <td>Sun</td>\n",
       "      <td>Dinner</td>\n",
       "      <td>4</td>\n",
       "    </tr>\n",
       "    <tr>\n",
       "      <th>6</th>\n",
       "      <td>8.77</td>\n",
       "      <td>2.00</td>\n",
       "      <td>Male</td>\n",
       "      <td>No</td>\n",
       "      <td>Sun</td>\n",
       "      <td>Dinner</td>\n",
       "      <td>2</td>\n",
       "    </tr>\n",
       "    <tr>\n",
       "      <th>7</th>\n",
       "      <td>26.88</td>\n",
       "      <td>3.12</td>\n",
       "      <td>Male</td>\n",
       "      <td>No</td>\n",
       "      <td>Sun</td>\n",
       "      <td>Dinner</td>\n",
       "      <td>4</td>\n",
       "    </tr>\n",
       "    <tr>\n",
       "      <th>8</th>\n",
       "      <td>15.04</td>\n",
       "      <td>1.96</td>\n",
       "      <td>Male</td>\n",
       "      <td>No</td>\n",
       "      <td>Sun</td>\n",
       "      <td>Dinner</td>\n",
       "      <td>2</td>\n",
       "    </tr>\n",
       "    <tr>\n",
       "      <th>9</th>\n",
       "      <td>14.78</td>\n",
       "      <td>3.23</td>\n",
       "      <td>Male</td>\n",
       "      <td>No</td>\n",
       "      <td>Sun</td>\n",
       "      <td>Dinner</td>\n",
       "      <td>2</td>\n",
       "    </tr>\n",
       "    <tr>\n",
       "      <th>10</th>\n",
       "      <td>10.27</td>\n",
       "      <td>1.71</td>\n",
       "      <td>Male</td>\n",
       "      <td>No</td>\n",
       "      <td>Sun</td>\n",
       "      <td>Dinner</td>\n",
       "      <td>2</td>\n",
       "    </tr>\n",
       "    <tr>\n",
       "      <th>11</th>\n",
       "      <td>35.26</td>\n",
       "      <td>5.00</td>\n",
       "      <td>Female</td>\n",
       "      <td>No</td>\n",
       "      <td>Sun</td>\n",
       "      <td>Dinner</td>\n",
       "      <td>4</td>\n",
       "    </tr>\n",
       "    <tr>\n",
       "      <th>12</th>\n",
       "      <td>15.42</td>\n",
       "      <td>1.57</td>\n",
       "      <td>Male</td>\n",
       "      <td>No</td>\n",
       "      <td>Sun</td>\n",
       "      <td>Dinner</td>\n",
       "      <td>2</td>\n",
       "    </tr>\n",
       "    <tr>\n",
       "      <th>13</th>\n",
       "      <td>18.43</td>\n",
       "      <td>3.00</td>\n",
       "      <td>Male</td>\n",
       "      <td>No</td>\n",
       "      <td>Sun</td>\n",
       "      <td>Dinner</td>\n",
       "      <td>4</td>\n",
       "    </tr>\n",
       "    <tr>\n",
       "      <th>14</th>\n",
       "      <td>14.83</td>\n",
       "      <td>3.02</td>\n",
       "      <td>Female</td>\n",
       "      <td>No</td>\n",
       "      <td>Sun</td>\n",
       "      <td>Dinner</td>\n",
       "      <td>2</td>\n",
       "    </tr>\n",
       "    <tr>\n",
       "      <th>15</th>\n",
       "      <td>21.58</td>\n",
       "      <td>3.92</td>\n",
       "      <td>Male</td>\n",
       "      <td>No</td>\n",
       "      <td>Sun</td>\n",
       "      <td>Dinner</td>\n",
       "      <td>2</td>\n",
       "    </tr>\n",
       "    <tr>\n",
       "      <th>16</th>\n",
       "      <td>10.33</td>\n",
       "      <td>1.67</td>\n",
       "      <td>Female</td>\n",
       "      <td>No</td>\n",
       "      <td>Sun</td>\n",
       "      <td>Dinner</td>\n",
       "      <td>3</td>\n",
       "    </tr>\n",
       "    <tr>\n",
       "      <th>17</th>\n",
       "      <td>16.29</td>\n",
       "      <td>3.71</td>\n",
       "      <td>Male</td>\n",
       "      <td>No</td>\n",
       "      <td>Sun</td>\n",
       "      <td>Dinner</td>\n",
       "      <td>3</td>\n",
       "    </tr>\n",
       "    <tr>\n",
       "      <th>18</th>\n",
       "      <td>16.97</td>\n",
       "      <td>3.50</td>\n",
       "      <td>Female</td>\n",
       "      <td>No</td>\n",
       "      <td>Sun</td>\n",
       "      <td>Dinner</td>\n",
       "      <td>3</td>\n",
       "    </tr>\n",
       "    <tr>\n",
       "      <th>19</th>\n",
       "      <td>20.65</td>\n",
       "      <td>3.35</td>\n",
       "      <td>Male</td>\n",
       "      <td>No</td>\n",
       "      <td>Sat</td>\n",
       "      <td>Dinner</td>\n",
       "      <td>3</td>\n",
       "    </tr>\n",
       "    <tr>\n",
       "      <th>20</th>\n",
       "      <td>17.92</td>\n",
       "      <td>4.08</td>\n",
       "      <td>Male</td>\n",
       "      <td>No</td>\n",
       "      <td>Sat</td>\n",
       "      <td>Dinner</td>\n",
       "      <td>2</td>\n",
       "    </tr>\n",
       "    <tr>\n",
       "      <th>21</th>\n",
       "      <td>20.29</td>\n",
       "      <td>2.75</td>\n",
       "      <td>Female</td>\n",
       "      <td>No</td>\n",
       "      <td>Sat</td>\n",
       "      <td>Dinner</td>\n",
       "      <td>2</td>\n",
       "    </tr>\n",
       "    <tr>\n",
       "      <th>22</th>\n",
       "      <td>15.77</td>\n",
       "      <td>2.23</td>\n",
       "      <td>Female</td>\n",
       "      <td>No</td>\n",
       "      <td>Sat</td>\n",
       "      <td>Dinner</td>\n",
       "      <td>2</td>\n",
       "    </tr>\n",
       "    <tr>\n",
       "      <th>23</th>\n",
       "      <td>39.42</td>\n",
       "      <td>7.58</td>\n",
       "      <td>Male</td>\n",
       "      <td>No</td>\n",
       "      <td>Sat</td>\n",
       "      <td>Dinner</td>\n",
       "      <td>4</td>\n",
       "    </tr>\n",
       "    <tr>\n",
       "      <th>24</th>\n",
       "      <td>19.82</td>\n",
       "      <td>3.18</td>\n",
       "      <td>Male</td>\n",
       "      <td>No</td>\n",
       "      <td>Sat</td>\n",
       "      <td>Dinner</td>\n",
       "      <td>2</td>\n",
       "    </tr>\n",
       "    <tr>\n",
       "      <th>25</th>\n",
       "      <td>17.81</td>\n",
       "      <td>2.34</td>\n",
       "      <td>Male</td>\n",
       "      <td>No</td>\n",
       "      <td>Sat</td>\n",
       "      <td>Dinner</td>\n",
       "      <td>4</td>\n",
       "    </tr>\n",
       "    <tr>\n",
       "      <th>26</th>\n",
       "      <td>13.37</td>\n",
       "      <td>2.00</td>\n",
       "      <td>Male</td>\n",
       "      <td>No</td>\n",
       "      <td>Sat</td>\n",
       "      <td>Dinner</td>\n",
       "      <td>2</td>\n",
       "    </tr>\n",
       "    <tr>\n",
       "      <th>27</th>\n",
       "      <td>12.69</td>\n",
       "      <td>2.00</td>\n",
       "      <td>Male</td>\n",
       "      <td>No</td>\n",
       "      <td>Sat</td>\n",
       "      <td>Dinner</td>\n",
       "      <td>2</td>\n",
       "    </tr>\n",
       "    <tr>\n",
       "      <th>28</th>\n",
       "      <td>21.70</td>\n",
       "      <td>4.30</td>\n",
       "      <td>Male</td>\n",
       "      <td>No</td>\n",
       "      <td>Sat</td>\n",
       "      <td>Dinner</td>\n",
       "      <td>2</td>\n",
       "    </tr>\n",
       "    <tr>\n",
       "      <th>29</th>\n",
       "      <td>19.65</td>\n",
       "      <td>3.00</td>\n",
       "      <td>Female</td>\n",
       "      <td>No</td>\n",
       "      <td>Sat</td>\n",
       "      <td>Dinner</td>\n",
       "      <td>2</td>\n",
       "    </tr>\n",
       "    <tr>\n",
       "      <th>...</th>\n",
       "      <td>...</td>\n",
       "      <td>...</td>\n",
       "      <td>...</td>\n",
       "      <td>...</td>\n",
       "      <td>...</td>\n",
       "      <td>...</td>\n",
       "      <td>...</td>\n",
       "    </tr>\n",
       "    <tr>\n",
       "      <th>214</th>\n",
       "      <td>28.17</td>\n",
       "      <td>6.50</td>\n",
       "      <td>Female</td>\n",
       "      <td>Yes</td>\n",
       "      <td>Sat</td>\n",
       "      <td>Dinner</td>\n",
       "      <td>3</td>\n",
       "    </tr>\n",
       "    <tr>\n",
       "      <th>215</th>\n",
       "      <td>12.90</td>\n",
       "      <td>1.10</td>\n",
       "      <td>Female</td>\n",
       "      <td>Yes</td>\n",
       "      <td>Sat</td>\n",
       "      <td>Dinner</td>\n",
       "      <td>2</td>\n",
       "    </tr>\n",
       "    <tr>\n",
       "      <th>216</th>\n",
       "      <td>28.15</td>\n",
       "      <td>3.00</td>\n",
       "      <td>Male</td>\n",
       "      <td>Yes</td>\n",
       "      <td>Sat</td>\n",
       "      <td>Dinner</td>\n",
       "      <td>5</td>\n",
       "    </tr>\n",
       "    <tr>\n",
       "      <th>217</th>\n",
       "      <td>11.59</td>\n",
       "      <td>1.50</td>\n",
       "      <td>Male</td>\n",
       "      <td>Yes</td>\n",
       "      <td>Sat</td>\n",
       "      <td>Dinner</td>\n",
       "      <td>2</td>\n",
       "    </tr>\n",
       "    <tr>\n",
       "      <th>218</th>\n",
       "      <td>7.74</td>\n",
       "      <td>1.44</td>\n",
       "      <td>Male</td>\n",
       "      <td>Yes</td>\n",
       "      <td>Sat</td>\n",
       "      <td>Dinner</td>\n",
       "      <td>2</td>\n",
       "    </tr>\n",
       "    <tr>\n",
       "      <th>219</th>\n",
       "      <td>30.14</td>\n",
       "      <td>3.09</td>\n",
       "      <td>Female</td>\n",
       "      <td>Yes</td>\n",
       "      <td>Sat</td>\n",
       "      <td>Dinner</td>\n",
       "      <td>4</td>\n",
       "    </tr>\n",
       "    <tr>\n",
       "      <th>220</th>\n",
       "      <td>12.16</td>\n",
       "      <td>2.20</td>\n",
       "      <td>Male</td>\n",
       "      <td>Yes</td>\n",
       "      <td>Fri</td>\n",
       "      <td>Lunch</td>\n",
       "      <td>2</td>\n",
       "    </tr>\n",
       "    <tr>\n",
       "      <th>221</th>\n",
       "      <td>13.42</td>\n",
       "      <td>3.48</td>\n",
       "      <td>Female</td>\n",
       "      <td>Yes</td>\n",
       "      <td>Fri</td>\n",
       "      <td>Lunch</td>\n",
       "      <td>2</td>\n",
       "    </tr>\n",
       "    <tr>\n",
       "      <th>222</th>\n",
       "      <td>8.58</td>\n",
       "      <td>1.92</td>\n",
       "      <td>Male</td>\n",
       "      <td>Yes</td>\n",
       "      <td>Fri</td>\n",
       "      <td>Lunch</td>\n",
       "      <td>1</td>\n",
       "    </tr>\n",
       "    <tr>\n",
       "      <th>223</th>\n",
       "      <td>15.98</td>\n",
       "      <td>3.00</td>\n",
       "      <td>Female</td>\n",
       "      <td>No</td>\n",
       "      <td>Fri</td>\n",
       "      <td>Lunch</td>\n",
       "      <td>3</td>\n",
       "    </tr>\n",
       "    <tr>\n",
       "      <th>224</th>\n",
       "      <td>13.42</td>\n",
       "      <td>1.58</td>\n",
       "      <td>Male</td>\n",
       "      <td>Yes</td>\n",
       "      <td>Fri</td>\n",
       "      <td>Lunch</td>\n",
       "      <td>2</td>\n",
       "    </tr>\n",
       "    <tr>\n",
       "      <th>225</th>\n",
       "      <td>16.27</td>\n",
       "      <td>2.50</td>\n",
       "      <td>Female</td>\n",
       "      <td>Yes</td>\n",
       "      <td>Fri</td>\n",
       "      <td>Lunch</td>\n",
       "      <td>2</td>\n",
       "    </tr>\n",
       "    <tr>\n",
       "      <th>226</th>\n",
       "      <td>10.09</td>\n",
       "      <td>2.00</td>\n",
       "      <td>Female</td>\n",
       "      <td>Yes</td>\n",
       "      <td>Fri</td>\n",
       "      <td>Lunch</td>\n",
       "      <td>2</td>\n",
       "    </tr>\n",
       "    <tr>\n",
       "      <th>227</th>\n",
       "      <td>20.45</td>\n",
       "      <td>3.00</td>\n",
       "      <td>Male</td>\n",
       "      <td>No</td>\n",
       "      <td>Sat</td>\n",
       "      <td>Dinner</td>\n",
       "      <td>4</td>\n",
       "    </tr>\n",
       "    <tr>\n",
       "      <th>228</th>\n",
       "      <td>13.28</td>\n",
       "      <td>2.72</td>\n",
       "      <td>Male</td>\n",
       "      <td>No</td>\n",
       "      <td>Sat</td>\n",
       "      <td>Dinner</td>\n",
       "      <td>2</td>\n",
       "    </tr>\n",
       "    <tr>\n",
       "      <th>229</th>\n",
       "      <td>22.12</td>\n",
       "      <td>2.88</td>\n",
       "      <td>Female</td>\n",
       "      <td>Yes</td>\n",
       "      <td>Sat</td>\n",
       "      <td>Dinner</td>\n",
       "      <td>2</td>\n",
       "    </tr>\n",
       "    <tr>\n",
       "      <th>230</th>\n",
       "      <td>24.01</td>\n",
       "      <td>2.00</td>\n",
       "      <td>Male</td>\n",
       "      <td>Yes</td>\n",
       "      <td>Sat</td>\n",
       "      <td>Dinner</td>\n",
       "      <td>4</td>\n",
       "    </tr>\n",
       "    <tr>\n",
       "      <th>231</th>\n",
       "      <td>15.69</td>\n",
       "      <td>3.00</td>\n",
       "      <td>Male</td>\n",
       "      <td>Yes</td>\n",
       "      <td>Sat</td>\n",
       "      <td>Dinner</td>\n",
       "      <td>3</td>\n",
       "    </tr>\n",
       "    <tr>\n",
       "      <th>232</th>\n",
       "      <td>11.61</td>\n",
       "      <td>3.39</td>\n",
       "      <td>Male</td>\n",
       "      <td>No</td>\n",
       "      <td>Sat</td>\n",
       "      <td>Dinner</td>\n",
       "      <td>2</td>\n",
       "    </tr>\n",
       "    <tr>\n",
       "      <th>233</th>\n",
       "      <td>10.77</td>\n",
       "      <td>1.47</td>\n",
       "      <td>Male</td>\n",
       "      <td>No</td>\n",
       "      <td>Sat</td>\n",
       "      <td>Dinner</td>\n",
       "      <td>2</td>\n",
       "    </tr>\n",
       "    <tr>\n",
       "      <th>234</th>\n",
       "      <td>15.53</td>\n",
       "      <td>3.00</td>\n",
       "      <td>Male</td>\n",
       "      <td>Yes</td>\n",
       "      <td>Sat</td>\n",
       "      <td>Dinner</td>\n",
       "      <td>2</td>\n",
       "    </tr>\n",
       "    <tr>\n",
       "      <th>235</th>\n",
       "      <td>10.07</td>\n",
       "      <td>1.25</td>\n",
       "      <td>Male</td>\n",
       "      <td>No</td>\n",
       "      <td>Sat</td>\n",
       "      <td>Dinner</td>\n",
       "      <td>2</td>\n",
       "    </tr>\n",
       "    <tr>\n",
       "      <th>236</th>\n",
       "      <td>12.60</td>\n",
       "      <td>1.00</td>\n",
       "      <td>Male</td>\n",
       "      <td>Yes</td>\n",
       "      <td>Sat</td>\n",
       "      <td>Dinner</td>\n",
       "      <td>2</td>\n",
       "    </tr>\n",
       "    <tr>\n",
       "      <th>237</th>\n",
       "      <td>32.83</td>\n",
       "      <td>1.17</td>\n",
       "      <td>Male</td>\n",
       "      <td>Yes</td>\n",
       "      <td>Sat</td>\n",
       "      <td>Dinner</td>\n",
       "      <td>2</td>\n",
       "    </tr>\n",
       "    <tr>\n",
       "      <th>238</th>\n",
       "      <td>35.83</td>\n",
       "      <td>4.67</td>\n",
       "      <td>Female</td>\n",
       "      <td>No</td>\n",
       "      <td>Sat</td>\n",
       "      <td>Dinner</td>\n",
       "      <td>3</td>\n",
       "    </tr>\n",
       "    <tr>\n",
       "      <th>239</th>\n",
       "      <td>29.03</td>\n",
       "      <td>5.92</td>\n",
       "      <td>Male</td>\n",
       "      <td>No</td>\n",
       "      <td>Sat</td>\n",
       "      <td>Dinner</td>\n",
       "      <td>3</td>\n",
       "    </tr>\n",
       "    <tr>\n",
       "      <th>240</th>\n",
       "      <td>27.18</td>\n",
       "      <td>2.00</td>\n",
       "      <td>Female</td>\n",
       "      <td>Yes</td>\n",
       "      <td>Sat</td>\n",
       "      <td>Dinner</td>\n",
       "      <td>2</td>\n",
       "    </tr>\n",
       "    <tr>\n",
       "      <th>241</th>\n",
       "      <td>22.67</td>\n",
       "      <td>2.00</td>\n",
       "      <td>Male</td>\n",
       "      <td>Yes</td>\n",
       "      <td>Sat</td>\n",
       "      <td>Dinner</td>\n",
       "      <td>2</td>\n",
       "    </tr>\n",
       "    <tr>\n",
       "      <th>242</th>\n",
       "      <td>17.82</td>\n",
       "      <td>1.75</td>\n",
       "      <td>Male</td>\n",
       "      <td>No</td>\n",
       "      <td>Sat</td>\n",
       "      <td>Dinner</td>\n",
       "      <td>2</td>\n",
       "    </tr>\n",
       "    <tr>\n",
       "      <th>243</th>\n",
       "      <td>18.78</td>\n",
       "      <td>3.00</td>\n",
       "      <td>Female</td>\n",
       "      <td>No</td>\n",
       "      <td>Thur</td>\n",
       "      <td>Dinner</td>\n",
       "      <td>2</td>\n",
       "    </tr>\n",
       "  </tbody>\n",
       "</table>\n",
       "<p>244 rows × 7 columns</p>\n",
       "</div>"
      ],
      "text/plain": [
       "     total_bill   tip     sex smoker   day    time  size\n",
       "0         16.99  1.01  Female     No   Sun  Dinner     2\n",
       "1         10.34  1.66    Male     No   Sun  Dinner     3\n",
       "2         21.01  3.50    Male     No   Sun  Dinner     3\n",
       "3         23.68  3.31    Male     No   Sun  Dinner     2\n",
       "4         24.59  3.61  Female     No   Sun  Dinner     4\n",
       "5         25.29  4.71    Male     No   Sun  Dinner     4\n",
       "6          8.77  2.00    Male     No   Sun  Dinner     2\n",
       "7         26.88  3.12    Male     No   Sun  Dinner     4\n",
       "8         15.04  1.96    Male     No   Sun  Dinner     2\n",
       "9         14.78  3.23    Male     No   Sun  Dinner     2\n",
       "10        10.27  1.71    Male     No   Sun  Dinner     2\n",
       "11        35.26  5.00  Female     No   Sun  Dinner     4\n",
       "12        15.42  1.57    Male     No   Sun  Dinner     2\n",
       "13        18.43  3.00    Male     No   Sun  Dinner     4\n",
       "14        14.83  3.02  Female     No   Sun  Dinner     2\n",
       "15        21.58  3.92    Male     No   Sun  Dinner     2\n",
       "16        10.33  1.67  Female     No   Sun  Dinner     3\n",
       "17        16.29  3.71    Male     No   Sun  Dinner     3\n",
       "18        16.97  3.50  Female     No   Sun  Dinner     3\n",
       "19        20.65  3.35    Male     No   Sat  Dinner     3\n",
       "20        17.92  4.08    Male     No   Sat  Dinner     2\n",
       "21        20.29  2.75  Female     No   Sat  Dinner     2\n",
       "22        15.77  2.23  Female     No   Sat  Dinner     2\n",
       "23        39.42  7.58    Male     No   Sat  Dinner     4\n",
       "24        19.82  3.18    Male     No   Sat  Dinner     2\n",
       "25        17.81  2.34    Male     No   Sat  Dinner     4\n",
       "26        13.37  2.00    Male     No   Sat  Dinner     2\n",
       "27        12.69  2.00    Male     No   Sat  Dinner     2\n",
       "28        21.70  4.30    Male     No   Sat  Dinner     2\n",
       "29        19.65  3.00  Female     No   Sat  Dinner     2\n",
       "..          ...   ...     ...    ...   ...     ...   ...\n",
       "214       28.17  6.50  Female    Yes   Sat  Dinner     3\n",
       "215       12.90  1.10  Female    Yes   Sat  Dinner     2\n",
       "216       28.15  3.00    Male    Yes   Sat  Dinner     5\n",
       "217       11.59  1.50    Male    Yes   Sat  Dinner     2\n",
       "218        7.74  1.44    Male    Yes   Sat  Dinner     2\n",
       "219       30.14  3.09  Female    Yes   Sat  Dinner     4\n",
       "220       12.16  2.20    Male    Yes   Fri   Lunch     2\n",
       "221       13.42  3.48  Female    Yes   Fri   Lunch     2\n",
       "222        8.58  1.92    Male    Yes   Fri   Lunch     1\n",
       "223       15.98  3.00  Female     No   Fri   Lunch     3\n",
       "224       13.42  1.58    Male    Yes   Fri   Lunch     2\n",
       "225       16.27  2.50  Female    Yes   Fri   Lunch     2\n",
       "226       10.09  2.00  Female    Yes   Fri   Lunch     2\n",
       "227       20.45  3.00    Male     No   Sat  Dinner     4\n",
       "228       13.28  2.72    Male     No   Sat  Dinner     2\n",
       "229       22.12  2.88  Female    Yes   Sat  Dinner     2\n",
       "230       24.01  2.00    Male    Yes   Sat  Dinner     4\n",
       "231       15.69  3.00    Male    Yes   Sat  Dinner     3\n",
       "232       11.61  3.39    Male     No   Sat  Dinner     2\n",
       "233       10.77  1.47    Male     No   Sat  Dinner     2\n",
       "234       15.53  3.00    Male    Yes   Sat  Dinner     2\n",
       "235       10.07  1.25    Male     No   Sat  Dinner     2\n",
       "236       12.60  1.00    Male    Yes   Sat  Dinner     2\n",
       "237       32.83  1.17    Male    Yes   Sat  Dinner     2\n",
       "238       35.83  4.67  Female     No   Sat  Dinner     3\n",
       "239       29.03  5.92    Male     No   Sat  Dinner     3\n",
       "240       27.18  2.00  Female    Yes   Sat  Dinner     2\n",
       "241       22.67  2.00    Male    Yes   Sat  Dinner     2\n",
       "242       17.82  1.75    Male     No   Sat  Dinner     2\n",
       "243       18.78  3.00  Female     No  Thur  Dinner     2\n",
       "\n",
       "[244 rows x 7 columns]"
      ]
     },
     "execution_count": 85,
     "metadata": {},
     "output_type": "execute_result"
    }
   ],
   "source": [
    "tips = sns.load_dataset(\"tips\")\n",
    "tips"
   ]
  },
  {
   "cell_type": "code",
   "execution_count": 42,
   "metadata": {
    "collapsed": false,
    "scrolled": false
   },
   "outputs": [
    {
     "data": {
      "image/png": "[encoded data removed]",
      "text/plain": [
       "<matplotlib.figure.Figure at 0x2b0edc2e0610>"
      ]
     },
     "metadata": {},
     "output_type": "display_data"
    }
   ],
   "source": [
    "sns.set_style(\"white\")\n",
    "f, axes = plt.subplots(nrows=5, ncols=4, sharex=True)\n",
    "f.set_size_inches(10, 10)\n",
    "color=\"skyblue\"\n",
    "titlesize=24\n",
    "labelsize=18\n",
    "linewidth=1\n",
    "sns.violinplot(x=\"pve_hmean\", data=pd.DataFrame(pve_dfs[\"bfpopx\"]['pve_hmean']), orient=\"v\", ax=axes[0,0], color=color, linewidth=linewidth)\n",
    "sns.violinplot(x=\"pge_hmean\", data=pd.DataFrame(pge_dfs[\"bfpopx\"]['pge_hmean']), orient=\"v\", ax=axes[0,1], color=color, linewidth=linewidth)\n",
    "sns.violinplot(x=\"rho_hmean\", data=pd.DataFrame(rho_dfs[\"bfpopx\"]['rho_hmean']), orient=\"v\", ax=axes[0,2], color=color, linewidth=linewidth)\n",
    "sns.violinplot(pd.DataFrame(ngamma_dfs['bfpopx']['gamma_hmean']), orient=\"v\", ax=axes[0,3], color=color, linewidth=linewidth)\n",
    "\n",
    "sns.violinplot(x=\"pve_hmean\", data=pd.DataFrame(pve_dfs[\"c13popx\"]['pve_hmean']), orient=\"v\", ax=axes[1,0], color=color, linewidth=linewidth)\n",
    "sns.violinplot(x=\"pge_hmean\", data=pd.DataFrame(pge_dfs[\"c13popx\"]['pge_hmean']), orient=\"v\", ax=axes[1,1], color=color, linewidth=linewidth)\n",
    "sns.violinplot(x=\"rho_hmean\", data=pd.DataFrame(rho_dfs[\"c13popx\"]['rho_hmean']), orient=\"v\", ax=axes[1,2], color=color, linewidth=linewidth)\n",
    "sns.violinplot(pd.DataFrame(ngamma_dfs['c13popx']['gamma_hmean']), orient=\"v\", ax=axes[1,3], color=color, linewidth=linewidth)\n",
    "\n",
    "sns.violinplot(x=\"pve_hmean\", data=pd.DataFrame(pve_dfs[\"htpopx\"]['pve_hmean']), orient=\"v\", ax=axes[2,0], color=color, linewidth=linewidth)\n",
    "sns.violinplot(x=\"pge_hmean\", data=pd.DataFrame(pge_dfs[\"htpopx\"]['pge_hmean']), orient=\"v\", ax=axes[2,1], color=color, linewidth=linewidth)\n",
    "sns.violinplot(x=\"rho_hmean\", data=pd.DataFrame(rho_dfs[\"htpopx\"]['rho_hmean']), orient=\"v\", ax=axes[2,2], color=color, linewidth=linewidth)\n",
    "sns.violinplot(pd.DataFrame(ngamma_dfs['htpopx']['gamma_hmean']), orient=\"v\", ax=axes[2,3], color=color, linewidth=linewidth)\n",
    "\n",
    "sns.violinplot(x=\"pve_hmean\", data=pd.DataFrame(pve_dfs[\"n15popx\"]['pve_hmean']), orient=\"v\", ax=axes[3,0], color=color, linewidth=linewidth)\n",
    "sns.violinplot(x=\"pge_hmean\", data=pd.DataFrame(pge_dfs[\"n15popx\"]['pge_hmean']), orient=\"v\", ax=axes[3,1], color=color, linewidth=linewidth)\n",
    "sns.violinplot(x=\"rho_hmean\", data=pd.DataFrame(rho_dfs[\"n15popx\"]['rho_hmean']), orient=\"v\", ax=axes[3,2], color=color, linewidth=linewidth)\n",
    "sns.violinplot(pd.DataFrame(ngamma_dfs['n15popx']['gamma_hmean']), orient=\"v\", ax=axes[3,3], color=color, linewidth=linewidth)\n",
    "\n",
    "sns.violinplot(x=\"pve_hmean\", data=pd.DataFrame(pve_dfs[\"rspopx\"]['pve_hmean']), orient=\"v\", ax=axes[4,0], color=color, linewidth=linewidth)\n",
    "sns.violinplot(x=\"pge_hmean\", data=pd.DataFrame(pge_dfs[\"rspopx\"]['pge_hmean']), orient=\"v\", ax=axes[4,1], color=color, linewidth=linewidth)\n",
    "sns.violinplot(x=\"rho_hmean\", data=pd.DataFrame(rho_dfs[\"rspopx\"]['rho_hmean']), orient=\"v\", ax=axes[4,2], color=color, linewidth=linewidth)\n",
    "sns.violinplot(pd.DataFrame(ngamma_dfs['rspopx']['gamma_hmean']), orient=\"v\", ax=axes[4,3], color=color, linewidth=linewidth)\n",
    "\n",
    "axes[0,0].set_title(r\"pve\", fontsize=titlesize)\n",
    "axes[0,1].set_title(r\"pge\", fontsize=titlesize)\n",
    "axes[0,2].set_title(r\"rho\", fontsize=titlesize)\n",
    "axes[0,3].set_title(r'$N_{SNP}$',fontsize=titlesize)\n",
    "\n",
    "\n",
    "\n",
    "axes[0,0].set_ylabel(\"bfpopx\", fontsize=labelsize)\n",
    "axes[0,1].set_ylabel(\"\")\n",
    "axes[0,2].set_ylabel(\"\")\n",
    "\n",
    "\n",
    "axes[1,0].set_ylabel(\"c13popx\", fontsize=labelsize)\n",
    "axes[1,1].set_ylabel(\"\")\n",
    "axes[1,2].set_ylabel(\"\")\n",
    "\n",
    "\n",
    "axes[2,0].set_ylabel(\"htpopx\", fontsize=labelsize)\n",
    "axes[2,1].set_ylabel(\"\")\n",
    "axes[2,2].set_ylabel(\"\")\n",
    "\n",
    "\n",
    "axes[3,0].set_ylabel(\"n15popx\", fontsize=labelsize)\n",
    "axes[3,1].set_ylabel(\"\")\n",
    "axes[3,2].set_ylabel(\"\")\n",
    "\n",
    "\n",
    "axes[4,0].set_ylabel(\"rspopx\", fontsize=labelsize)\n",
    "axes[4,1].set_ylabel(\"\")\n",
    "axes[4,2].set_ylabel(\"\")\n",
    "\n",
    "\n",
    "\n",
    "plt.tight_layout(pad=0.4, w_pad=0.5, h_pad=1.0)\n",
    "#plt.tight_layout()\n",
    "plt.savefig(\"/home/lindb/wbp/figures/gemma_violinplot_pge_pve_rho.pdf\")\n",
    "plt.show()"
   ]
  },
  {
   "cell_type": "code",
   "execution_count": 25,
   "metadata": {
    "collapsed": false
   },
   "outputs": [
    {
     "data": {
      "text/plain": [
       "'Bud flush'"
      ]
     },
     "execution_count": 25,
     "metadata": {},
     "output_type": "execute_result"
    }
   ],
   "source": [
    "trans = {'bfpopx':r\"Bud flush\",\n",
    "         'c13popx':r'$\\delta^{13}C$',\n",
    "         'htpopx':r'Height',\n",
    "         'rspopx':r'Root:shoot',\n",
    "         'n15popx':r'$\\delta^{15}N$'}\n",
    "trans['bfpopx']"
   ]
  },
  {
   "cell_type": "code",
   "execution_count": 26,
   "metadata": {
    "collapsed": false
   },
   "outputs": [
    {
     "data": {
      "text/html": [
       "<div>\n",
       "<table border=\"1\" class=\"dataframe\">\n",
       "  <thead>\n",
       "    <tr style=\"text-align: right;\">\n",
       "      <th></th>\n",
       "      <th>Bud flush</th>\n",
       "      <th>$\\delta^{15}N$</th>\n",
       "      <th>$\\delta^{13}C$</th>\n",
       "      <th>Root:shoot</th>\n",
       "      <th>Height</th>\n",
       "    </tr>\n",
       "  </thead>\n",
       "  <tbody>\n",
       "    <tr>\n",
       "      <th>0</th>\n",
       "      <td>0.250027</td>\n",
       "      <td>0.093988</td>\n",
       "      <td>0.201753</td>\n",
       "      <td>0.406414</td>\n",
       "      <td>0.201511</td>\n",
       "    </tr>\n",
       "    <tr>\n",
       "      <th>1</th>\n",
       "      <td>0.286353</td>\n",
       "      <td>0.079118</td>\n",
       "      <td>0.225396</td>\n",
       "      <td>0.359635</td>\n",
       "      <td>0.111065</td>\n",
       "    </tr>\n",
       "    <tr>\n",
       "      <th>2</th>\n",
       "      <td>0.300280</td>\n",
       "      <td>0.216408</td>\n",
       "      <td>0.343098</td>\n",
       "      <td>0.317109</td>\n",
       "      <td>0.058424</td>\n",
       "    </tr>\n",
       "    <tr>\n",
       "      <th>3</th>\n",
       "      <td>0.428892</td>\n",
       "      <td>0.088167</td>\n",
       "      <td>0.047301</td>\n",
       "      <td>0.336213</td>\n",
       "      <td>0.189384</td>\n",
       "    </tr>\n",
       "    <tr>\n",
       "      <th>4</th>\n",
       "      <td>0.255237</td>\n",
       "      <td>0.285285</td>\n",
       "      <td>0.195047</td>\n",
       "      <td>0.279577</td>\n",
       "      <td>0.133001</td>\n",
       "    </tr>\n",
       "  </tbody>\n",
       "</table>\n",
       "</div>"
      ],
      "text/plain": [
       "   Bud flush  $\\delta^{15}N$  $\\delta^{13}C$  Root:shoot    Height\n",
       "0   0.250027        0.093988        0.201753    0.406414  0.201511\n",
       "1   0.286353        0.079118        0.225396    0.359635  0.111065\n",
       "2   0.300280        0.216408        0.343098    0.317109  0.058424\n",
       "3   0.428892        0.088167        0.047301    0.336213  0.189384\n",
       "4   0.255237        0.285285        0.195047    0.279577  0.133001"
      ]
     },
     "execution_count": 26,
     "metadata": {},
     "output_type": "execute_result"
    }
   ],
   "source": [
    "pves = pd.DataFrame()\n",
    "nsnps = pd.DataFrame()\n",
    "for pheno in pve_dfs:\n",
    "    pves[trans[pheno]] = pve_dfs[pheno]['pve_hmean']\n",
    "    nsnps[trans[pheno]]= ngamma_dfs[pheno]['gamma_hmean']\n",
    "pves.head()"
   ]
  },
  {
   "cell_type": "code",
   "execution_count": 81,
   "metadata": {
    "collapsed": false
   },
   "outputs": [
    {
     "data": {
      "text/html": [
       "<div>\n",
       "<table border=\"1\" class=\"dataframe\">\n",
       "  <thead>\n",
       "    <tr style=\"text-align: right;\">\n",
       "      <th></th>\n",
       "      <th>Bud flush</th>\n",
       "      <th>$\\delta^{15}N$</th>\n",
       "      <th>$\\delta^{13}C$</th>\n",
       "      <th>Root:shoot</th>\n",
       "      <th>Height</th>\n",
       "    </tr>\n",
       "  </thead>\n",
       "  <tbody>\n",
       "    <tr>\n",
       "      <th>0</th>\n",
       "      <td>163.25</td>\n",
       "      <td>177.75</td>\n",
       "      <td>189.0</td>\n",
       "      <td>161.50</td>\n",
       "      <td>151.25</td>\n",
       "    </tr>\n",
       "    <tr>\n",
       "      <th>1</th>\n",
       "      <td>171.00</td>\n",
       "      <td>180.50</td>\n",
       "      <td>186.0</td>\n",
       "      <td>153.25</td>\n",
       "      <td>154.25</td>\n",
       "    </tr>\n",
       "    <tr>\n",
       "      <th>2</th>\n",
       "      <td>170.50</td>\n",
       "      <td>182.00</td>\n",
       "      <td>190.5</td>\n",
       "      <td>158.00</td>\n",
       "      <td>162.00</td>\n",
       "    </tr>\n",
       "    <tr>\n",
       "      <th>3</th>\n",
       "      <td>188.00</td>\n",
       "      <td>188.00</td>\n",
       "      <td>184.5</td>\n",
       "      <td>166.50</td>\n",
       "      <td>154.75</td>\n",
       "    </tr>\n",
       "    <tr>\n",
       "      <th>4</th>\n",
       "      <td>191.25</td>\n",
       "      <td>179.25</td>\n",
       "      <td>187.0</td>\n",
       "      <td>172.25</td>\n",
       "      <td>155.25</td>\n",
       "    </tr>\n",
       "  </tbody>\n",
       "</table>\n",
       "</div>"
      ],
      "text/plain": [
       "   Bud flush  $\\delta^{15}N$  $\\delta^{13}C$  Root:shoot  Height\n",
       "0     163.25          177.75           189.0      161.50  151.25\n",
       "1     171.00          180.50           186.0      153.25  154.25\n",
       "2     170.50          182.00           190.5      158.00  162.00\n",
       "3     188.00          188.00           184.5      166.50  154.75\n",
       "4     191.25          179.25           187.0      172.25  155.25"
      ]
     },
     "execution_count": 81,
     "metadata": {},
     "output_type": "execute_result"
    }
   ],
   "source": [
    "nsnps.head()"
   ]
  },
  {
   "cell_type": "code",
   "execution_count": 94,
   "metadata": {
    "collapsed": false
   },
   "outputs": [
    {
     "data": {
      "text/plain": [
       "pandas.core.frame.DataFrame"
      ]
     },
     "execution_count": 94,
     "metadata": {},
     "output_type": "execute_result"
    }
   ],
   "source": [
    "type(nsnps)"
   ]
  },
  {
   "cell_type": "code",
   "execution_count": 125,
   "metadata": {
    "collapsed": false
   },
   "outputs": [
    {
     "data": {
      "text/plain": [
       "18"
      ]
     },
     "execution_count": 125,
     "metadata": {},
     "output_type": "execute_result"
    }
   ],
   "source": [
    "labelsize"
   ]
  },
  {
   "cell_type": "code",
   "execution_count": 129,
   "metadata": {
    "collapsed": false
   },
   "outputs": [
    {
     "data": {
      "text/plain": [
       "['Bud flush', '$\\\\delta^{15}N$', '$\\\\delta^{13}C$', 'Root:shoot', 'Height']"
      ]
     },
     "execution_count": 129,
     "metadata": {},
     "output_type": "execute_result"
    }
   ],
   "source": [
    "[x for x in pves]"
   ]
  },
  {
   "cell_type": "code",
   "execution_count": 30,
   "metadata": {
    "collapsed": false
   },
   "outputs": [],
   "source": [
    "labelsize=18"
   ]
  },
  {
   "cell_type": "code",
   "execution_count": 28,
   "metadata": {
    "collapsed": true
   },
   "outputs": [],
   "source": [
    "rc = {'axes.labelsize': 11.0,\n",
    " 'axes.titlesize': 12.0,\n",
    " 'figure.figsize': [8.0, 5.5],\n",
    " 'font.size': 12.0,\n",
    " 'grid.linewidth': 1.0,\n",
    " 'legend.fontsize': 10.0,\n",
    " 'lines.linewidth': 1.75,\n",
    " 'lines.markeredgewidth': 0.0,\n",
    " 'lines.markersize': 7.0,\n",
    " 'patch.linewidth': 0.3,\n",
    " 'xtick.labelsize': 18.0,\n",
    " 'xtick.major.pad': 7.0,\n",
    " 'xtick.major.width': 1.0,\n",
    " 'xtick.minor.width': 0.5,\n",
    " 'ytick.labelsize': 10.0,\n",
    " 'ytick.major.pad': 7.0,\n",
    " 'ytick.major.width': 1.0,\n",
    " 'ytick.minor.width': 0.5}"
   ]
  },
  {
   "cell_type": "code",
   "execution_count": 29,
   "metadata": {
    "collapsed": true
   },
   "outputs": [],
   "source": [
    "sns.set(rc=rc)"
   ]
  },
  {
   "cell_type": "code",
   "execution_count": 39,
   "metadata": {
    "collapsed": false
   },
   "outputs": [
    {
     "data": {
      "text/plain": [
       "Index([u'$\\delta^{13}C$', u'$\\delta^{15}N$', u'Bud flush', u'Height',\n",
       "       u'Root:shoot'],\n",
       "      dtype='object')"
      ]
     },
     "execution_count": 39,
     "metadata": {},
     "output_type": "execute_result"
    }
   ],
   "source": [
    "nsnps.columns"
   ]
  },
  {
   "cell_type": "code",
   "execution_count": 41,
   "metadata": {
    "collapsed": false
   },
   "outputs": [
    {
     "data": {
      "text/html": [
       "<div>\n",
       "<table border=\"1\" class=\"dataframe\">\n",
       "  <thead>\n",
       "    <tr style=\"text-align: right;\">\n",
       "      <th></th>\n",
       "      <th>Bud flush</th>\n",
       "      <th>$\\delta^{13}C$</th>\n",
       "      <th>Height</th>\n",
       "      <th>$\\delta^{15}N$</th>\n",
       "      <th>Root:shoot</th>\n",
       "    </tr>\n",
       "  </thead>\n",
       "  <tbody>\n",
       "    <tr>\n",
       "      <th>0</th>\n",
       "      <td>163.25</td>\n",
       "      <td>189.0</td>\n",
       "      <td>151.25</td>\n",
       "      <td>177.75</td>\n",
       "      <td>161.50</td>\n",
       "    </tr>\n",
       "    <tr>\n",
       "      <th>1</th>\n",
       "      <td>171.00</td>\n",
       "      <td>186.0</td>\n",
       "      <td>154.25</td>\n",
       "      <td>180.50</td>\n",
       "      <td>153.25</td>\n",
       "    </tr>\n",
       "    <tr>\n",
       "      <th>2</th>\n",
       "      <td>170.50</td>\n",
       "      <td>190.5</td>\n",
       "      <td>162.00</td>\n",
       "      <td>182.00</td>\n",
       "      <td>158.00</td>\n",
       "    </tr>\n",
       "    <tr>\n",
       "      <th>3</th>\n",
       "      <td>188.00</td>\n",
       "      <td>184.5</td>\n",
       "      <td>154.75</td>\n",
       "      <td>188.00</td>\n",
       "      <td>166.50</td>\n",
       "    </tr>\n",
       "    <tr>\n",
       "      <th>4</th>\n",
       "      <td>191.25</td>\n",
       "      <td>187.0</td>\n",
       "      <td>155.25</td>\n",
       "      <td>179.25</td>\n",
       "      <td>172.25</td>\n",
       "    </tr>\n",
       "  </tbody>\n",
       "</table>\n",
       "</div>"
      ],
      "text/plain": [
       "   Bud flush  $\\delta^{13}C$  Height  $\\delta^{15}N$  Root:shoot\n",
       "0     163.25           189.0  151.25          177.75      161.50\n",
       "1     171.00           186.0  154.25          180.50      153.25\n",
       "2     170.50           190.5  162.00          182.00      158.00\n",
       "3     188.00           184.5  154.75          188.00      166.50\n",
       "4     191.25           187.0  155.25          179.25      172.25"
      ]
     },
     "execution_count": 41,
     "metadata": {},
     "output_type": "execute_result"
    }
   ],
   "source": [
    "cols = ['Bud flush',u'$\\delta^{13}C$','Height',u'$\\delta^{15}N$','Root:shoot']\n",
    "nsnps = nsnps[[col for col in cols]]\n",
    "pves = pves[[col for col in cols]]\n",
    "nsnps.head()"
   ]
  },
  {
   "cell_type": "code",
   "execution_count": 37,
   "metadata": {
    "collapsed": false
   },
   "outputs": [
    {
     "data": {
      "image/png": "[encoded data removed]",
      "text/plain": [
       "<matplotlib.figure.Figure at 0x2acfd1034f10>"
      ]
     },
     "metadata": {},
     "output_type": "display_data"
    }
   ],
   "source": [
    "sns.set_style(\"white\")\n",
    "g= sns.violinplot(data=pves,color=\"skyblue\",ylim=[0,1],fontsize=29)\n",
    "g.set_ylabel('PVE',fontsize = labelsize)\n",
    "g.spines[\"top\"].set_visible(False)\n",
    "g.spines[\"right\"].set_visible(False)\n",
    "g.set_title(\"A\",y=0.9,loc='right',fontsize=20,fontweight='bold')\n",
    "plt.savefig('/home/lindb/wbp/figures/gemma_violinplot_PVE.pdf')"
   ]
  },
  {
   "cell_type": "code",
   "execution_count": 38,
   "metadata": {
    "collapsed": false
   },
   "outputs": [
    {
     "data": {
      "image/png": "[encoded data removed]",
      "text/plain": [
       "<matplotlib.figure.Figure at 0x2acfd0ffeb10>"
      ]
     },
     "metadata": {},
     "output_type": "display_data"
    }
   ],
   "source": [
    "g= sns.violinplot(data=nsnps,color=\"skyblue\",ylim=[0,1],fontsize=29)\n",
    "g.set_ylabel(r'$N_{SNP}$',fontsize = labelsize)\n",
    "g.spines[\"top\"].set_visible(False)\n",
    "g.spines[\"right\"].set_visible(False)\n",
    "g.set_title(\"B\",y=0.9,loc='right',fontsize=20,fontweight='bold')\n",
    "plt.savefig(\"/home/lindb/wbp/figures/gemma_violinplot_nsnps.pdf\")"
   ]
  },
  {
   "cell_type": "code",
   "execution_count": 44,
   "metadata": {
    "collapsed": false
   },
   "outputs": [
    {
     "data": {
      "image/png": "[encoded data removed]",
      "text/plain": [
       "<matplotlib.figure.Figure at 0x2ac21e067d90>"
      ]
     },
     "metadata": {},
     "output_type": "display_data"
    }
   ],
   "source": [
    "g= sns.violinplot(data=nsnps,color=\"skyblue\",ylim=[0,1],fontsize=29)\n",
    "g.set_ylabel(r'$N_{SNP}$',fontsize = labelsize)\n",
    "g.spines[\"top\"].set_visible(False)\n",
    "g.spines[\"right\"].set_visible(False)\n",
    "g.set_title(\"B\",y=0.9,loc='right',fontsize=20,fontweight='bold')\n",
    "plt.savefig(\"/home/lindb/wbp/figures/gemma_violinplot_nsnps.pdf\")"
   ]
  },
  {
   "cell_type": "code",
   "execution_count": 2,
   "metadata": {
    "collapsed": false
   },
   "outputs": [
    {
     "ename": "NameError",
     "evalue": "name 'sns' is not defined",
     "output_type": "error",
     "traceback": [
      "\u001b[1;31m---------------------------------------------------------------------------\u001b[0m",
      "\u001b[1;31mNameError\u001b[0m                                 Traceback (most recent call last)",
      "\u001b[1;32m<ipython-input-2-bcfebedc1b9a>\u001b[0m in \u001b[0;36m<module>\u001b[1;34m()\u001b[0m\n\u001b[1;32m----> 1\u001b[1;33m \u001b[0mg\u001b[0m\u001b[1;33m=\u001b[0m \u001b[0msns\u001b[0m\u001b[1;33m.\u001b[0m\u001b[0mviolinplot\u001b[0m\u001b[1;33m(\u001b[0m\u001b[0mdata\u001b[0m\u001b[1;33m=\u001b[0m\u001b[0mnsnps\u001b[0m\u001b[1;33m,\u001b[0m\u001b[0mcolor\u001b[0m\u001b[1;33m=\u001b[0m\u001b[1;34m\"skyblue\"\u001b[0m\u001b[1;33m,\u001b[0m\u001b[0mylim\u001b[0m\u001b[1;33m=\u001b[0m\u001b[1;33m[\u001b[0m\u001b[1;36m0\u001b[0m\u001b[1;33m,\u001b[0m\u001b[1;36m1\u001b[0m\u001b[1;33m]\u001b[0m\u001b[1;33m,\u001b[0m\u001b[0mfontsize\u001b[0m\u001b[1;33m=\u001b[0m\u001b[1;36m29\u001b[0m\u001b[1;33m)\u001b[0m\u001b[1;33m\u001b[0m\u001b[0m\n\u001b[0m\u001b[0;32m      2\u001b[0m \u001b[0mg\u001b[0m\u001b[1;33m.\u001b[0m\u001b[0mset_ylabel\u001b[0m\u001b[1;33m(\u001b[0m\u001b[1;34mr'$N_{SNP}$'\u001b[0m\u001b[1;33m,\u001b[0m\u001b[0mfontsize\u001b[0m \u001b[1;33m=\u001b[0m \u001b[0mlabelsize\u001b[0m\u001b[1;33m)\u001b[0m\u001b[1;33m\u001b[0m\u001b[0m\n\u001b[0;32m      3\u001b[0m \u001b[0mg\u001b[0m\u001b[1;33m.\u001b[0m\u001b[0mspines\u001b[0m\u001b[1;33m[\u001b[0m\u001b[1;34m\"top\"\u001b[0m\u001b[1;33m]\u001b[0m\u001b[1;33m.\u001b[0m\u001b[0mset_visible\u001b[0m\u001b[1;33m(\u001b[0m\u001b[0mFalse\u001b[0m\u001b[1;33m)\u001b[0m\u001b[1;33m\u001b[0m\u001b[0m\n\u001b[0;32m      4\u001b[0m \u001b[0mg\u001b[0m\u001b[1;33m.\u001b[0m\u001b[0mspines\u001b[0m\u001b[1;33m[\u001b[0m\u001b[1;34m\"right\"\u001b[0m\u001b[1;33m]\u001b[0m\u001b[1;33m.\u001b[0m\u001b[0mset_visible\u001b[0m\u001b[1;33m(\u001b[0m\u001b[0mFalse\u001b[0m\u001b[1;33m)\u001b[0m\u001b[1;33m\u001b[0m\u001b[0m\n\u001b[0;32m      5\u001b[0m \u001b[0mg\u001b[0m\u001b[1;33m.\u001b[0m\u001b[0mset_title\u001b[0m\u001b[1;33m(\u001b[0m\u001b[1;34m\"B\"\u001b[0m\u001b[1;33m,\u001b[0m\u001b[0my\u001b[0m\u001b[1;33m=\u001b[0m\u001b[1;36m0.9\u001b[0m\u001b[1;33m,\u001b[0m\u001b[0mloc\u001b[0m\u001b[1;33m=\u001b[0m\u001b[1;34m'right'\u001b[0m\u001b[1;33m,\u001b[0m\u001b[0mfontsize\u001b[0m\u001b[1;33m=\u001b[0m\u001b[1;36m20\u001b[0m\u001b[1;33m,\u001b[0m\u001b[0mfontweight\u001b[0m\u001b[1;33m=\u001b[0m\u001b[1;34m'bold'\u001b[0m\u001b[1;33m)\u001b[0m\u001b[1;33m\u001b[0m\u001b[0m\n",
      "\u001b[1;31mNameError\u001b[0m: name 'sns' is not defined"
     ]
    }
   ],
   "source": [
    "g= sns.violinplot(data=nsnps,color=\"skyblue\",ylim=[0,1],fontsize=29)\n",
    "g.set_ylabel(r'$N_{SNP}$',fontsize = labelsize)\n",
    "g.spines[\"top\"].set_visible(False)\n",
    "g.spines[\"right\"].set_visible(False)\n",
    "g.set_title(\"B\",y=0.9,loc='right',fontsize=20,fontweight='bold')\n",
    "plt.savefig(\"/home/lindb/wbp/figures/gemma_violinplot_nsnps.pdf\")"
   ]
  },
  {
   "cell_type": "code",
   "execution_count": null,
   "metadata": {
    "collapsed": true
   },
   "outputs": [],
   "source": []
  },
  {
   "cell_type": "code",
   "execution_count": null,
   "metadata": {
    "collapsed": true
   },
   "outputs": [],
   "source": []
  },
  {
   "cell_type": "code",
   "execution_count": null,
   "metadata": {
    "collapsed": true
   },
   "outputs": [],
   "source": []
  },
  {
   "cell_type": "code",
   "execution_count": null,
   "metadata": {
    "collapsed": true
   },
   "outputs": [],
   "source": []
  },
  {
   "cell_type": "code",
   "execution_count": null,
   "metadata": {
    "collapsed": true
   },
   "outputs": [],
   "source": []
  }
 ],
 "metadata": {
  "kernelspec": {
   "display_name": "Python 2",
   "language": "python",
   "name": "python2"
  },
  "language_info": {
   "codemirror_mode": {
    "name": "ipython",
    "version": 2
   },
   "file_extension": ".py",
   "mimetype": "text/x-python",
   "name": "python",
   "nbconvert_exporter": "python",
   "pygments_lexer": "ipython2",
   "version": "2.7.11"
  }
 },
 "nbformat": 4,
 "nbformat_minor": 0
}
