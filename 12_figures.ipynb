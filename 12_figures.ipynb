{
 "cells": [
  {
   "cell_type": "code",
   "execution_count": 0,
   "metadata": {
    "collapsed": false
   },
   "outputs": [],
   "source": [
    "import os\n",
    "from collections import OrderedDict,Counter,defaultdict\n",
    "import collections\n",
    "from __future__ import division\n",
    "import pandas as pd\n",
    "import numpy as np\n",
    "import vcf\n",
    "from operator import itemgetter\n",
    "import random\n",
    "import matplotlib.pyplot as plt\n",
    "import matplotlib.gridspec as gridspec\n",
    "from matplotlib.backends.backend_pdf import PdfPages\n",
    "import matplotlib.ticker as mtick\n",
    "import matplotlib.colors as mcolors\n",
    "import matplotlib.cm as cm\n",
    "import matplotlib.patches as mpatches\n",
    "%matplotlib inline\n",
    "import math\n",
    "from os import path as op\n",
    "from os import listdir as ls\n",
    "from IPython.display import display\n",
    "from matplotlib.backends.backend_pdf import PdfPages\n"
   ]
  },
  {
   "cell_type": "markdown",
   "metadata": {},
   "source": [
    "# heatmap of pops vs ann ppt"
   ]
  },
  {
   "cell_type": "code",
   "execution_count": 0,
   "metadata": {
    "collapsed": false
   },
   "outputs": [],
   "source": [
    "#made in 08_bayenv2.ipynb\n",
    "envf = pd.read_csv('/home/lindb/wbp/bayenv2/ENVIRONFILE_headerIDX.txt',header=0,index_col=0,sep='\\t')\n",
    "envf"
   ]
  },
  {
   "cell_type": "code",
   "execution_count": 0,
   "metadata": {
    "collapsed": false
   },
   "outputs": [],
   "source": [
    "dist = {}\n",
    "for env in envf.index:\n",
    "    dist[env] = {}\n",
    "    for pop in envf.columns:\n",
    "        dist[env][pop] = envf.loc[env,pop]"
   ]
  },
  {
   "cell_type": "code",
   "execution_count": 0,
   "metadata": {
    "collapsed": true
   },
   "outputs": [],
   "source": [
    "from scipy.stats import spearmanr"
   ]
  },
  {
   "cell_type": "code",
   "execution_count": 0,
   "metadata": {
    "collapsed": false
   },
   "outputs": [],
   "source": [
    "spearmanr(dist['Ann-ppt'].values(),dist['Lon'].values())"
   ]
  },
  {
   "cell_type": "code",
   "execution_count": 0,
   "metadata": {
    "collapsed": false
   },
   "outputs": [],
   "source": [
    "spearmanr(dist['Ann-ppt'].values(),dist['Elev'].values())"
   ]
  },
  {
   "cell_type": "code",
   "execution_count": 0,
   "metadata": {
    "collapsed": false
   },
   "outputs": [],
   "source": [
    "plt.scatter(dist['Ann-ppt'].values(),dist['Lon'].values())"
   ]
  },
  {
   "cell_type": "code",
   "execution_count": 0,
   "metadata": {
    "collapsed": false
   },
   "outputs": [],
   "source": [
    "loc = {'Rifle_Peak': [39.286262, -119.9822649], \n",
    "'Mt_Rose_Ophir': [39.2893711, -119.907125],\n",
    "'Snow_Valley_Peak': [39.1588193, -119.8860493],\n",
    "'Freel_Peak': [38.8611931, -119.9091713],\n",
    "'Little_Round_Top': [38.7369475, -120.0545048],\n",
    "'Dicks_Pass': [38.9039739, -120.1336446],\n",
    "'Heavenly': [38.9368189, -119.9063352],\n",
    "'West_Shore_Peaks': [38.9737194, -120.1240533]   \n",
    "}"
   ]
  },
  {
   "cell_type": "code",
   "execution_count": 0,
   "metadata": {
    "collapsed": false
   },
   "outputs": [],
   "source": [
    "loc['Rifle_Peak'][0],loc['Rifle_Peak'][1]"
   ]
  },
  {
   "cell_type": "code",
   "execution_count": 0,
   "metadata": {
    "collapsed": false
   },
   "outputs": [],
   "source": [
    "type(loc['Rifle_Peak'][1])"
   ]
  },
  {
   "cell_type": "code",
   "execution_count": 0,
   "metadata": {
    "collapsed": false
   },
   "outputs": [],
   "source": [
    "max(dist['Ann-ppt'].values())"
   ]
  },
  {
   "cell_type": "code",
   "execution_count": 0,
   "metadata": {
    "collapsed": false
   },
   "outputs": [],
   "source": [
    "with PdfPages('/home/lindb/wbp/figures/ann-ppt_vs_lat-long.pdf') as pdf:\n",
    "    norm = mcolors.Normalize(min(dist['Ann-ppt'].values()), max(dist['Ann-ppt'].values()))\n",
    "    legend = {}\n",
    "    for pop in sorted(loc):\n",
    "        n = norm(dist['Ann-ppt'][pop])\n",
    "        color = cm.rainbow(n)\n",
    "        legend[pop] = color\n",
    "        plt.scatter(loc[pop][1],\n",
    "                    loc[pop][0],\n",
    "                    s=150,\n",
    "                    c=color\n",
    "                   )\n",
    "    fig = plt.gcf()\n",
    "    ax = plt.gca()\n",
    "    cmap = plt.get_cmap()\n",
    "    fig.set_size_inches(10,8)\n",
    "    handles=[]\n",
    "    for pop in sorted(legend):\n",
    "        handles.append(mpatches.Patch(color=legend[pop], label=(pop, dist['Ann-ppt'][pop])))\n",
    "    for pop in legend:\n",
    "        ax.annotate(pop,(loc[pop][1],loc[pop][0]))\n",
    "    plt.legend(handles=sorted(handles), loc=2,bbox_to_anchor=(1, 1))\n",
    "    plt.show()\n",
    "    \n",
    "    ax.set_xlabel('Longitude')\n",
    "    ax.set_ylabel('Latitude')\n",
    "    fig.set_size_inches(6,5)\n",
    "    pdf.savefig(fig,bbox_inches='tight')"
   ]
  },
  {
   "cell_type": "code",
   "execution_count": 0,
   "metadata": {
    "collapsed": true
   },
   "outputs": [],
   "source": [
    "fig = plt.gcf()\n",
    "ax = plt.gca()\n",
    "cmap = plt.get_cmap()\n",
    "fig.set_size_inches(10,8)\n",
    "plt.title(\"PCA of n=%d imputed samples for gemma on %d loci across 6 populations\" % (len(impPCs), len(imp_std.columns)))\n",
    "#0.05294  0.01079\n",
    "#0.02051  0.01083\n",
    "imp = summary(imp_res).rx(\"importance\")[0]\n",
    "plt.xlabel(\"PC1 (%g)\" % imp.rx(2,1)[0])\n",
    "plt.ylabel(\"PC2 (%g)\" % imp.rx(2,2)[0])\n",
    "handles = []\n",
    "for pop in sorted(legend):\n",
    "    handles.append(mpatches.Patch(color=legend[pop], label=pop))\n",
    "plt.legend(handles=sorted(handles), loc=2,bbox_to_anchor=(1, 1))\n",
    "\n",
    "plt.show()"
   ]
  },
  {
   "cell_type": "markdown",
   "metadata": {
    "collapsed": true
   },
   "source": [
    "# violin plot"
   ]
  },
  {
   "cell_type": "code",
   "execution_count": 0,
   "metadata": {
    "collapsed": true
   },
   "outputs": [],
   "source": [
    "hyp_files = defaultdict(list,\n",
    "            {'bfpopx': ['/home/lindb/wbp/gemma/infiles/bslmm/output/bfpopx_bslmm_1_out_50mil.hyp.txt',\n",
    "              '/home/lindb/wbp/gemma/infiles/bslmm/output/bfpopx_bslmm_3_out_50mil.hyp.txt',\n",
    "              '/home/lindb/wbp/gemma/infiles/bslmm/output/bfpopx_bslmm_2_out_50mil.hyp.txt',\n",
    "              '/home/lindb/wbp/gemma/infiles/bslmm/output/bfpopx_bslmm_4_out_50mil.hyp.txt'],\n",
    "             'c13popx': ['/home/lindb/wbp/gemma/infiles/bslmm/output/c13popx_bslmm_1_out_50mil.hyp.txt',\n",
    "              '/home/lindb/wbp/gemma/infiles/bslmm/output/c13popx_bslmm_3_out_50mil.hyp.txt',\n",
    "              '/home/lindb/wbp/gemma/infiles/bslmm/output/c13popx_bslmm_2_out_50mil.hyp.txt',\n",
    "              '/home/lindb/wbp/gemma/infiles/bslmm/output/c13popx_bslmm_4_out_50mil.hyp.txt'],\n",
    "             'htpopx': ['/home/lindb/wbp/gemma/infiles/bslmm/output/htpopx_bslmm_1_out_50mil.hyp.txt',\n",
    "              '/home/lindb/wbp/gemma/infiles/bslmm/output/htpopx_bslmm_3_out_50mil.hyp.txt',\n",
    "              '/home/lindb/wbp/gemma/infiles/bslmm/output/htpopx_bslmm_2_out_50mil.hyp.txt',\n",
    "              '/home/lindb/wbp/gemma/infiles/bslmm/output/htpopx_bslmm_4_out_50mil.hyp.txt'],\n",
    "             'n15popx': ['/home/lindb/wbp/gemma/infiles/bslmm/output/n15popx_bslmm_1_out_50mil.hyp.txt',\n",
    "              '/home/lindb/wbp/gemma/infiles/bslmm/output/n15popx_bslmm_3_out_50mil.hyp.txt',\n",
    "              '/home/lindb/wbp/gemma/infiles/bslmm/output/n15popx_bslmm_2_out_50mil.hyp.txt',\n",
    "              '/home/lindb/wbp/gemma/infiles/bslmm/output/n15popx_bslmm_4_out_50mil.hyp.txt'],\n",
    "             'rspopx': ['/home/lindb/wbp/gemma/infiles/bslmm/output/rspopx_bslmm_1_out_50mil.hyp.txt',\n",
    "              '/home/lindb/wbp/gemma/infiles/bslmm/output/rspopx_bslmm_3_out_50mil.hyp.txt',\n",
    "              '/home/lindb/wbp/gemma/infiles/bslmm/output/rspopx_bslmm_2_out_50mil.hyp.txt',\n",
    "              '/home/lindb/wbp/gemma/infiles/bslmm/output/rspopx_bslmm_4_out_50mil.hyp.txt']})"
   ]
  },
  {
   "cell_type": "code",
   "execution_count": 0,
   "metadata": {
    "collapsed": true
   },
   "outputs": [],
   "source": [
    "param_files = defaultdict(list,\n",
    "            {'bfpopx': ['/home/lindb/wbp/gemma/infiles/bslmm/output/bfpopx_bslmm_1_out_50mil.param.txt',\n",
    "              '/home/lindb/wbp/gemma/infiles/bslmm/output/bfpopx_bslmm_3_out_50mil.param.txt',\n",
    "              '/home/lindb/wbp/gemma/infiles/bslmm/output/bfpopx_bslmm_2_out_50mil.param.txt',\n",
    "              '/home/lindb/wbp/gemma/infiles/bslmm/output/bfpopx_bslmm_4_out_50mil.param.txt'],\n",
    "             'c13popx': ['/home/lindb/wbp/gemma/infiles/bslmm/output/c13popx_bslmm_1_out_50mil.param.txt',\n",
    "              '/home/lindb/wbp/gemma/infiles/bslmm/output/c13popx_bslmm_3_out_50mil.param.txt',\n",
    "              '/home/lindb/wbp/gemma/infiles/bslmm/output/c13popx_bslmm_2_out_50mil.param.txt',\n",
    "              '/home/lindb/wbp/gemma/infiles/bslmm/output/c13popx_bslmm_4_out_50mil.param.txt'],\n",
    "             'htpopx': ['/home/lindb/wbp/gemma/infiles/bslmm/output/htpopx_bslmm_1_out_50mil.param.txt',\n",
    "              '/home/lindb/wbp/gemma/infiles/bslmm/output/htpopx_bslmm_3_out_50mil.param.txt',\n",
    "              '/home/lindb/wbp/gemma/infiles/bslmm/output/htpopx_bslmm_2_out_50mil.param.txt',\n",
    "              '/home/lindb/wbp/gemma/infiles/bslmm/output/htpopx_bslmm_4_out_50mil.param.txt'],\n",
    "             'n15popx': ['/home/lindb/wbp/gemma/infiles/bslmm/output/n15popx_bslmm_1_out_50mil.param.txt',\n",
    "              '/home/lindb/wbp/gemma/infiles/bslmm/output/n15popx_bslmm_3_out_50mil.param.txt',\n",
    "              '/home/lindb/wbp/gemma/infiles/bslmm/output/n15popx_bslmm_2_out_50mil.param.txt',\n",
    "              '/home/lindb/wbp/gemma/infiles/bslmm/output/n15popx_bslmm_4_out_50mil.param.txt'],\n",
    "             'rspopx': ['/home/lindb/wbp/gemma/infiles/bslmm/output/rspopx_bslmm_1_out_50mil.param.txt',\n",
    "              '/home/lindb/wbp/gemma/infiles/bslmm/output/rspopx_bslmm_3_out_50mil.param.txt',\n",
    "              '/home/lindb/wbp/gemma/infiles/bslmm/output/rspopx_bslmm_2_out_50mil.param.txt',\n",
    "              '/home/lindb/wbp/gemma/infiles/bslmm/output/rspopx_bslmm_4_out_50mil.param.txt']})"
   ]
  },
  {
   "cell_type": "code",
   "execution_count": 0,
   "metadata": {
    "collapsed": true
   },
   "outputs": [],
   "source": [
    "def get_hyp_dfs(files):\n",
    "    dfs = {}\n",
    "    for pheno, filelist in files.items():\n",
    "        dfs[pheno] = pd.DataFrame()\n",
    "        df = None\n",
    "        fcount = 0\n",
    "        for f in sorted(filelist):\n",
    "            fdata = os.path.basename(f).split(\".\")[0].split(\"_\")\n",
    "            num = int(fdata[2])\n",
    "            \n",
    "            if fcount == 0:\n",
    "                df = pd.read_csv(f, sep=\"\\t\")\n",
    "                df.columns = ['%s_%s' % (col,num) for col in df.columns]\n",
    "            else:\n",
    "                newdf = pd.read_csv(f, sep=\"\\t\")\n",
    "                newdf.columns = [\"%s_%s\" % (col,num) for col in newdf.columns]\n",
    "                df = pd.merge(df,newdf,left_index=True,right_index=True)\n",
    "            fcount += 1\n",
    "        df = df.apply(pd.to_numeric, errors=\"ignore\")\n",
    "        dfs[pheno] = df\n",
    "    return dfs\n",
    "hyp_dfs = get_hyp_dfs(hyp_files)"
   ]
  },
  {
   "cell_type": "code",
   "execution_count": 0,
   "metadata": {
    "collapsed": false
   },
   "outputs": [],
   "source": [
    "hyp_dfs['bfpopx'].head()"
   ]
  },
  {
   "cell_type": "code",
   "execution_count": 0,
   "metadata": {
    "collapsed": false
   },
   "outputs": [],
   "source": [
    "def get_hmean_row(row):\n",
    "    try:\n",
    "        return sp.stats.hmean(row)\n",
    "    except ValueError as e:\n",
    "        return np.nan   \n",
    "\n",
    "def get_hmean(param):\n",
    "    d = {}\n",
    "    for pheno in hyp_dfs: #for use with ngamma_dfs\n",
    "    #for pheno in param_dfs:\n",
    "        df = hyp_dfs[pheno]\n",
    "        g = pd.DataFrame(df[[col for col in df.columns if param in col]])\n",
    "        #m = g.apply(get_hmean_row, axis=1)\n",
    "        m = g.apply(np.mean, axis=1)\n",
    "        g['%s_hmean' % param] = m\n",
    "        d[pheno] = g\n",
    "    return d\n",
    "\n",
    "ngamma_dfs = get_hmean('gamma')"
   ]
  },
  {
   "cell_type": "code",
   "execution_count": 0,
   "metadata": {
    "collapsed": true
   },
   "outputs": [],
   "source": [
    "pheno = 'rspopx'"
   ]
  },
  {
   "cell_type": "code",
   "execution_count": 0,
   "metadata": {
    "collapsed": false
   },
   "outputs": [],
   "source": [
    "rho_dfs = get_hmean('rho') \n",
    "rho_dfs['rspopx'].head()"
   ]
  },
  {
   "cell_type": "code",
   "execution_count": 0,
   "metadata": {
    "collapsed": false
   },
   "outputs": [],
   "source": [
    "pge_dfs = get_hmean('pge')\n",
    "pge_dfs[pheno].head()"
   ]
  },
  {
   "cell_type": "code",
   "execution_count": 0,
   "metadata": {
    "collapsed": false
   },
   "outputs": [],
   "source": [
    "pve_dfs = get_hmean('pve')\n",
    "pve_dfs['rspopx'].head()"
   ]
  },
  {
   "cell_type": "code",
   "execution_count": 0,
   "metadata": {
    "collapsed": false
   },
   "outputs": [],
   "source": [
    "ngamma_dfs['rspopx'].head()"
   ]
  },
  {
   "cell_type": "code",
   "execution_count": 0,
   "metadata": {
    "collapsed": false
   },
   "outputs": [],
   "source": [
    "for pheno in sorted(ngamma_dfs):\n",
    "    print pheno, np.mean(ngamma_dfs[pheno]['gamma_hmean'])"
   ]
  },
  {
   "cell_type": "code",
   "execution_count": 0,
   "metadata": {
    "collapsed": false
   },
   "outputs": [],
   "source": [
    "import seaborn as sns"
   ]
  },
  {
   "cell_type": "code",
   "execution_count": 0,
   "metadata": {
    "collapsed": false
   },
   "outputs": [],
   "source": [
    "sns.__version__"
   ]
  },
  {
   "cell_type": "code",
   "execution_count": 0,
   "metadata": {
    "collapsed": false
   },
   "outputs": [],
   "source": [
    "phenos = sorted(['n15popx', 'c13popx', 'htpopx', 'bfpopx', 'rspopx'])"
   ]
  },
  {
   "cell_type": "code",
   "execution_count": 0,
   "metadata": {
    "collapsed": false
   },
   "outputs": [],
   "source": [
    "phenos"
   ]
  },
  {
   "cell_type": "code",
   "execution_count": 0,
   "metadata": {
    "collapsed": false
   },
   "outputs": [],
   "source": [
    "combined_dfs={}\n",
    "for pheno in phenos:\n",
    "    filE = '/home/lindb/wbp/gemma/infiles/bslmm/output/%s_combined_df.txt' % pheno\n",
    "    combined_dfs[pheno] = pd.read_csv(filE,header=0,index_col=0,sep='\\t')\n",
    "combined_dfs[pheno].head()"
   ]
  },
  {
   "cell_type": "code",
   "execution_count": 0,
   "metadata": {
    "collapsed": false
   },
   "outputs": [],
   "source": [
    "ngamma_dfs['bfpopx'].head()"
   ]
  },
  {
   "cell_type": "code",
   "execution_count": 0,
   "metadata": {
    "collapsed": false
   },
   "outputs": [],
   "source": [
    "sns.set_style(\"white\")\n",
    "f, axes = plt.subplots(nrows=5, ncols=4, sharex=True)\n",
    "f.set_size_inches(10, 10)\n",
    "color=\"skyblue\"\n",
    "titlesize=24\n",
    "labelsize=18\n",
    "linewidth=1\n",
    "sns.violinplot(x=\"alpha_hmean\", data=pd.DataFrame(combined_dfs[\"bfpopx\"]['alpha_hmean']), orient=\"v\", ax=axes[0,0], color=color, linewidth=linewidth)\n",
    "sns.violinplot(x=\"beta_hmean\", data=pd.DataFrame(combined_dfs[\"bfpopx\"]['beta_hmean']), orient=\"v\", ax=axes[0,1], color=color, linewidth=linewidth)\n",
    "sns.violinplot(x=\"gamma_hmean\", data=pd.DataFrame(combined_dfs[\"bfpopx\"]['gamma_hmean']), orient=\"v\", ax=axes[0,2], color=color, linewidth=linewidth)\n",
    "sns.violinplot(x=\"model_averaged\", data=pd.DataFrame(combined_dfs[\"bfpopx\"]['model_averaged']), orient=\"v\", ax=axes[0,3], color=color, linewidth=linewidth)\n",
    "\n",
    "sns.violinplot(x=\"alpha_hmean\", data=pd.DataFrame(combined_dfs[\"c13popx\"]['alpha_hmean']), orient=\"v\", ax=axes[1,0], color=color, linewidth=linewidth)\n",
    "sns.violinplot(x=\"beta_hmean\", data=pd.DataFrame(combined_dfs[\"c13popx\"]['beta_hmean']), orient=\"v\", ax=axes[1,1], color=color, linewidth=linewidth)\n",
    "sns.violinplot(x=\"gamma_hmean\", data=pd.DataFrame(combined_dfs[\"c13popx\"]['gamma_hmean']), orient=\"v\", ax=axes[1,2], color=color, linewidth=linewidth)\n",
    "sns.violinplot(x=\"model_averaged\", data=pd.DataFrame(combined_dfs[\"c13popx\"]['model_averaged']), orient=\"v\", ax=axes[1,3], color=color, linewidth=linewidth)\n",
    "\n",
    "sns.violinplot(x=\"alpha_hmean\", data=pd.DataFrame(combined_dfs[\"htpopx\"]['alpha_hmean']), orient=\"v\", ax=axes[2,0], color=color, linewidth=linewidth)\n",
    "sns.violinplot(x=\"beta_hmean\", data=pd.DataFrame(combined_dfs[\"htpopx\"]['beta_hmean']), orient=\"v\", ax=axes[2,1], color=color, linewidth=linewidth)\n",
    "sns.violinplot(x=\"gamma_hmean\", data=pd.DataFrame(combined_dfs[\"htpopx\"]['gamma_hmean']), orient=\"v\", ax=axes[2,2], color=color, linewidth=linewidth)\n",
    "sns.violinplot(x=\"model_averaged\", data=pd.DataFrame(combined_dfs[\"htpopx\"]['model_averaged']), orient=\"v\", ax=axes[2,3], color=color, linewidth=linewidth)\n",
    "\n",
    "sns.violinplot(x=\"alpha_hmean\", data=pd.DataFrame(combined_dfs[\"n15popx\"]['alpha_hmean']), orient=\"v\", ax=axes[3,0], color=color, linewidth=linewidth)\n",
    "sns.violinplot(x=\"beta_hmean\", data=pd.DataFrame(combined_dfs[\"n15popx\"]['beta_hmean']), orient=\"v\", ax=axes[3,1], color=color, linewidth=linewidth)\n",
    "sns.violinplot(x=\"gamma_hmean\", data=pd.DataFrame(combined_dfs[\"n15popx\"]['gamma_hmean']), orient=\"v\", ax=axes[3,2], color=color, linewidth=linewidth)\n",
    "sns.violinplot(x=\"model_averaged\", data=pd.DataFrame(combined_dfs[\"n15popx\"]['model_averaged']), orient=\"v\", ax=axes[3,3], color=color, linewidth=linewidth)\n",
    "\n",
    "sns.violinplot(x=\"alpha_hmean\", data=pd.DataFrame(combined_dfs[\"rspopx\"]['alpha_hmean']), orient=\"v\", ax=axes[4,0], color=color, linewidth=linewidth)\n",
    "sns.violinplot(x=\"beta_hmean\", data=pd.DataFrame(combined_dfs[\"rspopx\"]['beta_hmean']), orient=\"v\", ax=axes[4,1], color=color, linewidth=linewidth)\n",
    "sns.violinplot(x=\"gamma_hmean\", data=pd.DataFrame(combined_dfs[\"rspopx\"]['gamma_hmean']), orient=\"v\", ax=axes[4,2], color=color, linewidth=linewidth)\n",
    "sns.violinplot(x=\"model_averaged\", data=pd.DataFrame(combined_dfs[\"rspopx\"]['model_averaged']), orient=\"v\", ax=axes[4,3], color=color, linewidth=linewidth)\n",
    "\n",
    "axes[0,0].set_title(r\"$\\alpha$\", fontsize=titlesize)\n",
    "axes[0,1].set_title(r\"$\\beta$\", fontsize=titlesize)\n",
    "axes[0,2].set_title(r\"$\\gamma$\", fontsize=titlesize)\n",
    "axes[0,3].set_title(r\"$\\hat{b}$\", fontsize=titlesize)\n",
    "\n",
    "\n",
    "axes[0,0].set_ylabel(\"bfpopx\", fontsize=labelsize)\n",
    "axes[0,1].set_ylabel(\"\")\n",
    "axes[0,2].set_ylabel(\"\")\n",
    "axes[0,3].set_ylabel(\"\")\n",
    "\n",
    "\n",
    "axes[1,0].set_ylabel(\"c13popx\", fontsize=labelsize)\n",
    "axes[1,1].set_ylabel(\"\")\n",
    "axes[1,2].set_ylabel(\"\")\n",
    "axes[1,3].set_ylabel(\"\")\n",
    "\n",
    "\n",
    "axes[2,0].set_ylabel(\"htpopx\", fontsize=labelsize)\n",
    "axes[2,1].set_ylabel(\"\")\n",
    "axes[2,2].set_ylabel(\"\")\n",
    "axes[2,3].set_ylabel(\"\")\n",
    "\n",
    "\n",
    "axes[3,0].set_ylabel(\"n15popx\", fontsize=labelsize)\n",
    "axes[3,1].set_ylabel(\"\")\n",
    "axes[3,2].set_ylabel(\"\")\n",
    "axes[3,3].set_ylabel(\"\")\n",
    "\n",
    "\n",
    "axes[4,0].set_ylabel(\"rspopx\", fontsize=labelsize)\n",
    "axes[4,1].set_ylabel(\"\")\n",
    "axes[4,2].set_ylabel(\"\")\n",
    "axes[4,3].set_ylabel(\"\")\n",
    "\n",
    "\n",
    "\n",
    "plt.tight_layout(pad=0.4, w_pad=0.5, h_pad=1.0)\n",
    "#plt.tight_layout()\n",
    "plt.savefig(\"/home/lindb/wbp/figures/gemma_violinplot_abgbnsnps.pdf\")\n",
    "plt.show()"
   ]
  },
  {
   "cell_type": "code",
   "execution_count": 0,
   "metadata": {
    "collapsed": false
   },
   "outputs": [],
   "source": [
    "sns.__version__"
   ]
  },
  {
   "cell_type": "code",
   "execution_count": 0,
   "metadata": {
    "collapsed": false
   },
   "outputs": [],
   "source": [
    "ngamma_dfs[pheno].head()"
   ]
  },
  {
   "cell_type": "code",
   "execution_count": 0,
   "metadata": {
    "collapsed": false
   },
   "outputs": [],
   "source": [
    "pve_dfs[pheno].head()"
   ]
  },
  {
   "cell_type": "code",
   "execution_count": 0,
   "metadata": {
    "collapsed": false
   },
   "outputs": [],
   "source": [
    "pge_dfs[pheno].head()"
   ]
  },
  {
   "cell_type": "code",
   "execution_count": 0,
   "metadata": {
    "collapsed": false
   },
   "outputs": [],
   "source": [
    "rho_dfs[pheno].head()"
   ]
  },
  {
   "cell_type": "code",
   "execution_count": 0,
   "metadata": {
    "collapsed": true
   },
   "outputs": [],
   "source": [
    "tips = sns.load_dataset(\"tips\")\n",
    "tips"
   ]
  },
  {
   "cell_type": "code",
   "execution_count": 0,
   "metadata": {
    "collapsed": false,
    "scrolled": false
   },
   "outputs": [],
   "source": [
    "sns.set_style(\"white\")\n",
    "f, axes = plt.subplots(nrows=5, ncols=4, sharex=True)\n",
    "f.set_size_inches(10, 10)\n",
    "color=\"skyblue\"\n",
    "titlesize=24\n",
    "labelsize=18\n",
    "linewidth=1\n",
    "sns.violinplot(x=\"pve_hmean\", data=pd.DataFrame(pve_dfs[\"bfpopx\"]['pve_hmean']), orient=\"v\", ax=axes[0,0], color=color, linewidth=linewidth)\n",
    "sns.violinplot(x=\"pge_hmean\", data=pd.DataFrame(pge_dfs[\"bfpopx\"]['pge_hmean']), orient=\"v\", ax=axes[0,1], color=color, linewidth=linewidth)\n",
    "sns.violinplot(x=\"rho_hmean\", data=pd.DataFrame(rho_dfs[\"bfpopx\"]['rho_hmean']), orient=\"v\", ax=axes[0,2], color=color, linewidth=linewidth)\n",
    "sns.violinplot(pd.DataFrame(ngamma_dfs['bfpopx']['gamma_hmean']), orient=\"v\", ax=axes[0,3], color=color, linewidth=linewidth)\n",
    "\n",
    "sns.violinplot(x=\"pve_hmean\", data=pd.DataFrame(pve_dfs[\"c13popx\"]['pve_hmean']), orient=\"v\", ax=axes[1,0], color=color, linewidth=linewidth)\n",
    "sns.violinplot(x=\"pge_hmean\", data=pd.DataFrame(pge_dfs[\"c13popx\"]['pge_hmean']), orient=\"v\", ax=axes[1,1], color=color, linewidth=linewidth)\n",
    "sns.violinplot(x=\"rho_hmean\", data=pd.DataFrame(rho_dfs[\"c13popx\"]['rho_hmean']), orient=\"v\", ax=axes[1,2], color=color, linewidth=linewidth)\n",
    "sns.violinplot(pd.DataFrame(ngamma_dfs['c13popx']['gamma_hmean']), orient=\"v\", ax=axes[1,3], color=color, linewidth=linewidth)\n",
    "\n",
    "sns.violinplot(x=\"pve_hmean\", data=pd.DataFrame(pve_dfs[\"htpopx\"]['pve_hmean']), orient=\"v\", ax=axes[2,0], color=color, linewidth=linewidth)\n",
    "sns.violinplot(x=\"pge_hmean\", data=pd.DataFrame(pge_dfs[\"htpopx\"]['pge_hmean']), orient=\"v\", ax=axes[2,1], color=color, linewidth=linewidth)\n",
    "sns.violinplot(x=\"rho_hmean\", data=pd.DataFrame(rho_dfs[\"htpopx\"]['rho_hmean']), orient=\"v\", ax=axes[2,2], color=color, linewidth=linewidth)\n",
    "sns.violinplot(pd.DataFrame(ngamma_dfs['htpopx']['gamma_hmean']), orient=\"v\", ax=axes[2,3], color=color, linewidth=linewidth)\n",
    "\n",
    "sns.violinplot(x=\"pve_hmean\", data=pd.DataFrame(pve_dfs[\"n15popx\"]['pve_hmean']), orient=\"v\", ax=axes[3,0], color=color, linewidth=linewidth)\n",
    "sns.violinplot(x=\"pge_hmean\", data=pd.DataFrame(pge_dfs[\"n15popx\"]['pge_hmean']), orient=\"v\", ax=axes[3,1], color=color, linewidth=linewidth)\n",
    "sns.violinplot(x=\"rho_hmean\", data=pd.DataFrame(rho_dfs[\"n15popx\"]['rho_hmean']), orient=\"v\", ax=axes[3,2], color=color, linewidth=linewidth)\n",
    "sns.violinplot(pd.DataFrame(ngamma_dfs['n15popx']['gamma_hmean']), orient=\"v\", ax=axes[3,3], color=color, linewidth=linewidth)\n",
    "\n",
    "sns.violinplot(x=\"pve_hmean\", data=pd.DataFrame(pve_dfs[\"rspopx\"]['pve_hmean']), orient=\"v\", ax=axes[4,0], color=color, linewidth=linewidth)\n",
    "sns.violinplot(x=\"pge_hmean\", data=pd.DataFrame(pge_dfs[\"rspopx\"]['pge_hmean']), orient=\"v\", ax=axes[4,1], color=color, linewidth=linewidth)\n",
    "sns.violinplot(x=\"rho_hmean\", data=pd.DataFrame(rho_dfs[\"rspopx\"]['rho_hmean']), orient=\"v\", ax=axes[4,2], color=color, linewidth=linewidth)\n",
    "sns.violinplot(pd.DataFrame(ngamma_dfs['rspopx']['gamma_hmean']), orient=\"v\", ax=axes[4,3], color=color, linewidth=linewidth)\n",
    "\n",
    "axes[0,0].set_title(r\"pve\", fontsize=titlesize)\n",
    "axes[0,1].set_title(r\"pge\", fontsize=titlesize)\n",
    "axes[0,2].set_title(r\"rho\", fontsize=titlesize)\n",
    "axes[0,3].set_title(r'$N_{SNP}$',fontsize=titlesize)\n",
    "\n",
    "\n",
    "\n",
    "axes[0,0].set_ylabel(\"bfpopx\", fontsize=labelsize)\n",
    "axes[0,1].set_ylabel(\"\")\n",
    "axes[0,2].set_ylabel(\"\")\n",
    "\n",
    "\n",
    "axes[1,0].set_ylabel(\"c13popx\", fontsize=labelsize)\n",
    "axes[1,1].set_ylabel(\"\")\n",
    "axes[1,2].set_ylabel(\"\")\n",
    "\n",
    "\n",
    "axes[2,0].set_ylabel(\"htpopx\", fontsize=labelsize)\n",
    "axes[2,1].set_ylabel(\"\")\n",
    "axes[2,2].set_ylabel(\"\")\n",
    "\n",
    "\n",
    "axes[3,0].set_ylabel(\"n15popx\", fontsize=labelsize)\n",
    "axes[3,1].set_ylabel(\"\")\n",
    "axes[3,2].set_ylabel(\"\")\n",
    "\n",
    "\n",
    "axes[4,0].set_ylabel(\"rspopx\", fontsize=labelsize)\n",
    "axes[4,1].set_ylabel(\"\")\n",
    "axes[4,2].set_ylabel(\"\")\n",
    "\n",
    "\n",
    "\n",
    "plt.tight_layout(pad=0.4, w_pad=0.5, h_pad=1.0)\n",
    "#plt.tight_layout()\n",
    "plt.savefig(\"/home/lindb/wbp/figures/gemma_violinplot_pge_pve_rho.pdf\")\n",
    "plt.show()"
   ]
  },
  {
   "cell_type": "code",
   "execution_count": 0,
   "metadata": {
    "collapsed": false
   },
   "outputs": [],
   "source": [
    "trans = {'bfpopx':r\"Bud flush\",\n",
    "         'c13popx':r'$\\delta^{13}C$',\n",
    "         'htpopx':r'Height',\n",
    "         'rspopx':r'Root:shoot',\n",
    "         'n15popx':r'$\\delta^{15}N$'}\n",
    "trans['bfpopx']"
   ]
  },
  {
   "cell_type": "code",
   "execution_count": 0,
   "metadata": {
    "collapsed": false
   },
   "outputs": [],
   "source": [
    "pves = pd.DataFrame()\n",
    "nsnps = pd.DataFrame()\n",
    "for pheno in pve_dfs:\n",
    "    pves[trans[pheno]] = pve_dfs[pheno]['pve_hmean']\n",
    "    nsnps[trans[pheno]]= ngamma_dfs[pheno]['gamma_hmean']\n",
    "pves.head()"
   ]
  },
  {
   "cell_type": "code",
   "execution_count": 0,
   "metadata": {
    "collapsed": false
   },
   "outputs": [],
   "source": [
    "nsnps.head()"
   ]
  },
  {
   "cell_type": "code",
   "execution_count": 0,
   "metadata": {
    "collapsed": false
   },
   "outputs": [],
   "source": [
    "type(nsnps)"
   ]
  },
  {
   "cell_type": "code",
   "execution_count": 0,
   "metadata": {
    "collapsed": false
   },
   "outputs": [],
   "source": [
    "labelsize"
   ]
  },
  {
   "cell_type": "code",
   "execution_count": 0,
   "metadata": {
    "collapsed": false
   },
   "outputs": [],
   "source": [
    "[x for x in pves]"
   ]
  },
  {
   "cell_type": "code",
   "execution_count": 0,
   "metadata": {
    "collapsed": false
   },
   "outputs": [],
   "source": [
    "labelsize=18"
   ]
  },
  {
   "cell_type": "code",
   "execution_count": 0,
   "metadata": {
    "collapsed": true
   },
   "outputs": [],
   "source": [
    "rc = {'axes.labelsize': 11.0,\n",
    " 'axes.titlesize': 12.0,\n",
    " 'figure.figsize': [8.0, 5.5],\n",
    " 'font.size': 12.0,\n",
    " 'grid.linewidth': 1.0,\n",
    " 'legend.fontsize': 10.0,\n",
    " 'lines.linewidth': 1.75,\n",
    " 'lines.markeredgewidth': 0.0,\n",
    " 'lines.markersize': 7.0,\n",
    " 'patch.linewidth': 0.3,\n",
    " 'xtick.labelsize': 18.0,\n",
    " 'xtick.major.pad': 7.0,\n",
    " 'xtick.major.width': 1.0,\n",
    " 'xtick.minor.width': 0.5,\n",
    " 'ytick.labelsize': 10.0,\n",
    " 'ytick.major.pad': 7.0,\n",
    " 'ytick.major.width': 1.0,\n",
    " 'ytick.minor.width': 0.5}"
   ]
  },
  {
   "cell_type": "code",
   "execution_count": 0,
   "metadata": {
    "collapsed": true
   },
   "outputs": [],
   "source": [
    "sns.set(rc=rc)"
   ]
  },
  {
   "cell_type": "code",
   "execution_count": 0,
   "metadata": {
    "collapsed": false
   },
   "outputs": [],
   "source": [
    "nsnps.columns"
   ]
  },
  {
   "cell_type": "code",
   "execution_count": 0,
   "metadata": {
    "collapsed": false
   },
   "outputs": [],
   "source": [
    "cols = ['Bud flush',u'$\\delta^{13}C$','Height',u'$\\delta^{15}N$','Root:shoot']\n",
    "nsnps = nsnps[[col for col in cols]]\n",
    "pves = pves[[col for col in cols]]\n",
    "nsnps.head()"
   ]
  },
  {
   "cell_type": "code",
   "execution_count": 0,
   "metadata": {
    "collapsed": false
   },
   "outputs": [],
   "source": [
    "sns.set_style(\"white\")\n",
    "g= sns.violinplot(data=pves,color=\"skyblue\",ylim=[0,1],fontsize=29)\n",
    "g.set_ylabel('PVE',fontsize = labelsize)\n",
    "g.spines[\"top\"].set_visible(False)\n",
    "g.spines[\"right\"].set_visible(False)\n",
    "g.set_title(\"A\",y=0.9,loc='right',fontsize=20,fontweight='bold')\n",
    "plt.savefig('/home/lindb/wbp/figures/gemma_violinplot_PVE.pdf')"
   ]
  },
  {
   "cell_type": "code",
   "execution_count": 0,
   "metadata": {
    "collapsed": false
   },
   "outputs": [],
   "source": [
    "g= sns.violinplot(data=nsnps,color=\"skyblue\",ylim=[0,1],fontsize=29)\n",
    "g.set_ylabel(r'$N_{SNP}$',fontsize = labelsize)\n",
    "g.spines[\"top\"].set_visible(False)\n",
    "g.spines[\"right\"].set_visible(False)\n",
    "g.set_title(\"B\",y=0.9,loc='right',fontsize=20,fontweight='bold')\n",
    "plt.savefig(\"/home/lindb/wbp/figures/gemma_violinplot_nsnps.pdf\")"
   ]
  },
  {
   "cell_type": "code",
   "execution_count": 0,
   "metadata": {
    "collapsed": true
   },
   "outputs": [],
   "source": []
  },
  {
   "cell_type": "code",
   "execution_count": 0,
   "metadata": {
    "collapsed": false
   },
   "outputs": [],
   "source": [
    "g= sns.violinplot(data=nsnps,color=\"skyblue\",ylim=[0,1],fontsize=29)\n",
    "g.set_ylabel(r'$N_{SNP}$',fontsize = labelsize)\n",
    "g.spines[\"top\"].set_visible(False)\n",
    "g.spines[\"right\"].set_visible(False)\n",
    "g.set_title(\"B\",y=0.9,loc='right',fontsize=20,fontweight='bold')\n",
    "plt.savefig(\"/home/lindb/wbp/figures/gemma_violinplot_nsnps.pdf\")"
   ]
  },
  {
   "cell_type": "code",
   "execution_count": 0,
   "metadata": {
    "collapsed": false
   },
   "outputs": [],
   "source": [
    "g= sns.violinplot(data=nsnps,color=\"skyblue\",ylim=[0,1],fontsize=29)\n",
    "g.set_ylabel(r'$N_{SNP}$',fontsize = labelsize)\n",
    "g.spines[\"top\"].set_visible(False)\n",
    "g.spines[\"right\"].set_visible(False)\n",
    "g.set_title(\"B\",y=0.9,loc='right',fontsize=20,fontweight='bold')\n",
    "plt.savefig(\"/home/lindb/wbp/figures/gemma_violinplot_nsnps.pdf\")"
   ]
  },
  {
   "cell_type": "code",
   "execution_count": 0,
   "metadata": {
    "collapsed": true
   },
   "outputs": [],
   "source": []
  },
  {
   "cell_type": "code",
   "execution_count": 0,
   "metadata": {
    "collapsed": true
   },
   "outputs": [],
   "source": []
  },
  {
   "cell_type": "code",
   "execution_count": 0,
   "metadata": {
    "collapsed": true
   },
   "outputs": [],
   "source": []
  },
  {
   "cell_type": "code",
   "execution_count": 0,
   "metadata": {
    "collapsed": true
   },
   "outputs": [],
   "source": []
  },
  {
   "cell_type": "code",
   "execution_count": 0,
   "metadata": {
    "collapsed": true
   },
   "outputs": [],
   "source": []
  }
 ],
 "metadata": {
  "kernelspec": {
   "display_name": "Python 2",
   "language": "python",
   "name": "python2"
  },
  "language_info": {
   "codemirror_mode": {
    "name": "ipython",
    "version": 2
   },
   "file_extension": ".py",
   "mimetype": "text/x-python",
   "name": "python",
   "nbconvert_exporter": "python",
   "pygments_lexer": "ipython2",
   "version": "2.7.11"
  }
 },
 "nbformat": 4,
 "nbformat_minor": 0
}
